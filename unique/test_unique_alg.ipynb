{
 "cells": [
  {
   "cell_type": "code",
   "execution_count": 1,
   "metadata": {},
   "outputs": [
    {
     "name": "stdout",
     "output_type": "stream",
     "text": [
      "Total number of objects: 1656\n",
      "Number of unique objects from id: 1042\n",
      "Total number of objects: 1656\n",
      "Number of unique objects from alg: 1298\n"
     ]
    }
   ],
   "source": [
    "import os\n",
    "import unique\n",
    "import unique_objects\n",
    "import numpy as np\n",
    "\n",
    "filelist = [\"stat_Master_03_geo_s3.det\", \"stat_Master_04_geo_s3.det\", \"stat_Master_05_geo_s3.det\", \"stat_Master_06_geo_s3.det\"]\n",
    "\n",
    "for i, file in enumerate(filelist): \n",
    "    file = os.path.join(\"input\", file)\n",
    "    filelist[i] = file\n",
    "    \n",
    "    \n",
    "objects_from_id = unique.count_unique_objects_from_id(\"input\\stat_Master_04_geo_s3.det\")\n",
    "print(f\"Number of unique objects from id: {objects_from_id}\")\n",
    "tolerances = {\n",
    "    \"IDENTIF.\": np.Inf,\n",
    "    \"DIAM.FACTOR\": 0,\n",
    "    \"SOURCE\": 0,\n",
    "    \"TCA\": 1000,\n",
    "    \"TCA RNG.\": 1000,\n",
    "    \"TCA ALT\": 1000,\n",
    "    \"TCA RRT.\": 1000,\n",
    "    \"SEM.MAJ.\": 10,\n",
    "    \"INC.\": 0.001,\n",
    "    \"ECC.\": 0.001,\n",
    "    \"ARG.PER.\": 0.001,\n",
    "    \"RAAN\": 0.001,\n",
    "    \"TRU.LAT.\": 0.001,\n",
    "    \"FOV.DWL.\": 360,\n",
    "    \"ANG.VEL.\": 100,\n",
    "    \"PATHOFFS\": 100,\n",
    "    \"ALBEDO\": 100,\n",
    "    \"PHS.ANG.\": 0.1,\n",
    "    \"ILLUMIN.\": 100,\n",
    "    \"MAG.OBJ.\": 100,\n",
    "    \"MAG.BKG.\": 0.5,\n",
    "    \"MAX. SNR\": 0.5,\n",
    "    \"RA. LOS\": np.Inf,\n",
    "    \"Dec. LOS\": np.Inf\n",
    "}\n",
    "tolerances = [i for i in tolerances.values()]\n",
    "uniques, number = unique_objects.process_space_objects(\"input\\stat_Master_04_geo_s3.det\", tolerances = tolerances)\n",
    "print(f\"Number of unique objects from alg: {number}\")"
   ]
  }
 ],
 "metadata": {
  "kernelspec": {
   "display_name": "Python 3",
   "language": "python",
   "name": "python3"
  },
  "language_info": {
   "codemirror_mode": {
    "name": "ipython",
    "version": 3
   },
   "file_extension": ".py",
   "mimetype": "text/x-python",
   "name": "python",
   "nbconvert_exporter": "python",
   "pygments_lexer": "ipython3",
   "version": "3.8.5"
  }
 },
 "nbformat": 4,
 "nbformat_minor": 2
}
