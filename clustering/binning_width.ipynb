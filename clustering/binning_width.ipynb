{
 "cells": [
  {
   "cell_type": "markdown",
   "metadata": {},
   "source": [
    "## Different binning widths k-means"
   ]
  },
  {
   "cell_type": "code",
   "execution_count": null,
   "metadata": {},
   "outputs": [
    {
     "name": "stdout",
     "output_type": "stream",
     "text": [
      "\n",
      "Running K-Means for Year Range: 2002-2004\n"
     ]
    },
    {
     "name": "stderr",
     "output_type": "stream",
     "text": [
      "Running K-means (k=4):   0%|          | 0/3 [00:00<?, ?step/s]"
     ]
    },
    {
     "name": "stdout",
     "output_type": "stream",
     "text": [
      "Runtime for k_means: 0.038734 seconds\n"
     ]
    },
    {
     "name": "stderr",
     "output_type": "stream",
     "text": [
      "Running K-means (k=4):   0%|          | 0/3 [00:03<?, ?step/s]\n",
      "Running K-means (k=5):   0%|          | 0/3 [00:00<?, ?step/s]"
     ]
    },
    {
     "name": "stdout",
     "output_type": "stream",
     "text": [
      "Runtime for k_means: 0.027232 seconds\n"
     ]
    },
    {
     "name": "stderr",
     "output_type": "stream",
     "text": [
      "Running K-means (k=5):   0%|          | 0/3 [00:03<?, ?step/s]\n",
      "Running K-means (k=6):   0%|          | 0/3 [00:00<?, ?step/s]"
     ]
    },
    {
     "name": "stdout",
     "output_type": "stream",
     "text": [
      "Runtime for k_means: 0.071772 seconds\n"
     ]
    },
    {
     "name": "stderr",
     "output_type": "stream",
     "text": [
      "Running K-means (k=6):   0%|          | 0/3 [00:03<?, ?step/s]\n",
      "Running K-means (k=7):   0%|          | 0/3 [00:00<?, ?step/s]"
     ]
    },
    {
     "name": "stdout",
     "output_type": "stream",
     "text": [
      "Runtime for k_means: 0.048683 seconds\n"
     ]
    },
    {
     "name": "stderr",
     "output_type": "stream",
     "text": [
      "Running K-means (k=7):   0%|          | 0/3 [00:03<?, ?step/s]\n"
     ]
    },
    {
     "name": "stdout",
     "output_type": "stream",
     "text": [
      "\n",
      "Running K-Means for Year Range: 2003-2005\n"
     ]
    },
    {
     "name": "stderr",
     "output_type": "stream",
     "text": [
      "Running K-means (k=4):   0%|          | 0/3 [00:00<?, ?step/s]"
     ]
    },
    {
     "name": "stdout",
     "output_type": "stream",
     "text": [
      "Runtime for k_means: 0.074792 seconds\n"
     ]
    },
    {
     "name": "stderr",
     "output_type": "stream",
     "text": [
      "Running K-means (k=4):   0%|          | 0/3 [00:04<?, ?step/s]\n",
      "Running K-means (k=5):   0%|          | 0/3 [00:00<?, ?step/s]"
     ]
    },
    {
     "name": "stdout",
     "output_type": "stream",
     "text": [
      "Runtime for k_means: 0.044996 seconds\n"
     ]
    },
    {
     "name": "stderr",
     "output_type": "stream",
     "text": [
      "Running K-means (k=5):   0%|          | 0/3 [00:04<?, ?step/s]\n",
      "Running K-means (k=6):   0%|          | 0/3 [00:00<?, ?step/s]"
     ]
    },
    {
     "name": "stdout",
     "output_type": "stream",
     "text": [
      "Runtime for k_means: 0.194394 seconds\n"
     ]
    },
    {
     "name": "stderr",
     "output_type": "stream",
     "text": [
      "Running K-means (k=6):   0%|          | 0/3 [00:06<?, ?step/s]\n",
      "Running K-means (k=7):   0%|          | 0/3 [00:00<?, ?step/s]"
     ]
    },
    {
     "name": "stdout",
     "output_type": "stream",
     "text": [
      "Runtime for k_means: 0.116820 seconds\n"
     ]
    },
    {
     "name": "stderr",
     "output_type": "stream",
     "text": [
      "Running K-means (k=7):   0%|          | 0/3 [00:04<?, ?step/s]\n"
     ]
    },
    {
     "name": "stdout",
     "output_type": "stream",
     "text": [
      "\n",
      "Running K-Means for Year Range: 2004-2006\n"
     ]
    },
    {
     "name": "stderr",
     "output_type": "stream",
     "text": [
      "Running K-means (k=4):   0%|          | 0/3 [00:00<?, ?step/s]"
     ]
    },
    {
     "name": "stdout",
     "output_type": "stream",
     "text": [
      "Runtime for k_means: 0.060662 seconds\n"
     ]
    },
    {
     "name": "stderr",
     "output_type": "stream",
     "text": [
      "Running K-means (k=4):   0%|          | 0/3 [00:06<?, ?step/s]\n",
      "Running K-means (k=5):   0%|          | 0/3 [00:00<?, ?step/s]"
     ]
    },
    {
     "name": "stdout",
     "output_type": "stream",
     "text": [
      "Runtime for k_means: 0.100582 seconds\n"
     ]
    },
    {
     "name": "stderr",
     "output_type": "stream",
     "text": [
      "Running K-means (k=5):   0%|          | 0/3 [00:07<?, ?step/s]\n",
      "Running K-means (k=6):   0%|          | 0/3 [00:00<?, ?step/s]"
     ]
    },
    {
     "name": "stdout",
     "output_type": "stream",
     "text": [
      "Runtime for k_means: 0.044528 seconds\n"
     ]
    },
    {
     "name": "stderr",
     "output_type": "stream",
     "text": [
      "Running K-means (k=6):   0%|          | 0/3 [00:04<?, ?step/s]\n",
      "Running K-means (k=7):   0%|          | 0/3 [00:00<?, ?step/s]"
     ]
    },
    {
     "name": "stdout",
     "output_type": "stream",
     "text": [
      "Runtime for k_means: 0.065220 seconds\n"
     ]
    },
    {
     "name": "stderr",
     "output_type": "stream",
     "text": [
      "Running K-means (k=7):   0%|          | 0/3 [00:04<?, ?step/s]\n"
     ]
    },
    {
     "name": "stdout",
     "output_type": "stream",
     "text": [
      "\n",
      "Running K-Means for Year Range: 2005-2007\n"
     ]
    },
    {
     "name": "stderr",
     "output_type": "stream",
     "text": [
      "Running K-means (k=4):   0%|          | 0/3 [00:00<?, ?step/s]"
     ]
    },
    {
     "name": "stdout",
     "output_type": "stream",
     "text": [
      "Runtime for k_means: 0.061473 seconds\n"
     ]
    },
    {
     "name": "stderr",
     "output_type": "stream",
     "text": [
      "Running K-means (k=4):   0%|          | 0/3 [00:05<?, ?step/s]\n",
      "Running K-means (k=5):   0%|          | 0/3 [00:00<?, ?step/s]"
     ]
    },
    {
     "name": "stdout",
     "output_type": "stream",
     "text": [
      "Runtime for k_means: 0.056392 seconds\n"
     ]
    },
    {
     "name": "stderr",
     "output_type": "stream",
     "text": [
      "Running K-means (k=5):   0%|          | 0/3 [00:05<?, ?step/s]\n",
      "Running K-means (k=6):   0%|          | 0/3 [00:00<?, ?step/s]"
     ]
    },
    {
     "name": "stdout",
     "output_type": "stream",
     "text": [
      "Runtime for k_means: 0.094018 seconds\n"
     ]
    },
    {
     "name": "stderr",
     "output_type": "stream",
     "text": [
      "Running K-means (k=6):   0%|          | 0/3 [00:05<?, ?step/s]\n",
      "Running K-means (k=7):   0%|          | 0/3 [00:00<?, ?step/s]"
     ]
    },
    {
     "name": "stdout",
     "output_type": "stream",
     "text": [
      "Runtime for k_means: 0.095662 seconds\n"
     ]
    },
    {
     "name": "stderr",
     "output_type": "stream",
     "text": [
      "Running K-means (k=7):   0%|          | 0/3 [00:05<?, ?step/s]\n"
     ]
    },
    {
     "name": "stdout",
     "output_type": "stream",
     "text": [
      "\n",
      "Running K-Means for Year Range: 2006-2008\n"
     ]
    },
    {
     "name": "stderr",
     "output_type": "stream",
     "text": [
      "Running K-means (k=4):   0%|          | 0/3 [00:00<?, ?step/s]"
     ]
    },
    {
     "name": "stdout",
     "output_type": "stream",
     "text": [
      "Runtime for k_means: 0.029390 seconds\n"
     ]
    },
    {
     "name": "stderr",
     "output_type": "stream",
     "text": [
      "Running K-means (k=4):   0%|          | 0/3 [00:03<?, ?step/s]\n",
      "Running K-means (k=5):   0%|          | 0/3 [00:00<?, ?step/s]"
     ]
    },
    {
     "name": "stdout",
     "output_type": "stream",
     "text": [
      "Runtime for k_means: 0.106404 seconds\n"
     ]
    },
    {
     "name": "stderr",
     "output_type": "stream",
     "text": [
      "Running K-means (k=5):   0%|          | 0/3 [00:06<?, ?step/s]\n",
      "Running K-means (k=6):   0%|          | 0/3 [00:00<?, ?step/s]"
     ]
    },
    {
     "name": "stdout",
     "output_type": "stream",
     "text": [
      "Runtime for k_means: 0.069289 seconds\n"
     ]
    },
    {
     "name": "stderr",
     "output_type": "stream",
     "text": [
      "Running K-means (k=6):   0%|          | 0/3 [00:06<?, ?step/s]\n",
      "Running K-means (k=7):   0%|          | 0/3 [00:00<?, ?step/s]"
     ]
    },
    {
     "name": "stdout",
     "output_type": "stream",
     "text": [
      "Runtime for k_means: 0.215534 seconds\n"
     ]
    },
    {
     "name": "stderr",
     "output_type": "stream",
     "text": [
      "Running K-means (k=7):   0%|          | 0/3 [00:06<?, ?step/s]\n"
     ]
    },
    {
     "name": "stdout",
     "output_type": "stream",
     "text": [
      "\n",
      "Running K-Means for Year Range: 2007-2009\n"
     ]
    },
    {
     "name": "stderr",
     "output_type": "stream",
     "text": [
      "Running K-means (k=4):   0%|          | 0/3 [00:00<?, ?step/s]"
     ]
    },
    {
     "name": "stdout",
     "output_type": "stream",
     "text": [
      "Runtime for k_means: 0.050082 seconds\n"
     ]
    },
    {
     "name": "stderr",
     "output_type": "stream",
     "text": [
      "Running K-means (k=4):   0%|          | 0/3 [00:06<?, ?step/s]\n",
      "Running K-means (k=5):   0%|          | 0/3 [00:00<?, ?step/s]"
     ]
    },
    {
     "name": "stdout",
     "output_type": "stream",
     "text": [
      "Runtime for k_means: 0.044885 seconds\n"
     ]
    },
    {
     "name": "stderr",
     "output_type": "stream",
     "text": [
      "Running K-means (k=5):   0%|          | 0/3 [00:03<?, ?step/s]\n",
      "Running K-means (k=6):   0%|          | 0/3 [00:00<?, ?step/s]"
     ]
    },
    {
     "name": "stdout",
     "output_type": "stream",
     "text": [
      "Runtime for k_means: 0.022486 seconds\n"
     ]
    },
    {
     "name": "stderr",
     "output_type": "stream",
     "text": [
      "Running K-means (k=6):   0%|          | 0/3 [00:03<?, ?step/s]\n",
      "Running K-means (k=7):   0%|          | 0/3 [00:00<?, ?step/s]"
     ]
    },
    {
     "name": "stdout",
     "output_type": "stream",
     "text": [
      "Runtime for k_means: 0.232571 seconds\n"
     ]
    },
    {
     "name": "stderr",
     "output_type": "stream",
     "text": [
      "Running K-means (k=7):   0%|          | 0/3 [00:03<?, ?step/s]\n"
     ]
    },
    {
     "name": "stdout",
     "output_type": "stream",
     "text": [
      "\n",
      "Running K-Means for Year Range: 2008-2010\n"
     ]
    },
    {
     "name": "stderr",
     "output_type": "stream",
     "text": [
      "Running K-means (k=4):   0%|          | 0/3 [00:00<?, ?step/s]"
     ]
    },
    {
     "name": "stdout",
     "output_type": "stream",
     "text": [
      "Runtime for k_means: 0.035564 seconds\n"
     ]
    },
    {
     "name": "stderr",
     "output_type": "stream",
     "text": [
      "Running K-means (k=4):   0%|          | 0/3 [00:02<?, ?step/s]\n",
      "Running K-means (k=5):   0%|          | 0/3 [00:00<?, ?step/s]"
     ]
    },
    {
     "name": "stdout",
     "output_type": "stream",
     "text": [
      "Runtime for k_means: 0.015263 seconds\n"
     ]
    },
    {
     "name": "stderr",
     "output_type": "stream",
     "text": [
      "Running K-means (k=5):   0%|          | 0/3 [00:02<?, ?step/s]\n",
      "Running K-means (k=6):   0%|          | 0/3 [00:00<?, ?step/s]"
     ]
    },
    {
     "name": "stdout",
     "output_type": "stream",
     "text": [
      "Runtime for k_means: 0.047738 seconds\n"
     ]
    },
    {
     "name": "stderr",
     "output_type": "stream",
     "text": [
      "Running K-means (k=6):   0%|          | 0/3 [00:02<?, ?step/s]\n",
      "Running K-means (k=7):   0%|          | 0/3 [00:00<?, ?step/s]"
     ]
    },
    {
     "name": "stdout",
     "output_type": "stream",
     "text": [
      "Runtime for k_means: 0.039600 seconds\n"
     ]
    },
    {
     "name": "stderr",
     "output_type": "stream",
     "text": [
      "Running K-means (k=7):   0%|          | 0/3 [00:02<?, ?step/s]\n"
     ]
    },
    {
     "name": "stdout",
     "output_type": "stream",
     "text": [
      "\n",
      "Running K-Means for Year Range: 2009-2011\n"
     ]
    },
    {
     "name": "stderr",
     "output_type": "stream",
     "text": [
      "Running K-means (k=4):   0%|          | 0/3 [00:00<?, ?step/s]"
     ]
    },
    {
     "name": "stdout",
     "output_type": "stream",
     "text": [
      "Runtime for k_means: 0.011746 seconds\n"
     ]
    },
    {
     "name": "stderr",
     "output_type": "stream",
     "text": [
      "Running K-means (k=4):   0%|          | 0/3 [00:02<?, ?step/s]\n",
      "Running K-means (k=5):   0%|          | 0/3 [00:00<?, ?step/s]"
     ]
    },
    {
     "name": "stdout",
     "output_type": "stream",
     "text": [
      "Runtime for k_means: 0.015902 seconds\n"
     ]
    },
    {
     "name": "stderr",
     "output_type": "stream",
     "text": [
      "Running K-means (k=5):   0%|          | 0/3 [00:02<?, ?step/s]\n",
      "Running K-means (k=6):   0%|          | 0/3 [00:00<?, ?step/s]"
     ]
    },
    {
     "name": "stdout",
     "output_type": "stream",
     "text": [
      "Runtime for k_means: 0.044959 seconds\n"
     ]
    },
    {
     "name": "stderr",
     "output_type": "stream",
     "text": [
      "Running K-means (k=6):   0%|          | 0/3 [00:02<?, ?step/s]\n",
      "Running K-means (k=7):   0%|          | 0/3 [00:00<?, ?step/s]"
     ]
    },
    {
     "name": "stdout",
     "output_type": "stream",
     "text": [
      "Runtime for k_means: 0.066466 seconds\n"
     ]
    },
    {
     "name": "stderr",
     "output_type": "stream",
     "text": [
      "Running K-means (k=7):   0%|          | 0/3 [00:03<?, ?step/s]\n"
     ]
    },
    {
     "name": "stdout",
     "output_type": "stream",
     "text": [
      "\n",
      "Running K-Means for Year Range: 2010-2012\n"
     ]
    },
    {
     "name": "stderr",
     "output_type": "stream",
     "text": [
      "Running K-means (k=4):   0%|          | 0/3 [00:00<?, ?step/s]"
     ]
    },
    {
     "name": "stdout",
     "output_type": "stream",
     "text": [
      "Runtime for k_means: 0.007181 seconds\n"
     ]
    },
    {
     "name": "stderr",
     "output_type": "stream",
     "text": [
      "Running K-means (k=4):   0%|          | 0/3 [00:01<?, ?step/s]\n",
      "Running K-means (k=5):   0%|          | 0/3 [00:00<?, ?step/s]"
     ]
    },
    {
     "name": "stdout",
     "output_type": "stream",
     "text": [
      "Runtime for k_means: 0.064797 seconds\n"
     ]
    },
    {
     "name": "stderr",
     "output_type": "stream",
     "text": [
      "Running K-means (k=5):   0%|          | 0/3 [00:01<?, ?step/s]\n",
      "Running K-means (k=6):   0%|          | 0/3 [00:00<?, ?step/s]"
     ]
    },
    {
     "name": "stdout",
     "output_type": "stream",
     "text": [
      "Runtime for k_means: 0.036014 seconds\n"
     ]
    },
    {
     "name": "stderr",
     "output_type": "stream",
     "text": [
      "Running K-means (k=6):   0%|          | 0/3 [00:01<?, ?step/s]\n",
      "Running K-means (k=7):   0%|          | 0/3 [00:00<?, ?step/s]"
     ]
    },
    {
     "name": "stdout",
     "output_type": "stream",
     "text": [
      "Runtime for k_means: 0.046709 seconds\n"
     ]
    },
    {
     "name": "stderr",
     "output_type": "stream",
     "text": [
      "Running K-means (k=7):   0%|          | 0/3 [00:01<?, ?step/s]\n"
     ]
    },
    {
     "name": "stdout",
     "output_type": "stream",
     "text": [
      "\n",
      "Running K-Means for Year Range: 2011-2013\n"
     ]
    },
    {
     "name": "stderr",
     "output_type": "stream",
     "text": [
      "Running K-means (k=4):   0%|          | 0/3 [00:00<?, ?step/s]"
     ]
    },
    {
     "name": "stdout",
     "output_type": "stream",
     "text": [
      "Runtime for k_means: 0.016572 seconds\n"
     ]
    },
    {
     "name": "stderr",
     "output_type": "stream",
     "text": [
      "\n",
      "Running K-means (k=5):   0%|          | 0/3 [00:00<?, ?step/s]"
     ]
    },
    {
     "name": "stdout",
     "output_type": "stream",
     "text": [
      "Runtime for k_means: 0.090806 seconds\n"
     ]
    },
    {
     "name": "stderr",
     "output_type": "stream",
     "text": [
      "Running K-means (k=5):   0%|          | 0/3 [00:00<?, ?step/s]\n",
      "Running K-means (k=6):   0%|          | 0/3 [00:00<?, ?step/s]"
     ]
    },
    {
     "name": "stdout",
     "output_type": "stream",
     "text": [
      "Runtime for k_means: 0.072540 seconds\n"
     ]
    },
    {
     "name": "stderr",
     "output_type": "stream",
     "text": [
      "Running K-means (k=6):   0%|          | 0/3 [00:00<?, ?step/s]\n",
      "Running K-means (k=7):   0%|          | 0/3 [00:00<?, ?step/s]"
     ]
    },
    {
     "name": "stdout",
     "output_type": "stream",
     "text": [
      "Runtime for k_means: 0.033270 seconds\n"
     ]
    },
    {
     "name": "stderr",
     "output_type": "stream",
     "text": [
      "Running K-means (k=7):   0%|          | 0/3 [00:00<?, ?step/s]\n"
     ]
    },
    {
     "name": "stdout",
     "output_type": "stream",
     "text": [
      "\n",
      "Running K-Means for Year Range: 2012-2014\n"
     ]
    },
    {
     "name": "stderr",
     "output_type": "stream",
     "text": [
      "Running K-means (k=4):   0%|          | 0/3 [00:00<?, ?step/s]\n"
     ]
    },
    {
     "name": "stdout",
     "output_type": "stream",
     "text": [
      "Runtime for k_means: 0.008757 seconds\n"
     ]
    },
    {
     "name": "stderr",
     "output_type": "stream",
     "text": [
      "Running K-means (k=5):   0%|          | 0/3 [00:00<?, ?step/s]\n"
     ]
    },
    {
     "name": "stdout",
     "output_type": "stream",
     "text": [
      "Runtime for k_means: 0.015162 seconds\n"
     ]
    },
    {
     "name": "stderr",
     "output_type": "stream",
     "text": [
      "Running K-means (k=6):   0%|          | 0/3 [00:00<?, ?step/s]"
     ]
    },
    {
     "name": "stdout",
     "output_type": "stream",
     "text": [
      "Runtime for k_means: 0.003742 seconds\n"
     ]
    },
    {
     "name": "stderr",
     "output_type": "stream",
     "text": [
      "Running K-means (k=6):   0%|          | 0/3 [00:00<?, ?step/s]\n",
      "Running K-means (k=7):   0%|          | 0/3 [00:00<?, ?step/s]"
     ]
    },
    {
     "name": "stdout",
     "output_type": "stream",
     "text": [
      "Runtime for k_means: 0.019304 seconds\n",
      "\n",
      "Running K-Means for Year Range: 2013-2015\n"
     ]
    },
    {
     "name": "stderr",
     "output_type": "stream",
     "text": [
      "\n",
      "Running K-means (k=4):   0%|          | 0/3 [00:00<?, ?step/s]"
     ]
    },
    {
     "name": "stdout",
     "output_type": "stream",
     "text": [
      "Runtime for k_means: 0.003304 seconds\n"
     ]
    },
    {
     "name": "stderr",
     "output_type": "stream",
     "text": [
      "Running K-means (k=4):   0%|          | 0/3 [00:00<?, ?step/s]\n",
      "Running K-means (k=5):   0%|          | 0/3 [00:00<?, ?step/s]\n"
     ]
    },
    {
     "name": "stdout",
     "output_type": "stream",
     "text": [
      "Runtime for k_means: 0.049645 seconds\n"
     ]
    },
    {
     "name": "stderr",
     "output_type": "stream",
     "text": [
      "Running K-means (k=6):   0%|          | 0/3 [00:00<?, ?step/s]"
     ]
    },
    {
     "name": "stdout",
     "output_type": "stream",
     "text": [
      "Runtime for k_means: 0.000000 seconds\n"
     ]
    },
    {
     "name": "stderr",
     "output_type": "stream",
     "text": [
      "Running K-means (k=6):   0%|          | 0/3 [00:00<?, ?step/s]\n",
      "Running K-means (k=7):   0%|          | 0/3 [00:00<?, ?step/s]"
     ]
    },
    {
     "name": "stdout",
     "output_type": "stream",
     "text": [
      "Runtime for k_means: 0.032831 seconds\n"
     ]
    },
    {
     "name": "stderr",
     "output_type": "stream",
     "text": [
      "\n"
     ]
    },
    {
     "name": "stdout",
     "output_type": "stream",
     "text": [
      "\n",
      "Running K-Means for Year Range: 2014-2016\n"
     ]
    },
    {
     "name": "stderr",
     "output_type": "stream",
     "text": [
      "Running K-means (k=4):   0%|          | 0/3 [00:00<?, ?step/s]"
     ]
    },
    {
     "name": "stdout",
     "output_type": "stream",
     "text": [
      "Runtime for k_means: 0.015043 seconds\n"
     ]
    },
    {
     "name": "stderr",
     "output_type": "stream",
     "text": [
      "Running K-means (k=4):   0%|          | 0/3 [00:00<?, ?step/s]\n",
      "Running K-means (k=5):   0%|          | 0/3 [00:00<?, ?step/s]"
     ]
    },
    {
     "name": "stdout",
     "output_type": "stream",
     "text": [
      "Runtime for k_means: 0.015741 seconds\n"
     ]
    },
    {
     "name": "stderr",
     "output_type": "stream",
     "text": [
      "Running K-means (k=5):   0%|          | 0/3 [00:00<?, ?step/s]\n",
      "Running K-means (k=6):   0%|          | 0/3 [00:00<?, ?step/s]"
     ]
    },
    {
     "name": "stdout",
     "output_type": "stream",
     "text": [
      "Runtime for k_means: 0.067264 seconds\n"
     ]
    },
    {
     "name": "stderr",
     "output_type": "stream",
     "text": [
      "Running K-means (k=6):   0%|          | 0/3 [00:00<?, ?step/s]\n",
      "Running K-means (k=7):   0%|          | 0/3 [00:00<?, ?step/s]"
     ]
    },
    {
     "name": "stdout",
     "output_type": "stream",
     "text": [
      "Runtime for k_means: 0.035524 seconds\n"
     ]
    },
    {
     "name": "stderr",
     "output_type": "stream",
     "text": [
      "Running K-means (k=7):   0%|          | 0/3 [00:00<?, ?step/s]\n"
     ]
    },
    {
     "name": "stdout",
     "output_type": "stream",
     "text": [
      "\n",
      "Running K-Means for Year Range: 2015-2017\n"
     ]
    },
    {
     "name": "stderr",
     "output_type": "stream",
     "text": [
      "Running K-means (k=4):   0%|          | 0/3 [00:00<?, ?step/s]"
     ]
    },
    {
     "name": "stdout",
     "output_type": "stream",
     "text": [
      "Runtime for k_means: 0.023764 seconds\n"
     ]
    },
    {
     "name": "stderr",
     "output_type": "stream",
     "text": [
      "Running K-means (k=4):   0%|          | 0/3 [00:01<?, ?step/s]\n",
      "Running K-means (k=5):   0%|          | 0/3 [00:00<?, ?step/s]"
     ]
    },
    {
     "name": "stdout",
     "output_type": "stream",
     "text": [
      "Runtime for k_means: 0.053087 seconds\n"
     ]
    },
    {
     "name": "stderr",
     "output_type": "stream",
     "text": [
      "Running K-means (k=5):   0%|          | 0/3 [00:01<?, ?step/s]\n",
      "Running K-means (k=6):   0%|          | 0/3 [00:00<?, ?step/s]"
     ]
    },
    {
     "name": "stdout",
     "output_type": "stream",
     "text": [
      "Runtime for k_means: 0.053197 seconds\n"
     ]
    },
    {
     "name": "stderr",
     "output_type": "stream",
     "text": [
      "Running K-means (k=6):   0%|          | 0/3 [00:00<?, ?step/s]\n",
      "Running K-means (k=7):   0%|          | 0/3 [00:00<?, ?step/s]"
     ]
    },
    {
     "name": "stdout",
     "output_type": "stream",
     "text": [
      "Runtime for k_means: 0.028299 seconds\n"
     ]
    },
    {
     "name": "stderr",
     "output_type": "stream",
     "text": [
      "Running K-means (k=7):   0%|          | 0/3 [00:00<?, ?step/s]\n"
     ]
    },
    {
     "name": "stdout",
     "output_type": "stream",
     "text": [
      "\n",
      "Running K-Means for Year Range: 2016-2018\n"
     ]
    },
    {
     "name": "stderr",
     "output_type": "stream",
     "text": [
      "Running K-means (k=4):   0%|          | 0/3 [00:00<?, ?step/s]"
     ]
    },
    {
     "name": "stdout",
     "output_type": "stream",
     "text": [
      "Runtime for k_means: 0.022576 seconds\n"
     ]
    },
    {
     "name": "stderr",
     "output_type": "stream",
     "text": [
      "Running K-means (k=4):   0%|          | 0/3 [00:00<?, ?step/s]\n",
      "Running K-means (k=5):   0%|          | 0/3 [00:00<?, ?step/s]"
     ]
    },
    {
     "name": "stdout",
     "output_type": "stream",
     "text": [
      "Runtime for k_means: 0.025487 seconds\n"
     ]
    },
    {
     "name": "stderr",
     "output_type": "stream",
     "text": [
      "Running K-means (k=5):   0%|          | 0/3 [00:00<?, ?step/s]\n",
      "Running K-means (k=6):   0%|          | 0/3 [00:00<?, ?step/s]"
     ]
    },
    {
     "name": "stdout",
     "output_type": "stream",
     "text": [
      "Runtime for k_means: 0.031101 seconds\n"
     ]
    },
    {
     "name": "stderr",
     "output_type": "stream",
     "text": [
      "Running K-means (k=6):   0%|          | 0/3 [00:00<?, ?step/s]\n",
      "Running K-means (k=7):   0%|          | 0/3 [00:00<?, ?step/s]"
     ]
    },
    {
     "name": "stdout",
     "output_type": "stream",
     "text": [
      "Runtime for k_means: 0.016447 seconds\n"
     ]
    },
    {
     "name": "stderr",
     "output_type": "stream",
     "text": [
      "Running K-means (k=7):   0%|          | 0/3 [00:00<?, ?step/s]\n"
     ]
    },
    {
     "name": "stdout",
     "output_type": "stream",
     "text": [
      "\n",
      "Running K-Means for Year Range: 2017-2019\n"
     ]
    },
    {
     "name": "stderr",
     "output_type": "stream",
     "text": [
      "Running K-means (k=4):   0%|          | 0/3 [00:00<?, ?step/s]"
     ]
    },
    {
     "name": "stdout",
     "output_type": "stream",
     "text": [
      "Runtime for k_means: 0.026969 seconds\n"
     ]
    },
    {
     "name": "stderr",
     "output_type": "stream",
     "text": [
      "Running K-means (k=4):   0%|          | 0/3 [00:00<?, ?step/s]\n",
      "Running K-means (k=5):   0%|          | 0/3 [00:00<?, ?step/s]"
     ]
    },
    {
     "name": "stdout",
     "output_type": "stream",
     "text": [
      "Runtime for k_means: 0.028749 seconds\n"
     ]
    },
    {
     "name": "stderr",
     "output_type": "stream",
     "text": [
      "Running K-means (k=5):   0%|          | 0/3 [00:00<?, ?step/s]\n",
      "Running K-means (k=6):   0%|          | 0/3 [00:00<?, ?step/s]"
     ]
    },
    {
     "name": "stdout",
     "output_type": "stream",
     "text": [
      "Runtime for k_means: 0.034679 seconds\n"
     ]
    },
    {
     "name": "stderr",
     "output_type": "stream",
     "text": [
      "Running K-means (k=6):   0%|          | 0/3 [00:00<?, ?step/s]\n",
      "Running K-means (k=7):   0%|          | 0/3 [00:00<?, ?step/s]"
     ]
    },
    {
     "name": "stdout",
     "output_type": "stream",
     "text": [
      "Runtime for k_means: 0.030512 seconds\n"
     ]
    },
    {
     "name": "stderr",
     "output_type": "stream",
     "text": [
      "Running K-means (k=7):   0%|          | 0/3 [00:00<?, ?step/s]\n"
     ]
    },
    {
     "name": "stdout",
     "output_type": "stream",
     "text": [
      "\n",
      "Running K-Means for Year Range: 2018-2020\n"
     ]
    },
    {
     "name": "stderr",
     "output_type": "stream",
     "text": [
      "Running K-means (k=4):   0%|          | 0/3 [00:00<?, ?step/s]"
     ]
    },
    {
     "name": "stdout",
     "output_type": "stream",
     "text": [
      "Runtime for k_means: 0.049199 seconds\n"
     ]
    },
    {
     "name": "stderr",
     "output_type": "stream",
     "text": [
      "Running K-means (k=4):   0%|          | 0/3 [00:00<?, ?step/s]\n",
      "Running K-means (k=5):   0%|          | 0/3 [00:00<?, ?step/s]"
     ]
    },
    {
     "name": "stdout",
     "output_type": "stream",
     "text": [
      "Runtime for k_means: 0.019767 seconds\n"
     ]
    },
    {
     "name": "stderr",
     "output_type": "stream",
     "text": [
      "Running K-means (k=5):   0%|          | 0/3 [00:00<?, ?step/s]\n",
      "Running K-means (k=6):   0%|          | 0/3 [00:00<?, ?step/s]"
     ]
    },
    {
     "name": "stdout",
     "output_type": "stream",
     "text": [
      "Runtime for k_means: 0.017540 seconds\n"
     ]
    },
    {
     "name": "stderr",
     "output_type": "stream",
     "text": [
      "Running K-means (k=6):   0%|          | 0/3 [00:01<?, ?step/s]\n",
      "Running K-means (k=7):   0%|          | 0/3 [00:00<?, ?step/s]"
     ]
    },
    {
     "name": "stdout",
     "output_type": "stream",
     "text": [
      "Runtime for k_means: 0.041704 seconds\n"
     ]
    },
    {
     "name": "stderr",
     "output_type": "stream",
     "text": [
      "Running K-means (k=7):   0%|          | 0/3 [00:01<?, ?step/s]\n"
     ]
    },
    {
     "name": "stdout",
     "output_type": "stream",
     "text": [
      "\n",
      "Running K-Means for Year Range: 2019-2021\n"
     ]
    },
    {
     "name": "stderr",
     "output_type": "stream",
     "text": [
      "Running K-means (k=4):   0%|          | 0/3 [00:00<?, ?step/s]"
     ]
    },
    {
     "name": "stdout",
     "output_type": "stream",
     "text": [
      "Runtime for k_means: 0.016161 seconds\n"
     ]
    },
    {
     "name": "stderr",
     "output_type": "stream",
     "text": [
      "Running K-means (k=4):   0%|          | 0/3 [00:01<?, ?step/s]\n",
      "Running K-means (k=5):   0%|          | 0/3 [00:00<?, ?step/s]"
     ]
    },
    {
     "name": "stdout",
     "output_type": "stream",
     "text": [
      "Runtime for k_means: 0.020220 seconds\n"
     ]
    },
    {
     "name": "stderr",
     "output_type": "stream",
     "text": [
      "Running K-means (k=5):   0%|          | 0/3 [00:01<?, ?step/s]\n",
      "Running K-means (k=6):   0%|          | 0/3 [00:00<?, ?step/s]"
     ]
    },
    {
     "name": "stdout",
     "output_type": "stream",
     "text": [
      "Runtime for k_means: 0.047214 seconds\n"
     ]
    },
    {
     "name": "stderr",
     "output_type": "stream",
     "text": [
      "Running K-means (k=6):   0%|          | 0/3 [00:01<?, ?step/s]\n",
      "Running K-means (k=7):   0%|          | 0/3 [00:00<?, ?step/s]"
     ]
    },
    {
     "name": "stdout",
     "output_type": "stream",
     "text": [
      "Runtime for k_means: 0.038821 seconds\n"
     ]
    },
    {
     "name": "stderr",
     "output_type": "stream",
     "text": [
      "Running K-means (k=7):   0%|          | 0/3 [00:00<?, ?step/s]\n"
     ]
    },
    {
     "name": "stdout",
     "output_type": "stream",
     "text": [
      "\n",
      "Running K-Means for Year Range: 2020-2022\n"
     ]
    },
    {
     "name": "stderr",
     "output_type": "stream",
     "text": [
      "Running K-means (k=4):   0%|          | 0/3 [00:00<?, ?step/s]"
     ]
    },
    {
     "name": "stdout",
     "output_type": "stream",
     "text": [
      "Runtime for k_means: 0.016478 seconds\n"
     ]
    },
    {
     "name": "stderr",
     "output_type": "stream",
     "text": [
      "Running K-means (k=4):   0%|          | 0/3 [00:01<?, ?step/s]\n",
      "Running K-means (k=5):   0%|          | 0/3 [00:00<?, ?step/s]"
     ]
    },
    {
     "name": "stdout",
     "output_type": "stream",
     "text": [
      "Runtime for k_means: 0.034776 seconds\n"
     ]
    },
    {
     "name": "stderr",
     "output_type": "stream",
     "text": [
      "Running K-means (k=5):   0%|          | 0/3 [00:01<?, ?step/s]\n",
      "Running K-means (k=6):   0%|          | 0/3 [00:00<?, ?step/s]"
     ]
    },
    {
     "name": "stdout",
     "output_type": "stream",
     "text": [
      "Runtime for k_means: 0.057273 seconds\n"
     ]
    },
    {
     "name": "stderr",
     "output_type": "stream",
     "text": [
      "Running K-means (k=6):   0%|          | 0/3 [00:01<?, ?step/s]\n",
      "Running K-means (k=7):   0%|          | 0/3 [00:00<?, ?step/s]"
     ]
    },
    {
     "name": "stdout",
     "output_type": "stream",
     "text": [
      "Runtime for k_means: 0.069039 seconds\n"
     ]
    },
    {
     "name": "stderr",
     "output_type": "stream",
     "text": [
      "Running K-means (k=7):   0%|          | 0/3 [00:01<?, ?step/s]\n"
     ]
    },
    {
     "name": "stdout",
     "output_type": "stream",
     "text": [
      "\n",
      "Running K-Means for Year Range: 2021-2023\n"
     ]
    },
    {
     "name": "stderr",
     "output_type": "stream",
     "text": [
      "Running K-means (k=4):   0%|          | 0/3 [00:00<?, ?step/s]"
     ]
    },
    {
     "name": "stdout",
     "output_type": "stream",
     "text": [
      "Runtime for k_means: 0.022146 seconds\n"
     ]
    },
    {
     "name": "stderr",
     "output_type": "stream",
     "text": [
      "Running K-means (k=4):   0%|          | 0/3 [00:01<?, ?step/s]\n",
      "Running K-means (k=5):   0%|          | 0/3 [00:00<?, ?step/s]"
     ]
    },
    {
     "name": "stdout",
     "output_type": "stream",
     "text": [
      "Runtime for k_means: 0.013921 seconds\n"
     ]
    },
    {
     "name": "stderr",
     "output_type": "stream",
     "text": [
      "Running K-means (k=5):   0%|          | 0/3 [00:01<?, ?step/s]\n",
      "Running K-means (k=6):   0%|          | 0/3 [00:00<?, ?step/s]"
     ]
    },
    {
     "name": "stdout",
     "output_type": "stream",
     "text": [
      "Runtime for k_means: 0.032851 seconds\n"
     ]
    },
    {
     "name": "stderr",
     "output_type": "stream",
     "text": [
      "Running K-means (k=6):   0%|          | 0/3 [00:01<?, ?step/s]\n",
      "Running K-means (k=7):   0%|          | 0/3 [00:00<?, ?step/s]"
     ]
    },
    {
     "name": "stdout",
     "output_type": "stream",
     "text": [
      "Runtime for k_means: 0.039815 seconds\n"
     ]
    },
    {
     "name": "stderr",
     "output_type": "stream",
     "text": [
      "Running K-means (k=7):   0%|          | 0/3 [00:01<?, ?step/s]\n"
     ]
    },
    {
     "name": "stdout",
     "output_type": "stream",
     "text": [
      "\n",
      "Running K-Means for Year Range: 2002-2005\n"
     ]
    },
    {
     "name": "stderr",
     "output_type": "stream",
     "text": [
      "Running K-means (k=4):   0%|          | 0/3 [00:00<?, ?step/s]"
     ]
    },
    {
     "name": "stdout",
     "output_type": "stream",
     "text": [
      "Runtime for k_means: 0.049052 seconds\n"
     ]
    },
    {
     "name": "stderr",
     "output_type": "stream",
     "text": [
      "Running K-means (k=4):   0%|          | 0/3 [00:06<?, ?step/s]\n",
      "Running K-means (k=5):   0%|          | 0/3 [00:00<?, ?step/s]"
     ]
    },
    {
     "name": "stdout",
     "output_type": "stream",
     "text": [
      "Runtime for k_means: 0.040977 seconds\n"
     ]
    },
    {
     "name": "stderr",
     "output_type": "stream",
     "text": [
      "Running K-means (k=5):   0%|          | 0/3 [00:07<?, ?step/s]\n",
      "Running K-means (k=6):   0%|          | 0/3 [00:00<?, ?step/s]"
     ]
    },
    {
     "name": "stdout",
     "output_type": "stream",
     "text": [
      "Runtime for k_means: 0.070973 seconds\n"
     ]
    },
    {
     "name": "stderr",
     "output_type": "stream",
     "text": [
      "Running K-means (k=6):   0%|          | 0/3 [00:07<?, ?step/s]\n",
      "Running K-means (k=7):   0%|          | 0/3 [00:00<?, ?step/s]"
     ]
    },
    {
     "name": "stdout",
     "output_type": "stream",
     "text": [
      "Runtime for k_means: 0.098336 seconds\n"
     ]
    },
    {
     "name": "stderr",
     "output_type": "stream",
     "text": [
      "Running K-means (k=7):   0%|          | 0/3 [00:07<?, ?step/s]\n"
     ]
    },
    {
     "name": "stdout",
     "output_type": "stream",
     "text": [
      "\n",
      "Running K-Means for Year Range: 2003-2006\n"
     ]
    },
    {
     "name": "stderr",
     "output_type": "stream",
     "text": [
      "Running K-means (k=4):   0%|          | 0/3 [00:00<?, ?step/s]"
     ]
    },
    {
     "name": "stdout",
     "output_type": "stream",
     "text": [
      "Runtime for k_means: 0.055041 seconds\n"
     ]
    },
    {
     "name": "stderr",
     "output_type": "stream",
     "text": [
      "Running K-means (k=4):   0%|          | 0/3 [00:09<?, ?step/s]\n",
      "Running K-means (k=5):   0%|          | 0/3 [00:00<?, ?step/s]"
     ]
    },
    {
     "name": "stdout",
     "output_type": "stream",
     "text": [
      "Runtime for k_means: 0.127612 seconds\n"
     ]
    },
    {
     "name": "stderr",
     "output_type": "stream",
     "text": [
      "Running K-means (k=5):   0%|          | 0/3 [00:08<?, ?step/s]\n",
      "Running K-means (k=6):   0%|          | 0/3 [00:00<?, ?step/s]"
     ]
    },
    {
     "name": "stdout",
     "output_type": "stream",
     "text": [
      "Runtime for k_means: 0.098238 seconds\n"
     ]
    },
    {
     "name": "stderr",
     "output_type": "stream",
     "text": [
      "Running K-means (k=6):   0%|          | 0/3 [00:08<?, ?step/s]\n",
      "Running K-means (k=7):   0%|          | 0/3 [00:00<?, ?step/s]"
     ]
    },
    {
     "name": "stdout",
     "output_type": "stream",
     "text": [
      "Runtime for k_means: 0.152186 seconds\n"
     ]
    },
    {
     "name": "stderr",
     "output_type": "stream",
     "text": [
      "Running K-means (k=7):   0%|          | 0/3 [00:07<?, ?step/s]\n"
     ]
    },
    {
     "name": "stdout",
     "output_type": "stream",
     "text": [
      "\n",
      "Running K-Means for Year Range: 2004-2007\n"
     ]
    },
    {
     "name": "stderr",
     "output_type": "stream",
     "text": [
      "Running K-means (k=4):   0%|          | 0/3 [00:00<?, ?step/s]"
     ]
    },
    {
     "name": "stdout",
     "output_type": "stream",
     "text": [
      "Runtime for k_means: 0.041294 seconds\n"
     ]
    },
    {
     "name": "stderr",
     "output_type": "stream",
     "text": [
      "Running K-means (k=4):   0%|          | 0/3 [00:07<?, ?step/s]\n",
      "Running K-means (k=5):   0%|          | 0/3 [00:00<?, ?step/s]"
     ]
    },
    {
     "name": "stdout",
     "output_type": "stream",
     "text": [
      "Runtime for k_means: 0.037816 seconds\n"
     ]
    },
    {
     "name": "stderr",
     "output_type": "stream",
     "text": [
      "Running K-means (k=5):   0%|          | 0/3 [00:07<?, ?step/s]\n",
      "Running K-means (k=6):   0%|          | 0/3 [00:00<?, ?step/s]"
     ]
    },
    {
     "name": "stdout",
     "output_type": "stream",
     "text": [
      "Runtime for k_means: 0.085962 seconds\n"
     ]
    },
    {
     "name": "stderr",
     "output_type": "stream",
     "text": [
      "Running K-means (k=6):   0%|          | 0/3 [00:09<?, ?step/s]\n",
      "Running K-means (k=7):   0%|          | 0/3 [00:00<?, ?step/s]"
     ]
    },
    {
     "name": "stdout",
     "output_type": "stream",
     "text": [
      "Runtime for k_means: 0.269648 seconds\n"
     ]
    },
    {
     "name": "stderr",
     "output_type": "stream",
     "text": [
      "Running K-means (k=7):   0%|          | 0/3 [00:09<?, ?step/s]\n"
     ]
    },
    {
     "name": "stdout",
     "output_type": "stream",
     "text": [
      "\n",
      "Running K-Means for Year Range: 2005-2008\n"
     ]
    },
    {
     "name": "stderr",
     "output_type": "stream",
     "text": [
      "Running K-means (k=4):   0%|          | 0/3 [00:00<?, ?step/s]"
     ]
    },
    {
     "name": "stdout",
     "output_type": "stream",
     "text": [
      "Runtime for k_means: 0.071421 seconds\n"
     ]
    },
    {
     "name": "stderr",
     "output_type": "stream",
     "text": [
      "Running K-means (k=4):   0%|          | 0/3 [00:11<?, ?step/s]\n",
      "Running K-means (k=5):   0%|          | 0/3 [00:00<?, ?step/s]"
     ]
    },
    {
     "name": "stdout",
     "output_type": "stream",
     "text": [
      "Runtime for k_means: 0.092190 seconds\n"
     ]
    },
    {
     "name": "stderr",
     "output_type": "stream",
     "text": [
      "Running K-means (k=5):   0%|          | 0/3 [00:11<?, ?step/s]\n",
      "Running K-means (k=6):   0%|          | 0/3 [00:00<?, ?step/s]"
     ]
    },
    {
     "name": "stdout",
     "output_type": "stream",
     "text": [
      "Runtime for k_means: 0.177189 seconds\n"
     ]
    },
    {
     "name": "stderr",
     "output_type": "stream",
     "text": [
      "Running K-means (k=6):   0%|          | 0/3 [00:10<?, ?step/s]\n",
      "Running K-means (k=7):   0%|          | 0/3 [00:00<?, ?step/s]"
     ]
    },
    {
     "name": "stdout",
     "output_type": "stream",
     "text": [
      "Runtime for k_means: 0.194041 seconds\n"
     ]
    },
    {
     "name": "stderr",
     "output_type": "stream",
     "text": [
      "Running K-means (k=7):   0%|          | 0/3 [00:09<?, ?step/s]\n"
     ]
    },
    {
     "name": "stdout",
     "output_type": "stream",
     "text": [
      "\n",
      "Running K-Means for Year Range: 2006-2009\n"
     ]
    },
    {
     "name": "stderr",
     "output_type": "stream",
     "text": [
      "Running K-means (k=4):   0%|          | 0/3 [00:00<?, ?step/s]"
     ]
    },
    {
     "name": "stdout",
     "output_type": "stream",
     "text": [
      "Runtime for k_means: 0.084881 seconds\n"
     ]
    },
    {
     "name": "stderr",
     "output_type": "stream",
     "text": [
      "Running K-means (k=4):   0%|          | 0/3 [00:06<?, ?step/s]\n",
      "Running K-means (k=5):   0%|          | 0/3 [00:00<?, ?step/s]"
     ]
    },
    {
     "name": "stdout",
     "output_type": "stream",
     "text": [
      "Runtime for k_means: 0.121577 seconds\n"
     ]
    },
    {
     "name": "stderr",
     "output_type": "stream",
     "text": [
      "Running K-means (k=5):   0%|          | 0/3 [00:06<?, ?step/s]\n",
      "Running K-means (k=6):   0%|          | 0/3 [00:00<?, ?step/s]"
     ]
    },
    {
     "name": "stdout",
     "output_type": "stream",
     "text": [
      "Runtime for k_means: 0.127506 seconds\n"
     ]
    },
    {
     "name": "stderr",
     "output_type": "stream",
     "text": [
      "Running K-means (k=6):   0%|          | 0/3 [00:06<?, ?step/s]\n",
      "Running K-means (k=7):   0%|          | 0/3 [00:00<?, ?step/s]"
     ]
    },
    {
     "name": "stdout",
     "output_type": "stream",
     "text": [
      "Runtime for k_means: 0.163427 seconds\n"
     ]
    },
    {
     "name": "stderr",
     "output_type": "stream",
     "text": [
      "Running K-means (k=7):   0%|          | 0/3 [00:06<?, ?step/s]\n"
     ]
    },
    {
     "name": "stdout",
     "output_type": "stream",
     "text": [
      "\n",
      "Running K-Means for Year Range: 2007-2010\n"
     ]
    },
    {
     "name": "stderr",
     "output_type": "stream",
     "text": [
      "Running K-means (k=4):   0%|          | 0/3 [00:00<?, ?step/s]"
     ]
    },
    {
     "name": "stdout",
     "output_type": "stream",
     "text": [
      "Runtime for k_means: 0.043007 seconds\n"
     ]
    },
    {
     "name": "stderr",
     "output_type": "stream",
     "text": [
      "Running K-means (k=4):   0%|          | 0/3 [00:04<?, ?step/s]\n",
      "Running K-means (k=5):   0%|          | 0/3 [00:00<?, ?step/s]"
     ]
    },
    {
     "name": "stdout",
     "output_type": "stream",
     "text": [
      "Runtime for k_means: 0.042666 seconds\n"
     ]
    },
    {
     "name": "stderr",
     "output_type": "stream",
     "text": [
      "Running K-means (k=5):   0%|          | 0/3 [00:04<?, ?step/s]\n",
      "Running K-means (k=6):   0%|          | 0/3 [00:00<?, ?step/s]"
     ]
    },
    {
     "name": "stdout",
     "output_type": "stream",
     "text": [
      "Runtime for k_means: 0.062890 seconds\n"
     ]
    },
    {
     "name": "stderr",
     "output_type": "stream",
     "text": [
      "Running K-means (k=6):   0%|          | 0/3 [00:04<?, ?step/s]\n",
      "Running K-means (k=7):   0%|          | 0/3 [00:00<?, ?step/s]"
     ]
    },
    {
     "name": "stdout",
     "output_type": "stream",
     "text": [
      "Runtime for k_means: 0.309930 seconds\n"
     ]
    },
    {
     "name": "stderr",
     "output_type": "stream",
     "text": [
      "Running K-means (k=7):   0%|          | 0/3 [00:04<?, ?step/s]\n"
     ]
    },
    {
     "name": "stdout",
     "output_type": "stream",
     "text": [
      "\n",
      "Running K-Means for Year Range: 2008-2011\n"
     ]
    },
    {
     "name": "stderr",
     "output_type": "stream",
     "text": [
      "Running K-means (k=4):   0%|          | 0/3 [00:00<?, ?step/s]"
     ]
    },
    {
     "name": "stdout",
     "output_type": "stream",
     "text": [
      "Runtime for k_means: 0.028402 seconds\n"
     ]
    },
    {
     "name": "stderr",
     "output_type": "stream",
     "text": [
      "Running K-means (k=4):   0%|          | 0/3 [00:04<?, ?step/s]\n",
      "Running K-means (k=5):   0%|          | 0/3 [00:00<?, ?step/s]"
     ]
    },
    {
     "name": "stdout",
     "output_type": "stream",
     "text": [
      "Runtime for k_means: 0.135754 seconds\n"
     ]
    },
    {
     "name": "stderr",
     "output_type": "stream",
     "text": [
      "Running K-means (k=5):   0%|          | 0/3 [00:05<?, ?step/s]\n",
      "Running K-means (k=6):   0%|          | 0/3 [00:00<?, ?step/s]"
     ]
    },
    {
     "name": "stdout",
     "output_type": "stream",
     "text": [
      "Runtime for k_means: 0.172915 seconds\n"
     ]
    },
    {
     "name": "stderr",
     "output_type": "stream",
     "text": [
      "Running K-means (k=6):   0%|          | 0/3 [00:05<?, ?step/s]\n",
      "Running K-means (k=7):   0%|          | 0/3 [00:00<?, ?step/s]"
     ]
    },
    {
     "name": "stdout",
     "output_type": "stream",
     "text": [
      "Runtime for k_means: 0.121062 seconds\n"
     ]
    },
    {
     "name": "stderr",
     "output_type": "stream",
     "text": [
      "Running K-means (k=7):   0%|          | 0/3 [00:02<?, ?step/s]\n"
     ]
    },
    {
     "name": "stdout",
     "output_type": "stream",
     "text": [
      "\n",
      "Running K-Means for Year Range: 2009-2012\n"
     ]
    },
    {
     "name": "stderr",
     "output_type": "stream",
     "text": [
      "Running K-means (k=4):   0%|          | 0/3 [00:00<?, ?step/s]"
     ]
    },
    {
     "name": "stdout",
     "output_type": "stream",
     "text": [
      "Runtime for k_means: 0.014012 seconds\n"
     ]
    },
    {
     "name": "stderr",
     "output_type": "stream",
     "text": [
      "Running K-means (k=4):   0%|          | 0/3 [00:02<?, ?step/s]\n",
      "Running K-means (k=5):   0%|          | 0/3 [00:00<?, ?step/s]"
     ]
    },
    {
     "name": "stdout",
     "output_type": "stream",
     "text": [
      "Runtime for k_means: 0.013019 seconds\n"
     ]
    },
    {
     "name": "stderr",
     "output_type": "stream",
     "text": [
      "Running K-means (k=5):   0%|          | 0/3 [00:01<?, ?step/s]\n",
      "Running K-means (k=6):   0%|          | 0/3 [00:00<?, ?step/s]"
     ]
    },
    {
     "name": "stdout",
     "output_type": "stream",
     "text": [
      "Runtime for k_means: 0.033712 seconds\n"
     ]
    },
    {
     "name": "stderr",
     "output_type": "stream",
     "text": [
      "Running K-means (k=6):   0%|          | 0/3 [00:02<?, ?step/s]\n",
      "Running K-means (k=7):   0%|          | 0/3 [00:00<?, ?step/s]"
     ]
    },
    {
     "name": "stdout",
     "output_type": "stream",
     "text": [
      "Runtime for k_means: 0.042529 seconds\n"
     ]
    },
    {
     "name": "stderr",
     "output_type": "stream",
     "text": [
      "Running K-means (k=7):   0%|          | 0/3 [00:02<?, ?step/s]\n"
     ]
    },
    {
     "name": "stdout",
     "output_type": "stream",
     "text": [
      "\n",
      "Running K-Means for Year Range: 2010-2013\n"
     ]
    },
    {
     "name": "stderr",
     "output_type": "stream",
     "text": [
      "Running K-means (k=4):   0%|          | 0/3 [00:00<?, ?step/s]"
     ]
    },
    {
     "name": "stdout",
     "output_type": "stream",
     "text": [
      "Runtime for k_means: 0.016569 seconds\n"
     ]
    },
    {
     "name": "stderr",
     "output_type": "stream",
     "text": [
      "Running K-means (k=4):   0%|          | 0/3 [00:00<?, ?step/s]\n",
      "Running K-means (k=5):   0%|          | 0/3 [00:00<?, ?step/s]"
     ]
    },
    {
     "name": "stdout",
     "output_type": "stream",
     "text": [
      "Runtime for k_means: 0.014939 seconds\n"
     ]
    },
    {
     "name": "stderr",
     "output_type": "stream",
     "text": [
      "Running K-means (k=5):   0%|          | 0/3 [00:00<?, ?step/s]\n",
      "Running K-means (k=6):   0%|          | 0/3 [00:00<?, ?step/s]"
     ]
    },
    {
     "name": "stdout",
     "output_type": "stream",
     "text": [
      "Runtime for k_means: 0.025143 seconds\n"
     ]
    },
    {
     "name": "stderr",
     "output_type": "stream",
     "text": [
      "Running K-means (k=6):   0%|          | 0/3 [00:01<?, ?step/s]\n",
      "Running K-means (k=7):   0%|          | 0/3 [00:00<?, ?step/s]"
     ]
    },
    {
     "name": "stdout",
     "output_type": "stream",
     "text": [
      "Runtime for k_means: 0.145147 seconds\n"
     ]
    },
    {
     "name": "stderr",
     "output_type": "stream",
     "text": [
      "Running K-means (k=7):   0%|          | 0/3 [00:01<?, ?step/s]\n"
     ]
    },
    {
     "name": "stdout",
     "output_type": "stream",
     "text": [
      "\n",
      "Running K-Means for Year Range: 2011-2014\n"
     ]
    },
    {
     "name": "stderr",
     "output_type": "stream",
     "text": [
      "Running K-means (k=4):   0%|          | 0/3 [00:00<?, ?step/s]"
     ]
    },
    {
     "name": "stdout",
     "output_type": "stream",
     "text": [
      "Runtime for k_means: 0.016725 seconds\n"
     ]
    },
    {
     "name": "stderr",
     "output_type": "stream",
     "text": [
      "Running K-means (k=4):   0%|          | 0/3 [00:00<?, ?step/s]\n",
      "Running K-means (k=5):   0%|          | 0/3 [00:00<?, ?step/s]"
     ]
    },
    {
     "name": "stdout",
     "output_type": "stream",
     "text": [
      "Runtime for k_means: 0.071561 seconds\n"
     ]
    },
    {
     "name": "stderr",
     "output_type": "stream",
     "text": [
      "Running K-means (k=5):   0%|          | 0/3 [00:00<?, ?step/s]\n",
      "Running K-means (k=6):   0%|          | 0/3 [00:00<?, ?step/s]"
     ]
    },
    {
     "name": "stdout",
     "output_type": "stream",
     "text": [
      "Runtime for k_means: 0.084252 seconds\n"
     ]
    },
    {
     "name": "stderr",
     "output_type": "stream",
     "text": [
      "Running K-means (k=6):   0%|          | 0/3 [00:00<?, ?step/s]\n",
      "Running K-means (k=7):   0%|          | 0/3 [00:00<?, ?step/s]"
     ]
    },
    {
     "name": "stdout",
     "output_type": "stream",
     "text": [
      "Runtime for k_means: 0.019764 seconds\n"
     ]
    },
    {
     "name": "stderr",
     "output_type": "stream",
     "text": [
      "Running K-means (k=7):   0%|          | 0/3 [00:00<?, ?step/s]\n"
     ]
    },
    {
     "name": "stdout",
     "output_type": "stream",
     "text": [
      "\n",
      "Running K-Means for Year Range: 2012-2015\n"
     ]
    },
    {
     "name": "stderr",
     "output_type": "stream",
     "text": [
      "Running K-means (k=4):   0%|          | 0/3 [00:00<?, ?step/s]"
     ]
    },
    {
     "name": "stdout",
     "output_type": "stream",
     "text": [
      "Runtime for k_means: 0.025558 seconds\n"
     ]
    },
    {
     "name": "stderr",
     "output_type": "stream",
     "text": [
      "Running K-means (k=4):   0%|          | 0/3 [00:00<?, ?step/s]\n",
      "Running K-means (k=5):   0%|          | 0/3 [00:00<?, ?step/s]"
     ]
    },
    {
     "name": "stdout",
     "output_type": "stream",
     "text": [
      "Runtime for k_means: 0.015697 seconds\n"
     ]
    },
    {
     "name": "stderr",
     "output_type": "stream",
     "text": [
      "Running K-means (k=5):   0%|          | 0/3 [00:00<?, ?step/s]\n",
      "Running K-means (k=6):   0%|          | 0/3 [00:00<?, ?step/s]"
     ]
    },
    {
     "name": "stdout",
     "output_type": "stream",
     "text": [
      "Runtime for k_means: 0.035210 seconds\n"
     ]
    },
    {
     "name": "stderr",
     "output_type": "stream",
     "text": [
      "Running K-means (k=6):   0%|          | 0/3 [00:00<?, ?step/s]\n",
      "Running K-means (k=7):   0%|          | 0/3 [00:00<?, ?step/s]"
     ]
    },
    {
     "name": "stdout",
     "output_type": "stream",
     "text": [
      "Runtime for k_means: 0.043052 seconds\n"
     ]
    },
    {
     "name": "stderr",
     "output_type": "stream",
     "text": [
      "Running K-means (k=7):   0%|          | 0/3 [00:00<?, ?step/s]\n"
     ]
    },
    {
     "name": "stdout",
     "output_type": "stream",
     "text": [
      "\n",
      "Running K-Means for Year Range: 2013-2016\n"
     ]
    },
    {
     "name": "stderr",
     "output_type": "stream",
     "text": [
      "Running K-means (k=4):   0%|          | 0/3 [00:00<?, ?step/s]"
     ]
    },
    {
     "name": "stdout",
     "output_type": "stream",
     "text": [
      "Runtime for k_means: 0.033738 seconds\n"
     ]
    },
    {
     "name": "stderr",
     "output_type": "stream",
     "text": [
      "Running K-means (k=4):   0%|          | 0/3 [00:00<?, ?step/s]\n",
      "Running K-means (k=5):   0%|          | 0/3 [00:00<?, ?step/s]"
     ]
    },
    {
     "name": "stdout",
     "output_type": "stream",
     "text": [
      "Runtime for k_means: 0.038647 seconds\n"
     ]
    },
    {
     "name": "stderr",
     "output_type": "stream",
     "text": [
      "Running K-means (k=5):   0%|          | 0/3 [00:00<?, ?step/s]\n",
      "Running K-means (k=6):   0%|          | 0/3 [00:00<?, ?step/s]"
     ]
    },
    {
     "name": "stdout",
     "output_type": "stream",
     "text": [
      "Runtime for k_means: 0.072207 seconds\n"
     ]
    },
    {
     "name": "stderr",
     "output_type": "stream",
     "text": [
      "Running K-means (k=6):   0%|          | 0/3 [00:00<?, ?step/s]\n",
      "Running K-means (k=7):   0%|          | 0/3 [00:00<?, ?step/s]"
     ]
    },
    {
     "name": "stdout",
     "output_type": "stream",
     "text": [
      "Runtime for k_means: 0.050703 seconds\n"
     ]
    },
    {
     "name": "stderr",
     "output_type": "stream",
     "text": [
      "Running K-means (k=7):   0%|          | 0/3 [00:00<?, ?step/s]\n"
     ]
    },
    {
     "name": "stdout",
     "output_type": "stream",
     "text": [
      "\n",
      "Running K-Means for Year Range: 2014-2017\n"
     ]
    },
    {
     "name": "stderr",
     "output_type": "stream",
     "text": [
      "Running K-means (k=4):   0%|          | 0/3 [00:00<?, ?step/s]"
     ]
    },
    {
     "name": "stdout",
     "output_type": "stream",
     "text": [
      "Runtime for k_means: 0.031204 seconds\n"
     ]
    },
    {
     "name": "stderr",
     "output_type": "stream",
     "text": [
      "Running K-means (k=4):   0%|          | 0/3 [00:01<?, ?step/s]\n",
      "Running K-means (k=5):   0%|          | 0/3 [00:00<?, ?step/s]"
     ]
    },
    {
     "name": "stdout",
     "output_type": "stream",
     "text": [
      "Runtime for k_means: 0.041760 seconds\n"
     ]
    },
    {
     "name": "stderr",
     "output_type": "stream",
     "text": [
      "Running K-means (k=5):   0%|          | 0/3 [00:01<?, ?step/s]\n",
      "Running K-means (k=6):   0%|          | 0/3 [00:00<?, ?step/s]"
     ]
    },
    {
     "name": "stdout",
     "output_type": "stream",
     "text": [
      "Runtime for k_means: 0.052628 seconds\n"
     ]
    },
    {
     "name": "stderr",
     "output_type": "stream",
     "text": [
      "Running K-means (k=6):   0%|          | 0/3 [00:01<?, ?step/s]\n",
      "Running K-means (k=7):   0%|          | 0/3 [00:00<?, ?step/s]"
     ]
    },
    {
     "name": "stdout",
     "output_type": "stream",
     "text": [
      "Runtime for k_means: 0.164122 seconds\n"
     ]
    },
    {
     "name": "stderr",
     "output_type": "stream",
     "text": [
      "Running K-means (k=7):   0%|          | 0/3 [00:01<?, ?step/s]\n"
     ]
    },
    {
     "name": "stdout",
     "output_type": "stream",
     "text": [
      "\n",
      "Running K-Means for Year Range: 2015-2018\n"
     ]
    },
    {
     "name": "stderr",
     "output_type": "stream",
     "text": [
      "Running K-means (k=4):   0%|          | 0/3 [00:00<?, ?step/s]"
     ]
    },
    {
     "name": "stdout",
     "output_type": "stream",
     "text": [
      "Runtime for k_means: 0.007782 seconds\n"
     ]
    },
    {
     "name": "stderr",
     "output_type": "stream",
     "text": [
      "Running K-means (k=4):   0%|          | 0/3 [00:02<?, ?step/s]\n",
      "Running K-means (k=5):   0%|          | 0/3 [00:00<?, ?step/s]"
     ]
    },
    {
     "name": "stdout",
     "output_type": "stream",
     "text": [
      "Runtime for k_means: 0.040375 seconds\n"
     ]
    },
    {
     "name": "stderr",
     "output_type": "stream",
     "text": [
      "Running K-means (k=5):   0%|          | 0/3 [00:02<?, ?step/s]\n",
      "Running K-means (k=6):   0%|          | 0/3 [00:00<?, ?step/s]"
     ]
    },
    {
     "name": "stdout",
     "output_type": "stream",
     "text": [
      "Runtime for k_means: 0.141520 seconds\n"
     ]
    },
    {
     "name": "stderr",
     "output_type": "stream",
     "text": [
      "Running K-means (k=6):   0%|          | 0/3 [00:02<?, ?step/s]\n",
      "Running K-means (k=7):   0%|          | 0/3 [00:00<?, ?step/s]"
     ]
    },
    {
     "name": "stdout",
     "output_type": "stream",
     "text": [
      "Runtime for k_means: 0.062780 seconds\n"
     ]
    },
    {
     "name": "stderr",
     "output_type": "stream",
     "text": [
      "Running K-means (k=7):   0%|          | 0/3 [00:02<?, ?step/s]\n"
     ]
    },
    {
     "name": "stdout",
     "output_type": "stream",
     "text": [
      "\n",
      "Running K-Means for Year Range: 2016-2019\n"
     ]
    },
    {
     "name": "stderr",
     "output_type": "stream",
     "text": [
      "Running K-means (k=4):   0%|          | 0/3 [00:00<?, ?step/s]"
     ]
    },
    {
     "name": "stdout",
     "output_type": "stream",
     "text": [
      "Runtime for k_means: 0.035077 seconds\n"
     ]
    },
    {
     "name": "stderr",
     "output_type": "stream",
     "text": [
      "Running K-means (k=4):   0%|          | 0/3 [00:02<?, ?step/s]\n",
      "Running K-means (k=5):   0%|          | 0/3 [00:00<?, ?step/s]"
     ]
    },
    {
     "name": "stdout",
     "output_type": "stream",
     "text": [
      "Runtime for k_means: 0.034774 seconds\n"
     ]
    },
    {
     "name": "stderr",
     "output_type": "stream",
     "text": [
      "Running K-means (k=5):   0%|          | 0/3 [00:02<?, ?step/s]\n",
      "Running K-means (k=6):   0%|          | 0/3 [00:00<?, ?step/s]"
     ]
    },
    {
     "name": "stdout",
     "output_type": "stream",
     "text": [
      "Runtime for k_means: 0.051080 seconds\n"
     ]
    },
    {
     "name": "stderr",
     "output_type": "stream",
     "text": [
      "Running K-means (k=6):   0%|          | 0/3 [00:02<?, ?step/s]\n",
      "Running K-means (k=7):   0%|          | 0/3 [00:00<?, ?step/s]"
     ]
    },
    {
     "name": "stdout",
     "output_type": "stream",
     "text": [
      "Runtime for k_means: 0.051493 seconds\n"
     ]
    },
    {
     "name": "stderr",
     "output_type": "stream",
     "text": [
      "Running K-means (k=7):   0%|          | 0/3 [00:02<?, ?step/s]\n"
     ]
    },
    {
     "name": "stdout",
     "output_type": "stream",
     "text": [
      "\n",
      "Running K-Means for Year Range: 2017-2020\n"
     ]
    },
    {
     "name": "stderr",
     "output_type": "stream",
     "text": [
      "Running K-means (k=4):   0%|          | 0/3 [00:00<?, ?step/s]"
     ]
    },
    {
     "name": "stdout",
     "output_type": "stream",
     "text": [
      "Runtime for k_means: 0.255472 seconds\n"
     ]
    },
    {
     "name": "stderr",
     "output_type": "stream",
     "text": [
      "Running K-means (k=4):   0%|          | 0/3 [00:04<?, ?step/s]\n",
      "Running K-means (k=5):   0%|          | 0/3 [00:00<?, ?step/s]"
     ]
    },
    {
     "name": "stdout",
     "output_type": "stream",
     "text": [
      "Runtime for k_means: 0.061325 seconds\n"
     ]
    },
    {
     "name": "stderr",
     "output_type": "stream",
     "text": [
      "Running K-means (k=5):   0%|          | 0/3 [00:03<?, ?step/s]\n",
      "Running K-means (k=6):   0%|          | 0/3 [00:00<?, ?step/s]"
     ]
    },
    {
     "name": "stdout",
     "output_type": "stream",
     "text": [
      "Runtime for k_means: 0.071283 seconds\n"
     ]
    },
    {
     "name": "stderr",
     "output_type": "stream",
     "text": [
      "Running K-means (k=6):   0%|          | 0/3 [00:03<?, ?step/s]\n",
      "Running K-means (k=7):   0%|          | 0/3 [00:00<?, ?step/s]"
     ]
    },
    {
     "name": "stdout",
     "output_type": "stream",
     "text": [
      "Runtime for k_means: 0.082338 seconds\n"
     ]
    },
    {
     "name": "stderr",
     "output_type": "stream",
     "text": [
      "Running K-means (k=7):   0%|          | 0/3 [00:03<?, ?step/s]\n"
     ]
    },
    {
     "name": "stdout",
     "output_type": "stream",
     "text": [
      "\n",
      "Running K-Means for Year Range: 2018-2021\n"
     ]
    },
    {
     "name": "stderr",
     "output_type": "stream",
     "text": [
      "Running K-means (k=4):   0%|          | 0/3 [00:00<?, ?step/s]"
     ]
    },
    {
     "name": "stdout",
     "output_type": "stream",
     "text": [
      "Runtime for k_means: 0.030688 seconds\n"
     ]
    },
    {
     "name": "stderr",
     "output_type": "stream",
     "text": [
      "Running K-means (k=4):   0%|          | 0/3 [00:03<?, ?step/s]\n",
      "Running K-means (k=5):   0%|          | 0/3 [00:00<?, ?step/s]"
     ]
    },
    {
     "name": "stdout",
     "output_type": "stream",
     "text": [
      "Runtime for k_means: 0.079862 seconds\n"
     ]
    },
    {
     "name": "stderr",
     "output_type": "stream",
     "text": [
      "Running K-means (k=5):   0%|          | 0/3 [00:03<?, ?step/s]\n",
      "Running K-means (k=6):   0%|          | 0/3 [00:00<?, ?step/s]"
     ]
    },
    {
     "name": "stdout",
     "output_type": "stream",
     "text": [
      "Runtime for k_means: 0.036128 seconds\n"
     ]
    },
    {
     "name": "stderr",
     "output_type": "stream",
     "text": [
      "Running K-means (k=6):   0%|          | 0/3 [00:04<?, ?step/s]\n",
      "Running K-means (k=7):   0%|          | 0/3 [00:00<?, ?step/s]"
     ]
    },
    {
     "name": "stdout",
     "output_type": "stream",
     "text": [
      "Runtime for k_means: 0.104435 seconds\n"
     ]
    },
    {
     "name": "stderr",
     "output_type": "stream",
     "text": [
      "Running K-means (k=7):   0%|          | 0/3 [00:04<?, ?step/s]\n"
     ]
    },
    {
     "name": "stdout",
     "output_type": "stream",
     "text": [
      "\n",
      "Running K-Means for Year Range: 2019-2022\n"
     ]
    },
    {
     "name": "stderr",
     "output_type": "stream",
     "text": [
      "Running K-means (k=4):   0%|          | 0/3 [00:00<?, ?step/s]"
     ]
    },
    {
     "name": "stdout",
     "output_type": "stream",
     "text": [
      "Runtime for k_means: 0.072077 seconds\n"
     ]
    },
    {
     "name": "stderr",
     "output_type": "stream",
     "text": [
      "Running K-means (k=4):   0%|          | 0/3 [00:05<?, ?step/s]\n",
      "Running K-means (k=5):   0%|          | 0/3 [00:00<?, ?step/s]"
     ]
    },
    {
     "name": "stdout",
     "output_type": "stream",
     "text": [
      "Runtime for k_means: 0.094844 seconds\n"
     ]
    },
    {
     "name": "stderr",
     "output_type": "stream",
     "text": [
      "Running K-means (k=5):   0%|          | 0/3 [00:05<?, ?step/s]\n",
      "Running K-means (k=6):   0%|          | 0/3 [00:00<?, ?step/s]"
     ]
    },
    {
     "name": "stdout",
     "output_type": "stream",
     "text": [
      "Runtime for k_means: 0.106972 seconds\n"
     ]
    },
    {
     "name": "stderr",
     "output_type": "stream",
     "text": [
      "Running K-means (k=6):   0%|          | 0/3 [00:05<?, ?step/s]\n",
      "Running K-means (k=7):   0%|          | 0/3 [00:00<?, ?step/s]"
     ]
    },
    {
     "name": "stdout",
     "output_type": "stream",
     "text": [
      "Runtime for k_means: 0.270365 seconds\n"
     ]
    },
    {
     "name": "stderr",
     "output_type": "stream",
     "text": [
      "Running K-means (k=7):   0%|          | 0/3 [00:05<?, ?step/s]\n"
     ]
    },
    {
     "name": "stdout",
     "output_type": "stream",
     "text": [
      "\n",
      "Running K-Means for Year Range: 2020-2023\n"
     ]
    },
    {
     "name": "stderr",
     "output_type": "stream",
     "text": [
      "Running K-means (k=4):   0%|          | 0/3 [00:00<?, ?step/s]"
     ]
    },
    {
     "name": "stdout",
     "output_type": "stream",
     "text": [
      "Runtime for k_means: 0.069606 seconds\n"
     ]
    },
    {
     "name": "stderr",
     "output_type": "stream",
     "text": [
      "Running K-means (k=4):   0%|          | 0/3 [00:04<?, ?step/s]\n",
      "Running K-means (k=5):   0%|          | 0/3 [00:00<?, ?step/s]"
     ]
    },
    {
     "name": "stdout",
     "output_type": "stream",
     "text": [
      "Runtime for k_means: 0.090151 seconds\n"
     ]
    },
    {
     "name": "stderr",
     "output_type": "stream",
     "text": [
      "Running K-means (k=5):   0%|          | 0/3 [00:05<?, ?step/s]\n",
      "Running K-means (k=6):   0%|          | 0/3 [00:00<?, ?step/s]"
     ]
    },
    {
     "name": "stdout",
     "output_type": "stream",
     "text": [
      "Runtime for k_means: 0.192793 seconds\n"
     ]
    },
    {
     "name": "stderr",
     "output_type": "stream",
     "text": [
      "Running K-means (k=6):   0%|          | 0/3 [00:04<?, ?step/s]\n",
      "Running K-means (k=7):   0%|          | 0/3 [00:00<?, ?step/s]"
     ]
    },
    {
     "name": "stdout",
     "output_type": "stream",
     "text": [
      "Runtime for k_means: 0.106535 seconds\n"
     ]
    },
    {
     "name": "stderr",
     "output_type": "stream",
     "text": [
      "Running K-means (k=7):   0%|          | 0/3 [00:04<?, ?step/s]\n"
     ]
    },
    {
     "name": "stdout",
     "output_type": "stream",
     "text": [
      "\n",
      "Running K-Means for Year Range: 2002-2006\n"
     ]
    },
    {
     "name": "stderr",
     "output_type": "stream",
     "text": [
      "Running K-means (k=4):   0%|          | 0/3 [00:00<?, ?step/s]"
     ]
    },
    {
     "name": "stdout",
     "output_type": "stream",
     "text": [
      "Runtime for k_means: 0.100855 seconds\n"
     ]
    },
    {
     "name": "stderr",
     "output_type": "stream",
     "text": [
      "Running K-means (k=4):   0%|          | 0/3 [00:26<?, ?step/s]\n",
      "Running K-means (k=5):   0%|          | 0/3 [00:00<?, ?step/s]"
     ]
    },
    {
     "name": "stdout",
     "output_type": "stream",
     "text": [
      "Runtime for k_means: 0.141879 seconds\n"
     ]
    },
    {
     "name": "stderr",
     "output_type": "stream",
     "text": [
      "Running K-means (k=5):   0%|          | 0/3 [00:14<?, ?step/s]\n",
      "Running K-means (k=6):   0%|          | 0/3 [00:00<?, ?step/s]"
     ]
    },
    {
     "name": "stdout",
     "output_type": "stream",
     "text": [
      "Runtime for k_means: 0.165009 seconds\n"
     ]
    },
    {
     "name": "stderr",
     "output_type": "stream",
     "text": [
      "Running K-means (k=6):   0%|          | 0/3 [00:11<?, ?step/s]\n",
      "Running K-means (k=7):   0%|          | 0/3 [00:00<?, ?step/s]"
     ]
    },
    {
     "name": "stdout",
     "output_type": "stream",
     "text": [
      "Runtime for k_means: 0.269779 seconds\n"
     ]
    },
    {
     "name": "stderr",
     "output_type": "stream",
     "text": [
      "Running K-means (k=7):   0%|          | 0/3 [00:15<?, ?step/s]\n"
     ]
    },
    {
     "name": "stdout",
     "output_type": "stream",
     "text": [
      "\n",
      "Running K-Means for Year Range: 2003-2007\n"
     ]
    },
    {
     "name": "stderr",
     "output_type": "stream",
     "text": [
      "Running K-means (k=4):   0%|          | 0/3 [00:00<?, ?step/s]"
     ]
    },
    {
     "name": "stdout",
     "output_type": "stream",
     "text": [
      "Runtime for k_means: 0.095599 seconds\n"
     ]
    },
    {
     "name": "stderr",
     "output_type": "stream",
     "text": [
      "Running K-means (k=4):   0%|          | 0/3 [00:23<?, ?step/s]\n",
      "Running K-means (k=5):   0%|          | 0/3 [00:00<?, ?step/s]"
     ]
    },
    {
     "name": "stdout",
     "output_type": "stream",
     "text": [
      "Runtime for k_means: 0.083622 seconds\n"
     ]
    },
    {
     "name": "stderr",
     "output_type": "stream",
     "text": [
      "Running K-means (k=5):   0%|          | 0/3 [00:13<?, ?step/s]\n",
      "Running K-means (k=6):   0%|          | 0/3 [00:00<?, ?step/s]"
     ]
    },
    {
     "name": "stdout",
     "output_type": "stream",
     "text": [
      "Runtime for k_means: 0.116432 seconds\n"
     ]
    },
    {
     "name": "stderr",
     "output_type": "stream",
     "text": [
      "Running K-means (k=6):   0%|          | 0/3 [00:12<?, ?step/s]\n",
      "Running K-means (k=7):   0%|          | 0/3 [00:00<?, ?step/s]"
     ]
    },
    {
     "name": "stdout",
     "output_type": "stream",
     "text": [
      "Runtime for k_means: 0.479282 seconds\n"
     ]
    },
    {
     "name": "stderr",
     "output_type": "stream",
     "text": [
      "Running K-means (k=7):   0%|          | 0/3 [00:13<?, ?step/s]\n"
     ]
    },
    {
     "name": "stdout",
     "output_type": "stream",
     "text": [
      "\n",
      "Running K-Means for Year Range: 2004-2008\n"
     ]
    },
    {
     "name": "stderr",
     "output_type": "stream",
     "text": [
      "Running K-means (k=4):   0%|          | 0/3 [00:00<?, ?step/s]"
     ]
    },
    {
     "name": "stdout",
     "output_type": "stream",
     "text": [
      "Runtime for k_means: 0.061996 seconds\n"
     ]
    },
    {
     "name": "stderr",
     "output_type": "stream",
     "text": [
      "Running K-means (k=4):   0%|          | 0/3 [00:09<?, ?step/s]\n",
      "Running K-means (k=5):   0%|          | 0/3 [00:00<?, ?step/s]"
     ]
    },
    {
     "name": "stdout",
     "output_type": "stream",
     "text": [
      "Runtime for k_means: 0.113886 seconds\n"
     ]
    },
    {
     "name": "stderr",
     "output_type": "stream",
     "text": [
      "Running K-means (k=5):   0%|          | 0/3 [00:09<?, ?step/s]\n",
      "Running K-means (k=6):   0%|          | 0/3 [00:00<?, ?step/s]"
     ]
    },
    {
     "name": "stdout",
     "output_type": "stream",
     "text": [
      "Runtime for k_means: 0.168474 seconds\n"
     ]
    },
    {
     "name": "stderr",
     "output_type": "stream",
     "text": [
      "Running K-means (k=6):   0%|          | 0/3 [00:10<?, ?step/s]\n",
      "Running K-means (k=7):   0%|          | 0/3 [00:00<?, ?step/s]"
     ]
    },
    {
     "name": "stdout",
     "output_type": "stream",
     "text": [
      "Runtime for k_means: 0.204463 seconds\n"
     ]
    },
    {
     "name": "stderr",
     "output_type": "stream",
     "text": [
      "Running K-means (k=7):   0%|          | 0/3 [00:10<?, ?step/s]\n"
     ]
    },
    {
     "name": "stdout",
     "output_type": "stream",
     "text": [
      "\n",
      "Running K-Means for Year Range: 2005-2009\n"
     ]
    },
    {
     "name": "stderr",
     "output_type": "stream",
     "text": [
      "Running K-means (k=4):   0%|          | 0/3 [00:00<?, ?step/s]"
     ]
    },
    {
     "name": "stdout",
     "output_type": "stream",
     "text": [
      "Runtime for k_means: 0.053648 seconds\n"
     ]
    },
    {
     "name": "stderr",
     "output_type": "stream",
     "text": [
      "Running K-means (k=4):   0%|          | 0/3 [00:11<?, ?step/s]\n",
      "Running K-means (k=5):   0%|          | 0/3 [00:00<?, ?step/s]"
     ]
    },
    {
     "name": "stdout",
     "output_type": "stream",
     "text": [
      "Runtime for k_means: 0.133277 seconds\n"
     ]
    },
    {
     "name": "stderr",
     "output_type": "stream",
     "text": [
      "Running K-means (k=5):   0%|          | 0/3 [00:10<?, ?step/s]\n",
      "Running K-means (k=6):   0%|          | 0/3 [00:00<?, ?step/s]"
     ]
    },
    {
     "name": "stdout",
     "output_type": "stream",
     "text": [
      "Runtime for k_means: 0.108033 seconds\n"
     ]
    },
    {
     "name": "stderr",
     "output_type": "stream",
     "text": [
      "Running K-means (k=6):   0%|          | 0/3 [00:10<?, ?step/s]\n",
      "Running K-means (k=7):   0%|          | 0/3 [00:00<?, ?step/s]"
     ]
    },
    {
     "name": "stdout",
     "output_type": "stream",
     "text": [
      "Runtime for k_means: 0.312779 seconds\n"
     ]
    },
    {
     "name": "stderr",
     "output_type": "stream",
     "text": [
      "Running K-means (k=7):   0%|          | 0/3 [00:11<?, ?step/s]\n"
     ]
    },
    {
     "name": "stdout",
     "output_type": "stream",
     "text": [
      "\n",
      "Running K-Means for Year Range: 2006-2010\n"
     ]
    },
    {
     "name": "stderr",
     "output_type": "stream",
     "text": [
      "Running K-means (k=4):   0%|          | 0/3 [00:00<?, ?step/s]"
     ]
    },
    {
     "name": "stdout",
     "output_type": "stream",
     "text": [
      "Runtime for k_means: 0.046002 seconds\n"
     ]
    },
    {
     "name": "stderr",
     "output_type": "stream",
     "text": [
      "Running K-means (k=4):   0%|          | 0/3 [00:09<?, ?step/s]\n",
      "Running K-means (k=5):   0%|          | 0/3 [00:00<?, ?step/s]"
     ]
    },
    {
     "name": "stdout",
     "output_type": "stream",
     "text": [
      "Runtime for k_means: 0.111454 seconds\n"
     ]
    },
    {
     "name": "stderr",
     "output_type": "stream",
     "text": [
      "Running K-means (k=5):   0%|          | 0/3 [00:08<?, ?step/s]\n",
      "Running K-means (k=6):   0%|          | 0/3 [00:00<?, ?step/s]"
     ]
    },
    {
     "name": "stdout",
     "output_type": "stream",
     "text": [
      "Runtime for k_means: 0.130185 seconds\n"
     ]
    },
    {
     "name": "stderr",
     "output_type": "stream",
     "text": [
      "Running K-means (k=6):   0%|          | 0/3 [00:08<?, ?step/s]\n",
      "Running K-means (k=7):   0%|          | 0/3 [00:00<?, ?step/s]"
     ]
    },
    {
     "name": "stdout",
     "output_type": "stream",
     "text": [
      "Runtime for k_means: 0.384303 seconds\n"
     ]
    },
    {
     "name": "stderr",
     "output_type": "stream",
     "text": [
      "Running K-means (k=7):   0%|          | 0/3 [00:09<?, ?step/s]\n"
     ]
    },
    {
     "name": "stdout",
     "output_type": "stream",
     "text": [
      "\n",
      "Running K-Means for Year Range: 2007-2011\n"
     ]
    },
    {
     "name": "stderr",
     "output_type": "stream",
     "text": [
      "Running K-means (k=4):   0%|          | 0/3 [00:00<?, ?step/s]"
     ]
    },
    {
     "name": "stdout",
     "output_type": "stream",
     "text": [
      "Runtime for k_means: 0.054723 seconds\n"
     ]
    },
    {
     "name": "stderr",
     "output_type": "stream",
     "text": [
      "Running K-means (k=4):   0%|          | 0/3 [00:05<?, ?step/s]\n",
      "Running K-means (k=5):   0%|          | 0/3 [00:00<?, ?step/s]"
     ]
    },
    {
     "name": "stdout",
     "output_type": "stream",
     "text": [
      "Runtime for k_means: 0.145430 seconds\n"
     ]
    },
    {
     "name": "stderr",
     "output_type": "stream",
     "text": [
      "Running K-means (k=5):   0%|          | 0/3 [00:05<?, ?step/s]\n",
      "Running K-means (k=6):   0%|          | 0/3 [00:00<?, ?step/s]"
     ]
    },
    {
     "name": "stdout",
     "output_type": "stream",
     "text": [
      "Runtime for k_means: 0.130280 seconds\n"
     ]
    },
    {
     "name": "stderr",
     "output_type": "stream",
     "text": [
      "Running K-means (k=6):   0%|          | 0/3 [00:09<?, ?step/s]\n",
      "Running K-means (k=7):   0%|          | 0/3 [00:00<?, ?step/s]"
     ]
    },
    {
     "name": "stdout",
     "output_type": "stream",
     "text": [
      "Runtime for k_means: 0.273474 seconds\n"
     ]
    },
    {
     "name": "stderr",
     "output_type": "stream",
     "text": [
      "Running K-means (k=7):   0%|          | 0/3 [00:05<?, ?step/s]\n"
     ]
    },
    {
     "name": "stdout",
     "output_type": "stream",
     "text": [
      "\n",
      "Running K-Means for Year Range: 2008-2012\n"
     ]
    },
    {
     "name": "stderr",
     "output_type": "stream",
     "text": [
      "Running K-means (k=4):   0%|          | 0/3 [00:00<?, ?step/s]"
     ]
    },
    {
     "name": "stdout",
     "output_type": "stream",
     "text": [
      "Runtime for k_means: 0.026963 seconds\n"
     ]
    },
    {
     "name": "stderr",
     "output_type": "stream",
     "text": [
      "Running K-means (k=4):   0%|          | 0/3 [00:02<?, ?step/s]\n",
      "Running K-means (k=5):   0%|          | 0/3 [00:00<?, ?step/s]"
     ]
    },
    {
     "name": "stdout",
     "output_type": "stream",
     "text": [
      "Runtime for k_means: 0.050647 seconds\n"
     ]
    },
    {
     "name": "stderr",
     "output_type": "stream",
     "text": [
      "Running K-means (k=5):   0%|          | 0/3 [00:02<?, ?step/s]\n",
      "Running K-means (k=6):   0%|          | 0/3 [00:00<?, ?step/s]"
     ]
    },
    {
     "name": "stdout",
     "output_type": "stream",
     "text": [
      "Runtime for k_means: 0.037916 seconds\n"
     ]
    },
    {
     "name": "stderr",
     "output_type": "stream",
     "text": [
      "Running K-means (k=6):   0%|          | 0/3 [00:02<?, ?step/s]\n",
      "Running K-means (k=7):   0%|          | 0/3 [00:00<?, ?step/s]"
     ]
    },
    {
     "name": "stdout",
     "output_type": "stream",
     "text": [
      "Runtime for k_means: 0.121527 seconds\n"
     ]
    },
    {
     "name": "stderr",
     "output_type": "stream",
     "text": [
      "Running K-means (k=7):   0%|          | 0/3 [00:02<?, ?step/s]\n"
     ]
    },
    {
     "name": "stdout",
     "output_type": "stream",
     "text": [
      "\n",
      "Running K-Means for Year Range: 2009-2013\n"
     ]
    },
    {
     "name": "stderr",
     "output_type": "stream",
     "text": [
      "Running K-means (k=4):   0%|          | 0/3 [00:00<?, ?step/s]"
     ]
    },
    {
     "name": "stdout",
     "output_type": "stream",
     "text": [
      "Runtime for k_means: 0.000000 seconds\n"
     ]
    },
    {
     "name": "stderr",
     "output_type": "stream",
     "text": [
      "Running K-means (k=4):   0%|          | 0/3 [00:02<?, ?step/s]\n",
      "Running K-means (k=5):   0%|          | 0/3 [00:00<?, ?step/s]"
     ]
    },
    {
     "name": "stdout",
     "output_type": "stream",
     "text": [
      "Runtime for k_means: 0.037800 seconds\n"
     ]
    },
    {
     "name": "stderr",
     "output_type": "stream",
     "text": [
      "Running K-means (k=5):   0%|          | 0/3 [00:02<?, ?step/s]\n",
      "Running K-means (k=6):   0%|          | 0/3 [00:00<?, ?step/s]"
     ]
    },
    {
     "name": "stdout",
     "output_type": "stream",
     "text": [
      "Runtime for k_means: 0.068523 seconds\n"
     ]
    },
    {
     "name": "stderr",
     "output_type": "stream",
     "text": [
      "Running K-means (k=6):   0%|          | 0/3 [00:02<?, ?step/s]\n",
      "Running K-means (k=7):   0%|          | 0/3 [00:00<?, ?step/s]"
     ]
    },
    {
     "name": "stdout",
     "output_type": "stream",
     "text": [
      "Runtime for k_means: 0.088170 seconds\n"
     ]
    },
    {
     "name": "stderr",
     "output_type": "stream",
     "text": [
      "Running K-means (k=7):   0%|          | 0/3 [00:02<?, ?step/s]\n"
     ]
    },
    {
     "name": "stdout",
     "output_type": "stream",
     "text": [
      "\n",
      "Running K-Means for Year Range: 2010-2014\n"
     ]
    },
    {
     "name": "stderr",
     "output_type": "stream",
     "text": [
      "Running K-means (k=4):   0%|          | 0/3 [00:00<?, ?step/s]"
     ]
    },
    {
     "name": "stdout",
     "output_type": "stream",
     "text": [
      "Runtime for k_means: 0.000000 seconds\n"
     ]
    },
    {
     "name": "stderr",
     "output_type": "stream",
     "text": [
      "Running K-means (k=4):   0%|          | 0/3 [00:00<?, ?step/s]\n",
      "Running K-means (k=5):   0%|          | 0/3 [00:00<?, ?step/s]"
     ]
    },
    {
     "name": "stdout",
     "output_type": "stream",
     "text": [
      "Runtime for k_means: 0.038535 seconds\n"
     ]
    },
    {
     "name": "stderr",
     "output_type": "stream",
     "text": [
      "Running K-means (k=5):   0%|          | 0/3 [00:00<?, ?step/s]\n",
      "Running K-means (k=6):   0%|          | 0/3 [00:00<?, ?step/s]"
     ]
    },
    {
     "name": "stdout",
     "output_type": "stream",
     "text": [
      "Runtime for k_means: 0.015736 seconds\n"
     ]
    },
    {
     "name": "stderr",
     "output_type": "stream",
     "text": [
      "Running K-means (k=6):   0%|          | 0/3 [00:00<?, ?step/s]\n",
      "Running K-means (k=7):   0%|          | 0/3 [00:00<?, ?step/s]"
     ]
    },
    {
     "name": "stdout",
     "output_type": "stream",
     "text": [
      "Runtime for k_means: 0.022051 seconds\n"
     ]
    },
    {
     "name": "stderr",
     "output_type": "stream",
     "text": [
      "Running K-means (k=7):   0%|          | 0/3 [00:00<?, ?step/s]\n"
     ]
    },
    {
     "name": "stdout",
     "output_type": "stream",
     "text": [
      "\n",
      "Running K-Means for Year Range: 2011-2015\n"
     ]
    },
    {
     "name": "stderr",
     "output_type": "stream",
     "text": [
      "Running K-means (k=4):   0%|          | 0/3 [00:00<?, ?step/s]"
     ]
    },
    {
     "name": "stdout",
     "output_type": "stream",
     "text": [
      "Runtime for k_means: 0.000000 seconds\n"
     ]
    },
    {
     "name": "stderr",
     "output_type": "stream",
     "text": [
      "Running K-means (k=4):   0%|          | 0/3 [00:00<?, ?step/s]\n",
      "Running K-means (k=5):   0%|          | 0/3 [00:00<?, ?step/s]"
     ]
    },
    {
     "name": "stdout",
     "output_type": "stream",
     "text": [
      "Runtime for k_means: 0.035089 seconds\n"
     ]
    },
    {
     "name": "stderr",
     "output_type": "stream",
     "text": [
      "Running K-means (k=5):   0%|          | 0/3 [00:00<?, ?step/s]\n",
      "Running K-means (k=6):   0%|          | 0/3 [00:00<?, ?step/s]"
     ]
    },
    {
     "name": "stdout",
     "output_type": "stream",
     "text": [
      "Runtime for k_means: 0.014533 seconds\n"
     ]
    },
    {
     "name": "stderr",
     "output_type": "stream",
     "text": [
      "Running K-means (k=6):   0%|          | 0/3 [00:00<?, ?step/s]\n",
      "Running K-means (k=7):   0%|          | 0/3 [00:00<?, ?step/s]"
     ]
    },
    {
     "name": "stdout",
     "output_type": "stream",
     "text": [
      "Runtime for k_means: 0.031458 seconds\n"
     ]
    },
    {
     "name": "stderr",
     "output_type": "stream",
     "text": [
      "Running K-means (k=7):   0%|          | 0/3 [00:00<?, ?step/s]\n"
     ]
    },
    {
     "name": "stdout",
     "output_type": "stream",
     "text": [
      "\n",
      "Running K-Means for Year Range: 2012-2016\n"
     ]
    },
    {
     "name": "stderr",
     "output_type": "stream",
     "text": [
      "Running K-means (k=4):   0%|          | 0/3 [00:00<?, ?step/s]"
     ]
    },
    {
     "name": "stdout",
     "output_type": "stream",
     "text": [
      "Runtime for k_means: 0.018993 seconds\n"
     ]
    },
    {
     "name": "stderr",
     "output_type": "stream",
     "text": [
      "Running K-means (k=4):   0%|          | 0/3 [00:00<?, ?step/s]\n",
      "Running K-means (k=5):   0%|          | 0/3 [00:00<?, ?step/s]"
     ]
    },
    {
     "name": "stdout",
     "output_type": "stream",
     "text": [
      "Runtime for k_means: 0.012481 seconds\n"
     ]
    },
    {
     "name": "stderr",
     "output_type": "stream",
     "text": [
      "Running K-means (k=5):   0%|          | 0/3 [00:00<?, ?step/s]\n",
      "Running K-means (k=6):   0%|          | 0/3 [00:00<?, ?step/s]"
     ]
    },
    {
     "name": "stdout",
     "output_type": "stream",
     "text": [
      "Runtime for k_means: 0.065167 seconds\n"
     ]
    },
    {
     "name": "stderr",
     "output_type": "stream",
     "text": [
      "Running K-means (k=6):   0%|          | 0/3 [00:00<?, ?step/s]\n",
      "Running K-means (k=7):   0%|          | 0/3 [00:00<?, ?step/s]"
     ]
    },
    {
     "name": "stdout",
     "output_type": "stream",
     "text": [
      "Runtime for k_means: 0.026401 seconds\n"
     ]
    },
    {
     "name": "stderr",
     "output_type": "stream",
     "text": [
      "Running K-means (k=7):   0%|          | 0/3 [00:00<?, ?step/s]\n"
     ]
    },
    {
     "name": "stdout",
     "output_type": "stream",
     "text": [
      "\n",
      "Running K-Means for Year Range: 2013-2017\n"
     ]
    },
    {
     "name": "stderr",
     "output_type": "stream",
     "text": [
      "Running K-means (k=4):   0%|          | 0/3 [00:00<?, ?step/s]"
     ]
    },
    {
     "name": "stdout",
     "output_type": "stream",
     "text": [
      "Runtime for k_means: 0.016109 seconds\n"
     ]
    },
    {
     "name": "stderr",
     "output_type": "stream",
     "text": [
      "Running K-means (k=4):   0%|          | 0/3 [00:00<?, ?step/s]\n",
      "Running K-means (k=5):   0%|          | 0/3 [00:00<?, ?step/s]"
     ]
    },
    {
     "name": "stdout",
     "output_type": "stream",
     "text": [
      "Runtime for k_means: 0.032725 seconds\n"
     ]
    },
    {
     "name": "stderr",
     "output_type": "stream",
     "text": [
      "Running K-means (k=5):   0%|          | 0/3 [00:00<?, ?step/s]\n",
      "Running K-means (k=6):   0%|          | 0/3 [00:00<?, ?step/s]"
     ]
    },
    {
     "name": "stdout",
     "output_type": "stream",
     "text": [
      "Runtime for k_means: 0.018169 seconds\n"
     ]
    },
    {
     "name": "stderr",
     "output_type": "stream",
     "text": [
      "Running K-means (k=6):   0%|          | 0/3 [00:00<?, ?step/s]\n",
      "Running K-means (k=7):   0%|          | 0/3 [00:00<?, ?step/s]"
     ]
    },
    {
     "name": "stdout",
     "output_type": "stream",
     "text": [
      "Runtime for k_means: 0.015662 seconds\n"
     ]
    },
    {
     "name": "stderr",
     "output_type": "stream",
     "text": [
      "Running K-means (k=7):   0%|          | 0/3 [00:00<?, ?step/s]\n"
     ]
    },
    {
     "name": "stdout",
     "output_type": "stream",
     "text": [
      "\n",
      "Running K-Means for Year Range: 2014-2018\n"
     ]
    },
    {
     "name": "stderr",
     "output_type": "stream",
     "text": [
      "Running K-means (k=4):   0%|          | 0/3 [00:00<?, ?step/s]"
     ]
    },
    {
     "name": "stdout",
     "output_type": "stream",
     "text": [
      "Runtime for k_means: 0.018760 seconds\n"
     ]
    },
    {
     "name": "stderr",
     "output_type": "stream",
     "text": [
      "Running K-means (k=4):   0%|          | 0/3 [00:01<?, ?step/s]\n",
      "Running K-means (k=5):   0%|          | 0/3 [00:00<?, ?step/s]"
     ]
    },
    {
     "name": "stdout",
     "output_type": "stream",
     "text": [
      "Runtime for k_means: 0.055285 seconds\n"
     ]
    },
    {
     "name": "stderr",
     "output_type": "stream",
     "text": [
      "Running K-means (k=5):   0%|          | 0/3 [00:01<?, ?step/s]\n",
      "Running K-means (k=6):   0%|          | 0/3 [00:00<?, ?step/s]"
     ]
    },
    {
     "name": "stdout",
     "output_type": "stream",
     "text": [
      "Runtime for k_means: 0.077020 seconds\n"
     ]
    },
    {
     "name": "stderr",
     "output_type": "stream",
     "text": [
      "Running K-means (k=6):   0%|          | 0/3 [00:01<?, ?step/s]\n",
      "Running K-means (k=7):   0%|          | 0/3 [00:00<?, ?step/s]"
     ]
    },
    {
     "name": "stdout",
     "output_type": "stream",
     "text": [
      "Runtime for k_means: 0.047596 seconds\n"
     ]
    },
    {
     "name": "stderr",
     "output_type": "stream",
     "text": [
      "Running K-means (k=7):   0%|          | 0/3 [00:01<?, ?step/s]\n"
     ]
    },
    {
     "name": "stdout",
     "output_type": "stream",
     "text": [
      "\n",
      "Running K-Means for Year Range: 2015-2019\n"
     ]
    },
    {
     "name": "stderr",
     "output_type": "stream",
     "text": [
      "Running K-means (k=4):   0%|          | 0/3 [00:00<?, ?step/s]"
     ]
    },
    {
     "name": "stdout",
     "output_type": "stream",
     "text": [
      "Runtime for k_means: 0.018227 seconds\n"
     ]
    },
    {
     "name": "stderr",
     "output_type": "stream",
     "text": [
      "Running K-means (k=4):   0%|          | 0/3 [00:01<?, ?step/s]\n",
      "Running K-means (k=5):   0%|          | 0/3 [00:00<?, ?step/s]"
     ]
    },
    {
     "name": "stdout",
     "output_type": "stream",
     "text": [
      "Runtime for k_means: 0.020848 seconds\n"
     ]
    },
    {
     "name": "stderr",
     "output_type": "stream",
     "text": [
      "Running K-means (k=5):   0%|          | 0/3 [00:01<?, ?step/s]\n",
      "Running K-means (k=6):   0%|          | 0/3 [00:00<?, ?step/s]"
     ]
    },
    {
     "name": "stdout",
     "output_type": "stream",
     "text": [
      "Runtime for k_means: 0.104170 seconds\n"
     ]
    },
    {
     "name": "stderr",
     "output_type": "stream",
     "text": [
      "Running K-means (k=6):   0%|          | 0/3 [00:01<?, ?step/s]\n",
      "Running K-means (k=7):   0%|          | 0/3 [00:00<?, ?step/s]"
     ]
    },
    {
     "name": "stdout",
     "output_type": "stream",
     "text": [
      "Runtime for k_means: 0.073651 seconds\n"
     ]
    },
    {
     "name": "stderr",
     "output_type": "stream",
     "text": [
      "Running K-means (k=7):   0%|          | 0/3 [00:01<?, ?step/s]\n"
     ]
    },
    {
     "name": "stdout",
     "output_type": "stream",
     "text": [
      "\n",
      "Running K-Means for Year Range: 2016-2020\n"
     ]
    },
    {
     "name": "stderr",
     "output_type": "stream",
     "text": [
      "Running K-means (k=4):   0%|          | 0/3 [00:00<?, ?step/s]"
     ]
    },
    {
     "name": "stdout",
     "output_type": "stream",
     "text": [
      "Runtime for k_means: 0.016149 seconds\n"
     ]
    },
    {
     "name": "stderr",
     "output_type": "stream",
     "text": [
      "Running K-means (k=4):   0%|          | 0/3 [00:02<?, ?step/s]\n",
      "Running K-means (k=5):   0%|          | 0/3 [00:00<?, ?step/s]"
     ]
    },
    {
     "name": "stdout",
     "output_type": "stream",
     "text": [
      "Runtime for k_means: 0.054755 seconds\n"
     ]
    },
    {
     "name": "stderr",
     "output_type": "stream",
     "text": [
      "Running K-means (k=5):   0%|          | 0/3 [00:02<?, ?step/s]\n",
      "Running K-means (k=6):   0%|          | 0/3 [00:00<?, ?step/s]"
     ]
    },
    {
     "name": "stdout",
     "output_type": "stream",
     "text": [
      "Runtime for k_means: 0.037600 seconds\n"
     ]
    },
    {
     "name": "stderr",
     "output_type": "stream",
     "text": [
      "Running K-means (k=6):   0%|          | 0/3 [00:02<?, ?step/s]\n",
      "Running K-means (k=7):   0%|          | 0/3 [00:00<?, ?step/s]"
     ]
    },
    {
     "name": "stdout",
     "output_type": "stream",
     "text": [
      "Runtime for k_means: 0.053327 seconds\n"
     ]
    },
    {
     "name": "stderr",
     "output_type": "stream",
     "text": [
      "Running K-means (k=7):   0%|          | 0/3 [00:02<?, ?step/s]\n"
     ]
    },
    {
     "name": "stdout",
     "output_type": "stream",
     "text": [
      "\n",
      "Running K-Means for Year Range: 2017-2021\n"
     ]
    },
    {
     "name": "stderr",
     "output_type": "stream",
     "text": [
      "Running K-means (k=4):   0%|          | 0/3 [00:00<?, ?step/s]"
     ]
    },
    {
     "name": "stdout",
     "output_type": "stream",
     "text": [
      "Runtime for k_means: 0.016734 seconds\n"
     ]
    },
    {
     "name": "stderr",
     "output_type": "stream",
     "text": [
      "Running K-means (k=4):   0%|          | 0/3 [00:02<?, ?step/s]\n",
      "Running K-means (k=5):   0%|          | 0/3 [00:00<?, ?step/s]"
     ]
    },
    {
     "name": "stdout",
     "output_type": "stream",
     "text": [
      "Runtime for k_means: 0.024108 seconds\n"
     ]
    },
    {
     "name": "stderr",
     "output_type": "stream",
     "text": [
      "Running K-means (k=5):   0%|          | 0/3 [00:02<?, ?step/s]\n",
      "Running K-means (k=6):   0%|          | 0/3 [00:00<?, ?step/s]"
     ]
    },
    {
     "name": "stdout",
     "output_type": "stream",
     "text": [
      "Runtime for k_means: 0.064189 seconds\n"
     ]
    },
    {
     "name": "stderr",
     "output_type": "stream",
     "text": [
      "Running K-means (k=6):   0%|          | 0/3 [00:02<?, ?step/s]\n",
      "Running K-means (k=7):   0%|          | 0/3 [00:00<?, ?step/s]"
     ]
    },
    {
     "name": "stdout",
     "output_type": "stream",
     "text": [
      "Runtime for k_means: 0.078176 seconds\n"
     ]
    },
    {
     "name": "stderr",
     "output_type": "stream",
     "text": [
      "Running K-means (k=7):   0%|          | 0/3 [00:02<?, ?step/s]\n"
     ]
    },
    {
     "name": "stdout",
     "output_type": "stream",
     "text": [
      "\n",
      "Running K-Means for Year Range: 2018-2022\n"
     ]
    },
    {
     "name": "stderr",
     "output_type": "stream",
     "text": [
      "Running K-means (k=4):   0%|          | 0/3 [00:00<?, ?step/s]"
     ]
    },
    {
     "name": "stdout",
     "output_type": "stream",
     "text": [
      "Runtime for k_means: 0.049092 seconds\n"
     ]
    },
    {
     "name": "stderr",
     "output_type": "stream",
     "text": [
      "Running K-means (k=4):   0%|          | 0/3 [00:02<?, ?step/s]\n",
      "Running K-means (k=5):   0%|          | 0/3 [00:00<?, ?step/s]"
     ]
    },
    {
     "name": "stdout",
     "output_type": "stream",
     "text": [
      "Runtime for k_means: 0.019869 seconds\n"
     ]
    },
    {
     "name": "stderr",
     "output_type": "stream",
     "text": [
      "Running K-means (k=5):   0%|          | 0/3 [00:02<?, ?step/s]\n",
      "Running K-means (k=6):   0%|          | 0/3 [00:00<?, ?step/s]"
     ]
    },
    {
     "name": "stdout",
     "output_type": "stream",
     "text": [
      "Runtime for k_means: 0.048286 seconds\n"
     ]
    },
    {
     "name": "stderr",
     "output_type": "stream",
     "text": [
      "Running K-means (k=6):   0%|          | 0/3 [00:02<?, ?step/s]\n",
      "Running K-means (k=7):   0%|          | 0/3 [00:00<?, ?step/s]"
     ]
    },
    {
     "name": "stdout",
     "output_type": "stream",
     "text": [
      "Runtime for k_means: 0.027587 seconds\n"
     ]
    },
    {
     "name": "stderr",
     "output_type": "stream",
     "text": [
      "Running K-means (k=7):   0%|          | 0/3 [00:01<?, ?step/s]\n"
     ]
    },
    {
     "name": "stdout",
     "output_type": "stream",
     "text": [
      "\n",
      "Running K-Means for Year Range: 2019-2023\n"
     ]
    },
    {
     "name": "stderr",
     "output_type": "stream",
     "text": [
      "Running K-means (k=4):   0%|          | 0/3 [00:00<?, ?step/s]"
     ]
    },
    {
     "name": "stdout",
     "output_type": "stream",
     "text": [
      "Runtime for k_means: 0.029912 seconds\n"
     ]
    },
    {
     "name": "stderr",
     "output_type": "stream",
     "text": [
      "Running K-means (k=4):   0%|          | 0/3 [00:02<?, ?step/s]\n",
      "Running K-means (k=5):   0%|          | 0/3 [00:00<?, ?step/s]"
     ]
    },
    {
     "name": "stdout",
     "output_type": "stream",
     "text": [
      "Runtime for k_means: 0.103029 seconds\n"
     ]
    },
    {
     "name": "stderr",
     "output_type": "stream",
     "text": [
      "Running K-means (k=5):   0%|          | 0/3 [00:02<?, ?step/s]\n",
      "Running K-means (k=6):   0%|          | 0/3 [00:00<?, ?step/s]"
     ]
    },
    {
     "name": "stdout",
     "output_type": "stream",
     "text": [
      "Runtime for k_means: 0.077048 seconds\n"
     ]
    },
    {
     "name": "stderr",
     "output_type": "stream",
     "text": [
      "Running K-means (k=6):   0%|          | 0/3 [00:02<?, ?step/s]\n",
      "Running K-means (k=7):   0%|          | 0/3 [00:00<?, ?step/s]"
     ]
    },
    {
     "name": "stdout",
     "output_type": "stream",
     "text": [
      "Runtime for k_means: 0.155247 seconds\n"
     ]
    },
    {
     "name": "stderr",
     "output_type": "stream",
     "text": [
      "Running K-means (k=7):   0%|          | 0/3 [00:02<?, ?step/s]\n"
     ]
    },
    {
     "name": "stdout",
     "output_type": "stream",
     "text": [
      "\n",
      "Running K-Means for Year Range: 2002-2007\n"
     ]
    },
    {
     "name": "stderr",
     "output_type": "stream",
     "text": [
      "Running K-means (k=4):   0%|          | 0/3 [00:00<?, ?step/s]"
     ]
    },
    {
     "name": "stdout",
     "output_type": "stream",
     "text": [
      "Runtime for k_means: 0.115706 seconds\n"
     ]
    },
    {
     "name": "stderr",
     "output_type": "stream",
     "text": [
      "Running K-means (k=4):   0%|          | 0/3 [00:18<?, ?step/s]\n",
      "Running K-means (k=5):   0%|          | 0/3 [00:00<?, ?step/s]"
     ]
    },
    {
     "name": "stdout",
     "output_type": "stream",
     "text": [
      "Runtime for k_means: 0.187266 seconds\n"
     ]
    },
    {
     "name": "stderr",
     "output_type": "stream",
     "text": [
      "Running K-means (k=5):   0%|          | 0/3 [00:18<?, ?step/s]\n",
      "Running K-means (k=6):   0%|          | 0/3 [00:00<?, ?step/s]"
     ]
    },
    {
     "name": "stdout",
     "output_type": "stream",
     "text": [
      "Runtime for k_means: 0.198252 seconds\n"
     ]
    },
    {
     "name": "stderr",
     "output_type": "stream",
     "text": [
      "Running K-means (k=6):   0%|          | 0/3 [00:17<?, ?step/s]\n",
      "Running K-means (k=7):   0%|          | 0/3 [00:00<?, ?step/s]"
     ]
    },
    {
     "name": "stdout",
     "output_type": "stream",
     "text": [
      "Runtime for k_means: 0.184003 seconds\n"
     ]
    },
    {
     "name": "stderr",
     "output_type": "stream",
     "text": [
      "Running K-means (k=7):   0%|          | 0/3 [00:17<?, ?step/s]\n"
     ]
    },
    {
     "name": "stdout",
     "output_type": "stream",
     "text": [
      "\n",
      "Running K-Means for Year Range: 2003-2008\n"
     ]
    },
    {
     "name": "stderr",
     "output_type": "stream",
     "text": [
      "Running K-means (k=4):   0%|          | 0/3 [00:00<?, ?step/s]"
     ]
    },
    {
     "name": "stdout",
     "output_type": "stream",
     "text": [
      "Runtime for k_means: 0.109591 seconds\n"
     ]
    },
    {
     "name": "stderr",
     "output_type": "stream",
     "text": [
      "Running K-means (k=4):   0%|          | 0/3 [00:15<?, ?step/s]\n",
      "Running K-means (k=5):   0%|          | 0/3 [00:00<?, ?step/s]"
     ]
    },
    {
     "name": "stdout",
     "output_type": "stream",
     "text": [
      "Runtime for k_means: 0.327348 seconds\n"
     ]
    },
    {
     "name": "stderr",
     "output_type": "stream",
     "text": [
      "Running K-means (k=5):   0%|          | 0/3 [00:20<?, ?step/s]\n",
      "Running K-means (k=6):   0%|          | 0/3 [00:00<?, ?step/s]"
     ]
    },
    {
     "name": "stdout",
     "output_type": "stream",
     "text": [
      "Runtime for k_means: 0.425752 seconds\n"
     ]
    },
    {
     "name": "stderr",
     "output_type": "stream",
     "text": [
      "Running K-means (k=6):   0%|          | 0/3 [00:34<?, ?step/s]\n",
      "Running K-means (k=7):   0%|          | 0/3 [00:00<?, ?step/s]"
     ]
    },
    {
     "name": "stdout",
     "output_type": "stream",
     "text": [
      "Runtime for k_means: 0.673328 seconds\n"
     ]
    },
    {
     "name": "stderr",
     "output_type": "stream",
     "text": [
      "Running K-means (k=7):   0%|          | 0/3 [00:23<?, ?step/s]\n"
     ]
    },
    {
     "name": "stdout",
     "output_type": "stream",
     "text": [
      "\n",
      "Running K-Means for Year Range: 2004-2009\n"
     ]
    },
    {
     "name": "stderr",
     "output_type": "stream",
     "text": [
      "Running K-means (k=4):   0%|          | 0/3 [00:00<?, ?step/s]"
     ]
    },
    {
     "name": "stdout",
     "output_type": "stream",
     "text": [
      "Runtime for k_means: 0.105825 seconds\n"
     ]
    },
    {
     "name": "stderr",
     "output_type": "stream",
     "text": [
      "Running K-means (k=4):   0%|          | 0/3 [00:15<?, ?step/s]\n",
      "Running K-means (k=5):   0%|          | 0/3 [00:00<?, ?step/s]"
     ]
    },
    {
     "name": "stdout",
     "output_type": "stream",
     "text": [
      "Runtime for k_means: 0.067970 seconds\n"
     ]
    },
    {
     "name": "stderr",
     "output_type": "stream",
     "text": [
      "Running K-means (k=5):   0%|          | 0/3 [00:15<?, ?step/s]\n",
      "Running K-means (k=6):   0%|          | 0/3 [00:00<?, ?step/s]"
     ]
    },
    {
     "name": "stdout",
     "output_type": "stream",
     "text": [
      "Runtime for k_means: 0.182258 seconds\n"
     ]
    },
    {
     "name": "stderr",
     "output_type": "stream",
     "text": [
      "Running K-means (k=6):   0%|          | 0/3 [00:16<?, ?step/s]\n",
      "Running K-means (k=7):   0%|          | 0/3 [00:00<?, ?step/s]"
     ]
    },
    {
     "name": "stdout",
     "output_type": "stream",
     "text": [
      "Runtime for k_means: 0.177520 seconds\n"
     ]
    },
    {
     "name": "stderr",
     "output_type": "stream",
     "text": [
      "Running K-means (k=7):   0%|          | 0/3 [00:15<?, ?step/s]\n"
     ]
    },
    {
     "name": "stdout",
     "output_type": "stream",
     "text": [
      "\n",
      "Running K-Means for Year Range: 2005-2010\n"
     ]
    },
    {
     "name": "stderr",
     "output_type": "stream",
     "text": [
      "Running K-means (k=4):   0%|          | 0/3 [00:00<?, ?step/s]"
     ]
    },
    {
     "name": "stdout",
     "output_type": "stream",
     "text": [
      "Runtime for k_means: 0.049251 seconds\n"
     ]
    },
    {
     "name": "stderr",
     "output_type": "stream",
     "text": [
      "Running K-means (k=4):   0%|          | 0/3 [00:15<?, ?step/s]\n",
      "Running K-means (k=5):   0%|          | 0/3 [00:00<?, ?step/s]"
     ]
    },
    {
     "name": "stdout",
     "output_type": "stream",
     "text": [
      "Runtime for k_means: 0.222950 seconds\n"
     ]
    },
    {
     "name": "stderr",
     "output_type": "stream",
     "text": [
      "Running K-means (k=5):   0%|          | 0/3 [00:16<?, ?step/s]\n",
      "Running K-means (k=6):   0%|          | 0/3 [00:00<?, ?step/s]"
     ]
    },
    {
     "name": "stdout",
     "output_type": "stream",
     "text": [
      "Runtime for k_means: 0.167510 seconds\n"
     ]
    },
    {
     "name": "stderr",
     "output_type": "stream",
     "text": [
      "Running K-means (k=6):   0%|          | 0/3 [00:14<?, ?step/s]\n",
      "Running K-means (k=7):   0%|          | 0/3 [00:00<?, ?step/s]"
     ]
    },
    {
     "name": "stdout",
     "output_type": "stream",
     "text": [
      "Runtime for k_means: 0.235613 seconds\n"
     ]
    },
    {
     "name": "stderr",
     "output_type": "stream",
     "text": [
      "Running K-means (k=7):   0%|          | 0/3 [00:13<?, ?step/s]\n"
     ]
    },
    {
     "name": "stdout",
     "output_type": "stream",
     "text": [
      "\n",
      "Running K-Means for Year Range: 2006-2011\n"
     ]
    },
    {
     "name": "stderr",
     "output_type": "stream",
     "text": [
      "Running K-means (k=4):   0%|          | 0/3 [00:00<?, ?step/s]"
     ]
    },
    {
     "name": "stdout",
     "output_type": "stream",
     "text": [
      "Runtime for k_means: 0.049993 seconds\n"
     ]
    },
    {
     "name": "stderr",
     "output_type": "stream",
     "text": [
      "Running K-means (k=4):   0%|          | 0/3 [00:23<?, ?step/s]\n",
      "Running K-means (k=5):   0%|          | 0/3 [00:00<?, ?step/s]"
     ]
    },
    {
     "name": "stdout",
     "output_type": "stream",
     "text": [
      "Runtime for k_means: 0.127770 seconds\n"
     ]
    },
    {
     "name": "stderr",
     "output_type": "stream",
     "text": [
      "Running K-means (k=5):   0%|          | 0/3 [00:29<?, ?step/s]\n",
      "Running K-means (k=6):   0%|          | 0/3 [00:00<?, ?step/s]"
     ]
    },
    {
     "name": "stdout",
     "output_type": "stream",
     "text": [
      "Runtime for k_means: 0.280309 seconds\n"
     ]
    },
    {
     "name": "stderr",
     "output_type": "stream",
     "text": [
      "Running K-means (k=6):   0%|          | 0/3 [00:21<?, ?step/s]\n",
      "Running K-means (k=7):   0%|          | 0/3 [00:00<?, ?step/s]"
     ]
    },
    {
     "name": "stdout",
     "output_type": "stream",
     "text": [
      "Runtime for k_means: 0.166831 seconds\n"
     ]
    },
    {
     "name": "stderr",
     "output_type": "stream",
     "text": [
      "Running K-means (k=7):   0%|          | 0/3 [00:24<?, ?step/s]\n"
     ]
    },
    {
     "name": "stdout",
     "output_type": "stream",
     "text": [
      "\n",
      "Running K-Means for Year Range: 2007-2012\n"
     ]
    },
    {
     "name": "stderr",
     "output_type": "stream",
     "text": [
      "Running K-means (k=4):   0%|          | 0/3 [00:00<?, ?step/s]"
     ]
    },
    {
     "name": "stdout",
     "output_type": "stream",
     "text": [
      "Runtime for k_means: 0.118024 seconds\n"
     ]
    },
    {
     "name": "stderr",
     "output_type": "stream",
     "text": [
      "Running K-means (k=4):   0%|          | 0/3 [00:15<?, ?step/s]\n",
      "Running K-means (k=5):   0%|          | 0/3 [00:00<?, ?step/s]"
     ]
    },
    {
     "name": "stdout",
     "output_type": "stream",
     "text": [
      "Runtime for k_means: 0.076145 seconds\n"
     ]
    },
    {
     "name": "stderr",
     "output_type": "stream",
     "text": [
      "Running K-means (k=5):   0%|          | 0/3 [00:13<?, ?step/s]\n",
      "Running K-means (k=6):   0%|          | 0/3 [00:00<?, ?step/s]"
     ]
    },
    {
     "name": "stdout",
     "output_type": "stream",
     "text": [
      "Runtime for k_means: 0.089859 seconds\n"
     ]
    },
    {
     "name": "stderr",
     "output_type": "stream",
     "text": [
      "Running K-means (k=6):   0%|          | 0/3 [00:14<?, ?step/s]\n",
      "Running K-means (k=7):   0%|          | 0/3 [00:00<?, ?step/s]"
     ]
    },
    {
     "name": "stdout",
     "output_type": "stream",
     "text": [
      "Runtime for k_means: 0.206661 seconds\n"
     ]
    },
    {
     "name": "stderr",
     "output_type": "stream",
     "text": [
      "Running K-means (k=7):   0%|          | 0/3 [00:09<?, ?step/s]\n"
     ]
    },
    {
     "name": "stdout",
     "output_type": "stream",
     "text": [
      "\n",
      "Running K-Means for Year Range: 2008-2013\n"
     ]
    },
    {
     "name": "stderr",
     "output_type": "stream",
     "text": [
      "Running K-means (k=4):   0%|          | 0/3 [00:00<?, ?step/s]"
     ]
    },
    {
     "name": "stdout",
     "output_type": "stream",
     "text": [
      "Runtime for k_means: 0.041100 seconds\n"
     ]
    },
    {
     "name": "stderr",
     "output_type": "stream",
     "text": [
      "Running K-means (k=4):   0%|          | 0/3 [00:02<?, ?step/s]\n",
      "Running K-means (k=5):   0%|          | 0/3 [00:00<?, ?step/s]"
     ]
    },
    {
     "name": "stdout",
     "output_type": "stream",
     "text": [
      "Runtime for k_means: 0.023735 seconds\n"
     ]
    },
    {
     "name": "stderr",
     "output_type": "stream",
     "text": [
      "Running K-means (k=5):   0%|          | 0/3 [00:02<?, ?step/s]\n",
      "Running K-means (k=6):   0%|          | 0/3 [00:00<?, ?step/s]"
     ]
    },
    {
     "name": "stdout",
     "output_type": "stream",
     "text": [
      "Runtime for k_means: 0.070687 seconds\n"
     ]
    },
    {
     "name": "stderr",
     "output_type": "stream",
     "text": [
      "Running K-means (k=6):   0%|          | 0/3 [00:03<?, ?step/s]\n",
      "Running K-means (k=7):   0%|          | 0/3 [00:00<?, ?step/s]"
     ]
    },
    {
     "name": "stdout",
     "output_type": "stream",
     "text": [
      "Runtime for k_means: 0.124487 seconds\n"
     ]
    },
    {
     "name": "stderr",
     "output_type": "stream",
     "text": [
      "Running K-means (k=7):   0%|          | 0/3 [00:02<?, ?step/s]\n"
     ]
    },
    {
     "name": "stdout",
     "output_type": "stream",
     "text": [
      "\n",
      "Running K-Means for Year Range: 2009-2014\n"
     ]
    },
    {
     "name": "stderr",
     "output_type": "stream",
     "text": [
      "Running K-means (k=4):   0%|          | 0/3 [00:00<?, ?step/s]"
     ]
    },
    {
     "name": "stdout",
     "output_type": "stream",
     "text": [
      "Runtime for k_means: 0.057896 seconds\n"
     ]
    },
    {
     "name": "stderr",
     "output_type": "stream",
     "text": [
      "Running K-means (k=4):   0%|          | 0/3 [00:02<?, ?step/s]\n",
      "Running K-means (k=5):   0%|          | 0/3 [00:00<?, ?step/s]"
     ]
    },
    {
     "name": "stdout",
     "output_type": "stream",
     "text": [
      "Runtime for k_means: 0.036565 seconds\n"
     ]
    },
    {
     "name": "stderr",
     "output_type": "stream",
     "text": [
      "Running K-means (k=5):   0%|          | 0/3 [00:06<?, ?step/s]\n",
      "Running K-means (k=6):   0%|          | 0/3 [00:00<?, ?step/s]"
     ]
    },
    {
     "name": "stdout",
     "output_type": "stream",
     "text": [
      "Runtime for k_means: 0.366813 seconds\n"
     ]
    },
    {
     "name": "stderr",
     "output_type": "stream",
     "text": [
      "Running K-means (k=6):   0%|          | 0/3 [00:10<?, ?step/s]\n",
      "Running K-means (k=7):   0%|          | 0/3 [00:00<?, ?step/s]"
     ]
    },
    {
     "name": "stdout",
     "output_type": "stream",
     "text": [
      "Runtime for k_means: 0.102611 seconds\n"
     ]
    },
    {
     "name": "stderr",
     "output_type": "stream",
     "text": [
      "Running K-means (k=7):   0%|          | 0/3 [00:09<?, ?step/s]\n"
     ]
    },
    {
     "name": "stdout",
     "output_type": "stream",
     "text": [
      "\n",
      "Running K-Means for Year Range: 2010-2015\n"
     ]
    },
    {
     "name": "stderr",
     "output_type": "stream",
     "text": [
      "Running K-means (k=4):   0%|          | 0/3 [00:00<?, ?step/s]"
     ]
    },
    {
     "name": "stdout",
     "output_type": "stream",
     "text": [
      "Runtime for k_means: 0.030999 seconds\n"
     ]
    },
    {
     "name": "stderr",
     "output_type": "stream",
     "text": [
      "Running K-means (k=4):   0%|          | 0/3 [00:02<?, ?step/s]\n",
      "Running K-means (k=5):   0%|          | 0/3 [00:00<?, ?step/s]"
     ]
    },
    {
     "name": "stdout",
     "output_type": "stream",
     "text": [
      "Runtime for k_means: 0.087479 seconds\n"
     ]
    },
    {
     "name": "stderr",
     "output_type": "stream",
     "text": [
      "Running K-means (k=5):   0%|          | 0/3 [00:02<?, ?step/s]\n",
      "Running K-means (k=6):   0%|          | 0/3 [00:00<?, ?step/s]"
     ]
    },
    {
     "name": "stdout",
     "output_type": "stream",
     "text": [
      "Runtime for k_means: 0.064291 seconds\n"
     ]
    },
    {
     "name": "stderr",
     "output_type": "stream",
     "text": [
      "Running K-means (k=6):   0%|          | 0/3 [00:02<?, ?step/s]\n",
      "Running K-means (k=7):   0%|          | 0/3 [00:00<?, ?step/s]"
     ]
    },
    {
     "name": "stdout",
     "output_type": "stream",
     "text": [
      "Runtime for k_means: 0.128538 seconds\n"
     ]
    },
    {
     "name": "stderr",
     "output_type": "stream",
     "text": [
      "Running K-means (k=7):   0%|          | 0/3 [00:03<?, ?step/s]\n"
     ]
    },
    {
     "name": "stdout",
     "output_type": "stream",
     "text": [
      "\n",
      "Running K-Means for Year Range: 2011-2016\n"
     ]
    },
    {
     "name": "stderr",
     "output_type": "stream",
     "text": [
      "Running K-means (k=4):   0%|          | 0/3 [00:00<?, ?step/s]"
     ]
    },
    {
     "name": "stdout",
     "output_type": "stream",
     "text": [
      "Runtime for k_means: 0.145158 seconds\n"
     ]
    },
    {
     "name": "stderr",
     "output_type": "stream",
     "text": [
      "Running K-means (k=4):   0%|          | 0/3 [00:02<?, ?step/s]\n",
      "Running K-means (k=5):   0%|          | 0/3 [00:00<?, ?step/s]"
     ]
    },
    {
     "name": "stdout",
     "output_type": "stream",
     "text": [
      "Runtime for k_means: 0.036089 seconds\n"
     ]
    },
    {
     "name": "stderr",
     "output_type": "stream",
     "text": [
      "Running K-means (k=5):   0%|          | 0/3 [00:02<?, ?step/s]\n",
      "Running K-means (k=6):   0%|          | 0/3 [00:00<?, ?step/s]"
     ]
    },
    {
     "name": "stdout",
     "output_type": "stream",
     "text": [
      "Runtime for k_means: 0.057688 seconds\n"
     ]
    },
    {
     "name": "stderr",
     "output_type": "stream",
     "text": [
      "Running K-means (k=6):   0%|          | 0/3 [00:02<?, ?step/s]\n",
      "Running K-means (k=7):   0%|          | 0/3 [00:00<?, ?step/s]"
     ]
    },
    {
     "name": "stdout",
     "output_type": "stream",
     "text": [
      "Runtime for k_means: 0.099781 seconds\n"
     ]
    },
    {
     "name": "stderr",
     "output_type": "stream",
     "text": [
      "Running K-means (k=7):   0%|          | 0/3 [00:02<?, ?step/s]\n"
     ]
    },
    {
     "name": "stdout",
     "output_type": "stream",
     "text": [
      "\n",
      "Running K-Means for Year Range: 2012-2017\n"
     ]
    },
    {
     "name": "stderr",
     "output_type": "stream",
     "text": [
      "Running K-means (k=4):   0%|          | 0/3 [00:00<?, ?step/s]"
     ]
    },
    {
     "name": "stdout",
     "output_type": "stream",
     "text": [
      "Runtime for k_means: 0.019453 seconds\n"
     ]
    },
    {
     "name": "stderr",
     "output_type": "stream",
     "text": [
      "Running K-means (k=4):   0%|          | 0/3 [00:02<?, ?step/s]\n",
      "Running K-means (k=5):   0%|          | 0/3 [00:00<?, ?step/s]"
     ]
    },
    {
     "name": "stdout",
     "output_type": "stream",
     "text": [
      "Runtime for k_means: 0.044832 seconds\n"
     ]
    },
    {
     "name": "stderr",
     "output_type": "stream",
     "text": [
      "Running K-means (k=5):   0%|          | 0/3 [00:02<?, ?step/s]\n",
      "Running K-means (k=6):   0%|          | 0/3 [00:00<?, ?step/s]"
     ]
    },
    {
     "name": "stdout",
     "output_type": "stream",
     "text": [
      "Runtime for k_means: 0.064671 seconds\n"
     ]
    },
    {
     "name": "stderr",
     "output_type": "stream",
     "text": [
      "Running K-means (k=6):   0%|          | 0/3 [00:02<?, ?step/s]\n",
      "Running K-means (k=7):   0%|          | 0/3 [00:00<?, ?step/s]"
     ]
    },
    {
     "name": "stdout",
     "output_type": "stream",
     "text": [
      "Runtime for k_means: 0.074905 seconds\n"
     ]
    },
    {
     "name": "stderr",
     "output_type": "stream",
     "text": [
      "Running K-means (k=7):   0%|          | 0/3 [00:02<?, ?step/s]\n"
     ]
    },
    {
     "name": "stdout",
     "output_type": "stream",
     "text": [
      "\n",
      "Running K-Means for Year Range: 2013-2018\n"
     ]
    },
    {
     "name": "stderr",
     "output_type": "stream",
     "text": [
      "Running K-means (k=4):   0%|          | 0/3 [00:00<?, ?step/s]"
     ]
    },
    {
     "name": "stdout",
     "output_type": "stream",
     "text": [
      "Runtime for k_means: 0.025843 seconds\n"
     ]
    },
    {
     "name": "stderr",
     "output_type": "stream",
     "text": [
      "Running K-means (k=4):   0%|          | 0/3 [00:04<?, ?step/s]\n",
      "Running K-means (k=5):   0%|          | 0/3 [00:00<?, ?step/s]"
     ]
    },
    {
     "name": "stdout",
     "output_type": "stream",
     "text": [
      "Runtime for k_means: 0.117234 seconds\n"
     ]
    },
    {
     "name": "stderr",
     "output_type": "stream",
     "text": [
      "Running K-means (k=5):   0%|          | 0/3 [00:03<?, ?step/s]\n",
      "Running K-means (k=6):   0%|          | 0/3 [00:00<?, ?step/s]"
     ]
    },
    {
     "name": "stdout",
     "output_type": "stream",
     "text": [
      "Runtime for k_means: 0.063873 seconds\n"
     ]
    },
    {
     "name": "stderr",
     "output_type": "stream",
     "text": [
      "Running K-means (k=6):   0%|          | 0/3 [00:03<?, ?step/s]\n",
      "Running K-means (k=7):   0%|          | 0/3 [00:00<?, ?step/s]"
     ]
    },
    {
     "name": "stdout",
     "output_type": "stream",
     "text": [
      "Runtime for k_means: 0.142498 seconds\n"
     ]
    },
    {
     "name": "stderr",
     "output_type": "stream",
     "text": [
      "Running K-means (k=7):   0%|          | 0/3 [00:03<?, ?step/s]\n"
     ]
    },
    {
     "name": "stdout",
     "output_type": "stream",
     "text": [
      "\n",
      "Running K-Means for Year Range: 2014-2019\n"
     ]
    },
    {
     "name": "stderr",
     "output_type": "stream",
     "text": [
      "Running K-means (k=4):   0%|          | 0/3 [00:00<?, ?step/s]"
     ]
    },
    {
     "name": "stdout",
     "output_type": "stream",
     "text": [
      "Runtime for k_means: 0.051648 seconds\n"
     ]
    },
    {
     "name": "stderr",
     "output_type": "stream",
     "text": [
      "Running K-means (k=4):   0%|          | 0/3 [00:05<?, ?step/s]\n",
      "Running K-means (k=5):   0%|          | 0/3 [00:00<?, ?step/s]"
     ]
    },
    {
     "name": "stdout",
     "output_type": "stream",
     "text": [
      "Runtime for k_means: 0.058908 seconds\n"
     ]
    },
    {
     "name": "stderr",
     "output_type": "stream",
     "text": [
      "Running K-means (k=5):   0%|          | 0/3 [00:05<?, ?step/s]\n",
      "Running K-means (k=6):   0%|          | 0/3 [00:00<?, ?step/s]"
     ]
    },
    {
     "name": "stdout",
     "output_type": "stream",
     "text": [
      "Runtime for k_means: 0.050999 seconds\n"
     ]
    },
    {
     "name": "stderr",
     "output_type": "stream",
     "text": [
      "Running K-means (k=6):   0%|          | 0/3 [00:05<?, ?step/s]\n",
      "Running K-means (k=7):   0%|          | 0/3 [00:00<?, ?step/s]"
     ]
    },
    {
     "name": "stdout",
     "output_type": "stream",
     "text": [
      "Runtime for k_means: 0.088282 seconds\n"
     ]
    },
    {
     "name": "stderr",
     "output_type": "stream",
     "text": [
      "Running K-means (k=7):   0%|          | 0/3 [00:04<?, ?step/s]\n"
     ]
    },
    {
     "name": "stdout",
     "output_type": "stream",
     "text": [
      "\n",
      "Running K-Means for Year Range: 2015-2020\n"
     ]
    },
    {
     "name": "stderr",
     "output_type": "stream",
     "text": [
      "Running K-means (k=4):   0%|          | 0/3 [00:00<?, ?step/s]"
     ]
    },
    {
     "name": "stdout",
     "output_type": "stream",
     "text": [
      "Runtime for k_means: 0.031230 seconds\n"
     ]
    },
    {
     "name": "stderr",
     "output_type": "stream",
     "text": [
      "Running K-means (k=4):   0%|          | 0/3 [00:06<?, ?step/s]\n",
      "Running K-means (k=5):   0%|          | 0/3 [00:00<?, ?step/s]"
     ]
    },
    {
     "name": "stdout",
     "output_type": "stream",
     "text": [
      "Runtime for k_means: 0.137727 seconds\n"
     ]
    },
    {
     "name": "stderr",
     "output_type": "stream",
     "text": [
      "Running K-means (k=5):   0%|          | 0/3 [00:05<?, ?step/s]\n",
      "Running K-means (k=6):   0%|          | 0/3 [00:00<?, ?step/s]"
     ]
    },
    {
     "name": "stdout",
     "output_type": "stream",
     "text": [
      "Runtime for k_means: 0.308294 seconds\n"
     ]
    },
    {
     "name": "stderr",
     "output_type": "stream",
     "text": [
      "Running K-means (k=6):   0%|          | 0/3 [00:05<?, ?step/s]\n",
      "Running K-means (k=7):   0%|          | 0/3 [00:00<?, ?step/s]"
     ]
    },
    {
     "name": "stdout",
     "output_type": "stream",
     "text": [
      "Runtime for k_means: 0.059484 seconds\n"
     ]
    },
    {
     "name": "stderr",
     "output_type": "stream",
     "text": [
      "Running K-means (k=7):   0%|          | 0/3 [00:03<?, ?step/s]\n"
     ]
    },
    {
     "name": "stdout",
     "output_type": "stream",
     "text": [
      "\n",
      "Running K-Means for Year Range: 2016-2021\n"
     ]
    },
    {
     "name": "stderr",
     "output_type": "stream",
     "text": [
      "Running K-means (k=4):   0%|          | 0/3 [00:00<?, ?step/s]"
     ]
    },
    {
     "name": "stdout",
     "output_type": "stream",
     "text": [
      "Runtime for k_means: 0.030800 seconds\n"
     ]
    },
    {
     "name": "stderr",
     "output_type": "stream",
     "text": [
      "Running K-means (k=4):   0%|          | 0/3 [00:03<?, ?step/s]\n",
      "Running K-means (k=5):   0%|          | 0/3 [00:00<?, ?step/s]"
     ]
    },
    {
     "name": "stdout",
     "output_type": "stream",
     "text": [
      "Runtime for k_means: 0.034140 seconds\n"
     ]
    },
    {
     "name": "stderr",
     "output_type": "stream",
     "text": [
      "Running K-means (k=5):   0%|          | 0/3 [00:02<?, ?step/s]\n",
      "Running K-means (k=6):   0%|          | 0/3 [00:00<?, ?step/s]"
     ]
    },
    {
     "name": "stdout",
     "output_type": "stream",
     "text": [
      "Runtime for k_means: 0.081364 seconds\n"
     ]
    },
    {
     "name": "stderr",
     "output_type": "stream",
     "text": [
      "Running K-means (k=6):   0%|          | 0/3 [00:02<?, ?step/s]\n",
      "Running K-means (k=7):   0%|          | 0/3 [00:00<?, ?step/s]"
     ]
    },
    {
     "name": "stdout",
     "output_type": "stream",
     "text": [
      "Runtime for k_means: 0.138158 seconds\n"
     ]
    },
    {
     "name": "stderr",
     "output_type": "stream",
     "text": [
      "Running K-means (k=7):   0%|          | 0/3 [00:02<?, ?step/s]\n"
     ]
    },
    {
     "name": "stdout",
     "output_type": "stream",
     "text": [
      "\n",
      "Running K-Means for Year Range: 2017-2022\n"
     ]
    },
    {
     "name": "stderr",
     "output_type": "stream",
     "text": [
      "Running K-means (k=4):   0%|          | 0/3 [00:00<?, ?step/s]"
     ]
    },
    {
     "name": "stdout",
     "output_type": "stream",
     "text": [
      "Runtime for k_means: 0.018775 seconds\n"
     ]
    },
    {
     "name": "stderr",
     "output_type": "stream",
     "text": [
      "Running K-means (k=4):   0%|          | 0/3 [00:03<?, ?step/s]\n",
      "Running K-means (k=5):   0%|          | 0/3 [00:00<?, ?step/s]"
     ]
    },
    {
     "name": "stdout",
     "output_type": "stream",
     "text": [
      "Runtime for k_means: 0.188036 seconds\n"
     ]
    },
    {
     "name": "stderr",
     "output_type": "stream",
     "text": [
      "Running K-means (k=5):   0%|          | 0/3 [00:03<?, ?step/s]\n",
      "Running K-means (k=6):   0%|          | 0/3 [00:00<?, ?step/s]"
     ]
    },
    {
     "name": "stdout",
     "output_type": "stream",
     "text": [
      "Runtime for k_means: 0.064703 seconds\n"
     ]
    },
    {
     "name": "stderr",
     "output_type": "stream",
     "text": [
      "Running K-means (k=6):   0%|          | 0/3 [00:06<?, ?step/s]\n",
      "Running K-means (k=7):   0%|          | 0/3 [00:00<?, ?step/s]"
     ]
    },
    {
     "name": "stdout",
     "output_type": "stream",
     "text": [
      "Runtime for k_means: 0.176706 seconds\n"
     ]
    },
    {
     "name": "stderr",
     "output_type": "stream",
     "text": [
      "Running K-means (k=7):   0%|          | 0/3 [00:07<?, ?step/s]\n"
     ]
    },
    {
     "name": "stdout",
     "output_type": "stream",
     "text": [
      "\n",
      "Running K-Means for Year Range: 2018-2023\n"
     ]
    },
    {
     "name": "stderr",
     "output_type": "stream",
     "text": [
      "Running K-means (k=4):   0%|          | 0/3 [00:00<?, ?step/s]"
     ]
    },
    {
     "name": "stdout",
     "output_type": "stream",
     "text": [
      "Runtime for k_means: 0.051683 seconds\n"
     ]
    },
    {
     "name": "stderr",
     "output_type": "stream",
     "text": [
      "Running K-means (k=4):   0%|          | 0/3 [00:05<?, ?step/s]\n",
      "Running K-means (k=5):   0%|          | 0/3 [00:00<?, ?step/s]"
     ]
    },
    {
     "name": "stdout",
     "output_type": "stream",
     "text": [
      "Runtime for k_means: 0.050048 seconds\n"
     ]
    },
    {
     "name": "stderr",
     "output_type": "stream",
     "text": [
      "Running K-means (k=5):   0%|          | 0/3 [00:05<?, ?step/s]\n",
      "Running K-means (k=6):   0%|          | 0/3 [00:00<?, ?step/s]"
     ]
    },
    {
     "name": "stdout",
     "output_type": "stream",
     "text": [
      "Runtime for k_means: 0.133374 seconds\n"
     ]
    },
    {
     "name": "stderr",
     "output_type": "stream",
     "text": [
      "Running K-means (k=6):   0%|          | 0/3 [00:04<?, ?step/s]\n",
      "Running K-means (k=7):   0%|          | 0/3 [00:00<?, ?step/s]"
     ]
    },
    {
     "name": "stdout",
     "output_type": "stream",
     "text": [
      "Runtime for k_means: 0.153189 seconds\n"
     ]
    },
    {
     "name": "stderr",
     "output_type": "stream",
     "text": [
      "Running K-means (k=7):   0%|          | 0/3 [00:05<?, ?step/s]\n"
     ]
    },
    {
     "ename": "TypeError",
     "evalue": "plot_scores_for_different_binnings() missing 1 required positional argument: 'store_dir'",
     "output_type": "error",
     "traceback": [
      "\u001b[1;31m---------------------------------------------------------------------------\u001b[0m",
      "\u001b[1;31mTypeError\u001b[0m                                 Traceback (most recent call last)",
      "Cell \u001b[1;32mIn[1], line 58\u001b[0m\n\u001b[0;32m     55\u001b[0m             array_of_yearranges\u001b[38;5;241m.\u001b[39mappend(year_range) \n\u001b[0;32m     57\u001b[0m \u001b[38;5;28mdir\u001b[39m \u001b[38;5;241m=\u001b[39m plot_dir\n\u001b[1;32m---> 58\u001b[0m scores\u001b[38;5;241m.\u001b[39mplot_scores_for_different_binnings(array_of_metrics, array_of_yearranges, \u001b[38;5;28mdir\u001b[39m)\n",
      "\u001b[1;31mTypeError\u001b[0m: plot_scores_for_different_binnings() missing 1 required positional argument: 'store_dir'"
     ]
    }
   ],
   "source": [
    "import cluster_data\n",
    "from cluster_data import run_clustering, normalize_data, unnormalize, generate_running_year_ranges, bin_data_for_clustering\n",
    "import numpy as np\n",
    "import pandas as pd\n",
    "import os\n",
    "from kmeans import k_means\n",
    "from cluster_plotter import ClusterPlotter\n",
    "from clustering_utils import ClusterData\n",
    "import cluster_plotter\n",
    "import scores\n",
    "\n",
    "array_of_metrics = []\n",
    "array_of_yearranges = []\n",
    "\n",
    "bins = [3, 4, 5, 6]\n",
    "k_values = [5, 6, 7]  # Define once\n",
    "\n",
    "# Output directory for plots\n",
    "plot_dir = \"Images/binning_width_kmeans\"\n",
    "os.makedirs(plot_dir, exist_ok=True)\n",
    "cluster_plotter.clear_directory(plot_dir)\n",
    "\n",
    "for b in bins:\n",
    "    running_ranges = generate_running_year_ranges(2002, 2023, b)\n",
    "    binned_data = bin_data_for_clustering(running_ranges, print_res=False)\n",
    "\n",
    "    for cluster_data, year_range in binned_data:\n",
    "        print(f\"\\nRunning K-Means for Year Range: {year_range}\")\n",
    "\n",
    "        data_array = np.array([cluster_data.inc, cluster_data.raan]).T\n",
    "        normalized_data, data_min, data_max = normalize_data(data_array)\n",
    "\n",
    "        for k in k_values:\n",
    "            result_kmeans, time_kmeans, n_clusters_kmeans, points_per_cluster_kmeans, metrics_kmeans = run_clustering(\n",
    "                k_means, f\"K-means (k={k})\", normalized_data, data_min, data_max, k, plot=False, init='kmeans++'\n",
    "            )\n",
    "\n",
    "            unnormalized_data, cluster_centers = unnormalize(\n",
    "                result_kmeans.data, result_kmeans.cluster_centers, data_min, data_max\n",
    "            )\n",
    "            #plotter = ClusterPlotter(unnormalized_data, result_kmeans.labels, cluster_centers)\n",
    "            #plot_filename = os.path.join(plot_dir, f\"kmeans_{year_range}_k{k}.png\")\n",
    "            #title = f\"k-Means: years = {year_range}, k = {k}\"\n",
    "            #plotter.clusters_2d_plot(title, plot_filename)\n",
    "\n",
    "            # Ensure metrics_kmeans has enough elements before accessing indices\n",
    "            if len(metrics_kmeans) >= 7:\n",
    "                rounded_cluster_std = {key: tuple(round(val, 3) for val in value) for key, value in metrics_kmeans[4].items()}\n",
    "                rounded_square_density = {key: round(value, 3) for key, value in metrics_kmeans[5].items()}\n",
    "                rounded_hull_density = {key: round(value, 3) for key, value in metrics_kmeans[6].items()}\n",
    "            else:\n",
    "                rounded_cluster_std = rounded_square_density = rounded_hull_density = None\n",
    "\n",
    "            array_of_metrics.append(metrics_kmeans[:4])  \n",
    "            array_of_yearranges.append(year_range) \n",
    "\n",
    "dir = plot_dir\n",
    "scores.plot_scores_for_different_binnings(array_of_metrics, array_of_yearranges, dir)\n"
   ]
  },
  {
   "cell_type": "code",
   "execution_count": null,
   "metadata": {},
   "outputs": [],
   "source": [
    "import numpy as np\n",
    "import os\n",
    "import matplotlib.pyplot as plt\n",
    "import matplotlib.pyplot as plt\n",
    "import os\n",
    "import numpy as np\n",
    "from matplotlib.cm import get_cmap\n",
    "\n",
    "def plot_scores_for_different_binnings(array_of_metrics, array_of_yearranges, array_of_binwidths, store_dir):\n",
    "    score_names = [\"Davies-Bouldin\", \"Calinski-Harabasz\", \"Dunn Index\", \"Silhouette Score\"]\n",
    "    os.makedirs(store_dir, exist_ok=True)\n",
    "\n",
    "    # Prepare data structure: score -> list of (year label, score value, bin width)\n",
    "    metrics_per_score = {score: [] for score in score_names}\n",
    "    \n",
    "    for metrics, year_range, binwidth in zip(array_of_metrics, array_of_yearranges, array_of_binwidths):\n",
    "        label = f\"{year_range[0]}–{year_range[-1]}\"\n",
    "        for i, score in enumerate(score_names):\n",
    "            if metrics[i] is not None:\n",
    "                metrics_per_score[score].append((label, metrics[i], binwidth))\n",
    "\n",
    "    # Get distinct bin widths and assign colors\n",
    "    unique_binwidths = sorted(set(array_of_binwidths))\n",
    "    color_map = get_cmap(\"tab10\")\n",
    "    binwidth_colors = {bw: color_map(i) for i, bw in enumerate(unique_binwidths)}\n",
    "\n",
    "    # Plot for each score\n",
    "    for score in score_names:\n",
    "        plt.figure(figsize=(12, 6))\n",
    "        \n",
    "        entries = metrics_per_score[score]\n",
    "        x_labels = [e[0] for e in entries]\n",
    "        y_vals = [e[1] for e in entries]\n",
    "        binwidths = [e[2] for e in entries]\n",
    "        x_pos = np.arange(len(x_labels))\n",
    "\n",
    "        # Plot each point with color by binwidth\n",
    "        for i, (x, y, bw) in enumerate(zip(x_pos, y_vals, binwidths)):\n",
    "            plt.scatter(x, y, color=binwidth_colors[bw], label=f\"{bw} years\" if x == x_pos[0] else \"\", s=60)\n",
    "\n",
    "        plt.xlabel(\"Year Range\")\n",
    "        plt.ylabel(score)\n",
    "        plt.title(f\"{score} for Different Binning Widths\")\n",
    "        plt.xticks(x_pos, x_labels, rotation=45)\n",
    "        plt.grid()\n",
    "\n",
    "        # Show legend once per bin width\n",
    "        handles = []\n",
    "        labels_seen = set()\n",
    "        for bw in binwidths:\n",
    "            if bw not in labels_seen:\n",
    "                handles.append(plt.Line2D([], [], marker='o', color='w', label=f\"{bw} years\",\n",
    "                                          markerfacecolor=binwidth_colors[bw], markersize=10))\n",
    "                labels_seen.add(bw)\n",
    "        plt.legend(handles=handles, title=\"Binning Width\")\n",
    "\n",
    "        plot_path = os.path.join(store_dir, f\"{score.replace(' ', '_').lower()}_binnings.png\")\n",
    "        plt.savefig(plot_path, dpi=300, bbox_inches=\"tight\")\n",
    "        plt.close()\n",
    "\n",
    "    print(f\"Colored comparison plots saved in: {store_dir}\")\n",
    "\n",
    "\n",
    "\n",
    "array_of_binwidths = [3, 4, 5, 3, 7]\n",
    "\n",
    "# Fake year ranges\n",
    "fake_year_ranges1 = [np.arange(start, start+4) for start in [2002, 2006, 2010, 2014, 2018]]\n",
    "fake_year_ranges2 = [np.arange(start, start+3) for start in [2002, 2005, 2008, 2011, 2015]]\n",
    "fake_year_ranges3 = [np.arange(start, start+2) for start in [2002, 2004, 2006, 2008, 2010]]\n",
    "\n",
    "fake_year_ranges = fake_year_ranges1 + fake_year_ranges2 + fake_year_ranges3\n",
    "\n",
    "# Fake metric values: [DB, CH, Dunn, Silhouette]\n",
    "np.random.seed(42)\n",
    "fake_metrics = [\n",
    "    [round(np.random.uniform(0.5, 2.0), 3),   # DB\n",
    "     round(np.random.uniform(100, 500), 3),   # CH\n",
    "     round(np.random.uniform(0.1, 0.5), 3),   # Dunn\n",
    "     round(np.random.uniform(0.3, 0.8), 3), \n",
    "     round(np.random.uniform(0.5, 2.0), 3),   # DB\n",
    "     round(np.random.uniform(100, 500), 3),   # CH\n",
    "     round(np.random.uniform(0.1, 0.5), 3),   # Dunn\n",
    "     round(np.random.uniform(0.3, 0.8), 3), \n",
    "     round(np.random.uniform(0.5, 2.0), 3),   # DB\n",
    "     round(np.random.uniform(100, 500), 3),   # CH\n",
    "     round(np.random.uniform(0.1, 0.5), 3),   # Dunn\n",
    "     round(np.random.uniform(0.3, 0.8), 3)]   # Silhouette\n",
    "    for _ in fake_year_ranges\n",
    "]\n",
    "\n",
    "plot_scores_for_different_binnings(array_of_metrics, array_of_yearranges, array_of_binwidths, \"Images/fake_score_plots\")\n"
   ]
  },
  {
   "cell_type": "markdown",
   "metadata": {},
   "source": [
    "## Different binning widths DBSCAN"
   ]
  },
  {
   "cell_type": "code",
   "execution_count": null,
   "metadata": {},
   "outputs": [],
   "source": [
    "import cluster_data\n",
    "from cluster_data import run_clustering, normalize_data, unnormalize, generate_running_year_ranges, bin_data_for_clustering\n",
    "import numpy as np\n",
    "import pandas as pd\n",
    "import os\n",
    "from DBSCAN import dbscan_clustering\n",
    "from cluster_plotter import ClusterPlotter\n",
    "from clustering_utils import ClusterData\n",
    "import cluster_plotter\n",
    "import scores\n",
    "\n",
    "array_of_metrics = []\n",
    "array_of_yearranges = []\n",
    "\n",
    "bins = [3, 4, 5, 6]\n",
    "eps_vals =  [0.02, 0.01, 0.015]\n",
    "min_samples_vals = [10, 20, 30]\n",
    "\n",
    "# Output directory for plots\n",
    "plot_dir = \"Images/binning_width_dbscan\"\n",
    "os.makedirs(plot_dir, exist_ok=True)\n",
    "cluster_plotter.clear_directory(plot_dir)\n",
    "\n",
    "for b in bins:\n",
    "    running_ranges = generate_running_year_ranges(2002, 2023, b)\n",
    "    binned_data = bin_data_for_clustering(running_ranges, print_res=False)\n",
    "\n",
    "    for cluster_data, year_range in binned_data:\n",
    "        print(f\"\\nRunning DBSCAN for Year Range: {year_range}\")\n",
    "\n",
    "        data_array = np.array([cluster_data.inc, cluster_data.raan]).T\n",
    "        normalized_data, data_min, data_max = normalize_data(data_array)\n",
    "\n",
    "        for eps in eps_vals: \n",
    "            for min in min_samples_vals:\n",
    "                result_dbscan, time_dbscan, n_clusters_dbscan, points_per_cluster_dbscan, metrics_dbscan = run_clustering(\n",
    "                    dbscan_clustering, f\"DBSCAN, eps: {eps}, min_samples {min}\", normalized_data, data_min, data_max, eps, min, plot=False,\n",
    "                )\n",
    "\n",
    "                unnormalized_data, cluster_centers = unnormalize(\n",
    "                    result_dbscan.data, result_dbscan.cluster_centers, data_min, data_max\n",
    "                )\n",
    "\n",
    "                # Ensure metrics_kmeans has enough elements before accessing indices\n",
    "                if len(metrics_dbscan) >= 7:\n",
    "                    rounded_cluster_std = {key: tuple(round(val, 3) for val in value) for key, value in metrics_dbscan[4].items()}\n",
    "                    rounded_square_density = {key: round(value, 3) for key, value in metrics_dbscan[5].items()}\n",
    "                    rounded_hull_density = {key: round(value, 3) for key, value in metrics_dbscan[6].items()}\n",
    "                else:\n",
    "                    rounded_cluster_std = rounded_square_density = rounded_hull_density = None\n",
    "\n",
    "                array_of_metrics.append(metrics_dbscan[:4])  \n",
    "                array_of_yearranges.append(year_range) \n",
    "\n",
    "dir = plot_dir\n",
    "scores.plot_scores_for_different_binnings(array_of_metrics, array_of_yearranges, dir)"
   ]
  }
 ],
 "metadata": {
  "kernelspec": {
   "display_name": "base",
   "language": "python",
   "name": "python3"
  },
  "language_info": {
   "codemirror_mode": {
    "name": "ipython",
    "version": 3
   },
   "file_extension": ".py",
   "mimetype": "text/x-python",
   "name": "python",
   "nbconvert_exporter": "python",
   "pygments_lexer": "ipython3",
   "version": "3.12.3"
  }
 },
 "nbformat": 4,
 "nbformat_minor": 2
}
