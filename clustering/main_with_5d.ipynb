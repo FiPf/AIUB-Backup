{
 "cells": [
  {
   "cell_type": "markdown",
   "id": "bf651ce6",
   "metadata": {},
   "source": [
    "# KMeans"
   ]
  },
  {
   "cell_type": "code",
   "execution_count": 6,
   "id": "5dc8c8c2",
   "metadata": {},
   "outputs": [
    {
     "name": "stdout",
     "output_type": "stream",
     "text": [
      "\n",
      "Running K-Means for Year Range: 2002-2005\n",
      "Runtime for k_means: 0.016027 seconds\n"
     ]
    },
    {
     "name": "stderr",
     "output_type": "stream",
     "text": [
      "c:\\Users\\fionu\\OneDrive\\Dokumente\\Daten Fiona\\AIUB\\Code\\AIUB-Backup\\clustering\\high_dim_analysis.py:138: FutureWarning: \n",
      "\n",
      "Passing `palette` without assigning `hue` is deprecated and will be removed in v0.14.0. Assign the `y` variable to `hue` and set `legend=False` for the same effect.\n",
      "\n",
      "  sns.barplot(x=mi_vals, y=features, palette=\"magma\")\n"
     ]
    },
    {
     "name": "stdout",
     "output_type": "stream",
     "text": [
      "Runtime for k_means: 0.035876 seconds\n"
     ]
    },
    {
     "name": "stderr",
     "output_type": "stream",
     "text": [
      "c:\\Users\\fionu\\OneDrive\\Dokumente\\Daten Fiona\\AIUB\\Code\\AIUB-Backup\\clustering\\high_dim_analysis.py:138: FutureWarning: \n",
      "\n",
      "Passing `palette` without assigning `hue` is deprecated and will be removed in v0.14.0. Assign the `y` variable to `hue` and set `legend=False` for the same effect.\n",
      "\n",
      "  sns.barplot(x=mi_vals, y=features, palette=\"magma\")\n"
     ]
    },
    {
     "name": "stdout",
     "output_type": "stream",
     "text": [
      "Runtime for k_means: 0.043093 seconds\n"
     ]
    },
    {
     "name": "stderr",
     "output_type": "stream",
     "text": [
      "c:\\Users\\fionu\\OneDrive\\Dokumente\\Daten Fiona\\AIUB\\Code\\AIUB-Backup\\clustering\\high_dim_analysis.py:138: FutureWarning: \n",
      "\n",
      "Passing `palette` without assigning `hue` is deprecated and will be removed in v0.14.0. Assign the `y` variable to `hue` and set `legend=False` for the same effect.\n",
      "\n",
      "  sns.barplot(x=mi_vals, y=features, palette=\"magma\")\n"
     ]
    },
    {
     "name": "stdout",
     "output_type": "stream",
     "text": [
      "Runtime for k_means: 0.040143 seconds\n"
     ]
    },
    {
     "name": "stderr",
     "output_type": "stream",
     "text": [
      "c:\\Users\\fionu\\OneDrive\\Dokumente\\Daten Fiona\\AIUB\\Code\\AIUB-Backup\\clustering\\high_dim_analysis.py:138: FutureWarning: \n",
      "\n",
      "Passing `palette` without assigning `hue` is deprecated and will be removed in v0.14.0. Assign the `y` variable to `hue` and set `legend=False` for the same effect.\n",
      "\n",
      "  sns.barplot(x=mi_vals, y=features, palette=\"magma\")\n"
     ]
    },
    {
     "name": "stdout",
     "output_type": "stream",
     "text": [
      "Runtime for k_means: 0.078865 seconds\n"
     ]
    },
    {
     "name": "stderr",
     "output_type": "stream",
     "text": [
      "c:\\Users\\fionu\\OneDrive\\Dokumente\\Daten Fiona\\AIUB\\Code\\AIUB-Backup\\clustering\\high_dim_analysis.py:138: FutureWarning: \n",
      "\n",
      "Passing `palette` without assigning `hue` is deprecated and will be removed in v0.14.0. Assign the `y` variable to `hue` and set `legend=False` for the same effect.\n",
      "\n",
      "  sns.barplot(x=mi_vals, y=features, palette=\"magma\")\n"
     ]
    },
    {
     "name": "stdout",
     "output_type": "stream",
     "text": [
      "Runtime for k_means: 0.000000 seconds\n",
      "Best KMeans parameters based on ANOVA F-value:\n",
      "Year Range                              2002-2005\n",
      "k                                               3\n",
      "Runtime (s)                                 0.016\n",
      "Clusters                                        3\n",
      "Points per Cluster    {0: 1354, 1: 4365, 2: 2318}\n",
      "Davies-Bouldin                               None\n",
      "Calinski-Harabasz                            None\n",
      "Dunn Index                                   None\n",
      "Silhouette Score                             None\n",
      "Mean ANOVA F                              24616.4\n",
      "Name: 0, dtype: object\n"
     ]
    },
    {
     "name": "stderr",
     "output_type": "stream",
     "text": [
      "c:\\Users\\fionu\\OneDrive\\Dokumente\\Daten Fiona\\AIUB\\Code\\AIUB-Backup\\clustering\\high_dim_analysis.py:42: FutureWarning: \n",
      "\n",
      "Passing `palette` without assigning `hue` is deprecated and will be removed in v0.14.0. Assign the `y` variable to `hue` and set `legend=False` for the same effect.\n",
      "\n",
      "  sns.barplot(x=f_vals, y=features, palette=\"crest\")\n"
     ]
    },
    {
     "data": {
      "application/vnd.microsoft.datawrangler.viewer.v0+json": {
       "columns": [
        {
         "name": "index",
         "rawType": "int64",
         "type": "integer"
        },
        {
         "name": "Year Range",
         "rawType": "object",
         "type": "string"
        },
        {
         "name": "k",
         "rawType": "int64",
         "type": "integer"
        },
        {
         "name": "Runtime (s)",
         "rawType": "object",
         "type": "string"
        },
        {
         "name": "Clusters",
         "rawType": "int64",
         "type": "integer"
        },
        {
         "name": "Points per Cluster",
         "rawType": "object",
         "type": "unknown"
        },
        {
         "name": "Davies-Bouldin",
         "rawType": "object",
         "type": "unknown"
        },
        {
         "name": "Calinski-Harabasz",
         "rawType": "object",
         "type": "unknown"
        },
        {
         "name": "Dunn Index",
         "rawType": "object",
         "type": "unknown"
        },
        {
         "name": "Silhouette Score",
         "rawType": "object",
         "type": "unknown"
        },
        {
         "name": "Mean ANOVA F",
         "rawType": "float64",
         "type": "float"
        }
       ],
       "ref": "d6c62db4-be0f-48e6-822e-c11826f43bbf",
       "rows": [
        [
         "0",
         "2002-2005",
         "3",
         "0.016",
         "3",
         "{0: 1354, 1: 4365, 2: 2318}",
         null,
         null,
         null,
         null,
         "24616.4"
        ],
        [
         "1",
         "2002-2005",
         "4",
         "0.036",
         "4",
         "{0: 4363, 1: 1597, 2: 1001, 3: 1076}",
         null,
         null,
         null,
         null,
         "17694.073"
        ],
        [
         "2",
         "2002-2005",
         "5",
         "0.043",
         "5",
         "{0: 4159, 1: 220, 2: 1593, 3: 988, 4: 1077}",
         null,
         null,
         null,
         null,
         "14687.552"
        ],
        [
         "3",
         "2002-2005",
         "6",
         "0.040",
         "6",
         "{0: 2965, 1: 1542, 2: 988, 3: 1405, 4: 1026, 5: 111}",
         null,
         null,
         null,
         null,
         "11767.6"
        ],
        [
         "4",
         "2002-2005",
         "7",
         "0.079",
         "7",
         "{0: 111, 1: 101, 2: 1541, 3: 1025, 4: 984, 5: 2874, 6: 1401}",
         null,
         null,
         null,
         null,
         "10384.926"
        ]
       ],
       "shape": {
        "columns": 10,
        "rows": 5
       }
      },
      "text/html": [
       "<div>\n",
       "<style scoped>\n",
       "    .dataframe tbody tr th:only-of-type {\n",
       "        vertical-align: middle;\n",
       "    }\n",
       "\n",
       "    .dataframe tbody tr th {\n",
       "        vertical-align: top;\n",
       "    }\n",
       "\n",
       "    .dataframe thead th {\n",
       "        text-align: right;\n",
       "    }\n",
       "</style>\n",
       "<table border=\"1\" class=\"dataframe\">\n",
       "  <thead>\n",
       "    <tr style=\"text-align: right;\">\n",
       "      <th></th>\n",
       "      <th>Year Range</th>\n",
       "      <th>k</th>\n",
       "      <th>Runtime (s)</th>\n",
       "      <th>Clusters</th>\n",
       "      <th>Points per Cluster</th>\n",
       "      <th>Davies-Bouldin</th>\n",
       "      <th>Calinski-Harabasz</th>\n",
       "      <th>Dunn Index</th>\n",
       "      <th>Silhouette Score</th>\n",
       "      <th>Mean ANOVA F</th>\n",
       "    </tr>\n",
       "  </thead>\n",
       "  <tbody>\n",
       "    <tr>\n",
       "      <th>0</th>\n",
       "      <td>2002-2005</td>\n",
       "      <td>3</td>\n",
       "      <td>0.016</td>\n",
       "      <td>3</td>\n",
       "      <td>{0: 1354, 1: 4365, 2: 2318}</td>\n",
       "      <td>None</td>\n",
       "      <td>None</td>\n",
       "      <td>None</td>\n",
       "      <td>None</td>\n",
       "      <td>24616.400</td>\n",
       "    </tr>\n",
       "    <tr>\n",
       "      <th>1</th>\n",
       "      <td>2002-2005</td>\n",
       "      <td>4</td>\n",
       "      <td>0.036</td>\n",
       "      <td>4</td>\n",
       "      <td>{0: 4363, 1: 1597, 2: 1001, 3: 1076}</td>\n",
       "      <td>None</td>\n",
       "      <td>None</td>\n",
       "      <td>None</td>\n",
       "      <td>None</td>\n",
       "      <td>17694.073</td>\n",
       "    </tr>\n",
       "    <tr>\n",
       "      <th>2</th>\n",
       "      <td>2002-2005</td>\n",
       "      <td>5</td>\n",
       "      <td>0.043</td>\n",
       "      <td>5</td>\n",
       "      <td>{0: 4159, 1: 220, 2: 1593, 3: 988, 4: 1077}</td>\n",
       "      <td>None</td>\n",
       "      <td>None</td>\n",
       "      <td>None</td>\n",
       "      <td>None</td>\n",
       "      <td>14687.552</td>\n",
       "    </tr>\n",
       "    <tr>\n",
       "      <th>3</th>\n",
       "      <td>2002-2005</td>\n",
       "      <td>6</td>\n",
       "      <td>0.040</td>\n",
       "      <td>6</td>\n",
       "      <td>{0: 2965, 1: 1542, 2: 988, 3: 1405, 4: 1026, 5...</td>\n",
       "      <td>None</td>\n",
       "      <td>None</td>\n",
       "      <td>None</td>\n",
       "      <td>None</td>\n",
       "      <td>11767.600</td>\n",
       "    </tr>\n",
       "    <tr>\n",
       "      <th>4</th>\n",
       "      <td>2002-2005</td>\n",
       "      <td>7</td>\n",
       "      <td>0.079</td>\n",
       "      <td>7</td>\n",
       "      <td>{0: 111, 1: 101, 2: 1541, 3: 1025, 4: 984, 5: ...</td>\n",
       "      <td>None</td>\n",
       "      <td>None</td>\n",
       "      <td>None</td>\n",
       "      <td>None</td>\n",
       "      <td>10384.926</td>\n",
       "    </tr>\n",
       "  </tbody>\n",
       "</table>\n",
       "</div>"
      ],
      "text/plain": [
       "  Year Range  k Runtime (s)  Clusters  \\\n",
       "0  2002-2005  3       0.016         3   \n",
       "1  2002-2005  4       0.036         4   \n",
       "2  2002-2005  5       0.043         5   \n",
       "3  2002-2005  6       0.040         6   \n",
       "4  2002-2005  7       0.079         7   \n",
       "\n",
       "                                  Points per Cluster Davies-Bouldin  \\\n",
       "0                        {0: 1354, 1: 4365, 2: 2318}           None   \n",
       "1               {0: 4363, 1: 1597, 2: 1001, 3: 1076}           None   \n",
       "2        {0: 4159, 1: 220, 2: 1593, 3: 988, 4: 1077}           None   \n",
       "3  {0: 2965, 1: 1542, 2: 988, 3: 1405, 4: 1026, 5...           None   \n",
       "4  {0: 111, 1: 101, 2: 1541, 3: 1025, 4: 984, 5: ...           None   \n",
       "\n",
       "  Calinski-Harabasz Dunn Index Silhouette Score  Mean ANOVA F  \n",
       "0              None       None             None     24616.400  \n",
       "1              None       None             None     17694.073  \n",
       "2              None       None             None     14687.552  \n",
       "3              None       None             None     11767.600  \n",
       "4              None       None             None     10384.926  "
      ]
     },
     "metadata": {},
     "output_type": "display_data"
    },
    {
     "name": "stdout",
     "output_type": "stream",
     "text": [
      "\n",
      "Running K-Means for Year Range: 2003-2006\n",
      "Runtime for k_means: 0.004647 seconds\n"
     ]
    },
    {
     "name": "stderr",
     "output_type": "stream",
     "text": [
      "c:\\Users\\fionu\\OneDrive\\Dokumente\\Daten Fiona\\AIUB\\Code\\AIUB-Backup\\clustering\\high_dim_analysis.py:138: FutureWarning: \n",
      "\n",
      "Passing `palette` without assigning `hue` is deprecated and will be removed in v0.14.0. Assign the `y` variable to `hue` and set `legend=False` for the same effect.\n",
      "\n",
      "  sns.barplot(x=mi_vals, y=features, palette=\"magma\")\n"
     ]
    },
    {
     "name": "stdout",
     "output_type": "stream",
     "text": [
      "Runtime for k_means: 0.037575 seconds\n"
     ]
    },
    {
     "name": "stderr",
     "output_type": "stream",
     "text": [
      "c:\\Users\\fionu\\OneDrive\\Dokumente\\Daten Fiona\\AIUB\\Code\\AIUB-Backup\\clustering\\high_dim_analysis.py:138: FutureWarning: \n",
      "\n",
      "Passing `palette` without assigning `hue` is deprecated and will be removed in v0.14.0. Assign the `y` variable to `hue` and set `legend=False` for the same effect.\n",
      "\n",
      "  sns.barplot(x=mi_vals, y=features, palette=\"magma\")\n"
     ]
    },
    {
     "name": "stdout",
     "output_type": "stream",
     "text": [
      "Runtime for k_means: 0.028931 seconds\n"
     ]
    },
    {
     "name": "stderr",
     "output_type": "stream",
     "text": [
      "c:\\Users\\fionu\\OneDrive\\Dokumente\\Daten Fiona\\AIUB\\Code\\AIUB-Backup\\clustering\\high_dim_analysis.py:138: FutureWarning: \n",
      "\n",
      "Passing `palette` without assigning `hue` is deprecated and will be removed in v0.14.0. Assign the `y` variable to `hue` and set `legend=False` for the same effect.\n",
      "\n",
      "  sns.barplot(x=mi_vals, y=features, palette=\"magma\")\n"
     ]
    },
    {
     "name": "stdout",
     "output_type": "stream",
     "text": [
      "Runtime for k_means: 0.026342 seconds\n"
     ]
    },
    {
     "name": "stderr",
     "output_type": "stream",
     "text": [
      "c:\\Users\\fionu\\OneDrive\\Dokumente\\Daten Fiona\\AIUB\\Code\\AIUB-Backup\\clustering\\high_dim_analysis.py:138: FutureWarning: \n",
      "\n",
      "Passing `palette` without assigning `hue` is deprecated and will be removed in v0.14.0. Assign the `y` variable to `hue` and set `legend=False` for the same effect.\n",
      "\n",
      "  sns.barplot(x=mi_vals, y=features, palette=\"magma\")\n"
     ]
    },
    {
     "name": "stdout",
     "output_type": "stream",
     "text": [
      "Runtime for k_means: 0.075649 seconds\n"
     ]
    },
    {
     "name": "stderr",
     "output_type": "stream",
     "text": [
      "c:\\Users\\fionu\\OneDrive\\Dokumente\\Daten Fiona\\AIUB\\Code\\AIUB-Backup\\clustering\\high_dim_analysis.py:138: FutureWarning: \n",
      "\n",
      "Passing `palette` without assigning `hue` is deprecated and will be removed in v0.14.0. Assign the `y` variable to `hue` and set `legend=False` for the same effect.\n",
      "\n",
      "  sns.barplot(x=mi_vals, y=features, palette=\"magma\")\n"
     ]
    },
    {
     "name": "stdout",
     "output_type": "stream",
     "text": [
      "Runtime for k_means: 0.006154 seconds\n",
      "Best KMeans parameters based on ANOVA F-value:\n",
      "Year Range                              2003-2006\n",
      "k                                               3\n",
      "Runtime (s)                                 0.005\n",
      "Clusters                                        3\n",
      "Points per Cluster    {0: 5211, 1: 1440, 2: 2228}\n",
      "Davies-Bouldin                               None\n",
      "Calinski-Harabasz                            None\n",
      "Dunn Index                                   None\n",
      "Silhouette Score                             None\n",
      "Mean ANOVA F                            25312.546\n",
      "Name: 0, dtype: object\n"
     ]
    },
    {
     "name": "stderr",
     "output_type": "stream",
     "text": [
      "c:\\Users\\fionu\\OneDrive\\Dokumente\\Daten Fiona\\AIUB\\Code\\AIUB-Backup\\clustering\\high_dim_analysis.py:42: FutureWarning: \n",
      "\n",
      "Passing `palette` without assigning `hue` is deprecated and will be removed in v0.14.0. Assign the `y` variable to `hue` and set `legend=False` for the same effect.\n",
      "\n",
      "  sns.barplot(x=f_vals, y=features, palette=\"crest\")\n"
     ]
    },
    {
     "data": {
      "application/vnd.microsoft.datawrangler.viewer.v0+json": {
       "columns": [
        {
         "name": "index",
         "rawType": "int64",
         "type": "integer"
        },
        {
         "name": "Year Range",
         "rawType": "object",
         "type": "string"
        },
        {
         "name": "k",
         "rawType": "int64",
         "type": "integer"
        },
        {
         "name": "Runtime (s)",
         "rawType": "object",
         "type": "string"
        },
        {
         "name": "Clusters",
         "rawType": "int64",
         "type": "integer"
        },
        {
         "name": "Points per Cluster",
         "rawType": "object",
         "type": "unknown"
        },
        {
         "name": "Davies-Bouldin",
         "rawType": "object",
         "type": "unknown"
        },
        {
         "name": "Calinski-Harabasz",
         "rawType": "object",
         "type": "unknown"
        },
        {
         "name": "Dunn Index",
         "rawType": "object",
         "type": "unknown"
        },
        {
         "name": "Silhouette Score",
         "rawType": "object",
         "type": "unknown"
        },
        {
         "name": "Mean ANOVA F",
         "rawType": "float64",
         "type": "float"
        }
       ],
       "ref": "a9c1987b-6c54-42fa-bc5b-2296cd62782f",
       "rows": [
        [
         "0",
         "2003-2006",
         "3",
         "0.005",
         "3",
         "{0: 5211, 1: 1440, 2: 2228}",
         null,
         null,
         null,
         null,
         "25312.546"
        ],
        [
         "1",
         "2003-2006",
         "4",
         "0.038",
         "4",
         "{0: 5207, 1: 1186, 2: 1048, 3: 1438}",
         null,
         null,
         null,
         null,
         "18058.964"
        ],
        [
         "2",
         "2003-2006",
         "5",
         "0.029",
         "5",
         "{0: 1052, 1: 2188, 2: 1196, 3: 1417, 4: 3026}",
         null,
         null,
         null,
         null,
         "14540.63"
        ],
        [
         "3",
         "2003-2006",
         "6",
         "0.026",
         "6",
         "{0: 2188, 1: 1376, 2: 1040, 3: 137, 4: 3024, 5: 1114}",
         null,
         null,
         null,
         null,
         "11920.635"
        ],
        [
         "4",
         "2003-2006",
         "7",
         "0.076",
         "7",
         "{0: 1034, 1: 2067, 2: 137, 3: 1355, 4: 255, 5: 2898, 6: 1133}",
         null,
         null,
         null,
         null,
         "10837.055"
        ]
       ],
       "shape": {
        "columns": 10,
        "rows": 5
       }
      },
      "text/html": [
       "<div>\n",
       "<style scoped>\n",
       "    .dataframe tbody tr th:only-of-type {\n",
       "        vertical-align: middle;\n",
       "    }\n",
       "\n",
       "    .dataframe tbody tr th {\n",
       "        vertical-align: top;\n",
       "    }\n",
       "\n",
       "    .dataframe thead th {\n",
       "        text-align: right;\n",
       "    }\n",
       "</style>\n",
       "<table border=\"1\" class=\"dataframe\">\n",
       "  <thead>\n",
       "    <tr style=\"text-align: right;\">\n",
       "      <th></th>\n",
       "      <th>Year Range</th>\n",
       "      <th>k</th>\n",
       "      <th>Runtime (s)</th>\n",
       "      <th>Clusters</th>\n",
       "      <th>Points per Cluster</th>\n",
       "      <th>Davies-Bouldin</th>\n",
       "      <th>Calinski-Harabasz</th>\n",
       "      <th>Dunn Index</th>\n",
       "      <th>Silhouette Score</th>\n",
       "      <th>Mean ANOVA F</th>\n",
       "    </tr>\n",
       "  </thead>\n",
       "  <tbody>\n",
       "    <tr>\n",
       "      <th>0</th>\n",
       "      <td>2003-2006</td>\n",
       "      <td>3</td>\n",
       "      <td>0.005</td>\n",
       "      <td>3</td>\n",
       "      <td>{0: 5211, 1: 1440, 2: 2228}</td>\n",
       "      <td>None</td>\n",
       "      <td>None</td>\n",
       "      <td>None</td>\n",
       "      <td>None</td>\n",
       "      <td>25312.546</td>\n",
       "    </tr>\n",
       "    <tr>\n",
       "      <th>1</th>\n",
       "      <td>2003-2006</td>\n",
       "      <td>4</td>\n",
       "      <td>0.038</td>\n",
       "      <td>4</td>\n",
       "      <td>{0: 5207, 1: 1186, 2: 1048, 3: 1438}</td>\n",
       "      <td>None</td>\n",
       "      <td>None</td>\n",
       "      <td>None</td>\n",
       "      <td>None</td>\n",
       "      <td>18058.964</td>\n",
       "    </tr>\n",
       "    <tr>\n",
       "      <th>2</th>\n",
       "      <td>2003-2006</td>\n",
       "      <td>5</td>\n",
       "      <td>0.029</td>\n",
       "      <td>5</td>\n",
       "      <td>{0: 1052, 1: 2188, 2: 1196, 3: 1417, 4: 3026}</td>\n",
       "      <td>None</td>\n",
       "      <td>None</td>\n",
       "      <td>None</td>\n",
       "      <td>None</td>\n",
       "      <td>14540.630</td>\n",
       "    </tr>\n",
       "    <tr>\n",
       "      <th>3</th>\n",
       "      <td>2003-2006</td>\n",
       "      <td>6</td>\n",
       "      <td>0.026</td>\n",
       "      <td>6</td>\n",
       "      <td>{0: 2188, 1: 1376, 2: 1040, 3: 137, 4: 3024, 5...</td>\n",
       "      <td>None</td>\n",
       "      <td>None</td>\n",
       "      <td>None</td>\n",
       "      <td>None</td>\n",
       "      <td>11920.635</td>\n",
       "    </tr>\n",
       "    <tr>\n",
       "      <th>4</th>\n",
       "      <td>2003-2006</td>\n",
       "      <td>7</td>\n",
       "      <td>0.076</td>\n",
       "      <td>7</td>\n",
       "      <td>{0: 1034, 1: 2067, 2: 137, 3: 1355, 4: 255, 5:...</td>\n",
       "      <td>None</td>\n",
       "      <td>None</td>\n",
       "      <td>None</td>\n",
       "      <td>None</td>\n",
       "      <td>10837.055</td>\n",
       "    </tr>\n",
       "  </tbody>\n",
       "</table>\n",
       "</div>"
      ],
      "text/plain": [
       "  Year Range  k Runtime (s)  Clusters  \\\n",
       "0  2003-2006  3       0.005         3   \n",
       "1  2003-2006  4       0.038         4   \n",
       "2  2003-2006  5       0.029         5   \n",
       "3  2003-2006  6       0.026         6   \n",
       "4  2003-2006  7       0.076         7   \n",
       "\n",
       "                                  Points per Cluster Davies-Bouldin  \\\n",
       "0                        {0: 5211, 1: 1440, 2: 2228}           None   \n",
       "1               {0: 5207, 1: 1186, 2: 1048, 3: 1438}           None   \n",
       "2      {0: 1052, 1: 2188, 2: 1196, 3: 1417, 4: 3026}           None   \n",
       "3  {0: 2188, 1: 1376, 2: 1040, 3: 137, 4: 3024, 5...           None   \n",
       "4  {0: 1034, 1: 2067, 2: 137, 3: 1355, 4: 255, 5:...           None   \n",
       "\n",
       "  Calinski-Harabasz Dunn Index Silhouette Score  Mean ANOVA F  \n",
       "0              None       None             None     25312.546  \n",
       "1              None       None             None     18058.964  \n",
       "2              None       None             None     14540.630  \n",
       "3              None       None             None     11920.635  \n",
       "4              None       None             None     10837.055  "
      ]
     },
     "metadata": {},
     "output_type": "display_data"
    },
    {
     "name": "stdout",
     "output_type": "stream",
     "text": [
      "\n",
      "Running K-Means for Year Range: 2004-2007\n",
      "Runtime for k_means: 0.012139 seconds\n"
     ]
    },
    {
     "name": "stderr",
     "output_type": "stream",
     "text": [
      "c:\\Users\\fionu\\OneDrive\\Dokumente\\Daten Fiona\\AIUB\\Code\\AIUB-Backup\\clustering\\high_dim_analysis.py:138: FutureWarning: \n",
      "\n",
      "Passing `palette` without assigning `hue` is deprecated and will be removed in v0.14.0. Assign the `y` variable to `hue` and set `legend=False` for the same effect.\n",
      "\n",
      "  sns.barplot(x=mi_vals, y=features, palette=\"magma\")\n"
     ]
    },
    {
     "name": "stdout",
     "output_type": "stream",
     "text": [
      "Runtime for k_means: 0.016446 seconds\n"
     ]
    },
    {
     "name": "stderr",
     "output_type": "stream",
     "text": [
      "c:\\Users\\fionu\\OneDrive\\Dokumente\\Daten Fiona\\AIUB\\Code\\AIUB-Backup\\clustering\\high_dim_analysis.py:138: FutureWarning: \n",
      "\n",
      "Passing `palette` without assigning `hue` is deprecated and will be removed in v0.14.0. Assign the `y` variable to `hue` and set `legend=False` for the same effect.\n",
      "\n",
      "  sns.barplot(x=mi_vals, y=features, palette=\"magma\")\n"
     ]
    },
    {
     "name": "stdout",
     "output_type": "stream",
     "text": [
      "Runtime for k_means: 0.005782 seconds\n"
     ]
    },
    {
     "name": "stderr",
     "output_type": "stream",
     "text": [
      "c:\\Users\\fionu\\OneDrive\\Dokumente\\Daten Fiona\\AIUB\\Code\\AIUB-Backup\\clustering\\high_dim_analysis.py:138: FutureWarning: \n",
      "\n",
      "Passing `palette` without assigning `hue` is deprecated and will be removed in v0.14.0. Assign the `y` variable to `hue` and set `legend=False` for the same effect.\n",
      "\n",
      "  sns.barplot(x=mi_vals, y=features, palette=\"magma\")\n"
     ]
    },
    {
     "name": "stdout",
     "output_type": "stream",
     "text": [
      "Runtime for k_means: 0.038168 seconds\n"
     ]
    },
    {
     "name": "stderr",
     "output_type": "stream",
     "text": [
      "c:\\Users\\fionu\\OneDrive\\Dokumente\\Daten Fiona\\AIUB\\Code\\AIUB-Backup\\clustering\\high_dim_analysis.py:138: FutureWarning: \n",
      "\n",
      "Passing `palette` without assigning `hue` is deprecated and will be removed in v0.14.0. Assign the `y` variable to `hue` and set `legend=False` for the same effect.\n",
      "\n",
      "  sns.barplot(x=mi_vals, y=features, palette=\"magma\")\n"
     ]
    },
    {
     "name": "stdout",
     "output_type": "stream",
     "text": [
      "Runtime for k_means: 0.040533 seconds\n"
     ]
    },
    {
     "name": "stderr",
     "output_type": "stream",
     "text": [
      "c:\\Users\\fionu\\OneDrive\\Dokumente\\Daten Fiona\\AIUB\\Code\\AIUB-Backup\\clustering\\high_dim_analysis.py:138: FutureWarning: \n",
      "\n",
      "Passing `palette` without assigning `hue` is deprecated and will be removed in v0.14.0. Assign the `y` variable to `hue` and set `legend=False` for the same effect.\n",
      "\n",
      "  sns.barplot(x=mi_vals, y=features, palette=\"magma\")\n"
     ]
    },
    {
     "name": "stdout",
     "output_type": "stream",
     "text": [
      "Runtime for k_means: 0.025297 seconds\n",
      "Best KMeans parameters based on ANOVA F-value:\n",
      "Year Range                              2004-2007\n",
      "k                                               3\n",
      "Runtime (s)                                 0.012\n",
      "Clusters                                        3\n",
      "Points per Cluster    {0: 5563, 1: 1071, 2: 1915}\n",
      "Davies-Bouldin                               None\n",
      "Calinski-Harabasz                            None\n",
      "Dunn Index                                   None\n",
      "Silhouette Score                             None\n",
      "Mean ANOVA F                            25972.578\n",
      "Name: 0, dtype: object\n"
     ]
    },
    {
     "name": "stderr",
     "output_type": "stream",
     "text": [
      "c:\\Users\\fionu\\OneDrive\\Dokumente\\Daten Fiona\\AIUB\\Code\\AIUB-Backup\\clustering\\high_dim_analysis.py:42: FutureWarning: \n",
      "\n",
      "Passing `palette` without assigning `hue` is deprecated and will be removed in v0.14.0. Assign the `y` variable to `hue` and set `legend=False` for the same effect.\n",
      "\n",
      "  sns.barplot(x=f_vals, y=features, palette=\"crest\")\n"
     ]
    },
    {
     "data": {
      "application/vnd.microsoft.datawrangler.viewer.v0+json": {
       "columns": [
        {
         "name": "index",
         "rawType": "int64",
         "type": "integer"
        },
        {
         "name": "Year Range",
         "rawType": "object",
         "type": "string"
        },
        {
         "name": "k",
         "rawType": "int64",
         "type": "integer"
        },
        {
         "name": "Runtime (s)",
         "rawType": "object",
         "type": "string"
        },
        {
         "name": "Clusters",
         "rawType": "int64",
         "type": "integer"
        },
        {
         "name": "Points per Cluster",
         "rawType": "object",
         "type": "unknown"
        },
        {
         "name": "Davies-Bouldin",
         "rawType": "object",
         "type": "unknown"
        },
        {
         "name": "Calinski-Harabasz",
         "rawType": "object",
         "type": "unknown"
        },
        {
         "name": "Dunn Index",
         "rawType": "object",
         "type": "unknown"
        },
        {
         "name": "Silhouette Score",
         "rawType": "object",
         "type": "unknown"
        },
        {
         "name": "Mean ANOVA F",
         "rawType": "float64",
         "type": "float"
        }
       ],
       "ref": "dc9ebe37-246d-4c16-beaa-73d8173f605a",
       "rows": [
        [
         "0",
         "2004-2007",
         "3",
         "0.012",
         "3",
         "{0: 5563, 1: 1071, 2: 1915}",
         null,
         null,
         null,
         null,
         "25972.578"
        ],
        [
         "1",
         "2004-2007",
         "4",
         "0.016",
         "4",
         "{0: 5562, 1: 1276, 2: 703, 3: 1008}",
         null,
         null,
         null,
         null,
         "18127.25"
        ],
        [
         "2",
         "2004-2007",
         "5",
         "0.006",
         "5",
         "{0: 977, 1: 5557, 2: 743, 3: 150, 4: 1122}",
         null,
         null,
         null,
         null,
         "13691.498"
        ],
        [
         "3",
         "2004-2007",
         "6",
         "0.038",
         "6",
         "{0: 5555, 1: 910, 2: 988, 3: 270, 4: 684, 5: 142}",
         null,
         null,
         null,
         null,
         "14589.589"
        ],
        [
         "4",
         "2004-2007",
         "7",
         "0.041",
         "7",
         "{0: 1003, 1: 2645, 2: 1275, 3: 692, 4: 205, 5: 2419, 6: 310}",
         null,
         null,
         null,
         null,
         "11020.122"
        ]
       ],
       "shape": {
        "columns": 10,
        "rows": 5
       }
      },
      "text/html": [
       "<div>\n",
       "<style scoped>\n",
       "    .dataframe tbody tr th:only-of-type {\n",
       "        vertical-align: middle;\n",
       "    }\n",
       "\n",
       "    .dataframe tbody tr th {\n",
       "        vertical-align: top;\n",
       "    }\n",
       "\n",
       "    .dataframe thead th {\n",
       "        text-align: right;\n",
       "    }\n",
       "</style>\n",
       "<table border=\"1\" class=\"dataframe\">\n",
       "  <thead>\n",
       "    <tr style=\"text-align: right;\">\n",
       "      <th></th>\n",
       "      <th>Year Range</th>\n",
       "      <th>k</th>\n",
       "      <th>Runtime (s)</th>\n",
       "      <th>Clusters</th>\n",
       "      <th>Points per Cluster</th>\n",
       "      <th>Davies-Bouldin</th>\n",
       "      <th>Calinski-Harabasz</th>\n",
       "      <th>Dunn Index</th>\n",
       "      <th>Silhouette Score</th>\n",
       "      <th>Mean ANOVA F</th>\n",
       "    </tr>\n",
       "  </thead>\n",
       "  <tbody>\n",
       "    <tr>\n",
       "      <th>0</th>\n",
       "      <td>2004-2007</td>\n",
       "      <td>3</td>\n",
       "      <td>0.012</td>\n",
       "      <td>3</td>\n",
       "      <td>{0: 5563, 1: 1071, 2: 1915}</td>\n",
       "      <td>None</td>\n",
       "      <td>None</td>\n",
       "      <td>None</td>\n",
       "      <td>None</td>\n",
       "      <td>25972.578</td>\n",
       "    </tr>\n",
       "    <tr>\n",
       "      <th>1</th>\n",
       "      <td>2004-2007</td>\n",
       "      <td>4</td>\n",
       "      <td>0.016</td>\n",
       "      <td>4</td>\n",
       "      <td>{0: 5562, 1: 1276, 2: 703, 3: 1008}</td>\n",
       "      <td>None</td>\n",
       "      <td>None</td>\n",
       "      <td>None</td>\n",
       "      <td>None</td>\n",
       "      <td>18127.250</td>\n",
       "    </tr>\n",
       "    <tr>\n",
       "      <th>2</th>\n",
       "      <td>2004-2007</td>\n",
       "      <td>5</td>\n",
       "      <td>0.006</td>\n",
       "      <td>5</td>\n",
       "      <td>{0: 977, 1: 5557, 2: 743, 3: 150, 4: 1122}</td>\n",
       "      <td>None</td>\n",
       "      <td>None</td>\n",
       "      <td>None</td>\n",
       "      <td>None</td>\n",
       "      <td>13691.498</td>\n",
       "    </tr>\n",
       "    <tr>\n",
       "      <th>3</th>\n",
       "      <td>2004-2007</td>\n",
       "      <td>6</td>\n",
       "      <td>0.038</td>\n",
       "      <td>6</td>\n",
       "      <td>{0: 5555, 1: 910, 2: 988, 3: 270, 4: 684, 5: 142}</td>\n",
       "      <td>None</td>\n",
       "      <td>None</td>\n",
       "      <td>None</td>\n",
       "      <td>None</td>\n",
       "      <td>14589.589</td>\n",
       "    </tr>\n",
       "    <tr>\n",
       "      <th>4</th>\n",
       "      <td>2004-2007</td>\n",
       "      <td>7</td>\n",
       "      <td>0.041</td>\n",
       "      <td>7</td>\n",
       "      <td>{0: 1003, 1: 2645, 2: 1275, 3: 692, 4: 205, 5:...</td>\n",
       "      <td>None</td>\n",
       "      <td>None</td>\n",
       "      <td>None</td>\n",
       "      <td>None</td>\n",
       "      <td>11020.122</td>\n",
       "    </tr>\n",
       "  </tbody>\n",
       "</table>\n",
       "</div>"
      ],
      "text/plain": [
       "  Year Range  k Runtime (s)  Clusters  \\\n",
       "0  2004-2007  3       0.012         3   \n",
       "1  2004-2007  4       0.016         4   \n",
       "2  2004-2007  5       0.006         5   \n",
       "3  2004-2007  6       0.038         6   \n",
       "4  2004-2007  7       0.041         7   \n",
       "\n",
       "                                  Points per Cluster Davies-Bouldin  \\\n",
       "0                        {0: 5563, 1: 1071, 2: 1915}           None   \n",
       "1                {0: 5562, 1: 1276, 2: 703, 3: 1008}           None   \n",
       "2         {0: 977, 1: 5557, 2: 743, 3: 150, 4: 1122}           None   \n",
       "3  {0: 5555, 1: 910, 2: 988, 3: 270, 4: 684, 5: 142}           None   \n",
       "4  {0: 1003, 1: 2645, 2: 1275, 3: 692, 4: 205, 5:...           None   \n",
       "\n",
       "  Calinski-Harabasz Dunn Index Silhouette Score  Mean ANOVA F  \n",
       "0              None       None             None     25972.578  \n",
       "1              None       None             None     18127.250  \n",
       "2              None       None             None     13691.498  \n",
       "3              None       None             None     14589.589  \n",
       "4              None       None             None     11020.122  "
      ]
     },
     "metadata": {},
     "output_type": "display_data"
    },
    {
     "name": "stdout",
     "output_type": "stream",
     "text": [
      "\n",
      "Running K-Means for Year Range: 2005-2008\n",
      "Runtime for k_means: 0.040135 seconds\n"
     ]
    },
    {
     "name": "stderr",
     "output_type": "stream",
     "text": [
      "c:\\Users\\fionu\\OneDrive\\Dokumente\\Daten Fiona\\AIUB\\Code\\AIUB-Backup\\clustering\\high_dim_analysis.py:138: FutureWarning: \n",
      "\n",
      "Passing `palette` without assigning `hue` is deprecated and will be removed in v0.14.0. Assign the `y` variable to `hue` and set `legend=False` for the same effect.\n",
      "\n",
      "  sns.barplot(x=mi_vals, y=features, palette=\"magma\")\n"
     ]
    },
    {
     "name": "stdout",
     "output_type": "stream",
     "text": [
      "Runtime for k_means: 0.016428 seconds\n"
     ]
    },
    {
     "name": "stderr",
     "output_type": "stream",
     "text": [
      "c:\\Users\\fionu\\OneDrive\\Dokumente\\Daten Fiona\\AIUB\\Code\\AIUB-Backup\\clustering\\high_dim_analysis.py:138: FutureWarning: \n",
      "\n",
      "Passing `palette` without assigning `hue` is deprecated and will be removed in v0.14.0. Assign the `y` variable to `hue` and set `legend=False` for the same effect.\n",
      "\n",
      "  sns.barplot(x=mi_vals, y=features, palette=\"magma\")\n"
     ]
    },
    {
     "name": "stdout",
     "output_type": "stream",
     "text": [
      "Runtime for k_means: 0.019474 seconds\n"
     ]
    },
    {
     "name": "stderr",
     "output_type": "stream",
     "text": [
      "c:\\Users\\fionu\\OneDrive\\Dokumente\\Daten Fiona\\AIUB\\Code\\AIUB-Backup\\clustering\\high_dim_analysis.py:138: FutureWarning: \n",
      "\n",
      "Passing `palette` without assigning `hue` is deprecated and will be removed in v0.14.0. Assign the `y` variable to `hue` and set `legend=False` for the same effect.\n",
      "\n",
      "  sns.barplot(x=mi_vals, y=features, palette=\"magma\")\n"
     ]
    },
    {
     "name": "stdout",
     "output_type": "stream",
     "text": [
      "Runtime for k_means: 0.049975 seconds\n"
     ]
    },
    {
     "name": "stderr",
     "output_type": "stream",
     "text": [
      "c:\\Users\\fionu\\OneDrive\\Dokumente\\Daten Fiona\\AIUB\\Code\\AIUB-Backup\\clustering\\high_dim_analysis.py:138: FutureWarning: \n",
      "\n",
      "Passing `palette` without assigning `hue` is deprecated and will be removed in v0.14.0. Assign the `y` variable to `hue` and set `legend=False` for the same effect.\n",
      "\n",
      "  sns.barplot(x=mi_vals, y=features, palette=\"magma\")\n"
     ]
    },
    {
     "name": "stdout",
     "output_type": "stream",
     "text": [
      "Runtime for k_means: 0.033463 seconds\n"
     ]
    },
    {
     "name": "stderr",
     "output_type": "stream",
     "text": [
      "c:\\Users\\fionu\\OneDrive\\Dokumente\\Daten Fiona\\AIUB\\Code\\AIUB-Backup\\clustering\\high_dim_analysis.py:138: FutureWarning: \n",
      "\n",
      "Passing `palette` without assigning `hue` is deprecated and will be removed in v0.14.0. Assign the `y` variable to `hue` and set `legend=False` for the same effect.\n",
      "\n",
      "  sns.barplot(x=mi_vals, y=features, palette=\"magma\")\n"
     ]
    },
    {
     "name": "stdout",
     "output_type": "stream",
     "text": [
      "Runtime for k_means: 0.024085 seconds\n",
      "Best KMeans parameters based on ANOVA F-value:\n",
      "Year Range                             2005-2008\n",
      "k                                              3\n",
      "Runtime (s)                                0.040\n",
      "Clusters                                       3\n",
      "Points per Cluster    {0: 5102, 1: 968, 2: 1551}\n",
      "Davies-Bouldin                              None\n",
      "Calinski-Harabasz                           None\n",
      "Dunn Index                                  None\n",
      "Silhouette Score                            None\n",
      "Mean ANOVA F                             23183.8\n",
      "Name: 0, dtype: object\n"
     ]
    },
    {
     "name": "stderr",
     "output_type": "stream",
     "text": [
      "c:\\Users\\fionu\\OneDrive\\Dokumente\\Daten Fiona\\AIUB\\Code\\AIUB-Backup\\clustering\\high_dim_analysis.py:42: FutureWarning: \n",
      "\n",
      "Passing `palette` without assigning `hue` is deprecated and will be removed in v0.14.0. Assign the `y` variable to `hue` and set `legend=False` for the same effect.\n",
      "\n",
      "  sns.barplot(x=f_vals, y=features, palette=\"crest\")\n"
     ]
    },
    {
     "data": {
      "application/vnd.microsoft.datawrangler.viewer.v0+json": {
       "columns": [
        {
         "name": "index",
         "rawType": "int64",
         "type": "integer"
        },
        {
         "name": "Year Range",
         "rawType": "object",
         "type": "string"
        },
        {
         "name": "k",
         "rawType": "int64",
         "type": "integer"
        },
        {
         "name": "Runtime (s)",
         "rawType": "object",
         "type": "string"
        },
        {
         "name": "Clusters",
         "rawType": "int64",
         "type": "integer"
        },
        {
         "name": "Points per Cluster",
         "rawType": "object",
         "type": "unknown"
        },
        {
         "name": "Davies-Bouldin",
         "rawType": "object",
         "type": "unknown"
        },
        {
         "name": "Calinski-Harabasz",
         "rawType": "object",
         "type": "unknown"
        },
        {
         "name": "Dunn Index",
         "rawType": "object",
         "type": "unknown"
        },
        {
         "name": "Silhouette Score",
         "rawType": "object",
         "type": "unknown"
        },
        {
         "name": "Mean ANOVA F",
         "rawType": "float64",
         "type": "float"
        }
       ],
       "ref": "6c59887e-6342-42da-b4c8-e0c0aeb35ed1",
       "rows": [
        [
         "0",
         "2005-2008",
         "3",
         "0.040",
         "3",
         "{0: 5102, 1: 968, 2: 1551}",
         null,
         null,
         null,
         null,
         "23183.8"
        ],
        [
         "1",
         "2005-2008",
         "4",
         "0.016",
         "4",
         "{0: 5099, 1: 1043, 2: 577, 3: 902}",
         null,
         null,
         null,
         null,
         "16025.232"
        ],
        [
         "2",
         "2005-2008",
         "5",
         "0.019",
         "5",
         "{0: 2759, 1: 572, 2: 1044, 3: 903, 4: 2343}",
         null,
         null,
         null,
         null,
         "12976.757"
        ],
        [
         "3",
         "2005-2008",
         "6",
         "0.050",
         "6",
         "{0: 2309, 1: 836, 2: 2545, 3: 1560, 4: 120, 5: 251}",
         null,
         null,
         null,
         null,
         "10726.347"
        ],
        [
         "4",
         "2005-2008",
         "7",
         "0.033",
         "7",
         "{0: 887, 1: 2588, 2: 316, 3: 580, 4: 216, 5: 737, 6: 2297}",
         null,
         null,
         null,
         null,
         "13182.174"
        ]
       ],
       "shape": {
        "columns": 10,
        "rows": 5
       }
      },
      "text/html": [
       "<div>\n",
       "<style scoped>\n",
       "    .dataframe tbody tr th:only-of-type {\n",
       "        vertical-align: middle;\n",
       "    }\n",
       "\n",
       "    .dataframe tbody tr th {\n",
       "        vertical-align: top;\n",
       "    }\n",
       "\n",
       "    .dataframe thead th {\n",
       "        text-align: right;\n",
       "    }\n",
       "</style>\n",
       "<table border=\"1\" class=\"dataframe\">\n",
       "  <thead>\n",
       "    <tr style=\"text-align: right;\">\n",
       "      <th></th>\n",
       "      <th>Year Range</th>\n",
       "      <th>k</th>\n",
       "      <th>Runtime (s)</th>\n",
       "      <th>Clusters</th>\n",
       "      <th>Points per Cluster</th>\n",
       "      <th>Davies-Bouldin</th>\n",
       "      <th>Calinski-Harabasz</th>\n",
       "      <th>Dunn Index</th>\n",
       "      <th>Silhouette Score</th>\n",
       "      <th>Mean ANOVA F</th>\n",
       "    </tr>\n",
       "  </thead>\n",
       "  <tbody>\n",
       "    <tr>\n",
       "      <th>0</th>\n",
       "      <td>2005-2008</td>\n",
       "      <td>3</td>\n",
       "      <td>0.040</td>\n",
       "      <td>3</td>\n",
       "      <td>{0: 5102, 1: 968, 2: 1551}</td>\n",
       "      <td>None</td>\n",
       "      <td>None</td>\n",
       "      <td>None</td>\n",
       "      <td>None</td>\n",
       "      <td>23183.800</td>\n",
       "    </tr>\n",
       "    <tr>\n",
       "      <th>1</th>\n",
       "      <td>2005-2008</td>\n",
       "      <td>4</td>\n",
       "      <td>0.016</td>\n",
       "      <td>4</td>\n",
       "      <td>{0: 5099, 1: 1043, 2: 577, 3: 902}</td>\n",
       "      <td>None</td>\n",
       "      <td>None</td>\n",
       "      <td>None</td>\n",
       "      <td>None</td>\n",
       "      <td>16025.232</td>\n",
       "    </tr>\n",
       "    <tr>\n",
       "      <th>2</th>\n",
       "      <td>2005-2008</td>\n",
       "      <td>5</td>\n",
       "      <td>0.019</td>\n",
       "      <td>5</td>\n",
       "      <td>{0: 2759, 1: 572, 2: 1044, 3: 903, 4: 2343}</td>\n",
       "      <td>None</td>\n",
       "      <td>None</td>\n",
       "      <td>None</td>\n",
       "      <td>None</td>\n",
       "      <td>12976.757</td>\n",
       "    </tr>\n",
       "    <tr>\n",
       "      <th>3</th>\n",
       "      <td>2005-2008</td>\n",
       "      <td>6</td>\n",
       "      <td>0.050</td>\n",
       "      <td>6</td>\n",
       "      <td>{0: 2309, 1: 836, 2: 2545, 3: 1560, 4: 120, 5:...</td>\n",
       "      <td>None</td>\n",
       "      <td>None</td>\n",
       "      <td>None</td>\n",
       "      <td>None</td>\n",
       "      <td>10726.347</td>\n",
       "    </tr>\n",
       "    <tr>\n",
       "      <th>4</th>\n",
       "      <td>2005-2008</td>\n",
       "      <td>7</td>\n",
       "      <td>0.033</td>\n",
       "      <td>7</td>\n",
       "      <td>{0: 887, 1: 2588, 2: 316, 3: 580, 4: 216, 5: 7...</td>\n",
       "      <td>None</td>\n",
       "      <td>None</td>\n",
       "      <td>None</td>\n",
       "      <td>None</td>\n",
       "      <td>13182.174</td>\n",
       "    </tr>\n",
       "  </tbody>\n",
       "</table>\n",
       "</div>"
      ],
      "text/plain": [
       "  Year Range  k Runtime (s)  Clusters  \\\n",
       "0  2005-2008  3       0.040         3   \n",
       "1  2005-2008  4       0.016         4   \n",
       "2  2005-2008  5       0.019         5   \n",
       "3  2005-2008  6       0.050         6   \n",
       "4  2005-2008  7       0.033         7   \n",
       "\n",
       "                                  Points per Cluster Davies-Bouldin  \\\n",
       "0                         {0: 5102, 1: 968, 2: 1551}           None   \n",
       "1                 {0: 5099, 1: 1043, 2: 577, 3: 902}           None   \n",
       "2        {0: 2759, 1: 572, 2: 1044, 3: 903, 4: 2343}           None   \n",
       "3  {0: 2309, 1: 836, 2: 2545, 3: 1560, 4: 120, 5:...           None   \n",
       "4  {0: 887, 1: 2588, 2: 316, 3: 580, 4: 216, 5: 7...           None   \n",
       "\n",
       "  Calinski-Harabasz Dunn Index Silhouette Score  Mean ANOVA F  \n",
       "0              None       None             None     23183.800  \n",
       "1              None       None             None     16025.232  \n",
       "2              None       None             None     12976.757  \n",
       "3              None       None             None     10726.347  \n",
       "4              None       None             None     13182.174  "
      ]
     },
     "metadata": {},
     "output_type": "display_data"
    },
    {
     "name": "stdout",
     "output_type": "stream",
     "text": [
      "\n",
      "Running K-Means for Year Range: 2006-2009\n",
      "Runtime for k_means: 0.016368 seconds\n"
     ]
    },
    {
     "name": "stderr",
     "output_type": "stream",
     "text": [
      "c:\\Users\\fionu\\OneDrive\\Dokumente\\Daten Fiona\\AIUB\\Code\\AIUB-Backup\\clustering\\high_dim_analysis.py:138: FutureWarning: \n",
      "\n",
      "Passing `palette` without assigning `hue` is deprecated and will be removed in v0.14.0. Assign the `y` variable to `hue` and set `legend=False` for the same effect.\n",
      "\n",
      "  sns.barplot(x=mi_vals, y=features, palette=\"magma\")\n"
     ]
    },
    {
     "name": "stdout",
     "output_type": "stream",
     "text": [
      "Runtime for k_means: 0.000000 seconds\n"
     ]
    },
    {
     "name": "stderr",
     "output_type": "stream",
     "text": [
      "c:\\Users\\fionu\\OneDrive\\Dokumente\\Daten Fiona\\AIUB\\Code\\AIUB-Backup\\clustering\\high_dim_analysis.py:138: FutureWarning: \n",
      "\n",
      "Passing `palette` without assigning `hue` is deprecated and will be removed in v0.14.0. Assign the `y` variable to `hue` and set `legend=False` for the same effect.\n",
      "\n",
      "  sns.barplot(x=mi_vals, y=features, palette=\"magma\")\n"
     ]
    },
    {
     "name": "stdout",
     "output_type": "stream",
     "text": [
      "Runtime for k_means: 0.020540 seconds\n"
     ]
    },
    {
     "name": "stderr",
     "output_type": "stream",
     "text": [
      "c:\\Users\\fionu\\OneDrive\\Dokumente\\Daten Fiona\\AIUB\\Code\\AIUB-Backup\\clustering\\high_dim_analysis.py:138: FutureWarning: \n",
      "\n",
      "Passing `palette` without assigning `hue` is deprecated and will be removed in v0.14.0. Assign the `y` variable to `hue` and set `legend=False` for the same effect.\n",
      "\n",
      "  sns.barplot(x=mi_vals, y=features, palette=\"magma\")\n"
     ]
    },
    {
     "name": "stdout",
     "output_type": "stream",
     "text": [
      "Runtime for k_means: 0.021166 seconds\n"
     ]
    },
    {
     "name": "stderr",
     "output_type": "stream",
     "text": [
      "c:\\Users\\fionu\\OneDrive\\Dokumente\\Daten Fiona\\AIUB\\Code\\AIUB-Backup\\clustering\\high_dim_analysis.py:138: FutureWarning: \n",
      "\n",
      "Passing `palette` without assigning `hue` is deprecated and will be removed in v0.14.0. Assign the `y` variable to `hue` and set `legend=False` for the same effect.\n",
      "\n",
      "  sns.barplot(x=mi_vals, y=features, palette=\"magma\")\n"
     ]
    },
    {
     "name": "stdout",
     "output_type": "stream",
     "text": [
      "Runtime for k_means: 0.036951 seconds\n"
     ]
    },
    {
     "name": "stderr",
     "output_type": "stream",
     "text": [
      "c:\\Users\\fionu\\OneDrive\\Dokumente\\Daten Fiona\\AIUB\\Code\\AIUB-Backup\\clustering\\high_dim_analysis.py:138: FutureWarning: \n",
      "\n",
      "Passing `palette` without assigning `hue` is deprecated and will be removed in v0.14.0. Assign the `y` variable to `hue` and set `legend=False` for the same effect.\n",
      "\n",
      "  sns.barplot(x=mi_vals, y=features, palette=\"magma\")\n"
     ]
    },
    {
     "name": "stdout",
     "output_type": "stream",
     "text": [
      "Runtime for k_means: 0.016562 seconds\n",
      "Best KMeans parameters based on ANOVA F-value:\n",
      "Year Range                              2006-2009\n",
      "k                                               3\n",
      "Runtime (s)                                 0.016\n",
      "Clusters                                        3\n",
      "Points per Cluster    {0: 2323, 1: 2457, 2: 2699}\n",
      "Davies-Bouldin                               None\n",
      "Calinski-Harabasz                            None\n",
      "Dunn Index                                   None\n",
      "Silhouette Score                             None\n",
      "Mean ANOVA F                            22591.471\n",
      "Name: 0, dtype: object\n"
     ]
    },
    {
     "name": "stderr",
     "output_type": "stream",
     "text": [
      "c:\\Users\\fionu\\OneDrive\\Dokumente\\Daten Fiona\\AIUB\\Code\\AIUB-Backup\\clustering\\high_dim_analysis.py:42: FutureWarning: \n",
      "\n",
      "Passing `palette` without assigning `hue` is deprecated and will be removed in v0.14.0. Assign the `y` variable to `hue` and set `legend=False` for the same effect.\n",
      "\n",
      "  sns.barplot(x=f_vals, y=features, palette=\"crest\")\n"
     ]
    },
    {
     "data": {
      "application/vnd.microsoft.datawrangler.viewer.v0+json": {
       "columns": [
        {
         "name": "index",
         "rawType": "int64",
         "type": "integer"
        },
        {
         "name": "Year Range",
         "rawType": "object",
         "type": "string"
        },
        {
         "name": "k",
         "rawType": "int64",
         "type": "integer"
        },
        {
         "name": "Runtime (s)",
         "rawType": "object",
         "type": "string"
        },
        {
         "name": "Clusters",
         "rawType": "int64",
         "type": "integer"
        },
        {
         "name": "Points per Cluster",
         "rawType": "object",
         "type": "unknown"
        },
        {
         "name": "Davies-Bouldin",
         "rawType": "object",
         "type": "unknown"
        },
        {
         "name": "Calinski-Harabasz",
         "rawType": "object",
         "type": "unknown"
        },
        {
         "name": "Dunn Index",
         "rawType": "object",
         "type": "unknown"
        },
        {
         "name": "Silhouette Score",
         "rawType": "object",
         "type": "unknown"
        },
        {
         "name": "Mean ANOVA F",
         "rawType": "float64",
         "type": "float"
        }
       ],
       "ref": "f6d90f2c-8d70-4736-8612-ca4e2b8e42bc",
       "rows": [
        [
         "0",
         "2006-2009",
         "3",
         "0.016",
         "3",
         "{0: 2323, 1: 2457, 2: 2699}",
         null,
         null,
         null,
         null,
         "22591.471"
        ],
        [
         "1",
         "2006-2009",
         "4",
         "0.000",
         "4",
         "{0: 5133, 1: 839, 2: 577, 3: 930}",
         null,
         null,
         null,
         null,
         "15936.942"
        ],
        [
         "2",
         "2006-2009",
         "5",
         "0.021",
         "5",
         "{0: 2684, 1: 939, 2: 578, 3: 2452, 4: 826}",
         null,
         null,
         null,
         null,
         "12834.985"
        ],
        [
         "3",
         "2006-2009",
         "6",
         "0.021",
         "6",
         "{0: 113, 1: 2683, 2: 762, 3: 572, 4: 2448, 5: 901}",
         null,
         null,
         null,
         null,
         "10545.859"
        ],
        [
         "4",
         "2006-2009",
         "7",
         "0.037",
         "7",
         "{0: 792, 1: 2429, 2: 899, 3: 2637, 4: 450, 5: 164, 6: 108}",
         null,
         null,
         null,
         null,
         "12329.008"
        ]
       ],
       "shape": {
        "columns": 10,
        "rows": 5
       }
      },
      "text/html": [
       "<div>\n",
       "<style scoped>\n",
       "    .dataframe tbody tr th:only-of-type {\n",
       "        vertical-align: middle;\n",
       "    }\n",
       "\n",
       "    .dataframe tbody tr th {\n",
       "        vertical-align: top;\n",
       "    }\n",
       "\n",
       "    .dataframe thead th {\n",
       "        text-align: right;\n",
       "    }\n",
       "</style>\n",
       "<table border=\"1\" class=\"dataframe\">\n",
       "  <thead>\n",
       "    <tr style=\"text-align: right;\">\n",
       "      <th></th>\n",
       "      <th>Year Range</th>\n",
       "      <th>k</th>\n",
       "      <th>Runtime (s)</th>\n",
       "      <th>Clusters</th>\n",
       "      <th>Points per Cluster</th>\n",
       "      <th>Davies-Bouldin</th>\n",
       "      <th>Calinski-Harabasz</th>\n",
       "      <th>Dunn Index</th>\n",
       "      <th>Silhouette Score</th>\n",
       "      <th>Mean ANOVA F</th>\n",
       "    </tr>\n",
       "  </thead>\n",
       "  <tbody>\n",
       "    <tr>\n",
       "      <th>0</th>\n",
       "      <td>2006-2009</td>\n",
       "      <td>3</td>\n",
       "      <td>0.016</td>\n",
       "      <td>3</td>\n",
       "      <td>{0: 2323, 1: 2457, 2: 2699}</td>\n",
       "      <td>None</td>\n",
       "      <td>None</td>\n",
       "      <td>None</td>\n",
       "      <td>None</td>\n",
       "      <td>22591.471</td>\n",
       "    </tr>\n",
       "    <tr>\n",
       "      <th>1</th>\n",
       "      <td>2006-2009</td>\n",
       "      <td>4</td>\n",
       "      <td>0.000</td>\n",
       "      <td>4</td>\n",
       "      <td>{0: 5133, 1: 839, 2: 577, 3: 930}</td>\n",
       "      <td>None</td>\n",
       "      <td>None</td>\n",
       "      <td>None</td>\n",
       "      <td>None</td>\n",
       "      <td>15936.942</td>\n",
       "    </tr>\n",
       "    <tr>\n",
       "      <th>2</th>\n",
       "      <td>2006-2009</td>\n",
       "      <td>5</td>\n",
       "      <td>0.021</td>\n",
       "      <td>5</td>\n",
       "      <td>{0: 2684, 1: 939, 2: 578, 3: 2452, 4: 826}</td>\n",
       "      <td>None</td>\n",
       "      <td>None</td>\n",
       "      <td>None</td>\n",
       "      <td>None</td>\n",
       "      <td>12834.985</td>\n",
       "    </tr>\n",
       "    <tr>\n",
       "      <th>3</th>\n",
       "      <td>2006-2009</td>\n",
       "      <td>6</td>\n",
       "      <td>0.021</td>\n",
       "      <td>6</td>\n",
       "      <td>{0: 113, 1: 2683, 2: 762, 3: 572, 4: 2448, 5: ...</td>\n",
       "      <td>None</td>\n",
       "      <td>None</td>\n",
       "      <td>None</td>\n",
       "      <td>None</td>\n",
       "      <td>10545.859</td>\n",
       "    </tr>\n",
       "    <tr>\n",
       "      <th>4</th>\n",
       "      <td>2006-2009</td>\n",
       "      <td>7</td>\n",
       "      <td>0.037</td>\n",
       "      <td>7</td>\n",
       "      <td>{0: 792, 1: 2429, 2: 899, 3: 2637, 4: 450, 5: ...</td>\n",
       "      <td>None</td>\n",
       "      <td>None</td>\n",
       "      <td>None</td>\n",
       "      <td>None</td>\n",
       "      <td>12329.008</td>\n",
       "    </tr>\n",
       "  </tbody>\n",
       "</table>\n",
       "</div>"
      ],
      "text/plain": [
       "  Year Range  k Runtime (s)  Clusters  \\\n",
       "0  2006-2009  3       0.016         3   \n",
       "1  2006-2009  4       0.000         4   \n",
       "2  2006-2009  5       0.021         5   \n",
       "3  2006-2009  6       0.021         6   \n",
       "4  2006-2009  7       0.037         7   \n",
       "\n",
       "                                  Points per Cluster Davies-Bouldin  \\\n",
       "0                        {0: 2323, 1: 2457, 2: 2699}           None   \n",
       "1                  {0: 5133, 1: 839, 2: 577, 3: 930}           None   \n",
       "2         {0: 2684, 1: 939, 2: 578, 3: 2452, 4: 826}           None   \n",
       "3  {0: 113, 1: 2683, 2: 762, 3: 572, 4: 2448, 5: ...           None   \n",
       "4  {0: 792, 1: 2429, 2: 899, 3: 2637, 4: 450, 5: ...           None   \n",
       "\n",
       "  Calinski-Harabasz Dunn Index Silhouette Score  Mean ANOVA F  \n",
       "0              None       None             None     22591.471  \n",
       "1              None       None             None     15936.942  \n",
       "2              None       None             None     12834.985  \n",
       "3              None       None             None     10545.859  \n",
       "4              None       None             None     12329.008  "
      ]
     },
     "metadata": {},
     "output_type": "display_data"
    },
    {
     "name": "stdout",
     "output_type": "stream",
     "text": [
      "\n",
      "Running K-Means for Year Range: 2007-2010\n",
      "Runtime for k_means: 0.022128 seconds\n"
     ]
    },
    {
     "name": "stderr",
     "output_type": "stream",
     "text": [
      "c:\\Users\\fionu\\OneDrive\\Dokumente\\Daten Fiona\\AIUB\\Code\\AIUB-Backup\\clustering\\high_dim_analysis.py:138: FutureWarning: \n",
      "\n",
      "Passing `palette` without assigning `hue` is deprecated and will be removed in v0.14.0. Assign the `y` variable to `hue` and set `legend=False` for the same effect.\n",
      "\n",
      "  sns.barplot(x=mi_vals, y=features, palette=\"magma\")\n"
     ]
    },
    {
     "name": "stdout",
     "output_type": "stream",
     "text": [
      "Runtime for k_means: 0.011594 seconds\n"
     ]
    },
    {
     "name": "stderr",
     "output_type": "stream",
     "text": [
      "c:\\Users\\fionu\\OneDrive\\Dokumente\\Daten Fiona\\AIUB\\Code\\AIUB-Backup\\clustering\\high_dim_analysis.py:138: FutureWarning: \n",
      "\n",
      "Passing `palette` without assigning `hue` is deprecated and will be removed in v0.14.0. Assign the `y` variable to `hue` and set `legend=False` for the same effect.\n",
      "\n",
      "  sns.barplot(x=mi_vals, y=features, palette=\"magma\")\n"
     ]
    },
    {
     "name": "stdout",
     "output_type": "stream",
     "text": [
      "Runtime for k_means: 0.016731 seconds\n"
     ]
    },
    {
     "name": "stderr",
     "output_type": "stream",
     "text": [
      "c:\\Users\\fionu\\OneDrive\\Dokumente\\Daten Fiona\\AIUB\\Code\\AIUB-Backup\\clustering\\high_dim_analysis.py:138: FutureWarning: \n",
      "\n",
      "Passing `palette` without assigning `hue` is deprecated and will be removed in v0.14.0. Assign the `y` variable to `hue` and set `legend=False` for the same effect.\n",
      "\n",
      "  sns.barplot(x=mi_vals, y=features, palette=\"magma\")\n"
     ]
    },
    {
     "name": "stdout",
     "output_type": "stream",
     "text": [
      "Runtime for k_means: 0.016546 seconds\n"
     ]
    },
    {
     "name": "stderr",
     "output_type": "stream",
     "text": [
      "c:\\Users\\fionu\\OneDrive\\Dokumente\\Daten Fiona\\AIUB\\Code\\AIUB-Backup\\clustering\\high_dim_analysis.py:138: FutureWarning: \n",
      "\n",
      "Passing `palette` without assigning `hue` is deprecated and will be removed in v0.14.0. Assign the `y` variable to `hue` and set `legend=False` for the same effect.\n",
      "\n",
      "  sns.barplot(x=mi_vals, y=features, palette=\"magma\")\n"
     ]
    },
    {
     "name": "stdout",
     "output_type": "stream",
     "text": [
      "Runtime for k_means: 0.016708 seconds\n"
     ]
    },
    {
     "name": "stderr",
     "output_type": "stream",
     "text": [
      "c:\\Users\\fionu\\OneDrive\\Dokumente\\Daten Fiona\\AIUB\\Code\\AIUB-Backup\\clustering\\high_dim_analysis.py:138: FutureWarning: \n",
      "\n",
      "Passing `palette` without assigning `hue` is deprecated and will be removed in v0.14.0. Assign the `y` variable to `hue` and set `legend=False` for the same effect.\n",
      "\n",
      "  sns.barplot(x=mi_vals, y=features, palette=\"magma\")\n"
     ]
    },
    {
     "name": "stdout",
     "output_type": "stream",
     "text": [
      "Runtime for k_means: 0.016417 seconds\n",
      "Best KMeans parameters based on ANOVA F-value:\n",
      "Year Range                            2007-2010\n",
      "k                                             3\n",
      "Runtime (s)                               0.022\n",
      "Clusters                                      3\n",
      "Points per Cluster    {0: 4054, 1: 716, 2: 916}\n",
      "Davies-Bouldin                             None\n",
      "Calinski-Harabasz                          None\n",
      "Dunn Index                                 None\n",
      "Silhouette Score                           None\n",
      "Mean ANOVA F                          17843.562\n",
      "Name: 0, dtype: object\n"
     ]
    },
    {
     "name": "stderr",
     "output_type": "stream",
     "text": [
      "c:\\Users\\fionu\\OneDrive\\Dokumente\\Daten Fiona\\AIUB\\Code\\AIUB-Backup\\clustering\\high_dim_analysis.py:42: FutureWarning: \n",
      "\n",
      "Passing `palette` without assigning `hue` is deprecated and will be removed in v0.14.0. Assign the `y` variable to `hue` and set `legend=False` for the same effect.\n",
      "\n",
      "  sns.barplot(x=f_vals, y=features, palette=\"crest\")\n"
     ]
    },
    {
     "data": {
      "application/vnd.microsoft.datawrangler.viewer.v0+json": {
       "columns": [
        {
         "name": "index",
         "rawType": "int64",
         "type": "integer"
        },
        {
         "name": "Year Range",
         "rawType": "object",
         "type": "string"
        },
        {
         "name": "k",
         "rawType": "int64",
         "type": "integer"
        },
        {
         "name": "Runtime (s)",
         "rawType": "object",
         "type": "string"
        },
        {
         "name": "Clusters",
         "rawType": "int64",
         "type": "integer"
        },
        {
         "name": "Points per Cluster",
         "rawType": "object",
         "type": "unknown"
        },
        {
         "name": "Davies-Bouldin",
         "rawType": "object",
         "type": "unknown"
        },
        {
         "name": "Calinski-Harabasz",
         "rawType": "object",
         "type": "unknown"
        },
        {
         "name": "Dunn Index",
         "rawType": "object",
         "type": "unknown"
        },
        {
         "name": "Silhouette Score",
         "rawType": "object",
         "type": "unknown"
        },
        {
         "name": "Mean ANOVA F",
         "rawType": "float64",
         "type": "float"
        }
       ],
       "ref": "f1877c89-d812-49fb-8be7-163d3d9ed2ed",
       "rows": [
        [
         "0",
         "2007-2010",
         "3",
         "0.022",
         "3",
         "{0: 4054, 1: 716, 2: 916}",
         null,
         null,
         null,
         null,
         "17843.562"
        ],
        [
         "1",
         "2007-2010",
         "4",
         "0.012",
         "4",
         "{0: 4054, 1: 575, 2: 390, 3: 667}",
         null,
         null,
         null,
         null,
         "12561.648"
        ],
        [
         "2",
         "2007-2010",
         "5",
         "0.017",
         "5",
         "{0: 2075, 1: 908, 2: 100, 3: 693, 4: 1910}",
         null,
         null,
         null,
         null,
         "10213.078"
        ],
        [
         "3",
         "2007-2010",
         "6",
         "0.017",
         "6",
         "{0: 4047, 1: 299, 2: 621, 3: 131, 4: 97, 5: 491}",
         null,
         null,
         null,
         null,
         "9857.964"
        ],
        [
         "4",
         "2007-2010",
         "7",
         "0.017",
         "7",
         "{0: 663, 1: 1516, 2: 554, 3: 388, 4: 1765, 5: 101, 6: 699}",
         null,
         null,
         null,
         null,
         "7681.537"
        ]
       ],
       "shape": {
        "columns": 10,
        "rows": 5
       }
      },
      "text/html": [
       "<div>\n",
       "<style scoped>\n",
       "    .dataframe tbody tr th:only-of-type {\n",
       "        vertical-align: middle;\n",
       "    }\n",
       "\n",
       "    .dataframe tbody tr th {\n",
       "        vertical-align: top;\n",
       "    }\n",
       "\n",
       "    .dataframe thead th {\n",
       "        text-align: right;\n",
       "    }\n",
       "</style>\n",
       "<table border=\"1\" class=\"dataframe\">\n",
       "  <thead>\n",
       "    <tr style=\"text-align: right;\">\n",
       "      <th></th>\n",
       "      <th>Year Range</th>\n",
       "      <th>k</th>\n",
       "      <th>Runtime (s)</th>\n",
       "      <th>Clusters</th>\n",
       "      <th>Points per Cluster</th>\n",
       "      <th>Davies-Bouldin</th>\n",
       "      <th>Calinski-Harabasz</th>\n",
       "      <th>Dunn Index</th>\n",
       "      <th>Silhouette Score</th>\n",
       "      <th>Mean ANOVA F</th>\n",
       "    </tr>\n",
       "  </thead>\n",
       "  <tbody>\n",
       "    <tr>\n",
       "      <th>0</th>\n",
       "      <td>2007-2010</td>\n",
       "      <td>3</td>\n",
       "      <td>0.022</td>\n",
       "      <td>3</td>\n",
       "      <td>{0: 4054, 1: 716, 2: 916}</td>\n",
       "      <td>None</td>\n",
       "      <td>None</td>\n",
       "      <td>None</td>\n",
       "      <td>None</td>\n",
       "      <td>17843.562</td>\n",
       "    </tr>\n",
       "    <tr>\n",
       "      <th>1</th>\n",
       "      <td>2007-2010</td>\n",
       "      <td>4</td>\n",
       "      <td>0.012</td>\n",
       "      <td>4</td>\n",
       "      <td>{0: 4054, 1: 575, 2: 390, 3: 667}</td>\n",
       "      <td>None</td>\n",
       "      <td>None</td>\n",
       "      <td>None</td>\n",
       "      <td>None</td>\n",
       "      <td>12561.648</td>\n",
       "    </tr>\n",
       "    <tr>\n",
       "      <th>2</th>\n",
       "      <td>2007-2010</td>\n",
       "      <td>5</td>\n",
       "      <td>0.017</td>\n",
       "      <td>5</td>\n",
       "      <td>{0: 2075, 1: 908, 2: 100, 3: 693, 4: 1910}</td>\n",
       "      <td>None</td>\n",
       "      <td>None</td>\n",
       "      <td>None</td>\n",
       "      <td>None</td>\n",
       "      <td>10213.078</td>\n",
       "    </tr>\n",
       "    <tr>\n",
       "      <th>3</th>\n",
       "      <td>2007-2010</td>\n",
       "      <td>6</td>\n",
       "      <td>0.017</td>\n",
       "      <td>6</td>\n",
       "      <td>{0: 4047, 1: 299, 2: 621, 3: 131, 4: 97, 5: 491}</td>\n",
       "      <td>None</td>\n",
       "      <td>None</td>\n",
       "      <td>None</td>\n",
       "      <td>None</td>\n",
       "      <td>9857.964</td>\n",
       "    </tr>\n",
       "    <tr>\n",
       "      <th>4</th>\n",
       "      <td>2007-2010</td>\n",
       "      <td>7</td>\n",
       "      <td>0.017</td>\n",
       "      <td>7</td>\n",
       "      <td>{0: 663, 1: 1516, 2: 554, 3: 388, 4: 1765, 5: ...</td>\n",
       "      <td>None</td>\n",
       "      <td>None</td>\n",
       "      <td>None</td>\n",
       "      <td>None</td>\n",
       "      <td>7681.537</td>\n",
       "    </tr>\n",
       "  </tbody>\n",
       "</table>\n",
       "</div>"
      ],
      "text/plain": [
       "  Year Range  k Runtime (s)  Clusters  \\\n",
       "0  2007-2010  3       0.022         3   \n",
       "1  2007-2010  4       0.012         4   \n",
       "2  2007-2010  5       0.017         5   \n",
       "3  2007-2010  6       0.017         6   \n",
       "4  2007-2010  7       0.017         7   \n",
       "\n",
       "                                  Points per Cluster Davies-Bouldin  \\\n",
       "0                          {0: 4054, 1: 716, 2: 916}           None   \n",
       "1                  {0: 4054, 1: 575, 2: 390, 3: 667}           None   \n",
       "2         {0: 2075, 1: 908, 2: 100, 3: 693, 4: 1910}           None   \n",
       "3   {0: 4047, 1: 299, 2: 621, 3: 131, 4: 97, 5: 491}           None   \n",
       "4  {0: 663, 1: 1516, 2: 554, 3: 388, 4: 1765, 5: ...           None   \n",
       "\n",
       "  Calinski-Harabasz Dunn Index Silhouette Score  Mean ANOVA F  \n",
       "0              None       None             None     17843.562  \n",
       "1              None       None             None     12561.648  \n",
       "2              None       None             None     10213.078  \n",
       "3              None       None             None      9857.964  \n",
       "4              None       None             None      7681.537  "
      ]
     },
     "metadata": {},
     "output_type": "display_data"
    },
    {
     "name": "stdout",
     "output_type": "stream",
     "text": [
      "\n",
      "Running K-Means for Year Range: 2008-2011\n",
      "Runtime for k_means: 0.000665 seconds\n"
     ]
    },
    {
     "name": "stderr",
     "output_type": "stream",
     "text": [
      "c:\\Users\\fionu\\OneDrive\\Dokumente\\Daten Fiona\\AIUB\\Code\\AIUB-Backup\\clustering\\high_dim_analysis.py:138: FutureWarning: \n",
      "\n",
      "Passing `palette` without assigning `hue` is deprecated and will be removed in v0.14.0. Assign the `y` variable to `hue` and set `legend=False` for the same effect.\n",
      "\n",
      "  sns.barplot(x=mi_vals, y=features, palette=\"magma\")\n"
     ]
    },
    {
     "name": "stdout",
     "output_type": "stream",
     "text": [
      "Runtime for k_means: 0.000000 seconds\n"
     ]
    },
    {
     "name": "stderr",
     "output_type": "stream",
     "text": [
      "c:\\Users\\fionu\\OneDrive\\Dokumente\\Daten Fiona\\AIUB\\Code\\AIUB-Backup\\clustering\\high_dim_analysis.py:138: FutureWarning: \n",
      "\n",
      "Passing `palette` without assigning `hue` is deprecated and will be removed in v0.14.0. Assign the `y` variable to `hue` and set `legend=False` for the same effect.\n",
      "\n",
      "  sns.barplot(x=mi_vals, y=features, palette=\"magma\")\n"
     ]
    },
    {
     "name": "stdout",
     "output_type": "stream",
     "text": [
      "Runtime for k_means: 0.006073 seconds\n"
     ]
    },
    {
     "name": "stderr",
     "output_type": "stream",
     "text": [
      "c:\\Users\\fionu\\OneDrive\\Dokumente\\Daten Fiona\\AIUB\\Code\\AIUB-Backup\\clustering\\high_dim_analysis.py:138: FutureWarning: \n",
      "\n",
      "Passing `palette` without assigning `hue` is deprecated and will be removed in v0.14.0. Assign the `y` variable to `hue` and set `legend=False` for the same effect.\n",
      "\n",
      "  sns.barplot(x=mi_vals, y=features, palette=\"magma\")\n"
     ]
    },
    {
     "name": "stdout",
     "output_type": "stream",
     "text": [
      "Runtime for k_means: 0.016854 seconds\n"
     ]
    },
    {
     "name": "stderr",
     "output_type": "stream",
     "text": [
      "c:\\Users\\fionu\\OneDrive\\Dokumente\\Daten Fiona\\AIUB\\Code\\AIUB-Backup\\clustering\\high_dim_analysis.py:138: FutureWarning: \n",
      "\n",
      "Passing `palette` without assigning `hue` is deprecated and will be removed in v0.14.0. Assign the `y` variable to `hue` and set `legend=False` for the same effect.\n",
      "\n",
      "  sns.barplot(x=mi_vals, y=features, palette=\"magma\")\n"
     ]
    },
    {
     "name": "stdout",
     "output_type": "stream",
     "text": [
      "Runtime for k_means: 0.016440 seconds\n"
     ]
    },
    {
     "name": "stderr",
     "output_type": "stream",
     "text": [
      "c:\\Users\\fionu\\OneDrive\\Dokumente\\Daten Fiona\\AIUB\\Code\\AIUB-Backup\\clustering\\high_dim_analysis.py:138: FutureWarning: \n",
      "\n",
      "Passing `palette` without assigning `hue` is deprecated and will be removed in v0.14.0. Assign the `y` variable to `hue` and set `legend=False` for the same effect.\n",
      "\n",
      "  sns.barplot(x=mi_vals, y=features, palette=\"magma\")\n"
     ]
    },
    {
     "name": "stdout",
     "output_type": "stream",
     "text": [
      "Runtime for k_means: 0.018945 seconds\n",
      "Best KMeans parameters based on ANOVA F-value:\n",
      "Year Range                            2008-2011\n",
      "k                                             3\n",
      "Runtime (s)                               0.001\n",
      "Clusters                                      3\n",
      "Points per Cluster    {0: 555, 1: 2865, 2: 644}\n",
      "Davies-Bouldin                             None\n",
      "Calinski-Harabasz                          None\n",
      "Dunn Index                                 None\n",
      "Silhouette Score                           None\n",
      "Mean ANOVA F                           11952.97\n",
      "Name: 0, dtype: object\n"
     ]
    },
    {
     "name": "stderr",
     "output_type": "stream",
     "text": [
      "c:\\Users\\fionu\\OneDrive\\Dokumente\\Daten Fiona\\AIUB\\Code\\AIUB-Backup\\clustering\\high_dim_analysis.py:42: FutureWarning: \n",
      "\n",
      "Passing `palette` without assigning `hue` is deprecated and will be removed in v0.14.0. Assign the `y` variable to `hue` and set `legend=False` for the same effect.\n",
      "\n",
      "  sns.barplot(x=f_vals, y=features, palette=\"crest\")\n"
     ]
    },
    {
     "data": {
      "application/vnd.microsoft.datawrangler.viewer.v0+json": {
       "columns": [
        {
         "name": "index",
         "rawType": "int64",
         "type": "integer"
        },
        {
         "name": "Year Range",
         "rawType": "object",
         "type": "string"
        },
        {
         "name": "k",
         "rawType": "int64",
         "type": "integer"
        },
        {
         "name": "Runtime (s)",
         "rawType": "object",
         "type": "string"
        },
        {
         "name": "Clusters",
         "rawType": "int64",
         "type": "integer"
        },
        {
         "name": "Points per Cluster",
         "rawType": "object",
         "type": "unknown"
        },
        {
         "name": "Davies-Bouldin",
         "rawType": "object",
         "type": "unknown"
        },
        {
         "name": "Calinski-Harabasz",
         "rawType": "object",
         "type": "unknown"
        },
        {
         "name": "Dunn Index",
         "rawType": "object",
         "type": "unknown"
        },
        {
         "name": "Silhouette Score",
         "rawType": "object",
         "type": "unknown"
        },
        {
         "name": "Mean ANOVA F",
         "rawType": "float64",
         "type": "float"
        }
       ],
       "ref": "333a14c8-e881-4f0d-8fe1-1150d71b4094",
       "rows": [
        [
         "0",
         "2008-2011",
         "3",
         "0.001",
         "3",
         "{0: 555, 1: 2865, 2: 644}",
         null,
         null,
         null,
         null,
         "11952.97"
        ],
        [
         "1",
         "2008-2011",
         "4",
         "0.000",
         "4",
         "{0: 1362, 1: 645, 2: 553, 3: 1504}",
         null,
         null,
         null,
         null,
         "8316.02"
        ],
        [
         "2",
         "2008-2011",
         "5",
         "0.006",
         "5",
         "{0: 1504, 1: 1363, 2: 355, 3: 326, 4: 516}",
         null,
         null,
         null,
         null,
         "6575.099"
        ],
        [
         "3",
         "2008-2011",
         "6",
         "0.017",
         "6",
         "{0: 2777, 1: 312, 2: 335, 3: 483, 4: 60, 5: 97}",
         null,
         null,
         null,
         null,
         "5537.222"
        ],
        [
         "4",
         "2008-2011",
         "7",
         "0.016",
         "7",
         "{0: 483, 1: 1287, 2: 97, 3: 312, 4: 331, 5: 1494, 6: 60}",
         null,
         null,
         null,
         null,
         "5279.979"
        ]
       ],
       "shape": {
        "columns": 10,
        "rows": 5
       }
      },
      "text/html": [
       "<div>\n",
       "<style scoped>\n",
       "    .dataframe tbody tr th:only-of-type {\n",
       "        vertical-align: middle;\n",
       "    }\n",
       "\n",
       "    .dataframe tbody tr th {\n",
       "        vertical-align: top;\n",
       "    }\n",
       "\n",
       "    .dataframe thead th {\n",
       "        text-align: right;\n",
       "    }\n",
       "</style>\n",
       "<table border=\"1\" class=\"dataframe\">\n",
       "  <thead>\n",
       "    <tr style=\"text-align: right;\">\n",
       "      <th></th>\n",
       "      <th>Year Range</th>\n",
       "      <th>k</th>\n",
       "      <th>Runtime (s)</th>\n",
       "      <th>Clusters</th>\n",
       "      <th>Points per Cluster</th>\n",
       "      <th>Davies-Bouldin</th>\n",
       "      <th>Calinski-Harabasz</th>\n",
       "      <th>Dunn Index</th>\n",
       "      <th>Silhouette Score</th>\n",
       "      <th>Mean ANOVA F</th>\n",
       "    </tr>\n",
       "  </thead>\n",
       "  <tbody>\n",
       "    <tr>\n",
       "      <th>0</th>\n",
       "      <td>2008-2011</td>\n",
       "      <td>3</td>\n",
       "      <td>0.001</td>\n",
       "      <td>3</td>\n",
       "      <td>{0: 555, 1: 2865, 2: 644}</td>\n",
       "      <td>None</td>\n",
       "      <td>None</td>\n",
       "      <td>None</td>\n",
       "      <td>None</td>\n",
       "      <td>11952.970</td>\n",
       "    </tr>\n",
       "    <tr>\n",
       "      <th>1</th>\n",
       "      <td>2008-2011</td>\n",
       "      <td>4</td>\n",
       "      <td>0.000</td>\n",
       "      <td>4</td>\n",
       "      <td>{0: 1362, 1: 645, 2: 553, 3: 1504}</td>\n",
       "      <td>None</td>\n",
       "      <td>None</td>\n",
       "      <td>None</td>\n",
       "      <td>None</td>\n",
       "      <td>8316.020</td>\n",
       "    </tr>\n",
       "    <tr>\n",
       "      <th>2</th>\n",
       "      <td>2008-2011</td>\n",
       "      <td>5</td>\n",
       "      <td>0.006</td>\n",
       "      <td>5</td>\n",
       "      <td>{0: 1504, 1: 1363, 2: 355, 3: 326, 4: 516}</td>\n",
       "      <td>None</td>\n",
       "      <td>None</td>\n",
       "      <td>None</td>\n",
       "      <td>None</td>\n",
       "      <td>6575.099</td>\n",
       "    </tr>\n",
       "    <tr>\n",
       "      <th>3</th>\n",
       "      <td>2008-2011</td>\n",
       "      <td>6</td>\n",
       "      <td>0.017</td>\n",
       "      <td>6</td>\n",
       "      <td>{0: 2777, 1: 312, 2: 335, 3: 483, 4: 60, 5: 97}</td>\n",
       "      <td>None</td>\n",
       "      <td>None</td>\n",
       "      <td>None</td>\n",
       "      <td>None</td>\n",
       "      <td>5537.222</td>\n",
       "    </tr>\n",
       "    <tr>\n",
       "      <th>4</th>\n",
       "      <td>2008-2011</td>\n",
       "      <td>7</td>\n",
       "      <td>0.016</td>\n",
       "      <td>7</td>\n",
       "      <td>{0: 483, 1: 1287, 2: 97, 3: 312, 4: 331, 5: 14...</td>\n",
       "      <td>None</td>\n",
       "      <td>None</td>\n",
       "      <td>None</td>\n",
       "      <td>None</td>\n",
       "      <td>5279.979</td>\n",
       "    </tr>\n",
       "  </tbody>\n",
       "</table>\n",
       "</div>"
      ],
      "text/plain": [
       "  Year Range  k Runtime (s)  Clusters  \\\n",
       "0  2008-2011  3       0.001         3   \n",
       "1  2008-2011  4       0.000         4   \n",
       "2  2008-2011  5       0.006         5   \n",
       "3  2008-2011  6       0.017         6   \n",
       "4  2008-2011  7       0.016         7   \n",
       "\n",
       "                                  Points per Cluster Davies-Bouldin  \\\n",
       "0                          {0: 555, 1: 2865, 2: 644}           None   \n",
       "1                 {0: 1362, 1: 645, 2: 553, 3: 1504}           None   \n",
       "2         {0: 1504, 1: 1363, 2: 355, 3: 326, 4: 516}           None   \n",
       "3    {0: 2777, 1: 312, 2: 335, 3: 483, 4: 60, 5: 97}           None   \n",
       "4  {0: 483, 1: 1287, 2: 97, 3: 312, 4: 331, 5: 14...           None   \n",
       "\n",
       "  Calinski-Harabasz Dunn Index Silhouette Score  Mean ANOVA F  \n",
       "0              None       None             None     11952.970  \n",
       "1              None       None             None      8316.020  \n",
       "2              None       None             None      6575.099  \n",
       "3              None       None             None      5537.222  \n",
       "4              None       None             None      5279.979  "
      ]
     },
     "metadata": {},
     "output_type": "display_data"
    },
    {
     "name": "stdout",
     "output_type": "stream",
     "text": [
      "\n",
      "Running K-Means for Year Range: 2009-2012\n",
      "Runtime for k_means: 0.004544 seconds\n"
     ]
    },
    {
     "name": "stderr",
     "output_type": "stream",
     "text": [
      "c:\\Users\\fionu\\OneDrive\\Dokumente\\Daten Fiona\\AIUB\\Code\\AIUB-Backup\\clustering\\high_dim_analysis.py:138: FutureWarning: \n",
      "\n",
      "Passing `palette` without assigning `hue` is deprecated and will be removed in v0.14.0. Assign the `y` variable to `hue` and set `legend=False` for the same effect.\n",
      "\n",
      "  sns.barplot(x=mi_vals, y=features, palette=\"magma\")\n"
     ]
    },
    {
     "name": "stdout",
     "output_type": "stream",
     "text": [
      "Runtime for k_means: 0.009667 seconds\n"
     ]
    },
    {
     "name": "stderr",
     "output_type": "stream",
     "text": [
      "c:\\Users\\fionu\\OneDrive\\Dokumente\\Daten Fiona\\AIUB\\Code\\AIUB-Backup\\clustering\\high_dim_analysis.py:138: FutureWarning: \n",
      "\n",
      "Passing `palette` without assigning `hue` is deprecated and will be removed in v0.14.0. Assign the `y` variable to `hue` and set `legend=False` for the same effect.\n",
      "\n",
      "  sns.barplot(x=mi_vals, y=features, palette=\"magma\")\n"
     ]
    },
    {
     "name": "stdout",
     "output_type": "stream",
     "text": [
      "Runtime for k_means: 0.002747 seconds\n"
     ]
    },
    {
     "name": "stderr",
     "output_type": "stream",
     "text": [
      "c:\\Users\\fionu\\OneDrive\\Dokumente\\Daten Fiona\\AIUB\\Code\\AIUB-Backup\\clustering\\high_dim_analysis.py:138: FutureWarning: \n",
      "\n",
      "Passing `palette` without assigning `hue` is deprecated and will be removed in v0.14.0. Assign the `y` variable to `hue` and set `legend=False` for the same effect.\n",
      "\n",
      "  sns.barplot(x=mi_vals, y=features, palette=\"magma\")\n"
     ]
    },
    {
     "name": "stdout",
     "output_type": "stream",
     "text": [
      "Runtime for k_means: 0.011174 seconds\n"
     ]
    },
    {
     "name": "stderr",
     "output_type": "stream",
     "text": [
      "c:\\Users\\fionu\\OneDrive\\Dokumente\\Daten Fiona\\AIUB\\Code\\AIUB-Backup\\clustering\\high_dim_analysis.py:138: FutureWarning: \n",
      "\n",
      "Passing `palette` without assigning `hue` is deprecated and will be removed in v0.14.0. Assign the `y` variable to `hue` and set `legend=False` for the same effect.\n",
      "\n",
      "  sns.barplot(x=mi_vals, y=features, palette=\"magma\")\n"
     ]
    },
    {
     "name": "stdout",
     "output_type": "stream",
     "text": [
      "Runtime for k_means: 0.005995 seconds\n"
     ]
    },
    {
     "name": "stderr",
     "output_type": "stream",
     "text": [
      "c:\\Users\\fionu\\OneDrive\\Dokumente\\Daten Fiona\\AIUB\\Code\\AIUB-Backup\\clustering\\high_dim_analysis.py:138: FutureWarning: \n",
      "\n",
      "Passing `palette` without assigning `hue` is deprecated and will be removed in v0.14.0. Assign the `y` variable to `hue` and set `legend=False` for the same effect.\n",
      "\n",
      "  sns.barplot(x=mi_vals, y=features, palette=\"magma\")\n"
     ]
    },
    {
     "name": "stdout",
     "output_type": "stream",
     "text": [
      "Runtime for k_means: 0.000000 seconds\n"
     ]
    },
    {
     "name": "stderr",
     "output_type": "stream",
     "text": [
      "c:\\Users\\fionu\\OneDrive\\Dokumente\\Daten Fiona\\AIUB\\Code\\AIUB-Backup\\clustering\\high_dim_analysis.py:42: FutureWarning: \n",
      "\n",
      "Passing `palette` without assigning `hue` is deprecated and will be removed in v0.14.0. Assign the `y` variable to `hue` and set `legend=False` for the same effect.\n",
      "\n",
      "  sns.barplot(x=f_vals, y=features, palette=\"crest\")\n"
     ]
    },
    {
     "name": "stdout",
     "output_type": "stream",
     "text": [
      "Best KMeans parameters based on ANOVA F-value:\n",
      "Year Range                            2009-2012\n",
      "k                                             3\n",
      "Runtime (s)                               0.005\n",
      "Clusters                                      3\n",
      "Points per Cluster    {0: 568, 1: 504, 2: 2488}\n",
      "Davies-Bouldin                             None\n",
      "Calinski-Harabasz                          None\n",
      "Dunn Index                                 None\n",
      "Silhouette Score                           None\n",
      "Mean ANOVA F                          10493.604\n",
      "Name: 0, dtype: object\n"
     ]
    },
    {
     "data": {
      "application/vnd.microsoft.datawrangler.viewer.v0+json": {
       "columns": [
        {
         "name": "index",
         "rawType": "int64",
         "type": "integer"
        },
        {
         "name": "Year Range",
         "rawType": "object",
         "type": "string"
        },
        {
         "name": "k",
         "rawType": "int64",
         "type": "integer"
        },
        {
         "name": "Runtime (s)",
         "rawType": "object",
         "type": "string"
        },
        {
         "name": "Clusters",
         "rawType": "int64",
         "type": "integer"
        },
        {
         "name": "Points per Cluster",
         "rawType": "object",
         "type": "unknown"
        },
        {
         "name": "Davies-Bouldin",
         "rawType": "object",
         "type": "unknown"
        },
        {
         "name": "Calinski-Harabasz",
         "rawType": "object",
         "type": "unknown"
        },
        {
         "name": "Dunn Index",
         "rawType": "object",
         "type": "unknown"
        },
        {
         "name": "Silhouette Score",
         "rawType": "object",
         "type": "unknown"
        },
        {
         "name": "Mean ANOVA F",
         "rawType": "float64",
         "type": "float"
        }
       ],
       "ref": "b1d6035c-d240-4d4b-9da0-7d7e8d7e550c",
       "rows": [
        [
         "0",
         "2009-2012",
         "3",
         "0.005",
         "3",
         "{0: 568, 1: 504, 2: 2488}",
         null,
         null,
         null,
         null,
         "10493.604"
        ],
        [
         "1",
         "2009-2012",
         "4",
         "0.010",
         "4",
         "{0: 548, 1: 2482, 2: 476, 3: 54}",
         null,
         null,
         null,
         null,
         "6963.512"
        ],
        [
         "2",
         "2009-2012",
         "5",
         "0.003",
         "5",
         "{0: 2403, 1: 566, 2: 445, 3: 97, 4: 49}",
         null,
         null,
         null,
         null,
         "5866.072"
        ],
        [
         "3",
         "2009-2012",
         "6",
         "0.011",
         "6",
         "{0: 100, 1: 300, 2: 454, 3: 301, 4: 1076, 5: 1329}",
         null,
         null,
         null,
         null,
         "5477.352"
        ],
        [
         "4",
         "2009-2012",
         "7",
         "0.006",
         "7",
         "{0: 453, 1: 1309, 2: 97, 3: 1075, 4: 297, 5: 305, 6: 24}",
         null,
         null,
         null,
         null,
         "4888.826"
        ]
       ],
       "shape": {
        "columns": 10,
        "rows": 5
       }
      },
      "text/html": [
       "<div>\n",
       "<style scoped>\n",
       "    .dataframe tbody tr th:only-of-type {\n",
       "        vertical-align: middle;\n",
       "    }\n",
       "\n",
       "    .dataframe tbody tr th {\n",
       "        vertical-align: top;\n",
       "    }\n",
       "\n",
       "    .dataframe thead th {\n",
       "        text-align: right;\n",
       "    }\n",
       "</style>\n",
       "<table border=\"1\" class=\"dataframe\">\n",
       "  <thead>\n",
       "    <tr style=\"text-align: right;\">\n",
       "      <th></th>\n",
       "      <th>Year Range</th>\n",
       "      <th>k</th>\n",
       "      <th>Runtime (s)</th>\n",
       "      <th>Clusters</th>\n",
       "      <th>Points per Cluster</th>\n",
       "      <th>Davies-Bouldin</th>\n",
       "      <th>Calinski-Harabasz</th>\n",
       "      <th>Dunn Index</th>\n",
       "      <th>Silhouette Score</th>\n",
       "      <th>Mean ANOVA F</th>\n",
       "    </tr>\n",
       "  </thead>\n",
       "  <tbody>\n",
       "    <tr>\n",
       "      <th>0</th>\n",
       "      <td>2009-2012</td>\n",
       "      <td>3</td>\n",
       "      <td>0.005</td>\n",
       "      <td>3</td>\n",
       "      <td>{0: 568, 1: 504, 2: 2488}</td>\n",
       "      <td>None</td>\n",
       "      <td>None</td>\n",
       "      <td>None</td>\n",
       "      <td>None</td>\n",
       "      <td>10493.604</td>\n",
       "    </tr>\n",
       "    <tr>\n",
       "      <th>1</th>\n",
       "      <td>2009-2012</td>\n",
       "      <td>4</td>\n",
       "      <td>0.010</td>\n",
       "      <td>4</td>\n",
       "      <td>{0: 548, 1: 2482, 2: 476, 3: 54}</td>\n",
       "      <td>None</td>\n",
       "      <td>None</td>\n",
       "      <td>None</td>\n",
       "      <td>None</td>\n",
       "      <td>6963.512</td>\n",
       "    </tr>\n",
       "    <tr>\n",
       "      <th>2</th>\n",
       "      <td>2009-2012</td>\n",
       "      <td>5</td>\n",
       "      <td>0.003</td>\n",
       "      <td>5</td>\n",
       "      <td>{0: 2403, 1: 566, 2: 445, 3: 97, 4: 49}</td>\n",
       "      <td>None</td>\n",
       "      <td>None</td>\n",
       "      <td>None</td>\n",
       "      <td>None</td>\n",
       "      <td>5866.072</td>\n",
       "    </tr>\n",
       "    <tr>\n",
       "      <th>3</th>\n",
       "      <td>2009-2012</td>\n",
       "      <td>6</td>\n",
       "      <td>0.011</td>\n",
       "      <td>6</td>\n",
       "      <td>{0: 100, 1: 300, 2: 454, 3: 301, 4: 1076, 5: 1...</td>\n",
       "      <td>None</td>\n",
       "      <td>None</td>\n",
       "      <td>None</td>\n",
       "      <td>None</td>\n",
       "      <td>5477.352</td>\n",
       "    </tr>\n",
       "    <tr>\n",
       "      <th>4</th>\n",
       "      <td>2009-2012</td>\n",
       "      <td>7</td>\n",
       "      <td>0.006</td>\n",
       "      <td>7</td>\n",
       "      <td>{0: 453, 1: 1309, 2: 97, 3: 1075, 4: 297, 5: 3...</td>\n",
       "      <td>None</td>\n",
       "      <td>None</td>\n",
       "      <td>None</td>\n",
       "      <td>None</td>\n",
       "      <td>4888.826</td>\n",
       "    </tr>\n",
       "  </tbody>\n",
       "</table>\n",
       "</div>"
      ],
      "text/plain": [
       "  Year Range  k Runtime (s)  Clusters  \\\n",
       "0  2009-2012  3       0.005         3   \n",
       "1  2009-2012  4       0.010         4   \n",
       "2  2009-2012  5       0.003         5   \n",
       "3  2009-2012  6       0.011         6   \n",
       "4  2009-2012  7       0.006         7   \n",
       "\n",
       "                                  Points per Cluster Davies-Bouldin  \\\n",
       "0                          {0: 568, 1: 504, 2: 2488}           None   \n",
       "1                   {0: 548, 1: 2482, 2: 476, 3: 54}           None   \n",
       "2            {0: 2403, 1: 566, 2: 445, 3: 97, 4: 49}           None   \n",
       "3  {0: 100, 1: 300, 2: 454, 3: 301, 4: 1076, 5: 1...           None   \n",
       "4  {0: 453, 1: 1309, 2: 97, 3: 1075, 4: 297, 5: 3...           None   \n",
       "\n",
       "  Calinski-Harabasz Dunn Index Silhouette Score  Mean ANOVA F  \n",
       "0              None       None             None     10493.604  \n",
       "1              None       None             None      6963.512  \n",
       "2              None       None             None      5866.072  \n",
       "3              None       None             None      5477.352  \n",
       "4              None       None             None      4888.826  "
      ]
     },
     "metadata": {},
     "output_type": "display_data"
    },
    {
     "name": "stdout",
     "output_type": "stream",
     "text": [
      "\n",
      "Running K-Means for Year Range: 2010-2013\n",
      "Runtime for k_means: 0.001918 seconds\n"
     ]
    },
    {
     "name": "stderr",
     "output_type": "stream",
     "text": [
      "c:\\Users\\fionu\\OneDrive\\Dokumente\\Daten Fiona\\AIUB\\Code\\AIUB-Backup\\clustering\\high_dim_analysis.py:138: FutureWarning: \n",
      "\n",
      "Passing `palette` without assigning `hue` is deprecated and will be removed in v0.14.0. Assign the `y` variable to `hue` and set `legend=False` for the same effect.\n",
      "\n",
      "  sns.barplot(x=mi_vals, y=features, palette=\"magma\")\n"
     ]
    },
    {
     "name": "stdout",
     "output_type": "stream",
     "text": [
      "Runtime for k_means: 0.000000 seconds\n"
     ]
    },
    {
     "name": "stderr",
     "output_type": "stream",
     "text": [
      "c:\\Users\\fionu\\OneDrive\\Dokumente\\Daten Fiona\\AIUB\\Code\\AIUB-Backup\\clustering\\high_dim_analysis.py:138: FutureWarning: \n",
      "\n",
      "Passing `palette` without assigning `hue` is deprecated and will be removed in v0.14.0. Assign the `y` variable to `hue` and set `legend=False` for the same effect.\n",
      "\n",
      "  sns.barplot(x=mi_vals, y=features, palette=\"magma\")\n"
     ]
    },
    {
     "name": "stdout",
     "output_type": "stream",
     "text": [
      "Runtime for k_means: 0.002042 seconds\n"
     ]
    },
    {
     "name": "stderr",
     "output_type": "stream",
     "text": [
      "c:\\Users\\fionu\\OneDrive\\Dokumente\\Daten Fiona\\AIUB\\Code\\AIUB-Backup\\clustering\\high_dim_analysis.py:138: FutureWarning: \n",
      "\n",
      "Passing `palette` without assigning `hue` is deprecated and will be removed in v0.14.0. Assign the `y` variable to `hue` and set `legend=False` for the same effect.\n",
      "\n",
      "  sns.barplot(x=mi_vals, y=features, palette=\"magma\")\n"
     ]
    },
    {
     "name": "stdout",
     "output_type": "stream",
     "text": [
      "Runtime for k_means: 0.000000 seconds\n"
     ]
    },
    {
     "name": "stderr",
     "output_type": "stream",
     "text": [
      "c:\\Users\\fionu\\OneDrive\\Dokumente\\Daten Fiona\\AIUB\\Code\\AIUB-Backup\\clustering\\high_dim_analysis.py:138: FutureWarning: \n",
      "\n",
      "Passing `palette` without assigning `hue` is deprecated and will be removed in v0.14.0. Assign the `y` variable to `hue` and set `legend=False` for the same effect.\n",
      "\n",
      "  sns.barplot(x=mi_vals, y=features, palette=\"magma\")\n"
     ]
    },
    {
     "name": "stdout",
     "output_type": "stream",
     "text": [
      "Runtime for k_means: 0.000000 seconds\n"
     ]
    },
    {
     "name": "stderr",
     "output_type": "stream",
     "text": [
      "c:\\Users\\fionu\\OneDrive\\Dokumente\\Daten Fiona\\AIUB\\Code\\AIUB-Backup\\clustering\\high_dim_analysis.py:138: FutureWarning: \n",
      "\n",
      "Passing `palette` without assigning `hue` is deprecated and will be removed in v0.14.0. Assign the `y` variable to `hue` and set `legend=False` for the same effect.\n",
      "\n",
      "  sns.barplot(x=mi_vals, y=features, palette=\"magma\")\n"
     ]
    },
    {
     "name": "stdout",
     "output_type": "stream",
     "text": [
      "Runtime for k_means: 0.003021 seconds\n",
      "Best KMeans parameters based on ANOVA F-value:\n",
      "Year Range                           2010-2013\n",
      "k                                            3\n",
      "Runtime (s)                              0.002\n",
      "Clusters                                     3\n",
      "Points per Cluster    {0: 52, 1: 1083, 2: 444}\n",
      "Davies-Bouldin                            None\n",
      "Calinski-Harabasz                         None\n",
      "Dunn Index                                None\n",
      "Silhouette Score                          None\n",
      "Mean ANOVA F                          4514.922\n",
      "Name: 0, dtype: object\n"
     ]
    },
    {
     "name": "stderr",
     "output_type": "stream",
     "text": [
      "c:\\Users\\fionu\\OneDrive\\Dokumente\\Daten Fiona\\AIUB\\Code\\AIUB-Backup\\clustering\\high_dim_analysis.py:42: FutureWarning: \n",
      "\n",
      "Passing `palette` without assigning `hue` is deprecated and will be removed in v0.14.0. Assign the `y` variable to `hue` and set `legend=False` for the same effect.\n",
      "\n",
      "  sns.barplot(x=f_vals, y=features, palette=\"crest\")\n"
     ]
    },
    {
     "data": {
      "application/vnd.microsoft.datawrangler.viewer.v0+json": {
       "columns": [
        {
         "name": "index",
         "rawType": "int64",
         "type": "integer"
        },
        {
         "name": "Year Range",
         "rawType": "object",
         "type": "string"
        },
        {
         "name": "k",
         "rawType": "int64",
         "type": "integer"
        },
        {
         "name": "Runtime (s)",
         "rawType": "object",
         "type": "string"
        },
        {
         "name": "Clusters",
         "rawType": "int64",
         "type": "integer"
        },
        {
         "name": "Points per Cluster",
         "rawType": "object",
         "type": "unknown"
        },
        {
         "name": "Davies-Bouldin",
         "rawType": "object",
         "type": "unknown"
        },
        {
         "name": "Calinski-Harabasz",
         "rawType": "object",
         "type": "unknown"
        },
        {
         "name": "Dunn Index",
         "rawType": "object",
         "type": "unknown"
        },
        {
         "name": "Silhouette Score",
         "rawType": "object",
         "type": "unknown"
        },
        {
         "name": "Mean ANOVA F",
         "rawType": "float64",
         "type": "float"
        }
       ],
       "ref": "3d16f91a-1d7d-4b2f-bbfe-47187fb1ebb9",
       "rows": [
        [
         "0",
         "2010-2013",
         "3",
         "0.002",
         "3",
         "{0: 52, 1: 1083, 2: 444}",
         null,
         null,
         null,
         null,
         "4514.922"
        ],
        [
         "1",
         "2010-2013",
         "4",
         "0.000",
         "4",
         "{0: 1129, 1: 207, 2: 107, 3: 136}",
         null,
         null,
         null,
         null,
         "3148.025"
        ],
        [
         "2",
         "2010-2013",
         "5",
         "0.002",
         "5",
         "{0: 475, 1: 197, 2: 250, 3: 52, 4: 605}",
         null,
         null,
         null,
         null,
         "2568.501"
        ],
        [
         "3",
         "2010-2013",
         "6",
         "0.000",
         "6",
         "{0: 133, 1: 603, 2: 202, 3: 498, 4: 111, 5: 32}",
         null,
         null,
         null,
         null,
         "2047.282"
        ],
        [
         "4",
         "2010-2013",
         "7",
         "0.000",
         "7",
         "{0: 511, 1: 206, 2: 179, 3: 25, 4: 589, 5: 30, 6: 39}",
         null,
         null,
         null,
         null,
         "2704.704"
        ]
       ],
       "shape": {
        "columns": 10,
        "rows": 5
       }
      },
      "text/html": [
       "<div>\n",
       "<style scoped>\n",
       "    .dataframe tbody tr th:only-of-type {\n",
       "        vertical-align: middle;\n",
       "    }\n",
       "\n",
       "    .dataframe tbody tr th {\n",
       "        vertical-align: top;\n",
       "    }\n",
       "\n",
       "    .dataframe thead th {\n",
       "        text-align: right;\n",
       "    }\n",
       "</style>\n",
       "<table border=\"1\" class=\"dataframe\">\n",
       "  <thead>\n",
       "    <tr style=\"text-align: right;\">\n",
       "      <th></th>\n",
       "      <th>Year Range</th>\n",
       "      <th>k</th>\n",
       "      <th>Runtime (s)</th>\n",
       "      <th>Clusters</th>\n",
       "      <th>Points per Cluster</th>\n",
       "      <th>Davies-Bouldin</th>\n",
       "      <th>Calinski-Harabasz</th>\n",
       "      <th>Dunn Index</th>\n",
       "      <th>Silhouette Score</th>\n",
       "      <th>Mean ANOVA F</th>\n",
       "    </tr>\n",
       "  </thead>\n",
       "  <tbody>\n",
       "    <tr>\n",
       "      <th>0</th>\n",
       "      <td>2010-2013</td>\n",
       "      <td>3</td>\n",
       "      <td>0.002</td>\n",
       "      <td>3</td>\n",
       "      <td>{0: 52, 1: 1083, 2: 444}</td>\n",
       "      <td>None</td>\n",
       "      <td>None</td>\n",
       "      <td>None</td>\n",
       "      <td>None</td>\n",
       "      <td>4514.922</td>\n",
       "    </tr>\n",
       "    <tr>\n",
       "      <th>1</th>\n",
       "      <td>2010-2013</td>\n",
       "      <td>4</td>\n",
       "      <td>0.000</td>\n",
       "      <td>4</td>\n",
       "      <td>{0: 1129, 1: 207, 2: 107, 3: 136}</td>\n",
       "      <td>None</td>\n",
       "      <td>None</td>\n",
       "      <td>None</td>\n",
       "      <td>None</td>\n",
       "      <td>3148.025</td>\n",
       "    </tr>\n",
       "    <tr>\n",
       "      <th>2</th>\n",
       "      <td>2010-2013</td>\n",
       "      <td>5</td>\n",
       "      <td>0.002</td>\n",
       "      <td>5</td>\n",
       "      <td>{0: 475, 1: 197, 2: 250, 3: 52, 4: 605}</td>\n",
       "      <td>None</td>\n",
       "      <td>None</td>\n",
       "      <td>None</td>\n",
       "      <td>None</td>\n",
       "      <td>2568.501</td>\n",
       "    </tr>\n",
       "    <tr>\n",
       "      <th>3</th>\n",
       "      <td>2010-2013</td>\n",
       "      <td>6</td>\n",
       "      <td>0.000</td>\n",
       "      <td>6</td>\n",
       "      <td>{0: 133, 1: 603, 2: 202, 3: 498, 4: 111, 5: 32}</td>\n",
       "      <td>None</td>\n",
       "      <td>None</td>\n",
       "      <td>None</td>\n",
       "      <td>None</td>\n",
       "      <td>2047.282</td>\n",
       "    </tr>\n",
       "    <tr>\n",
       "      <th>4</th>\n",
       "      <td>2010-2013</td>\n",
       "      <td>7</td>\n",
       "      <td>0.000</td>\n",
       "      <td>7</td>\n",
       "      <td>{0: 511, 1: 206, 2: 179, 3: 25, 4: 589, 5: 30,...</td>\n",
       "      <td>None</td>\n",
       "      <td>None</td>\n",
       "      <td>None</td>\n",
       "      <td>None</td>\n",
       "      <td>2704.704</td>\n",
       "    </tr>\n",
       "  </tbody>\n",
       "</table>\n",
       "</div>"
      ],
      "text/plain": [
       "  Year Range  k Runtime (s)  Clusters  \\\n",
       "0  2010-2013  3       0.002         3   \n",
       "1  2010-2013  4       0.000         4   \n",
       "2  2010-2013  5       0.002         5   \n",
       "3  2010-2013  6       0.000         6   \n",
       "4  2010-2013  7       0.000         7   \n",
       "\n",
       "                                  Points per Cluster Davies-Bouldin  \\\n",
       "0                           {0: 52, 1: 1083, 2: 444}           None   \n",
       "1                  {0: 1129, 1: 207, 2: 107, 3: 136}           None   \n",
       "2            {0: 475, 1: 197, 2: 250, 3: 52, 4: 605}           None   \n",
       "3    {0: 133, 1: 603, 2: 202, 3: 498, 4: 111, 5: 32}           None   \n",
       "4  {0: 511, 1: 206, 2: 179, 3: 25, 4: 589, 5: 30,...           None   \n",
       "\n",
       "  Calinski-Harabasz Dunn Index Silhouette Score  Mean ANOVA F  \n",
       "0              None       None             None      4514.922  \n",
       "1              None       None             None      3148.025  \n",
       "2              None       None             None      2568.501  \n",
       "3              None       None             None      2047.282  \n",
       "4              None       None             None      2704.704  "
      ]
     },
     "metadata": {},
     "output_type": "display_data"
    },
    {
     "name": "stdout",
     "output_type": "stream",
     "text": [
      "\n",
      "Running K-Means for Year Range: 2011-2014\n",
      "Runtime for k_means: 0.000000 seconds\n"
     ]
    },
    {
     "name": "stderr",
     "output_type": "stream",
     "text": [
      "c:\\Users\\fionu\\OneDrive\\Dokumente\\Daten Fiona\\AIUB\\Code\\AIUB-Backup\\clustering\\high_dim_analysis.py:138: FutureWarning: \n",
      "\n",
      "Passing `palette` without assigning `hue` is deprecated and will be removed in v0.14.0. Assign the `y` variable to `hue` and set `legend=False` for the same effect.\n",
      "\n",
      "  sns.barplot(x=mi_vals, y=features, palette=\"magma\")\n"
     ]
    },
    {
     "name": "stdout",
     "output_type": "stream",
     "text": [
      "Runtime for k_means: 0.003115 seconds\n"
     ]
    },
    {
     "name": "stderr",
     "output_type": "stream",
     "text": [
      "c:\\Users\\fionu\\OneDrive\\Dokumente\\Daten Fiona\\AIUB\\Code\\AIUB-Backup\\clustering\\high_dim_analysis.py:138: FutureWarning: \n",
      "\n",
      "Passing `palette` without assigning `hue` is deprecated and will be removed in v0.14.0. Assign the `y` variable to `hue` and set `legend=False` for the same effect.\n",
      "\n",
      "  sns.barplot(x=mi_vals, y=features, palette=\"magma\")\n"
     ]
    },
    {
     "name": "stdout",
     "output_type": "stream",
     "text": [
      "Runtime for k_means: 0.000000 seconds\n"
     ]
    },
    {
     "name": "stderr",
     "output_type": "stream",
     "text": [
      "c:\\Users\\fionu\\OneDrive\\Dokumente\\Daten Fiona\\AIUB\\Code\\AIUB-Backup\\clustering\\high_dim_analysis.py:138: FutureWarning: \n",
      "\n",
      "Passing `palette` without assigning `hue` is deprecated and will be removed in v0.14.0. Assign the `y` variable to `hue` and set `legend=False` for the same effect.\n",
      "\n",
      "  sns.barplot(x=mi_vals, y=features, palette=\"magma\")\n"
     ]
    },
    {
     "name": "stdout",
     "output_type": "stream",
     "text": [
      "Runtime for k_means: 0.000000 seconds\n"
     ]
    },
    {
     "name": "stderr",
     "output_type": "stream",
     "text": [
      "c:\\Users\\fionu\\OneDrive\\Dokumente\\Daten Fiona\\AIUB\\Code\\AIUB-Backup\\clustering\\high_dim_analysis.py:138: FutureWarning: \n",
      "\n",
      "Passing `palette` without assigning `hue` is deprecated and will be removed in v0.14.0. Assign the `y` variable to `hue` and set `legend=False` for the same effect.\n",
      "\n",
      "  sns.barplot(x=mi_vals, y=features, palette=\"magma\")\n"
     ]
    },
    {
     "name": "stdout",
     "output_type": "stream",
     "text": [
      "Runtime for k_means: 0.004048 seconds\n"
     ]
    },
    {
     "name": "stderr",
     "output_type": "stream",
     "text": [
      "c:\\Users\\fionu\\OneDrive\\Dokumente\\Daten Fiona\\AIUB\\Code\\AIUB-Backup\\clustering\\high_dim_analysis.py:138: FutureWarning: \n",
      "\n",
      "Passing `palette` without assigning `hue` is deprecated and will be removed in v0.14.0. Assign the `y` variable to `hue` and set `legend=False` for the same effect.\n",
      "\n",
      "  sns.barplot(x=mi_vals, y=features, palette=\"magma\")\n"
     ]
    },
    {
     "name": "stdout",
     "output_type": "stream",
     "text": [
      "Runtime for k_means: 0.002262 seconds\n",
      "Best KMeans parameters based on ANOVA F-value:\n",
      "Year Range                           2011-2014\n",
      "k                                            3\n",
      "Runtime (s)                              0.000\n",
      "Clusters                                     3\n",
      "Points per Cluster    {0: 337, 1: 236, 2: 293}\n",
      "Davies-Bouldin                            None\n",
      "Calinski-Harabasz                         None\n",
      "Dunn Index                                None\n",
      "Silhouette Score                          None\n",
      "Mean ANOVA F                          2357.502\n",
      "Name: 0, dtype: object\n"
     ]
    },
    {
     "name": "stderr",
     "output_type": "stream",
     "text": [
      "c:\\Users\\fionu\\OneDrive\\Dokumente\\Daten Fiona\\AIUB\\Code\\AIUB-Backup\\clustering\\high_dim_analysis.py:42: FutureWarning: \n",
      "\n",
      "Passing `palette` without assigning `hue` is deprecated and will be removed in v0.14.0. Assign the `y` variable to `hue` and set `legend=False` for the same effect.\n",
      "\n",
      "  sns.barplot(x=f_vals, y=features, palette=\"crest\")\n"
     ]
    },
    {
     "data": {
      "application/vnd.microsoft.datawrangler.viewer.v0+json": {
       "columns": [
        {
         "name": "index",
         "rawType": "int64",
         "type": "integer"
        },
        {
         "name": "Year Range",
         "rawType": "object",
         "type": "string"
        },
        {
         "name": "k",
         "rawType": "int64",
         "type": "integer"
        },
        {
         "name": "Runtime (s)",
         "rawType": "object",
         "type": "string"
        },
        {
         "name": "Clusters",
         "rawType": "int64",
         "type": "integer"
        },
        {
         "name": "Points per Cluster",
         "rawType": "object",
         "type": "unknown"
        },
        {
         "name": "Davies-Bouldin",
         "rawType": "object",
         "type": "unknown"
        },
        {
         "name": "Calinski-Harabasz",
         "rawType": "object",
         "type": "unknown"
        },
        {
         "name": "Dunn Index",
         "rawType": "object",
         "type": "unknown"
        },
        {
         "name": "Silhouette Score",
         "rawType": "object",
         "type": "unknown"
        },
        {
         "name": "Mean ANOVA F",
         "rawType": "float64",
         "type": "float"
        }
       ],
       "ref": "78587804-0f0b-434d-973e-9bcab3be5f51",
       "rows": [
        [
         "0",
         "2011-2014",
         "3",
         "0.000",
         "3",
         "{0: 337, 1: 236, 2: 293}",
         null,
         null,
         null,
         null,
         "2357.502"
        ],
        [
         "1",
         "2011-2014",
         "4",
         "0.003",
         "4",
         "{0: 286, 1: 133, 2: 338, 3: 109}",
         null,
         null,
         null,
         null,
         "1500.725"
        ],
        [
         "2",
         "2011-2014",
         "5",
         "0.000",
         "5",
         "{0: 288, 1: 91, 2: 132, 3: 19, 4: 336}",
         null,
         null,
         null,
         null,
         "1212.619"
        ],
        [
         "3",
         "2011-2014",
         "6",
         "0.000",
         "6",
         "{0: 337, 1: 64, 2: 255, 3: 53, 4: 120, 5: 37}",
         null,
         null,
         null,
         null,
         "1203.82"
        ],
        [
         "4",
         "2011-2014",
         "7",
         "0.004",
         "7",
         "{0: 37, 1: 132, 2: 255, 3: 5, 4: 332, 5: 88, 6: 17}",
         null,
         null,
         null,
         null,
         "1063.858"
        ]
       ],
       "shape": {
        "columns": 10,
        "rows": 5
       }
      },
      "text/html": [
       "<div>\n",
       "<style scoped>\n",
       "    .dataframe tbody tr th:only-of-type {\n",
       "        vertical-align: middle;\n",
       "    }\n",
       "\n",
       "    .dataframe tbody tr th {\n",
       "        vertical-align: top;\n",
       "    }\n",
       "\n",
       "    .dataframe thead th {\n",
       "        text-align: right;\n",
       "    }\n",
       "</style>\n",
       "<table border=\"1\" class=\"dataframe\">\n",
       "  <thead>\n",
       "    <tr style=\"text-align: right;\">\n",
       "      <th></th>\n",
       "      <th>Year Range</th>\n",
       "      <th>k</th>\n",
       "      <th>Runtime (s)</th>\n",
       "      <th>Clusters</th>\n",
       "      <th>Points per Cluster</th>\n",
       "      <th>Davies-Bouldin</th>\n",
       "      <th>Calinski-Harabasz</th>\n",
       "      <th>Dunn Index</th>\n",
       "      <th>Silhouette Score</th>\n",
       "      <th>Mean ANOVA F</th>\n",
       "    </tr>\n",
       "  </thead>\n",
       "  <tbody>\n",
       "    <tr>\n",
       "      <th>0</th>\n",
       "      <td>2011-2014</td>\n",
       "      <td>3</td>\n",
       "      <td>0.000</td>\n",
       "      <td>3</td>\n",
       "      <td>{0: 337, 1: 236, 2: 293}</td>\n",
       "      <td>None</td>\n",
       "      <td>None</td>\n",
       "      <td>None</td>\n",
       "      <td>None</td>\n",
       "      <td>2357.502</td>\n",
       "    </tr>\n",
       "    <tr>\n",
       "      <th>1</th>\n",
       "      <td>2011-2014</td>\n",
       "      <td>4</td>\n",
       "      <td>0.003</td>\n",
       "      <td>4</td>\n",
       "      <td>{0: 286, 1: 133, 2: 338, 3: 109}</td>\n",
       "      <td>None</td>\n",
       "      <td>None</td>\n",
       "      <td>None</td>\n",
       "      <td>None</td>\n",
       "      <td>1500.725</td>\n",
       "    </tr>\n",
       "    <tr>\n",
       "      <th>2</th>\n",
       "      <td>2011-2014</td>\n",
       "      <td>5</td>\n",
       "      <td>0.000</td>\n",
       "      <td>5</td>\n",
       "      <td>{0: 288, 1: 91, 2: 132, 3: 19, 4: 336}</td>\n",
       "      <td>None</td>\n",
       "      <td>None</td>\n",
       "      <td>None</td>\n",
       "      <td>None</td>\n",
       "      <td>1212.619</td>\n",
       "    </tr>\n",
       "    <tr>\n",
       "      <th>3</th>\n",
       "      <td>2011-2014</td>\n",
       "      <td>6</td>\n",
       "      <td>0.000</td>\n",
       "      <td>6</td>\n",
       "      <td>{0: 337, 1: 64, 2: 255, 3: 53, 4: 120, 5: 37}</td>\n",
       "      <td>None</td>\n",
       "      <td>None</td>\n",
       "      <td>None</td>\n",
       "      <td>None</td>\n",
       "      <td>1203.820</td>\n",
       "    </tr>\n",
       "    <tr>\n",
       "      <th>4</th>\n",
       "      <td>2011-2014</td>\n",
       "      <td>7</td>\n",
       "      <td>0.004</td>\n",
       "      <td>7</td>\n",
       "      <td>{0: 37, 1: 132, 2: 255, 3: 5, 4: 332, 5: 88, 6...</td>\n",
       "      <td>None</td>\n",
       "      <td>None</td>\n",
       "      <td>None</td>\n",
       "      <td>None</td>\n",
       "      <td>1063.858</td>\n",
       "    </tr>\n",
       "  </tbody>\n",
       "</table>\n",
       "</div>"
      ],
      "text/plain": [
       "  Year Range  k Runtime (s)  Clusters  \\\n",
       "0  2011-2014  3       0.000         3   \n",
       "1  2011-2014  4       0.003         4   \n",
       "2  2011-2014  5       0.000         5   \n",
       "3  2011-2014  6       0.000         6   \n",
       "4  2011-2014  7       0.004         7   \n",
       "\n",
       "                                  Points per Cluster Davies-Bouldin  \\\n",
       "0                           {0: 337, 1: 236, 2: 293}           None   \n",
       "1                   {0: 286, 1: 133, 2: 338, 3: 109}           None   \n",
       "2             {0: 288, 1: 91, 2: 132, 3: 19, 4: 336}           None   \n",
       "3      {0: 337, 1: 64, 2: 255, 3: 53, 4: 120, 5: 37}           None   \n",
       "4  {0: 37, 1: 132, 2: 255, 3: 5, 4: 332, 5: 88, 6...           None   \n",
       "\n",
       "  Calinski-Harabasz Dunn Index Silhouette Score  Mean ANOVA F  \n",
       "0              None       None             None      2357.502  \n",
       "1              None       None             None      1500.725  \n",
       "2              None       None             None      1212.619  \n",
       "3              None       None             None      1203.820  \n",
       "4              None       None             None      1063.858  "
      ]
     },
     "metadata": {},
     "output_type": "display_data"
    },
    {
     "name": "stdout",
     "output_type": "stream",
     "text": [
      "\n",
      "Running K-Means for Year Range: 2012-2015\n",
      "Runtime for k_means: 0.003369 seconds\n"
     ]
    },
    {
     "name": "stderr",
     "output_type": "stream",
     "text": [
      "c:\\Users\\fionu\\OneDrive\\Dokumente\\Daten Fiona\\AIUB\\Code\\AIUB-Backup\\clustering\\high_dim_analysis.py:138: FutureWarning: \n",
      "\n",
      "Passing `palette` without assigning `hue` is deprecated and will be removed in v0.14.0. Assign the `y` variable to `hue` and set `legend=False` for the same effect.\n",
      "\n",
      "  sns.barplot(x=mi_vals, y=features, palette=\"magma\")\n"
     ]
    },
    {
     "name": "stdout",
     "output_type": "stream",
     "text": [
      "Runtime for k_means: 0.000000 seconds\n"
     ]
    },
    {
     "name": "stderr",
     "output_type": "stream",
     "text": [
      "c:\\Users\\fionu\\OneDrive\\Dokumente\\Daten Fiona\\AIUB\\Code\\AIUB-Backup\\clustering\\high_dim_analysis.py:138: FutureWarning: \n",
      "\n",
      "Passing `palette` without assigning `hue` is deprecated and will be removed in v0.14.0. Assign the `y` variable to `hue` and set `legend=False` for the same effect.\n",
      "\n",
      "  sns.barplot(x=mi_vals, y=features, palette=\"magma\")\n"
     ]
    },
    {
     "name": "stdout",
     "output_type": "stream",
     "text": [
      "Runtime for k_means: 0.002125 seconds\n"
     ]
    },
    {
     "name": "stderr",
     "output_type": "stream",
     "text": [
      "c:\\Users\\fionu\\OneDrive\\Dokumente\\Daten Fiona\\AIUB\\Code\\AIUB-Backup\\clustering\\high_dim_analysis.py:138: FutureWarning: \n",
      "\n",
      "Passing `palette` without assigning `hue` is deprecated and will be removed in v0.14.0. Assign the `y` variable to `hue` and set `legend=False` for the same effect.\n",
      "\n",
      "  sns.barplot(x=mi_vals, y=features, palette=\"magma\")\n"
     ]
    },
    {
     "name": "stdout",
     "output_type": "stream",
     "text": [
      "Runtime for k_means: 0.000000 seconds\n"
     ]
    },
    {
     "name": "stderr",
     "output_type": "stream",
     "text": [
      "c:\\Users\\fionu\\OneDrive\\Dokumente\\Daten Fiona\\AIUB\\Code\\AIUB-Backup\\clustering\\high_dim_analysis.py:138: FutureWarning: \n",
      "\n",
      "Passing `palette` without assigning `hue` is deprecated and will be removed in v0.14.0. Assign the `y` variable to `hue` and set `legend=False` for the same effect.\n",
      "\n",
      "  sns.barplot(x=mi_vals, y=features, palette=\"magma\")\n"
     ]
    },
    {
     "name": "stdout",
     "output_type": "stream",
     "text": [
      "Runtime for k_means: 0.000000 seconds\n"
     ]
    },
    {
     "name": "stderr",
     "output_type": "stream",
     "text": [
      "c:\\Users\\fionu\\OneDrive\\Dokumente\\Daten Fiona\\AIUB\\Code\\AIUB-Backup\\clustering\\high_dim_analysis.py:138: FutureWarning: \n",
      "\n",
      "Passing `palette` without assigning `hue` is deprecated and will be removed in v0.14.0. Assign the `y` variable to `hue` and set `legend=False` for the same effect.\n",
      "\n",
      "  sns.barplot(x=mi_vals, y=features, palette=\"magma\")\n"
     ]
    },
    {
     "name": "stdout",
     "output_type": "stream",
     "text": [
      "Runtime for k_means: 0.000000 seconds\n"
     ]
    },
    {
     "name": "stderr",
     "output_type": "stream",
     "text": [
      "c:\\Users\\fionu\\OneDrive\\Dokumente\\Daten Fiona\\AIUB\\Code\\AIUB-Backup\\clustering\\high_dim_analysis.py:42: FutureWarning: \n",
      "\n",
      "Passing `palette` without assigning `hue` is deprecated and will be removed in v0.14.0. Assign the `y` variable to `hue` and set `legend=False` for the same effect.\n",
      "\n",
      "  sns.barplot(x=f_vals, y=features, palette=\"crest\")\n"
     ]
    },
    {
     "name": "stdout",
     "output_type": "stream",
     "text": [
      "Best KMeans parameters based on ANOVA F-value:\n",
      "Year Range                           2012-2015\n",
      "k                                            3\n",
      "Runtime (s)                              0.003\n",
      "Clusters                                     3\n",
      "Points per Cluster    {0: 574, 1: 189, 2: 107}\n",
      "Davies-Bouldin                            None\n",
      "Calinski-Harabasz                         None\n",
      "Dunn Index                                None\n",
      "Silhouette Score                          None\n",
      "Mean ANOVA F                          2162.699\n",
      "Name: 0, dtype: object\n"
     ]
    },
    {
     "data": {
      "application/vnd.microsoft.datawrangler.viewer.v0+json": {
       "columns": [
        {
         "name": "index",
         "rawType": "int64",
         "type": "integer"
        },
        {
         "name": "Year Range",
         "rawType": "object",
         "type": "string"
        },
        {
         "name": "k",
         "rawType": "int64",
         "type": "integer"
        },
        {
         "name": "Runtime (s)",
         "rawType": "object",
         "type": "string"
        },
        {
         "name": "Clusters",
         "rawType": "int64",
         "type": "integer"
        },
        {
         "name": "Points per Cluster",
         "rawType": "object",
         "type": "unknown"
        },
        {
         "name": "Davies-Bouldin",
         "rawType": "object",
         "type": "unknown"
        },
        {
         "name": "Calinski-Harabasz",
         "rawType": "object",
         "type": "unknown"
        },
        {
         "name": "Dunn Index",
         "rawType": "object",
         "type": "unknown"
        },
        {
         "name": "Silhouette Score",
         "rawType": "object",
         "type": "unknown"
        },
        {
         "name": "Mean ANOVA F",
         "rawType": "float64",
         "type": "float"
        }
       ],
       "ref": "555b4e76-9bc4-4d5e-b546-8b3e8b3aedda",
       "rows": [
        [
         "0",
         "2012-2015",
         "3",
         "0.003",
         "3",
         "{0: 574, 1: 189, 2: 107}",
         null,
         null,
         null,
         null,
         "2162.699"
        ],
        [
         "1",
         "2012-2015",
         "4",
         "0.000",
         "4",
         "{0: 267, 1: 190, 2: 105, 3: 308}",
         null,
         null,
         null,
         null,
         "1571.173"
        ],
        [
         "2",
         "2012-2015",
         "5",
         "0.002",
         "5",
         "{0: 308, 1: 119, 2: 266, 3: 103, 4: 74}",
         null,
         null,
         null,
         null,
         "1199.965"
        ],
        [
         "3",
         "2012-2015",
         "6",
         "0.000",
         "6",
         "{0: 198, 1: 118, 2: 296, 3: 74, 4: 82, 5: 102}",
         null,
         null,
         null,
         null,
         "1176.346"
        ],
        [
         "4",
         "2012-2015",
         "7",
         "0.000",
         "7",
         "{0: 295, 1: 19, 2: 76, 3: 198, 4: 78, 5: 112, 6: 92}",
         null,
         null,
         null,
         null,
         "1212.108"
        ]
       ],
       "shape": {
        "columns": 10,
        "rows": 5
       }
      },
      "text/html": [
       "<div>\n",
       "<style scoped>\n",
       "    .dataframe tbody tr th:only-of-type {\n",
       "        vertical-align: middle;\n",
       "    }\n",
       "\n",
       "    .dataframe tbody tr th {\n",
       "        vertical-align: top;\n",
       "    }\n",
       "\n",
       "    .dataframe thead th {\n",
       "        text-align: right;\n",
       "    }\n",
       "</style>\n",
       "<table border=\"1\" class=\"dataframe\">\n",
       "  <thead>\n",
       "    <tr style=\"text-align: right;\">\n",
       "      <th></th>\n",
       "      <th>Year Range</th>\n",
       "      <th>k</th>\n",
       "      <th>Runtime (s)</th>\n",
       "      <th>Clusters</th>\n",
       "      <th>Points per Cluster</th>\n",
       "      <th>Davies-Bouldin</th>\n",
       "      <th>Calinski-Harabasz</th>\n",
       "      <th>Dunn Index</th>\n",
       "      <th>Silhouette Score</th>\n",
       "      <th>Mean ANOVA F</th>\n",
       "    </tr>\n",
       "  </thead>\n",
       "  <tbody>\n",
       "    <tr>\n",
       "      <th>0</th>\n",
       "      <td>2012-2015</td>\n",
       "      <td>3</td>\n",
       "      <td>0.003</td>\n",
       "      <td>3</td>\n",
       "      <td>{0: 574, 1: 189, 2: 107}</td>\n",
       "      <td>None</td>\n",
       "      <td>None</td>\n",
       "      <td>None</td>\n",
       "      <td>None</td>\n",
       "      <td>2162.699</td>\n",
       "    </tr>\n",
       "    <tr>\n",
       "      <th>1</th>\n",
       "      <td>2012-2015</td>\n",
       "      <td>4</td>\n",
       "      <td>0.000</td>\n",
       "      <td>4</td>\n",
       "      <td>{0: 267, 1: 190, 2: 105, 3: 308}</td>\n",
       "      <td>None</td>\n",
       "      <td>None</td>\n",
       "      <td>None</td>\n",
       "      <td>None</td>\n",
       "      <td>1571.173</td>\n",
       "    </tr>\n",
       "    <tr>\n",
       "      <th>2</th>\n",
       "      <td>2012-2015</td>\n",
       "      <td>5</td>\n",
       "      <td>0.002</td>\n",
       "      <td>5</td>\n",
       "      <td>{0: 308, 1: 119, 2: 266, 3: 103, 4: 74}</td>\n",
       "      <td>None</td>\n",
       "      <td>None</td>\n",
       "      <td>None</td>\n",
       "      <td>None</td>\n",
       "      <td>1199.965</td>\n",
       "    </tr>\n",
       "    <tr>\n",
       "      <th>3</th>\n",
       "      <td>2012-2015</td>\n",
       "      <td>6</td>\n",
       "      <td>0.000</td>\n",
       "      <td>6</td>\n",
       "      <td>{0: 198, 1: 118, 2: 296, 3: 74, 4: 82, 5: 102}</td>\n",
       "      <td>None</td>\n",
       "      <td>None</td>\n",
       "      <td>None</td>\n",
       "      <td>None</td>\n",
       "      <td>1176.346</td>\n",
       "    </tr>\n",
       "    <tr>\n",
       "      <th>4</th>\n",
       "      <td>2012-2015</td>\n",
       "      <td>7</td>\n",
       "      <td>0.000</td>\n",
       "      <td>7</td>\n",
       "      <td>{0: 295, 1: 19, 2: 76, 3: 198, 4: 78, 5: 112, ...</td>\n",
       "      <td>None</td>\n",
       "      <td>None</td>\n",
       "      <td>None</td>\n",
       "      <td>None</td>\n",
       "      <td>1212.108</td>\n",
       "    </tr>\n",
       "  </tbody>\n",
       "</table>\n",
       "</div>"
      ],
      "text/plain": [
       "  Year Range  k Runtime (s)  Clusters  \\\n",
       "0  2012-2015  3       0.003         3   \n",
       "1  2012-2015  4       0.000         4   \n",
       "2  2012-2015  5       0.002         5   \n",
       "3  2012-2015  6       0.000         6   \n",
       "4  2012-2015  7       0.000         7   \n",
       "\n",
       "                                  Points per Cluster Davies-Bouldin  \\\n",
       "0                           {0: 574, 1: 189, 2: 107}           None   \n",
       "1                   {0: 267, 1: 190, 2: 105, 3: 308}           None   \n",
       "2            {0: 308, 1: 119, 2: 266, 3: 103, 4: 74}           None   \n",
       "3     {0: 198, 1: 118, 2: 296, 3: 74, 4: 82, 5: 102}           None   \n",
       "4  {0: 295, 1: 19, 2: 76, 3: 198, 4: 78, 5: 112, ...           None   \n",
       "\n",
       "  Calinski-Harabasz Dunn Index Silhouette Score  Mean ANOVA F  \n",
       "0              None       None             None      2162.699  \n",
       "1              None       None             None      1571.173  \n",
       "2              None       None             None      1199.965  \n",
       "3              None       None             None      1176.346  \n",
       "4              None       None             None      1212.108  "
      ]
     },
     "metadata": {},
     "output_type": "display_data"
    },
    {
     "name": "stdout",
     "output_type": "stream",
     "text": [
      "\n",
      "Running K-Means for Year Range: 2013-2016\n",
      "Runtime for k_means: 0.011099 seconds\n"
     ]
    },
    {
     "name": "stderr",
     "output_type": "stream",
     "text": [
      "c:\\Users\\fionu\\OneDrive\\Dokumente\\Daten Fiona\\AIUB\\Code\\AIUB-Backup\\clustering\\high_dim_analysis.py:138: FutureWarning: \n",
      "\n",
      "Passing `palette` without assigning `hue` is deprecated and will be removed in v0.14.0. Assign the `y` variable to `hue` and set `legend=False` for the same effect.\n",
      "\n",
      "  sns.barplot(x=mi_vals, y=features, palette=\"magma\")\n"
     ]
    },
    {
     "name": "stdout",
     "output_type": "stream",
     "text": [
      "Runtime for k_means: 0.000000 seconds\n"
     ]
    },
    {
     "name": "stderr",
     "output_type": "stream",
     "text": [
      "c:\\Users\\fionu\\OneDrive\\Dokumente\\Daten Fiona\\AIUB\\Code\\AIUB-Backup\\clustering\\high_dim_analysis.py:138: FutureWarning: \n",
      "\n",
      "Passing `palette` without assigning `hue` is deprecated and will be removed in v0.14.0. Assign the `y` variable to `hue` and set `legend=False` for the same effect.\n",
      "\n",
      "  sns.barplot(x=mi_vals, y=features, palette=\"magma\")\n"
     ]
    },
    {
     "name": "stdout",
     "output_type": "stream",
     "text": [
      "Runtime for k_means: 0.012122 seconds\n"
     ]
    },
    {
     "name": "stderr",
     "output_type": "stream",
     "text": [
      "c:\\Users\\fionu\\OneDrive\\Dokumente\\Daten Fiona\\AIUB\\Code\\AIUB-Backup\\clustering\\high_dim_analysis.py:138: FutureWarning: \n",
      "\n",
      "Passing `palette` without assigning `hue` is deprecated and will be removed in v0.14.0. Assign the `y` variable to `hue` and set `legend=False` for the same effect.\n",
      "\n",
      "  sns.barplot(x=mi_vals, y=features, palette=\"magma\")\n"
     ]
    },
    {
     "name": "stdout",
     "output_type": "stream",
     "text": [
      "Runtime for k_means: 0.003040 seconds\n"
     ]
    },
    {
     "name": "stderr",
     "output_type": "stream",
     "text": [
      "c:\\Users\\fionu\\OneDrive\\Dokumente\\Daten Fiona\\AIUB\\Code\\AIUB-Backup\\clustering\\high_dim_analysis.py:138: FutureWarning: \n",
      "\n",
      "Passing `palette` without assigning `hue` is deprecated and will be removed in v0.14.0. Assign the `y` variable to `hue` and set `legend=False` for the same effect.\n",
      "\n",
      "  sns.barplot(x=mi_vals, y=features, palette=\"magma\")\n"
     ]
    },
    {
     "name": "stdout",
     "output_type": "stream",
     "text": [
      "Runtime for k_means: 0.000000 seconds\n"
     ]
    },
    {
     "name": "stderr",
     "output_type": "stream",
     "text": [
      "c:\\Users\\fionu\\OneDrive\\Dokumente\\Daten Fiona\\AIUB\\Code\\AIUB-Backup\\clustering\\high_dim_analysis.py:138: FutureWarning: \n",
      "\n",
      "Passing `palette` without assigning `hue` is deprecated and will be removed in v0.14.0. Assign the `y` variable to `hue` and set `legend=False` for the same effect.\n",
      "\n",
      "  sns.barplot(x=mi_vals, y=features, palette=\"magma\")\n"
     ]
    },
    {
     "name": "stdout",
     "output_type": "stream",
     "text": [
      "Runtime for k_means: 0.003001 seconds\n"
     ]
    },
    {
     "name": "stderr",
     "output_type": "stream",
     "text": [
      "c:\\Users\\fionu\\OneDrive\\Dokumente\\Daten Fiona\\AIUB\\Code\\AIUB-Backup\\clustering\\high_dim_analysis.py:42: FutureWarning: \n",
      "\n",
      "Passing `palette` without assigning `hue` is deprecated and will be removed in v0.14.0. Assign the `y` variable to `hue` and set `legend=False` for the same effect.\n",
      "\n",
      "  sns.barplot(x=f_vals, y=features, palette=\"crest\")\n"
     ]
    },
    {
     "name": "stdout",
     "output_type": "stream",
     "text": [
      "Best KMeans parameters based on ANOVA F-value:\n",
      "Year Range                                   2013-2016\n",
      "k                                                    4\n",
      "Runtime (s)                                      0.000\n",
      "Clusters                                             4\n",
      "Points per Cluster    {0: 215, 1: 181, 2: 774, 3: 157}\n",
      "Davies-Bouldin                                    None\n",
      "Calinski-Harabasz                                 None\n",
      "Dunn Index                                        None\n",
      "Silhouette Score                                  None\n",
      "Mean ANOVA F                                  3308.619\n",
      "Name: 1, dtype: object\n"
     ]
    },
    {
     "data": {
      "application/vnd.microsoft.datawrangler.viewer.v0+json": {
       "columns": [
        {
         "name": "index",
         "rawType": "int64",
         "type": "integer"
        },
        {
         "name": "Year Range",
         "rawType": "object",
         "type": "string"
        },
        {
         "name": "k",
         "rawType": "int64",
         "type": "integer"
        },
        {
         "name": "Runtime (s)",
         "rawType": "object",
         "type": "string"
        },
        {
         "name": "Clusters",
         "rawType": "int64",
         "type": "integer"
        },
        {
         "name": "Points per Cluster",
         "rawType": "object",
         "type": "unknown"
        },
        {
         "name": "Davies-Bouldin",
         "rawType": "object",
         "type": "unknown"
        },
        {
         "name": "Calinski-Harabasz",
         "rawType": "object",
         "type": "unknown"
        },
        {
         "name": "Dunn Index",
         "rawType": "object",
         "type": "unknown"
        },
        {
         "name": "Silhouette Score",
         "rawType": "object",
         "type": "unknown"
        },
        {
         "name": "Mean ANOVA F",
         "rawType": "float64",
         "type": "float"
        }
       ],
       "ref": "07aa5de8-4326-465d-a54a-1c9528fedc09",
       "rows": [
        [
         "0",
         "2013-2016",
         "3",
         "0.011",
         "3",
         "{0: 788, 1: 361, 2: 178}",
         null,
         null,
         null,
         null,
         "1583.222"
        ],
        [
         "1",
         "2013-2016",
         "4",
         "0.000",
         "4",
         "{0: 215, 1: 181, 2: 774, 3: 157}",
         null,
         null,
         null,
         null,
         "3308.619"
        ],
        [
         "2",
         "2013-2016",
         "5",
         "0.012",
         "5",
         "{0: 424, 1: 218, 2: 178, 3: 353, 4: 154}",
         null,
         null,
         null,
         null,
         "2660.229"
        ],
        [
         "3",
         "2013-2016",
         "6",
         "0.003",
         "6",
         "{0: 174, 1: 659, 2: 150, 3: 141, 4: 119, 5: 84}",
         null,
         null,
         null,
         null,
         "2441.314"
        ],
        [
         "4",
         "2013-2016",
         "7",
         "0.000",
         "7",
         "{0: 327, 1: 172, 2: 335, 3: 123, 4: 161, 5: 91, 6: 118}",
         null,
         null,
         null,
         null,
         "2118.085"
        ]
       ],
       "shape": {
        "columns": 10,
        "rows": 5
       }
      },
      "text/html": [
       "<div>\n",
       "<style scoped>\n",
       "    .dataframe tbody tr th:only-of-type {\n",
       "        vertical-align: middle;\n",
       "    }\n",
       "\n",
       "    .dataframe tbody tr th {\n",
       "        vertical-align: top;\n",
       "    }\n",
       "\n",
       "    .dataframe thead th {\n",
       "        text-align: right;\n",
       "    }\n",
       "</style>\n",
       "<table border=\"1\" class=\"dataframe\">\n",
       "  <thead>\n",
       "    <tr style=\"text-align: right;\">\n",
       "      <th></th>\n",
       "      <th>Year Range</th>\n",
       "      <th>k</th>\n",
       "      <th>Runtime (s)</th>\n",
       "      <th>Clusters</th>\n",
       "      <th>Points per Cluster</th>\n",
       "      <th>Davies-Bouldin</th>\n",
       "      <th>Calinski-Harabasz</th>\n",
       "      <th>Dunn Index</th>\n",
       "      <th>Silhouette Score</th>\n",
       "      <th>Mean ANOVA F</th>\n",
       "    </tr>\n",
       "  </thead>\n",
       "  <tbody>\n",
       "    <tr>\n",
       "      <th>0</th>\n",
       "      <td>2013-2016</td>\n",
       "      <td>3</td>\n",
       "      <td>0.011</td>\n",
       "      <td>3</td>\n",
       "      <td>{0: 788, 1: 361, 2: 178}</td>\n",
       "      <td>None</td>\n",
       "      <td>None</td>\n",
       "      <td>None</td>\n",
       "      <td>None</td>\n",
       "      <td>1583.222</td>\n",
       "    </tr>\n",
       "    <tr>\n",
       "      <th>1</th>\n",
       "      <td>2013-2016</td>\n",
       "      <td>4</td>\n",
       "      <td>0.000</td>\n",
       "      <td>4</td>\n",
       "      <td>{0: 215, 1: 181, 2: 774, 3: 157}</td>\n",
       "      <td>None</td>\n",
       "      <td>None</td>\n",
       "      <td>None</td>\n",
       "      <td>None</td>\n",
       "      <td>3308.619</td>\n",
       "    </tr>\n",
       "    <tr>\n",
       "      <th>2</th>\n",
       "      <td>2013-2016</td>\n",
       "      <td>5</td>\n",
       "      <td>0.012</td>\n",
       "      <td>5</td>\n",
       "      <td>{0: 424, 1: 218, 2: 178, 3: 353, 4: 154}</td>\n",
       "      <td>None</td>\n",
       "      <td>None</td>\n",
       "      <td>None</td>\n",
       "      <td>None</td>\n",
       "      <td>2660.229</td>\n",
       "    </tr>\n",
       "    <tr>\n",
       "      <th>3</th>\n",
       "      <td>2013-2016</td>\n",
       "      <td>6</td>\n",
       "      <td>0.003</td>\n",
       "      <td>6</td>\n",
       "      <td>{0: 174, 1: 659, 2: 150, 3: 141, 4: 119, 5: 84}</td>\n",
       "      <td>None</td>\n",
       "      <td>None</td>\n",
       "      <td>None</td>\n",
       "      <td>None</td>\n",
       "      <td>2441.314</td>\n",
       "    </tr>\n",
       "    <tr>\n",
       "      <th>4</th>\n",
       "      <td>2013-2016</td>\n",
       "      <td>7</td>\n",
       "      <td>0.000</td>\n",
       "      <td>7</td>\n",
       "      <td>{0: 327, 1: 172, 2: 335, 3: 123, 4: 161, 5: 91...</td>\n",
       "      <td>None</td>\n",
       "      <td>None</td>\n",
       "      <td>None</td>\n",
       "      <td>None</td>\n",
       "      <td>2118.085</td>\n",
       "    </tr>\n",
       "  </tbody>\n",
       "</table>\n",
       "</div>"
      ],
      "text/plain": [
       "  Year Range  k Runtime (s)  Clusters  \\\n",
       "0  2013-2016  3       0.011         3   \n",
       "1  2013-2016  4       0.000         4   \n",
       "2  2013-2016  5       0.012         5   \n",
       "3  2013-2016  6       0.003         6   \n",
       "4  2013-2016  7       0.000         7   \n",
       "\n",
       "                                  Points per Cluster Davies-Bouldin  \\\n",
       "0                           {0: 788, 1: 361, 2: 178}           None   \n",
       "1                   {0: 215, 1: 181, 2: 774, 3: 157}           None   \n",
       "2           {0: 424, 1: 218, 2: 178, 3: 353, 4: 154}           None   \n",
       "3    {0: 174, 1: 659, 2: 150, 3: 141, 4: 119, 5: 84}           None   \n",
       "4  {0: 327, 1: 172, 2: 335, 3: 123, 4: 161, 5: 91...           None   \n",
       "\n",
       "  Calinski-Harabasz Dunn Index Silhouette Score  Mean ANOVA F  \n",
       "0              None       None             None      1583.222  \n",
       "1              None       None             None      3308.619  \n",
       "2              None       None             None      2660.229  \n",
       "3              None       None             None      2441.314  \n",
       "4              None       None             None      2118.085  "
      ]
     },
     "metadata": {},
     "output_type": "display_data"
    },
    {
     "name": "stdout",
     "output_type": "stream",
     "text": [
      "\n",
      "Running K-Means for Year Range: 2014-2017\n",
      "Runtime for k_means: 0.006999 seconds\n"
     ]
    },
    {
     "name": "stderr",
     "output_type": "stream",
     "text": [
      "c:\\Users\\fionu\\OneDrive\\Dokumente\\Daten Fiona\\AIUB\\Code\\AIUB-Backup\\clustering\\high_dim_analysis.py:138: FutureWarning: \n",
      "\n",
      "Passing `palette` without assigning `hue` is deprecated and will be removed in v0.14.0. Assign the `y` variable to `hue` and set `legend=False` for the same effect.\n",
      "\n",
      "  sns.barplot(x=mi_vals, y=features, palette=\"magma\")\n"
     ]
    },
    {
     "name": "stdout",
     "output_type": "stream",
     "text": [
      "Runtime for k_means: 0.001544 seconds\n"
     ]
    },
    {
     "name": "stderr",
     "output_type": "stream",
     "text": [
      "c:\\Users\\fionu\\OneDrive\\Dokumente\\Daten Fiona\\AIUB\\Code\\AIUB-Backup\\clustering\\high_dim_analysis.py:138: FutureWarning: \n",
      "\n",
      "Passing `palette` without assigning `hue` is deprecated and will be removed in v0.14.0. Assign the `y` variable to `hue` and set `legend=False` for the same effect.\n",
      "\n",
      "  sns.barplot(x=mi_vals, y=features, palette=\"magma\")\n"
     ]
    },
    {
     "name": "stdout",
     "output_type": "stream",
     "text": [
      "Runtime for k_means: 0.008197 seconds\n"
     ]
    },
    {
     "name": "stderr",
     "output_type": "stream",
     "text": [
      "c:\\Users\\fionu\\OneDrive\\Dokumente\\Daten Fiona\\AIUB\\Code\\AIUB-Backup\\clustering\\high_dim_analysis.py:138: FutureWarning: \n",
      "\n",
      "Passing `palette` without assigning `hue` is deprecated and will be removed in v0.14.0. Assign the `y` variable to `hue` and set `legend=False` for the same effect.\n",
      "\n",
      "  sns.barplot(x=mi_vals, y=features, palette=\"magma\")\n"
     ]
    },
    {
     "name": "stdout",
     "output_type": "stream",
     "text": [
      "Runtime for k_means: 0.003997 seconds\n"
     ]
    },
    {
     "name": "stderr",
     "output_type": "stream",
     "text": [
      "c:\\Users\\fionu\\OneDrive\\Dokumente\\Daten Fiona\\AIUB\\Code\\AIUB-Backup\\clustering\\high_dim_analysis.py:138: FutureWarning: \n",
      "\n",
      "Passing `palette` without assigning `hue` is deprecated and will be removed in v0.14.0. Assign the `y` variable to `hue` and set `legend=False` for the same effect.\n",
      "\n",
      "  sns.barplot(x=mi_vals, y=features, palette=\"magma\")\n"
     ]
    },
    {
     "name": "stdout",
     "output_type": "stream",
     "text": [
      "Runtime for k_means: 0.005859 seconds\n"
     ]
    },
    {
     "name": "stderr",
     "output_type": "stream",
     "text": [
      "c:\\Users\\fionu\\OneDrive\\Dokumente\\Daten Fiona\\AIUB\\Code\\AIUB-Backup\\clustering\\high_dim_analysis.py:138: FutureWarning: \n",
      "\n",
      "Passing `palette` without assigning `hue` is deprecated and will be removed in v0.14.0. Assign the `y` variable to `hue` and set `legend=False` for the same effect.\n",
      "\n",
      "  sns.barplot(x=mi_vals, y=features, palette=\"magma\")\n"
     ]
    },
    {
     "name": "stdout",
     "output_type": "stream",
     "text": [
      "Runtime for k_means: 0.009760 seconds\n"
     ]
    },
    {
     "name": "stderr",
     "output_type": "stream",
     "text": [
      "c:\\Users\\fionu\\OneDrive\\Dokumente\\Daten Fiona\\AIUB\\Code\\AIUB-Backup\\clustering\\high_dim_analysis.py:42: FutureWarning: \n",
      "\n",
      "Passing `palette` without assigning `hue` is deprecated and will be removed in v0.14.0. Assign the `y` variable to `hue` and set `legend=False` for the same effect.\n",
      "\n",
      "  sns.barplot(x=f_vals, y=features, palette=\"crest\")\n"
     ]
    },
    {
     "name": "stdout",
     "output_type": "stream",
     "text": [
      "Best KMeans parameters based on ANOVA F-value:\n",
      "Year Range                                    2014-2017\n",
      "k                                                     4\n",
      "Runtime (s)                                       0.002\n",
      "Clusters                                              4\n",
      "Points per Cluster    {0: 297, 1: 1060, 2: 225, 3: 315}\n",
      "Davies-Bouldin                                     None\n",
      "Calinski-Harabasz                                  None\n",
      "Dunn Index                                         None\n",
      "Silhouette Score                                   None\n",
      "Mean ANOVA F                                   4953.836\n",
      "Name: 1, dtype: object\n"
     ]
    },
    {
     "data": {
      "application/vnd.microsoft.datawrangler.viewer.v0+json": {
       "columns": [
        {
         "name": "index",
         "rawType": "int64",
         "type": "integer"
        },
        {
         "name": "Year Range",
         "rawType": "object",
         "type": "string"
        },
        {
         "name": "k",
         "rawType": "int64",
         "type": "integer"
        },
        {
         "name": "Runtime (s)",
         "rawType": "object",
         "type": "string"
        },
        {
         "name": "Clusters",
         "rawType": "int64",
         "type": "integer"
        },
        {
         "name": "Points per Cluster",
         "rawType": "object",
         "type": "unknown"
        },
        {
         "name": "Davies-Bouldin",
         "rawType": "object",
         "type": "unknown"
        },
        {
         "name": "Calinski-Harabasz",
         "rawType": "object",
         "type": "unknown"
        },
        {
         "name": "Dunn Index",
         "rawType": "object",
         "type": "unknown"
        },
        {
         "name": "Silhouette Score",
         "rawType": "object",
         "type": "unknown"
        },
        {
         "name": "Mean ANOVA F",
         "rawType": "float64",
         "type": "float"
        }
       ],
       "ref": "fe373301-7581-4f3d-8726-bbada35eccd8",
       "rows": [
        [
         "0",
         "2014-2017",
         "3",
         "0.007",
         "3",
         "{0: 1078, 1: 495, 2: 324}",
         null,
         null,
         null,
         null,
         "2281.933"
        ],
        [
         "1",
         "2014-2017",
         "4",
         "0.002",
         "4",
         "{0: 297, 1: 1060, 2: 225, 3: 315}",
         null,
         null,
         null,
         null,
         "4953.836"
        ],
        [
         "2",
         "2014-2017",
         "5",
         "0.008",
         "5",
         "{0: 529, 1: 315, 2: 538, 3: 290, 4: 225}",
         null,
         null,
         null,
         null,
         "3949.207"
        ],
        [
         "3",
         "2014-2017",
         "6",
         "0.004",
         "6",
         "{0: 824, 1: 165, 2: 243, 3: 136, 4: 288, 5: 241}",
         null,
         null,
         null,
         null,
         "3473.635"
        ],
        [
         "4",
         "2014-2017",
         "7",
         "0.006",
         "7",
         "{0: 33, 1: 229, 2: 281, 3: 300, 4: 217, 5: 476, 6: 361}",
         null,
         null,
         null,
         null,
         "2849.318"
        ]
       ],
       "shape": {
        "columns": 10,
        "rows": 5
       }
      },
      "text/html": [
       "<div>\n",
       "<style scoped>\n",
       "    .dataframe tbody tr th:only-of-type {\n",
       "        vertical-align: middle;\n",
       "    }\n",
       "\n",
       "    .dataframe tbody tr th {\n",
       "        vertical-align: top;\n",
       "    }\n",
       "\n",
       "    .dataframe thead th {\n",
       "        text-align: right;\n",
       "    }\n",
       "</style>\n",
       "<table border=\"1\" class=\"dataframe\">\n",
       "  <thead>\n",
       "    <tr style=\"text-align: right;\">\n",
       "      <th></th>\n",
       "      <th>Year Range</th>\n",
       "      <th>k</th>\n",
       "      <th>Runtime (s)</th>\n",
       "      <th>Clusters</th>\n",
       "      <th>Points per Cluster</th>\n",
       "      <th>Davies-Bouldin</th>\n",
       "      <th>Calinski-Harabasz</th>\n",
       "      <th>Dunn Index</th>\n",
       "      <th>Silhouette Score</th>\n",
       "      <th>Mean ANOVA F</th>\n",
       "    </tr>\n",
       "  </thead>\n",
       "  <tbody>\n",
       "    <tr>\n",
       "      <th>0</th>\n",
       "      <td>2014-2017</td>\n",
       "      <td>3</td>\n",
       "      <td>0.007</td>\n",
       "      <td>3</td>\n",
       "      <td>{0: 1078, 1: 495, 2: 324}</td>\n",
       "      <td>None</td>\n",
       "      <td>None</td>\n",
       "      <td>None</td>\n",
       "      <td>None</td>\n",
       "      <td>2281.933</td>\n",
       "    </tr>\n",
       "    <tr>\n",
       "      <th>1</th>\n",
       "      <td>2014-2017</td>\n",
       "      <td>4</td>\n",
       "      <td>0.002</td>\n",
       "      <td>4</td>\n",
       "      <td>{0: 297, 1: 1060, 2: 225, 3: 315}</td>\n",
       "      <td>None</td>\n",
       "      <td>None</td>\n",
       "      <td>None</td>\n",
       "      <td>None</td>\n",
       "      <td>4953.836</td>\n",
       "    </tr>\n",
       "    <tr>\n",
       "      <th>2</th>\n",
       "      <td>2014-2017</td>\n",
       "      <td>5</td>\n",
       "      <td>0.008</td>\n",
       "      <td>5</td>\n",
       "      <td>{0: 529, 1: 315, 2: 538, 3: 290, 4: 225}</td>\n",
       "      <td>None</td>\n",
       "      <td>None</td>\n",
       "      <td>None</td>\n",
       "      <td>None</td>\n",
       "      <td>3949.207</td>\n",
       "    </tr>\n",
       "    <tr>\n",
       "      <th>3</th>\n",
       "      <td>2014-2017</td>\n",
       "      <td>6</td>\n",
       "      <td>0.004</td>\n",
       "      <td>6</td>\n",
       "      <td>{0: 824, 1: 165, 2: 243, 3: 136, 4: 288, 5: 241}</td>\n",
       "      <td>None</td>\n",
       "      <td>None</td>\n",
       "      <td>None</td>\n",
       "      <td>None</td>\n",
       "      <td>3473.635</td>\n",
       "    </tr>\n",
       "    <tr>\n",
       "      <th>4</th>\n",
       "      <td>2014-2017</td>\n",
       "      <td>7</td>\n",
       "      <td>0.006</td>\n",
       "      <td>7</td>\n",
       "      <td>{0: 33, 1: 229, 2: 281, 3: 300, 4: 217, 5: 476...</td>\n",
       "      <td>None</td>\n",
       "      <td>None</td>\n",
       "      <td>None</td>\n",
       "      <td>None</td>\n",
       "      <td>2849.318</td>\n",
       "    </tr>\n",
       "  </tbody>\n",
       "</table>\n",
       "</div>"
      ],
      "text/plain": [
       "  Year Range  k Runtime (s)  Clusters  \\\n",
       "0  2014-2017  3       0.007         3   \n",
       "1  2014-2017  4       0.002         4   \n",
       "2  2014-2017  5       0.008         5   \n",
       "3  2014-2017  6       0.004         6   \n",
       "4  2014-2017  7       0.006         7   \n",
       "\n",
       "                                  Points per Cluster Davies-Bouldin  \\\n",
       "0                          {0: 1078, 1: 495, 2: 324}           None   \n",
       "1                  {0: 297, 1: 1060, 2: 225, 3: 315}           None   \n",
       "2           {0: 529, 1: 315, 2: 538, 3: 290, 4: 225}           None   \n",
       "3   {0: 824, 1: 165, 2: 243, 3: 136, 4: 288, 5: 241}           None   \n",
       "4  {0: 33, 1: 229, 2: 281, 3: 300, 4: 217, 5: 476...           None   \n",
       "\n",
       "  Calinski-Harabasz Dunn Index Silhouette Score  Mean ANOVA F  \n",
       "0              None       None             None      2281.933  \n",
       "1              None       None             None      4953.836  \n",
       "2              None       None             None      3949.207  \n",
       "3              None       None             None      3473.635  \n",
       "4              None       None             None      2849.318  "
      ]
     },
     "metadata": {},
     "output_type": "display_data"
    },
    {
     "name": "stdout",
     "output_type": "stream",
     "text": [
      "\n",
      "Running K-Means for Year Range: 2015-2018\n",
      "Runtime for k_means: 0.009007 seconds\n"
     ]
    },
    {
     "name": "stderr",
     "output_type": "stream",
     "text": [
      "c:\\Users\\fionu\\OneDrive\\Dokumente\\Daten Fiona\\AIUB\\Code\\AIUB-Backup\\clustering\\high_dim_analysis.py:138: FutureWarning: \n",
      "\n",
      "Passing `palette` without assigning `hue` is deprecated and will be removed in v0.14.0. Assign the `y` variable to `hue` and set `legend=False` for the same effect.\n",
      "\n",
      "  sns.barplot(x=mi_vals, y=features, palette=\"magma\")\n"
     ]
    },
    {
     "name": "stdout",
     "output_type": "stream",
     "text": [
      "Runtime for k_means: 0.004013 seconds\n"
     ]
    },
    {
     "name": "stderr",
     "output_type": "stream",
     "text": [
      "c:\\Users\\fionu\\OneDrive\\Dokumente\\Daten Fiona\\AIUB\\Code\\AIUB-Backup\\clustering\\high_dim_analysis.py:138: FutureWarning: \n",
      "\n",
      "Passing `palette` without assigning `hue` is deprecated and will be removed in v0.14.0. Assign the `y` variable to `hue` and set `legend=False` for the same effect.\n",
      "\n",
      "  sns.barplot(x=mi_vals, y=features, palette=\"magma\")\n"
     ]
    },
    {
     "name": "stdout",
     "output_type": "stream",
     "text": [
      "Runtime for k_means: 0.000000 seconds\n"
     ]
    },
    {
     "name": "stderr",
     "output_type": "stream",
     "text": [
      "c:\\Users\\fionu\\OneDrive\\Dokumente\\Daten Fiona\\AIUB\\Code\\AIUB-Backup\\clustering\\high_dim_analysis.py:138: FutureWarning: \n",
      "\n",
      "Passing `palette` without assigning `hue` is deprecated and will be removed in v0.14.0. Assign the `y` variable to `hue` and set `legend=False` for the same effect.\n",
      "\n",
      "  sns.barplot(x=mi_vals, y=features, palette=\"magma\")\n"
     ]
    },
    {
     "name": "stdout",
     "output_type": "stream",
     "text": [
      "Runtime for k_means: 0.000000 seconds\n"
     ]
    },
    {
     "name": "stderr",
     "output_type": "stream",
     "text": [
      "c:\\Users\\fionu\\OneDrive\\Dokumente\\Daten Fiona\\AIUB\\Code\\AIUB-Backup\\clustering\\high_dim_analysis.py:138: FutureWarning: \n",
      "\n",
      "Passing `palette` without assigning `hue` is deprecated and will be removed in v0.14.0. Assign the `y` variable to `hue` and set `legend=False` for the same effect.\n",
      "\n",
      "  sns.barplot(x=mi_vals, y=features, palette=\"magma\")\n"
     ]
    },
    {
     "name": "stdout",
     "output_type": "stream",
     "text": [
      "Runtime for k_means: 0.006891 seconds\n"
     ]
    },
    {
     "name": "stderr",
     "output_type": "stream",
     "text": [
      "c:\\Users\\fionu\\OneDrive\\Dokumente\\Daten Fiona\\AIUB\\Code\\AIUB-Backup\\clustering\\high_dim_analysis.py:138: FutureWarning: \n",
      "\n",
      "Passing `palette` without assigning `hue` is deprecated and will be removed in v0.14.0. Assign the `y` variable to `hue` and set `legend=False` for the same effect.\n",
      "\n",
      "  sns.barplot(x=mi_vals, y=features, palette=\"magma\")\n"
     ]
    },
    {
     "name": "stdout",
     "output_type": "stream",
     "text": [
      "Runtime for k_means: 0.000000 seconds\n",
      "Best KMeans parameters based on ANOVA F-value:\n",
      "Year Range                                    2015-2018\n",
      "k                                                     4\n",
      "Runtime (s)                                       0.004\n",
      "Clusters                                              4\n",
      "Points per Cluster    {0: 1156, 1: 656, 2: 297, 3: 533}\n",
      "Davies-Bouldin                                     None\n",
      "Calinski-Harabasz                                  None\n",
      "Dunn Index                                         None\n",
      "Silhouette Score                                   None\n",
      "Mean ANOVA F                                   6757.443\n",
      "Name: 1, dtype: object\n"
     ]
    },
    {
     "name": "stderr",
     "output_type": "stream",
     "text": [
      "c:\\Users\\fionu\\OneDrive\\Dokumente\\Daten Fiona\\AIUB\\Code\\AIUB-Backup\\clustering\\high_dim_analysis.py:42: FutureWarning: \n",
      "\n",
      "Passing `palette` without assigning `hue` is deprecated and will be removed in v0.14.0. Assign the `y` variable to `hue` and set `legend=False` for the same effect.\n",
      "\n",
      "  sns.barplot(x=f_vals, y=features, palette=\"crest\")\n"
     ]
    },
    {
     "data": {
      "application/vnd.microsoft.datawrangler.viewer.v0+json": {
       "columns": [
        {
         "name": "index",
         "rawType": "int64",
         "type": "integer"
        },
        {
         "name": "Year Range",
         "rawType": "object",
         "type": "string"
        },
        {
         "name": "k",
         "rawType": "int64",
         "type": "integer"
        },
        {
         "name": "Runtime (s)",
         "rawType": "object",
         "type": "string"
        },
        {
         "name": "Clusters",
         "rawType": "int64",
         "type": "integer"
        },
        {
         "name": "Points per Cluster",
         "rawType": "object",
         "type": "unknown"
        },
        {
         "name": "Davies-Bouldin",
         "rawType": "object",
         "type": "unknown"
        },
        {
         "name": "Calinski-Harabasz",
         "rawType": "object",
         "type": "unknown"
        },
        {
         "name": "Dunn Index",
         "rawType": "object",
         "type": "unknown"
        },
        {
         "name": "Silhouette Score",
         "rawType": "object",
         "type": "unknown"
        },
        {
         "name": "Mean ANOVA F",
         "rawType": "float64",
         "type": "float"
        }
       ],
       "ref": "c894ad6b-26ed-4407-a1a4-5f51a04b8622",
       "rows": [
        [
         "0",
         "2015-2018",
         "3",
         "0.009",
         "3",
         "{0: 313, 1: 1171, 2: 1158}",
         null,
         null,
         null,
         null,
         "2277.833"
        ],
        [
         "1",
         "2015-2018",
         "4",
         "0.004",
         "4",
         "{0: 1156, 1: 656, 2: 297, 3: 533}",
         null,
         null,
         null,
         null,
         "6757.443"
        ],
        [
         "2",
         "2015-2018",
         "5",
         "0.000",
         "5",
         "{0: 505, 1: 808, 2: 385, 3: 647, 4: 297}",
         null,
         null,
         null,
         null,
         "5916.751"
        ],
        [
         "3",
         "2015-2018",
         "6",
         "0.000",
         "6",
         "{0: 757, 1: 385, 2: 269, 3: 428, 4: 297, 5: 506}",
         null,
         null,
         null,
         null,
         "4939.012"
        ],
        [
         "4",
         "2015-2018",
         "7",
         "0.007",
         "7",
         "{0: 427, 1: 362, 2: 493, 3: 47, 4: 287, 5: 757, 6: 269}",
         null,
         null,
         null,
         null,
         "4309.88"
        ]
       ],
       "shape": {
        "columns": 10,
        "rows": 5
       }
      },
      "text/html": [
       "<div>\n",
       "<style scoped>\n",
       "    .dataframe tbody tr th:only-of-type {\n",
       "        vertical-align: middle;\n",
       "    }\n",
       "\n",
       "    .dataframe tbody tr th {\n",
       "        vertical-align: top;\n",
       "    }\n",
       "\n",
       "    .dataframe thead th {\n",
       "        text-align: right;\n",
       "    }\n",
       "</style>\n",
       "<table border=\"1\" class=\"dataframe\">\n",
       "  <thead>\n",
       "    <tr style=\"text-align: right;\">\n",
       "      <th></th>\n",
       "      <th>Year Range</th>\n",
       "      <th>k</th>\n",
       "      <th>Runtime (s)</th>\n",
       "      <th>Clusters</th>\n",
       "      <th>Points per Cluster</th>\n",
       "      <th>Davies-Bouldin</th>\n",
       "      <th>Calinski-Harabasz</th>\n",
       "      <th>Dunn Index</th>\n",
       "      <th>Silhouette Score</th>\n",
       "      <th>Mean ANOVA F</th>\n",
       "    </tr>\n",
       "  </thead>\n",
       "  <tbody>\n",
       "    <tr>\n",
       "      <th>0</th>\n",
       "      <td>2015-2018</td>\n",
       "      <td>3</td>\n",
       "      <td>0.009</td>\n",
       "      <td>3</td>\n",
       "      <td>{0: 313, 1: 1171, 2: 1158}</td>\n",
       "      <td>None</td>\n",
       "      <td>None</td>\n",
       "      <td>None</td>\n",
       "      <td>None</td>\n",
       "      <td>2277.833</td>\n",
       "    </tr>\n",
       "    <tr>\n",
       "      <th>1</th>\n",
       "      <td>2015-2018</td>\n",
       "      <td>4</td>\n",
       "      <td>0.004</td>\n",
       "      <td>4</td>\n",
       "      <td>{0: 1156, 1: 656, 2: 297, 3: 533}</td>\n",
       "      <td>None</td>\n",
       "      <td>None</td>\n",
       "      <td>None</td>\n",
       "      <td>None</td>\n",
       "      <td>6757.443</td>\n",
       "    </tr>\n",
       "    <tr>\n",
       "      <th>2</th>\n",
       "      <td>2015-2018</td>\n",
       "      <td>5</td>\n",
       "      <td>0.000</td>\n",
       "      <td>5</td>\n",
       "      <td>{0: 505, 1: 808, 2: 385, 3: 647, 4: 297}</td>\n",
       "      <td>None</td>\n",
       "      <td>None</td>\n",
       "      <td>None</td>\n",
       "      <td>None</td>\n",
       "      <td>5916.751</td>\n",
       "    </tr>\n",
       "    <tr>\n",
       "      <th>3</th>\n",
       "      <td>2015-2018</td>\n",
       "      <td>6</td>\n",
       "      <td>0.000</td>\n",
       "      <td>6</td>\n",
       "      <td>{0: 757, 1: 385, 2: 269, 3: 428, 4: 297, 5: 506}</td>\n",
       "      <td>None</td>\n",
       "      <td>None</td>\n",
       "      <td>None</td>\n",
       "      <td>None</td>\n",
       "      <td>4939.012</td>\n",
       "    </tr>\n",
       "    <tr>\n",
       "      <th>4</th>\n",
       "      <td>2015-2018</td>\n",
       "      <td>7</td>\n",
       "      <td>0.007</td>\n",
       "      <td>7</td>\n",
       "      <td>{0: 427, 1: 362, 2: 493, 3: 47, 4: 287, 5: 757...</td>\n",
       "      <td>None</td>\n",
       "      <td>None</td>\n",
       "      <td>None</td>\n",
       "      <td>None</td>\n",
       "      <td>4309.880</td>\n",
       "    </tr>\n",
       "  </tbody>\n",
       "</table>\n",
       "</div>"
      ],
      "text/plain": [
       "  Year Range  k Runtime (s)  Clusters  \\\n",
       "0  2015-2018  3       0.009         3   \n",
       "1  2015-2018  4       0.004         4   \n",
       "2  2015-2018  5       0.000         5   \n",
       "3  2015-2018  6       0.000         6   \n",
       "4  2015-2018  7       0.007         7   \n",
       "\n",
       "                                  Points per Cluster Davies-Bouldin  \\\n",
       "0                         {0: 313, 1: 1171, 2: 1158}           None   \n",
       "1                  {0: 1156, 1: 656, 2: 297, 3: 533}           None   \n",
       "2           {0: 505, 1: 808, 2: 385, 3: 647, 4: 297}           None   \n",
       "3   {0: 757, 1: 385, 2: 269, 3: 428, 4: 297, 5: 506}           None   \n",
       "4  {0: 427, 1: 362, 2: 493, 3: 47, 4: 287, 5: 757...           None   \n",
       "\n",
       "  Calinski-Harabasz Dunn Index Silhouette Score  Mean ANOVA F  \n",
       "0              None       None             None      2277.833  \n",
       "1              None       None             None      6757.443  \n",
       "2              None       None             None      5916.751  \n",
       "3              None       None             None      4939.012  \n",
       "4              None       None             None      4309.880  "
      ]
     },
     "metadata": {},
     "output_type": "display_data"
    },
    {
     "name": "stdout",
     "output_type": "stream",
     "text": [
      "\n",
      "Running K-Means for Year Range: 2016-2019\n",
      "Runtime for k_means: 0.015676 seconds\n"
     ]
    },
    {
     "name": "stderr",
     "output_type": "stream",
     "text": [
      "c:\\Users\\fionu\\OneDrive\\Dokumente\\Daten Fiona\\AIUB\\Code\\AIUB-Backup\\clustering\\high_dim_analysis.py:138: FutureWarning: \n",
      "\n",
      "Passing `palette` without assigning `hue` is deprecated and will be removed in v0.14.0. Assign the `y` variable to `hue` and set `legend=False` for the same effect.\n",
      "\n",
      "  sns.barplot(x=mi_vals, y=features, palette=\"magma\")\n"
     ]
    },
    {
     "name": "stdout",
     "output_type": "stream",
     "text": [
      "Runtime for k_means: 0.006122 seconds\n"
     ]
    },
    {
     "name": "stderr",
     "output_type": "stream",
     "text": [
      "c:\\Users\\fionu\\OneDrive\\Dokumente\\Daten Fiona\\AIUB\\Code\\AIUB-Backup\\clustering\\high_dim_analysis.py:138: FutureWarning: \n",
      "\n",
      "Passing `palette` without assigning `hue` is deprecated and will be removed in v0.14.0. Assign the `y` variable to `hue` and set `legend=False` for the same effect.\n",
      "\n",
      "  sns.barplot(x=mi_vals, y=features, palette=\"magma\")\n"
     ]
    },
    {
     "name": "stdout",
     "output_type": "stream",
     "text": [
      "Runtime for k_means: 0.017358 seconds\n"
     ]
    },
    {
     "name": "stderr",
     "output_type": "stream",
     "text": [
      "c:\\Users\\fionu\\OneDrive\\Dokumente\\Daten Fiona\\AIUB\\Code\\AIUB-Backup\\clustering\\high_dim_analysis.py:138: FutureWarning: \n",
      "\n",
      "Passing `palette` without assigning `hue` is deprecated and will be removed in v0.14.0. Assign the `y` variable to `hue` and set `legend=False` for the same effect.\n",
      "\n",
      "  sns.barplot(x=mi_vals, y=features, palette=\"magma\")\n"
     ]
    },
    {
     "name": "stdout",
     "output_type": "stream",
     "text": [
      "Runtime for k_means: 0.023285 seconds\n"
     ]
    },
    {
     "name": "stderr",
     "output_type": "stream",
     "text": [
      "c:\\Users\\fionu\\OneDrive\\Dokumente\\Daten Fiona\\AIUB\\Code\\AIUB-Backup\\clustering\\high_dim_analysis.py:138: FutureWarning: \n",
      "\n",
      "Passing `palette` without assigning `hue` is deprecated and will be removed in v0.14.0. Assign the `y` variable to `hue` and set `legend=False` for the same effect.\n",
      "\n",
      "  sns.barplot(x=mi_vals, y=features, palette=\"magma\")\n"
     ]
    },
    {
     "name": "stdout",
     "output_type": "stream",
     "text": [
      "Runtime for k_means: 0.001853 seconds\n"
     ]
    },
    {
     "name": "stderr",
     "output_type": "stream",
     "text": [
      "c:\\Users\\fionu\\OneDrive\\Dokumente\\Daten Fiona\\AIUB\\Code\\AIUB-Backup\\clustering\\high_dim_analysis.py:138: FutureWarning: \n",
      "\n",
      "Passing `palette` without assigning `hue` is deprecated and will be removed in v0.14.0. Assign the `y` variable to `hue` and set `legend=False` for the same effect.\n",
      "\n",
      "  sns.barplot(x=mi_vals, y=features, palette=\"magma\")\n"
     ]
    },
    {
     "name": "stdout",
     "output_type": "stream",
     "text": [
      "Runtime for k_means: 0.001937 seconds\n",
      "Best KMeans parameters based on ANOVA F-value:\n",
      "Year Range                            2016-2019\n",
      "k                                             3\n",
      "Runtime (s)                               0.016\n",
      "Clusters                                      3\n",
      "Points per Cluster    {0: 1503, 1: 623, 2: 584}\n",
      "Davies-Bouldin                             None\n",
      "Calinski-Harabasz                          None\n",
      "Dunn Index                                 None\n",
      "Silhouette Score                           None\n",
      "Mean ANOVA F                           8453.664\n",
      "Name: 0, dtype: object\n"
     ]
    },
    {
     "name": "stderr",
     "output_type": "stream",
     "text": [
      "c:\\Users\\fionu\\OneDrive\\Dokumente\\Daten Fiona\\AIUB\\Code\\AIUB-Backup\\clustering\\high_dim_analysis.py:42: FutureWarning: \n",
      "\n",
      "Passing `palette` without assigning `hue` is deprecated and will be removed in v0.14.0. Assign the `y` variable to `hue` and set `legend=False` for the same effect.\n",
      "\n",
      "  sns.barplot(x=f_vals, y=features, palette=\"crest\")\n"
     ]
    },
    {
     "data": {
      "application/vnd.microsoft.datawrangler.viewer.v0+json": {
       "columns": [
        {
         "name": "index",
         "rawType": "int64",
         "type": "integer"
        },
        {
         "name": "Year Range",
         "rawType": "object",
         "type": "string"
        },
        {
         "name": "k",
         "rawType": "int64",
         "type": "integer"
        },
        {
         "name": "Runtime (s)",
         "rawType": "object",
         "type": "string"
        },
        {
         "name": "Clusters",
         "rawType": "int64",
         "type": "integer"
        },
        {
         "name": "Points per Cluster",
         "rawType": "object",
         "type": "unknown"
        },
        {
         "name": "Davies-Bouldin",
         "rawType": "object",
         "type": "unknown"
        },
        {
         "name": "Calinski-Harabasz",
         "rawType": "object",
         "type": "unknown"
        },
        {
         "name": "Dunn Index",
         "rawType": "object",
         "type": "unknown"
        },
        {
         "name": "Silhouette Score",
         "rawType": "object",
         "type": "unknown"
        },
        {
         "name": "Mean ANOVA F",
         "rawType": "float64",
         "type": "float"
        }
       ],
       "ref": "6de32198-0f73-42aa-9724-f42ca32175cc",
       "rows": [
        [
         "0",
         "2016-2019",
         "3",
         "0.016",
         "3",
         "{0: 1503, 1: 623, 2: 584}",
         null,
         null,
         null,
         null,
         "8453.664"
        ],
        [
         "1",
         "2016-2019",
         "4",
         "0.006",
         "4",
         "{0: 1092, 1: 616, 2: 584, 3: 418}",
         null,
         null,
         null,
         null,
         "5919.209"
        ],
        [
         "2",
         "2016-2019",
         "5",
         "0.017",
         "5",
         "{0: 617, 1: 307, 2: 405, 3: 798, 4: 583}",
         null,
         null,
         null,
         null,
         "4464.671"
        ],
        [
         "3",
         "2016-2019",
         "6",
         "0.023",
         "6",
         "{0: 317, 1: 159, 2: 1185, 3: 160, 4: 293, 5: 596}",
         null,
         null,
         null,
         null,
         "4923.081"
        ],
        [
         "4",
         "2016-2019",
         "7",
         "0.002",
         "7",
         "{0: 599, 1: 307, 2: 285, 3: 405, 4: 158, 5: 159, 6: 797}",
         null,
         null,
         null,
         null,
         "3920.925"
        ]
       ],
       "shape": {
        "columns": 10,
        "rows": 5
       }
      },
      "text/html": [
       "<div>\n",
       "<style scoped>\n",
       "    .dataframe tbody tr th:only-of-type {\n",
       "        vertical-align: middle;\n",
       "    }\n",
       "\n",
       "    .dataframe tbody tr th {\n",
       "        vertical-align: top;\n",
       "    }\n",
       "\n",
       "    .dataframe thead th {\n",
       "        text-align: right;\n",
       "    }\n",
       "</style>\n",
       "<table border=\"1\" class=\"dataframe\">\n",
       "  <thead>\n",
       "    <tr style=\"text-align: right;\">\n",
       "      <th></th>\n",
       "      <th>Year Range</th>\n",
       "      <th>k</th>\n",
       "      <th>Runtime (s)</th>\n",
       "      <th>Clusters</th>\n",
       "      <th>Points per Cluster</th>\n",
       "      <th>Davies-Bouldin</th>\n",
       "      <th>Calinski-Harabasz</th>\n",
       "      <th>Dunn Index</th>\n",
       "      <th>Silhouette Score</th>\n",
       "      <th>Mean ANOVA F</th>\n",
       "    </tr>\n",
       "  </thead>\n",
       "  <tbody>\n",
       "    <tr>\n",
       "      <th>0</th>\n",
       "      <td>2016-2019</td>\n",
       "      <td>3</td>\n",
       "      <td>0.016</td>\n",
       "      <td>3</td>\n",
       "      <td>{0: 1503, 1: 623, 2: 584}</td>\n",
       "      <td>None</td>\n",
       "      <td>None</td>\n",
       "      <td>None</td>\n",
       "      <td>None</td>\n",
       "      <td>8453.664</td>\n",
       "    </tr>\n",
       "    <tr>\n",
       "      <th>1</th>\n",
       "      <td>2016-2019</td>\n",
       "      <td>4</td>\n",
       "      <td>0.006</td>\n",
       "      <td>4</td>\n",
       "      <td>{0: 1092, 1: 616, 2: 584, 3: 418}</td>\n",
       "      <td>None</td>\n",
       "      <td>None</td>\n",
       "      <td>None</td>\n",
       "      <td>None</td>\n",
       "      <td>5919.209</td>\n",
       "    </tr>\n",
       "    <tr>\n",
       "      <th>2</th>\n",
       "      <td>2016-2019</td>\n",
       "      <td>5</td>\n",
       "      <td>0.017</td>\n",
       "      <td>5</td>\n",
       "      <td>{0: 617, 1: 307, 2: 405, 3: 798, 4: 583}</td>\n",
       "      <td>None</td>\n",
       "      <td>None</td>\n",
       "      <td>None</td>\n",
       "      <td>None</td>\n",
       "      <td>4464.671</td>\n",
       "    </tr>\n",
       "    <tr>\n",
       "      <th>3</th>\n",
       "      <td>2016-2019</td>\n",
       "      <td>6</td>\n",
       "      <td>0.023</td>\n",
       "      <td>6</td>\n",
       "      <td>{0: 317, 1: 159, 2: 1185, 3: 160, 4: 293, 5: 596}</td>\n",
       "      <td>None</td>\n",
       "      <td>None</td>\n",
       "      <td>None</td>\n",
       "      <td>None</td>\n",
       "      <td>4923.081</td>\n",
       "    </tr>\n",
       "    <tr>\n",
       "      <th>4</th>\n",
       "      <td>2016-2019</td>\n",
       "      <td>7</td>\n",
       "      <td>0.002</td>\n",
       "      <td>7</td>\n",
       "      <td>{0: 599, 1: 307, 2: 285, 3: 405, 4: 158, 5: 15...</td>\n",
       "      <td>None</td>\n",
       "      <td>None</td>\n",
       "      <td>None</td>\n",
       "      <td>None</td>\n",
       "      <td>3920.925</td>\n",
       "    </tr>\n",
       "  </tbody>\n",
       "</table>\n",
       "</div>"
      ],
      "text/plain": [
       "  Year Range  k Runtime (s)  Clusters  \\\n",
       "0  2016-2019  3       0.016         3   \n",
       "1  2016-2019  4       0.006         4   \n",
       "2  2016-2019  5       0.017         5   \n",
       "3  2016-2019  6       0.023         6   \n",
       "4  2016-2019  7       0.002         7   \n",
       "\n",
       "                                  Points per Cluster Davies-Bouldin  \\\n",
       "0                          {0: 1503, 1: 623, 2: 584}           None   \n",
       "1                  {0: 1092, 1: 616, 2: 584, 3: 418}           None   \n",
       "2           {0: 617, 1: 307, 2: 405, 3: 798, 4: 583}           None   \n",
       "3  {0: 317, 1: 159, 2: 1185, 3: 160, 4: 293, 5: 596}           None   \n",
       "4  {0: 599, 1: 307, 2: 285, 3: 405, 4: 158, 5: 15...           None   \n",
       "\n",
       "  Calinski-Harabasz Dunn Index Silhouette Score  Mean ANOVA F  \n",
       "0              None       None             None      8453.664  \n",
       "1              None       None             None      5919.209  \n",
       "2              None       None             None      4464.671  \n",
       "3              None       None             None      4923.081  \n",
       "4              None       None             None      3920.925  "
      ]
     },
     "metadata": {},
     "output_type": "display_data"
    },
    {
     "name": "stdout",
     "output_type": "stream",
     "text": [
      "\n",
      "Running K-Means for Year Range: 2017-2020\n",
      "Runtime for k_means: 0.000000 seconds\n"
     ]
    },
    {
     "name": "stderr",
     "output_type": "stream",
     "text": [
      "c:\\Users\\fionu\\OneDrive\\Dokumente\\Daten Fiona\\AIUB\\Code\\AIUB-Backup\\clustering\\high_dim_analysis.py:138: FutureWarning: \n",
      "\n",
      "Passing `palette` without assigning `hue` is deprecated and will be removed in v0.14.0. Assign the `y` variable to `hue` and set `legend=False` for the same effect.\n",
      "\n",
      "  sns.barplot(x=mi_vals, y=features, palette=\"magma\")\n"
     ]
    },
    {
     "name": "stdout",
     "output_type": "stream",
     "text": [
      "Runtime for k_means: 0.004004 seconds\n"
     ]
    },
    {
     "name": "stderr",
     "output_type": "stream",
     "text": [
      "c:\\Users\\fionu\\OneDrive\\Dokumente\\Daten Fiona\\AIUB\\Code\\AIUB-Backup\\clustering\\high_dim_analysis.py:138: FutureWarning: \n",
      "\n",
      "Passing `palette` without assigning `hue` is deprecated and will be removed in v0.14.0. Assign the `y` variable to `hue` and set `legend=False` for the same effect.\n",
      "\n",
      "  sns.barplot(x=mi_vals, y=features, palette=\"magma\")\n"
     ]
    },
    {
     "name": "stdout",
     "output_type": "stream",
     "text": [
      "Runtime for k_means: 0.006532 seconds\n"
     ]
    },
    {
     "name": "stderr",
     "output_type": "stream",
     "text": [
      "c:\\Users\\fionu\\OneDrive\\Dokumente\\Daten Fiona\\AIUB\\Code\\AIUB-Backup\\clustering\\high_dim_analysis.py:138: FutureWarning: \n",
      "\n",
      "Passing `palette` without assigning `hue` is deprecated and will be removed in v0.14.0. Assign the `y` variable to `hue` and set `legend=False` for the same effect.\n",
      "\n",
      "  sns.barplot(x=mi_vals, y=features, palette=\"magma\")\n"
     ]
    },
    {
     "name": "stdout",
     "output_type": "stream",
     "text": [
      "Runtime for k_means: 0.001760 seconds\n"
     ]
    },
    {
     "name": "stderr",
     "output_type": "stream",
     "text": [
      "c:\\Users\\fionu\\OneDrive\\Dokumente\\Daten Fiona\\AIUB\\Code\\AIUB-Backup\\clustering\\high_dim_analysis.py:138: FutureWarning: \n",
      "\n",
      "Passing `palette` without assigning `hue` is deprecated and will be removed in v0.14.0. Assign the `y` variable to `hue` and set `legend=False` for the same effect.\n",
      "\n",
      "  sns.barplot(x=mi_vals, y=features, palette=\"magma\")\n"
     ]
    },
    {
     "name": "stdout",
     "output_type": "stream",
     "text": [
      "Runtime for k_means: 0.012532 seconds\n"
     ]
    },
    {
     "name": "stderr",
     "output_type": "stream",
     "text": [
      "c:\\Users\\fionu\\OneDrive\\Dokumente\\Daten Fiona\\AIUB\\Code\\AIUB-Backup\\clustering\\high_dim_analysis.py:138: FutureWarning: \n",
      "\n",
      "Passing `palette` without assigning `hue` is deprecated and will be removed in v0.14.0. Assign the `y` variable to `hue` and set `legend=False` for the same effect.\n",
      "\n",
      "  sns.barplot(x=mi_vals, y=features, palette=\"magma\")\n"
     ]
    },
    {
     "name": "stdout",
     "output_type": "stream",
     "text": [
      "Runtime for k_means: 0.006932 seconds\n",
      "Best KMeans parameters based on ANOVA F-value:\n",
      "Year Range                            2017-2020\n",
      "k                                             3\n",
      "Runtime (s)                               0.000\n",
      "Clusters                                      3\n",
      "Points per Cluster    {0: 1890, 1: 601, 2: 800}\n",
      "Davies-Bouldin                             None\n",
      "Calinski-Harabasz                          None\n",
      "Dunn Index                                 None\n",
      "Silhouette Score                           None\n",
      "Mean ANOVA F                           6922.851\n",
      "Name: 0, dtype: object\n"
     ]
    },
    {
     "name": "stderr",
     "output_type": "stream",
     "text": [
      "c:\\Users\\fionu\\OneDrive\\Dokumente\\Daten Fiona\\AIUB\\Code\\AIUB-Backup\\clustering\\high_dim_analysis.py:42: FutureWarning: \n",
      "\n",
      "Passing `palette` without assigning `hue` is deprecated and will be removed in v0.14.0. Assign the `y` variable to `hue` and set `legend=False` for the same effect.\n",
      "\n",
      "  sns.barplot(x=f_vals, y=features, palette=\"crest\")\n"
     ]
    },
    {
     "data": {
      "application/vnd.microsoft.datawrangler.viewer.v0+json": {
       "columns": [
        {
         "name": "index",
         "rawType": "int64",
         "type": "integer"
        },
        {
         "name": "Year Range",
         "rawType": "object",
         "type": "string"
        },
        {
         "name": "k",
         "rawType": "int64",
         "type": "integer"
        },
        {
         "name": "Runtime (s)",
         "rawType": "object",
         "type": "string"
        },
        {
         "name": "Clusters",
         "rawType": "int64",
         "type": "integer"
        },
        {
         "name": "Points per Cluster",
         "rawType": "object",
         "type": "unknown"
        },
        {
         "name": "Davies-Bouldin",
         "rawType": "object",
         "type": "unknown"
        },
        {
         "name": "Calinski-Harabasz",
         "rawType": "object",
         "type": "unknown"
        },
        {
         "name": "Dunn Index",
         "rawType": "object",
         "type": "unknown"
        },
        {
         "name": "Silhouette Score",
         "rawType": "object",
         "type": "unknown"
        },
        {
         "name": "Mean ANOVA F",
         "rawType": "float64",
         "type": "float"
        }
       ],
       "ref": "92da3c7e-9c65-4141-a703-75cfddcf4db0",
       "rows": [
        [
         "0",
         "2017-2020",
         "3",
         "0.000",
         "3",
         "{0: 1890, 1: 601, 2: 800}",
         null,
         null,
         null,
         null,
         "6922.851"
        ],
        [
         "1",
         "2017-2020",
         "4",
         "0.004",
         "4",
         "{0: 1503, 1: 798, 2: 600, 3: 390}",
         null,
         null,
         null,
         null,
         "4830.207"
        ],
        [
         "2",
         "2017-2020",
         "5",
         "0.007",
         "5",
         "{0: 365, 1: 952, 2: 702, 3: 334, 4: 938}",
         null,
         null,
         null,
         null,
         "6352.753"
        ],
        [
         "3",
         "2017-2020",
         "6",
         "0.002",
         "6",
         "{0: 938, 1: 682, 2: 181, 3: 952, 4: 211, 5: 327}",
         null,
         null,
         null,
         null,
         "6436.735"
        ],
        [
         "4",
         "2017-2020",
         "7",
         "0.013",
         "7",
         "{0: 897, 1: 365, 2: 654, 3: 382, 4: 606, 5: 53, 6: 334}",
         null,
         null,
         null,
         null,
         "5004.804"
        ]
       ],
       "shape": {
        "columns": 10,
        "rows": 5
       }
      },
      "text/html": [
       "<div>\n",
       "<style scoped>\n",
       "    .dataframe tbody tr th:only-of-type {\n",
       "        vertical-align: middle;\n",
       "    }\n",
       "\n",
       "    .dataframe tbody tr th {\n",
       "        vertical-align: top;\n",
       "    }\n",
       "\n",
       "    .dataframe thead th {\n",
       "        text-align: right;\n",
       "    }\n",
       "</style>\n",
       "<table border=\"1\" class=\"dataframe\">\n",
       "  <thead>\n",
       "    <tr style=\"text-align: right;\">\n",
       "      <th></th>\n",
       "      <th>Year Range</th>\n",
       "      <th>k</th>\n",
       "      <th>Runtime (s)</th>\n",
       "      <th>Clusters</th>\n",
       "      <th>Points per Cluster</th>\n",
       "      <th>Davies-Bouldin</th>\n",
       "      <th>Calinski-Harabasz</th>\n",
       "      <th>Dunn Index</th>\n",
       "      <th>Silhouette Score</th>\n",
       "      <th>Mean ANOVA F</th>\n",
       "    </tr>\n",
       "  </thead>\n",
       "  <tbody>\n",
       "    <tr>\n",
       "      <th>0</th>\n",
       "      <td>2017-2020</td>\n",
       "      <td>3</td>\n",
       "      <td>0.000</td>\n",
       "      <td>3</td>\n",
       "      <td>{0: 1890, 1: 601, 2: 800}</td>\n",
       "      <td>None</td>\n",
       "      <td>None</td>\n",
       "      <td>None</td>\n",
       "      <td>None</td>\n",
       "      <td>6922.851</td>\n",
       "    </tr>\n",
       "    <tr>\n",
       "      <th>1</th>\n",
       "      <td>2017-2020</td>\n",
       "      <td>4</td>\n",
       "      <td>0.004</td>\n",
       "      <td>4</td>\n",
       "      <td>{0: 1503, 1: 798, 2: 600, 3: 390}</td>\n",
       "      <td>None</td>\n",
       "      <td>None</td>\n",
       "      <td>None</td>\n",
       "      <td>None</td>\n",
       "      <td>4830.207</td>\n",
       "    </tr>\n",
       "    <tr>\n",
       "      <th>2</th>\n",
       "      <td>2017-2020</td>\n",
       "      <td>5</td>\n",
       "      <td>0.007</td>\n",
       "      <td>5</td>\n",
       "      <td>{0: 365, 1: 952, 2: 702, 3: 334, 4: 938}</td>\n",
       "      <td>None</td>\n",
       "      <td>None</td>\n",
       "      <td>None</td>\n",
       "      <td>None</td>\n",
       "      <td>6352.753</td>\n",
       "    </tr>\n",
       "    <tr>\n",
       "      <th>3</th>\n",
       "      <td>2017-2020</td>\n",
       "      <td>6</td>\n",
       "      <td>0.002</td>\n",
       "      <td>6</td>\n",
       "      <td>{0: 938, 1: 682, 2: 181, 3: 952, 4: 211, 5: 327}</td>\n",
       "      <td>None</td>\n",
       "      <td>None</td>\n",
       "      <td>None</td>\n",
       "      <td>None</td>\n",
       "      <td>6436.735</td>\n",
       "    </tr>\n",
       "    <tr>\n",
       "      <th>4</th>\n",
       "      <td>2017-2020</td>\n",
       "      <td>7</td>\n",
       "      <td>0.013</td>\n",
       "      <td>7</td>\n",
       "      <td>{0: 897, 1: 365, 2: 654, 3: 382, 4: 606, 5: 53...</td>\n",
       "      <td>None</td>\n",
       "      <td>None</td>\n",
       "      <td>None</td>\n",
       "      <td>None</td>\n",
       "      <td>5004.804</td>\n",
       "    </tr>\n",
       "  </tbody>\n",
       "</table>\n",
       "</div>"
      ],
      "text/plain": [
       "  Year Range  k Runtime (s)  Clusters  \\\n",
       "0  2017-2020  3       0.000         3   \n",
       "1  2017-2020  4       0.004         4   \n",
       "2  2017-2020  5       0.007         5   \n",
       "3  2017-2020  6       0.002         6   \n",
       "4  2017-2020  7       0.013         7   \n",
       "\n",
       "                                  Points per Cluster Davies-Bouldin  \\\n",
       "0                          {0: 1890, 1: 601, 2: 800}           None   \n",
       "1                  {0: 1503, 1: 798, 2: 600, 3: 390}           None   \n",
       "2           {0: 365, 1: 952, 2: 702, 3: 334, 4: 938}           None   \n",
       "3   {0: 938, 1: 682, 2: 181, 3: 952, 4: 211, 5: 327}           None   \n",
       "4  {0: 897, 1: 365, 2: 654, 3: 382, 4: 606, 5: 53...           None   \n",
       "\n",
       "  Calinski-Harabasz Dunn Index Silhouette Score  Mean ANOVA F  \n",
       "0              None       None             None      6922.851  \n",
       "1              None       None             None      4830.207  \n",
       "2              None       None             None      6352.753  \n",
       "3              None       None             None      6436.735  \n",
       "4              None       None             None      5004.804  "
      ]
     },
     "metadata": {},
     "output_type": "display_data"
    },
    {
     "name": "stdout",
     "output_type": "stream",
     "text": [
      "\n",
      "Running K-Means for Year Range: 2018-2021\n",
      "Runtime for k_means: 0.002613 seconds\n"
     ]
    },
    {
     "name": "stderr",
     "output_type": "stream",
     "text": [
      "c:\\Users\\fionu\\OneDrive\\Dokumente\\Daten Fiona\\AIUB\\Code\\AIUB-Backup\\clustering\\high_dim_analysis.py:138: FutureWarning: \n",
      "\n",
      "Passing `palette` without assigning `hue` is deprecated and will be removed in v0.14.0. Assign the `y` variable to `hue` and set `legend=False` for the same effect.\n",
      "\n",
      "  sns.barplot(x=mi_vals, y=features, palette=\"magma\")\n"
     ]
    },
    {
     "name": "stdout",
     "output_type": "stream",
     "text": [
      "Runtime for k_means: 0.000000 seconds\n"
     ]
    },
    {
     "name": "stderr",
     "output_type": "stream",
     "text": [
      "c:\\Users\\fionu\\OneDrive\\Dokumente\\Daten Fiona\\AIUB\\Code\\AIUB-Backup\\clustering\\high_dim_analysis.py:138: FutureWarning: \n",
      "\n",
      "Passing `palette` without assigning `hue` is deprecated and will be removed in v0.14.0. Assign the `y` variable to `hue` and set `legend=False` for the same effect.\n",
      "\n",
      "  sns.barplot(x=mi_vals, y=features, palette=\"magma\")\n"
     ]
    },
    {
     "name": "stdout",
     "output_type": "stream",
     "text": [
      "Runtime for k_means: 0.000000 seconds\n"
     ]
    },
    {
     "name": "stderr",
     "output_type": "stream",
     "text": [
      "c:\\Users\\fionu\\OneDrive\\Dokumente\\Daten Fiona\\AIUB\\Code\\AIUB-Backup\\clustering\\high_dim_analysis.py:138: FutureWarning: \n",
      "\n",
      "Passing `palette` without assigning `hue` is deprecated and will be removed in v0.14.0. Assign the `y` variable to `hue` and set `legend=False` for the same effect.\n",
      "\n",
      "  sns.barplot(x=mi_vals, y=features, palette=\"magma\")\n"
     ]
    },
    {
     "name": "stdout",
     "output_type": "stream",
     "text": [
      "Runtime for k_means: 0.015012 seconds\n"
     ]
    },
    {
     "name": "stderr",
     "output_type": "stream",
     "text": [
      "c:\\Users\\fionu\\OneDrive\\Dokumente\\Daten Fiona\\AIUB\\Code\\AIUB-Backup\\clustering\\high_dim_analysis.py:138: FutureWarning: \n",
      "\n",
      "Passing `palette` without assigning `hue` is deprecated and will be removed in v0.14.0. Assign the `y` variable to `hue` and set `legend=False` for the same effect.\n",
      "\n",
      "  sns.barplot(x=mi_vals, y=features, palette=\"magma\")\n"
     ]
    },
    {
     "name": "stdout",
     "output_type": "stream",
     "text": [
      "Runtime for k_means: 0.011033 seconds\n"
     ]
    },
    {
     "name": "stderr",
     "output_type": "stream",
     "text": [
      "c:\\Users\\fionu\\OneDrive\\Dokumente\\Daten Fiona\\AIUB\\Code\\AIUB-Backup\\clustering\\high_dim_analysis.py:138: FutureWarning: \n",
      "\n",
      "Passing `palette` without assigning `hue` is deprecated and will be removed in v0.14.0. Assign the `y` variable to `hue` and set `legend=False` for the same effect.\n",
      "\n",
      "  sns.barplot(x=mi_vals, y=features, palette=\"magma\")\n"
     ]
    },
    {
     "name": "stdout",
     "output_type": "stream",
     "text": [
      "Runtime for k_means: 0.000000 seconds\n",
      "Best KMeans parameters based on ANOVA F-value:\n",
      "Year Range                                            2018-2021\n",
      "k                                                             5\n",
      "Runtime (s)                                               0.000\n",
      "Clusters                                                      5\n",
      "Points per Cluster    {0: 1659, 1: 383, 2: 640, 3: 408, 4: 352}\n",
      "Davies-Bouldin                                             None\n",
      "Calinski-Harabasz                                          None\n",
      "Dunn Index                                                 None\n",
      "Silhouette Score                                           None\n",
      "Mean ANOVA F                                           8513.873\n",
      "Name: 2, dtype: object\n"
     ]
    },
    {
     "name": "stderr",
     "output_type": "stream",
     "text": [
      "c:\\Users\\fionu\\OneDrive\\Dokumente\\Daten Fiona\\AIUB\\Code\\AIUB-Backup\\clustering\\high_dim_analysis.py:42: FutureWarning: \n",
      "\n",
      "Passing `palette` without assigning `hue` is deprecated and will be removed in v0.14.0. Assign the `y` variable to `hue` and set `legend=False` for the same effect.\n",
      "\n",
      "  sns.barplot(x=f_vals, y=features, palette=\"crest\")\n"
     ]
    },
    {
     "data": {
      "application/vnd.microsoft.datawrangler.viewer.v0+json": {
       "columns": [
        {
         "name": "index",
         "rawType": "int64",
         "type": "integer"
        },
        {
         "name": "Year Range",
         "rawType": "object",
         "type": "string"
        },
        {
         "name": "k",
         "rawType": "int64",
         "type": "integer"
        },
        {
         "name": "Runtime (s)",
         "rawType": "object",
         "type": "string"
        },
        {
         "name": "Clusters",
         "rawType": "int64",
         "type": "integer"
        },
        {
         "name": "Points per Cluster",
         "rawType": "object",
         "type": "unknown"
        },
        {
         "name": "Davies-Bouldin",
         "rawType": "object",
         "type": "unknown"
        },
        {
         "name": "Calinski-Harabasz",
         "rawType": "object",
         "type": "unknown"
        },
        {
         "name": "Dunn Index",
         "rawType": "object",
         "type": "unknown"
        },
        {
         "name": "Silhouette Score",
         "rawType": "object",
         "type": "unknown"
        },
        {
         "name": "Mean ANOVA F",
         "rawType": "float64",
         "type": "float"
        }
       ],
       "ref": "b5bc80ed-a18b-4cd6-9212-d09655d6c72c",
       "rows": [
        [
         "0",
         "2018-2021",
         "3",
         "0.003",
         "3",
         "{0: 430, 1: 1351, 2: 1661}",
         null,
         null,
         null,
         null,
         "3171.017"
        ],
        [
         "1",
         "2018-2021",
         "4",
         "0.000",
         "4",
         "{0: 1659, 1: 438, 2: 918, 3: 427}",
         null,
         null,
         null,
         null,
         "3432.393"
        ],
        [
         "2",
         "2018-2021",
         "5",
         "0.000",
         "5",
         "{0: 1659, 1: 383, 2: 640, 3: 408, 4: 352}",
         null,
         null,
         null,
         null,
         "8513.873"
        ],
        [
         "3",
         "2018-2021",
         "6",
         "0.015",
         "6",
         "{0: 982, 1: 426, 2: 354, 3: 927, 4: 67, 5: 686}",
         null,
         null,
         null,
         null,
         "2235.596"
        ],
        [
         "4",
         "2018-2021",
         "7",
         "0.011",
         "7",
         "{0: 978, 1: 622, 2: 326, 3: 372, 4: 683, 5: 406, 6: 55}",
         null,
         null,
         null,
         null,
         "5760.688"
        ]
       ],
       "shape": {
        "columns": 10,
        "rows": 5
       }
      },
      "text/html": [
       "<div>\n",
       "<style scoped>\n",
       "    .dataframe tbody tr th:only-of-type {\n",
       "        vertical-align: middle;\n",
       "    }\n",
       "\n",
       "    .dataframe tbody tr th {\n",
       "        vertical-align: top;\n",
       "    }\n",
       "\n",
       "    .dataframe thead th {\n",
       "        text-align: right;\n",
       "    }\n",
       "</style>\n",
       "<table border=\"1\" class=\"dataframe\">\n",
       "  <thead>\n",
       "    <tr style=\"text-align: right;\">\n",
       "      <th></th>\n",
       "      <th>Year Range</th>\n",
       "      <th>k</th>\n",
       "      <th>Runtime (s)</th>\n",
       "      <th>Clusters</th>\n",
       "      <th>Points per Cluster</th>\n",
       "      <th>Davies-Bouldin</th>\n",
       "      <th>Calinski-Harabasz</th>\n",
       "      <th>Dunn Index</th>\n",
       "      <th>Silhouette Score</th>\n",
       "      <th>Mean ANOVA F</th>\n",
       "    </tr>\n",
       "  </thead>\n",
       "  <tbody>\n",
       "    <tr>\n",
       "      <th>0</th>\n",
       "      <td>2018-2021</td>\n",
       "      <td>3</td>\n",
       "      <td>0.003</td>\n",
       "      <td>3</td>\n",
       "      <td>{0: 430, 1: 1351, 2: 1661}</td>\n",
       "      <td>None</td>\n",
       "      <td>None</td>\n",
       "      <td>None</td>\n",
       "      <td>None</td>\n",
       "      <td>3171.017</td>\n",
       "    </tr>\n",
       "    <tr>\n",
       "      <th>1</th>\n",
       "      <td>2018-2021</td>\n",
       "      <td>4</td>\n",
       "      <td>0.000</td>\n",
       "      <td>4</td>\n",
       "      <td>{0: 1659, 1: 438, 2: 918, 3: 427}</td>\n",
       "      <td>None</td>\n",
       "      <td>None</td>\n",
       "      <td>None</td>\n",
       "      <td>None</td>\n",
       "      <td>3432.393</td>\n",
       "    </tr>\n",
       "    <tr>\n",
       "      <th>2</th>\n",
       "      <td>2018-2021</td>\n",
       "      <td>5</td>\n",
       "      <td>0.000</td>\n",
       "      <td>5</td>\n",
       "      <td>{0: 1659, 1: 383, 2: 640, 3: 408, 4: 352}</td>\n",
       "      <td>None</td>\n",
       "      <td>None</td>\n",
       "      <td>None</td>\n",
       "      <td>None</td>\n",
       "      <td>8513.873</td>\n",
       "    </tr>\n",
       "    <tr>\n",
       "      <th>3</th>\n",
       "      <td>2018-2021</td>\n",
       "      <td>6</td>\n",
       "      <td>0.015</td>\n",
       "      <td>6</td>\n",
       "      <td>{0: 982, 1: 426, 2: 354, 3: 927, 4: 67, 5: 686}</td>\n",
       "      <td>None</td>\n",
       "      <td>None</td>\n",
       "      <td>None</td>\n",
       "      <td>None</td>\n",
       "      <td>2235.596</td>\n",
       "    </tr>\n",
       "    <tr>\n",
       "      <th>4</th>\n",
       "      <td>2018-2021</td>\n",
       "      <td>7</td>\n",
       "      <td>0.011</td>\n",
       "      <td>7</td>\n",
       "      <td>{0: 978, 1: 622, 2: 326, 3: 372, 4: 683, 5: 40...</td>\n",
       "      <td>None</td>\n",
       "      <td>None</td>\n",
       "      <td>None</td>\n",
       "      <td>None</td>\n",
       "      <td>5760.688</td>\n",
       "    </tr>\n",
       "  </tbody>\n",
       "</table>\n",
       "</div>"
      ],
      "text/plain": [
       "  Year Range  k Runtime (s)  Clusters  \\\n",
       "0  2018-2021  3       0.003         3   \n",
       "1  2018-2021  4       0.000         4   \n",
       "2  2018-2021  5       0.000         5   \n",
       "3  2018-2021  6       0.015         6   \n",
       "4  2018-2021  7       0.011         7   \n",
       "\n",
       "                                  Points per Cluster Davies-Bouldin  \\\n",
       "0                         {0: 430, 1: 1351, 2: 1661}           None   \n",
       "1                  {0: 1659, 1: 438, 2: 918, 3: 427}           None   \n",
       "2          {0: 1659, 1: 383, 2: 640, 3: 408, 4: 352}           None   \n",
       "3    {0: 982, 1: 426, 2: 354, 3: 927, 4: 67, 5: 686}           None   \n",
       "4  {0: 978, 1: 622, 2: 326, 3: 372, 4: 683, 5: 40...           None   \n",
       "\n",
       "  Calinski-Harabasz Dunn Index Silhouette Score  Mean ANOVA F  \n",
       "0              None       None             None      3171.017  \n",
       "1              None       None             None      3432.393  \n",
       "2              None       None             None      8513.873  \n",
       "3              None       None             None      2235.596  \n",
       "4              None       None             None      5760.688  "
      ]
     },
     "metadata": {},
     "output_type": "display_data"
    },
    {
     "name": "stdout",
     "output_type": "stream",
     "text": [
      "\n",
      "Running K-Means for Year Range: 2019-2022\n",
      "Runtime for k_means: 0.000000 seconds\n"
     ]
    },
    {
     "name": "stderr",
     "output_type": "stream",
     "text": [
      "c:\\Users\\fionu\\OneDrive\\Dokumente\\Daten Fiona\\AIUB\\Code\\AIUB-Backup\\clustering\\high_dim_analysis.py:138: FutureWarning: \n",
      "\n",
      "Passing `palette` without assigning `hue` is deprecated and will be removed in v0.14.0. Assign the `y` variable to `hue` and set `legend=False` for the same effect.\n",
      "\n",
      "  sns.barplot(x=mi_vals, y=features, palette=\"magma\")\n"
     ]
    },
    {
     "name": "stdout",
     "output_type": "stream",
     "text": [
      "Runtime for k_means: 0.000000 seconds\n"
     ]
    },
    {
     "name": "stderr",
     "output_type": "stream",
     "text": [
      "c:\\Users\\fionu\\OneDrive\\Dokumente\\Daten Fiona\\AIUB\\Code\\AIUB-Backup\\clustering\\high_dim_analysis.py:138: FutureWarning: \n",
      "\n",
      "Passing `palette` without assigning `hue` is deprecated and will be removed in v0.14.0. Assign the `y` variable to `hue` and set `legend=False` for the same effect.\n",
      "\n",
      "  sns.barplot(x=mi_vals, y=features, palette=\"magma\")\n"
     ]
    },
    {
     "name": "stdout",
     "output_type": "stream",
     "text": [
      "Runtime for k_means: 0.015676 seconds\n"
     ]
    },
    {
     "name": "stderr",
     "output_type": "stream",
     "text": [
      "c:\\Users\\fionu\\OneDrive\\Dokumente\\Daten Fiona\\AIUB\\Code\\AIUB-Backup\\clustering\\high_dim_analysis.py:138: FutureWarning: \n",
      "\n",
      "Passing `palette` without assigning `hue` is deprecated and will be removed in v0.14.0. Assign the `y` variable to `hue` and set `legend=False` for the same effect.\n",
      "\n",
      "  sns.barplot(x=mi_vals, y=features, palette=\"magma\")\n"
     ]
    },
    {
     "name": "stdout",
     "output_type": "stream",
     "text": [
      "Runtime for k_means: 0.001423 seconds\n"
     ]
    },
    {
     "name": "stderr",
     "output_type": "stream",
     "text": [
      "c:\\Users\\fionu\\OneDrive\\Dokumente\\Daten Fiona\\AIUB\\Code\\AIUB-Backup\\clustering\\high_dim_analysis.py:138: FutureWarning: \n",
      "\n",
      "Passing `palette` without assigning `hue` is deprecated and will be removed in v0.14.0. Assign the `y` variable to `hue` and set `legend=False` for the same effect.\n",
      "\n",
      "  sns.barplot(x=mi_vals, y=features, palette=\"magma\")\n"
     ]
    },
    {
     "name": "stdout",
     "output_type": "stream",
     "text": [
      "Runtime for k_means: 0.017238 seconds\n"
     ]
    },
    {
     "name": "stderr",
     "output_type": "stream",
     "text": [
      "c:\\Users\\fionu\\OneDrive\\Dokumente\\Daten Fiona\\AIUB\\Code\\AIUB-Backup\\clustering\\high_dim_analysis.py:138: FutureWarning: \n",
      "\n",
      "Passing `palette` without assigning `hue` is deprecated and will be removed in v0.14.0. Assign the `y` variable to `hue` and set `legend=False` for the same effect.\n",
      "\n",
      "  sns.barplot(x=mi_vals, y=features, palette=\"magma\")\n"
     ]
    },
    {
     "name": "stdout",
     "output_type": "stream",
     "text": [
      "Runtime for k_means: 0.004008 seconds\n",
      "Best KMeans parameters based on ANOVA F-value:\n",
      "Year Range                                    2019-2022\n",
      "k                                                     4\n",
      "Runtime (s)                                       0.000\n",
      "Clusters                                              4\n",
      "Points per Cluster    {0: 1673, 1: 780, 2: 597, 3: 559}\n",
      "Davies-Bouldin                                     None\n",
      "Calinski-Harabasz                                  None\n",
      "Dunn Index                                         None\n",
      "Silhouette Score                                   None\n",
      "Mean ANOVA F                                  11946.598\n",
      "Name: 1, dtype: object\n"
     ]
    },
    {
     "name": "stderr",
     "output_type": "stream",
     "text": [
      "c:\\Users\\fionu\\OneDrive\\Dokumente\\Daten Fiona\\AIUB\\Code\\AIUB-Backup\\clustering\\high_dim_analysis.py:42: FutureWarning: \n",
      "\n",
      "Passing `palette` without assigning `hue` is deprecated and will be removed in v0.14.0. Assign the `y` variable to `hue` and set `legend=False` for the same effect.\n",
      "\n",
      "  sns.barplot(x=f_vals, y=features, palette=\"crest\")\n"
     ]
    },
    {
     "data": {
      "application/vnd.microsoft.datawrangler.viewer.v0+json": {
       "columns": [
        {
         "name": "index",
         "rawType": "int64",
         "type": "integer"
        },
        {
         "name": "Year Range",
         "rawType": "object",
         "type": "string"
        },
        {
         "name": "k",
         "rawType": "int64",
         "type": "integer"
        },
        {
         "name": "Runtime (s)",
         "rawType": "object",
         "type": "string"
        },
        {
         "name": "Clusters",
         "rawType": "int64",
         "type": "integer"
        },
        {
         "name": "Points per Cluster",
         "rawType": "object",
         "type": "unknown"
        },
        {
         "name": "Davies-Bouldin",
         "rawType": "object",
         "type": "unknown"
        },
        {
         "name": "Calinski-Harabasz",
         "rawType": "object",
         "type": "unknown"
        },
        {
         "name": "Dunn Index",
         "rawType": "object",
         "type": "unknown"
        },
        {
         "name": "Silhouette Score",
         "rawType": "object",
         "type": "unknown"
        },
        {
         "name": "Mean ANOVA F",
         "rawType": "float64",
         "type": "float"
        }
       ],
       "ref": "83d5215f-f895-4669-922d-58964094ea67",
       "rows": [
        [
         "0",
         "2019-2022",
         "3",
         "0.000",
         "3",
         "{0: 1312, 1: 1680, 2: 617}",
         null,
         null,
         null,
         null,
         "3742.545"
        ],
        [
         "1",
         "2019-2022",
         "4",
         "0.000",
         "4",
         "{0: 1673, 1: 780, 2: 597, 3: 559}",
         null,
         null,
         null,
         null,
         "11946.598"
        ],
        [
         "2",
         "2019-2022",
         "5",
         "0.016",
         "5",
         "{0: 2262, 1: 323, 2: 280, 3: 530, 4: 214}",
         null,
         null,
         null,
         null,
         "7712.214"
        ],
        [
         "3",
         "2019-2022",
         "6",
         "0.001",
         "6",
         "{0: 334, 1: 591, 2: 529, 3: 861, 4: 819, 5: 475}",
         null,
         null,
         null,
         null,
         "6776.364"
        ],
        [
         "4",
         "2019-2022",
         "7",
         "0.017",
         "7",
         "{0: 810, 1: 322, 2: 869, 3: 591, 4: 212, 5: 280, 6: 525}",
         null,
         null,
         null,
         null,
         "6168.298"
        ]
       ],
       "shape": {
        "columns": 10,
        "rows": 5
       }
      },
      "text/html": [
       "<div>\n",
       "<style scoped>\n",
       "    .dataframe tbody tr th:only-of-type {\n",
       "        vertical-align: middle;\n",
       "    }\n",
       "\n",
       "    .dataframe tbody tr th {\n",
       "        vertical-align: top;\n",
       "    }\n",
       "\n",
       "    .dataframe thead th {\n",
       "        text-align: right;\n",
       "    }\n",
       "</style>\n",
       "<table border=\"1\" class=\"dataframe\">\n",
       "  <thead>\n",
       "    <tr style=\"text-align: right;\">\n",
       "      <th></th>\n",
       "      <th>Year Range</th>\n",
       "      <th>k</th>\n",
       "      <th>Runtime (s)</th>\n",
       "      <th>Clusters</th>\n",
       "      <th>Points per Cluster</th>\n",
       "      <th>Davies-Bouldin</th>\n",
       "      <th>Calinski-Harabasz</th>\n",
       "      <th>Dunn Index</th>\n",
       "      <th>Silhouette Score</th>\n",
       "      <th>Mean ANOVA F</th>\n",
       "    </tr>\n",
       "  </thead>\n",
       "  <tbody>\n",
       "    <tr>\n",
       "      <th>0</th>\n",
       "      <td>2019-2022</td>\n",
       "      <td>3</td>\n",
       "      <td>0.000</td>\n",
       "      <td>3</td>\n",
       "      <td>{0: 1312, 1: 1680, 2: 617}</td>\n",
       "      <td>None</td>\n",
       "      <td>None</td>\n",
       "      <td>None</td>\n",
       "      <td>None</td>\n",
       "      <td>3742.545</td>\n",
       "    </tr>\n",
       "    <tr>\n",
       "      <th>1</th>\n",
       "      <td>2019-2022</td>\n",
       "      <td>4</td>\n",
       "      <td>0.000</td>\n",
       "      <td>4</td>\n",
       "      <td>{0: 1673, 1: 780, 2: 597, 3: 559}</td>\n",
       "      <td>None</td>\n",
       "      <td>None</td>\n",
       "      <td>None</td>\n",
       "      <td>None</td>\n",
       "      <td>11946.598</td>\n",
       "    </tr>\n",
       "    <tr>\n",
       "      <th>2</th>\n",
       "      <td>2019-2022</td>\n",
       "      <td>5</td>\n",
       "      <td>0.016</td>\n",
       "      <td>5</td>\n",
       "      <td>{0: 2262, 1: 323, 2: 280, 3: 530, 4: 214}</td>\n",
       "      <td>None</td>\n",
       "      <td>None</td>\n",
       "      <td>None</td>\n",
       "      <td>None</td>\n",
       "      <td>7712.214</td>\n",
       "    </tr>\n",
       "    <tr>\n",
       "      <th>3</th>\n",
       "      <td>2019-2022</td>\n",
       "      <td>6</td>\n",
       "      <td>0.001</td>\n",
       "      <td>6</td>\n",
       "      <td>{0: 334, 1: 591, 2: 529, 3: 861, 4: 819, 5: 475}</td>\n",
       "      <td>None</td>\n",
       "      <td>None</td>\n",
       "      <td>None</td>\n",
       "      <td>None</td>\n",
       "      <td>6776.364</td>\n",
       "    </tr>\n",
       "    <tr>\n",
       "      <th>4</th>\n",
       "      <td>2019-2022</td>\n",
       "      <td>7</td>\n",
       "      <td>0.017</td>\n",
       "      <td>7</td>\n",
       "      <td>{0: 810, 1: 322, 2: 869, 3: 591, 4: 212, 5: 28...</td>\n",
       "      <td>None</td>\n",
       "      <td>None</td>\n",
       "      <td>None</td>\n",
       "      <td>None</td>\n",
       "      <td>6168.298</td>\n",
       "    </tr>\n",
       "  </tbody>\n",
       "</table>\n",
       "</div>"
      ],
      "text/plain": [
       "  Year Range  k Runtime (s)  Clusters  \\\n",
       "0  2019-2022  3       0.000         3   \n",
       "1  2019-2022  4       0.000         4   \n",
       "2  2019-2022  5       0.016         5   \n",
       "3  2019-2022  6       0.001         6   \n",
       "4  2019-2022  7       0.017         7   \n",
       "\n",
       "                                  Points per Cluster Davies-Bouldin  \\\n",
       "0                         {0: 1312, 1: 1680, 2: 617}           None   \n",
       "1                  {0: 1673, 1: 780, 2: 597, 3: 559}           None   \n",
       "2          {0: 2262, 1: 323, 2: 280, 3: 530, 4: 214}           None   \n",
       "3   {0: 334, 1: 591, 2: 529, 3: 861, 4: 819, 5: 475}           None   \n",
       "4  {0: 810, 1: 322, 2: 869, 3: 591, 4: 212, 5: 28...           None   \n",
       "\n",
       "  Calinski-Harabasz Dunn Index Silhouette Score  Mean ANOVA F  \n",
       "0              None       None             None      3742.545  \n",
       "1              None       None             None     11946.598  \n",
       "2              None       None             None      7712.214  \n",
       "3              None       None             None      6776.364  \n",
       "4              None       None             None      6168.298  "
      ]
     },
     "metadata": {},
     "output_type": "display_data"
    },
    {
     "name": "stdout",
     "output_type": "stream",
     "text": [
      "\n",
      "Running K-Means for Year Range: 2020-2023\n",
      "Runtime for k_means: 0.000000 seconds\n"
     ]
    },
    {
     "name": "stderr",
     "output_type": "stream",
     "text": [
      "c:\\Users\\fionu\\OneDrive\\Dokumente\\Daten Fiona\\AIUB\\Code\\AIUB-Backup\\clustering\\high_dim_analysis.py:138: FutureWarning: \n",
      "\n",
      "Passing `palette` without assigning `hue` is deprecated and will be removed in v0.14.0. Assign the `y` variable to `hue` and set `legend=False` for the same effect.\n",
      "\n",
      "  sns.barplot(x=mi_vals, y=features, palette=\"magma\")\n"
     ]
    },
    {
     "name": "stdout",
     "output_type": "stream",
     "text": [
      "Runtime for k_means: 0.006998 seconds\n"
     ]
    },
    {
     "name": "stderr",
     "output_type": "stream",
     "text": [
      "c:\\Users\\fionu\\OneDrive\\Dokumente\\Daten Fiona\\AIUB\\Code\\AIUB-Backup\\clustering\\high_dim_analysis.py:138: FutureWarning: \n",
      "\n",
      "Passing `palette` without assigning `hue` is deprecated and will be removed in v0.14.0. Assign the `y` variable to `hue` and set `legend=False` for the same effect.\n",
      "\n",
      "  sns.barplot(x=mi_vals, y=features, palette=\"magma\")\n"
     ]
    },
    {
     "name": "stdout",
     "output_type": "stream",
     "text": [
      "Runtime for k_means: 0.000000 seconds\n"
     ]
    },
    {
     "name": "stderr",
     "output_type": "stream",
     "text": [
      "c:\\Users\\fionu\\OneDrive\\Dokumente\\Daten Fiona\\AIUB\\Code\\AIUB-Backup\\clustering\\high_dim_analysis.py:138: FutureWarning: \n",
      "\n",
      "Passing `palette` without assigning `hue` is deprecated and will be removed in v0.14.0. Assign the `y` variable to `hue` and set `legend=False` for the same effect.\n",
      "\n",
      "  sns.barplot(x=mi_vals, y=features, palette=\"magma\")\n"
     ]
    },
    {
     "name": "stdout",
     "output_type": "stream",
     "text": [
      "Runtime for k_means: 0.016573 seconds\n"
     ]
    },
    {
     "name": "stderr",
     "output_type": "stream",
     "text": [
      "c:\\Users\\fionu\\OneDrive\\Dokumente\\Daten Fiona\\AIUB\\Code\\AIUB-Backup\\clustering\\high_dim_analysis.py:138: FutureWarning: \n",
      "\n",
      "Passing `palette` without assigning `hue` is deprecated and will be removed in v0.14.0. Assign the `y` variable to `hue` and set `legend=False` for the same effect.\n",
      "\n",
      "  sns.barplot(x=mi_vals, y=features, palette=\"magma\")\n"
     ]
    },
    {
     "name": "stdout",
     "output_type": "stream",
     "text": [
      "Runtime for k_means: 0.033998 seconds\n"
     ]
    },
    {
     "name": "stderr",
     "output_type": "stream",
     "text": [
      "c:\\Users\\fionu\\OneDrive\\Dokumente\\Daten Fiona\\AIUB\\Code\\AIUB-Backup\\clustering\\high_dim_analysis.py:138: FutureWarning: \n",
      "\n",
      "Passing `palette` without assigning `hue` is deprecated and will be removed in v0.14.0. Assign the `y` variable to `hue` and set `legend=False` for the same effect.\n",
      "\n",
      "  sns.barplot(x=mi_vals, y=features, palette=\"magma\")\n"
     ]
    },
    {
     "name": "stdout",
     "output_type": "stream",
     "text": [
      "Runtime for k_means: 0.007500 seconds\n",
      "Best KMeans parameters based on ANOVA F-value:\n",
      "Year Range                                            2020-2023\n",
      "k                                                             5\n",
      "Runtime (s)                                               0.000\n",
      "Clusters                                                      5\n",
      "Points per Cluster    {0: 543, 1: 743, 2: 605, 3: 2034, 4: 447}\n",
      "Davies-Bouldin                                             None\n",
      "Calinski-Harabasz                                          None\n",
      "Dunn Index                                                 None\n",
      "Silhouette Score                                           None\n",
      "Mean ANOVA F                                          10275.825\n",
      "Name: 2, dtype: object\n"
     ]
    },
    {
     "name": "stderr",
     "output_type": "stream",
     "text": [
      "c:\\Users\\fionu\\OneDrive\\Dokumente\\Daten Fiona\\AIUB\\Code\\AIUB-Backup\\clustering\\high_dim_analysis.py:42: FutureWarning: \n",
      "\n",
      "Passing `palette` without assigning `hue` is deprecated and will be removed in v0.14.0. Assign the `y` variable to `hue` and set `legend=False` for the same effect.\n",
      "\n",
      "  sns.barplot(x=f_vals, y=features, palette=\"crest\")\n"
     ]
    },
    {
     "data": {
      "application/vnd.microsoft.datawrangler.viewer.v0+json": {
       "columns": [
        {
         "name": "index",
         "rawType": "int64",
         "type": "integer"
        },
        {
         "name": "Year Range",
         "rawType": "object",
         "type": "string"
        },
        {
         "name": "k",
         "rawType": "int64",
         "type": "integer"
        },
        {
         "name": "Runtime (s)",
         "rawType": "object",
         "type": "string"
        },
        {
         "name": "Clusters",
         "rawType": "int64",
         "type": "integer"
        },
        {
         "name": "Points per Cluster",
         "rawType": "object",
         "type": "unknown"
        },
        {
         "name": "Davies-Bouldin",
         "rawType": "object",
         "type": "unknown"
        },
        {
         "name": "Calinski-Harabasz",
         "rawType": "object",
         "type": "unknown"
        },
        {
         "name": "Dunn Index",
         "rawType": "object",
         "type": "unknown"
        },
        {
         "name": "Silhouette Score",
         "rawType": "object",
         "type": "unknown"
        },
        {
         "name": "Mean ANOVA F",
         "rawType": "float64",
         "type": "float"
        }
       ],
       "ref": "a6a705b2-94e2-467c-b4fd-2ed22d1f1936",
       "rows": [
        [
         "0",
         "2020-2023",
         "3",
         "0.000",
         "3",
         "{0: 2788, 1: 513, 2: 1071}",
         null,
         null,
         null,
         null,
         "5418.333"
        ],
        [
         "1",
         "2020-2023",
         "4",
         "0.007",
         "4",
         "{0: 759, 1: 2041, 2: 1062, 3: 510}",
         null,
         null,
         null,
         null,
         "4406.506"
        ],
        [
         "2",
         "2020-2023",
         "5",
         "0.000",
         "5",
         "{0: 543, 1: 743, 2: 605, 3: 2034, 4: 447}",
         null,
         null,
         null,
         null,
         "10275.825"
        ],
        [
         "3",
         "2020-2023",
         "6",
         "0.017",
         "6",
         "{0: 1123, 1: 543, 2: 605, 3: 447, 4: 923, 5: 731}",
         null,
         null,
         null,
         null,
         "8516.241"
        ],
        [
         "4",
         "2020-2023",
         "7",
         "0.034",
         "7",
         "{0: 520, 1: 923, 2: 731, 3: 428, 4: 582, 5: 66, 6: 1122}",
         null,
         null,
         null,
         null,
         "7088.059"
        ]
       ],
       "shape": {
        "columns": 10,
        "rows": 5
       }
      },
      "text/html": [
       "<div>\n",
       "<style scoped>\n",
       "    .dataframe tbody tr th:only-of-type {\n",
       "        vertical-align: middle;\n",
       "    }\n",
       "\n",
       "    .dataframe tbody tr th {\n",
       "        vertical-align: top;\n",
       "    }\n",
       "\n",
       "    .dataframe thead th {\n",
       "        text-align: right;\n",
       "    }\n",
       "</style>\n",
       "<table border=\"1\" class=\"dataframe\">\n",
       "  <thead>\n",
       "    <tr style=\"text-align: right;\">\n",
       "      <th></th>\n",
       "      <th>Year Range</th>\n",
       "      <th>k</th>\n",
       "      <th>Runtime (s)</th>\n",
       "      <th>Clusters</th>\n",
       "      <th>Points per Cluster</th>\n",
       "      <th>Davies-Bouldin</th>\n",
       "      <th>Calinski-Harabasz</th>\n",
       "      <th>Dunn Index</th>\n",
       "      <th>Silhouette Score</th>\n",
       "      <th>Mean ANOVA F</th>\n",
       "    </tr>\n",
       "  </thead>\n",
       "  <tbody>\n",
       "    <tr>\n",
       "      <th>0</th>\n",
       "      <td>2020-2023</td>\n",
       "      <td>3</td>\n",
       "      <td>0.000</td>\n",
       "      <td>3</td>\n",
       "      <td>{0: 2788, 1: 513, 2: 1071}</td>\n",
       "      <td>None</td>\n",
       "      <td>None</td>\n",
       "      <td>None</td>\n",
       "      <td>None</td>\n",
       "      <td>5418.333</td>\n",
       "    </tr>\n",
       "    <tr>\n",
       "      <th>1</th>\n",
       "      <td>2020-2023</td>\n",
       "      <td>4</td>\n",
       "      <td>0.007</td>\n",
       "      <td>4</td>\n",
       "      <td>{0: 759, 1: 2041, 2: 1062, 3: 510}</td>\n",
       "      <td>None</td>\n",
       "      <td>None</td>\n",
       "      <td>None</td>\n",
       "      <td>None</td>\n",
       "      <td>4406.506</td>\n",
       "    </tr>\n",
       "    <tr>\n",
       "      <th>2</th>\n",
       "      <td>2020-2023</td>\n",
       "      <td>5</td>\n",
       "      <td>0.000</td>\n",
       "      <td>5</td>\n",
       "      <td>{0: 543, 1: 743, 2: 605, 3: 2034, 4: 447}</td>\n",
       "      <td>None</td>\n",
       "      <td>None</td>\n",
       "      <td>None</td>\n",
       "      <td>None</td>\n",
       "      <td>10275.825</td>\n",
       "    </tr>\n",
       "    <tr>\n",
       "      <th>3</th>\n",
       "      <td>2020-2023</td>\n",
       "      <td>6</td>\n",
       "      <td>0.017</td>\n",
       "      <td>6</td>\n",
       "      <td>{0: 1123, 1: 543, 2: 605, 3: 447, 4: 923, 5: 731}</td>\n",
       "      <td>None</td>\n",
       "      <td>None</td>\n",
       "      <td>None</td>\n",
       "      <td>None</td>\n",
       "      <td>8516.241</td>\n",
       "    </tr>\n",
       "    <tr>\n",
       "      <th>4</th>\n",
       "      <td>2020-2023</td>\n",
       "      <td>7</td>\n",
       "      <td>0.034</td>\n",
       "      <td>7</td>\n",
       "      <td>{0: 520, 1: 923, 2: 731, 3: 428, 4: 582, 5: 66...</td>\n",
       "      <td>None</td>\n",
       "      <td>None</td>\n",
       "      <td>None</td>\n",
       "      <td>None</td>\n",
       "      <td>7088.059</td>\n",
       "    </tr>\n",
       "  </tbody>\n",
       "</table>\n",
       "</div>"
      ],
      "text/plain": [
       "  Year Range  k Runtime (s)  Clusters  \\\n",
       "0  2020-2023  3       0.000         3   \n",
       "1  2020-2023  4       0.007         4   \n",
       "2  2020-2023  5       0.000         5   \n",
       "3  2020-2023  6       0.017         6   \n",
       "4  2020-2023  7       0.034         7   \n",
       "\n",
       "                                  Points per Cluster Davies-Bouldin  \\\n",
       "0                         {0: 2788, 1: 513, 2: 1071}           None   \n",
       "1                 {0: 759, 1: 2041, 2: 1062, 3: 510}           None   \n",
       "2          {0: 543, 1: 743, 2: 605, 3: 2034, 4: 447}           None   \n",
       "3  {0: 1123, 1: 543, 2: 605, 3: 447, 4: 923, 5: 731}           None   \n",
       "4  {0: 520, 1: 923, 2: 731, 3: 428, 4: 582, 5: 66...           None   \n",
       "\n",
       "  Calinski-Harabasz Dunn Index Silhouette Score  Mean ANOVA F  \n",
       "0              None       None             None      5418.333  \n",
       "1              None       None             None      4406.506  \n",
       "2              None       None             None     10275.825  \n",
       "3              None       None             None      8516.241  \n",
       "4              None       None             None      7088.059  "
      ]
     },
     "metadata": {},
     "output_type": "display_data"
    }
   ],
   "source": [
    "import cluster_data_5d\n",
    "from cluster_data_5d import run_clustering, normalize_data, unnormalize\n",
    "import numpy as np\n",
    "import pandas as pd\n",
    "import os\n",
    "from kmeans import k_means\n",
    "from cluster_plotter import ClusterPlotter\n",
    "from clustering_utils_5d import ClusterData\n",
    "import cluster_plotter\n",
    "import high_dim_analysis\n",
    "import seaborn as sns\n",
    "import matplotlib.pyplot as plt\n",
    "\n",
    "standard_year_ranges = {\n",
    "    f\"{start}-{start + 3}\": np.arange(start, start + 4)\n",
    "    for start in [2002, 2006, 2010, 2014, 2019]\n",
    "}\n",
    "standard_year_ranges[\"2019-2023\"] = np.arange(2019, 2024)  # Include 2023\n",
    "running_ranges = cluster_data_5d.generate_running_year_ranges(2002, 2023, 4)\n",
    "\n",
    "binned_data = cluster_data_5d.bin_data_for_clustering(running_ranges, print_res=False)\n",
    "\n",
    "k_values = [5, 6, 7]\n",
    "\n",
    "results_per_year_range = {}\n",
    "\n",
    "# Output directory for plots\n",
    "plot_dir = \"Images\\\\k_means_running_bins_5d_with_perigee\"\n",
    "os.makedirs(plot_dir, exist_ok=True)\n",
    "cluster_plotter.clear_directory(plot_dir)\n",
    "\n",
    "for cluster_data, year_range in binned_data:  \n",
    "    print(f\"\\nRunning K-Means for Year Range: {year_range}\")\n",
    "\n",
    "    data_array = np.array([cluster_data.inc, cluster_data.raan, cluster_data.ecc]).T\n",
    "    feature_names = [\"inclination [°]\", \"RAAN [°]\", \"Eccentricity\"]\n",
    "\n",
    "    normalized_data, data_min, data_max = normalize_data(data_array)\n",
    "\n",
    "    k_values = [3, 4, 5, 6, 7]\n",
    "\n",
    "    results = []\n",
    "\n",
    "    for k in k_values:\n",
    "        result_kmeans, time_kmeans, n_clusters_kmeans, points_per_cluster_kmeans, metrics_kmeans = run_clustering(\n",
    "            k_means, f\"K-means (k={k})\", normalized_data, data_min, data_max, k, init='kmeans++'\n",
    "        )\n",
    "\n",
    "        unnormalized_data, cluster_centers = unnormalize(\n",
    "            result_kmeans.data, result_kmeans.cluster_centers, data_min, data_max\n",
    "        )\n",
    "\n",
    "        results.append({\n",
    "            \"Year Range\": year_range,\n",
    "            \"k\": k,\n",
    "            \"Runtime (s)\": f\"{time_kmeans:.3f}\",\n",
    "            \"Clusters\": n_clusters_kmeans,\n",
    "            \"Points per Cluster\": points_per_cluster_kmeans,\n",
    "            \"Davies-Bouldin\": f\"{metrics_kmeans[0]:.3f}\" if metrics_kmeans and isinstance(metrics_kmeans[0], (int, float)) else None,\n",
    "            \"Calinski-Harabasz\": f\"{metrics_kmeans[1]:.3f}\" if metrics_kmeans and isinstance(metrics_kmeans[1], (int, float)) else None,\n",
    "            \"Dunn Index\": f\"{metrics_kmeans[2]:.3f}\" if metrics_kmeans and isinstance(metrics_kmeans[2], (int, float)) else None,\n",
    "            \"Silhouette Score\": f\"{metrics_kmeans[3]:.3f}\" if metrics_kmeans and isinstance(metrics_kmeans[3], (int, float)) else None\n",
    "        })\n",
    "\n",
    "        labels = result_kmeans.labels\n",
    "        \"\"\"high_dim_analysis.plot_co_membership(\n",
    "            labels,\n",
    "            output_folder=plot_dir,\n",
    "            filename=f\"co_membership_{year_range}_k{k}.png\"\n",
    "        )\"\"\"\n",
    "        high_dim_analysis.plot_correlation_heatmap(\n",
    "            cluster_data,\n",
    "            output_folder=plot_dir,\n",
    "            filename=f\"corr_{year_range}_k{k}.png\"\n",
    "        )\n",
    "        high_dim_analysis.plot_mutual_information(\n",
    "            cluster_data,\n",
    "            labels,\n",
    "            output_folder=plot_dir,\n",
    "            filename=f\"mi_{year_range}_k{k}.png\"\n",
    "        )\n",
    "\n",
    "        from sklearn.feature_selection import f_classif\n",
    "        X = np.array([cluster_data.inc, cluster_data.raan, cluster_data.perigee,\n",
    "              cluster_data.ecc, cluster_data.mag]).T\n",
    "        valid = labels != -1  # Exclude noise points (usually not present for kmeans)\n",
    "        if np.any(valid) and len(np.unique(labels[valid])) > 1:\n",
    "            f_vals, _ = f_classif(X[valid], labels[valid])\n",
    "            mean_f = np.mean(f_vals)\n",
    "        else:\n",
    "            mean_f = 0.0  # Avoid invalid or single-cluster cases\n",
    "\n",
    "        results[-1][\"Mean ANOVA F\"] = f\"{mean_f:.3f}\"\n",
    "\n",
    "    df = pd.DataFrame(results)\n",
    "    df[\"Mean ANOVA F\"] = pd.to_numeric(df[\"Mean ANOVA F\"], errors=\"coerce\")\n",
    "    df_sorted = df.sort_values(by=\"Mean ANOVA F\", ascending=False)\n",
    "    best_params = df_sorted.iloc[0]\n",
    "    best_k = best_params[\"k\"]\n",
    "\n",
    "    # Re-run clustering with best parameters to get labels\n",
    "    best_result, _, _, _, _ = run_clustering(\n",
    "        k_means, f\"K-means (k={best_k})\", normalized_data, data_min, data_max, int(best_k), init='kmeans++'\n",
    "    )\n",
    "    best_labels = best_result.labels\n",
    "\n",
    "    # Plot pairplot colored by cluster labels and save to plot_dir\n",
    "    df_plot = pd.DataFrame(data_array, columns=feature_names)\n",
    "    df_plot['cluster'] = best_labels.astype(str)  # cluster labels as strings for hue\n",
    "\n",
    "    pairplot = sns.pairplot(df_plot, hue='cluster', diag_kind='kde', plot_kws={'alpha': 0.6, 's': 40})\n",
    "    pairplot.fig.suptitle(f\"K-Means Clusters for Year Range {year_range}\", y=1.02)\n",
    "    pairplot.savefig(os.path.join(plot_dir, f\"pairplot_{year_range}_k{best_k}.png\"))\n",
    "    plt.close(pairplot.fig)\n",
    "\n",
    "    # Plot ANOVA F-values only for best result\n",
    "    high_dim_analysis.plot_anova_f_values(\n",
    "        cluster_data,\n",
    "        best_labels,\n",
    "        output_folder=plot_dir,\n",
    "        filename=f\"anova_best_{year_range}_k{best_k}.png\",\n",
    "        title=f\"ANOVA F-values (Best KMeans Parameters), k = {int(best_k)}\"\n",
    "    )\n",
    "    print(\"Best KMeans parameters based on ANOVA F-value:\")\n",
    "    print(best_params)\n",
    "\n",
    "    display(df)\n"
   ]
  },
  {
   "cell_type": "markdown",
   "id": "79f6b91a",
   "metadata": {},
   "source": [
    "# DBSCAN"
   ]
  },
  {
   "cell_type": "code",
   "execution_count": 5,
   "id": "2753cf93",
   "metadata": {},
   "outputs": [
    {
     "name": "stderr",
     "output_type": "stream",
     "text": [
      "<>:28: SyntaxWarning: invalid escape sequence '\\d'\n",
      "<>:28: SyntaxWarning: invalid escape sequence '\\d'\n",
      "C:\\Users\\fionu\\AppData\\Local\\Temp\\ipykernel_25276\\3495779337.py:28: SyntaxWarning: invalid escape sequence '\\d'\n",
      "  plot_dir = \"Images\\dbscan_tests_running_bins_5d_with_perigee\"\n"
     ]
    },
    {
     "name": "stdout",
     "output_type": "stream",
     "text": [
      "\n",
      "Running DBSCAN for Year Range: 2002-2005\n",
      "Runtime for dbscan_clustering: 0.050041 seconds\n"
     ]
    },
    {
     "name": "stderr",
     "output_type": "stream",
     "text": [
      "c:\\Users\\fionu\\OneDrive\\Dokumente\\Daten Fiona\\AIUB\\Code\\AIUB-Backup\\clustering\\high_dim_analysis.py:138: FutureWarning: \n",
      "\n",
      "Passing `palette` without assigning `hue` is deprecated and will be removed in v0.14.0. Assign the `y` variable to `hue` and set `legend=False` for the same effect.\n",
      "\n",
      "  sns.barplot(x=mi_vals, y=features, palette=\"magma\")\n"
     ]
    },
    {
     "name": "stdout",
     "output_type": "stream",
     "text": [
      "Runtime for dbscan_clustering: 0.111978 seconds\n"
     ]
    },
    {
     "name": "stderr",
     "output_type": "stream",
     "text": [
      "c:\\Users\\fionu\\OneDrive\\Dokumente\\Daten Fiona\\AIUB\\Code\\AIUB-Backup\\clustering\\high_dim_analysis.py:138: FutureWarning: \n",
      "\n",
      "Passing `palette` without assigning `hue` is deprecated and will be removed in v0.14.0. Assign the `y` variable to `hue` and set `legend=False` for the same effect.\n",
      "\n",
      "  sns.barplot(x=mi_vals, y=features, palette=\"magma\")\n"
     ]
    },
    {
     "name": "stdout",
     "output_type": "stream",
     "text": [
      "Runtime for dbscan_clustering: 0.127387 seconds\n"
     ]
    },
    {
     "name": "stderr",
     "output_type": "stream",
     "text": [
      "c:\\Users\\fionu\\OneDrive\\Dokumente\\Daten Fiona\\AIUB\\Code\\AIUB-Backup\\clustering\\high_dim_analysis.py:138: FutureWarning: \n",
      "\n",
      "Passing `palette` without assigning `hue` is deprecated and will be removed in v0.14.0. Assign the `y` variable to `hue` and set `legend=False` for the same effect.\n",
      "\n",
      "  sns.barplot(x=mi_vals, y=features, palette=\"magma\")\n"
     ]
    },
    {
     "name": "stdout",
     "output_type": "stream",
     "text": [
      "Runtime for dbscan_clustering: 0.127931 seconds\n"
     ]
    },
    {
     "name": "stderr",
     "output_type": "stream",
     "text": [
      "c:\\Users\\fionu\\OneDrive\\Dokumente\\Daten Fiona\\AIUB\\Code\\AIUB-Backup\\clustering\\high_dim_analysis.py:138: FutureWarning: \n",
      "\n",
      "Passing `palette` without assigning `hue` is deprecated and will be removed in v0.14.0. Assign the `y` variable to `hue` and set `legend=False` for the same effect.\n",
      "\n",
      "  sns.barplot(x=mi_vals, y=features, palette=\"magma\")\n"
     ]
    },
    {
     "name": "stdout",
     "output_type": "stream",
     "text": [
      "Runtime for dbscan_clustering: 0.111819 seconds\n"
     ]
    },
    {
     "name": "stderr",
     "output_type": "stream",
     "text": [
      "c:\\Users\\fionu\\OneDrive\\Dokumente\\Daten Fiona\\AIUB\\Code\\AIUB-Backup\\clustering\\high_dim_analysis.py:138: FutureWarning: \n",
      "\n",
      "Passing `palette` without assigning `hue` is deprecated and will be removed in v0.14.0. Assign the `y` variable to `hue` and set `legend=False` for the same effect.\n",
      "\n",
      "  sns.barplot(x=mi_vals, y=features, palette=\"magma\")\n"
     ]
    },
    {
     "name": "stdout",
     "output_type": "stream",
     "text": [
      "Runtime for dbscan_clustering: 0.095904 seconds\n"
     ]
    },
    {
     "name": "stderr",
     "output_type": "stream",
     "text": [
      "c:\\Users\\fionu\\OneDrive\\Dokumente\\Daten Fiona\\AIUB\\Code\\AIUB-Backup\\clustering\\high_dim_analysis.py:138: FutureWarning: \n",
      "\n",
      "Passing `palette` without assigning `hue` is deprecated and will be removed in v0.14.0. Assign the `y` variable to `hue` and set `legend=False` for the same effect.\n",
      "\n",
      "  sns.barplot(x=mi_vals, y=features, palette=\"magma\")\n"
     ]
    },
    {
     "name": "stdout",
     "output_type": "stream",
     "text": [
      "Runtime for dbscan_clustering: 0.091510 seconds\n"
     ]
    },
    {
     "name": "stderr",
     "output_type": "stream",
     "text": [
      "c:\\Users\\fionu\\OneDrive\\Dokumente\\Daten Fiona\\AIUB\\Code\\AIUB-Backup\\clustering\\high_dim_analysis.py:138: FutureWarning: \n",
      "\n",
      "Passing `palette` without assigning `hue` is deprecated and will be removed in v0.14.0. Assign the `y` variable to `hue` and set `legend=False` for the same effect.\n",
      "\n",
      "  sns.barplot(x=mi_vals, y=features, palette=\"magma\")\n"
     ]
    },
    {
     "name": "stdout",
     "output_type": "stream",
     "text": [
      "Runtime for dbscan_clustering: 0.096215 seconds\n"
     ]
    },
    {
     "name": "stderr",
     "output_type": "stream",
     "text": [
      "c:\\Users\\fionu\\OneDrive\\Dokumente\\Daten Fiona\\AIUB\\Code\\AIUB-Backup\\clustering\\high_dim_analysis.py:138: FutureWarning: \n",
      "\n",
      "Passing `palette` without assigning `hue` is deprecated and will be removed in v0.14.0. Assign the `y` variable to `hue` and set `legend=False` for the same effect.\n",
      "\n",
      "  sns.barplot(x=mi_vals, y=features, palette=\"magma\")\n"
     ]
    },
    {
     "name": "stdout",
     "output_type": "stream",
     "text": [
      "Runtime for dbscan_clustering: 0.111382 seconds\n"
     ]
    },
    {
     "name": "stderr",
     "output_type": "stream",
     "text": [
      "c:\\Users\\fionu\\OneDrive\\Dokumente\\Daten Fiona\\AIUB\\Code\\AIUB-Backup\\clustering\\high_dim_analysis.py:138: FutureWarning: \n",
      "\n",
      "Passing `palette` without assigning `hue` is deprecated and will be removed in v0.14.0. Assign the `y` variable to `hue` and set `legend=False` for the same effect.\n",
      "\n",
      "  sns.barplot(x=mi_vals, y=features, palette=\"magma\")\n"
     ]
    },
    {
     "name": "stdout",
     "output_type": "stream",
     "text": [
      "Runtime for dbscan_clustering: 0.117570 seconds\n"
     ]
    },
    {
     "name": "stderr",
     "output_type": "stream",
     "text": [
      "c:\\Users\\fionu\\OneDrive\\Dokumente\\Daten Fiona\\AIUB\\Code\\AIUB-Backup\\clustering\\high_dim_analysis.py:138: FutureWarning: \n",
      "\n",
      "Passing `palette` without assigning `hue` is deprecated and will be removed in v0.14.0. Assign the `y` variable to `hue` and set `legend=False` for the same effect.\n",
      "\n",
      "  sns.barplot(x=mi_vals, y=features, palette=\"magma\")\n"
     ]
    },
    {
     "name": "stdout",
     "output_type": "stream",
     "text": [
      "Runtime for dbscan_clustering: 0.110926 seconds\n"
     ]
    },
    {
     "name": "stderr",
     "output_type": "stream",
     "text": [
      "c:\\Users\\fionu\\OneDrive\\Dokumente\\Daten Fiona\\AIUB\\Code\\AIUB-Backup\\clustering\\high_dim_analysis.py:138: FutureWarning: \n",
      "\n",
      "Passing `palette` without assigning `hue` is deprecated and will be removed in v0.14.0. Assign the `y` variable to `hue` and set `legend=False` for the same effect.\n",
      "\n",
      "  sns.barplot(x=mi_vals, y=features, palette=\"magma\")\n"
     ]
    },
    {
     "name": "stdout",
     "output_type": "stream",
     "text": [
      "Runtime for dbscan_clustering: 0.111157 seconds\n"
     ]
    },
    {
     "name": "stderr",
     "output_type": "stream",
     "text": [
      "c:\\Users\\fionu\\OneDrive\\Dokumente\\Daten Fiona\\AIUB\\Code\\AIUB-Backup\\clustering\\high_dim_analysis.py:138: FutureWarning: \n",
      "\n",
      "Passing `palette` without assigning `hue` is deprecated and will be removed in v0.14.0. Assign the `y` variable to `hue` and set `legend=False` for the same effect.\n",
      "\n",
      "  sns.barplot(x=mi_vals, y=features, palette=\"magma\")\n"
     ]
    },
    {
     "name": "stdout",
     "output_type": "stream",
     "text": [
      "Runtime for dbscan_clustering: 0.094993 seconds\n"
     ]
    },
    {
     "name": "stderr",
     "output_type": "stream",
     "text": [
      "c:\\Users\\fionu\\OneDrive\\Dokumente\\Daten Fiona\\AIUB\\Code\\AIUB-Backup\\clustering\\high_dim_analysis.py:42: FutureWarning: \n",
      "\n",
      "Passing `palette` without assigning `hue` is deprecated and will be removed in v0.14.0. Assign the `y` variable to `hue` and set `legend=False` for the same effect.\n",
      "\n",
      "  sns.barplot(x=f_vals, y=features, palette=\"crest\")\n"
     ]
    },
    {
     "name": "stdout",
     "output_type": "stream",
     "text": [
      "Best DBSCAN parameters based on ANOVA F-value:\n",
      "Year Range                                             2002-2005\n",
      "eps                                                         0.01\n",
      "min_samples                                                   30\n",
      "Runtime (s)                                                0.096\n",
      "Clusters                                                       5\n",
      "Points per Cluster       {0: 214, 1: 70, 2: 30, 3: 35, -1: 7688}\n",
      "Noise Points                                                7688\n",
      "Davies-Bouldin                                              None\n",
      "Calinski-Harabasz                                           None\n",
      "Weighted Mean ANOVA F                                  58887.198\n",
      "Name: 7, dtype: object\n"
     ]
    },
    {
     "data": {
      "application/vnd.microsoft.datawrangler.viewer.v0+json": {
       "columns": [
        {
         "name": "index",
         "rawType": "int64",
         "type": "integer"
        },
        {
         "name": "Year Range",
         "rawType": "object",
         "type": "string"
        },
        {
         "name": "eps",
         "rawType": "float64",
         "type": "float"
        },
        {
         "name": "min_samples",
         "rawType": "int64",
         "type": "integer"
        },
        {
         "name": "Runtime (s)",
         "rawType": "object",
         "type": "string"
        },
        {
         "name": "Clusters",
         "rawType": "int64",
         "type": "integer"
        },
        {
         "name": "Points per Cluster",
         "rawType": "object",
         "type": "unknown"
        },
        {
         "name": "Noise Points",
         "rawType": "int32",
         "type": "integer"
        },
        {
         "name": "Davies-Bouldin",
         "rawType": "object",
         "type": "unknown"
        },
        {
         "name": "Calinski-Harabasz",
         "rawType": "object",
         "type": "unknown"
        },
        {
         "name": "Weighted Mean ANOVA F",
         "rawType": "float64",
         "type": "float"
        }
       ],
       "ref": "f37ed3ab-2cfc-46bd-85ce-1bac66799eaa",
       "rows": [
        [
         "0",
         "2002-2005",
         "0.02",
         "10",
         "0.050",
         "75",
         "{0: 403, 1: 18, 2: 14, 3: 31, 4: 34, 5: 11, 6: 35, 7: 10, 8: 39, 9: 12, 10: 13, 11: 20, 12: 74, 13: 39, 14: 1658, 15: 11, 16: 141, 17: 12, 18: 49, 19: 9, 20: 10, 21: 22, 22: 23, 23: 32, 24: 26, 25: 16, 26: 101, 27: 29, 28: 12, 29: 15, 30: 26, 31: 13, 32: 924, 33: 10, 34: 10, 35: 70, 36: 11, 37: 22, 38: 15, 39: 31, 40: 15, 41: 12, 42: 9, 43: 13, 44: 10, 45: 10, 46: 14, 47: 36, 48: 19, 49: 13, 50: 10, 51: 3, 52: 24, 53: 13, 54: 16, 55: 11, 56: 12, 57: 10, 58: 10, 59: 10, 60: 10, 61: 11, 62: 19, 63: 11, 64: 16, 65: 11, 66: 22, 67: 11, 68: 10, 69: 10, 70: 12, 71: 10, 72: 13, 73: 10, -1: 3540}",
         "3540",
         null,
         null,
         null
        ],
        [
         "1",
         "2002-2005",
         "0.02",
         "15",
         "0.112",
         "33",
         "{0: 324, 1: 67, 2: 16, 3: 31, 4: 15, 5: 1575, 6: 139, 7: 26, 8: 18, 9: 26, 10: 15, 11: 25, 12: 66, 13: 22, 14: 19, 15: 737, 16: 59, 17: 54, 18: 20, 19: 27, 20: 68, 21: 15, 22: 20, 23: 15, 24: 16, 25: 15, 26: 17, 27: 16, 28: 16, 29: 9, 30: 19, 31: 11, -1: 4519}",
         "4519",
         null,
         null,
         null
        ],
        [
         "2",
         "2002-2005",
         "0.02",
         "25",
         "0.127",
         "21",
         "{0: 322, 1: 45, 2: 31, 3: 818, 4: 464, 5: 114, 6: 38, 7: 55, 8: 51, 9: 560, 10: 25, 11: 57, 12: 23, 13: 47, 14: 26, 15: 40, 16: 25, 17: 25, 18: 25, 19: 19, -1: 5227}",
         "5227",
         null,
         null,
         null
        ],
        [
         "3",
         "2002-2005",
         "0.02",
         "30",
         "0.128",
         "12",
         "{0: 320, 1: 32, 2: 31, 3: 802, 4: 250, 5: 100, 6: 140, 7: 551, 8: 54, 9: 45, 10: 33, -1: 5679}",
         "5679",
         null,
         null,
         "12122.114"
        ],
        [
         "4",
         "2002-2005",
         "0.01",
         "10",
         "0.112",
         "71",
         "{0: 10, 1: 256, 2: 13, 3: 11, 4: 11, 5: 12, 6: 13, 7: 22, 8: 97, 9: 11, 10: 23, 11: 20, 12: 29, 13: 35, 14: 12, 15: 80, 16: 29, 17: 22, 18: 11, 19: 24, 20: 13, 21: 11, 22: 10, 23: 174, 24: 197, 25: 25, 26: 13, 27: 37, 28: 39, 29: 15, 30: 15, 31: 24, 32: 19, 33: 10, 34: 11, 35: 16, 36: 11, 37: 23, 38: 10, 39: 51, 40: 12, 41: 10, 42: 13, 43: 11, 44: 11, 45: 8, 46: 13, 47: 20, 48: 12, 49: 15, 50: 11, 51: 21, 52: 12, 53: 24, 54: 14, 55: 11, 56: 14, 57: 10, 58: 11, 59: 15, 60: 11, 61: 10, 62: 10, 63: 12, 64: 13, 65: 17, 66: 10, 67: 7, 68: 11, 69: 3, -1: 6200}",
         "6200",
         null,
         null,
         null
        ],
        [
         "5",
         "2002-2005",
         "0.01",
         "15",
         "0.096",
         "35",
         "{0: 255, 1: 19, 2: 19, 3: 17, 4: 17, 5: 28, 6: 22, 7: 17, 8: 112, 9: 70, 10: 16, 11: 48, 12: 54, 13: 33, 14: 34, 15: 24, 16: 15, 17: 17, 18: 34, 19: 20, 20: 36, 21: 31, 22: 55, 23: 15, 24: 20, 25: 15, 26: 17, 27: 15, 28: 32, 29: 15, 30: 24, 31: 15, 32: 17, 33: 15, -1: 6844}",
         "6844",
         null,
         null,
         null
        ],
        [
         "6",
         "2002-2005",
         "0.01",
         "25",
         "0.092",
         "10",
         "{0: 218, 1: 107, 2: 27, 3: 25, 4: 33, 5: 25, 6: 47, 7: 30, 8: 40, -1: 7485}",
         "7485",
         null,
         null,
         null
        ],
        [
         "7",
         "2002-2005",
         "0.01",
         "30",
         "0.096",
         "5",
         "{0: 214, 1: 70, 2: 30, 3: 35, -1: 7688}",
         "7688",
         null,
         null,
         "58887.198"
        ],
        [
         "8",
         "2002-2005",
         "0.015",
         "10",
         "0.111",
         "80",
         "{0: 43, 1: 18, 2: 290, 3: 15, 4: 10, 5: 31, 6: 10, 7: 11, 8: 10, 9: 12, 10: 10, 11: 12, 12: 8, 13: 10, 14: 11, 15: 741, 16: 58, 17: 280, 18: 122, 19: 143, 20: 20, 21: 30, 22: 13, 23: 13, 24: 47, 25: 28, 26: 14, 27: 11, 28: 18, 29: 15, 30: 14, 31: 19, 32: 54, 33: 23, 34: 11, 35: 12, 36: 10, 37: 575, 38: 63, 39: 14, 40: 35, 41: 21, 42: 17, 43: 20, 44: 66, 45: 10, 46: 13, 47: 18, 48: 13, 49: 10, 50: 10, 51: 11, 52: 11, 53: 11, 54: 16, 55: 9, 56: 14, 57: 10, 58: 25, 59: 6, 60: 12, 61: 12, 62: 12, 63: 14, 64: 10, 65: 11, 66: 14, 67: 10, 68: 16, 69: 13, 70: 13, 71: 13, 72: 14, 73: 10, 74: 11, 75: 5, 76: 10, 77: 10, 78: 10, -1: 4622}",
         "4622",
         null,
         null,
         null
        ],
        [
         "9",
         "2002-2005",
         "0.015",
         "15",
         "0.118",
         "35",
         "{0: 22, 1: 290, 2: 31, 3: 15, 4: 674, 5: 116, 6: 20, 7: 219, 8: 95, 9: 13, 10: 27, 11: 18, 12: 48, 13: 482, 14: 45, 15: 23, 16: 32, 17: 17, 18: 16, 19: 55, 20: 30, 21: 15, 22: 23, 23: 18, 24: 35, 25: 17, 26: 37, 27: 19, 28: 36, 29: 22, 30: 9, 31: 19, 32: 15, 33: 8, -1: 5476}",
         "5476",
         null,
         null,
         null
        ],
        [
         "10",
         "2002-2005",
         "0.015",
         "25",
         "0.111",
         "23",
         "{0: 284, 1: 326, 2: 64, 3: 25, 4: 64, 5: 66, 6: 53, 7: 26, 8: 427, 9: 36, 10: 74, 11: 26, 12: 16, 13: 29, 14: 34, 15: 31, 16: 61, 17: 36, 18: 36, 19: 17, 20: 26, 21: 26, -1: 6254}",
         "6254",
         null,
         null,
         null
        ],
        [
         "11",
         "2002-2005",
         "0.015",
         "30",
         "0.111",
         "12",
         "{0: 284, 1: 313, 2: 64, 3: 66, 4: 47, 5: 409, 6: 31, 7: 49, 8: 31, 9: 36, 10: 31, -1: 6676}",
         "6676",
         null,
         null,
         "17738.67"
        ]
       ],
       "shape": {
        "columns": 10,
        "rows": 12
       }
      },
      "text/html": [
       "<div>\n",
       "<style scoped>\n",
       "    .dataframe tbody tr th:only-of-type {\n",
       "        vertical-align: middle;\n",
       "    }\n",
       "\n",
       "    .dataframe tbody tr th {\n",
       "        vertical-align: top;\n",
       "    }\n",
       "\n",
       "    .dataframe thead th {\n",
       "        text-align: right;\n",
       "    }\n",
       "</style>\n",
       "<table border=\"1\" class=\"dataframe\">\n",
       "  <thead>\n",
       "    <tr style=\"text-align: right;\">\n",
       "      <th></th>\n",
       "      <th>Year Range</th>\n",
       "      <th>eps</th>\n",
       "      <th>min_samples</th>\n",
       "      <th>Runtime (s)</th>\n",
       "      <th>Clusters</th>\n",
       "      <th>Points per Cluster</th>\n",
       "      <th>Noise Points</th>\n",
       "      <th>Davies-Bouldin</th>\n",
       "      <th>Calinski-Harabasz</th>\n",
       "      <th>Weighted Mean ANOVA F</th>\n",
       "    </tr>\n",
       "  </thead>\n",
       "  <tbody>\n",
       "    <tr>\n",
       "      <th>0</th>\n",
       "      <td>2002-2005</td>\n",
       "      <td>0.020</td>\n",
       "      <td>10</td>\n",
       "      <td>0.050</td>\n",
       "      <td>75</td>\n",
       "      <td>{0: 403, 1: 18, 2: 14, 3: 31, 4: 34, 5: 11, 6:...</td>\n",
       "      <td>3540</td>\n",
       "      <td>None</td>\n",
       "      <td>None</td>\n",
       "      <td>NaN</td>\n",
       "    </tr>\n",
       "    <tr>\n",
       "      <th>1</th>\n",
       "      <td>2002-2005</td>\n",
       "      <td>0.020</td>\n",
       "      <td>15</td>\n",
       "      <td>0.112</td>\n",
       "      <td>33</td>\n",
       "      <td>{0: 324, 1: 67, 2: 16, 3: 31, 4: 15, 5: 1575, ...</td>\n",
       "      <td>4519</td>\n",
       "      <td>None</td>\n",
       "      <td>None</td>\n",
       "      <td>NaN</td>\n",
       "    </tr>\n",
       "    <tr>\n",
       "      <th>2</th>\n",
       "      <td>2002-2005</td>\n",
       "      <td>0.020</td>\n",
       "      <td>25</td>\n",
       "      <td>0.127</td>\n",
       "      <td>21</td>\n",
       "      <td>{0: 322, 1: 45, 2: 31, 3: 818, 4: 464, 5: 114,...</td>\n",
       "      <td>5227</td>\n",
       "      <td>None</td>\n",
       "      <td>None</td>\n",
       "      <td>NaN</td>\n",
       "    </tr>\n",
       "    <tr>\n",
       "      <th>3</th>\n",
       "      <td>2002-2005</td>\n",
       "      <td>0.020</td>\n",
       "      <td>30</td>\n",
       "      <td>0.128</td>\n",
       "      <td>12</td>\n",
       "      <td>{0: 320, 1: 32, 2: 31, 3: 802, 4: 250, 5: 100,...</td>\n",
       "      <td>5679</td>\n",
       "      <td>None</td>\n",
       "      <td>None</td>\n",
       "      <td>12122.114</td>\n",
       "    </tr>\n",
       "    <tr>\n",
       "      <th>4</th>\n",
       "      <td>2002-2005</td>\n",
       "      <td>0.010</td>\n",
       "      <td>10</td>\n",
       "      <td>0.112</td>\n",
       "      <td>71</td>\n",
       "      <td>{0: 10, 1: 256, 2: 13, 3: 11, 4: 11, 5: 12, 6:...</td>\n",
       "      <td>6200</td>\n",
       "      <td>None</td>\n",
       "      <td>None</td>\n",
       "      <td>NaN</td>\n",
       "    </tr>\n",
       "    <tr>\n",
       "      <th>5</th>\n",
       "      <td>2002-2005</td>\n",
       "      <td>0.010</td>\n",
       "      <td>15</td>\n",
       "      <td>0.096</td>\n",
       "      <td>35</td>\n",
       "      <td>{0: 255, 1: 19, 2: 19, 3: 17, 4: 17, 5: 28, 6:...</td>\n",
       "      <td>6844</td>\n",
       "      <td>None</td>\n",
       "      <td>None</td>\n",
       "      <td>NaN</td>\n",
       "    </tr>\n",
       "    <tr>\n",
       "      <th>6</th>\n",
       "      <td>2002-2005</td>\n",
       "      <td>0.010</td>\n",
       "      <td>25</td>\n",
       "      <td>0.092</td>\n",
       "      <td>10</td>\n",
       "      <td>{0: 218, 1: 107, 2: 27, 3: 25, 4: 33, 5: 25, 6...</td>\n",
       "      <td>7485</td>\n",
       "      <td>None</td>\n",
       "      <td>None</td>\n",
       "      <td>NaN</td>\n",
       "    </tr>\n",
       "    <tr>\n",
       "      <th>7</th>\n",
       "      <td>2002-2005</td>\n",
       "      <td>0.010</td>\n",
       "      <td>30</td>\n",
       "      <td>0.096</td>\n",
       "      <td>5</td>\n",
       "      <td>{0: 214, 1: 70, 2: 30, 3: 35, -1: 7688}</td>\n",
       "      <td>7688</td>\n",
       "      <td>None</td>\n",
       "      <td>None</td>\n",
       "      <td>58887.198</td>\n",
       "    </tr>\n",
       "    <tr>\n",
       "      <th>8</th>\n",
       "      <td>2002-2005</td>\n",
       "      <td>0.015</td>\n",
       "      <td>10</td>\n",
       "      <td>0.111</td>\n",
       "      <td>80</td>\n",
       "      <td>{0: 43, 1: 18, 2: 290, 3: 15, 4: 10, 5: 31, 6:...</td>\n",
       "      <td>4622</td>\n",
       "      <td>None</td>\n",
       "      <td>None</td>\n",
       "      <td>NaN</td>\n",
       "    </tr>\n",
       "    <tr>\n",
       "      <th>9</th>\n",
       "      <td>2002-2005</td>\n",
       "      <td>0.015</td>\n",
       "      <td>15</td>\n",
       "      <td>0.118</td>\n",
       "      <td>35</td>\n",
       "      <td>{0: 22, 1: 290, 2: 31, 3: 15, 4: 674, 5: 116, ...</td>\n",
       "      <td>5476</td>\n",
       "      <td>None</td>\n",
       "      <td>None</td>\n",
       "      <td>NaN</td>\n",
       "    </tr>\n",
       "    <tr>\n",
       "      <th>10</th>\n",
       "      <td>2002-2005</td>\n",
       "      <td>0.015</td>\n",
       "      <td>25</td>\n",
       "      <td>0.111</td>\n",
       "      <td>23</td>\n",
       "      <td>{0: 284, 1: 326, 2: 64, 3: 25, 4: 64, 5: 66, 6...</td>\n",
       "      <td>6254</td>\n",
       "      <td>None</td>\n",
       "      <td>None</td>\n",
       "      <td>NaN</td>\n",
       "    </tr>\n",
       "    <tr>\n",
       "      <th>11</th>\n",
       "      <td>2002-2005</td>\n",
       "      <td>0.015</td>\n",
       "      <td>30</td>\n",
       "      <td>0.111</td>\n",
       "      <td>12</td>\n",
       "      <td>{0: 284, 1: 313, 2: 64, 3: 66, 4: 47, 5: 409, ...</td>\n",
       "      <td>6676</td>\n",
       "      <td>None</td>\n",
       "      <td>None</td>\n",
       "      <td>17738.670</td>\n",
       "    </tr>\n",
       "  </tbody>\n",
       "</table>\n",
       "</div>"
      ],
      "text/plain": [
       "   Year Range    eps  min_samples Runtime (s)  Clusters  \\\n",
       "0   2002-2005  0.020           10       0.050        75   \n",
       "1   2002-2005  0.020           15       0.112        33   \n",
       "2   2002-2005  0.020           25       0.127        21   \n",
       "3   2002-2005  0.020           30       0.128        12   \n",
       "4   2002-2005  0.010           10       0.112        71   \n",
       "5   2002-2005  0.010           15       0.096        35   \n",
       "6   2002-2005  0.010           25       0.092        10   \n",
       "7   2002-2005  0.010           30       0.096         5   \n",
       "8   2002-2005  0.015           10       0.111        80   \n",
       "9   2002-2005  0.015           15       0.118        35   \n",
       "10  2002-2005  0.015           25       0.111        23   \n",
       "11  2002-2005  0.015           30       0.111        12   \n",
       "\n",
       "                                   Points per Cluster  Noise Points  \\\n",
       "0   {0: 403, 1: 18, 2: 14, 3: 31, 4: 34, 5: 11, 6:...          3540   \n",
       "1   {0: 324, 1: 67, 2: 16, 3: 31, 4: 15, 5: 1575, ...          4519   \n",
       "2   {0: 322, 1: 45, 2: 31, 3: 818, 4: 464, 5: 114,...          5227   \n",
       "3   {0: 320, 1: 32, 2: 31, 3: 802, 4: 250, 5: 100,...          5679   \n",
       "4   {0: 10, 1: 256, 2: 13, 3: 11, 4: 11, 5: 12, 6:...          6200   \n",
       "5   {0: 255, 1: 19, 2: 19, 3: 17, 4: 17, 5: 28, 6:...          6844   \n",
       "6   {0: 218, 1: 107, 2: 27, 3: 25, 4: 33, 5: 25, 6...          7485   \n",
       "7             {0: 214, 1: 70, 2: 30, 3: 35, -1: 7688}          7688   \n",
       "8   {0: 43, 1: 18, 2: 290, 3: 15, 4: 10, 5: 31, 6:...          4622   \n",
       "9   {0: 22, 1: 290, 2: 31, 3: 15, 4: 674, 5: 116, ...          5476   \n",
       "10  {0: 284, 1: 326, 2: 64, 3: 25, 4: 64, 5: 66, 6...          6254   \n",
       "11  {0: 284, 1: 313, 2: 64, 3: 66, 4: 47, 5: 409, ...          6676   \n",
       "\n",
       "   Davies-Bouldin Calinski-Harabasz  Weighted Mean ANOVA F  \n",
       "0            None              None                    NaN  \n",
       "1            None              None                    NaN  \n",
       "2            None              None                    NaN  \n",
       "3            None              None              12122.114  \n",
       "4            None              None                    NaN  \n",
       "5            None              None                    NaN  \n",
       "6            None              None                    NaN  \n",
       "7            None              None              58887.198  \n",
       "8            None              None                    NaN  \n",
       "9            None              None                    NaN  \n",
       "10           None              None                    NaN  \n",
       "11           None              None              17738.670  "
      ]
     },
     "metadata": {},
     "output_type": "display_data"
    },
    {
     "name": "stdout",
     "output_type": "stream",
     "text": [
      "\n",
      "Running DBSCAN for Year Range: 2003-2006\n",
      "Runtime for dbscan_clustering: 0.309313 seconds\n"
     ]
    },
    {
     "name": "stderr",
     "output_type": "stream",
     "text": [
      "c:\\Users\\fionu\\OneDrive\\Dokumente\\Daten Fiona\\AIUB\\Code\\AIUB-Backup\\clustering\\high_dim_analysis.py:138: FutureWarning: \n",
      "\n",
      "Passing `palette` without assigning `hue` is deprecated and will be removed in v0.14.0. Assign the `y` variable to `hue` and set `legend=False` for the same effect.\n",
      "\n",
      "  sns.barplot(x=mi_vals, y=features, palette=\"magma\")\n"
     ]
    },
    {
     "name": "stdout",
     "output_type": "stream",
     "text": [
      "Runtime for dbscan_clustering: 0.063216 seconds\n"
     ]
    },
    {
     "name": "stderr",
     "output_type": "stream",
     "text": [
      "c:\\Users\\fionu\\OneDrive\\Dokumente\\Daten Fiona\\AIUB\\Code\\AIUB-Backup\\clustering\\high_dim_analysis.py:138: FutureWarning: \n",
      "\n",
      "Passing `palette` without assigning `hue` is deprecated and will be removed in v0.14.0. Assign the `y` variable to `hue` and set `legend=False` for the same effect.\n",
      "\n",
      "  sns.barplot(x=mi_vals, y=features, palette=\"magma\")\n"
     ]
    },
    {
     "name": "stdout",
     "output_type": "stream",
     "text": [
      "Runtime for dbscan_clustering: 0.071941 seconds\n"
     ]
    },
    {
     "name": "stderr",
     "output_type": "stream",
     "text": [
      "c:\\Users\\fionu\\OneDrive\\Dokumente\\Daten Fiona\\AIUB\\Code\\AIUB-Backup\\clustering\\high_dim_analysis.py:138: FutureWarning: \n",
      "\n",
      "Passing `palette` without assigning `hue` is deprecated and will be removed in v0.14.0. Assign the `y` variable to `hue` and set `legend=False` for the same effect.\n",
      "\n",
      "  sns.barplot(x=mi_vals, y=features, palette=\"magma\")\n"
     ]
    },
    {
     "name": "stdout",
     "output_type": "stream",
     "text": [
      "Runtime for dbscan_clustering: 0.066977 seconds\n"
     ]
    },
    {
     "name": "stderr",
     "output_type": "stream",
     "text": [
      "c:\\Users\\fionu\\OneDrive\\Dokumente\\Daten Fiona\\AIUB\\Code\\AIUB-Backup\\clustering\\high_dim_analysis.py:138: FutureWarning: \n",
      "\n",
      "Passing `palette` without assigning `hue` is deprecated and will be removed in v0.14.0. Assign the `y` variable to `hue` and set `legend=False` for the same effect.\n",
      "\n",
      "  sns.barplot(x=mi_vals, y=features, palette=\"magma\")\n"
     ]
    },
    {
     "name": "stdout",
     "output_type": "stream",
     "text": [
      "Runtime for dbscan_clustering: 0.049318 seconds\n"
     ]
    },
    {
     "name": "stderr",
     "output_type": "stream",
     "text": [
      "c:\\Users\\fionu\\OneDrive\\Dokumente\\Daten Fiona\\AIUB\\Code\\AIUB-Backup\\clustering\\high_dim_analysis.py:138: FutureWarning: \n",
      "\n",
      "Passing `palette` without assigning `hue` is deprecated and will be removed in v0.14.0. Assign the `y` variable to `hue` and set `legend=False` for the same effect.\n",
      "\n",
      "  sns.barplot(x=mi_vals, y=features, palette=\"magma\")\n"
     ]
    },
    {
     "name": "stdout",
     "output_type": "stream",
     "text": [
      "Runtime for dbscan_clustering: 0.061089 seconds\n"
     ]
    },
    {
     "name": "stderr",
     "output_type": "stream",
     "text": [
      "c:\\Users\\fionu\\OneDrive\\Dokumente\\Daten Fiona\\AIUB\\Code\\AIUB-Backup\\clustering\\high_dim_analysis.py:138: FutureWarning: \n",
      "\n",
      "Passing `palette` without assigning `hue` is deprecated and will be removed in v0.14.0. Assign the `y` variable to `hue` and set `legend=False` for the same effect.\n",
      "\n",
      "  sns.barplot(x=mi_vals, y=features, palette=\"magma\")\n"
     ]
    },
    {
     "name": "stdout",
     "output_type": "stream",
     "text": [
      "Runtime for dbscan_clustering: 0.027908 seconds\n"
     ]
    },
    {
     "name": "stderr",
     "output_type": "stream",
     "text": [
      "c:\\Users\\fionu\\OneDrive\\Dokumente\\Daten Fiona\\AIUB\\Code\\AIUB-Backup\\clustering\\high_dim_analysis.py:138: FutureWarning: \n",
      "\n",
      "Passing `palette` without assigning `hue` is deprecated and will be removed in v0.14.0. Assign the `y` variable to `hue` and set `legend=False` for the same effect.\n",
      "\n",
      "  sns.barplot(x=mi_vals, y=features, palette=\"magma\")\n"
     ]
    },
    {
     "name": "stdout",
     "output_type": "stream",
     "text": [
      "Runtime for dbscan_clustering: 0.052682 seconds\n"
     ]
    },
    {
     "name": "stderr",
     "output_type": "stream",
     "text": [
      "c:\\Users\\fionu\\OneDrive\\Dokumente\\Daten Fiona\\AIUB\\Code\\AIUB-Backup\\clustering\\high_dim_analysis.py:138: FutureWarning: \n",
      "\n",
      "Passing `palette` without assigning `hue` is deprecated and will be removed in v0.14.0. Assign the `y` variable to `hue` and set `legend=False` for the same effect.\n",
      "\n",
      "  sns.barplot(x=mi_vals, y=features, palette=\"magma\")\n"
     ]
    },
    {
     "name": "stdout",
     "output_type": "stream",
     "text": [
      "Runtime for dbscan_clustering: 0.057706 seconds\n"
     ]
    },
    {
     "name": "stderr",
     "output_type": "stream",
     "text": [
      "c:\\Users\\fionu\\OneDrive\\Dokumente\\Daten Fiona\\AIUB\\Code\\AIUB-Backup\\clustering\\high_dim_analysis.py:138: FutureWarning: \n",
      "\n",
      "Passing `palette` without assigning `hue` is deprecated and will be removed in v0.14.0. Assign the `y` variable to `hue` and set `legend=False` for the same effect.\n",
      "\n",
      "  sns.barplot(x=mi_vals, y=features, palette=\"magma\")\n"
     ]
    },
    {
     "name": "stdout",
     "output_type": "stream",
     "text": [
      "Runtime for dbscan_clustering: 0.064446 seconds\n"
     ]
    },
    {
     "name": "stderr",
     "output_type": "stream",
     "text": [
      "c:\\Users\\fionu\\OneDrive\\Dokumente\\Daten Fiona\\AIUB\\Code\\AIUB-Backup\\clustering\\high_dim_analysis.py:138: FutureWarning: \n",
      "\n",
      "Passing `palette` without assigning `hue` is deprecated and will be removed in v0.14.0. Assign the `y` variable to `hue` and set `legend=False` for the same effect.\n",
      "\n",
      "  sns.barplot(x=mi_vals, y=features, palette=\"magma\")\n"
     ]
    },
    {
     "name": "stdout",
     "output_type": "stream",
     "text": [
      "Runtime for dbscan_clustering: 0.032667 seconds\n"
     ]
    },
    {
     "name": "stderr",
     "output_type": "stream",
     "text": [
      "c:\\Users\\fionu\\OneDrive\\Dokumente\\Daten Fiona\\AIUB\\Code\\AIUB-Backup\\clustering\\high_dim_analysis.py:138: FutureWarning: \n",
      "\n",
      "Passing `palette` without assigning `hue` is deprecated and will be removed in v0.14.0. Assign the `y` variable to `hue` and set `legend=False` for the same effect.\n",
      "\n",
      "  sns.barplot(x=mi_vals, y=features, palette=\"magma\")\n"
     ]
    },
    {
     "name": "stdout",
     "output_type": "stream",
     "text": [
      "Runtime for dbscan_clustering: 0.050864 seconds\n"
     ]
    },
    {
     "name": "stderr",
     "output_type": "stream",
     "text": [
      "c:\\Users\\fionu\\OneDrive\\Dokumente\\Daten Fiona\\AIUB\\Code\\AIUB-Backup\\clustering\\high_dim_analysis.py:138: FutureWarning: \n",
      "\n",
      "Passing `palette` without assigning `hue` is deprecated and will be removed in v0.14.0. Assign the `y` variable to `hue` and set `legend=False` for the same effect.\n",
      "\n",
      "  sns.barplot(x=mi_vals, y=features, palette=\"magma\")\n"
     ]
    },
    {
     "name": "stdout",
     "output_type": "stream",
     "text": [
      "Runtime for dbscan_clustering: 0.043749 seconds\n"
     ]
    },
    {
     "name": "stderr",
     "output_type": "stream",
     "text": [
      "c:\\Users\\fionu\\OneDrive\\Dokumente\\Daten Fiona\\AIUB\\Code\\AIUB-Backup\\clustering\\high_dim_analysis.py:42: FutureWarning: \n",
      "\n",
      "Passing `palette` without assigning `hue` is deprecated and will be removed in v0.14.0. Assign the `y` variable to `hue` and set `legend=False` for the same effect.\n",
      "\n",
      "  sns.barplot(x=f_vals, y=features, palette=\"crest\")\n"
     ]
    },
    {
     "name": "stdout",
     "output_type": "stream",
     "text": [
      "Best DBSCAN parameters based on ANOVA F-value:\n",
      "Year Range                                            2003-2006\n",
      "eps                                                        0.01\n",
      "min_samples                                                  30\n",
      "Runtime (s)                                               0.053\n",
      "Clusters                                                      5\n",
      "Points per Cluster       {0: 74, 1: 81, 2: 68, 3: 30, -1: 8626}\n",
      "Noise Points                                               8626\n",
      "Davies-Bouldin                                             None\n",
      "Calinski-Harabasz                                          None\n",
      "Weighted Mean ANOVA F                                100846.491\n",
      "Name: 7, dtype: object\n"
     ]
    },
    {
     "data": {
      "application/vnd.microsoft.datawrangler.viewer.v0+json": {
       "columns": [
        {
         "name": "index",
         "rawType": "int64",
         "type": "integer"
        },
        {
         "name": "Year Range",
         "rawType": "object",
         "type": "string"
        },
        {
         "name": "eps",
         "rawType": "float64",
         "type": "float"
        },
        {
         "name": "min_samples",
         "rawType": "int64",
         "type": "integer"
        },
        {
         "name": "Runtime (s)",
         "rawType": "object",
         "type": "string"
        },
        {
         "name": "Clusters",
         "rawType": "int64",
         "type": "integer"
        },
        {
         "name": "Points per Cluster",
         "rawType": "object",
         "type": "unknown"
        },
        {
         "name": "Noise Points",
         "rawType": "int32",
         "type": "integer"
        },
        {
         "name": "Davies-Bouldin",
         "rawType": "object",
         "type": "unknown"
        },
        {
         "name": "Calinski-Harabasz",
         "rawType": "object",
         "type": "unknown"
        },
        {
         "name": "Weighted Mean ANOVA F",
         "rawType": "float64",
         "type": "float"
        }
       ],
       "ref": "b1c51393-f352-45d3-b2b5-b845a76cd3d0",
       "rows": [
        [
         "0",
         "2003-2006",
         "0.02",
         "10",
         "0.309",
         "88",
         "{0: 29, 1: 10, 2: 30, 3: 42, 4: 32, 5: 26, 6: 16, 7: 17, 8: 104, 9: 29, 10: 13, 11: 26, 12: 24, 13: 15, 14: 11, 15: 11, 16: 13, 17: 10, 18: 30, 19: 13, 20: 1463, 21: 10, 22: 11, 23: 109, 24: 10, 25: 22, 26: 15, 27: 10, 28: 1712, 29: 48, 30: 117, 31: 21, 32: 21, 33: 14, 34: 10, 35: 11, 36: 12, 37: 17, 38: 13, 39: 10, 40: 10, 41: 14, 42: 64, 43: 12, 44: 18, 45: 13, 46: 5, 47: 27, 48: 49, 49: 23, 50: 17, 51: 13, 52: 18, 53: 6, 54: 12, 55: 13, 56: 16, 57: 13, 58: 40, 59: 25, 60: 17, 61: 15, 62: 15, 63: 10, 64: 10, 65: 6, 66: 22, 67: 10, 68: 13, 69: 19, 70: 10, 71: 10, 72: 10, 73: 12, 74: 16, 75: 12, 76: 10, 77: 12, 78: 10, 79: 12, 80: 10, 81: 11, 82: 13, 83: 11, 84: 10, 85: 7, 86: 10, -1: 3991}",
         "3991",
         null,
         null,
         null
        ],
        [
         "1",
         "2003-2006",
         "0.02",
         "15",
         "0.063",
         "38",
         "{0: 40, 1: 26, 2: 67, 3: 22, 4: 24, 5: 1259, 6: 102, 7: 140, 8: 20, 9: 707, 10: 935, 11: 44, 12: 92, 13: 16, 14: 15, 15: 5, 16: 15, 17: 15, 18: 29, 19: 28, 20: 15, 21: 18, 22: 17, 23: 15, 24: 18, 25: 37, 26: 24, 27: 8, 28: 15, 29: 15, 30: 16, 31: 16, 32: 9, 33: 18, 34: 15, 35: 16, 36: 11, -1: 4995}",
         "4995",
         null,
         null,
         null
        ],
        [
         "2",
         "2003-2006",
         "0.02",
         "25",
         "0.072",
         "17",
         "{0: 52, 1: 846, 2: 103, 3: 25, 4: 79, 5: 85, 6: 458, 7: 895, 8: 126, 9: 81, 10: 26, 11: 27, 12: 39, 13: 32, 14: 64, 15: 10, -1: 5931}",
         "5931",
         null,
         null,
         null
        ],
        [
         "3",
         "2003-2006",
         "0.02",
         "30",
         "0.067",
         "12",
         "{0: 822, 1: 97, 2: 841, 3: 124, 4: 429, 5: 57, 6: 47, 7: 31, 8: 30, 9: 31, 10: 21, -1: 6349}",
         "6349",
         null,
         null,
         "3554.829"
        ],
        [
         "4",
         "2003-2006",
         "0.01",
         "10",
         "0.049",
         "84",
         "{0: 11, 1: 24, 2: 13, 3: 11, 4: 12, 5: 121, 6: 264, 7: 34, 8: 27, 9: 127, 10: 35, 11: 11, 12: 37, 13: 67, 14: 15, 15: 15, 16: 24, 17: 28, 18: 10, 19: 10, 20: 11, 21: 25, 22: 26, 23: 11, 24: 19, 25: 104, 26: 12, 27: 60, 28: 10, 29: 13, 30: 11, 31: 11, 32: 14, 33: 16, 34: 11, 35: 31, 36: 11, 37: 13, 38: 20, 39: 12, 40: 32, 41: 17, 42: 21, 43: 10, 44: 23, 45: 21, 46: 14, 47: 12, 48: 15, 49: 10, 50: 26, 51: 14, 52: 17, 53: 25, 54: 16, 55: 31, 56: 11, 57: 10, 58: 11, 59: 11, 60: 16, 61: 12, 62: 11, 63: 13, 64: 10, 65: 11, 66: 14, 67: 10, 68: 10, 69: 15, 70: 13, 71: 10, 72: 12, 73: 10, 74: 10, 75: 12, 76: 13, 77: 10, 78: 17, 79: 10, 80: 11, 81: 10, 82: 3, -1: 6932}",
         "6932",
         null,
         null,
         null
        ],
        [
         "5",
         "2003-2006",
         "0.01",
         "15",
         "0.061",
         "38",
         "{0: 17, 1: 114, 2: 87, 3: 16, 4: 107, 5: 27, 6: 25, 7: 34, 8: 24, 9: 17, 10: 23, 11: 46, 12: 53, 13: 16, 14: 34, 15: 27, 16: 96, 17: 20, 18: 32, 19: 17, 20: 15, 21: 39, 22: 22, 23: 18, 24: 15, 25: 33, 26: 26, 27: 25, 28: 16, 29: 21, 30: 15, 31: 15, 32: 17, 33: 15, 34: 17, 35: 15, 36: 15, -1: 7708}",
         "7708",
         null,
         null,
         null
        ],
        [
         "6",
         "2003-2006",
         "0.01",
         "25",
         "0.028",
         "10",
         "{0: 103, 1: 97, 2: 28, 3: 34, 4: 25, 5: 68, 6: 27, 7: 29, 8: 34, -1: 8434}",
         "8434",
         null,
         null,
         null
        ],
        [
         "7",
         "2003-2006",
         "0.01",
         "30",
         "0.053",
         "5",
         "{0: 74, 1: 81, 2: 68, 3: 30, -1: 8626}",
         "8626",
         null,
         null,
         "100846.491"
        ],
        [
         "8",
         "2003-2006",
         "0.015",
         "10",
         "0.058",
         "74",
         "{0: 11, 1: 18, 2: 15, 3: 14, 4: 19, 5: 54, 6: 23, 7: 11, 8: 12, 9: 12, 10: 954, 11: 183, 12: 21, 13: 14, 14: 49, 15: 17, 16: 28, 17: 204, 18: 828, 19: 237, 20: 85, 21: 34, 22: 18, 23: 11, 24: 17, 25: 23, 26: 12, 27: 23, 28: 14, 29: 10, 30: 10, 31: 11, 32: 9, 33: 17, 34: 11, 35: 13, 36: 9, 37: 37, 38: 49, 39: 12, 40: 12, 41: 13, 42: 11, 43: 10, 44: 16, 45: 25, 46: 16, 47: 10, 48: 11, 49: 11, 50: 11, 51: 12, 52: 16, 53: 15, 54: 10, 55: 10, 56: 17, 57: 10, 58: 10, 59: 11, 60: 14, 61: 13, 62: 16, 63: 13, 64: 10, 65: 10, 66: 19, 67: 10, 68: 10, 69: 9, 70: 11, 71: 11, 72: 10, -1: 5317}",
         "5317",
         null,
         null,
         null
        ],
        [
         "9",
         "2003-2006",
         "0.015",
         "15",
         "0.064",
         "39",
         "{0: 18, 1: 48, 2: 783, 3: 96, 4: 17, 5: 21, 6: 24, 7: 704, 8: 118, 9: 69, 10: 188, 11: 128, 12: 15, 13: 15, 14: 28, 15: 62, 16: 22, 17: 28, 18: 32, 19: 7, 20: 44, 21: 23, 22: 16, 23: 38, 24: 23, 25: 21, 26: 16, 27: 11, 28: 16, 29: 2, 30: 14, 31: 16, 32: 16, 33: 16, 34: 17, 35: 19, 36: 11, 37: 4, -1: 6133}",
         "6133",
         null,
         null,
         null
        ],
        [
         "10",
         "2003-2006",
         "0.015",
         "25",
         "0.033",
         "19",
         "{0: 26, 1: 612, 2: 40, 3: 402, 4: 57, 5: 50, 6: 114, 7: 45, 8: 36, 9: 86, 10: 39, 11: 36, 12: 28, 13: 38, 14: 70, 15: 8, 16: 29, 17: 26, -1: 7137}",
         "7137",
         null,
         null,
         null
        ],
        [
         "11",
         "2003-2006",
         "0.015",
         "30",
         "0.051",
         "16",
         "{0: 411, 1: 121, 2: 188, 3: 31, 4: 184, 5: 31, 6: 8, 7: 47, 8: 71, 9: 33, 10: 31, 11: 36, 12: 63, 13: 23, 14: 37, -1: 7564}",
         "7564",
         null,
         null,
         "10912.308"
        ]
       ],
       "shape": {
        "columns": 10,
        "rows": 12
       }
      },
      "text/html": [
       "<div>\n",
       "<style scoped>\n",
       "    .dataframe tbody tr th:only-of-type {\n",
       "        vertical-align: middle;\n",
       "    }\n",
       "\n",
       "    .dataframe tbody tr th {\n",
       "        vertical-align: top;\n",
       "    }\n",
       "\n",
       "    .dataframe thead th {\n",
       "        text-align: right;\n",
       "    }\n",
       "</style>\n",
       "<table border=\"1\" class=\"dataframe\">\n",
       "  <thead>\n",
       "    <tr style=\"text-align: right;\">\n",
       "      <th></th>\n",
       "      <th>Year Range</th>\n",
       "      <th>eps</th>\n",
       "      <th>min_samples</th>\n",
       "      <th>Runtime (s)</th>\n",
       "      <th>Clusters</th>\n",
       "      <th>Points per Cluster</th>\n",
       "      <th>Noise Points</th>\n",
       "      <th>Davies-Bouldin</th>\n",
       "      <th>Calinski-Harabasz</th>\n",
       "      <th>Weighted Mean ANOVA F</th>\n",
       "    </tr>\n",
       "  </thead>\n",
       "  <tbody>\n",
       "    <tr>\n",
       "      <th>0</th>\n",
       "      <td>2003-2006</td>\n",
       "      <td>0.020</td>\n",
       "      <td>10</td>\n",
       "      <td>0.309</td>\n",
       "      <td>88</td>\n",
       "      <td>{0: 29, 1: 10, 2: 30, 3: 42, 4: 32, 5: 26, 6: ...</td>\n",
       "      <td>3991</td>\n",
       "      <td>None</td>\n",
       "      <td>None</td>\n",
       "      <td>NaN</td>\n",
       "    </tr>\n",
       "    <tr>\n",
       "      <th>1</th>\n",
       "      <td>2003-2006</td>\n",
       "      <td>0.020</td>\n",
       "      <td>15</td>\n",
       "      <td>0.063</td>\n",
       "      <td>38</td>\n",
       "      <td>{0: 40, 1: 26, 2: 67, 3: 22, 4: 24, 5: 1259, 6...</td>\n",
       "      <td>4995</td>\n",
       "      <td>None</td>\n",
       "      <td>None</td>\n",
       "      <td>NaN</td>\n",
       "    </tr>\n",
       "    <tr>\n",
       "      <th>2</th>\n",
       "      <td>2003-2006</td>\n",
       "      <td>0.020</td>\n",
       "      <td>25</td>\n",
       "      <td>0.072</td>\n",
       "      <td>17</td>\n",
       "      <td>{0: 52, 1: 846, 2: 103, 3: 25, 4: 79, 5: 85, 6...</td>\n",
       "      <td>5931</td>\n",
       "      <td>None</td>\n",
       "      <td>None</td>\n",
       "      <td>NaN</td>\n",
       "    </tr>\n",
       "    <tr>\n",
       "      <th>3</th>\n",
       "      <td>2003-2006</td>\n",
       "      <td>0.020</td>\n",
       "      <td>30</td>\n",
       "      <td>0.067</td>\n",
       "      <td>12</td>\n",
       "      <td>{0: 822, 1: 97, 2: 841, 3: 124, 4: 429, 5: 57,...</td>\n",
       "      <td>6349</td>\n",
       "      <td>None</td>\n",
       "      <td>None</td>\n",
       "      <td>3554.829</td>\n",
       "    </tr>\n",
       "    <tr>\n",
       "      <th>4</th>\n",
       "      <td>2003-2006</td>\n",
       "      <td>0.010</td>\n",
       "      <td>10</td>\n",
       "      <td>0.049</td>\n",
       "      <td>84</td>\n",
       "      <td>{0: 11, 1: 24, 2: 13, 3: 11, 4: 12, 5: 121, 6:...</td>\n",
       "      <td>6932</td>\n",
       "      <td>None</td>\n",
       "      <td>None</td>\n",
       "      <td>NaN</td>\n",
       "    </tr>\n",
       "    <tr>\n",
       "      <th>5</th>\n",
       "      <td>2003-2006</td>\n",
       "      <td>0.010</td>\n",
       "      <td>15</td>\n",
       "      <td>0.061</td>\n",
       "      <td>38</td>\n",
       "      <td>{0: 17, 1: 114, 2: 87, 3: 16, 4: 107, 5: 27, 6...</td>\n",
       "      <td>7708</td>\n",
       "      <td>None</td>\n",
       "      <td>None</td>\n",
       "      <td>NaN</td>\n",
       "    </tr>\n",
       "    <tr>\n",
       "      <th>6</th>\n",
       "      <td>2003-2006</td>\n",
       "      <td>0.010</td>\n",
       "      <td>25</td>\n",
       "      <td>0.028</td>\n",
       "      <td>10</td>\n",
       "      <td>{0: 103, 1: 97, 2: 28, 3: 34, 4: 25, 5: 68, 6:...</td>\n",
       "      <td>8434</td>\n",
       "      <td>None</td>\n",
       "      <td>None</td>\n",
       "      <td>NaN</td>\n",
       "    </tr>\n",
       "    <tr>\n",
       "      <th>7</th>\n",
       "      <td>2003-2006</td>\n",
       "      <td>0.010</td>\n",
       "      <td>30</td>\n",
       "      <td>0.053</td>\n",
       "      <td>5</td>\n",
       "      <td>{0: 74, 1: 81, 2: 68, 3: 30, -1: 8626}</td>\n",
       "      <td>8626</td>\n",
       "      <td>None</td>\n",
       "      <td>None</td>\n",
       "      <td>100846.491</td>\n",
       "    </tr>\n",
       "    <tr>\n",
       "      <th>8</th>\n",
       "      <td>2003-2006</td>\n",
       "      <td>0.015</td>\n",
       "      <td>10</td>\n",
       "      <td>0.058</td>\n",
       "      <td>74</td>\n",
       "      <td>{0: 11, 1: 18, 2: 15, 3: 14, 4: 19, 5: 54, 6: ...</td>\n",
       "      <td>5317</td>\n",
       "      <td>None</td>\n",
       "      <td>None</td>\n",
       "      <td>NaN</td>\n",
       "    </tr>\n",
       "    <tr>\n",
       "      <th>9</th>\n",
       "      <td>2003-2006</td>\n",
       "      <td>0.015</td>\n",
       "      <td>15</td>\n",
       "      <td>0.064</td>\n",
       "      <td>39</td>\n",
       "      <td>{0: 18, 1: 48, 2: 783, 3: 96, 4: 17, 5: 21, 6:...</td>\n",
       "      <td>6133</td>\n",
       "      <td>None</td>\n",
       "      <td>None</td>\n",
       "      <td>NaN</td>\n",
       "    </tr>\n",
       "    <tr>\n",
       "      <th>10</th>\n",
       "      <td>2003-2006</td>\n",
       "      <td>0.015</td>\n",
       "      <td>25</td>\n",
       "      <td>0.033</td>\n",
       "      <td>19</td>\n",
       "      <td>{0: 26, 1: 612, 2: 40, 3: 402, 4: 57, 5: 50, 6...</td>\n",
       "      <td>7137</td>\n",
       "      <td>None</td>\n",
       "      <td>None</td>\n",
       "      <td>NaN</td>\n",
       "    </tr>\n",
       "    <tr>\n",
       "      <th>11</th>\n",
       "      <td>2003-2006</td>\n",
       "      <td>0.015</td>\n",
       "      <td>30</td>\n",
       "      <td>0.051</td>\n",
       "      <td>16</td>\n",
       "      <td>{0: 411, 1: 121, 2: 188, 3: 31, 4: 184, 5: 31,...</td>\n",
       "      <td>7564</td>\n",
       "      <td>None</td>\n",
       "      <td>None</td>\n",
       "      <td>10912.308</td>\n",
       "    </tr>\n",
       "  </tbody>\n",
       "</table>\n",
       "</div>"
      ],
      "text/plain": [
       "   Year Range    eps  min_samples Runtime (s)  Clusters  \\\n",
       "0   2003-2006  0.020           10       0.309        88   \n",
       "1   2003-2006  0.020           15       0.063        38   \n",
       "2   2003-2006  0.020           25       0.072        17   \n",
       "3   2003-2006  0.020           30       0.067        12   \n",
       "4   2003-2006  0.010           10       0.049        84   \n",
       "5   2003-2006  0.010           15       0.061        38   \n",
       "6   2003-2006  0.010           25       0.028        10   \n",
       "7   2003-2006  0.010           30       0.053         5   \n",
       "8   2003-2006  0.015           10       0.058        74   \n",
       "9   2003-2006  0.015           15       0.064        39   \n",
       "10  2003-2006  0.015           25       0.033        19   \n",
       "11  2003-2006  0.015           30       0.051        16   \n",
       "\n",
       "                                   Points per Cluster  Noise Points  \\\n",
       "0   {0: 29, 1: 10, 2: 30, 3: 42, 4: 32, 5: 26, 6: ...          3991   \n",
       "1   {0: 40, 1: 26, 2: 67, 3: 22, 4: 24, 5: 1259, 6...          4995   \n",
       "2   {0: 52, 1: 846, 2: 103, 3: 25, 4: 79, 5: 85, 6...          5931   \n",
       "3   {0: 822, 1: 97, 2: 841, 3: 124, 4: 429, 5: 57,...          6349   \n",
       "4   {0: 11, 1: 24, 2: 13, 3: 11, 4: 12, 5: 121, 6:...          6932   \n",
       "5   {0: 17, 1: 114, 2: 87, 3: 16, 4: 107, 5: 27, 6...          7708   \n",
       "6   {0: 103, 1: 97, 2: 28, 3: 34, 4: 25, 5: 68, 6:...          8434   \n",
       "7              {0: 74, 1: 81, 2: 68, 3: 30, -1: 8626}          8626   \n",
       "8   {0: 11, 1: 18, 2: 15, 3: 14, 4: 19, 5: 54, 6: ...          5317   \n",
       "9   {0: 18, 1: 48, 2: 783, 3: 96, 4: 17, 5: 21, 6:...          6133   \n",
       "10  {0: 26, 1: 612, 2: 40, 3: 402, 4: 57, 5: 50, 6...          7137   \n",
       "11  {0: 411, 1: 121, 2: 188, 3: 31, 4: 184, 5: 31,...          7564   \n",
       "\n",
       "   Davies-Bouldin Calinski-Harabasz  Weighted Mean ANOVA F  \n",
       "0            None              None                    NaN  \n",
       "1            None              None                    NaN  \n",
       "2            None              None                    NaN  \n",
       "3            None              None               3554.829  \n",
       "4            None              None                    NaN  \n",
       "5            None              None                    NaN  \n",
       "6            None              None                    NaN  \n",
       "7            None              None             100846.491  \n",
       "8            None              None                    NaN  \n",
       "9            None              None                    NaN  \n",
       "10           None              None                    NaN  \n",
       "11           None              None              10912.308  "
      ]
     },
     "metadata": {},
     "output_type": "display_data"
    },
    {
     "name": "stdout",
     "output_type": "stream",
     "text": [
      "\n",
      "Running DBSCAN for Year Range: 2004-2007\n",
      "Runtime for dbscan_clustering: 0.074375 seconds\n"
     ]
    },
    {
     "name": "stderr",
     "output_type": "stream",
     "text": [
      "c:\\Users\\fionu\\OneDrive\\Dokumente\\Daten Fiona\\AIUB\\Code\\AIUB-Backup\\clustering\\high_dim_analysis.py:138: FutureWarning: \n",
      "\n",
      "Passing `palette` without assigning `hue` is deprecated and will be removed in v0.14.0. Assign the `y` variable to `hue` and set `legend=False` for the same effect.\n",
      "\n",
      "  sns.barplot(x=mi_vals, y=features, palette=\"magma\")\n"
     ]
    },
    {
     "name": "stdout",
     "output_type": "stream",
     "text": [
      "Runtime for dbscan_clustering: 0.150138 seconds\n"
     ]
    },
    {
     "name": "stderr",
     "output_type": "stream",
     "text": [
      "c:\\Users\\fionu\\OneDrive\\Dokumente\\Daten Fiona\\AIUB\\Code\\AIUB-Backup\\clustering\\high_dim_analysis.py:138: FutureWarning: \n",
      "\n",
      "Passing `palette` without assigning `hue` is deprecated and will be removed in v0.14.0. Assign the `y` variable to `hue` and set `legend=False` for the same effect.\n",
      "\n",
      "  sns.barplot(x=mi_vals, y=features, palette=\"magma\")\n"
     ]
    },
    {
     "name": "stdout",
     "output_type": "stream",
     "text": [
      "Runtime for dbscan_clustering: 0.145304 seconds\n"
     ]
    },
    {
     "name": "stderr",
     "output_type": "stream",
     "text": [
      "c:\\Users\\fionu\\OneDrive\\Dokumente\\Daten Fiona\\AIUB\\Code\\AIUB-Backup\\clustering\\high_dim_analysis.py:138: FutureWarning: \n",
      "\n",
      "Passing `palette` without assigning `hue` is deprecated and will be removed in v0.14.0. Assign the `y` variable to `hue` and set `legend=False` for the same effect.\n",
      "\n",
      "  sns.barplot(x=mi_vals, y=features, palette=\"magma\")\n"
     ]
    },
    {
     "name": "stdout",
     "output_type": "stream",
     "text": [
      "Runtime for dbscan_clustering: 0.125830 seconds\n"
     ]
    },
    {
     "name": "stderr",
     "output_type": "stream",
     "text": [
      "c:\\Users\\fionu\\OneDrive\\Dokumente\\Daten Fiona\\AIUB\\Code\\AIUB-Backup\\clustering\\high_dim_analysis.py:138: FutureWarning: \n",
      "\n",
      "Passing `palette` without assigning `hue` is deprecated and will be removed in v0.14.0. Assign the `y` variable to `hue` and set `legend=False` for the same effect.\n",
      "\n",
      "  sns.barplot(x=mi_vals, y=features, palette=\"magma\")\n"
     ]
    },
    {
     "name": "stdout",
     "output_type": "stream",
     "text": [
      "Runtime for dbscan_clustering: 0.135897 seconds\n"
     ]
    },
    {
     "name": "stderr",
     "output_type": "stream",
     "text": [
      "c:\\Users\\fionu\\OneDrive\\Dokumente\\Daten Fiona\\AIUB\\Code\\AIUB-Backup\\clustering\\high_dim_analysis.py:138: FutureWarning: \n",
      "\n",
      "Passing `palette` without assigning `hue` is deprecated and will be removed in v0.14.0. Assign the `y` variable to `hue` and set `legend=False` for the same effect.\n",
      "\n",
      "  sns.barplot(x=mi_vals, y=features, palette=\"magma\")\n"
     ]
    },
    {
     "name": "stdout",
     "output_type": "stream",
     "text": [
      "Runtime for dbscan_clustering: 0.111605 seconds\n"
     ]
    },
    {
     "name": "stderr",
     "output_type": "stream",
     "text": [
      "c:\\Users\\fionu\\OneDrive\\Dokumente\\Daten Fiona\\AIUB\\Code\\AIUB-Backup\\clustering\\high_dim_analysis.py:138: FutureWarning: \n",
      "\n",
      "Passing `palette` without assigning `hue` is deprecated and will be removed in v0.14.0. Assign the `y` variable to `hue` and set `legend=False` for the same effect.\n",
      "\n",
      "  sns.barplot(x=mi_vals, y=features, palette=\"magma\")\n"
     ]
    },
    {
     "name": "stdout",
     "output_type": "stream",
     "text": [
      "Runtime for dbscan_clustering: 0.105946 seconds\n"
     ]
    },
    {
     "name": "stderr",
     "output_type": "stream",
     "text": [
      "c:\\Users\\fionu\\OneDrive\\Dokumente\\Daten Fiona\\AIUB\\Code\\AIUB-Backup\\clustering\\high_dim_analysis.py:138: FutureWarning: \n",
      "\n",
      "Passing `palette` without assigning `hue` is deprecated and will be removed in v0.14.0. Assign the `y` variable to `hue` and set `legend=False` for the same effect.\n",
      "\n",
      "  sns.barplot(x=mi_vals, y=features, palette=\"magma\")\n"
     ]
    },
    {
     "name": "stdout",
     "output_type": "stream",
     "text": [
      "Runtime for dbscan_clustering: 0.111270 seconds\n"
     ]
    },
    {
     "name": "stderr",
     "output_type": "stream",
     "text": [
      "c:\\Users\\fionu\\OneDrive\\Dokumente\\Daten Fiona\\AIUB\\Code\\AIUB-Backup\\clustering\\high_dim_analysis.py:138: FutureWarning: \n",
      "\n",
      "Passing `palette` without assigning `hue` is deprecated and will be removed in v0.14.0. Assign the `y` variable to `hue` and set `legend=False` for the same effect.\n",
      "\n",
      "  sns.barplot(x=mi_vals, y=features, palette=\"magma\")\n"
     ]
    },
    {
     "name": "stdout",
     "output_type": "stream",
     "text": [
      "Runtime for dbscan_clustering: 0.252804 seconds\n"
     ]
    },
    {
     "name": "stderr",
     "output_type": "stream",
     "text": [
      "c:\\Users\\fionu\\OneDrive\\Dokumente\\Daten Fiona\\AIUB\\Code\\AIUB-Backup\\clustering\\high_dim_analysis.py:138: FutureWarning: \n",
      "\n",
      "Passing `palette` without assigning `hue` is deprecated and will be removed in v0.14.0. Assign the `y` variable to `hue` and set `legend=False` for the same effect.\n",
      "\n",
      "  sns.barplot(x=mi_vals, y=features, palette=\"magma\")\n"
     ]
    },
    {
     "name": "stdout",
     "output_type": "stream",
     "text": [
      "Runtime for dbscan_clustering: 0.212906 seconds\n"
     ]
    },
    {
     "name": "stderr",
     "output_type": "stream",
     "text": [
      "c:\\Users\\fionu\\OneDrive\\Dokumente\\Daten Fiona\\AIUB\\Code\\AIUB-Backup\\clustering\\high_dim_analysis.py:138: FutureWarning: \n",
      "\n",
      "Passing `palette` without assigning `hue` is deprecated and will be removed in v0.14.0. Assign the `y` variable to `hue` and set `legend=False` for the same effect.\n",
      "\n",
      "  sns.barplot(x=mi_vals, y=features, palette=\"magma\")\n"
     ]
    },
    {
     "name": "stdout",
     "output_type": "stream",
     "text": [
      "Runtime for dbscan_clustering: 0.158205 seconds\n"
     ]
    },
    {
     "name": "stderr",
     "output_type": "stream",
     "text": [
      "c:\\Users\\fionu\\OneDrive\\Dokumente\\Daten Fiona\\AIUB\\Code\\AIUB-Backup\\clustering\\high_dim_analysis.py:138: FutureWarning: \n",
      "\n",
      "Passing `palette` without assigning `hue` is deprecated and will be removed in v0.14.0. Assign the `y` variable to `hue` and set `legend=False` for the same effect.\n",
      "\n",
      "  sns.barplot(x=mi_vals, y=features, palette=\"magma\")\n"
     ]
    },
    {
     "name": "stdout",
     "output_type": "stream",
     "text": [
      "Runtime for dbscan_clustering: 0.139672 seconds\n"
     ]
    },
    {
     "name": "stderr",
     "output_type": "stream",
     "text": [
      "c:\\Users\\fionu\\OneDrive\\Dokumente\\Daten Fiona\\AIUB\\Code\\AIUB-Backup\\clustering\\high_dim_analysis.py:138: FutureWarning: \n",
      "\n",
      "Passing `palette` without assigning `hue` is deprecated and will be removed in v0.14.0. Assign the `y` variable to `hue` and set `legend=False` for the same effect.\n",
      "\n",
      "  sns.barplot(x=mi_vals, y=features, palette=\"magma\")\n"
     ]
    },
    {
     "name": "stdout",
     "output_type": "stream",
     "text": [
      "Runtime for dbscan_clustering: 0.111118 seconds\n"
     ]
    },
    {
     "name": "stderr",
     "output_type": "stream",
     "text": [
      "c:\\Users\\fionu\\OneDrive\\Dokumente\\Daten Fiona\\AIUB\\Code\\AIUB-Backup\\clustering\\high_dim_analysis.py:42: FutureWarning: \n",
      "\n",
      "Passing `palette` without assigning `hue` is deprecated and will be removed in v0.14.0. Assign the `y` variable to `hue` and set `legend=False` for the same effect.\n",
      "\n",
      "  sns.barplot(x=f_vals, y=features, palette=\"crest\")\n"
     ]
    },
    {
     "name": "stdout",
     "output_type": "stream",
     "text": [
      "Best DBSCAN parameters based on ANOVA F-value:\n",
      "Year Range                                                       2004-2007\n",
      "eps                                                                   0.01\n",
      "min_samples                                                             30\n",
      "Runtime (s)                                                          0.111\n",
      "Clusters                                                                 7\n",
      "Points per Cluster       {0: 193, 1: 41, 2: 62, 3: 44, 4: 39, 5: 30, -1...\n",
      "Noise Points                                                          8140\n",
      "Davies-Bouldin                                                        None\n",
      "Calinski-Harabasz                                                     None\n",
      "Weighted Mean ANOVA F                                            39086.169\n",
      "Name: 7, dtype: object\n"
     ]
    },
    {
     "data": {
      "application/vnd.microsoft.datawrangler.viewer.v0+json": {
       "columns": [
        {
         "name": "index",
         "rawType": "int64",
         "type": "integer"
        },
        {
         "name": "Year Range",
         "rawType": "object",
         "type": "string"
        },
        {
         "name": "eps",
         "rawType": "float64",
         "type": "float"
        },
        {
         "name": "min_samples",
         "rawType": "int64",
         "type": "integer"
        },
        {
         "name": "Runtime (s)",
         "rawType": "object",
         "type": "string"
        },
        {
         "name": "Clusters",
         "rawType": "int64",
         "type": "integer"
        },
        {
         "name": "Points per Cluster",
         "rawType": "object",
         "type": "unknown"
        },
        {
         "name": "Noise Points",
         "rawType": "int32",
         "type": "integer"
        },
        {
         "name": "Davies-Bouldin",
         "rawType": "object",
         "type": "unknown"
        },
        {
         "name": "Calinski-Harabasz",
         "rawType": "object",
         "type": "unknown"
        },
        {
         "name": "Weighted Mean ANOVA F",
         "rawType": "float64",
         "type": "float"
        }
       ],
       "ref": "7782b4e6-8ae2-4d16-afab-e849bc18d857",
       "rows": [
        [
         "0",
         "2004-2007",
         "0.02",
         "10",
         "0.074",
         "58",
         "{0: 11, 1: 13, 2: 20, 3: 10, 4: 19, 5: 17, 6: 15, 7: 1846, 8: 70, 9: 28, 10: 10, 11: 37, 12: 1765, 13: 61, 14: 60, 15: 53, 16: 52, 17: 7, 18: 11, 19: 17, 20: 16, 21: 12, 22: 12, 23: 36, 24: 19, 25: 14, 26: 11, 27: 40, 28: 35, 29: 22, 30: 13, 31: 17, 32: 14, 33: 15, 34: 14, 35: 13, 36: 11, 37: 15, 38: 22, 39: 9, 40: 11, 41: 13, 42: 12, 43: 10, 44: 14, 45: 12, 46: 10, 47: 16, 48: 10, 49: 11, 50: 12, 51: 11, 52: 10, 53: 10, 54: 20, 55: 11, 56: 11, -1: 3863}",
         "3863",
         null,
         null,
         null
        ],
        [
         "1",
         "2004-2007",
         "0.02",
         "15",
         "0.150",
         "26",
         "{0: 20, 1: 15, 2: 1670, 3: 64, 4: 67, 5: 31, 6: 1680, 7: 60, 8: 47, 9: 51, 10: 15, 11: 49, 12: 11, 13: 16, 14: 17, 15: 15, 16: 15, 17: 34, 18: 36, 19: 27, 20: 17, 21: 16, 22: 12, 23: 13, 24: 24, -1: 4527}",
         "4527",
         null,
         null,
         null
        ],
        [
         "2",
         "2004-2007",
         "0.02",
         "25",
         "0.145",
         "16",
         "{0: 1168, 1: 271, 2: 96, 3: 970, 4: 400, 5: 53, 6: 45, 7: 47, 8: 26, 9: 28, 10: 67, 11: 56, 12: 25, 13: 48, 14: 26, -1: 5223}",
         "5223",
         null,
         null,
         null
        ],
        [
         "3",
         "2004-2007",
         "0.02",
         "30",
         "0.126",
         "13",
         "{0: 1148, 1: 86, 2: 897, 3: 347, 4: 39, 5: 123, 6: 62, 7: 15, 8: 59, 9: 31, 10: 31, 11: 36, -1: 5675}",
         "5675",
         null,
         null,
         "2338.465"
        ],
        [
         "4",
         "2004-2007",
         "0.01",
         "10",
         "0.136",
         "83",
         "{0: 106, 1: 265, 2: 98, 3: 19, 4: 11, 5: 14, 6: 19, 7: 16, 8: 11, 9: 30, 10: 38, 11: 88, 12: 20, 13: 38, 14: 55, 15: 15, 16: 17, 17: 14, 18: 10, 19: 46, 20: 49, 21: 54, 22: 21, 23: 15, 24: 14, 25: 20, 26: 10, 27: 34, 28: 33, 29: 48, 30: 14, 31: 17, 32: 25, 33: 16, 34: 31, 35: 22, 36: 15, 37: 10, 38: 22, 39: 11, 40: 13, 41: 22, 42: 27, 43: 17, 44: 10, 45: 11, 46: 13, 47: 12, 48: 10, 49: 45, 50: 11, 51: 21, 52: 17, 53: 15, 54: 19, 55: 11, 56: 10, 57: 17, 58: 11, 59: 10, 60: 10, 61: 12, 62: 14, 63: 12, 64: 12, 65: 10, 66: 11, 67: 11, 68: 26, 69: 10, 70: 10, 71: 10, 72: 13, 73: 10, 74: 17, 75: 12, 76: 11, 77: 10, 78: 10, 79: 10, 80: 11, 81: 10, -1: 6554}",
         "6554",
         null,
         null,
         null
        ],
        [
         "5",
         "2004-2007",
         "0.01",
         "15",
         "0.112",
         "39",
         "{0: 51, 1: 212, 2: 44, 3: 19, 4: 45, 5: 15, 6: 27, 7: 41, 8: 85, 9: 20, 10: 36, 11: 17, 12: 28, 13: 49, 14: 54, 15: 17, 16: 34, 17: 19, 18: 26, 19: 25, 20: 16, 21: 18, 22: 43, 23: 21, 24: 33, 25: 20, 26: 46, 27: 16, 28: 39, 29: 15, 30: 17, 31: 17, 32: 20, 33: 24, 34: 19, 35: 17, 36: 15, 37: 18, -1: 7271}",
         "7271",
         null,
         null,
         null
        ],
        [
         "6",
         "2004-2007",
         "0.01",
         "25",
         "0.106",
         "10",
         "{0: 193, 1: 32, 2: 41, 3: 62, 4: 33, 5: 44, 6: 34, 7: 45, 8: 25, -1: 8040}",
         "8040",
         null,
         null,
         null
        ],
        [
         "7",
         "2004-2007",
         "0.01",
         "30",
         "0.111",
         "7",
         "{0: 193, 1: 41, 2: 62, 3: 44, 4: 39, 5: 30, -1: 8140}",
         "8140",
         null,
         null,
         "39086.169"
        ],
        [
         "8",
         "2004-2007",
         "0.015",
         "10",
         "0.253",
         "53",
         "{0: 13, 1: 14, 2: 1127, 3: 302, 4: 113, 5: 10, 6: 21, 7: 12, 8: 913, 9: 384, 10: 87, 11: 42, 12: 23, 13: 12, 14: 12, 15: 10, 16: 35, 17: 13, 18: 26, 19: 14, 20: 10, 21: 29, 22: 41, 23: 16, 24: 10, 25: 11, 26: 11, 27: 13, 28: 12, 29: 29, 30: 34, 31: 27, 32: 15, 33: 19, 34: 10, 35: 11, 36: 10, 37: 17, 38: 10, 39: 10, 40: 15, 41: 10, 42: 10, 43: 10, 44: 10, 45: 12, 46: 10, 47: 11, 48: 14, 49: 11, 50: 12, 51: 12, -1: 4884}",
         "4884",
         null,
         null,
         null
        ],
        [
         "9",
         "2004-2007",
         "0.015",
         "15",
         "0.213",
         "29",
         "{0: 962, 1: 98, 2: 47, 3: 112, 4: 120, 5: 675, 6: 156, 7: 292, 8: 32, 9: 9, 10: 27, 11: 62, 12: 18, 13: 29, 14: 23, 15: 23, 16: 39, 17: 36, 18: 16, 19: 24, 20: 15, 21: 22, 22: 20, 23: 16, 24: 17, 25: 19, 26: 19, 27: 15, -1: 5606}",
         "5606",
         null,
         null,
         null
        ],
        [
         "10",
         "2004-2007",
         "0.015",
         "25",
         "0.158",
         "17",
         "{0: 759, 1: 358, 2: 150, 3: 26, 4: 120, 5: 75, 6: 41, 7: 11, 8: 78, 9: 48, 10: 25, 11: 34, 12: 45, 13: 61, 14: 25, 15: 25, -1: 6668}",
         "6668",
         null,
         null,
         null
        ],
        [
         "11",
         "2004-2007",
         "0.015",
         "30",
         "0.140",
         "19",
         "{0: 544, 1: 80, 2: 56, 3: 195, 4: 51, 5: 66, 6: 58, 7: 40, 8: 43, 9: 99, 10: 31, 11: 31, 12: 63, 13: 30, 14: 5, 15: 22, 16: 35, 17: 23, -1: 7077}",
         "7077",
         null,
         null,
         "6319.624"
        ]
       ],
       "shape": {
        "columns": 10,
        "rows": 12
       }
      },
      "text/html": [
       "<div>\n",
       "<style scoped>\n",
       "    .dataframe tbody tr th:only-of-type {\n",
       "        vertical-align: middle;\n",
       "    }\n",
       "\n",
       "    .dataframe tbody tr th {\n",
       "        vertical-align: top;\n",
       "    }\n",
       "\n",
       "    .dataframe thead th {\n",
       "        text-align: right;\n",
       "    }\n",
       "</style>\n",
       "<table border=\"1\" class=\"dataframe\">\n",
       "  <thead>\n",
       "    <tr style=\"text-align: right;\">\n",
       "      <th></th>\n",
       "      <th>Year Range</th>\n",
       "      <th>eps</th>\n",
       "      <th>min_samples</th>\n",
       "      <th>Runtime (s)</th>\n",
       "      <th>Clusters</th>\n",
       "      <th>Points per Cluster</th>\n",
       "      <th>Noise Points</th>\n",
       "      <th>Davies-Bouldin</th>\n",
       "      <th>Calinski-Harabasz</th>\n",
       "      <th>Weighted Mean ANOVA F</th>\n",
       "    </tr>\n",
       "  </thead>\n",
       "  <tbody>\n",
       "    <tr>\n",
       "      <th>0</th>\n",
       "      <td>2004-2007</td>\n",
       "      <td>0.020</td>\n",
       "      <td>10</td>\n",
       "      <td>0.074</td>\n",
       "      <td>58</td>\n",
       "      <td>{0: 11, 1: 13, 2: 20, 3: 10, 4: 19, 5: 17, 6: ...</td>\n",
       "      <td>3863</td>\n",
       "      <td>None</td>\n",
       "      <td>None</td>\n",
       "      <td>NaN</td>\n",
       "    </tr>\n",
       "    <tr>\n",
       "      <th>1</th>\n",
       "      <td>2004-2007</td>\n",
       "      <td>0.020</td>\n",
       "      <td>15</td>\n",
       "      <td>0.150</td>\n",
       "      <td>26</td>\n",
       "      <td>{0: 20, 1: 15, 2: 1670, 3: 64, 4: 67, 5: 31, 6...</td>\n",
       "      <td>4527</td>\n",
       "      <td>None</td>\n",
       "      <td>None</td>\n",
       "      <td>NaN</td>\n",
       "    </tr>\n",
       "    <tr>\n",
       "      <th>2</th>\n",
       "      <td>2004-2007</td>\n",
       "      <td>0.020</td>\n",
       "      <td>25</td>\n",
       "      <td>0.145</td>\n",
       "      <td>16</td>\n",
       "      <td>{0: 1168, 1: 271, 2: 96, 3: 970, 4: 400, 5: 53...</td>\n",
       "      <td>5223</td>\n",
       "      <td>None</td>\n",
       "      <td>None</td>\n",
       "      <td>NaN</td>\n",
       "    </tr>\n",
       "    <tr>\n",
       "      <th>3</th>\n",
       "      <td>2004-2007</td>\n",
       "      <td>0.020</td>\n",
       "      <td>30</td>\n",
       "      <td>0.126</td>\n",
       "      <td>13</td>\n",
       "      <td>{0: 1148, 1: 86, 2: 897, 3: 347, 4: 39, 5: 123...</td>\n",
       "      <td>5675</td>\n",
       "      <td>None</td>\n",
       "      <td>None</td>\n",
       "      <td>2338.465</td>\n",
       "    </tr>\n",
       "    <tr>\n",
       "      <th>4</th>\n",
       "      <td>2004-2007</td>\n",
       "      <td>0.010</td>\n",
       "      <td>10</td>\n",
       "      <td>0.136</td>\n",
       "      <td>83</td>\n",
       "      <td>{0: 106, 1: 265, 2: 98, 3: 19, 4: 11, 5: 14, 6...</td>\n",
       "      <td>6554</td>\n",
       "      <td>None</td>\n",
       "      <td>None</td>\n",
       "      <td>NaN</td>\n",
       "    </tr>\n",
       "    <tr>\n",
       "      <th>5</th>\n",
       "      <td>2004-2007</td>\n",
       "      <td>0.010</td>\n",
       "      <td>15</td>\n",
       "      <td>0.112</td>\n",
       "      <td>39</td>\n",
       "      <td>{0: 51, 1: 212, 2: 44, 3: 19, 4: 45, 5: 15, 6:...</td>\n",
       "      <td>7271</td>\n",
       "      <td>None</td>\n",
       "      <td>None</td>\n",
       "      <td>NaN</td>\n",
       "    </tr>\n",
       "    <tr>\n",
       "      <th>6</th>\n",
       "      <td>2004-2007</td>\n",
       "      <td>0.010</td>\n",
       "      <td>25</td>\n",
       "      <td>0.106</td>\n",
       "      <td>10</td>\n",
       "      <td>{0: 193, 1: 32, 2: 41, 3: 62, 4: 33, 5: 44, 6:...</td>\n",
       "      <td>8040</td>\n",
       "      <td>None</td>\n",
       "      <td>None</td>\n",
       "      <td>NaN</td>\n",
       "    </tr>\n",
       "    <tr>\n",
       "      <th>7</th>\n",
       "      <td>2004-2007</td>\n",
       "      <td>0.010</td>\n",
       "      <td>30</td>\n",
       "      <td>0.111</td>\n",
       "      <td>7</td>\n",
       "      <td>{0: 193, 1: 41, 2: 62, 3: 44, 4: 39, 5: 30, -1...</td>\n",
       "      <td>8140</td>\n",
       "      <td>None</td>\n",
       "      <td>None</td>\n",
       "      <td>39086.169</td>\n",
       "    </tr>\n",
       "    <tr>\n",
       "      <th>8</th>\n",
       "      <td>2004-2007</td>\n",
       "      <td>0.015</td>\n",
       "      <td>10</td>\n",
       "      <td>0.253</td>\n",
       "      <td>53</td>\n",
       "      <td>{0: 13, 1: 14, 2: 1127, 3: 302, 4: 113, 5: 10,...</td>\n",
       "      <td>4884</td>\n",
       "      <td>None</td>\n",
       "      <td>None</td>\n",
       "      <td>NaN</td>\n",
       "    </tr>\n",
       "    <tr>\n",
       "      <th>9</th>\n",
       "      <td>2004-2007</td>\n",
       "      <td>0.015</td>\n",
       "      <td>15</td>\n",
       "      <td>0.213</td>\n",
       "      <td>29</td>\n",
       "      <td>{0: 962, 1: 98, 2: 47, 3: 112, 4: 120, 5: 675,...</td>\n",
       "      <td>5606</td>\n",
       "      <td>None</td>\n",
       "      <td>None</td>\n",
       "      <td>NaN</td>\n",
       "    </tr>\n",
       "    <tr>\n",
       "      <th>10</th>\n",
       "      <td>2004-2007</td>\n",
       "      <td>0.015</td>\n",
       "      <td>25</td>\n",
       "      <td>0.158</td>\n",
       "      <td>17</td>\n",
       "      <td>{0: 759, 1: 358, 2: 150, 3: 26, 4: 120, 5: 75,...</td>\n",
       "      <td>6668</td>\n",
       "      <td>None</td>\n",
       "      <td>None</td>\n",
       "      <td>NaN</td>\n",
       "    </tr>\n",
       "    <tr>\n",
       "      <th>11</th>\n",
       "      <td>2004-2007</td>\n",
       "      <td>0.015</td>\n",
       "      <td>30</td>\n",
       "      <td>0.140</td>\n",
       "      <td>19</td>\n",
       "      <td>{0: 544, 1: 80, 2: 56, 3: 195, 4: 51, 5: 66, 6...</td>\n",
       "      <td>7077</td>\n",
       "      <td>None</td>\n",
       "      <td>None</td>\n",
       "      <td>6319.624</td>\n",
       "    </tr>\n",
       "  </tbody>\n",
       "</table>\n",
       "</div>"
      ],
      "text/plain": [
       "   Year Range    eps  min_samples Runtime (s)  Clusters  \\\n",
       "0   2004-2007  0.020           10       0.074        58   \n",
       "1   2004-2007  0.020           15       0.150        26   \n",
       "2   2004-2007  0.020           25       0.145        16   \n",
       "3   2004-2007  0.020           30       0.126        13   \n",
       "4   2004-2007  0.010           10       0.136        83   \n",
       "5   2004-2007  0.010           15       0.112        39   \n",
       "6   2004-2007  0.010           25       0.106        10   \n",
       "7   2004-2007  0.010           30       0.111         7   \n",
       "8   2004-2007  0.015           10       0.253        53   \n",
       "9   2004-2007  0.015           15       0.213        29   \n",
       "10  2004-2007  0.015           25       0.158        17   \n",
       "11  2004-2007  0.015           30       0.140        19   \n",
       "\n",
       "                                   Points per Cluster  Noise Points  \\\n",
       "0   {0: 11, 1: 13, 2: 20, 3: 10, 4: 19, 5: 17, 6: ...          3863   \n",
       "1   {0: 20, 1: 15, 2: 1670, 3: 64, 4: 67, 5: 31, 6...          4527   \n",
       "2   {0: 1168, 1: 271, 2: 96, 3: 970, 4: 400, 5: 53...          5223   \n",
       "3   {0: 1148, 1: 86, 2: 897, 3: 347, 4: 39, 5: 123...          5675   \n",
       "4   {0: 106, 1: 265, 2: 98, 3: 19, 4: 11, 5: 14, 6...          6554   \n",
       "5   {0: 51, 1: 212, 2: 44, 3: 19, 4: 45, 5: 15, 6:...          7271   \n",
       "6   {0: 193, 1: 32, 2: 41, 3: 62, 4: 33, 5: 44, 6:...          8040   \n",
       "7   {0: 193, 1: 41, 2: 62, 3: 44, 4: 39, 5: 30, -1...          8140   \n",
       "8   {0: 13, 1: 14, 2: 1127, 3: 302, 4: 113, 5: 10,...          4884   \n",
       "9   {0: 962, 1: 98, 2: 47, 3: 112, 4: 120, 5: 675,...          5606   \n",
       "10  {0: 759, 1: 358, 2: 150, 3: 26, 4: 120, 5: 75,...          6668   \n",
       "11  {0: 544, 1: 80, 2: 56, 3: 195, 4: 51, 5: 66, 6...          7077   \n",
       "\n",
       "   Davies-Bouldin Calinski-Harabasz  Weighted Mean ANOVA F  \n",
       "0            None              None                    NaN  \n",
       "1            None              None                    NaN  \n",
       "2            None              None                    NaN  \n",
       "3            None              None               2338.465  \n",
       "4            None              None                    NaN  \n",
       "5            None              None                    NaN  \n",
       "6            None              None                    NaN  \n",
       "7            None              None              39086.169  \n",
       "8            None              None                    NaN  \n",
       "9            None              None                    NaN  \n",
       "10           None              None                    NaN  \n",
       "11           None              None               6319.624  "
      ]
     },
     "metadata": {},
     "output_type": "display_data"
    },
    {
     "name": "stdout",
     "output_type": "stream",
     "text": [
      "\n",
      "Running DBSCAN for Year Range: 2005-2008\n",
      "Runtime for dbscan_clustering: 0.130866 seconds\n"
     ]
    },
    {
     "name": "stderr",
     "output_type": "stream",
     "text": [
      "c:\\Users\\fionu\\OneDrive\\Dokumente\\Daten Fiona\\AIUB\\Code\\AIUB-Backup\\clustering\\high_dim_analysis.py:138: FutureWarning: \n",
      "\n",
      "Passing `palette` without assigning `hue` is deprecated and will be removed in v0.14.0. Assign the `y` variable to `hue` and set `legend=False` for the same effect.\n",
      "\n",
      "  sns.barplot(x=mi_vals, y=features, palette=\"magma\")\n"
     ]
    },
    {
     "name": "stdout",
     "output_type": "stream",
     "text": [
      "Runtime for dbscan_clustering: 0.125834 seconds\n"
     ]
    },
    {
     "name": "stderr",
     "output_type": "stream",
     "text": [
      "c:\\Users\\fionu\\OneDrive\\Dokumente\\Daten Fiona\\AIUB\\Code\\AIUB-Backup\\clustering\\high_dim_analysis.py:138: FutureWarning: \n",
      "\n",
      "Passing `palette` without assigning `hue` is deprecated and will be removed in v0.14.0. Assign the `y` variable to `hue` and set `legend=False` for the same effect.\n",
      "\n",
      "  sns.barplot(x=mi_vals, y=features, palette=\"magma\")\n"
     ]
    },
    {
     "name": "stdout",
     "output_type": "stream",
     "text": [
      "Runtime for dbscan_clustering: 0.046659 seconds\n"
     ]
    },
    {
     "name": "stderr",
     "output_type": "stream",
     "text": [
      "c:\\Users\\fionu\\OneDrive\\Dokumente\\Daten Fiona\\AIUB\\Code\\AIUB-Backup\\clustering\\high_dim_analysis.py:138: FutureWarning: \n",
      "\n",
      "Passing `palette` without assigning `hue` is deprecated and will be removed in v0.14.0. Assign the `y` variable to `hue` and set `legend=False` for the same effect.\n",
      "\n",
      "  sns.barplot(x=mi_vals, y=features, palette=\"magma\")\n"
     ]
    },
    {
     "name": "stdout",
     "output_type": "stream",
     "text": [
      "Runtime for dbscan_clustering: 0.042591 seconds\n"
     ]
    },
    {
     "name": "stderr",
     "output_type": "stream",
     "text": [
      "c:\\Users\\fionu\\OneDrive\\Dokumente\\Daten Fiona\\AIUB\\Code\\AIUB-Backup\\clustering\\high_dim_analysis.py:138: FutureWarning: \n",
      "\n",
      "Passing `palette` without assigning `hue` is deprecated and will be removed in v0.14.0. Assign the `y` variable to `hue` and set `legend=False` for the same effect.\n",
      "\n",
      "  sns.barplot(x=mi_vals, y=features, palette=\"magma\")\n"
     ]
    },
    {
     "name": "stdout",
     "output_type": "stream",
     "text": [
      "Runtime for dbscan_clustering: 0.057077 seconds\n"
     ]
    },
    {
     "name": "stderr",
     "output_type": "stream",
     "text": [
      "c:\\Users\\fionu\\OneDrive\\Dokumente\\Daten Fiona\\AIUB\\Code\\AIUB-Backup\\clustering\\high_dim_analysis.py:138: FutureWarning: \n",
      "\n",
      "Passing `palette` without assigning `hue` is deprecated and will be removed in v0.14.0. Assign the `y` variable to `hue` and set `legend=False` for the same effect.\n",
      "\n",
      "  sns.barplot(x=mi_vals, y=features, palette=\"magma\")\n"
     ]
    },
    {
     "name": "stdout",
     "output_type": "stream",
     "text": [
      "Runtime for dbscan_clustering: 0.033946 seconds\n"
     ]
    },
    {
     "name": "stderr",
     "output_type": "stream",
     "text": [
      "c:\\Users\\fionu\\OneDrive\\Dokumente\\Daten Fiona\\AIUB\\Code\\AIUB-Backup\\clustering\\high_dim_analysis.py:138: FutureWarning: \n",
      "\n",
      "Passing `palette` without assigning `hue` is deprecated and will be removed in v0.14.0. Assign the `y` variable to `hue` and set `legend=False` for the same effect.\n",
      "\n",
      "  sns.barplot(x=mi_vals, y=features, palette=\"magma\")\n"
     ]
    },
    {
     "name": "stdout",
     "output_type": "stream",
     "text": [
      "Runtime for dbscan_clustering: 0.033006 seconds\n"
     ]
    },
    {
     "name": "stderr",
     "output_type": "stream",
     "text": [
      "c:\\Users\\fionu\\OneDrive\\Dokumente\\Daten Fiona\\AIUB\\Code\\AIUB-Backup\\clustering\\high_dim_analysis.py:138: FutureWarning: \n",
      "\n",
      "Passing `palette` without assigning `hue` is deprecated and will be removed in v0.14.0. Assign the `y` variable to `hue` and set `legend=False` for the same effect.\n",
      "\n",
      "  sns.barplot(x=mi_vals, y=features, palette=\"magma\")\n"
     ]
    },
    {
     "name": "stdout",
     "output_type": "stream",
     "text": [
      "Runtime for dbscan_clustering: 0.055635 seconds\n"
     ]
    },
    {
     "name": "stderr",
     "output_type": "stream",
     "text": [
      "c:\\Users\\fionu\\OneDrive\\Dokumente\\Daten Fiona\\AIUB\\Code\\AIUB-Backup\\clustering\\high_dim_analysis.py:138: FutureWarning: \n",
      "\n",
      "Passing `palette` without assigning `hue` is deprecated and will be removed in v0.14.0. Assign the `y` variable to `hue` and set `legend=False` for the same effect.\n",
      "\n",
      "  sns.barplot(x=mi_vals, y=features, palette=\"magma\")\n"
     ]
    },
    {
     "name": "stdout",
     "output_type": "stream",
     "text": [
      "Runtime for dbscan_clustering: 0.083490 seconds\n"
     ]
    },
    {
     "name": "stderr",
     "output_type": "stream",
     "text": [
      "c:\\Users\\fionu\\OneDrive\\Dokumente\\Daten Fiona\\AIUB\\Code\\AIUB-Backup\\clustering\\high_dim_analysis.py:138: FutureWarning: \n",
      "\n",
      "Passing `palette` without assigning `hue` is deprecated and will be removed in v0.14.0. Assign the `y` variable to `hue` and set `legend=False` for the same effect.\n",
      "\n",
      "  sns.barplot(x=mi_vals, y=features, palette=\"magma\")\n"
     ]
    },
    {
     "name": "stdout",
     "output_type": "stream",
     "text": [
      "Runtime for dbscan_clustering: 0.047508 seconds\n"
     ]
    },
    {
     "name": "stderr",
     "output_type": "stream",
     "text": [
      "c:\\Users\\fionu\\OneDrive\\Dokumente\\Daten Fiona\\AIUB\\Code\\AIUB-Backup\\clustering\\high_dim_analysis.py:138: FutureWarning: \n",
      "\n",
      "Passing `palette` without assigning `hue` is deprecated and will be removed in v0.14.0. Assign the `y` variable to `hue` and set `legend=False` for the same effect.\n",
      "\n",
      "  sns.barplot(x=mi_vals, y=features, palette=\"magma\")\n"
     ]
    },
    {
     "name": "stdout",
     "output_type": "stream",
     "text": [
      "Runtime for dbscan_clustering: 0.058631 seconds\n"
     ]
    },
    {
     "name": "stderr",
     "output_type": "stream",
     "text": [
      "c:\\Users\\fionu\\OneDrive\\Dokumente\\Daten Fiona\\AIUB\\Code\\AIUB-Backup\\clustering\\high_dim_analysis.py:138: FutureWarning: \n",
      "\n",
      "Passing `palette` without assigning `hue` is deprecated and will be removed in v0.14.0. Assign the `y` variable to `hue` and set `legend=False` for the same effect.\n",
      "\n",
      "  sns.barplot(x=mi_vals, y=features, palette=\"magma\")\n"
     ]
    },
    {
     "name": "stdout",
     "output_type": "stream",
     "text": [
      "Runtime for dbscan_clustering: 0.052451 seconds\n"
     ]
    },
    {
     "name": "stderr",
     "output_type": "stream",
     "text": [
      "c:\\Users\\fionu\\OneDrive\\Dokumente\\Daten Fiona\\AIUB\\Code\\AIUB-Backup\\clustering\\high_dim_analysis.py:138: FutureWarning: \n",
      "\n",
      "Passing `palette` without assigning `hue` is deprecated and will be removed in v0.14.0. Assign the `y` variable to `hue` and set `legend=False` for the same effect.\n",
      "\n",
      "  sns.barplot(x=mi_vals, y=features, palette=\"magma\")\n"
     ]
    },
    {
     "name": "stdout",
     "output_type": "stream",
     "text": [
      "Runtime for dbscan_clustering: 0.041717 seconds\n"
     ]
    },
    {
     "name": "stderr",
     "output_type": "stream",
     "text": [
      "c:\\Users\\fionu\\OneDrive\\Dokumente\\Daten Fiona\\AIUB\\Code\\AIUB-Backup\\clustering\\high_dim_analysis.py:42: FutureWarning: \n",
      "\n",
      "Passing `palette` without assigning `hue` is deprecated and will be removed in v0.14.0. Assign the `y` variable to `hue` and set `legend=False` for the same effect.\n",
      "\n",
      "  sns.barplot(x=f_vals, y=features, palette=\"crest\")\n"
     ]
    },
    {
     "name": "stdout",
     "output_type": "stream",
     "text": [
      "Best DBSCAN parameters based on ANOVA F-value:\n",
      "Year Range                                                    2005-2008\n",
      "eps                                                                0.01\n",
      "min_samples                                                          30\n",
      "Runtime (s)                                                       0.056\n",
      "Clusters                                                              6\n",
      "Points per Cluster       {0: 43, 1: 40, 2: 108, 3: 37, 4: 49, -1: 7344}\n",
      "Noise Points                                                       7344\n",
      "Davies-Bouldin                                                     None\n",
      "Calinski-Harabasz                                                  None\n",
      "Weighted Mean ANOVA F                                         77997.341\n",
      "Name: 7, dtype: object\n"
     ]
    },
    {
     "data": {
      "application/vnd.microsoft.datawrangler.viewer.v0+json": {
       "columns": [
        {
         "name": "index",
         "rawType": "int64",
         "type": "integer"
        },
        {
         "name": "Year Range",
         "rawType": "object",
         "type": "string"
        },
        {
         "name": "eps",
         "rawType": "float64",
         "type": "float"
        },
        {
         "name": "min_samples",
         "rawType": "int64",
         "type": "integer"
        },
        {
         "name": "Runtime (s)",
         "rawType": "object",
         "type": "string"
        },
        {
         "name": "Clusters",
         "rawType": "int64",
         "type": "integer"
        },
        {
         "name": "Points per Cluster",
         "rawType": "object",
         "type": "unknown"
        },
        {
         "name": "Noise Points",
         "rawType": "int32",
         "type": "integer"
        },
        {
         "name": "Davies-Bouldin",
         "rawType": "object",
         "type": "unknown"
        },
        {
         "name": "Calinski-Harabasz",
         "rawType": "object",
         "type": "unknown"
        },
        {
         "name": "Weighted Mean ANOVA F",
         "rawType": "float64",
         "type": "float"
        }
       ],
       "ref": "cc0715a4-f085-46ba-9ce7-7e0c013040ff",
       "rows": [
        [
         "0",
         "2005-2008",
         "0.02",
         "10",
         "0.131",
         "56",
         "{0: 17, 1: 13, 2: 12, 3: 1708, 4: 36, 5: 18, 6: 89, 7: 11, 8: 14, 9: 25, 10: 34, 11: 39, 12: 33, 13: 1639, 14: 44, 15: 37, 16: 22, 17: 16, 18: 30, 19: 16, 20: 33, 21: 14, 22: 11, 23: 16, 24: 12, 25: 11, 26: 13, 27: 11, 28: 13, 29: 36, 30: 10, 31: 10, 32: 12, 33: 13, 34: 12, 35: 10, 36: 10, 37: 16, 38: 10, 39: 11, 40: 11, 41: 10, 42: 20, 43: 10, 44: 13, 45: 11, 46: 10, 47: 10, 48: 10, 49: 20, 50: 11, 51: 11, 52: 7, 53: 10, 54: 13, -1: 3307}",
         "3307",
         null,
         null,
         null
        ],
        [
         "1",
         "2005-2008",
         "0.02",
         "15",
         "0.126",
         "24",
         "{0: 1594, 1: 56, 2: 25, 3: 1563, 4: 35, 5: 16, 6: 25, 7: 16, 8: 27, 9: 16, 10: 30, 11: 15, 12: 33, 13: 35, 14: 26, 15: 41, 16: 11, 17: 20, 18: 15, 19: 13, 20: 15, 21: 13, 22: 24, -1: 3957}",
         "3957",
         null,
         null,
         null
        ],
        [
         "2",
         "2005-2008",
         "0.02",
         "25",
         "0.047",
         "10",
         "{0: 1419, 1: 917, 2: 406, 3: 26, 4: 25, 5: 57, 6: 41, 7: 29, 8: 25, -1: 4676}",
         "4676",
         null,
         null,
         null
        ],
        [
         "3",
         "2005-2008",
         "0.02",
         "30",
         "0.043",
         "13",
         "{0: 977, 1: 116, 2: 105, 3: 816, 4: 74, 5: 301, 6: 35, 7: 33, 8: 31, 9: 23, 10: 40, 11: 13, -1: 5057}",
         "5057",
         null,
         null,
         "2370.299"
        ],
        [
         "4",
         "2005-2008",
         "0.01",
         "10",
         "0.057",
         "88",
         "{0: 10, 1: 251, 2: 117, 3: 48, 4: 45, 5: 13, 6: 22, 7: 14, 8: 12, 9: 21, 10: 10, 11: 15, 12: 12, 13: 30, 14: 18, 15: 44, 16: 39, 17: 12, 18: 48, 19: 14, 20: 17, 21: 23, 22: 29, 23: 16, 24: 10, 25: 31, 26: 32, 27: 15, 28: 10, 29: 51, 30: 21, 31: 11, 32: 10, 33: 17, 34: 20, 35: 17, 36: 11, 37: 13, 38: 53, 39: 12, 40: 10, 41: 11, 42: 11, 43: 10, 44: 11, 45: 21, 46: 18, 47: 24, 48: 10, 49: 15, 50: 19, 51: 17, 52: 11, 53: 31, 54: 17, 55: 11, 56: 10, 57: 10, 58: 48, 59: 14, 60: 12, 61: 32, 62: 10, 63: 24, 64: 11, 65: 10, 66: 30, 67: 14, 68: 11, 69: 10, 70: 10, 71: 12, 72: 16, 73: 16, 74: 11, 75: 11, 76: 12, 77: 10, 78: 12, 79: 11, 80: 10, 81: 10, 82: 10, 83: 10, 84: 10, 85: 11, 86: 6, -1: 5726}",
         "5726",
         null,
         null,
         null
        ],
        [
         "5",
         "2005-2008",
         "0.01",
         "15",
         "0.034",
         "34",
         "{0: 230, 1: 100, 2: 50, 3: 45, 4: 30, 5: 44, 6: 26, 7: 23, 8: 29, 9: 16, 10: 14, 11: 27, 12: 43, 13: 21, 14: 21, 15: 17, 16: 43, 17: 18, 18: 17, 19: 28, 20: 15, 21: 17, 22: 20, 23: 28, 24: 19, 25: 27, 26: 16, 27: 15, 28: 19, 29: 16, 30: 21, 31: 16, 32: 15, -1: 6535}",
         "6535",
         null,
         null,
         null
        ],
        [
         "6",
         "2005-2008",
         "0.01",
         "25",
         "0.033",
         "9",
         "{0: 43, 1: 40, 2: 110, 3: 64, 4: 41, 5: 45, 6: 30, 7: 26, -1: 7222}",
         "7222",
         null,
         null,
         null
        ],
        [
         "7",
         "2005-2008",
         "0.01",
         "30",
         "0.056",
         "6",
         "{0: 43, 1: 40, 2: 108, 3: 37, 4: 49, -1: 7344}",
         "7344",
         null,
         null,
         "77997.341"
        ],
        [
         "8",
         "2005-2008",
         "0.015",
         "10",
         "0.083",
         "53",
         "{0: 12, 1: 12, 2: 1002, 3: 441, 4: 10, 5: 26, 6: 14, 7: 10, 8: 880, 9: 10, 10: 386, 11: 33, 12: 25, 13: 23, 14: 25, 15: 16, 16: 10, 17: 12, 18: 13, 19: 17, 20: 12, 21: 14, 22: 25, 23: 15, 24: 34, 25: 27, 26: 15, 27: 9, 28: 19, 29: 15, 30: 10, 31: 22, 32: 10, 33: 12, 34: 14, 35: 20, 36: 11, 37: 10, 38: 12, 39: 14, 40: 10, 41: 12, 42: 11, 43: 11, 44: 14, 45: 10, 46: 12, 47: 10, 48: 10, 49: 11, 50: 7, 51: 12, -1: 4194}",
         "4194",
         null,
         null,
         null
        ],
        [
         "9",
         "2005-2008",
         "0.015",
         "15",
         "0.048",
         "26",
         "{0: 925, 1: 75, 2: 107, 3: 119, 4: 653, 5: 19, 6: 285, 7: 125, 8: 63, 9: 37, 10: 15, 11: 16, 12: 22, 13: 28, 14: 27, 15: 16, 16: 17, 17: 25, 18: 19, 19: 17, 20: 16, 21: 13, 22: 17, 23: 15, 24: 15, -1: 4935}",
         "4935",
         null,
         null,
         null
        ],
        [
         "10",
         "2005-2008",
         "0.015",
         "25",
         "0.059",
         "18",
         "{0: 601, 1: 67, 2: 378, 3: 96, 4: 188, 5: 31, 6: 47, 7: 75, 8: 53, 9: 33, 10: 23, 11: 46, 12: 26, 13: 21, 14: 29, 15: 25, 16: 27, -1: 5855}",
         "5855",
         null,
         null,
         null
        ],
        [
         "11",
         "2005-2008",
         "0.015",
         "30",
         "0.052",
         "16",
         "{0: 524, 1: 53, 2: 50, 3: 215, 4: 77, 5: 41, 6: 30, 7: 56, 8: 38, 9: 30, 10: 73, 11: 21, 12: 25, 13: 21, 14: 34, -1: 6333}",
         "6333",
         null,
         null,
         "5912.82"
        ]
       ],
       "shape": {
        "columns": 10,
        "rows": 12
       }
      },
      "text/html": [
       "<div>\n",
       "<style scoped>\n",
       "    .dataframe tbody tr th:only-of-type {\n",
       "        vertical-align: middle;\n",
       "    }\n",
       "\n",
       "    .dataframe tbody tr th {\n",
       "        vertical-align: top;\n",
       "    }\n",
       "\n",
       "    .dataframe thead th {\n",
       "        text-align: right;\n",
       "    }\n",
       "</style>\n",
       "<table border=\"1\" class=\"dataframe\">\n",
       "  <thead>\n",
       "    <tr style=\"text-align: right;\">\n",
       "      <th></th>\n",
       "      <th>Year Range</th>\n",
       "      <th>eps</th>\n",
       "      <th>min_samples</th>\n",
       "      <th>Runtime (s)</th>\n",
       "      <th>Clusters</th>\n",
       "      <th>Points per Cluster</th>\n",
       "      <th>Noise Points</th>\n",
       "      <th>Davies-Bouldin</th>\n",
       "      <th>Calinski-Harabasz</th>\n",
       "      <th>Weighted Mean ANOVA F</th>\n",
       "    </tr>\n",
       "  </thead>\n",
       "  <tbody>\n",
       "    <tr>\n",
       "      <th>0</th>\n",
       "      <td>2005-2008</td>\n",
       "      <td>0.020</td>\n",
       "      <td>10</td>\n",
       "      <td>0.131</td>\n",
       "      <td>56</td>\n",
       "      <td>{0: 17, 1: 13, 2: 12, 3: 1708, 4: 36, 5: 18, 6...</td>\n",
       "      <td>3307</td>\n",
       "      <td>None</td>\n",
       "      <td>None</td>\n",
       "      <td>NaN</td>\n",
       "    </tr>\n",
       "    <tr>\n",
       "      <th>1</th>\n",
       "      <td>2005-2008</td>\n",
       "      <td>0.020</td>\n",
       "      <td>15</td>\n",
       "      <td>0.126</td>\n",
       "      <td>24</td>\n",
       "      <td>{0: 1594, 1: 56, 2: 25, 3: 1563, 4: 35, 5: 16,...</td>\n",
       "      <td>3957</td>\n",
       "      <td>None</td>\n",
       "      <td>None</td>\n",
       "      <td>NaN</td>\n",
       "    </tr>\n",
       "    <tr>\n",
       "      <th>2</th>\n",
       "      <td>2005-2008</td>\n",
       "      <td>0.020</td>\n",
       "      <td>25</td>\n",
       "      <td>0.047</td>\n",
       "      <td>10</td>\n",
       "      <td>{0: 1419, 1: 917, 2: 406, 3: 26, 4: 25, 5: 57,...</td>\n",
       "      <td>4676</td>\n",
       "      <td>None</td>\n",
       "      <td>None</td>\n",
       "      <td>NaN</td>\n",
       "    </tr>\n",
       "    <tr>\n",
       "      <th>3</th>\n",
       "      <td>2005-2008</td>\n",
       "      <td>0.020</td>\n",
       "      <td>30</td>\n",
       "      <td>0.043</td>\n",
       "      <td>13</td>\n",
       "      <td>{0: 977, 1: 116, 2: 105, 3: 816, 4: 74, 5: 301...</td>\n",
       "      <td>5057</td>\n",
       "      <td>None</td>\n",
       "      <td>None</td>\n",
       "      <td>2370.299</td>\n",
       "    </tr>\n",
       "    <tr>\n",
       "      <th>4</th>\n",
       "      <td>2005-2008</td>\n",
       "      <td>0.010</td>\n",
       "      <td>10</td>\n",
       "      <td>0.057</td>\n",
       "      <td>88</td>\n",
       "      <td>{0: 10, 1: 251, 2: 117, 3: 48, 4: 45, 5: 13, 6...</td>\n",
       "      <td>5726</td>\n",
       "      <td>None</td>\n",
       "      <td>None</td>\n",
       "      <td>NaN</td>\n",
       "    </tr>\n",
       "    <tr>\n",
       "      <th>5</th>\n",
       "      <td>2005-2008</td>\n",
       "      <td>0.010</td>\n",
       "      <td>15</td>\n",
       "      <td>0.034</td>\n",
       "      <td>34</td>\n",
       "      <td>{0: 230, 1: 100, 2: 50, 3: 45, 4: 30, 5: 44, 6...</td>\n",
       "      <td>6535</td>\n",
       "      <td>None</td>\n",
       "      <td>None</td>\n",
       "      <td>NaN</td>\n",
       "    </tr>\n",
       "    <tr>\n",
       "      <th>6</th>\n",
       "      <td>2005-2008</td>\n",
       "      <td>0.010</td>\n",
       "      <td>25</td>\n",
       "      <td>0.033</td>\n",
       "      <td>9</td>\n",
       "      <td>{0: 43, 1: 40, 2: 110, 3: 64, 4: 41, 5: 45, 6:...</td>\n",
       "      <td>7222</td>\n",
       "      <td>None</td>\n",
       "      <td>None</td>\n",
       "      <td>NaN</td>\n",
       "    </tr>\n",
       "    <tr>\n",
       "      <th>7</th>\n",
       "      <td>2005-2008</td>\n",
       "      <td>0.010</td>\n",
       "      <td>30</td>\n",
       "      <td>0.056</td>\n",
       "      <td>6</td>\n",
       "      <td>{0: 43, 1: 40, 2: 108, 3: 37, 4: 49, -1: 7344}</td>\n",
       "      <td>7344</td>\n",
       "      <td>None</td>\n",
       "      <td>None</td>\n",
       "      <td>77997.341</td>\n",
       "    </tr>\n",
       "    <tr>\n",
       "      <th>8</th>\n",
       "      <td>2005-2008</td>\n",
       "      <td>0.015</td>\n",
       "      <td>10</td>\n",
       "      <td>0.083</td>\n",
       "      <td>53</td>\n",
       "      <td>{0: 12, 1: 12, 2: 1002, 3: 441, 4: 10, 5: 26, ...</td>\n",
       "      <td>4194</td>\n",
       "      <td>None</td>\n",
       "      <td>None</td>\n",
       "      <td>NaN</td>\n",
       "    </tr>\n",
       "    <tr>\n",
       "      <th>9</th>\n",
       "      <td>2005-2008</td>\n",
       "      <td>0.015</td>\n",
       "      <td>15</td>\n",
       "      <td>0.048</td>\n",
       "      <td>26</td>\n",
       "      <td>{0: 925, 1: 75, 2: 107, 3: 119, 4: 653, 5: 19,...</td>\n",
       "      <td>4935</td>\n",
       "      <td>None</td>\n",
       "      <td>None</td>\n",
       "      <td>NaN</td>\n",
       "    </tr>\n",
       "    <tr>\n",
       "      <th>10</th>\n",
       "      <td>2005-2008</td>\n",
       "      <td>0.015</td>\n",
       "      <td>25</td>\n",
       "      <td>0.059</td>\n",
       "      <td>18</td>\n",
       "      <td>{0: 601, 1: 67, 2: 378, 3: 96, 4: 188, 5: 31, ...</td>\n",
       "      <td>5855</td>\n",
       "      <td>None</td>\n",
       "      <td>None</td>\n",
       "      <td>NaN</td>\n",
       "    </tr>\n",
       "    <tr>\n",
       "      <th>11</th>\n",
       "      <td>2005-2008</td>\n",
       "      <td>0.015</td>\n",
       "      <td>30</td>\n",
       "      <td>0.052</td>\n",
       "      <td>16</td>\n",
       "      <td>{0: 524, 1: 53, 2: 50, 3: 215, 4: 77, 5: 41, 6...</td>\n",
       "      <td>6333</td>\n",
       "      <td>None</td>\n",
       "      <td>None</td>\n",
       "      <td>5912.820</td>\n",
       "    </tr>\n",
       "  </tbody>\n",
       "</table>\n",
       "</div>"
      ],
      "text/plain": [
       "   Year Range    eps  min_samples Runtime (s)  Clusters  \\\n",
       "0   2005-2008  0.020           10       0.131        56   \n",
       "1   2005-2008  0.020           15       0.126        24   \n",
       "2   2005-2008  0.020           25       0.047        10   \n",
       "3   2005-2008  0.020           30       0.043        13   \n",
       "4   2005-2008  0.010           10       0.057        88   \n",
       "5   2005-2008  0.010           15       0.034        34   \n",
       "6   2005-2008  0.010           25       0.033         9   \n",
       "7   2005-2008  0.010           30       0.056         6   \n",
       "8   2005-2008  0.015           10       0.083        53   \n",
       "9   2005-2008  0.015           15       0.048        26   \n",
       "10  2005-2008  0.015           25       0.059        18   \n",
       "11  2005-2008  0.015           30       0.052        16   \n",
       "\n",
       "                                   Points per Cluster  Noise Points  \\\n",
       "0   {0: 17, 1: 13, 2: 12, 3: 1708, 4: 36, 5: 18, 6...          3307   \n",
       "1   {0: 1594, 1: 56, 2: 25, 3: 1563, 4: 35, 5: 16,...          3957   \n",
       "2   {0: 1419, 1: 917, 2: 406, 3: 26, 4: 25, 5: 57,...          4676   \n",
       "3   {0: 977, 1: 116, 2: 105, 3: 816, 4: 74, 5: 301...          5057   \n",
       "4   {0: 10, 1: 251, 2: 117, 3: 48, 4: 45, 5: 13, 6...          5726   \n",
       "5   {0: 230, 1: 100, 2: 50, 3: 45, 4: 30, 5: 44, 6...          6535   \n",
       "6   {0: 43, 1: 40, 2: 110, 3: 64, 4: 41, 5: 45, 6:...          7222   \n",
       "7      {0: 43, 1: 40, 2: 108, 3: 37, 4: 49, -1: 7344}          7344   \n",
       "8   {0: 12, 1: 12, 2: 1002, 3: 441, 4: 10, 5: 26, ...          4194   \n",
       "9   {0: 925, 1: 75, 2: 107, 3: 119, 4: 653, 5: 19,...          4935   \n",
       "10  {0: 601, 1: 67, 2: 378, 3: 96, 4: 188, 5: 31, ...          5855   \n",
       "11  {0: 524, 1: 53, 2: 50, 3: 215, 4: 77, 5: 41, 6...          6333   \n",
       "\n",
       "   Davies-Bouldin Calinski-Harabasz  Weighted Mean ANOVA F  \n",
       "0            None              None                    NaN  \n",
       "1            None              None                    NaN  \n",
       "2            None              None                    NaN  \n",
       "3            None              None               2370.299  \n",
       "4            None              None                    NaN  \n",
       "5            None              None                    NaN  \n",
       "6            None              None                    NaN  \n",
       "7            None              None              77997.341  \n",
       "8            None              None                    NaN  \n",
       "9            None              None                    NaN  \n",
       "10           None              None                    NaN  \n",
       "11           None              None               5912.820  "
      ]
     },
     "metadata": {},
     "output_type": "display_data"
    },
    {
     "name": "stdout",
     "output_type": "stream",
     "text": [
      "\n",
      "Running DBSCAN for Year Range: 2006-2009\n",
      "Runtime for dbscan_clustering: 0.069160 seconds\n"
     ]
    },
    {
     "name": "stderr",
     "output_type": "stream",
     "text": [
      "c:\\Users\\fionu\\OneDrive\\Dokumente\\Daten Fiona\\AIUB\\Code\\AIUB-Backup\\clustering\\high_dim_analysis.py:138: FutureWarning: \n",
      "\n",
      "Passing `palette` without assigning `hue` is deprecated and will be removed in v0.14.0. Assign the `y` variable to `hue` and set `legend=False` for the same effect.\n",
      "\n",
      "  sns.barplot(x=mi_vals, y=features, palette=\"magma\")\n"
     ]
    },
    {
     "name": "stdout",
     "output_type": "stream",
     "text": [
      "Runtime for dbscan_clustering: 0.127119 seconds\n"
     ]
    },
    {
     "name": "stderr",
     "output_type": "stream",
     "text": [
      "c:\\Users\\fionu\\OneDrive\\Dokumente\\Daten Fiona\\AIUB\\Code\\AIUB-Backup\\clustering\\high_dim_analysis.py:138: FutureWarning: \n",
      "\n",
      "Passing `palette` without assigning `hue` is deprecated and will be removed in v0.14.0. Assign the `y` variable to `hue` and set `legend=False` for the same effect.\n",
      "\n",
      "  sns.barplot(x=mi_vals, y=features, palette=\"magma\")\n"
     ]
    },
    {
     "name": "stdout",
     "output_type": "stream",
     "text": [
      "Runtime for dbscan_clustering: 0.118636 seconds\n"
     ]
    },
    {
     "name": "stderr",
     "output_type": "stream",
     "text": [
      "c:\\Users\\fionu\\OneDrive\\Dokumente\\Daten Fiona\\AIUB\\Code\\AIUB-Backup\\clustering\\high_dim_analysis.py:138: FutureWarning: \n",
      "\n",
      "Passing `palette` without assigning `hue` is deprecated and will be removed in v0.14.0. Assign the `y` variable to `hue` and set `legend=False` for the same effect.\n",
      "\n",
      "  sns.barplot(x=mi_vals, y=features, palette=\"magma\")\n"
     ]
    },
    {
     "name": "stdout",
     "output_type": "stream",
     "text": [
      "Runtime for dbscan_clustering: 0.139712 seconds\n"
     ]
    },
    {
     "name": "stderr",
     "output_type": "stream",
     "text": [
      "c:\\Users\\fionu\\OneDrive\\Dokumente\\Daten Fiona\\AIUB\\Code\\AIUB-Backup\\clustering\\high_dim_analysis.py:138: FutureWarning: \n",
      "\n",
      "Passing `palette` without assigning `hue` is deprecated and will be removed in v0.14.0. Assign the `y` variable to `hue` and set `legend=False` for the same effect.\n",
      "\n",
      "  sns.barplot(x=mi_vals, y=features, palette=\"magma\")\n"
     ]
    },
    {
     "name": "stdout",
     "output_type": "stream",
     "text": [
      "Runtime for dbscan_clustering: 0.110779 seconds\n"
     ]
    },
    {
     "name": "stderr",
     "output_type": "stream",
     "text": [
      "c:\\Users\\fionu\\OneDrive\\Dokumente\\Daten Fiona\\AIUB\\Code\\AIUB-Backup\\clustering\\high_dim_analysis.py:138: FutureWarning: \n",
      "\n",
      "Passing `palette` without assigning `hue` is deprecated and will be removed in v0.14.0. Assign the `y` variable to `hue` and set `legend=False` for the same effect.\n",
      "\n",
      "  sns.barplot(x=mi_vals, y=features, palette=\"magma\")\n"
     ]
    },
    {
     "name": "stdout",
     "output_type": "stream",
     "text": [
      "Runtime for dbscan_clustering: 0.095826 seconds\n"
     ]
    },
    {
     "name": "stderr",
     "output_type": "stream",
     "text": [
      "c:\\Users\\fionu\\OneDrive\\Dokumente\\Daten Fiona\\AIUB\\Code\\AIUB-Backup\\clustering\\high_dim_analysis.py:138: FutureWarning: \n",
      "\n",
      "Passing `palette` without assigning `hue` is deprecated and will be removed in v0.14.0. Assign the `y` variable to `hue` and set `legend=False` for the same effect.\n",
      "\n",
      "  sns.barplot(x=mi_vals, y=features, palette=\"magma\")\n"
     ]
    },
    {
     "name": "stdout",
     "output_type": "stream",
     "text": [
      "Runtime for dbscan_clustering: 0.079531 seconds\n"
     ]
    },
    {
     "name": "stderr",
     "output_type": "stream",
     "text": [
      "c:\\Users\\fionu\\OneDrive\\Dokumente\\Daten Fiona\\AIUB\\Code\\AIUB-Backup\\clustering\\high_dim_analysis.py:138: FutureWarning: \n",
      "\n",
      "Passing `palette` without assigning `hue` is deprecated and will be removed in v0.14.0. Assign the `y` variable to `hue` and set `legend=False` for the same effect.\n",
      "\n",
      "  sns.barplot(x=mi_vals, y=features, palette=\"magma\")\n"
     ]
    },
    {
     "name": "stdout",
     "output_type": "stream",
     "text": [
      "Runtime for dbscan_clustering: 0.079219 seconds\n"
     ]
    },
    {
     "name": "stderr",
     "output_type": "stream",
     "text": [
      "c:\\Users\\fionu\\OneDrive\\Dokumente\\Daten Fiona\\AIUB\\Code\\AIUB-Backup\\clustering\\high_dim_analysis.py:138: FutureWarning: \n",
      "\n",
      "Passing `palette` without assigning `hue` is deprecated and will be removed in v0.14.0. Assign the `y` variable to `hue` and set `legend=False` for the same effect.\n",
      "\n",
      "  sns.barplot(x=mi_vals, y=features, palette=\"magma\")\n"
     ]
    },
    {
     "name": "stdout",
     "output_type": "stream",
     "text": [
      "Runtime for dbscan_clustering: 0.110630 seconds\n"
     ]
    },
    {
     "name": "stderr",
     "output_type": "stream",
     "text": [
      "c:\\Users\\fionu\\OneDrive\\Dokumente\\Daten Fiona\\AIUB\\Code\\AIUB-Backup\\clustering\\high_dim_analysis.py:138: FutureWarning: \n",
      "\n",
      "Passing `palette` without assigning `hue` is deprecated and will be removed in v0.14.0. Assign the `y` variable to `hue` and set `legend=False` for the same effect.\n",
      "\n",
      "  sns.barplot(x=mi_vals, y=features, palette=\"magma\")\n"
     ]
    },
    {
     "name": "stdout",
     "output_type": "stream",
     "text": [
      "Runtime for dbscan_clustering: 0.095363 seconds\n"
     ]
    },
    {
     "name": "stderr",
     "output_type": "stream",
     "text": [
      "c:\\Users\\fionu\\OneDrive\\Dokumente\\Daten Fiona\\AIUB\\Code\\AIUB-Backup\\clustering\\high_dim_analysis.py:138: FutureWarning: \n",
      "\n",
      "Passing `palette` without assigning `hue` is deprecated and will be removed in v0.14.0. Assign the `y` variable to `hue` and set `legend=False` for the same effect.\n",
      "\n",
      "  sns.barplot(x=mi_vals, y=features, palette=\"magma\")\n"
     ]
    },
    {
     "name": "stdout",
     "output_type": "stream",
     "text": [
      "Runtime for dbscan_clustering: 0.111211 seconds\n"
     ]
    },
    {
     "name": "stderr",
     "output_type": "stream",
     "text": [
      "c:\\Users\\fionu\\OneDrive\\Dokumente\\Daten Fiona\\AIUB\\Code\\AIUB-Backup\\clustering\\high_dim_analysis.py:138: FutureWarning: \n",
      "\n",
      "Passing `palette` without assigning `hue` is deprecated and will be removed in v0.14.0. Assign the `y` variable to `hue` and set `legend=False` for the same effect.\n",
      "\n",
      "  sns.barplot(x=mi_vals, y=features, palette=\"magma\")\n"
     ]
    },
    {
     "name": "stdout",
     "output_type": "stream",
     "text": [
      "Runtime for dbscan_clustering: 0.110692 seconds\n"
     ]
    },
    {
     "name": "stderr",
     "output_type": "stream",
     "text": [
      "c:\\Users\\fionu\\OneDrive\\Dokumente\\Daten Fiona\\AIUB\\Code\\AIUB-Backup\\clustering\\high_dim_analysis.py:138: FutureWarning: \n",
      "\n",
      "Passing `palette` without assigning `hue` is deprecated and will be removed in v0.14.0. Assign the `y` variable to `hue` and set `legend=False` for the same effect.\n",
      "\n",
      "  sns.barplot(x=mi_vals, y=features, palette=\"magma\")\n"
     ]
    },
    {
     "name": "stdout",
     "output_type": "stream",
     "text": [
      "Runtime for dbscan_clustering: 0.109285 seconds\n"
     ]
    },
    {
     "name": "stderr",
     "output_type": "stream",
     "text": [
      "c:\\Users\\fionu\\OneDrive\\Dokumente\\Daten Fiona\\AIUB\\Code\\AIUB-Backup\\clustering\\high_dim_analysis.py:42: FutureWarning: \n",
      "\n",
      "Passing `palette` without assigning `hue` is deprecated and will be removed in v0.14.0. Assign the `y` variable to `hue` and set `legend=False` for the same effect.\n",
      "\n",
      "  sns.barplot(x=f_vals, y=features, palette=\"crest\")\n"
     ]
    },
    {
     "name": "stdout",
     "output_type": "stream",
     "text": [
      "Best DBSCAN parameters based on ANOVA F-value:\n",
      "Year Range                                                       2006-2009\n",
      "eps                                                                  0.015\n",
      "min_samples                                                             30\n",
      "Runtime (s)                                                          0.111\n",
      "Clusters                                                                12\n",
      "Points per Cluster       {0: 396, 1: 89, 2: 173, 3: 45, 4: 50, 5: 66, 6...\n",
      "Noise Points                                                          6483\n",
      "Davies-Bouldin                                                        None\n",
      "Calinski-Harabasz                                                     None\n",
      "Weighted Mean ANOVA F                                             9622.421\n",
      "Name: 11, dtype: object\n"
     ]
    },
    {
     "data": {
      "application/vnd.microsoft.datawrangler.viewer.v0+json": {
       "columns": [
        {
         "name": "index",
         "rawType": "int64",
         "type": "integer"
        },
        {
         "name": "Year Range",
         "rawType": "object",
         "type": "string"
        },
        {
         "name": "eps",
         "rawType": "float64",
         "type": "float"
        },
        {
         "name": "min_samples",
         "rawType": "int64",
         "type": "integer"
        },
        {
         "name": "Runtime (s)",
         "rawType": "object",
         "type": "string"
        },
        {
         "name": "Clusters",
         "rawType": "int64",
         "type": "integer"
        },
        {
         "name": "Points per Cluster",
         "rawType": "object",
         "type": "unknown"
        },
        {
         "name": "Noise Points",
         "rawType": "int32",
         "type": "integer"
        },
        {
         "name": "Davies-Bouldin",
         "rawType": "object",
         "type": "unknown"
        },
        {
         "name": "Calinski-Harabasz",
         "rawType": "object",
         "type": "unknown"
        },
        {
         "name": "Weighted Mean ANOVA F",
         "rawType": "float64",
         "type": "float"
        }
       ],
       "ref": "59cbe47a-d9c2-417e-a1dd-740502894817",
       "rows": [
        [
         "0",
         "2006-2009",
         "0.02",
         "10",
         "0.069",
         "48",
         "{0: 11, 1: 15, 2: 1732, 3: 10, 4: 68, 5: 62, 6: 55, 7: 16, 8: 16, 9: 21, 10: 59, 11: 30, 12: 1639, 13: 10, 14: 50, 15: 12, 16: 22, 17: 10, 18: 13, 19: 48, 20: 13, 21: 12, 22: 16, 23: 10, 24: 11, 25: 13, 26: 15, 27: 15, 28: 11, 29: 20, 30: 17, 31: 16, 32: 11, 33: 10, 34: 10, 35: 11, 36: 11, 37: 19, 38: 15, 39: 11, 40: 8, 41: 20, 42: 13, 43: 12, 44: 10, 45: 14, 46: 14, -1: 3222}",
         "3222",
         null,
         null,
         null
        ],
        [
         "1",
         "2006-2009",
         "0.02",
         "15",
         "0.127",
         "29",
         "{0: 1612, 1: 37, 2: 16, 3: 59, 4: 18, 5: 46, 6: 1055, 7: 469, 8: 28, 9: 13, 10: 34, 11: 39, 12: 15, 13: 25, 14: 17, 15: 28, 16: 10, 17: 16, 18: 15, 19: 11, 20: 15, 21: 11, 22: 13, 23: 17, 24: 15, 25: 7, 26: 16, 27: 15, -1: 3807}",
         "3807",
         null,
         null,
         null
        ],
        [
         "2",
         "2006-2009",
         "0.02",
         "25",
         "0.119",
         "10",
         "{0: 958, 1: 345, 2: 42, 3: 805, 4: 441, 5: 48, 6: 26, 7: 68, 8: 25, -1: 4721}",
         "4721",
         null,
         null,
         null
        ],
        [
         "3",
         "2006-2009",
         "0.02",
         "30",
         "0.140",
         "10",
         "{0: 868, 1: 107, 2: 98, 3: 30, 4: 766, 5: 414, 6: 51, 7: 36, 8: 41, -1: 5068}",
         "5068",
         null,
         null,
         "2670.88"
        ],
        [
         "4",
         "2006-2009",
         "0.01",
         "10",
         "0.111",
         "84",
         "{0: 11, 1: 269, 2: 59, 3: 25, 4: 85, 5: 55, 6: 12, 7: 10, 8: 10, 9: 11, 10: 44, 11: 10, 12: 11, 13: 12, 14: 15, 15: 14, 16: 23, 17: 18, 18: 24, 19: 10, 20: 15, 21: 20, 22: 14, 23: 19, 24: 17, 25: 22, 26: 30, 27: 10, 28: 29, 29: 12, 30: 23, 31: 35, 32: 17, 33: 19, 34: 17, 35: 10, 36: 10, 37: 21, 38: 46, 39: 12, 40: 34, 41: 10, 42: 27, 43: 11, 44: 13, 45: 30, 46: 23, 47: 12, 48: 11, 49: 12, 50: 12, 51: 10, 52: 10, 53: 12, 54: 16, 55: 24, 56: 11, 57: 12, 58: 15, 59: 12, 60: 11, 61: 12, 62: 10, 63: 14, 64: 35, 65: 10, 66: 13, 67: 12, 68: 16, 69: 31, 70: 15, 71: 12, 72: 15, 73: 14, 74: 10, 75: 13, 76: 10, 77: 14, 78: 10, 79: 11, 80: 6, 81: 9, 82: 10, -1: 5723}",
         "5723",
         null,
         null,
         null
        ],
        [
         "5",
         "2006-2009",
         "0.01",
         "15",
         "0.096",
         "28",
         "{0: 80, 1: 91, 2: 44, 3: 152, 4: 18, 5: 20, 6: 17, 7: 22, 8: 26, 9: 26, 10: 23, 11: 33, 12: 57, 13: 17, 14: 18, 15: 28, 16: 19, 17: 16, 18: 23, 19: 27, 20: 31, 21: 31, 22: 15, 23: 24, 24: 16, 25: 13, 26: 15, -1: 6577}",
         "6577",
         null,
         null,
         null
        ],
        [
         "6",
         "2006-2009",
         "0.01",
         "25",
         "0.080",
         "5",
         "{0: 45, 1: 49, 2: 76, 3: 37, -1: 7272}",
         "7272",
         null,
         null,
         null
        ],
        [
         "7",
         "2006-2009",
         "0.01",
         "30",
         "0.079",
         "4",
         "{0: 76, 1: 49, 2: 31, -1: 7323}",
         "7323",
         null,
         null,
         "2132.516"
        ],
        [
         "8",
         "2006-2009",
         "0.015",
         "10",
         "0.111",
         "60",
         "{0: 11, 1: 13, 2: 1290, 3: 12, 4: 10, 5: 83, 6: 10, 7: 24, 8: 17, 9: 16, 10: 12, 11: 48, 12: 765, 13: 405, 14: 25, 15: 12, 16: 10, 17: 23, 18: 10, 19: 17, 20: 11, 21: 18, 22: 12, 23: 10, 24: 12, 25: 9, 26: 18, 27: 20, 28: 11, 29: 10, 30: 15, 31: 62, 32: 15, 33: 10, 34: 23, 35: 15, 36: 10, 37: 6, 38: 12, 39: 16, 40: 16, 41: 10, 42: 10, 43: 13, 44: 16, 45: 8, 46: 11, 47: 29, 48: 12, 49: 10, 50: 10, 51: 5, 52: 10, 53: 11, 54: 10, 55: 11, 56: 13, 57: 7, 58: 3, -1: 4136}",
         "4136",
         null,
         null,
         null
        ],
        [
         "9",
         "2006-2009",
         "0.015",
         "15",
         "0.095",
         "35",
         "{0: 852, 1: 117, 2: 72, 3: 52, 4: 62, 5: 31, 6: 19, 7: 539, 8: 79, 9: 304, 10: 24, 11: 72, 12: 17, 13: 24, 14: 24, 15: 23, 16: 44, 17: 15, 18: 18, 19: 17, 20: 16, 21: 18, 22: 15, 23: 20, 24: 17, 25: 21, 26: 10, 27: 15, 28: 13, 29: 15, 30: 15, 31: 1, 32: 15, 33: 15, -1: 4868}",
         "4868",
         null,
         null,
         null
        ],
        [
         "10",
         "2006-2009",
         "0.015",
         "25",
         "0.111",
         "17",
         "{0: 605, 1: 61, 2: 28, 3: 233, 4: 56, 5: 52, 6: 56, 7: 170, 8: 32, 9: 53, 10: 26, 11: 27, 12: 25, 13: 22, 14: 25, 15: 22, -1: 5986}",
         "5986",
         null,
         null,
         null
        ],
        [
         "11",
         "2006-2009",
         "0.015",
         "30",
         "0.111",
         "12",
         "{0: 396, 1: 89, 2: 173, 3: 45, 4: 50, 5: 66, 6: 50, 7: 36, 8: 46, 9: 23, 10: 22, -1: 6483}",
         "6483",
         null,
         null,
         "9622.421"
        ]
       ],
       "shape": {
        "columns": 10,
        "rows": 12
       }
      },
      "text/html": [
       "<div>\n",
       "<style scoped>\n",
       "    .dataframe tbody tr th:only-of-type {\n",
       "        vertical-align: middle;\n",
       "    }\n",
       "\n",
       "    .dataframe tbody tr th {\n",
       "        vertical-align: top;\n",
       "    }\n",
       "\n",
       "    .dataframe thead th {\n",
       "        text-align: right;\n",
       "    }\n",
       "</style>\n",
       "<table border=\"1\" class=\"dataframe\">\n",
       "  <thead>\n",
       "    <tr style=\"text-align: right;\">\n",
       "      <th></th>\n",
       "      <th>Year Range</th>\n",
       "      <th>eps</th>\n",
       "      <th>min_samples</th>\n",
       "      <th>Runtime (s)</th>\n",
       "      <th>Clusters</th>\n",
       "      <th>Points per Cluster</th>\n",
       "      <th>Noise Points</th>\n",
       "      <th>Davies-Bouldin</th>\n",
       "      <th>Calinski-Harabasz</th>\n",
       "      <th>Weighted Mean ANOVA F</th>\n",
       "    </tr>\n",
       "  </thead>\n",
       "  <tbody>\n",
       "    <tr>\n",
       "      <th>0</th>\n",
       "      <td>2006-2009</td>\n",
       "      <td>0.020</td>\n",
       "      <td>10</td>\n",
       "      <td>0.069</td>\n",
       "      <td>48</td>\n",
       "      <td>{0: 11, 1: 15, 2: 1732, 3: 10, 4: 68, 5: 62, 6...</td>\n",
       "      <td>3222</td>\n",
       "      <td>None</td>\n",
       "      <td>None</td>\n",
       "      <td>NaN</td>\n",
       "    </tr>\n",
       "    <tr>\n",
       "      <th>1</th>\n",
       "      <td>2006-2009</td>\n",
       "      <td>0.020</td>\n",
       "      <td>15</td>\n",
       "      <td>0.127</td>\n",
       "      <td>29</td>\n",
       "      <td>{0: 1612, 1: 37, 2: 16, 3: 59, 4: 18, 5: 46, 6...</td>\n",
       "      <td>3807</td>\n",
       "      <td>None</td>\n",
       "      <td>None</td>\n",
       "      <td>NaN</td>\n",
       "    </tr>\n",
       "    <tr>\n",
       "      <th>2</th>\n",
       "      <td>2006-2009</td>\n",
       "      <td>0.020</td>\n",
       "      <td>25</td>\n",
       "      <td>0.119</td>\n",
       "      <td>10</td>\n",
       "      <td>{0: 958, 1: 345, 2: 42, 3: 805, 4: 441, 5: 48,...</td>\n",
       "      <td>4721</td>\n",
       "      <td>None</td>\n",
       "      <td>None</td>\n",
       "      <td>NaN</td>\n",
       "    </tr>\n",
       "    <tr>\n",
       "      <th>3</th>\n",
       "      <td>2006-2009</td>\n",
       "      <td>0.020</td>\n",
       "      <td>30</td>\n",
       "      <td>0.140</td>\n",
       "      <td>10</td>\n",
       "      <td>{0: 868, 1: 107, 2: 98, 3: 30, 4: 766, 5: 414,...</td>\n",
       "      <td>5068</td>\n",
       "      <td>None</td>\n",
       "      <td>None</td>\n",
       "      <td>2670.880</td>\n",
       "    </tr>\n",
       "    <tr>\n",
       "      <th>4</th>\n",
       "      <td>2006-2009</td>\n",
       "      <td>0.010</td>\n",
       "      <td>10</td>\n",
       "      <td>0.111</td>\n",
       "      <td>84</td>\n",
       "      <td>{0: 11, 1: 269, 2: 59, 3: 25, 4: 85, 5: 55, 6:...</td>\n",
       "      <td>5723</td>\n",
       "      <td>None</td>\n",
       "      <td>None</td>\n",
       "      <td>NaN</td>\n",
       "    </tr>\n",
       "    <tr>\n",
       "      <th>5</th>\n",
       "      <td>2006-2009</td>\n",
       "      <td>0.010</td>\n",
       "      <td>15</td>\n",
       "      <td>0.096</td>\n",
       "      <td>28</td>\n",
       "      <td>{0: 80, 1: 91, 2: 44, 3: 152, 4: 18, 5: 20, 6:...</td>\n",
       "      <td>6577</td>\n",
       "      <td>None</td>\n",
       "      <td>None</td>\n",
       "      <td>NaN</td>\n",
       "    </tr>\n",
       "    <tr>\n",
       "      <th>6</th>\n",
       "      <td>2006-2009</td>\n",
       "      <td>0.010</td>\n",
       "      <td>25</td>\n",
       "      <td>0.080</td>\n",
       "      <td>5</td>\n",
       "      <td>{0: 45, 1: 49, 2: 76, 3: 37, -1: 7272}</td>\n",
       "      <td>7272</td>\n",
       "      <td>None</td>\n",
       "      <td>None</td>\n",
       "      <td>NaN</td>\n",
       "    </tr>\n",
       "    <tr>\n",
       "      <th>7</th>\n",
       "      <td>2006-2009</td>\n",
       "      <td>0.010</td>\n",
       "      <td>30</td>\n",
       "      <td>0.079</td>\n",
       "      <td>4</td>\n",
       "      <td>{0: 76, 1: 49, 2: 31, -1: 7323}</td>\n",
       "      <td>7323</td>\n",
       "      <td>None</td>\n",
       "      <td>None</td>\n",
       "      <td>2132.516</td>\n",
       "    </tr>\n",
       "    <tr>\n",
       "      <th>8</th>\n",
       "      <td>2006-2009</td>\n",
       "      <td>0.015</td>\n",
       "      <td>10</td>\n",
       "      <td>0.111</td>\n",
       "      <td>60</td>\n",
       "      <td>{0: 11, 1: 13, 2: 1290, 3: 12, 4: 10, 5: 83, 6...</td>\n",
       "      <td>4136</td>\n",
       "      <td>None</td>\n",
       "      <td>None</td>\n",
       "      <td>NaN</td>\n",
       "    </tr>\n",
       "    <tr>\n",
       "      <th>9</th>\n",
       "      <td>2006-2009</td>\n",
       "      <td>0.015</td>\n",
       "      <td>15</td>\n",
       "      <td>0.095</td>\n",
       "      <td>35</td>\n",
       "      <td>{0: 852, 1: 117, 2: 72, 3: 52, 4: 62, 5: 31, 6...</td>\n",
       "      <td>4868</td>\n",
       "      <td>None</td>\n",
       "      <td>None</td>\n",
       "      <td>NaN</td>\n",
       "    </tr>\n",
       "    <tr>\n",
       "      <th>10</th>\n",
       "      <td>2006-2009</td>\n",
       "      <td>0.015</td>\n",
       "      <td>25</td>\n",
       "      <td>0.111</td>\n",
       "      <td>17</td>\n",
       "      <td>{0: 605, 1: 61, 2: 28, 3: 233, 4: 56, 5: 52, 6...</td>\n",
       "      <td>5986</td>\n",
       "      <td>None</td>\n",
       "      <td>None</td>\n",
       "      <td>NaN</td>\n",
       "    </tr>\n",
       "    <tr>\n",
       "      <th>11</th>\n",
       "      <td>2006-2009</td>\n",
       "      <td>0.015</td>\n",
       "      <td>30</td>\n",
       "      <td>0.111</td>\n",
       "      <td>12</td>\n",
       "      <td>{0: 396, 1: 89, 2: 173, 3: 45, 4: 50, 5: 66, 6...</td>\n",
       "      <td>6483</td>\n",
       "      <td>None</td>\n",
       "      <td>None</td>\n",
       "      <td>9622.421</td>\n",
       "    </tr>\n",
       "  </tbody>\n",
       "</table>\n",
       "</div>"
      ],
      "text/plain": [
       "   Year Range    eps  min_samples Runtime (s)  Clusters  \\\n",
       "0   2006-2009  0.020           10       0.069        48   \n",
       "1   2006-2009  0.020           15       0.127        29   \n",
       "2   2006-2009  0.020           25       0.119        10   \n",
       "3   2006-2009  0.020           30       0.140        10   \n",
       "4   2006-2009  0.010           10       0.111        84   \n",
       "5   2006-2009  0.010           15       0.096        28   \n",
       "6   2006-2009  0.010           25       0.080         5   \n",
       "7   2006-2009  0.010           30       0.079         4   \n",
       "8   2006-2009  0.015           10       0.111        60   \n",
       "9   2006-2009  0.015           15       0.095        35   \n",
       "10  2006-2009  0.015           25       0.111        17   \n",
       "11  2006-2009  0.015           30       0.111        12   \n",
       "\n",
       "                                   Points per Cluster  Noise Points  \\\n",
       "0   {0: 11, 1: 15, 2: 1732, 3: 10, 4: 68, 5: 62, 6...          3222   \n",
       "1   {0: 1612, 1: 37, 2: 16, 3: 59, 4: 18, 5: 46, 6...          3807   \n",
       "2   {0: 958, 1: 345, 2: 42, 3: 805, 4: 441, 5: 48,...          4721   \n",
       "3   {0: 868, 1: 107, 2: 98, 3: 30, 4: 766, 5: 414,...          5068   \n",
       "4   {0: 11, 1: 269, 2: 59, 3: 25, 4: 85, 5: 55, 6:...          5723   \n",
       "5   {0: 80, 1: 91, 2: 44, 3: 152, 4: 18, 5: 20, 6:...          6577   \n",
       "6              {0: 45, 1: 49, 2: 76, 3: 37, -1: 7272}          7272   \n",
       "7                     {0: 76, 1: 49, 2: 31, -1: 7323}          7323   \n",
       "8   {0: 11, 1: 13, 2: 1290, 3: 12, 4: 10, 5: 83, 6...          4136   \n",
       "9   {0: 852, 1: 117, 2: 72, 3: 52, 4: 62, 5: 31, 6...          4868   \n",
       "10  {0: 605, 1: 61, 2: 28, 3: 233, 4: 56, 5: 52, 6...          5986   \n",
       "11  {0: 396, 1: 89, 2: 173, 3: 45, 4: 50, 5: 66, 6...          6483   \n",
       "\n",
       "   Davies-Bouldin Calinski-Harabasz  Weighted Mean ANOVA F  \n",
       "0            None              None                    NaN  \n",
       "1            None              None                    NaN  \n",
       "2            None              None                    NaN  \n",
       "3            None              None               2670.880  \n",
       "4            None              None                    NaN  \n",
       "5            None              None                    NaN  \n",
       "6            None              None                    NaN  \n",
       "7            None              None               2132.516  \n",
       "8            None              None                    NaN  \n",
       "9            None              None                    NaN  \n",
       "10           None              None                    NaN  \n",
       "11           None              None               9622.421  "
      ]
     },
     "metadata": {},
     "output_type": "display_data"
    },
    {
     "name": "stdout",
     "output_type": "stream",
     "text": [
      "\n",
      "Running DBSCAN for Year Range: 2007-2010\n",
      "Runtime for dbscan_clustering: 0.111520 seconds\n"
     ]
    },
    {
     "name": "stderr",
     "output_type": "stream",
     "text": [
      "c:\\Users\\fionu\\OneDrive\\Dokumente\\Daten Fiona\\AIUB\\Code\\AIUB-Backup\\clustering\\high_dim_analysis.py:138: FutureWarning: \n",
      "\n",
      "Passing `palette` without assigning `hue` is deprecated and will be removed in v0.14.0. Assign the `y` variable to `hue` and set `legend=False` for the same effect.\n",
      "\n",
      "  sns.barplot(x=mi_vals, y=features, palette=\"magma\")\n"
     ]
    },
    {
     "name": "stdout",
     "output_type": "stream",
     "text": [
      "Runtime for dbscan_clustering: 0.080345 seconds\n"
     ]
    },
    {
     "name": "stderr",
     "output_type": "stream",
     "text": [
      "c:\\Users\\fionu\\OneDrive\\Dokumente\\Daten Fiona\\AIUB\\Code\\AIUB-Backup\\clustering\\high_dim_analysis.py:138: FutureWarning: \n",
      "\n",
      "Passing `palette` without assigning `hue` is deprecated and will be removed in v0.14.0. Assign the `y` variable to `hue` and set `legend=False` for the same effect.\n",
      "\n",
      "  sns.barplot(x=mi_vals, y=features, palette=\"magma\")\n"
     ]
    },
    {
     "name": "stdout",
     "output_type": "stream",
     "text": [
      "Runtime for dbscan_clustering: 0.079498 seconds\n"
     ]
    },
    {
     "name": "stderr",
     "output_type": "stream",
     "text": [
      "c:\\Users\\fionu\\OneDrive\\Dokumente\\Daten Fiona\\AIUB\\Code\\AIUB-Backup\\clustering\\high_dim_analysis.py:138: FutureWarning: \n",
      "\n",
      "Passing `palette` without assigning `hue` is deprecated and will be removed in v0.14.0. Assign the `y` variable to `hue` and set `legend=False` for the same effect.\n",
      "\n",
      "  sns.barplot(x=mi_vals, y=features, palette=\"magma\")\n"
     ]
    },
    {
     "name": "stdout",
     "output_type": "stream",
     "text": [
      "Runtime for dbscan_clustering: 0.078996 seconds\n"
     ]
    },
    {
     "name": "stderr",
     "output_type": "stream",
     "text": [
      "c:\\Users\\fionu\\OneDrive\\Dokumente\\Daten Fiona\\AIUB\\Code\\AIUB-Backup\\clustering\\high_dim_analysis.py:138: FutureWarning: \n",
      "\n",
      "Passing `palette` without assigning `hue` is deprecated and will be removed in v0.14.0. Assign the `y` variable to `hue` and set `legend=False` for the same effect.\n",
      "\n",
      "  sns.barplot(x=mi_vals, y=features, palette=\"magma\")\n"
     ]
    },
    {
     "name": "stdout",
     "output_type": "stream",
     "text": [
      "Runtime for dbscan_clustering: 0.063502 seconds\n"
     ]
    },
    {
     "name": "stderr",
     "output_type": "stream",
     "text": [
      "c:\\Users\\fionu\\OneDrive\\Dokumente\\Daten Fiona\\AIUB\\Code\\AIUB-Backup\\clustering\\high_dim_analysis.py:138: FutureWarning: \n",
      "\n",
      "Passing `palette` without assigning `hue` is deprecated and will be removed in v0.14.0. Assign the `y` variable to `hue` and set `legend=False` for the same effect.\n",
      "\n",
      "  sns.barplot(x=mi_vals, y=features, palette=\"magma\")\n"
     ]
    },
    {
     "name": "stdout",
     "output_type": "stream",
     "text": [
      "Runtime for dbscan_clustering: 0.071259 seconds\n"
     ]
    },
    {
     "name": "stderr",
     "output_type": "stream",
     "text": [
      "c:\\Users\\fionu\\OneDrive\\Dokumente\\Daten Fiona\\AIUB\\Code\\AIUB-Backup\\clustering\\high_dim_analysis.py:138: FutureWarning: \n",
      "\n",
      "Passing `palette` without assigning `hue` is deprecated and will be removed in v0.14.0. Assign the `y` variable to `hue` and set `legend=False` for the same effect.\n",
      "\n",
      "  sns.barplot(x=mi_vals, y=features, palette=\"magma\")\n"
     ]
    },
    {
     "name": "stdout",
     "output_type": "stream",
     "text": [
      "Runtime for dbscan_clustering: 0.063631 seconds\n"
     ]
    },
    {
     "name": "stderr",
     "output_type": "stream",
     "text": [
      "c:\\Users\\fionu\\OneDrive\\Dokumente\\Daten Fiona\\AIUB\\Code\\AIUB-Backup\\clustering\\high_dim_analysis.py:138: FutureWarning: \n",
      "\n",
      "Passing `palette` without assigning `hue` is deprecated and will be removed in v0.14.0. Assign the `y` variable to `hue` and set `legend=False` for the same effect.\n",
      "\n",
      "  sns.barplot(x=mi_vals, y=features, palette=\"magma\")\n"
     ]
    },
    {
     "name": "stdout",
     "output_type": "stream",
     "text": [
      "Runtime for dbscan_clustering: 0.047632 seconds\n"
     ]
    },
    {
     "name": "stderr",
     "output_type": "stream",
     "text": [
      "c:\\Users\\fionu\\OneDrive\\Dokumente\\Daten Fiona\\AIUB\\Code\\AIUB-Backup\\clustering\\high_dim_analysis.py:138: FutureWarning: \n",
      "\n",
      "Passing `palette` without assigning `hue` is deprecated and will be removed in v0.14.0. Assign the `y` variable to `hue` and set `legend=False` for the same effect.\n",
      "\n",
      "  sns.barplot(x=mi_vals, y=features, palette=\"magma\")\n"
     ]
    },
    {
     "name": "stdout",
     "output_type": "stream",
     "text": [
      "Runtime for dbscan_clustering: 0.079687 seconds\n"
     ]
    },
    {
     "name": "stderr",
     "output_type": "stream",
     "text": [
      "c:\\Users\\fionu\\OneDrive\\Dokumente\\Daten Fiona\\AIUB\\Code\\AIUB-Backup\\clustering\\high_dim_analysis.py:138: FutureWarning: \n",
      "\n",
      "Passing `palette` without assigning `hue` is deprecated and will be removed in v0.14.0. Assign the `y` variable to `hue` and set `legend=False` for the same effect.\n",
      "\n",
      "  sns.barplot(x=mi_vals, y=features, palette=\"magma\")\n"
     ]
    },
    {
     "name": "stdout",
     "output_type": "stream",
     "text": [
      "Runtime for dbscan_clustering: 0.063722 seconds\n"
     ]
    },
    {
     "name": "stderr",
     "output_type": "stream",
     "text": [
      "c:\\Users\\fionu\\OneDrive\\Dokumente\\Daten Fiona\\AIUB\\Code\\AIUB-Backup\\clustering\\high_dim_analysis.py:138: FutureWarning: \n",
      "\n",
      "Passing `palette` without assigning `hue` is deprecated and will be removed in v0.14.0. Assign the `y` variable to `hue` and set `legend=False` for the same effect.\n",
      "\n",
      "  sns.barplot(x=mi_vals, y=features, palette=\"magma\")\n"
     ]
    },
    {
     "name": "stdout",
     "output_type": "stream",
     "text": [
      "Runtime for dbscan_clustering: 0.063733 seconds\n"
     ]
    },
    {
     "name": "stderr",
     "output_type": "stream",
     "text": [
      "c:\\Users\\fionu\\OneDrive\\Dokumente\\Daten Fiona\\AIUB\\Code\\AIUB-Backup\\clustering\\high_dim_analysis.py:138: FutureWarning: \n",
      "\n",
      "Passing `palette` without assigning `hue` is deprecated and will be removed in v0.14.0. Assign the `y` variable to `hue` and set `legend=False` for the same effect.\n",
      "\n",
      "  sns.barplot(x=mi_vals, y=features, palette=\"magma\")\n"
     ]
    },
    {
     "name": "stdout",
     "output_type": "stream",
     "text": [
      "Runtime for dbscan_clustering: 0.063192 seconds\n"
     ]
    },
    {
     "name": "stderr",
     "output_type": "stream",
     "text": [
      "c:\\Users\\fionu\\OneDrive\\Dokumente\\Daten Fiona\\AIUB\\Code\\AIUB-Backup\\clustering\\high_dim_analysis.py:138: FutureWarning: \n",
      "\n",
      "Passing `palette` without assigning `hue` is deprecated and will be removed in v0.14.0. Assign the `y` variable to `hue` and set `legend=False` for the same effect.\n",
      "\n",
      "  sns.barplot(x=mi_vals, y=features, palette=\"magma\")\n"
     ]
    },
    {
     "name": "stdout",
     "output_type": "stream",
     "text": [
      "Runtime for dbscan_clustering: 0.103364 seconds\n"
     ]
    },
    {
     "name": "stderr",
     "output_type": "stream",
     "text": [
      "c:\\Users\\fionu\\OneDrive\\Dokumente\\Daten Fiona\\AIUB\\Code\\AIUB-Backup\\clustering\\high_dim_analysis.py:42: FutureWarning: \n",
      "\n",
      "Passing `palette` without assigning `hue` is deprecated and will be removed in v0.14.0. Assign the `y` variable to `hue` and set `legend=False` for the same effect.\n",
      "\n",
      "  sns.barplot(x=f_vals, y=features, palette=\"crest\")\n"
     ]
    },
    {
     "name": "stdout",
     "output_type": "stream",
     "text": [
      "Best DBSCAN parameters based on ANOVA F-value:\n",
      "Year Range                                                       2007-2010\n",
      "eps                                                                  0.015\n",
      "min_samples                                                             30\n",
      "Runtime (s)                                                          0.063\n",
      "Clusters                                                                11\n",
      "Points per Cluster       {0: 266, 1: 54, 2: 42, 3: 43, 4: 51, 5: 52, 6:...\n",
      "Noise Points                                                          5047\n",
      "Davies-Bouldin                                                        None\n",
      "Calinski-Harabasz                                                     None\n",
      "Weighted Mean ANOVA F                                               6855.9\n",
      "Name: 11, dtype: object\n"
     ]
    },
    {
     "data": {
      "application/vnd.microsoft.datawrangler.viewer.v0+json": {
       "columns": [
        {
         "name": "index",
         "rawType": "int64",
         "type": "integer"
        },
        {
         "name": "Year Range",
         "rawType": "object",
         "type": "string"
        },
        {
         "name": "eps",
         "rawType": "float64",
         "type": "float"
        },
        {
         "name": "min_samples",
         "rawType": "int64",
         "type": "integer"
        },
        {
         "name": "Runtime (s)",
         "rawType": "object",
         "type": "string"
        },
        {
         "name": "Clusters",
         "rawType": "int64",
         "type": "integer"
        },
        {
         "name": "Points per Cluster",
         "rawType": "object",
         "type": "unknown"
        },
        {
         "name": "Noise Points",
         "rawType": "int32",
         "type": "integer"
        },
        {
         "name": "Davies-Bouldin",
         "rawType": "object",
         "type": "unknown"
        },
        {
         "name": "Calinski-Harabasz",
         "rawType": "object",
         "type": "unknown"
        },
        {
         "name": "Weighted Mean ANOVA F",
         "rawType": "float64",
         "type": "float"
        }
       ],
       "ref": "7c0e7628-072a-4a43-8ca3-d4eddc11c921",
       "rows": [
        [
         "0",
         "2007-2010",
         "0.02",
         "10",
         "0.112",
         "36",
         "{0: 12, 1: 10, 2: 1313, 3: 14, 4: 10, 5: 13, 6: 37, 7: 11, 8: 12, 9: 27, 10: 1247, 11: 15, 12: 32, 13: 11, 14: 29, 15: 18, 16: 19, 17: 8, 18: 20, 19: 14, 20: 30, 21: 46, 22: 19, 23: 13, 24: 12, 25: 10, 26: 14, 27: 16, 28: 9, 29: 22, 30: 13, 31: 14, 32: 16, 33: 10, 34: 11, -1: 2559}",
         "2559",
         null,
         null,
         null
        ],
        [
         "1",
         "2007-2010",
         "0.02",
         "15",
         "0.080",
         "24",
         "{0: 1212, 1: 36, 2: 27, 3: 596, 4: 370, 5: 49, 6: 94, 7: 28, 8: 10, 9: 15, 10: 19, 11: 49, 12: 12, 13: 18, 14: 22, 15: 12, 16: 3, 17: 15, 18: 16, 19: 12, 20: 15, 21: 15, 22: 9, -1: 3032}",
         "3032",
         null,
         null,
         null
        ],
        [
         "2",
         "2007-2010",
         "0.02",
         "25",
         "0.079",
         "16",
         "{0: 669, 1: 83, 2: 51, 3: 74, 4: 41, 5: 26, 6: 124, 7: 423, 8: 283, 9: 59, 10: 31, 11: 28, 12: 32, 13: 25, 14: 26, -1: 3711}",
         "3711",
         null,
         null,
         null
        ],
        [
         "3",
         "2007-2010",
         "0.02",
         "30",
         "0.079",
         "10",
         "{0: 619, 1: 62, 2: 72, 3: 373, 4: 273, 5: 45, 6: 50, 7: 25, 8: 30, -1: 4137}",
         "4137",
         null,
         null,
         "2763.803"
        ],
        [
         "4",
         "2007-2010",
         "0.01",
         "10",
         "0.064",
         "50",
         "{0: 25, 1: 26, 2: 10, 3: 92, 4: 18, 5: 52, 6: 98, 7: 19, 8: 19, 9: 22, 10: 31, 11: 12, 12: 11, 13: 10, 14: 11, 15: 10, 16: 10, 17: 13, 18: 11, 19: 12, 20: 20, 21: 10, 22: 101, 23: 10, 24: 20, 25: 33, 26: 12, 27: 12, 28: 14, 29: 11, 30: 17, 31: 17, 32: 35, 33: 15, 34: 12, 35: 19, 36: 21, 37: 14, 38: 10, 39: 10, 40: 8, 41: 14, 42: 11, 43: 10, 44: 12, 45: 9, 46: 9, 47: 10, 48: 12, -1: 4666}",
         "4666",
         null,
         null,
         null
        ],
        [
         "5",
         "2007-2010",
         "0.01",
         "15",
         "0.071",
         "22",
         "{0: 22, 1: 21, 2: 74, 3: 50, 4: 59, 5: 15, 6: 23, 7: 27, 8: 17, 9: 19, 10: 17, 11: 19, 12: 21, 13: 30, 14: 17, 15: 15, 16: 26, 17: 20, 18: 12, 19: 20, 20: 9, -1: 5153}",
         "5153",
         null,
         null,
         null
        ],
        [
         "6",
         "2007-2010",
         "0.01",
         "25",
         "0.064",
         "4",
         "{0: 34, 1: 39, 2: 51, -1: 5562}",
         "5562",
         null,
         null,
         null
        ],
        [
         "7",
         "2007-2010",
         "0.01",
         "30",
         "0.048",
         "3",
         "{0: 34, 1: 46, -1: 5606}",
         "5606",
         null,
         null,
         "2647.095"
        ],
        [
         "8",
         "2007-2010",
         "0.015",
         "10",
         "0.080",
         "43",
         "{0: 789, 1: 137, 2: 10, 3: 55, 4: 19, 5: 58, 6: 18, 7: 15, 8: 11, 9: 17, 10: 131, 11: 156, 12: 229, 13: 268, 14: 24, 15: 13, 16: 11, 17: 62, 18: 14, 19: 38, 20: 16, 21: 38, 22: 13, 23: 19, 24: 15, 25: 10, 26: 12, 27: 16, 28: 18, 29: 16, 30: 10, 31: 12, 32: 14, 33: 10, 34: 10, 35: 2, 36: 14, 37: 11, 38: 11, 39: 13, 40: 7, 41: 8, -1: 3316}",
         "3316",
         null,
         null,
         null
        ],
        [
         "9",
         "2007-2010",
         "0.015",
         "15",
         "0.064",
         "29",
         "{0: 571, 1: 32, 2: 23, 3: 32, 4: 89, 5: 19, 6: 49, 7: 127, 8: 219, 9: 251, 10: 23, 11: 24, 12: 48, 13: 33, 14: 16, 15: 16, 16: 21, 17: 18, 18: 18, 19: 23, 20: 17, 21: 29, 22: 15, 23: 22, 24: 13, 25: 17, 26: 19, 27: 15, -1: 3887}",
         "3887",
         null,
         null,
         null
        ],
        [
         "10",
         "2007-2010",
         "0.015",
         "25",
         "0.064",
         "14",
         "{0: 30, 1: 375, 2: 59, 3: 44, 4: 71, 5: 39, 6: 35, 7: 51, 8: 52, 9: 29, 10: 50, 11: 53, 12: 21, -1: 4777}",
         "4777",
         null,
         null,
         null
        ],
        [
         "11",
         "2007-2010",
         "0.015",
         "30",
         "0.063",
         "11",
         "{0: 266, 1: 54, 2: 42, 3: 43, 4: 51, 5: 52, 6: 32, 7: 39, 8: 30, 9: 30, -1: 5047}",
         "5047",
         null,
         null,
         "6855.9"
        ]
       ],
       "shape": {
        "columns": 10,
        "rows": 12
       }
      },
      "text/html": [
       "<div>\n",
       "<style scoped>\n",
       "    .dataframe tbody tr th:only-of-type {\n",
       "        vertical-align: middle;\n",
       "    }\n",
       "\n",
       "    .dataframe tbody tr th {\n",
       "        vertical-align: top;\n",
       "    }\n",
       "\n",
       "    .dataframe thead th {\n",
       "        text-align: right;\n",
       "    }\n",
       "</style>\n",
       "<table border=\"1\" class=\"dataframe\">\n",
       "  <thead>\n",
       "    <tr style=\"text-align: right;\">\n",
       "      <th></th>\n",
       "      <th>Year Range</th>\n",
       "      <th>eps</th>\n",
       "      <th>min_samples</th>\n",
       "      <th>Runtime (s)</th>\n",
       "      <th>Clusters</th>\n",
       "      <th>Points per Cluster</th>\n",
       "      <th>Noise Points</th>\n",
       "      <th>Davies-Bouldin</th>\n",
       "      <th>Calinski-Harabasz</th>\n",
       "      <th>Weighted Mean ANOVA F</th>\n",
       "    </tr>\n",
       "  </thead>\n",
       "  <tbody>\n",
       "    <tr>\n",
       "      <th>0</th>\n",
       "      <td>2007-2010</td>\n",
       "      <td>0.020</td>\n",
       "      <td>10</td>\n",
       "      <td>0.112</td>\n",
       "      <td>36</td>\n",
       "      <td>{0: 12, 1: 10, 2: 1313, 3: 14, 4: 10, 5: 13, 6...</td>\n",
       "      <td>2559</td>\n",
       "      <td>None</td>\n",
       "      <td>None</td>\n",
       "      <td>NaN</td>\n",
       "    </tr>\n",
       "    <tr>\n",
       "      <th>1</th>\n",
       "      <td>2007-2010</td>\n",
       "      <td>0.020</td>\n",
       "      <td>15</td>\n",
       "      <td>0.080</td>\n",
       "      <td>24</td>\n",
       "      <td>{0: 1212, 1: 36, 2: 27, 3: 596, 4: 370, 5: 49,...</td>\n",
       "      <td>3032</td>\n",
       "      <td>None</td>\n",
       "      <td>None</td>\n",
       "      <td>NaN</td>\n",
       "    </tr>\n",
       "    <tr>\n",
       "      <th>2</th>\n",
       "      <td>2007-2010</td>\n",
       "      <td>0.020</td>\n",
       "      <td>25</td>\n",
       "      <td>0.079</td>\n",
       "      <td>16</td>\n",
       "      <td>{0: 669, 1: 83, 2: 51, 3: 74, 4: 41, 5: 26, 6:...</td>\n",
       "      <td>3711</td>\n",
       "      <td>None</td>\n",
       "      <td>None</td>\n",
       "      <td>NaN</td>\n",
       "    </tr>\n",
       "    <tr>\n",
       "      <th>3</th>\n",
       "      <td>2007-2010</td>\n",
       "      <td>0.020</td>\n",
       "      <td>30</td>\n",
       "      <td>0.079</td>\n",
       "      <td>10</td>\n",
       "      <td>{0: 619, 1: 62, 2: 72, 3: 373, 4: 273, 5: 45, ...</td>\n",
       "      <td>4137</td>\n",
       "      <td>None</td>\n",
       "      <td>None</td>\n",
       "      <td>2763.803</td>\n",
       "    </tr>\n",
       "    <tr>\n",
       "      <th>4</th>\n",
       "      <td>2007-2010</td>\n",
       "      <td>0.010</td>\n",
       "      <td>10</td>\n",
       "      <td>0.064</td>\n",
       "      <td>50</td>\n",
       "      <td>{0: 25, 1: 26, 2: 10, 3: 92, 4: 18, 5: 52, 6: ...</td>\n",
       "      <td>4666</td>\n",
       "      <td>None</td>\n",
       "      <td>None</td>\n",
       "      <td>NaN</td>\n",
       "    </tr>\n",
       "    <tr>\n",
       "      <th>5</th>\n",
       "      <td>2007-2010</td>\n",
       "      <td>0.010</td>\n",
       "      <td>15</td>\n",
       "      <td>0.071</td>\n",
       "      <td>22</td>\n",
       "      <td>{0: 22, 1: 21, 2: 74, 3: 50, 4: 59, 5: 15, 6: ...</td>\n",
       "      <td>5153</td>\n",
       "      <td>None</td>\n",
       "      <td>None</td>\n",
       "      <td>NaN</td>\n",
       "    </tr>\n",
       "    <tr>\n",
       "      <th>6</th>\n",
       "      <td>2007-2010</td>\n",
       "      <td>0.010</td>\n",
       "      <td>25</td>\n",
       "      <td>0.064</td>\n",
       "      <td>4</td>\n",
       "      <td>{0: 34, 1: 39, 2: 51, -1: 5562}</td>\n",
       "      <td>5562</td>\n",
       "      <td>None</td>\n",
       "      <td>None</td>\n",
       "      <td>NaN</td>\n",
       "    </tr>\n",
       "    <tr>\n",
       "      <th>7</th>\n",
       "      <td>2007-2010</td>\n",
       "      <td>0.010</td>\n",
       "      <td>30</td>\n",
       "      <td>0.048</td>\n",
       "      <td>3</td>\n",
       "      <td>{0: 34, 1: 46, -1: 5606}</td>\n",
       "      <td>5606</td>\n",
       "      <td>None</td>\n",
       "      <td>None</td>\n",
       "      <td>2647.095</td>\n",
       "    </tr>\n",
       "    <tr>\n",
       "      <th>8</th>\n",
       "      <td>2007-2010</td>\n",
       "      <td>0.015</td>\n",
       "      <td>10</td>\n",
       "      <td>0.080</td>\n",
       "      <td>43</td>\n",
       "      <td>{0: 789, 1: 137, 2: 10, 3: 55, 4: 19, 5: 58, 6...</td>\n",
       "      <td>3316</td>\n",
       "      <td>None</td>\n",
       "      <td>None</td>\n",
       "      <td>NaN</td>\n",
       "    </tr>\n",
       "    <tr>\n",
       "      <th>9</th>\n",
       "      <td>2007-2010</td>\n",
       "      <td>0.015</td>\n",
       "      <td>15</td>\n",
       "      <td>0.064</td>\n",
       "      <td>29</td>\n",
       "      <td>{0: 571, 1: 32, 2: 23, 3: 32, 4: 89, 5: 19, 6:...</td>\n",
       "      <td>3887</td>\n",
       "      <td>None</td>\n",
       "      <td>None</td>\n",
       "      <td>NaN</td>\n",
       "    </tr>\n",
       "    <tr>\n",
       "      <th>10</th>\n",
       "      <td>2007-2010</td>\n",
       "      <td>0.015</td>\n",
       "      <td>25</td>\n",
       "      <td>0.064</td>\n",
       "      <td>14</td>\n",
       "      <td>{0: 30, 1: 375, 2: 59, 3: 44, 4: 71, 5: 39, 6:...</td>\n",
       "      <td>4777</td>\n",
       "      <td>None</td>\n",
       "      <td>None</td>\n",
       "      <td>NaN</td>\n",
       "    </tr>\n",
       "    <tr>\n",
       "      <th>11</th>\n",
       "      <td>2007-2010</td>\n",
       "      <td>0.015</td>\n",
       "      <td>30</td>\n",
       "      <td>0.063</td>\n",
       "      <td>11</td>\n",
       "      <td>{0: 266, 1: 54, 2: 42, 3: 43, 4: 51, 5: 52, 6:...</td>\n",
       "      <td>5047</td>\n",
       "      <td>None</td>\n",
       "      <td>None</td>\n",
       "      <td>6855.900</td>\n",
       "    </tr>\n",
       "  </tbody>\n",
       "</table>\n",
       "</div>"
      ],
      "text/plain": [
       "   Year Range    eps  min_samples Runtime (s)  Clusters  \\\n",
       "0   2007-2010  0.020           10       0.112        36   \n",
       "1   2007-2010  0.020           15       0.080        24   \n",
       "2   2007-2010  0.020           25       0.079        16   \n",
       "3   2007-2010  0.020           30       0.079        10   \n",
       "4   2007-2010  0.010           10       0.064        50   \n",
       "5   2007-2010  0.010           15       0.071        22   \n",
       "6   2007-2010  0.010           25       0.064         4   \n",
       "7   2007-2010  0.010           30       0.048         3   \n",
       "8   2007-2010  0.015           10       0.080        43   \n",
       "9   2007-2010  0.015           15       0.064        29   \n",
       "10  2007-2010  0.015           25       0.064        14   \n",
       "11  2007-2010  0.015           30       0.063        11   \n",
       "\n",
       "                                   Points per Cluster  Noise Points  \\\n",
       "0   {0: 12, 1: 10, 2: 1313, 3: 14, 4: 10, 5: 13, 6...          2559   \n",
       "1   {0: 1212, 1: 36, 2: 27, 3: 596, 4: 370, 5: 49,...          3032   \n",
       "2   {0: 669, 1: 83, 2: 51, 3: 74, 4: 41, 5: 26, 6:...          3711   \n",
       "3   {0: 619, 1: 62, 2: 72, 3: 373, 4: 273, 5: 45, ...          4137   \n",
       "4   {0: 25, 1: 26, 2: 10, 3: 92, 4: 18, 5: 52, 6: ...          4666   \n",
       "5   {0: 22, 1: 21, 2: 74, 3: 50, 4: 59, 5: 15, 6: ...          5153   \n",
       "6                     {0: 34, 1: 39, 2: 51, -1: 5562}          5562   \n",
       "7                            {0: 34, 1: 46, -1: 5606}          5606   \n",
       "8   {0: 789, 1: 137, 2: 10, 3: 55, 4: 19, 5: 58, 6...          3316   \n",
       "9   {0: 571, 1: 32, 2: 23, 3: 32, 4: 89, 5: 19, 6:...          3887   \n",
       "10  {0: 30, 1: 375, 2: 59, 3: 44, 4: 71, 5: 39, 6:...          4777   \n",
       "11  {0: 266, 1: 54, 2: 42, 3: 43, 4: 51, 5: 52, 6:...          5047   \n",
       "\n",
       "   Davies-Bouldin Calinski-Harabasz  Weighted Mean ANOVA F  \n",
       "0            None              None                    NaN  \n",
       "1            None              None                    NaN  \n",
       "2            None              None                    NaN  \n",
       "3            None              None               2763.803  \n",
       "4            None              None                    NaN  \n",
       "5            None              None                    NaN  \n",
       "6            None              None                    NaN  \n",
       "7            None              None               2647.095  \n",
       "8            None              None                    NaN  \n",
       "9            None              None                    NaN  \n",
       "10           None              None                    NaN  \n",
       "11           None              None               6855.900  "
      ]
     },
     "metadata": {},
     "output_type": "display_data"
    },
    {
     "name": "stdout",
     "output_type": "stream",
     "text": [
      "\n",
      "Running DBSCAN for Year Range: 2008-2011\n",
      "Runtime for dbscan_clustering: 0.116900 seconds\n"
     ]
    },
    {
     "name": "stderr",
     "output_type": "stream",
     "text": [
      "c:\\Users\\fionu\\OneDrive\\Dokumente\\Daten Fiona\\AIUB\\Code\\AIUB-Backup\\clustering\\high_dim_analysis.py:138: FutureWarning: \n",
      "\n",
      "Passing `palette` without assigning `hue` is deprecated and will be removed in v0.14.0. Assign the `y` variable to `hue` and set `legend=False` for the same effect.\n",
      "\n",
      "  sns.barplot(x=mi_vals, y=features, palette=\"magma\")\n"
     ]
    },
    {
     "name": "stdout",
     "output_type": "stream",
     "text": [
      "Runtime for dbscan_clustering: 0.073589 seconds\n"
     ]
    },
    {
     "name": "stderr",
     "output_type": "stream",
     "text": [
      "c:\\Users\\fionu\\OneDrive\\Dokumente\\Daten Fiona\\AIUB\\Code\\AIUB-Backup\\clustering\\high_dim_analysis.py:138: FutureWarning: \n",
      "\n",
      "Passing `palette` without assigning `hue` is deprecated and will be removed in v0.14.0. Assign the `y` variable to `hue` and set `legend=False` for the same effect.\n",
      "\n",
      "  sns.barplot(x=mi_vals, y=features, palette=\"magma\")\n"
     ]
    },
    {
     "name": "stdout",
     "output_type": "stream",
     "text": [
      "Runtime for dbscan_clustering: 0.055709 seconds\n"
     ]
    },
    {
     "name": "stderr",
     "output_type": "stream",
     "text": [
      "c:\\Users\\fionu\\OneDrive\\Dokumente\\Daten Fiona\\AIUB\\Code\\AIUB-Backup\\clustering\\high_dim_analysis.py:138: FutureWarning: \n",
      "\n",
      "Passing `palette` without assigning `hue` is deprecated and will be removed in v0.14.0. Assign the `y` variable to `hue` and set `legend=False` for the same effect.\n",
      "\n",
      "  sns.barplot(x=mi_vals, y=features, palette=\"magma\")\n"
     ]
    },
    {
     "name": "stdout",
     "output_type": "stream",
     "text": [
      "Runtime for dbscan_clustering: 0.062288 seconds\n"
     ]
    },
    {
     "name": "stderr",
     "output_type": "stream",
     "text": [
      "c:\\Users\\fionu\\OneDrive\\Dokumente\\Daten Fiona\\AIUB\\Code\\AIUB-Backup\\clustering\\high_dim_analysis.py:138: FutureWarning: \n",
      "\n",
      "Passing `palette` without assigning `hue` is deprecated and will be removed in v0.14.0. Assign the `y` variable to `hue` and set `legend=False` for the same effect.\n",
      "\n",
      "  sns.barplot(x=mi_vals, y=features, palette=\"magma\")\n"
     ]
    },
    {
     "name": "stdout",
     "output_type": "stream",
     "text": [
      "Runtime for dbscan_clustering: 0.050208 seconds\n"
     ]
    },
    {
     "name": "stderr",
     "output_type": "stream",
     "text": [
      "c:\\Users\\fionu\\OneDrive\\Dokumente\\Daten Fiona\\AIUB\\Code\\AIUB-Backup\\clustering\\high_dim_analysis.py:138: FutureWarning: \n",
      "\n",
      "Passing `palette` without assigning `hue` is deprecated and will be removed in v0.14.0. Assign the `y` variable to `hue` and set `legend=False` for the same effect.\n",
      "\n",
      "  sns.barplot(x=mi_vals, y=features, palette=\"magma\")\n"
     ]
    },
    {
     "name": "stdout",
     "output_type": "stream",
     "text": [
      "Runtime for dbscan_clustering: 0.044363 seconds\n"
     ]
    },
    {
     "name": "stderr",
     "output_type": "stream",
     "text": [
      "c:\\Users\\fionu\\OneDrive\\Dokumente\\Daten Fiona\\AIUB\\Code\\AIUB-Backup\\clustering\\high_dim_analysis.py:138: FutureWarning: \n",
      "\n",
      "Passing `palette` without assigning `hue` is deprecated and will be removed in v0.14.0. Assign the `y` variable to `hue` and set `legend=False` for the same effect.\n",
      "\n",
      "  sns.barplot(x=mi_vals, y=features, palette=\"magma\")\n"
     ]
    },
    {
     "name": "stdout",
     "output_type": "stream",
     "text": [
      "Runtime for dbscan_clustering: 0.045805 seconds\n"
     ]
    },
    {
     "name": "stderr",
     "output_type": "stream",
     "text": [
      "c:\\Users\\fionu\\OneDrive\\Dokumente\\Daten Fiona\\AIUB\\Code\\AIUB-Backup\\clustering\\high_dim_analysis.py:138: FutureWarning: \n",
      "\n",
      "Passing `palette` without assigning `hue` is deprecated and will be removed in v0.14.0. Assign the `y` variable to `hue` and set `legend=False` for the same effect.\n",
      "\n",
      "  sns.barplot(x=mi_vals, y=features, palette=\"magma\")\n"
     ]
    },
    {
     "name": "stdout",
     "output_type": "stream",
     "text": [
      "Runtime for dbscan_clustering: 0.042026 seconds\n"
     ]
    },
    {
     "name": "stderr",
     "output_type": "stream",
     "text": [
      "c:\\Users\\fionu\\OneDrive\\Dokumente\\Daten Fiona\\AIUB\\Code\\AIUB-Backup\\clustering\\high_dim_analysis.py:138: FutureWarning: \n",
      "\n",
      "Passing `palette` without assigning `hue` is deprecated and will be removed in v0.14.0. Assign the `y` variable to `hue` and set `legend=False` for the same effect.\n",
      "\n",
      "  sns.barplot(x=mi_vals, y=features, palette=\"magma\")\n"
     ]
    },
    {
     "name": "stdout",
     "output_type": "stream",
     "text": [
      "Runtime for dbscan_clustering: 0.056480 seconds\n"
     ]
    },
    {
     "name": "stderr",
     "output_type": "stream",
     "text": [
      "c:\\Users\\fionu\\OneDrive\\Dokumente\\Daten Fiona\\AIUB\\Code\\AIUB-Backup\\clustering\\high_dim_analysis.py:138: FutureWarning: \n",
      "\n",
      "Passing `palette` without assigning `hue` is deprecated and will be removed in v0.14.0. Assign the `y` variable to `hue` and set `legend=False` for the same effect.\n",
      "\n",
      "  sns.barplot(x=mi_vals, y=features, palette=\"magma\")\n"
     ]
    },
    {
     "name": "stdout",
     "output_type": "stream",
     "text": [
      "Runtime for dbscan_clustering: 0.049046 seconds\n"
     ]
    },
    {
     "name": "stderr",
     "output_type": "stream",
     "text": [
      "c:\\Users\\fionu\\OneDrive\\Dokumente\\Daten Fiona\\AIUB\\Code\\AIUB-Backup\\clustering\\high_dim_analysis.py:138: FutureWarning: \n",
      "\n",
      "Passing `palette` without assigning `hue` is deprecated and will be removed in v0.14.0. Assign the `y` variable to `hue` and set `legend=False` for the same effect.\n",
      "\n",
      "  sns.barplot(x=mi_vals, y=features, palette=\"magma\")\n"
     ]
    },
    {
     "name": "stdout",
     "output_type": "stream",
     "text": [
      "Runtime for dbscan_clustering: 0.046253 seconds\n"
     ]
    },
    {
     "name": "stderr",
     "output_type": "stream",
     "text": [
      "c:\\Users\\fionu\\OneDrive\\Dokumente\\Daten Fiona\\AIUB\\Code\\AIUB-Backup\\clustering\\high_dim_analysis.py:138: FutureWarning: \n",
      "\n",
      "Passing `palette` without assigning `hue` is deprecated and will be removed in v0.14.0. Assign the `y` variable to `hue` and set `legend=False` for the same effect.\n",
      "\n",
      "  sns.barplot(x=mi_vals, y=features, palette=\"magma\")\n"
     ]
    },
    {
     "name": "stdout",
     "output_type": "stream",
     "text": [
      "Runtime for dbscan_clustering: 0.039074 seconds\n"
     ]
    },
    {
     "name": "stderr",
     "output_type": "stream",
     "text": [
      "c:\\Users\\fionu\\OneDrive\\Dokumente\\Daten Fiona\\AIUB\\Code\\AIUB-Backup\\clustering\\high_dim_analysis.py:138: FutureWarning: \n",
      "\n",
      "Passing `palette` without assigning `hue` is deprecated and will be removed in v0.14.0. Assign the `y` variable to `hue` and set `legend=False` for the same effect.\n",
      "\n",
      "  sns.barplot(x=mi_vals, y=features, palette=\"magma\")\n"
     ]
    },
    {
     "name": "stdout",
     "output_type": "stream",
     "text": [
      "Runtime for dbscan_clustering: 0.050083 seconds\n"
     ]
    },
    {
     "name": "stderr",
     "output_type": "stream",
     "text": [
      "c:\\Users\\fionu\\OneDrive\\Dokumente\\Daten Fiona\\AIUB\\Code\\AIUB-Backup\\clustering\\high_dim_analysis.py:42: FutureWarning: \n",
      "\n",
      "Passing `palette` without assigning `hue` is deprecated and will be removed in v0.14.0. Assign the `y` variable to `hue` and set `legend=False` for the same effect.\n",
      "\n",
      "  sns.barplot(x=f_vals, y=features, palette=\"crest\")\n"
     ]
    },
    {
     "name": "stdout",
     "output_type": "stream",
     "text": [
      "Best DBSCAN parameters based on ANOVA F-value:\n",
      "Year Range                                            2008-2011\n",
      "eps                                                       0.015\n",
      "min_samples                                                  30\n",
      "Runtime (s)                                               0.039\n",
      "Clusters                                                      5\n",
      "Points per Cluster       {0: 65, 1: 37, 2: 74, 3: 27, -1: 3861}\n",
      "Noise Points                                               3861\n",
      "Davies-Bouldin                                             None\n",
      "Calinski-Harabasz                                          None\n",
      "Weighted Mean ANOVA F                                 14693.599\n",
      "Name: 11, dtype: object\n"
     ]
    },
    {
     "data": {
      "application/vnd.microsoft.datawrangler.viewer.v0+json": {
       "columns": [
        {
         "name": "index",
         "rawType": "int64",
         "type": "integer"
        },
        {
         "name": "Year Range",
         "rawType": "object",
         "type": "string"
        },
        {
         "name": "eps",
         "rawType": "float64",
         "type": "float"
        },
        {
         "name": "min_samples",
         "rawType": "int64",
         "type": "integer"
        },
        {
         "name": "Runtime (s)",
         "rawType": "object",
         "type": "string"
        },
        {
         "name": "Clusters",
         "rawType": "int64",
         "type": "integer"
        },
        {
         "name": "Points per Cluster",
         "rawType": "object",
         "type": "unknown"
        },
        {
         "name": "Noise Points",
         "rawType": "int32",
         "type": "integer"
        },
        {
         "name": "Davies-Bouldin",
         "rawType": "object",
         "type": "unknown"
        },
        {
         "name": "Calinski-Harabasz",
         "rawType": "object",
         "type": "unknown"
        },
        {
         "name": "Weighted Mean ANOVA F",
         "rawType": "float64",
         "type": "float"
        }
       ],
       "ref": "dc3fa9c8-402a-4333-9454-9a6af96b0c66",
       "rows": [
        [
         "0",
         "2008-2011",
         "0.02",
         "10",
         "0.117",
         "24",
         "{0: 583, 1: 82, 2: 135, 3: 13, 4: 31, 5: 11, 6: 8, 7: 30, 8: 863, 9: 13, 10: 11, 11: 10, 12: 12, 13: 11, 14: 10, 15: 10, 16: 10, 17: 10, 18: 26, 19: 13, 20: 11, 21: 16, 22: 10, -1: 2135}",
         "2135",
         null,
         null,
         null
        ],
        [
         "1",
         "2008-2011",
         "0.02",
         "15",
         "0.074",
         "15",
         "{0: 466, 1: 64, 2: 48, 3: 301, 4: 106, 5: 124, 6: 217, 7: 65, 8: 56, 9: 21, 10: 20, 11: 12, 12: 23, 13: 15, -1: 2526}",
         "2526",
         null,
         null,
         null
        ],
        [
         "2",
         "2008-2011",
         "0.02",
         "25",
         "0.056",
         "11",
         "{0: 28, 1: 403, 2: 50, 3: 48, 4: 128, 5: 96, 6: 81, 7: 54, 8: 66, 9: 38, -1: 3072}",
         "3072",
         null,
         null,
         null
        ],
        [
         "3",
         "2008-2011",
         "0.02",
         "30",
         "0.062",
         "12",
         "{0: 59, 1: 34, 2: 306, 3: 80, 4: 50, 5: 46, 6: 31, 7: 54, 8: 40, 9: 17, 10: 24, -1: 3323}",
         "3323",
         null,
         null,
         "3288.455"
        ],
        [
         "4",
         "2008-2011",
         "0.01",
         "10",
         "0.050",
         "27",
         "{0: 16, 1: 56, 2: 30, 3: 21, 4: 17, 5: 35, 6: 15, 7: 12, 8: 19, 9: 10, 10: 21, 11: 15, 12: 16, 13: 14, 14: 43, 15: 25, 16: 12, 17: 17, 18: 11, 19: 30, 20: 10, 21: 10, 22: 10, 23: 10, 24: 10, 25: 10, -1: 3569}",
         "3569",
         null,
         null,
         null
        ],
        [
         "5",
         "2008-2011",
         "0.01",
         "15",
         "0.044",
         "10",
         "{0: 29, 1: 19, 2: 19, 3: 21, 4: 30, 5: 15, 6: 39, 7: 18, 8: 18, -1: 3856}",
         "3856",
         null,
         null,
         null
        ],
        [
         "6",
         "2008-2011",
         "0.01",
         "25",
         "0.046",
         "1",
         "{-1: 4064}",
         "4064",
         null,
         null,
         null
        ],
        [
         "7",
         "2008-2011",
         "0.01",
         "30",
         "0.042",
         "1",
         "{-1: 4064}",
         "4064",
         null,
         null,
         "0.0"
        ],
        [
         "8",
         "2008-2011",
         "0.015",
         "10",
         "0.056",
         "35",
         "{0: 363, 1: 55, 2: 25, 3: 36, 4: 11, 5: 13, 6: 50, 7: 90, 8: 52, 9: 36, 10: 72, 11: 88, 12: 19, 13: 50, 14: 17, 15: 12, 16: 18, 17: 56, 18: 85, 19: 19, 20: 14, 21: 18, 22: 7, 23: 13, 24: 10, 25: 11, 26: 11, 27: 11, 28: 11, 29: 10, 30: 11, 31: 5, 32: 8, 33: 9, -1: 2748}",
         "2748",
         null,
         null,
         null
        ],
        [
         "9",
         "2008-2011",
         "0.015",
         "15",
         "0.049",
         "21",
         "{0: 58, 1: 45, 2: 275, 3: 36, 4: 62, 5: 19, 6: 19, 7: 18, 8: 61, 9: 14, 10: 40, 11: 31, 12: 36, 13: 22, 14: 20, 15: 61, 16: 23, 17: 15, 18: 16, 19: 18, -1: 3175}",
         "3175",
         null,
         null,
         null
        ],
        [
         "10",
         "2008-2011",
         "0.015",
         "25",
         "0.046",
         "6",
         "{0: 145, 1: 34, 2: 37, 3: 70, 4: 26, -1: 3752}",
         "3752",
         null,
         null,
         null
        ],
        [
         "11",
         "2008-2011",
         "0.015",
         "30",
         "0.039",
         "5",
         "{0: 65, 1: 37, 2: 74, 3: 27, -1: 3861}",
         "3861",
         null,
         null,
         "14693.599"
        ]
       ],
       "shape": {
        "columns": 10,
        "rows": 12
       }
      },
      "text/html": [
       "<div>\n",
       "<style scoped>\n",
       "    .dataframe tbody tr th:only-of-type {\n",
       "        vertical-align: middle;\n",
       "    }\n",
       "\n",
       "    .dataframe tbody tr th {\n",
       "        vertical-align: top;\n",
       "    }\n",
       "\n",
       "    .dataframe thead th {\n",
       "        text-align: right;\n",
       "    }\n",
       "</style>\n",
       "<table border=\"1\" class=\"dataframe\">\n",
       "  <thead>\n",
       "    <tr style=\"text-align: right;\">\n",
       "      <th></th>\n",
       "      <th>Year Range</th>\n",
       "      <th>eps</th>\n",
       "      <th>min_samples</th>\n",
       "      <th>Runtime (s)</th>\n",
       "      <th>Clusters</th>\n",
       "      <th>Points per Cluster</th>\n",
       "      <th>Noise Points</th>\n",
       "      <th>Davies-Bouldin</th>\n",
       "      <th>Calinski-Harabasz</th>\n",
       "      <th>Weighted Mean ANOVA F</th>\n",
       "    </tr>\n",
       "  </thead>\n",
       "  <tbody>\n",
       "    <tr>\n",
       "      <th>0</th>\n",
       "      <td>2008-2011</td>\n",
       "      <td>0.020</td>\n",
       "      <td>10</td>\n",
       "      <td>0.117</td>\n",
       "      <td>24</td>\n",
       "      <td>{0: 583, 1: 82, 2: 135, 3: 13, 4: 31, 5: 11, 6...</td>\n",
       "      <td>2135</td>\n",
       "      <td>None</td>\n",
       "      <td>None</td>\n",
       "      <td>NaN</td>\n",
       "    </tr>\n",
       "    <tr>\n",
       "      <th>1</th>\n",
       "      <td>2008-2011</td>\n",
       "      <td>0.020</td>\n",
       "      <td>15</td>\n",
       "      <td>0.074</td>\n",
       "      <td>15</td>\n",
       "      <td>{0: 466, 1: 64, 2: 48, 3: 301, 4: 106, 5: 124,...</td>\n",
       "      <td>2526</td>\n",
       "      <td>None</td>\n",
       "      <td>None</td>\n",
       "      <td>NaN</td>\n",
       "    </tr>\n",
       "    <tr>\n",
       "      <th>2</th>\n",
       "      <td>2008-2011</td>\n",
       "      <td>0.020</td>\n",
       "      <td>25</td>\n",
       "      <td>0.056</td>\n",
       "      <td>11</td>\n",
       "      <td>{0: 28, 1: 403, 2: 50, 3: 48, 4: 128, 5: 96, 6...</td>\n",
       "      <td>3072</td>\n",
       "      <td>None</td>\n",
       "      <td>None</td>\n",
       "      <td>NaN</td>\n",
       "    </tr>\n",
       "    <tr>\n",
       "      <th>3</th>\n",
       "      <td>2008-2011</td>\n",
       "      <td>0.020</td>\n",
       "      <td>30</td>\n",
       "      <td>0.062</td>\n",
       "      <td>12</td>\n",
       "      <td>{0: 59, 1: 34, 2: 306, 3: 80, 4: 50, 5: 46, 6:...</td>\n",
       "      <td>3323</td>\n",
       "      <td>None</td>\n",
       "      <td>None</td>\n",
       "      <td>3288.455</td>\n",
       "    </tr>\n",
       "    <tr>\n",
       "      <th>4</th>\n",
       "      <td>2008-2011</td>\n",
       "      <td>0.010</td>\n",
       "      <td>10</td>\n",
       "      <td>0.050</td>\n",
       "      <td>27</td>\n",
       "      <td>{0: 16, 1: 56, 2: 30, 3: 21, 4: 17, 5: 35, 6: ...</td>\n",
       "      <td>3569</td>\n",
       "      <td>None</td>\n",
       "      <td>None</td>\n",
       "      <td>NaN</td>\n",
       "    </tr>\n",
       "    <tr>\n",
       "      <th>5</th>\n",
       "      <td>2008-2011</td>\n",
       "      <td>0.010</td>\n",
       "      <td>15</td>\n",
       "      <td>0.044</td>\n",
       "      <td>10</td>\n",
       "      <td>{0: 29, 1: 19, 2: 19, 3: 21, 4: 30, 5: 15, 6: ...</td>\n",
       "      <td>3856</td>\n",
       "      <td>None</td>\n",
       "      <td>None</td>\n",
       "      <td>NaN</td>\n",
       "    </tr>\n",
       "    <tr>\n",
       "      <th>6</th>\n",
       "      <td>2008-2011</td>\n",
       "      <td>0.010</td>\n",
       "      <td>25</td>\n",
       "      <td>0.046</td>\n",
       "      <td>1</td>\n",
       "      <td>{-1: 4064}</td>\n",
       "      <td>4064</td>\n",
       "      <td>None</td>\n",
       "      <td>None</td>\n",
       "      <td>NaN</td>\n",
       "    </tr>\n",
       "    <tr>\n",
       "      <th>7</th>\n",
       "      <td>2008-2011</td>\n",
       "      <td>0.010</td>\n",
       "      <td>30</td>\n",
       "      <td>0.042</td>\n",
       "      <td>1</td>\n",
       "      <td>{-1: 4064}</td>\n",
       "      <td>4064</td>\n",
       "      <td>None</td>\n",
       "      <td>None</td>\n",
       "      <td>0.000</td>\n",
       "    </tr>\n",
       "    <tr>\n",
       "      <th>8</th>\n",
       "      <td>2008-2011</td>\n",
       "      <td>0.015</td>\n",
       "      <td>10</td>\n",
       "      <td>0.056</td>\n",
       "      <td>35</td>\n",
       "      <td>{0: 363, 1: 55, 2: 25, 3: 36, 4: 11, 5: 13, 6:...</td>\n",
       "      <td>2748</td>\n",
       "      <td>None</td>\n",
       "      <td>None</td>\n",
       "      <td>NaN</td>\n",
       "    </tr>\n",
       "    <tr>\n",
       "      <th>9</th>\n",
       "      <td>2008-2011</td>\n",
       "      <td>0.015</td>\n",
       "      <td>15</td>\n",
       "      <td>0.049</td>\n",
       "      <td>21</td>\n",
       "      <td>{0: 58, 1: 45, 2: 275, 3: 36, 4: 62, 5: 19, 6:...</td>\n",
       "      <td>3175</td>\n",
       "      <td>None</td>\n",
       "      <td>None</td>\n",
       "      <td>NaN</td>\n",
       "    </tr>\n",
       "    <tr>\n",
       "      <th>10</th>\n",
       "      <td>2008-2011</td>\n",
       "      <td>0.015</td>\n",
       "      <td>25</td>\n",
       "      <td>0.046</td>\n",
       "      <td>6</td>\n",
       "      <td>{0: 145, 1: 34, 2: 37, 3: 70, 4: 26, -1: 3752}</td>\n",
       "      <td>3752</td>\n",
       "      <td>None</td>\n",
       "      <td>None</td>\n",
       "      <td>NaN</td>\n",
       "    </tr>\n",
       "    <tr>\n",
       "      <th>11</th>\n",
       "      <td>2008-2011</td>\n",
       "      <td>0.015</td>\n",
       "      <td>30</td>\n",
       "      <td>0.039</td>\n",
       "      <td>5</td>\n",
       "      <td>{0: 65, 1: 37, 2: 74, 3: 27, -1: 3861}</td>\n",
       "      <td>3861</td>\n",
       "      <td>None</td>\n",
       "      <td>None</td>\n",
       "      <td>14693.599</td>\n",
       "    </tr>\n",
       "  </tbody>\n",
       "</table>\n",
       "</div>"
      ],
      "text/plain": [
       "   Year Range    eps  min_samples Runtime (s)  Clusters  \\\n",
       "0   2008-2011  0.020           10       0.117        24   \n",
       "1   2008-2011  0.020           15       0.074        15   \n",
       "2   2008-2011  0.020           25       0.056        11   \n",
       "3   2008-2011  0.020           30       0.062        12   \n",
       "4   2008-2011  0.010           10       0.050        27   \n",
       "5   2008-2011  0.010           15       0.044        10   \n",
       "6   2008-2011  0.010           25       0.046         1   \n",
       "7   2008-2011  0.010           30       0.042         1   \n",
       "8   2008-2011  0.015           10       0.056        35   \n",
       "9   2008-2011  0.015           15       0.049        21   \n",
       "10  2008-2011  0.015           25       0.046         6   \n",
       "11  2008-2011  0.015           30       0.039         5   \n",
       "\n",
       "                                   Points per Cluster  Noise Points  \\\n",
       "0   {0: 583, 1: 82, 2: 135, 3: 13, 4: 31, 5: 11, 6...          2135   \n",
       "1   {0: 466, 1: 64, 2: 48, 3: 301, 4: 106, 5: 124,...          2526   \n",
       "2   {0: 28, 1: 403, 2: 50, 3: 48, 4: 128, 5: 96, 6...          3072   \n",
       "3   {0: 59, 1: 34, 2: 306, 3: 80, 4: 50, 5: 46, 6:...          3323   \n",
       "4   {0: 16, 1: 56, 2: 30, 3: 21, 4: 17, 5: 35, 6: ...          3569   \n",
       "5   {0: 29, 1: 19, 2: 19, 3: 21, 4: 30, 5: 15, 6: ...          3856   \n",
       "6                                          {-1: 4064}          4064   \n",
       "7                                          {-1: 4064}          4064   \n",
       "8   {0: 363, 1: 55, 2: 25, 3: 36, 4: 11, 5: 13, 6:...          2748   \n",
       "9   {0: 58, 1: 45, 2: 275, 3: 36, 4: 62, 5: 19, 6:...          3175   \n",
       "10     {0: 145, 1: 34, 2: 37, 3: 70, 4: 26, -1: 3752}          3752   \n",
       "11             {0: 65, 1: 37, 2: 74, 3: 27, -1: 3861}          3861   \n",
       "\n",
       "   Davies-Bouldin Calinski-Harabasz  Weighted Mean ANOVA F  \n",
       "0            None              None                    NaN  \n",
       "1            None              None                    NaN  \n",
       "2            None              None                    NaN  \n",
       "3            None              None               3288.455  \n",
       "4            None              None                    NaN  \n",
       "5            None              None                    NaN  \n",
       "6            None              None                    NaN  \n",
       "7            None              None                  0.000  \n",
       "8            None              None                    NaN  \n",
       "9            None              None                    NaN  \n",
       "10           None              None                    NaN  \n",
       "11           None              None              14693.599  "
      ]
     },
     "metadata": {},
     "output_type": "display_data"
    },
    {
     "name": "stdout",
     "output_type": "stream",
     "text": [
      "\n",
      "Running DBSCAN for Year Range: 2009-2012\n",
      "Runtime for dbscan_clustering: 0.067753 seconds\n"
     ]
    },
    {
     "name": "stderr",
     "output_type": "stream",
     "text": [
      "c:\\Users\\fionu\\OneDrive\\Dokumente\\Daten Fiona\\AIUB\\Code\\AIUB-Backup\\clustering\\high_dim_analysis.py:138: FutureWarning: \n",
      "\n",
      "Passing `palette` without assigning `hue` is deprecated and will be removed in v0.14.0. Assign the `y` variable to `hue` and set `legend=False` for the same effect.\n",
      "\n",
      "  sns.barplot(x=mi_vals, y=features, palette=\"magma\")\n"
     ]
    },
    {
     "name": "stdout",
     "output_type": "stream",
     "text": [
      "Runtime for dbscan_clustering: 0.046957 seconds\n"
     ]
    },
    {
     "name": "stderr",
     "output_type": "stream",
     "text": [
      "c:\\Users\\fionu\\OneDrive\\Dokumente\\Daten Fiona\\AIUB\\Code\\AIUB-Backup\\clustering\\high_dim_analysis.py:138: FutureWarning: \n",
      "\n",
      "Passing `palette` without assigning `hue` is deprecated and will be removed in v0.14.0. Assign the `y` variable to `hue` and set `legend=False` for the same effect.\n",
      "\n",
      "  sns.barplot(x=mi_vals, y=features, palette=\"magma\")\n"
     ]
    },
    {
     "name": "stdout",
     "output_type": "stream",
     "text": [
      "Runtime for dbscan_clustering: 0.037696 seconds\n"
     ]
    },
    {
     "name": "stderr",
     "output_type": "stream",
     "text": [
      "c:\\Users\\fionu\\OneDrive\\Dokumente\\Daten Fiona\\AIUB\\Code\\AIUB-Backup\\clustering\\high_dim_analysis.py:138: FutureWarning: \n",
      "\n",
      "Passing `palette` without assigning `hue` is deprecated and will be removed in v0.14.0. Assign the `y` variable to `hue` and set `legend=False` for the same effect.\n",
      "\n",
      "  sns.barplot(x=mi_vals, y=features, palette=\"magma\")\n"
     ]
    },
    {
     "name": "stdout",
     "output_type": "stream",
     "text": [
      "Runtime for dbscan_clustering: 0.037656 seconds\n"
     ]
    },
    {
     "name": "stderr",
     "output_type": "stream",
     "text": [
      "c:\\Users\\fionu\\OneDrive\\Dokumente\\Daten Fiona\\AIUB\\Code\\AIUB-Backup\\clustering\\high_dim_analysis.py:138: FutureWarning: \n",
      "\n",
      "Passing `palette` without assigning `hue` is deprecated and will be removed in v0.14.0. Assign the `y` variable to `hue` and set `legend=False` for the same effect.\n",
      "\n",
      "  sns.barplot(x=mi_vals, y=features, palette=\"magma\")\n"
     ]
    },
    {
     "name": "stdout",
     "output_type": "stream",
     "text": [
      "Runtime for dbscan_clustering: 0.036842 seconds\n"
     ]
    },
    {
     "name": "stderr",
     "output_type": "stream",
     "text": [
      "c:\\Users\\fionu\\OneDrive\\Dokumente\\Daten Fiona\\AIUB\\Code\\AIUB-Backup\\clustering\\high_dim_analysis.py:138: FutureWarning: \n",
      "\n",
      "Passing `palette` without assigning `hue` is deprecated and will be removed in v0.14.0. Assign the `y` variable to `hue` and set `legend=False` for the same effect.\n",
      "\n",
      "  sns.barplot(x=mi_vals, y=features, palette=\"magma\")\n"
     ]
    },
    {
     "name": "stdout",
     "output_type": "stream",
     "text": [
      "Runtime for dbscan_clustering: 0.046172 seconds\n"
     ]
    },
    {
     "name": "stderr",
     "output_type": "stream",
     "text": [
      "c:\\Users\\fionu\\OneDrive\\Dokumente\\Daten Fiona\\AIUB\\Code\\AIUB-Backup\\clustering\\high_dim_analysis.py:138: FutureWarning: \n",
      "\n",
      "Passing `palette` without assigning `hue` is deprecated and will be removed in v0.14.0. Assign the `y` variable to `hue` and set `legend=False` for the same effect.\n",
      "\n",
      "  sns.barplot(x=mi_vals, y=features, palette=\"magma\")\n"
     ]
    },
    {
     "name": "stdout",
     "output_type": "stream",
     "text": [
      "Runtime for dbscan_clustering: 0.028030 seconds\n"
     ]
    },
    {
     "name": "stderr",
     "output_type": "stream",
     "text": [
      "c:\\Users\\fionu\\OneDrive\\Dokumente\\Daten Fiona\\AIUB\\Code\\AIUB-Backup\\clustering\\high_dim_analysis.py:138: FutureWarning: \n",
      "\n",
      "Passing `palette` without assigning `hue` is deprecated and will be removed in v0.14.0. Assign the `y` variable to `hue` and set `legend=False` for the same effect.\n",
      "\n",
      "  sns.barplot(x=mi_vals, y=features, palette=\"magma\")\n"
     ]
    },
    {
     "name": "stdout",
     "output_type": "stream",
     "text": [
      "Runtime for dbscan_clustering: 0.065409 seconds\n"
     ]
    },
    {
     "name": "stderr",
     "output_type": "stream",
     "text": [
      "c:\\Users\\fionu\\OneDrive\\Dokumente\\Daten Fiona\\AIUB\\Code\\AIUB-Backup\\clustering\\high_dim_analysis.py:138: FutureWarning: \n",
      "\n",
      "Passing `palette` without assigning `hue` is deprecated and will be removed in v0.14.0. Assign the `y` variable to `hue` and set `legend=False` for the same effect.\n",
      "\n",
      "  sns.barplot(x=mi_vals, y=features, palette=\"magma\")\n"
     ]
    },
    {
     "name": "stdout",
     "output_type": "stream",
     "text": [
      "Runtime for dbscan_clustering: 0.043487 seconds\n"
     ]
    },
    {
     "name": "stderr",
     "output_type": "stream",
     "text": [
      "c:\\Users\\fionu\\OneDrive\\Dokumente\\Daten Fiona\\AIUB\\Code\\AIUB-Backup\\clustering\\high_dim_analysis.py:138: FutureWarning: \n",
      "\n",
      "Passing `palette` without assigning `hue` is deprecated and will be removed in v0.14.0. Assign the `y` variable to `hue` and set `legend=False` for the same effect.\n",
      "\n",
      "  sns.barplot(x=mi_vals, y=features, palette=\"magma\")\n"
     ]
    },
    {
     "name": "stdout",
     "output_type": "stream",
     "text": [
      "Runtime for dbscan_clustering: 0.056070 seconds\n"
     ]
    },
    {
     "name": "stderr",
     "output_type": "stream",
     "text": [
      "c:\\Users\\fionu\\OneDrive\\Dokumente\\Daten Fiona\\AIUB\\Code\\AIUB-Backup\\clustering\\high_dim_analysis.py:138: FutureWarning: \n",
      "\n",
      "Passing `palette` without assigning `hue` is deprecated and will be removed in v0.14.0. Assign the `y` variable to `hue` and set `legend=False` for the same effect.\n",
      "\n",
      "  sns.barplot(x=mi_vals, y=features, palette=\"magma\")\n"
     ]
    },
    {
     "name": "stdout",
     "output_type": "stream",
     "text": [
      "Runtime for dbscan_clustering: 0.050374 seconds\n"
     ]
    },
    {
     "name": "stderr",
     "output_type": "stream",
     "text": [
      "c:\\Users\\fionu\\OneDrive\\Dokumente\\Daten Fiona\\AIUB\\Code\\AIUB-Backup\\clustering\\high_dim_analysis.py:138: FutureWarning: \n",
      "\n",
      "Passing `palette` without assigning `hue` is deprecated and will be removed in v0.14.0. Assign the `y` variable to `hue` and set `legend=False` for the same effect.\n",
      "\n",
      "  sns.barplot(x=mi_vals, y=features, palette=\"magma\")\n"
     ]
    },
    {
     "name": "stdout",
     "output_type": "stream",
     "text": [
      "Runtime for dbscan_clustering: 0.046033 seconds\n"
     ]
    },
    {
     "name": "stderr",
     "output_type": "stream",
     "text": [
      "c:\\Users\\fionu\\OneDrive\\Dokumente\\Daten Fiona\\AIUB\\Code\\AIUB-Backup\\clustering\\high_dim_analysis.py:138: FutureWarning: \n",
      "\n",
      "Passing `palette` without assigning `hue` is deprecated and will be removed in v0.14.0. Assign the `y` variable to `hue` and set `legend=False` for the same effect.\n",
      "\n",
      "  sns.barplot(x=mi_vals, y=features, palette=\"magma\")\n"
     ]
    },
    {
     "name": "stdout",
     "output_type": "stream",
     "text": [
      "Runtime for dbscan_clustering: 0.049613 seconds\n"
     ]
    },
    {
     "name": "stderr",
     "output_type": "stream",
     "text": [
      "c:\\Users\\fionu\\OneDrive\\Dokumente\\Daten Fiona\\AIUB\\Code\\AIUB-Backup\\clustering\\high_dim_analysis.py:42: FutureWarning: \n",
      "\n",
      "Passing `palette` without assigning `hue` is deprecated and will be removed in v0.14.0. Assign the `y` variable to `hue` and set `legend=False` for the same effect.\n",
      "\n",
      "  sns.barplot(x=f_vals, y=features, palette=\"crest\")\n"
     ]
    },
    {
     "name": "stdout",
     "output_type": "stream",
     "text": [
      "Best DBSCAN parameters based on ANOVA F-value:\n",
      "Year Range                                            2009-2012\n",
      "eps                                                       0.015\n",
      "min_samples                                                  30\n",
      "Runtime (s)                                               0.046\n",
      "Clusters                                                      5\n",
      "Points per Cluster       {0: 31, 1: 50, 2: 43, 3: 30, -1: 3406}\n",
      "Noise Points                                               3406\n",
      "Davies-Bouldin                                             None\n",
      "Calinski-Harabasz                                          None\n",
      "Weighted Mean ANOVA F                                  26066.34\n",
      "Name: 11, dtype: object\n"
     ]
    },
    {
     "data": {
      "application/vnd.microsoft.datawrangler.viewer.v0+json": {
       "columns": [
        {
         "name": "index",
         "rawType": "int64",
         "type": "integer"
        },
        {
         "name": "Year Range",
         "rawType": "object",
         "type": "string"
        },
        {
         "name": "eps",
         "rawType": "float64",
         "type": "float"
        },
        {
         "name": "min_samples",
         "rawType": "int64",
         "type": "integer"
        },
        {
         "name": "Runtime (s)",
         "rawType": "object",
         "type": "string"
        },
        {
         "name": "Clusters",
         "rawType": "int64",
         "type": "integer"
        },
        {
         "name": "Points per Cluster",
         "rawType": "object",
         "type": "unknown"
        },
        {
         "name": "Noise Points",
         "rawType": "int32",
         "type": "integer"
        },
        {
         "name": "Davies-Bouldin",
         "rawType": "object",
         "type": "unknown"
        },
        {
         "name": "Calinski-Harabasz",
         "rawType": "object",
         "type": "unknown"
        },
        {
         "name": "Weighted Mean ANOVA F",
         "rawType": "float64",
         "type": "float"
        }
       ],
       "ref": "e8ea7053-ff0e-41dc-b065-c602ac48d135",
       "rows": [
        [
         "0",
         "2009-2012",
         "0.02",
         "10",
         "0.068",
         "22",
         "{0: 472, 1: 81, 2: 55, 3: 13, 4: 18, 5: 358, 6: 332, 7: 13, 8: 13, 9: 11, 10: 10, 11: 17, 12: 10, 13: 14, 14: 14, 15: 26, 16: 14, 17: 12, 18: 16, 19: 10, 20: 7, -1: 2044}",
         "2044",
         null,
         null,
         null
        ],
        [
         "1",
         "2009-2012",
         "0.02",
         "15",
         "0.047",
         "16",
         "{0: 373, 1: 44, 2: 40, 3: 18, 4: 246, 5: 72, 6: 67, 7: 76, 8: 105, 9: 15, 10: 19, 11: 16, 12: 41, 13: 22, 14: 15, -1: 2391}",
         "2391",
         null,
         null,
         null
        ],
        [
         "2",
         "2009-2012",
         "0.02",
         "25",
         "0.038",
         "12",
         "{0: 289, 1: 65, 2: 26, 3: 51, 4: 26, 5: 26, 6: 53, 7: 43, 8: 35, 9: 26, 10: 25, -1: 2895}",
         "2895",
         null,
         null,
         null
        ],
        [
         "3",
         "2009-2012",
         "0.02",
         "30",
         "0.038",
         "6",
         "{0: 61, 1: 42, 2: 36, 3: 267, 4: 31, -1: 3123}",
         "3123",
         null,
         null,
         "2620.042"
        ],
        [
         "4",
         "2009-2012",
         "0.01",
         "10",
         "0.037",
         "20",
         "{0: 20, 1: 17, 2: 31, 3: 12, 4: 19, 5: 21, 6: 26, 7: 10, 8: 19, 9: 12, 10: 39, 11: 17, 12: 23, 13: 22, 14: 10, 15: 15, 16: 12, 17: 10, 18: 10, -1: 3215}",
         "3215",
         null,
         null,
         null
        ],
        [
         "5",
         "2009-2012",
         "0.01",
         "15",
         "0.046",
         "6",
         "{0: 18, 1: 21, 2: 26, 3: 16, 4: 30, -1: 3449}",
         "3449",
         null,
         null,
         null
        ],
        [
         "6",
         "2009-2012",
         "0.01",
         "25",
         "0.028",
         "1",
         "{-1: 3560}",
         "3560",
         null,
         null,
         null
        ],
        [
         "7",
         "2009-2012",
         "0.01",
         "30",
         "0.065",
         "1",
         "{-1: 3560}",
         "3560",
         null,
         null,
         "0.0"
        ],
        [
         "8",
         "2009-2012",
         "0.015",
         "10",
         "0.043",
         "36",
         "{0: 15, 1: 16, 2: 12, 3: 246, 4: 18, 5: 39, 6: 61, 7: 71, 8: 44, 9: 62, 10: 13, 11: 27, 12: 60, 13: 31, 14: 32, 15: 12, 16: 16, 17: 11, 18: 13, 19: 11, 20: 11, 21: 7, 22: 13, 23: 20, 24: 26, 25: 10, 26: 19, 27: 11, 28: 11, 29: 20, 30: 11, 31: 10, 32: 3, 33: 6, 34: 14, -1: 2558}",
         "2558",
         null,
         null,
         null
        ],
        [
         "9",
         "2009-2012",
         "0.015",
         "15",
         "0.056",
         "18",
         "{0: 233, 1: 18, 2: 44, 3: 34, 4: 38, 5: 23, 6: 28, 7: 19, 8: 39, 9: 31, 10: 27, 11: 15, 12: 15, 13: 15, 14: 5, 15: 16, 16: 15, -1: 2945}",
         "2945",
         null,
         null,
         null
        ],
        [
         "10",
         "2009-2012",
         "0.015",
         "25",
         "0.050",
         "6",
         "{0: 33, 1: 29, 2: 96, 3: 46, 4: 23, -1: 3333}",
         "3333",
         null,
         null,
         null
        ],
        [
         "11",
         "2009-2012",
         "0.015",
         "30",
         "0.046",
         "5",
         "{0: 31, 1: 50, 2: 43, 3: 30, -1: 3406}",
         "3406",
         null,
         null,
         "26066.34"
        ]
       ],
       "shape": {
        "columns": 10,
        "rows": 12
       }
      },
      "text/html": [
       "<div>\n",
       "<style scoped>\n",
       "    .dataframe tbody tr th:only-of-type {\n",
       "        vertical-align: middle;\n",
       "    }\n",
       "\n",
       "    .dataframe tbody tr th {\n",
       "        vertical-align: top;\n",
       "    }\n",
       "\n",
       "    .dataframe thead th {\n",
       "        text-align: right;\n",
       "    }\n",
       "</style>\n",
       "<table border=\"1\" class=\"dataframe\">\n",
       "  <thead>\n",
       "    <tr style=\"text-align: right;\">\n",
       "      <th></th>\n",
       "      <th>Year Range</th>\n",
       "      <th>eps</th>\n",
       "      <th>min_samples</th>\n",
       "      <th>Runtime (s)</th>\n",
       "      <th>Clusters</th>\n",
       "      <th>Points per Cluster</th>\n",
       "      <th>Noise Points</th>\n",
       "      <th>Davies-Bouldin</th>\n",
       "      <th>Calinski-Harabasz</th>\n",
       "      <th>Weighted Mean ANOVA F</th>\n",
       "    </tr>\n",
       "  </thead>\n",
       "  <tbody>\n",
       "    <tr>\n",
       "      <th>0</th>\n",
       "      <td>2009-2012</td>\n",
       "      <td>0.020</td>\n",
       "      <td>10</td>\n",
       "      <td>0.068</td>\n",
       "      <td>22</td>\n",
       "      <td>{0: 472, 1: 81, 2: 55, 3: 13, 4: 18, 5: 358, 6...</td>\n",
       "      <td>2044</td>\n",
       "      <td>None</td>\n",
       "      <td>None</td>\n",
       "      <td>NaN</td>\n",
       "    </tr>\n",
       "    <tr>\n",
       "      <th>1</th>\n",
       "      <td>2009-2012</td>\n",
       "      <td>0.020</td>\n",
       "      <td>15</td>\n",
       "      <td>0.047</td>\n",
       "      <td>16</td>\n",
       "      <td>{0: 373, 1: 44, 2: 40, 3: 18, 4: 246, 5: 72, 6...</td>\n",
       "      <td>2391</td>\n",
       "      <td>None</td>\n",
       "      <td>None</td>\n",
       "      <td>NaN</td>\n",
       "    </tr>\n",
       "    <tr>\n",
       "      <th>2</th>\n",
       "      <td>2009-2012</td>\n",
       "      <td>0.020</td>\n",
       "      <td>25</td>\n",
       "      <td>0.038</td>\n",
       "      <td>12</td>\n",
       "      <td>{0: 289, 1: 65, 2: 26, 3: 51, 4: 26, 5: 26, 6:...</td>\n",
       "      <td>2895</td>\n",
       "      <td>None</td>\n",
       "      <td>None</td>\n",
       "      <td>NaN</td>\n",
       "    </tr>\n",
       "    <tr>\n",
       "      <th>3</th>\n",
       "      <td>2009-2012</td>\n",
       "      <td>0.020</td>\n",
       "      <td>30</td>\n",
       "      <td>0.038</td>\n",
       "      <td>6</td>\n",
       "      <td>{0: 61, 1: 42, 2: 36, 3: 267, 4: 31, -1: 3123}</td>\n",
       "      <td>3123</td>\n",
       "      <td>None</td>\n",
       "      <td>None</td>\n",
       "      <td>2620.042</td>\n",
       "    </tr>\n",
       "    <tr>\n",
       "      <th>4</th>\n",
       "      <td>2009-2012</td>\n",
       "      <td>0.010</td>\n",
       "      <td>10</td>\n",
       "      <td>0.037</td>\n",
       "      <td>20</td>\n",
       "      <td>{0: 20, 1: 17, 2: 31, 3: 12, 4: 19, 5: 21, 6: ...</td>\n",
       "      <td>3215</td>\n",
       "      <td>None</td>\n",
       "      <td>None</td>\n",
       "      <td>NaN</td>\n",
       "    </tr>\n",
       "    <tr>\n",
       "      <th>5</th>\n",
       "      <td>2009-2012</td>\n",
       "      <td>0.010</td>\n",
       "      <td>15</td>\n",
       "      <td>0.046</td>\n",
       "      <td>6</td>\n",
       "      <td>{0: 18, 1: 21, 2: 26, 3: 16, 4: 30, -1: 3449}</td>\n",
       "      <td>3449</td>\n",
       "      <td>None</td>\n",
       "      <td>None</td>\n",
       "      <td>NaN</td>\n",
       "    </tr>\n",
       "    <tr>\n",
       "      <th>6</th>\n",
       "      <td>2009-2012</td>\n",
       "      <td>0.010</td>\n",
       "      <td>25</td>\n",
       "      <td>0.028</td>\n",
       "      <td>1</td>\n",
       "      <td>{-1: 3560}</td>\n",
       "      <td>3560</td>\n",
       "      <td>None</td>\n",
       "      <td>None</td>\n",
       "      <td>NaN</td>\n",
       "    </tr>\n",
       "    <tr>\n",
       "      <th>7</th>\n",
       "      <td>2009-2012</td>\n",
       "      <td>0.010</td>\n",
       "      <td>30</td>\n",
       "      <td>0.065</td>\n",
       "      <td>1</td>\n",
       "      <td>{-1: 3560}</td>\n",
       "      <td>3560</td>\n",
       "      <td>None</td>\n",
       "      <td>None</td>\n",
       "      <td>0.000</td>\n",
       "    </tr>\n",
       "    <tr>\n",
       "      <th>8</th>\n",
       "      <td>2009-2012</td>\n",
       "      <td>0.015</td>\n",
       "      <td>10</td>\n",
       "      <td>0.043</td>\n",
       "      <td>36</td>\n",
       "      <td>{0: 15, 1: 16, 2: 12, 3: 246, 4: 18, 5: 39, 6:...</td>\n",
       "      <td>2558</td>\n",
       "      <td>None</td>\n",
       "      <td>None</td>\n",
       "      <td>NaN</td>\n",
       "    </tr>\n",
       "    <tr>\n",
       "      <th>9</th>\n",
       "      <td>2009-2012</td>\n",
       "      <td>0.015</td>\n",
       "      <td>15</td>\n",
       "      <td>0.056</td>\n",
       "      <td>18</td>\n",
       "      <td>{0: 233, 1: 18, 2: 44, 3: 34, 4: 38, 5: 23, 6:...</td>\n",
       "      <td>2945</td>\n",
       "      <td>None</td>\n",
       "      <td>None</td>\n",
       "      <td>NaN</td>\n",
       "    </tr>\n",
       "    <tr>\n",
       "      <th>10</th>\n",
       "      <td>2009-2012</td>\n",
       "      <td>0.015</td>\n",
       "      <td>25</td>\n",
       "      <td>0.050</td>\n",
       "      <td>6</td>\n",
       "      <td>{0: 33, 1: 29, 2: 96, 3: 46, 4: 23, -1: 3333}</td>\n",
       "      <td>3333</td>\n",
       "      <td>None</td>\n",
       "      <td>None</td>\n",
       "      <td>NaN</td>\n",
       "    </tr>\n",
       "    <tr>\n",
       "      <th>11</th>\n",
       "      <td>2009-2012</td>\n",
       "      <td>0.015</td>\n",
       "      <td>30</td>\n",
       "      <td>0.046</td>\n",
       "      <td>5</td>\n",
       "      <td>{0: 31, 1: 50, 2: 43, 3: 30, -1: 3406}</td>\n",
       "      <td>3406</td>\n",
       "      <td>None</td>\n",
       "      <td>None</td>\n",
       "      <td>26066.340</td>\n",
       "    </tr>\n",
       "  </tbody>\n",
       "</table>\n",
       "</div>"
      ],
      "text/plain": [
       "   Year Range    eps  min_samples Runtime (s)  Clusters  \\\n",
       "0   2009-2012  0.020           10       0.068        22   \n",
       "1   2009-2012  0.020           15       0.047        16   \n",
       "2   2009-2012  0.020           25       0.038        12   \n",
       "3   2009-2012  0.020           30       0.038         6   \n",
       "4   2009-2012  0.010           10       0.037        20   \n",
       "5   2009-2012  0.010           15       0.046         6   \n",
       "6   2009-2012  0.010           25       0.028         1   \n",
       "7   2009-2012  0.010           30       0.065         1   \n",
       "8   2009-2012  0.015           10       0.043        36   \n",
       "9   2009-2012  0.015           15       0.056        18   \n",
       "10  2009-2012  0.015           25       0.050         6   \n",
       "11  2009-2012  0.015           30       0.046         5   \n",
       "\n",
       "                                   Points per Cluster  Noise Points  \\\n",
       "0   {0: 472, 1: 81, 2: 55, 3: 13, 4: 18, 5: 358, 6...          2044   \n",
       "1   {0: 373, 1: 44, 2: 40, 3: 18, 4: 246, 5: 72, 6...          2391   \n",
       "2   {0: 289, 1: 65, 2: 26, 3: 51, 4: 26, 5: 26, 6:...          2895   \n",
       "3      {0: 61, 1: 42, 2: 36, 3: 267, 4: 31, -1: 3123}          3123   \n",
       "4   {0: 20, 1: 17, 2: 31, 3: 12, 4: 19, 5: 21, 6: ...          3215   \n",
       "5       {0: 18, 1: 21, 2: 26, 3: 16, 4: 30, -1: 3449}          3449   \n",
       "6                                          {-1: 3560}          3560   \n",
       "7                                          {-1: 3560}          3560   \n",
       "8   {0: 15, 1: 16, 2: 12, 3: 246, 4: 18, 5: 39, 6:...          2558   \n",
       "9   {0: 233, 1: 18, 2: 44, 3: 34, 4: 38, 5: 23, 6:...          2945   \n",
       "10      {0: 33, 1: 29, 2: 96, 3: 46, 4: 23, -1: 3333}          3333   \n",
       "11             {0: 31, 1: 50, 2: 43, 3: 30, -1: 3406}          3406   \n",
       "\n",
       "   Davies-Bouldin Calinski-Harabasz  Weighted Mean ANOVA F  \n",
       "0            None              None                    NaN  \n",
       "1            None              None                    NaN  \n",
       "2            None              None                    NaN  \n",
       "3            None              None               2620.042  \n",
       "4            None              None                    NaN  \n",
       "5            None              None                    NaN  \n",
       "6            None              None                    NaN  \n",
       "7            None              None                  0.000  \n",
       "8            None              None                    NaN  \n",
       "9            None              None                    NaN  \n",
       "10           None              None                    NaN  \n",
       "11           None              None              26066.340  "
      ]
     },
     "metadata": {},
     "output_type": "display_data"
    },
    {
     "name": "stdout",
     "output_type": "stream",
     "text": [
      "\n",
      "Running DBSCAN for Year Range: 2010-2013\n",
      "Runtime for dbscan_clustering: 0.028100 seconds\n"
     ]
    },
    {
     "name": "stderr",
     "output_type": "stream",
     "text": [
      "c:\\Users\\fionu\\OneDrive\\Dokumente\\Daten Fiona\\AIUB\\Code\\AIUB-Backup\\clustering\\high_dim_analysis.py:138: FutureWarning: \n",
      "\n",
      "Passing `palette` without assigning `hue` is deprecated and will be removed in v0.14.0. Assign the `y` variable to `hue` and set `legend=False` for the same effect.\n",
      "\n",
      "  sns.barplot(x=mi_vals, y=features, palette=\"magma\")\n"
     ]
    },
    {
     "name": "stdout",
     "output_type": "stream",
     "text": [
      "Runtime for dbscan_clustering: 0.019486 seconds\n"
     ]
    },
    {
     "name": "stderr",
     "output_type": "stream",
     "text": [
      "c:\\Users\\fionu\\OneDrive\\Dokumente\\Daten Fiona\\AIUB\\Code\\AIUB-Backup\\clustering\\high_dim_analysis.py:138: FutureWarning: \n",
      "\n",
      "Passing `palette` without assigning `hue` is deprecated and will be removed in v0.14.0. Assign the `y` variable to `hue` and set `legend=False` for the same effect.\n",
      "\n",
      "  sns.barplot(x=mi_vals, y=features, palette=\"magma\")\n"
     ]
    },
    {
     "name": "stdout",
     "output_type": "stream",
     "text": [
      "Runtime for dbscan_clustering: 0.015883 seconds\n"
     ]
    },
    {
     "name": "stderr",
     "output_type": "stream",
     "text": [
      "c:\\Users\\fionu\\OneDrive\\Dokumente\\Daten Fiona\\AIUB\\Code\\AIUB-Backup\\clustering\\high_dim_analysis.py:138: FutureWarning: \n",
      "\n",
      "Passing `palette` without assigning `hue` is deprecated and will be removed in v0.14.0. Assign the `y` variable to `hue` and set `legend=False` for the same effect.\n",
      "\n",
      "  sns.barplot(x=mi_vals, y=features, palette=\"magma\")\n"
     ]
    },
    {
     "name": "stdout",
     "output_type": "stream",
     "text": [
      "Runtime for dbscan_clustering: 0.054726 seconds\n"
     ]
    },
    {
     "name": "stderr",
     "output_type": "stream",
     "text": [
      "c:\\Users\\fionu\\OneDrive\\Dokumente\\Daten Fiona\\AIUB\\Code\\AIUB-Backup\\clustering\\high_dim_analysis.py:138: FutureWarning: \n",
      "\n",
      "Passing `palette` without assigning `hue` is deprecated and will be removed in v0.14.0. Assign the `y` variable to `hue` and set `legend=False` for the same effect.\n",
      "\n",
      "  sns.barplot(x=mi_vals, y=features, palette=\"magma\")\n"
     ]
    },
    {
     "name": "stdout",
     "output_type": "stream",
     "text": [
      "Runtime for dbscan_clustering: 0.000000 seconds\n"
     ]
    },
    {
     "name": "stderr",
     "output_type": "stream",
     "text": [
      "c:\\Users\\fionu\\OneDrive\\Dokumente\\Daten Fiona\\AIUB\\Code\\AIUB-Backup\\clustering\\high_dim_analysis.py:138: FutureWarning: \n",
      "\n",
      "Passing `palette` without assigning `hue` is deprecated and will be removed in v0.14.0. Assign the `y` variable to `hue` and set `legend=False` for the same effect.\n",
      "\n",
      "  sns.barplot(x=mi_vals, y=features, palette=\"magma\")\n"
     ]
    },
    {
     "name": "stdout",
     "output_type": "stream",
     "text": [
      "Runtime for dbscan_clustering: 0.021873 seconds\n"
     ]
    },
    {
     "name": "stderr",
     "output_type": "stream",
     "text": [
      "c:\\Users\\fionu\\OneDrive\\Dokumente\\Daten Fiona\\AIUB\\Code\\AIUB-Backup\\clustering\\high_dim_analysis.py:138: FutureWarning: \n",
      "\n",
      "Passing `palette` without assigning `hue` is deprecated and will be removed in v0.14.0. Assign the `y` variable to `hue` and set `legend=False` for the same effect.\n",
      "\n",
      "  sns.barplot(x=mi_vals, y=features, palette=\"magma\")\n"
     ]
    },
    {
     "name": "stdout",
     "output_type": "stream",
     "text": [
      "Runtime for dbscan_clustering: 0.015704 seconds\n"
     ]
    },
    {
     "name": "stderr",
     "output_type": "stream",
     "text": [
      "c:\\Users\\fionu\\OneDrive\\Dokumente\\Daten Fiona\\AIUB\\Code\\AIUB-Backup\\clustering\\high_dim_analysis.py:138: FutureWarning: \n",
      "\n",
      "Passing `palette` without assigning `hue` is deprecated and will be removed in v0.14.0. Assign the `y` variable to `hue` and set `legend=False` for the same effect.\n",
      "\n",
      "  sns.barplot(x=mi_vals, y=features, palette=\"magma\")\n"
     ]
    },
    {
     "name": "stdout",
     "output_type": "stream",
     "text": [
      "Runtime for dbscan_clustering: 0.017781 seconds\n"
     ]
    },
    {
     "name": "stderr",
     "output_type": "stream",
     "text": [
      "c:\\Users\\fionu\\OneDrive\\Dokumente\\Daten Fiona\\AIUB\\Code\\AIUB-Backup\\clustering\\high_dim_analysis.py:138: FutureWarning: \n",
      "\n",
      "Passing `palette` without assigning `hue` is deprecated and will be removed in v0.14.0. Assign the `y` variable to `hue` and set `legend=False` for the same effect.\n",
      "\n",
      "  sns.barplot(x=mi_vals, y=features, palette=\"magma\")\n"
     ]
    },
    {
     "name": "stdout",
     "output_type": "stream",
     "text": [
      "Runtime for dbscan_clustering: 0.015826 seconds\n"
     ]
    },
    {
     "name": "stderr",
     "output_type": "stream",
     "text": [
      "c:\\Users\\fionu\\OneDrive\\Dokumente\\Daten Fiona\\AIUB\\Code\\AIUB-Backup\\clustering\\high_dim_analysis.py:138: FutureWarning: \n",
      "\n",
      "Passing `palette` without assigning `hue` is deprecated and will be removed in v0.14.0. Assign the `y` variable to `hue` and set `legend=False` for the same effect.\n",
      "\n",
      "  sns.barplot(x=mi_vals, y=features, palette=\"magma\")\n"
     ]
    },
    {
     "name": "stdout",
     "output_type": "stream",
     "text": [
      "Runtime for dbscan_clustering: 0.018840 seconds\n"
     ]
    },
    {
     "name": "stderr",
     "output_type": "stream",
     "text": [
      "c:\\Users\\fionu\\OneDrive\\Dokumente\\Daten Fiona\\AIUB\\Code\\AIUB-Backup\\clustering\\high_dim_analysis.py:138: FutureWarning: \n",
      "\n",
      "Passing `palette` without assigning `hue` is deprecated and will be removed in v0.14.0. Assign the `y` variable to `hue` and set `legend=False` for the same effect.\n",
      "\n",
      "  sns.barplot(x=mi_vals, y=features, palette=\"magma\")\n"
     ]
    },
    {
     "name": "stdout",
     "output_type": "stream",
     "text": [
      "Runtime for dbscan_clustering: 0.011667 seconds\n"
     ]
    },
    {
     "name": "stderr",
     "output_type": "stream",
     "text": [
      "c:\\Users\\fionu\\OneDrive\\Dokumente\\Daten Fiona\\AIUB\\Code\\AIUB-Backup\\clustering\\high_dim_analysis.py:138: FutureWarning: \n",
      "\n",
      "Passing `palette` without assigning `hue` is deprecated and will be removed in v0.14.0. Assign the `y` variable to `hue` and set `legend=False` for the same effect.\n",
      "\n",
      "  sns.barplot(x=mi_vals, y=features, palette=\"magma\")\n"
     ]
    },
    {
     "name": "stdout",
     "output_type": "stream",
     "text": [
      "Runtime for dbscan_clustering: 0.019639 seconds\n"
     ]
    },
    {
     "name": "stderr",
     "output_type": "stream",
     "text": [
      "c:\\Users\\fionu\\OneDrive\\Dokumente\\Daten Fiona\\AIUB\\Code\\AIUB-Backup\\clustering\\high_dim_analysis.py:138: FutureWarning: \n",
      "\n",
      "Passing `palette` without assigning `hue` is deprecated and will be removed in v0.14.0. Assign the `y` variable to `hue` and set `legend=False` for the same effect.\n",
      "\n",
      "  sns.barplot(x=mi_vals, y=features, palette=\"magma\")\n"
     ]
    },
    {
     "name": "stdout",
     "output_type": "stream",
     "text": [
      "Runtime for dbscan_clustering: 0.019231 seconds\n"
     ]
    },
    {
     "name": "stderr",
     "output_type": "stream",
     "text": [
      "c:\\Users\\fionu\\OneDrive\\Dokumente\\Daten Fiona\\AIUB\\Code\\AIUB-Backup\\clustering\\high_dim_analysis.py:42: FutureWarning: \n",
      "\n",
      "Passing `palette` without assigning `hue` is deprecated and will be removed in v0.14.0. Assign the `y` variable to `hue` and set `legend=False` for the same effect.\n",
      "\n",
      "  sns.barplot(x=f_vals, y=features, palette=\"crest\")\n"
     ]
    },
    {
     "name": "stdout",
     "output_type": "stream",
     "text": [
      "Best DBSCAN parameters based on ANOVA F-value:\n",
      "Year Range                       2010-2013\n",
      "eps                                   0.02\n",
      "min_samples                             30\n",
      "Runtime (s)                          0.055\n",
      "Clusters                                 2\n",
      "Points per Cluster       {0: 43, -1: 1536}\n",
      "Noise Points                          1536\n",
      "Davies-Bouldin                        None\n",
      "Calinski-Harabasz                     None\n",
      "Weighted Mean ANOVA F                  0.0\n",
      "Name: 3, dtype: object\n"
     ]
    },
    {
     "data": {
      "application/vnd.microsoft.datawrangler.viewer.v0+json": {
       "columns": [
        {
         "name": "index",
         "rawType": "int64",
         "type": "integer"
        },
        {
         "name": "Year Range",
         "rawType": "object",
         "type": "string"
        },
        {
         "name": "eps",
         "rawType": "float64",
         "type": "float"
        },
        {
         "name": "min_samples",
         "rawType": "int64",
         "type": "integer"
        },
        {
         "name": "Runtime (s)",
         "rawType": "object",
         "type": "string"
        },
        {
         "name": "Clusters",
         "rawType": "int64",
         "type": "integer"
        },
        {
         "name": "Points per Cluster",
         "rawType": "object",
         "type": "unknown"
        },
        {
         "name": "Noise Points",
         "rawType": "int32",
         "type": "integer"
        },
        {
         "name": "Davies-Bouldin",
         "rawType": "object",
         "type": "unknown"
        },
        {
         "name": "Calinski-Harabasz",
         "rawType": "object",
         "type": "unknown"
        },
        {
         "name": "Weighted Mean ANOVA F",
         "rawType": "float64",
         "type": "float"
        }
       ],
       "ref": "a837d63a-c73f-4627-b3f4-7e0dc312b9ee",
       "rows": [
        [
         "0",
         "2010-2013",
         "0.02",
         "10",
         "0.028",
         "18",
         "{0: 20, 1: 17, 2: 16, 3: 25, 4: 105, 5: 11, 6: 16, 7: 42, 8: 7, 9: 11, 10: 12, 11: 6, 12: 7, 13: 32, 14: 10, 15: 10, 16: 10, -1: 1222}",
         "1222",
         null,
         null,
         null
        ],
        [
         "1",
         "2010-2013",
         "0.02",
         "15",
         "0.019",
         "6",
         "{0: 18, 1: 17, 2: 82, 3: 24, 4: 15, -1: 1423}",
         "1423",
         null,
         null,
         null
        ],
        [
         "2",
         "2010-2013",
         "0.02",
         "25",
         "0.016",
         "2",
         "{0: 66, -1: 1513}",
         "1513",
         null,
         null,
         null
        ],
        [
         "3",
         "2010-2013",
         "0.02",
         "30",
         "0.055",
         "2",
         "{0: 43, -1: 1536}",
         "1536",
         null,
         null,
         "0.0"
        ],
        [
         "4",
         "2010-2013",
         "0.01",
         "10",
         "0.000",
         "4",
         "{0: 12, 1: 14, 2: 10, -1: 1543}",
         "1543",
         null,
         null,
         null
        ],
        [
         "5",
         "2010-2013",
         "0.01",
         "15",
         "0.022",
         "1",
         "{-1: 1579}",
         "1579",
         null,
         null,
         null
        ],
        [
         "6",
         "2010-2013",
         "0.01",
         "25",
         "0.016",
         "1",
         "{-1: 1579}",
         "1579",
         null,
         null,
         null
        ],
        [
         "7",
         "2010-2013",
         "0.01",
         "30",
         "0.018",
         "1",
         "{-1: 1579}",
         "1579",
         null,
         null,
         "0.0"
        ],
        [
         "8",
         "2010-2013",
         "0.015",
         "10",
         "0.016",
         "7",
         "{0: 16, 1: 13, 2: 11, 3: 71, 4: 13, 5: 11, -1: 1444}",
         "1444",
         null,
         null,
         null
        ],
        [
         "9",
         "2010-2013",
         "0.015",
         "15",
         "0.019",
         "2",
         "{0: 49, -1: 1530}",
         "1530",
         null,
         null,
         null
        ],
        [
         "10",
         "2010-2013",
         "0.015",
         "25",
         "0.012",
         "1",
         "{-1: 1579}",
         "1579",
         null,
         null,
         null
        ],
        [
         "11",
         "2010-2013",
         "0.015",
         "30",
         "0.020",
         "1",
         "{-1: 1579}",
         "1579",
         null,
         null,
         "0.0"
        ]
       ],
       "shape": {
        "columns": 10,
        "rows": 12
       }
      },
      "text/html": [
       "<div>\n",
       "<style scoped>\n",
       "    .dataframe tbody tr th:only-of-type {\n",
       "        vertical-align: middle;\n",
       "    }\n",
       "\n",
       "    .dataframe tbody tr th {\n",
       "        vertical-align: top;\n",
       "    }\n",
       "\n",
       "    .dataframe thead th {\n",
       "        text-align: right;\n",
       "    }\n",
       "</style>\n",
       "<table border=\"1\" class=\"dataframe\">\n",
       "  <thead>\n",
       "    <tr style=\"text-align: right;\">\n",
       "      <th></th>\n",
       "      <th>Year Range</th>\n",
       "      <th>eps</th>\n",
       "      <th>min_samples</th>\n",
       "      <th>Runtime (s)</th>\n",
       "      <th>Clusters</th>\n",
       "      <th>Points per Cluster</th>\n",
       "      <th>Noise Points</th>\n",
       "      <th>Davies-Bouldin</th>\n",
       "      <th>Calinski-Harabasz</th>\n",
       "      <th>Weighted Mean ANOVA F</th>\n",
       "    </tr>\n",
       "  </thead>\n",
       "  <tbody>\n",
       "    <tr>\n",
       "      <th>0</th>\n",
       "      <td>2010-2013</td>\n",
       "      <td>0.020</td>\n",
       "      <td>10</td>\n",
       "      <td>0.028</td>\n",
       "      <td>18</td>\n",
       "      <td>{0: 20, 1: 17, 2: 16, 3: 25, 4: 105, 5: 11, 6:...</td>\n",
       "      <td>1222</td>\n",
       "      <td>None</td>\n",
       "      <td>None</td>\n",
       "      <td>NaN</td>\n",
       "    </tr>\n",
       "    <tr>\n",
       "      <th>1</th>\n",
       "      <td>2010-2013</td>\n",
       "      <td>0.020</td>\n",
       "      <td>15</td>\n",
       "      <td>0.019</td>\n",
       "      <td>6</td>\n",
       "      <td>{0: 18, 1: 17, 2: 82, 3: 24, 4: 15, -1: 1423}</td>\n",
       "      <td>1423</td>\n",
       "      <td>None</td>\n",
       "      <td>None</td>\n",
       "      <td>NaN</td>\n",
       "    </tr>\n",
       "    <tr>\n",
       "      <th>2</th>\n",
       "      <td>2010-2013</td>\n",
       "      <td>0.020</td>\n",
       "      <td>25</td>\n",
       "      <td>0.016</td>\n",
       "      <td>2</td>\n",
       "      <td>{0: 66, -1: 1513}</td>\n",
       "      <td>1513</td>\n",
       "      <td>None</td>\n",
       "      <td>None</td>\n",
       "      <td>NaN</td>\n",
       "    </tr>\n",
       "    <tr>\n",
       "      <th>3</th>\n",
       "      <td>2010-2013</td>\n",
       "      <td>0.020</td>\n",
       "      <td>30</td>\n",
       "      <td>0.055</td>\n",
       "      <td>2</td>\n",
       "      <td>{0: 43, -1: 1536}</td>\n",
       "      <td>1536</td>\n",
       "      <td>None</td>\n",
       "      <td>None</td>\n",
       "      <td>0.0</td>\n",
       "    </tr>\n",
       "    <tr>\n",
       "      <th>4</th>\n",
       "      <td>2010-2013</td>\n",
       "      <td>0.010</td>\n",
       "      <td>10</td>\n",
       "      <td>0.000</td>\n",
       "      <td>4</td>\n",
       "      <td>{0: 12, 1: 14, 2: 10, -1: 1543}</td>\n",
       "      <td>1543</td>\n",
       "      <td>None</td>\n",
       "      <td>None</td>\n",
       "      <td>NaN</td>\n",
       "    </tr>\n",
       "    <tr>\n",
       "      <th>5</th>\n",
       "      <td>2010-2013</td>\n",
       "      <td>0.010</td>\n",
       "      <td>15</td>\n",
       "      <td>0.022</td>\n",
       "      <td>1</td>\n",
       "      <td>{-1: 1579}</td>\n",
       "      <td>1579</td>\n",
       "      <td>None</td>\n",
       "      <td>None</td>\n",
       "      <td>NaN</td>\n",
       "    </tr>\n",
       "    <tr>\n",
       "      <th>6</th>\n",
       "      <td>2010-2013</td>\n",
       "      <td>0.010</td>\n",
       "      <td>25</td>\n",
       "      <td>0.016</td>\n",
       "      <td>1</td>\n",
       "      <td>{-1: 1579}</td>\n",
       "      <td>1579</td>\n",
       "      <td>None</td>\n",
       "      <td>None</td>\n",
       "      <td>NaN</td>\n",
       "    </tr>\n",
       "    <tr>\n",
       "      <th>7</th>\n",
       "      <td>2010-2013</td>\n",
       "      <td>0.010</td>\n",
       "      <td>30</td>\n",
       "      <td>0.018</td>\n",
       "      <td>1</td>\n",
       "      <td>{-1: 1579}</td>\n",
       "      <td>1579</td>\n",
       "      <td>None</td>\n",
       "      <td>None</td>\n",
       "      <td>0.0</td>\n",
       "    </tr>\n",
       "    <tr>\n",
       "      <th>8</th>\n",
       "      <td>2010-2013</td>\n",
       "      <td>0.015</td>\n",
       "      <td>10</td>\n",
       "      <td>0.016</td>\n",
       "      <td>7</td>\n",
       "      <td>{0: 16, 1: 13, 2: 11, 3: 71, 4: 13, 5: 11, -1:...</td>\n",
       "      <td>1444</td>\n",
       "      <td>None</td>\n",
       "      <td>None</td>\n",
       "      <td>NaN</td>\n",
       "    </tr>\n",
       "    <tr>\n",
       "      <th>9</th>\n",
       "      <td>2010-2013</td>\n",
       "      <td>0.015</td>\n",
       "      <td>15</td>\n",
       "      <td>0.019</td>\n",
       "      <td>2</td>\n",
       "      <td>{0: 49, -1: 1530}</td>\n",
       "      <td>1530</td>\n",
       "      <td>None</td>\n",
       "      <td>None</td>\n",
       "      <td>NaN</td>\n",
       "    </tr>\n",
       "    <tr>\n",
       "      <th>10</th>\n",
       "      <td>2010-2013</td>\n",
       "      <td>0.015</td>\n",
       "      <td>25</td>\n",
       "      <td>0.012</td>\n",
       "      <td>1</td>\n",
       "      <td>{-1: 1579}</td>\n",
       "      <td>1579</td>\n",
       "      <td>None</td>\n",
       "      <td>None</td>\n",
       "      <td>NaN</td>\n",
       "    </tr>\n",
       "    <tr>\n",
       "      <th>11</th>\n",
       "      <td>2010-2013</td>\n",
       "      <td>0.015</td>\n",
       "      <td>30</td>\n",
       "      <td>0.020</td>\n",
       "      <td>1</td>\n",
       "      <td>{-1: 1579}</td>\n",
       "      <td>1579</td>\n",
       "      <td>None</td>\n",
       "      <td>None</td>\n",
       "      <td>0.0</td>\n",
       "    </tr>\n",
       "  </tbody>\n",
       "</table>\n",
       "</div>"
      ],
      "text/plain": [
       "   Year Range    eps  min_samples Runtime (s)  Clusters  \\\n",
       "0   2010-2013  0.020           10       0.028        18   \n",
       "1   2010-2013  0.020           15       0.019         6   \n",
       "2   2010-2013  0.020           25       0.016         2   \n",
       "3   2010-2013  0.020           30       0.055         2   \n",
       "4   2010-2013  0.010           10       0.000         4   \n",
       "5   2010-2013  0.010           15       0.022         1   \n",
       "6   2010-2013  0.010           25       0.016         1   \n",
       "7   2010-2013  0.010           30       0.018         1   \n",
       "8   2010-2013  0.015           10       0.016         7   \n",
       "9   2010-2013  0.015           15       0.019         2   \n",
       "10  2010-2013  0.015           25       0.012         1   \n",
       "11  2010-2013  0.015           30       0.020         1   \n",
       "\n",
       "                                   Points per Cluster  Noise Points  \\\n",
       "0   {0: 20, 1: 17, 2: 16, 3: 25, 4: 105, 5: 11, 6:...          1222   \n",
       "1       {0: 18, 1: 17, 2: 82, 3: 24, 4: 15, -1: 1423}          1423   \n",
       "2                                   {0: 66, -1: 1513}          1513   \n",
       "3                                   {0: 43, -1: 1536}          1536   \n",
       "4                     {0: 12, 1: 14, 2: 10, -1: 1543}          1543   \n",
       "5                                          {-1: 1579}          1579   \n",
       "6                                          {-1: 1579}          1579   \n",
       "7                                          {-1: 1579}          1579   \n",
       "8   {0: 16, 1: 13, 2: 11, 3: 71, 4: 13, 5: 11, -1:...          1444   \n",
       "9                                   {0: 49, -1: 1530}          1530   \n",
       "10                                         {-1: 1579}          1579   \n",
       "11                                         {-1: 1579}          1579   \n",
       "\n",
       "   Davies-Bouldin Calinski-Harabasz  Weighted Mean ANOVA F  \n",
       "0            None              None                    NaN  \n",
       "1            None              None                    NaN  \n",
       "2            None              None                    NaN  \n",
       "3            None              None                    0.0  \n",
       "4            None              None                    NaN  \n",
       "5            None              None                    NaN  \n",
       "6            None              None                    NaN  \n",
       "7            None              None                    0.0  \n",
       "8            None              None                    NaN  \n",
       "9            None              None                    NaN  \n",
       "10           None              None                    NaN  \n",
       "11           None              None                    0.0  "
      ]
     },
     "metadata": {},
     "output_type": "display_data"
    },
    {
     "name": "stdout",
     "output_type": "stream",
     "text": [
      "\n",
      "Running DBSCAN for Year Range: 2011-2014\n",
      "Runtime for dbscan_clustering: 0.023628 seconds\n"
     ]
    },
    {
     "name": "stderr",
     "output_type": "stream",
     "text": [
      "c:\\Users\\fionu\\OneDrive\\Dokumente\\Daten Fiona\\AIUB\\Code\\AIUB-Backup\\clustering\\high_dim_analysis.py:138: FutureWarning: \n",
      "\n",
      "Passing `palette` without assigning `hue` is deprecated and will be removed in v0.14.0. Assign the `y` variable to `hue` and set `legend=False` for the same effect.\n",
      "\n",
      "  sns.barplot(x=mi_vals, y=features, palette=\"magma\")\n"
     ]
    },
    {
     "name": "stdout",
     "output_type": "stream",
     "text": [
      "Runtime for dbscan_clustering: 0.000000 seconds\n"
     ]
    },
    {
     "name": "stderr",
     "output_type": "stream",
     "text": [
      "c:\\Users\\fionu\\OneDrive\\Dokumente\\Daten Fiona\\AIUB\\Code\\AIUB-Backup\\clustering\\high_dim_analysis.py:138: FutureWarning: \n",
      "\n",
      "Passing `palette` without assigning `hue` is deprecated and will be removed in v0.14.0. Assign the `y` variable to `hue` and set `legend=False` for the same effect.\n",
      "\n",
      "  sns.barplot(x=mi_vals, y=features, palette=\"magma\")\n"
     ]
    },
    {
     "name": "stdout",
     "output_type": "stream",
     "text": [
      "Runtime for dbscan_clustering: 0.004030 seconds\n"
     ]
    },
    {
     "name": "stderr",
     "output_type": "stream",
     "text": [
      "c:\\Users\\fionu\\OneDrive\\Dokumente\\Daten Fiona\\AIUB\\Code\\AIUB-Backup\\clustering\\high_dim_analysis.py:138: FutureWarning: \n",
      "\n",
      "Passing `palette` without assigning `hue` is deprecated and will be removed in v0.14.0. Assign the `y` variable to `hue` and set `legend=False` for the same effect.\n",
      "\n",
      "  sns.barplot(x=mi_vals, y=features, palette=\"magma\")\n"
     ]
    },
    {
     "name": "stdout",
     "output_type": "stream",
     "text": [
      "Runtime for dbscan_clustering: 0.002670 seconds\n"
     ]
    },
    {
     "name": "stderr",
     "output_type": "stream",
     "text": [
      "c:\\Users\\fionu\\OneDrive\\Dokumente\\Daten Fiona\\AIUB\\Code\\AIUB-Backup\\clustering\\high_dim_analysis.py:138: FutureWarning: \n",
      "\n",
      "Passing `palette` without assigning `hue` is deprecated and will be removed in v0.14.0. Assign the `y` variable to `hue` and set `legend=False` for the same effect.\n",
      "\n",
      "  sns.barplot(x=mi_vals, y=features, palette=\"magma\")\n"
     ]
    },
    {
     "name": "stdout",
     "output_type": "stream",
     "text": [
      "Runtime for dbscan_clustering: 0.015807 seconds\n"
     ]
    },
    {
     "name": "stderr",
     "output_type": "stream",
     "text": [
      "c:\\Users\\fionu\\OneDrive\\Dokumente\\Daten Fiona\\AIUB\\Code\\AIUB-Backup\\clustering\\high_dim_analysis.py:138: FutureWarning: \n",
      "\n",
      "Passing `palette` without assigning `hue` is deprecated and will be removed in v0.14.0. Assign the `y` variable to `hue` and set `legend=False` for the same effect.\n",
      "\n",
      "  sns.barplot(x=mi_vals, y=features, palette=\"magma\")\n"
     ]
    },
    {
     "name": "stdout",
     "output_type": "stream",
     "text": [
      "Runtime for dbscan_clustering: 0.000000 seconds\n"
     ]
    },
    {
     "name": "stderr",
     "output_type": "stream",
     "text": [
      "c:\\Users\\fionu\\OneDrive\\Dokumente\\Daten Fiona\\AIUB\\Code\\AIUB-Backup\\clustering\\high_dim_analysis.py:138: FutureWarning: \n",
      "\n",
      "Passing `palette` without assigning `hue` is deprecated and will be removed in v0.14.0. Assign the `y` variable to `hue` and set `legend=False` for the same effect.\n",
      "\n",
      "  sns.barplot(x=mi_vals, y=features, palette=\"magma\")\n"
     ]
    },
    {
     "name": "stdout",
     "output_type": "stream",
     "text": [
      "Runtime for dbscan_clustering: 0.000000 seconds\n"
     ]
    },
    {
     "name": "stderr",
     "output_type": "stream",
     "text": [
      "c:\\Users\\fionu\\OneDrive\\Dokumente\\Daten Fiona\\AIUB\\Code\\AIUB-Backup\\clustering\\high_dim_analysis.py:138: FutureWarning: \n",
      "\n",
      "Passing `palette` without assigning `hue` is deprecated and will be removed in v0.14.0. Assign the `y` variable to `hue` and set `legend=False` for the same effect.\n",
      "\n",
      "  sns.barplot(x=mi_vals, y=features, palette=\"magma\")\n"
     ]
    },
    {
     "name": "stdout",
     "output_type": "stream",
     "text": [
      "Runtime for dbscan_clustering: 0.015929 seconds\n"
     ]
    },
    {
     "name": "stderr",
     "output_type": "stream",
     "text": [
      "c:\\Users\\fionu\\OneDrive\\Dokumente\\Daten Fiona\\AIUB\\Code\\AIUB-Backup\\clustering\\high_dim_analysis.py:138: FutureWarning: \n",
      "\n",
      "Passing `palette` without assigning `hue` is deprecated and will be removed in v0.14.0. Assign the `y` variable to `hue` and set `legend=False` for the same effect.\n",
      "\n",
      "  sns.barplot(x=mi_vals, y=features, palette=\"magma\")\n"
     ]
    },
    {
     "name": "stdout",
     "output_type": "stream",
     "text": [
      "Runtime for dbscan_clustering: 0.009590 seconds\n"
     ]
    },
    {
     "name": "stderr",
     "output_type": "stream",
     "text": [
      "c:\\Users\\fionu\\OneDrive\\Dokumente\\Daten Fiona\\AIUB\\Code\\AIUB-Backup\\clustering\\high_dim_analysis.py:138: FutureWarning: \n",
      "\n",
      "Passing `palette` without assigning `hue` is deprecated and will be removed in v0.14.0. Assign the `y` variable to `hue` and set `legend=False` for the same effect.\n",
      "\n",
      "  sns.barplot(x=mi_vals, y=features, palette=\"magma\")\n"
     ]
    },
    {
     "name": "stdout",
     "output_type": "stream",
     "text": [
      "Runtime for dbscan_clustering: 0.007670 seconds\n"
     ]
    },
    {
     "name": "stderr",
     "output_type": "stream",
     "text": [
      "c:\\Users\\fionu\\OneDrive\\Dokumente\\Daten Fiona\\AIUB\\Code\\AIUB-Backup\\clustering\\high_dim_analysis.py:138: FutureWarning: \n",
      "\n",
      "Passing `palette` without assigning `hue` is deprecated and will be removed in v0.14.0. Assign the `y` variable to `hue` and set `legend=False` for the same effect.\n",
      "\n",
      "  sns.barplot(x=mi_vals, y=features, palette=\"magma\")\n"
     ]
    },
    {
     "name": "stdout",
     "output_type": "stream",
     "text": [
      "Runtime for dbscan_clustering: 0.012521 seconds\n"
     ]
    },
    {
     "name": "stderr",
     "output_type": "stream",
     "text": [
      "c:\\Users\\fionu\\OneDrive\\Dokumente\\Daten Fiona\\AIUB\\Code\\AIUB-Backup\\clustering\\high_dim_analysis.py:138: FutureWarning: \n",
      "\n",
      "Passing `palette` without assigning `hue` is deprecated and will be removed in v0.14.0. Assign the `y` variable to `hue` and set `legend=False` for the same effect.\n",
      "\n",
      "  sns.barplot(x=mi_vals, y=features, palette=\"magma\")\n"
     ]
    },
    {
     "name": "stdout",
     "output_type": "stream",
     "text": [
      "Runtime for dbscan_clustering: 0.000000 seconds\n"
     ]
    },
    {
     "name": "stderr",
     "output_type": "stream",
     "text": [
      "c:\\Users\\fionu\\OneDrive\\Dokumente\\Daten Fiona\\AIUB\\Code\\AIUB-Backup\\clustering\\high_dim_analysis.py:138: FutureWarning: \n",
      "\n",
      "Passing `palette` without assigning `hue` is deprecated and will be removed in v0.14.0. Assign the `y` variable to `hue` and set `legend=False` for the same effect.\n",
      "\n",
      "  sns.barplot(x=mi_vals, y=features, palette=\"magma\")\n"
     ]
    },
    {
     "name": "stdout",
     "output_type": "stream",
     "text": [
      "Runtime for dbscan_clustering: 0.000000 seconds\n",
      "Best DBSCAN parameters based on ANOVA F-value:\n",
      "Year Range               2011-2014\n",
      "eps                           0.02\n",
      "min_samples                     30\n",
      "Runtime (s)                  0.003\n",
      "Clusters                         1\n",
      "Points per Cluster       {-1: 866}\n",
      "Noise Points                   866\n",
      "Davies-Bouldin                None\n",
      "Calinski-Harabasz             None\n",
      "Weighted Mean ANOVA F          0.0\n",
      "Name: 3, dtype: object\n"
     ]
    },
    {
     "name": "stderr",
     "output_type": "stream",
     "text": [
      "c:\\Users\\fionu\\anaconda3\\Lib\\site-packages\\sklearn\\feature_selection\\_univariate_selection.py:108: RuntimeWarning: invalid value encountered in divide\n",
      "  msb = ssbn / float(dfbn)\n",
      "c:\\Users\\fionu\\OneDrive\\Dokumente\\Daten Fiona\\AIUB\\Code\\AIUB-Backup\\clustering\\high_dim_analysis.py:42: FutureWarning: \n",
      "\n",
      "Passing `palette` without assigning `hue` is deprecated and will be removed in v0.14.0. Assign the `y` variable to `hue` and set `legend=False` for the same effect.\n",
      "\n",
      "  sns.barplot(x=f_vals, y=features, palette=\"crest\")\n"
     ]
    },
    {
     "data": {
      "application/vnd.microsoft.datawrangler.viewer.v0+json": {
       "columns": [
        {
         "name": "index",
         "rawType": "int64",
         "type": "integer"
        },
        {
         "name": "Year Range",
         "rawType": "object",
         "type": "string"
        },
        {
         "name": "eps",
         "rawType": "float64",
         "type": "float"
        },
        {
         "name": "min_samples",
         "rawType": "int64",
         "type": "integer"
        },
        {
         "name": "Runtime (s)",
         "rawType": "object",
         "type": "string"
        },
        {
         "name": "Clusters",
         "rawType": "int64",
         "type": "integer"
        },
        {
         "name": "Points per Cluster",
         "rawType": "object",
         "type": "unknown"
        },
        {
         "name": "Noise Points",
         "rawType": "int32",
         "type": "integer"
        },
        {
         "name": "Davies-Bouldin",
         "rawType": "object",
         "type": "unknown"
        },
        {
         "name": "Calinski-Harabasz",
         "rawType": "object",
         "type": "unknown"
        },
        {
         "name": "Weighted Mean ANOVA F",
         "rawType": "float64",
         "type": "float"
        }
       ],
       "ref": "615f9823-25a5-4bc6-aa94-16727fbdcf3d",
       "rows": [
        [
         "0",
         "2011-2014",
         "0.02",
         "10",
         "0.024",
         "4",
         "{0: 20, 1: 10, 2: 11, -1: 825}",
         "825",
         null,
         null,
         null
        ],
        [
         "1",
         "2011-2014",
         "0.02",
         "15",
         "0.000",
         "2",
         "{0: 15, -1: 851}",
         "851",
         null,
         null,
         null
        ],
        [
         "2",
         "2011-2014",
         "0.02",
         "25",
         "0.004",
         "1",
         "{-1: 866}",
         "866",
         null,
         null,
         null
        ],
        [
         "3",
         "2011-2014",
         "0.02",
         "30",
         "0.003",
         "1",
         "{-1: 866}",
         "866",
         null,
         null,
         "0.0"
        ],
        [
         "4",
         "2011-2014",
         "0.01",
         "10",
         "0.016",
         "1",
         "{-1: 866}",
         "866",
         null,
         null,
         null
        ],
        [
         "5",
         "2011-2014",
         "0.01",
         "15",
         "0.000",
         "1",
         "{-1: 866}",
         "866",
         null,
         null,
         null
        ],
        [
         "6",
         "2011-2014",
         "0.01",
         "25",
         "0.000",
         "1",
         "{-1: 866}",
         "866",
         null,
         null,
         null
        ],
        [
         "7",
         "2011-2014",
         "0.01",
         "30",
         "0.016",
         "1",
         "{-1: 866}",
         "866",
         null,
         null,
         "0.0"
        ],
        [
         "8",
         "2011-2014",
         "0.015",
         "10",
         "0.010",
         "2",
         "{0: 14, -1: 852}",
         "852",
         null,
         null,
         null
        ],
        [
         "9",
         "2011-2014",
         "0.015",
         "15",
         "0.008",
         "1",
         "{-1: 866}",
         "866",
         null,
         null,
         null
        ],
        [
         "10",
         "2011-2014",
         "0.015",
         "25",
         "0.013",
         "1",
         "{-1: 866}",
         "866",
         null,
         null,
         null
        ],
        [
         "11",
         "2011-2014",
         "0.015",
         "30",
         "0.000",
         "1",
         "{-1: 866}",
         "866",
         null,
         null,
         "0.0"
        ]
       ],
       "shape": {
        "columns": 10,
        "rows": 12
       }
      },
      "text/html": [
       "<div>\n",
       "<style scoped>\n",
       "    .dataframe tbody tr th:only-of-type {\n",
       "        vertical-align: middle;\n",
       "    }\n",
       "\n",
       "    .dataframe tbody tr th {\n",
       "        vertical-align: top;\n",
       "    }\n",
       "\n",
       "    .dataframe thead th {\n",
       "        text-align: right;\n",
       "    }\n",
       "</style>\n",
       "<table border=\"1\" class=\"dataframe\">\n",
       "  <thead>\n",
       "    <tr style=\"text-align: right;\">\n",
       "      <th></th>\n",
       "      <th>Year Range</th>\n",
       "      <th>eps</th>\n",
       "      <th>min_samples</th>\n",
       "      <th>Runtime (s)</th>\n",
       "      <th>Clusters</th>\n",
       "      <th>Points per Cluster</th>\n",
       "      <th>Noise Points</th>\n",
       "      <th>Davies-Bouldin</th>\n",
       "      <th>Calinski-Harabasz</th>\n",
       "      <th>Weighted Mean ANOVA F</th>\n",
       "    </tr>\n",
       "  </thead>\n",
       "  <tbody>\n",
       "    <tr>\n",
       "      <th>0</th>\n",
       "      <td>2011-2014</td>\n",
       "      <td>0.020</td>\n",
       "      <td>10</td>\n",
       "      <td>0.024</td>\n",
       "      <td>4</td>\n",
       "      <td>{0: 20, 1: 10, 2: 11, -1: 825}</td>\n",
       "      <td>825</td>\n",
       "      <td>None</td>\n",
       "      <td>None</td>\n",
       "      <td>NaN</td>\n",
       "    </tr>\n",
       "    <tr>\n",
       "      <th>1</th>\n",
       "      <td>2011-2014</td>\n",
       "      <td>0.020</td>\n",
       "      <td>15</td>\n",
       "      <td>0.000</td>\n",
       "      <td>2</td>\n",
       "      <td>{0: 15, -1: 851}</td>\n",
       "      <td>851</td>\n",
       "      <td>None</td>\n",
       "      <td>None</td>\n",
       "      <td>NaN</td>\n",
       "    </tr>\n",
       "    <tr>\n",
       "      <th>2</th>\n",
       "      <td>2011-2014</td>\n",
       "      <td>0.020</td>\n",
       "      <td>25</td>\n",
       "      <td>0.004</td>\n",
       "      <td>1</td>\n",
       "      <td>{-1: 866}</td>\n",
       "      <td>866</td>\n",
       "      <td>None</td>\n",
       "      <td>None</td>\n",
       "      <td>NaN</td>\n",
       "    </tr>\n",
       "    <tr>\n",
       "      <th>3</th>\n",
       "      <td>2011-2014</td>\n",
       "      <td>0.020</td>\n",
       "      <td>30</td>\n",
       "      <td>0.003</td>\n",
       "      <td>1</td>\n",
       "      <td>{-1: 866}</td>\n",
       "      <td>866</td>\n",
       "      <td>None</td>\n",
       "      <td>None</td>\n",
       "      <td>0.0</td>\n",
       "    </tr>\n",
       "    <tr>\n",
       "      <th>4</th>\n",
       "      <td>2011-2014</td>\n",
       "      <td>0.010</td>\n",
       "      <td>10</td>\n",
       "      <td>0.016</td>\n",
       "      <td>1</td>\n",
       "      <td>{-1: 866}</td>\n",
       "      <td>866</td>\n",
       "      <td>None</td>\n",
       "      <td>None</td>\n",
       "      <td>NaN</td>\n",
       "    </tr>\n",
       "    <tr>\n",
       "      <th>5</th>\n",
       "      <td>2011-2014</td>\n",
       "      <td>0.010</td>\n",
       "      <td>15</td>\n",
       "      <td>0.000</td>\n",
       "      <td>1</td>\n",
       "      <td>{-1: 866}</td>\n",
       "      <td>866</td>\n",
       "      <td>None</td>\n",
       "      <td>None</td>\n",
       "      <td>NaN</td>\n",
       "    </tr>\n",
       "    <tr>\n",
       "      <th>6</th>\n",
       "      <td>2011-2014</td>\n",
       "      <td>0.010</td>\n",
       "      <td>25</td>\n",
       "      <td>0.000</td>\n",
       "      <td>1</td>\n",
       "      <td>{-1: 866}</td>\n",
       "      <td>866</td>\n",
       "      <td>None</td>\n",
       "      <td>None</td>\n",
       "      <td>NaN</td>\n",
       "    </tr>\n",
       "    <tr>\n",
       "      <th>7</th>\n",
       "      <td>2011-2014</td>\n",
       "      <td>0.010</td>\n",
       "      <td>30</td>\n",
       "      <td>0.016</td>\n",
       "      <td>1</td>\n",
       "      <td>{-1: 866}</td>\n",
       "      <td>866</td>\n",
       "      <td>None</td>\n",
       "      <td>None</td>\n",
       "      <td>0.0</td>\n",
       "    </tr>\n",
       "    <tr>\n",
       "      <th>8</th>\n",
       "      <td>2011-2014</td>\n",
       "      <td>0.015</td>\n",
       "      <td>10</td>\n",
       "      <td>0.010</td>\n",
       "      <td>2</td>\n",
       "      <td>{0: 14, -1: 852}</td>\n",
       "      <td>852</td>\n",
       "      <td>None</td>\n",
       "      <td>None</td>\n",
       "      <td>NaN</td>\n",
       "    </tr>\n",
       "    <tr>\n",
       "      <th>9</th>\n",
       "      <td>2011-2014</td>\n",
       "      <td>0.015</td>\n",
       "      <td>15</td>\n",
       "      <td>0.008</td>\n",
       "      <td>1</td>\n",
       "      <td>{-1: 866}</td>\n",
       "      <td>866</td>\n",
       "      <td>None</td>\n",
       "      <td>None</td>\n",
       "      <td>NaN</td>\n",
       "    </tr>\n",
       "    <tr>\n",
       "      <th>10</th>\n",
       "      <td>2011-2014</td>\n",
       "      <td>0.015</td>\n",
       "      <td>25</td>\n",
       "      <td>0.013</td>\n",
       "      <td>1</td>\n",
       "      <td>{-1: 866}</td>\n",
       "      <td>866</td>\n",
       "      <td>None</td>\n",
       "      <td>None</td>\n",
       "      <td>NaN</td>\n",
       "    </tr>\n",
       "    <tr>\n",
       "      <th>11</th>\n",
       "      <td>2011-2014</td>\n",
       "      <td>0.015</td>\n",
       "      <td>30</td>\n",
       "      <td>0.000</td>\n",
       "      <td>1</td>\n",
       "      <td>{-1: 866}</td>\n",
       "      <td>866</td>\n",
       "      <td>None</td>\n",
       "      <td>None</td>\n",
       "      <td>0.0</td>\n",
       "    </tr>\n",
       "  </tbody>\n",
       "</table>\n",
       "</div>"
      ],
      "text/plain": [
       "   Year Range    eps  min_samples Runtime (s)  Clusters  \\\n",
       "0   2011-2014  0.020           10       0.024         4   \n",
       "1   2011-2014  0.020           15       0.000         2   \n",
       "2   2011-2014  0.020           25       0.004         1   \n",
       "3   2011-2014  0.020           30       0.003         1   \n",
       "4   2011-2014  0.010           10       0.016         1   \n",
       "5   2011-2014  0.010           15       0.000         1   \n",
       "6   2011-2014  0.010           25       0.000         1   \n",
       "7   2011-2014  0.010           30       0.016         1   \n",
       "8   2011-2014  0.015           10       0.010         2   \n",
       "9   2011-2014  0.015           15       0.008         1   \n",
       "10  2011-2014  0.015           25       0.013         1   \n",
       "11  2011-2014  0.015           30       0.000         1   \n",
       "\n",
       "                Points per Cluster  Noise Points Davies-Bouldin  \\\n",
       "0   {0: 20, 1: 10, 2: 11, -1: 825}           825           None   \n",
       "1                 {0: 15, -1: 851}           851           None   \n",
       "2                        {-1: 866}           866           None   \n",
       "3                        {-1: 866}           866           None   \n",
       "4                        {-1: 866}           866           None   \n",
       "5                        {-1: 866}           866           None   \n",
       "6                        {-1: 866}           866           None   \n",
       "7                        {-1: 866}           866           None   \n",
       "8                 {0: 14, -1: 852}           852           None   \n",
       "9                        {-1: 866}           866           None   \n",
       "10                       {-1: 866}           866           None   \n",
       "11                       {-1: 866}           866           None   \n",
       "\n",
       "   Calinski-Harabasz  Weighted Mean ANOVA F  \n",
       "0               None                    NaN  \n",
       "1               None                    NaN  \n",
       "2               None                    NaN  \n",
       "3               None                    0.0  \n",
       "4               None                    NaN  \n",
       "5               None                    NaN  \n",
       "6               None                    NaN  \n",
       "7               None                    0.0  \n",
       "8               None                    NaN  \n",
       "9               None                    NaN  \n",
       "10              None                    NaN  \n",
       "11              None                    0.0  "
      ]
     },
     "metadata": {},
     "output_type": "display_data"
    },
    {
     "name": "stdout",
     "output_type": "stream",
     "text": [
      "\n",
      "Running DBSCAN for Year Range: 2012-2015\n",
      "Runtime for dbscan_clustering: 0.000000 seconds\n"
     ]
    },
    {
     "name": "stderr",
     "output_type": "stream",
     "text": [
      "c:\\Users\\fionu\\OneDrive\\Dokumente\\Daten Fiona\\AIUB\\Code\\AIUB-Backup\\clustering\\high_dim_analysis.py:138: FutureWarning: \n",
      "\n",
      "Passing `palette` without assigning `hue` is deprecated and will be removed in v0.14.0. Assign the `y` variable to `hue` and set `legend=False` for the same effect.\n",
      "\n",
      "  sns.barplot(x=mi_vals, y=features, palette=\"magma\")\n"
     ]
    },
    {
     "name": "stdout",
     "output_type": "stream",
     "text": [
      "Runtime for dbscan_clustering: 0.000000 seconds\n"
     ]
    },
    {
     "name": "stderr",
     "output_type": "stream",
     "text": [
      "c:\\Users\\fionu\\OneDrive\\Dokumente\\Daten Fiona\\AIUB\\Code\\AIUB-Backup\\clustering\\high_dim_analysis.py:138: FutureWarning: \n",
      "\n",
      "Passing `palette` without assigning `hue` is deprecated and will be removed in v0.14.0. Assign the `y` variable to `hue` and set `legend=False` for the same effect.\n",
      "\n",
      "  sns.barplot(x=mi_vals, y=features, palette=\"magma\")\n"
     ]
    },
    {
     "name": "stdout",
     "output_type": "stream",
     "text": [
      "Runtime for dbscan_clustering: 0.002370 seconds\n"
     ]
    },
    {
     "name": "stderr",
     "output_type": "stream",
     "text": [
      "c:\\Users\\fionu\\OneDrive\\Dokumente\\Daten Fiona\\AIUB\\Code\\AIUB-Backup\\clustering\\high_dim_analysis.py:138: FutureWarning: \n",
      "\n",
      "Passing `palette` without assigning `hue` is deprecated and will be removed in v0.14.0. Assign the `y` variable to `hue` and set `legend=False` for the same effect.\n",
      "\n",
      "  sns.barplot(x=mi_vals, y=features, palette=\"magma\")\n"
     ]
    },
    {
     "name": "stdout",
     "output_type": "stream",
     "text": [
      "Runtime for dbscan_clustering: 0.000000 seconds\n"
     ]
    },
    {
     "name": "stderr",
     "output_type": "stream",
     "text": [
      "c:\\Users\\fionu\\OneDrive\\Dokumente\\Daten Fiona\\AIUB\\Code\\AIUB-Backup\\clustering\\high_dim_analysis.py:138: FutureWarning: \n",
      "\n",
      "Passing `palette` without assigning `hue` is deprecated and will be removed in v0.14.0. Assign the `y` variable to `hue` and set `legend=False` for the same effect.\n",
      "\n",
      "  sns.barplot(x=mi_vals, y=features, palette=\"magma\")\n"
     ]
    },
    {
     "name": "stdout",
     "output_type": "stream",
     "text": [
      "Runtime for dbscan_clustering: 0.016577 seconds\n"
     ]
    },
    {
     "name": "stderr",
     "output_type": "stream",
     "text": [
      "c:\\Users\\fionu\\OneDrive\\Dokumente\\Daten Fiona\\AIUB\\Code\\AIUB-Backup\\clustering\\high_dim_analysis.py:138: FutureWarning: \n",
      "\n",
      "Passing `palette` without assigning `hue` is deprecated and will be removed in v0.14.0. Assign the `y` variable to `hue` and set `legend=False` for the same effect.\n",
      "\n",
      "  sns.barplot(x=mi_vals, y=features, palette=\"magma\")\n"
     ]
    },
    {
     "name": "stdout",
     "output_type": "stream",
     "text": [
      "Runtime for dbscan_clustering: 0.000392 seconds\n"
     ]
    },
    {
     "name": "stderr",
     "output_type": "stream",
     "text": [
      "c:\\Users\\fionu\\OneDrive\\Dokumente\\Daten Fiona\\AIUB\\Code\\AIUB-Backup\\clustering\\high_dim_analysis.py:138: FutureWarning: \n",
      "\n",
      "Passing `palette` without assigning `hue` is deprecated and will be removed in v0.14.0. Assign the `y` variable to `hue` and set `legend=False` for the same effect.\n",
      "\n",
      "  sns.barplot(x=mi_vals, y=features, palette=\"magma\")\n"
     ]
    },
    {
     "name": "stdout",
     "output_type": "stream",
     "text": [
      "Runtime for dbscan_clustering: 0.016602 seconds\n"
     ]
    },
    {
     "name": "stderr",
     "output_type": "stream",
     "text": [
      "c:\\Users\\fionu\\OneDrive\\Dokumente\\Daten Fiona\\AIUB\\Code\\AIUB-Backup\\clustering\\high_dim_analysis.py:138: FutureWarning: \n",
      "\n",
      "Passing `palette` without assigning `hue` is deprecated and will be removed in v0.14.0. Assign the `y` variable to `hue` and set `legend=False` for the same effect.\n",
      "\n",
      "  sns.barplot(x=mi_vals, y=features, palette=\"magma\")\n"
     ]
    },
    {
     "name": "stdout",
     "output_type": "stream",
     "text": [
      "Runtime for dbscan_clustering: 0.000000 seconds\n"
     ]
    },
    {
     "name": "stderr",
     "output_type": "stream",
     "text": [
      "c:\\Users\\fionu\\OneDrive\\Dokumente\\Daten Fiona\\AIUB\\Code\\AIUB-Backup\\clustering\\high_dim_analysis.py:138: FutureWarning: \n",
      "\n",
      "Passing `palette` without assigning `hue` is deprecated and will be removed in v0.14.0. Assign the `y` variable to `hue` and set `legend=False` for the same effect.\n",
      "\n",
      "  sns.barplot(x=mi_vals, y=features, palette=\"magma\")\n"
     ]
    },
    {
     "name": "stdout",
     "output_type": "stream",
     "text": [
      "Runtime for dbscan_clustering: 0.016294 seconds\n"
     ]
    },
    {
     "name": "stderr",
     "output_type": "stream",
     "text": [
      "c:\\Users\\fionu\\OneDrive\\Dokumente\\Daten Fiona\\AIUB\\Code\\AIUB-Backup\\clustering\\high_dim_analysis.py:138: FutureWarning: \n",
      "\n",
      "Passing `palette` without assigning `hue` is deprecated and will be removed in v0.14.0. Assign the `y` variable to `hue` and set `legend=False` for the same effect.\n",
      "\n",
      "  sns.barplot(x=mi_vals, y=features, palette=\"magma\")\n"
     ]
    },
    {
     "name": "stdout",
     "output_type": "stream",
     "text": [
      "Runtime for dbscan_clustering: 0.000941 seconds\n"
     ]
    },
    {
     "name": "stderr",
     "output_type": "stream",
     "text": [
      "c:\\Users\\fionu\\OneDrive\\Dokumente\\Daten Fiona\\AIUB\\Code\\AIUB-Backup\\clustering\\high_dim_analysis.py:138: FutureWarning: \n",
      "\n",
      "Passing `palette` without assigning `hue` is deprecated and will be removed in v0.14.0. Assign the `y` variable to `hue` and set `legend=False` for the same effect.\n",
      "\n",
      "  sns.barplot(x=mi_vals, y=features, palette=\"magma\")\n"
     ]
    },
    {
     "name": "stdout",
     "output_type": "stream",
     "text": [
      "Runtime for dbscan_clustering: 0.000000 seconds\n"
     ]
    },
    {
     "name": "stderr",
     "output_type": "stream",
     "text": [
      "c:\\Users\\fionu\\OneDrive\\Dokumente\\Daten Fiona\\AIUB\\Code\\AIUB-Backup\\clustering\\high_dim_analysis.py:138: FutureWarning: \n",
      "\n",
      "Passing `palette` without assigning `hue` is deprecated and will be removed in v0.14.0. Assign the `y` variable to `hue` and set `legend=False` for the same effect.\n",
      "\n",
      "  sns.barplot(x=mi_vals, y=features, palette=\"magma\")\n"
     ]
    },
    {
     "name": "stdout",
     "output_type": "stream",
     "text": [
      "Runtime for dbscan_clustering: 0.000000 seconds\n"
     ]
    },
    {
     "name": "stderr",
     "output_type": "stream",
     "text": [
      "c:\\Users\\fionu\\OneDrive\\Dokumente\\Daten Fiona\\AIUB\\Code\\AIUB-Backup\\clustering\\high_dim_analysis.py:138: FutureWarning: \n",
      "\n",
      "Passing `palette` without assigning `hue` is deprecated and will be removed in v0.14.0. Assign the `y` variable to `hue` and set `legend=False` for the same effect.\n",
      "\n",
      "  sns.barplot(x=mi_vals, y=features, palette=\"magma\")\n"
     ]
    },
    {
     "name": "stdout",
     "output_type": "stream",
     "text": [
      "Runtime for dbscan_clustering: 0.001281 seconds\n",
      "Best DBSCAN parameters based on ANOVA F-value:\n",
      "Year Range               2012-2015\n",
      "eps                           0.02\n",
      "min_samples                     30\n",
      "Runtime (s)                  0.000\n",
      "Clusters                         1\n",
      "Points per Cluster       {-1: 870}\n",
      "Noise Points                   870\n",
      "Davies-Bouldin                None\n",
      "Calinski-Harabasz             None\n",
      "Weighted Mean ANOVA F          0.0\n",
      "Name: 3, dtype: object\n"
     ]
    },
    {
     "name": "stderr",
     "output_type": "stream",
     "text": [
      "c:\\Users\\fionu\\anaconda3\\Lib\\site-packages\\sklearn\\feature_selection\\_univariate_selection.py:108: RuntimeWarning: invalid value encountered in divide\n",
      "  msb = ssbn / float(dfbn)\n",
      "c:\\Users\\fionu\\OneDrive\\Dokumente\\Daten Fiona\\AIUB\\Code\\AIUB-Backup\\clustering\\high_dim_analysis.py:42: FutureWarning: \n",
      "\n",
      "Passing `palette` without assigning `hue` is deprecated and will be removed in v0.14.0. Assign the `y` variable to `hue` and set `legend=False` for the same effect.\n",
      "\n",
      "  sns.barplot(x=f_vals, y=features, palette=\"crest\")\n"
     ]
    },
    {
     "data": {
      "application/vnd.microsoft.datawrangler.viewer.v0+json": {
       "columns": [
        {
         "name": "index",
         "rawType": "int64",
         "type": "integer"
        },
        {
         "name": "Year Range",
         "rawType": "object",
         "type": "string"
        },
        {
         "name": "eps",
         "rawType": "float64",
         "type": "float"
        },
        {
         "name": "min_samples",
         "rawType": "int64",
         "type": "integer"
        },
        {
         "name": "Runtime (s)",
         "rawType": "object",
         "type": "string"
        },
        {
         "name": "Clusters",
         "rawType": "int64",
         "type": "integer"
        },
        {
         "name": "Points per Cluster",
         "rawType": "object",
         "type": "unknown"
        },
        {
         "name": "Noise Points",
         "rawType": "int32",
         "type": "integer"
        },
        {
         "name": "Davies-Bouldin",
         "rawType": "object",
         "type": "unknown"
        },
        {
         "name": "Calinski-Harabasz",
         "rawType": "object",
         "type": "unknown"
        },
        {
         "name": "Weighted Mean ANOVA F",
         "rawType": "float64",
         "type": "float"
        }
       ],
       "ref": "851f5c87-6ee9-4ecf-8142-3a234047385a",
       "rows": [
        [
         "0",
         "2012-2015",
         "0.02",
         "10",
         "0.000",
         "1",
         "{-1: 870}",
         "870",
         null,
         null,
         null
        ],
        [
         "1",
         "2012-2015",
         "0.02",
         "15",
         "0.000",
         "1",
         "{-1: 870}",
         "870",
         null,
         null,
         null
        ],
        [
         "2",
         "2012-2015",
         "0.02",
         "25",
         "0.002",
         "1",
         "{-1: 870}",
         "870",
         null,
         null,
         null
        ],
        [
         "3",
         "2012-2015",
         "0.02",
         "30",
         "0.000",
         "1",
         "{-1: 870}",
         "870",
         null,
         null,
         "0.0"
        ],
        [
         "4",
         "2012-2015",
         "0.01",
         "10",
         "0.017",
         "1",
         "{-1: 870}",
         "870",
         null,
         null,
         null
        ],
        [
         "5",
         "2012-2015",
         "0.01",
         "15",
         "0.000",
         "1",
         "{-1: 870}",
         "870",
         null,
         null,
         null
        ],
        [
         "6",
         "2012-2015",
         "0.01",
         "25",
         "0.017",
         "1",
         "{-1: 870}",
         "870",
         null,
         null,
         null
        ],
        [
         "7",
         "2012-2015",
         "0.01",
         "30",
         "0.000",
         "1",
         "{-1: 870}",
         "870",
         null,
         null,
         "0.0"
        ],
        [
         "8",
         "2012-2015",
         "0.015",
         "10",
         "0.016",
         "1",
         "{-1: 870}",
         "870",
         null,
         null,
         null
        ],
        [
         "9",
         "2012-2015",
         "0.015",
         "15",
         "0.001",
         "1",
         "{-1: 870}",
         "870",
         null,
         null,
         null
        ],
        [
         "10",
         "2012-2015",
         "0.015",
         "25",
         "0.000",
         "1",
         "{-1: 870}",
         "870",
         null,
         null,
         null
        ],
        [
         "11",
         "2012-2015",
         "0.015",
         "30",
         "0.000",
         "1",
         "{-1: 870}",
         "870",
         null,
         null,
         "0.0"
        ]
       ],
       "shape": {
        "columns": 10,
        "rows": 12
       }
      },
      "text/html": [
       "<div>\n",
       "<style scoped>\n",
       "    .dataframe tbody tr th:only-of-type {\n",
       "        vertical-align: middle;\n",
       "    }\n",
       "\n",
       "    .dataframe tbody tr th {\n",
       "        vertical-align: top;\n",
       "    }\n",
       "\n",
       "    .dataframe thead th {\n",
       "        text-align: right;\n",
       "    }\n",
       "</style>\n",
       "<table border=\"1\" class=\"dataframe\">\n",
       "  <thead>\n",
       "    <tr style=\"text-align: right;\">\n",
       "      <th></th>\n",
       "      <th>Year Range</th>\n",
       "      <th>eps</th>\n",
       "      <th>min_samples</th>\n",
       "      <th>Runtime (s)</th>\n",
       "      <th>Clusters</th>\n",
       "      <th>Points per Cluster</th>\n",
       "      <th>Noise Points</th>\n",
       "      <th>Davies-Bouldin</th>\n",
       "      <th>Calinski-Harabasz</th>\n",
       "      <th>Weighted Mean ANOVA F</th>\n",
       "    </tr>\n",
       "  </thead>\n",
       "  <tbody>\n",
       "    <tr>\n",
       "      <th>0</th>\n",
       "      <td>2012-2015</td>\n",
       "      <td>0.020</td>\n",
       "      <td>10</td>\n",
       "      <td>0.000</td>\n",
       "      <td>1</td>\n",
       "      <td>{-1: 870}</td>\n",
       "      <td>870</td>\n",
       "      <td>None</td>\n",
       "      <td>None</td>\n",
       "      <td>NaN</td>\n",
       "    </tr>\n",
       "    <tr>\n",
       "      <th>1</th>\n",
       "      <td>2012-2015</td>\n",
       "      <td>0.020</td>\n",
       "      <td>15</td>\n",
       "      <td>0.000</td>\n",
       "      <td>1</td>\n",
       "      <td>{-1: 870}</td>\n",
       "      <td>870</td>\n",
       "      <td>None</td>\n",
       "      <td>None</td>\n",
       "      <td>NaN</td>\n",
       "    </tr>\n",
       "    <tr>\n",
       "      <th>2</th>\n",
       "      <td>2012-2015</td>\n",
       "      <td>0.020</td>\n",
       "      <td>25</td>\n",
       "      <td>0.002</td>\n",
       "      <td>1</td>\n",
       "      <td>{-1: 870}</td>\n",
       "      <td>870</td>\n",
       "      <td>None</td>\n",
       "      <td>None</td>\n",
       "      <td>NaN</td>\n",
       "    </tr>\n",
       "    <tr>\n",
       "      <th>3</th>\n",
       "      <td>2012-2015</td>\n",
       "      <td>0.020</td>\n",
       "      <td>30</td>\n",
       "      <td>0.000</td>\n",
       "      <td>1</td>\n",
       "      <td>{-1: 870}</td>\n",
       "      <td>870</td>\n",
       "      <td>None</td>\n",
       "      <td>None</td>\n",
       "      <td>0.0</td>\n",
       "    </tr>\n",
       "    <tr>\n",
       "      <th>4</th>\n",
       "      <td>2012-2015</td>\n",
       "      <td>0.010</td>\n",
       "      <td>10</td>\n",
       "      <td>0.017</td>\n",
       "      <td>1</td>\n",
       "      <td>{-1: 870}</td>\n",
       "      <td>870</td>\n",
       "      <td>None</td>\n",
       "      <td>None</td>\n",
       "      <td>NaN</td>\n",
       "    </tr>\n",
       "    <tr>\n",
       "      <th>5</th>\n",
       "      <td>2012-2015</td>\n",
       "      <td>0.010</td>\n",
       "      <td>15</td>\n",
       "      <td>0.000</td>\n",
       "      <td>1</td>\n",
       "      <td>{-1: 870}</td>\n",
       "      <td>870</td>\n",
       "      <td>None</td>\n",
       "      <td>None</td>\n",
       "      <td>NaN</td>\n",
       "    </tr>\n",
       "    <tr>\n",
       "      <th>6</th>\n",
       "      <td>2012-2015</td>\n",
       "      <td>0.010</td>\n",
       "      <td>25</td>\n",
       "      <td>0.017</td>\n",
       "      <td>1</td>\n",
       "      <td>{-1: 870}</td>\n",
       "      <td>870</td>\n",
       "      <td>None</td>\n",
       "      <td>None</td>\n",
       "      <td>NaN</td>\n",
       "    </tr>\n",
       "    <tr>\n",
       "      <th>7</th>\n",
       "      <td>2012-2015</td>\n",
       "      <td>0.010</td>\n",
       "      <td>30</td>\n",
       "      <td>0.000</td>\n",
       "      <td>1</td>\n",
       "      <td>{-1: 870}</td>\n",
       "      <td>870</td>\n",
       "      <td>None</td>\n",
       "      <td>None</td>\n",
       "      <td>0.0</td>\n",
       "    </tr>\n",
       "    <tr>\n",
       "      <th>8</th>\n",
       "      <td>2012-2015</td>\n",
       "      <td>0.015</td>\n",
       "      <td>10</td>\n",
       "      <td>0.016</td>\n",
       "      <td>1</td>\n",
       "      <td>{-1: 870}</td>\n",
       "      <td>870</td>\n",
       "      <td>None</td>\n",
       "      <td>None</td>\n",
       "      <td>NaN</td>\n",
       "    </tr>\n",
       "    <tr>\n",
       "      <th>9</th>\n",
       "      <td>2012-2015</td>\n",
       "      <td>0.015</td>\n",
       "      <td>15</td>\n",
       "      <td>0.001</td>\n",
       "      <td>1</td>\n",
       "      <td>{-1: 870}</td>\n",
       "      <td>870</td>\n",
       "      <td>None</td>\n",
       "      <td>None</td>\n",
       "      <td>NaN</td>\n",
       "    </tr>\n",
       "    <tr>\n",
       "      <th>10</th>\n",
       "      <td>2012-2015</td>\n",
       "      <td>0.015</td>\n",
       "      <td>25</td>\n",
       "      <td>0.000</td>\n",
       "      <td>1</td>\n",
       "      <td>{-1: 870}</td>\n",
       "      <td>870</td>\n",
       "      <td>None</td>\n",
       "      <td>None</td>\n",
       "      <td>NaN</td>\n",
       "    </tr>\n",
       "    <tr>\n",
       "      <th>11</th>\n",
       "      <td>2012-2015</td>\n",
       "      <td>0.015</td>\n",
       "      <td>30</td>\n",
       "      <td>0.000</td>\n",
       "      <td>1</td>\n",
       "      <td>{-1: 870}</td>\n",
       "      <td>870</td>\n",
       "      <td>None</td>\n",
       "      <td>None</td>\n",
       "      <td>0.0</td>\n",
       "    </tr>\n",
       "  </tbody>\n",
       "</table>\n",
       "</div>"
      ],
      "text/plain": [
       "   Year Range    eps  min_samples Runtime (s)  Clusters Points per Cluster  \\\n",
       "0   2012-2015  0.020           10       0.000         1          {-1: 870}   \n",
       "1   2012-2015  0.020           15       0.000         1          {-1: 870}   \n",
       "2   2012-2015  0.020           25       0.002         1          {-1: 870}   \n",
       "3   2012-2015  0.020           30       0.000         1          {-1: 870}   \n",
       "4   2012-2015  0.010           10       0.017         1          {-1: 870}   \n",
       "5   2012-2015  0.010           15       0.000         1          {-1: 870}   \n",
       "6   2012-2015  0.010           25       0.017         1          {-1: 870}   \n",
       "7   2012-2015  0.010           30       0.000         1          {-1: 870}   \n",
       "8   2012-2015  0.015           10       0.016         1          {-1: 870}   \n",
       "9   2012-2015  0.015           15       0.001         1          {-1: 870}   \n",
       "10  2012-2015  0.015           25       0.000         1          {-1: 870}   \n",
       "11  2012-2015  0.015           30       0.000         1          {-1: 870}   \n",
       "\n",
       "    Noise Points Davies-Bouldin Calinski-Harabasz  Weighted Mean ANOVA F  \n",
       "0            870           None              None                    NaN  \n",
       "1            870           None              None                    NaN  \n",
       "2            870           None              None                    NaN  \n",
       "3            870           None              None                    0.0  \n",
       "4            870           None              None                    NaN  \n",
       "5            870           None              None                    NaN  \n",
       "6            870           None              None                    NaN  \n",
       "7            870           None              None                    0.0  \n",
       "8            870           None              None                    NaN  \n",
       "9            870           None              None                    NaN  \n",
       "10           870           None              None                    NaN  \n",
       "11           870           None              None                    0.0  "
      ]
     },
     "metadata": {},
     "output_type": "display_data"
    },
    {
     "name": "stdout",
     "output_type": "stream",
     "text": [
      "\n",
      "Running DBSCAN for Year Range: 2013-2016\n",
      "Runtime for dbscan_clustering: 0.000000 seconds\n"
     ]
    },
    {
     "name": "stderr",
     "output_type": "stream",
     "text": [
      "c:\\Users\\fionu\\OneDrive\\Dokumente\\Daten Fiona\\AIUB\\Code\\AIUB-Backup\\clustering\\high_dim_analysis.py:138: FutureWarning: \n",
      "\n",
      "Passing `palette` without assigning `hue` is deprecated and will be removed in v0.14.0. Assign the `y` variable to `hue` and set `legend=False` for the same effect.\n",
      "\n",
      "  sns.barplot(x=mi_vals, y=features, palette=\"magma\")\n"
     ]
    },
    {
     "name": "stdout",
     "output_type": "stream",
     "text": [
      "Runtime for dbscan_clustering: 0.000000 seconds\n"
     ]
    },
    {
     "name": "stderr",
     "output_type": "stream",
     "text": [
      "c:\\Users\\fionu\\OneDrive\\Dokumente\\Daten Fiona\\AIUB\\Code\\AIUB-Backup\\clustering\\high_dim_analysis.py:138: FutureWarning: \n",
      "\n",
      "Passing `palette` without assigning `hue` is deprecated and will be removed in v0.14.0. Assign the `y` variable to `hue` and set `legend=False` for the same effect.\n",
      "\n",
      "  sns.barplot(x=mi_vals, y=features, palette=\"magma\")\n"
     ]
    },
    {
     "name": "stdout",
     "output_type": "stream",
     "text": [
      "Runtime for dbscan_clustering: 0.000000 seconds\n"
     ]
    },
    {
     "name": "stderr",
     "output_type": "stream",
     "text": [
      "c:\\Users\\fionu\\OneDrive\\Dokumente\\Daten Fiona\\AIUB\\Code\\AIUB-Backup\\clustering\\high_dim_analysis.py:138: FutureWarning: \n",
      "\n",
      "Passing `palette` without assigning `hue` is deprecated and will be removed in v0.14.0. Assign the `y` variable to `hue` and set `legend=False` for the same effect.\n",
      "\n",
      "  sns.barplot(x=mi_vals, y=features, palette=\"magma\")\n"
     ]
    },
    {
     "name": "stdout",
     "output_type": "stream",
     "text": [
      "Runtime for dbscan_clustering: 0.000000 seconds\n"
     ]
    },
    {
     "name": "stderr",
     "output_type": "stream",
     "text": [
      "c:\\Users\\fionu\\OneDrive\\Dokumente\\Daten Fiona\\AIUB\\Code\\AIUB-Backup\\clustering\\high_dim_analysis.py:138: FutureWarning: \n",
      "\n",
      "Passing `palette` without assigning `hue` is deprecated and will be removed in v0.14.0. Assign the `y` variable to `hue` and set `legend=False` for the same effect.\n",
      "\n",
      "  sns.barplot(x=mi_vals, y=features, palette=\"magma\")\n"
     ]
    },
    {
     "name": "stdout",
     "output_type": "stream",
     "text": [
      "Runtime for dbscan_clustering: 0.017756 seconds\n"
     ]
    },
    {
     "name": "stderr",
     "output_type": "stream",
     "text": [
      "c:\\Users\\fionu\\OneDrive\\Dokumente\\Daten Fiona\\AIUB\\Code\\AIUB-Backup\\clustering\\high_dim_analysis.py:138: FutureWarning: \n",
      "\n",
      "Passing `palette` without assigning `hue` is deprecated and will be removed in v0.14.0. Assign the `y` variable to `hue` and set `legend=False` for the same effect.\n",
      "\n",
      "  sns.barplot(x=mi_vals, y=features, palette=\"magma\")\n"
     ]
    },
    {
     "name": "stdout",
     "output_type": "stream",
     "text": [
      "Runtime for dbscan_clustering: 0.000000 seconds\n"
     ]
    },
    {
     "name": "stderr",
     "output_type": "stream",
     "text": [
      "c:\\Users\\fionu\\OneDrive\\Dokumente\\Daten Fiona\\AIUB\\Code\\AIUB-Backup\\clustering\\high_dim_analysis.py:138: FutureWarning: \n",
      "\n",
      "Passing `palette` without assigning `hue` is deprecated and will be removed in v0.14.0. Assign the `y` variable to `hue` and set `legend=False` for the same effect.\n",
      "\n",
      "  sns.barplot(x=mi_vals, y=features, palette=\"magma\")\n"
     ]
    },
    {
     "name": "stdout",
     "output_type": "stream",
     "text": [
      "Runtime for dbscan_clustering: 0.000000 seconds\n"
     ]
    },
    {
     "name": "stderr",
     "output_type": "stream",
     "text": [
      "c:\\Users\\fionu\\OneDrive\\Dokumente\\Daten Fiona\\AIUB\\Code\\AIUB-Backup\\clustering\\high_dim_analysis.py:138: FutureWarning: \n",
      "\n",
      "Passing `palette` without assigning `hue` is deprecated and will be removed in v0.14.0. Assign the `y` variable to `hue` and set `legend=False` for the same effect.\n",
      "\n",
      "  sns.barplot(x=mi_vals, y=features, palette=\"magma\")\n"
     ]
    },
    {
     "name": "stdout",
     "output_type": "stream",
     "text": [
      "Runtime for dbscan_clustering: 0.000000 seconds\n"
     ]
    },
    {
     "name": "stderr",
     "output_type": "stream",
     "text": [
      "c:\\Users\\fionu\\OneDrive\\Dokumente\\Daten Fiona\\AIUB\\Code\\AIUB-Backup\\clustering\\high_dim_analysis.py:138: FutureWarning: \n",
      "\n",
      "Passing `palette` without assigning `hue` is deprecated and will be removed in v0.14.0. Assign the `y` variable to `hue` and set `legend=False` for the same effect.\n",
      "\n",
      "  sns.barplot(x=mi_vals, y=features, palette=\"magma\")\n"
     ]
    },
    {
     "name": "stdout",
     "output_type": "stream",
     "text": [
      "Runtime for dbscan_clustering: 0.016968 seconds\n"
     ]
    },
    {
     "name": "stderr",
     "output_type": "stream",
     "text": [
      "c:\\Users\\fionu\\OneDrive\\Dokumente\\Daten Fiona\\AIUB\\Code\\AIUB-Backup\\clustering\\high_dim_analysis.py:138: FutureWarning: \n",
      "\n",
      "Passing `palette` without assigning `hue` is deprecated and will be removed in v0.14.0. Assign the `y` variable to `hue` and set `legend=False` for the same effect.\n",
      "\n",
      "  sns.barplot(x=mi_vals, y=features, palette=\"magma\")\n"
     ]
    },
    {
     "name": "stdout",
     "output_type": "stream",
     "text": [
      "Runtime for dbscan_clustering: 0.016829 seconds\n"
     ]
    },
    {
     "name": "stderr",
     "output_type": "stream",
     "text": [
      "c:\\Users\\fionu\\OneDrive\\Dokumente\\Daten Fiona\\AIUB\\Code\\AIUB-Backup\\clustering\\high_dim_analysis.py:138: FutureWarning: \n",
      "\n",
      "Passing `palette` without assigning `hue` is deprecated and will be removed in v0.14.0. Assign the `y` variable to `hue` and set `legend=False` for the same effect.\n",
      "\n",
      "  sns.barplot(x=mi_vals, y=features, palette=\"magma\")\n"
     ]
    },
    {
     "name": "stdout",
     "output_type": "stream",
     "text": [
      "Runtime for dbscan_clustering: 0.016584 seconds\n"
     ]
    },
    {
     "name": "stderr",
     "output_type": "stream",
     "text": [
      "c:\\Users\\fionu\\OneDrive\\Dokumente\\Daten Fiona\\AIUB\\Code\\AIUB-Backup\\clustering\\high_dim_analysis.py:138: FutureWarning: \n",
      "\n",
      "Passing `palette` without assigning `hue` is deprecated and will be removed in v0.14.0. Assign the `y` variable to `hue` and set `legend=False` for the same effect.\n",
      "\n",
      "  sns.barplot(x=mi_vals, y=features, palette=\"magma\")\n"
     ]
    },
    {
     "name": "stdout",
     "output_type": "stream",
     "text": [
      "Runtime for dbscan_clustering: 0.012160 seconds\n"
     ]
    },
    {
     "name": "stderr",
     "output_type": "stream",
     "text": [
      "c:\\Users\\fionu\\OneDrive\\Dokumente\\Daten Fiona\\AIUB\\Code\\AIUB-Backup\\clustering\\high_dim_analysis.py:138: FutureWarning: \n",
      "\n",
      "Passing `palette` without assigning `hue` is deprecated and will be removed in v0.14.0. Assign the `y` variable to `hue` and set `legend=False` for the same effect.\n",
      "\n",
      "  sns.barplot(x=mi_vals, y=features, palette=\"magma\")\n"
     ]
    },
    {
     "name": "stdout",
     "output_type": "stream",
     "text": [
      "Runtime for dbscan_clustering: 0.012100 seconds\n"
     ]
    },
    {
     "name": "stderr",
     "output_type": "stream",
     "text": [
      "c:\\Users\\fionu\\OneDrive\\Dokumente\\Daten Fiona\\AIUB\\Code\\AIUB-Backup\\clustering\\high_dim_analysis.py:42: FutureWarning: \n",
      "\n",
      "Passing `palette` without assigning `hue` is deprecated and will be removed in v0.14.0. Assign the `y` variable to `hue` and set `legend=False` for the same effect.\n",
      "\n",
      "  sns.barplot(x=f_vals, y=features, palette=\"crest\")\n"
     ]
    },
    {
     "name": "stdout",
     "output_type": "stream",
     "text": [
      "Best DBSCAN parameters based on ANOVA F-value:\n",
      "Year Range                        2013-2016\n",
      "eps                                    0.02\n",
      "min_samples                              30\n",
      "Runtime (s)                           0.000\n",
      "Clusters                                  2\n",
      "Points per Cluster       {0: 138, -1: 1189}\n",
      "Noise Points                           1189\n",
      "Davies-Bouldin                         None\n",
      "Calinski-Harabasz                      None\n",
      "Weighted Mean ANOVA F                   0.0\n",
      "Name: 3, dtype: object\n"
     ]
    },
    {
     "data": {
      "application/vnd.microsoft.datawrangler.viewer.v0+json": {
       "columns": [
        {
         "name": "index",
         "rawType": "int64",
         "type": "integer"
        },
        {
         "name": "Year Range",
         "rawType": "object",
         "type": "string"
        },
        {
         "name": "eps",
         "rawType": "float64",
         "type": "float"
        },
        {
         "name": "min_samples",
         "rawType": "int64",
         "type": "integer"
        },
        {
         "name": "Runtime (s)",
         "rawType": "object",
         "type": "string"
        },
        {
         "name": "Clusters",
         "rawType": "int64",
         "type": "integer"
        },
        {
         "name": "Points per Cluster",
         "rawType": "object",
         "type": "unknown"
        },
        {
         "name": "Noise Points",
         "rawType": "int32",
         "type": "integer"
        },
        {
         "name": "Davies-Bouldin",
         "rawType": "object",
         "type": "unknown"
        },
        {
         "name": "Calinski-Harabasz",
         "rawType": "object",
         "type": "unknown"
        },
        {
         "name": "Weighted Mean ANOVA F",
         "rawType": "float64",
         "type": "float"
        }
       ],
       "ref": "5ee58a04-a6d3-45b5-bf3e-1aac2d8ec99e",
       "rows": [
        [
         "0",
         "2013-2016",
         "0.02",
         "10",
         "0.000",
         "4",
         "{0: 16, 1: 142, 2: 24, -1: 1145}",
         "1145",
         null,
         null,
         null
        ],
        [
         "1",
         "2013-2016",
         "0.02",
         "15",
         "0.000",
         "3",
         "{0: 142, 1: 23, -1: 1162}",
         "1162",
         null,
         null,
         null
        ],
        [
         "2",
         "2013-2016",
         "0.02",
         "25",
         "0.000",
         "2",
         "{0: 138, -1: 1189}",
         "1189",
         null,
         null,
         null
        ],
        [
         "3",
         "2013-2016",
         "0.02",
         "30",
         "0.000",
         "2",
         "{0: 138, -1: 1189}",
         "1189",
         null,
         null,
         "0.0"
        ],
        [
         "4",
         "2013-2016",
         "0.01",
         "10",
         "0.018",
         "2",
         "{0: 134, -1: 1193}",
         "1193",
         null,
         null,
         null
        ],
        [
         "5",
         "2013-2016",
         "0.01",
         "15",
         "0.000",
         "2",
         "{0: 124, -1: 1203}",
         "1203",
         null,
         null,
         null
        ],
        [
         "6",
         "2013-2016",
         "0.01",
         "25",
         "0.000",
         "2",
         "{0: 123, -1: 1204}",
         "1204",
         null,
         null,
         null
        ],
        [
         "7",
         "2013-2016",
         "0.01",
         "30",
         "0.000",
         "2",
         "{0: 120, -1: 1207}",
         "1207",
         null,
         null,
         "0.0"
        ],
        [
         "8",
         "2013-2016",
         "0.015",
         "10",
         "0.017",
         "3",
         "{0: 141, 1: 18, -1: 1168}",
         "1168",
         null,
         null,
         null
        ],
        [
         "9",
         "2013-2016",
         "0.015",
         "15",
         "0.017",
         "3",
         "{0: 138, 1: 15, -1: 1174}",
         "1174",
         null,
         null,
         null
        ],
        [
         "10",
         "2013-2016",
         "0.015",
         "25",
         "0.017",
         "2",
         "{0: 135, -1: 1192}",
         "1192",
         null,
         null,
         null
        ],
        [
         "11",
         "2013-2016",
         "0.015",
         "30",
         "0.012",
         "2",
         "{0: 132, -1: 1195}",
         "1195",
         null,
         null,
         "0.0"
        ]
       ],
       "shape": {
        "columns": 10,
        "rows": 12
       }
      },
      "text/html": [
       "<div>\n",
       "<style scoped>\n",
       "    .dataframe tbody tr th:only-of-type {\n",
       "        vertical-align: middle;\n",
       "    }\n",
       "\n",
       "    .dataframe tbody tr th {\n",
       "        vertical-align: top;\n",
       "    }\n",
       "\n",
       "    .dataframe thead th {\n",
       "        text-align: right;\n",
       "    }\n",
       "</style>\n",
       "<table border=\"1\" class=\"dataframe\">\n",
       "  <thead>\n",
       "    <tr style=\"text-align: right;\">\n",
       "      <th></th>\n",
       "      <th>Year Range</th>\n",
       "      <th>eps</th>\n",
       "      <th>min_samples</th>\n",
       "      <th>Runtime (s)</th>\n",
       "      <th>Clusters</th>\n",
       "      <th>Points per Cluster</th>\n",
       "      <th>Noise Points</th>\n",
       "      <th>Davies-Bouldin</th>\n",
       "      <th>Calinski-Harabasz</th>\n",
       "      <th>Weighted Mean ANOVA F</th>\n",
       "    </tr>\n",
       "  </thead>\n",
       "  <tbody>\n",
       "    <tr>\n",
       "      <th>0</th>\n",
       "      <td>2013-2016</td>\n",
       "      <td>0.020</td>\n",
       "      <td>10</td>\n",
       "      <td>0.000</td>\n",
       "      <td>4</td>\n",
       "      <td>{0: 16, 1: 142, 2: 24, -1: 1145}</td>\n",
       "      <td>1145</td>\n",
       "      <td>None</td>\n",
       "      <td>None</td>\n",
       "      <td>NaN</td>\n",
       "    </tr>\n",
       "    <tr>\n",
       "      <th>1</th>\n",
       "      <td>2013-2016</td>\n",
       "      <td>0.020</td>\n",
       "      <td>15</td>\n",
       "      <td>0.000</td>\n",
       "      <td>3</td>\n",
       "      <td>{0: 142, 1: 23, -1: 1162}</td>\n",
       "      <td>1162</td>\n",
       "      <td>None</td>\n",
       "      <td>None</td>\n",
       "      <td>NaN</td>\n",
       "    </tr>\n",
       "    <tr>\n",
       "      <th>2</th>\n",
       "      <td>2013-2016</td>\n",
       "      <td>0.020</td>\n",
       "      <td>25</td>\n",
       "      <td>0.000</td>\n",
       "      <td>2</td>\n",
       "      <td>{0: 138, -1: 1189}</td>\n",
       "      <td>1189</td>\n",
       "      <td>None</td>\n",
       "      <td>None</td>\n",
       "      <td>NaN</td>\n",
       "    </tr>\n",
       "    <tr>\n",
       "      <th>3</th>\n",
       "      <td>2013-2016</td>\n",
       "      <td>0.020</td>\n",
       "      <td>30</td>\n",
       "      <td>0.000</td>\n",
       "      <td>2</td>\n",
       "      <td>{0: 138, -1: 1189}</td>\n",
       "      <td>1189</td>\n",
       "      <td>None</td>\n",
       "      <td>None</td>\n",
       "      <td>0.0</td>\n",
       "    </tr>\n",
       "    <tr>\n",
       "      <th>4</th>\n",
       "      <td>2013-2016</td>\n",
       "      <td>0.010</td>\n",
       "      <td>10</td>\n",
       "      <td>0.018</td>\n",
       "      <td>2</td>\n",
       "      <td>{0: 134, -1: 1193}</td>\n",
       "      <td>1193</td>\n",
       "      <td>None</td>\n",
       "      <td>None</td>\n",
       "      <td>NaN</td>\n",
       "    </tr>\n",
       "    <tr>\n",
       "      <th>5</th>\n",
       "      <td>2013-2016</td>\n",
       "      <td>0.010</td>\n",
       "      <td>15</td>\n",
       "      <td>0.000</td>\n",
       "      <td>2</td>\n",
       "      <td>{0: 124, -1: 1203}</td>\n",
       "      <td>1203</td>\n",
       "      <td>None</td>\n",
       "      <td>None</td>\n",
       "      <td>NaN</td>\n",
       "    </tr>\n",
       "    <tr>\n",
       "      <th>6</th>\n",
       "      <td>2013-2016</td>\n",
       "      <td>0.010</td>\n",
       "      <td>25</td>\n",
       "      <td>0.000</td>\n",
       "      <td>2</td>\n",
       "      <td>{0: 123, -1: 1204}</td>\n",
       "      <td>1204</td>\n",
       "      <td>None</td>\n",
       "      <td>None</td>\n",
       "      <td>NaN</td>\n",
       "    </tr>\n",
       "    <tr>\n",
       "      <th>7</th>\n",
       "      <td>2013-2016</td>\n",
       "      <td>0.010</td>\n",
       "      <td>30</td>\n",
       "      <td>0.000</td>\n",
       "      <td>2</td>\n",
       "      <td>{0: 120, -1: 1207}</td>\n",
       "      <td>1207</td>\n",
       "      <td>None</td>\n",
       "      <td>None</td>\n",
       "      <td>0.0</td>\n",
       "    </tr>\n",
       "    <tr>\n",
       "      <th>8</th>\n",
       "      <td>2013-2016</td>\n",
       "      <td>0.015</td>\n",
       "      <td>10</td>\n",
       "      <td>0.017</td>\n",
       "      <td>3</td>\n",
       "      <td>{0: 141, 1: 18, -1: 1168}</td>\n",
       "      <td>1168</td>\n",
       "      <td>None</td>\n",
       "      <td>None</td>\n",
       "      <td>NaN</td>\n",
       "    </tr>\n",
       "    <tr>\n",
       "      <th>9</th>\n",
       "      <td>2013-2016</td>\n",
       "      <td>0.015</td>\n",
       "      <td>15</td>\n",
       "      <td>0.017</td>\n",
       "      <td>3</td>\n",
       "      <td>{0: 138, 1: 15, -1: 1174}</td>\n",
       "      <td>1174</td>\n",
       "      <td>None</td>\n",
       "      <td>None</td>\n",
       "      <td>NaN</td>\n",
       "    </tr>\n",
       "    <tr>\n",
       "      <th>10</th>\n",
       "      <td>2013-2016</td>\n",
       "      <td>0.015</td>\n",
       "      <td>25</td>\n",
       "      <td>0.017</td>\n",
       "      <td>2</td>\n",
       "      <td>{0: 135, -1: 1192}</td>\n",
       "      <td>1192</td>\n",
       "      <td>None</td>\n",
       "      <td>None</td>\n",
       "      <td>NaN</td>\n",
       "    </tr>\n",
       "    <tr>\n",
       "      <th>11</th>\n",
       "      <td>2013-2016</td>\n",
       "      <td>0.015</td>\n",
       "      <td>30</td>\n",
       "      <td>0.012</td>\n",
       "      <td>2</td>\n",
       "      <td>{0: 132, -1: 1195}</td>\n",
       "      <td>1195</td>\n",
       "      <td>None</td>\n",
       "      <td>None</td>\n",
       "      <td>0.0</td>\n",
       "    </tr>\n",
       "  </tbody>\n",
       "</table>\n",
       "</div>"
      ],
      "text/plain": [
       "   Year Range    eps  min_samples Runtime (s)  Clusters  \\\n",
       "0   2013-2016  0.020           10       0.000         4   \n",
       "1   2013-2016  0.020           15       0.000         3   \n",
       "2   2013-2016  0.020           25       0.000         2   \n",
       "3   2013-2016  0.020           30       0.000         2   \n",
       "4   2013-2016  0.010           10       0.018         2   \n",
       "5   2013-2016  0.010           15       0.000         2   \n",
       "6   2013-2016  0.010           25       0.000         2   \n",
       "7   2013-2016  0.010           30       0.000         2   \n",
       "8   2013-2016  0.015           10       0.017         3   \n",
       "9   2013-2016  0.015           15       0.017         3   \n",
       "10  2013-2016  0.015           25       0.017         2   \n",
       "11  2013-2016  0.015           30       0.012         2   \n",
       "\n",
       "                  Points per Cluster  Noise Points Davies-Bouldin  \\\n",
       "0   {0: 16, 1: 142, 2: 24, -1: 1145}          1145           None   \n",
       "1          {0: 142, 1: 23, -1: 1162}          1162           None   \n",
       "2                 {0: 138, -1: 1189}          1189           None   \n",
       "3                 {0: 138, -1: 1189}          1189           None   \n",
       "4                 {0: 134, -1: 1193}          1193           None   \n",
       "5                 {0: 124, -1: 1203}          1203           None   \n",
       "6                 {0: 123, -1: 1204}          1204           None   \n",
       "7                 {0: 120, -1: 1207}          1207           None   \n",
       "8          {0: 141, 1: 18, -1: 1168}          1168           None   \n",
       "9          {0: 138, 1: 15, -1: 1174}          1174           None   \n",
       "10                {0: 135, -1: 1192}          1192           None   \n",
       "11                {0: 132, -1: 1195}          1195           None   \n",
       "\n",
       "   Calinski-Harabasz  Weighted Mean ANOVA F  \n",
       "0               None                    NaN  \n",
       "1               None                    NaN  \n",
       "2               None                    NaN  \n",
       "3               None                    0.0  \n",
       "4               None                    NaN  \n",
       "5               None                    NaN  \n",
       "6               None                    NaN  \n",
       "7               None                    0.0  \n",
       "8               None                    NaN  \n",
       "9               None                    NaN  \n",
       "10              None                    NaN  \n",
       "11              None                    0.0  "
      ]
     },
     "metadata": {},
     "output_type": "display_data"
    },
    {
     "name": "stdout",
     "output_type": "stream",
     "text": [
      "\n",
      "Running DBSCAN for Year Range: 2014-2017\n",
      "Runtime for dbscan_clustering: 0.015365 seconds\n"
     ]
    },
    {
     "name": "stderr",
     "output_type": "stream",
     "text": [
      "c:\\Users\\fionu\\OneDrive\\Dokumente\\Daten Fiona\\AIUB\\Code\\AIUB-Backup\\clustering\\high_dim_analysis.py:138: FutureWarning: \n",
      "\n",
      "Passing `palette` without assigning `hue` is deprecated and will be removed in v0.14.0. Assign the `y` variable to `hue` and set `legend=False` for the same effect.\n",
      "\n",
      "  sns.barplot(x=mi_vals, y=features, palette=\"magma\")\n"
     ]
    },
    {
     "name": "stdout",
     "output_type": "stream",
     "text": [
      "Runtime for dbscan_clustering: 0.000000 seconds\n"
     ]
    },
    {
     "name": "stderr",
     "output_type": "stream",
     "text": [
      "c:\\Users\\fionu\\OneDrive\\Dokumente\\Daten Fiona\\AIUB\\Code\\AIUB-Backup\\clustering\\high_dim_analysis.py:138: FutureWarning: \n",
      "\n",
      "Passing `palette` without assigning `hue` is deprecated and will be removed in v0.14.0. Assign the `y` variable to `hue` and set `legend=False` for the same effect.\n",
      "\n",
      "  sns.barplot(x=mi_vals, y=features, palette=\"magma\")\n"
     ]
    },
    {
     "name": "stdout",
     "output_type": "stream",
     "text": [
      "Runtime for dbscan_clustering: 0.000000 seconds\n"
     ]
    },
    {
     "name": "stderr",
     "output_type": "stream",
     "text": [
      "c:\\Users\\fionu\\OneDrive\\Dokumente\\Daten Fiona\\AIUB\\Code\\AIUB-Backup\\clustering\\high_dim_analysis.py:138: FutureWarning: \n",
      "\n",
      "Passing `palette` without assigning `hue` is deprecated and will be removed in v0.14.0. Assign the `y` variable to `hue` and set `legend=False` for the same effect.\n",
      "\n",
      "  sns.barplot(x=mi_vals, y=features, palette=\"magma\")\n"
     ]
    },
    {
     "name": "stdout",
     "output_type": "stream",
     "text": [
      "Runtime for dbscan_clustering: 0.017097 seconds\n"
     ]
    },
    {
     "name": "stderr",
     "output_type": "stream",
     "text": [
      "c:\\Users\\fionu\\OneDrive\\Dokumente\\Daten Fiona\\AIUB\\Code\\AIUB-Backup\\clustering\\high_dim_analysis.py:138: FutureWarning: \n",
      "\n",
      "Passing `palette` without assigning `hue` is deprecated and will be removed in v0.14.0. Assign the `y` variable to `hue` and set `legend=False` for the same effect.\n",
      "\n",
      "  sns.barplot(x=mi_vals, y=features, palette=\"magma\")\n"
     ]
    },
    {
     "name": "stdout",
     "output_type": "stream",
     "text": [
      "Runtime for dbscan_clustering: 0.015861 seconds\n"
     ]
    },
    {
     "name": "stderr",
     "output_type": "stream",
     "text": [
      "c:\\Users\\fionu\\OneDrive\\Dokumente\\Daten Fiona\\AIUB\\Code\\AIUB-Backup\\clustering\\high_dim_analysis.py:138: FutureWarning: \n",
      "\n",
      "Passing `palette` without assigning `hue` is deprecated and will be removed in v0.14.0. Assign the `y` variable to `hue` and set `legend=False` for the same effect.\n",
      "\n",
      "  sns.barplot(x=mi_vals, y=features, palette=\"magma\")\n"
     ]
    },
    {
     "name": "stdout",
     "output_type": "stream",
     "text": [
      "Runtime for dbscan_clustering: 0.005692 seconds\n"
     ]
    },
    {
     "name": "stderr",
     "output_type": "stream",
     "text": [
      "c:\\Users\\fionu\\OneDrive\\Dokumente\\Daten Fiona\\AIUB\\Code\\AIUB-Backup\\clustering\\high_dim_analysis.py:138: FutureWarning: \n",
      "\n",
      "Passing `palette` without assigning `hue` is deprecated and will be removed in v0.14.0. Assign the `y` variable to `hue` and set `legend=False` for the same effect.\n",
      "\n",
      "  sns.barplot(x=mi_vals, y=features, palette=\"magma\")\n"
     ]
    },
    {
     "name": "stdout",
     "output_type": "stream",
     "text": [
      "Runtime for dbscan_clustering: 0.016602 seconds\n"
     ]
    },
    {
     "name": "stderr",
     "output_type": "stream",
     "text": [
      "c:\\Users\\fionu\\OneDrive\\Dokumente\\Daten Fiona\\AIUB\\Code\\AIUB-Backup\\clustering\\high_dim_analysis.py:138: FutureWarning: \n",
      "\n",
      "Passing `palette` without assigning `hue` is deprecated and will be removed in v0.14.0. Assign the `y` variable to `hue` and set `legend=False` for the same effect.\n",
      "\n",
      "  sns.barplot(x=mi_vals, y=features, palette=\"magma\")\n"
     ]
    },
    {
     "name": "stdout",
     "output_type": "stream",
     "text": [
      "Runtime for dbscan_clustering: 0.000000 seconds\n"
     ]
    },
    {
     "name": "stderr",
     "output_type": "stream",
     "text": [
      "c:\\Users\\fionu\\OneDrive\\Dokumente\\Daten Fiona\\AIUB\\Code\\AIUB-Backup\\clustering\\high_dim_analysis.py:138: FutureWarning: \n",
      "\n",
      "Passing `palette` without assigning `hue` is deprecated and will be removed in v0.14.0. Assign the `y` variable to `hue` and set `legend=False` for the same effect.\n",
      "\n",
      "  sns.barplot(x=mi_vals, y=features, palette=\"magma\")\n"
     ]
    },
    {
     "name": "stdout",
     "output_type": "stream",
     "text": [
      "Runtime for dbscan_clustering: 0.000000 seconds\n"
     ]
    },
    {
     "name": "stderr",
     "output_type": "stream",
     "text": [
      "c:\\Users\\fionu\\OneDrive\\Dokumente\\Daten Fiona\\AIUB\\Code\\AIUB-Backup\\clustering\\high_dim_analysis.py:138: FutureWarning: \n",
      "\n",
      "Passing `palette` without assigning `hue` is deprecated and will be removed in v0.14.0. Assign the `y` variable to `hue` and set `legend=False` for the same effect.\n",
      "\n",
      "  sns.barplot(x=mi_vals, y=features, palette=\"magma\")\n"
     ]
    },
    {
     "name": "stdout",
     "output_type": "stream",
     "text": [
      "Runtime for dbscan_clustering: 0.012635 seconds\n"
     ]
    },
    {
     "name": "stderr",
     "output_type": "stream",
     "text": [
      "c:\\Users\\fionu\\OneDrive\\Dokumente\\Daten Fiona\\AIUB\\Code\\AIUB-Backup\\clustering\\high_dim_analysis.py:138: FutureWarning: \n",
      "\n",
      "Passing `palette` without assigning `hue` is deprecated and will be removed in v0.14.0. Assign the `y` variable to `hue` and set `legend=False` for the same effect.\n",
      "\n",
      "  sns.barplot(x=mi_vals, y=features, palette=\"magma\")\n"
     ]
    },
    {
     "name": "stdout",
     "output_type": "stream",
     "text": [
      "Runtime for dbscan_clustering: 0.014083 seconds\n"
     ]
    },
    {
     "name": "stderr",
     "output_type": "stream",
     "text": [
      "c:\\Users\\fionu\\OneDrive\\Dokumente\\Daten Fiona\\AIUB\\Code\\AIUB-Backup\\clustering\\high_dim_analysis.py:138: FutureWarning: \n",
      "\n",
      "Passing `palette` without assigning `hue` is deprecated and will be removed in v0.14.0. Assign the `y` variable to `hue` and set `legend=False` for the same effect.\n",
      "\n",
      "  sns.barplot(x=mi_vals, y=features, palette=\"magma\")\n"
     ]
    },
    {
     "name": "stdout",
     "output_type": "stream",
     "text": [
      "Runtime for dbscan_clustering: 0.000000 seconds\n"
     ]
    },
    {
     "name": "stderr",
     "output_type": "stream",
     "text": [
      "c:\\Users\\fionu\\OneDrive\\Dokumente\\Daten Fiona\\AIUB\\Code\\AIUB-Backup\\clustering\\high_dim_analysis.py:138: FutureWarning: \n",
      "\n",
      "Passing `palette` without assigning `hue` is deprecated and will be removed in v0.14.0. Assign the `y` variable to `hue` and set `legend=False` for the same effect.\n",
      "\n",
      "  sns.barplot(x=mi_vals, y=features, palette=\"magma\")\n"
     ]
    },
    {
     "name": "stdout",
     "output_type": "stream",
     "text": [
      "Runtime for dbscan_clustering: 0.000000 seconds\n",
      "Best DBSCAN parameters based on ANOVA F-value:\n",
      "Year Range                               2014-2017\n",
      "eps                                          0.015\n",
      "min_samples                                     30\n",
      "Runtime (s)                                  0.000\n",
      "Clusters                                         3\n",
      "Points per Cluster       {0: 132, 1: 74, -1: 1691}\n",
      "Noise Points                                  1691\n",
      "Davies-Bouldin                                None\n",
      "Calinski-Harabasz                             None\n",
      "Weighted Mean ANOVA F                    10209.325\n",
      "Name: 11, dtype: object\n"
     ]
    },
    {
     "name": "stderr",
     "output_type": "stream",
     "text": [
      "c:\\Users\\fionu\\OneDrive\\Dokumente\\Daten Fiona\\AIUB\\Code\\AIUB-Backup\\clustering\\high_dim_analysis.py:42: FutureWarning: \n",
      "\n",
      "Passing `palette` without assigning `hue` is deprecated and will be removed in v0.14.0. Assign the `y` variable to `hue` and set `legend=False` for the same effect.\n",
      "\n",
      "  sns.barplot(x=f_vals, y=features, palette=\"crest\")\n"
     ]
    },
    {
     "data": {
      "application/vnd.microsoft.datawrangler.viewer.v0+json": {
       "columns": [
        {
         "name": "index",
         "rawType": "int64",
         "type": "integer"
        },
        {
         "name": "Year Range",
         "rawType": "object",
         "type": "string"
        },
        {
         "name": "eps",
         "rawType": "float64",
         "type": "float"
        },
        {
         "name": "min_samples",
         "rawType": "int64",
         "type": "integer"
        },
        {
         "name": "Runtime (s)",
         "rawType": "object",
         "type": "string"
        },
        {
         "name": "Clusters",
         "rawType": "int64",
         "type": "integer"
        },
        {
         "name": "Points per Cluster",
         "rawType": "object",
         "type": "unknown"
        },
        {
         "name": "Noise Points",
         "rawType": "int32",
         "type": "integer"
        },
        {
         "name": "Davies-Bouldin",
         "rawType": "object",
         "type": "unknown"
        },
        {
         "name": "Calinski-Harabasz",
         "rawType": "object",
         "type": "unknown"
        },
        {
         "name": "Weighted Mean ANOVA F",
         "rawType": "float64",
         "type": "float"
        }
       ],
       "ref": "a3f7868f-cf67-45e8-97bd-83b9e83881ae",
       "rows": [
        [
         "0",
         "2014-2017",
         "0.02",
         "10",
         "0.015",
         "7",
         "{0: 27, 1: 17, 2: 142, 3: 27, 4: 90, 5: 39, -1: 1555}",
         "1555",
         null,
         null,
         null
        ],
        [
         "1",
         "2014-2017",
         "0.02",
         "15",
         "0.000",
         "5",
         "{0: 142, 1: 87, 2: 33, 3: 15, -1: 1620}",
         "1620",
         null,
         null,
         null
        ],
        [
         "2",
         "2014-2017",
         "0.02",
         "25",
         "0.000",
         "3",
         "{0: 138, 1: 85, -1: 1674}",
         "1674",
         null,
         null,
         null
        ],
        [
         "3",
         "2014-2017",
         "0.02",
         "30",
         "0.017",
         "3",
         "{0: 138, 1: 84, -1: 1675}",
         "1675",
         null,
         null,
         "8356.631"
        ],
        [
         "4",
         "2014-2017",
         "0.01",
         "10",
         "0.016",
         "3",
         "{0: 134, 1: 74, -1: 1689}",
         "1689",
         null,
         null,
         null
        ],
        [
         "5",
         "2014-2017",
         "0.01",
         "15",
         "0.006",
         "3",
         "{0: 124, 1: 68, -1: 1705}",
         "1705",
         null,
         null,
         null
        ],
        [
         "6",
         "2014-2017",
         "0.01",
         "25",
         "0.017",
         "3",
         "{0: 123, 1: 46, -1: 1728}",
         "1728",
         null,
         null,
         null
        ],
        [
         "7",
         "2014-2017",
         "0.01",
         "30",
         "0.000",
         "2",
         "{0: 120, -1: 1777}",
         "1777",
         null,
         null,
         "0.0"
        ],
        [
         "8",
         "2014-2017",
         "0.015",
         "10",
         "0.000",
         "7",
         "{0: 10, 1: 141, 2: 81, 3: 22, 4: 10, 5: 10, -1: 1623}",
         "1623",
         null,
         null,
         null
        ],
        [
         "9",
         "2014-2017",
         "0.015",
         "15",
         "0.013",
         "4",
         "{0: 138, 1: 78, 2: 16, -1: 1665}",
         "1665",
         null,
         null,
         null
        ],
        [
         "10",
         "2014-2017",
         "0.015",
         "25",
         "0.014",
         "3",
         "{0: 135, 1: 75, -1: 1687}",
         "1687",
         null,
         null,
         null
        ],
        [
         "11",
         "2014-2017",
         "0.015",
         "30",
         "0.000",
         "3",
         "{0: 132, 1: 74, -1: 1691}",
         "1691",
         null,
         null,
         "10209.325"
        ]
       ],
       "shape": {
        "columns": 10,
        "rows": 12
       }
      },
      "text/html": [
       "<div>\n",
       "<style scoped>\n",
       "    .dataframe tbody tr th:only-of-type {\n",
       "        vertical-align: middle;\n",
       "    }\n",
       "\n",
       "    .dataframe tbody tr th {\n",
       "        vertical-align: top;\n",
       "    }\n",
       "\n",
       "    .dataframe thead th {\n",
       "        text-align: right;\n",
       "    }\n",
       "</style>\n",
       "<table border=\"1\" class=\"dataframe\">\n",
       "  <thead>\n",
       "    <tr style=\"text-align: right;\">\n",
       "      <th></th>\n",
       "      <th>Year Range</th>\n",
       "      <th>eps</th>\n",
       "      <th>min_samples</th>\n",
       "      <th>Runtime (s)</th>\n",
       "      <th>Clusters</th>\n",
       "      <th>Points per Cluster</th>\n",
       "      <th>Noise Points</th>\n",
       "      <th>Davies-Bouldin</th>\n",
       "      <th>Calinski-Harabasz</th>\n",
       "      <th>Weighted Mean ANOVA F</th>\n",
       "    </tr>\n",
       "  </thead>\n",
       "  <tbody>\n",
       "    <tr>\n",
       "      <th>0</th>\n",
       "      <td>2014-2017</td>\n",
       "      <td>0.020</td>\n",
       "      <td>10</td>\n",
       "      <td>0.015</td>\n",
       "      <td>7</td>\n",
       "      <td>{0: 27, 1: 17, 2: 142, 3: 27, 4: 90, 5: 39, -1...</td>\n",
       "      <td>1555</td>\n",
       "      <td>None</td>\n",
       "      <td>None</td>\n",
       "      <td>NaN</td>\n",
       "    </tr>\n",
       "    <tr>\n",
       "      <th>1</th>\n",
       "      <td>2014-2017</td>\n",
       "      <td>0.020</td>\n",
       "      <td>15</td>\n",
       "      <td>0.000</td>\n",
       "      <td>5</td>\n",
       "      <td>{0: 142, 1: 87, 2: 33, 3: 15, -1: 1620}</td>\n",
       "      <td>1620</td>\n",
       "      <td>None</td>\n",
       "      <td>None</td>\n",
       "      <td>NaN</td>\n",
       "    </tr>\n",
       "    <tr>\n",
       "      <th>2</th>\n",
       "      <td>2014-2017</td>\n",
       "      <td>0.020</td>\n",
       "      <td>25</td>\n",
       "      <td>0.000</td>\n",
       "      <td>3</td>\n",
       "      <td>{0: 138, 1: 85, -1: 1674}</td>\n",
       "      <td>1674</td>\n",
       "      <td>None</td>\n",
       "      <td>None</td>\n",
       "      <td>NaN</td>\n",
       "    </tr>\n",
       "    <tr>\n",
       "      <th>3</th>\n",
       "      <td>2014-2017</td>\n",
       "      <td>0.020</td>\n",
       "      <td>30</td>\n",
       "      <td>0.017</td>\n",
       "      <td>3</td>\n",
       "      <td>{0: 138, 1: 84, -1: 1675}</td>\n",
       "      <td>1675</td>\n",
       "      <td>None</td>\n",
       "      <td>None</td>\n",
       "      <td>8356.631</td>\n",
       "    </tr>\n",
       "    <tr>\n",
       "      <th>4</th>\n",
       "      <td>2014-2017</td>\n",
       "      <td>0.010</td>\n",
       "      <td>10</td>\n",
       "      <td>0.016</td>\n",
       "      <td>3</td>\n",
       "      <td>{0: 134, 1: 74, -1: 1689}</td>\n",
       "      <td>1689</td>\n",
       "      <td>None</td>\n",
       "      <td>None</td>\n",
       "      <td>NaN</td>\n",
       "    </tr>\n",
       "    <tr>\n",
       "      <th>5</th>\n",
       "      <td>2014-2017</td>\n",
       "      <td>0.010</td>\n",
       "      <td>15</td>\n",
       "      <td>0.006</td>\n",
       "      <td>3</td>\n",
       "      <td>{0: 124, 1: 68, -1: 1705}</td>\n",
       "      <td>1705</td>\n",
       "      <td>None</td>\n",
       "      <td>None</td>\n",
       "      <td>NaN</td>\n",
       "    </tr>\n",
       "    <tr>\n",
       "      <th>6</th>\n",
       "      <td>2014-2017</td>\n",
       "      <td>0.010</td>\n",
       "      <td>25</td>\n",
       "      <td>0.017</td>\n",
       "      <td>3</td>\n",
       "      <td>{0: 123, 1: 46, -1: 1728}</td>\n",
       "      <td>1728</td>\n",
       "      <td>None</td>\n",
       "      <td>None</td>\n",
       "      <td>NaN</td>\n",
       "    </tr>\n",
       "    <tr>\n",
       "      <th>7</th>\n",
       "      <td>2014-2017</td>\n",
       "      <td>0.010</td>\n",
       "      <td>30</td>\n",
       "      <td>0.000</td>\n",
       "      <td>2</td>\n",
       "      <td>{0: 120, -1: 1777}</td>\n",
       "      <td>1777</td>\n",
       "      <td>None</td>\n",
       "      <td>None</td>\n",
       "      <td>0.000</td>\n",
       "    </tr>\n",
       "    <tr>\n",
       "      <th>8</th>\n",
       "      <td>2014-2017</td>\n",
       "      <td>0.015</td>\n",
       "      <td>10</td>\n",
       "      <td>0.000</td>\n",
       "      <td>7</td>\n",
       "      <td>{0: 10, 1: 141, 2: 81, 3: 22, 4: 10, 5: 10, -1...</td>\n",
       "      <td>1623</td>\n",
       "      <td>None</td>\n",
       "      <td>None</td>\n",
       "      <td>NaN</td>\n",
       "    </tr>\n",
       "    <tr>\n",
       "      <th>9</th>\n",
       "      <td>2014-2017</td>\n",
       "      <td>0.015</td>\n",
       "      <td>15</td>\n",
       "      <td>0.013</td>\n",
       "      <td>4</td>\n",
       "      <td>{0: 138, 1: 78, 2: 16, -1: 1665}</td>\n",
       "      <td>1665</td>\n",
       "      <td>None</td>\n",
       "      <td>None</td>\n",
       "      <td>NaN</td>\n",
       "    </tr>\n",
       "    <tr>\n",
       "      <th>10</th>\n",
       "      <td>2014-2017</td>\n",
       "      <td>0.015</td>\n",
       "      <td>25</td>\n",
       "      <td>0.014</td>\n",
       "      <td>3</td>\n",
       "      <td>{0: 135, 1: 75, -1: 1687}</td>\n",
       "      <td>1687</td>\n",
       "      <td>None</td>\n",
       "      <td>None</td>\n",
       "      <td>NaN</td>\n",
       "    </tr>\n",
       "    <tr>\n",
       "      <th>11</th>\n",
       "      <td>2014-2017</td>\n",
       "      <td>0.015</td>\n",
       "      <td>30</td>\n",
       "      <td>0.000</td>\n",
       "      <td>3</td>\n",
       "      <td>{0: 132, 1: 74, -1: 1691}</td>\n",
       "      <td>1691</td>\n",
       "      <td>None</td>\n",
       "      <td>None</td>\n",
       "      <td>10209.325</td>\n",
       "    </tr>\n",
       "  </tbody>\n",
       "</table>\n",
       "</div>"
      ],
      "text/plain": [
       "   Year Range    eps  min_samples Runtime (s)  Clusters  \\\n",
       "0   2014-2017  0.020           10       0.015         7   \n",
       "1   2014-2017  0.020           15       0.000         5   \n",
       "2   2014-2017  0.020           25       0.000         3   \n",
       "3   2014-2017  0.020           30       0.017         3   \n",
       "4   2014-2017  0.010           10       0.016         3   \n",
       "5   2014-2017  0.010           15       0.006         3   \n",
       "6   2014-2017  0.010           25       0.017         3   \n",
       "7   2014-2017  0.010           30       0.000         2   \n",
       "8   2014-2017  0.015           10       0.000         7   \n",
       "9   2014-2017  0.015           15       0.013         4   \n",
       "10  2014-2017  0.015           25       0.014         3   \n",
       "11  2014-2017  0.015           30       0.000         3   \n",
       "\n",
       "                                   Points per Cluster  Noise Points  \\\n",
       "0   {0: 27, 1: 17, 2: 142, 3: 27, 4: 90, 5: 39, -1...          1555   \n",
       "1             {0: 142, 1: 87, 2: 33, 3: 15, -1: 1620}          1620   \n",
       "2                           {0: 138, 1: 85, -1: 1674}          1674   \n",
       "3                           {0: 138, 1: 84, -1: 1675}          1675   \n",
       "4                           {0: 134, 1: 74, -1: 1689}          1689   \n",
       "5                           {0: 124, 1: 68, -1: 1705}          1705   \n",
       "6                           {0: 123, 1: 46, -1: 1728}          1728   \n",
       "7                                  {0: 120, -1: 1777}          1777   \n",
       "8   {0: 10, 1: 141, 2: 81, 3: 22, 4: 10, 5: 10, -1...          1623   \n",
       "9                    {0: 138, 1: 78, 2: 16, -1: 1665}          1665   \n",
       "10                          {0: 135, 1: 75, -1: 1687}          1687   \n",
       "11                          {0: 132, 1: 74, -1: 1691}          1691   \n",
       "\n",
       "   Davies-Bouldin Calinski-Harabasz  Weighted Mean ANOVA F  \n",
       "0            None              None                    NaN  \n",
       "1            None              None                    NaN  \n",
       "2            None              None                    NaN  \n",
       "3            None              None               8356.631  \n",
       "4            None              None                    NaN  \n",
       "5            None              None                    NaN  \n",
       "6            None              None                    NaN  \n",
       "7            None              None                  0.000  \n",
       "8            None              None                    NaN  \n",
       "9            None              None                    NaN  \n",
       "10           None              None                    NaN  \n",
       "11           None              None              10209.325  "
      ]
     },
     "metadata": {},
     "output_type": "display_data"
    },
    {
     "name": "stdout",
     "output_type": "stream",
     "text": [
      "\n",
      "Running DBSCAN for Year Range: 2015-2018\n",
      "Runtime for dbscan_clustering: 0.031677 seconds\n"
     ]
    },
    {
     "name": "stderr",
     "output_type": "stream",
     "text": [
      "c:\\Users\\fionu\\OneDrive\\Dokumente\\Daten Fiona\\AIUB\\Code\\AIUB-Backup\\clustering\\high_dim_analysis.py:138: FutureWarning: \n",
      "\n",
      "Passing `palette` without assigning `hue` is deprecated and will be removed in v0.14.0. Assign the `y` variable to `hue` and set `legend=False` for the same effect.\n",
      "\n",
      "  sns.barplot(x=mi_vals, y=features, palette=\"magma\")\n"
     ]
    },
    {
     "name": "stdout",
     "output_type": "stream",
     "text": [
      "Runtime for dbscan_clustering: 0.020691 seconds\n"
     ]
    },
    {
     "name": "stderr",
     "output_type": "stream",
     "text": [
      "c:\\Users\\fionu\\OneDrive\\Dokumente\\Daten Fiona\\AIUB\\Code\\AIUB-Backup\\clustering\\high_dim_analysis.py:138: FutureWarning: \n",
      "\n",
      "Passing `palette` without assigning `hue` is deprecated and will be removed in v0.14.0. Assign the `y` variable to `hue` and set `legend=False` for the same effect.\n",
      "\n",
      "  sns.barplot(x=mi_vals, y=features, palette=\"magma\")\n"
     ]
    },
    {
     "name": "stdout",
     "output_type": "stream",
     "text": [
      "Runtime for dbscan_clustering: 0.016158 seconds\n"
     ]
    },
    {
     "name": "stderr",
     "output_type": "stream",
     "text": [
      "c:\\Users\\fionu\\OneDrive\\Dokumente\\Daten Fiona\\AIUB\\Code\\AIUB-Backup\\clustering\\high_dim_analysis.py:138: FutureWarning: \n",
      "\n",
      "Passing `palette` without assigning `hue` is deprecated and will be removed in v0.14.0. Assign the `y` variable to `hue` and set `legend=False` for the same effect.\n",
      "\n",
      "  sns.barplot(x=mi_vals, y=features, palette=\"magma\")\n"
     ]
    },
    {
     "name": "stdout",
     "output_type": "stream",
     "text": [
      "Runtime for dbscan_clustering: 0.016187 seconds\n"
     ]
    },
    {
     "name": "stderr",
     "output_type": "stream",
     "text": [
      "c:\\Users\\fionu\\OneDrive\\Dokumente\\Daten Fiona\\AIUB\\Code\\AIUB-Backup\\clustering\\high_dim_analysis.py:138: FutureWarning: \n",
      "\n",
      "Passing `palette` without assigning `hue` is deprecated and will be removed in v0.14.0. Assign the `y` variable to `hue` and set `legend=False` for the same effect.\n",
      "\n",
      "  sns.barplot(x=mi_vals, y=features, palette=\"magma\")\n"
     ]
    },
    {
     "name": "stdout",
     "output_type": "stream",
     "text": [
      "Runtime for dbscan_clustering: 0.000000 seconds\n"
     ]
    },
    {
     "name": "stderr",
     "output_type": "stream",
     "text": [
      "c:\\Users\\fionu\\OneDrive\\Dokumente\\Daten Fiona\\AIUB\\Code\\AIUB-Backup\\clustering\\high_dim_analysis.py:138: FutureWarning: \n",
      "\n",
      "Passing `palette` without assigning `hue` is deprecated and will be removed in v0.14.0. Assign the `y` variable to `hue` and set `legend=False` for the same effect.\n",
      "\n",
      "  sns.barplot(x=mi_vals, y=features, palette=\"magma\")\n"
     ]
    },
    {
     "name": "stdout",
     "output_type": "stream",
     "text": [
      "Runtime for dbscan_clustering: 0.000000 seconds\n"
     ]
    },
    {
     "name": "stderr",
     "output_type": "stream",
     "text": [
      "c:\\Users\\fionu\\OneDrive\\Dokumente\\Daten Fiona\\AIUB\\Code\\AIUB-Backup\\clustering\\high_dim_analysis.py:138: FutureWarning: \n",
      "\n",
      "Passing `palette` without assigning `hue` is deprecated and will be removed in v0.14.0. Assign the `y` variable to `hue` and set `legend=False` for the same effect.\n",
      "\n",
      "  sns.barplot(x=mi_vals, y=features, palette=\"magma\")\n"
     ]
    },
    {
     "name": "stdout",
     "output_type": "stream",
     "text": [
      "Runtime for dbscan_clustering: 0.022274 seconds\n"
     ]
    },
    {
     "name": "stderr",
     "output_type": "stream",
     "text": [
      "c:\\Users\\fionu\\OneDrive\\Dokumente\\Daten Fiona\\AIUB\\Code\\AIUB-Backup\\clustering\\high_dim_analysis.py:138: FutureWarning: \n",
      "\n",
      "Passing `palette` without assigning `hue` is deprecated and will be removed in v0.14.0. Assign the `y` variable to `hue` and set `legend=False` for the same effect.\n",
      "\n",
      "  sns.barplot(x=mi_vals, y=features, palette=\"magma\")\n"
     ]
    },
    {
     "name": "stdout",
     "output_type": "stream",
     "text": [
      "Runtime for dbscan_clustering: 0.015828 seconds\n"
     ]
    },
    {
     "name": "stderr",
     "output_type": "stream",
     "text": [
      "c:\\Users\\fionu\\OneDrive\\Dokumente\\Daten Fiona\\AIUB\\Code\\AIUB-Backup\\clustering\\high_dim_analysis.py:138: FutureWarning: \n",
      "\n",
      "Passing `palette` without assigning `hue` is deprecated and will be removed in v0.14.0. Assign the `y` variable to `hue` and set `legend=False` for the same effect.\n",
      "\n",
      "  sns.barplot(x=mi_vals, y=features, palette=\"magma\")\n"
     ]
    },
    {
     "name": "stdout",
     "output_type": "stream",
     "text": [
      "Runtime for dbscan_clustering: 0.015767 seconds\n"
     ]
    },
    {
     "name": "stderr",
     "output_type": "stream",
     "text": [
      "c:\\Users\\fionu\\OneDrive\\Dokumente\\Daten Fiona\\AIUB\\Code\\AIUB-Backup\\clustering\\high_dim_analysis.py:138: FutureWarning: \n",
      "\n",
      "Passing `palette` without assigning `hue` is deprecated and will be removed in v0.14.0. Assign the `y` variable to `hue` and set `legend=False` for the same effect.\n",
      "\n",
      "  sns.barplot(x=mi_vals, y=features, palette=\"magma\")\n"
     ]
    },
    {
     "name": "stdout",
     "output_type": "stream",
     "text": [
      "Runtime for dbscan_clustering: 0.018589 seconds\n"
     ]
    },
    {
     "name": "stderr",
     "output_type": "stream",
     "text": [
      "c:\\Users\\fionu\\OneDrive\\Dokumente\\Daten Fiona\\AIUB\\Code\\AIUB-Backup\\clustering\\high_dim_analysis.py:138: FutureWarning: \n",
      "\n",
      "Passing `palette` without assigning `hue` is deprecated and will be removed in v0.14.0. Assign the `y` variable to `hue` and set `legend=False` for the same effect.\n",
      "\n",
      "  sns.barplot(x=mi_vals, y=features, palette=\"magma\")\n"
     ]
    },
    {
     "name": "stdout",
     "output_type": "stream",
     "text": [
      "Runtime for dbscan_clustering: 0.015828 seconds\n"
     ]
    },
    {
     "name": "stderr",
     "output_type": "stream",
     "text": [
      "c:\\Users\\fionu\\OneDrive\\Dokumente\\Daten Fiona\\AIUB\\Code\\AIUB-Backup\\clustering\\high_dim_analysis.py:138: FutureWarning: \n",
      "\n",
      "Passing `palette` without assigning `hue` is deprecated and will be removed in v0.14.0. Assign the `y` variable to `hue` and set `legend=False` for the same effect.\n",
      "\n",
      "  sns.barplot(x=mi_vals, y=features, palette=\"magma\")\n"
     ]
    },
    {
     "name": "stdout",
     "output_type": "stream",
     "text": [
      "Runtime for dbscan_clustering: 0.016117 seconds\n"
     ]
    },
    {
     "name": "stderr",
     "output_type": "stream",
     "text": [
      "c:\\Users\\fionu\\OneDrive\\Dokumente\\Daten Fiona\\AIUB\\Code\\AIUB-Backup\\clustering\\high_dim_analysis.py:138: FutureWarning: \n",
      "\n",
      "Passing `palette` without assigning `hue` is deprecated and will be removed in v0.14.0. Assign the `y` variable to `hue` and set `legend=False` for the same effect.\n",
      "\n",
      "  sns.barplot(x=mi_vals, y=features, palette=\"magma\")\n"
     ]
    },
    {
     "name": "stdout",
     "output_type": "stream",
     "text": [
      "Runtime for dbscan_clustering: 0.000000 seconds\n",
      "Best DBSCAN parameters based on ANOVA F-value:\n",
      "Year Range                                2015-2018\n",
      "eps                                            0.01\n",
      "min_samples                                      30\n",
      "Runtime (s)                                   0.016\n",
      "Clusters                                          3\n",
      "Points per Cluster       {0: 120, 1: 218, -1: 2304}\n",
      "Noise Points                                   2304\n",
      "Davies-Bouldin                                 None\n",
      "Calinski-Harabasz                              None\n",
      "Weighted Mean ANOVA F                     14908.046\n",
      "Name: 7, dtype: object\n"
     ]
    },
    {
     "name": "stderr",
     "output_type": "stream",
     "text": [
      "c:\\Users\\fionu\\OneDrive\\Dokumente\\Daten Fiona\\AIUB\\Code\\AIUB-Backup\\clustering\\high_dim_analysis.py:42: FutureWarning: \n",
      "\n",
      "Passing `palette` without assigning `hue` is deprecated and will be removed in v0.14.0. Assign the `y` variable to `hue` and set `legend=False` for the same effect.\n",
      "\n",
      "  sns.barplot(x=f_vals, y=features, palette=\"crest\")\n"
     ]
    },
    {
     "data": {
      "application/vnd.microsoft.datawrangler.viewer.v0+json": {
       "columns": [
        {
         "name": "index",
         "rawType": "int64",
         "type": "integer"
        },
        {
         "name": "Year Range",
         "rawType": "object",
         "type": "string"
        },
        {
         "name": "eps",
         "rawType": "float64",
         "type": "float"
        },
        {
         "name": "min_samples",
         "rawType": "int64",
         "type": "integer"
        },
        {
         "name": "Runtime (s)",
         "rawType": "object",
         "type": "string"
        },
        {
         "name": "Clusters",
         "rawType": "int64",
         "type": "integer"
        },
        {
         "name": "Points per Cluster",
         "rawType": "object",
         "type": "unknown"
        },
        {
         "name": "Noise Points",
         "rawType": "int32",
         "type": "integer"
        },
        {
         "name": "Davies-Bouldin",
         "rawType": "object",
         "type": "unknown"
        },
        {
         "name": "Calinski-Harabasz",
         "rawType": "object",
         "type": "unknown"
        },
        {
         "name": "Weighted Mean ANOVA F",
         "rawType": "float64",
         "type": "float"
        }
       ],
       "ref": "b299b606-8b8c-4f49-a48a-913ae48b4952",
       "rows": [
        [
         "0",
         "2015-2018",
         "0.02",
         "10",
         "0.032",
         "19",
         "{0: 31, 1: 18, 2: 142, 3: 28, 4: 300, 5: 13, 6: 16, 7: 13, 8: 19, 9: 26, 10: 14, 11: 11, 12: 13, 13: 70, 14: 66, 15: 10, 16: 14, 17: 10, -1: 1828}",
         "1828",
         null,
         null,
         null
        ],
        [
         "1",
         "2015-2018",
         "0.02",
         "15",
         "0.021",
         "10",
         "{0: 142, 1: 298, 2: 20, 3: 18, 4: 21, 5: 35, 6: 22, 7: 58, 8: 24, -1: 2004}",
         "2004",
         null,
         null,
         null
        ],
        [
         "2",
         "2015-2018",
         "0.02",
         "25",
         "0.016",
         "4",
         "{0: 138, 1: 298, 2: 32, -1: 2174}",
         "2174",
         null,
         null,
         null
        ],
        [
         "3",
         "2015-2018",
         "0.02",
         "30",
         "0.016",
         "3",
         "{0: 138, 1: 290, -1: 2214}",
         "2214",
         null,
         null,
         "9940.194"
        ],
        [
         "4",
         "2015-2018",
         "0.01",
         "10",
         "0.000",
         "8",
         "{0: 134, 1: 254, 2: 12, 3: 10, 4: 10, 5: 11, 6: 10, -1: 2201}",
         "2201",
         null,
         null,
         null
        ],
        [
         "5",
         "2015-2018",
         "0.01",
         "15",
         "0.000",
         "4",
         "{0: 124, 1: 222, 2: 27, -1: 2269}",
         "2269",
         null,
         null,
         null
        ],
        [
         "6",
         "2015-2018",
         "0.01",
         "25",
         "0.022",
         "3",
         "{0: 123, 1: 219, -1: 2300}",
         "2300",
         null,
         null,
         null
        ],
        [
         "7",
         "2015-2018",
         "0.01",
         "30",
         "0.016",
         "3",
         "{0: 120, 1: 218, -1: 2304}",
         "2304",
         null,
         null,
         "14908.046"
        ],
        [
         "8",
         "2015-2018",
         "0.015",
         "10",
         "0.016",
         "13",
         "{0: 10, 1: 141, 2: 292, 3: 12, 4: 18, 5: 14, 6: 17, 7: 11, 8: 15, 9: 21, 10: 12, 11: 36, -1: 2043}",
         "2043",
         null,
         null,
         null
        ],
        [
         "9",
         "2015-2018",
         "0.015",
         "15",
         "0.019",
         "7",
         "{0: 138, 1: 292, 2: 17, 3: 15, 4: 26, 5: 16, -1: 2138}",
         "2138",
         null,
         null,
         null
        ],
        [
         "10",
         "2015-2018",
         "0.015",
         "25",
         "0.016",
         "3",
         "{0: 135, 1: 275, -1: 2232}",
         "2232",
         null,
         null,
         null
        ],
        [
         "11",
         "2015-2018",
         "0.015",
         "30",
         "0.016",
         "3",
         "{0: 132, 1: 251, -1: 2259}",
         "2259",
         null,
         null,
         "11974.81"
        ]
       ],
       "shape": {
        "columns": 10,
        "rows": 12
       }
      },
      "text/html": [
       "<div>\n",
       "<style scoped>\n",
       "    .dataframe tbody tr th:only-of-type {\n",
       "        vertical-align: middle;\n",
       "    }\n",
       "\n",
       "    .dataframe tbody tr th {\n",
       "        vertical-align: top;\n",
       "    }\n",
       "\n",
       "    .dataframe thead th {\n",
       "        text-align: right;\n",
       "    }\n",
       "</style>\n",
       "<table border=\"1\" class=\"dataframe\">\n",
       "  <thead>\n",
       "    <tr style=\"text-align: right;\">\n",
       "      <th></th>\n",
       "      <th>Year Range</th>\n",
       "      <th>eps</th>\n",
       "      <th>min_samples</th>\n",
       "      <th>Runtime (s)</th>\n",
       "      <th>Clusters</th>\n",
       "      <th>Points per Cluster</th>\n",
       "      <th>Noise Points</th>\n",
       "      <th>Davies-Bouldin</th>\n",
       "      <th>Calinski-Harabasz</th>\n",
       "      <th>Weighted Mean ANOVA F</th>\n",
       "    </tr>\n",
       "  </thead>\n",
       "  <tbody>\n",
       "    <tr>\n",
       "      <th>0</th>\n",
       "      <td>2015-2018</td>\n",
       "      <td>0.020</td>\n",
       "      <td>10</td>\n",
       "      <td>0.032</td>\n",
       "      <td>19</td>\n",
       "      <td>{0: 31, 1: 18, 2: 142, 3: 28, 4: 300, 5: 13, 6...</td>\n",
       "      <td>1828</td>\n",
       "      <td>None</td>\n",
       "      <td>None</td>\n",
       "      <td>NaN</td>\n",
       "    </tr>\n",
       "    <tr>\n",
       "      <th>1</th>\n",
       "      <td>2015-2018</td>\n",
       "      <td>0.020</td>\n",
       "      <td>15</td>\n",
       "      <td>0.021</td>\n",
       "      <td>10</td>\n",
       "      <td>{0: 142, 1: 298, 2: 20, 3: 18, 4: 21, 5: 35, 6...</td>\n",
       "      <td>2004</td>\n",
       "      <td>None</td>\n",
       "      <td>None</td>\n",
       "      <td>NaN</td>\n",
       "    </tr>\n",
       "    <tr>\n",
       "      <th>2</th>\n",
       "      <td>2015-2018</td>\n",
       "      <td>0.020</td>\n",
       "      <td>25</td>\n",
       "      <td>0.016</td>\n",
       "      <td>4</td>\n",
       "      <td>{0: 138, 1: 298, 2: 32, -1: 2174}</td>\n",
       "      <td>2174</td>\n",
       "      <td>None</td>\n",
       "      <td>None</td>\n",
       "      <td>NaN</td>\n",
       "    </tr>\n",
       "    <tr>\n",
       "      <th>3</th>\n",
       "      <td>2015-2018</td>\n",
       "      <td>0.020</td>\n",
       "      <td>30</td>\n",
       "      <td>0.016</td>\n",
       "      <td>3</td>\n",
       "      <td>{0: 138, 1: 290, -1: 2214}</td>\n",
       "      <td>2214</td>\n",
       "      <td>None</td>\n",
       "      <td>None</td>\n",
       "      <td>9940.194</td>\n",
       "    </tr>\n",
       "    <tr>\n",
       "      <th>4</th>\n",
       "      <td>2015-2018</td>\n",
       "      <td>0.010</td>\n",
       "      <td>10</td>\n",
       "      <td>0.000</td>\n",
       "      <td>8</td>\n",
       "      <td>{0: 134, 1: 254, 2: 12, 3: 10, 4: 10, 5: 11, 6...</td>\n",
       "      <td>2201</td>\n",
       "      <td>None</td>\n",
       "      <td>None</td>\n",
       "      <td>NaN</td>\n",
       "    </tr>\n",
       "    <tr>\n",
       "      <th>5</th>\n",
       "      <td>2015-2018</td>\n",
       "      <td>0.010</td>\n",
       "      <td>15</td>\n",
       "      <td>0.000</td>\n",
       "      <td>4</td>\n",
       "      <td>{0: 124, 1: 222, 2: 27, -1: 2269}</td>\n",
       "      <td>2269</td>\n",
       "      <td>None</td>\n",
       "      <td>None</td>\n",
       "      <td>NaN</td>\n",
       "    </tr>\n",
       "    <tr>\n",
       "      <th>6</th>\n",
       "      <td>2015-2018</td>\n",
       "      <td>0.010</td>\n",
       "      <td>25</td>\n",
       "      <td>0.022</td>\n",
       "      <td>3</td>\n",
       "      <td>{0: 123, 1: 219, -1: 2300}</td>\n",
       "      <td>2300</td>\n",
       "      <td>None</td>\n",
       "      <td>None</td>\n",
       "      <td>NaN</td>\n",
       "    </tr>\n",
       "    <tr>\n",
       "      <th>7</th>\n",
       "      <td>2015-2018</td>\n",
       "      <td>0.010</td>\n",
       "      <td>30</td>\n",
       "      <td>0.016</td>\n",
       "      <td>3</td>\n",
       "      <td>{0: 120, 1: 218, -1: 2304}</td>\n",
       "      <td>2304</td>\n",
       "      <td>None</td>\n",
       "      <td>None</td>\n",
       "      <td>14908.046</td>\n",
       "    </tr>\n",
       "    <tr>\n",
       "      <th>8</th>\n",
       "      <td>2015-2018</td>\n",
       "      <td>0.015</td>\n",
       "      <td>10</td>\n",
       "      <td>0.016</td>\n",
       "      <td>13</td>\n",
       "      <td>{0: 10, 1: 141, 2: 292, 3: 12, 4: 18, 5: 14, 6...</td>\n",
       "      <td>2043</td>\n",
       "      <td>None</td>\n",
       "      <td>None</td>\n",
       "      <td>NaN</td>\n",
       "    </tr>\n",
       "    <tr>\n",
       "      <th>9</th>\n",
       "      <td>2015-2018</td>\n",
       "      <td>0.015</td>\n",
       "      <td>15</td>\n",
       "      <td>0.019</td>\n",
       "      <td>7</td>\n",
       "      <td>{0: 138, 1: 292, 2: 17, 3: 15, 4: 26, 5: 16, -...</td>\n",
       "      <td>2138</td>\n",
       "      <td>None</td>\n",
       "      <td>None</td>\n",
       "      <td>NaN</td>\n",
       "    </tr>\n",
       "    <tr>\n",
       "      <th>10</th>\n",
       "      <td>2015-2018</td>\n",
       "      <td>0.015</td>\n",
       "      <td>25</td>\n",
       "      <td>0.016</td>\n",
       "      <td>3</td>\n",
       "      <td>{0: 135, 1: 275, -1: 2232}</td>\n",
       "      <td>2232</td>\n",
       "      <td>None</td>\n",
       "      <td>None</td>\n",
       "      <td>NaN</td>\n",
       "    </tr>\n",
       "    <tr>\n",
       "      <th>11</th>\n",
       "      <td>2015-2018</td>\n",
       "      <td>0.015</td>\n",
       "      <td>30</td>\n",
       "      <td>0.016</td>\n",
       "      <td>3</td>\n",
       "      <td>{0: 132, 1: 251, -1: 2259}</td>\n",
       "      <td>2259</td>\n",
       "      <td>None</td>\n",
       "      <td>None</td>\n",
       "      <td>11974.810</td>\n",
       "    </tr>\n",
       "  </tbody>\n",
       "</table>\n",
       "</div>"
      ],
      "text/plain": [
       "   Year Range    eps  min_samples Runtime (s)  Clusters  \\\n",
       "0   2015-2018  0.020           10       0.032        19   \n",
       "1   2015-2018  0.020           15       0.021        10   \n",
       "2   2015-2018  0.020           25       0.016         4   \n",
       "3   2015-2018  0.020           30       0.016         3   \n",
       "4   2015-2018  0.010           10       0.000         8   \n",
       "5   2015-2018  0.010           15       0.000         4   \n",
       "6   2015-2018  0.010           25       0.022         3   \n",
       "7   2015-2018  0.010           30       0.016         3   \n",
       "8   2015-2018  0.015           10       0.016        13   \n",
       "9   2015-2018  0.015           15       0.019         7   \n",
       "10  2015-2018  0.015           25       0.016         3   \n",
       "11  2015-2018  0.015           30       0.016         3   \n",
       "\n",
       "                                   Points per Cluster  Noise Points  \\\n",
       "0   {0: 31, 1: 18, 2: 142, 3: 28, 4: 300, 5: 13, 6...          1828   \n",
       "1   {0: 142, 1: 298, 2: 20, 3: 18, 4: 21, 5: 35, 6...          2004   \n",
       "2                   {0: 138, 1: 298, 2: 32, -1: 2174}          2174   \n",
       "3                          {0: 138, 1: 290, -1: 2214}          2214   \n",
       "4   {0: 134, 1: 254, 2: 12, 3: 10, 4: 10, 5: 11, 6...          2201   \n",
       "5                   {0: 124, 1: 222, 2: 27, -1: 2269}          2269   \n",
       "6                          {0: 123, 1: 219, -1: 2300}          2300   \n",
       "7                          {0: 120, 1: 218, -1: 2304}          2304   \n",
       "8   {0: 10, 1: 141, 2: 292, 3: 12, 4: 18, 5: 14, 6...          2043   \n",
       "9   {0: 138, 1: 292, 2: 17, 3: 15, 4: 26, 5: 16, -...          2138   \n",
       "10                         {0: 135, 1: 275, -1: 2232}          2232   \n",
       "11                         {0: 132, 1: 251, -1: 2259}          2259   \n",
       "\n",
       "   Davies-Bouldin Calinski-Harabasz  Weighted Mean ANOVA F  \n",
       "0            None              None                    NaN  \n",
       "1            None              None                    NaN  \n",
       "2            None              None                    NaN  \n",
       "3            None              None               9940.194  \n",
       "4            None              None                    NaN  \n",
       "5            None              None                    NaN  \n",
       "6            None              None                    NaN  \n",
       "7            None              None              14908.046  \n",
       "8            None              None                    NaN  \n",
       "9            None              None                    NaN  \n",
       "10           None              None                    NaN  \n",
       "11           None              None              11974.810  "
      ]
     },
     "metadata": {},
     "output_type": "display_data"
    },
    {
     "name": "stdout",
     "output_type": "stream",
     "text": [
      "\n",
      "Running DBSCAN for Year Range: 2016-2019\n",
      "Runtime for dbscan_clustering: 0.023641 seconds\n"
     ]
    },
    {
     "name": "stderr",
     "output_type": "stream",
     "text": [
      "c:\\Users\\fionu\\OneDrive\\Dokumente\\Daten Fiona\\AIUB\\Code\\AIUB-Backup\\clustering\\high_dim_analysis.py:138: FutureWarning: \n",
      "\n",
      "Passing `palette` without assigning `hue` is deprecated and will be removed in v0.14.0. Assign the `y` variable to `hue` and set `legend=False` for the same effect.\n",
      "\n",
      "  sns.barplot(x=mi_vals, y=features, palette=\"magma\")\n"
     ]
    },
    {
     "name": "stdout",
     "output_type": "stream",
     "text": [
      "Runtime for dbscan_clustering: 0.019118 seconds\n"
     ]
    },
    {
     "name": "stderr",
     "output_type": "stream",
     "text": [
      "c:\\Users\\fionu\\OneDrive\\Dokumente\\Daten Fiona\\AIUB\\Code\\AIUB-Backup\\clustering\\high_dim_analysis.py:138: FutureWarning: \n",
      "\n",
      "Passing `palette` without assigning `hue` is deprecated and will be removed in v0.14.0. Assign the `y` variable to `hue` and set `legend=False` for the same effect.\n",
      "\n",
      "  sns.barplot(x=mi_vals, y=features, palette=\"magma\")\n"
     ]
    },
    {
     "name": "stdout",
     "output_type": "stream",
     "text": [
      "Runtime for dbscan_clustering: 0.020974 seconds\n"
     ]
    },
    {
     "name": "stderr",
     "output_type": "stream",
     "text": [
      "c:\\Users\\fionu\\OneDrive\\Dokumente\\Daten Fiona\\AIUB\\Code\\AIUB-Backup\\clustering\\high_dim_analysis.py:138: FutureWarning: \n",
      "\n",
      "Passing `palette` without assigning `hue` is deprecated and will be removed in v0.14.0. Assign the `y` variable to `hue` and set `legend=False` for the same effect.\n",
      "\n",
      "  sns.barplot(x=mi_vals, y=features, palette=\"magma\")\n"
     ]
    },
    {
     "name": "stdout",
     "output_type": "stream",
     "text": [
      "Runtime for dbscan_clustering: 0.015809 seconds\n"
     ]
    },
    {
     "name": "stderr",
     "output_type": "stream",
     "text": [
      "c:\\Users\\fionu\\OneDrive\\Dokumente\\Daten Fiona\\AIUB\\Code\\AIUB-Backup\\clustering\\high_dim_analysis.py:138: FutureWarning: \n",
      "\n",
      "Passing `palette` without assigning `hue` is deprecated and will be removed in v0.14.0. Assign the `y` variable to `hue` and set `legend=False` for the same effect.\n",
      "\n",
      "  sns.barplot(x=mi_vals, y=features, palette=\"magma\")\n"
     ]
    },
    {
     "name": "stdout",
     "output_type": "stream",
     "text": [
      "Runtime for dbscan_clustering: 0.024199 seconds\n"
     ]
    },
    {
     "name": "stderr",
     "output_type": "stream",
     "text": [
      "c:\\Users\\fionu\\OneDrive\\Dokumente\\Daten Fiona\\AIUB\\Code\\AIUB-Backup\\clustering\\high_dim_analysis.py:138: FutureWarning: \n",
      "\n",
      "Passing `palette` without assigning `hue` is deprecated and will be removed in v0.14.0. Assign the `y` variable to `hue` and set `legend=False` for the same effect.\n",
      "\n",
      "  sns.barplot(x=mi_vals, y=features, palette=\"magma\")\n"
     ]
    },
    {
     "name": "stdout",
     "output_type": "stream",
     "text": [
      "Runtime for dbscan_clustering: 0.000000 seconds\n"
     ]
    },
    {
     "name": "stderr",
     "output_type": "stream",
     "text": [
      "c:\\Users\\fionu\\OneDrive\\Dokumente\\Daten Fiona\\AIUB\\Code\\AIUB-Backup\\clustering\\high_dim_analysis.py:138: FutureWarning: \n",
      "\n",
      "Passing `palette` without assigning `hue` is deprecated and will be removed in v0.14.0. Assign the `y` variable to `hue` and set `legend=False` for the same effect.\n",
      "\n",
      "  sns.barplot(x=mi_vals, y=features, palette=\"magma\")\n"
     ]
    },
    {
     "name": "stdout",
     "output_type": "stream",
     "text": [
      "Runtime for dbscan_clustering: 0.014760 seconds\n"
     ]
    },
    {
     "name": "stderr",
     "output_type": "stream",
     "text": [
      "c:\\Users\\fionu\\OneDrive\\Dokumente\\Daten Fiona\\AIUB\\Code\\AIUB-Backup\\clustering\\high_dim_analysis.py:138: FutureWarning: \n",
      "\n",
      "Passing `palette` without assigning `hue` is deprecated and will be removed in v0.14.0. Assign the `y` variable to `hue` and set `legend=False` for the same effect.\n",
      "\n",
      "  sns.barplot(x=mi_vals, y=features, palette=\"magma\")\n"
     ]
    },
    {
     "name": "stdout",
     "output_type": "stream",
     "text": [
      "Runtime for dbscan_clustering: 0.020444 seconds\n"
     ]
    },
    {
     "name": "stderr",
     "output_type": "stream",
     "text": [
      "c:\\Users\\fionu\\OneDrive\\Dokumente\\Daten Fiona\\AIUB\\Code\\AIUB-Backup\\clustering\\high_dim_analysis.py:138: FutureWarning: \n",
      "\n",
      "Passing `palette` without assigning `hue` is deprecated and will be removed in v0.14.0. Assign the `y` variable to `hue` and set `legend=False` for the same effect.\n",
      "\n",
      "  sns.barplot(x=mi_vals, y=features, palette=\"magma\")\n"
     ]
    },
    {
     "name": "stdout",
     "output_type": "stream",
     "text": [
      "Runtime for dbscan_clustering: 0.016014 seconds\n"
     ]
    },
    {
     "name": "stderr",
     "output_type": "stream",
     "text": [
      "c:\\Users\\fionu\\OneDrive\\Dokumente\\Daten Fiona\\AIUB\\Code\\AIUB-Backup\\clustering\\high_dim_analysis.py:138: FutureWarning: \n",
      "\n",
      "Passing `palette` without assigning `hue` is deprecated and will be removed in v0.14.0. Assign the `y` variable to `hue` and set `legend=False` for the same effect.\n",
      "\n",
      "  sns.barplot(x=mi_vals, y=features, palette=\"magma\")\n"
     ]
    },
    {
     "name": "stdout",
     "output_type": "stream",
     "text": [
      "Runtime for dbscan_clustering: 0.015989 seconds\n"
     ]
    },
    {
     "name": "stderr",
     "output_type": "stream",
     "text": [
      "c:\\Users\\fionu\\OneDrive\\Dokumente\\Daten Fiona\\AIUB\\Code\\AIUB-Backup\\clustering\\high_dim_analysis.py:138: FutureWarning: \n",
      "\n",
      "Passing `palette` without assigning `hue` is deprecated and will be removed in v0.14.0. Assign the `y` variable to `hue` and set `legend=False` for the same effect.\n",
      "\n",
      "  sns.barplot(x=mi_vals, y=features, palette=\"magma\")\n"
     ]
    },
    {
     "name": "stdout",
     "output_type": "stream",
     "text": [
      "Runtime for dbscan_clustering: 0.012069 seconds\n"
     ]
    },
    {
     "name": "stderr",
     "output_type": "stream",
     "text": [
      "c:\\Users\\fionu\\OneDrive\\Dokumente\\Daten Fiona\\AIUB\\Code\\AIUB-Backup\\clustering\\high_dim_analysis.py:138: FutureWarning: \n",
      "\n",
      "Passing `palette` without assigning `hue` is deprecated and will be removed in v0.14.0. Assign the `y` variable to `hue` and set `legend=False` for the same effect.\n",
      "\n",
      "  sns.barplot(x=mi_vals, y=features, palette=\"magma\")\n"
     ]
    },
    {
     "name": "stdout",
     "output_type": "stream",
     "text": [
      "Runtime for dbscan_clustering: 0.014151 seconds\n"
     ]
    },
    {
     "name": "stderr",
     "output_type": "stream",
     "text": [
      "c:\\Users\\fionu\\OneDrive\\Dokumente\\Daten Fiona\\AIUB\\Code\\AIUB-Backup\\clustering\\high_dim_analysis.py:138: FutureWarning: \n",
      "\n",
      "Passing `palette` without assigning `hue` is deprecated and will be removed in v0.14.0. Assign the `y` variable to `hue` and set `legend=False` for the same effect.\n",
      "\n",
      "  sns.barplot(x=mi_vals, y=features, palette=\"magma\")\n"
     ]
    },
    {
     "name": "stdout",
     "output_type": "stream",
     "text": [
      "Runtime for dbscan_clustering: 0.015928 seconds\n",
      "Best DBSCAN parameters based on ANOVA F-value:\n",
      "Year Range                                2016-2019\n",
      "eps                                            0.01\n",
      "min_samples                                      30\n",
      "Runtime (s)                                   0.020\n",
      "Clusters                                          3\n",
      "Points per Cluster       {0: 116, 1: 250, -1: 2344}\n",
      "Noise Points                                   2344\n",
      "Davies-Bouldin                                 None\n",
      "Calinski-Harabasz                              None\n",
      "Weighted Mean ANOVA F                     14957.078\n",
      "Name: 7, dtype: object\n"
     ]
    },
    {
     "name": "stderr",
     "output_type": "stream",
     "text": [
      "c:\\Users\\fionu\\OneDrive\\Dokumente\\Daten Fiona\\AIUB\\Code\\AIUB-Backup\\clustering\\high_dim_analysis.py:42: FutureWarning: \n",
      "\n",
      "Passing `palette` without assigning `hue` is deprecated and will be removed in v0.14.0. Assign the `y` variable to `hue` and set `legend=False` for the same effect.\n",
      "\n",
      "  sns.barplot(x=f_vals, y=features, palette=\"crest\")\n"
     ]
    },
    {
     "data": {
      "application/vnd.microsoft.datawrangler.viewer.v0+json": {
       "columns": [
        {
         "name": "index",
         "rawType": "int64",
         "type": "integer"
        },
        {
         "name": "Year Range",
         "rawType": "object",
         "type": "string"
        },
        {
         "name": "eps",
         "rawType": "float64",
         "type": "float"
        },
        {
         "name": "min_samples",
         "rawType": "int64",
         "type": "integer"
        },
        {
         "name": "Runtime (s)",
         "rawType": "object",
         "type": "string"
        },
        {
         "name": "Clusters",
         "rawType": "int64",
         "type": "integer"
        },
        {
         "name": "Points per Cluster",
         "rawType": "object",
         "type": "unknown"
        },
        {
         "name": "Noise Points",
         "rawType": "int32",
         "type": "integer"
        },
        {
         "name": "Davies-Bouldin",
         "rawType": "object",
         "type": "unknown"
        },
        {
         "name": "Calinski-Harabasz",
         "rawType": "object",
         "type": "unknown"
        },
        {
         "name": "Weighted Mean ANOVA F",
         "rawType": "float64",
         "type": "float"
        }
       ],
       "ref": "b6b204d8-8492-4b92-abdb-36f0557e3a0f",
       "rows": [
        [
         "0",
         "2016-2019",
         "0.02",
         "10",
         "0.024",
         "21",
         "{0: 141, 1: 31, 2: 33, 3: 367, 4: 11, 5: 20, 6: 17, 7: 15, 8: 19, 9: 28, 10: 10, 11: 44, 12: 25, 13: 12, 14: 10, 15: 81, 16: 11, 17: 10, 18: 10, 19: 10, -1: 1805}",
         "1805",
         null,
         null,
         null
        ],
        [
         "1",
         "2016-2019",
         "0.02",
         "15",
         "0.019",
         "11",
         "{0: 138, 1: 365, 2: 22, 3: 25, 4: 17, 5: 19, 6: 23, 7: 40, 8: 21, 9: 45, -1: 1995}",
         "1995",
         null,
         null,
         null
        ],
        [
         "2",
         "2016-2019",
         "0.02",
         "25",
         "0.021",
         "4",
         "{0: 136, 1: 360, 2: 28, -1: 2186}",
         "2186",
         null,
         null,
         null
        ],
        [
         "3",
         "2016-2019",
         "0.02",
         "30",
         "0.016",
         "3",
         "{0: 135, 1: 358, -1: 2217}",
         "2217",
         null,
         null,
         "9588.456"
        ],
        [
         "4",
         "2016-2019",
         "0.01",
         "10",
         "0.024",
         "9",
         "{0: 123, 1: 262, 2: 12, 3: 28, 4: 14, 5: 6, 6: 10, 7: 12, -1: 2243}",
         "2243",
         null,
         null,
         null
        ],
        [
         "5",
         "2016-2019",
         "0.01",
         "15",
         "0.000",
         "4",
         "{0: 120, 1: 259, 2: 23, -1: 2308}",
         "2308",
         null,
         null,
         null
        ],
        [
         "6",
         "2016-2019",
         "0.01",
         "25",
         "0.015",
         "3",
         "{0: 116, 1: 256, -1: 2338}",
         "2338",
         null,
         null,
         null
        ],
        [
         "7",
         "2016-2019",
         "0.01",
         "30",
         "0.020",
         "3",
         "{0: 116, 1: 250, -1: 2344}",
         "2344",
         null,
         null,
         "14957.078"
        ],
        [
         "8",
         "2016-2019",
         "0.015",
         "10",
         "0.016",
         "15",
         "{0: 136, 1: 25, 2: 353, 3: 11, 4: 10, 5: 18, 6: 11, 7: 14, 8: 12, 9: 36, 10: 13, 11: 11, 12: 25, 13: 8, -1: 2027}",
         "2027",
         null,
         null,
         null
        ],
        [
         "9",
         "2016-2019",
         "0.015",
         "15",
         "0.016",
         "6",
         "{0: 131, 1: 351, 2: 18, 3: 26, 4: 16, -1: 2168}",
         "2168",
         null,
         null,
         null
        ],
        [
         "10",
         "2016-2019",
         "0.015",
         "25",
         "0.012",
         "3",
         "{0: 126, 1: 314, -1: 2270}",
         "2270",
         null,
         null,
         null
        ],
        [
         "11",
         "2016-2019",
         "0.015",
         "30",
         "0.014",
         "4",
         "{0: 124, 1: 278, 2: 30, -1: 2278}",
         "2278",
         null,
         null,
         "6367.279"
        ]
       ],
       "shape": {
        "columns": 10,
        "rows": 12
       }
      },
      "text/html": [
       "<div>\n",
       "<style scoped>\n",
       "    .dataframe tbody tr th:only-of-type {\n",
       "        vertical-align: middle;\n",
       "    }\n",
       "\n",
       "    .dataframe tbody tr th {\n",
       "        vertical-align: top;\n",
       "    }\n",
       "\n",
       "    .dataframe thead th {\n",
       "        text-align: right;\n",
       "    }\n",
       "</style>\n",
       "<table border=\"1\" class=\"dataframe\">\n",
       "  <thead>\n",
       "    <tr style=\"text-align: right;\">\n",
       "      <th></th>\n",
       "      <th>Year Range</th>\n",
       "      <th>eps</th>\n",
       "      <th>min_samples</th>\n",
       "      <th>Runtime (s)</th>\n",
       "      <th>Clusters</th>\n",
       "      <th>Points per Cluster</th>\n",
       "      <th>Noise Points</th>\n",
       "      <th>Davies-Bouldin</th>\n",
       "      <th>Calinski-Harabasz</th>\n",
       "      <th>Weighted Mean ANOVA F</th>\n",
       "    </tr>\n",
       "  </thead>\n",
       "  <tbody>\n",
       "    <tr>\n",
       "      <th>0</th>\n",
       "      <td>2016-2019</td>\n",
       "      <td>0.020</td>\n",
       "      <td>10</td>\n",
       "      <td>0.024</td>\n",
       "      <td>21</td>\n",
       "      <td>{0: 141, 1: 31, 2: 33, 3: 367, 4: 11, 5: 20, 6...</td>\n",
       "      <td>1805</td>\n",
       "      <td>None</td>\n",
       "      <td>None</td>\n",
       "      <td>NaN</td>\n",
       "    </tr>\n",
       "    <tr>\n",
       "      <th>1</th>\n",
       "      <td>2016-2019</td>\n",
       "      <td>0.020</td>\n",
       "      <td>15</td>\n",
       "      <td>0.019</td>\n",
       "      <td>11</td>\n",
       "      <td>{0: 138, 1: 365, 2: 22, 3: 25, 4: 17, 5: 19, 6...</td>\n",
       "      <td>1995</td>\n",
       "      <td>None</td>\n",
       "      <td>None</td>\n",
       "      <td>NaN</td>\n",
       "    </tr>\n",
       "    <tr>\n",
       "      <th>2</th>\n",
       "      <td>2016-2019</td>\n",
       "      <td>0.020</td>\n",
       "      <td>25</td>\n",
       "      <td>0.021</td>\n",
       "      <td>4</td>\n",
       "      <td>{0: 136, 1: 360, 2: 28, -1: 2186}</td>\n",
       "      <td>2186</td>\n",
       "      <td>None</td>\n",
       "      <td>None</td>\n",
       "      <td>NaN</td>\n",
       "    </tr>\n",
       "    <tr>\n",
       "      <th>3</th>\n",
       "      <td>2016-2019</td>\n",
       "      <td>0.020</td>\n",
       "      <td>30</td>\n",
       "      <td>0.016</td>\n",
       "      <td>3</td>\n",
       "      <td>{0: 135, 1: 358, -1: 2217}</td>\n",
       "      <td>2217</td>\n",
       "      <td>None</td>\n",
       "      <td>None</td>\n",
       "      <td>9588.456</td>\n",
       "    </tr>\n",
       "    <tr>\n",
       "      <th>4</th>\n",
       "      <td>2016-2019</td>\n",
       "      <td>0.010</td>\n",
       "      <td>10</td>\n",
       "      <td>0.024</td>\n",
       "      <td>9</td>\n",
       "      <td>{0: 123, 1: 262, 2: 12, 3: 28, 4: 14, 5: 6, 6:...</td>\n",
       "      <td>2243</td>\n",
       "      <td>None</td>\n",
       "      <td>None</td>\n",
       "      <td>NaN</td>\n",
       "    </tr>\n",
       "    <tr>\n",
       "      <th>5</th>\n",
       "      <td>2016-2019</td>\n",
       "      <td>0.010</td>\n",
       "      <td>15</td>\n",
       "      <td>0.000</td>\n",
       "      <td>4</td>\n",
       "      <td>{0: 120, 1: 259, 2: 23, -1: 2308}</td>\n",
       "      <td>2308</td>\n",
       "      <td>None</td>\n",
       "      <td>None</td>\n",
       "      <td>NaN</td>\n",
       "    </tr>\n",
       "    <tr>\n",
       "      <th>6</th>\n",
       "      <td>2016-2019</td>\n",
       "      <td>0.010</td>\n",
       "      <td>25</td>\n",
       "      <td>0.015</td>\n",
       "      <td>3</td>\n",
       "      <td>{0: 116, 1: 256, -1: 2338}</td>\n",
       "      <td>2338</td>\n",
       "      <td>None</td>\n",
       "      <td>None</td>\n",
       "      <td>NaN</td>\n",
       "    </tr>\n",
       "    <tr>\n",
       "      <th>7</th>\n",
       "      <td>2016-2019</td>\n",
       "      <td>0.010</td>\n",
       "      <td>30</td>\n",
       "      <td>0.020</td>\n",
       "      <td>3</td>\n",
       "      <td>{0: 116, 1: 250, -1: 2344}</td>\n",
       "      <td>2344</td>\n",
       "      <td>None</td>\n",
       "      <td>None</td>\n",
       "      <td>14957.078</td>\n",
       "    </tr>\n",
       "    <tr>\n",
       "      <th>8</th>\n",
       "      <td>2016-2019</td>\n",
       "      <td>0.015</td>\n",
       "      <td>10</td>\n",
       "      <td>0.016</td>\n",
       "      <td>15</td>\n",
       "      <td>{0: 136, 1: 25, 2: 353, 3: 11, 4: 10, 5: 18, 6...</td>\n",
       "      <td>2027</td>\n",
       "      <td>None</td>\n",
       "      <td>None</td>\n",
       "      <td>NaN</td>\n",
       "    </tr>\n",
       "    <tr>\n",
       "      <th>9</th>\n",
       "      <td>2016-2019</td>\n",
       "      <td>0.015</td>\n",
       "      <td>15</td>\n",
       "      <td>0.016</td>\n",
       "      <td>6</td>\n",
       "      <td>{0: 131, 1: 351, 2: 18, 3: 26, 4: 16, -1: 2168}</td>\n",
       "      <td>2168</td>\n",
       "      <td>None</td>\n",
       "      <td>None</td>\n",
       "      <td>NaN</td>\n",
       "    </tr>\n",
       "    <tr>\n",
       "      <th>10</th>\n",
       "      <td>2016-2019</td>\n",
       "      <td>0.015</td>\n",
       "      <td>25</td>\n",
       "      <td>0.012</td>\n",
       "      <td>3</td>\n",
       "      <td>{0: 126, 1: 314, -1: 2270}</td>\n",
       "      <td>2270</td>\n",
       "      <td>None</td>\n",
       "      <td>None</td>\n",
       "      <td>NaN</td>\n",
       "    </tr>\n",
       "    <tr>\n",
       "      <th>11</th>\n",
       "      <td>2016-2019</td>\n",
       "      <td>0.015</td>\n",
       "      <td>30</td>\n",
       "      <td>0.014</td>\n",
       "      <td>4</td>\n",
       "      <td>{0: 124, 1: 278, 2: 30, -1: 2278}</td>\n",
       "      <td>2278</td>\n",
       "      <td>None</td>\n",
       "      <td>None</td>\n",
       "      <td>6367.279</td>\n",
       "    </tr>\n",
       "  </tbody>\n",
       "</table>\n",
       "</div>"
      ],
      "text/plain": [
       "   Year Range    eps  min_samples Runtime (s)  Clusters  \\\n",
       "0   2016-2019  0.020           10       0.024        21   \n",
       "1   2016-2019  0.020           15       0.019        11   \n",
       "2   2016-2019  0.020           25       0.021         4   \n",
       "3   2016-2019  0.020           30       0.016         3   \n",
       "4   2016-2019  0.010           10       0.024         9   \n",
       "5   2016-2019  0.010           15       0.000         4   \n",
       "6   2016-2019  0.010           25       0.015         3   \n",
       "7   2016-2019  0.010           30       0.020         3   \n",
       "8   2016-2019  0.015           10       0.016        15   \n",
       "9   2016-2019  0.015           15       0.016         6   \n",
       "10  2016-2019  0.015           25       0.012         3   \n",
       "11  2016-2019  0.015           30       0.014         4   \n",
       "\n",
       "                                   Points per Cluster  Noise Points  \\\n",
       "0   {0: 141, 1: 31, 2: 33, 3: 367, 4: 11, 5: 20, 6...          1805   \n",
       "1   {0: 138, 1: 365, 2: 22, 3: 25, 4: 17, 5: 19, 6...          1995   \n",
       "2                   {0: 136, 1: 360, 2: 28, -1: 2186}          2186   \n",
       "3                          {0: 135, 1: 358, -1: 2217}          2217   \n",
       "4   {0: 123, 1: 262, 2: 12, 3: 28, 4: 14, 5: 6, 6:...          2243   \n",
       "5                   {0: 120, 1: 259, 2: 23, -1: 2308}          2308   \n",
       "6                          {0: 116, 1: 256, -1: 2338}          2338   \n",
       "7                          {0: 116, 1: 250, -1: 2344}          2344   \n",
       "8   {0: 136, 1: 25, 2: 353, 3: 11, 4: 10, 5: 18, 6...          2027   \n",
       "9     {0: 131, 1: 351, 2: 18, 3: 26, 4: 16, -1: 2168}          2168   \n",
       "10                         {0: 126, 1: 314, -1: 2270}          2270   \n",
       "11                  {0: 124, 1: 278, 2: 30, -1: 2278}          2278   \n",
       "\n",
       "   Davies-Bouldin Calinski-Harabasz  Weighted Mean ANOVA F  \n",
       "0            None              None                    NaN  \n",
       "1            None              None                    NaN  \n",
       "2            None              None                    NaN  \n",
       "3            None              None               9588.456  \n",
       "4            None              None                    NaN  \n",
       "5            None              None                    NaN  \n",
       "6            None              None                    NaN  \n",
       "7            None              None              14957.078  \n",
       "8            None              None                    NaN  \n",
       "9            None              None                    NaN  \n",
       "10           None              None                    NaN  \n",
       "11           None              None               6367.279  "
      ]
     },
     "metadata": {},
     "output_type": "display_data"
    },
    {
     "name": "stdout",
     "output_type": "stream",
     "text": [
      "\n",
      "Running DBSCAN for Year Range: 2017-2020\n",
      "Runtime for dbscan_clustering: 0.031209 seconds\n"
     ]
    },
    {
     "name": "stderr",
     "output_type": "stream",
     "text": [
      "c:\\Users\\fionu\\OneDrive\\Dokumente\\Daten Fiona\\AIUB\\Code\\AIUB-Backup\\clustering\\high_dim_analysis.py:138: FutureWarning: \n",
      "\n",
      "Passing `palette` without assigning `hue` is deprecated and will be removed in v0.14.0. Assign the `y` variable to `hue` and set `legend=False` for the same effect.\n",
      "\n",
      "  sns.barplot(x=mi_vals, y=features, palette=\"magma\")\n"
     ]
    },
    {
     "name": "stdout",
     "output_type": "stream",
     "text": [
      "Runtime for dbscan_clustering: 0.020756 seconds\n"
     ]
    },
    {
     "name": "stderr",
     "output_type": "stream",
     "text": [
      "c:\\Users\\fionu\\OneDrive\\Dokumente\\Daten Fiona\\AIUB\\Code\\AIUB-Backup\\clustering\\high_dim_analysis.py:138: FutureWarning: \n",
      "\n",
      "Passing `palette` without assigning `hue` is deprecated and will be removed in v0.14.0. Assign the `y` variable to `hue` and set `legend=False` for the same effect.\n",
      "\n",
      "  sns.barplot(x=mi_vals, y=features, palette=\"magma\")\n"
     ]
    },
    {
     "name": "stdout",
     "output_type": "stream",
     "text": [
      "Runtime for dbscan_clustering: 0.022011 seconds\n"
     ]
    },
    {
     "name": "stderr",
     "output_type": "stream",
     "text": [
      "c:\\Users\\fionu\\OneDrive\\Dokumente\\Daten Fiona\\AIUB\\Code\\AIUB-Backup\\clustering\\high_dim_analysis.py:138: FutureWarning: \n",
      "\n",
      "Passing `palette` without assigning `hue` is deprecated and will be removed in v0.14.0. Assign the `y` variable to `hue` and set `legend=False` for the same effect.\n",
      "\n",
      "  sns.barplot(x=mi_vals, y=features, palette=\"magma\")\n"
     ]
    },
    {
     "name": "stdout",
     "output_type": "stream",
     "text": [
      "Runtime for dbscan_clustering: 0.021649 seconds\n"
     ]
    },
    {
     "name": "stderr",
     "output_type": "stream",
     "text": [
      "c:\\Users\\fionu\\OneDrive\\Dokumente\\Daten Fiona\\AIUB\\Code\\AIUB-Backup\\clustering\\high_dim_analysis.py:138: FutureWarning: \n",
      "\n",
      "Passing `palette` without assigning `hue` is deprecated and will be removed in v0.14.0. Assign the `y` variable to `hue` and set `legend=False` for the same effect.\n",
      "\n",
      "  sns.barplot(x=mi_vals, y=features, palette=\"magma\")\n"
     ]
    },
    {
     "name": "stdout",
     "output_type": "stream",
     "text": [
      "Runtime for dbscan_clustering: 0.017698 seconds\n"
     ]
    },
    {
     "name": "stderr",
     "output_type": "stream",
     "text": [
      "c:\\Users\\fionu\\OneDrive\\Dokumente\\Daten Fiona\\AIUB\\Code\\AIUB-Backup\\clustering\\high_dim_analysis.py:138: FutureWarning: \n",
      "\n",
      "Passing `palette` without assigning `hue` is deprecated and will be removed in v0.14.0. Assign the `y` variable to `hue` and set `legend=False` for the same effect.\n",
      "\n",
      "  sns.barplot(x=mi_vals, y=features, palette=\"magma\")\n"
     ]
    },
    {
     "name": "stdout",
     "output_type": "stream",
     "text": [
      "Runtime for dbscan_clustering: 0.008636 seconds\n"
     ]
    },
    {
     "name": "stderr",
     "output_type": "stream",
     "text": [
      "c:\\Users\\fionu\\OneDrive\\Dokumente\\Daten Fiona\\AIUB\\Code\\AIUB-Backup\\clustering\\high_dim_analysis.py:138: FutureWarning: \n",
      "\n",
      "Passing `palette` without assigning `hue` is deprecated and will be removed in v0.14.0. Assign the `y` variable to `hue` and set `legend=False` for the same effect.\n",
      "\n",
      "  sns.barplot(x=mi_vals, y=features, palette=\"magma\")\n"
     ]
    },
    {
     "name": "stdout",
     "output_type": "stream",
     "text": [
      "Runtime for dbscan_clustering: 0.020345 seconds\n"
     ]
    },
    {
     "name": "stderr",
     "output_type": "stream",
     "text": [
      "c:\\Users\\fionu\\OneDrive\\Dokumente\\Daten Fiona\\AIUB\\Code\\AIUB-Backup\\clustering\\high_dim_analysis.py:138: FutureWarning: \n",
      "\n",
      "Passing `palette` without assigning `hue` is deprecated and will be removed in v0.14.0. Assign the `y` variable to `hue` and set `legend=False` for the same effect.\n",
      "\n",
      "  sns.barplot(x=mi_vals, y=features, palette=\"magma\")\n"
     ]
    },
    {
     "name": "stdout",
     "output_type": "stream",
     "text": [
      "Runtime for dbscan_clustering: 0.005618 seconds\n"
     ]
    },
    {
     "name": "stderr",
     "output_type": "stream",
     "text": [
      "c:\\Users\\fionu\\OneDrive\\Dokumente\\Daten Fiona\\AIUB\\Code\\AIUB-Backup\\clustering\\high_dim_analysis.py:138: FutureWarning: \n",
      "\n",
      "Passing `palette` without assigning `hue` is deprecated and will be removed in v0.14.0. Assign the `y` variable to `hue` and set `legend=False` for the same effect.\n",
      "\n",
      "  sns.barplot(x=mi_vals, y=features, palette=\"magma\")\n"
     ]
    },
    {
     "name": "stdout",
     "output_type": "stream",
     "text": [
      "Runtime for dbscan_clustering: 0.020322 seconds\n"
     ]
    },
    {
     "name": "stderr",
     "output_type": "stream",
     "text": [
      "c:\\Users\\fionu\\OneDrive\\Dokumente\\Daten Fiona\\AIUB\\Code\\AIUB-Backup\\clustering\\high_dim_analysis.py:138: FutureWarning: \n",
      "\n",
      "Passing `palette` without assigning `hue` is deprecated and will be removed in v0.14.0. Assign the `y` variable to `hue` and set `legend=False` for the same effect.\n",
      "\n",
      "  sns.barplot(x=mi_vals, y=features, palette=\"magma\")\n"
     ]
    },
    {
     "name": "stdout",
     "output_type": "stream",
     "text": [
      "Runtime for dbscan_clustering: 0.008061 seconds\n"
     ]
    },
    {
     "name": "stderr",
     "output_type": "stream",
     "text": [
      "c:\\Users\\fionu\\OneDrive\\Dokumente\\Daten Fiona\\AIUB\\Code\\AIUB-Backup\\clustering\\high_dim_analysis.py:138: FutureWarning: \n",
      "\n",
      "Passing `palette` without assigning `hue` is deprecated and will be removed in v0.14.0. Assign the `y` variable to `hue` and set `legend=False` for the same effect.\n",
      "\n",
      "  sns.barplot(x=mi_vals, y=features, palette=\"magma\")\n"
     ]
    },
    {
     "name": "stdout",
     "output_type": "stream",
     "text": [
      "Runtime for dbscan_clustering: 0.028336 seconds\n"
     ]
    },
    {
     "name": "stderr",
     "output_type": "stream",
     "text": [
      "c:\\Users\\fionu\\OneDrive\\Dokumente\\Daten Fiona\\AIUB\\Code\\AIUB-Backup\\clustering\\high_dim_analysis.py:138: FutureWarning: \n",
      "\n",
      "Passing `palette` without assigning `hue` is deprecated and will be removed in v0.14.0. Assign the `y` variable to `hue` and set `legend=False` for the same effect.\n",
      "\n",
      "  sns.barplot(x=mi_vals, y=features, palette=\"magma\")\n"
     ]
    },
    {
     "name": "stdout",
     "output_type": "stream",
     "text": [
      "Runtime for dbscan_clustering: 0.014084 seconds\n"
     ]
    },
    {
     "name": "stderr",
     "output_type": "stream",
     "text": [
      "c:\\Users\\fionu\\OneDrive\\Dokumente\\Daten Fiona\\AIUB\\Code\\AIUB-Backup\\clustering\\high_dim_analysis.py:138: FutureWarning: \n",
      "\n",
      "Passing `palette` without assigning `hue` is deprecated and will be removed in v0.14.0. Assign the `y` variable to `hue` and set `legend=False` for the same effect.\n",
      "\n",
      "  sns.barplot(x=mi_vals, y=features, palette=\"magma\")\n"
     ]
    },
    {
     "name": "stdout",
     "output_type": "stream",
     "text": [
      "Runtime for dbscan_clustering: 0.020476 seconds\n",
      "Best DBSCAN parameters based on ANOVA F-value:\n",
      "Year Range                               2017-2020\n",
      "eps                                           0.01\n",
      "min_samples                                     30\n",
      "Runtime (s)                                  0.006\n",
      "Clusters                                         3\n",
      "Points per Cluster       {0: 421, 1: 35, -1: 2835}\n",
      "Noise Points                                  2835\n",
      "Davies-Bouldin                                None\n",
      "Calinski-Harabasz                             None\n",
      "Weighted Mean ANOVA F                       22.152\n",
      "Name: 7, dtype: object\n"
     ]
    },
    {
     "name": "stderr",
     "output_type": "stream",
     "text": [
      "c:\\Users\\fionu\\OneDrive\\Dokumente\\Daten Fiona\\AIUB\\Code\\AIUB-Backup\\clustering\\high_dim_analysis.py:42: FutureWarning: \n",
      "\n",
      "Passing `palette` without assigning `hue` is deprecated and will be removed in v0.14.0. Assign the `y` variable to `hue` and set `legend=False` for the same effect.\n",
      "\n",
      "  sns.barplot(x=f_vals, y=features, palette=\"crest\")\n"
     ]
    },
    {
     "data": {
      "application/vnd.microsoft.datawrangler.viewer.v0+json": {
       "columns": [
        {
         "name": "index",
         "rawType": "int64",
         "type": "integer"
        },
        {
         "name": "Year Range",
         "rawType": "object",
         "type": "string"
        },
        {
         "name": "eps",
         "rawType": "float64",
         "type": "float"
        },
        {
         "name": "min_samples",
         "rawType": "int64",
         "type": "integer"
        },
        {
         "name": "Runtime (s)",
         "rawType": "object",
         "type": "string"
        },
        {
         "name": "Clusters",
         "rawType": "int64",
         "type": "integer"
        },
        {
         "name": "Points per Cluster",
         "rawType": "object",
         "type": "unknown"
        },
        {
         "name": "Noise Points",
         "rawType": "int32",
         "type": "integer"
        },
        {
         "name": "Davies-Bouldin",
         "rawType": "object",
         "type": "unknown"
        },
        {
         "name": "Calinski-Harabasz",
         "rawType": "object",
         "type": "unknown"
        },
        {
         "name": "Weighted Mean ANOVA F",
         "rawType": "float64",
         "type": "float"
        }
       ],
       "ref": "a1900c06-1647-44fa-b2e1-00141fb7825d",
       "rows": [
        [
         "0",
         "2017-2020",
         "0.02",
         "10",
         "0.031",
         "36",
         "{0: 586, 1: 33, 2: 10, 3: 38, 4: 17, 5: 16, 6: 22, 7: 25, 8: 16, 9: 33, 10: 11, 11: 16, 12: 29, 13: 11, 14: 27, 15: 10, 16: 14, 17: 11, 18: 10, 19: 10, 20: 13, 21: 23, 22: 20, 23: 14, 24: 12, 25: 11, 26: 17, 27: 13, 28: 87, 29: 16, 30: 10, 31: 10, 32: 15, 33: 8, 34: 11, -1: 2066}",
         "2066",
         null,
         null,
         null
        ],
        [
         "1",
         "2017-2020",
         "0.02",
         "15",
         "0.021",
         "17",
         "{0: 586, 1: 31, 2: 34, 3: 22, 4: 20, 5: 16, 6: 33, 7: 16, 8: 26, 9: 15, 10: 23, 11: 15, 12: 40, 13: 17, 14: 15, 15: 15, -1: 2367}",
         "2367",
         null,
         null,
         null
        ],
        [
         "2",
         "2017-2020",
         "0.02",
         "25",
         "0.022",
         "4",
         "{0: 586, 1: 26, 2: 25, -1: 2654}",
         "2654",
         null,
         null,
         null
        ],
        [
         "3",
         "2017-2020",
         "0.02",
         "30",
         "0.022",
         "2",
         "{0: 582, -1: 2709}",
         "2709",
         null,
         null,
         "0.0"
        ],
        [
         "4",
         "2017-2020",
         "0.01",
         "10",
         "0.018",
         "16",
         "{0: 503, 1: 14, 2: 10, 3: 10, 4: 19, 5: 10, 6: 10, 7: 13, 8: 10, 9: 11, 10: 13, 11: 13, 12: 13, 13: 14, 14: 10, -1: 2618}",
         "2618",
         null,
         null,
         null
        ],
        [
         "5",
         "2017-2020",
         "0.01",
         "15",
         "0.009",
         "2",
         "{0: 487, -1: 2804}",
         "2804",
         null,
         null,
         null
        ],
        [
         "6",
         "2017-2020",
         "0.01",
         "25",
         "0.020",
         "3",
         "{0: 422, 1: 43, -1: 2826}",
         "2826",
         null,
         null,
         null
        ],
        [
         "7",
         "2017-2020",
         "0.01",
         "30",
         "0.006",
         "3",
         "{0: 421, 1: 35, -1: 2835}",
         "2835",
         null,
         null,
         "22.152"
        ],
        [
         "8",
         "2017-2020",
         "0.015",
         "10",
         "0.020",
         "25",
         "{0: 574, 1: 25, 2: 10, 3: 28, 4: 14, 5: 22, 6: 12, 7: 16, 8: 22, 9: 11, 10: 12, 11: 12, 12: 14, 13: 10, 14: 11, 15: 15, 16: 10, 17: 13, 18: 19, 19: 10, 20: 10, 21: 31, 22: 16, 23: 11, -1: 2363}",
         "2363",
         null,
         null,
         null
        ],
        [
         "9",
         "2017-2020",
         "0.015",
         "15",
         "0.008",
         "10",
         "{0: 569, 1: 23, 2: 22, 3: 16, 4: 15, 5: 20, 6: 19, 7: 18, 8: 18, -1: 2571}",
         "2571",
         null,
         null,
         null
        ],
        [
         "10",
         "2017-2020",
         "0.015",
         "25",
         "0.028",
         "2",
         "{0: 565, -1: 2726}",
         "2726",
         null,
         null,
         null
        ],
        [
         "11",
         "2017-2020",
         "0.015",
         "30",
         "0.014",
         "2",
         "{0: 539, -1: 2752}",
         "2752",
         null,
         null,
         "0.0"
        ]
       ],
       "shape": {
        "columns": 10,
        "rows": 12
       }
      },
      "text/html": [
       "<div>\n",
       "<style scoped>\n",
       "    .dataframe tbody tr th:only-of-type {\n",
       "        vertical-align: middle;\n",
       "    }\n",
       "\n",
       "    .dataframe tbody tr th {\n",
       "        vertical-align: top;\n",
       "    }\n",
       "\n",
       "    .dataframe thead th {\n",
       "        text-align: right;\n",
       "    }\n",
       "</style>\n",
       "<table border=\"1\" class=\"dataframe\">\n",
       "  <thead>\n",
       "    <tr style=\"text-align: right;\">\n",
       "      <th></th>\n",
       "      <th>Year Range</th>\n",
       "      <th>eps</th>\n",
       "      <th>min_samples</th>\n",
       "      <th>Runtime (s)</th>\n",
       "      <th>Clusters</th>\n",
       "      <th>Points per Cluster</th>\n",
       "      <th>Noise Points</th>\n",
       "      <th>Davies-Bouldin</th>\n",
       "      <th>Calinski-Harabasz</th>\n",
       "      <th>Weighted Mean ANOVA F</th>\n",
       "    </tr>\n",
       "  </thead>\n",
       "  <tbody>\n",
       "    <tr>\n",
       "      <th>0</th>\n",
       "      <td>2017-2020</td>\n",
       "      <td>0.020</td>\n",
       "      <td>10</td>\n",
       "      <td>0.031</td>\n",
       "      <td>36</td>\n",
       "      <td>{0: 586, 1: 33, 2: 10, 3: 38, 4: 17, 5: 16, 6:...</td>\n",
       "      <td>2066</td>\n",
       "      <td>None</td>\n",
       "      <td>None</td>\n",
       "      <td>NaN</td>\n",
       "    </tr>\n",
       "    <tr>\n",
       "      <th>1</th>\n",
       "      <td>2017-2020</td>\n",
       "      <td>0.020</td>\n",
       "      <td>15</td>\n",
       "      <td>0.021</td>\n",
       "      <td>17</td>\n",
       "      <td>{0: 586, 1: 31, 2: 34, 3: 22, 4: 20, 5: 16, 6:...</td>\n",
       "      <td>2367</td>\n",
       "      <td>None</td>\n",
       "      <td>None</td>\n",
       "      <td>NaN</td>\n",
       "    </tr>\n",
       "    <tr>\n",
       "      <th>2</th>\n",
       "      <td>2017-2020</td>\n",
       "      <td>0.020</td>\n",
       "      <td>25</td>\n",
       "      <td>0.022</td>\n",
       "      <td>4</td>\n",
       "      <td>{0: 586, 1: 26, 2: 25, -1: 2654}</td>\n",
       "      <td>2654</td>\n",
       "      <td>None</td>\n",
       "      <td>None</td>\n",
       "      <td>NaN</td>\n",
       "    </tr>\n",
       "    <tr>\n",
       "      <th>3</th>\n",
       "      <td>2017-2020</td>\n",
       "      <td>0.020</td>\n",
       "      <td>30</td>\n",
       "      <td>0.022</td>\n",
       "      <td>2</td>\n",
       "      <td>{0: 582, -1: 2709}</td>\n",
       "      <td>2709</td>\n",
       "      <td>None</td>\n",
       "      <td>None</td>\n",
       "      <td>0.000</td>\n",
       "    </tr>\n",
       "    <tr>\n",
       "      <th>4</th>\n",
       "      <td>2017-2020</td>\n",
       "      <td>0.010</td>\n",
       "      <td>10</td>\n",
       "      <td>0.018</td>\n",
       "      <td>16</td>\n",
       "      <td>{0: 503, 1: 14, 2: 10, 3: 10, 4: 19, 5: 10, 6:...</td>\n",
       "      <td>2618</td>\n",
       "      <td>None</td>\n",
       "      <td>None</td>\n",
       "      <td>NaN</td>\n",
       "    </tr>\n",
       "    <tr>\n",
       "      <th>5</th>\n",
       "      <td>2017-2020</td>\n",
       "      <td>0.010</td>\n",
       "      <td>15</td>\n",
       "      <td>0.009</td>\n",
       "      <td>2</td>\n",
       "      <td>{0: 487, -1: 2804}</td>\n",
       "      <td>2804</td>\n",
       "      <td>None</td>\n",
       "      <td>None</td>\n",
       "      <td>NaN</td>\n",
       "    </tr>\n",
       "    <tr>\n",
       "      <th>6</th>\n",
       "      <td>2017-2020</td>\n",
       "      <td>0.010</td>\n",
       "      <td>25</td>\n",
       "      <td>0.020</td>\n",
       "      <td>3</td>\n",
       "      <td>{0: 422, 1: 43, -1: 2826}</td>\n",
       "      <td>2826</td>\n",
       "      <td>None</td>\n",
       "      <td>None</td>\n",
       "      <td>NaN</td>\n",
       "    </tr>\n",
       "    <tr>\n",
       "      <th>7</th>\n",
       "      <td>2017-2020</td>\n",
       "      <td>0.010</td>\n",
       "      <td>30</td>\n",
       "      <td>0.006</td>\n",
       "      <td>3</td>\n",
       "      <td>{0: 421, 1: 35, -1: 2835}</td>\n",
       "      <td>2835</td>\n",
       "      <td>None</td>\n",
       "      <td>None</td>\n",
       "      <td>22.152</td>\n",
       "    </tr>\n",
       "    <tr>\n",
       "      <th>8</th>\n",
       "      <td>2017-2020</td>\n",
       "      <td>0.015</td>\n",
       "      <td>10</td>\n",
       "      <td>0.020</td>\n",
       "      <td>25</td>\n",
       "      <td>{0: 574, 1: 25, 2: 10, 3: 28, 4: 14, 5: 22, 6:...</td>\n",
       "      <td>2363</td>\n",
       "      <td>None</td>\n",
       "      <td>None</td>\n",
       "      <td>NaN</td>\n",
       "    </tr>\n",
       "    <tr>\n",
       "      <th>9</th>\n",
       "      <td>2017-2020</td>\n",
       "      <td>0.015</td>\n",
       "      <td>15</td>\n",
       "      <td>0.008</td>\n",
       "      <td>10</td>\n",
       "      <td>{0: 569, 1: 23, 2: 22, 3: 16, 4: 15, 5: 20, 6:...</td>\n",
       "      <td>2571</td>\n",
       "      <td>None</td>\n",
       "      <td>None</td>\n",
       "      <td>NaN</td>\n",
       "    </tr>\n",
       "    <tr>\n",
       "      <th>10</th>\n",
       "      <td>2017-2020</td>\n",
       "      <td>0.015</td>\n",
       "      <td>25</td>\n",
       "      <td>0.028</td>\n",
       "      <td>2</td>\n",
       "      <td>{0: 565, -1: 2726}</td>\n",
       "      <td>2726</td>\n",
       "      <td>None</td>\n",
       "      <td>None</td>\n",
       "      <td>NaN</td>\n",
       "    </tr>\n",
       "    <tr>\n",
       "      <th>11</th>\n",
       "      <td>2017-2020</td>\n",
       "      <td>0.015</td>\n",
       "      <td>30</td>\n",
       "      <td>0.014</td>\n",
       "      <td>2</td>\n",
       "      <td>{0: 539, -1: 2752}</td>\n",
       "      <td>2752</td>\n",
       "      <td>None</td>\n",
       "      <td>None</td>\n",
       "      <td>0.000</td>\n",
       "    </tr>\n",
       "  </tbody>\n",
       "</table>\n",
       "</div>"
      ],
      "text/plain": [
       "   Year Range    eps  min_samples Runtime (s)  Clusters  \\\n",
       "0   2017-2020  0.020           10       0.031        36   \n",
       "1   2017-2020  0.020           15       0.021        17   \n",
       "2   2017-2020  0.020           25       0.022         4   \n",
       "3   2017-2020  0.020           30       0.022         2   \n",
       "4   2017-2020  0.010           10       0.018        16   \n",
       "5   2017-2020  0.010           15       0.009         2   \n",
       "6   2017-2020  0.010           25       0.020         3   \n",
       "7   2017-2020  0.010           30       0.006         3   \n",
       "8   2017-2020  0.015           10       0.020        25   \n",
       "9   2017-2020  0.015           15       0.008        10   \n",
       "10  2017-2020  0.015           25       0.028         2   \n",
       "11  2017-2020  0.015           30       0.014         2   \n",
       "\n",
       "                                   Points per Cluster  Noise Points  \\\n",
       "0   {0: 586, 1: 33, 2: 10, 3: 38, 4: 17, 5: 16, 6:...          2066   \n",
       "1   {0: 586, 1: 31, 2: 34, 3: 22, 4: 20, 5: 16, 6:...          2367   \n",
       "2                    {0: 586, 1: 26, 2: 25, -1: 2654}          2654   \n",
       "3                                  {0: 582, -1: 2709}          2709   \n",
       "4   {0: 503, 1: 14, 2: 10, 3: 10, 4: 19, 5: 10, 6:...          2618   \n",
       "5                                  {0: 487, -1: 2804}          2804   \n",
       "6                           {0: 422, 1: 43, -1: 2826}          2826   \n",
       "7                           {0: 421, 1: 35, -1: 2835}          2835   \n",
       "8   {0: 574, 1: 25, 2: 10, 3: 28, 4: 14, 5: 22, 6:...          2363   \n",
       "9   {0: 569, 1: 23, 2: 22, 3: 16, 4: 15, 5: 20, 6:...          2571   \n",
       "10                                 {0: 565, -1: 2726}          2726   \n",
       "11                                 {0: 539, -1: 2752}          2752   \n",
       "\n",
       "   Davies-Bouldin Calinski-Harabasz  Weighted Mean ANOVA F  \n",
       "0            None              None                    NaN  \n",
       "1            None              None                    NaN  \n",
       "2            None              None                    NaN  \n",
       "3            None              None                  0.000  \n",
       "4            None              None                    NaN  \n",
       "5            None              None                    NaN  \n",
       "6            None              None                    NaN  \n",
       "7            None              None                 22.152  \n",
       "8            None              None                    NaN  \n",
       "9            None              None                    NaN  \n",
       "10           None              None                    NaN  \n",
       "11           None              None                  0.000  "
      ]
     },
     "metadata": {},
     "output_type": "display_data"
    },
    {
     "name": "stdout",
     "output_type": "stream",
     "text": [
      "\n",
      "Running DBSCAN for Year Range: 2018-2021\n",
      "Runtime for dbscan_clustering: 0.037586 seconds\n"
     ]
    },
    {
     "name": "stderr",
     "output_type": "stream",
     "text": [
      "c:\\Users\\fionu\\OneDrive\\Dokumente\\Daten Fiona\\AIUB\\Code\\AIUB-Backup\\clustering\\high_dim_analysis.py:138: FutureWarning: \n",
      "\n",
      "Passing `palette` without assigning `hue` is deprecated and will be removed in v0.14.0. Assign the `y` variable to `hue` and set `legend=False` for the same effect.\n",
      "\n",
      "  sns.barplot(x=mi_vals, y=features, palette=\"magma\")\n"
     ]
    },
    {
     "name": "stdout",
     "output_type": "stream",
     "text": [
      "Runtime for dbscan_clustering: 0.015939 seconds\n"
     ]
    },
    {
     "name": "stderr",
     "output_type": "stream",
     "text": [
      "c:\\Users\\fionu\\OneDrive\\Dokumente\\Daten Fiona\\AIUB\\Code\\AIUB-Backup\\clustering\\high_dim_analysis.py:138: FutureWarning: \n",
      "\n",
      "Passing `palette` without assigning `hue` is deprecated and will be removed in v0.14.0. Assign the `y` variable to `hue` and set `legend=False` for the same effect.\n",
      "\n",
      "  sns.barplot(x=mi_vals, y=features, palette=\"magma\")\n"
     ]
    },
    {
     "name": "stdout",
     "output_type": "stream",
     "text": [
      "Runtime for dbscan_clustering: 0.028239 seconds\n"
     ]
    },
    {
     "name": "stderr",
     "output_type": "stream",
     "text": [
      "c:\\Users\\fionu\\OneDrive\\Dokumente\\Daten Fiona\\AIUB\\Code\\AIUB-Backup\\clustering\\high_dim_analysis.py:138: FutureWarning: \n",
      "\n",
      "Passing `palette` without assigning `hue` is deprecated and will be removed in v0.14.0. Assign the `y` variable to `hue` and set `legend=False` for the same effect.\n",
      "\n",
      "  sns.barplot(x=mi_vals, y=features, palette=\"magma\")\n"
     ]
    },
    {
     "name": "stdout",
     "output_type": "stream",
     "text": [
      "Runtime for dbscan_clustering: 0.038944 seconds\n"
     ]
    },
    {
     "name": "stderr",
     "output_type": "stream",
     "text": [
      "c:\\Users\\fionu\\OneDrive\\Dokumente\\Daten Fiona\\AIUB\\Code\\AIUB-Backup\\clustering\\high_dim_analysis.py:138: FutureWarning: \n",
      "\n",
      "Passing `palette` without assigning `hue` is deprecated and will be removed in v0.14.0. Assign the `y` variable to `hue` and set `legend=False` for the same effect.\n",
      "\n",
      "  sns.barplot(x=mi_vals, y=features, palette=\"magma\")\n"
     ]
    },
    {
     "name": "stdout",
     "output_type": "stream",
     "text": [
      "Runtime for dbscan_clustering: 0.023303 seconds\n"
     ]
    },
    {
     "name": "stderr",
     "output_type": "stream",
     "text": [
      "c:\\Users\\fionu\\OneDrive\\Dokumente\\Daten Fiona\\AIUB\\Code\\AIUB-Backup\\clustering\\high_dim_analysis.py:138: FutureWarning: \n",
      "\n",
      "Passing `palette` without assigning `hue` is deprecated and will be removed in v0.14.0. Assign the `y` variable to `hue` and set `legend=False` for the same effect.\n",
      "\n",
      "  sns.barplot(x=mi_vals, y=features, palette=\"magma\")\n"
     ]
    },
    {
     "name": "stdout",
     "output_type": "stream",
     "text": [
      "Runtime for dbscan_clustering: 0.015939 seconds\n"
     ]
    },
    {
     "name": "stderr",
     "output_type": "stream",
     "text": [
      "c:\\Users\\fionu\\OneDrive\\Dokumente\\Daten Fiona\\AIUB\\Code\\AIUB-Backup\\clustering\\high_dim_analysis.py:138: FutureWarning: \n",
      "\n",
      "Passing `palette` without assigning `hue` is deprecated and will be removed in v0.14.0. Assign the `y` variable to `hue` and set `legend=False` for the same effect.\n",
      "\n",
      "  sns.barplot(x=mi_vals, y=features, palette=\"magma\")\n"
     ]
    },
    {
     "name": "stdout",
     "output_type": "stream",
     "text": [
      "Runtime for dbscan_clustering: 0.020845 seconds\n"
     ]
    },
    {
     "name": "stderr",
     "output_type": "stream",
     "text": [
      "c:\\Users\\fionu\\OneDrive\\Dokumente\\Daten Fiona\\AIUB\\Code\\AIUB-Backup\\clustering\\high_dim_analysis.py:138: FutureWarning: \n",
      "\n",
      "Passing `palette` without assigning `hue` is deprecated and will be removed in v0.14.0. Assign the `y` variable to `hue` and set `legend=False` for the same effect.\n",
      "\n",
      "  sns.barplot(x=mi_vals, y=features, palette=\"magma\")\n"
     ]
    },
    {
     "name": "stdout",
     "output_type": "stream",
     "text": [
      "Runtime for dbscan_clustering: 0.015845 seconds\n"
     ]
    },
    {
     "name": "stderr",
     "output_type": "stream",
     "text": [
      "c:\\Users\\fionu\\OneDrive\\Dokumente\\Daten Fiona\\AIUB\\Code\\AIUB-Backup\\clustering\\high_dim_analysis.py:138: FutureWarning: \n",
      "\n",
      "Passing `palette` without assigning `hue` is deprecated and will be removed in v0.14.0. Assign the `y` variable to `hue` and set `legend=False` for the same effect.\n",
      "\n",
      "  sns.barplot(x=mi_vals, y=features, palette=\"magma\")\n"
     ]
    },
    {
     "name": "stdout",
     "output_type": "stream",
     "text": [
      "Runtime for dbscan_clustering: 0.015740 seconds\n"
     ]
    },
    {
     "name": "stderr",
     "output_type": "stream",
     "text": [
      "c:\\Users\\fionu\\OneDrive\\Dokumente\\Daten Fiona\\AIUB\\Code\\AIUB-Backup\\clustering\\high_dim_analysis.py:138: FutureWarning: \n",
      "\n",
      "Passing `palette` without assigning `hue` is deprecated and will be removed in v0.14.0. Assign the `y` variable to `hue` and set `legend=False` for the same effect.\n",
      "\n",
      "  sns.barplot(x=mi_vals, y=features, palette=\"magma\")\n"
     ]
    },
    {
     "name": "stdout",
     "output_type": "stream",
     "text": [
      "Runtime for dbscan_clustering: 0.015802 seconds\n"
     ]
    },
    {
     "name": "stderr",
     "output_type": "stream",
     "text": [
      "c:\\Users\\fionu\\OneDrive\\Dokumente\\Daten Fiona\\AIUB\\Code\\AIUB-Backup\\clustering\\high_dim_analysis.py:138: FutureWarning: \n",
      "\n",
      "Passing `palette` without assigning `hue` is deprecated and will be removed in v0.14.0. Assign the `y` variable to `hue` and set `legend=False` for the same effect.\n",
      "\n",
      "  sns.barplot(x=mi_vals, y=features, palette=\"magma\")\n"
     ]
    },
    {
     "name": "stdout",
     "output_type": "stream",
     "text": [
      "Runtime for dbscan_clustering: 0.026323 seconds\n"
     ]
    },
    {
     "name": "stderr",
     "output_type": "stream",
     "text": [
      "c:\\Users\\fionu\\OneDrive\\Dokumente\\Daten Fiona\\AIUB\\Code\\AIUB-Backup\\clustering\\high_dim_analysis.py:138: FutureWarning: \n",
      "\n",
      "Passing `palette` without assigning `hue` is deprecated and will be removed in v0.14.0. Assign the `y` variable to `hue` and set `legend=False` for the same effect.\n",
      "\n",
      "  sns.barplot(x=mi_vals, y=features, palette=\"magma\")\n"
     ]
    },
    {
     "name": "stdout",
     "output_type": "stream",
     "text": [
      "Runtime for dbscan_clustering: 0.016158 seconds\n"
     ]
    },
    {
     "name": "stderr",
     "output_type": "stream",
     "text": [
      "c:\\Users\\fionu\\OneDrive\\Dokumente\\Daten Fiona\\AIUB\\Code\\AIUB-Backup\\clustering\\high_dim_analysis.py:138: FutureWarning: \n",
      "\n",
      "Passing `palette` without assigning `hue` is deprecated and will be removed in v0.14.0. Assign the `y` variable to `hue` and set `legend=False` for the same effect.\n",
      "\n",
      "  sns.barplot(x=mi_vals, y=features, palette=\"magma\")\n"
     ]
    },
    {
     "name": "stdout",
     "output_type": "stream",
     "text": [
      "Runtime for dbscan_clustering: 0.015732 seconds\n",
      "Best DBSCAN parameters based on ANOVA F-value:\n",
      "Year Range                               2018-2021\n",
      "eps                                           0.02\n",
      "min_samples                                     30\n",
      "Runtime (s)                                  0.039\n",
      "Clusters                                         3\n",
      "Points per Cluster       {0: 544, 1: 36, -1: 2862}\n",
      "Noise Points                                  2862\n",
      "Davies-Bouldin                                None\n",
      "Calinski-Harabasz                             None\n",
      "Weighted Mean ANOVA F                     63574.18\n",
      "Name: 3, dtype: object\n"
     ]
    },
    {
     "name": "stderr",
     "output_type": "stream",
     "text": [
      "c:\\Users\\fionu\\OneDrive\\Dokumente\\Daten Fiona\\AIUB\\Code\\AIUB-Backup\\clustering\\high_dim_analysis.py:42: FutureWarning: \n",
      "\n",
      "Passing `palette` without assigning `hue` is deprecated and will be removed in v0.14.0. Assign the `y` variable to `hue` and set `legend=False` for the same effect.\n",
      "\n",
      "  sns.barplot(x=f_vals, y=features, palette=\"crest\")\n"
     ]
    },
    {
     "data": {
      "application/vnd.microsoft.datawrangler.viewer.v0+json": {
       "columns": [
        {
         "name": "index",
         "rawType": "int64",
         "type": "integer"
        },
        {
         "name": "Year Range",
         "rawType": "object",
         "type": "string"
        },
        {
         "name": "eps",
         "rawType": "float64",
         "type": "float"
        },
        {
         "name": "min_samples",
         "rawType": "int64",
         "type": "integer"
        },
        {
         "name": "Runtime (s)",
         "rawType": "object",
         "type": "string"
        },
        {
         "name": "Clusters",
         "rawType": "int64",
         "type": "integer"
        },
        {
         "name": "Points per Cluster",
         "rawType": "object",
         "type": "unknown"
        },
        {
         "name": "Noise Points",
         "rawType": "int32",
         "type": "integer"
        },
        {
         "name": "Davies-Bouldin",
         "rawType": "object",
         "type": "unknown"
        },
        {
         "name": "Calinski-Harabasz",
         "rawType": "object",
         "type": "unknown"
        },
        {
         "name": "Weighted Mean ANOVA F",
         "rawType": "float64",
         "type": "float"
        }
       ],
       "ref": "e0a437b5-1ad8-492e-af50-a01a16004a27",
       "rows": [
        [
         "0",
         "2018-2021",
         "0.02",
         "10",
         "0.038",
         "39",
         "{0: 37, 1: 544, 2: 22, 3: 24, 4: 16, 5: 56, 6: 11, 7: 19, 8: 36, 9: 14, 10: 33, 11: 12, 12: 17, 13: 14, 14: 16, 15: 17, 16: 10, 17: 24, 18: 53, 19: 11, 20: 24, 21: 12, 22: 25, 23: 10, 24: 10, 25: 16, 26: 12, 27: 15, 28: 40, 29: 10, 30: 17, 31: 10, 32: 13, 33: 110, 34: 17, 35: 15, 36: 14, 37: 10, -1: 2076}",
         "2076",
         null,
         null,
         null
        ],
        [
         "1",
         "2018-2021",
         "0.02",
         "15",
         "0.016",
         "21",
         "{0: 544, 1: 22, 2: 16, 3: 41, 4: 18, 5: 33, 6: 31, 7: 35, 8: 17, 9: 24, 10: 25, 11: 27, 12: 16, 13: 15, 14: 100, 15: 20, 16: 24, 17: 17, 18: 12, 19: 15, -1: 2390}",
         "2390",
         null,
         null,
         null
        ],
        [
         "2",
         "2018-2021",
         "0.02",
         "25",
         "0.028",
         "6",
         "{0: 544, 1: 41, 2: 29, 3: 29, 4: 26, -1: 2773}",
         "2773",
         null,
         null,
         null
        ],
        [
         "3",
         "2018-2021",
         "0.02",
         "30",
         "0.039",
         "3",
         "{0: 544, 1: 36, -1: 2862}",
         "2862",
         null,
         null,
         "63574.18"
        ],
        [
         "4",
         "2018-2021",
         "0.01",
         "10",
         "0.023",
         "17",
         "{0: 504, 1: 12, 2: 23, 3: 14, 4: 13, 5: 15, 6: 12, 7: 16, 8: 14, 9: 16, 10: 14, 11: 12, 12: 14, 13: 11, 14: 10, 15: 13, -1: 2729}",
         "2729",
         null,
         null,
         null
        ],
        [
         "5",
         "2018-2021",
         "0.01",
         "15",
         "0.016",
         "6",
         "{0: 500, 1: 17, 2: 15, 3: 15, 4: 16, -1: 2879}",
         "2879",
         null,
         null,
         null
        ],
        [
         "6",
         "2018-2021",
         "0.01",
         "25",
         "0.021",
         "3",
         "{0: 66, 1: 384, -1: 2992}",
         "2992",
         null,
         null,
         null
        ],
        [
         "7",
         "2018-2021",
         "0.01",
         "30",
         "0.016",
         "3",
         "{0: 64, 1: 382, -1: 2996}",
         "2996",
         null,
         null,
         "31.652"
        ],
        [
         "8",
         "2018-2021",
         "0.015",
         "10",
         "0.016",
         "34",
         "{0: 22, 1: 11, 2: 16, 3: 537, 4: 26, 5: 11, 6: 13, 7: 31, 8: 14, 9: 20, 10: 12, 11: 24, 12: 13, 13: 18, 14: 10, 15: 10, 16: 16, 17: 11, 18: 20, 19: 13, 20: 10, 21: 16, 22: 11, 23: 11, 24: 13, 25: 13, 26: 11, 27: 14, 28: 40, 29: 35, 30: 16, 31: 11, 32: 10, -1: 2383}",
         "2383",
         null,
         null,
         null
        ],
        [
         "9",
         "2018-2021",
         "0.015",
         "15",
         "0.016",
         "14",
         "{0: 21, 1: 16, 2: 537, 3: 31, 4: 23, 5: 20, 6: 18, 7: 16, 8: 20, 9: 19, 10: 15, 11: 15, 12: 16, -1: 2675}",
         "2675",
         null,
         null,
         null
        ],
        [
         "10",
         "2018-2021",
         "0.015",
         "25",
         "0.026",
         "2",
         "{0: 529, -1: 2913}",
         "2913",
         null,
         null,
         null
        ],
        [
         "11",
         "2018-2021",
         "0.015",
         "30",
         "0.016",
         "2",
         "{0: 515, -1: 2927}",
         "2927",
         null,
         null,
         "0.0"
        ]
       ],
       "shape": {
        "columns": 10,
        "rows": 12
       }
      },
      "text/html": [
       "<div>\n",
       "<style scoped>\n",
       "    .dataframe tbody tr th:only-of-type {\n",
       "        vertical-align: middle;\n",
       "    }\n",
       "\n",
       "    .dataframe tbody tr th {\n",
       "        vertical-align: top;\n",
       "    }\n",
       "\n",
       "    .dataframe thead th {\n",
       "        text-align: right;\n",
       "    }\n",
       "</style>\n",
       "<table border=\"1\" class=\"dataframe\">\n",
       "  <thead>\n",
       "    <tr style=\"text-align: right;\">\n",
       "      <th></th>\n",
       "      <th>Year Range</th>\n",
       "      <th>eps</th>\n",
       "      <th>min_samples</th>\n",
       "      <th>Runtime (s)</th>\n",
       "      <th>Clusters</th>\n",
       "      <th>Points per Cluster</th>\n",
       "      <th>Noise Points</th>\n",
       "      <th>Davies-Bouldin</th>\n",
       "      <th>Calinski-Harabasz</th>\n",
       "      <th>Weighted Mean ANOVA F</th>\n",
       "    </tr>\n",
       "  </thead>\n",
       "  <tbody>\n",
       "    <tr>\n",
       "      <th>0</th>\n",
       "      <td>2018-2021</td>\n",
       "      <td>0.020</td>\n",
       "      <td>10</td>\n",
       "      <td>0.038</td>\n",
       "      <td>39</td>\n",
       "      <td>{0: 37, 1: 544, 2: 22, 3: 24, 4: 16, 5: 56, 6:...</td>\n",
       "      <td>2076</td>\n",
       "      <td>None</td>\n",
       "      <td>None</td>\n",
       "      <td>NaN</td>\n",
       "    </tr>\n",
       "    <tr>\n",
       "      <th>1</th>\n",
       "      <td>2018-2021</td>\n",
       "      <td>0.020</td>\n",
       "      <td>15</td>\n",
       "      <td>0.016</td>\n",
       "      <td>21</td>\n",
       "      <td>{0: 544, 1: 22, 2: 16, 3: 41, 4: 18, 5: 33, 6:...</td>\n",
       "      <td>2390</td>\n",
       "      <td>None</td>\n",
       "      <td>None</td>\n",
       "      <td>NaN</td>\n",
       "    </tr>\n",
       "    <tr>\n",
       "      <th>2</th>\n",
       "      <td>2018-2021</td>\n",
       "      <td>0.020</td>\n",
       "      <td>25</td>\n",
       "      <td>0.028</td>\n",
       "      <td>6</td>\n",
       "      <td>{0: 544, 1: 41, 2: 29, 3: 29, 4: 26, -1: 2773}</td>\n",
       "      <td>2773</td>\n",
       "      <td>None</td>\n",
       "      <td>None</td>\n",
       "      <td>NaN</td>\n",
       "    </tr>\n",
       "    <tr>\n",
       "      <th>3</th>\n",
       "      <td>2018-2021</td>\n",
       "      <td>0.020</td>\n",
       "      <td>30</td>\n",
       "      <td>0.039</td>\n",
       "      <td>3</td>\n",
       "      <td>{0: 544, 1: 36, -1: 2862}</td>\n",
       "      <td>2862</td>\n",
       "      <td>None</td>\n",
       "      <td>None</td>\n",
       "      <td>63574.180</td>\n",
       "    </tr>\n",
       "    <tr>\n",
       "      <th>4</th>\n",
       "      <td>2018-2021</td>\n",
       "      <td>0.010</td>\n",
       "      <td>10</td>\n",
       "      <td>0.023</td>\n",
       "      <td>17</td>\n",
       "      <td>{0: 504, 1: 12, 2: 23, 3: 14, 4: 13, 5: 15, 6:...</td>\n",
       "      <td>2729</td>\n",
       "      <td>None</td>\n",
       "      <td>None</td>\n",
       "      <td>NaN</td>\n",
       "    </tr>\n",
       "    <tr>\n",
       "      <th>5</th>\n",
       "      <td>2018-2021</td>\n",
       "      <td>0.010</td>\n",
       "      <td>15</td>\n",
       "      <td>0.016</td>\n",
       "      <td>6</td>\n",
       "      <td>{0: 500, 1: 17, 2: 15, 3: 15, 4: 16, -1: 2879}</td>\n",
       "      <td>2879</td>\n",
       "      <td>None</td>\n",
       "      <td>None</td>\n",
       "      <td>NaN</td>\n",
       "    </tr>\n",
       "    <tr>\n",
       "      <th>6</th>\n",
       "      <td>2018-2021</td>\n",
       "      <td>0.010</td>\n",
       "      <td>25</td>\n",
       "      <td>0.021</td>\n",
       "      <td>3</td>\n",
       "      <td>{0: 66, 1: 384, -1: 2992}</td>\n",
       "      <td>2992</td>\n",
       "      <td>None</td>\n",
       "      <td>None</td>\n",
       "      <td>NaN</td>\n",
       "    </tr>\n",
       "    <tr>\n",
       "      <th>7</th>\n",
       "      <td>2018-2021</td>\n",
       "      <td>0.010</td>\n",
       "      <td>30</td>\n",
       "      <td>0.016</td>\n",
       "      <td>3</td>\n",
       "      <td>{0: 64, 1: 382, -1: 2996}</td>\n",
       "      <td>2996</td>\n",
       "      <td>None</td>\n",
       "      <td>None</td>\n",
       "      <td>31.652</td>\n",
       "    </tr>\n",
       "    <tr>\n",
       "      <th>8</th>\n",
       "      <td>2018-2021</td>\n",
       "      <td>0.015</td>\n",
       "      <td>10</td>\n",
       "      <td>0.016</td>\n",
       "      <td>34</td>\n",
       "      <td>{0: 22, 1: 11, 2: 16, 3: 537, 4: 26, 5: 11, 6:...</td>\n",
       "      <td>2383</td>\n",
       "      <td>None</td>\n",
       "      <td>None</td>\n",
       "      <td>NaN</td>\n",
       "    </tr>\n",
       "    <tr>\n",
       "      <th>9</th>\n",
       "      <td>2018-2021</td>\n",
       "      <td>0.015</td>\n",
       "      <td>15</td>\n",
       "      <td>0.016</td>\n",
       "      <td>14</td>\n",
       "      <td>{0: 21, 1: 16, 2: 537, 3: 31, 4: 23, 5: 20, 6:...</td>\n",
       "      <td>2675</td>\n",
       "      <td>None</td>\n",
       "      <td>None</td>\n",
       "      <td>NaN</td>\n",
       "    </tr>\n",
       "    <tr>\n",
       "      <th>10</th>\n",
       "      <td>2018-2021</td>\n",
       "      <td>0.015</td>\n",
       "      <td>25</td>\n",
       "      <td>0.026</td>\n",
       "      <td>2</td>\n",
       "      <td>{0: 529, -1: 2913}</td>\n",
       "      <td>2913</td>\n",
       "      <td>None</td>\n",
       "      <td>None</td>\n",
       "      <td>NaN</td>\n",
       "    </tr>\n",
       "    <tr>\n",
       "      <th>11</th>\n",
       "      <td>2018-2021</td>\n",
       "      <td>0.015</td>\n",
       "      <td>30</td>\n",
       "      <td>0.016</td>\n",
       "      <td>2</td>\n",
       "      <td>{0: 515, -1: 2927}</td>\n",
       "      <td>2927</td>\n",
       "      <td>None</td>\n",
       "      <td>None</td>\n",
       "      <td>0.000</td>\n",
       "    </tr>\n",
       "  </tbody>\n",
       "</table>\n",
       "</div>"
      ],
      "text/plain": [
       "   Year Range    eps  min_samples Runtime (s)  Clusters  \\\n",
       "0   2018-2021  0.020           10       0.038        39   \n",
       "1   2018-2021  0.020           15       0.016        21   \n",
       "2   2018-2021  0.020           25       0.028         6   \n",
       "3   2018-2021  0.020           30       0.039         3   \n",
       "4   2018-2021  0.010           10       0.023        17   \n",
       "5   2018-2021  0.010           15       0.016         6   \n",
       "6   2018-2021  0.010           25       0.021         3   \n",
       "7   2018-2021  0.010           30       0.016         3   \n",
       "8   2018-2021  0.015           10       0.016        34   \n",
       "9   2018-2021  0.015           15       0.016        14   \n",
       "10  2018-2021  0.015           25       0.026         2   \n",
       "11  2018-2021  0.015           30       0.016         2   \n",
       "\n",
       "                                   Points per Cluster  Noise Points  \\\n",
       "0   {0: 37, 1: 544, 2: 22, 3: 24, 4: 16, 5: 56, 6:...          2076   \n",
       "1   {0: 544, 1: 22, 2: 16, 3: 41, 4: 18, 5: 33, 6:...          2390   \n",
       "2      {0: 544, 1: 41, 2: 29, 3: 29, 4: 26, -1: 2773}          2773   \n",
       "3                           {0: 544, 1: 36, -1: 2862}          2862   \n",
       "4   {0: 504, 1: 12, 2: 23, 3: 14, 4: 13, 5: 15, 6:...          2729   \n",
       "5      {0: 500, 1: 17, 2: 15, 3: 15, 4: 16, -1: 2879}          2879   \n",
       "6                           {0: 66, 1: 384, -1: 2992}          2992   \n",
       "7                           {0: 64, 1: 382, -1: 2996}          2996   \n",
       "8   {0: 22, 1: 11, 2: 16, 3: 537, 4: 26, 5: 11, 6:...          2383   \n",
       "9   {0: 21, 1: 16, 2: 537, 3: 31, 4: 23, 5: 20, 6:...          2675   \n",
       "10                                 {0: 529, -1: 2913}          2913   \n",
       "11                                 {0: 515, -1: 2927}          2927   \n",
       "\n",
       "   Davies-Bouldin Calinski-Harabasz  Weighted Mean ANOVA F  \n",
       "0            None              None                    NaN  \n",
       "1            None              None                    NaN  \n",
       "2            None              None                    NaN  \n",
       "3            None              None              63574.180  \n",
       "4            None              None                    NaN  \n",
       "5            None              None                    NaN  \n",
       "6            None              None                    NaN  \n",
       "7            None              None                 31.652  \n",
       "8            None              None                    NaN  \n",
       "9            None              None                    NaN  \n",
       "10           None              None                    NaN  \n",
       "11           None              None                  0.000  "
      ]
     },
     "metadata": {},
     "output_type": "display_data"
    },
    {
     "name": "stdout",
     "output_type": "stream",
     "text": [
      "\n",
      "Running DBSCAN for Year Range: 2019-2022\n",
      "Runtime for dbscan_clustering: 0.024148 seconds\n"
     ]
    },
    {
     "name": "stderr",
     "output_type": "stream",
     "text": [
      "c:\\Users\\fionu\\OneDrive\\Dokumente\\Daten Fiona\\AIUB\\Code\\AIUB-Backup\\clustering\\high_dim_analysis.py:138: FutureWarning: \n",
      "\n",
      "Passing `palette` without assigning `hue` is deprecated and will be removed in v0.14.0. Assign the `y` variable to `hue` and set `legend=False` for the same effect.\n",
      "\n",
      "  sns.barplot(x=mi_vals, y=features, palette=\"magma\")\n"
     ]
    },
    {
     "name": "stdout",
     "output_type": "stream",
     "text": [
      "Runtime for dbscan_clustering: 0.015880 seconds\n"
     ]
    },
    {
     "name": "stderr",
     "output_type": "stream",
     "text": [
      "c:\\Users\\fionu\\OneDrive\\Dokumente\\Daten Fiona\\AIUB\\Code\\AIUB-Backup\\clustering\\high_dim_analysis.py:138: FutureWarning: \n",
      "\n",
      "Passing `palette` without assigning `hue` is deprecated and will be removed in v0.14.0. Assign the `y` variable to `hue` and set `legend=False` for the same effect.\n",
      "\n",
      "  sns.barplot(x=mi_vals, y=features, palette=\"magma\")\n"
     ]
    },
    {
     "name": "stdout",
     "output_type": "stream",
     "text": [
      "Runtime for dbscan_clustering: 0.015834 seconds\n"
     ]
    },
    {
     "name": "stderr",
     "output_type": "stream",
     "text": [
      "c:\\Users\\fionu\\OneDrive\\Dokumente\\Daten Fiona\\AIUB\\Code\\AIUB-Backup\\clustering\\high_dim_analysis.py:138: FutureWarning: \n",
      "\n",
      "Passing `palette` without assigning `hue` is deprecated and will be removed in v0.14.0. Assign the `y` variable to `hue` and set `legend=False` for the same effect.\n",
      "\n",
      "  sns.barplot(x=mi_vals, y=features, palette=\"magma\")\n"
     ]
    },
    {
     "name": "stdout",
     "output_type": "stream",
     "text": [
      "Runtime for dbscan_clustering: 0.019595 seconds\n"
     ]
    },
    {
     "name": "stderr",
     "output_type": "stream",
     "text": [
      "c:\\Users\\fionu\\OneDrive\\Dokumente\\Daten Fiona\\AIUB\\Code\\AIUB-Backup\\clustering\\high_dim_analysis.py:138: FutureWarning: \n",
      "\n",
      "Passing `palette` without assigning `hue` is deprecated and will be removed in v0.14.0. Assign the `y` variable to `hue` and set `legend=False` for the same effect.\n",
      "\n",
      "  sns.barplot(x=mi_vals, y=features, palette=\"magma\")\n"
     ]
    },
    {
     "name": "stdout",
     "output_type": "stream",
     "text": [
      "Runtime for dbscan_clustering: 0.010659 seconds\n"
     ]
    },
    {
     "name": "stderr",
     "output_type": "stream",
     "text": [
      "c:\\Users\\fionu\\OneDrive\\Dokumente\\Daten Fiona\\AIUB\\Code\\AIUB-Backup\\clustering\\high_dim_analysis.py:138: FutureWarning: \n",
      "\n",
      "Passing `palette` without assigning `hue` is deprecated and will be removed in v0.14.0. Assign the `y` variable to `hue` and set `legend=False` for the same effect.\n",
      "\n",
      "  sns.barplot(x=mi_vals, y=features, palette=\"magma\")\n"
     ]
    },
    {
     "name": "stdout",
     "output_type": "stream",
     "text": [
      "Runtime for dbscan_clustering: 0.007783 seconds\n"
     ]
    },
    {
     "name": "stderr",
     "output_type": "stream",
     "text": [
      "c:\\Users\\fionu\\OneDrive\\Dokumente\\Daten Fiona\\AIUB\\Code\\AIUB-Backup\\clustering\\high_dim_analysis.py:138: FutureWarning: \n",
      "\n",
      "Passing `palette` without assigning `hue` is deprecated and will be removed in v0.14.0. Assign the `y` variable to `hue` and set `legend=False` for the same effect.\n",
      "\n",
      "  sns.barplot(x=mi_vals, y=features, palette=\"magma\")\n"
     ]
    },
    {
     "name": "stdout",
     "output_type": "stream",
     "text": [
      "Runtime for dbscan_clustering: 0.001681 seconds\n"
     ]
    },
    {
     "name": "stderr",
     "output_type": "stream",
     "text": [
      "c:\\Users\\fionu\\OneDrive\\Dokumente\\Daten Fiona\\AIUB\\Code\\AIUB-Backup\\clustering\\high_dim_analysis.py:138: FutureWarning: \n",
      "\n",
      "Passing `palette` without assigning `hue` is deprecated and will be removed in v0.14.0. Assign the `y` variable to `hue` and set `legend=False` for the same effect.\n",
      "\n",
      "  sns.barplot(x=mi_vals, y=features, palette=\"magma\")\n"
     ]
    },
    {
     "name": "stdout",
     "output_type": "stream",
     "text": [
      "Runtime for dbscan_clustering: 0.009260 seconds\n"
     ]
    },
    {
     "name": "stderr",
     "output_type": "stream",
     "text": [
      "c:\\Users\\fionu\\OneDrive\\Dokumente\\Daten Fiona\\AIUB\\Code\\AIUB-Backup\\clustering\\high_dim_analysis.py:138: FutureWarning: \n",
      "\n",
      "Passing `palette` without assigning `hue` is deprecated and will be removed in v0.14.0. Assign the `y` variable to `hue` and set `legend=False` for the same effect.\n",
      "\n",
      "  sns.barplot(x=mi_vals, y=features, palette=\"magma\")\n"
     ]
    },
    {
     "name": "stdout",
     "output_type": "stream",
     "text": [
      "Runtime for dbscan_clustering: 0.016165 seconds\n"
     ]
    },
    {
     "name": "stderr",
     "output_type": "stream",
     "text": [
      "c:\\Users\\fionu\\OneDrive\\Dokumente\\Daten Fiona\\AIUB\\Code\\AIUB-Backup\\clustering\\high_dim_analysis.py:138: FutureWarning: \n",
      "\n",
      "Passing `palette` without assigning `hue` is deprecated and will be removed in v0.14.0. Assign the `y` variable to `hue` and set `legend=False` for the same effect.\n",
      "\n",
      "  sns.barplot(x=mi_vals, y=features, palette=\"magma\")\n"
     ]
    },
    {
     "name": "stdout",
     "output_type": "stream",
     "text": [
      "Runtime for dbscan_clustering: 0.015781 seconds\n"
     ]
    },
    {
     "name": "stderr",
     "output_type": "stream",
     "text": [
      "c:\\Users\\fionu\\OneDrive\\Dokumente\\Daten Fiona\\AIUB\\Code\\AIUB-Backup\\clustering\\high_dim_analysis.py:138: FutureWarning: \n",
      "\n",
      "Passing `palette` without assigning `hue` is deprecated and will be removed in v0.14.0. Assign the `y` variable to `hue` and set `legend=False` for the same effect.\n",
      "\n",
      "  sns.barplot(x=mi_vals, y=features, palette=\"magma\")\n"
     ]
    },
    {
     "name": "stdout",
     "output_type": "stream",
     "text": [
      "Runtime for dbscan_clustering: 0.006583 seconds\n"
     ]
    },
    {
     "name": "stderr",
     "output_type": "stream",
     "text": [
      "c:\\Users\\fionu\\OneDrive\\Dokumente\\Daten Fiona\\AIUB\\Code\\AIUB-Backup\\clustering\\high_dim_analysis.py:138: FutureWarning: \n",
      "\n",
      "Passing `palette` without assigning `hue` is deprecated and will be removed in v0.14.0. Assign the `y` variable to `hue` and set `legend=False` for the same effect.\n",
      "\n",
      "  sns.barplot(x=mi_vals, y=features, palette=\"magma\")\n"
     ]
    },
    {
     "name": "stdout",
     "output_type": "stream",
     "text": [
      "Runtime for dbscan_clustering: 0.015729 seconds\n"
     ]
    },
    {
     "name": "stderr",
     "output_type": "stream",
     "text": [
      "c:\\Users\\fionu\\OneDrive\\Dokumente\\Daten Fiona\\AIUB\\Code\\AIUB-Backup\\clustering\\high_dim_analysis.py:138: FutureWarning: \n",
      "\n",
      "Passing `palette` without assigning `hue` is deprecated and will be removed in v0.14.0. Assign the `y` variable to `hue` and set `legend=False` for the same effect.\n",
      "\n",
      "  sns.barplot(x=mi_vals, y=features, palette=\"magma\")\n"
     ]
    },
    {
     "name": "stdout",
     "output_type": "stream",
     "text": [
      "Runtime for dbscan_clustering: 0.018032 seconds\n"
     ]
    },
    {
     "name": "stderr",
     "output_type": "stream",
     "text": [
      "c:\\Users\\fionu\\OneDrive\\Dokumente\\Daten Fiona\\AIUB\\Code\\AIUB-Backup\\clustering\\high_dim_analysis.py:42: FutureWarning: \n",
      "\n",
      "Passing `palette` without assigning `hue` is deprecated and will be removed in v0.14.0. Assign the `y` variable to `hue` and set `legend=False` for the same effect.\n",
      "\n",
      "  sns.barplot(x=f_vals, y=features, palette=\"crest\")\n"
     ]
    },
    {
     "name": "stdout",
     "output_type": "stream",
     "text": [
      "Best DBSCAN parameters based on ANOVA F-value:\n",
      "Year Range                               2019-2022\n",
      "eps                                           0.02\n",
      "min_samples                                     30\n",
      "Runtime (s)                                  0.020\n",
      "Clusters                                         3\n",
      "Points per Cluster       {0: 421, 1: 43, -1: 3145}\n",
      "Noise Points                                  3145\n",
      "Davies-Bouldin                                None\n",
      "Calinski-Harabasz                             None\n",
      "Weighted Mean ANOVA F                     68648.87\n",
      "Name: 3, dtype: object\n"
     ]
    },
    {
     "data": {
      "application/vnd.microsoft.datawrangler.viewer.v0+json": {
       "columns": [
        {
         "name": "index",
         "rawType": "int64",
         "type": "integer"
        },
        {
         "name": "Year Range",
         "rawType": "object",
         "type": "string"
        },
        {
         "name": "eps",
         "rawType": "float64",
         "type": "float"
        },
        {
         "name": "min_samples",
         "rawType": "int64",
         "type": "integer"
        },
        {
         "name": "Runtime (s)",
         "rawType": "object",
         "type": "string"
        },
        {
         "name": "Clusters",
         "rawType": "int64",
         "type": "integer"
        },
        {
         "name": "Points per Cluster",
         "rawType": "object",
         "type": "unknown"
        },
        {
         "name": "Noise Points",
         "rawType": "int32",
         "type": "integer"
        },
        {
         "name": "Davies-Bouldin",
         "rawType": "object",
         "type": "unknown"
        },
        {
         "name": "Calinski-Harabasz",
         "rawType": "object",
         "type": "unknown"
        },
        {
         "name": "Weighted Mean ANOVA F",
         "rawType": "float64",
         "type": "float"
        }
       ],
       "ref": "ecb15215-4b56-48e1-ae28-fef5c35c7d26",
       "rows": [
        [
         "0",
         "2019-2022",
         "0.02",
         "10",
         "0.024",
         "58",
         "{0: 10, 1: 10, 2: 11, 3: 18, 4: 18, 5: 421, 6: 14, 7: 25, 8: 16, 9: 11, 10: 14, 11: 42, 12: 48, 13: 64, 14: 11, 15: 47, 16: 23, 17: 17, 18: 12, 19: 11, 20: 15, 21: 11, 22: 45, 23: 11, 24: 12, 25: 16, 26: 16, 27: 39, 28: 10, 29: 14, 30: 22, 31: 12, 32: 26, 33: 12, 34: 21, 35: 16, 36: 10, 37: 14, 38: 35, 39: 12, 40: 17, 41: 13, 42: 23, 43: 49, 44: 92, 45: 17, 46: 10, 47: 14, 48: 10, 49: 15, 50: 13, 51: 11, 52: 14, 53: 10, 54: 10, 55: 10, 56: 10, -1: 2059}",
         "2059",
         null,
         null,
         null
        ],
        [
         "1",
         "2019-2022",
         "0.02",
         "15",
         "0.016",
         "25",
         "{0: 18, 1: 421, 2: 26, 3: 46, 4: 45, 5: 23, 6: 16, 7: 15, 8: 18, 9: 22, 10: 24, 11: 44, 12: 21, 13: 30, 14: 12, 15: 16, 16: 39, 17: 18, 18: 47, 19: 87, 20: 17, 21: 15, 22: 18, 23: 11, -1: 2560}",
         "2560",
         null,
         null,
         null
        ],
        [
         "2",
         "2019-2022",
         "0.02",
         "25",
         "0.016",
         "5",
         "{0: 421, 1: 30, 2: 43, 3: 25, -1: 3090}",
         "3090",
         null,
         null,
         null
        ],
        [
         "3",
         "2019-2022",
         "0.02",
         "30",
         "0.020",
         "3",
         "{0: 421, 1: 43, -1: 3145}",
         "3145",
         null,
         null,
         "68648.87"
        ],
        [
         "4",
         "2019-2022",
         "0.01",
         "10",
         "0.011",
         "19",
         "{0: 379, 1: 10, 2: 12, 3: 10, 4: 11, 5: 17, 6: 10, 7: 15, 8: 14, 9: 12, 10: 11, 11: 10, 12: 11, 13: 26, 14: 12, 15: 10, 16: 11, 17: 10, -1: 3018}",
         "3018",
         null,
         null,
         null
        ],
        [
         "5",
         "2019-2022",
         "0.01",
         "15",
         "0.008",
         "6",
         "{0: 362, 1: 17, 2: 14, 3: 15, 4: 23, -1: 3178}",
         "3178",
         null,
         null,
         null
        ],
        [
         "6",
         "2019-2022",
         "0.01",
         "25",
         "0.002",
         "3",
         "{0: 302, 1: 42, -1: 3265}",
         "3265",
         null,
         null,
         null
        ],
        [
         "7",
         "2019-2022",
         "0.01",
         "30",
         "0.009",
         "2",
         "{0: 295, -1: 3314}",
         "3314",
         null,
         null,
         "0.0"
        ],
        [
         "8",
         "2019-2022",
         "0.015",
         "10",
         "0.016",
         "40",
         "{0: 18, 1: 414, 2: 14, 3: 12, 4: 11, 5: 31, 6: 28, 7: 20, 8: 16, 9: 10, 10: 16, 11: 14, 12: 10, 13: 14, 14: 10, 15: 15, 16: 11, 17: 20, 18: 19, 19: 12, 20: 19, 21: 16, 22: 12, 23: 15, 24: 10, 25: 14, 26: 15, 27: 10, 28: 25, 29: 12, 30: 39, 31: 35, 32: 30, 33: 10, 34: 11, 35: 11, 36: 10, 37: 10, 38: 10, -1: 2580}",
         "2580",
         null,
         null,
         null
        ],
        [
         "9",
         "2019-2022",
         "0.015",
         "15",
         "0.016",
         "13",
         "{0: 414, 1: 21, 2: 28, 3: 16, 4: 15, 5: 16, 6: 19, 7: 19, 8: 39, 9: 18, 10: 16, 11: 15, -1: 2973}",
         "2973",
         null,
         null,
         null
        ],
        [
         "10",
         "2019-2022",
         "0.015",
         "25",
         "0.007",
         "3",
         "{0: 398, 1: 32, -1: 3179}",
         "3179",
         null,
         null,
         null
        ],
        [
         "11",
         "2019-2022",
         "0.015",
         "30",
         "0.016",
         "2",
         "{0: 393, -1: 3216}",
         "3216",
         null,
         null,
         "0.0"
        ]
       ],
       "shape": {
        "columns": 10,
        "rows": 12
       }
      },
      "text/html": [
       "<div>\n",
       "<style scoped>\n",
       "    .dataframe tbody tr th:only-of-type {\n",
       "        vertical-align: middle;\n",
       "    }\n",
       "\n",
       "    .dataframe tbody tr th {\n",
       "        vertical-align: top;\n",
       "    }\n",
       "\n",
       "    .dataframe thead th {\n",
       "        text-align: right;\n",
       "    }\n",
       "</style>\n",
       "<table border=\"1\" class=\"dataframe\">\n",
       "  <thead>\n",
       "    <tr style=\"text-align: right;\">\n",
       "      <th></th>\n",
       "      <th>Year Range</th>\n",
       "      <th>eps</th>\n",
       "      <th>min_samples</th>\n",
       "      <th>Runtime (s)</th>\n",
       "      <th>Clusters</th>\n",
       "      <th>Points per Cluster</th>\n",
       "      <th>Noise Points</th>\n",
       "      <th>Davies-Bouldin</th>\n",
       "      <th>Calinski-Harabasz</th>\n",
       "      <th>Weighted Mean ANOVA F</th>\n",
       "    </tr>\n",
       "  </thead>\n",
       "  <tbody>\n",
       "    <tr>\n",
       "      <th>0</th>\n",
       "      <td>2019-2022</td>\n",
       "      <td>0.020</td>\n",
       "      <td>10</td>\n",
       "      <td>0.024</td>\n",
       "      <td>58</td>\n",
       "      <td>{0: 10, 1: 10, 2: 11, 3: 18, 4: 18, 5: 421, 6:...</td>\n",
       "      <td>2059</td>\n",
       "      <td>None</td>\n",
       "      <td>None</td>\n",
       "      <td>NaN</td>\n",
       "    </tr>\n",
       "    <tr>\n",
       "      <th>1</th>\n",
       "      <td>2019-2022</td>\n",
       "      <td>0.020</td>\n",
       "      <td>15</td>\n",
       "      <td>0.016</td>\n",
       "      <td>25</td>\n",
       "      <td>{0: 18, 1: 421, 2: 26, 3: 46, 4: 45, 5: 23, 6:...</td>\n",
       "      <td>2560</td>\n",
       "      <td>None</td>\n",
       "      <td>None</td>\n",
       "      <td>NaN</td>\n",
       "    </tr>\n",
       "    <tr>\n",
       "      <th>2</th>\n",
       "      <td>2019-2022</td>\n",
       "      <td>0.020</td>\n",
       "      <td>25</td>\n",
       "      <td>0.016</td>\n",
       "      <td>5</td>\n",
       "      <td>{0: 421, 1: 30, 2: 43, 3: 25, -1: 3090}</td>\n",
       "      <td>3090</td>\n",
       "      <td>None</td>\n",
       "      <td>None</td>\n",
       "      <td>NaN</td>\n",
       "    </tr>\n",
       "    <tr>\n",
       "      <th>3</th>\n",
       "      <td>2019-2022</td>\n",
       "      <td>0.020</td>\n",
       "      <td>30</td>\n",
       "      <td>0.020</td>\n",
       "      <td>3</td>\n",
       "      <td>{0: 421, 1: 43, -1: 3145}</td>\n",
       "      <td>3145</td>\n",
       "      <td>None</td>\n",
       "      <td>None</td>\n",
       "      <td>68648.87</td>\n",
       "    </tr>\n",
       "    <tr>\n",
       "      <th>4</th>\n",
       "      <td>2019-2022</td>\n",
       "      <td>0.010</td>\n",
       "      <td>10</td>\n",
       "      <td>0.011</td>\n",
       "      <td>19</td>\n",
       "      <td>{0: 379, 1: 10, 2: 12, 3: 10, 4: 11, 5: 17, 6:...</td>\n",
       "      <td>3018</td>\n",
       "      <td>None</td>\n",
       "      <td>None</td>\n",
       "      <td>NaN</td>\n",
       "    </tr>\n",
       "    <tr>\n",
       "      <th>5</th>\n",
       "      <td>2019-2022</td>\n",
       "      <td>0.010</td>\n",
       "      <td>15</td>\n",
       "      <td>0.008</td>\n",
       "      <td>6</td>\n",
       "      <td>{0: 362, 1: 17, 2: 14, 3: 15, 4: 23, -1: 3178}</td>\n",
       "      <td>3178</td>\n",
       "      <td>None</td>\n",
       "      <td>None</td>\n",
       "      <td>NaN</td>\n",
       "    </tr>\n",
       "    <tr>\n",
       "      <th>6</th>\n",
       "      <td>2019-2022</td>\n",
       "      <td>0.010</td>\n",
       "      <td>25</td>\n",
       "      <td>0.002</td>\n",
       "      <td>3</td>\n",
       "      <td>{0: 302, 1: 42, -1: 3265}</td>\n",
       "      <td>3265</td>\n",
       "      <td>None</td>\n",
       "      <td>None</td>\n",
       "      <td>NaN</td>\n",
       "    </tr>\n",
       "    <tr>\n",
       "      <th>7</th>\n",
       "      <td>2019-2022</td>\n",
       "      <td>0.010</td>\n",
       "      <td>30</td>\n",
       "      <td>0.009</td>\n",
       "      <td>2</td>\n",
       "      <td>{0: 295, -1: 3314}</td>\n",
       "      <td>3314</td>\n",
       "      <td>None</td>\n",
       "      <td>None</td>\n",
       "      <td>0.00</td>\n",
       "    </tr>\n",
       "    <tr>\n",
       "      <th>8</th>\n",
       "      <td>2019-2022</td>\n",
       "      <td>0.015</td>\n",
       "      <td>10</td>\n",
       "      <td>0.016</td>\n",
       "      <td>40</td>\n",
       "      <td>{0: 18, 1: 414, 2: 14, 3: 12, 4: 11, 5: 31, 6:...</td>\n",
       "      <td>2580</td>\n",
       "      <td>None</td>\n",
       "      <td>None</td>\n",
       "      <td>NaN</td>\n",
       "    </tr>\n",
       "    <tr>\n",
       "      <th>9</th>\n",
       "      <td>2019-2022</td>\n",
       "      <td>0.015</td>\n",
       "      <td>15</td>\n",
       "      <td>0.016</td>\n",
       "      <td>13</td>\n",
       "      <td>{0: 414, 1: 21, 2: 28, 3: 16, 4: 15, 5: 16, 6:...</td>\n",
       "      <td>2973</td>\n",
       "      <td>None</td>\n",
       "      <td>None</td>\n",
       "      <td>NaN</td>\n",
       "    </tr>\n",
       "    <tr>\n",
       "      <th>10</th>\n",
       "      <td>2019-2022</td>\n",
       "      <td>0.015</td>\n",
       "      <td>25</td>\n",
       "      <td>0.007</td>\n",
       "      <td>3</td>\n",
       "      <td>{0: 398, 1: 32, -1: 3179}</td>\n",
       "      <td>3179</td>\n",
       "      <td>None</td>\n",
       "      <td>None</td>\n",
       "      <td>NaN</td>\n",
       "    </tr>\n",
       "    <tr>\n",
       "      <th>11</th>\n",
       "      <td>2019-2022</td>\n",
       "      <td>0.015</td>\n",
       "      <td>30</td>\n",
       "      <td>0.016</td>\n",
       "      <td>2</td>\n",
       "      <td>{0: 393, -1: 3216}</td>\n",
       "      <td>3216</td>\n",
       "      <td>None</td>\n",
       "      <td>None</td>\n",
       "      <td>0.00</td>\n",
       "    </tr>\n",
       "  </tbody>\n",
       "</table>\n",
       "</div>"
      ],
      "text/plain": [
       "   Year Range    eps  min_samples Runtime (s)  Clusters  \\\n",
       "0   2019-2022  0.020           10       0.024        58   \n",
       "1   2019-2022  0.020           15       0.016        25   \n",
       "2   2019-2022  0.020           25       0.016         5   \n",
       "3   2019-2022  0.020           30       0.020         3   \n",
       "4   2019-2022  0.010           10       0.011        19   \n",
       "5   2019-2022  0.010           15       0.008         6   \n",
       "6   2019-2022  0.010           25       0.002         3   \n",
       "7   2019-2022  0.010           30       0.009         2   \n",
       "8   2019-2022  0.015           10       0.016        40   \n",
       "9   2019-2022  0.015           15       0.016        13   \n",
       "10  2019-2022  0.015           25       0.007         3   \n",
       "11  2019-2022  0.015           30       0.016         2   \n",
       "\n",
       "                                   Points per Cluster  Noise Points  \\\n",
       "0   {0: 10, 1: 10, 2: 11, 3: 18, 4: 18, 5: 421, 6:...          2059   \n",
       "1   {0: 18, 1: 421, 2: 26, 3: 46, 4: 45, 5: 23, 6:...          2560   \n",
       "2             {0: 421, 1: 30, 2: 43, 3: 25, -1: 3090}          3090   \n",
       "3                           {0: 421, 1: 43, -1: 3145}          3145   \n",
       "4   {0: 379, 1: 10, 2: 12, 3: 10, 4: 11, 5: 17, 6:...          3018   \n",
       "5      {0: 362, 1: 17, 2: 14, 3: 15, 4: 23, -1: 3178}          3178   \n",
       "6                           {0: 302, 1: 42, -1: 3265}          3265   \n",
       "7                                  {0: 295, -1: 3314}          3314   \n",
       "8   {0: 18, 1: 414, 2: 14, 3: 12, 4: 11, 5: 31, 6:...          2580   \n",
       "9   {0: 414, 1: 21, 2: 28, 3: 16, 4: 15, 5: 16, 6:...          2973   \n",
       "10                          {0: 398, 1: 32, -1: 3179}          3179   \n",
       "11                                 {0: 393, -1: 3216}          3216   \n",
       "\n",
       "   Davies-Bouldin Calinski-Harabasz  Weighted Mean ANOVA F  \n",
       "0            None              None                    NaN  \n",
       "1            None              None                    NaN  \n",
       "2            None              None                    NaN  \n",
       "3            None              None               68648.87  \n",
       "4            None              None                    NaN  \n",
       "5            None              None                    NaN  \n",
       "6            None              None                    NaN  \n",
       "7            None              None                   0.00  \n",
       "8            None              None                    NaN  \n",
       "9            None              None                    NaN  \n",
       "10           None              None                    NaN  \n",
       "11           None              None                   0.00  "
      ]
     },
     "metadata": {},
     "output_type": "display_data"
    },
    {
     "name": "stdout",
     "output_type": "stream",
     "text": [
      "\n",
      "Running DBSCAN for Year Range: 2020-2023\n",
      "Runtime for dbscan_clustering: 0.046273 seconds\n"
     ]
    },
    {
     "name": "stderr",
     "output_type": "stream",
     "text": [
      "c:\\Users\\fionu\\OneDrive\\Dokumente\\Daten Fiona\\AIUB\\Code\\AIUB-Backup\\clustering\\high_dim_analysis.py:138: FutureWarning: \n",
      "\n",
      "Passing `palette` without assigning `hue` is deprecated and will be removed in v0.14.0. Assign the `y` variable to `hue` and set `legend=False` for the same effect.\n",
      "\n",
      "  sns.barplot(x=mi_vals, y=features, palette=\"magma\")\n"
     ]
    },
    {
     "name": "stdout",
     "output_type": "stream",
     "text": [
      "Runtime for dbscan_clustering: 0.030212 seconds\n"
     ]
    },
    {
     "name": "stderr",
     "output_type": "stream",
     "text": [
      "c:\\Users\\fionu\\OneDrive\\Dokumente\\Daten Fiona\\AIUB\\Code\\AIUB-Backup\\clustering\\high_dim_analysis.py:138: FutureWarning: \n",
      "\n",
      "Passing `palette` without assigning `hue` is deprecated and will be removed in v0.14.0. Assign the `y` variable to `hue` and set `legend=False` for the same effect.\n",
      "\n",
      "  sns.barplot(x=mi_vals, y=features, palette=\"magma\")\n"
     ]
    },
    {
     "name": "stdout",
     "output_type": "stream",
     "text": [
      "Runtime for dbscan_clustering: 0.035129 seconds\n"
     ]
    },
    {
     "name": "stderr",
     "output_type": "stream",
     "text": [
      "c:\\Users\\fionu\\OneDrive\\Dokumente\\Daten Fiona\\AIUB\\Code\\AIUB-Backup\\clustering\\high_dim_analysis.py:138: FutureWarning: \n",
      "\n",
      "Passing `palette` without assigning `hue` is deprecated and will be removed in v0.14.0. Assign the `y` variable to `hue` and set `legend=False` for the same effect.\n",
      "\n",
      "  sns.barplot(x=mi_vals, y=features, palette=\"magma\")\n"
     ]
    },
    {
     "name": "stdout",
     "output_type": "stream",
     "text": [
      "Runtime for dbscan_clustering: 0.017550 seconds\n"
     ]
    },
    {
     "name": "stderr",
     "output_type": "stream",
     "text": [
      "c:\\Users\\fionu\\OneDrive\\Dokumente\\Daten Fiona\\AIUB\\Code\\AIUB-Backup\\clustering\\high_dim_analysis.py:138: FutureWarning: \n",
      "\n",
      "Passing `palette` without assigning `hue` is deprecated and will be removed in v0.14.0. Assign the `y` variable to `hue` and set `legend=False` for the same effect.\n",
      "\n",
      "  sns.barplot(x=mi_vals, y=features, palette=\"magma\")\n"
     ]
    },
    {
     "name": "stdout",
     "output_type": "stream",
     "text": [
      "Runtime for dbscan_clustering: 0.010576 seconds\n"
     ]
    },
    {
     "name": "stderr",
     "output_type": "stream",
     "text": [
      "c:\\Users\\fionu\\OneDrive\\Dokumente\\Daten Fiona\\AIUB\\Code\\AIUB-Backup\\clustering\\high_dim_analysis.py:138: FutureWarning: \n",
      "\n",
      "Passing `palette` without assigning `hue` is deprecated and will be removed in v0.14.0. Assign the `y` variable to `hue` and set `legend=False` for the same effect.\n",
      "\n",
      "  sns.barplot(x=mi_vals, y=features, palette=\"magma\")\n"
     ]
    },
    {
     "name": "stdout",
     "output_type": "stream",
     "text": [
      "Runtime for dbscan_clustering: 0.015708 seconds\n"
     ]
    },
    {
     "name": "stderr",
     "output_type": "stream",
     "text": [
      "c:\\Users\\fionu\\OneDrive\\Dokumente\\Daten Fiona\\AIUB\\Code\\AIUB-Backup\\clustering\\high_dim_analysis.py:138: FutureWarning: \n",
      "\n",
      "Passing `palette` without assigning `hue` is deprecated and will be removed in v0.14.0. Assign the `y` variable to `hue` and set `legend=False` for the same effect.\n",
      "\n",
      "  sns.barplot(x=mi_vals, y=features, palette=\"magma\")\n"
     ]
    },
    {
     "name": "stdout",
     "output_type": "stream",
     "text": [
      "Runtime for dbscan_clustering: 0.019331 seconds\n"
     ]
    },
    {
     "name": "stderr",
     "output_type": "stream",
     "text": [
      "c:\\Users\\fionu\\OneDrive\\Dokumente\\Daten Fiona\\AIUB\\Code\\AIUB-Backup\\clustering\\high_dim_analysis.py:138: FutureWarning: \n",
      "\n",
      "Passing `palette` without assigning `hue` is deprecated and will be removed in v0.14.0. Assign the `y` variable to `hue` and set `legend=False` for the same effect.\n",
      "\n",
      "  sns.barplot(x=mi_vals, y=features, palette=\"magma\")\n"
     ]
    },
    {
     "name": "stdout",
     "output_type": "stream",
     "text": [
      "Runtime for dbscan_clustering: 0.015768 seconds\n"
     ]
    },
    {
     "name": "stderr",
     "output_type": "stream",
     "text": [
      "c:\\Users\\fionu\\OneDrive\\Dokumente\\Daten Fiona\\AIUB\\Code\\AIUB-Backup\\clustering\\high_dim_analysis.py:138: FutureWarning: \n",
      "\n",
      "Passing `palette` without assigning `hue` is deprecated and will be removed in v0.14.0. Assign the `y` variable to `hue` and set `legend=False` for the same effect.\n",
      "\n",
      "  sns.barplot(x=mi_vals, y=features, palette=\"magma\")\n"
     ]
    },
    {
     "name": "stdout",
     "output_type": "stream",
     "text": [
      "Runtime for dbscan_clustering: 0.032038 seconds\n"
     ]
    },
    {
     "name": "stderr",
     "output_type": "stream",
     "text": [
      "c:\\Users\\fionu\\OneDrive\\Dokumente\\Daten Fiona\\AIUB\\Code\\AIUB-Backup\\clustering\\high_dim_analysis.py:138: FutureWarning: \n",
      "\n",
      "Passing `palette` without assigning `hue` is deprecated and will be removed in v0.14.0. Assign the `y` variable to `hue` and set `legend=False` for the same effect.\n",
      "\n",
      "  sns.barplot(x=mi_vals, y=features, palette=\"magma\")\n"
     ]
    },
    {
     "name": "stdout",
     "output_type": "stream",
     "text": [
      "Runtime for dbscan_clustering: 0.032074 seconds\n"
     ]
    },
    {
     "name": "stderr",
     "output_type": "stream",
     "text": [
      "c:\\Users\\fionu\\OneDrive\\Dokumente\\Daten Fiona\\AIUB\\Code\\AIUB-Backup\\clustering\\high_dim_analysis.py:138: FutureWarning: \n",
      "\n",
      "Passing `palette` without assigning `hue` is deprecated and will be removed in v0.14.0. Assign the `y` variable to `hue` and set `legend=False` for the same effect.\n",
      "\n",
      "  sns.barplot(x=mi_vals, y=features, palette=\"magma\")\n"
     ]
    },
    {
     "name": "stdout",
     "output_type": "stream",
     "text": [
      "Runtime for dbscan_clustering: 0.031690 seconds\n"
     ]
    },
    {
     "name": "stderr",
     "output_type": "stream",
     "text": [
      "c:\\Users\\fionu\\OneDrive\\Dokumente\\Daten Fiona\\AIUB\\Code\\AIUB-Backup\\clustering\\high_dim_analysis.py:138: FutureWarning: \n",
      "\n",
      "Passing `palette` without assigning `hue` is deprecated and will be removed in v0.14.0. Assign the `y` variable to `hue` and set `legend=False` for the same effect.\n",
      "\n",
      "  sns.barplot(x=mi_vals, y=features, palette=\"magma\")\n"
     ]
    },
    {
     "name": "stdout",
     "output_type": "stream",
     "text": [
      "Runtime for dbscan_clustering: 0.015781 seconds\n"
     ]
    },
    {
     "name": "stderr",
     "output_type": "stream",
     "text": [
      "c:\\Users\\fionu\\OneDrive\\Dokumente\\Daten Fiona\\AIUB\\Code\\AIUB-Backup\\clustering\\high_dim_analysis.py:138: FutureWarning: \n",
      "\n",
      "Passing `palette` without assigning `hue` is deprecated and will be removed in v0.14.0. Assign the `y` variable to `hue` and set `legend=False` for the same effect.\n",
      "\n",
      "  sns.barplot(x=mi_vals, y=features, palette=\"magma\")\n"
     ]
    },
    {
     "name": "stdout",
     "output_type": "stream",
     "text": [
      "Runtime for dbscan_clustering: 0.032418 seconds\n"
     ]
    },
    {
     "name": "stderr",
     "output_type": "stream",
     "text": [
      "c:\\Users\\fionu\\OneDrive\\Dokumente\\Daten Fiona\\AIUB\\Code\\AIUB-Backup\\clustering\\high_dim_analysis.py:42: FutureWarning: \n",
      "\n",
      "Passing `palette` without assigning `hue` is deprecated and will be removed in v0.14.0. Assign the `y` variable to `hue` and set `legend=False` for the same effect.\n",
      "\n",
      "  sns.barplot(x=f_vals, y=features, palette=\"crest\")\n"
     ]
    },
    {
     "name": "stdout",
     "output_type": "stream",
     "text": [
      "Best DBSCAN parameters based on ANOVA F-value:\n",
      "Year Range                               2020-2023\n",
      "eps                                          0.015\n",
      "min_samples                                     30\n",
      "Runtime (s)                                  0.016\n",
      "Clusters                                         3\n",
      "Points per Cluster       {0: 467, 1: 33, -1: 3872}\n",
      "Noise Points                                  3872\n",
      "Davies-Bouldin                                None\n",
      "Calinski-Harabasz                             None\n",
      "Weighted Mean ANOVA F                     82764.02\n",
      "Name: 11, dtype: object\n"
     ]
    },
    {
     "data": {
      "application/vnd.microsoft.datawrangler.viewer.v0+json": {
       "columns": [
        {
         "name": "index",
         "rawType": "int64",
         "type": "integer"
        },
        {
         "name": "Year Range",
         "rawType": "object",
         "type": "string"
        },
        {
         "name": "eps",
         "rawType": "float64",
         "type": "float"
        },
        {
         "name": "min_samples",
         "rawType": "int64",
         "type": "integer"
        },
        {
         "name": "Runtime (s)",
         "rawType": "object",
         "type": "string"
        },
        {
         "name": "Clusters",
         "rawType": "int64",
         "type": "integer"
        },
        {
         "name": "Points per Cluster",
         "rawType": "object",
         "type": "unknown"
        },
        {
         "name": "Noise Points",
         "rawType": "int32",
         "type": "integer"
        },
        {
         "name": "Davies-Bouldin",
         "rawType": "object",
         "type": "unknown"
        },
        {
         "name": "Calinski-Harabasz",
         "rawType": "object",
         "type": "unknown"
        },
        {
         "name": "Weighted Mean ANOVA F",
         "rawType": "float64",
         "type": "float"
        }
       ],
       "ref": "2a3c45ea-1cc9-4d96-a8e7-8988a5e6b3eb",
       "rows": [
        [
         "0",
         "2020-2023",
         "0.02",
         "10",
         "0.046",
         "67",
         "{0: 10, 1: 10, 2: 494, 3: 25, 4: 29, 5: 25, 6: 15, 7: 10, 8: 12, 9: 43, 10: 10, 11: 10, 12: 13, 13: 21, 14: 26, 15: 13, 16: 21, 17: 21, 18: 65, 19: 45, 20: 87, 21: 11, 22: 49, 23: 11, 24: 14, 25: 23, 26: 25, 27: 17, 28: 14, 29: 64, 30: 19, 31: 25, 32: 12, 33: 10, 34: 12, 35: 10, 36: 13, 37: 15, 38: 47, 39: 21, 40: 50, 41: 19, 42: 10, 43: 11, 44: 16, 45: 28, 46: 19, 47: 18, 48: 22, 49: 29, 50: 46, 51: 12, 52: 18, 53: 11, 54: 10, 55: 10, 56: 176, 57: 20, 58: 10, 59: 22, 60: 11, 61: 10, 62: 10, 63: 11, 64: 10, 65: 14, -1: 2332}",
         "2332",
         null,
         null,
         null
        ],
        [
         "1",
         "2020-2023",
         "0.02",
         "15",
         "0.030",
         "35",
         "{0: 494, 1: 25, 2: 20, 3: 18, 4: 15, 5: 43, 6: 21, 7: 26, 8: 21, 9: 57, 10: 74, 11: 46, 12: 21, 13: 23, 14: 25, 15: 19, 16: 63, 17: 15, 18: 47, 19: 20, 20: 47, 21: 16, 22: 26, 23: 17, 24: 24, 25: 27, 26: 45, 27: 18, 28: 151, 29: 20, 30: 17, 31: 18, 32: 12, 33: 15, -1: 2826}",
         "2826",
         null,
         null,
         null
        ],
        [
         "2",
         "2020-2023",
         "0.02",
         "25",
         "0.035",
         "8",
         "{0: 494, 1: 32, 2: 61, 3: 42, 4: 25, 5: 135, 6: 37, -1: 3546}",
         "3546",
         null,
         null,
         null
        ],
        [
         "3",
         "2020-2023",
         "0.02",
         "30",
         "0.018",
         "7",
         "{0: 492, 1: 51, 2: 38, 3: 92, 4: 26, 5: 30, -1: 3643}",
         "3643",
         null,
         null,
         "35544.301"
        ],
        [
         "4",
         "2020-2023",
         "0.01",
         "10",
         "0.011",
         "29",
         "{0: 10, 1: 451, 2: 14, 3: 11, 4: 10, 5: 13, 6: 12, 7: 10, 8: 13, 9: 12, 10: 22, 11: 11, 12: 10, 13: 11, 14: 21, 15: 11, 16: 20, 17: 15, 18: 11, 19: 13, 20: 10, 21: 16, 22: 26, 23: 10, 24: 12, 25: 13, 26: 11, 27: 12, -1: 3561}",
         "3561",
         null,
         null,
         null
        ],
        [
         "5",
         "2020-2023",
         "0.01",
         "15",
         "0.016",
         "8",
         "{0: 433, 1: 18, 2: 22, 3: 21, 4: 20, 5: 15, 6: 15, -1: 3828}",
         "3828",
         null,
         null,
         null
        ],
        [
         "6",
         "2020-2023",
         "0.01",
         "25",
         "0.019",
         "2",
         "{0: 424, -1: 3948}",
         "3948",
         null,
         null,
         null
        ],
        [
         "7",
         "2020-2023",
         "0.01",
         "30",
         "0.016",
         "3",
         "{0: 381, 1: 32, -1: 3959}",
         "3959",
         null,
         null,
         "17.979"
        ],
        [
         "8",
         "2020-2023",
         "0.015",
         "10",
         "0.032",
         "52",
         "{0: 10, 1: 487, 2: 25, 3: 14, 4: 10, 5: 15, 6: 12, 7: 12, 8: 10, 9: 13, 10: 13, 11: 18, 12: 18, 13: 20, 14: 10, 15: 12, 16: 11, 17: 11, 18: 23, 19: 20, 20: 11, 21: 21, 22: 43, 23: 19, 24: 16, 25: 11, 26: 10, 27: 13, 28: 15, 29: 43, 30: 17, 31: 26, 32: 18, 33: 10, 34: 26, 35: 14, 36: 17, 37: 25, 38: 33, 39: 11, 40: 14, 41: 15, 42: 38, 43: 15, 44: 13, 45: 12, 46: 10, 47: 114, 48: 13, 49: 13, 50: 10, -1: 2942}",
         "2942",
         null,
         null,
         null
        ],
        [
         "9",
         "2020-2023",
         "0.015",
         "15",
         "0.032",
         "21",
         "{0: 482, 1: 15, 2: 21, 3: 19, 4: 43, 5: 16, 6: 17, 7: 15, 8: 17, 9: 15, 10: 18, 11: 19, 12: 11, 13: 22, 14: 38, 15: 24, 16: 18, 17: 50, 18: 41, 19: 15, -1: 3456}",
         "3456",
         null,
         null,
         null
        ],
        [
         "10",
         "2020-2023",
         "0.015",
         "25",
         "0.032",
         "4",
         "{0: 471, 1: 33, 2: 25, -1: 3843}",
         "3843",
         null,
         null,
         null
        ],
        [
         "11",
         "2020-2023",
         "0.015",
         "30",
         "0.016",
         "3",
         "{0: 467, 1: 33, -1: 3872}",
         "3872",
         null,
         null,
         "82764.02"
        ]
       ],
       "shape": {
        "columns": 10,
        "rows": 12
       }
      },
      "text/html": [
       "<div>\n",
       "<style scoped>\n",
       "    .dataframe tbody tr th:only-of-type {\n",
       "        vertical-align: middle;\n",
       "    }\n",
       "\n",
       "    .dataframe tbody tr th {\n",
       "        vertical-align: top;\n",
       "    }\n",
       "\n",
       "    .dataframe thead th {\n",
       "        text-align: right;\n",
       "    }\n",
       "</style>\n",
       "<table border=\"1\" class=\"dataframe\">\n",
       "  <thead>\n",
       "    <tr style=\"text-align: right;\">\n",
       "      <th></th>\n",
       "      <th>Year Range</th>\n",
       "      <th>eps</th>\n",
       "      <th>min_samples</th>\n",
       "      <th>Runtime (s)</th>\n",
       "      <th>Clusters</th>\n",
       "      <th>Points per Cluster</th>\n",
       "      <th>Noise Points</th>\n",
       "      <th>Davies-Bouldin</th>\n",
       "      <th>Calinski-Harabasz</th>\n",
       "      <th>Weighted Mean ANOVA F</th>\n",
       "    </tr>\n",
       "  </thead>\n",
       "  <tbody>\n",
       "    <tr>\n",
       "      <th>0</th>\n",
       "      <td>2020-2023</td>\n",
       "      <td>0.020</td>\n",
       "      <td>10</td>\n",
       "      <td>0.046</td>\n",
       "      <td>67</td>\n",
       "      <td>{0: 10, 1: 10, 2: 494, 3: 25, 4: 29, 5: 25, 6:...</td>\n",
       "      <td>2332</td>\n",
       "      <td>None</td>\n",
       "      <td>None</td>\n",
       "      <td>NaN</td>\n",
       "    </tr>\n",
       "    <tr>\n",
       "      <th>1</th>\n",
       "      <td>2020-2023</td>\n",
       "      <td>0.020</td>\n",
       "      <td>15</td>\n",
       "      <td>0.030</td>\n",
       "      <td>35</td>\n",
       "      <td>{0: 494, 1: 25, 2: 20, 3: 18, 4: 15, 5: 43, 6:...</td>\n",
       "      <td>2826</td>\n",
       "      <td>None</td>\n",
       "      <td>None</td>\n",
       "      <td>NaN</td>\n",
       "    </tr>\n",
       "    <tr>\n",
       "      <th>2</th>\n",
       "      <td>2020-2023</td>\n",
       "      <td>0.020</td>\n",
       "      <td>25</td>\n",
       "      <td>0.035</td>\n",
       "      <td>8</td>\n",
       "      <td>{0: 494, 1: 32, 2: 61, 3: 42, 4: 25, 5: 135, 6...</td>\n",
       "      <td>3546</td>\n",
       "      <td>None</td>\n",
       "      <td>None</td>\n",
       "      <td>NaN</td>\n",
       "    </tr>\n",
       "    <tr>\n",
       "      <th>3</th>\n",
       "      <td>2020-2023</td>\n",
       "      <td>0.020</td>\n",
       "      <td>30</td>\n",
       "      <td>0.018</td>\n",
       "      <td>7</td>\n",
       "      <td>{0: 492, 1: 51, 2: 38, 3: 92, 4: 26, 5: 30, -1...</td>\n",
       "      <td>3643</td>\n",
       "      <td>None</td>\n",
       "      <td>None</td>\n",
       "      <td>35544.301</td>\n",
       "    </tr>\n",
       "    <tr>\n",
       "      <th>4</th>\n",
       "      <td>2020-2023</td>\n",
       "      <td>0.010</td>\n",
       "      <td>10</td>\n",
       "      <td>0.011</td>\n",
       "      <td>29</td>\n",
       "      <td>{0: 10, 1: 451, 2: 14, 3: 11, 4: 10, 5: 13, 6:...</td>\n",
       "      <td>3561</td>\n",
       "      <td>None</td>\n",
       "      <td>None</td>\n",
       "      <td>NaN</td>\n",
       "    </tr>\n",
       "    <tr>\n",
       "      <th>5</th>\n",
       "      <td>2020-2023</td>\n",
       "      <td>0.010</td>\n",
       "      <td>15</td>\n",
       "      <td>0.016</td>\n",
       "      <td>8</td>\n",
       "      <td>{0: 433, 1: 18, 2: 22, 3: 21, 4: 20, 5: 15, 6:...</td>\n",
       "      <td>3828</td>\n",
       "      <td>None</td>\n",
       "      <td>None</td>\n",
       "      <td>NaN</td>\n",
       "    </tr>\n",
       "    <tr>\n",
       "      <th>6</th>\n",
       "      <td>2020-2023</td>\n",
       "      <td>0.010</td>\n",
       "      <td>25</td>\n",
       "      <td>0.019</td>\n",
       "      <td>2</td>\n",
       "      <td>{0: 424, -1: 3948}</td>\n",
       "      <td>3948</td>\n",
       "      <td>None</td>\n",
       "      <td>None</td>\n",
       "      <td>NaN</td>\n",
       "    </tr>\n",
       "    <tr>\n",
       "      <th>7</th>\n",
       "      <td>2020-2023</td>\n",
       "      <td>0.010</td>\n",
       "      <td>30</td>\n",
       "      <td>0.016</td>\n",
       "      <td>3</td>\n",
       "      <td>{0: 381, 1: 32, -1: 3959}</td>\n",
       "      <td>3959</td>\n",
       "      <td>None</td>\n",
       "      <td>None</td>\n",
       "      <td>17.979</td>\n",
       "    </tr>\n",
       "    <tr>\n",
       "      <th>8</th>\n",
       "      <td>2020-2023</td>\n",
       "      <td>0.015</td>\n",
       "      <td>10</td>\n",
       "      <td>0.032</td>\n",
       "      <td>52</td>\n",
       "      <td>{0: 10, 1: 487, 2: 25, 3: 14, 4: 10, 5: 15, 6:...</td>\n",
       "      <td>2942</td>\n",
       "      <td>None</td>\n",
       "      <td>None</td>\n",
       "      <td>NaN</td>\n",
       "    </tr>\n",
       "    <tr>\n",
       "      <th>9</th>\n",
       "      <td>2020-2023</td>\n",
       "      <td>0.015</td>\n",
       "      <td>15</td>\n",
       "      <td>0.032</td>\n",
       "      <td>21</td>\n",
       "      <td>{0: 482, 1: 15, 2: 21, 3: 19, 4: 43, 5: 16, 6:...</td>\n",
       "      <td>3456</td>\n",
       "      <td>None</td>\n",
       "      <td>None</td>\n",
       "      <td>NaN</td>\n",
       "    </tr>\n",
       "    <tr>\n",
       "      <th>10</th>\n",
       "      <td>2020-2023</td>\n",
       "      <td>0.015</td>\n",
       "      <td>25</td>\n",
       "      <td>0.032</td>\n",
       "      <td>4</td>\n",
       "      <td>{0: 471, 1: 33, 2: 25, -1: 3843}</td>\n",
       "      <td>3843</td>\n",
       "      <td>None</td>\n",
       "      <td>None</td>\n",
       "      <td>NaN</td>\n",
       "    </tr>\n",
       "    <tr>\n",
       "      <th>11</th>\n",
       "      <td>2020-2023</td>\n",
       "      <td>0.015</td>\n",
       "      <td>30</td>\n",
       "      <td>0.016</td>\n",
       "      <td>3</td>\n",
       "      <td>{0: 467, 1: 33, -1: 3872}</td>\n",
       "      <td>3872</td>\n",
       "      <td>None</td>\n",
       "      <td>None</td>\n",
       "      <td>82764.020</td>\n",
       "    </tr>\n",
       "  </tbody>\n",
       "</table>\n",
       "</div>"
      ],
      "text/plain": [
       "   Year Range    eps  min_samples Runtime (s)  Clusters  \\\n",
       "0   2020-2023  0.020           10       0.046        67   \n",
       "1   2020-2023  0.020           15       0.030        35   \n",
       "2   2020-2023  0.020           25       0.035         8   \n",
       "3   2020-2023  0.020           30       0.018         7   \n",
       "4   2020-2023  0.010           10       0.011        29   \n",
       "5   2020-2023  0.010           15       0.016         8   \n",
       "6   2020-2023  0.010           25       0.019         2   \n",
       "7   2020-2023  0.010           30       0.016         3   \n",
       "8   2020-2023  0.015           10       0.032        52   \n",
       "9   2020-2023  0.015           15       0.032        21   \n",
       "10  2020-2023  0.015           25       0.032         4   \n",
       "11  2020-2023  0.015           30       0.016         3   \n",
       "\n",
       "                                   Points per Cluster  Noise Points  \\\n",
       "0   {0: 10, 1: 10, 2: 494, 3: 25, 4: 29, 5: 25, 6:...          2332   \n",
       "1   {0: 494, 1: 25, 2: 20, 3: 18, 4: 15, 5: 43, 6:...          2826   \n",
       "2   {0: 494, 1: 32, 2: 61, 3: 42, 4: 25, 5: 135, 6...          3546   \n",
       "3   {0: 492, 1: 51, 2: 38, 3: 92, 4: 26, 5: 30, -1...          3643   \n",
       "4   {0: 10, 1: 451, 2: 14, 3: 11, 4: 10, 5: 13, 6:...          3561   \n",
       "5   {0: 433, 1: 18, 2: 22, 3: 21, 4: 20, 5: 15, 6:...          3828   \n",
       "6                                  {0: 424, -1: 3948}          3948   \n",
       "7                           {0: 381, 1: 32, -1: 3959}          3959   \n",
       "8   {0: 10, 1: 487, 2: 25, 3: 14, 4: 10, 5: 15, 6:...          2942   \n",
       "9   {0: 482, 1: 15, 2: 21, 3: 19, 4: 43, 5: 16, 6:...          3456   \n",
       "10                   {0: 471, 1: 33, 2: 25, -1: 3843}          3843   \n",
       "11                          {0: 467, 1: 33, -1: 3872}          3872   \n",
       "\n",
       "   Davies-Bouldin Calinski-Harabasz  Weighted Mean ANOVA F  \n",
       "0            None              None                    NaN  \n",
       "1            None              None                    NaN  \n",
       "2            None              None                    NaN  \n",
       "3            None              None              35544.301  \n",
       "4            None              None                    NaN  \n",
       "5            None              None                    NaN  \n",
       "6            None              None                    NaN  \n",
       "7            None              None                 17.979  \n",
       "8            None              None                    NaN  \n",
       "9            None              None                    NaN  \n",
       "10           None              None                    NaN  \n",
       "11           None              None              82764.020  "
      ]
     },
     "metadata": {},
     "output_type": "display_data"
    }
   ],
   "source": [
    "import cluster_data_5d\n",
    "from cluster_data_5d import run_clustering, normalize_data, unnormalize\n",
    "import numpy as np\n",
    "import pandas as pd\n",
    "import os\n",
    "from kmeans import k_means\n",
    "from cluster_plotter import ClusterPlotter\n",
    "from clustering_utils_5d import ClusterData\n",
    "import cluster_plotter\n",
    "from DBSCAN import dbscan_clustering\n",
    "import high_dim_analysis\n",
    "import seaborn as sns\n",
    "import matplotlib.pyplot as plt\n",
    "\n",
    "# Define year ranges\n",
    "standard_year_ranges = {\n",
    "    f\"{start}-{start + 3}\": np.arange(start, start + 4)\n",
    "    for start in [2002, 2006, 2010, 2014, 2019]\n",
    "}\n",
    "standard_year_ranges[\"2019-2023\"] = np.arange(2019, 2024)  # Include 2023\n",
    "running_ranges = cluster_data_5d.generate_running_year_ranges(2002, 2023, 4)\n",
    "\n",
    "binned_data = cluster_data_5d.bin_data_for_clustering(running_ranges, print_res=False)\n",
    "\n",
    "results_per_year_range = {}\n",
    "\n",
    "# Output directory for plots\n",
    "plot_dir = \"Images\\dbscan_tests_running_bins_5d_with_perigee\"\n",
    "os.makedirs(plot_dir, exist_ok=True)\n",
    "cluster_plotter.clear_directory(plot_dir)\n",
    "\n",
    "for cluster_data, year_range in binned_data:  \n",
    "    print(f\"\\nRunning DBSCAN for Year Range: {year_range}\")\n",
    "\n",
    "    data_array = np.array([cluster_data.inc, cluster_data.raan, cluster_data.perigee]).T\n",
    "    feature_names = [\"inclination [°]\", \"RAAN [°]\", \"Perigee[km]\"]\n",
    "\n",
    "    normalized_data, data_min, data_max = normalize_data(data_array)\n",
    "\n",
    "    # DBSCAN parameter ranges\n",
    "    eps_values = [0.02, 0.01, 0.015]\n",
    "    min_samples_values = [10, 15, 25, 30]\n",
    "\n",
    "    results = []\n",
    "\n",
    "    for eps in eps_values:\n",
    "        for min_samples in min_samples_values:\n",
    "            result_dbscan, time_dbscan, n_clusters_dbscan, points_per_cluster_dbscan, metrics_dbscan = run_clustering(\n",
    "                dbscan_clustering, \"DBSCAN\", normalized_data, data_min, data_max, eps=eps, min_samples=min_samples\n",
    "            )\n",
    "\n",
    "            unnormalized_data, _ = unnormalize(\n",
    "                result_dbscan.data, None, data_min, data_max\n",
    "            )\n",
    "            # Count noise points\n",
    "            noise_points = np.sum(result_dbscan.labels == -1)\n",
    "\n",
    "            results.append({\n",
    "                \"Year Range\": year_range,\n",
    "                \"eps\": eps,\n",
    "                \"min_samples\": min_samples,\n",
    "                \"Runtime (s)\": f\"{time_dbscan:.3f}\",\n",
    "                \"Clusters\": n_clusters_dbscan,\n",
    "                \"Points per Cluster\": points_per_cluster_dbscan,\n",
    "                \"Noise Points\": noise_points,\n",
    "                \"Davies-Bouldin\": f\"{metrics_dbscan[0]:.3f}\" if metrics_dbscan and isinstance(metrics_dbscan[0], (int, float)) else None,\n",
    "                \"Calinski-Harabasz\": f\"{metrics_dbscan[1]:.3f}\" if metrics_dbscan and isinstance(metrics_dbscan[1], (int, float)) else None\n",
    "            })\n",
    "\n",
    "\n",
    "            labels = result_dbscan.labels\n",
    "            \"\"\"high_dim_analysis.plot_co_membership(\n",
    "                labels,\n",
    "                output_folder=plot_dir,\n",
    "                filename=f\"co_membership_{year_range}_eps{eps}_minsamples_{min_samples}.png\"\n",
    "            )\"\"\"\n",
    "            high_dim_analysis.plot_correlation_heatmap(\n",
    "                cluster_data,\n",
    "                output_folder=plot_dir,\n",
    "                filename=f\"corr_{year_range}_eps{eps}_minsamples_{min_samples}.png\"\n",
    "            )\n",
    "            high_dim_analysis.plot_mutual_information(\n",
    "                cluster_data,\n",
    "                labels,\n",
    "                output_folder=plot_dir,\n",
    "                filename=f\"mi_{year_range}_eps{eps}_minsamples_{min_samples}.png\"\n",
    "            )\n",
    "            \n",
    "        from sklearn.feature_selection import f_classif\n",
    "        X = np.array([cluster_data.inc, cluster_data.raan, cluster_data.perigee,\n",
    "              cluster_data.ecc, cluster_data.mag]).T\n",
    "        valid = labels != -1  # Exclude noise points\n",
    "        if np.any(valid) and len(np.unique(labels[valid])) > 1:\n",
    "            f_vals, _ = f_classif(X[valid], labels[valid])\n",
    "            weights = np.var(X[valid], axis=0)\n",
    "            weighted_mean_f = np.average(f_vals, weights=weights)\n",
    "        else:\n",
    "            weighted_mean_f = 0.0  # Avoid invalid or single-cluster cases\n",
    "\n",
    "        results[-1][\"Weighted Mean ANOVA F\"] = f\"{weighted_mean_f:.3f}\"\n",
    "\n",
    "    df = pd.DataFrame(results)\n",
    "\n",
    "    df[\"Weighted Mean ANOVA F\"] = pd.to_numeric(df[\"Weighted Mean ANOVA F\"], errors=\"coerce\")\n",
    "    df_sorted = df.sort_values(by=\"Weighted Mean ANOVA F\", ascending=False)\n",
    "    best_params = df_sorted.iloc[0]\n",
    "    best_eps = best_params[\"eps\"]\n",
    "    best_min_samples = best_params[\"min_samples\"]\n",
    "\n",
    "    # Re-run clustering with best parameters to get labels\n",
    "    best_result, _, _, _, _ = run_clustering(\n",
    "        dbscan_clustering, \"DBSCAN\", normalized_data, data_min, data_max,\n",
    "        eps=best_eps, min_samples=best_min_samples\n",
    "    )\n",
    "    best_labels = best_result.labels\n",
    "\n",
    "    df_plot = pd.DataFrame(data_array, columns=feature_names)\n",
    "    df_plot['cluster'] = best_labels.astype(str)\n",
    "\n",
    "    pairplot = sns.pairplot(df_plot, hue='cluster', diag_kind='kde', plot_kws={'alpha':0.6, 's':40})\n",
    "    pairplot.fig.suptitle(f\"DBSCAN Clusters for Year Range {year_range}\", y=1.02)\n",
    "\n",
    "    # Save the figure to the plot directory\n",
    "    pairplot.savefig(os.path.join(plot_dir, f\"pairplot_{year_range}_eps{best_eps}_minsamples_{best_min_samples}.png\"))\n",
    "\n",
    "    plt.close(pairplot.fig)  # Close the figure to free memory\n",
    "\n",
    "\n",
    "    # Plot ANOVA F-values only for best result\n",
    "    high_dim_analysis.plot_anova_f_values(\n",
    "        cluster_data,\n",
    "        best_labels,\n",
    "        output_folder=plot_dir,\n",
    "        filename=f\"anova_best_{year_range}_eps{best_eps}_minsamples_{best_min_samples}.png\",\n",
    "        title=f\"ANOVA F-values (Best DBSCAN Parameters), eps = {float(best_eps)}, minsamples = {float(best_min_samples)}\"\n",
    "    )\n",
    "\n",
    "    print(\"Best DBSCAN parameters based on ANOVA F-value:\")\n",
    "    print(best_params)\n",
    "    display(df)\n"
   ]
  }
 ],
 "metadata": {
  "kernelspec": {
   "display_name": "base",
   "language": "python",
   "name": "python3"
  },
  "language_info": {
   "codemirror_mode": {
    "name": "ipython",
    "version": 3
   },
   "file_extension": ".py",
   "mimetype": "text/x-python",
   "name": "python",
   "nbconvert_exporter": "python",
   "pygments_lexer": "ipython3",
   "version": "3.12.3"
  }
 },
 "nbformat": 4,
 "nbformat_minor": 5
}
