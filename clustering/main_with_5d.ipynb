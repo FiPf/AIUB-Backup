{
 "cells": [
  {
   "cell_type": "markdown",
   "id": "bf651ce6",
   "metadata": {},
   "source": [
    "# KMeans"
   ]
  },
  {
   "cell_type": "code",
   "execution_count": 1,
   "id": "5dc8c8c2",
   "metadata": {},
   "outputs": [
    {
     "name": "stderr",
     "output_type": "stream",
     "text": [
      "<>:26: SyntaxWarning: invalid escape sequence '\\k'\n",
      "<>:26: SyntaxWarning: invalid escape sequence '\\k'\n",
      "C:\\Users\\fionu\\AppData\\Local\\Temp\\ipykernel_48812\\3664462175.py:26: SyntaxWarning: invalid escape sequence '\\k'\n",
      "  plot_dir = \"Images\\k_means_running_bins_5d\"\n"
     ]
    },
    {
     "name": "stdout",
     "output_type": "stream",
     "text": [
      "\n",
      "Running K-Means for Year Range: 2002-2005\n",
      "Runtime for k_means: 0.000000 seconds\n"
     ]
    },
    {
     "name": "stderr",
     "output_type": "stream",
     "text": [
      "c:\\Users\\fionu\\OneDrive\\Dokumente\\Daten Fiona\\AIUB\\Code\\AIUB-Backup\\clustering\\high_dim_analysis.py:138: FutureWarning: \n",
      "\n",
      "Passing `palette` without assigning `hue` is deprecated and will be removed in v0.14.0. Assign the `y` variable to `hue` and set `legend=False` for the same effect.\n",
      "\n",
      "  sns.barplot(x=mi_vals, y=features, palette=\"magma\")\n"
     ]
    },
    {
     "name": "stdout",
     "output_type": "stream",
     "text": [
      "Runtime for k_means: 0.000000 seconds\n"
     ]
    },
    {
     "name": "stderr",
     "output_type": "stream",
     "text": [
      "c:\\Users\\fionu\\OneDrive\\Dokumente\\Daten Fiona\\AIUB\\Code\\AIUB-Backup\\clustering\\high_dim_analysis.py:138: FutureWarning: \n",
      "\n",
      "Passing `palette` without assigning `hue` is deprecated and will be removed in v0.14.0. Assign the `y` variable to `hue` and set `legend=False` for the same effect.\n",
      "\n",
      "  sns.barplot(x=mi_vals, y=features, palette=\"magma\")\n"
     ]
    },
    {
     "name": "stdout",
     "output_type": "stream",
     "text": [
      "Runtime for k_means: 0.029128 seconds\n"
     ]
    },
    {
     "name": "stderr",
     "output_type": "stream",
     "text": [
      "c:\\Users\\fionu\\OneDrive\\Dokumente\\Daten Fiona\\AIUB\\Code\\AIUB-Backup\\clustering\\high_dim_analysis.py:138: FutureWarning: \n",
      "\n",
      "Passing `palette` without assigning `hue` is deprecated and will be removed in v0.14.0. Assign the `y` variable to `hue` and set `legend=False` for the same effect.\n",
      "\n",
      "  sns.barplot(x=mi_vals, y=features, palette=\"magma\")\n"
     ]
    },
    {
     "name": "stdout",
     "output_type": "stream",
     "text": [
      "Runtime for k_means: 0.017963 seconds\n"
     ]
    },
    {
     "name": "stderr",
     "output_type": "stream",
     "text": [
      "c:\\Users\\fionu\\OneDrive\\Dokumente\\Daten Fiona\\AIUB\\Code\\AIUB-Backup\\clustering\\high_dim_analysis.py:138: FutureWarning: \n",
      "\n",
      "Passing `palette` without assigning `hue` is deprecated and will be removed in v0.14.0. Assign the `y` variable to `hue` and set `legend=False` for the same effect.\n",
      "\n",
      "  sns.barplot(x=mi_vals, y=features, palette=\"magma\")\n"
     ]
    },
    {
     "name": "stdout",
     "output_type": "stream",
     "text": [
      "Runtime for k_means: 0.025215 seconds\n"
     ]
    },
    {
     "name": "stderr",
     "output_type": "stream",
     "text": [
      "c:\\Users\\fionu\\OneDrive\\Dokumente\\Daten Fiona\\AIUB\\Code\\AIUB-Backup\\clustering\\high_dim_analysis.py:138: FutureWarning: \n",
      "\n",
      "Passing `palette` without assigning `hue` is deprecated and will be removed in v0.14.0. Assign the `y` variable to `hue` and set `legend=False` for the same effect.\n",
      "\n",
      "  sns.barplot(x=mi_vals, y=features, palette=\"magma\")\n"
     ]
    },
    {
     "name": "stdout",
     "output_type": "stream",
     "text": [
      "Runtime for k_means: 0.016430 seconds\n"
     ]
    },
    {
     "name": "stderr",
     "output_type": "stream",
     "text": [
      "c:\\Users\\fionu\\OneDrive\\Dokumente\\Daten Fiona\\AIUB\\Code\\AIUB-Backup\\clustering\\high_dim_analysis.py:42: FutureWarning: \n",
      "\n",
      "Passing `palette` without assigning `hue` is deprecated and will be removed in v0.14.0. Assign the `y` variable to `hue` and set `legend=False` for the same effect.\n",
      "\n",
      "  sns.barplot(x=f_vals, y=features, palette=\"crest\")\n"
     ]
    },
    {
     "name": "stdout",
     "output_type": "stream",
     "text": [
      "Best KMeans parameters based on ANOVA F-value:\n",
      "Year Range                              2002-2005\n",
      "k                                               3\n",
      "Runtime (s)                                 0.000\n",
      "Clusters                                        3\n",
      "Points per Cluster    {0: 2318, 1: 4365, 2: 1354}\n",
      "Davies-Bouldin                               None\n",
      "Calinski-Harabasz                            None\n",
      "Dunn Index                                   None\n",
      "Silhouette Score                             None\n",
      "Mean ANOVA F                            33146.711\n",
      "Name: 0, dtype: object\n"
     ]
    },
    {
     "data": {
      "application/vnd.microsoft.datawrangler.viewer.v0+json": {
       "columns": [
        {
         "name": "index",
         "rawType": "int64",
         "type": "integer"
        },
        {
         "name": "Year Range",
         "rawType": "object",
         "type": "string"
        },
        {
         "name": "k",
         "rawType": "int64",
         "type": "integer"
        },
        {
         "name": "Runtime (s)",
         "rawType": "object",
         "type": "string"
        },
        {
         "name": "Clusters",
         "rawType": "int64",
         "type": "integer"
        },
        {
         "name": "Points per Cluster",
         "rawType": "object",
         "type": "unknown"
        },
        {
         "name": "Davies-Bouldin",
         "rawType": "object",
         "type": "unknown"
        },
        {
         "name": "Calinski-Harabasz",
         "rawType": "object",
         "type": "unknown"
        },
        {
         "name": "Dunn Index",
         "rawType": "object",
         "type": "unknown"
        },
        {
         "name": "Silhouette Score",
         "rawType": "object",
         "type": "unknown"
        },
        {
         "name": "Mean ANOVA F",
         "rawType": "float64",
         "type": "float"
        }
       ],
       "ref": "ad423825-bb73-4bab-a86a-9e075ac6aa3c",
       "rows": [
        [
         "0",
         "2002-2005",
         "3",
         "0.000",
         "3",
         "{0: 2318, 1: 4365, 2: 1354}",
         null,
         null,
         null,
         null,
         "33146.711"
        ],
        [
         "1",
         "2002-2005",
         "4",
         "0.000",
         "4",
         "{0: 221, 1: 1340, 2: 2316, 3: 4160}",
         null,
         null,
         null,
         null,
         "22627.822"
        ],
        [
         "2",
         "2002-2005",
         "5",
         "0.029",
         "5",
         "{0: 4159, 1: 988, 2: 1593, 3: 220, 4: 1077}",
         null,
         null,
         null,
         null,
         "18684.213"
        ],
        [
         "3",
         "2002-2005",
         "6",
         "0.018",
         "6",
         "{0: 4157, 1: 1253, 2: 969, 3: 433, 4: 220, 5: 1005}",
         null,
         null,
         null,
         null,
         "19087.366"
        ],
        [
         "4",
         "2002-2005",
         "7",
         "0.025",
         "7",
         "{0: 1542, 1: 2771, 2: 111, 3: 1401, 4: 205, 5: 981, 6: 1026}",
         null,
         null,
         null,
         null,
         "13329.715"
        ]
       ],
       "shape": {
        "columns": 10,
        "rows": 5
       }
      },
      "text/html": [
       "<div>\n",
       "<style scoped>\n",
       "    .dataframe tbody tr th:only-of-type {\n",
       "        vertical-align: middle;\n",
       "    }\n",
       "\n",
       "    .dataframe tbody tr th {\n",
       "        vertical-align: top;\n",
       "    }\n",
       "\n",
       "    .dataframe thead th {\n",
       "        text-align: right;\n",
       "    }\n",
       "</style>\n",
       "<table border=\"1\" class=\"dataframe\">\n",
       "  <thead>\n",
       "    <tr style=\"text-align: right;\">\n",
       "      <th></th>\n",
       "      <th>Year Range</th>\n",
       "      <th>k</th>\n",
       "      <th>Runtime (s)</th>\n",
       "      <th>Clusters</th>\n",
       "      <th>Points per Cluster</th>\n",
       "      <th>Davies-Bouldin</th>\n",
       "      <th>Calinski-Harabasz</th>\n",
       "      <th>Dunn Index</th>\n",
       "      <th>Silhouette Score</th>\n",
       "      <th>Mean ANOVA F</th>\n",
       "    </tr>\n",
       "  </thead>\n",
       "  <tbody>\n",
       "    <tr>\n",
       "      <th>0</th>\n",
       "      <td>2002-2005</td>\n",
       "      <td>3</td>\n",
       "      <td>0.000</td>\n",
       "      <td>3</td>\n",
       "      <td>{0: 2318, 1: 4365, 2: 1354}</td>\n",
       "      <td>None</td>\n",
       "      <td>None</td>\n",
       "      <td>None</td>\n",
       "      <td>None</td>\n",
       "      <td>33146.711</td>\n",
       "    </tr>\n",
       "    <tr>\n",
       "      <th>1</th>\n",
       "      <td>2002-2005</td>\n",
       "      <td>4</td>\n",
       "      <td>0.000</td>\n",
       "      <td>4</td>\n",
       "      <td>{0: 221, 1: 1340, 2: 2316, 3: 4160}</td>\n",
       "      <td>None</td>\n",
       "      <td>None</td>\n",
       "      <td>None</td>\n",
       "      <td>None</td>\n",
       "      <td>22627.822</td>\n",
       "    </tr>\n",
       "    <tr>\n",
       "      <th>2</th>\n",
       "      <td>2002-2005</td>\n",
       "      <td>5</td>\n",
       "      <td>0.029</td>\n",
       "      <td>5</td>\n",
       "      <td>{0: 4159, 1: 988, 2: 1593, 3: 220, 4: 1077}</td>\n",
       "      <td>None</td>\n",
       "      <td>None</td>\n",
       "      <td>None</td>\n",
       "      <td>None</td>\n",
       "      <td>18684.213</td>\n",
       "    </tr>\n",
       "    <tr>\n",
       "      <th>3</th>\n",
       "      <td>2002-2005</td>\n",
       "      <td>6</td>\n",
       "      <td>0.018</td>\n",
       "      <td>6</td>\n",
       "      <td>{0: 4157, 1: 1253, 2: 969, 3: 433, 4: 220, 5: ...</td>\n",
       "      <td>None</td>\n",
       "      <td>None</td>\n",
       "      <td>None</td>\n",
       "      <td>None</td>\n",
       "      <td>19087.366</td>\n",
       "    </tr>\n",
       "    <tr>\n",
       "      <th>4</th>\n",
       "      <td>2002-2005</td>\n",
       "      <td>7</td>\n",
       "      <td>0.025</td>\n",
       "      <td>7</td>\n",
       "      <td>{0: 1542, 1: 2771, 2: 111, 3: 1401, 4: 205, 5:...</td>\n",
       "      <td>None</td>\n",
       "      <td>None</td>\n",
       "      <td>None</td>\n",
       "      <td>None</td>\n",
       "      <td>13329.715</td>\n",
       "    </tr>\n",
       "  </tbody>\n",
       "</table>\n",
       "</div>"
      ],
      "text/plain": [
       "  Year Range  k Runtime (s)  Clusters  \\\n",
       "0  2002-2005  3       0.000         3   \n",
       "1  2002-2005  4       0.000         4   \n",
       "2  2002-2005  5       0.029         5   \n",
       "3  2002-2005  6       0.018         6   \n",
       "4  2002-2005  7       0.025         7   \n",
       "\n",
       "                                  Points per Cluster Davies-Bouldin  \\\n",
       "0                        {0: 2318, 1: 4365, 2: 1354}           None   \n",
       "1                {0: 221, 1: 1340, 2: 2316, 3: 4160}           None   \n",
       "2        {0: 4159, 1: 988, 2: 1593, 3: 220, 4: 1077}           None   \n",
       "3  {0: 4157, 1: 1253, 2: 969, 3: 433, 4: 220, 5: ...           None   \n",
       "4  {0: 1542, 1: 2771, 2: 111, 3: 1401, 4: 205, 5:...           None   \n",
       "\n",
       "  Calinski-Harabasz Dunn Index Silhouette Score  Mean ANOVA F  \n",
       "0              None       None             None     33146.711  \n",
       "1              None       None             None     22627.822  \n",
       "2              None       None             None     18684.213  \n",
       "3              None       None             None     19087.366  \n",
       "4              None       None             None     13329.715  "
      ]
     },
     "metadata": {},
     "output_type": "display_data"
    },
    {
     "name": "stdout",
     "output_type": "stream",
     "text": [
      "\n",
      "Running K-Means for Year Range: 2003-2006\n",
      "Runtime for k_means: 0.017236 seconds\n"
     ]
    },
    {
     "name": "stderr",
     "output_type": "stream",
     "text": [
      "c:\\Users\\fionu\\OneDrive\\Dokumente\\Daten Fiona\\AIUB\\Code\\AIUB-Backup\\clustering\\high_dim_analysis.py:138: FutureWarning: \n",
      "\n",
      "Passing `palette` without assigning `hue` is deprecated and will be removed in v0.14.0. Assign the `y` variable to `hue` and set `legend=False` for the same effect.\n",
      "\n",
      "  sns.barplot(x=mi_vals, y=features, palette=\"magma\")\n"
     ]
    },
    {
     "name": "stdout",
     "output_type": "stream",
     "text": [
      "Runtime for k_means: 0.012138 seconds\n"
     ]
    },
    {
     "name": "stderr",
     "output_type": "stream",
     "text": [
      "c:\\Users\\fionu\\OneDrive\\Dokumente\\Daten Fiona\\AIUB\\Code\\AIUB-Backup\\clustering\\high_dim_analysis.py:138: FutureWarning: \n",
      "\n",
      "Passing `palette` without assigning `hue` is deprecated and will be removed in v0.14.0. Assign the `y` variable to `hue` and set `legend=False` for the same effect.\n",
      "\n",
      "  sns.barplot(x=mi_vals, y=features, palette=\"magma\")\n"
     ]
    },
    {
     "name": "stdout",
     "output_type": "stream",
     "text": [
      "Runtime for k_means: 0.052203 seconds\n"
     ]
    },
    {
     "name": "stderr",
     "output_type": "stream",
     "text": [
      "c:\\Users\\fionu\\OneDrive\\Dokumente\\Daten Fiona\\AIUB\\Code\\AIUB-Backup\\clustering\\high_dim_analysis.py:138: FutureWarning: \n",
      "\n",
      "Passing `palette` without assigning `hue` is deprecated and will be removed in v0.14.0. Assign the `y` variable to `hue` and set `legend=False` for the same effect.\n",
      "\n",
      "  sns.barplot(x=mi_vals, y=features, palette=\"magma\")\n"
     ]
    },
    {
     "name": "stdout",
     "output_type": "stream",
     "text": [
      "Runtime for k_means: 0.035702 seconds\n"
     ]
    },
    {
     "name": "stderr",
     "output_type": "stream",
     "text": [
      "c:\\Users\\fionu\\OneDrive\\Dokumente\\Daten Fiona\\AIUB\\Code\\AIUB-Backup\\clustering\\high_dim_analysis.py:138: FutureWarning: \n",
      "\n",
      "Passing `palette` without assigning `hue` is deprecated and will be removed in v0.14.0. Assign the `y` variable to `hue` and set `legend=False` for the same effect.\n",
      "\n",
      "  sns.barplot(x=mi_vals, y=features, palette=\"magma\")\n"
     ]
    },
    {
     "name": "stdout",
     "output_type": "stream",
     "text": [
      "Runtime for k_means: 0.048396 seconds\n"
     ]
    },
    {
     "name": "stderr",
     "output_type": "stream",
     "text": [
      "c:\\Users\\fionu\\OneDrive\\Dokumente\\Daten Fiona\\AIUB\\Code\\AIUB-Backup\\clustering\\high_dim_analysis.py:138: FutureWarning: \n",
      "\n",
      "Passing `palette` without assigning `hue` is deprecated and will be removed in v0.14.0. Assign the `y` variable to `hue` and set `legend=False` for the same effect.\n",
      "\n",
      "  sns.barplot(x=mi_vals, y=features, palette=\"magma\")\n"
     ]
    },
    {
     "name": "stdout",
     "output_type": "stream",
     "text": [
      "Runtime for k_means: 0.008623 seconds\n",
      "Best KMeans parameters based on ANOVA F-value:\n",
      "Year Range                              2003-2006\n",
      "k                                               3\n",
      "Runtime (s)                                 0.017\n",
      "Clusters                                        3\n",
      "Points per Cluster    {0: 1440, 1: 5211, 2: 2228}\n",
      "Davies-Bouldin                               None\n",
      "Calinski-Harabasz                            None\n",
      "Dunn Index                                   None\n",
      "Silhouette Score                             None\n",
      "Mean ANOVA F                            34135.126\n",
      "Name: 0, dtype: object\n"
     ]
    },
    {
     "name": "stderr",
     "output_type": "stream",
     "text": [
      "c:\\Users\\fionu\\OneDrive\\Dokumente\\Daten Fiona\\AIUB\\Code\\AIUB-Backup\\clustering\\high_dim_analysis.py:42: FutureWarning: \n",
      "\n",
      "Passing `palette` without assigning `hue` is deprecated and will be removed in v0.14.0. Assign the `y` variable to `hue` and set `legend=False` for the same effect.\n",
      "\n",
      "  sns.barplot(x=f_vals, y=features, palette=\"crest\")\n"
     ]
    },
    {
     "data": {
      "application/vnd.microsoft.datawrangler.viewer.v0+json": {
       "columns": [
        {
         "name": "index",
         "rawType": "int64",
         "type": "integer"
        },
        {
         "name": "Year Range",
         "rawType": "object",
         "type": "string"
        },
        {
         "name": "k",
         "rawType": "int64",
         "type": "integer"
        },
        {
         "name": "Runtime (s)",
         "rawType": "object",
         "type": "string"
        },
        {
         "name": "Clusters",
         "rawType": "int64",
         "type": "integer"
        },
        {
         "name": "Points per Cluster",
         "rawType": "object",
         "type": "unknown"
        },
        {
         "name": "Davies-Bouldin",
         "rawType": "object",
         "type": "unknown"
        },
        {
         "name": "Calinski-Harabasz",
         "rawType": "object",
         "type": "unknown"
        },
        {
         "name": "Dunn Index",
         "rawType": "object",
         "type": "unknown"
        },
        {
         "name": "Silhouette Score",
         "rawType": "object",
         "type": "unknown"
        },
        {
         "name": "Mean ANOVA F",
         "rawType": "float64",
         "type": "float"
        }
       ],
       "ref": "3592e1e9-867c-4acf-9849-370a6d0c42aa",
       "rows": [
        [
         "0",
         "2003-2006",
         "3",
         "0.017",
         "3",
         "{0: 1440, 1: 5211, 2: 2228}",
         null,
         null,
         null,
         null,
         "34135.126"
        ],
        [
         "1",
         "2003-2006",
         "4",
         "0.012",
         "4",
         "{0: 5207, 1: 1438, 2: 1048, 3: 1186}",
         null,
         null,
         null,
         null,
         "24034.3"
        ],
        [
         "2",
         "2003-2006",
         "5",
         "0.052",
         "5",
         "{0: 2188, 1: 1438, 2: 1043, 3: 1184, 4: 3026}",
         null,
         null,
         null,
         null,
         "18990.586"
        ],
        [
         "3",
         "2003-2006",
         "6",
         "0.036",
         "6",
         "{0: 5202, 1: 1375, 2: 72, 3: 1121, 4: 107, 5: 1002}",
         null,
         null,
         null,
         null,
         "14859.661"
        ],
        [
         "4",
         "2003-2006",
         "7",
         "0.048",
         "7",
         "{0: 4939, 1: 1350, 2: 134, 3: 692, 4: 428, 5: 1075, 6: 261}",
         null,
         null,
         null,
         null,
         "16566.823"
        ]
       ],
       "shape": {
        "columns": 10,
        "rows": 5
       }
      },
      "text/html": [
       "<div>\n",
       "<style scoped>\n",
       "    .dataframe tbody tr th:only-of-type {\n",
       "        vertical-align: middle;\n",
       "    }\n",
       "\n",
       "    .dataframe tbody tr th {\n",
       "        vertical-align: top;\n",
       "    }\n",
       "\n",
       "    .dataframe thead th {\n",
       "        text-align: right;\n",
       "    }\n",
       "</style>\n",
       "<table border=\"1\" class=\"dataframe\">\n",
       "  <thead>\n",
       "    <tr style=\"text-align: right;\">\n",
       "      <th></th>\n",
       "      <th>Year Range</th>\n",
       "      <th>k</th>\n",
       "      <th>Runtime (s)</th>\n",
       "      <th>Clusters</th>\n",
       "      <th>Points per Cluster</th>\n",
       "      <th>Davies-Bouldin</th>\n",
       "      <th>Calinski-Harabasz</th>\n",
       "      <th>Dunn Index</th>\n",
       "      <th>Silhouette Score</th>\n",
       "      <th>Mean ANOVA F</th>\n",
       "    </tr>\n",
       "  </thead>\n",
       "  <tbody>\n",
       "    <tr>\n",
       "      <th>0</th>\n",
       "      <td>2003-2006</td>\n",
       "      <td>3</td>\n",
       "      <td>0.017</td>\n",
       "      <td>3</td>\n",
       "      <td>{0: 1440, 1: 5211, 2: 2228}</td>\n",
       "      <td>None</td>\n",
       "      <td>None</td>\n",
       "      <td>None</td>\n",
       "      <td>None</td>\n",
       "      <td>34135.126</td>\n",
       "    </tr>\n",
       "    <tr>\n",
       "      <th>1</th>\n",
       "      <td>2003-2006</td>\n",
       "      <td>4</td>\n",
       "      <td>0.012</td>\n",
       "      <td>4</td>\n",
       "      <td>{0: 5207, 1: 1438, 2: 1048, 3: 1186}</td>\n",
       "      <td>None</td>\n",
       "      <td>None</td>\n",
       "      <td>None</td>\n",
       "      <td>None</td>\n",
       "      <td>24034.300</td>\n",
       "    </tr>\n",
       "    <tr>\n",
       "      <th>2</th>\n",
       "      <td>2003-2006</td>\n",
       "      <td>5</td>\n",
       "      <td>0.052</td>\n",
       "      <td>5</td>\n",
       "      <td>{0: 2188, 1: 1438, 2: 1043, 3: 1184, 4: 3026}</td>\n",
       "      <td>None</td>\n",
       "      <td>None</td>\n",
       "      <td>None</td>\n",
       "      <td>None</td>\n",
       "      <td>18990.586</td>\n",
       "    </tr>\n",
       "    <tr>\n",
       "      <th>3</th>\n",
       "      <td>2003-2006</td>\n",
       "      <td>6</td>\n",
       "      <td>0.036</td>\n",
       "      <td>6</td>\n",
       "      <td>{0: 5202, 1: 1375, 2: 72, 3: 1121, 4: 107, 5: ...</td>\n",
       "      <td>None</td>\n",
       "      <td>None</td>\n",
       "      <td>None</td>\n",
       "      <td>None</td>\n",
       "      <td>14859.661</td>\n",
       "    </tr>\n",
       "    <tr>\n",
       "      <th>4</th>\n",
       "      <td>2003-2006</td>\n",
       "      <td>7</td>\n",
       "      <td>0.048</td>\n",
       "      <td>7</td>\n",
       "      <td>{0: 4939, 1: 1350, 2: 134, 3: 692, 4: 428, 5: ...</td>\n",
       "      <td>None</td>\n",
       "      <td>None</td>\n",
       "      <td>None</td>\n",
       "      <td>None</td>\n",
       "      <td>16566.823</td>\n",
       "    </tr>\n",
       "  </tbody>\n",
       "</table>\n",
       "</div>"
      ],
      "text/plain": [
       "  Year Range  k Runtime (s)  Clusters  \\\n",
       "0  2003-2006  3       0.017         3   \n",
       "1  2003-2006  4       0.012         4   \n",
       "2  2003-2006  5       0.052         5   \n",
       "3  2003-2006  6       0.036         6   \n",
       "4  2003-2006  7       0.048         7   \n",
       "\n",
       "                                  Points per Cluster Davies-Bouldin  \\\n",
       "0                        {0: 1440, 1: 5211, 2: 2228}           None   \n",
       "1               {0: 5207, 1: 1438, 2: 1048, 3: 1186}           None   \n",
       "2      {0: 2188, 1: 1438, 2: 1043, 3: 1184, 4: 3026}           None   \n",
       "3  {0: 5202, 1: 1375, 2: 72, 3: 1121, 4: 107, 5: ...           None   \n",
       "4  {0: 4939, 1: 1350, 2: 134, 3: 692, 4: 428, 5: ...           None   \n",
       "\n",
       "  Calinski-Harabasz Dunn Index Silhouette Score  Mean ANOVA F  \n",
       "0              None       None             None     34135.126  \n",
       "1              None       None             None     24034.300  \n",
       "2              None       None             None     18990.586  \n",
       "3              None       None             None     14859.661  \n",
       "4              None       None             None     16566.823  "
      ]
     },
     "metadata": {},
     "output_type": "display_data"
    },
    {
     "name": "stdout",
     "output_type": "stream",
     "text": [
      "\n",
      "Running K-Means for Year Range: 2004-2007\n",
      "Runtime for k_means: 0.010994 seconds\n"
     ]
    },
    {
     "name": "stderr",
     "output_type": "stream",
     "text": [
      "c:\\Users\\fionu\\OneDrive\\Dokumente\\Daten Fiona\\AIUB\\Code\\AIUB-Backup\\clustering\\high_dim_analysis.py:138: FutureWarning: \n",
      "\n",
      "Passing `palette` without assigning `hue` is deprecated and will be removed in v0.14.0. Assign the `y` variable to `hue` and set `legend=False` for the same effect.\n",
      "\n",
      "  sns.barplot(x=mi_vals, y=features, palette=\"magma\")\n"
     ]
    },
    {
     "name": "stdout",
     "output_type": "stream",
     "text": [
      "Runtime for k_means: 0.014395 seconds\n"
     ]
    },
    {
     "name": "stderr",
     "output_type": "stream",
     "text": [
      "c:\\Users\\fionu\\OneDrive\\Dokumente\\Daten Fiona\\AIUB\\Code\\AIUB-Backup\\clustering\\high_dim_analysis.py:138: FutureWarning: \n",
      "\n",
      "Passing `palette` without assigning `hue` is deprecated and will be removed in v0.14.0. Assign the `y` variable to `hue` and set `legend=False` for the same effect.\n",
      "\n",
      "  sns.barplot(x=mi_vals, y=features, palette=\"magma\")\n"
     ]
    },
    {
     "name": "stdout",
     "output_type": "stream",
     "text": [
      "Runtime for k_means: 0.015065 seconds\n"
     ]
    },
    {
     "name": "stderr",
     "output_type": "stream",
     "text": [
      "c:\\Users\\fionu\\OneDrive\\Dokumente\\Daten Fiona\\AIUB\\Code\\AIUB-Backup\\clustering\\high_dim_analysis.py:138: FutureWarning: \n",
      "\n",
      "Passing `palette` without assigning `hue` is deprecated and will be removed in v0.14.0. Assign the `y` variable to `hue` and set `legend=False` for the same effect.\n",
      "\n",
      "  sns.barplot(x=mi_vals, y=features, palette=\"magma\")\n"
     ]
    },
    {
     "name": "stdout",
     "output_type": "stream",
     "text": [
      "Runtime for k_means: 0.039085 seconds\n"
     ]
    },
    {
     "name": "stderr",
     "output_type": "stream",
     "text": [
      "c:\\Users\\fionu\\OneDrive\\Dokumente\\Daten Fiona\\AIUB\\Code\\AIUB-Backup\\clustering\\high_dim_analysis.py:138: FutureWarning: \n",
      "\n",
      "Passing `palette` without assigning `hue` is deprecated and will be removed in v0.14.0. Assign the `y` variable to `hue` and set `legend=False` for the same effect.\n",
      "\n",
      "  sns.barplot(x=mi_vals, y=features, palette=\"magma\")\n"
     ]
    },
    {
     "name": "stdout",
     "output_type": "stream",
     "text": [
      "Runtime for k_means: 0.044559 seconds\n"
     ]
    },
    {
     "name": "stderr",
     "output_type": "stream",
     "text": [
      "c:\\Users\\fionu\\OneDrive\\Dokumente\\Daten Fiona\\AIUB\\Code\\AIUB-Backup\\clustering\\high_dim_analysis.py:138: FutureWarning: \n",
      "\n",
      "Passing `palette` without assigning `hue` is deprecated and will be removed in v0.14.0. Assign the `y` variable to `hue` and set `legend=False` for the same effect.\n",
      "\n",
      "  sns.barplot(x=mi_vals, y=features, palette=\"magma\")\n"
     ]
    },
    {
     "name": "stdout",
     "output_type": "stream",
     "text": [
      "Runtime for k_means: 0.013254 seconds\n"
     ]
    },
    {
     "name": "stderr",
     "output_type": "stream",
     "text": [
      "c:\\Users\\fionu\\OneDrive\\Dokumente\\Daten Fiona\\AIUB\\Code\\AIUB-Backup\\clustering\\high_dim_analysis.py:42: FutureWarning: \n",
      "\n",
      "Passing `palette` without assigning `hue` is deprecated and will be removed in v0.14.0. Assign the `y` variable to `hue` and set `legend=False` for the same effect.\n",
      "\n",
      "  sns.barplot(x=f_vals, y=features, palette=\"crest\")\n"
     ]
    },
    {
     "name": "stdout",
     "output_type": "stream",
     "text": [
      "Best KMeans parameters based on ANOVA F-value:\n",
      "Year Range                              2004-2007\n",
      "k                                               3\n",
      "Runtime (s)                                 0.011\n",
      "Clusters                                        3\n",
      "Points per Cluster    {0: 1919, 1: 5563, 2: 1067}\n",
      "Davies-Bouldin                               None\n",
      "Calinski-Harabasz                            None\n",
      "Dunn Index                                   None\n",
      "Silhouette Score                             None\n",
      "Mean ANOVA F                            34786.308\n",
      "Name: 0, dtype: object\n"
     ]
    },
    {
     "data": {
      "application/vnd.microsoft.datawrangler.viewer.v0+json": {
       "columns": [
        {
         "name": "index",
         "rawType": "int64",
         "type": "integer"
        },
        {
         "name": "Year Range",
         "rawType": "object",
         "type": "string"
        },
        {
         "name": "k",
         "rawType": "int64",
         "type": "integer"
        },
        {
         "name": "Runtime (s)",
         "rawType": "object",
         "type": "string"
        },
        {
         "name": "Clusters",
         "rawType": "int64",
         "type": "integer"
        },
        {
         "name": "Points per Cluster",
         "rawType": "object",
         "type": "unknown"
        },
        {
         "name": "Davies-Bouldin",
         "rawType": "object",
         "type": "unknown"
        },
        {
         "name": "Calinski-Harabasz",
         "rawType": "object",
         "type": "unknown"
        },
        {
         "name": "Dunn Index",
         "rawType": "object",
         "type": "unknown"
        },
        {
         "name": "Silhouette Score",
         "rawType": "object",
         "type": "unknown"
        },
        {
         "name": "Mean ANOVA F",
         "rawType": "float64",
         "type": "float"
        }
       ],
       "ref": "0d820d8e-2f25-49c5-be9d-6afa4e93f191",
       "rows": [
        [
         "0",
         "2004-2007",
         "3",
         "0.011",
         "3",
         "{0: 1919, 1: 5563, 2: 1067}",
         null,
         null,
         null,
         null,
         "34786.308"
        ],
        [
         "1",
         "2004-2007",
         "4",
         "0.014",
         "4",
         "{0: 5557, 1: 1859, 2: 974, 3: 159}",
         null,
         null,
         null,
         null,
         "23619.375"
        ],
        [
         "2",
         "2004-2007",
         "5",
         "0.015",
         "5",
         "{0: 5315, 1: 1276, 2: 686, 3: 1006, 4: 266}",
         null,
         null,
         null,
         null,
         "18625.348"
        ],
        [
         "3",
         "2004-2007",
         "6",
         "0.039",
         "6",
         "{0: 732, 1: 2926, 2: 1205, 3: 204, 4: 1038, 5: 2444}",
         null,
         null,
         null,
         null,
         "15992.097"
        ],
        [
         "4",
         "2004-2007",
         "7",
         "0.045",
         "7",
         "{0: 663, 1: 5311, 2: 266, 3: 715, 4: 677, 5: 641, 6: 276}",
         null,
         null,
         null,
         null,
         "16860.428"
        ]
       ],
       "shape": {
        "columns": 10,
        "rows": 5
       }
      },
      "text/html": [
       "<div>\n",
       "<style scoped>\n",
       "    .dataframe tbody tr th:only-of-type {\n",
       "        vertical-align: middle;\n",
       "    }\n",
       "\n",
       "    .dataframe tbody tr th {\n",
       "        vertical-align: top;\n",
       "    }\n",
       "\n",
       "    .dataframe thead th {\n",
       "        text-align: right;\n",
       "    }\n",
       "</style>\n",
       "<table border=\"1\" class=\"dataframe\">\n",
       "  <thead>\n",
       "    <tr style=\"text-align: right;\">\n",
       "      <th></th>\n",
       "      <th>Year Range</th>\n",
       "      <th>k</th>\n",
       "      <th>Runtime (s)</th>\n",
       "      <th>Clusters</th>\n",
       "      <th>Points per Cluster</th>\n",
       "      <th>Davies-Bouldin</th>\n",
       "      <th>Calinski-Harabasz</th>\n",
       "      <th>Dunn Index</th>\n",
       "      <th>Silhouette Score</th>\n",
       "      <th>Mean ANOVA F</th>\n",
       "    </tr>\n",
       "  </thead>\n",
       "  <tbody>\n",
       "    <tr>\n",
       "      <th>0</th>\n",
       "      <td>2004-2007</td>\n",
       "      <td>3</td>\n",
       "      <td>0.011</td>\n",
       "      <td>3</td>\n",
       "      <td>{0: 1919, 1: 5563, 2: 1067}</td>\n",
       "      <td>None</td>\n",
       "      <td>None</td>\n",
       "      <td>None</td>\n",
       "      <td>None</td>\n",
       "      <td>34786.308</td>\n",
       "    </tr>\n",
       "    <tr>\n",
       "      <th>1</th>\n",
       "      <td>2004-2007</td>\n",
       "      <td>4</td>\n",
       "      <td>0.014</td>\n",
       "      <td>4</td>\n",
       "      <td>{0: 5557, 1: 1859, 2: 974, 3: 159}</td>\n",
       "      <td>None</td>\n",
       "      <td>None</td>\n",
       "      <td>None</td>\n",
       "      <td>None</td>\n",
       "      <td>23619.375</td>\n",
       "    </tr>\n",
       "    <tr>\n",
       "      <th>2</th>\n",
       "      <td>2004-2007</td>\n",
       "      <td>5</td>\n",
       "      <td>0.015</td>\n",
       "      <td>5</td>\n",
       "      <td>{0: 5315, 1: 1276, 2: 686, 3: 1006, 4: 266}</td>\n",
       "      <td>None</td>\n",
       "      <td>None</td>\n",
       "      <td>None</td>\n",
       "      <td>None</td>\n",
       "      <td>18625.348</td>\n",
       "    </tr>\n",
       "    <tr>\n",
       "      <th>3</th>\n",
       "      <td>2004-2007</td>\n",
       "      <td>6</td>\n",
       "      <td>0.039</td>\n",
       "      <td>6</td>\n",
       "      <td>{0: 732, 1: 2926, 2: 1205, 3: 204, 4: 1038, 5:...</td>\n",
       "      <td>None</td>\n",
       "      <td>None</td>\n",
       "      <td>None</td>\n",
       "      <td>None</td>\n",
       "      <td>15992.097</td>\n",
       "    </tr>\n",
       "    <tr>\n",
       "      <th>4</th>\n",
       "      <td>2004-2007</td>\n",
       "      <td>7</td>\n",
       "      <td>0.045</td>\n",
       "      <td>7</td>\n",
       "      <td>{0: 663, 1: 5311, 2: 266, 3: 715, 4: 677, 5: 6...</td>\n",
       "      <td>None</td>\n",
       "      <td>None</td>\n",
       "      <td>None</td>\n",
       "      <td>None</td>\n",
       "      <td>16860.428</td>\n",
       "    </tr>\n",
       "  </tbody>\n",
       "</table>\n",
       "</div>"
      ],
      "text/plain": [
       "  Year Range  k Runtime (s)  Clusters  \\\n",
       "0  2004-2007  3       0.011         3   \n",
       "1  2004-2007  4       0.014         4   \n",
       "2  2004-2007  5       0.015         5   \n",
       "3  2004-2007  6       0.039         6   \n",
       "4  2004-2007  7       0.045         7   \n",
       "\n",
       "                                  Points per Cluster Davies-Bouldin  \\\n",
       "0                        {0: 1919, 1: 5563, 2: 1067}           None   \n",
       "1                 {0: 5557, 1: 1859, 2: 974, 3: 159}           None   \n",
       "2        {0: 5315, 1: 1276, 2: 686, 3: 1006, 4: 266}           None   \n",
       "3  {0: 732, 1: 2926, 2: 1205, 3: 204, 4: 1038, 5:...           None   \n",
       "4  {0: 663, 1: 5311, 2: 266, 3: 715, 4: 677, 5: 6...           None   \n",
       "\n",
       "  Calinski-Harabasz Dunn Index Silhouette Score  Mean ANOVA F  \n",
       "0              None       None             None     34786.308  \n",
       "1              None       None             None     23619.375  \n",
       "2              None       None             None     18625.348  \n",
       "3              None       None             None     15992.097  \n",
       "4              None       None             None     16860.428  "
      ]
     },
     "metadata": {},
     "output_type": "display_data"
    },
    {
     "name": "stdout",
     "output_type": "stream",
     "text": [
      "\n",
      "Running K-Means for Year Range: 2005-2008\n",
      "Runtime for k_means: 0.008669 seconds\n"
     ]
    },
    {
     "name": "stderr",
     "output_type": "stream",
     "text": [
      "c:\\Users\\fionu\\OneDrive\\Dokumente\\Daten Fiona\\AIUB\\Code\\AIUB-Backup\\clustering\\high_dim_analysis.py:138: FutureWarning: \n",
      "\n",
      "Passing `palette` without assigning `hue` is deprecated and will be removed in v0.14.0. Assign the `y` variable to `hue` and set `legend=False` for the same effect.\n",
      "\n",
      "  sns.barplot(x=mi_vals, y=features, palette=\"magma\")\n"
     ]
    },
    {
     "name": "stdout",
     "output_type": "stream",
     "text": [
      "Runtime for k_means: 0.032660 seconds\n"
     ]
    },
    {
     "name": "stderr",
     "output_type": "stream",
     "text": [
      "c:\\Users\\fionu\\OneDrive\\Dokumente\\Daten Fiona\\AIUB\\Code\\AIUB-Backup\\clustering\\high_dim_analysis.py:138: FutureWarning: \n",
      "\n",
      "Passing `palette` without assigning `hue` is deprecated and will be removed in v0.14.0. Assign the `y` variable to `hue` and set `legend=False` for the same effect.\n",
      "\n",
      "  sns.barplot(x=mi_vals, y=features, palette=\"magma\")\n"
     ]
    },
    {
     "name": "stdout",
     "output_type": "stream",
     "text": [
      "Runtime for k_means: 0.003044 seconds\n"
     ]
    },
    {
     "name": "stderr",
     "output_type": "stream",
     "text": [
      "c:\\Users\\fionu\\OneDrive\\Dokumente\\Daten Fiona\\AIUB\\Code\\AIUB-Backup\\clustering\\high_dim_analysis.py:138: FutureWarning: \n",
      "\n",
      "Passing `palette` without assigning `hue` is deprecated and will be removed in v0.14.0. Assign the `y` variable to `hue` and set `legend=False` for the same effect.\n",
      "\n",
      "  sns.barplot(x=mi_vals, y=features, palette=\"magma\")\n"
     ]
    },
    {
     "name": "stdout",
     "output_type": "stream",
     "text": [
      "Runtime for k_means: 0.016639 seconds\n"
     ]
    },
    {
     "name": "stderr",
     "output_type": "stream",
     "text": [
      "c:\\Users\\fionu\\OneDrive\\Dokumente\\Daten Fiona\\AIUB\\Code\\AIUB-Backup\\clustering\\high_dim_analysis.py:138: FutureWarning: \n",
      "\n",
      "Passing `palette` without assigning `hue` is deprecated and will be removed in v0.14.0. Assign the `y` variable to `hue` and set `legend=False` for the same effect.\n",
      "\n",
      "  sns.barplot(x=mi_vals, y=features, palette=\"magma\")\n"
     ]
    },
    {
     "name": "stdout",
     "output_type": "stream",
     "text": [
      "Runtime for k_means: 0.018218 seconds\n"
     ]
    },
    {
     "name": "stderr",
     "output_type": "stream",
     "text": [
      "c:\\Users\\fionu\\OneDrive\\Dokumente\\Daten Fiona\\AIUB\\Code\\AIUB-Backup\\clustering\\high_dim_analysis.py:138: FutureWarning: \n",
      "\n",
      "Passing `palette` without assigning `hue` is deprecated and will be removed in v0.14.0. Assign the `y` variable to `hue` and set `legend=False` for the same effect.\n",
      "\n",
      "  sns.barplot(x=mi_vals, y=features, palette=\"magma\")\n"
     ]
    },
    {
     "name": "stdout",
     "output_type": "stream",
     "text": [
      "Runtime for k_means: 0.000000 seconds\n"
     ]
    },
    {
     "name": "stderr",
     "output_type": "stream",
     "text": [
      "c:\\Users\\fionu\\OneDrive\\Dokumente\\Daten Fiona\\AIUB\\Code\\AIUB-Backup\\clustering\\high_dim_analysis.py:42: FutureWarning: \n",
      "\n",
      "Passing `palette` without assigning `hue` is deprecated and will be removed in v0.14.0. Assign the `y` variable to `hue` and set `legend=False` for the same effect.\n",
      "\n",
      "  sns.barplot(x=f_vals, y=features, palette=\"crest\")\n"
     ]
    },
    {
     "name": "stdout",
     "output_type": "stream",
     "text": [
      "Best KMeans parameters based on ANOVA F-value:\n",
      "Year Range                             2005-2008\n",
      "k                                              3\n",
      "Runtime (s)                                0.009\n",
      "Clusters                                       3\n",
      "Points per Cluster    {0: 238, 1: 4915, 2: 2468}\n",
      "Davies-Bouldin                              None\n",
      "Calinski-Harabasz                           None\n",
      "Dunn Index                                  None\n",
      "Silhouette Score                            None\n",
      "Mean ANOVA F                           27296.184\n",
      "Name: 0, dtype: object\n"
     ]
    },
    {
     "data": {
      "application/vnd.microsoft.datawrangler.viewer.v0+json": {
       "columns": [
        {
         "name": "index",
         "rawType": "int64",
         "type": "integer"
        },
        {
         "name": "Year Range",
         "rawType": "object",
         "type": "string"
        },
        {
         "name": "k",
         "rawType": "int64",
         "type": "integer"
        },
        {
         "name": "Runtime (s)",
         "rawType": "object",
         "type": "string"
        },
        {
         "name": "Clusters",
         "rawType": "int64",
         "type": "integer"
        },
        {
         "name": "Points per Cluster",
         "rawType": "object",
         "type": "unknown"
        },
        {
         "name": "Davies-Bouldin",
         "rawType": "object",
         "type": "unknown"
        },
        {
         "name": "Calinski-Harabasz",
         "rawType": "object",
         "type": "unknown"
        },
        {
         "name": "Dunn Index",
         "rawType": "object",
         "type": "unknown"
        },
        {
         "name": "Silhouette Score",
         "rawType": "object",
         "type": "unknown"
        },
        {
         "name": "Mean ANOVA F",
         "rawType": "float64",
         "type": "float"
        }
       ],
       "ref": "12f4ddb1-3b58-49d2-a18a-e60429c99a09",
       "rows": [
        [
         "0",
         "2005-2008",
         "3",
         "0.009",
         "3",
         "{0: 238, 1: 4915, 2: 2468}",
         null,
         null,
         null,
         null,
         "27296.184"
        ],
        [
         "1",
         "2005-2008",
         "4",
         "0.033",
         "4",
         "{0: 5099, 1: 1043, 2: 902, 3: 577}",
         null,
         null,
         null,
         null,
         "21069.844"
        ],
        [
         "2",
         "2005-2008",
         "5",
         "0.003",
         "5",
         "{0: 5086, 1: 897, 2: 989, 3: 567, 4: 82}",
         null,
         null,
         null,
         null,
         "17558.31"
        ],
        [
         "3",
         "2005-2008",
         "6",
         "0.017",
         "6",
         "{0: 869, 1: 2763, 2: 113, 3: 2339, 4: 984, 5: 553}",
         null,
         null,
         null,
         null,
         "13927.116"
        ],
        [
         "4",
         "2005-2008",
         "7",
         "0.018",
         "7",
         "{0: 2687, 1: 881, 2: 933, 3: 583, 4: 2250, 5: 113, 6: 174}",
         null,
         null,
         null,
         null,
         "12211.349"
        ]
       ],
       "shape": {
        "columns": 10,
        "rows": 5
       }
      },
      "text/html": [
       "<div>\n",
       "<style scoped>\n",
       "    .dataframe tbody tr th:only-of-type {\n",
       "        vertical-align: middle;\n",
       "    }\n",
       "\n",
       "    .dataframe tbody tr th {\n",
       "        vertical-align: top;\n",
       "    }\n",
       "\n",
       "    .dataframe thead th {\n",
       "        text-align: right;\n",
       "    }\n",
       "</style>\n",
       "<table border=\"1\" class=\"dataframe\">\n",
       "  <thead>\n",
       "    <tr style=\"text-align: right;\">\n",
       "      <th></th>\n",
       "      <th>Year Range</th>\n",
       "      <th>k</th>\n",
       "      <th>Runtime (s)</th>\n",
       "      <th>Clusters</th>\n",
       "      <th>Points per Cluster</th>\n",
       "      <th>Davies-Bouldin</th>\n",
       "      <th>Calinski-Harabasz</th>\n",
       "      <th>Dunn Index</th>\n",
       "      <th>Silhouette Score</th>\n",
       "      <th>Mean ANOVA F</th>\n",
       "    </tr>\n",
       "  </thead>\n",
       "  <tbody>\n",
       "    <tr>\n",
       "      <th>0</th>\n",
       "      <td>2005-2008</td>\n",
       "      <td>3</td>\n",
       "      <td>0.009</td>\n",
       "      <td>3</td>\n",
       "      <td>{0: 238, 1: 4915, 2: 2468}</td>\n",
       "      <td>None</td>\n",
       "      <td>None</td>\n",
       "      <td>None</td>\n",
       "      <td>None</td>\n",
       "      <td>27296.184</td>\n",
       "    </tr>\n",
       "    <tr>\n",
       "      <th>1</th>\n",
       "      <td>2005-2008</td>\n",
       "      <td>4</td>\n",
       "      <td>0.033</td>\n",
       "      <td>4</td>\n",
       "      <td>{0: 5099, 1: 1043, 2: 902, 3: 577}</td>\n",
       "      <td>None</td>\n",
       "      <td>None</td>\n",
       "      <td>None</td>\n",
       "      <td>None</td>\n",
       "      <td>21069.844</td>\n",
       "    </tr>\n",
       "    <tr>\n",
       "      <th>2</th>\n",
       "      <td>2005-2008</td>\n",
       "      <td>5</td>\n",
       "      <td>0.003</td>\n",
       "      <td>5</td>\n",
       "      <td>{0: 5086, 1: 897, 2: 989, 3: 567, 4: 82}</td>\n",
       "      <td>None</td>\n",
       "      <td>None</td>\n",
       "      <td>None</td>\n",
       "      <td>None</td>\n",
       "      <td>17558.310</td>\n",
       "    </tr>\n",
       "    <tr>\n",
       "      <th>3</th>\n",
       "      <td>2005-2008</td>\n",
       "      <td>6</td>\n",
       "      <td>0.017</td>\n",
       "      <td>6</td>\n",
       "      <td>{0: 869, 1: 2763, 2: 113, 3: 2339, 4: 984, 5: ...</td>\n",
       "      <td>None</td>\n",
       "      <td>None</td>\n",
       "      <td>None</td>\n",
       "      <td>None</td>\n",
       "      <td>13927.116</td>\n",
       "    </tr>\n",
       "    <tr>\n",
       "      <th>4</th>\n",
       "      <td>2005-2008</td>\n",
       "      <td>7</td>\n",
       "      <td>0.018</td>\n",
       "      <td>7</td>\n",
       "      <td>{0: 2687, 1: 881, 2: 933, 3: 583, 4: 2250, 5: ...</td>\n",
       "      <td>None</td>\n",
       "      <td>None</td>\n",
       "      <td>None</td>\n",
       "      <td>None</td>\n",
       "      <td>12211.349</td>\n",
       "    </tr>\n",
       "  </tbody>\n",
       "</table>\n",
       "</div>"
      ],
      "text/plain": [
       "  Year Range  k Runtime (s)  Clusters  \\\n",
       "0  2005-2008  3       0.009         3   \n",
       "1  2005-2008  4       0.033         4   \n",
       "2  2005-2008  5       0.003         5   \n",
       "3  2005-2008  6       0.017         6   \n",
       "4  2005-2008  7       0.018         7   \n",
       "\n",
       "                                  Points per Cluster Davies-Bouldin  \\\n",
       "0                         {0: 238, 1: 4915, 2: 2468}           None   \n",
       "1                 {0: 5099, 1: 1043, 2: 902, 3: 577}           None   \n",
       "2           {0: 5086, 1: 897, 2: 989, 3: 567, 4: 82}           None   \n",
       "3  {0: 869, 1: 2763, 2: 113, 3: 2339, 4: 984, 5: ...           None   \n",
       "4  {0: 2687, 1: 881, 2: 933, 3: 583, 4: 2250, 5: ...           None   \n",
       "\n",
       "  Calinski-Harabasz Dunn Index Silhouette Score  Mean ANOVA F  \n",
       "0              None       None             None     27296.184  \n",
       "1              None       None             None     21069.844  \n",
       "2              None       None             None     17558.310  \n",
       "3              None       None             None     13927.116  \n",
       "4              None       None             None     12211.349  "
      ]
     },
     "metadata": {},
     "output_type": "display_data"
    },
    {
     "name": "stdout",
     "output_type": "stream",
     "text": [
      "\n",
      "Running K-Means for Year Range: 2006-2009\n",
      "Runtime for k_means: 0.008006 seconds\n"
     ]
    },
    {
     "name": "stderr",
     "output_type": "stream",
     "text": [
      "c:\\Users\\fionu\\OneDrive\\Dokumente\\Daten Fiona\\AIUB\\Code\\AIUB-Backup\\clustering\\high_dim_analysis.py:138: FutureWarning: \n",
      "\n",
      "Passing `palette` without assigning `hue` is deprecated and will be removed in v0.14.0. Assign the `y` variable to `hue` and set `legend=False` for the same effect.\n",
      "\n",
      "  sns.barplot(x=mi_vals, y=features, palette=\"magma\")\n"
     ]
    },
    {
     "name": "stdout",
     "output_type": "stream",
     "text": [
      "Runtime for k_means: 0.020365 seconds\n"
     ]
    },
    {
     "name": "stderr",
     "output_type": "stream",
     "text": [
      "c:\\Users\\fionu\\OneDrive\\Dokumente\\Daten Fiona\\AIUB\\Code\\AIUB-Backup\\clustering\\high_dim_analysis.py:138: FutureWarning: \n",
      "\n",
      "Passing `palette` without assigning `hue` is deprecated and will be removed in v0.14.0. Assign the `y` variable to `hue` and set `legend=False` for the same effect.\n",
      "\n",
      "  sns.barplot(x=mi_vals, y=features, palette=\"magma\")\n"
     ]
    },
    {
     "name": "stdout",
     "output_type": "stream",
     "text": [
      "Runtime for k_means: 0.044202 seconds\n"
     ]
    },
    {
     "name": "stderr",
     "output_type": "stream",
     "text": [
      "c:\\Users\\fionu\\OneDrive\\Dokumente\\Daten Fiona\\AIUB\\Code\\AIUB-Backup\\clustering\\high_dim_analysis.py:138: FutureWarning: \n",
      "\n",
      "Passing `palette` without assigning `hue` is deprecated and will be removed in v0.14.0. Assign the `y` variable to `hue` and set `legend=False` for the same effect.\n",
      "\n",
      "  sns.barplot(x=mi_vals, y=features, palette=\"magma\")\n"
     ]
    },
    {
     "name": "stdout",
     "output_type": "stream",
     "text": [
      "Runtime for k_means: 0.030571 seconds\n"
     ]
    },
    {
     "name": "stderr",
     "output_type": "stream",
     "text": [
      "c:\\Users\\fionu\\OneDrive\\Dokumente\\Daten Fiona\\AIUB\\Code\\AIUB-Backup\\clustering\\high_dim_analysis.py:138: FutureWarning: \n",
      "\n",
      "Passing `palette` without assigning `hue` is deprecated and will be removed in v0.14.0. Assign the `y` variable to `hue` and set `legend=False` for the same effect.\n",
      "\n",
      "  sns.barplot(x=mi_vals, y=features, palette=\"magma\")\n"
     ]
    },
    {
     "name": "stdout",
     "output_type": "stream",
     "text": [
      "Runtime for k_means: 0.049875 seconds\n"
     ]
    },
    {
     "name": "stderr",
     "output_type": "stream",
     "text": [
      "c:\\Users\\fionu\\OneDrive\\Dokumente\\Daten Fiona\\AIUB\\Code\\AIUB-Backup\\clustering\\high_dim_analysis.py:138: FutureWarning: \n",
      "\n",
      "Passing `palette` without assigning `hue` is deprecated and will be removed in v0.14.0. Assign the `y` variable to `hue` and set `legend=False` for the same effect.\n",
      "\n",
      "  sns.barplot(x=mi_vals, y=features, palette=\"magma\")\n"
     ]
    },
    {
     "name": "stdout",
     "output_type": "stream",
     "text": [
      "Runtime for k_means: 0.010839 seconds\n"
     ]
    },
    {
     "name": "stderr",
     "output_type": "stream",
     "text": [
      "c:\\Users\\fionu\\OneDrive\\Dokumente\\Daten Fiona\\AIUB\\Code\\AIUB-Backup\\clustering\\high_dim_analysis.py:42: FutureWarning: \n",
      "\n",
      "Passing `palette` without assigning `hue` is deprecated and will be removed in v0.14.0. Assign the `y` variable to `hue` and set `legend=False` for the same effect.\n",
      "\n",
      "  sns.barplot(x=f_vals, y=features, palette=\"crest\")\n"
     ]
    },
    {
     "name": "stdout",
     "output_type": "stream",
     "text": [
      "Best KMeans parameters based on ANOVA F-value:\n",
      "Year Range                             2006-2009\n",
      "k                                              3\n",
      "Runtime (s)                                0.008\n",
      "Clusters                                       3\n",
      "Points per Cluster    {0: 5135, 1: 1369, 2: 975}\n",
      "Davies-Bouldin                              None\n",
      "Calinski-Harabasz                           None\n",
      "Dunn Index                                  None\n",
      "Silhouette Score                            None\n",
      "Mean ANOVA F                           30281.397\n",
      "Name: 0, dtype: object\n"
     ]
    },
    {
     "data": {
      "application/vnd.microsoft.datawrangler.viewer.v0+json": {
       "columns": [
        {
         "name": "index",
         "rawType": "int64",
         "type": "integer"
        },
        {
         "name": "Year Range",
         "rawType": "object",
         "type": "string"
        },
        {
         "name": "k",
         "rawType": "int64",
         "type": "integer"
        },
        {
         "name": "Runtime (s)",
         "rawType": "object",
         "type": "string"
        },
        {
         "name": "Clusters",
         "rawType": "int64",
         "type": "integer"
        },
        {
         "name": "Points per Cluster",
         "rawType": "object",
         "type": "unknown"
        },
        {
         "name": "Davies-Bouldin",
         "rawType": "object",
         "type": "unknown"
        },
        {
         "name": "Calinski-Harabasz",
         "rawType": "object",
         "type": "unknown"
        },
        {
         "name": "Dunn Index",
         "rawType": "object",
         "type": "unknown"
        },
        {
         "name": "Silhouette Score",
         "rawType": "object",
         "type": "unknown"
        },
        {
         "name": "Mean ANOVA F",
         "rawType": "float64",
         "type": "float"
        }
       ],
       "ref": "927f7cff-e3e1-4c07-a17c-6557cad3386f",
       "rows": [
        [
         "0",
         "2006-2009",
         "3",
         "0.008",
         "3",
         "{0: 5135, 1: 1369, 2: 975}",
         null,
         null,
         null,
         null,
         "30281.397"
        ],
        [
         "1",
         "2006-2009",
         "4",
         "0.020",
         "4",
         "{0: 2170, 1: 2457, 2: 157, 3: 2695}",
         null,
         null,
         null,
         null,
         "20721.459"
        ],
        [
         "2",
         "2006-2009",
         "5",
         "0.044",
         "5",
         "{0: 2640, 1: 936, 2: 2438, 3: 108, 4: 1357}",
         null,
         null,
         null,
         null,
         "15892.687"
        ],
        [
         "3",
         "2006-2009",
         "6",
         "0.031",
         "6",
         "{0: 2442, 1: 919, 2: 811, 3: 170, 4: 2685, 5: 452}",
         null,
         null,
         null,
         null,
         "17577.653"
        ],
        [
         "4",
         "2006-2009",
         "7",
         "0.050",
         "7",
         "{0: 2646, 1: 454, 2: 805, 3: 920, 4: 95, 5: 169, 6: 2390}",
         null,
         null,
         null,
         null,
         "14860.594"
        ]
       ],
       "shape": {
        "columns": 10,
        "rows": 5
       }
      },
      "text/html": [
       "<div>\n",
       "<style scoped>\n",
       "    .dataframe tbody tr th:only-of-type {\n",
       "        vertical-align: middle;\n",
       "    }\n",
       "\n",
       "    .dataframe tbody tr th {\n",
       "        vertical-align: top;\n",
       "    }\n",
       "\n",
       "    .dataframe thead th {\n",
       "        text-align: right;\n",
       "    }\n",
       "</style>\n",
       "<table border=\"1\" class=\"dataframe\">\n",
       "  <thead>\n",
       "    <tr style=\"text-align: right;\">\n",
       "      <th></th>\n",
       "      <th>Year Range</th>\n",
       "      <th>k</th>\n",
       "      <th>Runtime (s)</th>\n",
       "      <th>Clusters</th>\n",
       "      <th>Points per Cluster</th>\n",
       "      <th>Davies-Bouldin</th>\n",
       "      <th>Calinski-Harabasz</th>\n",
       "      <th>Dunn Index</th>\n",
       "      <th>Silhouette Score</th>\n",
       "      <th>Mean ANOVA F</th>\n",
       "    </tr>\n",
       "  </thead>\n",
       "  <tbody>\n",
       "    <tr>\n",
       "      <th>0</th>\n",
       "      <td>2006-2009</td>\n",
       "      <td>3</td>\n",
       "      <td>0.008</td>\n",
       "      <td>3</td>\n",
       "      <td>{0: 5135, 1: 1369, 2: 975}</td>\n",
       "      <td>None</td>\n",
       "      <td>None</td>\n",
       "      <td>None</td>\n",
       "      <td>None</td>\n",
       "      <td>30281.397</td>\n",
       "    </tr>\n",
       "    <tr>\n",
       "      <th>1</th>\n",
       "      <td>2006-2009</td>\n",
       "      <td>4</td>\n",
       "      <td>0.020</td>\n",
       "      <td>4</td>\n",
       "      <td>{0: 2170, 1: 2457, 2: 157, 3: 2695}</td>\n",
       "      <td>None</td>\n",
       "      <td>None</td>\n",
       "      <td>None</td>\n",
       "      <td>None</td>\n",
       "      <td>20721.459</td>\n",
       "    </tr>\n",
       "    <tr>\n",
       "      <th>2</th>\n",
       "      <td>2006-2009</td>\n",
       "      <td>5</td>\n",
       "      <td>0.044</td>\n",
       "      <td>5</td>\n",
       "      <td>{0: 2640, 1: 936, 2: 2438, 3: 108, 4: 1357}</td>\n",
       "      <td>None</td>\n",
       "      <td>None</td>\n",
       "      <td>None</td>\n",
       "      <td>None</td>\n",
       "      <td>15892.687</td>\n",
       "    </tr>\n",
       "    <tr>\n",
       "      <th>3</th>\n",
       "      <td>2006-2009</td>\n",
       "      <td>6</td>\n",
       "      <td>0.031</td>\n",
       "      <td>6</td>\n",
       "      <td>{0: 2442, 1: 919, 2: 811, 3: 170, 4: 2685, 5: ...</td>\n",
       "      <td>None</td>\n",
       "      <td>None</td>\n",
       "      <td>None</td>\n",
       "      <td>None</td>\n",
       "      <td>17577.653</td>\n",
       "    </tr>\n",
       "    <tr>\n",
       "      <th>4</th>\n",
       "      <td>2006-2009</td>\n",
       "      <td>7</td>\n",
       "      <td>0.050</td>\n",
       "      <td>7</td>\n",
       "      <td>{0: 2646, 1: 454, 2: 805, 3: 920, 4: 95, 5: 16...</td>\n",
       "      <td>None</td>\n",
       "      <td>None</td>\n",
       "      <td>None</td>\n",
       "      <td>None</td>\n",
       "      <td>14860.594</td>\n",
       "    </tr>\n",
       "  </tbody>\n",
       "</table>\n",
       "</div>"
      ],
      "text/plain": [
       "  Year Range  k Runtime (s)  Clusters  \\\n",
       "0  2006-2009  3       0.008         3   \n",
       "1  2006-2009  4       0.020         4   \n",
       "2  2006-2009  5       0.044         5   \n",
       "3  2006-2009  6       0.031         6   \n",
       "4  2006-2009  7       0.050         7   \n",
       "\n",
       "                                  Points per Cluster Davies-Bouldin  \\\n",
       "0                         {0: 5135, 1: 1369, 2: 975}           None   \n",
       "1                {0: 2170, 1: 2457, 2: 157, 3: 2695}           None   \n",
       "2        {0: 2640, 1: 936, 2: 2438, 3: 108, 4: 1357}           None   \n",
       "3  {0: 2442, 1: 919, 2: 811, 3: 170, 4: 2685, 5: ...           None   \n",
       "4  {0: 2646, 1: 454, 2: 805, 3: 920, 4: 95, 5: 16...           None   \n",
       "\n",
       "  Calinski-Harabasz Dunn Index Silhouette Score  Mean ANOVA F  \n",
       "0              None       None             None     30281.397  \n",
       "1              None       None             None     20721.459  \n",
       "2              None       None             None     15892.687  \n",
       "3              None       None             None     17577.653  \n",
       "4              None       None             None     14860.594  "
      ]
     },
     "metadata": {},
     "output_type": "display_data"
    },
    {
     "name": "stdout",
     "output_type": "stream",
     "text": [
      "\n",
      "Running K-Means for Year Range: 2007-2010\n",
      "Runtime for k_means: 0.005064 seconds\n"
     ]
    },
    {
     "name": "stderr",
     "output_type": "stream",
     "text": [
      "c:\\Users\\fionu\\OneDrive\\Dokumente\\Daten Fiona\\AIUB\\Code\\AIUB-Backup\\clustering\\high_dim_analysis.py:138: FutureWarning: \n",
      "\n",
      "Passing `palette` without assigning `hue` is deprecated and will be removed in v0.14.0. Assign the `y` variable to `hue` and set `legend=False` for the same effect.\n",
      "\n",
      "  sns.barplot(x=mi_vals, y=features, palette=\"magma\")\n"
     ]
    },
    {
     "name": "stdout",
     "output_type": "stream",
     "text": [
      "Runtime for k_means: 0.023827 seconds\n"
     ]
    },
    {
     "name": "stderr",
     "output_type": "stream",
     "text": [
      "c:\\Users\\fionu\\OneDrive\\Dokumente\\Daten Fiona\\AIUB\\Code\\AIUB-Backup\\clustering\\high_dim_analysis.py:138: FutureWarning: \n",
      "\n",
      "Passing `palette` without assigning `hue` is deprecated and will be removed in v0.14.0. Assign the `y` variable to `hue` and set `legend=False` for the same effect.\n",
      "\n",
      "  sns.barplot(x=mi_vals, y=features, palette=\"magma\")\n"
     ]
    },
    {
     "name": "stdout",
     "output_type": "stream",
     "text": [
      "Runtime for k_means: 0.019555 seconds\n"
     ]
    },
    {
     "name": "stderr",
     "output_type": "stream",
     "text": [
      "c:\\Users\\fionu\\OneDrive\\Dokumente\\Daten Fiona\\AIUB\\Code\\AIUB-Backup\\clustering\\high_dim_analysis.py:138: FutureWarning: \n",
      "\n",
      "Passing `palette` without assigning `hue` is deprecated and will be removed in v0.14.0. Assign the `y` variable to `hue` and set `legend=False` for the same effect.\n",
      "\n",
      "  sns.barplot(x=mi_vals, y=features, palette=\"magma\")\n"
     ]
    },
    {
     "name": "stdout",
     "output_type": "stream",
     "text": [
      "Runtime for k_means: 0.040477 seconds\n"
     ]
    },
    {
     "name": "stderr",
     "output_type": "stream",
     "text": [
      "c:\\Users\\fionu\\OneDrive\\Dokumente\\Daten Fiona\\AIUB\\Code\\AIUB-Backup\\clustering\\high_dim_analysis.py:138: FutureWarning: \n",
      "\n",
      "Passing `palette` without assigning `hue` is deprecated and will be removed in v0.14.0. Assign the `y` variable to `hue` and set `legend=False` for the same effect.\n",
      "\n",
      "  sns.barplot(x=mi_vals, y=features, palette=\"magma\")\n"
     ]
    },
    {
     "name": "stdout",
     "output_type": "stream",
     "text": [
      "Runtime for k_means: 0.015699 seconds\n"
     ]
    },
    {
     "name": "stderr",
     "output_type": "stream",
     "text": [
      "c:\\Users\\fionu\\OneDrive\\Dokumente\\Daten Fiona\\AIUB\\Code\\AIUB-Backup\\clustering\\high_dim_analysis.py:138: FutureWarning: \n",
      "\n",
      "Passing `palette` without assigning `hue` is deprecated and will be removed in v0.14.0. Assign the `y` variable to `hue` and set `legend=False` for the same effect.\n",
      "\n",
      "  sns.barplot(x=mi_vals, y=features, palette=\"magma\")\n"
     ]
    },
    {
     "name": "stdout",
     "output_type": "stream",
     "text": [
      "Runtime for k_means: 0.005055 seconds\n"
     ]
    },
    {
     "name": "stderr",
     "output_type": "stream",
     "text": [
      "c:\\Users\\fionu\\OneDrive\\Dokumente\\Daten Fiona\\AIUB\\Code\\AIUB-Backup\\clustering\\high_dim_analysis.py:42: FutureWarning: \n",
      "\n",
      "Passing `palette` without assigning `hue` is deprecated and will be removed in v0.14.0. Assign the `y` variable to `hue` and set `legend=False` for the same effect.\n",
      "\n",
      "  sns.barplot(x=f_vals, y=features, palette=\"crest\")\n"
     ]
    },
    {
     "name": "stdout",
     "output_type": "stream",
     "text": [
      "Best KMeans parameters based on ANOVA F-value:\n",
      "Year Range                            2007-2010\n",
      "k                                             3\n",
      "Runtime (s)                               0.005\n",
      "Clusters                                      3\n",
      "Points per Cluster    {0: 4054, 1: 716, 2: 916}\n",
      "Davies-Bouldin                             None\n",
      "Calinski-Harabasz                          None\n",
      "Dunn Index                                 None\n",
      "Silhouette Score                           None\n",
      "Mean ANOVA F                          23219.401\n",
      "Name: 0, dtype: object\n"
     ]
    },
    {
     "data": {
      "application/vnd.microsoft.datawrangler.viewer.v0+json": {
       "columns": [
        {
         "name": "index",
         "rawType": "int64",
         "type": "integer"
        },
        {
         "name": "Year Range",
         "rawType": "object",
         "type": "string"
        },
        {
         "name": "k",
         "rawType": "int64",
         "type": "integer"
        },
        {
         "name": "Runtime (s)",
         "rawType": "object",
         "type": "string"
        },
        {
         "name": "Clusters",
         "rawType": "int64",
         "type": "integer"
        },
        {
         "name": "Points per Cluster",
         "rawType": "object",
         "type": "unknown"
        },
        {
         "name": "Davies-Bouldin",
         "rawType": "object",
         "type": "unknown"
        },
        {
         "name": "Calinski-Harabasz",
         "rawType": "object",
         "type": "unknown"
        },
        {
         "name": "Dunn Index",
         "rawType": "object",
         "type": "unknown"
        },
        {
         "name": "Silhouette Score",
         "rawType": "object",
         "type": "unknown"
        },
        {
         "name": "Mean ANOVA F",
         "rawType": "float64",
         "type": "float"
        }
       ],
       "ref": "167e2359-b148-49ab-b09c-b61eb933dd3e",
       "rows": [
        [
         "0",
         "2007-2010",
         "3",
         "0.005",
         "3",
         "{0: 4054, 1: 716, 2: 916}",
         null,
         null,
         null,
         null,
         "23219.401"
        ],
        [
         "1",
         "2007-2010",
         "4",
         "0.024",
         "4",
         "{0: 1923, 1: 921, 2: 2133, 3: 709}",
         null,
         null,
         null,
         null,
         "15987.391"
        ],
        [
         "2",
         "2007-2010",
         "5",
         "0.020",
         "5",
         "{0: 2073, 1: 908, 2: 1906, 3: 106, 4: 693}",
         null,
         null,
         null,
         null,
         "12206.387"
        ],
        [
         "3",
         "2007-2010",
         "6",
         "0.040",
         "6",
         "{0: 1908, 1: 551, 2: 388, 3: 2072, 4: 661, 5: 106}",
         null,
         null,
         null,
         null,
         "10579.718"
        ],
        [
         "4",
         "2007-2010",
         "7",
         "0.016",
         "7",
         "{0: 617, 1: 301, 2: 1909, 3: 136, 4: 2067, 5: 557, 6: 99}",
         null,
         null,
         null,
         null,
         "11587.392"
        ]
       ],
       "shape": {
        "columns": 10,
        "rows": 5
       }
      },
      "text/html": [
       "<div>\n",
       "<style scoped>\n",
       "    .dataframe tbody tr th:only-of-type {\n",
       "        vertical-align: middle;\n",
       "    }\n",
       "\n",
       "    .dataframe tbody tr th {\n",
       "        vertical-align: top;\n",
       "    }\n",
       "\n",
       "    .dataframe thead th {\n",
       "        text-align: right;\n",
       "    }\n",
       "</style>\n",
       "<table border=\"1\" class=\"dataframe\">\n",
       "  <thead>\n",
       "    <tr style=\"text-align: right;\">\n",
       "      <th></th>\n",
       "      <th>Year Range</th>\n",
       "      <th>k</th>\n",
       "      <th>Runtime (s)</th>\n",
       "      <th>Clusters</th>\n",
       "      <th>Points per Cluster</th>\n",
       "      <th>Davies-Bouldin</th>\n",
       "      <th>Calinski-Harabasz</th>\n",
       "      <th>Dunn Index</th>\n",
       "      <th>Silhouette Score</th>\n",
       "      <th>Mean ANOVA F</th>\n",
       "    </tr>\n",
       "  </thead>\n",
       "  <tbody>\n",
       "    <tr>\n",
       "      <th>0</th>\n",
       "      <td>2007-2010</td>\n",
       "      <td>3</td>\n",
       "      <td>0.005</td>\n",
       "      <td>3</td>\n",
       "      <td>{0: 4054, 1: 716, 2: 916}</td>\n",
       "      <td>None</td>\n",
       "      <td>None</td>\n",
       "      <td>None</td>\n",
       "      <td>None</td>\n",
       "      <td>23219.401</td>\n",
       "    </tr>\n",
       "    <tr>\n",
       "      <th>1</th>\n",
       "      <td>2007-2010</td>\n",
       "      <td>4</td>\n",
       "      <td>0.024</td>\n",
       "      <td>4</td>\n",
       "      <td>{0: 1923, 1: 921, 2: 2133, 3: 709}</td>\n",
       "      <td>None</td>\n",
       "      <td>None</td>\n",
       "      <td>None</td>\n",
       "      <td>None</td>\n",
       "      <td>15987.391</td>\n",
       "    </tr>\n",
       "    <tr>\n",
       "      <th>2</th>\n",
       "      <td>2007-2010</td>\n",
       "      <td>5</td>\n",
       "      <td>0.020</td>\n",
       "      <td>5</td>\n",
       "      <td>{0: 2073, 1: 908, 2: 1906, 3: 106, 4: 693}</td>\n",
       "      <td>None</td>\n",
       "      <td>None</td>\n",
       "      <td>None</td>\n",
       "      <td>None</td>\n",
       "      <td>12206.387</td>\n",
       "    </tr>\n",
       "    <tr>\n",
       "      <th>3</th>\n",
       "      <td>2007-2010</td>\n",
       "      <td>6</td>\n",
       "      <td>0.040</td>\n",
       "      <td>6</td>\n",
       "      <td>{0: 1908, 1: 551, 2: 388, 3: 2072, 4: 661, 5: ...</td>\n",
       "      <td>None</td>\n",
       "      <td>None</td>\n",
       "      <td>None</td>\n",
       "      <td>None</td>\n",
       "      <td>10579.718</td>\n",
       "    </tr>\n",
       "    <tr>\n",
       "      <th>4</th>\n",
       "      <td>2007-2010</td>\n",
       "      <td>7</td>\n",
       "      <td>0.016</td>\n",
       "      <td>7</td>\n",
       "      <td>{0: 617, 1: 301, 2: 1909, 3: 136, 4: 2067, 5: ...</td>\n",
       "      <td>None</td>\n",
       "      <td>None</td>\n",
       "      <td>None</td>\n",
       "      <td>None</td>\n",
       "      <td>11587.392</td>\n",
       "    </tr>\n",
       "  </tbody>\n",
       "</table>\n",
       "</div>"
      ],
      "text/plain": [
       "  Year Range  k Runtime (s)  Clusters  \\\n",
       "0  2007-2010  3       0.005         3   \n",
       "1  2007-2010  4       0.024         4   \n",
       "2  2007-2010  5       0.020         5   \n",
       "3  2007-2010  6       0.040         6   \n",
       "4  2007-2010  7       0.016         7   \n",
       "\n",
       "                                  Points per Cluster Davies-Bouldin  \\\n",
       "0                          {0: 4054, 1: 716, 2: 916}           None   \n",
       "1                 {0: 1923, 1: 921, 2: 2133, 3: 709}           None   \n",
       "2         {0: 2073, 1: 908, 2: 1906, 3: 106, 4: 693}           None   \n",
       "3  {0: 1908, 1: 551, 2: 388, 3: 2072, 4: 661, 5: ...           None   \n",
       "4  {0: 617, 1: 301, 2: 1909, 3: 136, 4: 2067, 5: ...           None   \n",
       "\n",
       "  Calinski-Harabasz Dunn Index Silhouette Score  Mean ANOVA F  \n",
       "0              None       None             None     23219.401  \n",
       "1              None       None             None     15987.391  \n",
       "2              None       None             None     12206.387  \n",
       "3              None       None             None     10579.718  \n",
       "4              None       None             None     11587.392  "
      ]
     },
     "metadata": {},
     "output_type": "display_data"
    },
    {
     "name": "stdout",
     "output_type": "stream",
     "text": [
      "\n",
      "Running K-Means for Year Range: 2008-2011\n",
      "Runtime for k_means: 0.005037 seconds\n"
     ]
    },
    {
     "name": "stderr",
     "output_type": "stream",
     "text": [
      "c:\\Users\\fionu\\OneDrive\\Dokumente\\Daten Fiona\\AIUB\\Code\\AIUB-Backup\\clustering\\high_dim_analysis.py:138: FutureWarning: \n",
      "\n",
      "Passing `palette` without assigning `hue` is deprecated and will be removed in v0.14.0. Assign the `y` variable to `hue` and set `legend=False` for the same effect.\n",
      "\n",
      "  sns.barplot(x=mi_vals, y=features, palette=\"magma\")\n"
     ]
    },
    {
     "name": "stdout",
     "output_type": "stream",
     "text": [
      "Runtime for k_means: 0.021406 seconds\n"
     ]
    },
    {
     "name": "stderr",
     "output_type": "stream",
     "text": [
      "c:\\Users\\fionu\\OneDrive\\Dokumente\\Daten Fiona\\AIUB\\Code\\AIUB-Backup\\clustering\\high_dim_analysis.py:138: FutureWarning: \n",
      "\n",
      "Passing `palette` without assigning `hue` is deprecated and will be removed in v0.14.0. Assign the `y` variable to `hue` and set `legend=False` for the same effect.\n",
      "\n",
      "  sns.barplot(x=mi_vals, y=features, palette=\"magma\")\n"
     ]
    },
    {
     "name": "stdout",
     "output_type": "stream",
     "text": [
      "Runtime for k_means: 0.018521 seconds\n"
     ]
    },
    {
     "name": "stderr",
     "output_type": "stream",
     "text": [
      "c:\\Users\\fionu\\OneDrive\\Dokumente\\Daten Fiona\\AIUB\\Code\\AIUB-Backup\\clustering\\high_dim_analysis.py:138: FutureWarning: \n",
      "\n",
      "Passing `palette` without assigning `hue` is deprecated and will be removed in v0.14.0. Assign the `y` variable to `hue` and set `legend=False` for the same effect.\n",
      "\n",
      "  sns.barplot(x=mi_vals, y=features, palette=\"magma\")\n"
     ]
    },
    {
     "name": "stdout",
     "output_type": "stream",
     "text": [
      "Runtime for k_means: 0.022888 seconds\n"
     ]
    },
    {
     "name": "stderr",
     "output_type": "stream",
     "text": [
      "c:\\Users\\fionu\\OneDrive\\Dokumente\\Daten Fiona\\AIUB\\Code\\AIUB-Backup\\clustering\\high_dim_analysis.py:138: FutureWarning: \n",
      "\n",
      "Passing `palette` without assigning `hue` is deprecated and will be removed in v0.14.0. Assign the `y` variable to `hue` and set `legend=False` for the same effect.\n",
      "\n",
      "  sns.barplot(x=mi_vals, y=features, palette=\"magma\")\n"
     ]
    },
    {
     "name": "stdout",
     "output_type": "stream",
     "text": [
      "Runtime for k_means: 0.011123 seconds\n"
     ]
    },
    {
     "name": "stderr",
     "output_type": "stream",
     "text": [
      "c:\\Users\\fionu\\OneDrive\\Dokumente\\Daten Fiona\\AIUB\\Code\\AIUB-Backup\\clustering\\high_dim_analysis.py:138: FutureWarning: \n",
      "\n",
      "Passing `palette` without assigning `hue` is deprecated and will be removed in v0.14.0. Assign the `y` variable to `hue` and set `legend=False` for the same effect.\n",
      "\n",
      "  sns.barplot(x=mi_vals, y=features, palette=\"magma\")\n"
     ]
    },
    {
     "name": "stdout",
     "output_type": "stream",
     "text": [
      "Runtime for k_means: 0.011997 seconds\n"
     ]
    },
    {
     "name": "stderr",
     "output_type": "stream",
     "text": [
      "c:\\Users\\fionu\\OneDrive\\Dokumente\\Daten Fiona\\AIUB\\Code\\AIUB-Backup\\clustering\\high_dim_analysis.py:42: FutureWarning: \n",
      "\n",
      "Passing `palette` without assigning `hue` is deprecated and will be removed in v0.14.0. Assign the `y` variable to `hue` and set `legend=False` for the same effect.\n",
      "\n",
      "  sns.barplot(x=f_vals, y=features, palette=\"crest\")\n"
     ]
    },
    {
     "name": "stdout",
     "output_type": "stream",
     "text": [
      "Best KMeans parameters based on ANOVA F-value:\n",
      "Year Range                            2008-2011\n",
      "k                                             3\n",
      "Runtime (s)                               0.005\n",
      "Clusters                                      3\n",
      "Points per Cluster    {0: 2865, 1: 558, 2: 641}\n",
      "Davies-Bouldin                             None\n",
      "Calinski-Harabasz                          None\n",
      "Dunn Index                                 None\n",
      "Silhouette Score                           None\n",
      "Mean ANOVA F                          15291.564\n",
      "Name: 0, dtype: object\n"
     ]
    },
    {
     "data": {
      "application/vnd.microsoft.datawrangler.viewer.v0+json": {
       "columns": [
        {
         "name": "index",
         "rawType": "int64",
         "type": "integer"
        },
        {
         "name": "Year Range",
         "rawType": "object",
         "type": "string"
        },
        {
         "name": "k",
         "rawType": "int64",
         "type": "integer"
        },
        {
         "name": "Runtime (s)",
         "rawType": "object",
         "type": "string"
        },
        {
         "name": "Clusters",
         "rawType": "int64",
         "type": "integer"
        },
        {
         "name": "Points per Cluster",
         "rawType": "object",
         "type": "unknown"
        },
        {
         "name": "Davies-Bouldin",
         "rawType": "object",
         "type": "unknown"
        },
        {
         "name": "Calinski-Harabasz",
         "rawType": "object",
         "type": "unknown"
        },
        {
         "name": "Dunn Index",
         "rawType": "object",
         "type": "unknown"
        },
        {
         "name": "Silhouette Score",
         "rawType": "object",
         "type": "unknown"
        },
        {
         "name": "Mean ANOVA F",
         "rawType": "float64",
         "type": "float"
        }
       ],
       "ref": "5a79a8a4-3dc9-4788-ba1b-1f8431a47ed7",
       "rows": [
        [
         "0",
         "2008-2011",
         "3",
         "0.005",
         "3",
         "{0: 2865, 1: 558, 2: 641}",
         null,
         null,
         null,
         null,
         "15291.564"
        ],
        [
         "1",
         "2008-2011",
         "4",
         "0.021",
         "4",
         "{0: 1362, 1: 567, 2: 631, 3: 1504}",
         null,
         null,
         null,
         null,
         "10542.431"
        ],
        [
         "2",
         "2008-2011",
         "5",
         "0.019",
         "5",
         "{0: 1570, 1: 326, 2: 516, 3: 354, 4: 1298}",
         null,
         null,
         null,
         null,
         "8330.296"
        ],
        [
         "3",
         "2008-2011",
         "6",
         "0.023",
         "6",
         "{0: 1565, 1: 311, 2: 343, 3: 486, 4: 61, 5: 1298}",
         null,
         null,
         null,
         null,
         "6915.525"
        ],
        [
         "4",
         "2008-2011",
         "7",
         "0.011",
         "7",
         "{0: 1287, 1: 60, 2: 483, 3: 1494, 4: 97, 5: 312, 6: 331}",
         null,
         null,
         null,
         null,
         "6226.383"
        ]
       ],
       "shape": {
        "columns": 10,
        "rows": 5
       }
      },
      "text/html": [
       "<div>\n",
       "<style scoped>\n",
       "    .dataframe tbody tr th:only-of-type {\n",
       "        vertical-align: middle;\n",
       "    }\n",
       "\n",
       "    .dataframe tbody tr th {\n",
       "        vertical-align: top;\n",
       "    }\n",
       "\n",
       "    .dataframe thead th {\n",
       "        text-align: right;\n",
       "    }\n",
       "</style>\n",
       "<table border=\"1\" class=\"dataframe\">\n",
       "  <thead>\n",
       "    <tr style=\"text-align: right;\">\n",
       "      <th></th>\n",
       "      <th>Year Range</th>\n",
       "      <th>k</th>\n",
       "      <th>Runtime (s)</th>\n",
       "      <th>Clusters</th>\n",
       "      <th>Points per Cluster</th>\n",
       "      <th>Davies-Bouldin</th>\n",
       "      <th>Calinski-Harabasz</th>\n",
       "      <th>Dunn Index</th>\n",
       "      <th>Silhouette Score</th>\n",
       "      <th>Mean ANOVA F</th>\n",
       "    </tr>\n",
       "  </thead>\n",
       "  <tbody>\n",
       "    <tr>\n",
       "      <th>0</th>\n",
       "      <td>2008-2011</td>\n",
       "      <td>3</td>\n",
       "      <td>0.005</td>\n",
       "      <td>3</td>\n",
       "      <td>{0: 2865, 1: 558, 2: 641}</td>\n",
       "      <td>None</td>\n",
       "      <td>None</td>\n",
       "      <td>None</td>\n",
       "      <td>None</td>\n",
       "      <td>15291.564</td>\n",
       "    </tr>\n",
       "    <tr>\n",
       "      <th>1</th>\n",
       "      <td>2008-2011</td>\n",
       "      <td>4</td>\n",
       "      <td>0.021</td>\n",
       "      <td>4</td>\n",
       "      <td>{0: 1362, 1: 567, 2: 631, 3: 1504}</td>\n",
       "      <td>None</td>\n",
       "      <td>None</td>\n",
       "      <td>None</td>\n",
       "      <td>None</td>\n",
       "      <td>10542.431</td>\n",
       "    </tr>\n",
       "    <tr>\n",
       "      <th>2</th>\n",
       "      <td>2008-2011</td>\n",
       "      <td>5</td>\n",
       "      <td>0.019</td>\n",
       "      <td>5</td>\n",
       "      <td>{0: 1570, 1: 326, 2: 516, 3: 354, 4: 1298}</td>\n",
       "      <td>None</td>\n",
       "      <td>None</td>\n",
       "      <td>None</td>\n",
       "      <td>None</td>\n",
       "      <td>8330.296</td>\n",
       "    </tr>\n",
       "    <tr>\n",
       "      <th>3</th>\n",
       "      <td>2008-2011</td>\n",
       "      <td>6</td>\n",
       "      <td>0.023</td>\n",
       "      <td>6</td>\n",
       "      <td>{0: 1565, 1: 311, 2: 343, 3: 486, 4: 61, 5: 1298}</td>\n",
       "      <td>None</td>\n",
       "      <td>None</td>\n",
       "      <td>None</td>\n",
       "      <td>None</td>\n",
       "      <td>6915.525</td>\n",
       "    </tr>\n",
       "    <tr>\n",
       "      <th>4</th>\n",
       "      <td>2008-2011</td>\n",
       "      <td>7</td>\n",
       "      <td>0.011</td>\n",
       "      <td>7</td>\n",
       "      <td>{0: 1287, 1: 60, 2: 483, 3: 1494, 4: 97, 5: 31...</td>\n",
       "      <td>None</td>\n",
       "      <td>None</td>\n",
       "      <td>None</td>\n",
       "      <td>None</td>\n",
       "      <td>6226.383</td>\n",
       "    </tr>\n",
       "  </tbody>\n",
       "</table>\n",
       "</div>"
      ],
      "text/plain": [
       "  Year Range  k Runtime (s)  Clusters  \\\n",
       "0  2008-2011  3       0.005         3   \n",
       "1  2008-2011  4       0.021         4   \n",
       "2  2008-2011  5       0.019         5   \n",
       "3  2008-2011  6       0.023         6   \n",
       "4  2008-2011  7       0.011         7   \n",
       "\n",
       "                                  Points per Cluster Davies-Bouldin  \\\n",
       "0                          {0: 2865, 1: 558, 2: 641}           None   \n",
       "1                 {0: 1362, 1: 567, 2: 631, 3: 1504}           None   \n",
       "2         {0: 1570, 1: 326, 2: 516, 3: 354, 4: 1298}           None   \n",
       "3  {0: 1565, 1: 311, 2: 343, 3: 486, 4: 61, 5: 1298}           None   \n",
       "4  {0: 1287, 1: 60, 2: 483, 3: 1494, 4: 97, 5: 31...           None   \n",
       "\n",
       "  Calinski-Harabasz Dunn Index Silhouette Score  Mean ANOVA F  \n",
       "0              None       None             None     15291.564  \n",
       "1              None       None             None     10542.431  \n",
       "2              None       None             None      8330.296  \n",
       "3              None       None             None      6915.525  \n",
       "4              None       None             None      6226.383  "
      ]
     },
     "metadata": {},
     "output_type": "display_data"
    },
    {
     "name": "stdout",
     "output_type": "stream",
     "text": [
      "\n",
      "Running K-Means for Year Range: 2009-2012\n",
      "Runtime for k_means: 0.012545 seconds\n"
     ]
    },
    {
     "name": "stderr",
     "output_type": "stream",
     "text": [
      "c:\\Users\\fionu\\OneDrive\\Dokumente\\Daten Fiona\\AIUB\\Code\\AIUB-Backup\\clustering\\high_dim_analysis.py:138: FutureWarning: \n",
      "\n",
      "Passing `palette` without assigning `hue` is deprecated and will be removed in v0.14.0. Assign the `y` variable to `hue` and set `legend=False` for the same effect.\n",
      "\n",
      "  sns.barplot(x=mi_vals, y=features, palette=\"magma\")\n"
     ]
    },
    {
     "name": "stdout",
     "output_type": "stream",
     "text": [
      "Runtime for k_means: 0.020512 seconds\n"
     ]
    },
    {
     "name": "stderr",
     "output_type": "stream",
     "text": [
      "c:\\Users\\fionu\\OneDrive\\Dokumente\\Daten Fiona\\AIUB\\Code\\AIUB-Backup\\clustering\\high_dim_analysis.py:138: FutureWarning: \n",
      "\n",
      "Passing `palette` without assigning `hue` is deprecated and will be removed in v0.14.0. Assign the `y` variable to `hue` and set `legend=False` for the same effect.\n",
      "\n",
      "  sns.barplot(x=mi_vals, y=features, palette=\"magma\")\n"
     ]
    },
    {
     "name": "stdout",
     "output_type": "stream",
     "text": [
      "Runtime for k_means: 0.002592 seconds\n"
     ]
    },
    {
     "name": "stderr",
     "output_type": "stream",
     "text": [
      "c:\\Users\\fionu\\OneDrive\\Dokumente\\Daten Fiona\\AIUB\\Code\\AIUB-Backup\\clustering\\high_dim_analysis.py:138: FutureWarning: \n",
      "\n",
      "Passing `palette` without assigning `hue` is deprecated and will be removed in v0.14.0. Assign the `y` variable to `hue` and set `legend=False` for the same effect.\n",
      "\n",
      "  sns.barplot(x=mi_vals, y=features, palette=\"magma\")\n"
     ]
    },
    {
     "name": "stdout",
     "output_type": "stream",
     "text": [
      "Runtime for k_means: 0.000000 seconds\n"
     ]
    },
    {
     "name": "stderr",
     "output_type": "stream",
     "text": [
      "c:\\Users\\fionu\\OneDrive\\Dokumente\\Daten Fiona\\AIUB\\Code\\AIUB-Backup\\clustering\\high_dim_analysis.py:138: FutureWarning: \n",
      "\n",
      "Passing `palette` without assigning `hue` is deprecated and will be removed in v0.14.0. Assign the `y` variable to `hue` and set `legend=False` for the same effect.\n",
      "\n",
      "  sns.barplot(x=mi_vals, y=features, palette=\"magma\")\n"
     ]
    },
    {
     "name": "stdout",
     "output_type": "stream",
     "text": [
      "Runtime for k_means: 0.021550 seconds\n"
     ]
    },
    {
     "name": "stderr",
     "output_type": "stream",
     "text": [
      "c:\\Users\\fionu\\OneDrive\\Dokumente\\Daten Fiona\\AIUB\\Code\\AIUB-Backup\\clustering\\high_dim_analysis.py:138: FutureWarning: \n",
      "\n",
      "Passing `palette` without assigning `hue` is deprecated and will be removed in v0.14.0. Assign the `y` variable to `hue` and set `legend=False` for the same effect.\n",
      "\n",
      "  sns.barplot(x=mi_vals, y=features, palette=\"magma\")\n"
     ]
    },
    {
     "name": "stdout",
     "output_type": "stream",
     "text": [
      "Runtime for k_means: 0.008075 seconds\n"
     ]
    },
    {
     "name": "stderr",
     "output_type": "stream",
     "text": [
      "c:\\Users\\fionu\\OneDrive\\Dokumente\\Daten Fiona\\AIUB\\Code\\AIUB-Backup\\clustering\\high_dim_analysis.py:42: FutureWarning: \n",
      "\n",
      "Passing `palette` without assigning `hue` is deprecated and will be removed in v0.14.0. Assign the `y` variable to `hue` and set `legend=False` for the same effect.\n",
      "\n",
      "  sns.barplot(x=f_vals, y=features, palette=\"crest\")\n"
     ]
    },
    {
     "name": "stdout",
     "output_type": "stream",
     "text": [
      "Best KMeans parameters based on ANOVA F-value:\n",
      "Year Range                            2009-2012\n",
      "k                                             3\n",
      "Runtime (s)                               0.013\n",
      "Clusters                                      3\n",
      "Points per Cluster    {0: 2488, 1: 520, 2: 552}\n",
      "Davies-Bouldin                             None\n",
      "Calinski-Harabasz                          None\n",
      "Dunn Index                                 None\n",
      "Silhouette Score                           None\n",
      "Mean ANOVA F                          13381.344\n",
      "Name: 0, dtype: object\n"
     ]
    },
    {
     "data": {
      "application/vnd.microsoft.datawrangler.viewer.v0+json": {
       "columns": [
        {
         "name": "index",
         "rawType": "int64",
         "type": "integer"
        },
        {
         "name": "Year Range",
         "rawType": "object",
         "type": "string"
        },
        {
         "name": "k",
         "rawType": "int64",
         "type": "integer"
        },
        {
         "name": "Runtime (s)",
         "rawType": "object",
         "type": "string"
        },
        {
         "name": "Clusters",
         "rawType": "int64",
         "type": "integer"
        },
        {
         "name": "Points per Cluster",
         "rawType": "object",
         "type": "unknown"
        },
        {
         "name": "Davies-Bouldin",
         "rawType": "object",
         "type": "unknown"
        },
        {
         "name": "Calinski-Harabasz",
         "rawType": "object",
         "type": "unknown"
        },
        {
         "name": "Dunn Index",
         "rawType": "object",
         "type": "unknown"
        },
        {
         "name": "Silhouette Score",
         "rawType": "object",
         "type": "unknown"
        },
        {
         "name": "Mean ANOVA F",
         "rawType": "float64",
         "type": "float"
        }
       ],
       "ref": "d0dc1b12-8751-47c8-b9ac-597b5e25c3f1",
       "rows": [
        [
         "0",
         "2009-2012",
         "3",
         "0.013",
         "3",
         "{0: 2488, 1: 520, 2: 552}",
         null,
         null,
         null,
         null,
         "13381.344"
        ],
        [
         "1",
         "2009-2012",
         "4",
         "0.021",
         "4",
         "{0: 97, 1: 569, 2: 488, 3: 2406}",
         null,
         null,
         null,
         null,
         "9149.201"
        ],
        [
         "2",
         "2009-2012",
         "5",
         "0.003",
         "5",
         "{0: 1403, 1: 313, 2: 452, 3: 1087, 4: 305}",
         null,
         null,
         null,
         null,
         "7320.911"
        ],
        [
         "3",
         "2009-2012",
         "6",
         "0.000",
         "6",
         "{0: 1329, 1: 303, 2: 298, 3: 1076, 4: 100, 5: 454}",
         null,
         null,
         null,
         null,
         "6349.289"
        ],
        [
         "4",
         "2009-2012",
         "7",
         "0.022",
         "7",
         "{0: 1325, 1: 295, 2: 284, 3: 1076, 4: 431, 5: 100, 6: 49}",
         null,
         null,
         null,
         null,
         "5484.301"
        ]
       ],
       "shape": {
        "columns": 10,
        "rows": 5
       }
      },
      "text/html": [
       "<div>\n",
       "<style scoped>\n",
       "    .dataframe tbody tr th:only-of-type {\n",
       "        vertical-align: middle;\n",
       "    }\n",
       "\n",
       "    .dataframe tbody tr th {\n",
       "        vertical-align: top;\n",
       "    }\n",
       "\n",
       "    .dataframe thead th {\n",
       "        text-align: right;\n",
       "    }\n",
       "</style>\n",
       "<table border=\"1\" class=\"dataframe\">\n",
       "  <thead>\n",
       "    <tr style=\"text-align: right;\">\n",
       "      <th></th>\n",
       "      <th>Year Range</th>\n",
       "      <th>k</th>\n",
       "      <th>Runtime (s)</th>\n",
       "      <th>Clusters</th>\n",
       "      <th>Points per Cluster</th>\n",
       "      <th>Davies-Bouldin</th>\n",
       "      <th>Calinski-Harabasz</th>\n",
       "      <th>Dunn Index</th>\n",
       "      <th>Silhouette Score</th>\n",
       "      <th>Mean ANOVA F</th>\n",
       "    </tr>\n",
       "  </thead>\n",
       "  <tbody>\n",
       "    <tr>\n",
       "      <th>0</th>\n",
       "      <td>2009-2012</td>\n",
       "      <td>3</td>\n",
       "      <td>0.013</td>\n",
       "      <td>3</td>\n",
       "      <td>{0: 2488, 1: 520, 2: 552}</td>\n",
       "      <td>None</td>\n",
       "      <td>None</td>\n",
       "      <td>None</td>\n",
       "      <td>None</td>\n",
       "      <td>13381.344</td>\n",
       "    </tr>\n",
       "    <tr>\n",
       "      <th>1</th>\n",
       "      <td>2009-2012</td>\n",
       "      <td>4</td>\n",
       "      <td>0.021</td>\n",
       "      <td>4</td>\n",
       "      <td>{0: 97, 1: 569, 2: 488, 3: 2406}</td>\n",
       "      <td>None</td>\n",
       "      <td>None</td>\n",
       "      <td>None</td>\n",
       "      <td>None</td>\n",
       "      <td>9149.201</td>\n",
       "    </tr>\n",
       "    <tr>\n",
       "      <th>2</th>\n",
       "      <td>2009-2012</td>\n",
       "      <td>5</td>\n",
       "      <td>0.003</td>\n",
       "      <td>5</td>\n",
       "      <td>{0: 1403, 1: 313, 2: 452, 3: 1087, 4: 305}</td>\n",
       "      <td>None</td>\n",
       "      <td>None</td>\n",
       "      <td>None</td>\n",
       "      <td>None</td>\n",
       "      <td>7320.911</td>\n",
       "    </tr>\n",
       "    <tr>\n",
       "      <th>3</th>\n",
       "      <td>2009-2012</td>\n",
       "      <td>6</td>\n",
       "      <td>0.000</td>\n",
       "      <td>6</td>\n",
       "      <td>{0: 1329, 1: 303, 2: 298, 3: 1076, 4: 100, 5: ...</td>\n",
       "      <td>None</td>\n",
       "      <td>None</td>\n",
       "      <td>None</td>\n",
       "      <td>None</td>\n",
       "      <td>6349.289</td>\n",
       "    </tr>\n",
       "    <tr>\n",
       "      <th>4</th>\n",
       "      <td>2009-2012</td>\n",
       "      <td>7</td>\n",
       "      <td>0.022</td>\n",
       "      <td>7</td>\n",
       "      <td>{0: 1325, 1: 295, 2: 284, 3: 1076, 4: 431, 5: ...</td>\n",
       "      <td>None</td>\n",
       "      <td>None</td>\n",
       "      <td>None</td>\n",
       "      <td>None</td>\n",
       "      <td>5484.301</td>\n",
       "    </tr>\n",
       "  </tbody>\n",
       "</table>\n",
       "</div>"
      ],
      "text/plain": [
       "  Year Range  k Runtime (s)  Clusters  \\\n",
       "0  2009-2012  3       0.013         3   \n",
       "1  2009-2012  4       0.021         4   \n",
       "2  2009-2012  5       0.003         5   \n",
       "3  2009-2012  6       0.000         6   \n",
       "4  2009-2012  7       0.022         7   \n",
       "\n",
       "                                  Points per Cluster Davies-Bouldin  \\\n",
       "0                          {0: 2488, 1: 520, 2: 552}           None   \n",
       "1                   {0: 97, 1: 569, 2: 488, 3: 2406}           None   \n",
       "2         {0: 1403, 1: 313, 2: 452, 3: 1087, 4: 305}           None   \n",
       "3  {0: 1329, 1: 303, 2: 298, 3: 1076, 4: 100, 5: ...           None   \n",
       "4  {0: 1325, 1: 295, 2: 284, 3: 1076, 4: 431, 5: ...           None   \n",
       "\n",
       "  Calinski-Harabasz Dunn Index Silhouette Score  Mean ANOVA F  \n",
       "0              None       None             None     13381.344  \n",
       "1              None       None             None      9149.201  \n",
       "2              None       None             None      7320.911  \n",
       "3              None       None             None      6349.289  \n",
       "4              None       None             None      5484.301  "
      ]
     },
     "metadata": {},
     "output_type": "display_data"
    },
    {
     "name": "stdout",
     "output_type": "stream",
     "text": [
      "\n",
      "Running K-Means for Year Range: 2010-2013\n",
      "Runtime for k_means: 0.002623 seconds\n"
     ]
    },
    {
     "name": "stderr",
     "output_type": "stream",
     "text": [
      "c:\\Users\\fionu\\OneDrive\\Dokumente\\Daten Fiona\\AIUB\\Code\\AIUB-Backup\\clustering\\high_dim_analysis.py:138: FutureWarning: \n",
      "\n",
      "Passing `palette` without assigning `hue` is deprecated and will be removed in v0.14.0. Assign the `y` variable to `hue` and set `legend=False` for the same effect.\n",
      "\n",
      "  sns.barplot(x=mi_vals, y=features, palette=\"magma\")\n"
     ]
    },
    {
     "name": "stdout",
     "output_type": "stream",
     "text": [
      "Runtime for k_means: 0.000000 seconds\n"
     ]
    },
    {
     "name": "stderr",
     "output_type": "stream",
     "text": [
      "c:\\Users\\fionu\\OneDrive\\Dokumente\\Daten Fiona\\AIUB\\Code\\AIUB-Backup\\clustering\\high_dim_analysis.py:138: FutureWarning: \n",
      "\n",
      "Passing `palette` without assigning `hue` is deprecated and will be removed in v0.14.0. Assign the `y` variable to `hue` and set `legend=False` for the same effect.\n",
      "\n",
      "  sns.barplot(x=mi_vals, y=features, palette=\"magma\")\n"
     ]
    },
    {
     "name": "stdout",
     "output_type": "stream",
     "text": [
      "Runtime for k_means: 0.003113 seconds\n"
     ]
    },
    {
     "name": "stderr",
     "output_type": "stream",
     "text": [
      "c:\\Users\\fionu\\OneDrive\\Dokumente\\Daten Fiona\\AIUB\\Code\\AIUB-Backup\\clustering\\high_dim_analysis.py:138: FutureWarning: \n",
      "\n",
      "Passing `palette` without assigning `hue` is deprecated and will be removed in v0.14.0. Assign the `y` variable to `hue` and set `legend=False` for the same effect.\n",
      "\n",
      "  sns.barplot(x=mi_vals, y=features, palette=\"magma\")\n"
     ]
    },
    {
     "name": "stdout",
     "output_type": "stream",
     "text": [
      "Runtime for k_means: 0.005588 seconds\n"
     ]
    },
    {
     "name": "stderr",
     "output_type": "stream",
     "text": [
      "c:\\Users\\fionu\\OneDrive\\Dokumente\\Daten Fiona\\AIUB\\Code\\AIUB-Backup\\clustering\\high_dim_analysis.py:138: FutureWarning: \n",
      "\n",
      "Passing `palette` without assigning `hue` is deprecated and will be removed in v0.14.0. Assign the `y` variable to `hue` and set `legend=False` for the same effect.\n",
      "\n",
      "  sns.barplot(x=mi_vals, y=features, palette=\"magma\")\n"
     ]
    },
    {
     "name": "stdout",
     "output_type": "stream",
     "text": [
      "Runtime for k_means: 0.003998 seconds\n"
     ]
    },
    {
     "name": "stderr",
     "output_type": "stream",
     "text": [
      "c:\\Users\\fionu\\OneDrive\\Dokumente\\Daten Fiona\\AIUB\\Code\\AIUB-Backup\\clustering\\high_dim_analysis.py:138: FutureWarning: \n",
      "\n",
      "Passing `palette` without assigning `hue` is deprecated and will be removed in v0.14.0. Assign the `y` variable to `hue` and set `legend=False` for the same effect.\n",
      "\n",
      "  sns.barplot(x=mi_vals, y=features, palette=\"magma\")\n"
     ]
    },
    {
     "name": "stdout",
     "output_type": "stream",
     "text": [
      "Runtime for k_means: 0.000000 seconds\n"
     ]
    },
    {
     "name": "stderr",
     "output_type": "stream",
     "text": [
      "c:\\Users\\fionu\\OneDrive\\Dokumente\\Daten Fiona\\AIUB\\Code\\AIUB-Backup\\clustering\\high_dim_analysis.py:42: FutureWarning: \n",
      "\n",
      "Passing `palette` without assigning `hue` is deprecated and will be removed in v0.14.0. Assign the `y` variable to `hue` and set `legend=False` for the same effect.\n",
      "\n",
      "  sns.barplot(x=f_vals, y=features, palette=\"crest\")\n"
     ]
    },
    {
     "name": "stdout",
     "output_type": "stream",
     "text": [
      "Best KMeans parameters based on ANOVA F-value:\n",
      "Year Range                           2010-2013\n",
      "k                                            3\n",
      "Runtime (s)                              0.003\n",
      "Clusters                                     3\n",
      "Points per Cluster    {0: 1082, 1: 442, 2: 55}\n",
      "Davies-Bouldin                            None\n",
      "Calinski-Harabasz                         None\n",
      "Dunn Index                                None\n",
      "Silhouette Score                          None\n",
      "Mean ANOVA F                          5373.259\n",
      "Name: 0, dtype: object\n"
     ]
    },
    {
     "data": {
      "application/vnd.microsoft.datawrangler.viewer.v0+json": {
       "columns": [
        {
         "name": "index",
         "rawType": "int64",
         "type": "integer"
        },
        {
         "name": "Year Range",
         "rawType": "object",
         "type": "string"
        },
        {
         "name": "k",
         "rawType": "int64",
         "type": "integer"
        },
        {
         "name": "Runtime (s)",
         "rawType": "object",
         "type": "string"
        },
        {
         "name": "Clusters",
         "rawType": "int64",
         "type": "integer"
        },
        {
         "name": "Points per Cluster",
         "rawType": "object",
         "type": "unknown"
        },
        {
         "name": "Davies-Bouldin",
         "rawType": "object",
         "type": "unknown"
        },
        {
         "name": "Calinski-Harabasz",
         "rawType": "object",
         "type": "unknown"
        },
        {
         "name": "Dunn Index",
         "rawType": "object",
         "type": "unknown"
        },
        {
         "name": "Silhouette Score",
         "rawType": "object",
         "type": "unknown"
        },
        {
         "name": "Mean ANOVA F",
         "rawType": "float64",
         "type": "float"
        }
       ],
       "ref": "a153c36d-bad2-4a44-b035-eecc501f81fa",
       "rows": [
        [
         "0",
         "2010-2013",
         "3",
         "0.003",
         "3",
         "{0: 1082, 1: 442, 2: 55}",
         null,
         null,
         null,
         null,
         "5373.259"
        ],
        [
         "1",
         "2010-2013",
         "4",
         "0.000",
         "4",
         "{0: 482, 1: 647, 2: 238, 3: 212}",
         null,
         null,
         null,
         null,
         "3970.319"
        ],
        [
         "2",
         "2010-2013",
         "5",
         "0.003",
         "5",
         "{0: 1126, 1: 31, 2: 132, 3: 190, 4: 100}",
         null,
         null,
         null,
         null,
         "3108.006"
        ],
        [
         "3",
         "2010-2013",
         "6",
         "0.006",
         "6",
         "{0: 32, 1: 182, 2: 34, 3: 520, 4: 603, 5: 208}",
         null,
         null,
         null,
         null,
         "3803.559"
        ],
        [
         "4",
         "2010-2013",
         "7",
         "0.004",
         "7",
         "{0: 133, 1: 481, 2: 173, 3: 645, 4: 29, 5: 84, 6: 34}",
         null,
         null,
         null,
         null,
         "2969.576"
        ]
       ],
       "shape": {
        "columns": 10,
        "rows": 5
       }
      },
      "text/html": [
       "<div>\n",
       "<style scoped>\n",
       "    .dataframe tbody tr th:only-of-type {\n",
       "        vertical-align: middle;\n",
       "    }\n",
       "\n",
       "    .dataframe tbody tr th {\n",
       "        vertical-align: top;\n",
       "    }\n",
       "\n",
       "    .dataframe thead th {\n",
       "        text-align: right;\n",
       "    }\n",
       "</style>\n",
       "<table border=\"1\" class=\"dataframe\">\n",
       "  <thead>\n",
       "    <tr style=\"text-align: right;\">\n",
       "      <th></th>\n",
       "      <th>Year Range</th>\n",
       "      <th>k</th>\n",
       "      <th>Runtime (s)</th>\n",
       "      <th>Clusters</th>\n",
       "      <th>Points per Cluster</th>\n",
       "      <th>Davies-Bouldin</th>\n",
       "      <th>Calinski-Harabasz</th>\n",
       "      <th>Dunn Index</th>\n",
       "      <th>Silhouette Score</th>\n",
       "      <th>Mean ANOVA F</th>\n",
       "    </tr>\n",
       "  </thead>\n",
       "  <tbody>\n",
       "    <tr>\n",
       "      <th>0</th>\n",
       "      <td>2010-2013</td>\n",
       "      <td>3</td>\n",
       "      <td>0.003</td>\n",
       "      <td>3</td>\n",
       "      <td>{0: 1082, 1: 442, 2: 55}</td>\n",
       "      <td>None</td>\n",
       "      <td>None</td>\n",
       "      <td>None</td>\n",
       "      <td>None</td>\n",
       "      <td>5373.259</td>\n",
       "    </tr>\n",
       "    <tr>\n",
       "      <th>1</th>\n",
       "      <td>2010-2013</td>\n",
       "      <td>4</td>\n",
       "      <td>0.000</td>\n",
       "      <td>4</td>\n",
       "      <td>{0: 482, 1: 647, 2: 238, 3: 212}</td>\n",
       "      <td>None</td>\n",
       "      <td>None</td>\n",
       "      <td>None</td>\n",
       "      <td>None</td>\n",
       "      <td>3970.319</td>\n",
       "    </tr>\n",
       "    <tr>\n",
       "      <th>2</th>\n",
       "      <td>2010-2013</td>\n",
       "      <td>5</td>\n",
       "      <td>0.003</td>\n",
       "      <td>5</td>\n",
       "      <td>{0: 1126, 1: 31, 2: 132, 3: 190, 4: 100}</td>\n",
       "      <td>None</td>\n",
       "      <td>None</td>\n",
       "      <td>None</td>\n",
       "      <td>None</td>\n",
       "      <td>3108.006</td>\n",
       "    </tr>\n",
       "    <tr>\n",
       "      <th>3</th>\n",
       "      <td>2010-2013</td>\n",
       "      <td>6</td>\n",
       "      <td>0.006</td>\n",
       "      <td>6</td>\n",
       "      <td>{0: 32, 1: 182, 2: 34, 3: 520, 4: 603, 5: 208}</td>\n",
       "      <td>None</td>\n",
       "      <td>None</td>\n",
       "      <td>None</td>\n",
       "      <td>None</td>\n",
       "      <td>3803.559</td>\n",
       "    </tr>\n",
       "    <tr>\n",
       "      <th>4</th>\n",
       "      <td>2010-2013</td>\n",
       "      <td>7</td>\n",
       "      <td>0.004</td>\n",
       "      <td>7</td>\n",
       "      <td>{0: 133, 1: 481, 2: 173, 3: 645, 4: 29, 5: 84,...</td>\n",
       "      <td>None</td>\n",
       "      <td>None</td>\n",
       "      <td>None</td>\n",
       "      <td>None</td>\n",
       "      <td>2969.576</td>\n",
       "    </tr>\n",
       "  </tbody>\n",
       "</table>\n",
       "</div>"
      ],
      "text/plain": [
       "  Year Range  k Runtime (s)  Clusters  \\\n",
       "0  2010-2013  3       0.003         3   \n",
       "1  2010-2013  4       0.000         4   \n",
       "2  2010-2013  5       0.003         5   \n",
       "3  2010-2013  6       0.006         6   \n",
       "4  2010-2013  7       0.004         7   \n",
       "\n",
       "                                  Points per Cluster Davies-Bouldin  \\\n",
       "0                           {0: 1082, 1: 442, 2: 55}           None   \n",
       "1                   {0: 482, 1: 647, 2: 238, 3: 212}           None   \n",
       "2           {0: 1126, 1: 31, 2: 132, 3: 190, 4: 100}           None   \n",
       "3     {0: 32, 1: 182, 2: 34, 3: 520, 4: 603, 5: 208}           None   \n",
       "4  {0: 133, 1: 481, 2: 173, 3: 645, 4: 29, 5: 84,...           None   \n",
       "\n",
       "  Calinski-Harabasz Dunn Index Silhouette Score  Mean ANOVA F  \n",
       "0              None       None             None      5373.259  \n",
       "1              None       None             None      3970.319  \n",
       "2              None       None             None      3108.006  \n",
       "3              None       None             None      3803.559  \n",
       "4              None       None             None      2969.576  "
      ]
     },
     "metadata": {},
     "output_type": "display_data"
    },
    {
     "name": "stdout",
     "output_type": "stream",
     "text": [
      "\n",
      "Running K-Means for Year Range: 2011-2014\n",
      "Runtime for k_means: 0.002019 seconds\n"
     ]
    },
    {
     "name": "stderr",
     "output_type": "stream",
     "text": [
      "c:\\Users\\fionu\\OneDrive\\Dokumente\\Daten Fiona\\AIUB\\Code\\AIUB-Backup\\clustering\\high_dim_analysis.py:138: FutureWarning: \n",
      "\n",
      "Passing `palette` without assigning `hue` is deprecated and will be removed in v0.14.0. Assign the `y` variable to `hue` and set `legend=False` for the same effect.\n",
      "\n",
      "  sns.barplot(x=mi_vals, y=features, palette=\"magma\")\n"
     ]
    },
    {
     "name": "stdout",
     "output_type": "stream",
     "text": [
      "Runtime for k_means: 0.000000 seconds\n"
     ]
    },
    {
     "name": "stderr",
     "output_type": "stream",
     "text": [
      "c:\\Users\\fionu\\OneDrive\\Dokumente\\Daten Fiona\\AIUB\\Code\\AIUB-Backup\\clustering\\high_dim_analysis.py:138: FutureWarning: \n",
      "\n",
      "Passing `palette` without assigning `hue` is deprecated and will be removed in v0.14.0. Assign the `y` variable to `hue` and set `legend=False` for the same effect.\n",
      "\n",
      "  sns.barplot(x=mi_vals, y=features, palette=\"magma\")\n"
     ]
    },
    {
     "name": "stdout",
     "output_type": "stream",
     "text": [
      "Runtime for k_means: 0.001642 seconds\n"
     ]
    },
    {
     "name": "stderr",
     "output_type": "stream",
     "text": [
      "c:\\Users\\fionu\\OneDrive\\Dokumente\\Daten Fiona\\AIUB\\Code\\AIUB-Backup\\clustering\\high_dim_analysis.py:138: FutureWarning: \n",
      "\n",
      "Passing `palette` without assigning `hue` is deprecated and will be removed in v0.14.0. Assign the `y` variable to `hue` and set `legend=False` for the same effect.\n",
      "\n",
      "  sns.barplot(x=mi_vals, y=features, palette=\"magma\")\n"
     ]
    },
    {
     "name": "stdout",
     "output_type": "stream",
     "text": [
      "Runtime for k_means: 0.000000 seconds\n"
     ]
    },
    {
     "name": "stderr",
     "output_type": "stream",
     "text": [
      "c:\\Users\\fionu\\OneDrive\\Dokumente\\Daten Fiona\\AIUB\\Code\\AIUB-Backup\\clustering\\high_dim_analysis.py:138: FutureWarning: \n",
      "\n",
      "Passing `palette` without assigning `hue` is deprecated and will be removed in v0.14.0. Assign the `y` variable to `hue` and set `legend=False` for the same effect.\n",
      "\n",
      "  sns.barplot(x=mi_vals, y=features, palette=\"magma\")\n"
     ]
    },
    {
     "name": "stdout",
     "output_type": "stream",
     "text": [
      "Runtime for k_means: 0.000000 seconds\n"
     ]
    },
    {
     "name": "stderr",
     "output_type": "stream",
     "text": [
      "c:\\Users\\fionu\\OneDrive\\Dokumente\\Daten Fiona\\AIUB\\Code\\AIUB-Backup\\clustering\\high_dim_analysis.py:138: FutureWarning: \n",
      "\n",
      "Passing `palette` without assigning `hue` is deprecated and will be removed in v0.14.0. Assign the `y` variable to `hue` and set `legend=False` for the same effect.\n",
      "\n",
      "  sns.barplot(x=mi_vals, y=features, palette=\"magma\")\n"
     ]
    },
    {
     "name": "stdout",
     "output_type": "stream",
     "text": [
      "Runtime for k_means: 0.004030 seconds\n",
      "Best KMeans parameters based on ANOVA F-value:\n",
      "Year Range                          2011-2014\n",
      "k                                           3\n",
      "Runtime (s)                             0.002\n",
      "Clusters                                    3\n",
      "Points per Cluster    {0: 40, 1: 233, 2: 593}\n",
      "Davies-Bouldin                           None\n",
      "Calinski-Harabasz                        None\n",
      "Dunn Index                               None\n",
      "Silhouette Score                         None\n",
      "Mean ANOVA F                         2714.846\n",
      "Name: 0, dtype: object\n"
     ]
    },
    {
     "name": "stderr",
     "output_type": "stream",
     "text": [
      "c:\\Users\\fionu\\OneDrive\\Dokumente\\Daten Fiona\\AIUB\\Code\\AIUB-Backup\\clustering\\high_dim_analysis.py:42: FutureWarning: \n",
      "\n",
      "Passing `palette` without assigning `hue` is deprecated and will be removed in v0.14.0. Assign the `y` variable to `hue` and set `legend=False` for the same effect.\n",
      "\n",
      "  sns.barplot(x=f_vals, y=features, palette=\"crest\")\n"
     ]
    },
    {
     "data": {
      "application/vnd.microsoft.datawrangler.viewer.v0+json": {
       "columns": [
        {
         "name": "index",
         "rawType": "int64",
         "type": "integer"
        },
        {
         "name": "Year Range",
         "rawType": "object",
         "type": "string"
        },
        {
         "name": "k",
         "rawType": "int64",
         "type": "integer"
        },
        {
         "name": "Runtime (s)",
         "rawType": "object",
         "type": "string"
        },
        {
         "name": "Clusters",
         "rawType": "int64",
         "type": "integer"
        },
        {
         "name": "Points per Cluster",
         "rawType": "object",
         "type": "unknown"
        },
        {
         "name": "Davies-Bouldin",
         "rawType": "object",
         "type": "unknown"
        },
        {
         "name": "Calinski-Harabasz",
         "rawType": "object",
         "type": "unknown"
        },
        {
         "name": "Dunn Index",
         "rawType": "object",
         "type": "unknown"
        },
        {
         "name": "Silhouette Score",
         "rawType": "object",
         "type": "unknown"
        },
        {
         "name": "Mean ANOVA F",
         "rawType": "float64",
         "type": "float"
        }
       ],
       "ref": "4cf83b1e-88ca-40bf-a7e5-7863006fd138",
       "rows": [
        [
         "0",
         "2011-2014",
         "3",
         "0.002",
         "3",
         "{0: 40, 1: 233, 2: 593}",
         null,
         null,
         null,
         null,
         "2714.846"
        ],
        [
         "1",
         "2011-2014",
         "4",
         "0.000",
         "4",
         "{0: 288, 1: 143, 2: 97, 3: 338}",
         null,
         null,
         null,
         null,
         "1968.106"
        ],
        [
         "2",
         "2011-2014",
         "5",
         "0.002",
         "5",
         "{0: 115, 1: 624, 2: 59, 3: 10, 4: 58}",
         null,
         null,
         null,
         null,
         "1534.415"
        ],
        [
         "3",
         "2011-2014",
         "6",
         "0.000",
         "6",
         "{0: 140, 1: 307, 2: 204, 3: 85, 4: 35, 5: 95}",
         null,
         null,
         null,
         null,
         "1263.86"
        ],
        [
         "4",
         "2011-2014",
         "7",
         "0.000",
         "7",
         "{0: 336, 1: 117, 2: 254, 3: 13, 4: 8, 5: 37, 6: 101}",
         null,
         null,
         null,
         null,
         "1362.928"
        ]
       ],
       "shape": {
        "columns": 10,
        "rows": 5
       }
      },
      "text/html": [
       "<div>\n",
       "<style scoped>\n",
       "    .dataframe tbody tr th:only-of-type {\n",
       "        vertical-align: middle;\n",
       "    }\n",
       "\n",
       "    .dataframe tbody tr th {\n",
       "        vertical-align: top;\n",
       "    }\n",
       "\n",
       "    .dataframe thead th {\n",
       "        text-align: right;\n",
       "    }\n",
       "</style>\n",
       "<table border=\"1\" class=\"dataframe\">\n",
       "  <thead>\n",
       "    <tr style=\"text-align: right;\">\n",
       "      <th></th>\n",
       "      <th>Year Range</th>\n",
       "      <th>k</th>\n",
       "      <th>Runtime (s)</th>\n",
       "      <th>Clusters</th>\n",
       "      <th>Points per Cluster</th>\n",
       "      <th>Davies-Bouldin</th>\n",
       "      <th>Calinski-Harabasz</th>\n",
       "      <th>Dunn Index</th>\n",
       "      <th>Silhouette Score</th>\n",
       "      <th>Mean ANOVA F</th>\n",
       "    </tr>\n",
       "  </thead>\n",
       "  <tbody>\n",
       "    <tr>\n",
       "      <th>0</th>\n",
       "      <td>2011-2014</td>\n",
       "      <td>3</td>\n",
       "      <td>0.002</td>\n",
       "      <td>3</td>\n",
       "      <td>{0: 40, 1: 233, 2: 593}</td>\n",
       "      <td>None</td>\n",
       "      <td>None</td>\n",
       "      <td>None</td>\n",
       "      <td>None</td>\n",
       "      <td>2714.846</td>\n",
       "    </tr>\n",
       "    <tr>\n",
       "      <th>1</th>\n",
       "      <td>2011-2014</td>\n",
       "      <td>4</td>\n",
       "      <td>0.000</td>\n",
       "      <td>4</td>\n",
       "      <td>{0: 288, 1: 143, 2: 97, 3: 338}</td>\n",
       "      <td>None</td>\n",
       "      <td>None</td>\n",
       "      <td>None</td>\n",
       "      <td>None</td>\n",
       "      <td>1968.106</td>\n",
       "    </tr>\n",
       "    <tr>\n",
       "      <th>2</th>\n",
       "      <td>2011-2014</td>\n",
       "      <td>5</td>\n",
       "      <td>0.002</td>\n",
       "      <td>5</td>\n",
       "      <td>{0: 115, 1: 624, 2: 59, 3: 10, 4: 58}</td>\n",
       "      <td>None</td>\n",
       "      <td>None</td>\n",
       "      <td>None</td>\n",
       "      <td>None</td>\n",
       "      <td>1534.415</td>\n",
       "    </tr>\n",
       "    <tr>\n",
       "      <th>3</th>\n",
       "      <td>2011-2014</td>\n",
       "      <td>6</td>\n",
       "      <td>0.000</td>\n",
       "      <td>6</td>\n",
       "      <td>{0: 140, 1: 307, 2: 204, 3: 85, 4: 35, 5: 95}</td>\n",
       "      <td>None</td>\n",
       "      <td>None</td>\n",
       "      <td>None</td>\n",
       "      <td>None</td>\n",
       "      <td>1263.860</td>\n",
       "    </tr>\n",
       "    <tr>\n",
       "      <th>4</th>\n",
       "      <td>2011-2014</td>\n",
       "      <td>7</td>\n",
       "      <td>0.000</td>\n",
       "      <td>7</td>\n",
       "      <td>{0: 336, 1: 117, 2: 254, 3: 13, 4: 8, 5: 37, 6...</td>\n",
       "      <td>None</td>\n",
       "      <td>None</td>\n",
       "      <td>None</td>\n",
       "      <td>None</td>\n",
       "      <td>1362.928</td>\n",
       "    </tr>\n",
       "  </tbody>\n",
       "</table>\n",
       "</div>"
      ],
      "text/plain": [
       "  Year Range  k Runtime (s)  Clusters  \\\n",
       "0  2011-2014  3       0.002         3   \n",
       "1  2011-2014  4       0.000         4   \n",
       "2  2011-2014  5       0.002         5   \n",
       "3  2011-2014  6       0.000         6   \n",
       "4  2011-2014  7       0.000         7   \n",
       "\n",
       "                                  Points per Cluster Davies-Bouldin  \\\n",
       "0                            {0: 40, 1: 233, 2: 593}           None   \n",
       "1                    {0: 288, 1: 143, 2: 97, 3: 338}           None   \n",
       "2              {0: 115, 1: 624, 2: 59, 3: 10, 4: 58}           None   \n",
       "3      {0: 140, 1: 307, 2: 204, 3: 85, 4: 35, 5: 95}           None   \n",
       "4  {0: 336, 1: 117, 2: 254, 3: 13, 4: 8, 5: 37, 6...           None   \n",
       "\n",
       "  Calinski-Harabasz Dunn Index Silhouette Score  Mean ANOVA F  \n",
       "0              None       None             None      2714.846  \n",
       "1              None       None             None      1968.106  \n",
       "2              None       None             None      1534.415  \n",
       "3              None       None             None      1263.860  \n",
       "4              None       None             None      1362.928  "
      ]
     },
     "metadata": {},
     "output_type": "display_data"
    },
    {
     "name": "stdout",
     "output_type": "stream",
     "text": [
      "\n",
      "Running K-Means for Year Range: 2012-2015\n",
      "Runtime for k_means: 0.000000 seconds\n"
     ]
    },
    {
     "name": "stderr",
     "output_type": "stream",
     "text": [
      "c:\\Users\\fionu\\OneDrive\\Dokumente\\Daten Fiona\\AIUB\\Code\\AIUB-Backup\\clustering\\high_dim_analysis.py:138: FutureWarning: \n",
      "\n",
      "Passing `palette` without assigning `hue` is deprecated and will be removed in v0.14.0. Assign the `y` variable to `hue` and set `legend=False` for the same effect.\n",
      "\n",
      "  sns.barplot(x=mi_vals, y=features, palette=\"magma\")\n"
     ]
    },
    {
     "name": "stdout",
     "output_type": "stream",
     "text": [
      "Runtime for k_means: 0.000000 seconds\n"
     ]
    },
    {
     "name": "stderr",
     "output_type": "stream",
     "text": [
      "c:\\Users\\fionu\\OneDrive\\Dokumente\\Daten Fiona\\AIUB\\Code\\AIUB-Backup\\clustering\\high_dim_analysis.py:138: FutureWarning: \n",
      "\n",
      "Passing `palette` without assigning `hue` is deprecated and will be removed in v0.14.0. Assign the `y` variable to `hue` and set `legend=False` for the same effect.\n",
      "\n",
      "  sns.barplot(x=mi_vals, y=features, palette=\"magma\")\n"
     ]
    },
    {
     "name": "stdout",
     "output_type": "stream",
     "text": [
      "Runtime for k_means: 0.001792 seconds\n"
     ]
    },
    {
     "name": "stderr",
     "output_type": "stream",
     "text": [
      "c:\\Users\\fionu\\OneDrive\\Dokumente\\Daten Fiona\\AIUB\\Code\\AIUB-Backup\\clustering\\high_dim_analysis.py:138: FutureWarning: \n",
      "\n",
      "Passing `palette` without assigning `hue` is deprecated and will be removed in v0.14.0. Assign the `y` variable to `hue` and set `legend=False` for the same effect.\n",
      "\n",
      "  sns.barplot(x=mi_vals, y=features, palette=\"magma\")\n"
     ]
    },
    {
     "name": "stdout",
     "output_type": "stream",
     "text": [
      "Runtime for k_means: 0.007235 seconds\n"
     ]
    },
    {
     "name": "stderr",
     "output_type": "stream",
     "text": [
      "c:\\Users\\fionu\\OneDrive\\Dokumente\\Daten Fiona\\AIUB\\Code\\AIUB-Backup\\clustering\\high_dim_analysis.py:138: FutureWarning: \n",
      "\n",
      "Passing `palette` without assigning `hue` is deprecated and will be removed in v0.14.0. Assign the `y` variable to `hue` and set `legend=False` for the same effect.\n",
      "\n",
      "  sns.barplot(x=mi_vals, y=features, palette=\"magma\")\n"
     ]
    },
    {
     "name": "stdout",
     "output_type": "stream",
     "text": [
      "Runtime for k_means: 0.000000 seconds\n"
     ]
    },
    {
     "name": "stderr",
     "output_type": "stream",
     "text": [
      "c:\\Users\\fionu\\OneDrive\\Dokumente\\Daten Fiona\\AIUB\\Code\\AIUB-Backup\\clustering\\high_dim_analysis.py:138: FutureWarning: \n",
      "\n",
      "Passing `palette` without assigning `hue` is deprecated and will be removed in v0.14.0. Assign the `y` variable to `hue` and set `legend=False` for the same effect.\n",
      "\n",
      "  sns.barplot(x=mi_vals, y=features, palette=\"magma\")\n"
     ]
    },
    {
     "name": "stdout",
     "output_type": "stream",
     "text": [
      "Runtime for k_means: 0.000000 seconds\n"
     ]
    },
    {
     "name": "stderr",
     "output_type": "stream",
     "text": [
      "c:\\Users\\fionu\\OneDrive\\Dokumente\\Daten Fiona\\AIUB\\Code\\AIUB-Backup\\clustering\\high_dim_analysis.py:42: FutureWarning: \n",
      "\n",
      "Passing `palette` without assigning `hue` is deprecated and will be removed in v0.14.0. Assign the `y` variable to `hue` and set `legend=False` for the same effect.\n",
      "\n",
      "  sns.barplot(x=f_vals, y=features, palette=\"crest\")\n"
     ]
    },
    {
     "name": "stdout",
     "output_type": "stream",
     "text": [
      "Best KMeans parameters based on ANOVA F-value:\n",
      "Year Range                           2012-2015\n",
      "k                                            3\n",
      "Runtime (s)                              0.000\n",
      "Clusters                                     3\n",
      "Points per Cluster    {0: 189, 1: 574, 2: 107}\n",
      "Davies-Bouldin                            None\n",
      "Calinski-Harabasz                         None\n",
      "Dunn Index                                None\n",
      "Silhouette Score                          None\n",
      "Mean ANOVA F                          2986.013\n",
      "Name: 0, dtype: object\n"
     ]
    },
    {
     "data": {
      "application/vnd.microsoft.datawrangler.viewer.v0+json": {
       "columns": [
        {
         "name": "index",
         "rawType": "int64",
         "type": "integer"
        },
        {
         "name": "Year Range",
         "rawType": "object",
         "type": "string"
        },
        {
         "name": "k",
         "rawType": "int64",
         "type": "integer"
        },
        {
         "name": "Runtime (s)",
         "rawType": "object",
         "type": "string"
        },
        {
         "name": "Clusters",
         "rawType": "int64",
         "type": "integer"
        },
        {
         "name": "Points per Cluster",
         "rawType": "object",
         "type": "unknown"
        },
        {
         "name": "Davies-Bouldin",
         "rawType": "object",
         "type": "unknown"
        },
        {
         "name": "Calinski-Harabasz",
         "rawType": "object",
         "type": "unknown"
        },
        {
         "name": "Dunn Index",
         "rawType": "object",
         "type": "unknown"
        },
        {
         "name": "Silhouette Score",
         "rawType": "object",
         "type": "unknown"
        },
        {
         "name": "Mean ANOVA F",
         "rawType": "float64",
         "type": "float"
        }
       ],
       "ref": "bba8e170-8004-4200-b239-c8a59b7ba52e",
       "rows": [
        [
         "0",
         "2012-2015",
         "3",
         "0.000",
         "3",
         "{0: 189, 1: 574, 2: 107}",
         null,
         null,
         null,
         null,
         "2986.013"
        ],
        [
         "1",
         "2012-2015",
         "4",
         "0.000",
         "4",
         "{0: 308, 1: 190, 2: 267, 3: 105}",
         null,
         null,
         null,
         null,
         "2080.491"
        ],
        [
         "2",
         "2012-2015",
         "5",
         "0.002",
         "5",
         "{0: 266, 1: 145, 2: 109, 3: 42, 4: 308}",
         null,
         null,
         null,
         null,
         "1682.092"
        ],
        [
         "3",
         "2012-2015",
         "6",
         "0.007",
         "6",
         "{0: 248, 1: 186, 2: 107, 3: 104, 4: 83, 5: 142}",
         null,
         null,
         null,
         null,
         "1309.22"
        ],
        [
         "4",
         "2012-2015",
         "7",
         "0.000",
         "7",
         "{0: 110, 1: 198, 2: 71, 3: 99, 4: 294, 5: 16, 6: 82}",
         null,
         null,
         null,
         null,
         "1305.484"
        ]
       ],
       "shape": {
        "columns": 10,
        "rows": 5
       }
      },
      "text/html": [
       "<div>\n",
       "<style scoped>\n",
       "    .dataframe tbody tr th:only-of-type {\n",
       "        vertical-align: middle;\n",
       "    }\n",
       "\n",
       "    .dataframe tbody tr th {\n",
       "        vertical-align: top;\n",
       "    }\n",
       "\n",
       "    .dataframe thead th {\n",
       "        text-align: right;\n",
       "    }\n",
       "</style>\n",
       "<table border=\"1\" class=\"dataframe\">\n",
       "  <thead>\n",
       "    <tr style=\"text-align: right;\">\n",
       "      <th></th>\n",
       "      <th>Year Range</th>\n",
       "      <th>k</th>\n",
       "      <th>Runtime (s)</th>\n",
       "      <th>Clusters</th>\n",
       "      <th>Points per Cluster</th>\n",
       "      <th>Davies-Bouldin</th>\n",
       "      <th>Calinski-Harabasz</th>\n",
       "      <th>Dunn Index</th>\n",
       "      <th>Silhouette Score</th>\n",
       "      <th>Mean ANOVA F</th>\n",
       "    </tr>\n",
       "  </thead>\n",
       "  <tbody>\n",
       "    <tr>\n",
       "      <th>0</th>\n",
       "      <td>2012-2015</td>\n",
       "      <td>3</td>\n",
       "      <td>0.000</td>\n",
       "      <td>3</td>\n",
       "      <td>{0: 189, 1: 574, 2: 107}</td>\n",
       "      <td>None</td>\n",
       "      <td>None</td>\n",
       "      <td>None</td>\n",
       "      <td>None</td>\n",
       "      <td>2986.013</td>\n",
       "    </tr>\n",
       "    <tr>\n",
       "      <th>1</th>\n",
       "      <td>2012-2015</td>\n",
       "      <td>4</td>\n",
       "      <td>0.000</td>\n",
       "      <td>4</td>\n",
       "      <td>{0: 308, 1: 190, 2: 267, 3: 105}</td>\n",
       "      <td>None</td>\n",
       "      <td>None</td>\n",
       "      <td>None</td>\n",
       "      <td>None</td>\n",
       "      <td>2080.491</td>\n",
       "    </tr>\n",
       "    <tr>\n",
       "      <th>2</th>\n",
       "      <td>2012-2015</td>\n",
       "      <td>5</td>\n",
       "      <td>0.002</td>\n",
       "      <td>5</td>\n",
       "      <td>{0: 266, 1: 145, 2: 109, 3: 42, 4: 308}</td>\n",
       "      <td>None</td>\n",
       "      <td>None</td>\n",
       "      <td>None</td>\n",
       "      <td>None</td>\n",
       "      <td>1682.092</td>\n",
       "    </tr>\n",
       "    <tr>\n",
       "      <th>3</th>\n",
       "      <td>2012-2015</td>\n",
       "      <td>6</td>\n",
       "      <td>0.007</td>\n",
       "      <td>6</td>\n",
       "      <td>{0: 248, 1: 186, 2: 107, 3: 104, 4: 83, 5: 142}</td>\n",
       "      <td>None</td>\n",
       "      <td>None</td>\n",
       "      <td>None</td>\n",
       "      <td>None</td>\n",
       "      <td>1309.220</td>\n",
       "    </tr>\n",
       "    <tr>\n",
       "      <th>4</th>\n",
       "      <td>2012-2015</td>\n",
       "      <td>7</td>\n",
       "      <td>0.000</td>\n",
       "      <td>7</td>\n",
       "      <td>{0: 110, 1: 198, 2: 71, 3: 99, 4: 294, 5: 16, ...</td>\n",
       "      <td>None</td>\n",
       "      <td>None</td>\n",
       "      <td>None</td>\n",
       "      <td>None</td>\n",
       "      <td>1305.484</td>\n",
       "    </tr>\n",
       "  </tbody>\n",
       "</table>\n",
       "</div>"
      ],
      "text/plain": [
       "  Year Range  k Runtime (s)  Clusters  \\\n",
       "0  2012-2015  3       0.000         3   \n",
       "1  2012-2015  4       0.000         4   \n",
       "2  2012-2015  5       0.002         5   \n",
       "3  2012-2015  6       0.007         6   \n",
       "4  2012-2015  7       0.000         7   \n",
       "\n",
       "                                  Points per Cluster Davies-Bouldin  \\\n",
       "0                           {0: 189, 1: 574, 2: 107}           None   \n",
       "1                   {0: 308, 1: 190, 2: 267, 3: 105}           None   \n",
       "2            {0: 266, 1: 145, 2: 109, 3: 42, 4: 308}           None   \n",
       "3    {0: 248, 1: 186, 2: 107, 3: 104, 4: 83, 5: 142}           None   \n",
       "4  {0: 110, 1: 198, 2: 71, 3: 99, 4: 294, 5: 16, ...           None   \n",
       "\n",
       "  Calinski-Harabasz Dunn Index Silhouette Score  Mean ANOVA F  \n",
       "0              None       None             None      2986.013  \n",
       "1              None       None             None      2080.491  \n",
       "2              None       None             None      1682.092  \n",
       "3              None       None             None      1309.220  \n",
       "4              None       None             None      1305.484  "
      ]
     },
     "metadata": {},
     "output_type": "display_data"
    },
    {
     "name": "stdout",
     "output_type": "stream",
     "text": [
      "\n",
      "Running K-Means for Year Range: 2013-2016\n",
      "Runtime for k_means: 0.000000 seconds\n"
     ]
    },
    {
     "name": "stderr",
     "output_type": "stream",
     "text": [
      "c:\\Users\\fionu\\OneDrive\\Dokumente\\Daten Fiona\\AIUB\\Code\\AIUB-Backup\\clustering\\high_dim_analysis.py:138: FutureWarning: \n",
      "\n",
      "Passing `palette` without assigning `hue` is deprecated and will be removed in v0.14.0. Assign the `y` variable to `hue` and set `legend=False` for the same effect.\n",
      "\n",
      "  sns.barplot(x=mi_vals, y=features, palette=\"magma\")\n"
     ]
    },
    {
     "name": "stdout",
     "output_type": "stream",
     "text": [
      "Runtime for k_means: 0.000000 seconds\n"
     ]
    },
    {
     "name": "stderr",
     "output_type": "stream",
     "text": [
      "c:\\Users\\fionu\\OneDrive\\Dokumente\\Daten Fiona\\AIUB\\Code\\AIUB-Backup\\clustering\\high_dim_analysis.py:138: FutureWarning: \n",
      "\n",
      "Passing `palette` without assigning `hue` is deprecated and will be removed in v0.14.0. Assign the `y` variable to `hue` and set `legend=False` for the same effect.\n",
      "\n",
      "  sns.barplot(x=mi_vals, y=features, palette=\"magma\")\n"
     ]
    },
    {
     "name": "stdout",
     "output_type": "stream",
     "text": [
      "Runtime for k_means: 0.008265 seconds\n"
     ]
    },
    {
     "name": "stderr",
     "output_type": "stream",
     "text": [
      "c:\\Users\\fionu\\OneDrive\\Dokumente\\Daten Fiona\\AIUB\\Code\\AIUB-Backup\\clustering\\high_dim_analysis.py:138: FutureWarning: \n",
      "\n",
      "Passing `palette` without assigning `hue` is deprecated and will be removed in v0.14.0. Assign the `y` variable to `hue` and set `legend=False` for the same effect.\n",
      "\n",
      "  sns.barplot(x=mi_vals, y=features, palette=\"magma\")\n"
     ]
    },
    {
     "name": "stdout",
     "output_type": "stream",
     "text": [
      "Runtime for k_means: 0.011852 seconds\n"
     ]
    },
    {
     "name": "stderr",
     "output_type": "stream",
     "text": [
      "c:\\Users\\fionu\\OneDrive\\Dokumente\\Daten Fiona\\AIUB\\Code\\AIUB-Backup\\clustering\\high_dim_analysis.py:138: FutureWarning: \n",
      "\n",
      "Passing `palette` without assigning `hue` is deprecated and will be removed in v0.14.0. Assign the `y` variable to `hue` and set `legend=False` for the same effect.\n",
      "\n",
      "  sns.barplot(x=mi_vals, y=features, palette=\"magma\")\n"
     ]
    },
    {
     "name": "stdout",
     "output_type": "stream",
     "text": [
      "Runtime for k_means: 0.002202 seconds\n"
     ]
    },
    {
     "name": "stderr",
     "output_type": "stream",
     "text": [
      "c:\\Users\\fionu\\OneDrive\\Dokumente\\Daten Fiona\\AIUB\\Code\\AIUB-Backup\\clustering\\high_dim_analysis.py:138: FutureWarning: \n",
      "\n",
      "Passing `palette` without assigning `hue` is deprecated and will be removed in v0.14.0. Assign the `y` variable to `hue` and set `legend=False` for the same effect.\n",
      "\n",
      "  sns.barplot(x=mi_vals, y=features, palette=\"magma\")\n"
     ]
    },
    {
     "name": "stdout",
     "output_type": "stream",
     "text": [
      "Runtime for k_means: 0.004779 seconds\n"
     ]
    },
    {
     "name": "stderr",
     "output_type": "stream",
     "text": [
      "c:\\Users\\fionu\\OneDrive\\Dokumente\\Daten Fiona\\AIUB\\Code\\AIUB-Backup\\clustering\\high_dim_analysis.py:42: FutureWarning: \n",
      "\n",
      "Passing `palette` without assigning `hue` is deprecated and will be removed in v0.14.0. Assign the `y` variable to `hue` and set `legend=False` for the same effect.\n",
      "\n",
      "  sns.barplot(x=f_vals, y=features, palette=\"crest\")\n"
     ]
    },
    {
     "name": "stdout",
     "output_type": "stream",
     "text": [
      "Best KMeans parameters based on ANOVA F-value:\n",
      "Year Range                                           2013-2016\n",
      "k                                                            5\n",
      "Runtime (s)                                              0.008\n",
      "Clusters                                                     5\n",
      "Points per Cluster    {0: 660, 1: 218, 2: 176, 3: 119, 4: 154}\n",
      "Davies-Bouldin                                            None\n",
      "Calinski-Harabasz                                         None\n",
      "Dunn Index                                                None\n",
      "Silhouette Score                                          None\n",
      "Mean ANOVA F                                          3404.994\n",
      "Name: 2, dtype: object\n"
     ]
    },
    {
     "data": {
      "application/vnd.microsoft.datawrangler.viewer.v0+json": {
       "columns": [
        {
         "name": "index",
         "rawType": "int64",
         "type": "integer"
        },
        {
         "name": "Year Range",
         "rawType": "object",
         "type": "string"
        },
        {
         "name": "k",
         "rawType": "int64",
         "type": "integer"
        },
        {
         "name": "Runtime (s)",
         "rawType": "object",
         "type": "string"
        },
        {
         "name": "Clusters",
         "rawType": "int64",
         "type": "integer"
        },
        {
         "name": "Points per Cluster",
         "rawType": "object",
         "type": "unknown"
        },
        {
         "name": "Davies-Bouldin",
         "rawType": "object",
         "type": "unknown"
        },
        {
         "name": "Calinski-Harabasz",
         "rawType": "object",
         "type": "unknown"
        },
        {
         "name": "Dunn Index",
         "rawType": "object",
         "type": "unknown"
        },
        {
         "name": "Silhouette Score",
         "rawType": "object",
         "type": "unknown"
        },
        {
         "name": "Mean ANOVA F",
         "rawType": "float64",
         "type": "float"
        }
       ],
       "ref": "1c0052ea-4c0f-4e98-bf71-9d4df80e30bd",
       "rows": [
        [
         "0",
         "2013-2016",
         "3",
         "0.000",
         "3",
         "{0: 178, 1: 788, 2: 361}",
         null,
         null,
         null,
         null,
         "2532.903"
        ],
        [
         "1",
         "2013-2016",
         "4",
         "0.000",
         "4",
         "{0: 662, 1: 349, 2: 189, 3: 127}",
         null,
         null,
         null,
         null,
         "1833.534"
        ],
        [
         "2",
         "2013-2016",
         "5",
         "0.008",
         "5",
         "{0: 660, 1: 218, 2: 176, 3: 119, 4: 154}",
         null,
         null,
         null,
         null,
         "3404.994"
        ],
        [
         "3",
         "2013-2016",
         "6",
         "0.012",
         "6",
         "{0: 448, 1: 210, 2: 176, 3: 20, 4: 146, 5: 327}",
         null,
         null,
         null,
         null,
         "2711.023"
        ],
        [
         "4",
         "2013-2016",
         "7",
         "0.002",
         "7",
         "{0: 118, 1: 91, 2: 335, 3: 123, 4: 161, 5: 172, 6: 327}",
         null,
         null,
         null,
         null,
         "2558.309"
        ]
       ],
       "shape": {
        "columns": 10,
        "rows": 5
       }
      },
      "text/html": [
       "<div>\n",
       "<style scoped>\n",
       "    .dataframe tbody tr th:only-of-type {\n",
       "        vertical-align: middle;\n",
       "    }\n",
       "\n",
       "    .dataframe tbody tr th {\n",
       "        vertical-align: top;\n",
       "    }\n",
       "\n",
       "    .dataframe thead th {\n",
       "        text-align: right;\n",
       "    }\n",
       "</style>\n",
       "<table border=\"1\" class=\"dataframe\">\n",
       "  <thead>\n",
       "    <tr style=\"text-align: right;\">\n",
       "      <th></th>\n",
       "      <th>Year Range</th>\n",
       "      <th>k</th>\n",
       "      <th>Runtime (s)</th>\n",
       "      <th>Clusters</th>\n",
       "      <th>Points per Cluster</th>\n",
       "      <th>Davies-Bouldin</th>\n",
       "      <th>Calinski-Harabasz</th>\n",
       "      <th>Dunn Index</th>\n",
       "      <th>Silhouette Score</th>\n",
       "      <th>Mean ANOVA F</th>\n",
       "    </tr>\n",
       "  </thead>\n",
       "  <tbody>\n",
       "    <tr>\n",
       "      <th>0</th>\n",
       "      <td>2013-2016</td>\n",
       "      <td>3</td>\n",
       "      <td>0.000</td>\n",
       "      <td>3</td>\n",
       "      <td>{0: 178, 1: 788, 2: 361}</td>\n",
       "      <td>None</td>\n",
       "      <td>None</td>\n",
       "      <td>None</td>\n",
       "      <td>None</td>\n",
       "      <td>2532.903</td>\n",
       "    </tr>\n",
       "    <tr>\n",
       "      <th>1</th>\n",
       "      <td>2013-2016</td>\n",
       "      <td>4</td>\n",
       "      <td>0.000</td>\n",
       "      <td>4</td>\n",
       "      <td>{0: 662, 1: 349, 2: 189, 3: 127}</td>\n",
       "      <td>None</td>\n",
       "      <td>None</td>\n",
       "      <td>None</td>\n",
       "      <td>None</td>\n",
       "      <td>1833.534</td>\n",
       "    </tr>\n",
       "    <tr>\n",
       "      <th>2</th>\n",
       "      <td>2013-2016</td>\n",
       "      <td>5</td>\n",
       "      <td>0.008</td>\n",
       "      <td>5</td>\n",
       "      <td>{0: 660, 1: 218, 2: 176, 3: 119, 4: 154}</td>\n",
       "      <td>None</td>\n",
       "      <td>None</td>\n",
       "      <td>None</td>\n",
       "      <td>None</td>\n",
       "      <td>3404.994</td>\n",
       "    </tr>\n",
       "    <tr>\n",
       "      <th>3</th>\n",
       "      <td>2013-2016</td>\n",
       "      <td>6</td>\n",
       "      <td>0.012</td>\n",
       "      <td>6</td>\n",
       "      <td>{0: 448, 1: 210, 2: 176, 3: 20, 4: 146, 5: 327}</td>\n",
       "      <td>None</td>\n",
       "      <td>None</td>\n",
       "      <td>None</td>\n",
       "      <td>None</td>\n",
       "      <td>2711.023</td>\n",
       "    </tr>\n",
       "    <tr>\n",
       "      <th>4</th>\n",
       "      <td>2013-2016</td>\n",
       "      <td>7</td>\n",
       "      <td>0.002</td>\n",
       "      <td>7</td>\n",
       "      <td>{0: 118, 1: 91, 2: 335, 3: 123, 4: 161, 5: 172...</td>\n",
       "      <td>None</td>\n",
       "      <td>None</td>\n",
       "      <td>None</td>\n",
       "      <td>None</td>\n",
       "      <td>2558.309</td>\n",
       "    </tr>\n",
       "  </tbody>\n",
       "</table>\n",
       "</div>"
      ],
      "text/plain": [
       "  Year Range  k Runtime (s)  Clusters  \\\n",
       "0  2013-2016  3       0.000         3   \n",
       "1  2013-2016  4       0.000         4   \n",
       "2  2013-2016  5       0.008         5   \n",
       "3  2013-2016  6       0.012         6   \n",
       "4  2013-2016  7       0.002         7   \n",
       "\n",
       "                                  Points per Cluster Davies-Bouldin  \\\n",
       "0                           {0: 178, 1: 788, 2: 361}           None   \n",
       "1                   {0: 662, 1: 349, 2: 189, 3: 127}           None   \n",
       "2           {0: 660, 1: 218, 2: 176, 3: 119, 4: 154}           None   \n",
       "3    {0: 448, 1: 210, 2: 176, 3: 20, 4: 146, 5: 327}           None   \n",
       "4  {0: 118, 1: 91, 2: 335, 3: 123, 4: 161, 5: 172...           None   \n",
       "\n",
       "  Calinski-Harabasz Dunn Index Silhouette Score  Mean ANOVA F  \n",
       "0              None       None             None      2532.903  \n",
       "1              None       None             None      1833.534  \n",
       "2              None       None             None      3404.994  \n",
       "3              None       None             None      2711.023  \n",
       "4              None       None             None      2558.309  "
      ]
     },
     "metadata": {},
     "output_type": "display_data"
    },
    {
     "name": "stdout",
     "output_type": "stream",
     "text": [
      "\n",
      "Running K-Means for Year Range: 2014-2017\n",
      "Runtime for k_means: 0.015779 seconds\n"
     ]
    },
    {
     "name": "stderr",
     "output_type": "stream",
     "text": [
      "c:\\Users\\fionu\\OneDrive\\Dokumente\\Daten Fiona\\AIUB\\Code\\AIUB-Backup\\clustering\\high_dim_analysis.py:138: FutureWarning: \n",
      "\n",
      "Passing `palette` without assigning `hue` is deprecated and will be removed in v0.14.0. Assign the `y` variable to `hue` and set `legend=False` for the same effect.\n",
      "\n",
      "  sns.barplot(x=mi_vals, y=features, palette=\"magma\")\n"
     ]
    },
    {
     "name": "stdout",
     "output_type": "stream",
     "text": [
      "Runtime for k_means: 0.000000 seconds\n"
     ]
    },
    {
     "name": "stderr",
     "output_type": "stream",
     "text": [
      "c:\\Users\\fionu\\OneDrive\\Dokumente\\Daten Fiona\\AIUB\\Code\\AIUB-Backup\\clustering\\high_dim_analysis.py:138: FutureWarning: \n",
      "\n",
      "Passing `palette` without assigning `hue` is deprecated and will be removed in v0.14.0. Assign the `y` variable to `hue` and set `legend=False` for the same effect.\n",
      "\n",
      "  sns.barplot(x=mi_vals, y=features, palette=\"magma\")\n"
     ]
    },
    {
     "name": "stdout",
     "output_type": "stream",
     "text": [
      "Runtime for k_means: 0.003346 seconds\n"
     ]
    },
    {
     "name": "stderr",
     "output_type": "stream",
     "text": [
      "c:\\Users\\fionu\\OneDrive\\Dokumente\\Daten Fiona\\AIUB\\Code\\AIUB-Backup\\clustering\\high_dim_analysis.py:138: FutureWarning: \n",
      "\n",
      "Passing `palette` without assigning `hue` is deprecated and will be removed in v0.14.0. Assign the `y` variable to `hue` and set `legend=False` for the same effect.\n",
      "\n",
      "  sns.barplot(x=mi_vals, y=features, palette=\"magma\")\n"
     ]
    },
    {
     "name": "stdout",
     "output_type": "stream",
     "text": [
      "Runtime for k_means: 0.015174 seconds\n"
     ]
    },
    {
     "name": "stderr",
     "output_type": "stream",
     "text": [
      "c:\\Users\\fionu\\OneDrive\\Dokumente\\Daten Fiona\\AIUB\\Code\\AIUB-Backup\\clustering\\high_dim_analysis.py:138: FutureWarning: \n",
      "\n",
      "Passing `palette` without assigning `hue` is deprecated and will be removed in v0.14.0. Assign the `y` variable to `hue` and set `legend=False` for the same effect.\n",
      "\n",
      "  sns.barplot(x=mi_vals, y=features, palette=\"magma\")\n"
     ]
    },
    {
     "name": "stdout",
     "output_type": "stream",
     "text": [
      "Runtime for k_means: 0.006001 seconds\n"
     ]
    },
    {
     "name": "stderr",
     "output_type": "stream",
     "text": [
      "c:\\Users\\fionu\\OneDrive\\Dokumente\\Daten Fiona\\AIUB\\Code\\AIUB-Backup\\clustering\\high_dim_analysis.py:138: FutureWarning: \n",
      "\n",
      "Passing `palette` without assigning `hue` is deprecated and will be removed in v0.14.0. Assign the `y` variable to `hue` and set `legend=False` for the same effect.\n",
      "\n",
      "  sns.barplot(x=mi_vals, y=features, palette=\"magma\")\n"
     ]
    },
    {
     "name": "stdout",
     "output_type": "stream",
     "text": [
      "Runtime for k_means: 0.010134 seconds\n"
     ]
    },
    {
     "name": "stderr",
     "output_type": "stream",
     "text": [
      "c:\\Users\\fionu\\OneDrive\\Dokumente\\Daten Fiona\\AIUB\\Code\\AIUB-Backup\\clustering\\high_dim_analysis.py:42: FutureWarning: \n",
      "\n",
      "Passing `palette` without assigning `hue` is deprecated and will be removed in v0.14.0. Assign the `y` variable to `hue` and set `legend=False` for the same effect.\n",
      "\n",
      "  sns.barplot(x=f_vals, y=features, palette=\"crest\")\n"
     ]
    },
    {
     "name": "stdout",
     "output_type": "stream",
     "text": [
      "Best KMeans parameters based on ANOVA F-value:\n",
      "Year Range                                    2014-2017\n",
      "k                                                     4\n",
      "Runtime (s)                                       0.000\n",
      "Clusters                                              4\n",
      "Points per Cluster    {0: 315, 1: 1060, 2: 297, 3: 225}\n",
      "Davies-Bouldin                                     None\n",
      "Calinski-Harabasz                                  None\n",
      "Dunn Index                                         None\n",
      "Silhouette Score                                   None\n",
      "Mean ANOVA F                                   5979.537\n",
      "Name: 1, dtype: object\n"
     ]
    },
    {
     "data": {
      "application/vnd.microsoft.datawrangler.viewer.v0+json": {
       "columns": [
        {
         "name": "index",
         "rawType": "int64",
         "type": "integer"
        },
        {
         "name": "Year Range",
         "rawType": "object",
         "type": "string"
        },
        {
         "name": "k",
         "rawType": "int64",
         "type": "integer"
        },
        {
         "name": "Runtime (s)",
         "rawType": "object",
         "type": "string"
        },
        {
         "name": "Clusters",
         "rawType": "int64",
         "type": "integer"
        },
        {
         "name": "Points per Cluster",
         "rawType": "object",
         "type": "unknown"
        },
        {
         "name": "Davies-Bouldin",
         "rawType": "object",
         "type": "unknown"
        },
        {
         "name": "Calinski-Harabasz",
         "rawType": "object",
         "type": "unknown"
        },
        {
         "name": "Dunn Index",
         "rawType": "object",
         "type": "unknown"
        },
        {
         "name": "Silhouette Score",
         "rawType": "object",
         "type": "unknown"
        },
        {
         "name": "Mean ANOVA F",
         "rawType": "float64",
         "type": "float"
        }
       ],
       "ref": "3c06c5dd-e1fd-4dcc-bc88-0848ffb28113",
       "rows": [
        [
         "0",
         "2014-2017",
         "3",
         "0.016",
         "3",
         "{0: 1078, 1: 495, 2: 324}",
         null,
         null,
         null,
         null,
         "3531.629"
        ],
        [
         "1",
         "2014-2017",
         "4",
         "0.000",
         "4",
         "{0: 315, 1: 1060, 2: 297, 3: 225}",
         null,
         null,
         null,
         null,
         "5979.537"
        ],
        [
         "2",
         "2014-2017",
         "5",
         "0.003",
         "5",
         "{0: 229, 1: 360, 2: 509, 3: 313, 4: 486}",
         null,
         null,
         null,
         null,
         "3472.558"
        ],
        [
         "3",
         "2014-2017",
         "6",
         "0.015",
         "6",
         "{0: 315, 1: 480, 2: 225, 3: 229, 4: 359, 5: 289}",
         null,
         null,
         null,
         null,
         "3938.594"
        ],
        [
         "4",
         "2014-2017",
         "7",
         "0.006",
         "7",
         "{0: 529, 1: 281, 2: 241, 3: 165, 4: 106, 5: 537, 6: 38}",
         null,
         null,
         null,
         null,
         "4556.398"
        ]
       ],
       "shape": {
        "columns": 10,
        "rows": 5
       }
      },
      "text/html": [
       "<div>\n",
       "<style scoped>\n",
       "    .dataframe tbody tr th:only-of-type {\n",
       "        vertical-align: middle;\n",
       "    }\n",
       "\n",
       "    .dataframe tbody tr th {\n",
       "        vertical-align: top;\n",
       "    }\n",
       "\n",
       "    .dataframe thead th {\n",
       "        text-align: right;\n",
       "    }\n",
       "</style>\n",
       "<table border=\"1\" class=\"dataframe\">\n",
       "  <thead>\n",
       "    <tr style=\"text-align: right;\">\n",
       "      <th></th>\n",
       "      <th>Year Range</th>\n",
       "      <th>k</th>\n",
       "      <th>Runtime (s)</th>\n",
       "      <th>Clusters</th>\n",
       "      <th>Points per Cluster</th>\n",
       "      <th>Davies-Bouldin</th>\n",
       "      <th>Calinski-Harabasz</th>\n",
       "      <th>Dunn Index</th>\n",
       "      <th>Silhouette Score</th>\n",
       "      <th>Mean ANOVA F</th>\n",
       "    </tr>\n",
       "  </thead>\n",
       "  <tbody>\n",
       "    <tr>\n",
       "      <th>0</th>\n",
       "      <td>2014-2017</td>\n",
       "      <td>3</td>\n",
       "      <td>0.016</td>\n",
       "      <td>3</td>\n",
       "      <td>{0: 1078, 1: 495, 2: 324}</td>\n",
       "      <td>None</td>\n",
       "      <td>None</td>\n",
       "      <td>None</td>\n",
       "      <td>None</td>\n",
       "      <td>3531.629</td>\n",
       "    </tr>\n",
       "    <tr>\n",
       "      <th>1</th>\n",
       "      <td>2014-2017</td>\n",
       "      <td>4</td>\n",
       "      <td>0.000</td>\n",
       "      <td>4</td>\n",
       "      <td>{0: 315, 1: 1060, 2: 297, 3: 225}</td>\n",
       "      <td>None</td>\n",
       "      <td>None</td>\n",
       "      <td>None</td>\n",
       "      <td>None</td>\n",
       "      <td>5979.537</td>\n",
       "    </tr>\n",
       "    <tr>\n",
       "      <th>2</th>\n",
       "      <td>2014-2017</td>\n",
       "      <td>5</td>\n",
       "      <td>0.003</td>\n",
       "      <td>5</td>\n",
       "      <td>{0: 229, 1: 360, 2: 509, 3: 313, 4: 486}</td>\n",
       "      <td>None</td>\n",
       "      <td>None</td>\n",
       "      <td>None</td>\n",
       "      <td>None</td>\n",
       "      <td>3472.558</td>\n",
       "    </tr>\n",
       "    <tr>\n",
       "      <th>3</th>\n",
       "      <td>2014-2017</td>\n",
       "      <td>6</td>\n",
       "      <td>0.015</td>\n",
       "      <td>6</td>\n",
       "      <td>{0: 315, 1: 480, 2: 225, 3: 229, 4: 359, 5: 289}</td>\n",
       "      <td>None</td>\n",
       "      <td>None</td>\n",
       "      <td>None</td>\n",
       "      <td>None</td>\n",
       "      <td>3938.594</td>\n",
       "    </tr>\n",
       "    <tr>\n",
       "      <th>4</th>\n",
       "      <td>2014-2017</td>\n",
       "      <td>7</td>\n",
       "      <td>0.006</td>\n",
       "      <td>7</td>\n",
       "      <td>{0: 529, 1: 281, 2: 241, 3: 165, 4: 106, 5: 53...</td>\n",
       "      <td>None</td>\n",
       "      <td>None</td>\n",
       "      <td>None</td>\n",
       "      <td>None</td>\n",
       "      <td>4556.398</td>\n",
       "    </tr>\n",
       "  </tbody>\n",
       "</table>\n",
       "</div>"
      ],
      "text/plain": [
       "  Year Range  k Runtime (s)  Clusters  \\\n",
       "0  2014-2017  3       0.016         3   \n",
       "1  2014-2017  4       0.000         4   \n",
       "2  2014-2017  5       0.003         5   \n",
       "3  2014-2017  6       0.015         6   \n",
       "4  2014-2017  7       0.006         7   \n",
       "\n",
       "                                  Points per Cluster Davies-Bouldin  \\\n",
       "0                          {0: 1078, 1: 495, 2: 324}           None   \n",
       "1                  {0: 315, 1: 1060, 2: 297, 3: 225}           None   \n",
       "2           {0: 229, 1: 360, 2: 509, 3: 313, 4: 486}           None   \n",
       "3   {0: 315, 1: 480, 2: 225, 3: 229, 4: 359, 5: 289}           None   \n",
       "4  {0: 529, 1: 281, 2: 241, 3: 165, 4: 106, 5: 53...           None   \n",
       "\n",
       "  Calinski-Harabasz Dunn Index Silhouette Score  Mean ANOVA F  \n",
       "0              None       None             None      3531.629  \n",
       "1              None       None             None      5979.537  \n",
       "2              None       None             None      3472.558  \n",
       "3              None       None             None      3938.594  \n",
       "4              None       None             None      4556.398  "
      ]
     },
     "metadata": {},
     "output_type": "display_data"
    },
    {
     "name": "stdout",
     "output_type": "stream",
     "text": [
      "\n",
      "Running K-Means for Year Range: 2015-2018\n",
      "Runtime for k_means: 0.025784 seconds\n"
     ]
    },
    {
     "name": "stderr",
     "output_type": "stream",
     "text": [
      "c:\\Users\\fionu\\OneDrive\\Dokumente\\Daten Fiona\\AIUB\\Code\\AIUB-Backup\\clustering\\high_dim_analysis.py:138: FutureWarning: \n",
      "\n",
      "Passing `palette` without assigning `hue` is deprecated and will be removed in v0.14.0. Assign the `y` variable to `hue` and set `legend=False` for the same effect.\n",
      "\n",
      "  sns.barplot(x=mi_vals, y=features, palette=\"magma\")\n"
     ]
    },
    {
     "name": "stdout",
     "output_type": "stream",
     "text": [
      "Runtime for k_means: 0.000000 seconds\n"
     ]
    },
    {
     "name": "stderr",
     "output_type": "stream",
     "text": [
      "c:\\Users\\fionu\\OneDrive\\Dokumente\\Daten Fiona\\AIUB\\Code\\AIUB-Backup\\clustering\\high_dim_analysis.py:138: FutureWarning: \n",
      "\n",
      "Passing `palette` without assigning `hue` is deprecated and will be removed in v0.14.0. Assign the `y` variable to `hue` and set `legend=False` for the same effect.\n",
      "\n",
      "  sns.barplot(x=mi_vals, y=features, palette=\"magma\")\n"
     ]
    },
    {
     "name": "stdout",
     "output_type": "stream",
     "text": [
      "Runtime for k_means: 0.009998 seconds\n"
     ]
    },
    {
     "name": "stderr",
     "output_type": "stream",
     "text": [
      "c:\\Users\\fionu\\OneDrive\\Dokumente\\Daten Fiona\\AIUB\\Code\\AIUB-Backup\\clustering\\high_dim_analysis.py:138: FutureWarning: \n",
      "\n",
      "Passing `palette` without assigning `hue` is deprecated and will be removed in v0.14.0. Assign the `y` variable to `hue` and set `legend=False` for the same effect.\n",
      "\n",
      "  sns.barplot(x=mi_vals, y=features, palette=\"magma\")\n"
     ]
    },
    {
     "name": "stdout",
     "output_type": "stream",
     "text": [
      "Runtime for k_means: 0.016428 seconds\n"
     ]
    },
    {
     "name": "stderr",
     "output_type": "stream",
     "text": [
      "c:\\Users\\fionu\\OneDrive\\Dokumente\\Daten Fiona\\AIUB\\Code\\AIUB-Backup\\clustering\\high_dim_analysis.py:138: FutureWarning: \n",
      "\n",
      "Passing `palette` without assigning `hue` is deprecated and will be removed in v0.14.0. Assign the `y` variable to `hue` and set `legend=False` for the same effect.\n",
      "\n",
      "  sns.barplot(x=mi_vals, y=features, palette=\"magma\")\n"
     ]
    },
    {
     "name": "stdout",
     "output_type": "stream",
     "text": [
      "Runtime for k_means: 0.017011 seconds\n"
     ]
    },
    {
     "name": "stderr",
     "output_type": "stream",
     "text": [
      "c:\\Users\\fionu\\OneDrive\\Dokumente\\Daten Fiona\\AIUB\\Code\\AIUB-Backup\\clustering\\high_dim_analysis.py:138: FutureWarning: \n",
      "\n",
      "Passing `palette` without assigning `hue` is deprecated and will be removed in v0.14.0. Assign the `y` variable to `hue` and set `legend=False` for the same effect.\n",
      "\n",
      "  sns.barplot(x=mi_vals, y=features, palette=\"magma\")\n"
     ]
    },
    {
     "name": "stdout",
     "output_type": "stream",
     "text": [
      "Runtime for k_means: 0.010062 seconds\n"
     ]
    },
    {
     "name": "stderr",
     "output_type": "stream",
     "text": [
      "c:\\Users\\fionu\\OneDrive\\Dokumente\\Daten Fiona\\AIUB\\Code\\AIUB-Backup\\clustering\\high_dim_analysis.py:42: FutureWarning: \n",
      "\n",
      "Passing `palette` without assigning `hue` is deprecated and will be removed in v0.14.0. Assign the `y` variable to `hue` and set `legend=False` for the same effect.\n",
      "\n",
      "  sns.barplot(x=f_vals, y=features, palette=\"crest\")\n"
     ]
    },
    {
     "name": "stdout",
     "output_type": "stream",
     "text": [
      "Best KMeans parameters based on ANOVA F-value:\n",
      "Year Range                            2015-2018\n",
      "k                                             3\n",
      "Runtime (s)                               0.026\n",
      "Clusters                                      3\n",
      "Points per Cluster    {0: 1451, 1: 650, 2: 541}\n",
      "Davies-Bouldin                             None\n",
      "Calinski-Harabasz                          None\n",
      "Dunn Index                                 None\n",
      "Silhouette Score                           None\n",
      "Mean ANOVA F                           10864.19\n",
      "Name: 0, dtype: object\n"
     ]
    },
    {
     "data": {
      "application/vnd.microsoft.datawrangler.viewer.v0+json": {
       "columns": [
        {
         "name": "index",
         "rawType": "int64",
         "type": "integer"
        },
        {
         "name": "Year Range",
         "rawType": "object",
         "type": "string"
        },
        {
         "name": "k",
         "rawType": "int64",
         "type": "integer"
        },
        {
         "name": "Runtime (s)",
         "rawType": "object",
         "type": "string"
        },
        {
         "name": "Clusters",
         "rawType": "int64",
         "type": "integer"
        },
        {
         "name": "Points per Cluster",
         "rawType": "object",
         "type": "unknown"
        },
        {
         "name": "Davies-Bouldin",
         "rawType": "object",
         "type": "unknown"
        },
        {
         "name": "Calinski-Harabasz",
         "rawType": "object",
         "type": "unknown"
        },
        {
         "name": "Dunn Index",
         "rawType": "object",
         "type": "unknown"
        },
        {
         "name": "Silhouette Score",
         "rawType": "object",
         "type": "unknown"
        },
        {
         "name": "Mean ANOVA F",
         "rawType": "float64",
         "type": "float"
        }
       ],
       "ref": "7d9a2462-4e43-45a2-8706-104736a4ffbd",
       "rows": [
        [
         "0",
         "2015-2018",
         "3",
         "0.026",
         "3",
         "{0: 1451, 1: 650, 2: 541}",
         null,
         null,
         null,
         null,
         "10864.19"
        ],
        [
         "1",
         "2015-2018",
         "4",
         "0.000",
         "4",
         "{0: 1170, 1: 431, 2: 762, 3: 279}",
         null,
         null,
         null,
         null,
         "2635.592"
        ],
        [
         "2",
         "2015-2018",
         "5",
         "0.010",
         "5",
         "{0: 270, 1: 652, 2: 759, 3: 429, 4: 532}",
         null,
         null,
         null,
         null,
         "6115.194"
        ],
        [
         "3",
         "2015-2018",
         "6",
         "0.016",
         "6",
         "{0: 296, 1: 191, 2: 1154, 3: 505, 4: 325, 5: 171}",
         null,
         null,
         null,
         null,
         "5991.795"
        ],
        [
         "4",
         "2015-2018",
         "7",
         "0.017",
         "7",
         "{0: 757, 1: 502, 2: 269, 3: 313, 4: 428, 5: 190, 6: 183}",
         null,
         null,
         null,
         null,
         "5311.106"
        ]
       ],
       "shape": {
        "columns": 10,
        "rows": 5
       }
      },
      "text/html": [
       "<div>\n",
       "<style scoped>\n",
       "    .dataframe tbody tr th:only-of-type {\n",
       "        vertical-align: middle;\n",
       "    }\n",
       "\n",
       "    .dataframe tbody tr th {\n",
       "        vertical-align: top;\n",
       "    }\n",
       "\n",
       "    .dataframe thead th {\n",
       "        text-align: right;\n",
       "    }\n",
       "</style>\n",
       "<table border=\"1\" class=\"dataframe\">\n",
       "  <thead>\n",
       "    <tr style=\"text-align: right;\">\n",
       "      <th></th>\n",
       "      <th>Year Range</th>\n",
       "      <th>k</th>\n",
       "      <th>Runtime (s)</th>\n",
       "      <th>Clusters</th>\n",
       "      <th>Points per Cluster</th>\n",
       "      <th>Davies-Bouldin</th>\n",
       "      <th>Calinski-Harabasz</th>\n",
       "      <th>Dunn Index</th>\n",
       "      <th>Silhouette Score</th>\n",
       "      <th>Mean ANOVA F</th>\n",
       "    </tr>\n",
       "  </thead>\n",
       "  <tbody>\n",
       "    <tr>\n",
       "      <th>0</th>\n",
       "      <td>2015-2018</td>\n",
       "      <td>3</td>\n",
       "      <td>0.026</td>\n",
       "      <td>3</td>\n",
       "      <td>{0: 1451, 1: 650, 2: 541}</td>\n",
       "      <td>None</td>\n",
       "      <td>None</td>\n",
       "      <td>None</td>\n",
       "      <td>None</td>\n",
       "      <td>10864.190</td>\n",
       "    </tr>\n",
       "    <tr>\n",
       "      <th>1</th>\n",
       "      <td>2015-2018</td>\n",
       "      <td>4</td>\n",
       "      <td>0.000</td>\n",
       "      <td>4</td>\n",
       "      <td>{0: 1170, 1: 431, 2: 762, 3: 279}</td>\n",
       "      <td>None</td>\n",
       "      <td>None</td>\n",
       "      <td>None</td>\n",
       "      <td>None</td>\n",
       "      <td>2635.592</td>\n",
       "    </tr>\n",
       "    <tr>\n",
       "      <th>2</th>\n",
       "      <td>2015-2018</td>\n",
       "      <td>5</td>\n",
       "      <td>0.010</td>\n",
       "      <td>5</td>\n",
       "      <td>{0: 270, 1: 652, 2: 759, 3: 429, 4: 532}</td>\n",
       "      <td>None</td>\n",
       "      <td>None</td>\n",
       "      <td>None</td>\n",
       "      <td>None</td>\n",
       "      <td>6115.194</td>\n",
       "    </tr>\n",
       "    <tr>\n",
       "      <th>3</th>\n",
       "      <td>2015-2018</td>\n",
       "      <td>6</td>\n",
       "      <td>0.016</td>\n",
       "      <td>6</td>\n",
       "      <td>{0: 296, 1: 191, 2: 1154, 3: 505, 4: 325, 5: 171}</td>\n",
       "      <td>None</td>\n",
       "      <td>None</td>\n",
       "      <td>None</td>\n",
       "      <td>None</td>\n",
       "      <td>5991.795</td>\n",
       "    </tr>\n",
       "    <tr>\n",
       "      <th>4</th>\n",
       "      <td>2015-2018</td>\n",
       "      <td>7</td>\n",
       "      <td>0.017</td>\n",
       "      <td>7</td>\n",
       "      <td>{0: 757, 1: 502, 2: 269, 3: 313, 4: 428, 5: 19...</td>\n",
       "      <td>None</td>\n",
       "      <td>None</td>\n",
       "      <td>None</td>\n",
       "      <td>None</td>\n",
       "      <td>5311.106</td>\n",
       "    </tr>\n",
       "  </tbody>\n",
       "</table>\n",
       "</div>"
      ],
      "text/plain": [
       "  Year Range  k Runtime (s)  Clusters  \\\n",
       "0  2015-2018  3       0.026         3   \n",
       "1  2015-2018  4       0.000         4   \n",
       "2  2015-2018  5       0.010         5   \n",
       "3  2015-2018  6       0.016         6   \n",
       "4  2015-2018  7       0.017         7   \n",
       "\n",
       "                                  Points per Cluster Davies-Bouldin  \\\n",
       "0                          {0: 1451, 1: 650, 2: 541}           None   \n",
       "1                  {0: 1170, 1: 431, 2: 762, 3: 279}           None   \n",
       "2           {0: 270, 1: 652, 2: 759, 3: 429, 4: 532}           None   \n",
       "3  {0: 296, 1: 191, 2: 1154, 3: 505, 4: 325, 5: 171}           None   \n",
       "4  {0: 757, 1: 502, 2: 269, 3: 313, 4: 428, 5: 19...           None   \n",
       "\n",
       "  Calinski-Harabasz Dunn Index Silhouette Score  Mean ANOVA F  \n",
       "0              None       None             None     10864.190  \n",
       "1              None       None             None      2635.592  \n",
       "2              None       None             None      6115.194  \n",
       "3              None       None             None      5991.795  \n",
       "4              None       None             None      5311.106  "
      ]
     },
     "metadata": {},
     "output_type": "display_data"
    },
    {
     "name": "stdout",
     "output_type": "stream",
     "text": [
      "\n",
      "Running K-Means for Year Range: 2016-2019\n",
      "Runtime for k_means: 0.014472 seconds\n"
     ]
    },
    {
     "name": "stderr",
     "output_type": "stream",
     "text": [
      "c:\\Users\\fionu\\OneDrive\\Dokumente\\Daten Fiona\\AIUB\\Code\\AIUB-Backup\\clustering\\high_dim_analysis.py:138: FutureWarning: \n",
      "\n",
      "Passing `palette` without assigning `hue` is deprecated and will be removed in v0.14.0. Assign the `y` variable to `hue` and set `legend=False` for the same effect.\n",
      "\n",
      "  sns.barplot(x=mi_vals, y=features, palette=\"magma\")\n"
     ]
    },
    {
     "name": "stdout",
     "output_type": "stream",
     "text": [
      "Runtime for k_means: 0.008791 seconds\n"
     ]
    },
    {
     "name": "stderr",
     "output_type": "stream",
     "text": [
      "c:\\Users\\fionu\\OneDrive\\Dokumente\\Daten Fiona\\AIUB\\Code\\AIUB-Backup\\clustering\\high_dim_analysis.py:138: FutureWarning: \n",
      "\n",
      "Passing `palette` without assigning `hue` is deprecated and will be removed in v0.14.0. Assign the `y` variable to `hue` and set `legend=False` for the same effect.\n",
      "\n",
      "  sns.barplot(x=mi_vals, y=features, palette=\"magma\")\n"
     ]
    },
    {
     "name": "stdout",
     "output_type": "stream",
     "text": [
      "Runtime for k_means: 0.007005 seconds\n"
     ]
    },
    {
     "name": "stderr",
     "output_type": "stream",
     "text": [
      "c:\\Users\\fionu\\OneDrive\\Dokumente\\Daten Fiona\\AIUB\\Code\\AIUB-Backup\\clustering\\high_dim_analysis.py:138: FutureWarning: \n",
      "\n",
      "Passing `palette` without assigning `hue` is deprecated and will be removed in v0.14.0. Assign the `y` variable to `hue` and set `legend=False` for the same effect.\n",
      "\n",
      "  sns.barplot(x=mi_vals, y=features, palette=\"magma\")\n"
     ]
    },
    {
     "name": "stdout",
     "output_type": "stream",
     "text": [
      "Runtime for k_means: 0.004071 seconds\n"
     ]
    },
    {
     "name": "stderr",
     "output_type": "stream",
     "text": [
      "c:\\Users\\fionu\\OneDrive\\Dokumente\\Daten Fiona\\AIUB\\Code\\AIUB-Backup\\clustering\\high_dim_analysis.py:138: FutureWarning: \n",
      "\n",
      "Passing `palette` without assigning `hue` is deprecated and will be removed in v0.14.0. Assign the `y` variable to `hue` and set `legend=False` for the same effect.\n",
      "\n",
      "  sns.barplot(x=mi_vals, y=features, palette=\"magma\")\n"
     ]
    },
    {
     "name": "stdout",
     "output_type": "stream",
     "text": [
      "Runtime for k_means: 0.002819 seconds\n"
     ]
    },
    {
     "name": "stderr",
     "output_type": "stream",
     "text": [
      "c:\\Users\\fionu\\OneDrive\\Dokumente\\Daten Fiona\\AIUB\\Code\\AIUB-Backup\\clustering\\high_dim_analysis.py:138: FutureWarning: \n",
      "\n",
      "Passing `palette` without assigning `hue` is deprecated and will be removed in v0.14.0. Assign the `y` variable to `hue` and set `legend=False` for the same effect.\n",
      "\n",
      "  sns.barplot(x=mi_vals, y=features, palette=\"magma\")\n"
     ]
    },
    {
     "name": "stdout",
     "output_type": "stream",
     "text": [
      "Runtime for k_means: 0.007051 seconds\n"
     ]
    },
    {
     "name": "stderr",
     "output_type": "stream",
     "text": [
      "c:\\Users\\fionu\\OneDrive\\Dokumente\\Daten Fiona\\AIUB\\Code\\AIUB-Backup\\clustering\\high_dim_analysis.py:42: FutureWarning: \n",
      "\n",
      "Passing `palette` without assigning `hue` is deprecated and will be removed in v0.14.0. Assign the `y` variable to `hue` and set `legend=False` for the same effect.\n",
      "\n",
      "  sns.barplot(x=f_vals, y=features, palette=\"crest\")\n"
     ]
    },
    {
     "name": "stdout",
     "output_type": "stream",
     "text": [
      "Best KMeans parameters based on ANOVA F-value:\n",
      "Year Range                            2016-2019\n",
      "k                                             3\n",
      "Runtime (s)                               0.014\n",
      "Clusters                                      3\n",
      "Points per Cluster    {0: 623, 1: 584, 2: 1503}\n",
      "Davies-Bouldin                             None\n",
      "Calinski-Harabasz                          None\n",
      "Dunn Index                                 None\n",
      "Silhouette Score                           None\n",
      "Mean ANOVA F                           10498.68\n",
      "Name: 0, dtype: object\n"
     ]
    },
    {
     "data": {
      "application/vnd.microsoft.datawrangler.viewer.v0+json": {
       "columns": [
        {
         "name": "index",
         "rawType": "int64",
         "type": "integer"
        },
        {
         "name": "Year Range",
         "rawType": "object",
         "type": "string"
        },
        {
         "name": "k",
         "rawType": "int64",
         "type": "integer"
        },
        {
         "name": "Runtime (s)",
         "rawType": "object",
         "type": "string"
        },
        {
         "name": "Clusters",
         "rawType": "int64",
         "type": "integer"
        },
        {
         "name": "Points per Cluster",
         "rawType": "object",
         "type": "unknown"
        },
        {
         "name": "Davies-Bouldin",
         "rawType": "object",
         "type": "unknown"
        },
        {
         "name": "Calinski-Harabasz",
         "rawType": "object",
         "type": "unknown"
        },
        {
         "name": "Dunn Index",
         "rawType": "object",
         "type": "unknown"
        },
        {
         "name": "Silhouette Score",
         "rawType": "object",
         "type": "unknown"
        },
        {
         "name": "Mean ANOVA F",
         "rawType": "float64",
         "type": "float"
        }
       ],
       "ref": "d6d29a20-5181-4db2-948f-c670a0935b4e",
       "rows": [
        [
         "0",
         "2016-2019",
         "3",
         "0.014",
         "3",
         "{0: 623, 1: 584, 2: 1503}",
         null,
         null,
         null,
         null,
         "10498.68"
        ],
        [
         "1",
         "2016-2019",
         "4",
         "0.009",
         "4",
         "{0: 622, 1: 1188, 2: 317, 3: 583}",
         null,
         null,
         null,
         null,
         "6965.439"
        ],
        [
         "2",
         "2016-2019",
         "5",
         "0.007",
         "5",
         "{0: 1186, 1: 317, 2: 293, 3: 305, 4: 609}",
         null,
         null,
         null,
         null,
         "5913.842"
        ],
        [
         "3",
         "2016-2019",
         "6",
         "0.004",
         "6",
         "{0: 1185, 1: 152, 2: 592, 3: 317, 4: 163, 5: 301}",
         null,
         null,
         null,
         null,
         "6081.593"
        ],
        [
         "4",
         "2016-2019",
         "7",
         "0.003",
         "7",
         "{0: 797, 1: 159, 2: 285, 3: 599, 4: 307, 5: 158, 6: 405}",
         null,
         null,
         null,
         null,
         "4724.85"
        ]
       ],
       "shape": {
        "columns": 10,
        "rows": 5
       }
      },
      "text/html": [
       "<div>\n",
       "<style scoped>\n",
       "    .dataframe tbody tr th:only-of-type {\n",
       "        vertical-align: middle;\n",
       "    }\n",
       "\n",
       "    .dataframe tbody tr th {\n",
       "        vertical-align: top;\n",
       "    }\n",
       "\n",
       "    .dataframe thead th {\n",
       "        text-align: right;\n",
       "    }\n",
       "</style>\n",
       "<table border=\"1\" class=\"dataframe\">\n",
       "  <thead>\n",
       "    <tr style=\"text-align: right;\">\n",
       "      <th></th>\n",
       "      <th>Year Range</th>\n",
       "      <th>k</th>\n",
       "      <th>Runtime (s)</th>\n",
       "      <th>Clusters</th>\n",
       "      <th>Points per Cluster</th>\n",
       "      <th>Davies-Bouldin</th>\n",
       "      <th>Calinski-Harabasz</th>\n",
       "      <th>Dunn Index</th>\n",
       "      <th>Silhouette Score</th>\n",
       "      <th>Mean ANOVA F</th>\n",
       "    </tr>\n",
       "  </thead>\n",
       "  <tbody>\n",
       "    <tr>\n",
       "      <th>0</th>\n",
       "      <td>2016-2019</td>\n",
       "      <td>3</td>\n",
       "      <td>0.014</td>\n",
       "      <td>3</td>\n",
       "      <td>{0: 623, 1: 584, 2: 1503}</td>\n",
       "      <td>None</td>\n",
       "      <td>None</td>\n",
       "      <td>None</td>\n",
       "      <td>None</td>\n",
       "      <td>10498.680</td>\n",
       "    </tr>\n",
       "    <tr>\n",
       "      <th>1</th>\n",
       "      <td>2016-2019</td>\n",
       "      <td>4</td>\n",
       "      <td>0.009</td>\n",
       "      <td>4</td>\n",
       "      <td>{0: 622, 1: 1188, 2: 317, 3: 583}</td>\n",
       "      <td>None</td>\n",
       "      <td>None</td>\n",
       "      <td>None</td>\n",
       "      <td>None</td>\n",
       "      <td>6965.439</td>\n",
       "    </tr>\n",
       "    <tr>\n",
       "      <th>2</th>\n",
       "      <td>2016-2019</td>\n",
       "      <td>5</td>\n",
       "      <td>0.007</td>\n",
       "      <td>5</td>\n",
       "      <td>{0: 1186, 1: 317, 2: 293, 3: 305, 4: 609}</td>\n",
       "      <td>None</td>\n",
       "      <td>None</td>\n",
       "      <td>None</td>\n",
       "      <td>None</td>\n",
       "      <td>5913.842</td>\n",
       "    </tr>\n",
       "    <tr>\n",
       "      <th>3</th>\n",
       "      <td>2016-2019</td>\n",
       "      <td>6</td>\n",
       "      <td>0.004</td>\n",
       "      <td>6</td>\n",
       "      <td>{0: 1185, 1: 152, 2: 592, 3: 317, 4: 163, 5: 301}</td>\n",
       "      <td>None</td>\n",
       "      <td>None</td>\n",
       "      <td>None</td>\n",
       "      <td>None</td>\n",
       "      <td>6081.593</td>\n",
       "    </tr>\n",
       "    <tr>\n",
       "      <th>4</th>\n",
       "      <td>2016-2019</td>\n",
       "      <td>7</td>\n",
       "      <td>0.003</td>\n",
       "      <td>7</td>\n",
       "      <td>{0: 797, 1: 159, 2: 285, 3: 599, 4: 307, 5: 15...</td>\n",
       "      <td>None</td>\n",
       "      <td>None</td>\n",
       "      <td>None</td>\n",
       "      <td>None</td>\n",
       "      <td>4724.850</td>\n",
       "    </tr>\n",
       "  </tbody>\n",
       "</table>\n",
       "</div>"
      ],
      "text/plain": [
       "  Year Range  k Runtime (s)  Clusters  \\\n",
       "0  2016-2019  3       0.014         3   \n",
       "1  2016-2019  4       0.009         4   \n",
       "2  2016-2019  5       0.007         5   \n",
       "3  2016-2019  6       0.004         6   \n",
       "4  2016-2019  7       0.003         7   \n",
       "\n",
       "                                  Points per Cluster Davies-Bouldin  \\\n",
       "0                          {0: 623, 1: 584, 2: 1503}           None   \n",
       "1                  {0: 622, 1: 1188, 2: 317, 3: 583}           None   \n",
       "2          {0: 1186, 1: 317, 2: 293, 3: 305, 4: 609}           None   \n",
       "3  {0: 1185, 1: 152, 2: 592, 3: 317, 4: 163, 5: 301}           None   \n",
       "4  {0: 797, 1: 159, 2: 285, 3: 599, 4: 307, 5: 15...           None   \n",
       "\n",
       "  Calinski-Harabasz Dunn Index Silhouette Score  Mean ANOVA F  \n",
       "0              None       None             None     10498.680  \n",
       "1              None       None             None      6965.439  \n",
       "2              None       None             None      5913.842  \n",
       "3              None       None             None      6081.593  \n",
       "4              None       None             None      4724.850  "
      ]
     },
     "metadata": {},
     "output_type": "display_data"
    },
    {
     "name": "stdout",
     "output_type": "stream",
     "text": [
      "\n",
      "Running K-Means for Year Range: 2017-2020\n",
      "Runtime for k_means: 0.016819 seconds\n"
     ]
    },
    {
     "name": "stderr",
     "output_type": "stream",
     "text": [
      "c:\\Users\\fionu\\OneDrive\\Dokumente\\Daten Fiona\\AIUB\\Code\\AIUB-Backup\\clustering\\high_dim_analysis.py:138: FutureWarning: \n",
      "\n",
      "Passing `palette` without assigning `hue` is deprecated and will be removed in v0.14.0. Assign the `y` variable to `hue` and set `legend=False` for the same effect.\n",
      "\n",
      "  sns.barplot(x=mi_vals, y=features, palette=\"magma\")\n"
     ]
    },
    {
     "name": "stdout",
     "output_type": "stream",
     "text": [
      "Runtime for k_means: 0.012454 seconds\n"
     ]
    },
    {
     "name": "stderr",
     "output_type": "stream",
     "text": [
      "c:\\Users\\fionu\\OneDrive\\Dokumente\\Daten Fiona\\AIUB\\Code\\AIUB-Backup\\clustering\\high_dim_analysis.py:138: FutureWarning: \n",
      "\n",
      "Passing `palette` without assigning `hue` is deprecated and will be removed in v0.14.0. Assign the `y` variable to `hue` and set `legend=False` for the same effect.\n",
      "\n",
      "  sns.barplot(x=mi_vals, y=features, palette=\"magma\")\n"
     ]
    },
    {
     "name": "stdout",
     "output_type": "stream",
     "text": [
      "Runtime for k_means: 0.012327 seconds\n"
     ]
    },
    {
     "name": "stderr",
     "output_type": "stream",
     "text": [
      "c:\\Users\\fionu\\OneDrive\\Dokumente\\Daten Fiona\\AIUB\\Code\\AIUB-Backup\\clustering\\high_dim_analysis.py:138: FutureWarning: \n",
      "\n",
      "Passing `palette` without assigning `hue` is deprecated and will be removed in v0.14.0. Assign the `y` variable to `hue` and set `legend=False` for the same effect.\n",
      "\n",
      "  sns.barplot(x=mi_vals, y=features, palette=\"magma\")\n"
     ]
    },
    {
     "name": "stdout",
     "output_type": "stream",
     "text": [
      "Runtime for k_means: 0.043816 seconds\n"
     ]
    },
    {
     "name": "stderr",
     "output_type": "stream",
     "text": [
      "c:\\Users\\fionu\\OneDrive\\Dokumente\\Daten Fiona\\AIUB\\Code\\AIUB-Backup\\clustering\\high_dim_analysis.py:138: FutureWarning: \n",
      "\n",
      "Passing `palette` without assigning `hue` is deprecated and will be removed in v0.14.0. Assign the `y` variable to `hue` and set `legend=False` for the same effect.\n",
      "\n",
      "  sns.barplot(x=mi_vals, y=features, palette=\"magma\")\n"
     ]
    },
    {
     "name": "stdout",
     "output_type": "stream",
     "text": [
      "Runtime for k_means: 0.017365 seconds\n"
     ]
    },
    {
     "name": "stderr",
     "output_type": "stream",
     "text": [
      "c:\\Users\\fionu\\OneDrive\\Dokumente\\Daten Fiona\\AIUB\\Code\\AIUB-Backup\\clustering\\high_dim_analysis.py:138: FutureWarning: \n",
      "\n",
      "Passing `palette` without assigning `hue` is deprecated and will be removed in v0.14.0. Assign the `y` variable to `hue` and set `legend=False` for the same effect.\n",
      "\n",
      "  sns.barplot(x=mi_vals, y=features, palette=\"magma\")\n"
     ]
    },
    {
     "name": "stdout",
     "output_type": "stream",
     "text": [
      "Runtime for k_means: 0.022763 seconds\n"
     ]
    },
    {
     "name": "stderr",
     "output_type": "stream",
     "text": [
      "c:\\Users\\fionu\\OneDrive\\Dokumente\\Daten Fiona\\AIUB\\Code\\AIUB-Backup\\clustering\\high_dim_analysis.py:42: FutureWarning: \n",
      "\n",
      "Passing `palette` without assigning `hue` is deprecated and will be removed in v0.14.0. Assign the `y` variable to `hue` and set `legend=False` for the same effect.\n",
      "\n",
      "  sns.barplot(x=f_vals, y=features, palette=\"crest\")\n"
     ]
    },
    {
     "name": "stdout",
     "output_type": "stream",
     "text": [
      "Best KMeans parameters based on ANOVA F-value:\n",
      "Year Range                                    2017-2020\n",
      "k                                                     4\n",
      "Runtime (s)                                       0.012\n",
      "Clusters                                              4\n",
      "Points per Cluster    {0: 1885, 1: 382, 2: 701, 3: 323}\n",
      "Davies-Bouldin                                     None\n",
      "Calinski-Harabasz                                  None\n",
      "Dunn Index                                         None\n",
      "Silhouette Score                                   None\n",
      "Mean ANOVA F                                  10417.893\n",
      "Name: 1, dtype: object\n"
     ]
    },
    {
     "data": {
      "application/vnd.microsoft.datawrangler.viewer.v0+json": {
       "columns": [
        {
         "name": "index",
         "rawType": "int64",
         "type": "integer"
        },
        {
         "name": "Year Range",
         "rawType": "object",
         "type": "string"
        },
        {
         "name": "k",
         "rawType": "int64",
         "type": "integer"
        },
        {
         "name": "Runtime (s)",
         "rawType": "object",
         "type": "string"
        },
        {
         "name": "Clusters",
         "rawType": "int64",
         "type": "integer"
        },
        {
         "name": "Points per Cluster",
         "rawType": "object",
         "type": "unknown"
        },
        {
         "name": "Davies-Bouldin",
         "rawType": "object",
         "type": "unknown"
        },
        {
         "name": "Calinski-Harabasz",
         "rawType": "object",
         "type": "unknown"
        },
        {
         "name": "Dunn Index",
         "rawType": "object",
         "type": "unknown"
        },
        {
         "name": "Silhouette Score",
         "rawType": "object",
         "type": "unknown"
        },
        {
         "name": "Mean ANOVA F",
         "rawType": "float64",
         "type": "float"
        }
       ],
       "ref": "262f9db0-9aa7-4ec3-98ac-580a6ae1088c",
       "rows": [
        [
         "0",
         "2017-2020",
         "3",
         "0.017",
         "3",
         "{0: 1890, 1: 601, 2: 800}",
         null,
         null,
         null,
         null,
         "9303.552"
        ],
        [
         "1",
         "2017-2020",
         "4",
         "0.012",
         "4",
         "{0: 1885, 1: 382, 2: 701, 3: 323}",
         null,
         null,
         null,
         null,
         "10417.893"
        ],
        [
         "2",
         "2017-2020",
         "5",
         "0.012",
         "5",
         "{0: 325, 1: 1257, 2: 703, 3: 631, 4: 375}",
         null,
         null,
         null,
         null,
         "7776.858"
        ],
        [
         "3",
         "2017-2020",
         "6",
         "0.044",
         "6",
         "{0: 795, 1: 600, 2: 370, 3: 326, 4: 815, 5: 385}",
         null,
         null,
         null,
         null,
         "4096.768"
        ],
        [
         "4",
         "2017-2020",
         "7",
         "0.017",
         "7",
         "{0: 900, 1: 195, 2: 683, 3: 383, 4: 314, 5: 210, 6: 606}",
         null,
         null,
         null,
         null,
         "6948.131"
        ]
       ],
       "shape": {
        "columns": 10,
        "rows": 5
       }
      },
      "text/html": [
       "<div>\n",
       "<style scoped>\n",
       "    .dataframe tbody tr th:only-of-type {\n",
       "        vertical-align: middle;\n",
       "    }\n",
       "\n",
       "    .dataframe tbody tr th {\n",
       "        vertical-align: top;\n",
       "    }\n",
       "\n",
       "    .dataframe thead th {\n",
       "        text-align: right;\n",
       "    }\n",
       "</style>\n",
       "<table border=\"1\" class=\"dataframe\">\n",
       "  <thead>\n",
       "    <tr style=\"text-align: right;\">\n",
       "      <th></th>\n",
       "      <th>Year Range</th>\n",
       "      <th>k</th>\n",
       "      <th>Runtime (s)</th>\n",
       "      <th>Clusters</th>\n",
       "      <th>Points per Cluster</th>\n",
       "      <th>Davies-Bouldin</th>\n",
       "      <th>Calinski-Harabasz</th>\n",
       "      <th>Dunn Index</th>\n",
       "      <th>Silhouette Score</th>\n",
       "      <th>Mean ANOVA F</th>\n",
       "    </tr>\n",
       "  </thead>\n",
       "  <tbody>\n",
       "    <tr>\n",
       "      <th>0</th>\n",
       "      <td>2017-2020</td>\n",
       "      <td>3</td>\n",
       "      <td>0.017</td>\n",
       "      <td>3</td>\n",
       "      <td>{0: 1890, 1: 601, 2: 800}</td>\n",
       "      <td>None</td>\n",
       "      <td>None</td>\n",
       "      <td>None</td>\n",
       "      <td>None</td>\n",
       "      <td>9303.552</td>\n",
       "    </tr>\n",
       "    <tr>\n",
       "      <th>1</th>\n",
       "      <td>2017-2020</td>\n",
       "      <td>4</td>\n",
       "      <td>0.012</td>\n",
       "      <td>4</td>\n",
       "      <td>{0: 1885, 1: 382, 2: 701, 3: 323}</td>\n",
       "      <td>None</td>\n",
       "      <td>None</td>\n",
       "      <td>None</td>\n",
       "      <td>None</td>\n",
       "      <td>10417.893</td>\n",
       "    </tr>\n",
       "    <tr>\n",
       "      <th>2</th>\n",
       "      <td>2017-2020</td>\n",
       "      <td>5</td>\n",
       "      <td>0.012</td>\n",
       "      <td>5</td>\n",
       "      <td>{0: 325, 1: 1257, 2: 703, 3: 631, 4: 375}</td>\n",
       "      <td>None</td>\n",
       "      <td>None</td>\n",
       "      <td>None</td>\n",
       "      <td>None</td>\n",
       "      <td>7776.858</td>\n",
       "    </tr>\n",
       "    <tr>\n",
       "      <th>3</th>\n",
       "      <td>2017-2020</td>\n",
       "      <td>6</td>\n",
       "      <td>0.044</td>\n",
       "      <td>6</td>\n",
       "      <td>{0: 795, 1: 600, 2: 370, 3: 326, 4: 815, 5: 385}</td>\n",
       "      <td>None</td>\n",
       "      <td>None</td>\n",
       "      <td>None</td>\n",
       "      <td>None</td>\n",
       "      <td>4096.768</td>\n",
       "    </tr>\n",
       "    <tr>\n",
       "      <th>4</th>\n",
       "      <td>2017-2020</td>\n",
       "      <td>7</td>\n",
       "      <td>0.017</td>\n",
       "      <td>7</td>\n",
       "      <td>{0: 900, 1: 195, 2: 683, 3: 383, 4: 314, 5: 21...</td>\n",
       "      <td>None</td>\n",
       "      <td>None</td>\n",
       "      <td>None</td>\n",
       "      <td>None</td>\n",
       "      <td>6948.131</td>\n",
       "    </tr>\n",
       "  </tbody>\n",
       "</table>\n",
       "</div>"
      ],
      "text/plain": [
       "  Year Range  k Runtime (s)  Clusters  \\\n",
       "0  2017-2020  3       0.017         3   \n",
       "1  2017-2020  4       0.012         4   \n",
       "2  2017-2020  5       0.012         5   \n",
       "3  2017-2020  6       0.044         6   \n",
       "4  2017-2020  7       0.017         7   \n",
       "\n",
       "                                  Points per Cluster Davies-Bouldin  \\\n",
       "0                          {0: 1890, 1: 601, 2: 800}           None   \n",
       "1                  {0: 1885, 1: 382, 2: 701, 3: 323}           None   \n",
       "2          {0: 325, 1: 1257, 2: 703, 3: 631, 4: 375}           None   \n",
       "3   {0: 795, 1: 600, 2: 370, 3: 326, 4: 815, 5: 385}           None   \n",
       "4  {0: 900, 1: 195, 2: 683, 3: 383, 4: 314, 5: 21...           None   \n",
       "\n",
       "  Calinski-Harabasz Dunn Index Silhouette Score  Mean ANOVA F  \n",
       "0              None       None             None      9303.552  \n",
       "1              None       None             None     10417.893  \n",
       "2              None       None             None      7776.858  \n",
       "3              None       None             None      4096.768  \n",
       "4              None       None             None      6948.131  "
      ]
     },
     "metadata": {},
     "output_type": "display_data"
    },
    {
     "name": "stdout",
     "output_type": "stream",
     "text": [
      "\n",
      "Running K-Means for Year Range: 2018-2021\n",
      "Runtime for k_means: 0.009637 seconds\n"
     ]
    },
    {
     "name": "stderr",
     "output_type": "stream",
     "text": [
      "c:\\Users\\fionu\\OneDrive\\Dokumente\\Daten Fiona\\AIUB\\Code\\AIUB-Backup\\clustering\\high_dim_analysis.py:138: FutureWarning: \n",
      "\n",
      "Passing `palette` without assigning `hue` is deprecated and will be removed in v0.14.0. Assign the `y` variable to `hue` and set `legend=False` for the same effect.\n",
      "\n",
      "  sns.barplot(x=mi_vals, y=features, palette=\"magma\")\n"
     ]
    },
    {
     "name": "stdout",
     "output_type": "stream",
     "text": [
      "Runtime for k_means: 0.015774 seconds\n"
     ]
    },
    {
     "name": "stderr",
     "output_type": "stream",
     "text": [
      "c:\\Users\\fionu\\OneDrive\\Dokumente\\Daten Fiona\\AIUB\\Code\\AIUB-Backup\\clustering\\high_dim_analysis.py:138: FutureWarning: \n",
      "\n",
      "Passing `palette` without assigning `hue` is deprecated and will be removed in v0.14.0. Assign the `y` variable to `hue` and set `legend=False` for the same effect.\n",
      "\n",
      "  sns.barplot(x=mi_vals, y=features, palette=\"magma\")\n"
     ]
    },
    {
     "name": "stdout",
     "output_type": "stream",
     "text": [
      "Runtime for k_means: 0.021802 seconds\n"
     ]
    },
    {
     "name": "stderr",
     "output_type": "stream",
     "text": [
      "c:\\Users\\fionu\\OneDrive\\Dokumente\\Daten Fiona\\AIUB\\Code\\AIUB-Backup\\clustering\\high_dim_analysis.py:138: FutureWarning: \n",
      "\n",
      "Passing `palette` without assigning `hue` is deprecated and will be removed in v0.14.0. Assign the `y` variable to `hue` and set `legend=False` for the same effect.\n",
      "\n",
      "  sns.barplot(x=mi_vals, y=features, palette=\"magma\")\n"
     ]
    },
    {
     "name": "stdout",
     "output_type": "stream",
     "text": [
      "Runtime for k_means: 0.041837 seconds\n"
     ]
    },
    {
     "name": "stderr",
     "output_type": "stream",
     "text": [
      "c:\\Users\\fionu\\OneDrive\\Dokumente\\Daten Fiona\\AIUB\\Code\\AIUB-Backup\\clustering\\high_dim_analysis.py:138: FutureWarning: \n",
      "\n",
      "Passing `palette` without assigning `hue` is deprecated and will be removed in v0.14.0. Assign the `y` variable to `hue` and set `legend=False` for the same effect.\n",
      "\n",
      "  sns.barplot(x=mi_vals, y=features, palette=\"magma\")\n"
     ]
    },
    {
     "name": "stdout",
     "output_type": "stream",
     "text": [
      "Runtime for k_means: 0.049731 seconds\n"
     ]
    },
    {
     "name": "stderr",
     "output_type": "stream",
     "text": [
      "c:\\Users\\fionu\\OneDrive\\Dokumente\\Daten Fiona\\AIUB\\Code\\AIUB-Backup\\clustering\\high_dim_analysis.py:138: FutureWarning: \n",
      "\n",
      "Passing `palette` without assigning `hue` is deprecated and will be removed in v0.14.0. Assign the `y` variable to `hue` and set `legend=False` for the same effect.\n",
      "\n",
      "  sns.barplot(x=mi_vals, y=features, palette=\"magma\")\n"
     ]
    },
    {
     "name": "stdout",
     "output_type": "stream",
     "text": [
      "Runtime for k_means: 0.015915 seconds\n"
     ]
    },
    {
     "name": "stderr",
     "output_type": "stream",
     "text": [
      "c:\\Users\\fionu\\OneDrive\\Dokumente\\Daten Fiona\\AIUB\\Code\\AIUB-Backup\\clustering\\high_dim_analysis.py:42: FutureWarning: \n",
      "\n",
      "Passing `palette` without assigning `hue` is deprecated and will be removed in v0.14.0. Assign the `y` variable to `hue` and set `legend=False` for the same effect.\n",
      "\n",
      "  sns.barplot(x=f_vals, y=features, palette=\"crest\")\n"
     ]
    },
    {
     "name": "stdout",
     "output_type": "stream",
     "text": [
      "Best KMeans parameters based on ANOVA F-value:\n",
      "Year Range                                            2018-2021\n",
      "k                                                             5\n",
      "Runtime (s)                                               0.022\n",
      "Clusters                                                      5\n",
      "Points per Cluster    {0: 1310, 1: 383, 2: 642, 3: 755, 4: 352}\n",
      "Davies-Bouldin                                             None\n",
      "Calinski-Harabasz                                          None\n",
      "Dunn Index                                                 None\n",
      "Silhouette Score                                           None\n",
      "Mean ANOVA F                                           9698.567\n",
      "Name: 2, dtype: object\n"
     ]
    },
    {
     "data": {
      "application/vnd.microsoft.datawrangler.viewer.v0+json": {
       "columns": [
        {
         "name": "index",
         "rawType": "int64",
         "type": "integer"
        },
        {
         "name": "Year Range",
         "rawType": "object",
         "type": "string"
        },
        {
         "name": "k",
         "rawType": "int64",
         "type": "integer"
        },
        {
         "name": "Runtime (s)",
         "rawType": "object",
         "type": "string"
        },
        {
         "name": "Clusters",
         "rawType": "int64",
         "type": "integer"
        },
        {
         "name": "Points per Cluster",
         "rawType": "object",
         "type": "unknown"
        },
        {
         "name": "Davies-Bouldin",
         "rawType": "object",
         "type": "unknown"
        },
        {
         "name": "Calinski-Harabasz",
         "rawType": "object",
         "type": "unknown"
        },
        {
         "name": "Dunn Index",
         "rawType": "object",
         "type": "unknown"
        },
        {
         "name": "Silhouette Score",
         "rawType": "object",
         "type": "unknown"
        },
        {
         "name": "Mean ANOVA F",
         "rawType": "float64",
         "type": "float"
        }
       ],
       "ref": "a946dc65-95b1-4b46-a4fd-34fabc0e1223",
       "rows": [
        [
         "0",
         "2018-2021",
         "3",
         "0.010",
         "3",
         "{0: 430, 1: 1351, 2: 1661}",
         null,
         null,
         null,
         null,
         "5195.46"
        ],
        [
         "1",
         "2018-2021",
         "4",
         "0.016",
         "4",
         "{0: 918, 1: 427, 2: 1659, 3: 438}",
         null,
         null,
         null,
         null,
         "4858.338"
        ],
        [
         "2",
         "2018-2021",
         "5",
         "0.022",
         "5",
         "{0: 1310, 1: 383, 2: 642, 3: 755, 4: 352}",
         null,
         null,
         null,
         null,
         "9698.567"
        ],
        [
         "3",
         "2018-2021",
         "6",
         "0.042",
         "6",
         "{0: 976, 1: 396, 2: 641, 3: 339, 4: 406, 5: 684}",
         null,
         null,
         null,
         null,
         "8285.079"
        ],
        [
         "4",
         "2018-2021",
         "7",
         "0.050",
         "7",
         "{0: 1657, 1: 596, 2: 400, 3: 202, 4: 54, 5: 229, 6: 304}",
         null,
         null,
         null,
         null,
         "7879.128"
        ]
       ],
       "shape": {
        "columns": 10,
        "rows": 5
       }
      },
      "text/html": [
       "<div>\n",
       "<style scoped>\n",
       "    .dataframe tbody tr th:only-of-type {\n",
       "        vertical-align: middle;\n",
       "    }\n",
       "\n",
       "    .dataframe tbody tr th {\n",
       "        vertical-align: top;\n",
       "    }\n",
       "\n",
       "    .dataframe thead th {\n",
       "        text-align: right;\n",
       "    }\n",
       "</style>\n",
       "<table border=\"1\" class=\"dataframe\">\n",
       "  <thead>\n",
       "    <tr style=\"text-align: right;\">\n",
       "      <th></th>\n",
       "      <th>Year Range</th>\n",
       "      <th>k</th>\n",
       "      <th>Runtime (s)</th>\n",
       "      <th>Clusters</th>\n",
       "      <th>Points per Cluster</th>\n",
       "      <th>Davies-Bouldin</th>\n",
       "      <th>Calinski-Harabasz</th>\n",
       "      <th>Dunn Index</th>\n",
       "      <th>Silhouette Score</th>\n",
       "      <th>Mean ANOVA F</th>\n",
       "    </tr>\n",
       "  </thead>\n",
       "  <tbody>\n",
       "    <tr>\n",
       "      <th>0</th>\n",
       "      <td>2018-2021</td>\n",
       "      <td>3</td>\n",
       "      <td>0.010</td>\n",
       "      <td>3</td>\n",
       "      <td>{0: 430, 1: 1351, 2: 1661}</td>\n",
       "      <td>None</td>\n",
       "      <td>None</td>\n",
       "      <td>None</td>\n",
       "      <td>None</td>\n",
       "      <td>5195.460</td>\n",
       "    </tr>\n",
       "    <tr>\n",
       "      <th>1</th>\n",
       "      <td>2018-2021</td>\n",
       "      <td>4</td>\n",
       "      <td>0.016</td>\n",
       "      <td>4</td>\n",
       "      <td>{0: 918, 1: 427, 2: 1659, 3: 438}</td>\n",
       "      <td>None</td>\n",
       "      <td>None</td>\n",
       "      <td>None</td>\n",
       "      <td>None</td>\n",
       "      <td>4858.338</td>\n",
       "    </tr>\n",
       "    <tr>\n",
       "      <th>2</th>\n",
       "      <td>2018-2021</td>\n",
       "      <td>5</td>\n",
       "      <td>0.022</td>\n",
       "      <td>5</td>\n",
       "      <td>{0: 1310, 1: 383, 2: 642, 3: 755, 4: 352}</td>\n",
       "      <td>None</td>\n",
       "      <td>None</td>\n",
       "      <td>None</td>\n",
       "      <td>None</td>\n",
       "      <td>9698.567</td>\n",
       "    </tr>\n",
       "    <tr>\n",
       "      <th>3</th>\n",
       "      <td>2018-2021</td>\n",
       "      <td>6</td>\n",
       "      <td>0.042</td>\n",
       "      <td>6</td>\n",
       "      <td>{0: 976, 1: 396, 2: 641, 3: 339, 4: 406, 5: 684}</td>\n",
       "      <td>None</td>\n",
       "      <td>None</td>\n",
       "      <td>None</td>\n",
       "      <td>None</td>\n",
       "      <td>8285.079</td>\n",
       "    </tr>\n",
       "    <tr>\n",
       "      <th>4</th>\n",
       "      <td>2018-2021</td>\n",
       "      <td>7</td>\n",
       "      <td>0.050</td>\n",
       "      <td>7</td>\n",
       "      <td>{0: 1657, 1: 596, 2: 400, 3: 202, 4: 54, 5: 22...</td>\n",
       "      <td>None</td>\n",
       "      <td>None</td>\n",
       "      <td>None</td>\n",
       "      <td>None</td>\n",
       "      <td>7879.128</td>\n",
       "    </tr>\n",
       "  </tbody>\n",
       "</table>\n",
       "</div>"
      ],
      "text/plain": [
       "  Year Range  k Runtime (s)  Clusters  \\\n",
       "0  2018-2021  3       0.010         3   \n",
       "1  2018-2021  4       0.016         4   \n",
       "2  2018-2021  5       0.022         5   \n",
       "3  2018-2021  6       0.042         6   \n",
       "4  2018-2021  7       0.050         7   \n",
       "\n",
       "                                  Points per Cluster Davies-Bouldin  \\\n",
       "0                         {0: 430, 1: 1351, 2: 1661}           None   \n",
       "1                  {0: 918, 1: 427, 2: 1659, 3: 438}           None   \n",
       "2          {0: 1310, 1: 383, 2: 642, 3: 755, 4: 352}           None   \n",
       "3   {0: 976, 1: 396, 2: 641, 3: 339, 4: 406, 5: 684}           None   \n",
       "4  {0: 1657, 1: 596, 2: 400, 3: 202, 4: 54, 5: 22...           None   \n",
       "\n",
       "  Calinski-Harabasz Dunn Index Silhouette Score  Mean ANOVA F  \n",
       "0              None       None             None      5195.460  \n",
       "1              None       None             None      4858.338  \n",
       "2              None       None             None      9698.567  \n",
       "3              None       None             None      8285.079  \n",
       "4              None       None             None      7879.128  "
      ]
     },
     "metadata": {},
     "output_type": "display_data"
    },
    {
     "name": "stdout",
     "output_type": "stream",
     "text": [
      "\n",
      "Running K-Means for Year Range: 2019-2022\n",
      "Runtime for k_means: 0.004035 seconds\n"
     ]
    },
    {
     "name": "stderr",
     "output_type": "stream",
     "text": [
      "c:\\Users\\fionu\\OneDrive\\Dokumente\\Daten Fiona\\AIUB\\Code\\AIUB-Backup\\clustering\\high_dim_analysis.py:138: FutureWarning: \n",
      "\n",
      "Passing `palette` without assigning `hue` is deprecated and will be removed in v0.14.0. Assign the `y` variable to `hue` and set `legend=False` for the same effect.\n",
      "\n",
      "  sns.barplot(x=mi_vals, y=features, palette=\"magma\")\n"
     ]
    },
    {
     "name": "stdout",
     "output_type": "stream",
     "text": [
      "Runtime for k_means: 0.031890 seconds\n"
     ]
    },
    {
     "name": "stderr",
     "output_type": "stream",
     "text": [
      "c:\\Users\\fionu\\OneDrive\\Dokumente\\Daten Fiona\\AIUB\\Code\\AIUB-Backup\\clustering\\high_dim_analysis.py:138: FutureWarning: \n",
      "\n",
      "Passing `palette` without assigning `hue` is deprecated and will be removed in v0.14.0. Assign the `y` variable to `hue` and set `legend=False` for the same effect.\n",
      "\n",
      "  sns.barplot(x=mi_vals, y=features, palette=\"magma\")\n"
     ]
    },
    {
     "name": "stdout",
     "output_type": "stream",
     "text": [
      "Runtime for k_means: 0.019884 seconds\n"
     ]
    },
    {
     "name": "stderr",
     "output_type": "stream",
     "text": [
      "c:\\Users\\fionu\\OneDrive\\Dokumente\\Daten Fiona\\AIUB\\Code\\AIUB-Backup\\clustering\\high_dim_analysis.py:138: FutureWarning: \n",
      "\n",
      "Passing `palette` without assigning `hue` is deprecated and will be removed in v0.14.0. Assign the `y` variable to `hue` and set `legend=False` for the same effect.\n",
      "\n",
      "  sns.barplot(x=mi_vals, y=features, palette=\"magma\")\n"
     ]
    },
    {
     "name": "stdout",
     "output_type": "stream",
     "text": [
      "Runtime for k_means: 0.040093 seconds\n"
     ]
    },
    {
     "name": "stderr",
     "output_type": "stream",
     "text": [
      "c:\\Users\\fionu\\OneDrive\\Dokumente\\Daten Fiona\\AIUB\\Code\\AIUB-Backup\\clustering\\high_dim_analysis.py:138: FutureWarning: \n",
      "\n",
      "Passing `palette` without assigning `hue` is deprecated and will be removed in v0.14.0. Assign the `y` variable to `hue` and set `legend=False` for the same effect.\n",
      "\n",
      "  sns.barplot(x=mi_vals, y=features, palette=\"magma\")\n"
     ]
    },
    {
     "name": "stdout",
     "output_type": "stream",
     "text": [
      "Runtime for k_means: 0.022280 seconds\n"
     ]
    },
    {
     "name": "stderr",
     "output_type": "stream",
     "text": [
      "c:\\Users\\fionu\\OneDrive\\Dokumente\\Daten Fiona\\AIUB\\Code\\AIUB-Backup\\clustering\\high_dim_analysis.py:138: FutureWarning: \n",
      "\n",
      "Passing `palette` without assigning `hue` is deprecated and will be removed in v0.14.0. Assign the `y` variable to `hue` and set `legend=False` for the same effect.\n",
      "\n",
      "  sns.barplot(x=mi_vals, y=features, palette=\"magma\")\n"
     ]
    },
    {
     "name": "stdout",
     "output_type": "stream",
     "text": [
      "Runtime for k_means: 0.021927 seconds\n"
     ]
    },
    {
     "name": "stderr",
     "output_type": "stream",
     "text": [
      "c:\\Users\\fionu\\OneDrive\\Dokumente\\Daten Fiona\\AIUB\\Code\\AIUB-Backup\\clustering\\high_dim_analysis.py:42: FutureWarning: \n",
      "\n",
      "Passing `palette` without assigning `hue` is deprecated and will be removed in v0.14.0. Assign the `y` variable to `hue` and set `legend=False` for the same effect.\n",
      "\n",
      "  sns.barplot(x=f_vals, y=features, palette=\"crest\")\n"
     ]
    },
    {
     "name": "stdout",
     "output_type": "stream",
     "text": [
      "Best KMeans parameters based on ANOVA F-value:\n",
      "Year Range                                                   2019-2022\n",
      "k                                                                    6\n",
      "Runtime (s)                                                      0.040\n",
      "Clusters                                                             6\n",
      "Points per Cluster    {0: 811, 1: 475, 2: 869, 3: 334, 4: 529, 5: 591}\n",
      "Davies-Bouldin                                                    None\n",
      "Calinski-Harabasz                                                 None\n",
      "Dunn Index                                                        None\n",
      "Silhouette Score                                                  None\n",
      "Mean ANOVA F                                                  7872.212\n",
      "Name: 3, dtype: object\n"
     ]
    },
    {
     "data": {
      "application/vnd.microsoft.datawrangler.viewer.v0+json": {
       "columns": [
        {
         "name": "index",
         "rawType": "int64",
         "type": "integer"
        },
        {
         "name": "Year Range",
         "rawType": "object",
         "type": "string"
        },
        {
         "name": "k",
         "rawType": "int64",
         "type": "integer"
        },
        {
         "name": "Runtime (s)",
         "rawType": "object",
         "type": "string"
        },
        {
         "name": "Clusters",
         "rawType": "int64",
         "type": "integer"
        },
        {
         "name": "Points per Cluster",
         "rawType": "object",
         "type": "unknown"
        },
        {
         "name": "Davies-Bouldin",
         "rawType": "object",
         "type": "unknown"
        },
        {
         "name": "Calinski-Harabasz",
         "rawType": "object",
         "type": "unknown"
        },
        {
         "name": "Dunn Index",
         "rawType": "object",
         "type": "unknown"
        },
        {
         "name": "Silhouette Score",
         "rawType": "object",
         "type": "unknown"
        },
        {
         "name": "Mean ANOVA F",
         "rawType": "float64",
         "type": "float"
        }
       ],
       "ref": "6e8fe8d3-6baf-43fc-a303-51cc47535372",
       "rows": [
        [
         "0",
         "2019-2022",
         "3",
         "0.004",
         "3",
         "{0: 2285, 1: 362, 2: 962}",
         null,
         null,
         null,
         null,
         "6733.958"
        ],
        [
         "1",
         "2019-2022",
         "4",
         "0.032",
         "4",
         "{0: 617, 1: 1674, 2: 868, 3: 450}",
         null,
         null,
         null,
         null,
         "5021.993"
        ],
        [
         "2",
         "2019-2022",
         "5",
         "0.020",
         "5",
         "{0: 956, 1: 1665, 2: 356, 3: 121, 4: 511}",
         null,
         null,
         null,
         null,
         "3807.247"
        ],
        [
         "3",
         "2019-2022",
         "6",
         "0.040",
         "6",
         "{0: 811, 1: 475, 2: 869, 3: 334, 4: 529, 5: 591}",
         null,
         null,
         null,
         null,
         "7872.212"
        ],
        [
         "4",
         "2019-2022",
         "7",
         "0.022",
         "7",
         "{0: 803, 1: 464, 2: 345, 3: 84, 4: 591, 5: 796, 6: 526}",
         null,
         null,
         null,
         null,
         "6696.714"
        ]
       ],
       "shape": {
        "columns": 10,
        "rows": 5
       }
      },
      "text/html": [
       "<div>\n",
       "<style scoped>\n",
       "    .dataframe tbody tr th:only-of-type {\n",
       "        vertical-align: middle;\n",
       "    }\n",
       "\n",
       "    .dataframe tbody tr th {\n",
       "        vertical-align: top;\n",
       "    }\n",
       "\n",
       "    .dataframe thead th {\n",
       "        text-align: right;\n",
       "    }\n",
       "</style>\n",
       "<table border=\"1\" class=\"dataframe\">\n",
       "  <thead>\n",
       "    <tr style=\"text-align: right;\">\n",
       "      <th></th>\n",
       "      <th>Year Range</th>\n",
       "      <th>k</th>\n",
       "      <th>Runtime (s)</th>\n",
       "      <th>Clusters</th>\n",
       "      <th>Points per Cluster</th>\n",
       "      <th>Davies-Bouldin</th>\n",
       "      <th>Calinski-Harabasz</th>\n",
       "      <th>Dunn Index</th>\n",
       "      <th>Silhouette Score</th>\n",
       "      <th>Mean ANOVA F</th>\n",
       "    </tr>\n",
       "  </thead>\n",
       "  <tbody>\n",
       "    <tr>\n",
       "      <th>0</th>\n",
       "      <td>2019-2022</td>\n",
       "      <td>3</td>\n",
       "      <td>0.004</td>\n",
       "      <td>3</td>\n",
       "      <td>{0: 2285, 1: 362, 2: 962}</td>\n",
       "      <td>None</td>\n",
       "      <td>None</td>\n",
       "      <td>None</td>\n",
       "      <td>None</td>\n",
       "      <td>6733.958</td>\n",
       "    </tr>\n",
       "    <tr>\n",
       "      <th>1</th>\n",
       "      <td>2019-2022</td>\n",
       "      <td>4</td>\n",
       "      <td>0.032</td>\n",
       "      <td>4</td>\n",
       "      <td>{0: 617, 1: 1674, 2: 868, 3: 450}</td>\n",
       "      <td>None</td>\n",
       "      <td>None</td>\n",
       "      <td>None</td>\n",
       "      <td>None</td>\n",
       "      <td>5021.993</td>\n",
       "    </tr>\n",
       "    <tr>\n",
       "      <th>2</th>\n",
       "      <td>2019-2022</td>\n",
       "      <td>5</td>\n",
       "      <td>0.020</td>\n",
       "      <td>5</td>\n",
       "      <td>{0: 956, 1: 1665, 2: 356, 3: 121, 4: 511}</td>\n",
       "      <td>None</td>\n",
       "      <td>None</td>\n",
       "      <td>None</td>\n",
       "      <td>None</td>\n",
       "      <td>3807.247</td>\n",
       "    </tr>\n",
       "    <tr>\n",
       "      <th>3</th>\n",
       "      <td>2019-2022</td>\n",
       "      <td>6</td>\n",
       "      <td>0.040</td>\n",
       "      <td>6</td>\n",
       "      <td>{0: 811, 1: 475, 2: 869, 3: 334, 4: 529, 5: 591}</td>\n",
       "      <td>None</td>\n",
       "      <td>None</td>\n",
       "      <td>None</td>\n",
       "      <td>None</td>\n",
       "      <td>7872.212</td>\n",
       "    </tr>\n",
       "    <tr>\n",
       "      <th>4</th>\n",
       "      <td>2019-2022</td>\n",
       "      <td>7</td>\n",
       "      <td>0.022</td>\n",
       "      <td>7</td>\n",
       "      <td>{0: 803, 1: 464, 2: 345, 3: 84, 4: 591, 5: 796...</td>\n",
       "      <td>None</td>\n",
       "      <td>None</td>\n",
       "      <td>None</td>\n",
       "      <td>None</td>\n",
       "      <td>6696.714</td>\n",
       "    </tr>\n",
       "  </tbody>\n",
       "</table>\n",
       "</div>"
      ],
      "text/plain": [
       "  Year Range  k Runtime (s)  Clusters  \\\n",
       "0  2019-2022  3       0.004         3   \n",
       "1  2019-2022  4       0.032         4   \n",
       "2  2019-2022  5       0.020         5   \n",
       "3  2019-2022  6       0.040         6   \n",
       "4  2019-2022  7       0.022         7   \n",
       "\n",
       "                                  Points per Cluster Davies-Bouldin  \\\n",
       "0                          {0: 2285, 1: 362, 2: 962}           None   \n",
       "1                  {0: 617, 1: 1674, 2: 868, 3: 450}           None   \n",
       "2          {0: 956, 1: 1665, 2: 356, 3: 121, 4: 511}           None   \n",
       "3   {0: 811, 1: 475, 2: 869, 3: 334, 4: 529, 5: 591}           None   \n",
       "4  {0: 803, 1: 464, 2: 345, 3: 84, 4: 591, 5: 796...           None   \n",
       "\n",
       "  Calinski-Harabasz Dunn Index Silhouette Score  Mean ANOVA F  \n",
       "0              None       None             None      6733.958  \n",
       "1              None       None             None      5021.993  \n",
       "2              None       None             None      3807.247  \n",
       "3              None       None             None      7872.212  \n",
       "4              None       None             None      6696.714  "
      ]
     },
     "metadata": {},
     "output_type": "display_data"
    },
    {
     "name": "stdout",
     "output_type": "stream",
     "text": [
      "\n",
      "Running K-Means for Year Range: 2020-2023\n",
      "Runtime for k_means: 0.004179 seconds\n"
     ]
    },
    {
     "name": "stderr",
     "output_type": "stream",
     "text": [
      "c:\\Users\\fionu\\OneDrive\\Dokumente\\Daten Fiona\\AIUB\\Code\\AIUB-Backup\\clustering\\high_dim_analysis.py:138: FutureWarning: \n",
      "\n",
      "Passing `palette` without assigning `hue` is deprecated and will be removed in v0.14.0. Assign the `y` variable to `hue` and set `legend=False` for the same effect.\n",
      "\n",
      "  sns.barplot(x=mi_vals, y=features, palette=\"magma\")\n"
     ]
    },
    {
     "name": "stdout",
     "output_type": "stream",
     "text": [
      "Runtime for k_means: 0.015766 seconds\n"
     ]
    },
    {
     "name": "stderr",
     "output_type": "stream",
     "text": [
      "c:\\Users\\fionu\\OneDrive\\Dokumente\\Daten Fiona\\AIUB\\Code\\AIUB-Backup\\clustering\\high_dim_analysis.py:138: FutureWarning: \n",
      "\n",
      "Passing `palette` without assigning `hue` is deprecated and will be removed in v0.14.0. Assign the `y` variable to `hue` and set `legend=False` for the same effect.\n",
      "\n",
      "  sns.barplot(x=mi_vals, y=features, palette=\"magma\")\n"
     ]
    },
    {
     "name": "stdout",
     "output_type": "stream",
     "text": [
      "Runtime for k_means: 0.015897 seconds\n"
     ]
    },
    {
     "name": "stderr",
     "output_type": "stream",
     "text": [
      "c:\\Users\\fionu\\OneDrive\\Dokumente\\Daten Fiona\\AIUB\\Code\\AIUB-Backup\\clustering\\high_dim_analysis.py:138: FutureWarning: \n",
      "\n",
      "Passing `palette` without assigning `hue` is deprecated and will be removed in v0.14.0. Assign the `y` variable to `hue` and set `legend=False` for the same effect.\n",
      "\n",
      "  sns.barplot(x=mi_vals, y=features, palette=\"magma\")\n"
     ]
    },
    {
     "name": "stdout",
     "output_type": "stream",
     "text": [
      "Runtime for k_means: 0.025225 seconds\n"
     ]
    },
    {
     "name": "stderr",
     "output_type": "stream",
     "text": [
      "c:\\Users\\fionu\\OneDrive\\Dokumente\\Daten Fiona\\AIUB\\Code\\AIUB-Backup\\clustering\\high_dim_analysis.py:138: FutureWarning: \n",
      "\n",
      "Passing `palette` without assigning `hue` is deprecated and will be removed in v0.14.0. Assign the `y` variable to `hue` and set `legend=False` for the same effect.\n",
      "\n",
      "  sns.barplot(x=mi_vals, y=features, palette=\"magma\")\n"
     ]
    },
    {
     "name": "stdout",
     "output_type": "stream",
     "text": [
      "Runtime for k_means: 0.031710 seconds\n"
     ]
    },
    {
     "name": "stderr",
     "output_type": "stream",
     "text": [
      "c:\\Users\\fionu\\OneDrive\\Dokumente\\Daten Fiona\\AIUB\\Code\\AIUB-Backup\\clustering\\high_dim_analysis.py:138: FutureWarning: \n",
      "\n",
      "Passing `palette` without assigning `hue` is deprecated and will be removed in v0.14.0. Assign the `y` variable to `hue` and set `legend=False` for the same effect.\n",
      "\n",
      "  sns.barplot(x=mi_vals, y=features, palette=\"magma\")\n"
     ]
    },
    {
     "name": "stdout",
     "output_type": "stream",
     "text": [
      "Runtime for k_means: 0.106623 seconds\n"
     ]
    },
    {
     "name": "stderr",
     "output_type": "stream",
     "text": [
      "c:\\Users\\fionu\\OneDrive\\Dokumente\\Daten Fiona\\AIUB\\Code\\AIUB-Backup\\clustering\\high_dim_analysis.py:42: FutureWarning: \n",
      "\n",
      "Passing `palette` without assigning `hue` is deprecated and will be removed in v0.14.0. Assign the `y` variable to `hue` and set `legend=False` for the same effect.\n",
      "\n",
      "  sns.barplot(x=f_vals, y=features, palette=\"crest\")\n"
     ]
    },
    {
     "name": "stdout",
     "output_type": "stream",
     "text": [
      "Best KMeans parameters based on ANOVA F-value:\n",
      "Year Range                                            2020-2023\n",
      "k                                                             5\n",
      "Runtime (s)                                               0.016\n",
      "Clusters                                                      5\n",
      "Points per Cluster    {0: 2035, 1: 543, 2: 605, 3: 447, 4: 742}\n",
      "Davies-Bouldin                                             None\n",
      "Calinski-Harabasz                                          None\n",
      "Dunn Index                                                 None\n",
      "Silhouette Score                                           None\n",
      "Mean ANOVA F                                          11898.546\n",
      "Name: 2, dtype: object\n"
     ]
    },
    {
     "data": {
      "application/vnd.microsoft.datawrangler.viewer.v0+json": {
       "columns": [
        {
         "name": "index",
         "rawType": "int64",
         "type": "integer"
        },
        {
         "name": "Year Range",
         "rawType": "object",
         "type": "string"
        },
        {
         "name": "k",
         "rawType": "int64",
         "type": "integer"
        },
        {
         "name": "Runtime (s)",
         "rawType": "object",
         "type": "string"
        },
        {
         "name": "Clusters",
         "rawType": "int64",
         "type": "integer"
        },
        {
         "name": "Points per Cluster",
         "rawType": "object",
         "type": "unknown"
        },
        {
         "name": "Davies-Bouldin",
         "rawType": "object",
         "type": "unknown"
        },
        {
         "name": "Calinski-Harabasz",
         "rawType": "object",
         "type": "unknown"
        },
        {
         "name": "Dunn Index",
         "rawType": "object",
         "type": "unknown"
        },
        {
         "name": "Silhouette Score",
         "rawType": "object",
         "type": "unknown"
        },
        {
         "name": "Mean ANOVA F",
         "rawType": "float64",
         "type": "float"
        }
       ],
       "ref": "10db936f-7104-4096-96a4-5e9c1e8f3d5a",
       "rows": [
        [
         "0",
         "2020-2023",
         "3",
         "0.004",
         "3",
         "{0: 1568, 1: 2041, 2: 763}",
         null,
         null,
         null,
         null,
         "7200.536"
        ],
        [
         "1",
         "2020-2023",
         "4",
         "0.016",
         "4",
         "{0: 2041, 1: 556, 2: 1016, 3: 759}",
         null,
         null,
         null,
         null,
         "6350.911"
        ],
        [
         "2",
         "2020-2023",
         "5",
         "0.016",
         "5",
         "{0: 2035, 1: 543, 2: 605, 3: 447, 4: 742}",
         null,
         null,
         null,
         null,
         "11898.546"
        ],
        [
         "3",
         "2020-2023",
         "6",
         "0.025",
         "6",
         "{0: 581, 1: 2033, 2: 743, 3: 428, 4: 66, 5: 521}",
         null,
         null,
         null,
         null,
         "9461.02"
        ],
        [
         "4",
         "2020-2023",
         "7",
         "0.032",
         "7",
         "{0: 731, 1: 367, 2: 600, 3: 1123, 4: 923, 5: 274, 6: 354}",
         null,
         null,
         null,
         null,
         "8882.92"
        ]
       ],
       "shape": {
        "columns": 10,
        "rows": 5
       }
      },
      "text/html": [
       "<div>\n",
       "<style scoped>\n",
       "    .dataframe tbody tr th:only-of-type {\n",
       "        vertical-align: middle;\n",
       "    }\n",
       "\n",
       "    .dataframe tbody tr th {\n",
       "        vertical-align: top;\n",
       "    }\n",
       "\n",
       "    .dataframe thead th {\n",
       "        text-align: right;\n",
       "    }\n",
       "</style>\n",
       "<table border=\"1\" class=\"dataframe\">\n",
       "  <thead>\n",
       "    <tr style=\"text-align: right;\">\n",
       "      <th></th>\n",
       "      <th>Year Range</th>\n",
       "      <th>k</th>\n",
       "      <th>Runtime (s)</th>\n",
       "      <th>Clusters</th>\n",
       "      <th>Points per Cluster</th>\n",
       "      <th>Davies-Bouldin</th>\n",
       "      <th>Calinski-Harabasz</th>\n",
       "      <th>Dunn Index</th>\n",
       "      <th>Silhouette Score</th>\n",
       "      <th>Mean ANOVA F</th>\n",
       "    </tr>\n",
       "  </thead>\n",
       "  <tbody>\n",
       "    <tr>\n",
       "      <th>0</th>\n",
       "      <td>2020-2023</td>\n",
       "      <td>3</td>\n",
       "      <td>0.004</td>\n",
       "      <td>3</td>\n",
       "      <td>{0: 1568, 1: 2041, 2: 763}</td>\n",
       "      <td>None</td>\n",
       "      <td>None</td>\n",
       "      <td>None</td>\n",
       "      <td>None</td>\n",
       "      <td>7200.536</td>\n",
       "    </tr>\n",
       "    <tr>\n",
       "      <th>1</th>\n",
       "      <td>2020-2023</td>\n",
       "      <td>4</td>\n",
       "      <td>0.016</td>\n",
       "      <td>4</td>\n",
       "      <td>{0: 2041, 1: 556, 2: 1016, 3: 759}</td>\n",
       "      <td>None</td>\n",
       "      <td>None</td>\n",
       "      <td>None</td>\n",
       "      <td>None</td>\n",
       "      <td>6350.911</td>\n",
       "    </tr>\n",
       "    <tr>\n",
       "      <th>2</th>\n",
       "      <td>2020-2023</td>\n",
       "      <td>5</td>\n",
       "      <td>0.016</td>\n",
       "      <td>5</td>\n",
       "      <td>{0: 2035, 1: 543, 2: 605, 3: 447, 4: 742}</td>\n",
       "      <td>None</td>\n",
       "      <td>None</td>\n",
       "      <td>None</td>\n",
       "      <td>None</td>\n",
       "      <td>11898.546</td>\n",
       "    </tr>\n",
       "    <tr>\n",
       "      <th>3</th>\n",
       "      <td>2020-2023</td>\n",
       "      <td>6</td>\n",
       "      <td>0.025</td>\n",
       "      <td>6</td>\n",
       "      <td>{0: 581, 1: 2033, 2: 743, 3: 428, 4: 66, 5: 521}</td>\n",
       "      <td>None</td>\n",
       "      <td>None</td>\n",
       "      <td>None</td>\n",
       "      <td>None</td>\n",
       "      <td>9461.020</td>\n",
       "    </tr>\n",
       "    <tr>\n",
       "      <th>4</th>\n",
       "      <td>2020-2023</td>\n",
       "      <td>7</td>\n",
       "      <td>0.032</td>\n",
       "      <td>7</td>\n",
       "      <td>{0: 731, 1: 367, 2: 600, 3: 1123, 4: 923, 5: 2...</td>\n",
       "      <td>None</td>\n",
       "      <td>None</td>\n",
       "      <td>None</td>\n",
       "      <td>None</td>\n",
       "      <td>8882.920</td>\n",
       "    </tr>\n",
       "  </tbody>\n",
       "</table>\n",
       "</div>"
      ],
      "text/plain": [
       "  Year Range  k Runtime (s)  Clusters  \\\n",
       "0  2020-2023  3       0.004         3   \n",
       "1  2020-2023  4       0.016         4   \n",
       "2  2020-2023  5       0.016         5   \n",
       "3  2020-2023  6       0.025         6   \n",
       "4  2020-2023  7       0.032         7   \n",
       "\n",
       "                                  Points per Cluster Davies-Bouldin  \\\n",
       "0                         {0: 1568, 1: 2041, 2: 763}           None   \n",
       "1                 {0: 2041, 1: 556, 2: 1016, 3: 759}           None   \n",
       "2          {0: 2035, 1: 543, 2: 605, 3: 447, 4: 742}           None   \n",
       "3   {0: 581, 1: 2033, 2: 743, 3: 428, 4: 66, 5: 521}           None   \n",
       "4  {0: 731, 1: 367, 2: 600, 3: 1123, 4: 923, 5: 2...           None   \n",
       "\n",
       "  Calinski-Harabasz Dunn Index Silhouette Score  Mean ANOVA F  \n",
       "0              None       None             None      7200.536  \n",
       "1              None       None             None      6350.911  \n",
       "2              None       None             None     11898.546  \n",
       "3              None       None             None      9461.020  \n",
       "4              None       None             None      8882.920  "
      ]
     },
     "metadata": {},
     "output_type": "display_data"
    }
   ],
   "source": [
    "import cluster_data_5d\n",
    "from cluster_data_5d import run_clustering, normalize_data, unnormalize\n",
    "import numpy as np\n",
    "import pandas as pd\n",
    "import os\n",
    "from kmeans import k_means\n",
    "from cluster_plotter import ClusterPlotter\n",
    "from clustering_utils_5d import ClusterData\n",
    "import cluster_plotter\n",
    "import high_dim_analysis\n",
    "\n",
    "standard_year_ranges = {\n",
    "    f\"{start}-{start + 3}\": np.arange(start, start + 4)\n",
    "    for start in [2002, 2006, 2010, 2014, 2019]\n",
    "}\n",
    "standard_year_ranges[\"2019-2023\"] = np.arange(2019, 2024)  # Include 2023\n",
    "running_ranges = cluster_data_5d.generate_running_year_ranges(2002, 2023, 4)\n",
    "\n",
    "binned_data = cluster_data_5d.bin_data_for_clustering(running_ranges, print_res=False)\n",
    "\n",
    "k_values = [5, 6, 7]\n",
    "\n",
    "results_per_year_range = {}\n",
    "\n",
    "# Output directory for plots\n",
    "plot_dir = \"Images\\k_means_running_bins_5d\"\n",
    "os.makedirs(plot_dir, exist_ok=True)\n",
    "cluster_plotter.clear_directory(plot_dir)\n",
    "\n",
    "for cluster_data, year_range in binned_data:  \n",
    "    print(f\"\\nRunning K-Means for Year Range: {year_range}\")\n",
    "\n",
    "    data_array = np.array([cluster_data.inc, cluster_data.raan, cluster_data.ecc]).T\n",
    "\n",
    "    normalized_data, data_min, data_max = normalize_data(data_array)\n",
    "\n",
    "    k_values = [3, 4, 5, 6, 7]\n",
    "\n",
    "    results = []\n",
    "\n",
    "    for k in k_values:\n",
    "        result_kmeans, time_kmeans, n_clusters_kmeans, points_per_cluster_kmeans, metrics_kmeans = run_clustering(\n",
    "            k_means, f\"K-means (k={k})\", normalized_data, data_min, data_max, k, init='kmeans++'\n",
    "        )\n",
    "\n",
    "        unnormalized_data, cluster_centers = unnormalize(\n",
    "            result_kmeans.data, result_kmeans.cluster_centers, data_min, data_max\n",
    "        )\n",
    "\n",
    "        # Round metric results\n",
    "        #rounded_cluster_std = {key: tuple(round(val, 3) for val in value) for key, value in metrics_kmeans[4].items()}\n",
    "        #rounded_square_density = {key: round(value, 3) for key, value in metrics_kmeans[5].items()}\n",
    "        #rounded_hull_density = {key: round(value, 3) for key, value in metrics_kmeans[6].items()}\n",
    "\n",
    "        results.append({\n",
    "            \"Year Range\": year_range,\n",
    "            \"k\": k,\n",
    "            \"Runtime (s)\": f\"{time_kmeans:.3f}\",\n",
    "            \"Clusters\": n_clusters_kmeans,\n",
    "            \"Points per Cluster\": points_per_cluster_kmeans,\n",
    "            \"Davies-Bouldin\": f\"{metrics_kmeans[0]:.3f}\" if metrics_kmeans and isinstance(metrics_kmeans[0], (int, float)) else None,\n",
    "            \"Calinski-Harabasz\": f\"{metrics_kmeans[1]:.3f}\" if metrics_kmeans and isinstance(metrics_kmeans[1], (int, float)) else None,\n",
    "            \"Dunn Index\": f\"{metrics_kmeans[2]:.3f}\" if metrics_kmeans and isinstance(metrics_kmeans[2], (int, float)) else None,\n",
    "            \"Silhouette Score\": f\"{metrics_kmeans[3]:.3f}\" if metrics_kmeans and isinstance(metrics_kmeans[3], (int, float)) else None\n",
    "        })\n",
    "\n",
    "        labels = result_kmeans.labels\n",
    "        \"\"\"high_dim_analysis.plot_co_membership(\n",
    "            labels,\n",
    "            output_folder=plot_dir,\n",
    "            filename=f\"co_membership_{year_range}_k{k}.png\"\n",
    "        )\"\"\"\n",
    "        high_dim_analysis.plot_correlation_heatmap(\n",
    "            cluster_data,\n",
    "            output_folder=plot_dir,\n",
    "            filename=f\"corr_{year_range}_k{k}.png\"\n",
    "        )\n",
    "        high_dim_analysis.plot_mutual_information(\n",
    "            cluster_data,\n",
    "            labels,\n",
    "            output_folder=plot_dir,\n",
    "            filename=f\"mi_{year_range}_k{k}.png\"\n",
    "        )\n",
    "\n",
    "        from sklearn.feature_selection import f_classif\n",
    "        X = np.array([cluster_data.inc, cluster_data.raan, cluster_data.sem_maj,\n",
    "              cluster_data.ecc, cluster_data.mag]).T\n",
    "        valid = labels != -1  # Exclude noise points\n",
    "        if np.any(valid) and len(np.unique(labels[valid])) > 1:\n",
    "            f_vals, _ = f_classif(X[valid], labels[valid])\n",
    "            mean_f = np.mean(f_vals)\n",
    "        else:\n",
    "            mean_f = 0.0  # Avoid invalid or single-cluster cases\n",
    "\n",
    "        results[-1][\"Mean ANOVA F\"] = f\"{mean_f:.3f}\"\n",
    "\n",
    "    df = pd.DataFrame(results)\n",
    "    df[\"Mean ANOVA F\"] = pd.to_numeric(df[\"Mean ANOVA F\"], errors=\"coerce\")\n",
    "    df_sorted = df.sort_values(by=\"Mean ANOVA F\", ascending=False)\n",
    "    best_params = df_sorted.iloc[0]\n",
    "    best_k = best_params[\"k\"]\n",
    "\n",
    "    # Re-run clustering with best parameters to get labels\n",
    "    best_result, _, _, _, _ = run_clustering(\n",
    "        k_means, f\"K-means (k={k})\", normalized_data, data_min, data_max, int(best_k), init='kmeans++'\n",
    "    )\n",
    "    best_labels = best_result.labels\n",
    "\n",
    "    # Plot ANOVA F-values only for best result\n",
    "    high_dim_analysis.plot_anova_f_values(\n",
    "        cluster_data,\n",
    "        best_labels,\n",
    "        output_folder=plot_dir,\n",
    "        filename=f\"anova_best_{year_range}_k{best_k}.png\",\n",
    "        title=f\"ANOVA F-values (Best KMeans Parameters), k = {int(best_k)}\"\n",
    "    )\n",
    "    print(\"Best KMeans parameters based on ANOVA F-value:\")\n",
    "    print(best_params)\n",
    "\n",
    "    display(df)\n"
   ]
  },
  {
   "cell_type": "markdown",
   "id": "79f6b91a",
   "metadata": {},
   "source": [
    "# DBSCAN"
   ]
  },
  {
   "cell_type": "code",
   "execution_count": 2,
   "id": "2753cf93",
   "metadata": {},
   "outputs": [
    {
     "name": "stderr",
     "output_type": "stream",
     "text": [
      "<>:26: SyntaxWarning: invalid escape sequence '\\d'\n",
      "<>:26: SyntaxWarning: invalid escape sequence '\\d'\n",
      "C:\\Users\\fionu\\AppData\\Local\\Temp\\ipykernel_48812\\3786361329.py:26: SyntaxWarning: invalid escape sequence '\\d'\n",
      "  plot_dir = \"Images\\dbscan_tests_running_bins_5d\"\n"
     ]
    },
    {
     "name": "stdout",
     "output_type": "stream",
     "text": [
      "\n",
      "Running DBSCAN for Year Range: 2002-2005\n",
      "Runtime for dbscan_clustering: 0.283700 seconds\n"
     ]
    },
    {
     "name": "stderr",
     "output_type": "stream",
     "text": [
      "c:\\Users\\fionu\\anaconda3\\Lib\\site-packages\\joblib\\externals\\loky\\backend\\context.py:136: UserWarning: Could not find the number of physical cores for the following reason:\n",
      "[WinError 2] Das System kann die angegebene Datei nicht finden\n",
      "Returning the number of logical cores instead. You can silence this warning by setting LOKY_MAX_CPU_COUNT to the number of cores you want to use.\n",
      "  warnings.warn(\n",
      "  File \"c:\\Users\\fionu\\anaconda3\\Lib\\site-packages\\joblib\\externals\\loky\\backend\\context.py\", line 257, in _count_physical_cores\n",
      "    cpu_info = subprocess.run(\n",
      "               ^^^^^^^^^^^^^^^\n",
      "  File \"c:\\Users\\fionu\\anaconda3\\Lib\\subprocess.py\", line 548, in run\n",
      "    with Popen(*popenargs, **kwargs) as process:\n",
      "         ^^^^^^^^^^^^^^^^^^^^^^^^^^^\n",
      "  File \"c:\\Users\\fionu\\anaconda3\\Lib\\subprocess.py\", line 1026, in __init__\n",
      "    self._execute_child(args, executable, preexec_fn, close_fds,\n",
      "  File \"c:\\Users\\fionu\\anaconda3\\Lib\\subprocess.py\", line 1538, in _execute_child\n",
      "    hp, ht, pid, tid = _winapi.CreateProcess(executable, args,\n",
      "                       ^^^^^^^^^^^^^^^^^^^^^^^^^^^^^^^^^^^^^^^\n",
      "c:\\Users\\fionu\\OneDrive\\Dokumente\\Daten Fiona\\AIUB\\Code\\AIUB-Backup\\clustering\\high_dim_analysis.py:138: FutureWarning: \n",
      "\n",
      "Passing `palette` without assigning `hue` is deprecated and will be removed in v0.14.0. Assign the `y` variable to `hue` and set `legend=False` for the same effect.\n",
      "\n",
      "  sns.barplot(x=mi_vals, y=features, palette=\"magma\")\n"
     ]
    },
    {
     "name": "stdout",
     "output_type": "stream",
     "text": [
      "Runtime for dbscan_clustering: 0.222295 seconds\n"
     ]
    },
    {
     "name": "stderr",
     "output_type": "stream",
     "text": [
      "c:\\Users\\fionu\\OneDrive\\Dokumente\\Daten Fiona\\AIUB\\Code\\AIUB-Backup\\clustering\\high_dim_analysis.py:138: FutureWarning: \n",
      "\n",
      "Passing `palette` without assigning `hue` is deprecated and will be removed in v0.14.0. Assign the `y` variable to `hue` and set `legend=False` for the same effect.\n",
      "\n",
      "  sns.barplot(x=mi_vals, y=features, palette=\"magma\")\n"
     ]
    },
    {
     "name": "stdout",
     "output_type": "stream",
     "text": [
      "Runtime for dbscan_clustering: 0.209562 seconds\n"
     ]
    },
    {
     "name": "stderr",
     "output_type": "stream",
     "text": [
      "c:\\Users\\fionu\\OneDrive\\Dokumente\\Daten Fiona\\AIUB\\Code\\AIUB-Backup\\clustering\\high_dim_analysis.py:138: FutureWarning: \n",
      "\n",
      "Passing `palette` without assigning `hue` is deprecated and will be removed in v0.14.0. Assign the `y` variable to `hue` and set `legend=False` for the same effect.\n",
      "\n",
      "  sns.barplot(x=mi_vals, y=features, palette=\"magma\")\n"
     ]
    },
    {
     "name": "stdout",
     "output_type": "stream",
     "text": [
      "Runtime for dbscan_clustering: 0.207335 seconds\n"
     ]
    },
    {
     "name": "stderr",
     "output_type": "stream",
     "text": [
      "c:\\Users\\fionu\\OneDrive\\Dokumente\\Daten Fiona\\AIUB\\Code\\AIUB-Backup\\clustering\\high_dim_analysis.py:138: FutureWarning: \n",
      "\n",
      "Passing `palette` without assigning `hue` is deprecated and will be removed in v0.14.0. Assign the `y` variable to `hue` and set `legend=False` for the same effect.\n",
      "\n",
      "  sns.barplot(x=mi_vals, y=features, palette=\"magma\")\n"
     ]
    },
    {
     "name": "stdout",
     "output_type": "stream",
     "text": [
      "Runtime for dbscan_clustering: 0.152127 seconds\n"
     ]
    },
    {
     "name": "stderr",
     "output_type": "stream",
     "text": [
      "c:\\Users\\fionu\\OneDrive\\Dokumente\\Daten Fiona\\AIUB\\Code\\AIUB-Backup\\clustering\\high_dim_analysis.py:138: FutureWarning: \n",
      "\n",
      "Passing `palette` without assigning `hue` is deprecated and will be removed in v0.14.0. Assign the `y` variable to `hue` and set `legend=False` for the same effect.\n",
      "\n",
      "  sns.barplot(x=mi_vals, y=features, palette=\"magma\")\n"
     ]
    },
    {
     "name": "stdout",
     "output_type": "stream",
     "text": [
      "Runtime for dbscan_clustering: 0.127365 seconds\n"
     ]
    },
    {
     "name": "stderr",
     "output_type": "stream",
     "text": [
      "c:\\Users\\fionu\\OneDrive\\Dokumente\\Daten Fiona\\AIUB\\Code\\AIUB-Backup\\clustering\\high_dim_analysis.py:138: FutureWarning: \n",
      "\n",
      "Passing `palette` without assigning `hue` is deprecated and will be removed in v0.14.0. Assign the `y` variable to `hue` and set `legend=False` for the same effect.\n",
      "\n",
      "  sns.barplot(x=mi_vals, y=features, palette=\"magma\")\n"
     ]
    },
    {
     "name": "stdout",
     "output_type": "stream",
     "text": [
      "Runtime for dbscan_clustering: 0.127683 seconds\n"
     ]
    },
    {
     "name": "stderr",
     "output_type": "stream",
     "text": [
      "c:\\Users\\fionu\\OneDrive\\Dokumente\\Daten Fiona\\AIUB\\Code\\AIUB-Backup\\clustering\\high_dim_analysis.py:138: FutureWarning: \n",
      "\n",
      "Passing `palette` without assigning `hue` is deprecated and will be removed in v0.14.0. Assign the `y` variable to `hue` and set `legend=False` for the same effect.\n",
      "\n",
      "  sns.barplot(x=mi_vals, y=features, palette=\"magma\")\n"
     ]
    },
    {
     "name": "stdout",
     "output_type": "stream",
     "text": [
      "Runtime for dbscan_clustering: 0.127004 seconds\n"
     ]
    },
    {
     "name": "stderr",
     "output_type": "stream",
     "text": [
      "c:\\Users\\fionu\\OneDrive\\Dokumente\\Daten Fiona\\AIUB\\Code\\AIUB-Backup\\clustering\\high_dim_analysis.py:138: FutureWarning: \n",
      "\n",
      "Passing `palette` without assigning `hue` is deprecated and will be removed in v0.14.0. Assign the `y` variable to `hue` and set `legend=False` for the same effect.\n",
      "\n",
      "  sns.barplot(x=mi_vals, y=features, palette=\"magma\")\n"
     ]
    },
    {
     "name": "stdout",
     "output_type": "stream",
     "text": [
      "Runtime for dbscan_clustering: 0.164994 seconds\n"
     ]
    },
    {
     "name": "stderr",
     "output_type": "stream",
     "text": [
      "c:\\Users\\fionu\\OneDrive\\Dokumente\\Daten Fiona\\AIUB\\Code\\AIUB-Backup\\clustering\\high_dim_analysis.py:138: FutureWarning: \n",
      "\n",
      "Passing `palette` without assigning `hue` is deprecated and will be removed in v0.14.0. Assign the `y` variable to `hue` and set `legend=False` for the same effect.\n",
      "\n",
      "  sns.barplot(x=mi_vals, y=features, palette=\"magma\")\n"
     ]
    },
    {
     "name": "stdout",
     "output_type": "stream",
     "text": [
      "Runtime for dbscan_clustering: 0.209814 seconds\n"
     ]
    },
    {
     "name": "stderr",
     "output_type": "stream",
     "text": [
      "c:\\Users\\fionu\\OneDrive\\Dokumente\\Daten Fiona\\AIUB\\Code\\AIUB-Backup\\clustering\\high_dim_analysis.py:138: FutureWarning: \n",
      "\n",
      "Passing `palette` without assigning `hue` is deprecated and will be removed in v0.14.0. Assign the `y` variable to `hue` and set `legend=False` for the same effect.\n",
      "\n",
      "  sns.barplot(x=mi_vals, y=features, palette=\"magma\")\n"
     ]
    },
    {
     "name": "stdout",
     "output_type": "stream",
     "text": [
      "Runtime for dbscan_clustering: 0.191096 seconds\n"
     ]
    },
    {
     "name": "stderr",
     "output_type": "stream",
     "text": [
      "c:\\Users\\fionu\\OneDrive\\Dokumente\\Daten Fiona\\AIUB\\Code\\AIUB-Backup\\clustering\\high_dim_analysis.py:138: FutureWarning: \n",
      "\n",
      "Passing `palette` without assigning `hue` is deprecated and will be removed in v0.14.0. Assign the `y` variable to `hue` and set `legend=False` for the same effect.\n",
      "\n",
      "  sns.barplot(x=mi_vals, y=features, palette=\"magma\")\n"
     ]
    },
    {
     "name": "stdout",
     "output_type": "stream",
     "text": [
      "Runtime for dbscan_clustering: 0.231024 seconds\n"
     ]
    },
    {
     "name": "stderr",
     "output_type": "stream",
     "text": [
      "c:\\Users\\fionu\\OneDrive\\Dokumente\\Daten Fiona\\AIUB\\Code\\AIUB-Backup\\clustering\\high_dim_analysis.py:138: FutureWarning: \n",
      "\n",
      "Passing `palette` without assigning `hue` is deprecated and will be removed in v0.14.0. Assign the `y` variable to `hue` and set `legend=False` for the same effect.\n",
      "\n",
      "  sns.barplot(x=mi_vals, y=features, palette=\"magma\")\n"
     ]
    },
    {
     "name": "stdout",
     "output_type": "stream",
     "text": [
      "Runtime for dbscan_clustering: 0.159459 seconds\n"
     ]
    },
    {
     "name": "stderr",
     "output_type": "stream",
     "text": [
      "c:\\Users\\fionu\\OneDrive\\Dokumente\\Daten Fiona\\AIUB\\Code\\AIUB-Backup\\clustering\\high_dim_analysis.py:42: FutureWarning: \n",
      "\n",
      "Passing `palette` without assigning `hue` is deprecated and will be removed in v0.14.0. Assign the `y` variable to `hue` and set `legend=False` for the same effect.\n",
      "\n",
      "  sns.barplot(x=f_vals, y=features, palette=\"crest\")\n"
     ]
    },
    {
     "name": "stdout",
     "output_type": "stream",
     "text": [
      "Best DBSCAN parameters based on ANOVA F-value:\n",
      "Year Range                                                       2002-2005\n",
      "eps                                                                   0.01\n",
      "min_samples                                                             30\n",
      "Runtime (s)                                                          0.127\n",
      "Clusters                                                                 6\n",
      "Points per Cluster       {0: 192, 1: 1560, 2: 294, 3: 269, 4: 706, -1: ...\n",
      "Noise Points                                                          5016\n",
      "Davies-Bouldin                                                        None\n",
      "Calinski-Harabasz                                                     None\n",
      "Weighted Mean ANOVA F                                            92159.898\n",
      "Name: 7, dtype: object\n"
     ]
    },
    {
     "data": {
      "application/vnd.microsoft.datawrangler.viewer.v0+json": {
       "columns": [
        {
         "name": "index",
         "rawType": "int64",
         "type": "integer"
        },
        {
         "name": "Year Range",
         "rawType": "object",
         "type": "string"
        },
        {
         "name": "eps",
         "rawType": "float64",
         "type": "float"
        },
        {
         "name": "min_samples",
         "rawType": "int64",
         "type": "integer"
        },
        {
         "name": "Runtime (s)",
         "rawType": "object",
         "type": "string"
        },
        {
         "name": "Clusters",
         "rawType": "int64",
         "type": "integer"
        },
        {
         "name": "Points per Cluster",
         "rawType": "object",
         "type": "unknown"
        },
        {
         "name": "Noise Points",
         "rawType": "int32",
         "type": "integer"
        },
        {
         "name": "Davies-Bouldin",
         "rawType": "object",
         "type": "unknown"
        },
        {
         "name": "Calinski-Harabasz",
         "rawType": "object",
         "type": "unknown"
        },
        {
         "name": "Weighted Mean ANOVA F",
         "rawType": "float64",
         "type": "float"
        }
       ],
       "ref": "fb469432-cf7d-4e5c-aa65-a04caad41b51",
       "rows": [
        [
         "0",
         "2002-2005",
         "0.02",
         "10",
         "0.284",
         "47",
         "{0: 467, 1: 32, 2: 10, 3: 28, 4: 19, 5: 15, 6: 12, 7: 14, 8: 16, 9: 100, 10: 237, 11: 21, 12: 29, 13: 29, 14: 65, 15: 33, 16: 3855, 17: 20, 18: 11, 19: 44, 20: 104, 21: 95, 22: 10, 23: 25, 24: 20, 25: 11, 26: 14, 27: 50, 28: 13, 29: 34, 30: 23, 31: 11, 32: 121, 33: 10, 34: 12, 35: 18, 36: 11, 37: 11, 38: 15, 39: 13, 40: 11, 41: 6, 42: 10, 43: 30, 44: 11, 45: 11, -1: 2280}",
         "2280",
         null,
         null,
         null
        ],
        [
         "1",
         "2002-2005",
         "0.02",
         "15",
         "0.222",
         "31",
         "{0: 95, 1: 30, 2: 336, 3: 28, 4: 29, 5: 95, 6: 48, 7: 21, 8: 23, 9: 52, 10: 25, 11: 31, 12: 20, 13: 3836, 14: 18, 15: 20, 16: 37, 17: 91, 18: 92, 19: 24, 20: 17, 21: 31, 22: 11, 23: 34, 24: 15, 25: 113, 26: 21, 27: 16, 28: 16, 29: 21, -1: 2791}",
         "2791",
         null,
         null,
         null
        ],
        [
         "2",
         "2002-2005",
         "0.02",
         "25",
         "0.210",
         "12",
         "{0: 77, 1: 30, 2: 337, 3: 2558, 4: 25, 5: 74, 6: 32, 7: 1185, 8: 66, 9: 37, 10: 25, -1: 3591}",
         "3591",
         null,
         null,
         null
        ],
        [
         "3",
         "2002-2005",
         "0.02",
         "30",
         "0.207",
         "7",
         "{0: 68, 1: 321, 2: 2508, 3: 67, 4: 1189, 5: 64, -1: 3820}",
         "3820",
         null,
         null,
         "60416.862"
        ],
        [
         "4",
         "2002-2005",
         "0.01",
         "10",
         "0.152",
         "39",
         "{0: 29, 1: 23, 2: 14, 3: 243, 4: 11, 5: 10, 6: 13, 7: 11, 8: 2228, 9: 11, 10: 14, 11: 18, 12: 26, 13: 10, 14: 16, 15: 16, 16: 10, 17: 15, 18: 338, 19: 761, 20: 10, 21: 19, 22: 12, 23: 10, 24: 18, 25: 11, 26: 11, 27: 11, 28: 10, 29: 12, 30: 10, 31: 12, 32: 17, 33: 12, 34: 18, 35: 30, 36: 10, 37: 10, -1: 3977}",
         "3977",
         null,
         null,
         null
        ],
        [
         "5",
         "2002-2005",
         "0.01",
         "15",
         "0.127",
         "17",
         "{0: 24, 1: 16, 2: 243, 3: 2079, 4: 23, 5: 15, 6: 325, 7: 733, 8: 17, 9: 16, 10: 28, 11: 17, 12: 18, 13: 11, 14: 32, 15: 26, -1: 4414}",
         "4414",
         null,
         null,
         null
        ],
        [
         "6",
         "2002-2005",
         "0.01",
         "25",
         "0.128",
         "5",
         "{0: 202, 1: 1891, 2: 280, 3: 719, -1: 4945}",
         "4945",
         null,
         null,
         null
        ],
        [
         "7",
         "2002-2005",
         "0.01",
         "30",
         "0.127",
         "6",
         "{0: 192, 1: 1560, 2: 294, 3: 269, 4: 706, -1: 5016}",
         "5016",
         null,
         null,
         "92159.898"
        ],
        [
         "8",
         "2002-2005",
         "0.015",
         "10",
         "0.165",
         "54",
         "{0: 84, 1: 29, 2: 296, 3: 10, 4: 5, 5: 12, 6: 17, 7: 12, 8: 14, 9: 14, 10: 16, 11: 21, 12: 25, 13: 18, 14: 19, 15: 3691, 16: 5, 17: 12, 18: 7, 19: 84, 20: 11, 21: 17, 22: 29, 23: 78, 24: 10, 25: 35, 26: 13, 27: 21, 28: 7, 29: 18, 30: 23, 31: 10, 32: 11, 33: 35, 34: 10, 35: 17, 36: 10, 37: 62, 38: 10, 39: 11, 40: 20, 41: 20, 42: 11, 43: 10, 44: 11, 45: 18, 46: 15, 47: 21, 48: 10, 49: 16, 50: 38, 51: 10, 52: 10, -1: 2998}",
         "2998",
         null,
         null,
         null
        ],
        [
         "9",
         "2002-2005",
         "0.015",
         "15",
         "0.210",
         "22",
         "{0: 64, 1: 29, 2: 292, 3: 17, 4: 3640, 5: 26, 6: 22, 7: 27, 8: 64, 9: 35, 10: 15, 11: 19, 12: 61, 13: 20, 14: 15, 15: 17, 16: 16, 17: 13, 18: 15, 19: 35, 20: 16, -1: 3579}",
         "3579",
         null,
         null,
         null
        ],
        [
         "10",
         "2002-2005",
         "0.015",
         "25",
         "0.191",
         "8",
         "{0: 42, 1: 285, 2: 2388, 3: 29, 4: 49, 5: 1146, 6: 45, -1: 4053}",
         "4053",
         null,
         null,
         null
        ],
        [
         "11",
         "2002-2005",
         "0.015",
         "30",
         "0.231",
         "7",
         "{0: 31, 1: 281, 2: 2336, 3: 31, 4: 1139, 5: 32, -1: 4187}",
         "4187",
         null,
         null,
         "52256.455"
        ]
       ],
       "shape": {
        "columns": 10,
        "rows": 12
       }
      },
      "text/html": [
       "<div>\n",
       "<style scoped>\n",
       "    .dataframe tbody tr th:only-of-type {\n",
       "        vertical-align: middle;\n",
       "    }\n",
       "\n",
       "    .dataframe tbody tr th {\n",
       "        vertical-align: top;\n",
       "    }\n",
       "\n",
       "    .dataframe thead th {\n",
       "        text-align: right;\n",
       "    }\n",
       "</style>\n",
       "<table border=\"1\" class=\"dataframe\">\n",
       "  <thead>\n",
       "    <tr style=\"text-align: right;\">\n",
       "      <th></th>\n",
       "      <th>Year Range</th>\n",
       "      <th>eps</th>\n",
       "      <th>min_samples</th>\n",
       "      <th>Runtime (s)</th>\n",
       "      <th>Clusters</th>\n",
       "      <th>Points per Cluster</th>\n",
       "      <th>Noise Points</th>\n",
       "      <th>Davies-Bouldin</th>\n",
       "      <th>Calinski-Harabasz</th>\n",
       "      <th>Weighted Mean ANOVA F</th>\n",
       "    </tr>\n",
       "  </thead>\n",
       "  <tbody>\n",
       "    <tr>\n",
       "      <th>0</th>\n",
       "      <td>2002-2005</td>\n",
       "      <td>0.020</td>\n",
       "      <td>10</td>\n",
       "      <td>0.284</td>\n",
       "      <td>47</td>\n",
       "      <td>{0: 467, 1: 32, 2: 10, 3: 28, 4: 19, 5: 15, 6:...</td>\n",
       "      <td>2280</td>\n",
       "      <td>None</td>\n",
       "      <td>None</td>\n",
       "      <td>NaN</td>\n",
       "    </tr>\n",
       "    <tr>\n",
       "      <th>1</th>\n",
       "      <td>2002-2005</td>\n",
       "      <td>0.020</td>\n",
       "      <td>15</td>\n",
       "      <td>0.222</td>\n",
       "      <td>31</td>\n",
       "      <td>{0: 95, 1: 30, 2: 336, 3: 28, 4: 29, 5: 95, 6:...</td>\n",
       "      <td>2791</td>\n",
       "      <td>None</td>\n",
       "      <td>None</td>\n",
       "      <td>NaN</td>\n",
       "    </tr>\n",
       "    <tr>\n",
       "      <th>2</th>\n",
       "      <td>2002-2005</td>\n",
       "      <td>0.020</td>\n",
       "      <td>25</td>\n",
       "      <td>0.210</td>\n",
       "      <td>12</td>\n",
       "      <td>{0: 77, 1: 30, 2: 337, 3: 2558, 4: 25, 5: 74, ...</td>\n",
       "      <td>3591</td>\n",
       "      <td>None</td>\n",
       "      <td>None</td>\n",
       "      <td>NaN</td>\n",
       "    </tr>\n",
       "    <tr>\n",
       "      <th>3</th>\n",
       "      <td>2002-2005</td>\n",
       "      <td>0.020</td>\n",
       "      <td>30</td>\n",
       "      <td>0.207</td>\n",
       "      <td>7</td>\n",
       "      <td>{0: 68, 1: 321, 2: 2508, 3: 67, 4: 1189, 5: 64...</td>\n",
       "      <td>3820</td>\n",
       "      <td>None</td>\n",
       "      <td>None</td>\n",
       "      <td>60416.862</td>\n",
       "    </tr>\n",
       "    <tr>\n",
       "      <th>4</th>\n",
       "      <td>2002-2005</td>\n",
       "      <td>0.010</td>\n",
       "      <td>10</td>\n",
       "      <td>0.152</td>\n",
       "      <td>39</td>\n",
       "      <td>{0: 29, 1: 23, 2: 14, 3: 243, 4: 11, 5: 10, 6:...</td>\n",
       "      <td>3977</td>\n",
       "      <td>None</td>\n",
       "      <td>None</td>\n",
       "      <td>NaN</td>\n",
       "    </tr>\n",
       "    <tr>\n",
       "      <th>5</th>\n",
       "      <td>2002-2005</td>\n",
       "      <td>0.010</td>\n",
       "      <td>15</td>\n",
       "      <td>0.127</td>\n",
       "      <td>17</td>\n",
       "      <td>{0: 24, 1: 16, 2: 243, 3: 2079, 4: 23, 5: 15, ...</td>\n",
       "      <td>4414</td>\n",
       "      <td>None</td>\n",
       "      <td>None</td>\n",
       "      <td>NaN</td>\n",
       "    </tr>\n",
       "    <tr>\n",
       "      <th>6</th>\n",
       "      <td>2002-2005</td>\n",
       "      <td>0.010</td>\n",
       "      <td>25</td>\n",
       "      <td>0.128</td>\n",
       "      <td>5</td>\n",
       "      <td>{0: 202, 1: 1891, 2: 280, 3: 719, -1: 4945}</td>\n",
       "      <td>4945</td>\n",
       "      <td>None</td>\n",
       "      <td>None</td>\n",
       "      <td>NaN</td>\n",
       "    </tr>\n",
       "    <tr>\n",
       "      <th>7</th>\n",
       "      <td>2002-2005</td>\n",
       "      <td>0.010</td>\n",
       "      <td>30</td>\n",
       "      <td>0.127</td>\n",
       "      <td>6</td>\n",
       "      <td>{0: 192, 1: 1560, 2: 294, 3: 269, 4: 706, -1: ...</td>\n",
       "      <td>5016</td>\n",
       "      <td>None</td>\n",
       "      <td>None</td>\n",
       "      <td>92159.898</td>\n",
       "    </tr>\n",
       "    <tr>\n",
       "      <th>8</th>\n",
       "      <td>2002-2005</td>\n",
       "      <td>0.015</td>\n",
       "      <td>10</td>\n",
       "      <td>0.165</td>\n",
       "      <td>54</td>\n",
       "      <td>{0: 84, 1: 29, 2: 296, 3: 10, 4: 5, 5: 12, 6: ...</td>\n",
       "      <td>2998</td>\n",
       "      <td>None</td>\n",
       "      <td>None</td>\n",
       "      <td>NaN</td>\n",
       "    </tr>\n",
       "    <tr>\n",
       "      <th>9</th>\n",
       "      <td>2002-2005</td>\n",
       "      <td>0.015</td>\n",
       "      <td>15</td>\n",
       "      <td>0.210</td>\n",
       "      <td>22</td>\n",
       "      <td>{0: 64, 1: 29, 2: 292, 3: 17, 4: 3640, 5: 26, ...</td>\n",
       "      <td>3579</td>\n",
       "      <td>None</td>\n",
       "      <td>None</td>\n",
       "      <td>NaN</td>\n",
       "    </tr>\n",
       "    <tr>\n",
       "      <th>10</th>\n",
       "      <td>2002-2005</td>\n",
       "      <td>0.015</td>\n",
       "      <td>25</td>\n",
       "      <td>0.191</td>\n",
       "      <td>8</td>\n",
       "      <td>{0: 42, 1: 285, 2: 2388, 3: 29, 4: 49, 5: 1146...</td>\n",
       "      <td>4053</td>\n",
       "      <td>None</td>\n",
       "      <td>None</td>\n",
       "      <td>NaN</td>\n",
       "    </tr>\n",
       "    <tr>\n",
       "      <th>11</th>\n",
       "      <td>2002-2005</td>\n",
       "      <td>0.015</td>\n",
       "      <td>30</td>\n",
       "      <td>0.231</td>\n",
       "      <td>7</td>\n",
       "      <td>{0: 31, 1: 281, 2: 2336, 3: 31, 4: 1139, 5: 32...</td>\n",
       "      <td>4187</td>\n",
       "      <td>None</td>\n",
       "      <td>None</td>\n",
       "      <td>52256.455</td>\n",
       "    </tr>\n",
       "  </tbody>\n",
       "</table>\n",
       "</div>"
      ],
      "text/plain": [
       "   Year Range    eps  min_samples Runtime (s)  Clusters  \\\n",
       "0   2002-2005  0.020           10       0.284        47   \n",
       "1   2002-2005  0.020           15       0.222        31   \n",
       "2   2002-2005  0.020           25       0.210        12   \n",
       "3   2002-2005  0.020           30       0.207         7   \n",
       "4   2002-2005  0.010           10       0.152        39   \n",
       "5   2002-2005  0.010           15       0.127        17   \n",
       "6   2002-2005  0.010           25       0.128         5   \n",
       "7   2002-2005  0.010           30       0.127         6   \n",
       "8   2002-2005  0.015           10       0.165        54   \n",
       "9   2002-2005  0.015           15       0.210        22   \n",
       "10  2002-2005  0.015           25       0.191         8   \n",
       "11  2002-2005  0.015           30       0.231         7   \n",
       "\n",
       "                                   Points per Cluster  Noise Points  \\\n",
       "0   {0: 467, 1: 32, 2: 10, 3: 28, 4: 19, 5: 15, 6:...          2280   \n",
       "1   {0: 95, 1: 30, 2: 336, 3: 28, 4: 29, 5: 95, 6:...          2791   \n",
       "2   {0: 77, 1: 30, 2: 337, 3: 2558, 4: 25, 5: 74, ...          3591   \n",
       "3   {0: 68, 1: 321, 2: 2508, 3: 67, 4: 1189, 5: 64...          3820   \n",
       "4   {0: 29, 1: 23, 2: 14, 3: 243, 4: 11, 5: 10, 6:...          3977   \n",
       "5   {0: 24, 1: 16, 2: 243, 3: 2079, 4: 23, 5: 15, ...          4414   \n",
       "6         {0: 202, 1: 1891, 2: 280, 3: 719, -1: 4945}          4945   \n",
       "7   {0: 192, 1: 1560, 2: 294, 3: 269, 4: 706, -1: ...          5016   \n",
       "8   {0: 84, 1: 29, 2: 296, 3: 10, 4: 5, 5: 12, 6: ...          2998   \n",
       "9   {0: 64, 1: 29, 2: 292, 3: 17, 4: 3640, 5: 26, ...          3579   \n",
       "10  {0: 42, 1: 285, 2: 2388, 3: 29, 4: 49, 5: 1146...          4053   \n",
       "11  {0: 31, 1: 281, 2: 2336, 3: 31, 4: 1139, 5: 32...          4187   \n",
       "\n",
       "   Davies-Bouldin Calinski-Harabasz  Weighted Mean ANOVA F  \n",
       "0            None              None                    NaN  \n",
       "1            None              None                    NaN  \n",
       "2            None              None                    NaN  \n",
       "3            None              None              60416.862  \n",
       "4            None              None                    NaN  \n",
       "5            None              None                    NaN  \n",
       "6            None              None                    NaN  \n",
       "7            None              None              92159.898  \n",
       "8            None              None                    NaN  \n",
       "9            None              None                    NaN  \n",
       "10           None              None                    NaN  \n",
       "11           None              None              52256.455  "
      ]
     },
     "metadata": {},
     "output_type": "display_data"
    },
    {
     "name": "stdout",
     "output_type": "stream",
     "text": [
      "\n",
      "Running DBSCAN for Year Range: 2003-2006\n",
      "Runtime for dbscan_clustering: 0.302263 seconds\n"
     ]
    },
    {
     "name": "stderr",
     "output_type": "stream",
     "text": [
      "c:\\Users\\fionu\\OneDrive\\Dokumente\\Daten Fiona\\AIUB\\Code\\AIUB-Backup\\clustering\\high_dim_analysis.py:138: FutureWarning: \n",
      "\n",
      "Passing `palette` without assigning `hue` is deprecated and will be removed in v0.14.0. Assign the `y` variable to `hue` and set `legend=False` for the same effect.\n",
      "\n",
      "  sns.barplot(x=mi_vals, y=features, palette=\"magma\")\n"
     ]
    },
    {
     "name": "stdout",
     "output_type": "stream",
     "text": [
      "Runtime for dbscan_clustering: 0.268755 seconds\n"
     ]
    },
    {
     "name": "stderr",
     "output_type": "stream",
     "text": [
      "c:\\Users\\fionu\\OneDrive\\Dokumente\\Daten Fiona\\AIUB\\Code\\AIUB-Backup\\clustering\\high_dim_analysis.py:138: FutureWarning: \n",
      "\n",
      "Passing `palette` without assigning `hue` is deprecated and will be removed in v0.14.0. Assign the `y` variable to `hue` and set `legend=False` for the same effect.\n",
      "\n",
      "  sns.barplot(x=mi_vals, y=features, palette=\"magma\")\n"
     ]
    },
    {
     "name": "stdout",
     "output_type": "stream",
     "text": [
      "Runtime for dbscan_clustering: 0.301988 seconds\n"
     ]
    },
    {
     "name": "stderr",
     "output_type": "stream",
     "text": [
      "c:\\Users\\fionu\\OneDrive\\Dokumente\\Daten Fiona\\AIUB\\Code\\AIUB-Backup\\clustering\\high_dim_analysis.py:138: FutureWarning: \n",
      "\n",
      "Passing `palette` without assigning `hue` is deprecated and will be removed in v0.14.0. Assign the `y` variable to `hue` and set `legend=False` for the same effect.\n",
      "\n",
      "  sns.barplot(x=mi_vals, y=features, palette=\"magma\")\n"
     ]
    },
    {
     "name": "stdout",
     "output_type": "stream",
     "text": [
      "Runtime for dbscan_clustering: 0.258775 seconds\n"
     ]
    },
    {
     "name": "stderr",
     "output_type": "stream",
     "text": [
      "c:\\Users\\fionu\\OneDrive\\Dokumente\\Daten Fiona\\AIUB\\Code\\AIUB-Backup\\clustering\\high_dim_analysis.py:138: FutureWarning: \n",
      "\n",
      "Passing `palette` without assigning `hue` is deprecated and will be removed in v0.14.0. Assign the `y` variable to `hue` and set `legend=False` for the same effect.\n",
      "\n",
      "  sns.barplot(x=mi_vals, y=features, palette=\"magma\")\n"
     ]
    },
    {
     "name": "stdout",
     "output_type": "stream",
     "text": [
      "Runtime for dbscan_clustering: 0.159902 seconds\n"
     ]
    },
    {
     "name": "stderr",
     "output_type": "stream",
     "text": [
      "c:\\Users\\fionu\\OneDrive\\Dokumente\\Daten Fiona\\AIUB\\Code\\AIUB-Backup\\clustering\\high_dim_analysis.py:138: FutureWarning: \n",
      "\n",
      "Passing `palette` without assigning `hue` is deprecated and will be removed in v0.14.0. Assign the `y` variable to `hue` and set `legend=False` for the same effect.\n",
      "\n",
      "  sns.barplot(x=mi_vals, y=features, palette=\"magma\")\n"
     ]
    },
    {
     "name": "stdout",
     "output_type": "stream",
     "text": [
      "Runtime for dbscan_clustering: 0.221761 seconds\n"
     ]
    },
    {
     "name": "stderr",
     "output_type": "stream",
     "text": [
      "c:\\Users\\fionu\\OneDrive\\Dokumente\\Daten Fiona\\AIUB\\Code\\AIUB-Backup\\clustering\\high_dim_analysis.py:138: FutureWarning: \n",
      "\n",
      "Passing `palette` without assigning `hue` is deprecated and will be removed in v0.14.0. Assign the `y` variable to `hue` and set `legend=False` for the same effect.\n",
      "\n",
      "  sns.barplot(x=mi_vals, y=features, palette=\"magma\")\n"
     ]
    },
    {
     "name": "stdout",
     "output_type": "stream",
     "text": [
      "Runtime for dbscan_clustering: 0.241317 seconds\n"
     ]
    },
    {
     "name": "stderr",
     "output_type": "stream",
     "text": [
      "c:\\Users\\fionu\\OneDrive\\Dokumente\\Daten Fiona\\AIUB\\Code\\AIUB-Backup\\clustering\\high_dim_analysis.py:138: FutureWarning: \n",
      "\n",
      "Passing `palette` without assigning `hue` is deprecated and will be removed in v0.14.0. Assign the `y` variable to `hue` and set `legend=False` for the same effect.\n",
      "\n",
      "  sns.barplot(x=mi_vals, y=features, palette=\"magma\")\n"
     ]
    },
    {
     "name": "stdout",
     "output_type": "stream",
     "text": [
      "Runtime for dbscan_clustering: 0.238177 seconds\n"
     ]
    },
    {
     "name": "stderr",
     "output_type": "stream",
     "text": [
      "c:\\Users\\fionu\\OneDrive\\Dokumente\\Daten Fiona\\AIUB\\Code\\AIUB-Backup\\clustering\\high_dim_analysis.py:138: FutureWarning: \n",
      "\n",
      "Passing `palette` without assigning `hue` is deprecated and will be removed in v0.14.0. Assign the `y` variable to `hue` and set `legend=False` for the same effect.\n",
      "\n",
      "  sns.barplot(x=mi_vals, y=features, palette=\"magma\")\n"
     ]
    },
    {
     "name": "stdout",
     "output_type": "stream",
     "text": [
      "Runtime for dbscan_clustering: 0.281910 seconds\n"
     ]
    },
    {
     "name": "stderr",
     "output_type": "stream",
     "text": [
      "c:\\Users\\fionu\\OneDrive\\Dokumente\\Daten Fiona\\AIUB\\Code\\AIUB-Backup\\clustering\\high_dim_analysis.py:138: FutureWarning: \n",
      "\n",
      "Passing `palette` without assigning `hue` is deprecated and will be removed in v0.14.0. Assign the `y` variable to `hue` and set `legend=False` for the same effect.\n",
      "\n",
      "  sns.barplot(x=mi_vals, y=features, palette=\"magma\")\n"
     ]
    },
    {
     "name": "stdout",
     "output_type": "stream",
     "text": [
      "Runtime for dbscan_clustering: 0.204729 seconds\n"
     ]
    },
    {
     "name": "stderr",
     "output_type": "stream",
     "text": [
      "c:\\Users\\fionu\\OneDrive\\Dokumente\\Daten Fiona\\AIUB\\Code\\AIUB-Backup\\clustering\\high_dim_analysis.py:138: FutureWarning: \n",
      "\n",
      "Passing `palette` without assigning `hue` is deprecated and will be removed in v0.14.0. Assign the `y` variable to `hue` and set `legend=False` for the same effect.\n",
      "\n",
      "  sns.barplot(x=mi_vals, y=features, palette=\"magma\")\n"
     ]
    },
    {
     "name": "stdout",
     "output_type": "stream",
     "text": [
      "Runtime for dbscan_clustering: 0.239859 seconds\n"
     ]
    },
    {
     "name": "stderr",
     "output_type": "stream",
     "text": [
      "c:\\Users\\fionu\\OneDrive\\Dokumente\\Daten Fiona\\AIUB\\Code\\AIUB-Backup\\clustering\\high_dim_analysis.py:138: FutureWarning: \n",
      "\n",
      "Passing `palette` without assigning `hue` is deprecated and will be removed in v0.14.0. Assign the `y` variable to `hue` and set `legend=False` for the same effect.\n",
      "\n",
      "  sns.barplot(x=mi_vals, y=features, palette=\"magma\")\n"
     ]
    },
    {
     "name": "stdout",
     "output_type": "stream",
     "text": [
      "Runtime for dbscan_clustering: 0.212188 seconds\n"
     ]
    },
    {
     "name": "stderr",
     "output_type": "stream",
     "text": [
      "c:\\Users\\fionu\\OneDrive\\Dokumente\\Daten Fiona\\AIUB\\Code\\AIUB-Backup\\clustering\\high_dim_analysis.py:138: FutureWarning: \n",
      "\n",
      "Passing `palette` without assigning `hue` is deprecated and will be removed in v0.14.0. Assign the `y` variable to `hue` and set `legend=False` for the same effect.\n",
      "\n",
      "  sns.barplot(x=mi_vals, y=features, palette=\"magma\")\n"
     ]
    },
    {
     "name": "stdout",
     "output_type": "stream",
     "text": [
      "Runtime for dbscan_clustering: 0.267427 seconds\n"
     ]
    },
    {
     "name": "stderr",
     "output_type": "stream",
     "text": [
      "c:\\Users\\fionu\\OneDrive\\Dokumente\\Daten Fiona\\AIUB\\Code\\AIUB-Backup\\clustering\\high_dim_analysis.py:42: FutureWarning: \n",
      "\n",
      "Passing `palette` without assigning `hue` is deprecated and will be removed in v0.14.0. Assign the `y` variable to `hue` and set `legend=False` for the same effect.\n",
      "\n",
      "  sns.barplot(x=f_vals, y=features, palette=\"crest\")\n"
     ]
    },
    {
     "name": "stdout",
     "output_type": "stream",
     "text": [
      "Best DBSCAN parameters based on ANOVA F-value:\n",
      "Year Range                                                     2003-2006\n",
      "eps                                                                 0.02\n",
      "min_samples                                                           30\n",
      "Runtime (s)                                                        0.259\n",
      "Clusters                                                               6\n",
      "Points per Cluster       {0: 91, 1: 31, 2: 4454, 3: 48, 4: 68, -1: 4187}\n",
      "Noise Points                                                        4187\n",
      "Davies-Bouldin                                                      None\n",
      "Calinski-Harabasz                                                   None\n",
      "Weighted Mean ANOVA F                                          21399.338\n",
      "Name: 3, dtype: object\n"
     ]
    },
    {
     "data": {
      "application/vnd.microsoft.datawrangler.viewer.v0+json": {
       "columns": [
        {
         "name": "index",
         "rawType": "int64",
         "type": "integer"
        },
        {
         "name": "Year Range",
         "rawType": "object",
         "type": "string"
        },
        {
         "name": "eps",
         "rawType": "float64",
         "type": "float"
        },
        {
         "name": "min_samples",
         "rawType": "int64",
         "type": "integer"
        },
        {
         "name": "Runtime (s)",
         "rawType": "object",
         "type": "string"
        },
        {
         "name": "Clusters",
         "rawType": "int64",
         "type": "integer"
        },
        {
         "name": "Points per Cluster",
         "rawType": "object",
         "type": "unknown"
        },
        {
         "name": "Noise Points",
         "rawType": "int32",
         "type": "integer"
        },
        {
         "name": "Davies-Bouldin",
         "rawType": "object",
         "type": "unknown"
        },
        {
         "name": "Calinski-Harabasz",
         "rawType": "object",
         "type": "unknown"
        },
        {
         "name": "Weighted Mean ANOVA F",
         "rawType": "float64",
         "type": "float"
        }
       ],
       "ref": "e052303e-c20b-4660-a199-cc1bd8348937",
       "rows": [
        [
         "0",
         "2003-2006",
         "0.02",
         "10",
         "0.302",
         "45",
         "{0: 67, 1: 28, 2: 47, 3: 116, 4: 95, 5: 10, 6: 25, 7: 11, 8: 21, 9: 11, 10: 272, 11: 10, 12: 11, 13: 171, 14: 4622, 15: 80, 16: 13, 17: 80, 18: 60, 19: 146, 20: 10, 21: 13, 22: 12, 23: 26, 24: 17, 25: 32, 26: 12, 27: 13, 28: 31, 29: 17, 30: 10, 31: 14, 32: 11, 33: 10, 34: 11, 35: 8, 36: 39, 37: 10, 38: 10, 39: 10, 40: 10, 41: 8, 42: 10, 43: 10, -1: 2629}",
         "2629",
         null,
         null,
         null
        ],
        [
         "1",
         "2003-2006",
         "0.02",
         "15",
         "0.269",
         "31",
         "{0: 42, 1: 26, 2: 20, 3: 40, 4: 102, 5: 87, 6: 24, 7: 18, 8: 100, 9: 48, 10: 4584, 11: 35, 12: 10, 13: 72, 14: 26, 15: 73, 16: 15, 17: 16, 18: 120, 19: 22, 20: 28, 21: 16, 22: 22, 23: 17, 24: 27, 25: 9, 26: 23, 27: 15, 28: 22, 29: 11, -1: 3209}",
         "3209",
         null,
         null,
         null
        ],
        [
         "2",
         "2003-2006",
         "0.02",
         "25",
         "0.302",
         "9",
         "{0: 25, 1: 93, 2: 35, 3: 25, 4: 4483, 5: 50, 6: 70, 7: 35, -1: 4063}",
         "4063",
         null,
         null,
         null
        ],
        [
         "3",
         "2003-2006",
         "0.02",
         "30",
         "0.259",
         "6",
         "{0: 91, 1: 31, 2: 4454, 3: 48, 4: 68, -1: 4187}",
         "4187",
         null,
         null,
         "21399.338"
        ],
        [
         "4",
         "2003-2006",
         "0.01",
         "10",
         "0.160",
         "37",
         "{0: 14, 1: 13, 2: 26, 3: 10, 4: 28, 5: 16, 6: 10, 7: 15, 8: 516, 9: 1116, 10: 2336, 11: 19, 12: 10, 13: 12, 14: 10, 15: 23, 16: 13, 17: 11, 18: 11, 19: 11, 20: 10, 21: 18, 22: 15, 23: 11, 24: 10, 25: 10, 26: 12, 27: 10, 28: 17, 29: 12, 30: 13, 31: 51, 32: 10, 33: 10, 34: 14, 35: 6, -1: 4430}",
         "4430",
         null,
         null,
         null
        ],
        [
         "5",
         "2003-2006",
         "0.01",
         "15",
         "0.222",
         "13",
         "{0: 23, 1: 23, 2: 15, 3: 484, 4: 1081, 5: 2228, 6: 17, 7: 32, 8: 16, 9: 15, 10: 20, 11: 33, -1: 4892}",
         "4892",
         null,
         null,
         null
        ],
        [
         "6",
         "2003-2006",
         "0.01",
         "25",
         "0.241",
         "6",
         "{0: 446, 1: 1059, 2: 2081, 3: 15, 4: 21, -1: 5257}",
         "5257",
         null,
         null,
         null
        ],
        [
         "7",
         "2003-2006",
         "0.01",
         "30",
         "0.238",
         "4",
         "{0: 434, 1: 1050, 2: 2030, -1: 5365}",
         "5365",
         null,
         null,
         "4539.224"
        ],
        [
         "8",
         "2003-2006",
         "0.015",
         "10",
         "0.282",
         "54",
         "{0: 21, 1: 14, 2: 17, 3: 25, 4: 29, 5: 87, 6: 10, 7: 37, 8: 13, 9: 21, 10: 7, 11: 18, 12: 23, 13: 4437, 14: 14, 15: 11, 16: 11, 17: 58, 18: 21, 19: 11, 20: 69, 21: 10, 22: 39, 23: 24, 24: 13, 25: 16, 26: 11, 27: 15, 28: 18, 29: 10, 30: 12, 31: 10, 32: 11, 33: 11, 34: 13, 35: 21, 36: 10, 37: 11, 38: 10, 39: 10, 40: 14, 41: 12, 42: 38, 43: 12, 44: 17, 45: 12, 46: 10, 47: 10, 48: 10, 49: 10, 50: 10, 51: 10, 52: 14, -1: 3471}",
         "3471",
         null,
         null,
         null
        ],
        [
         "9",
         "2003-2006",
         "0.015",
         "15",
         "0.205",
         "16",
         "{0: 20, 1: 25, 2: 27, 3: 71, 4: 37, 5: 15, 6: 19, 7: 4408, 8: 66, 9: 16, 10: 15, 11: 36, 12: 13, 13: 32, 14: 18, -1: 4061}",
         "4061",
         null,
         null,
         null
        ],
        [
         "10",
         "2003-2006",
         "0.015",
         "25",
         "0.240",
         "7",
         "{0: 57, 1: 1680, 2: 2463, 3: 54, 4: 22, 5: 26, -1: 4577}",
         "4577",
         null,
         null,
         null
        ],
        [
         "11",
         "2003-2006",
         "0.015",
         "30",
         "0.212",
         "5",
         "{0: 31, 1: 1664, 2: 2427, 3: 35, -1: 4722}",
         "4722",
         null,
         null,
         "11204.357"
        ]
       ],
       "shape": {
        "columns": 10,
        "rows": 12
       }
      },
      "text/html": [
       "<div>\n",
       "<style scoped>\n",
       "    .dataframe tbody tr th:only-of-type {\n",
       "        vertical-align: middle;\n",
       "    }\n",
       "\n",
       "    .dataframe tbody tr th {\n",
       "        vertical-align: top;\n",
       "    }\n",
       "\n",
       "    .dataframe thead th {\n",
       "        text-align: right;\n",
       "    }\n",
       "</style>\n",
       "<table border=\"1\" class=\"dataframe\">\n",
       "  <thead>\n",
       "    <tr style=\"text-align: right;\">\n",
       "      <th></th>\n",
       "      <th>Year Range</th>\n",
       "      <th>eps</th>\n",
       "      <th>min_samples</th>\n",
       "      <th>Runtime (s)</th>\n",
       "      <th>Clusters</th>\n",
       "      <th>Points per Cluster</th>\n",
       "      <th>Noise Points</th>\n",
       "      <th>Davies-Bouldin</th>\n",
       "      <th>Calinski-Harabasz</th>\n",
       "      <th>Weighted Mean ANOVA F</th>\n",
       "    </tr>\n",
       "  </thead>\n",
       "  <tbody>\n",
       "    <tr>\n",
       "      <th>0</th>\n",
       "      <td>2003-2006</td>\n",
       "      <td>0.020</td>\n",
       "      <td>10</td>\n",
       "      <td>0.302</td>\n",
       "      <td>45</td>\n",
       "      <td>{0: 67, 1: 28, 2: 47, 3: 116, 4: 95, 5: 10, 6:...</td>\n",
       "      <td>2629</td>\n",
       "      <td>None</td>\n",
       "      <td>None</td>\n",
       "      <td>NaN</td>\n",
       "    </tr>\n",
       "    <tr>\n",
       "      <th>1</th>\n",
       "      <td>2003-2006</td>\n",
       "      <td>0.020</td>\n",
       "      <td>15</td>\n",
       "      <td>0.269</td>\n",
       "      <td>31</td>\n",
       "      <td>{0: 42, 1: 26, 2: 20, 3: 40, 4: 102, 5: 87, 6:...</td>\n",
       "      <td>3209</td>\n",
       "      <td>None</td>\n",
       "      <td>None</td>\n",
       "      <td>NaN</td>\n",
       "    </tr>\n",
       "    <tr>\n",
       "      <th>2</th>\n",
       "      <td>2003-2006</td>\n",
       "      <td>0.020</td>\n",
       "      <td>25</td>\n",
       "      <td>0.302</td>\n",
       "      <td>9</td>\n",
       "      <td>{0: 25, 1: 93, 2: 35, 3: 25, 4: 4483, 5: 50, 6...</td>\n",
       "      <td>4063</td>\n",
       "      <td>None</td>\n",
       "      <td>None</td>\n",
       "      <td>NaN</td>\n",
       "    </tr>\n",
       "    <tr>\n",
       "      <th>3</th>\n",
       "      <td>2003-2006</td>\n",
       "      <td>0.020</td>\n",
       "      <td>30</td>\n",
       "      <td>0.259</td>\n",
       "      <td>6</td>\n",
       "      <td>{0: 91, 1: 31, 2: 4454, 3: 48, 4: 68, -1: 4187}</td>\n",
       "      <td>4187</td>\n",
       "      <td>None</td>\n",
       "      <td>None</td>\n",
       "      <td>21399.338</td>\n",
       "    </tr>\n",
       "    <tr>\n",
       "      <th>4</th>\n",
       "      <td>2003-2006</td>\n",
       "      <td>0.010</td>\n",
       "      <td>10</td>\n",
       "      <td>0.160</td>\n",
       "      <td>37</td>\n",
       "      <td>{0: 14, 1: 13, 2: 26, 3: 10, 4: 28, 5: 16, 6: ...</td>\n",
       "      <td>4430</td>\n",
       "      <td>None</td>\n",
       "      <td>None</td>\n",
       "      <td>NaN</td>\n",
       "    </tr>\n",
       "    <tr>\n",
       "      <th>5</th>\n",
       "      <td>2003-2006</td>\n",
       "      <td>0.010</td>\n",
       "      <td>15</td>\n",
       "      <td>0.222</td>\n",
       "      <td>13</td>\n",
       "      <td>{0: 23, 1: 23, 2: 15, 3: 484, 4: 1081, 5: 2228...</td>\n",
       "      <td>4892</td>\n",
       "      <td>None</td>\n",
       "      <td>None</td>\n",
       "      <td>NaN</td>\n",
       "    </tr>\n",
       "    <tr>\n",
       "      <th>6</th>\n",
       "      <td>2003-2006</td>\n",
       "      <td>0.010</td>\n",
       "      <td>25</td>\n",
       "      <td>0.241</td>\n",
       "      <td>6</td>\n",
       "      <td>{0: 446, 1: 1059, 2: 2081, 3: 15, 4: 21, -1: 5...</td>\n",
       "      <td>5257</td>\n",
       "      <td>None</td>\n",
       "      <td>None</td>\n",
       "      <td>NaN</td>\n",
       "    </tr>\n",
       "    <tr>\n",
       "      <th>7</th>\n",
       "      <td>2003-2006</td>\n",
       "      <td>0.010</td>\n",
       "      <td>30</td>\n",
       "      <td>0.238</td>\n",
       "      <td>4</td>\n",
       "      <td>{0: 434, 1: 1050, 2: 2030, -1: 5365}</td>\n",
       "      <td>5365</td>\n",
       "      <td>None</td>\n",
       "      <td>None</td>\n",
       "      <td>4539.224</td>\n",
       "    </tr>\n",
       "    <tr>\n",
       "      <th>8</th>\n",
       "      <td>2003-2006</td>\n",
       "      <td>0.015</td>\n",
       "      <td>10</td>\n",
       "      <td>0.282</td>\n",
       "      <td>54</td>\n",
       "      <td>{0: 21, 1: 14, 2: 17, 3: 25, 4: 29, 5: 87, 6: ...</td>\n",
       "      <td>3471</td>\n",
       "      <td>None</td>\n",
       "      <td>None</td>\n",
       "      <td>NaN</td>\n",
       "    </tr>\n",
       "    <tr>\n",
       "      <th>9</th>\n",
       "      <td>2003-2006</td>\n",
       "      <td>0.015</td>\n",
       "      <td>15</td>\n",
       "      <td>0.205</td>\n",
       "      <td>16</td>\n",
       "      <td>{0: 20, 1: 25, 2: 27, 3: 71, 4: 37, 5: 15, 6: ...</td>\n",
       "      <td>4061</td>\n",
       "      <td>None</td>\n",
       "      <td>None</td>\n",
       "      <td>NaN</td>\n",
       "    </tr>\n",
       "    <tr>\n",
       "      <th>10</th>\n",
       "      <td>2003-2006</td>\n",
       "      <td>0.015</td>\n",
       "      <td>25</td>\n",
       "      <td>0.240</td>\n",
       "      <td>7</td>\n",
       "      <td>{0: 57, 1: 1680, 2: 2463, 3: 54, 4: 22, 5: 26,...</td>\n",
       "      <td>4577</td>\n",
       "      <td>None</td>\n",
       "      <td>None</td>\n",
       "      <td>NaN</td>\n",
       "    </tr>\n",
       "    <tr>\n",
       "      <th>11</th>\n",
       "      <td>2003-2006</td>\n",
       "      <td>0.015</td>\n",
       "      <td>30</td>\n",
       "      <td>0.212</td>\n",
       "      <td>5</td>\n",
       "      <td>{0: 31, 1: 1664, 2: 2427, 3: 35, -1: 4722}</td>\n",
       "      <td>4722</td>\n",
       "      <td>None</td>\n",
       "      <td>None</td>\n",
       "      <td>11204.357</td>\n",
       "    </tr>\n",
       "  </tbody>\n",
       "</table>\n",
       "</div>"
      ],
      "text/plain": [
       "   Year Range    eps  min_samples Runtime (s)  Clusters  \\\n",
       "0   2003-2006  0.020           10       0.302        45   \n",
       "1   2003-2006  0.020           15       0.269        31   \n",
       "2   2003-2006  0.020           25       0.302         9   \n",
       "3   2003-2006  0.020           30       0.259         6   \n",
       "4   2003-2006  0.010           10       0.160        37   \n",
       "5   2003-2006  0.010           15       0.222        13   \n",
       "6   2003-2006  0.010           25       0.241         6   \n",
       "7   2003-2006  0.010           30       0.238         4   \n",
       "8   2003-2006  0.015           10       0.282        54   \n",
       "9   2003-2006  0.015           15       0.205        16   \n",
       "10  2003-2006  0.015           25       0.240         7   \n",
       "11  2003-2006  0.015           30       0.212         5   \n",
       "\n",
       "                                   Points per Cluster  Noise Points  \\\n",
       "0   {0: 67, 1: 28, 2: 47, 3: 116, 4: 95, 5: 10, 6:...          2629   \n",
       "1   {0: 42, 1: 26, 2: 20, 3: 40, 4: 102, 5: 87, 6:...          3209   \n",
       "2   {0: 25, 1: 93, 2: 35, 3: 25, 4: 4483, 5: 50, 6...          4063   \n",
       "3     {0: 91, 1: 31, 2: 4454, 3: 48, 4: 68, -1: 4187}          4187   \n",
       "4   {0: 14, 1: 13, 2: 26, 3: 10, 4: 28, 5: 16, 6: ...          4430   \n",
       "5   {0: 23, 1: 23, 2: 15, 3: 484, 4: 1081, 5: 2228...          4892   \n",
       "6   {0: 446, 1: 1059, 2: 2081, 3: 15, 4: 21, -1: 5...          5257   \n",
       "7                {0: 434, 1: 1050, 2: 2030, -1: 5365}          5365   \n",
       "8   {0: 21, 1: 14, 2: 17, 3: 25, 4: 29, 5: 87, 6: ...          3471   \n",
       "9   {0: 20, 1: 25, 2: 27, 3: 71, 4: 37, 5: 15, 6: ...          4061   \n",
       "10  {0: 57, 1: 1680, 2: 2463, 3: 54, 4: 22, 5: 26,...          4577   \n",
       "11         {0: 31, 1: 1664, 2: 2427, 3: 35, -1: 4722}          4722   \n",
       "\n",
       "   Davies-Bouldin Calinski-Harabasz  Weighted Mean ANOVA F  \n",
       "0            None              None                    NaN  \n",
       "1            None              None                    NaN  \n",
       "2            None              None                    NaN  \n",
       "3            None              None              21399.338  \n",
       "4            None              None                    NaN  \n",
       "5            None              None                    NaN  \n",
       "6            None              None                    NaN  \n",
       "7            None              None               4539.224  \n",
       "8            None              None                    NaN  \n",
       "9            None              None                    NaN  \n",
       "10           None              None                    NaN  \n",
       "11           None              None              11204.357  "
      ]
     },
     "metadata": {},
     "output_type": "display_data"
    },
    {
     "name": "stdout",
     "output_type": "stream",
     "text": [
      "\n",
      "Running DBSCAN for Year Range: 2004-2007\n",
      "Runtime for dbscan_clustering: 0.291259 seconds\n"
     ]
    },
    {
     "name": "stderr",
     "output_type": "stream",
     "text": [
      "c:\\Users\\fionu\\OneDrive\\Dokumente\\Daten Fiona\\AIUB\\Code\\AIUB-Backup\\clustering\\high_dim_analysis.py:138: FutureWarning: \n",
      "\n",
      "Passing `palette` without assigning `hue` is deprecated and will be removed in v0.14.0. Assign the `y` variable to `hue` and set `legend=False` for the same effect.\n",
      "\n",
      "  sns.barplot(x=mi_vals, y=features, palette=\"magma\")\n"
     ]
    },
    {
     "name": "stdout",
     "output_type": "stream",
     "text": [
      "Runtime for dbscan_clustering: 0.310597 seconds\n"
     ]
    },
    {
     "name": "stderr",
     "output_type": "stream",
     "text": [
      "c:\\Users\\fionu\\OneDrive\\Dokumente\\Daten Fiona\\AIUB\\Code\\AIUB-Backup\\clustering\\high_dim_analysis.py:138: FutureWarning: \n",
      "\n",
      "Passing `palette` without assigning `hue` is deprecated and will be removed in v0.14.0. Assign the `y` variable to `hue` and set `legend=False` for the same effect.\n",
      "\n",
      "  sns.barplot(x=mi_vals, y=features, palette=\"magma\")\n"
     ]
    },
    {
     "name": "stdout",
     "output_type": "stream",
     "text": [
      "Runtime for dbscan_clustering: 0.288241 seconds\n"
     ]
    },
    {
     "name": "stderr",
     "output_type": "stream",
     "text": [
      "c:\\Users\\fionu\\OneDrive\\Dokumente\\Daten Fiona\\AIUB\\Code\\AIUB-Backup\\clustering\\high_dim_analysis.py:138: FutureWarning: \n",
      "\n",
      "Passing `palette` without assigning `hue` is deprecated and will be removed in v0.14.0. Assign the `y` variable to `hue` and set `legend=False` for the same effect.\n",
      "\n",
      "  sns.barplot(x=mi_vals, y=features, palette=\"magma\")\n"
     ]
    },
    {
     "name": "stdout",
     "output_type": "stream",
     "text": [
      "Runtime for dbscan_clustering: 0.271487 seconds\n"
     ]
    },
    {
     "name": "stderr",
     "output_type": "stream",
     "text": [
      "c:\\Users\\fionu\\OneDrive\\Dokumente\\Daten Fiona\\AIUB\\Code\\AIUB-Backup\\clustering\\high_dim_analysis.py:138: FutureWarning: \n",
      "\n",
      "Passing `palette` without assigning `hue` is deprecated and will be removed in v0.14.0. Assign the `y` variable to `hue` and set `legend=False` for the same effect.\n",
      "\n",
      "  sns.barplot(x=mi_vals, y=features, palette=\"magma\")\n"
     ]
    },
    {
     "name": "stdout",
     "output_type": "stream",
     "text": [
      "Runtime for dbscan_clustering: 0.155176 seconds\n"
     ]
    },
    {
     "name": "stderr",
     "output_type": "stream",
     "text": [
      "c:\\Users\\fionu\\OneDrive\\Dokumente\\Daten Fiona\\AIUB\\Code\\AIUB-Backup\\clustering\\high_dim_analysis.py:138: FutureWarning: \n",
      "\n",
      "Passing `palette` without assigning `hue` is deprecated and will be removed in v0.14.0. Assign the `y` variable to `hue` and set `legend=False` for the same effect.\n",
      "\n",
      "  sns.barplot(x=mi_vals, y=features, palette=\"magma\")\n"
     ]
    },
    {
     "name": "stdout",
     "output_type": "stream",
     "text": [
      "Runtime for dbscan_clustering: 0.167302 seconds\n"
     ]
    },
    {
     "name": "stderr",
     "output_type": "stream",
     "text": [
      "c:\\Users\\fionu\\OneDrive\\Dokumente\\Daten Fiona\\AIUB\\Code\\AIUB-Backup\\clustering\\high_dim_analysis.py:138: FutureWarning: \n",
      "\n",
      "Passing `palette` without assigning `hue` is deprecated and will be removed in v0.14.0. Assign the `y` variable to `hue` and set `legend=False` for the same effect.\n",
      "\n",
      "  sns.barplot(x=mi_vals, y=features, palette=\"magma\")\n"
     ]
    },
    {
     "name": "stdout",
     "output_type": "stream",
     "text": [
      "Runtime for dbscan_clustering: 0.161945 seconds\n"
     ]
    },
    {
     "name": "stderr",
     "output_type": "stream",
     "text": [
      "c:\\Users\\fionu\\OneDrive\\Dokumente\\Daten Fiona\\AIUB\\Code\\AIUB-Backup\\clustering\\high_dim_analysis.py:138: FutureWarning: \n",
      "\n",
      "Passing `palette` without assigning `hue` is deprecated and will be removed in v0.14.0. Assign the `y` variable to `hue` and set `legend=False` for the same effect.\n",
      "\n",
      "  sns.barplot(x=mi_vals, y=features, palette=\"magma\")\n"
     ]
    },
    {
     "name": "stdout",
     "output_type": "stream",
     "text": [
      "Runtime for dbscan_clustering: 0.161663 seconds\n"
     ]
    },
    {
     "name": "stderr",
     "output_type": "stream",
     "text": [
      "c:\\Users\\fionu\\OneDrive\\Dokumente\\Daten Fiona\\AIUB\\Code\\AIUB-Backup\\clustering\\high_dim_analysis.py:138: FutureWarning: \n",
      "\n",
      "Passing `palette` without assigning `hue` is deprecated and will be removed in v0.14.0. Assign the `y` variable to `hue` and set `legend=False` for the same effect.\n",
      "\n",
      "  sns.barplot(x=mi_vals, y=features, palette=\"magma\")\n"
     ]
    },
    {
     "name": "stdout",
     "output_type": "stream",
     "text": [
      "Runtime for dbscan_clustering: 0.229870 seconds\n"
     ]
    },
    {
     "name": "stderr",
     "output_type": "stream",
     "text": [
      "c:\\Users\\fionu\\OneDrive\\Dokumente\\Daten Fiona\\AIUB\\Code\\AIUB-Backup\\clustering\\high_dim_analysis.py:138: FutureWarning: \n",
      "\n",
      "Passing `palette` without assigning `hue` is deprecated and will be removed in v0.14.0. Assign the `y` variable to `hue` and set `legend=False` for the same effect.\n",
      "\n",
      "  sns.barplot(x=mi_vals, y=features, palette=\"magma\")\n"
     ]
    },
    {
     "name": "stdout",
     "output_type": "stream",
     "text": [
      "Runtime for dbscan_clustering: 0.220250 seconds\n"
     ]
    },
    {
     "name": "stderr",
     "output_type": "stream",
     "text": [
      "c:\\Users\\fionu\\OneDrive\\Dokumente\\Daten Fiona\\AIUB\\Code\\AIUB-Backup\\clustering\\high_dim_analysis.py:138: FutureWarning: \n",
      "\n",
      "Passing `palette` without assigning `hue` is deprecated and will be removed in v0.14.0. Assign the `y` variable to `hue` and set `legend=False` for the same effect.\n",
      "\n",
      "  sns.barplot(x=mi_vals, y=features, palette=\"magma\")\n"
     ]
    },
    {
     "name": "stdout",
     "output_type": "stream",
     "text": [
      "Runtime for dbscan_clustering: 0.222032 seconds\n"
     ]
    },
    {
     "name": "stderr",
     "output_type": "stream",
     "text": [
      "c:\\Users\\fionu\\OneDrive\\Dokumente\\Daten Fiona\\AIUB\\Code\\AIUB-Backup\\clustering\\high_dim_analysis.py:138: FutureWarning: \n",
      "\n",
      "Passing `palette` without assigning `hue` is deprecated and will be removed in v0.14.0. Assign the `y` variable to `hue` and set `legend=False` for the same effect.\n",
      "\n",
      "  sns.barplot(x=mi_vals, y=features, palette=\"magma\")\n"
     ]
    },
    {
     "name": "stdout",
     "output_type": "stream",
     "text": [
      "Runtime for dbscan_clustering: 0.224227 seconds\n"
     ]
    },
    {
     "name": "stderr",
     "output_type": "stream",
     "text": [
      "c:\\Users\\fionu\\OneDrive\\Dokumente\\Daten Fiona\\AIUB\\Code\\AIUB-Backup\\clustering\\high_dim_analysis.py:138: FutureWarning: \n",
      "\n",
      "Passing `palette` without assigning `hue` is deprecated and will be removed in v0.14.0. Assign the `y` variable to `hue` and set `legend=False` for the same effect.\n",
      "\n",
      "  sns.barplot(x=mi_vals, y=features, palette=\"magma\")\n"
     ]
    },
    {
     "name": "stdout",
     "output_type": "stream",
     "text": [
      "Runtime for dbscan_clustering: 0.177438 seconds\n"
     ]
    },
    {
     "name": "stderr",
     "output_type": "stream",
     "text": [
      "c:\\Users\\fionu\\OneDrive\\Dokumente\\Daten Fiona\\AIUB\\Code\\AIUB-Backup\\clustering\\high_dim_analysis.py:42: FutureWarning: \n",
      "\n",
      "Passing `palette` without assigning `hue` is deprecated and will be removed in v0.14.0. Assign the `y` variable to `hue` and set `legend=False` for the same effect.\n",
      "\n",
      "  sns.barplot(x=f_vals, y=features, palette=\"crest\")\n"
     ]
    },
    {
     "name": "stdout",
     "output_type": "stream",
     "text": [
      "Best DBSCAN parameters based on ANOVA F-value:\n",
      "Year Range                                          2004-2007\n",
      "eps                                                      0.01\n",
      "min_samples                                                30\n",
      "Runtime (s)                                             0.162\n",
      "Clusters                                                    4\n",
      "Points per Cluster       {0: 584, 1: 1245, 2: 2094, -1: 4626}\n",
      "Noise Points                                             4626\n",
      "Davies-Bouldin                                           None\n",
      "Calinski-Harabasz                                        None\n",
      "Weighted Mean ANOVA F                                5329.965\n",
      "Name: 7, dtype: object\n"
     ]
    },
    {
     "data": {
      "application/vnd.microsoft.datawrangler.viewer.v0+json": {
       "columns": [
        {
         "name": "index",
         "rawType": "int64",
         "type": "integer"
        },
        {
         "name": "Year Range",
         "rawType": "object",
         "type": "string"
        },
        {
         "name": "eps",
         "rawType": "float64",
         "type": "float"
        },
        {
         "name": "min_samples",
         "rawType": "int64",
         "type": "integer"
        },
        {
         "name": "Runtime (s)",
         "rawType": "object",
         "type": "string"
        },
        {
         "name": "Clusters",
         "rawType": "int64",
         "type": "integer"
        },
        {
         "name": "Points per Cluster",
         "rawType": "object",
         "type": "unknown"
        },
        {
         "name": "Noise Points",
         "rawType": "int32",
         "type": "integer"
        },
        {
         "name": "Davies-Bouldin",
         "rawType": "object",
         "type": "unknown"
        },
        {
         "name": "Calinski-Harabasz",
         "rawType": "object",
         "type": "unknown"
        },
        {
         "name": "Weighted Mean ANOVA F",
         "rawType": "float64",
         "type": "float"
        }
       ],
       "ref": "41d53eba-a7be-4d84-a297-eeefad33cf97",
       "rows": [
        [
         "0",
         "2004-2007",
         "0.02",
         "10",
         "0.291",
         "38",
         "{0: 13, 1: 50, 2: 15, 3: 11, 4: 5047, 5: 119, 6: 74, 7: 56, 8: 16, 9: 13, 10: 110, 11: 17, 12: 20, 13: 96, 14: 13, 15: 12, 16: 32, 17: 18, 18: 45, 19: 11, 20: 11, 21: 11, 22: 10, 23: 10, 24: 19, 25: 10, 26: 14, 27: 35, 28: 25, 29: 10, 30: 22, 31: 19, 32: 10, 33: 10, 34: 8, 35: 10, 36: 10, -1: 2517}",
         "2517",
         null,
         null,
         null
        ],
        [
         "1",
         "2004-2007",
         "0.02",
         "15",
         "0.311",
         "17",
         "{0: 37, 1: 4943, 2: 94, 3: 68, 4: 30, 5: 75, 6: 75, 7: 22, 8: 18, 9: 18, 10: 30, 11: 23, 12: 15, 13: 16, 14: 16, 15: 12, -1: 3057}",
         "3057",
         null,
         null,
         null
        ],
        [
         "2",
         "2004-2007",
         "0.02",
         "25",
         "0.288",
         "7",
         "{0: 4900, 1: 27, 2: 66, 3: 37, 4: 33, 5: 30, -1: 3456}",
         "3456",
         null,
         null,
         null
        ],
        [
         "3",
         "2004-2007",
         "0.02",
         "30",
         "0.271",
         "4",
         "{0: 4882, 1: 63, 2: 30, -1: 3574}",
         "3574",
         null,
         null,
         "3701.732"
        ],
        [
         "4",
         "2004-2007",
         "0.01",
         "10",
         "0.155",
         "18",
         "{0: 11, 1: 648, 2: 11, 3: 1336, 4: 2456, 5: 17, 6: 12, 7: 15, 8: 11, 9: 23, 10: 10, 11: 18, 12: 45, 13: 10, 14: 18, 15: 10, 16: 13, -1: 3885}",
         "3885",
         null,
         null,
         null
        ],
        [
         "5",
         "2004-2007",
         "0.01",
         "15",
         "0.167",
         "10",
         "{0: 639, 1: 1303, 2: 2278, 3: 26, 4: 14, 5: 18, 6: 22, 7: 36, 8: 23, -1: 4190}",
         "4190",
         null,
         null,
         null
        ],
        [
         "6",
         "2004-2007",
         "0.01",
         "25",
         "0.162",
         "4",
         "{0: 592, 1: 1265, 2: 2142, -1: 4550}",
         "4550",
         null,
         null,
         null
        ],
        [
         "7",
         "2004-2007",
         "0.01",
         "30",
         "0.162",
         "4",
         "{0: 584, 1: 1245, 2: 2094, -1: 4626}",
         "4626",
         null,
         null,
         "5329.965"
        ],
        [
         "8",
         "2004-2007",
         "0.015",
         "10",
         "0.230",
         "26",
         "{0: 12, 1: 23, 2: 4846, 3: 50, 4: 54, 5: 28, 6: 19, 7: 10, 8: 65, 9: 17, 10: 10, 11: 12, 12: 10, 13: 12, 14: 45, 15: 11, 16: 10, 17: 25, 18: 10, 19: 10, 20: 13, 21: 10, 22: 11, 23: 11, 24: 14, -1: 3211}",
         "3211",
         null,
         null,
         null
        ],
        [
         "9",
         "2004-2007",
         "0.015",
         "15",
         "0.220",
         "10",
         "{0: 21, 1: 4804, 2: 19, 3: 60, 4: 27, 5: 27, 6: 3, 7: 20, 8: 23, -1: 3545}",
         "3545",
         null,
         null,
         null
        ],
        [
         "10",
         "2004-2007",
         "0.015",
         "25",
         "0.222",
         "3",
         "{0: 4643, 1: 45, -1: 3861}",
         "3861",
         null,
         null,
         null
        ],
        [
         "11",
         "2004-2007",
         "0.015",
         "30",
         "0.224",
         "5",
         "{0: 2042, 1: 2527, 2: 42, 3: 17, -1: 3921}",
         "3921",
         null,
         null,
         "610.159"
        ]
       ],
       "shape": {
        "columns": 10,
        "rows": 12
       }
      },
      "text/html": [
       "<div>\n",
       "<style scoped>\n",
       "    .dataframe tbody tr th:only-of-type {\n",
       "        vertical-align: middle;\n",
       "    }\n",
       "\n",
       "    .dataframe tbody tr th {\n",
       "        vertical-align: top;\n",
       "    }\n",
       "\n",
       "    .dataframe thead th {\n",
       "        text-align: right;\n",
       "    }\n",
       "</style>\n",
       "<table border=\"1\" class=\"dataframe\">\n",
       "  <thead>\n",
       "    <tr style=\"text-align: right;\">\n",
       "      <th></th>\n",
       "      <th>Year Range</th>\n",
       "      <th>eps</th>\n",
       "      <th>min_samples</th>\n",
       "      <th>Runtime (s)</th>\n",
       "      <th>Clusters</th>\n",
       "      <th>Points per Cluster</th>\n",
       "      <th>Noise Points</th>\n",
       "      <th>Davies-Bouldin</th>\n",
       "      <th>Calinski-Harabasz</th>\n",
       "      <th>Weighted Mean ANOVA F</th>\n",
       "    </tr>\n",
       "  </thead>\n",
       "  <tbody>\n",
       "    <tr>\n",
       "      <th>0</th>\n",
       "      <td>2004-2007</td>\n",
       "      <td>0.020</td>\n",
       "      <td>10</td>\n",
       "      <td>0.291</td>\n",
       "      <td>38</td>\n",
       "      <td>{0: 13, 1: 50, 2: 15, 3: 11, 4: 5047, 5: 119, ...</td>\n",
       "      <td>2517</td>\n",
       "      <td>None</td>\n",
       "      <td>None</td>\n",
       "      <td>NaN</td>\n",
       "    </tr>\n",
       "    <tr>\n",
       "      <th>1</th>\n",
       "      <td>2004-2007</td>\n",
       "      <td>0.020</td>\n",
       "      <td>15</td>\n",
       "      <td>0.311</td>\n",
       "      <td>17</td>\n",
       "      <td>{0: 37, 1: 4943, 2: 94, 3: 68, 4: 30, 5: 75, 6...</td>\n",
       "      <td>3057</td>\n",
       "      <td>None</td>\n",
       "      <td>None</td>\n",
       "      <td>NaN</td>\n",
       "    </tr>\n",
       "    <tr>\n",
       "      <th>2</th>\n",
       "      <td>2004-2007</td>\n",
       "      <td>0.020</td>\n",
       "      <td>25</td>\n",
       "      <td>0.288</td>\n",
       "      <td>7</td>\n",
       "      <td>{0: 4900, 1: 27, 2: 66, 3: 37, 4: 33, 5: 30, -...</td>\n",
       "      <td>3456</td>\n",
       "      <td>None</td>\n",
       "      <td>None</td>\n",
       "      <td>NaN</td>\n",
       "    </tr>\n",
       "    <tr>\n",
       "      <th>3</th>\n",
       "      <td>2004-2007</td>\n",
       "      <td>0.020</td>\n",
       "      <td>30</td>\n",
       "      <td>0.271</td>\n",
       "      <td>4</td>\n",
       "      <td>{0: 4882, 1: 63, 2: 30, -1: 3574}</td>\n",
       "      <td>3574</td>\n",
       "      <td>None</td>\n",
       "      <td>None</td>\n",
       "      <td>3701.732</td>\n",
       "    </tr>\n",
       "    <tr>\n",
       "      <th>4</th>\n",
       "      <td>2004-2007</td>\n",
       "      <td>0.010</td>\n",
       "      <td>10</td>\n",
       "      <td>0.155</td>\n",
       "      <td>18</td>\n",
       "      <td>{0: 11, 1: 648, 2: 11, 3: 1336, 4: 2456, 5: 17...</td>\n",
       "      <td>3885</td>\n",
       "      <td>None</td>\n",
       "      <td>None</td>\n",
       "      <td>NaN</td>\n",
       "    </tr>\n",
       "    <tr>\n",
       "      <th>5</th>\n",
       "      <td>2004-2007</td>\n",
       "      <td>0.010</td>\n",
       "      <td>15</td>\n",
       "      <td>0.167</td>\n",
       "      <td>10</td>\n",
       "      <td>{0: 639, 1: 1303, 2: 2278, 3: 26, 4: 14, 5: 18...</td>\n",
       "      <td>4190</td>\n",
       "      <td>None</td>\n",
       "      <td>None</td>\n",
       "      <td>NaN</td>\n",
       "    </tr>\n",
       "    <tr>\n",
       "      <th>6</th>\n",
       "      <td>2004-2007</td>\n",
       "      <td>0.010</td>\n",
       "      <td>25</td>\n",
       "      <td>0.162</td>\n",
       "      <td>4</td>\n",
       "      <td>{0: 592, 1: 1265, 2: 2142, -1: 4550}</td>\n",
       "      <td>4550</td>\n",
       "      <td>None</td>\n",
       "      <td>None</td>\n",
       "      <td>NaN</td>\n",
       "    </tr>\n",
       "    <tr>\n",
       "      <th>7</th>\n",
       "      <td>2004-2007</td>\n",
       "      <td>0.010</td>\n",
       "      <td>30</td>\n",
       "      <td>0.162</td>\n",
       "      <td>4</td>\n",
       "      <td>{0: 584, 1: 1245, 2: 2094, -1: 4626}</td>\n",
       "      <td>4626</td>\n",
       "      <td>None</td>\n",
       "      <td>None</td>\n",
       "      <td>5329.965</td>\n",
       "    </tr>\n",
       "    <tr>\n",
       "      <th>8</th>\n",
       "      <td>2004-2007</td>\n",
       "      <td>0.015</td>\n",
       "      <td>10</td>\n",
       "      <td>0.230</td>\n",
       "      <td>26</td>\n",
       "      <td>{0: 12, 1: 23, 2: 4846, 3: 50, 4: 54, 5: 28, 6...</td>\n",
       "      <td>3211</td>\n",
       "      <td>None</td>\n",
       "      <td>None</td>\n",
       "      <td>NaN</td>\n",
       "    </tr>\n",
       "    <tr>\n",
       "      <th>9</th>\n",
       "      <td>2004-2007</td>\n",
       "      <td>0.015</td>\n",
       "      <td>15</td>\n",
       "      <td>0.220</td>\n",
       "      <td>10</td>\n",
       "      <td>{0: 21, 1: 4804, 2: 19, 3: 60, 4: 27, 5: 27, 6...</td>\n",
       "      <td>3545</td>\n",
       "      <td>None</td>\n",
       "      <td>None</td>\n",
       "      <td>NaN</td>\n",
       "    </tr>\n",
       "    <tr>\n",
       "      <th>10</th>\n",
       "      <td>2004-2007</td>\n",
       "      <td>0.015</td>\n",
       "      <td>25</td>\n",
       "      <td>0.222</td>\n",
       "      <td>3</td>\n",
       "      <td>{0: 4643, 1: 45, -1: 3861}</td>\n",
       "      <td>3861</td>\n",
       "      <td>None</td>\n",
       "      <td>None</td>\n",
       "      <td>NaN</td>\n",
       "    </tr>\n",
       "    <tr>\n",
       "      <th>11</th>\n",
       "      <td>2004-2007</td>\n",
       "      <td>0.015</td>\n",
       "      <td>30</td>\n",
       "      <td>0.224</td>\n",
       "      <td>5</td>\n",
       "      <td>{0: 2042, 1: 2527, 2: 42, 3: 17, -1: 3921}</td>\n",
       "      <td>3921</td>\n",
       "      <td>None</td>\n",
       "      <td>None</td>\n",
       "      <td>610.159</td>\n",
       "    </tr>\n",
       "  </tbody>\n",
       "</table>\n",
       "</div>"
      ],
      "text/plain": [
       "   Year Range    eps  min_samples Runtime (s)  Clusters  \\\n",
       "0   2004-2007  0.020           10       0.291        38   \n",
       "1   2004-2007  0.020           15       0.311        17   \n",
       "2   2004-2007  0.020           25       0.288         7   \n",
       "3   2004-2007  0.020           30       0.271         4   \n",
       "4   2004-2007  0.010           10       0.155        18   \n",
       "5   2004-2007  0.010           15       0.167        10   \n",
       "6   2004-2007  0.010           25       0.162         4   \n",
       "7   2004-2007  0.010           30       0.162         4   \n",
       "8   2004-2007  0.015           10       0.230        26   \n",
       "9   2004-2007  0.015           15       0.220        10   \n",
       "10  2004-2007  0.015           25       0.222         3   \n",
       "11  2004-2007  0.015           30       0.224         5   \n",
       "\n",
       "                                   Points per Cluster  Noise Points  \\\n",
       "0   {0: 13, 1: 50, 2: 15, 3: 11, 4: 5047, 5: 119, ...          2517   \n",
       "1   {0: 37, 1: 4943, 2: 94, 3: 68, 4: 30, 5: 75, 6...          3057   \n",
       "2   {0: 4900, 1: 27, 2: 66, 3: 37, 4: 33, 5: 30, -...          3456   \n",
       "3                   {0: 4882, 1: 63, 2: 30, -1: 3574}          3574   \n",
       "4   {0: 11, 1: 648, 2: 11, 3: 1336, 4: 2456, 5: 17...          3885   \n",
       "5   {0: 639, 1: 1303, 2: 2278, 3: 26, 4: 14, 5: 18...          4190   \n",
       "6                {0: 592, 1: 1265, 2: 2142, -1: 4550}          4550   \n",
       "7                {0: 584, 1: 1245, 2: 2094, -1: 4626}          4626   \n",
       "8   {0: 12, 1: 23, 2: 4846, 3: 50, 4: 54, 5: 28, 6...          3211   \n",
       "9   {0: 21, 1: 4804, 2: 19, 3: 60, 4: 27, 5: 27, 6...          3545   \n",
       "10                         {0: 4643, 1: 45, -1: 3861}          3861   \n",
       "11         {0: 2042, 1: 2527, 2: 42, 3: 17, -1: 3921}          3921   \n",
       "\n",
       "   Davies-Bouldin Calinski-Harabasz  Weighted Mean ANOVA F  \n",
       "0            None              None                    NaN  \n",
       "1            None              None                    NaN  \n",
       "2            None              None                    NaN  \n",
       "3            None              None               3701.732  \n",
       "4            None              None                    NaN  \n",
       "5            None              None                    NaN  \n",
       "6            None              None                    NaN  \n",
       "7            None              None               5329.965  \n",
       "8            None              None                    NaN  \n",
       "9            None              None                    NaN  \n",
       "10           None              None                    NaN  \n",
       "11           None              None                610.159  "
      ]
     },
     "metadata": {},
     "output_type": "display_data"
    },
    {
     "name": "stdout",
     "output_type": "stream",
     "text": [
      "\n",
      "Running DBSCAN for Year Range: 2005-2008\n",
      "Runtime for dbscan_clustering: 0.298155 seconds\n"
     ]
    },
    {
     "name": "stderr",
     "output_type": "stream",
     "text": [
      "c:\\Users\\fionu\\OneDrive\\Dokumente\\Daten Fiona\\AIUB\\Code\\AIUB-Backup\\clustering\\high_dim_analysis.py:138: FutureWarning: \n",
      "\n",
      "Passing `palette` without assigning `hue` is deprecated and will be removed in v0.14.0. Assign the `y` variable to `hue` and set `legend=False` for the same effect.\n",
      "\n",
      "  sns.barplot(x=mi_vals, y=features, palette=\"magma\")\n"
     ]
    },
    {
     "name": "stdout",
     "output_type": "stream",
     "text": [
      "Runtime for dbscan_clustering: 0.222309 seconds\n"
     ]
    },
    {
     "name": "stderr",
     "output_type": "stream",
     "text": [
      "c:\\Users\\fionu\\OneDrive\\Dokumente\\Daten Fiona\\AIUB\\Code\\AIUB-Backup\\clustering\\high_dim_analysis.py:138: FutureWarning: \n",
      "\n",
      "Passing `palette` without assigning `hue` is deprecated and will be removed in v0.14.0. Assign the `y` variable to `hue` and set `legend=False` for the same effect.\n",
      "\n",
      "  sns.barplot(x=mi_vals, y=features, palette=\"magma\")\n"
     ]
    },
    {
     "name": "stdout",
     "output_type": "stream",
     "text": [
      "Runtime for dbscan_clustering: 0.227572 seconds\n"
     ]
    },
    {
     "name": "stderr",
     "output_type": "stream",
     "text": [
      "c:\\Users\\fionu\\OneDrive\\Dokumente\\Daten Fiona\\AIUB\\Code\\AIUB-Backup\\clustering\\high_dim_analysis.py:138: FutureWarning: \n",
      "\n",
      "Passing `palette` without assigning `hue` is deprecated and will be removed in v0.14.0. Assign the `y` variable to `hue` and set `legend=False` for the same effect.\n",
      "\n",
      "  sns.barplot(x=mi_vals, y=features, palette=\"magma\")\n"
     ]
    },
    {
     "name": "stdout",
     "output_type": "stream",
     "text": [
      "Runtime for dbscan_clustering: 0.221053 seconds\n"
     ]
    },
    {
     "name": "stderr",
     "output_type": "stream",
     "text": [
      "c:\\Users\\fionu\\OneDrive\\Dokumente\\Daten Fiona\\AIUB\\Code\\AIUB-Backup\\clustering\\high_dim_analysis.py:138: FutureWarning: \n",
      "\n",
      "Passing `palette` without assigning `hue` is deprecated and will be removed in v0.14.0. Assign the `y` variable to `hue` and set `legend=False` for the same effect.\n",
      "\n",
      "  sns.barplot(x=mi_vals, y=features, palette=\"magma\")\n"
     ]
    },
    {
     "name": "stdout",
     "output_type": "stream",
     "text": [
      "Runtime for dbscan_clustering: 0.140052 seconds\n"
     ]
    },
    {
     "name": "stderr",
     "output_type": "stream",
     "text": [
      "c:\\Users\\fionu\\OneDrive\\Dokumente\\Daten Fiona\\AIUB\\Code\\AIUB-Backup\\clustering\\high_dim_analysis.py:138: FutureWarning: \n",
      "\n",
      "Passing `palette` without assigning `hue` is deprecated and will be removed in v0.14.0. Assign the `y` variable to `hue` and set `legend=False` for the same effect.\n",
      "\n",
      "  sns.barplot(x=mi_vals, y=features, palette=\"magma\")\n"
     ]
    },
    {
     "name": "stdout",
     "output_type": "stream",
     "text": [
      "Runtime for dbscan_clustering: 0.142769 seconds\n"
     ]
    },
    {
     "name": "stderr",
     "output_type": "stream",
     "text": [
      "c:\\Users\\fionu\\OneDrive\\Dokumente\\Daten Fiona\\AIUB\\Code\\AIUB-Backup\\clustering\\high_dim_analysis.py:138: FutureWarning: \n",
      "\n",
      "Passing `palette` without assigning `hue` is deprecated and will be removed in v0.14.0. Assign the `y` variable to `hue` and set `legend=False` for the same effect.\n",
      "\n",
      "  sns.barplot(x=mi_vals, y=features, palette=\"magma\")\n"
     ]
    },
    {
     "name": "stdout",
     "output_type": "stream",
     "text": [
      "Runtime for dbscan_clustering: 0.156030 seconds\n"
     ]
    },
    {
     "name": "stderr",
     "output_type": "stream",
     "text": [
      "c:\\Users\\fionu\\OneDrive\\Dokumente\\Daten Fiona\\AIUB\\Code\\AIUB-Backup\\clustering\\high_dim_analysis.py:138: FutureWarning: \n",
      "\n",
      "Passing `palette` without assigning `hue` is deprecated and will be removed in v0.14.0. Assign the `y` variable to `hue` and set `legend=False` for the same effect.\n",
      "\n",
      "  sns.barplot(x=mi_vals, y=features, palette=\"magma\")\n"
     ]
    },
    {
     "name": "stdout",
     "output_type": "stream",
     "text": [
      "Runtime for dbscan_clustering: 0.169257 seconds\n"
     ]
    },
    {
     "name": "stderr",
     "output_type": "stream",
     "text": [
      "c:\\Users\\fionu\\OneDrive\\Dokumente\\Daten Fiona\\AIUB\\Code\\AIUB-Backup\\clustering\\high_dim_analysis.py:138: FutureWarning: \n",
      "\n",
      "Passing `palette` without assigning `hue` is deprecated and will be removed in v0.14.0. Assign the `y` variable to `hue` and set `legend=False` for the same effect.\n",
      "\n",
      "  sns.barplot(x=mi_vals, y=features, palette=\"magma\")\n"
     ]
    },
    {
     "name": "stdout",
     "output_type": "stream",
     "text": [
      "Runtime for dbscan_clustering: 0.185695 seconds\n"
     ]
    },
    {
     "name": "stderr",
     "output_type": "stream",
     "text": [
      "c:\\Users\\fionu\\OneDrive\\Dokumente\\Daten Fiona\\AIUB\\Code\\AIUB-Backup\\clustering\\high_dim_analysis.py:138: FutureWarning: \n",
      "\n",
      "Passing `palette` without assigning `hue` is deprecated and will be removed in v0.14.0. Assign the `y` variable to `hue` and set `legend=False` for the same effect.\n",
      "\n",
      "  sns.barplot(x=mi_vals, y=features, palette=\"magma\")\n"
     ]
    },
    {
     "name": "stdout",
     "output_type": "stream",
     "text": [
      "Runtime for dbscan_clustering: 0.174527 seconds\n"
     ]
    },
    {
     "name": "stderr",
     "output_type": "stream",
     "text": [
      "c:\\Users\\fionu\\OneDrive\\Dokumente\\Daten Fiona\\AIUB\\Code\\AIUB-Backup\\clustering\\high_dim_analysis.py:138: FutureWarning: \n",
      "\n",
      "Passing `palette` without assigning `hue` is deprecated and will be removed in v0.14.0. Assign the `y` variable to `hue` and set `legend=False` for the same effect.\n",
      "\n",
      "  sns.barplot(x=mi_vals, y=features, palette=\"magma\")\n"
     ]
    },
    {
     "name": "stdout",
     "output_type": "stream",
     "text": [
      "Runtime for dbscan_clustering: 0.223161 seconds\n"
     ]
    },
    {
     "name": "stderr",
     "output_type": "stream",
     "text": [
      "c:\\Users\\fionu\\OneDrive\\Dokumente\\Daten Fiona\\AIUB\\Code\\AIUB-Backup\\clustering\\high_dim_analysis.py:138: FutureWarning: \n",
      "\n",
      "Passing `palette` without assigning `hue` is deprecated and will be removed in v0.14.0. Assign the `y` variable to `hue` and set `legend=False` for the same effect.\n",
      "\n",
      "  sns.barplot(x=mi_vals, y=features, palette=\"magma\")\n"
     ]
    },
    {
     "name": "stdout",
     "output_type": "stream",
     "text": [
      "Runtime for dbscan_clustering: 0.185995 seconds\n"
     ]
    },
    {
     "name": "stderr",
     "output_type": "stream",
     "text": [
      "c:\\Users\\fionu\\OneDrive\\Dokumente\\Daten Fiona\\AIUB\\Code\\AIUB-Backup\\clustering\\high_dim_analysis.py:138: FutureWarning: \n",
      "\n",
      "Passing `palette` without assigning `hue` is deprecated and will be removed in v0.14.0. Assign the `y` variable to `hue` and set `legend=False` for the same effect.\n",
      "\n",
      "  sns.barplot(x=mi_vals, y=features, palette=\"magma\")\n"
     ]
    },
    {
     "name": "stdout",
     "output_type": "stream",
     "text": [
      "Runtime for dbscan_clustering: 0.149517 seconds\n"
     ]
    },
    {
     "name": "stderr",
     "output_type": "stream",
     "text": [
      "c:\\Users\\fionu\\OneDrive\\Dokumente\\Daten Fiona\\AIUB\\Code\\AIUB-Backup\\clustering\\high_dim_analysis.py:42: FutureWarning: \n",
      "\n",
      "Passing `palette` without assigning `hue` is deprecated and will be removed in v0.14.0. Assign the `y` variable to `hue` and set `legend=False` for the same effect.\n",
      "\n",
      "  sns.barplot(x=f_vals, y=features, palette=\"crest\")\n"
     ]
    },
    {
     "name": "stdout",
     "output_type": "stream",
     "text": [
      "Best DBSCAN parameters based on ANOVA F-value:\n",
      "Year Range                                          2005-2008\n",
      "eps                                                      0.01\n",
      "min_samples                                                30\n",
      "Runtime (s)                                             0.169\n",
      "Clusters                                                    4\n",
      "Points per Cluster       {0: 550, 1: 1166, 2: 1936, -1: 3969}\n",
      "Noise Points                                             3969\n",
      "Davies-Bouldin                                           None\n",
      "Calinski-Harabasz                                        None\n",
      "Weighted Mean ANOVA F                                4930.989\n",
      "Name: 7, dtype: object\n"
     ]
    },
    {
     "data": {
      "application/vnd.microsoft.datawrangler.viewer.v0+json": {
       "columns": [
        {
         "name": "index",
         "rawType": "int64",
         "type": "integer"
        },
        {
         "name": "Year Range",
         "rawType": "object",
         "type": "string"
        },
        {
         "name": "eps",
         "rawType": "float64",
         "type": "float"
        },
        {
         "name": "min_samples",
         "rawType": "int64",
         "type": "integer"
        },
        {
         "name": "Runtime (s)",
         "rawType": "object",
         "type": "string"
        },
        {
         "name": "Clusters",
         "rawType": "int64",
         "type": "integer"
        },
        {
         "name": "Points per Cluster",
         "rawType": "object",
         "type": "unknown"
        },
        {
         "name": "Noise Points",
         "rawType": "int32",
         "type": "integer"
        },
        {
         "name": "Davies-Bouldin",
         "rawType": "object",
         "type": "unknown"
        },
        {
         "name": "Calinski-Harabasz",
         "rawType": "object",
         "type": "unknown"
        },
        {
         "name": "Weighted Mean ANOVA F",
         "rawType": "float64",
         "type": "float"
        }
       ],
       "ref": "ff1e6e75-d426-4e1f-b6ba-4dcdd5b34841",
       "rows": [
        [
         "0",
         "2005-2008",
         "0.02",
         "10",
         "0.298",
         "26",
         "{0: 26, 1: 21, 2: 19, 3: 10, 4: 4665, 5: 188, 6: 139, 7: 40, 8: 37, 9: 14, 10: 11, 11: 17, 12: 14, 13: 10, 14: 8, 15: 19, 16: 32, 17: 78, 18: 10, 19: 22, 20: 10, 21: 16, 22: 7, 23: 13, 24: 13, -1: 2182}",
         "2182",
         null,
         null,
         null
        ],
        [
         "1",
         "2005-2008",
         "0.02",
         "15",
         "0.222",
         "17",
         "{0: 15, 1: 21, 2: 4609, 3: 57, 4: 69, 5: 76, 6: 20, 7: 23, 8: 20, 9: 19, 10: 14, 11: 23, 12: 62, 13: 16, 14: 14, 15: 12, -1: 2551}",
         "2551",
         null,
         null,
         null
        ],
        [
         "2",
         "2005-2008",
         "0.02",
         "25",
         "0.228",
         "6",
         "{0: 4517, 1: 62, 2: 44, 3: 54, 4: 30, -1: 2914}",
         "2914",
         null,
         null,
         null
        ],
        [
         "3",
         "2005-2008",
         "0.02",
         "30",
         "0.221",
         "4",
         "{0: 4487, 1: 30, 2: 48, -1: 3056}",
         "3056",
         null,
         null,
         "3925.761"
        ],
        [
         "4",
         "2005-2008",
         "0.01",
         "10",
         "0.140",
         "20",
         "{0: 1839, 1: 19, 2: 15, 3: 2262, 4: 18, 5: 21, 6: 11, 7: 11, 8: 11, 9: 10, 10: 10, 11: 10, 12: 14, 13: 33, 14: 16, 15: 10, 16: 11, 17: 10, 18: 14, -1: 3276}",
         "3276",
         null,
         null,
         null
        ],
        [
         "5",
         "2005-2008",
         "0.01",
         "15",
         "0.143",
         "9",
         "{0: 601, 1: 1196, 2: 15, 3: 2109, 4: 18, 5: 33, 6: 32, 7: 19, -1: 3598}",
         "3598",
         null,
         null,
         null
        ],
        [
         "6",
         "2005-2008",
         "0.01",
         "25",
         "0.156",
         "5",
         "{0: 565, 1: 1176, 2: 1972, 3: 25, -1: 3883}",
         "3883",
         null,
         null,
         null
        ],
        [
         "7",
         "2005-2008",
         "0.01",
         "30",
         "0.169",
         "4",
         "{0: 550, 1: 1166, 2: 1936, -1: 3969}",
         "3969",
         null,
         null,
         "4930.989"
        ],
        [
         "8",
         "2005-2008",
         "0.015",
         "10",
         "0.186",
         "27",
         "{0: 10, 1: 12, 2: 4482, 3: 37, 4: 23, 5: 33, 6: 13, 7: 34, 8: 11, 9: 12, 10: 14, 11: 11, 12: 13, 13: 10, 14: 16, 15: 10, 16: 17, 17: 15, 18: 26, 19: 10, 20: 11, 21: 25, 22: 10, 23: 54, 24: 8, 25: 15, -1: 2689}",
         "2689",
         null,
         null,
         null
        ],
        [
         "9",
         "2005-2008",
         "0.015",
         "15",
         "0.175",
         "9",
         "{0: 4455, 1: 23, 2: 29, 3: 26, 4: 23, 5: 17, 6: 51, 7: 15, -1: 2982}",
         "2982",
         null,
         null,
         null
        ],
        [
         "10",
         "2005-2008",
         "0.015",
         "25",
         "0.223",
         "3",
         "{0: 4350, 1: 39, -1: 3232}",
         "3232",
         null,
         null,
         null
        ],
        [
         "11",
         "2005-2008",
         "0.015",
         "30",
         "0.186",
         "4",
         "{0: 1892, 1: 2356, 2: 30, -1: 3343}",
         "3343",
         null,
         null,
         "724.609"
        ]
       ],
       "shape": {
        "columns": 10,
        "rows": 12
       }
      },
      "text/html": [
       "<div>\n",
       "<style scoped>\n",
       "    .dataframe tbody tr th:only-of-type {\n",
       "        vertical-align: middle;\n",
       "    }\n",
       "\n",
       "    .dataframe tbody tr th {\n",
       "        vertical-align: top;\n",
       "    }\n",
       "\n",
       "    .dataframe thead th {\n",
       "        text-align: right;\n",
       "    }\n",
       "</style>\n",
       "<table border=\"1\" class=\"dataframe\">\n",
       "  <thead>\n",
       "    <tr style=\"text-align: right;\">\n",
       "      <th></th>\n",
       "      <th>Year Range</th>\n",
       "      <th>eps</th>\n",
       "      <th>min_samples</th>\n",
       "      <th>Runtime (s)</th>\n",
       "      <th>Clusters</th>\n",
       "      <th>Points per Cluster</th>\n",
       "      <th>Noise Points</th>\n",
       "      <th>Davies-Bouldin</th>\n",
       "      <th>Calinski-Harabasz</th>\n",
       "      <th>Weighted Mean ANOVA F</th>\n",
       "    </tr>\n",
       "  </thead>\n",
       "  <tbody>\n",
       "    <tr>\n",
       "      <th>0</th>\n",
       "      <td>2005-2008</td>\n",
       "      <td>0.020</td>\n",
       "      <td>10</td>\n",
       "      <td>0.298</td>\n",
       "      <td>26</td>\n",
       "      <td>{0: 26, 1: 21, 2: 19, 3: 10, 4: 4665, 5: 188, ...</td>\n",
       "      <td>2182</td>\n",
       "      <td>None</td>\n",
       "      <td>None</td>\n",
       "      <td>NaN</td>\n",
       "    </tr>\n",
       "    <tr>\n",
       "      <th>1</th>\n",
       "      <td>2005-2008</td>\n",
       "      <td>0.020</td>\n",
       "      <td>15</td>\n",
       "      <td>0.222</td>\n",
       "      <td>17</td>\n",
       "      <td>{0: 15, 1: 21, 2: 4609, 3: 57, 4: 69, 5: 76, 6...</td>\n",
       "      <td>2551</td>\n",
       "      <td>None</td>\n",
       "      <td>None</td>\n",
       "      <td>NaN</td>\n",
       "    </tr>\n",
       "    <tr>\n",
       "      <th>2</th>\n",
       "      <td>2005-2008</td>\n",
       "      <td>0.020</td>\n",
       "      <td>25</td>\n",
       "      <td>0.228</td>\n",
       "      <td>6</td>\n",
       "      <td>{0: 4517, 1: 62, 2: 44, 3: 54, 4: 30, -1: 2914}</td>\n",
       "      <td>2914</td>\n",
       "      <td>None</td>\n",
       "      <td>None</td>\n",
       "      <td>NaN</td>\n",
       "    </tr>\n",
       "    <tr>\n",
       "      <th>3</th>\n",
       "      <td>2005-2008</td>\n",
       "      <td>0.020</td>\n",
       "      <td>30</td>\n",
       "      <td>0.221</td>\n",
       "      <td>4</td>\n",
       "      <td>{0: 4487, 1: 30, 2: 48, -1: 3056}</td>\n",
       "      <td>3056</td>\n",
       "      <td>None</td>\n",
       "      <td>None</td>\n",
       "      <td>3925.761</td>\n",
       "    </tr>\n",
       "    <tr>\n",
       "      <th>4</th>\n",
       "      <td>2005-2008</td>\n",
       "      <td>0.010</td>\n",
       "      <td>10</td>\n",
       "      <td>0.140</td>\n",
       "      <td>20</td>\n",
       "      <td>{0: 1839, 1: 19, 2: 15, 3: 2262, 4: 18, 5: 21,...</td>\n",
       "      <td>3276</td>\n",
       "      <td>None</td>\n",
       "      <td>None</td>\n",
       "      <td>NaN</td>\n",
       "    </tr>\n",
       "    <tr>\n",
       "      <th>5</th>\n",
       "      <td>2005-2008</td>\n",
       "      <td>0.010</td>\n",
       "      <td>15</td>\n",
       "      <td>0.143</td>\n",
       "      <td>9</td>\n",
       "      <td>{0: 601, 1: 1196, 2: 15, 3: 2109, 4: 18, 5: 33...</td>\n",
       "      <td>3598</td>\n",
       "      <td>None</td>\n",
       "      <td>None</td>\n",
       "      <td>NaN</td>\n",
       "    </tr>\n",
       "    <tr>\n",
       "      <th>6</th>\n",
       "      <td>2005-2008</td>\n",
       "      <td>0.010</td>\n",
       "      <td>25</td>\n",
       "      <td>0.156</td>\n",
       "      <td>5</td>\n",
       "      <td>{0: 565, 1: 1176, 2: 1972, 3: 25, -1: 3883}</td>\n",
       "      <td>3883</td>\n",
       "      <td>None</td>\n",
       "      <td>None</td>\n",
       "      <td>NaN</td>\n",
       "    </tr>\n",
       "    <tr>\n",
       "      <th>7</th>\n",
       "      <td>2005-2008</td>\n",
       "      <td>0.010</td>\n",
       "      <td>30</td>\n",
       "      <td>0.169</td>\n",
       "      <td>4</td>\n",
       "      <td>{0: 550, 1: 1166, 2: 1936, -1: 3969}</td>\n",
       "      <td>3969</td>\n",
       "      <td>None</td>\n",
       "      <td>None</td>\n",
       "      <td>4930.989</td>\n",
       "    </tr>\n",
       "    <tr>\n",
       "      <th>8</th>\n",
       "      <td>2005-2008</td>\n",
       "      <td>0.015</td>\n",
       "      <td>10</td>\n",
       "      <td>0.186</td>\n",
       "      <td>27</td>\n",
       "      <td>{0: 10, 1: 12, 2: 4482, 3: 37, 4: 23, 5: 33, 6...</td>\n",
       "      <td>2689</td>\n",
       "      <td>None</td>\n",
       "      <td>None</td>\n",
       "      <td>NaN</td>\n",
       "    </tr>\n",
       "    <tr>\n",
       "      <th>9</th>\n",
       "      <td>2005-2008</td>\n",
       "      <td>0.015</td>\n",
       "      <td>15</td>\n",
       "      <td>0.175</td>\n",
       "      <td>9</td>\n",
       "      <td>{0: 4455, 1: 23, 2: 29, 3: 26, 4: 23, 5: 17, 6...</td>\n",
       "      <td>2982</td>\n",
       "      <td>None</td>\n",
       "      <td>None</td>\n",
       "      <td>NaN</td>\n",
       "    </tr>\n",
       "    <tr>\n",
       "      <th>10</th>\n",
       "      <td>2005-2008</td>\n",
       "      <td>0.015</td>\n",
       "      <td>25</td>\n",
       "      <td>0.223</td>\n",
       "      <td>3</td>\n",
       "      <td>{0: 4350, 1: 39, -1: 3232}</td>\n",
       "      <td>3232</td>\n",
       "      <td>None</td>\n",
       "      <td>None</td>\n",
       "      <td>NaN</td>\n",
       "    </tr>\n",
       "    <tr>\n",
       "      <th>11</th>\n",
       "      <td>2005-2008</td>\n",
       "      <td>0.015</td>\n",
       "      <td>30</td>\n",
       "      <td>0.186</td>\n",
       "      <td>4</td>\n",
       "      <td>{0: 1892, 1: 2356, 2: 30, -1: 3343}</td>\n",
       "      <td>3343</td>\n",
       "      <td>None</td>\n",
       "      <td>None</td>\n",
       "      <td>724.609</td>\n",
       "    </tr>\n",
       "  </tbody>\n",
       "</table>\n",
       "</div>"
      ],
      "text/plain": [
       "   Year Range    eps  min_samples Runtime (s)  Clusters  \\\n",
       "0   2005-2008  0.020           10       0.298        26   \n",
       "1   2005-2008  0.020           15       0.222        17   \n",
       "2   2005-2008  0.020           25       0.228         6   \n",
       "3   2005-2008  0.020           30       0.221         4   \n",
       "4   2005-2008  0.010           10       0.140        20   \n",
       "5   2005-2008  0.010           15       0.143         9   \n",
       "6   2005-2008  0.010           25       0.156         5   \n",
       "7   2005-2008  0.010           30       0.169         4   \n",
       "8   2005-2008  0.015           10       0.186        27   \n",
       "9   2005-2008  0.015           15       0.175         9   \n",
       "10  2005-2008  0.015           25       0.223         3   \n",
       "11  2005-2008  0.015           30       0.186         4   \n",
       "\n",
       "                                   Points per Cluster  Noise Points  \\\n",
       "0   {0: 26, 1: 21, 2: 19, 3: 10, 4: 4665, 5: 188, ...          2182   \n",
       "1   {0: 15, 1: 21, 2: 4609, 3: 57, 4: 69, 5: 76, 6...          2551   \n",
       "2     {0: 4517, 1: 62, 2: 44, 3: 54, 4: 30, -1: 2914}          2914   \n",
       "3                   {0: 4487, 1: 30, 2: 48, -1: 3056}          3056   \n",
       "4   {0: 1839, 1: 19, 2: 15, 3: 2262, 4: 18, 5: 21,...          3276   \n",
       "5   {0: 601, 1: 1196, 2: 15, 3: 2109, 4: 18, 5: 33...          3598   \n",
       "6         {0: 565, 1: 1176, 2: 1972, 3: 25, -1: 3883}          3883   \n",
       "7                {0: 550, 1: 1166, 2: 1936, -1: 3969}          3969   \n",
       "8   {0: 10, 1: 12, 2: 4482, 3: 37, 4: 23, 5: 33, 6...          2689   \n",
       "9   {0: 4455, 1: 23, 2: 29, 3: 26, 4: 23, 5: 17, 6...          2982   \n",
       "10                         {0: 4350, 1: 39, -1: 3232}          3232   \n",
       "11                {0: 1892, 1: 2356, 2: 30, -1: 3343}          3343   \n",
       "\n",
       "   Davies-Bouldin Calinski-Harabasz  Weighted Mean ANOVA F  \n",
       "0            None              None                    NaN  \n",
       "1            None              None                    NaN  \n",
       "2            None              None                    NaN  \n",
       "3            None              None               3925.761  \n",
       "4            None              None                    NaN  \n",
       "5            None              None                    NaN  \n",
       "6            None              None                    NaN  \n",
       "7            None              None               4930.989  \n",
       "8            None              None                    NaN  \n",
       "9            None              None                    NaN  \n",
       "10           None              None                    NaN  \n",
       "11           None              None                724.609  "
      ]
     },
     "metadata": {},
     "output_type": "display_data"
    },
    {
     "name": "stdout",
     "output_type": "stream",
     "text": [
      "\n",
      "Running DBSCAN for Year Range: 2006-2009\n",
      "Runtime for dbscan_clustering: 0.254636 seconds\n"
     ]
    },
    {
     "name": "stderr",
     "output_type": "stream",
     "text": [
      "c:\\Users\\fionu\\OneDrive\\Dokumente\\Daten Fiona\\AIUB\\Code\\AIUB-Backup\\clustering\\high_dim_analysis.py:138: FutureWarning: \n",
      "\n",
      "Passing `palette` without assigning `hue` is deprecated and will be removed in v0.14.0. Assign the `y` variable to `hue` and set `legend=False` for the same effect.\n",
      "\n",
      "  sns.barplot(x=mi_vals, y=features, palette=\"magma\")\n"
     ]
    },
    {
     "name": "stdout",
     "output_type": "stream",
     "text": [
      "Runtime for dbscan_clustering: 0.233457 seconds\n"
     ]
    },
    {
     "name": "stderr",
     "output_type": "stream",
     "text": [
      "c:\\Users\\fionu\\OneDrive\\Dokumente\\Daten Fiona\\AIUB\\Code\\AIUB-Backup\\clustering\\high_dim_analysis.py:138: FutureWarning: \n",
      "\n",
      "Passing `palette` without assigning `hue` is deprecated and will be removed in v0.14.0. Assign the `y` variable to `hue` and set `legend=False` for the same effect.\n",
      "\n",
      "  sns.barplot(x=mi_vals, y=features, palette=\"magma\")\n"
     ]
    },
    {
     "name": "stdout",
     "output_type": "stream",
     "text": [
      "Runtime for dbscan_clustering: 0.213570 seconds\n"
     ]
    },
    {
     "name": "stderr",
     "output_type": "stream",
     "text": [
      "c:\\Users\\fionu\\OneDrive\\Dokumente\\Daten Fiona\\AIUB\\Code\\AIUB-Backup\\clustering\\high_dim_analysis.py:138: FutureWarning: \n",
      "\n",
      "Passing `palette` without assigning `hue` is deprecated and will be removed in v0.14.0. Assign the `y` variable to `hue` and set `legend=False` for the same effect.\n",
      "\n",
      "  sns.barplot(x=mi_vals, y=features, palette=\"magma\")\n"
     ]
    },
    {
     "name": "stdout",
     "output_type": "stream",
     "text": [
      "Runtime for dbscan_clustering: 0.220890 seconds\n"
     ]
    },
    {
     "name": "stderr",
     "output_type": "stream",
     "text": [
      "c:\\Users\\fionu\\OneDrive\\Dokumente\\Daten Fiona\\AIUB\\Code\\AIUB-Backup\\clustering\\high_dim_analysis.py:138: FutureWarning: \n",
      "\n",
      "Passing `palette` without assigning `hue` is deprecated and will be removed in v0.14.0. Assign the `y` variable to `hue` and set `legend=False` for the same effect.\n",
      "\n",
      "  sns.barplot(x=mi_vals, y=features, palette=\"magma\")\n"
     ]
    },
    {
     "name": "stdout",
     "output_type": "stream",
     "text": [
      "Runtime for dbscan_clustering: 0.129196 seconds\n"
     ]
    },
    {
     "name": "stderr",
     "output_type": "stream",
     "text": [
      "c:\\Users\\fionu\\OneDrive\\Dokumente\\Daten Fiona\\AIUB\\Code\\AIUB-Backup\\clustering\\high_dim_analysis.py:138: FutureWarning: \n",
      "\n",
      "Passing `palette` without assigning `hue` is deprecated and will be removed in v0.14.0. Assign the `y` variable to `hue` and set `legend=False` for the same effect.\n",
      "\n",
      "  sns.barplot(x=mi_vals, y=features, palette=\"magma\")\n"
     ]
    },
    {
     "name": "stdout",
     "output_type": "stream",
     "text": [
      "Runtime for dbscan_clustering: 0.128397 seconds\n"
     ]
    },
    {
     "name": "stderr",
     "output_type": "stream",
     "text": [
      "c:\\Users\\fionu\\OneDrive\\Dokumente\\Daten Fiona\\AIUB\\Code\\AIUB-Backup\\clustering\\high_dim_analysis.py:138: FutureWarning: \n",
      "\n",
      "Passing `palette` without assigning `hue` is deprecated and will be removed in v0.14.0. Assign the `y` variable to `hue` and set `legend=False` for the same effect.\n",
      "\n",
      "  sns.barplot(x=mi_vals, y=features, palette=\"magma\")\n"
     ]
    },
    {
     "name": "stdout",
     "output_type": "stream",
     "text": [
      "Runtime for dbscan_clustering: 0.136722 seconds\n"
     ]
    },
    {
     "name": "stderr",
     "output_type": "stream",
     "text": [
      "c:\\Users\\fionu\\OneDrive\\Dokumente\\Daten Fiona\\AIUB\\Code\\AIUB-Backup\\clustering\\high_dim_analysis.py:138: FutureWarning: \n",
      "\n",
      "Passing `palette` without assigning `hue` is deprecated and will be removed in v0.14.0. Assign the `y` variable to `hue` and set `legend=False` for the same effect.\n",
      "\n",
      "  sns.barplot(x=mi_vals, y=features, palette=\"magma\")\n"
     ]
    },
    {
     "name": "stdout",
     "output_type": "stream",
     "text": [
      "Runtime for dbscan_clustering: 0.127196 seconds\n"
     ]
    },
    {
     "name": "stderr",
     "output_type": "stream",
     "text": [
      "c:\\Users\\fionu\\OneDrive\\Dokumente\\Daten Fiona\\AIUB\\Code\\AIUB-Backup\\clustering\\high_dim_analysis.py:138: FutureWarning: \n",
      "\n",
      "Passing `palette` without assigning `hue` is deprecated and will be removed in v0.14.0. Assign the `y` variable to `hue` and set `legend=False` for the same effect.\n",
      "\n",
      "  sns.barplot(x=mi_vals, y=features, palette=\"magma\")\n"
     ]
    },
    {
     "name": "stdout",
     "output_type": "stream",
     "text": [
      "Runtime for dbscan_clustering: 0.174517 seconds\n"
     ]
    },
    {
     "name": "stderr",
     "output_type": "stream",
     "text": [
      "c:\\Users\\fionu\\OneDrive\\Dokumente\\Daten Fiona\\AIUB\\Code\\AIUB-Backup\\clustering\\high_dim_analysis.py:138: FutureWarning: \n",
      "\n",
      "Passing `palette` without assigning `hue` is deprecated and will be removed in v0.14.0. Assign the `y` variable to `hue` and set `legend=False` for the same effect.\n",
      "\n",
      "  sns.barplot(x=mi_vals, y=features, palette=\"magma\")\n"
     ]
    },
    {
     "name": "stdout",
     "output_type": "stream",
     "text": [
      "Runtime for dbscan_clustering: 0.190567 seconds\n"
     ]
    },
    {
     "name": "stderr",
     "output_type": "stream",
     "text": [
      "c:\\Users\\fionu\\OneDrive\\Dokumente\\Daten Fiona\\AIUB\\Code\\AIUB-Backup\\clustering\\high_dim_analysis.py:138: FutureWarning: \n",
      "\n",
      "Passing `palette` without assigning `hue` is deprecated and will be removed in v0.14.0. Assign the `y` variable to `hue` and set `legend=False` for the same effect.\n",
      "\n",
      "  sns.barplot(x=mi_vals, y=features, palette=\"magma\")\n"
     ]
    },
    {
     "name": "stdout",
     "output_type": "stream",
     "text": [
      "Runtime for dbscan_clustering: 0.166525 seconds\n"
     ]
    },
    {
     "name": "stderr",
     "output_type": "stream",
     "text": [
      "c:\\Users\\fionu\\OneDrive\\Dokumente\\Daten Fiona\\AIUB\\Code\\AIUB-Backup\\clustering\\high_dim_analysis.py:138: FutureWarning: \n",
      "\n",
      "Passing `palette` without assigning `hue` is deprecated and will be removed in v0.14.0. Assign the `y` variable to `hue` and set `legend=False` for the same effect.\n",
      "\n",
      "  sns.barplot(x=mi_vals, y=features, palette=\"magma\")\n"
     ]
    },
    {
     "name": "stdout",
     "output_type": "stream",
     "text": [
      "Runtime for dbscan_clustering: 0.216935 seconds\n"
     ]
    },
    {
     "name": "stderr",
     "output_type": "stream",
     "text": [
      "c:\\Users\\fionu\\OneDrive\\Dokumente\\Daten Fiona\\AIUB\\Code\\AIUB-Backup\\clustering\\high_dim_analysis.py:138: FutureWarning: \n",
      "\n",
      "Passing `palette` without assigning `hue` is deprecated and will be removed in v0.14.0. Assign the `y` variable to `hue` and set `legend=False` for the same effect.\n",
      "\n",
      "  sns.barplot(x=mi_vals, y=features, palette=\"magma\")\n"
     ]
    },
    {
     "name": "stdout",
     "output_type": "stream",
     "text": [
      "Runtime for dbscan_clustering: 0.308347 seconds\n"
     ]
    },
    {
     "name": "stderr",
     "output_type": "stream",
     "text": [
      "c:\\Users\\fionu\\OneDrive\\Dokumente\\Daten Fiona\\AIUB\\Code\\AIUB-Backup\\clustering\\high_dim_analysis.py:42: FutureWarning: \n",
      "\n",
      "Passing `palette` without assigning `hue` is deprecated and will be removed in v0.14.0. Assign the `y` variable to `hue` and set `legend=False` for the same effect.\n",
      "\n",
      "  sns.barplot(x=f_vals, y=features, palette=\"crest\")\n"
     ]
    },
    {
     "name": "stdout",
     "output_type": "stream",
     "text": [
      "Best DBSCAN parameters based on ANOVA F-value:\n",
      "Year Range                                              2006-2009\n",
      "eps                                                          0.02\n",
      "min_samples                                                    30\n",
      "Runtime (s)                                                 0.221\n",
      "Clusters                                                        5\n",
      "Points per Cluster       {0: 4539, 1: 19, 2: 37, 3: 39, -1: 2845}\n",
      "Noise Points                                                 2845\n",
      "Davies-Bouldin                                               None\n",
      "Calinski-Harabasz                                            None\n",
      "Weighted Mean ANOVA F                                     6323.28\n",
      "Name: 3, dtype: object\n"
     ]
    },
    {
     "data": {
      "application/vnd.microsoft.datawrangler.viewer.v0+json": {
       "columns": [
        {
         "name": "index",
         "rawType": "int64",
         "type": "integer"
        },
        {
         "name": "Year Range",
         "rawType": "object",
         "type": "string"
        },
        {
         "name": "eps",
         "rawType": "float64",
         "type": "float"
        },
        {
         "name": "min_samples",
         "rawType": "int64",
         "type": "integer"
        },
        {
         "name": "Runtime (s)",
         "rawType": "object",
         "type": "string"
        },
        {
         "name": "Clusters",
         "rawType": "int64",
         "type": "integer"
        },
        {
         "name": "Points per Cluster",
         "rawType": "object",
         "type": "unknown"
        },
        {
         "name": "Noise Points",
         "rawType": "int32",
         "type": "integer"
        },
        {
         "name": "Davies-Bouldin",
         "rawType": "object",
         "type": "unknown"
        },
        {
         "name": "Calinski-Harabasz",
         "rawType": "object",
         "type": "unknown"
        },
        {
         "name": "Weighted Mean ANOVA F",
         "rawType": "float64",
         "type": "float"
        }
       ],
       "ref": "6ae5d240-fc38-4713-b418-38a13b4976ef",
       "rows": [
        [
         "0",
         "2006-2009",
         "0.02",
         "10",
         "0.255",
         "27",
         "{0: 11, 1: 14, 2: 270, 3: 4698, 4: 30, 5: 68, 6: 14, 7: 10, 8: 23, 9: 21, 10: 33, 11: 11, 12: 19, 13: 12, 14: 10, 15: 14, 16: 15, 17: 14, 18: 8, 19: 18, 20: 10, 21: 13, 22: 11, 23: 12, 24: 13, 25: 12, -1: 2095}",
         "2095",
         null,
         null,
         null
        ],
        [
         "1",
         "2006-2009",
         "0.02",
         "15",
         "0.233",
         "12",
         "{0: 4680, 1: 40, 2: 63, 3: 15, 4: 32, 5: 111, 6: 16, 7: 15, 8: 17, 9: 15, 10: 10, -1: 2465}",
         "2465",
         null,
         null,
         null
        ],
        [
         "2",
         "2006-2009",
         "0.02",
         "25",
         "0.214",
         "5",
         "{0: 4586, 1: 49, 2: 42, 3: 25, -1: 2777}",
         "2777",
         null,
         null,
         null
        ],
        [
         "3",
         "2006-2009",
         "0.02",
         "30",
         "0.221",
         "5",
         "{0: 4539, 1: 19, 2: 37, 3: 39, -1: 2845}",
         "2845",
         null,
         null,
         "6323.28"
        ],
        [
         "4",
         "2006-2009",
         "0.01",
         "10",
         "0.129",
         "18",
         "{0: 11, 1: 1878, 2: 10, 3: 10, 4: 2227, 5: 17, 6: 12, 7: 10, 8: 17, 9: 21, 10: 5, 11: 24, 12: 12, 13: 10, 14: 6, 15: 12, 16: 10, -1: 3187}",
         "3187",
         null,
         null,
         null
        ],
        [
         "5",
         "2006-2009",
         "0.01",
         "15",
         "0.128",
         "7",
         "{0: 1829, 1: 21, 2: 2145, 3: 6, 4: 16, 5: 11, -1: 3451}",
         "3451",
         null,
         null,
         null
        ],
        [
         "6",
         "2006-2009",
         "0.01",
         "25",
         "0.137",
         "4",
         "{0: 1754, 1: 1889, 2: 72, -1: 3764}",
         "3764",
         null,
         null,
         null
        ],
        [
         "7",
         "2006-2009",
         "0.01",
         "30",
         "0.127",
         "5",
         "{0: 566, 1: 1171, 2: 1830, 3: 52, -1: 3860}",
         "3860",
         null,
         null,
         "3589.08"
        ],
        [
         "8",
         "2006-2009",
         "0.015",
         "10",
         "0.175",
         "20",
         "{0: 11, 1: 4538, 2: 13, 3: 10, 4: 56, 5: 13, 6: 10, 7: 25, 8: 41, 9: 15, 10: 26, 11: 12, 12: 13, 13: 15, 14: 10, 15: 10, 16: 10, 17: 18, 18: 11, -1: 2622}",
         "2622",
         null,
         null,
         null
        ],
        [
         "9",
         "2006-2009",
         "0.015",
         "15",
         "0.191",
         "7",
         "{0: 4479, 1: 33, 2: 37, 3: 23, 4: 24, 5: 16, -1: 2867}",
         "2867",
         null,
         null,
         null
        ],
        [
         "10",
         "2006-2009",
         "0.015",
         "25",
         "0.167",
         "2",
         "{0: 4352, -1: 3127}",
         "3127",
         null,
         null,
         null
        ],
        [
         "11",
         "2006-2009",
         "0.015",
         "30",
         "0.217",
         "3",
         "{0: 1972, 1: 2303, -1: 3204}",
         "3204",
         null,
         null,
         "1484.292"
        ]
       ],
       "shape": {
        "columns": 10,
        "rows": 12
       }
      },
      "text/html": [
       "<div>\n",
       "<style scoped>\n",
       "    .dataframe tbody tr th:only-of-type {\n",
       "        vertical-align: middle;\n",
       "    }\n",
       "\n",
       "    .dataframe tbody tr th {\n",
       "        vertical-align: top;\n",
       "    }\n",
       "\n",
       "    .dataframe thead th {\n",
       "        text-align: right;\n",
       "    }\n",
       "</style>\n",
       "<table border=\"1\" class=\"dataframe\">\n",
       "  <thead>\n",
       "    <tr style=\"text-align: right;\">\n",
       "      <th></th>\n",
       "      <th>Year Range</th>\n",
       "      <th>eps</th>\n",
       "      <th>min_samples</th>\n",
       "      <th>Runtime (s)</th>\n",
       "      <th>Clusters</th>\n",
       "      <th>Points per Cluster</th>\n",
       "      <th>Noise Points</th>\n",
       "      <th>Davies-Bouldin</th>\n",
       "      <th>Calinski-Harabasz</th>\n",
       "      <th>Weighted Mean ANOVA F</th>\n",
       "    </tr>\n",
       "  </thead>\n",
       "  <tbody>\n",
       "    <tr>\n",
       "      <th>0</th>\n",
       "      <td>2006-2009</td>\n",
       "      <td>0.020</td>\n",
       "      <td>10</td>\n",
       "      <td>0.255</td>\n",
       "      <td>27</td>\n",
       "      <td>{0: 11, 1: 14, 2: 270, 3: 4698, 4: 30, 5: 68, ...</td>\n",
       "      <td>2095</td>\n",
       "      <td>None</td>\n",
       "      <td>None</td>\n",
       "      <td>NaN</td>\n",
       "    </tr>\n",
       "    <tr>\n",
       "      <th>1</th>\n",
       "      <td>2006-2009</td>\n",
       "      <td>0.020</td>\n",
       "      <td>15</td>\n",
       "      <td>0.233</td>\n",
       "      <td>12</td>\n",
       "      <td>{0: 4680, 1: 40, 2: 63, 3: 15, 4: 32, 5: 111, ...</td>\n",
       "      <td>2465</td>\n",
       "      <td>None</td>\n",
       "      <td>None</td>\n",
       "      <td>NaN</td>\n",
       "    </tr>\n",
       "    <tr>\n",
       "      <th>2</th>\n",
       "      <td>2006-2009</td>\n",
       "      <td>0.020</td>\n",
       "      <td>25</td>\n",
       "      <td>0.214</td>\n",
       "      <td>5</td>\n",
       "      <td>{0: 4586, 1: 49, 2: 42, 3: 25, -1: 2777}</td>\n",
       "      <td>2777</td>\n",
       "      <td>None</td>\n",
       "      <td>None</td>\n",
       "      <td>NaN</td>\n",
       "    </tr>\n",
       "    <tr>\n",
       "      <th>3</th>\n",
       "      <td>2006-2009</td>\n",
       "      <td>0.020</td>\n",
       "      <td>30</td>\n",
       "      <td>0.221</td>\n",
       "      <td>5</td>\n",
       "      <td>{0: 4539, 1: 19, 2: 37, 3: 39, -1: 2845}</td>\n",
       "      <td>2845</td>\n",
       "      <td>None</td>\n",
       "      <td>None</td>\n",
       "      <td>6323.280</td>\n",
       "    </tr>\n",
       "    <tr>\n",
       "      <th>4</th>\n",
       "      <td>2006-2009</td>\n",
       "      <td>0.010</td>\n",
       "      <td>10</td>\n",
       "      <td>0.129</td>\n",
       "      <td>18</td>\n",
       "      <td>{0: 11, 1: 1878, 2: 10, 3: 10, 4: 2227, 5: 17,...</td>\n",
       "      <td>3187</td>\n",
       "      <td>None</td>\n",
       "      <td>None</td>\n",
       "      <td>NaN</td>\n",
       "    </tr>\n",
       "    <tr>\n",
       "      <th>5</th>\n",
       "      <td>2006-2009</td>\n",
       "      <td>0.010</td>\n",
       "      <td>15</td>\n",
       "      <td>0.128</td>\n",
       "      <td>7</td>\n",
       "      <td>{0: 1829, 1: 21, 2: 2145, 3: 6, 4: 16, 5: 11, ...</td>\n",
       "      <td>3451</td>\n",
       "      <td>None</td>\n",
       "      <td>None</td>\n",
       "      <td>NaN</td>\n",
       "    </tr>\n",
       "    <tr>\n",
       "      <th>6</th>\n",
       "      <td>2006-2009</td>\n",
       "      <td>0.010</td>\n",
       "      <td>25</td>\n",
       "      <td>0.137</td>\n",
       "      <td>4</td>\n",
       "      <td>{0: 1754, 1: 1889, 2: 72, -1: 3764}</td>\n",
       "      <td>3764</td>\n",
       "      <td>None</td>\n",
       "      <td>None</td>\n",
       "      <td>NaN</td>\n",
       "    </tr>\n",
       "    <tr>\n",
       "      <th>7</th>\n",
       "      <td>2006-2009</td>\n",
       "      <td>0.010</td>\n",
       "      <td>30</td>\n",
       "      <td>0.127</td>\n",
       "      <td>5</td>\n",
       "      <td>{0: 566, 1: 1171, 2: 1830, 3: 52, -1: 3860}</td>\n",
       "      <td>3860</td>\n",
       "      <td>None</td>\n",
       "      <td>None</td>\n",
       "      <td>3589.080</td>\n",
       "    </tr>\n",
       "    <tr>\n",
       "      <th>8</th>\n",
       "      <td>2006-2009</td>\n",
       "      <td>0.015</td>\n",
       "      <td>10</td>\n",
       "      <td>0.175</td>\n",
       "      <td>20</td>\n",
       "      <td>{0: 11, 1: 4538, 2: 13, 3: 10, 4: 56, 5: 13, 6...</td>\n",
       "      <td>2622</td>\n",
       "      <td>None</td>\n",
       "      <td>None</td>\n",
       "      <td>NaN</td>\n",
       "    </tr>\n",
       "    <tr>\n",
       "      <th>9</th>\n",
       "      <td>2006-2009</td>\n",
       "      <td>0.015</td>\n",
       "      <td>15</td>\n",
       "      <td>0.191</td>\n",
       "      <td>7</td>\n",
       "      <td>{0: 4479, 1: 33, 2: 37, 3: 23, 4: 24, 5: 16, -...</td>\n",
       "      <td>2867</td>\n",
       "      <td>None</td>\n",
       "      <td>None</td>\n",
       "      <td>NaN</td>\n",
       "    </tr>\n",
       "    <tr>\n",
       "      <th>10</th>\n",
       "      <td>2006-2009</td>\n",
       "      <td>0.015</td>\n",
       "      <td>25</td>\n",
       "      <td>0.167</td>\n",
       "      <td>2</td>\n",
       "      <td>{0: 4352, -1: 3127}</td>\n",
       "      <td>3127</td>\n",
       "      <td>None</td>\n",
       "      <td>None</td>\n",
       "      <td>NaN</td>\n",
       "    </tr>\n",
       "    <tr>\n",
       "      <th>11</th>\n",
       "      <td>2006-2009</td>\n",
       "      <td>0.015</td>\n",
       "      <td>30</td>\n",
       "      <td>0.217</td>\n",
       "      <td>3</td>\n",
       "      <td>{0: 1972, 1: 2303, -1: 3204}</td>\n",
       "      <td>3204</td>\n",
       "      <td>None</td>\n",
       "      <td>None</td>\n",
       "      <td>1484.292</td>\n",
       "    </tr>\n",
       "  </tbody>\n",
       "</table>\n",
       "</div>"
      ],
      "text/plain": [
       "   Year Range    eps  min_samples Runtime (s)  Clusters  \\\n",
       "0   2006-2009  0.020           10       0.255        27   \n",
       "1   2006-2009  0.020           15       0.233        12   \n",
       "2   2006-2009  0.020           25       0.214         5   \n",
       "3   2006-2009  0.020           30       0.221         5   \n",
       "4   2006-2009  0.010           10       0.129        18   \n",
       "5   2006-2009  0.010           15       0.128         7   \n",
       "6   2006-2009  0.010           25       0.137         4   \n",
       "7   2006-2009  0.010           30       0.127         5   \n",
       "8   2006-2009  0.015           10       0.175        20   \n",
       "9   2006-2009  0.015           15       0.191         7   \n",
       "10  2006-2009  0.015           25       0.167         2   \n",
       "11  2006-2009  0.015           30       0.217         3   \n",
       "\n",
       "                                   Points per Cluster  Noise Points  \\\n",
       "0   {0: 11, 1: 14, 2: 270, 3: 4698, 4: 30, 5: 68, ...          2095   \n",
       "1   {0: 4680, 1: 40, 2: 63, 3: 15, 4: 32, 5: 111, ...          2465   \n",
       "2            {0: 4586, 1: 49, 2: 42, 3: 25, -1: 2777}          2777   \n",
       "3            {0: 4539, 1: 19, 2: 37, 3: 39, -1: 2845}          2845   \n",
       "4   {0: 11, 1: 1878, 2: 10, 3: 10, 4: 2227, 5: 17,...          3187   \n",
       "5   {0: 1829, 1: 21, 2: 2145, 3: 6, 4: 16, 5: 11, ...          3451   \n",
       "6                 {0: 1754, 1: 1889, 2: 72, -1: 3764}          3764   \n",
       "7         {0: 566, 1: 1171, 2: 1830, 3: 52, -1: 3860}          3860   \n",
       "8   {0: 11, 1: 4538, 2: 13, 3: 10, 4: 56, 5: 13, 6...          2622   \n",
       "9   {0: 4479, 1: 33, 2: 37, 3: 23, 4: 24, 5: 16, -...          2867   \n",
       "10                                {0: 4352, -1: 3127}          3127   \n",
       "11                       {0: 1972, 1: 2303, -1: 3204}          3204   \n",
       "\n",
       "   Davies-Bouldin Calinski-Harabasz  Weighted Mean ANOVA F  \n",
       "0            None              None                    NaN  \n",
       "1            None              None                    NaN  \n",
       "2            None              None                    NaN  \n",
       "3            None              None               6323.280  \n",
       "4            None              None                    NaN  \n",
       "5            None              None                    NaN  \n",
       "6            None              None                    NaN  \n",
       "7            None              None               3589.080  \n",
       "8            None              None                    NaN  \n",
       "9            None              None                    NaN  \n",
       "10           None              None                    NaN  \n",
       "11           None              None               1484.292  "
      ]
     },
     "metadata": {},
     "output_type": "display_data"
    },
    {
     "name": "stdout",
     "output_type": "stream",
     "text": [
      "\n",
      "Running DBSCAN for Year Range: 2007-2010\n",
      "Runtime for dbscan_clustering: 0.162912 seconds\n"
     ]
    },
    {
     "name": "stderr",
     "output_type": "stream",
     "text": [
      "c:\\Users\\fionu\\OneDrive\\Dokumente\\Daten Fiona\\AIUB\\Code\\AIUB-Backup\\clustering\\high_dim_analysis.py:138: FutureWarning: \n",
      "\n",
      "Passing `palette` without assigning `hue` is deprecated and will be removed in v0.14.0. Assign the `y` variable to `hue` and set `legend=False` for the same effect.\n",
      "\n",
      "  sns.barplot(x=mi_vals, y=features, palette=\"magma\")\n"
     ]
    },
    {
     "name": "stdout",
     "output_type": "stream",
     "text": [
      "Runtime for dbscan_clustering: 0.153433 seconds\n"
     ]
    },
    {
     "name": "stderr",
     "output_type": "stream",
     "text": [
      "c:\\Users\\fionu\\OneDrive\\Dokumente\\Daten Fiona\\AIUB\\Code\\AIUB-Backup\\clustering\\high_dim_analysis.py:138: FutureWarning: \n",
      "\n",
      "Passing `palette` without assigning `hue` is deprecated and will be removed in v0.14.0. Assign the `y` variable to `hue` and set `legend=False` for the same effect.\n",
      "\n",
      "  sns.barplot(x=mi_vals, y=features, palette=\"magma\")\n"
     ]
    },
    {
     "name": "stdout",
     "output_type": "stream",
     "text": [
      "Runtime for dbscan_clustering: 0.066279 seconds\n"
     ]
    },
    {
     "name": "stderr",
     "output_type": "stream",
     "text": [
      "c:\\Users\\fionu\\OneDrive\\Dokumente\\Daten Fiona\\AIUB\\Code\\AIUB-Backup\\clustering\\high_dim_analysis.py:138: FutureWarning: \n",
      "\n",
      "Passing `palette` without assigning `hue` is deprecated and will be removed in v0.14.0. Assign the `y` variable to `hue` and set `legend=False` for the same effect.\n",
      "\n",
      "  sns.barplot(x=mi_vals, y=features, palette=\"magma\")\n"
     ]
    },
    {
     "name": "stdout",
     "output_type": "stream",
     "text": [
      "Runtime for dbscan_clustering: 0.078219 seconds\n"
     ]
    },
    {
     "name": "stderr",
     "output_type": "stream",
     "text": [
      "c:\\Users\\fionu\\OneDrive\\Dokumente\\Daten Fiona\\AIUB\\Code\\AIUB-Backup\\clustering\\high_dim_analysis.py:138: FutureWarning: \n",
      "\n",
      "Passing `palette` without assigning `hue` is deprecated and will be removed in v0.14.0. Assign the `y` variable to `hue` and set `legend=False` for the same effect.\n",
      "\n",
      "  sns.barplot(x=mi_vals, y=features, palette=\"magma\")\n"
     ]
    },
    {
     "name": "stdout",
     "output_type": "stream",
     "text": [
      "Runtime for dbscan_clustering: 0.049897 seconds\n"
     ]
    },
    {
     "name": "stderr",
     "output_type": "stream",
     "text": [
      "c:\\Users\\fionu\\OneDrive\\Dokumente\\Daten Fiona\\AIUB\\Code\\AIUB-Backup\\clustering\\high_dim_analysis.py:138: FutureWarning: \n",
      "\n",
      "Passing `palette` without assigning `hue` is deprecated and will be removed in v0.14.0. Assign the `y` variable to `hue` and set `legend=False` for the same effect.\n",
      "\n",
      "  sns.barplot(x=mi_vals, y=features, palette=\"magma\")\n"
     ]
    },
    {
     "name": "stdout",
     "output_type": "stream",
     "text": [
      "Runtime for dbscan_clustering: 0.042758 seconds\n"
     ]
    },
    {
     "name": "stderr",
     "output_type": "stream",
     "text": [
      "c:\\Users\\fionu\\OneDrive\\Dokumente\\Daten Fiona\\AIUB\\Code\\AIUB-Backup\\clustering\\high_dim_analysis.py:138: FutureWarning: \n",
      "\n",
      "Passing `palette` without assigning `hue` is deprecated and will be removed in v0.14.0. Assign the `y` variable to `hue` and set `legend=False` for the same effect.\n",
      "\n",
      "  sns.barplot(x=mi_vals, y=features, palette=\"magma\")\n"
     ]
    },
    {
     "name": "stdout",
     "output_type": "stream",
     "text": [
      "Runtime for dbscan_clustering: 0.063914 seconds\n"
     ]
    },
    {
     "name": "stderr",
     "output_type": "stream",
     "text": [
      "c:\\Users\\fionu\\OneDrive\\Dokumente\\Daten Fiona\\AIUB\\Code\\AIUB-Backup\\clustering\\high_dim_analysis.py:138: FutureWarning: \n",
      "\n",
      "Passing `palette` without assigning `hue` is deprecated and will be removed in v0.14.0. Assign the `y` variable to `hue` and set `legend=False` for the same effect.\n",
      "\n",
      "  sns.barplot(x=mi_vals, y=features, palette=\"magma\")\n"
     ]
    },
    {
     "name": "stdout",
     "output_type": "stream",
     "text": [
      "Runtime for dbscan_clustering: 0.043980 seconds\n"
     ]
    },
    {
     "name": "stderr",
     "output_type": "stream",
     "text": [
      "c:\\Users\\fionu\\OneDrive\\Dokumente\\Daten Fiona\\AIUB\\Code\\AIUB-Backup\\clustering\\high_dim_analysis.py:138: FutureWarning: \n",
      "\n",
      "Passing `palette` without assigning `hue` is deprecated and will be removed in v0.14.0. Assign the `y` variable to `hue` and set `legend=False` for the same effect.\n",
      "\n",
      "  sns.barplot(x=mi_vals, y=features, palette=\"magma\")\n"
     ]
    },
    {
     "name": "stdout",
     "output_type": "stream",
     "text": [
      "Runtime for dbscan_clustering: 0.085326 seconds\n"
     ]
    },
    {
     "name": "stderr",
     "output_type": "stream",
     "text": [
      "c:\\Users\\fionu\\OneDrive\\Dokumente\\Daten Fiona\\AIUB\\Code\\AIUB-Backup\\clustering\\high_dim_analysis.py:138: FutureWarning: \n",
      "\n",
      "Passing `palette` without assigning `hue` is deprecated and will be removed in v0.14.0. Assign the `y` variable to `hue` and set `legend=False` for the same effect.\n",
      "\n",
      "  sns.barplot(x=mi_vals, y=features, palette=\"magma\")\n"
     ]
    },
    {
     "name": "stdout",
     "output_type": "stream",
     "text": [
      "Runtime for dbscan_clustering: 0.075957 seconds\n"
     ]
    },
    {
     "name": "stderr",
     "output_type": "stream",
     "text": [
      "c:\\Users\\fionu\\OneDrive\\Dokumente\\Daten Fiona\\AIUB\\Code\\AIUB-Backup\\clustering\\high_dim_analysis.py:138: FutureWarning: \n",
      "\n",
      "Passing `palette` without assigning `hue` is deprecated and will be removed in v0.14.0. Assign the `y` variable to `hue` and set `legend=False` for the same effect.\n",
      "\n",
      "  sns.barplot(x=mi_vals, y=features, palette=\"magma\")\n"
     ]
    },
    {
     "name": "stdout",
     "output_type": "stream",
     "text": [
      "Runtime for dbscan_clustering: 0.077706 seconds\n"
     ]
    },
    {
     "name": "stderr",
     "output_type": "stream",
     "text": [
      "c:\\Users\\fionu\\OneDrive\\Dokumente\\Daten Fiona\\AIUB\\Code\\AIUB-Backup\\clustering\\high_dim_analysis.py:138: FutureWarning: \n",
      "\n",
      "Passing `palette` without assigning `hue` is deprecated and will be removed in v0.14.0. Assign the `y` variable to `hue` and set `legend=False` for the same effect.\n",
      "\n",
      "  sns.barplot(x=mi_vals, y=features, palette=\"magma\")\n"
     ]
    },
    {
     "name": "stdout",
     "output_type": "stream",
     "text": [
      "Runtime for dbscan_clustering: 0.069259 seconds\n"
     ]
    },
    {
     "name": "stderr",
     "output_type": "stream",
     "text": [
      "c:\\Users\\fionu\\OneDrive\\Dokumente\\Daten Fiona\\AIUB\\Code\\AIUB-Backup\\clustering\\high_dim_analysis.py:138: FutureWarning: \n",
      "\n",
      "Passing `palette` without assigning `hue` is deprecated and will be removed in v0.14.0. Assign the `y` variable to `hue` and set `legend=False` for the same effect.\n",
      "\n",
      "  sns.barplot(x=mi_vals, y=features, palette=\"magma\")\n"
     ]
    },
    {
     "name": "stdout",
     "output_type": "stream",
     "text": [
      "Runtime for dbscan_clustering: 0.048315 seconds\n"
     ]
    },
    {
     "name": "stderr",
     "output_type": "stream",
     "text": [
      "c:\\Users\\fionu\\OneDrive\\Dokumente\\Daten Fiona\\AIUB\\Code\\AIUB-Backup\\clustering\\high_dim_analysis.py:42: FutureWarning: \n",
      "\n",
      "Passing `palette` without assigning `hue` is deprecated and will be removed in v0.14.0. Assign the `y` variable to `hue` and set `legend=False` for the same effect.\n",
      "\n",
      "  sns.barplot(x=f_vals, y=features, palette=\"crest\")\n"
     ]
    },
    {
     "name": "stdout",
     "output_type": "stream",
     "text": [
      "Best DBSCAN parameters based on ANOVA F-value:\n",
      "Year Range                                                       2007-2010\n",
      "eps                                                                   0.01\n",
      "min_samples                                                             30\n",
      "Runtime (s)                                                          0.044\n",
      "Clusters                                                                 8\n",
      "Points per Cluster       {0: 415, 1: 936, 2: 85, 3: 1104, 4: 128, 5: 75...\n",
      "Noise Points                                                          2914\n",
      "Davies-Bouldin                                                        None\n",
      "Calinski-Harabasz                                                     None\n",
      "Weighted Mean ANOVA F                                             1697.879\n",
      "Name: 7, dtype: object\n"
     ]
    },
    {
     "data": {
      "application/vnd.microsoft.datawrangler.viewer.v0+json": {
       "columns": [
        {
         "name": "index",
         "rawType": "int64",
         "type": "integer"
        },
        {
         "name": "Year Range",
         "rawType": "object",
         "type": "string"
        },
        {
         "name": "eps",
         "rawType": "float64",
         "type": "float"
        },
        {
         "name": "min_samples",
         "rawType": "int64",
         "type": "integer"
        },
        {
         "name": "Runtime (s)",
         "rawType": "object",
         "type": "string"
        },
        {
         "name": "Clusters",
         "rawType": "int64",
         "type": "integer"
        },
        {
         "name": "Points per Cluster",
         "rawType": "object",
         "type": "unknown"
        },
        {
         "name": "Noise Points",
         "rawType": "int32",
         "type": "integer"
        },
        {
         "name": "Davies-Bouldin",
         "rawType": "object",
         "type": "unknown"
        },
        {
         "name": "Calinski-Harabasz",
         "rawType": "object",
         "type": "unknown"
        },
        {
         "name": "Weighted Mean ANOVA F",
         "rawType": "float64",
         "type": "float"
        }
       ],
       "ref": "d036b569-aee5-4f21-8226-500f9ad72649",
       "rows": [
        [
         "0",
         "2007-2010",
         "0.02",
         "10",
         "0.163",
         "19",
         "{0: 3697, 1: 45, 2: 56, 3: 36, 4: 13, 5: 19, 6: 26, 7: 29, 8: 15, 9: 31, 10: 18, 11: 11, 12: 11, 13: 19, 14: 12, 15: 10, 16: 16, 17: 10, -1: 1612}",
         "1612",
         null,
         null,
         null
        ],
        [
         "1",
         "2007-2010",
         "0.02",
         "15",
         "0.153",
         "8",
         "{0: 3684, 1: 42, 2: 28, 3: 17, 4: 25, 5: 16, 6: 15, -1: 1859}",
         "1859",
         null,
         null,
         null
        ],
        [
         "2",
         "2007-2010",
         "0.02",
         "25",
         "0.066",
         "2",
         "{0: 3597, -1: 2089}",
         "2089",
         null,
         null,
         null
        ],
        [
         "3",
         "2007-2010",
         "0.02",
         "30",
         "0.078",
         "2",
         "{0: 3594, -1: 2092}",
         "2092",
         null,
         null,
         "0.0"
        ],
        [
         "4",
         "2007-2010",
         "0.01",
         "10",
         "0.050",
         "13",
         "{0: 1491, 1: 1681, 2: 11, 3: 68, 4: 5, 5: 13, 6: 12, 7: 12, 8: 13, 9: 15, 10: 10, 11: 10, -1: 2345}",
         "2345",
         null,
         null,
         null
        ],
        [
         "5",
         "2007-2010",
         "0.01",
         "15",
         "0.043",
         "7",
         "{0: 1446, 1: 1624, 2: 21, 3: 22, 4: 14, 5: 10, -1: 2549}",
         "2549",
         null,
         null,
         null
        ],
        [
         "6",
         "2007-2010",
         "0.01",
         "25",
         "0.064",
         "4",
         "{0: 1377, 1: 349, 2: 1179, -1: 2781}",
         "2781",
         null,
         null,
         null
        ],
        [
         "7",
         "2007-2010",
         "0.01",
         "30",
         "0.044",
         "8",
         "{0: 415, 1: 936, 2: 85, 3: 1104, 4: 128, 5: 75, 6: 29, -1: 2914}",
         "2914",
         null,
         null,
         "1697.879"
        ],
        [
         "8",
         "2007-2010",
         "0.015",
         "10",
         "0.085",
         "11",
         "{0: 3574, 1: 25, 2: 28, 3: 12, 4: 18, 5: 25, 6: 17, 7: 15, 8: 10, 9: 13, -1: 1949}",
         "1949",
         null,
         null,
         null
        ],
        [
         "9",
         "2007-2010",
         "0.015",
         "15",
         "0.076",
         "6",
         "{0: 3522, 1: 17, 2: 22, 3: 22, 4: 12, -1: 2091}",
         "2091",
         null,
         null,
         null
        ],
        [
         "10",
         "2007-2010",
         "0.015",
         "25",
         "0.078",
         "3",
         "{0: 1561, 1: 1828, -1: 2297}",
         "2297",
         null,
         null,
         null
        ],
        [
         "11",
         "2007-2010",
         "0.015",
         "30",
         "0.069",
         "3",
         "{0: 1546, 1: 1807, -1: 2333}",
         "2333",
         null,
         null,
         "1075.837"
        ]
       ],
       "shape": {
        "columns": 10,
        "rows": 12
       }
      },
      "text/html": [
       "<div>\n",
       "<style scoped>\n",
       "    .dataframe tbody tr th:only-of-type {\n",
       "        vertical-align: middle;\n",
       "    }\n",
       "\n",
       "    .dataframe tbody tr th {\n",
       "        vertical-align: top;\n",
       "    }\n",
       "\n",
       "    .dataframe thead th {\n",
       "        text-align: right;\n",
       "    }\n",
       "</style>\n",
       "<table border=\"1\" class=\"dataframe\">\n",
       "  <thead>\n",
       "    <tr style=\"text-align: right;\">\n",
       "      <th></th>\n",
       "      <th>Year Range</th>\n",
       "      <th>eps</th>\n",
       "      <th>min_samples</th>\n",
       "      <th>Runtime (s)</th>\n",
       "      <th>Clusters</th>\n",
       "      <th>Points per Cluster</th>\n",
       "      <th>Noise Points</th>\n",
       "      <th>Davies-Bouldin</th>\n",
       "      <th>Calinski-Harabasz</th>\n",
       "      <th>Weighted Mean ANOVA F</th>\n",
       "    </tr>\n",
       "  </thead>\n",
       "  <tbody>\n",
       "    <tr>\n",
       "      <th>0</th>\n",
       "      <td>2007-2010</td>\n",
       "      <td>0.020</td>\n",
       "      <td>10</td>\n",
       "      <td>0.163</td>\n",
       "      <td>19</td>\n",
       "      <td>{0: 3697, 1: 45, 2: 56, 3: 36, 4: 13, 5: 19, 6...</td>\n",
       "      <td>1612</td>\n",
       "      <td>None</td>\n",
       "      <td>None</td>\n",
       "      <td>NaN</td>\n",
       "    </tr>\n",
       "    <tr>\n",
       "      <th>1</th>\n",
       "      <td>2007-2010</td>\n",
       "      <td>0.020</td>\n",
       "      <td>15</td>\n",
       "      <td>0.153</td>\n",
       "      <td>8</td>\n",
       "      <td>{0: 3684, 1: 42, 2: 28, 3: 17, 4: 25, 5: 16, 6...</td>\n",
       "      <td>1859</td>\n",
       "      <td>None</td>\n",
       "      <td>None</td>\n",
       "      <td>NaN</td>\n",
       "    </tr>\n",
       "    <tr>\n",
       "      <th>2</th>\n",
       "      <td>2007-2010</td>\n",
       "      <td>0.020</td>\n",
       "      <td>25</td>\n",
       "      <td>0.066</td>\n",
       "      <td>2</td>\n",
       "      <td>{0: 3597, -1: 2089}</td>\n",
       "      <td>2089</td>\n",
       "      <td>None</td>\n",
       "      <td>None</td>\n",
       "      <td>NaN</td>\n",
       "    </tr>\n",
       "    <tr>\n",
       "      <th>3</th>\n",
       "      <td>2007-2010</td>\n",
       "      <td>0.020</td>\n",
       "      <td>30</td>\n",
       "      <td>0.078</td>\n",
       "      <td>2</td>\n",
       "      <td>{0: 3594, -1: 2092}</td>\n",
       "      <td>2092</td>\n",
       "      <td>None</td>\n",
       "      <td>None</td>\n",
       "      <td>0.000</td>\n",
       "    </tr>\n",
       "    <tr>\n",
       "      <th>4</th>\n",
       "      <td>2007-2010</td>\n",
       "      <td>0.010</td>\n",
       "      <td>10</td>\n",
       "      <td>0.050</td>\n",
       "      <td>13</td>\n",
       "      <td>{0: 1491, 1: 1681, 2: 11, 3: 68, 4: 5, 5: 13, ...</td>\n",
       "      <td>2345</td>\n",
       "      <td>None</td>\n",
       "      <td>None</td>\n",
       "      <td>NaN</td>\n",
       "    </tr>\n",
       "    <tr>\n",
       "      <th>5</th>\n",
       "      <td>2007-2010</td>\n",
       "      <td>0.010</td>\n",
       "      <td>15</td>\n",
       "      <td>0.043</td>\n",
       "      <td>7</td>\n",
       "      <td>{0: 1446, 1: 1624, 2: 21, 3: 22, 4: 14, 5: 10,...</td>\n",
       "      <td>2549</td>\n",
       "      <td>None</td>\n",
       "      <td>None</td>\n",
       "      <td>NaN</td>\n",
       "    </tr>\n",
       "    <tr>\n",
       "      <th>6</th>\n",
       "      <td>2007-2010</td>\n",
       "      <td>0.010</td>\n",
       "      <td>25</td>\n",
       "      <td>0.064</td>\n",
       "      <td>4</td>\n",
       "      <td>{0: 1377, 1: 349, 2: 1179, -1: 2781}</td>\n",
       "      <td>2781</td>\n",
       "      <td>None</td>\n",
       "      <td>None</td>\n",
       "      <td>NaN</td>\n",
       "    </tr>\n",
       "    <tr>\n",
       "      <th>7</th>\n",
       "      <td>2007-2010</td>\n",
       "      <td>0.010</td>\n",
       "      <td>30</td>\n",
       "      <td>0.044</td>\n",
       "      <td>8</td>\n",
       "      <td>{0: 415, 1: 936, 2: 85, 3: 1104, 4: 128, 5: 75...</td>\n",
       "      <td>2914</td>\n",
       "      <td>None</td>\n",
       "      <td>None</td>\n",
       "      <td>1697.879</td>\n",
       "    </tr>\n",
       "    <tr>\n",
       "      <th>8</th>\n",
       "      <td>2007-2010</td>\n",
       "      <td>0.015</td>\n",
       "      <td>10</td>\n",
       "      <td>0.085</td>\n",
       "      <td>11</td>\n",
       "      <td>{0: 3574, 1: 25, 2: 28, 3: 12, 4: 18, 5: 25, 6...</td>\n",
       "      <td>1949</td>\n",
       "      <td>None</td>\n",
       "      <td>None</td>\n",
       "      <td>NaN</td>\n",
       "    </tr>\n",
       "    <tr>\n",
       "      <th>9</th>\n",
       "      <td>2007-2010</td>\n",
       "      <td>0.015</td>\n",
       "      <td>15</td>\n",
       "      <td>0.076</td>\n",
       "      <td>6</td>\n",
       "      <td>{0: 3522, 1: 17, 2: 22, 3: 22, 4: 12, -1: 2091}</td>\n",
       "      <td>2091</td>\n",
       "      <td>None</td>\n",
       "      <td>None</td>\n",
       "      <td>NaN</td>\n",
       "    </tr>\n",
       "    <tr>\n",
       "      <th>10</th>\n",
       "      <td>2007-2010</td>\n",
       "      <td>0.015</td>\n",
       "      <td>25</td>\n",
       "      <td>0.078</td>\n",
       "      <td>3</td>\n",
       "      <td>{0: 1561, 1: 1828, -1: 2297}</td>\n",
       "      <td>2297</td>\n",
       "      <td>None</td>\n",
       "      <td>None</td>\n",
       "      <td>NaN</td>\n",
       "    </tr>\n",
       "    <tr>\n",
       "      <th>11</th>\n",
       "      <td>2007-2010</td>\n",
       "      <td>0.015</td>\n",
       "      <td>30</td>\n",
       "      <td>0.069</td>\n",
       "      <td>3</td>\n",
       "      <td>{0: 1546, 1: 1807, -1: 2333}</td>\n",
       "      <td>2333</td>\n",
       "      <td>None</td>\n",
       "      <td>None</td>\n",
       "      <td>1075.837</td>\n",
       "    </tr>\n",
       "  </tbody>\n",
       "</table>\n",
       "</div>"
      ],
      "text/plain": [
       "   Year Range    eps  min_samples Runtime (s)  Clusters  \\\n",
       "0   2007-2010  0.020           10       0.163        19   \n",
       "1   2007-2010  0.020           15       0.153         8   \n",
       "2   2007-2010  0.020           25       0.066         2   \n",
       "3   2007-2010  0.020           30       0.078         2   \n",
       "4   2007-2010  0.010           10       0.050        13   \n",
       "5   2007-2010  0.010           15       0.043         7   \n",
       "6   2007-2010  0.010           25       0.064         4   \n",
       "7   2007-2010  0.010           30       0.044         8   \n",
       "8   2007-2010  0.015           10       0.085        11   \n",
       "9   2007-2010  0.015           15       0.076         6   \n",
       "10  2007-2010  0.015           25       0.078         3   \n",
       "11  2007-2010  0.015           30       0.069         3   \n",
       "\n",
       "                                   Points per Cluster  Noise Points  \\\n",
       "0   {0: 3697, 1: 45, 2: 56, 3: 36, 4: 13, 5: 19, 6...          1612   \n",
       "1   {0: 3684, 1: 42, 2: 28, 3: 17, 4: 25, 5: 16, 6...          1859   \n",
       "2                                 {0: 3597, -1: 2089}          2089   \n",
       "3                                 {0: 3594, -1: 2092}          2092   \n",
       "4   {0: 1491, 1: 1681, 2: 11, 3: 68, 4: 5, 5: 13, ...          2345   \n",
       "5   {0: 1446, 1: 1624, 2: 21, 3: 22, 4: 14, 5: 10,...          2549   \n",
       "6                {0: 1377, 1: 349, 2: 1179, -1: 2781}          2781   \n",
       "7   {0: 415, 1: 936, 2: 85, 3: 1104, 4: 128, 5: 75...          2914   \n",
       "8   {0: 3574, 1: 25, 2: 28, 3: 12, 4: 18, 5: 25, 6...          1949   \n",
       "9     {0: 3522, 1: 17, 2: 22, 3: 22, 4: 12, -1: 2091}          2091   \n",
       "10                       {0: 1561, 1: 1828, -1: 2297}          2297   \n",
       "11                       {0: 1546, 1: 1807, -1: 2333}          2333   \n",
       "\n",
       "   Davies-Bouldin Calinski-Harabasz  Weighted Mean ANOVA F  \n",
       "0            None              None                    NaN  \n",
       "1            None              None                    NaN  \n",
       "2            None              None                    NaN  \n",
       "3            None              None                  0.000  \n",
       "4            None              None                    NaN  \n",
       "5            None              None                    NaN  \n",
       "6            None              None                    NaN  \n",
       "7            None              None               1697.879  \n",
       "8            None              None                    NaN  \n",
       "9            None              None                    NaN  \n",
       "10           None              None                    NaN  \n",
       "11           None              None               1075.837  "
      ]
     },
     "metadata": {},
     "output_type": "display_data"
    },
    {
     "name": "stdout",
     "output_type": "stream",
     "text": [
      "\n",
      "Running DBSCAN for Year Range: 2008-2011\n",
      "Runtime for dbscan_clustering: 0.047165 seconds\n"
     ]
    },
    {
     "name": "stderr",
     "output_type": "stream",
     "text": [
      "c:\\Users\\fionu\\OneDrive\\Dokumente\\Daten Fiona\\AIUB\\Code\\AIUB-Backup\\clustering\\high_dim_analysis.py:138: FutureWarning: \n",
      "\n",
      "Passing `palette` without assigning `hue` is deprecated and will be removed in v0.14.0. Assign the `y` variable to `hue` and set `legend=False` for the same effect.\n",
      "\n",
      "  sns.barplot(x=mi_vals, y=features, palette=\"magma\")\n"
     ]
    },
    {
     "name": "stdout",
     "output_type": "stream",
     "text": [
      "Runtime for dbscan_clustering: 0.117664 seconds\n"
     ]
    },
    {
     "name": "stderr",
     "output_type": "stream",
     "text": [
      "c:\\Users\\fionu\\OneDrive\\Dokumente\\Daten Fiona\\AIUB\\Code\\AIUB-Backup\\clustering\\high_dim_analysis.py:138: FutureWarning: \n",
      "\n",
      "Passing `palette` without assigning `hue` is deprecated and will be removed in v0.14.0. Assign the `y` variable to `hue` and set `legend=False` for the same effect.\n",
      "\n",
      "  sns.barplot(x=mi_vals, y=features, palette=\"magma\")\n"
     ]
    },
    {
     "name": "stdout",
     "output_type": "stream",
     "text": [
      "Runtime for dbscan_clustering: 0.095690 seconds\n"
     ]
    },
    {
     "name": "stderr",
     "output_type": "stream",
     "text": [
      "c:\\Users\\fionu\\OneDrive\\Dokumente\\Daten Fiona\\AIUB\\Code\\AIUB-Backup\\clustering\\high_dim_analysis.py:138: FutureWarning: \n",
      "\n",
      "Passing `palette` without assigning `hue` is deprecated and will be removed in v0.14.0. Assign the `y` variable to `hue` and set `legend=False` for the same effect.\n",
      "\n",
      "  sns.barplot(x=mi_vals, y=features, palette=\"magma\")\n"
     ]
    },
    {
     "name": "stdout",
     "output_type": "stream",
     "text": [
      "Runtime for dbscan_clustering: 0.094221 seconds\n"
     ]
    },
    {
     "name": "stderr",
     "output_type": "stream",
     "text": [
      "c:\\Users\\fionu\\OneDrive\\Dokumente\\Daten Fiona\\AIUB\\Code\\AIUB-Backup\\clustering\\high_dim_analysis.py:138: FutureWarning: \n",
      "\n",
      "Passing `palette` without assigning `hue` is deprecated and will be removed in v0.14.0. Assign the `y` variable to `hue` and set `legend=False` for the same effect.\n",
      "\n",
      "  sns.barplot(x=mi_vals, y=features, palette=\"magma\")\n"
     ]
    },
    {
     "name": "stdout",
     "output_type": "stream",
     "text": [
      "Runtime for dbscan_clustering: 0.079445 seconds\n"
     ]
    },
    {
     "name": "stderr",
     "output_type": "stream",
     "text": [
      "c:\\Users\\fionu\\OneDrive\\Dokumente\\Daten Fiona\\AIUB\\Code\\AIUB-Backup\\clustering\\high_dim_analysis.py:138: FutureWarning: \n",
      "\n",
      "Passing `palette` without assigning `hue` is deprecated and will be removed in v0.14.0. Assign the `y` variable to `hue` and set `legend=False` for the same effect.\n",
      "\n",
      "  sns.barplot(x=mi_vals, y=features, palette=\"magma\")\n"
     ]
    },
    {
     "name": "stdout",
     "output_type": "stream",
     "text": [
      "Runtime for dbscan_clustering: 0.138159 seconds\n"
     ]
    },
    {
     "name": "stderr",
     "output_type": "stream",
     "text": [
      "c:\\Users\\fionu\\OneDrive\\Dokumente\\Daten Fiona\\AIUB\\Code\\AIUB-Backup\\clustering\\high_dim_analysis.py:138: FutureWarning: \n",
      "\n",
      "Passing `palette` without assigning `hue` is deprecated and will be removed in v0.14.0. Assign the `y` variable to `hue` and set `legend=False` for the same effect.\n",
      "\n",
      "  sns.barplot(x=mi_vals, y=features, palette=\"magma\")\n"
     ]
    },
    {
     "name": "stdout",
     "output_type": "stream",
     "text": [
      "Runtime for dbscan_clustering: 0.063405 seconds\n"
     ]
    },
    {
     "name": "stderr",
     "output_type": "stream",
     "text": [
      "c:\\Users\\fionu\\OneDrive\\Dokumente\\Daten Fiona\\AIUB\\Code\\AIUB-Backup\\clustering\\high_dim_analysis.py:138: FutureWarning: \n",
      "\n",
      "Passing `palette` without assigning `hue` is deprecated and will be removed in v0.14.0. Assign the `y` variable to `hue` and set `legend=False` for the same effect.\n",
      "\n",
      "  sns.barplot(x=mi_vals, y=features, palette=\"magma\")\n"
     ]
    },
    {
     "name": "stdout",
     "output_type": "stream",
     "text": [
      "Runtime for dbscan_clustering: 0.067056 seconds\n"
     ]
    },
    {
     "name": "stderr",
     "output_type": "stream",
     "text": [
      "c:\\Users\\fionu\\OneDrive\\Dokumente\\Daten Fiona\\AIUB\\Code\\AIUB-Backup\\clustering\\high_dim_analysis.py:138: FutureWarning: \n",
      "\n",
      "Passing `palette` without assigning `hue` is deprecated and will be removed in v0.14.0. Assign the `y` variable to `hue` and set `legend=False` for the same effect.\n",
      "\n",
      "  sns.barplot(x=mi_vals, y=features, palette=\"magma\")\n"
     ]
    },
    {
     "name": "stdout",
     "output_type": "stream",
     "text": [
      "Runtime for dbscan_clustering: 0.106240 seconds\n"
     ]
    },
    {
     "name": "stderr",
     "output_type": "stream",
     "text": [
      "c:\\Users\\fionu\\OneDrive\\Dokumente\\Daten Fiona\\AIUB\\Code\\AIUB-Backup\\clustering\\high_dim_analysis.py:138: FutureWarning: \n",
      "\n",
      "Passing `palette` without assigning `hue` is deprecated and will be removed in v0.14.0. Assign the `y` variable to `hue` and set `legend=False` for the same effect.\n",
      "\n",
      "  sns.barplot(x=mi_vals, y=features, palette=\"magma\")\n"
     ]
    },
    {
     "name": "stdout",
     "output_type": "stream",
     "text": [
      "Runtime for dbscan_clustering: 0.079297 seconds\n"
     ]
    },
    {
     "name": "stderr",
     "output_type": "stream",
     "text": [
      "c:\\Users\\fionu\\OneDrive\\Dokumente\\Daten Fiona\\AIUB\\Code\\AIUB-Backup\\clustering\\high_dim_analysis.py:138: FutureWarning: \n",
      "\n",
      "Passing `palette` without assigning `hue` is deprecated and will be removed in v0.14.0. Assign the `y` variable to `hue` and set `legend=False` for the same effect.\n",
      "\n",
      "  sns.barplot(x=mi_vals, y=features, palette=\"magma\")\n"
     ]
    },
    {
     "name": "stdout",
     "output_type": "stream",
     "text": [
      "Runtime for dbscan_clustering: 0.095431 seconds\n"
     ]
    },
    {
     "name": "stderr",
     "output_type": "stream",
     "text": [
      "c:\\Users\\fionu\\OneDrive\\Dokumente\\Daten Fiona\\AIUB\\Code\\AIUB-Backup\\clustering\\high_dim_analysis.py:138: FutureWarning: \n",
      "\n",
      "Passing `palette` without assigning `hue` is deprecated and will be removed in v0.14.0. Assign the `y` variable to `hue` and set `legend=False` for the same effect.\n",
      "\n",
      "  sns.barplot(x=mi_vals, y=features, palette=\"magma\")\n"
     ]
    },
    {
     "name": "stdout",
     "output_type": "stream",
     "text": [
      "Runtime for dbscan_clustering: 0.102553 seconds\n"
     ]
    },
    {
     "name": "stderr",
     "output_type": "stream",
     "text": [
      "c:\\Users\\fionu\\OneDrive\\Dokumente\\Daten Fiona\\AIUB\\Code\\AIUB-Backup\\clustering\\high_dim_analysis.py:138: FutureWarning: \n",
      "\n",
      "Passing `palette` without assigning `hue` is deprecated and will be removed in v0.14.0. Assign the `y` variable to `hue` and set `legend=False` for the same effect.\n",
      "\n",
      "  sns.barplot(x=mi_vals, y=features, palette=\"magma\")\n"
     ]
    },
    {
     "name": "stdout",
     "output_type": "stream",
     "text": [
      "Runtime for dbscan_clustering: 0.060756 seconds\n"
     ]
    },
    {
     "name": "stderr",
     "output_type": "stream",
     "text": [
      "c:\\Users\\fionu\\OneDrive\\Dokumente\\Daten Fiona\\AIUB\\Code\\AIUB-Backup\\clustering\\high_dim_analysis.py:42: FutureWarning: \n",
      "\n",
      "Passing `palette` without assigning `hue` is deprecated and will be removed in v0.14.0. Assign the `y` variable to `hue` and set `legend=False` for the same effect.\n",
      "\n",
      "  sns.barplot(x=f_vals, y=features, palette=\"crest\")\n"
     ]
    },
    {
     "name": "stdout",
     "output_type": "stream",
     "text": [
      "Best DBSCAN parameters based on ANOVA F-value:\n",
      "Year Range                                                       2008-2011\n",
      "eps                                                                   0.01\n",
      "min_samples                                                             30\n",
      "Runtime (s)                                                          0.067\n",
      "Clusters                                                                 7\n",
      "Points per Cluster       {0: 239, 1: 601, 2: 761, 3: 54, 4: 157, 5: 29,...\n",
      "Noise Points                                                          2223\n",
      "Davies-Bouldin                                                        None\n",
      "Calinski-Harabasz                                                     None\n",
      "Weighted Mean ANOVA F                                             1554.813\n",
      "Name: 7, dtype: object\n"
     ]
    },
    {
     "data": {
      "application/vnd.microsoft.datawrangler.viewer.v0+json": {
       "columns": [
        {
         "name": "index",
         "rawType": "int64",
         "type": "integer"
        },
        {
         "name": "Year Range",
         "rawType": "object",
         "type": "string"
        },
        {
         "name": "eps",
         "rawType": "float64",
         "type": "float"
        },
        {
         "name": "min_samples",
         "rawType": "int64",
         "type": "integer"
        },
        {
         "name": "Runtime (s)",
         "rawType": "object",
         "type": "string"
        },
        {
         "name": "Clusters",
         "rawType": "int64",
         "type": "integer"
        },
        {
         "name": "Points per Cluster",
         "rawType": "object",
         "type": "unknown"
        },
        {
         "name": "Noise Points",
         "rawType": "int32",
         "type": "integer"
        },
        {
         "name": "Davies-Bouldin",
         "rawType": "object",
         "type": "unknown"
        },
        {
         "name": "Calinski-Harabasz",
         "rawType": "object",
         "type": "unknown"
        },
        {
         "name": "Weighted Mean ANOVA F",
         "rawType": "float64",
         "type": "float"
        }
       ],
       "ref": "6051a58d-bc19-46d9-8ffd-673ec768cf9b",
       "rows": [
        [
         "0",
         "2008-2011",
         "0.02",
         "10",
         "0.047",
         "15",
         "{0: 2557, 1: 23, 2: 19, 3: 11, 4: 41, 5: 17, 6: 11, 7: 10, 8: 10, 9: 15, 10: 11, 11: 31, 12: 15, 13: 14, -1: 1279}",
         "1279",
         null,
         null,
         null
        ],
        [
         "1",
         "2008-2011",
         "0.02",
         "15",
         "0.118",
         "5",
         "{0: 2525, 1: 21, 2: 18, 3: 20, -1: 1480}",
         "1480",
         null,
         null,
         null
        ],
        [
         "2",
         "2008-2011",
         "0.02",
         "25",
         "0.096",
         "2",
         "{0: 2473, -1: 1591}",
         "1591",
         null,
         null,
         null
        ],
        [
         "3",
         "2008-2011",
         "0.02",
         "30",
         "0.094",
         "2",
         "{0: 2456, -1: 1608}",
         "1608",
         null,
         null,
         "0.0"
        ],
        [
         "4",
         "2008-2011",
         "0.01",
         "10",
         "0.079",
         "8",
         "{0: 974, 1: 1226, 2: 10, 3: 17, 4: 12, 5: 12, 6: 11, -1: 1802}",
         "1802",
         null,
         null,
         null
        ],
        [
         "5",
         "2008-2011",
         "0.01",
         "15",
         "0.138",
         "3",
         "{0: 933, 1: 1171, -1: 1960}",
         "1960",
         null,
         null,
         null
        ],
        [
         "6",
         "2008-2011",
         "0.01",
         "25",
         "0.063",
         "6",
         "{0: 264, 1: 616, 2: 90, 3: 808, 4: 180, -1: 2106}",
         "2106",
         null,
         null,
         null
        ],
        [
         "7",
         "2008-2011",
         "0.01",
         "30",
         "0.067",
         "7",
         "{0: 239, 1: 601, 2: 761, 3: 54, 4: 157, 5: 29, -1: 2223}",
         "2223",
         null,
         null,
         "1554.813"
        ],
        [
         "8",
         "2008-2011",
         "0.015",
         "10",
         "0.106",
         "9",
         "{0: 1059, 1: 17, 2: 1379, 3: 18, 4: 18, 5: 15, 6: 11, 7: 11, -1: 1536}",
         "1536",
         null,
         null,
         null
        ],
        [
         "9",
         "2008-2011",
         "0.015",
         "15",
         "0.079",
         "4",
         "{0: 1043, 1: 1353, 2: 15, -1: 1653}",
         "1653",
         null,
         null,
         null
        ],
        [
         "10",
         "2008-2011",
         "0.015",
         "25",
         "0.095",
         "3",
         "{0: 1020, 1: 1263, -1: 1781}",
         "1781",
         null,
         null,
         null
        ],
        [
         "11",
         "2008-2011",
         "0.015",
         "30",
         "0.103",
         "3",
         "{0: 1017, 1: 1258, -1: 1789}",
         "1789",
         null,
         null,
         "978.447"
        ]
       ],
       "shape": {
        "columns": 10,
        "rows": 12
       }
      },
      "text/html": [
       "<div>\n",
       "<style scoped>\n",
       "    .dataframe tbody tr th:only-of-type {\n",
       "        vertical-align: middle;\n",
       "    }\n",
       "\n",
       "    .dataframe tbody tr th {\n",
       "        vertical-align: top;\n",
       "    }\n",
       "\n",
       "    .dataframe thead th {\n",
       "        text-align: right;\n",
       "    }\n",
       "</style>\n",
       "<table border=\"1\" class=\"dataframe\">\n",
       "  <thead>\n",
       "    <tr style=\"text-align: right;\">\n",
       "      <th></th>\n",
       "      <th>Year Range</th>\n",
       "      <th>eps</th>\n",
       "      <th>min_samples</th>\n",
       "      <th>Runtime (s)</th>\n",
       "      <th>Clusters</th>\n",
       "      <th>Points per Cluster</th>\n",
       "      <th>Noise Points</th>\n",
       "      <th>Davies-Bouldin</th>\n",
       "      <th>Calinski-Harabasz</th>\n",
       "      <th>Weighted Mean ANOVA F</th>\n",
       "    </tr>\n",
       "  </thead>\n",
       "  <tbody>\n",
       "    <tr>\n",
       "      <th>0</th>\n",
       "      <td>2008-2011</td>\n",
       "      <td>0.020</td>\n",
       "      <td>10</td>\n",
       "      <td>0.047</td>\n",
       "      <td>15</td>\n",
       "      <td>{0: 2557, 1: 23, 2: 19, 3: 11, 4: 41, 5: 17, 6...</td>\n",
       "      <td>1279</td>\n",
       "      <td>None</td>\n",
       "      <td>None</td>\n",
       "      <td>NaN</td>\n",
       "    </tr>\n",
       "    <tr>\n",
       "      <th>1</th>\n",
       "      <td>2008-2011</td>\n",
       "      <td>0.020</td>\n",
       "      <td>15</td>\n",
       "      <td>0.118</td>\n",
       "      <td>5</td>\n",
       "      <td>{0: 2525, 1: 21, 2: 18, 3: 20, -1: 1480}</td>\n",
       "      <td>1480</td>\n",
       "      <td>None</td>\n",
       "      <td>None</td>\n",
       "      <td>NaN</td>\n",
       "    </tr>\n",
       "    <tr>\n",
       "      <th>2</th>\n",
       "      <td>2008-2011</td>\n",
       "      <td>0.020</td>\n",
       "      <td>25</td>\n",
       "      <td>0.096</td>\n",
       "      <td>2</td>\n",
       "      <td>{0: 2473, -1: 1591}</td>\n",
       "      <td>1591</td>\n",
       "      <td>None</td>\n",
       "      <td>None</td>\n",
       "      <td>NaN</td>\n",
       "    </tr>\n",
       "    <tr>\n",
       "      <th>3</th>\n",
       "      <td>2008-2011</td>\n",
       "      <td>0.020</td>\n",
       "      <td>30</td>\n",
       "      <td>0.094</td>\n",
       "      <td>2</td>\n",
       "      <td>{0: 2456, -1: 1608}</td>\n",
       "      <td>1608</td>\n",
       "      <td>None</td>\n",
       "      <td>None</td>\n",
       "      <td>0.000</td>\n",
       "    </tr>\n",
       "    <tr>\n",
       "      <th>4</th>\n",
       "      <td>2008-2011</td>\n",
       "      <td>0.010</td>\n",
       "      <td>10</td>\n",
       "      <td>0.079</td>\n",
       "      <td>8</td>\n",
       "      <td>{0: 974, 1: 1226, 2: 10, 3: 17, 4: 12, 5: 12, ...</td>\n",
       "      <td>1802</td>\n",
       "      <td>None</td>\n",
       "      <td>None</td>\n",
       "      <td>NaN</td>\n",
       "    </tr>\n",
       "    <tr>\n",
       "      <th>5</th>\n",
       "      <td>2008-2011</td>\n",
       "      <td>0.010</td>\n",
       "      <td>15</td>\n",
       "      <td>0.138</td>\n",
       "      <td>3</td>\n",
       "      <td>{0: 933, 1: 1171, -1: 1960}</td>\n",
       "      <td>1960</td>\n",
       "      <td>None</td>\n",
       "      <td>None</td>\n",
       "      <td>NaN</td>\n",
       "    </tr>\n",
       "    <tr>\n",
       "      <th>6</th>\n",
       "      <td>2008-2011</td>\n",
       "      <td>0.010</td>\n",
       "      <td>25</td>\n",
       "      <td>0.063</td>\n",
       "      <td>6</td>\n",
       "      <td>{0: 264, 1: 616, 2: 90, 3: 808, 4: 180, -1: 2106}</td>\n",
       "      <td>2106</td>\n",
       "      <td>None</td>\n",
       "      <td>None</td>\n",
       "      <td>NaN</td>\n",
       "    </tr>\n",
       "    <tr>\n",
       "      <th>7</th>\n",
       "      <td>2008-2011</td>\n",
       "      <td>0.010</td>\n",
       "      <td>30</td>\n",
       "      <td>0.067</td>\n",
       "      <td>7</td>\n",
       "      <td>{0: 239, 1: 601, 2: 761, 3: 54, 4: 157, 5: 29,...</td>\n",
       "      <td>2223</td>\n",
       "      <td>None</td>\n",
       "      <td>None</td>\n",
       "      <td>1554.813</td>\n",
       "    </tr>\n",
       "    <tr>\n",
       "      <th>8</th>\n",
       "      <td>2008-2011</td>\n",
       "      <td>0.015</td>\n",
       "      <td>10</td>\n",
       "      <td>0.106</td>\n",
       "      <td>9</td>\n",
       "      <td>{0: 1059, 1: 17, 2: 1379, 3: 18, 4: 18, 5: 15,...</td>\n",
       "      <td>1536</td>\n",
       "      <td>None</td>\n",
       "      <td>None</td>\n",
       "      <td>NaN</td>\n",
       "    </tr>\n",
       "    <tr>\n",
       "      <th>9</th>\n",
       "      <td>2008-2011</td>\n",
       "      <td>0.015</td>\n",
       "      <td>15</td>\n",
       "      <td>0.079</td>\n",
       "      <td>4</td>\n",
       "      <td>{0: 1043, 1: 1353, 2: 15, -1: 1653}</td>\n",
       "      <td>1653</td>\n",
       "      <td>None</td>\n",
       "      <td>None</td>\n",
       "      <td>NaN</td>\n",
       "    </tr>\n",
       "    <tr>\n",
       "      <th>10</th>\n",
       "      <td>2008-2011</td>\n",
       "      <td>0.015</td>\n",
       "      <td>25</td>\n",
       "      <td>0.095</td>\n",
       "      <td>3</td>\n",
       "      <td>{0: 1020, 1: 1263, -1: 1781}</td>\n",
       "      <td>1781</td>\n",
       "      <td>None</td>\n",
       "      <td>None</td>\n",
       "      <td>NaN</td>\n",
       "    </tr>\n",
       "    <tr>\n",
       "      <th>11</th>\n",
       "      <td>2008-2011</td>\n",
       "      <td>0.015</td>\n",
       "      <td>30</td>\n",
       "      <td>0.103</td>\n",
       "      <td>3</td>\n",
       "      <td>{0: 1017, 1: 1258, -1: 1789}</td>\n",
       "      <td>1789</td>\n",
       "      <td>None</td>\n",
       "      <td>None</td>\n",
       "      <td>978.447</td>\n",
       "    </tr>\n",
       "  </tbody>\n",
       "</table>\n",
       "</div>"
      ],
      "text/plain": [
       "   Year Range    eps  min_samples Runtime (s)  Clusters  \\\n",
       "0   2008-2011  0.020           10       0.047        15   \n",
       "1   2008-2011  0.020           15       0.118         5   \n",
       "2   2008-2011  0.020           25       0.096         2   \n",
       "3   2008-2011  0.020           30       0.094         2   \n",
       "4   2008-2011  0.010           10       0.079         8   \n",
       "5   2008-2011  0.010           15       0.138         3   \n",
       "6   2008-2011  0.010           25       0.063         6   \n",
       "7   2008-2011  0.010           30       0.067         7   \n",
       "8   2008-2011  0.015           10       0.106         9   \n",
       "9   2008-2011  0.015           15       0.079         4   \n",
       "10  2008-2011  0.015           25       0.095         3   \n",
       "11  2008-2011  0.015           30       0.103         3   \n",
       "\n",
       "                                   Points per Cluster  Noise Points  \\\n",
       "0   {0: 2557, 1: 23, 2: 19, 3: 11, 4: 41, 5: 17, 6...          1279   \n",
       "1            {0: 2525, 1: 21, 2: 18, 3: 20, -1: 1480}          1480   \n",
       "2                                 {0: 2473, -1: 1591}          1591   \n",
       "3                                 {0: 2456, -1: 1608}          1608   \n",
       "4   {0: 974, 1: 1226, 2: 10, 3: 17, 4: 12, 5: 12, ...          1802   \n",
       "5                         {0: 933, 1: 1171, -1: 1960}          1960   \n",
       "6   {0: 264, 1: 616, 2: 90, 3: 808, 4: 180, -1: 2106}          2106   \n",
       "7   {0: 239, 1: 601, 2: 761, 3: 54, 4: 157, 5: 29,...          2223   \n",
       "8   {0: 1059, 1: 17, 2: 1379, 3: 18, 4: 18, 5: 15,...          1536   \n",
       "9                 {0: 1043, 1: 1353, 2: 15, -1: 1653}          1653   \n",
       "10                       {0: 1020, 1: 1263, -1: 1781}          1781   \n",
       "11                       {0: 1017, 1: 1258, -1: 1789}          1789   \n",
       "\n",
       "   Davies-Bouldin Calinski-Harabasz  Weighted Mean ANOVA F  \n",
       "0            None              None                    NaN  \n",
       "1            None              None                    NaN  \n",
       "2            None              None                    NaN  \n",
       "3            None              None                  0.000  \n",
       "4            None              None                    NaN  \n",
       "5            None              None                    NaN  \n",
       "6            None              None                    NaN  \n",
       "7            None              None               1554.813  \n",
       "8            None              None                    NaN  \n",
       "9            None              None                    NaN  \n",
       "10           None              None                    NaN  \n",
       "11           None              None                978.447  "
      ]
     },
     "metadata": {},
     "output_type": "display_data"
    },
    {
     "name": "stdout",
     "output_type": "stream",
     "text": [
      "\n",
      "Running DBSCAN for Year Range: 2009-2012\n",
      "Runtime for dbscan_clustering: 0.084061 seconds\n"
     ]
    },
    {
     "name": "stderr",
     "output_type": "stream",
     "text": [
      "c:\\Users\\fionu\\OneDrive\\Dokumente\\Daten Fiona\\AIUB\\Code\\AIUB-Backup\\clustering\\high_dim_analysis.py:138: FutureWarning: \n",
      "\n",
      "Passing `palette` without assigning `hue` is deprecated and will be removed in v0.14.0. Assign the `y` variable to `hue` and set `legend=False` for the same effect.\n",
      "\n",
      "  sns.barplot(x=mi_vals, y=features, palette=\"magma\")\n"
     ]
    },
    {
     "name": "stdout",
     "output_type": "stream",
     "text": [
      "Runtime for dbscan_clustering: 0.095785 seconds\n"
     ]
    },
    {
     "name": "stderr",
     "output_type": "stream",
     "text": [
      "c:\\Users\\fionu\\OneDrive\\Dokumente\\Daten Fiona\\AIUB\\Code\\AIUB-Backup\\clustering\\high_dim_analysis.py:138: FutureWarning: \n",
      "\n",
      "Passing `palette` without assigning `hue` is deprecated and will be removed in v0.14.0. Assign the `y` variable to `hue` and set `legend=False` for the same effect.\n",
      "\n",
      "  sns.barplot(x=mi_vals, y=features, palette=\"magma\")\n"
     ]
    },
    {
     "name": "stdout",
     "output_type": "stream",
     "text": [
      "Runtime for dbscan_clustering: 0.079082 seconds\n"
     ]
    },
    {
     "name": "stderr",
     "output_type": "stream",
     "text": [
      "c:\\Users\\fionu\\OneDrive\\Dokumente\\Daten Fiona\\AIUB\\Code\\AIUB-Backup\\clustering\\high_dim_analysis.py:138: FutureWarning: \n",
      "\n",
      "Passing `palette` without assigning `hue` is deprecated and will be removed in v0.14.0. Assign the `y` variable to `hue` and set `legend=False` for the same effect.\n",
      "\n",
      "  sns.barplot(x=mi_vals, y=features, palette=\"magma\")\n"
     ]
    },
    {
     "name": "stdout",
     "output_type": "stream",
     "text": [
      "Runtime for dbscan_clustering: 0.066911 seconds\n"
     ]
    },
    {
     "name": "stderr",
     "output_type": "stream",
     "text": [
      "c:\\Users\\fionu\\OneDrive\\Dokumente\\Daten Fiona\\AIUB\\Code\\AIUB-Backup\\clustering\\high_dim_analysis.py:138: FutureWarning: \n",
      "\n",
      "Passing `palette` without assigning `hue` is deprecated and will be removed in v0.14.0. Assign the `y` variable to `hue` and set `legend=False` for the same effect.\n",
      "\n",
      "  sns.barplot(x=mi_vals, y=features, palette=\"magma\")\n"
     ]
    },
    {
     "name": "stdout",
     "output_type": "stream",
     "text": [
      "Runtime for dbscan_clustering: 0.016635 seconds\n"
     ]
    },
    {
     "name": "stderr",
     "output_type": "stream",
     "text": [
      "c:\\Users\\fionu\\OneDrive\\Dokumente\\Daten Fiona\\AIUB\\Code\\AIUB-Backup\\clustering\\high_dim_analysis.py:138: FutureWarning: \n",
      "\n",
      "Passing `palette` without assigning `hue` is deprecated and will be removed in v0.14.0. Assign the `y` variable to `hue` and set `legend=False` for the same effect.\n",
      "\n",
      "  sns.barplot(x=mi_vals, y=features, palette=\"magma\")\n"
     ]
    },
    {
     "name": "stdout",
     "output_type": "stream",
     "text": [
      "Runtime for dbscan_clustering: 0.012651 seconds\n"
     ]
    },
    {
     "name": "stderr",
     "output_type": "stream",
     "text": [
      "c:\\Users\\fionu\\OneDrive\\Dokumente\\Daten Fiona\\AIUB\\Code\\AIUB-Backup\\clustering\\high_dim_analysis.py:138: FutureWarning: \n",
      "\n",
      "Passing `palette` without assigning `hue` is deprecated and will be removed in v0.14.0. Assign the `y` variable to `hue` and set `legend=False` for the same effect.\n",
      "\n",
      "  sns.barplot(x=mi_vals, y=features, palette=\"magma\")\n"
     ]
    },
    {
     "name": "stdout",
     "output_type": "stream",
     "text": [
      "Runtime for dbscan_clustering: 0.012505 seconds\n"
     ]
    },
    {
     "name": "stderr",
     "output_type": "stream",
     "text": [
      "c:\\Users\\fionu\\OneDrive\\Dokumente\\Daten Fiona\\AIUB\\Code\\AIUB-Backup\\clustering\\high_dim_analysis.py:138: FutureWarning: \n",
      "\n",
      "Passing `palette` without assigning `hue` is deprecated and will be removed in v0.14.0. Assign the `y` variable to `hue` and set `legend=False` for the same effect.\n",
      "\n",
      "  sns.barplot(x=mi_vals, y=features, palette=\"magma\")\n"
     ]
    },
    {
     "name": "stdout",
     "output_type": "stream",
     "text": [
      "Runtime for dbscan_clustering: 0.041009 seconds\n"
     ]
    },
    {
     "name": "stderr",
     "output_type": "stream",
     "text": [
      "c:\\Users\\fionu\\OneDrive\\Dokumente\\Daten Fiona\\AIUB\\Code\\AIUB-Backup\\clustering\\high_dim_analysis.py:138: FutureWarning: \n",
      "\n",
      "Passing `palette` without assigning `hue` is deprecated and will be removed in v0.14.0. Assign the `y` variable to `hue` and set `legend=False` for the same effect.\n",
      "\n",
      "  sns.barplot(x=mi_vals, y=features, palette=\"magma\")\n"
     ]
    },
    {
     "name": "stdout",
     "output_type": "stream",
     "text": [
      "Runtime for dbscan_clustering: 0.031558 seconds\n"
     ]
    },
    {
     "name": "stderr",
     "output_type": "stream",
     "text": [
      "c:\\Users\\fionu\\OneDrive\\Dokumente\\Daten Fiona\\AIUB\\Code\\AIUB-Backup\\clustering\\high_dim_analysis.py:138: FutureWarning: \n",
      "\n",
      "Passing `palette` without assigning `hue` is deprecated and will be removed in v0.14.0. Assign the `y` variable to `hue` and set `legend=False` for the same effect.\n",
      "\n",
      "  sns.barplot(x=mi_vals, y=features, palette=\"magma\")\n"
     ]
    },
    {
     "name": "stdout",
     "output_type": "stream",
     "text": [
      "Runtime for dbscan_clustering: 0.031126 seconds\n"
     ]
    },
    {
     "name": "stderr",
     "output_type": "stream",
     "text": [
      "c:\\Users\\fionu\\OneDrive\\Dokumente\\Daten Fiona\\AIUB\\Code\\AIUB-Backup\\clustering\\high_dim_analysis.py:138: FutureWarning: \n",
      "\n",
      "Passing `palette` without assigning `hue` is deprecated and will be removed in v0.14.0. Assign the `y` variable to `hue` and set `legend=False` for the same effect.\n",
      "\n",
      "  sns.barplot(x=mi_vals, y=features, palette=\"magma\")\n"
     ]
    },
    {
     "name": "stdout",
     "output_type": "stream",
     "text": [
      "Runtime for dbscan_clustering: 0.026499 seconds\n"
     ]
    },
    {
     "name": "stderr",
     "output_type": "stream",
     "text": [
      "c:\\Users\\fionu\\OneDrive\\Dokumente\\Daten Fiona\\AIUB\\Code\\AIUB-Backup\\clustering\\high_dim_analysis.py:138: FutureWarning: \n",
      "\n",
      "Passing `palette` without assigning `hue` is deprecated and will be removed in v0.14.0. Assign the `y` variable to `hue` and set `legend=False` for the same effect.\n",
      "\n",
      "  sns.barplot(x=mi_vals, y=features, palette=\"magma\")\n"
     ]
    },
    {
     "name": "stdout",
     "output_type": "stream",
     "text": [
      "Runtime for dbscan_clustering: 0.031240 seconds\n"
     ]
    },
    {
     "name": "stderr",
     "output_type": "stream",
     "text": [
      "c:\\Users\\fionu\\OneDrive\\Dokumente\\Daten Fiona\\AIUB\\Code\\AIUB-Backup\\clustering\\high_dim_analysis.py:138: FutureWarning: \n",
      "\n",
      "Passing `palette` without assigning `hue` is deprecated and will be removed in v0.14.0. Assign the `y` variable to `hue` and set `legend=False` for the same effect.\n",
      "\n",
      "  sns.barplot(x=mi_vals, y=features, palette=\"magma\")\n"
     ]
    },
    {
     "name": "stdout",
     "output_type": "stream",
     "text": [
      "Runtime for dbscan_clustering: 0.029075 seconds\n"
     ]
    },
    {
     "name": "stderr",
     "output_type": "stream",
     "text": [
      "c:\\Users\\fionu\\OneDrive\\Dokumente\\Daten Fiona\\AIUB\\Code\\AIUB-Backup\\clustering\\high_dim_analysis.py:42: FutureWarning: \n",
      "\n",
      "Passing `palette` without assigning `hue` is deprecated and will be removed in v0.14.0. Assign the `y` variable to `hue` and set `legend=False` for the same effect.\n",
      "\n",
      "  sns.barplot(x=f_vals, y=features, palette=\"crest\")\n"
     ]
    },
    {
     "name": "stdout",
     "output_type": "stream",
     "text": [
      "Best DBSCAN parameters based on ANOVA F-value:\n",
      "Year Range                                                       2009-2012\n",
      "eps                                                                   0.01\n",
      "min_samples                                                             30\n",
      "Runtime (s)                                                          0.041\n",
      "Clusters                                                                 6\n",
      "Points per Cluster       {0: 160, 1: 485, 2: 43, 3: 632, 4: 145, -1: 2095}\n",
      "Noise Points                                                          2095\n",
      "Davies-Bouldin                                                        None\n",
      "Calinski-Harabasz                                                     None\n",
      "Weighted Mean ANOVA F                                             1532.588\n",
      "Name: 7, dtype: object\n"
     ]
    },
    {
     "data": {
      "application/vnd.microsoft.datawrangler.viewer.v0+json": {
       "columns": [
        {
         "name": "index",
         "rawType": "int64",
         "type": "integer"
        },
        {
         "name": "Year Range",
         "rawType": "object",
         "type": "string"
        },
        {
         "name": "eps",
         "rawType": "float64",
         "type": "float"
        },
        {
         "name": "min_samples",
         "rawType": "int64",
         "type": "integer"
        },
        {
         "name": "Runtime (s)",
         "rawType": "object",
         "type": "string"
        },
        {
         "name": "Clusters",
         "rawType": "int64",
         "type": "integer"
        },
        {
         "name": "Points per Cluster",
         "rawType": "object",
         "type": "unknown"
        },
        {
         "name": "Noise Points",
         "rawType": "int32",
         "type": "integer"
        },
        {
         "name": "Davies-Bouldin",
         "rawType": "object",
         "type": "unknown"
        },
        {
         "name": "Calinski-Harabasz",
         "rawType": "object",
         "type": "unknown"
        },
        {
         "name": "Weighted Mean ANOVA F",
         "rawType": "float64",
         "type": "float"
        }
       ],
       "ref": "8bdbe23a-db66-4691-ae86-d460b487de2f",
       "rows": [
        [
         "0",
         "2009-2012",
         "0.02",
         "10",
         "0.084",
         "14",
         "{0: 2201, 1: 43, 2: 17, 3: 11, 4: 11, 5: 10, 6: 11, 7: 10, 8: 15, 9: 11, 10: 11, 11: 15, 12: 14, -1: 1180}",
         "1180",
         null,
         null,
         null
        ],
        [
         "1",
         "2009-2012",
         "0.02",
         "15",
         "0.096",
         "4",
         "{0: 2165, 1: 15, 2: 16, -1: 1364}",
         "1364",
         null,
         null,
         null
        ],
        [
         "2",
         "2009-2012",
         "0.02",
         "25",
         "0.079",
         "2",
         "{0: 2117, -1: 1443}",
         "1443",
         null,
         null,
         null
        ],
        [
         "3",
         "2009-2012",
         "0.02",
         "30",
         "0.067",
         "2",
         "{0: 2102, -1: 1458}",
         "1458",
         null,
         null,
         "0.0"
        ],
        [
         "4",
         "2009-2012",
         "0.01",
         "10",
         "0.017",
         "6",
         "{0: 796, 1: 1059, 2: 10, 3: 10, 4: 10, -1: 1675}",
         "1675",
         null,
         null,
         null
        ],
        [
         "5",
         "2009-2012",
         "0.01",
         "15",
         "0.013",
         "4",
         "{0: 232, 1: 533, 2: 1019, -1: 1776}",
         "1776",
         null,
         null,
         null
        ],
        [
         "6",
         "2009-2012",
         "0.01",
         "25",
         "0.013",
         "6",
         "{0: 189, 1: 505, 2: 52, 3: 671, 4: 161, -1: 1982}",
         "1982",
         null,
         null,
         null
        ],
        [
         "7",
         "2009-2012",
         "0.01",
         "30",
         "0.041",
         "6",
         "{0: 160, 1: 485, 2: 43, 3: 632, 4: 145, -1: 2095}",
         "2095",
         null,
         null,
         "1532.588"
        ],
        [
         "8",
         "2009-2012",
         "0.015",
         "10",
         "0.032",
         "7",
         "{0: 880, 1: 15, 2: 1211, 3: 16, 4: 11, 5: 10, -1: 1417}",
         "1417",
         null,
         null,
         null
        ],
        [
         "9",
         "2009-2012",
         "0.015",
         "15",
         "0.031",
         "3",
         "{0: 869, 1: 1176, -1: 1515}",
         "1515",
         null,
         null,
         null
        ],
        [
         "10",
         "2009-2012",
         "0.015",
         "25",
         "0.026",
         "3",
         "{0: 835, 1: 1102, -1: 1623}",
         "1623",
         null,
         null,
         null
        ],
        [
         "11",
         "2009-2012",
         "0.015",
         "30",
         "0.031",
         "3",
         "{0: 822, 1: 1086, -1: 1652}",
         "1652",
         null,
         null,
         "844.638"
        ]
       ],
       "shape": {
        "columns": 10,
        "rows": 12
       }
      },
      "text/html": [
       "<div>\n",
       "<style scoped>\n",
       "    .dataframe tbody tr th:only-of-type {\n",
       "        vertical-align: middle;\n",
       "    }\n",
       "\n",
       "    .dataframe tbody tr th {\n",
       "        vertical-align: top;\n",
       "    }\n",
       "\n",
       "    .dataframe thead th {\n",
       "        text-align: right;\n",
       "    }\n",
       "</style>\n",
       "<table border=\"1\" class=\"dataframe\">\n",
       "  <thead>\n",
       "    <tr style=\"text-align: right;\">\n",
       "      <th></th>\n",
       "      <th>Year Range</th>\n",
       "      <th>eps</th>\n",
       "      <th>min_samples</th>\n",
       "      <th>Runtime (s)</th>\n",
       "      <th>Clusters</th>\n",
       "      <th>Points per Cluster</th>\n",
       "      <th>Noise Points</th>\n",
       "      <th>Davies-Bouldin</th>\n",
       "      <th>Calinski-Harabasz</th>\n",
       "      <th>Weighted Mean ANOVA F</th>\n",
       "    </tr>\n",
       "  </thead>\n",
       "  <tbody>\n",
       "    <tr>\n",
       "      <th>0</th>\n",
       "      <td>2009-2012</td>\n",
       "      <td>0.020</td>\n",
       "      <td>10</td>\n",
       "      <td>0.084</td>\n",
       "      <td>14</td>\n",
       "      <td>{0: 2201, 1: 43, 2: 17, 3: 11, 4: 11, 5: 10, 6...</td>\n",
       "      <td>1180</td>\n",
       "      <td>None</td>\n",
       "      <td>None</td>\n",
       "      <td>NaN</td>\n",
       "    </tr>\n",
       "    <tr>\n",
       "      <th>1</th>\n",
       "      <td>2009-2012</td>\n",
       "      <td>0.020</td>\n",
       "      <td>15</td>\n",
       "      <td>0.096</td>\n",
       "      <td>4</td>\n",
       "      <td>{0: 2165, 1: 15, 2: 16, -1: 1364}</td>\n",
       "      <td>1364</td>\n",
       "      <td>None</td>\n",
       "      <td>None</td>\n",
       "      <td>NaN</td>\n",
       "    </tr>\n",
       "    <tr>\n",
       "      <th>2</th>\n",
       "      <td>2009-2012</td>\n",
       "      <td>0.020</td>\n",
       "      <td>25</td>\n",
       "      <td>0.079</td>\n",
       "      <td>2</td>\n",
       "      <td>{0: 2117, -1: 1443}</td>\n",
       "      <td>1443</td>\n",
       "      <td>None</td>\n",
       "      <td>None</td>\n",
       "      <td>NaN</td>\n",
       "    </tr>\n",
       "    <tr>\n",
       "      <th>3</th>\n",
       "      <td>2009-2012</td>\n",
       "      <td>0.020</td>\n",
       "      <td>30</td>\n",
       "      <td>0.067</td>\n",
       "      <td>2</td>\n",
       "      <td>{0: 2102, -1: 1458}</td>\n",
       "      <td>1458</td>\n",
       "      <td>None</td>\n",
       "      <td>None</td>\n",
       "      <td>0.000</td>\n",
       "    </tr>\n",
       "    <tr>\n",
       "      <th>4</th>\n",
       "      <td>2009-2012</td>\n",
       "      <td>0.010</td>\n",
       "      <td>10</td>\n",
       "      <td>0.017</td>\n",
       "      <td>6</td>\n",
       "      <td>{0: 796, 1: 1059, 2: 10, 3: 10, 4: 10, -1: 1675}</td>\n",
       "      <td>1675</td>\n",
       "      <td>None</td>\n",
       "      <td>None</td>\n",
       "      <td>NaN</td>\n",
       "    </tr>\n",
       "    <tr>\n",
       "      <th>5</th>\n",
       "      <td>2009-2012</td>\n",
       "      <td>0.010</td>\n",
       "      <td>15</td>\n",
       "      <td>0.013</td>\n",
       "      <td>4</td>\n",
       "      <td>{0: 232, 1: 533, 2: 1019, -1: 1776}</td>\n",
       "      <td>1776</td>\n",
       "      <td>None</td>\n",
       "      <td>None</td>\n",
       "      <td>NaN</td>\n",
       "    </tr>\n",
       "    <tr>\n",
       "      <th>6</th>\n",
       "      <td>2009-2012</td>\n",
       "      <td>0.010</td>\n",
       "      <td>25</td>\n",
       "      <td>0.013</td>\n",
       "      <td>6</td>\n",
       "      <td>{0: 189, 1: 505, 2: 52, 3: 671, 4: 161, -1: 1982}</td>\n",
       "      <td>1982</td>\n",
       "      <td>None</td>\n",
       "      <td>None</td>\n",
       "      <td>NaN</td>\n",
       "    </tr>\n",
       "    <tr>\n",
       "      <th>7</th>\n",
       "      <td>2009-2012</td>\n",
       "      <td>0.010</td>\n",
       "      <td>30</td>\n",
       "      <td>0.041</td>\n",
       "      <td>6</td>\n",
       "      <td>{0: 160, 1: 485, 2: 43, 3: 632, 4: 145, -1: 2095}</td>\n",
       "      <td>2095</td>\n",
       "      <td>None</td>\n",
       "      <td>None</td>\n",
       "      <td>1532.588</td>\n",
       "    </tr>\n",
       "    <tr>\n",
       "      <th>8</th>\n",
       "      <td>2009-2012</td>\n",
       "      <td>0.015</td>\n",
       "      <td>10</td>\n",
       "      <td>0.032</td>\n",
       "      <td>7</td>\n",
       "      <td>{0: 880, 1: 15, 2: 1211, 3: 16, 4: 11, 5: 10, ...</td>\n",
       "      <td>1417</td>\n",
       "      <td>None</td>\n",
       "      <td>None</td>\n",
       "      <td>NaN</td>\n",
       "    </tr>\n",
       "    <tr>\n",
       "      <th>9</th>\n",
       "      <td>2009-2012</td>\n",
       "      <td>0.015</td>\n",
       "      <td>15</td>\n",
       "      <td>0.031</td>\n",
       "      <td>3</td>\n",
       "      <td>{0: 869, 1: 1176, -1: 1515}</td>\n",
       "      <td>1515</td>\n",
       "      <td>None</td>\n",
       "      <td>None</td>\n",
       "      <td>NaN</td>\n",
       "    </tr>\n",
       "    <tr>\n",
       "      <th>10</th>\n",
       "      <td>2009-2012</td>\n",
       "      <td>0.015</td>\n",
       "      <td>25</td>\n",
       "      <td>0.026</td>\n",
       "      <td>3</td>\n",
       "      <td>{0: 835, 1: 1102, -1: 1623}</td>\n",
       "      <td>1623</td>\n",
       "      <td>None</td>\n",
       "      <td>None</td>\n",
       "      <td>NaN</td>\n",
       "    </tr>\n",
       "    <tr>\n",
       "      <th>11</th>\n",
       "      <td>2009-2012</td>\n",
       "      <td>0.015</td>\n",
       "      <td>30</td>\n",
       "      <td>0.031</td>\n",
       "      <td>3</td>\n",
       "      <td>{0: 822, 1: 1086, -1: 1652}</td>\n",
       "      <td>1652</td>\n",
       "      <td>None</td>\n",
       "      <td>None</td>\n",
       "      <td>844.638</td>\n",
       "    </tr>\n",
       "  </tbody>\n",
       "</table>\n",
       "</div>"
      ],
      "text/plain": [
       "   Year Range    eps  min_samples Runtime (s)  Clusters  \\\n",
       "0   2009-2012  0.020           10       0.084        14   \n",
       "1   2009-2012  0.020           15       0.096         4   \n",
       "2   2009-2012  0.020           25       0.079         2   \n",
       "3   2009-2012  0.020           30       0.067         2   \n",
       "4   2009-2012  0.010           10       0.017         6   \n",
       "5   2009-2012  0.010           15       0.013         4   \n",
       "6   2009-2012  0.010           25       0.013         6   \n",
       "7   2009-2012  0.010           30       0.041         6   \n",
       "8   2009-2012  0.015           10       0.032         7   \n",
       "9   2009-2012  0.015           15       0.031         3   \n",
       "10  2009-2012  0.015           25       0.026         3   \n",
       "11  2009-2012  0.015           30       0.031         3   \n",
       "\n",
       "                                   Points per Cluster  Noise Points  \\\n",
       "0   {0: 2201, 1: 43, 2: 17, 3: 11, 4: 11, 5: 10, 6...          1180   \n",
       "1                   {0: 2165, 1: 15, 2: 16, -1: 1364}          1364   \n",
       "2                                 {0: 2117, -1: 1443}          1443   \n",
       "3                                 {0: 2102, -1: 1458}          1458   \n",
       "4    {0: 796, 1: 1059, 2: 10, 3: 10, 4: 10, -1: 1675}          1675   \n",
       "5                 {0: 232, 1: 533, 2: 1019, -1: 1776}          1776   \n",
       "6   {0: 189, 1: 505, 2: 52, 3: 671, 4: 161, -1: 1982}          1982   \n",
       "7   {0: 160, 1: 485, 2: 43, 3: 632, 4: 145, -1: 2095}          2095   \n",
       "8   {0: 880, 1: 15, 2: 1211, 3: 16, 4: 11, 5: 10, ...          1417   \n",
       "9                         {0: 869, 1: 1176, -1: 1515}          1515   \n",
       "10                        {0: 835, 1: 1102, -1: 1623}          1623   \n",
       "11                        {0: 822, 1: 1086, -1: 1652}          1652   \n",
       "\n",
       "   Davies-Bouldin Calinski-Harabasz  Weighted Mean ANOVA F  \n",
       "0            None              None                    NaN  \n",
       "1            None              None                    NaN  \n",
       "2            None              None                    NaN  \n",
       "3            None              None                  0.000  \n",
       "4            None              None                    NaN  \n",
       "5            None              None                    NaN  \n",
       "6            None              None                    NaN  \n",
       "7            None              None               1532.588  \n",
       "8            None              None                    NaN  \n",
       "9            None              None                    NaN  \n",
       "10           None              None                    NaN  \n",
       "11           None              None                844.638  "
      ]
     },
     "metadata": {},
     "output_type": "display_data"
    },
    {
     "name": "stdout",
     "output_type": "stream",
     "text": [
      "\n",
      "Running DBSCAN for Year Range: 2010-2013\n",
      "Runtime for dbscan_clustering: 0.016656 seconds\n"
     ]
    },
    {
     "name": "stderr",
     "output_type": "stream",
     "text": [
      "c:\\Users\\fionu\\OneDrive\\Dokumente\\Daten Fiona\\AIUB\\Code\\AIUB-Backup\\clustering\\high_dim_analysis.py:138: FutureWarning: \n",
      "\n",
      "Passing `palette` without assigning `hue` is deprecated and will be removed in v0.14.0. Assign the `y` variable to `hue` and set `legend=False` for the same effect.\n",
      "\n",
      "  sns.barplot(x=mi_vals, y=features, palette=\"magma\")\n"
     ]
    },
    {
     "name": "stdout",
     "output_type": "stream",
     "text": [
      "Runtime for dbscan_clustering: 0.017975 seconds\n"
     ]
    },
    {
     "name": "stderr",
     "output_type": "stream",
     "text": [
      "c:\\Users\\fionu\\OneDrive\\Dokumente\\Daten Fiona\\AIUB\\Code\\AIUB-Backup\\clustering\\high_dim_analysis.py:138: FutureWarning: \n",
      "\n",
      "Passing `palette` without assigning `hue` is deprecated and will be removed in v0.14.0. Assign the `y` variable to `hue` and set `legend=False` for the same effect.\n",
      "\n",
      "  sns.barplot(x=mi_vals, y=features, palette=\"magma\")\n"
     ]
    },
    {
     "name": "stdout",
     "output_type": "stream",
     "text": [
      "Runtime for dbscan_clustering: 0.017948 seconds\n"
     ]
    },
    {
     "name": "stderr",
     "output_type": "stream",
     "text": [
      "c:\\Users\\fionu\\OneDrive\\Dokumente\\Daten Fiona\\AIUB\\Code\\AIUB-Backup\\clustering\\high_dim_analysis.py:138: FutureWarning: \n",
      "\n",
      "Passing `palette` without assigning `hue` is deprecated and will be removed in v0.14.0. Assign the `y` variable to `hue` and set `legend=False` for the same effect.\n",
      "\n",
      "  sns.barplot(x=mi_vals, y=features, palette=\"magma\")\n"
     ]
    },
    {
     "name": "stdout",
     "output_type": "stream",
     "text": [
      "Runtime for dbscan_clustering: 0.015782 seconds\n"
     ]
    },
    {
     "name": "stderr",
     "output_type": "stream",
     "text": [
      "c:\\Users\\fionu\\OneDrive\\Dokumente\\Daten Fiona\\AIUB\\Code\\AIUB-Backup\\clustering\\high_dim_analysis.py:138: FutureWarning: \n",
      "\n",
      "Passing `palette` without assigning `hue` is deprecated and will be removed in v0.14.0. Assign the `y` variable to `hue` and set `legend=False` for the same effect.\n",
      "\n",
      "  sns.barplot(x=mi_vals, y=features, palette=\"magma\")\n"
     ]
    },
    {
     "name": "stdout",
     "output_type": "stream",
     "text": [
      "Runtime for dbscan_clustering: 0.009122 seconds\n"
     ]
    },
    {
     "name": "stderr",
     "output_type": "stream",
     "text": [
      "c:\\Users\\fionu\\OneDrive\\Dokumente\\Daten Fiona\\AIUB\\Code\\AIUB-Backup\\clustering\\high_dim_analysis.py:138: FutureWarning: \n",
      "\n",
      "Passing `palette` without assigning `hue` is deprecated and will be removed in v0.14.0. Assign the `y` variable to `hue` and set `legend=False` for the same effect.\n",
      "\n",
      "  sns.barplot(x=mi_vals, y=features, palette=\"magma\")\n"
     ]
    },
    {
     "name": "stdout",
     "output_type": "stream",
     "text": [
      "Runtime for dbscan_clustering: 0.014171 seconds\n"
     ]
    },
    {
     "name": "stderr",
     "output_type": "stream",
     "text": [
      "c:\\Users\\fionu\\OneDrive\\Dokumente\\Daten Fiona\\AIUB\\Code\\AIUB-Backup\\clustering\\high_dim_analysis.py:138: FutureWarning: \n",
      "\n",
      "Passing `palette` without assigning `hue` is deprecated and will be removed in v0.14.0. Assign the `y` variable to `hue` and set `legend=False` for the same effect.\n",
      "\n",
      "  sns.barplot(x=mi_vals, y=features, palette=\"magma\")\n"
     ]
    },
    {
     "name": "stdout",
     "output_type": "stream",
     "text": [
      "Runtime for dbscan_clustering: 0.003379 seconds\n"
     ]
    },
    {
     "name": "stderr",
     "output_type": "stream",
     "text": [
      "c:\\Users\\fionu\\OneDrive\\Dokumente\\Daten Fiona\\AIUB\\Code\\AIUB-Backup\\clustering\\high_dim_analysis.py:138: FutureWarning: \n",
      "\n",
      "Passing `palette` without assigning `hue` is deprecated and will be removed in v0.14.0. Assign the `y` variable to `hue` and set `legend=False` for the same effect.\n",
      "\n",
      "  sns.barplot(x=mi_vals, y=features, palette=\"magma\")\n"
     ]
    },
    {
     "name": "stdout",
     "output_type": "stream",
     "text": [
      "Runtime for dbscan_clustering: 0.001058 seconds\n"
     ]
    },
    {
     "name": "stderr",
     "output_type": "stream",
     "text": [
      "c:\\Users\\fionu\\OneDrive\\Dokumente\\Daten Fiona\\AIUB\\Code\\AIUB-Backup\\clustering\\high_dim_analysis.py:138: FutureWarning: \n",
      "\n",
      "Passing `palette` without assigning `hue` is deprecated and will be removed in v0.14.0. Assign the `y` variable to `hue` and set `legend=False` for the same effect.\n",
      "\n",
      "  sns.barplot(x=mi_vals, y=features, palette=\"magma\")\n"
     ]
    },
    {
     "name": "stdout",
     "output_type": "stream",
     "text": [
      "Runtime for dbscan_clustering: 0.013741 seconds\n"
     ]
    },
    {
     "name": "stderr",
     "output_type": "stream",
     "text": [
      "c:\\Users\\fionu\\OneDrive\\Dokumente\\Daten Fiona\\AIUB\\Code\\AIUB-Backup\\clustering\\high_dim_analysis.py:138: FutureWarning: \n",
      "\n",
      "Passing `palette` without assigning `hue` is deprecated and will be removed in v0.14.0. Assign the `y` variable to `hue` and set `legend=False` for the same effect.\n",
      "\n",
      "  sns.barplot(x=mi_vals, y=features, palette=\"magma\")\n"
     ]
    },
    {
     "name": "stdout",
     "output_type": "stream",
     "text": [
      "Runtime for dbscan_clustering: 0.008005 seconds\n"
     ]
    },
    {
     "name": "stderr",
     "output_type": "stream",
     "text": [
      "c:\\Users\\fionu\\OneDrive\\Dokumente\\Daten Fiona\\AIUB\\Code\\AIUB-Backup\\clustering\\high_dim_analysis.py:138: FutureWarning: \n",
      "\n",
      "Passing `palette` without assigning `hue` is deprecated and will be removed in v0.14.0. Assign the `y` variable to `hue` and set `legend=False` for the same effect.\n",
      "\n",
      "  sns.barplot(x=mi_vals, y=features, palette=\"magma\")\n"
     ]
    },
    {
     "name": "stdout",
     "output_type": "stream",
     "text": [
      "Runtime for dbscan_clustering: 0.007111 seconds\n"
     ]
    },
    {
     "name": "stderr",
     "output_type": "stream",
     "text": [
      "c:\\Users\\fionu\\OneDrive\\Dokumente\\Daten Fiona\\AIUB\\Code\\AIUB-Backup\\clustering\\high_dim_analysis.py:138: FutureWarning: \n",
      "\n",
      "Passing `palette` without assigning `hue` is deprecated and will be removed in v0.14.0. Assign the `y` variable to `hue` and set `legend=False` for the same effect.\n",
      "\n",
      "  sns.barplot(x=mi_vals, y=features, palette=\"magma\")\n"
     ]
    },
    {
     "name": "stdout",
     "output_type": "stream",
     "text": [
      "Runtime for dbscan_clustering: 0.008589 seconds\n"
     ]
    },
    {
     "name": "stderr",
     "output_type": "stream",
     "text": [
      "c:\\Users\\fionu\\OneDrive\\Dokumente\\Daten Fiona\\AIUB\\Code\\AIUB-Backup\\clustering\\high_dim_analysis.py:138: FutureWarning: \n",
      "\n",
      "Passing `palette` without assigning `hue` is deprecated and will be removed in v0.14.0. Assign the `y` variable to `hue` and set `legend=False` for the same effect.\n",
      "\n",
      "  sns.barplot(x=mi_vals, y=features, palette=\"magma\")\n"
     ]
    },
    {
     "name": "stdout",
     "output_type": "stream",
     "text": [
      "Runtime for dbscan_clustering: 0.000000 seconds\n"
     ]
    },
    {
     "name": "stderr",
     "output_type": "stream",
     "text": [
      "c:\\Users\\fionu\\OneDrive\\Dokumente\\Daten Fiona\\AIUB\\Code\\AIUB-Backup\\clustering\\high_dim_analysis.py:42: FutureWarning: \n",
      "\n",
      "Passing `palette` without assigning `hue` is deprecated and will be removed in v0.14.0. Assign the `y` variable to `hue` and set `legend=False` for the same effect.\n",
      "\n",
      "  sns.barplot(x=f_vals, y=features, palette=\"crest\")\n"
     ]
    },
    {
     "name": "stdout",
     "output_type": "stream",
     "text": [
      "Best DBSCAN parameters based on ANOVA F-value:\n",
      "Year Range                                              2010-2013\n",
      "eps                                                         0.015\n",
      "min_samples                                                    30\n",
      "Runtime (s)                                                 0.009\n",
      "Clusters                                                        5\n",
      "Points per Cluster       {0: 309, 1: 111, 2: 246, 3: 61, -1: 852}\n",
      "Noise Points                                                  852\n",
      "Davies-Bouldin                                               None\n",
      "Calinski-Harabasz                                            None\n",
      "Weighted Mean ANOVA F                                     612.252\n",
      "Name: 11, dtype: object\n"
     ]
    },
    {
     "data": {
      "application/vnd.microsoft.datawrangler.viewer.v0+json": {
       "columns": [
        {
         "name": "index",
         "rawType": "int64",
         "type": "integer"
        },
        {
         "name": "Year Range",
         "rawType": "object",
         "type": "string"
        },
        {
         "name": "eps",
         "rawType": "float64",
         "type": "float"
        },
        {
         "name": "min_samples",
         "rawType": "int64",
         "type": "integer"
        },
        {
         "name": "Runtime (s)",
         "rawType": "object",
         "type": "string"
        },
        {
         "name": "Clusters",
         "rawType": "int64",
         "type": "integer"
        },
        {
         "name": "Points per Cluster",
         "rawType": "object",
         "type": "unknown"
        },
        {
         "name": "Noise Points",
         "rawType": "int32",
         "type": "integer"
        },
        {
         "name": "Davies-Bouldin",
         "rawType": "object",
         "type": "unknown"
        },
        {
         "name": "Calinski-Harabasz",
         "rawType": "object",
         "type": "unknown"
        },
        {
         "name": "Weighted Mean ANOVA F",
         "rawType": "float64",
         "type": "float"
        }
       ],
       "ref": "5ba0b104-0ea5-4fe0-96cf-9c0860589041",
       "rows": [
        [
         "0",
         "2010-2013",
         "0.02",
         "10",
         "0.017",
         "3",
         "{0: 954, 1: 15, -1: 610}",
         "610",
         null,
         null,
         null
        ],
        [
         "1",
         "2010-2013",
         "0.02",
         "15",
         "0.018",
         "3",
         "{0: 391, 1: 549, -1: 639}",
         "639",
         null,
         null,
         null
        ],
        [
         "2",
         "2010-2013",
         "0.02",
         "25",
         "0.018",
         "3",
         "{0: 378, 1: 532, -1: 669}",
         "669",
         null,
         null,
         null
        ],
        [
         "3",
         "2010-2013",
         "0.02",
         "30",
         "0.016",
         "3",
         "{0: 495, 1: 367, -1: 717}",
         "717",
         null,
         null,
         "326.409"
        ],
        [
         "4",
         "2010-2013",
         "0.01",
         "10",
         "0.009",
         "10",
         "{0: 279, 1: 34, 2: 17, 3: 241, 4: 75, 5: 65, 6: 17, 7: 10, 8: 9, -1: 832}",
         "832",
         null,
         null,
         null
        ],
        [
         "5",
         "2010-2013",
         "0.01",
         "15",
         "0.014",
         "8",
         "{0: 272, 1: 33, 2: 13, 3: 37, 4: 68, 5: 200, 6: 57, -1: 899}",
         "899",
         null,
         null,
         null
        ],
        [
         "6",
         "2010-2013",
         "0.01",
         "25",
         "0.003",
         "6",
         "{0: 222, 1: 182, 2: 30, 3: 34, 4: 26, -1: 1085}",
         "1085",
         null,
         null,
         null
        ],
        [
         "7",
         "2010-2013",
         "0.01",
         "30",
         "0.001",
         "3",
         "{0: 209, 1: 174, -1: 1196}",
         "1196",
         null,
         null,
         "445.971"
        ],
        [
         "8",
         "2010-2013",
         "0.015",
         "10",
         "0.014",
         "3",
         "{0: 366, 1: 523, -1: 690}",
         "690",
         null,
         null,
         null
        ],
        [
         "9",
         "2010-2013",
         "0.015",
         "15",
         "0.008",
         "3",
         "{0: 502, 1: 352, -1: 725}",
         "725",
         null,
         null,
         null
        ],
        [
         "10",
         "2010-2013",
         "0.015",
         "25",
         "0.007",
         "4",
         "{0: 440, 1: 259, 2: 79, -1: 801}",
         "801",
         null,
         null,
         null
        ],
        [
         "11",
         "2010-2013",
         "0.015",
         "30",
         "0.009",
         "5",
         "{0: 309, 1: 111, 2: 246, 3: 61, -1: 852}",
         "852",
         null,
         null,
         "612.252"
        ]
       ],
       "shape": {
        "columns": 10,
        "rows": 12
       }
      },
      "text/html": [
       "<div>\n",
       "<style scoped>\n",
       "    .dataframe tbody tr th:only-of-type {\n",
       "        vertical-align: middle;\n",
       "    }\n",
       "\n",
       "    .dataframe tbody tr th {\n",
       "        vertical-align: top;\n",
       "    }\n",
       "\n",
       "    .dataframe thead th {\n",
       "        text-align: right;\n",
       "    }\n",
       "</style>\n",
       "<table border=\"1\" class=\"dataframe\">\n",
       "  <thead>\n",
       "    <tr style=\"text-align: right;\">\n",
       "      <th></th>\n",
       "      <th>Year Range</th>\n",
       "      <th>eps</th>\n",
       "      <th>min_samples</th>\n",
       "      <th>Runtime (s)</th>\n",
       "      <th>Clusters</th>\n",
       "      <th>Points per Cluster</th>\n",
       "      <th>Noise Points</th>\n",
       "      <th>Davies-Bouldin</th>\n",
       "      <th>Calinski-Harabasz</th>\n",
       "      <th>Weighted Mean ANOVA F</th>\n",
       "    </tr>\n",
       "  </thead>\n",
       "  <tbody>\n",
       "    <tr>\n",
       "      <th>0</th>\n",
       "      <td>2010-2013</td>\n",
       "      <td>0.020</td>\n",
       "      <td>10</td>\n",
       "      <td>0.017</td>\n",
       "      <td>3</td>\n",
       "      <td>{0: 954, 1: 15, -1: 610}</td>\n",
       "      <td>610</td>\n",
       "      <td>None</td>\n",
       "      <td>None</td>\n",
       "      <td>NaN</td>\n",
       "    </tr>\n",
       "    <tr>\n",
       "      <th>1</th>\n",
       "      <td>2010-2013</td>\n",
       "      <td>0.020</td>\n",
       "      <td>15</td>\n",
       "      <td>0.018</td>\n",
       "      <td>3</td>\n",
       "      <td>{0: 391, 1: 549, -1: 639}</td>\n",
       "      <td>639</td>\n",
       "      <td>None</td>\n",
       "      <td>None</td>\n",
       "      <td>NaN</td>\n",
       "    </tr>\n",
       "    <tr>\n",
       "      <th>2</th>\n",
       "      <td>2010-2013</td>\n",
       "      <td>0.020</td>\n",
       "      <td>25</td>\n",
       "      <td>0.018</td>\n",
       "      <td>3</td>\n",
       "      <td>{0: 378, 1: 532, -1: 669}</td>\n",
       "      <td>669</td>\n",
       "      <td>None</td>\n",
       "      <td>None</td>\n",
       "      <td>NaN</td>\n",
       "    </tr>\n",
       "    <tr>\n",
       "      <th>3</th>\n",
       "      <td>2010-2013</td>\n",
       "      <td>0.020</td>\n",
       "      <td>30</td>\n",
       "      <td>0.016</td>\n",
       "      <td>3</td>\n",
       "      <td>{0: 495, 1: 367, -1: 717}</td>\n",
       "      <td>717</td>\n",
       "      <td>None</td>\n",
       "      <td>None</td>\n",
       "      <td>326.409</td>\n",
       "    </tr>\n",
       "    <tr>\n",
       "      <th>4</th>\n",
       "      <td>2010-2013</td>\n",
       "      <td>0.010</td>\n",
       "      <td>10</td>\n",
       "      <td>0.009</td>\n",
       "      <td>10</td>\n",
       "      <td>{0: 279, 1: 34, 2: 17, 3: 241, 4: 75, 5: 65, 6...</td>\n",
       "      <td>832</td>\n",
       "      <td>None</td>\n",
       "      <td>None</td>\n",
       "      <td>NaN</td>\n",
       "    </tr>\n",
       "    <tr>\n",
       "      <th>5</th>\n",
       "      <td>2010-2013</td>\n",
       "      <td>0.010</td>\n",
       "      <td>15</td>\n",
       "      <td>0.014</td>\n",
       "      <td>8</td>\n",
       "      <td>{0: 272, 1: 33, 2: 13, 3: 37, 4: 68, 5: 200, 6...</td>\n",
       "      <td>899</td>\n",
       "      <td>None</td>\n",
       "      <td>None</td>\n",
       "      <td>NaN</td>\n",
       "    </tr>\n",
       "    <tr>\n",
       "      <th>6</th>\n",
       "      <td>2010-2013</td>\n",
       "      <td>0.010</td>\n",
       "      <td>25</td>\n",
       "      <td>0.003</td>\n",
       "      <td>6</td>\n",
       "      <td>{0: 222, 1: 182, 2: 30, 3: 34, 4: 26, -1: 1085}</td>\n",
       "      <td>1085</td>\n",
       "      <td>None</td>\n",
       "      <td>None</td>\n",
       "      <td>NaN</td>\n",
       "    </tr>\n",
       "    <tr>\n",
       "      <th>7</th>\n",
       "      <td>2010-2013</td>\n",
       "      <td>0.010</td>\n",
       "      <td>30</td>\n",
       "      <td>0.001</td>\n",
       "      <td>3</td>\n",
       "      <td>{0: 209, 1: 174, -1: 1196}</td>\n",
       "      <td>1196</td>\n",
       "      <td>None</td>\n",
       "      <td>None</td>\n",
       "      <td>445.971</td>\n",
       "    </tr>\n",
       "    <tr>\n",
       "      <th>8</th>\n",
       "      <td>2010-2013</td>\n",
       "      <td>0.015</td>\n",
       "      <td>10</td>\n",
       "      <td>0.014</td>\n",
       "      <td>3</td>\n",
       "      <td>{0: 366, 1: 523, -1: 690}</td>\n",
       "      <td>690</td>\n",
       "      <td>None</td>\n",
       "      <td>None</td>\n",
       "      <td>NaN</td>\n",
       "    </tr>\n",
       "    <tr>\n",
       "      <th>9</th>\n",
       "      <td>2010-2013</td>\n",
       "      <td>0.015</td>\n",
       "      <td>15</td>\n",
       "      <td>0.008</td>\n",
       "      <td>3</td>\n",
       "      <td>{0: 502, 1: 352, -1: 725}</td>\n",
       "      <td>725</td>\n",
       "      <td>None</td>\n",
       "      <td>None</td>\n",
       "      <td>NaN</td>\n",
       "    </tr>\n",
       "    <tr>\n",
       "      <th>10</th>\n",
       "      <td>2010-2013</td>\n",
       "      <td>0.015</td>\n",
       "      <td>25</td>\n",
       "      <td>0.007</td>\n",
       "      <td>4</td>\n",
       "      <td>{0: 440, 1: 259, 2: 79, -1: 801}</td>\n",
       "      <td>801</td>\n",
       "      <td>None</td>\n",
       "      <td>None</td>\n",
       "      <td>NaN</td>\n",
       "    </tr>\n",
       "    <tr>\n",
       "      <th>11</th>\n",
       "      <td>2010-2013</td>\n",
       "      <td>0.015</td>\n",
       "      <td>30</td>\n",
       "      <td>0.009</td>\n",
       "      <td>5</td>\n",
       "      <td>{0: 309, 1: 111, 2: 246, 3: 61, -1: 852}</td>\n",
       "      <td>852</td>\n",
       "      <td>None</td>\n",
       "      <td>None</td>\n",
       "      <td>612.252</td>\n",
       "    </tr>\n",
       "  </tbody>\n",
       "</table>\n",
       "</div>"
      ],
      "text/plain": [
       "   Year Range    eps  min_samples Runtime (s)  Clusters  \\\n",
       "0   2010-2013  0.020           10       0.017         3   \n",
       "1   2010-2013  0.020           15       0.018         3   \n",
       "2   2010-2013  0.020           25       0.018         3   \n",
       "3   2010-2013  0.020           30       0.016         3   \n",
       "4   2010-2013  0.010           10       0.009        10   \n",
       "5   2010-2013  0.010           15       0.014         8   \n",
       "6   2010-2013  0.010           25       0.003         6   \n",
       "7   2010-2013  0.010           30       0.001         3   \n",
       "8   2010-2013  0.015           10       0.014         3   \n",
       "9   2010-2013  0.015           15       0.008         3   \n",
       "10  2010-2013  0.015           25       0.007         4   \n",
       "11  2010-2013  0.015           30       0.009         5   \n",
       "\n",
       "                                   Points per Cluster  Noise Points  \\\n",
       "0                            {0: 954, 1: 15, -1: 610}           610   \n",
       "1                           {0: 391, 1: 549, -1: 639}           639   \n",
       "2                           {0: 378, 1: 532, -1: 669}           669   \n",
       "3                           {0: 495, 1: 367, -1: 717}           717   \n",
       "4   {0: 279, 1: 34, 2: 17, 3: 241, 4: 75, 5: 65, 6...           832   \n",
       "5   {0: 272, 1: 33, 2: 13, 3: 37, 4: 68, 5: 200, 6...           899   \n",
       "6     {0: 222, 1: 182, 2: 30, 3: 34, 4: 26, -1: 1085}          1085   \n",
       "7                          {0: 209, 1: 174, -1: 1196}          1196   \n",
       "8                           {0: 366, 1: 523, -1: 690}           690   \n",
       "9                           {0: 502, 1: 352, -1: 725}           725   \n",
       "10                   {0: 440, 1: 259, 2: 79, -1: 801}           801   \n",
       "11           {0: 309, 1: 111, 2: 246, 3: 61, -1: 852}           852   \n",
       "\n",
       "   Davies-Bouldin Calinski-Harabasz  Weighted Mean ANOVA F  \n",
       "0            None              None                    NaN  \n",
       "1            None              None                    NaN  \n",
       "2            None              None                    NaN  \n",
       "3            None              None                326.409  \n",
       "4            None              None                    NaN  \n",
       "5            None              None                    NaN  \n",
       "6            None              None                    NaN  \n",
       "7            None              None                445.971  \n",
       "8            None              None                    NaN  \n",
       "9            None              None                    NaN  \n",
       "10           None              None                    NaN  \n",
       "11           None              None                612.252  "
      ]
     },
     "metadata": {},
     "output_type": "display_data"
    },
    {
     "name": "stdout",
     "output_type": "stream",
     "text": [
      "\n",
      "Running DBSCAN for Year Range: 2011-2014\n",
      "Runtime for dbscan_clustering: 0.006001 seconds\n"
     ]
    },
    {
     "name": "stderr",
     "output_type": "stream",
     "text": [
      "c:\\Users\\fionu\\OneDrive\\Dokumente\\Daten Fiona\\AIUB\\Code\\AIUB-Backup\\clustering\\high_dim_analysis.py:138: FutureWarning: \n",
      "\n",
      "Passing `palette` without assigning `hue` is deprecated and will be removed in v0.14.0. Assign the `y` variable to `hue` and set `legend=False` for the same effect.\n",
      "\n",
      "  sns.barplot(x=mi_vals, y=features, palette=\"magma\")\n"
     ]
    },
    {
     "name": "stdout",
     "output_type": "stream",
     "text": [
      "Runtime for dbscan_clustering: 0.003999 seconds\n"
     ]
    },
    {
     "name": "stderr",
     "output_type": "stream",
     "text": [
      "c:\\Users\\fionu\\OneDrive\\Dokumente\\Daten Fiona\\AIUB\\Code\\AIUB-Backup\\clustering\\high_dim_analysis.py:138: FutureWarning: \n",
      "\n",
      "Passing `palette` without assigning `hue` is deprecated and will be removed in v0.14.0. Assign the `y` variable to `hue` and set `legend=False` for the same effect.\n",
      "\n",
      "  sns.barplot(x=mi_vals, y=features, palette=\"magma\")\n"
     ]
    },
    {
     "name": "stdout",
     "output_type": "stream",
     "text": [
      "Runtime for dbscan_clustering: 0.012020 seconds\n"
     ]
    },
    {
     "name": "stderr",
     "output_type": "stream",
     "text": [
      "c:\\Users\\fionu\\OneDrive\\Dokumente\\Daten Fiona\\AIUB\\Code\\AIUB-Backup\\clustering\\high_dim_analysis.py:138: FutureWarning: \n",
      "\n",
      "Passing `palette` without assigning `hue` is deprecated and will be removed in v0.14.0. Assign the `y` variable to `hue` and set `legend=False` for the same effect.\n",
      "\n",
      "  sns.barplot(x=mi_vals, y=features, palette=\"magma\")\n"
     ]
    },
    {
     "name": "stdout",
     "output_type": "stream",
     "text": [
      "Runtime for dbscan_clustering: 0.009021 seconds\n"
     ]
    },
    {
     "name": "stderr",
     "output_type": "stream",
     "text": [
      "c:\\Users\\fionu\\OneDrive\\Dokumente\\Daten Fiona\\AIUB\\Code\\AIUB-Backup\\clustering\\high_dim_analysis.py:138: FutureWarning: \n",
      "\n",
      "Passing `palette` without assigning `hue` is deprecated and will be removed in v0.14.0. Assign the `y` variable to `hue` and set `legend=False` for the same effect.\n",
      "\n",
      "  sns.barplot(x=mi_vals, y=features, palette=\"magma\")\n"
     ]
    },
    {
     "name": "stdout",
     "output_type": "stream",
     "text": [
      "Runtime for dbscan_clustering: 0.007999 seconds\n"
     ]
    },
    {
     "name": "stderr",
     "output_type": "stream",
     "text": [
      "c:\\Users\\fionu\\OneDrive\\Dokumente\\Daten Fiona\\AIUB\\Code\\AIUB-Backup\\clustering\\high_dim_analysis.py:138: FutureWarning: \n",
      "\n",
      "Passing `palette` without assigning `hue` is deprecated and will be removed in v0.14.0. Assign the `y` variable to `hue` and set `legend=False` for the same effect.\n",
      "\n",
      "  sns.barplot(x=mi_vals, y=features, palette=\"magma\")\n"
     ]
    },
    {
     "name": "stdout",
     "output_type": "stream",
     "text": [
      "Runtime for dbscan_clustering: 0.002958 seconds\n"
     ]
    },
    {
     "name": "stderr",
     "output_type": "stream",
     "text": [
      "c:\\Users\\fionu\\OneDrive\\Dokumente\\Daten Fiona\\AIUB\\Code\\AIUB-Backup\\clustering\\high_dim_analysis.py:138: FutureWarning: \n",
      "\n",
      "Passing `palette` without assigning `hue` is deprecated and will be removed in v0.14.0. Assign the `y` variable to `hue` and set `legend=False` for the same effect.\n",
      "\n",
      "  sns.barplot(x=mi_vals, y=features, palette=\"magma\")\n"
     ]
    },
    {
     "name": "stdout",
     "output_type": "stream",
     "text": [
      "Runtime for dbscan_clustering: 0.004585 seconds\n"
     ]
    },
    {
     "name": "stderr",
     "output_type": "stream",
     "text": [
      "c:\\Users\\fionu\\OneDrive\\Dokumente\\Daten Fiona\\AIUB\\Code\\AIUB-Backup\\clustering\\high_dim_analysis.py:138: FutureWarning: \n",
      "\n",
      "Passing `palette` without assigning `hue` is deprecated and will be removed in v0.14.0. Assign the `y` variable to `hue` and set `legend=False` for the same effect.\n",
      "\n",
      "  sns.barplot(x=mi_vals, y=features, palette=\"magma\")\n"
     ]
    },
    {
     "name": "stdout",
     "output_type": "stream",
     "text": [
      "Runtime for dbscan_clustering: 0.000000 seconds\n"
     ]
    },
    {
     "name": "stderr",
     "output_type": "stream",
     "text": [
      "c:\\Users\\fionu\\OneDrive\\Dokumente\\Daten Fiona\\AIUB\\Code\\AIUB-Backup\\clustering\\high_dim_analysis.py:138: FutureWarning: \n",
      "\n",
      "Passing `palette` without assigning `hue` is deprecated and will be removed in v0.14.0. Assign the `y` variable to `hue` and set `legend=False` for the same effect.\n",
      "\n",
      "  sns.barplot(x=mi_vals, y=features, palette=\"magma\")\n"
     ]
    },
    {
     "name": "stdout",
     "output_type": "stream",
     "text": [
      "Runtime for dbscan_clustering: 0.006820 seconds\n"
     ]
    },
    {
     "name": "stderr",
     "output_type": "stream",
     "text": [
      "c:\\Users\\fionu\\OneDrive\\Dokumente\\Daten Fiona\\AIUB\\Code\\AIUB-Backup\\clustering\\high_dim_analysis.py:138: FutureWarning: \n",
      "\n",
      "Passing `palette` without assigning `hue` is deprecated and will be removed in v0.14.0. Assign the `y` variable to `hue` and set `legend=False` for the same effect.\n",
      "\n",
      "  sns.barplot(x=mi_vals, y=features, palette=\"magma\")\n"
     ]
    },
    {
     "name": "stdout",
     "output_type": "stream",
     "text": [
      "Runtime for dbscan_clustering: 0.003778 seconds\n"
     ]
    },
    {
     "name": "stderr",
     "output_type": "stream",
     "text": [
      "c:\\Users\\fionu\\OneDrive\\Dokumente\\Daten Fiona\\AIUB\\Code\\AIUB-Backup\\clustering\\high_dim_analysis.py:138: FutureWarning: \n",
      "\n",
      "Passing `palette` without assigning `hue` is deprecated and will be removed in v0.14.0. Assign the `y` variable to `hue` and set `legend=False` for the same effect.\n",
      "\n",
      "  sns.barplot(x=mi_vals, y=features, palette=\"magma\")\n"
     ]
    },
    {
     "name": "stdout",
     "output_type": "stream",
     "text": [
      "Runtime for dbscan_clustering: 0.004015 seconds\n"
     ]
    },
    {
     "name": "stderr",
     "output_type": "stream",
     "text": [
      "c:\\Users\\fionu\\OneDrive\\Dokumente\\Daten Fiona\\AIUB\\Code\\AIUB-Backup\\clustering\\high_dim_analysis.py:138: FutureWarning: \n",
      "\n",
      "Passing `palette` without assigning `hue` is deprecated and will be removed in v0.14.0. Assign the `y` variable to `hue` and set `legend=False` for the same effect.\n",
      "\n",
      "  sns.barplot(x=mi_vals, y=features, palette=\"magma\")\n"
     ]
    },
    {
     "name": "stdout",
     "output_type": "stream",
     "text": [
      "Runtime for dbscan_clustering: 0.005537 seconds\n"
     ]
    },
    {
     "name": "stderr",
     "output_type": "stream",
     "text": [
      "c:\\Users\\fionu\\OneDrive\\Dokumente\\Daten Fiona\\AIUB\\Code\\AIUB-Backup\\clustering\\high_dim_analysis.py:138: FutureWarning: \n",
      "\n",
      "Passing `palette` without assigning `hue` is deprecated and will be removed in v0.14.0. Assign the `y` variable to `hue` and set `legend=False` for the same effect.\n",
      "\n",
      "  sns.barplot(x=mi_vals, y=features, palette=\"magma\")\n"
     ]
    },
    {
     "name": "stdout",
     "output_type": "stream",
     "text": [
      "Runtime for dbscan_clustering: 0.007949 seconds\n"
     ]
    },
    {
     "name": "stderr",
     "output_type": "stream",
     "text": [
      "c:\\Users\\fionu\\OneDrive\\Dokumente\\Daten Fiona\\AIUB\\Code\\AIUB-Backup\\clustering\\high_dim_analysis.py:42: FutureWarning: \n",
      "\n",
      "Passing `palette` without assigning `hue` is deprecated and will be removed in v0.14.0. Assign the `y` variable to `hue` and set `legend=False` for the same effect.\n",
      "\n",
      "  sns.barplot(x=f_vals, y=features, palette=\"crest\")\n"
     ]
    },
    {
     "name": "stdout",
     "output_type": "stream",
     "text": [
      "Best DBSCAN parameters based on ANOVA F-value:\n",
      "Year Range                              2011-2014\n",
      "eps                                         0.015\n",
      "min_samples                                    30\n",
      "Runtime (s)                                 0.006\n",
      "Clusters                                        3\n",
      "Points per Cluster       {0: 89, 1: 158, -1: 619}\n",
      "Noise Points                                  619\n",
      "Davies-Bouldin                               None\n",
      "Calinski-Harabasz                            None\n",
      "Weighted Mean ANOVA F                     217.045\n",
      "Name: 11, dtype: object\n"
     ]
    },
    {
     "data": {
      "application/vnd.microsoft.datawrangler.viewer.v0+json": {
       "columns": [
        {
         "name": "index",
         "rawType": "int64",
         "type": "integer"
        },
        {
         "name": "Year Range",
         "rawType": "object",
         "type": "string"
        },
        {
         "name": "eps",
         "rawType": "float64",
         "type": "float"
        },
        {
         "name": "min_samples",
         "rawType": "int64",
         "type": "integer"
        },
        {
         "name": "Runtime (s)",
         "rawType": "object",
         "type": "string"
        },
        {
         "name": "Clusters",
         "rawType": "int64",
         "type": "integer"
        },
        {
         "name": "Points per Cluster",
         "rawType": "object",
         "type": "unknown"
        },
        {
         "name": "Noise Points",
         "rawType": "int32",
         "type": "integer"
        },
        {
         "name": "Davies-Bouldin",
         "rawType": "object",
         "type": "unknown"
        },
        {
         "name": "Calinski-Harabasz",
         "rawType": "object",
         "type": "unknown"
        },
        {
         "name": "Weighted Mean ANOVA F",
         "rawType": "float64",
         "type": "float"
        }
       ],
       "ref": "c8b43ded-cdf8-4dba-a61d-801f7a818687",
       "rows": [
        [
         "0",
         "2011-2014",
         "0.02",
         "10",
         "0.006",
         "3",
         "{0: 183, 1: 262, -1: 421}",
         "421",
         null,
         null,
         null
        ],
        [
         "1",
         "2011-2014",
         "0.02",
         "15",
         "0.004",
         "4",
         "{0: 45, 1: 262, 2: 120, -1: 439}",
         "439",
         null,
         null,
         null
        ],
        [
         "2",
         "2011-2014",
         "0.02",
         "25",
         "0.012",
         "4",
         "{0: 37, 1: 213, 2: 114, -1: 502}",
         "502",
         null,
         null,
         null
        ],
        [
         "3",
         "2011-2014",
         "0.02",
         "30",
         "0.009",
         "3",
         "{0: 111, 1: 188, -1: 567}",
         "567",
         null,
         null,
         "142.793"
        ],
        [
         "4",
         "2011-2014",
         "0.01",
         "10",
         "0.008",
         "7",
         "{0: 17, 1: 79, 2: 137, 3: 19, 4: 14, 5: 13, -1: 587}",
         "587",
         null,
         null,
         null
        ],
        [
         "5",
         "2011-2014",
         "0.01",
         "15",
         "0.003",
         "3",
         "{0: 75, 1: 130, -1: 661}",
         "661",
         null,
         null,
         null
        ],
        [
         "6",
         "2011-2014",
         "0.01",
         "25",
         "0.005",
         "3",
         "{0: 106, 1: 61, -1: 699}",
         "699",
         null,
         null,
         null
        ],
        [
         "7",
         "2011-2014",
         "0.01",
         "30",
         "0.000",
         "3",
         "{0: 97, 1: 30, -1: 739}",
         "739",
         null,
         null,
         "201.042"
        ],
        [
         "8",
         "2011-2014",
         "0.015",
         "10",
         "0.007",
         "6",
         "{0: 41, 1: 113, 2: 215, 3: 26, 4: 4, -1: 467}",
         "467",
         null,
         null,
         null
        ],
        [
         "9",
         "2011-2014",
         "0.015",
         "15",
         "0.004",
         "6",
         "{0: 40, 1: 104, 2: 173, 3: 25, 4: 25, -1: 499}",
         "499",
         null,
         null,
         null
        ],
        [
         "10",
         "2011-2014",
         "0.015",
         "25",
         "0.004",
         "3",
         "{0: 90, 1: 159, -1: 617}",
         "617",
         null,
         null,
         null
        ],
        [
         "11",
         "2011-2014",
         "0.015",
         "30",
         "0.006",
         "3",
         "{0: 89, 1: 158, -1: 619}",
         "619",
         null,
         null,
         "217.045"
        ]
       ],
       "shape": {
        "columns": 10,
        "rows": 12
       }
      },
      "text/html": [
       "<div>\n",
       "<style scoped>\n",
       "    .dataframe tbody tr th:only-of-type {\n",
       "        vertical-align: middle;\n",
       "    }\n",
       "\n",
       "    .dataframe tbody tr th {\n",
       "        vertical-align: top;\n",
       "    }\n",
       "\n",
       "    .dataframe thead th {\n",
       "        text-align: right;\n",
       "    }\n",
       "</style>\n",
       "<table border=\"1\" class=\"dataframe\">\n",
       "  <thead>\n",
       "    <tr style=\"text-align: right;\">\n",
       "      <th></th>\n",
       "      <th>Year Range</th>\n",
       "      <th>eps</th>\n",
       "      <th>min_samples</th>\n",
       "      <th>Runtime (s)</th>\n",
       "      <th>Clusters</th>\n",
       "      <th>Points per Cluster</th>\n",
       "      <th>Noise Points</th>\n",
       "      <th>Davies-Bouldin</th>\n",
       "      <th>Calinski-Harabasz</th>\n",
       "      <th>Weighted Mean ANOVA F</th>\n",
       "    </tr>\n",
       "  </thead>\n",
       "  <tbody>\n",
       "    <tr>\n",
       "      <th>0</th>\n",
       "      <td>2011-2014</td>\n",
       "      <td>0.020</td>\n",
       "      <td>10</td>\n",
       "      <td>0.006</td>\n",
       "      <td>3</td>\n",
       "      <td>{0: 183, 1: 262, -1: 421}</td>\n",
       "      <td>421</td>\n",
       "      <td>None</td>\n",
       "      <td>None</td>\n",
       "      <td>NaN</td>\n",
       "    </tr>\n",
       "    <tr>\n",
       "      <th>1</th>\n",
       "      <td>2011-2014</td>\n",
       "      <td>0.020</td>\n",
       "      <td>15</td>\n",
       "      <td>0.004</td>\n",
       "      <td>4</td>\n",
       "      <td>{0: 45, 1: 262, 2: 120, -1: 439}</td>\n",
       "      <td>439</td>\n",
       "      <td>None</td>\n",
       "      <td>None</td>\n",
       "      <td>NaN</td>\n",
       "    </tr>\n",
       "    <tr>\n",
       "      <th>2</th>\n",
       "      <td>2011-2014</td>\n",
       "      <td>0.020</td>\n",
       "      <td>25</td>\n",
       "      <td>0.012</td>\n",
       "      <td>4</td>\n",
       "      <td>{0: 37, 1: 213, 2: 114, -1: 502}</td>\n",
       "      <td>502</td>\n",
       "      <td>None</td>\n",
       "      <td>None</td>\n",
       "      <td>NaN</td>\n",
       "    </tr>\n",
       "    <tr>\n",
       "      <th>3</th>\n",
       "      <td>2011-2014</td>\n",
       "      <td>0.020</td>\n",
       "      <td>30</td>\n",
       "      <td>0.009</td>\n",
       "      <td>3</td>\n",
       "      <td>{0: 111, 1: 188, -1: 567}</td>\n",
       "      <td>567</td>\n",
       "      <td>None</td>\n",
       "      <td>None</td>\n",
       "      <td>142.793</td>\n",
       "    </tr>\n",
       "    <tr>\n",
       "      <th>4</th>\n",
       "      <td>2011-2014</td>\n",
       "      <td>0.010</td>\n",
       "      <td>10</td>\n",
       "      <td>0.008</td>\n",
       "      <td>7</td>\n",
       "      <td>{0: 17, 1: 79, 2: 137, 3: 19, 4: 14, 5: 13, -1...</td>\n",
       "      <td>587</td>\n",
       "      <td>None</td>\n",
       "      <td>None</td>\n",
       "      <td>NaN</td>\n",
       "    </tr>\n",
       "    <tr>\n",
       "      <th>5</th>\n",
       "      <td>2011-2014</td>\n",
       "      <td>0.010</td>\n",
       "      <td>15</td>\n",
       "      <td>0.003</td>\n",
       "      <td>3</td>\n",
       "      <td>{0: 75, 1: 130, -1: 661}</td>\n",
       "      <td>661</td>\n",
       "      <td>None</td>\n",
       "      <td>None</td>\n",
       "      <td>NaN</td>\n",
       "    </tr>\n",
       "    <tr>\n",
       "      <th>6</th>\n",
       "      <td>2011-2014</td>\n",
       "      <td>0.010</td>\n",
       "      <td>25</td>\n",
       "      <td>0.005</td>\n",
       "      <td>3</td>\n",
       "      <td>{0: 106, 1: 61, -1: 699}</td>\n",
       "      <td>699</td>\n",
       "      <td>None</td>\n",
       "      <td>None</td>\n",
       "      <td>NaN</td>\n",
       "    </tr>\n",
       "    <tr>\n",
       "      <th>7</th>\n",
       "      <td>2011-2014</td>\n",
       "      <td>0.010</td>\n",
       "      <td>30</td>\n",
       "      <td>0.000</td>\n",
       "      <td>3</td>\n",
       "      <td>{0: 97, 1: 30, -1: 739}</td>\n",
       "      <td>739</td>\n",
       "      <td>None</td>\n",
       "      <td>None</td>\n",
       "      <td>201.042</td>\n",
       "    </tr>\n",
       "    <tr>\n",
       "      <th>8</th>\n",
       "      <td>2011-2014</td>\n",
       "      <td>0.015</td>\n",
       "      <td>10</td>\n",
       "      <td>0.007</td>\n",
       "      <td>6</td>\n",
       "      <td>{0: 41, 1: 113, 2: 215, 3: 26, 4: 4, -1: 467}</td>\n",
       "      <td>467</td>\n",
       "      <td>None</td>\n",
       "      <td>None</td>\n",
       "      <td>NaN</td>\n",
       "    </tr>\n",
       "    <tr>\n",
       "      <th>9</th>\n",
       "      <td>2011-2014</td>\n",
       "      <td>0.015</td>\n",
       "      <td>15</td>\n",
       "      <td>0.004</td>\n",
       "      <td>6</td>\n",
       "      <td>{0: 40, 1: 104, 2: 173, 3: 25, 4: 25, -1: 499}</td>\n",
       "      <td>499</td>\n",
       "      <td>None</td>\n",
       "      <td>None</td>\n",
       "      <td>NaN</td>\n",
       "    </tr>\n",
       "    <tr>\n",
       "      <th>10</th>\n",
       "      <td>2011-2014</td>\n",
       "      <td>0.015</td>\n",
       "      <td>25</td>\n",
       "      <td>0.004</td>\n",
       "      <td>3</td>\n",
       "      <td>{0: 90, 1: 159, -1: 617}</td>\n",
       "      <td>617</td>\n",
       "      <td>None</td>\n",
       "      <td>None</td>\n",
       "      <td>NaN</td>\n",
       "    </tr>\n",
       "    <tr>\n",
       "      <th>11</th>\n",
       "      <td>2011-2014</td>\n",
       "      <td>0.015</td>\n",
       "      <td>30</td>\n",
       "      <td>0.006</td>\n",
       "      <td>3</td>\n",
       "      <td>{0: 89, 1: 158, -1: 619}</td>\n",
       "      <td>619</td>\n",
       "      <td>None</td>\n",
       "      <td>None</td>\n",
       "      <td>217.045</td>\n",
       "    </tr>\n",
       "  </tbody>\n",
       "</table>\n",
       "</div>"
      ],
      "text/plain": [
       "   Year Range    eps  min_samples Runtime (s)  Clusters  \\\n",
       "0   2011-2014  0.020           10       0.006         3   \n",
       "1   2011-2014  0.020           15       0.004         4   \n",
       "2   2011-2014  0.020           25       0.012         4   \n",
       "3   2011-2014  0.020           30       0.009         3   \n",
       "4   2011-2014  0.010           10       0.008         7   \n",
       "5   2011-2014  0.010           15       0.003         3   \n",
       "6   2011-2014  0.010           25       0.005         3   \n",
       "7   2011-2014  0.010           30       0.000         3   \n",
       "8   2011-2014  0.015           10       0.007         6   \n",
       "9   2011-2014  0.015           15       0.004         6   \n",
       "10  2011-2014  0.015           25       0.004         3   \n",
       "11  2011-2014  0.015           30       0.006         3   \n",
       "\n",
       "                                   Points per Cluster  Noise Points  \\\n",
       "0                           {0: 183, 1: 262, -1: 421}           421   \n",
       "1                    {0: 45, 1: 262, 2: 120, -1: 439}           439   \n",
       "2                    {0: 37, 1: 213, 2: 114, -1: 502}           502   \n",
       "3                           {0: 111, 1: 188, -1: 567}           567   \n",
       "4   {0: 17, 1: 79, 2: 137, 3: 19, 4: 14, 5: 13, -1...           587   \n",
       "5                            {0: 75, 1: 130, -1: 661}           661   \n",
       "6                            {0: 106, 1: 61, -1: 699}           699   \n",
       "7                             {0: 97, 1: 30, -1: 739}           739   \n",
       "8       {0: 41, 1: 113, 2: 215, 3: 26, 4: 4, -1: 467}           467   \n",
       "9      {0: 40, 1: 104, 2: 173, 3: 25, 4: 25, -1: 499}           499   \n",
       "10                           {0: 90, 1: 159, -1: 617}           617   \n",
       "11                           {0: 89, 1: 158, -1: 619}           619   \n",
       "\n",
       "   Davies-Bouldin Calinski-Harabasz  Weighted Mean ANOVA F  \n",
       "0            None              None                    NaN  \n",
       "1            None              None                    NaN  \n",
       "2            None              None                    NaN  \n",
       "3            None              None                142.793  \n",
       "4            None              None                    NaN  \n",
       "5            None              None                    NaN  \n",
       "6            None              None                    NaN  \n",
       "7            None              None                201.042  \n",
       "8            None              None                    NaN  \n",
       "9            None              None                    NaN  \n",
       "10           None              None                    NaN  \n",
       "11           None              None                217.045  "
      ]
     },
     "metadata": {},
     "output_type": "display_data"
    },
    {
     "name": "stdout",
     "output_type": "stream",
     "text": [
      "\n",
      "Running DBSCAN for Year Range: 2012-2015\n",
      "Runtime for dbscan_clustering: 0.007994 seconds\n"
     ]
    },
    {
     "name": "stderr",
     "output_type": "stream",
     "text": [
      "c:\\Users\\fionu\\OneDrive\\Dokumente\\Daten Fiona\\AIUB\\Code\\AIUB-Backup\\clustering\\high_dim_analysis.py:138: FutureWarning: \n",
      "\n",
      "Passing `palette` without assigning `hue` is deprecated and will be removed in v0.14.0. Assign the `y` variable to `hue` and set `legend=False` for the same effect.\n",
      "\n",
      "  sns.barplot(x=mi_vals, y=features, palette=\"magma\")\n"
     ]
    },
    {
     "name": "stdout",
     "output_type": "stream",
     "text": [
      "Runtime for dbscan_clustering: 0.007488 seconds\n"
     ]
    },
    {
     "name": "stderr",
     "output_type": "stream",
     "text": [
      "c:\\Users\\fionu\\OneDrive\\Dokumente\\Daten Fiona\\AIUB\\Code\\AIUB-Backup\\clustering\\high_dim_analysis.py:138: FutureWarning: \n",
      "\n",
      "Passing `palette` without assigning `hue` is deprecated and will be removed in v0.14.0. Assign the `y` variable to `hue` and set `legend=False` for the same effect.\n",
      "\n",
      "  sns.barplot(x=mi_vals, y=features, palette=\"magma\")\n"
     ]
    },
    {
     "name": "stdout",
     "output_type": "stream",
     "text": [
      "Runtime for dbscan_clustering: 0.005912 seconds\n"
     ]
    },
    {
     "name": "stderr",
     "output_type": "stream",
     "text": [
      "c:\\Users\\fionu\\OneDrive\\Dokumente\\Daten Fiona\\AIUB\\Code\\AIUB-Backup\\clustering\\high_dim_analysis.py:138: FutureWarning: \n",
      "\n",
      "Passing `palette` without assigning `hue` is deprecated and will be removed in v0.14.0. Assign the `y` variable to `hue` and set `legend=False` for the same effect.\n",
      "\n",
      "  sns.barplot(x=mi_vals, y=features, palette=\"magma\")\n"
     ]
    },
    {
     "name": "stdout",
     "output_type": "stream",
     "text": [
      "Runtime for dbscan_clustering: 0.015722 seconds\n"
     ]
    },
    {
     "name": "stderr",
     "output_type": "stream",
     "text": [
      "c:\\Users\\fionu\\OneDrive\\Dokumente\\Daten Fiona\\AIUB\\Code\\AIUB-Backup\\clustering\\high_dim_analysis.py:138: FutureWarning: \n",
      "\n",
      "Passing `palette` without assigning `hue` is deprecated and will be removed in v0.14.0. Assign the `y` variable to `hue` and set `legend=False` for the same effect.\n",
      "\n",
      "  sns.barplot(x=mi_vals, y=features, palette=\"magma\")\n"
     ]
    },
    {
     "name": "stdout",
     "output_type": "stream",
     "text": [
      "Runtime for dbscan_clustering: 0.000000 seconds\n"
     ]
    },
    {
     "name": "stderr",
     "output_type": "stream",
     "text": [
      "c:\\Users\\fionu\\OneDrive\\Dokumente\\Daten Fiona\\AIUB\\Code\\AIUB-Backup\\clustering\\high_dim_analysis.py:138: FutureWarning: \n",
      "\n",
      "Passing `palette` without assigning `hue` is deprecated and will be removed in v0.14.0. Assign the `y` variable to `hue` and set `legend=False` for the same effect.\n",
      "\n",
      "  sns.barplot(x=mi_vals, y=features, palette=\"magma\")\n"
     ]
    },
    {
     "name": "stdout",
     "output_type": "stream",
     "text": [
      "Runtime for dbscan_clustering: 0.007528 seconds\n"
     ]
    },
    {
     "name": "stderr",
     "output_type": "stream",
     "text": [
      "c:\\Users\\fionu\\OneDrive\\Dokumente\\Daten Fiona\\AIUB\\Code\\AIUB-Backup\\clustering\\high_dim_analysis.py:138: FutureWarning: \n",
      "\n",
      "Passing `palette` without assigning `hue` is deprecated and will be removed in v0.14.0. Assign the `y` variable to `hue` and set `legend=False` for the same effect.\n",
      "\n",
      "  sns.barplot(x=mi_vals, y=features, palette=\"magma\")\n"
     ]
    },
    {
     "name": "stdout",
     "output_type": "stream",
     "text": [
      "Runtime for dbscan_clustering: 0.007101 seconds\n"
     ]
    },
    {
     "name": "stderr",
     "output_type": "stream",
     "text": [
      "c:\\Users\\fionu\\OneDrive\\Dokumente\\Daten Fiona\\AIUB\\Code\\AIUB-Backup\\clustering\\high_dim_analysis.py:138: FutureWarning: \n",
      "\n",
      "Passing `palette` without assigning `hue` is deprecated and will be removed in v0.14.0. Assign the `y` variable to `hue` and set `legend=False` for the same effect.\n",
      "\n",
      "  sns.barplot(x=mi_vals, y=features, palette=\"magma\")\n"
     ]
    },
    {
     "name": "stdout",
     "output_type": "stream",
     "text": [
      "Runtime for dbscan_clustering: 0.000000 seconds\n"
     ]
    },
    {
     "name": "stderr",
     "output_type": "stream",
     "text": [
      "c:\\Users\\fionu\\OneDrive\\Dokumente\\Daten Fiona\\AIUB\\Code\\AIUB-Backup\\clustering\\high_dim_analysis.py:138: FutureWarning: \n",
      "\n",
      "Passing `palette` without assigning `hue` is deprecated and will be removed in v0.14.0. Assign the `y` variable to `hue` and set `legend=False` for the same effect.\n",
      "\n",
      "  sns.barplot(x=mi_vals, y=features, palette=\"magma\")\n"
     ]
    },
    {
     "name": "stdout",
     "output_type": "stream",
     "text": [
      "Runtime for dbscan_clustering: 0.009001 seconds\n"
     ]
    },
    {
     "name": "stderr",
     "output_type": "stream",
     "text": [
      "c:\\Users\\fionu\\OneDrive\\Dokumente\\Daten Fiona\\AIUB\\Code\\AIUB-Backup\\clustering\\high_dim_analysis.py:138: FutureWarning: \n",
      "\n",
      "Passing `palette` without assigning `hue` is deprecated and will be removed in v0.14.0. Assign the `y` variable to `hue` and set `legend=False` for the same effect.\n",
      "\n",
      "  sns.barplot(x=mi_vals, y=features, palette=\"magma\")\n"
     ]
    },
    {
     "name": "stdout",
     "output_type": "stream",
     "text": [
      "Runtime for dbscan_clustering: 0.007001 seconds\n"
     ]
    },
    {
     "name": "stderr",
     "output_type": "stream",
     "text": [
      "c:\\Users\\fionu\\OneDrive\\Dokumente\\Daten Fiona\\AIUB\\Code\\AIUB-Backup\\clustering\\high_dim_analysis.py:138: FutureWarning: \n",
      "\n",
      "Passing `palette` without assigning `hue` is deprecated and will be removed in v0.14.0. Assign the `y` variable to `hue` and set `legend=False` for the same effect.\n",
      "\n",
      "  sns.barplot(x=mi_vals, y=features, palette=\"magma\")\n"
     ]
    },
    {
     "name": "stdout",
     "output_type": "stream",
     "text": [
      "Runtime for dbscan_clustering: 0.004811 seconds\n"
     ]
    },
    {
     "name": "stderr",
     "output_type": "stream",
     "text": [
      "c:\\Users\\fionu\\OneDrive\\Dokumente\\Daten Fiona\\AIUB\\Code\\AIUB-Backup\\clustering\\high_dim_analysis.py:138: FutureWarning: \n",
      "\n",
      "Passing `palette` without assigning `hue` is deprecated and will be removed in v0.14.0. Assign the `y` variable to `hue` and set `legend=False` for the same effect.\n",
      "\n",
      "  sns.barplot(x=mi_vals, y=features, palette=\"magma\")\n"
     ]
    },
    {
     "name": "stdout",
     "output_type": "stream",
     "text": [
      "Runtime for dbscan_clustering: 0.000000 seconds\n"
     ]
    },
    {
     "name": "stderr",
     "output_type": "stream",
     "text": [
      "c:\\Users\\fionu\\OneDrive\\Dokumente\\Daten Fiona\\AIUB\\Code\\AIUB-Backup\\clustering\\high_dim_analysis.py:138: FutureWarning: \n",
      "\n",
      "Passing `palette` without assigning `hue` is deprecated and will be removed in v0.14.0. Assign the `y` variable to `hue` and set `legend=False` for the same effect.\n",
      "\n",
      "  sns.barplot(x=mi_vals, y=features, palette=\"magma\")\n"
     ]
    },
    {
     "name": "stdout",
     "output_type": "stream",
     "text": [
      "Runtime for dbscan_clustering: 0.007014 seconds\n"
     ]
    },
    {
     "name": "stderr",
     "output_type": "stream",
     "text": [
      "c:\\Users\\fionu\\OneDrive\\Dokumente\\Daten Fiona\\AIUB\\Code\\AIUB-Backup\\clustering\\high_dim_analysis.py:42: FutureWarning: \n",
      "\n",
      "Passing `palette` without assigning `hue` is deprecated and will be removed in v0.14.0. Assign the `y` variable to `hue` and set `legend=False` for the same effect.\n",
      "\n",
      "  sns.barplot(x=f_vals, y=features, palette=\"crest\")\n"
     ]
    },
    {
     "name": "stdout",
     "output_type": "stream",
     "text": [
      "Best DBSCAN parameters based on ANOVA F-value:\n",
      "Year Range                             2012-2015\n",
      "eps                                        0.015\n",
      "min_samples                                   30\n",
      "Runtime (s)                                0.000\n",
      "Clusters                                       3\n",
      "Points per Cluster       {0: 76, 1: 32, -1: 762}\n",
      "Noise Points                                 762\n",
      "Davies-Bouldin                              None\n",
      "Calinski-Harabasz                           None\n",
      "Weighted Mean ANOVA F                    567.803\n",
      "Name: 11, dtype: object\n"
     ]
    },
    {
     "data": {
      "application/vnd.microsoft.datawrangler.viewer.v0+json": {
       "columns": [
        {
         "name": "index",
         "rawType": "int64",
         "type": "integer"
        },
        {
         "name": "Year Range",
         "rawType": "object",
         "type": "string"
        },
        {
         "name": "eps",
         "rawType": "float64",
         "type": "float"
        },
        {
         "name": "min_samples",
         "rawType": "int64",
         "type": "integer"
        },
        {
         "name": "Runtime (s)",
         "rawType": "object",
         "type": "string"
        },
        {
         "name": "Clusters",
         "rawType": "int64",
         "type": "integer"
        },
        {
         "name": "Points per Cluster",
         "rawType": "object",
         "type": "unknown"
        },
        {
         "name": "Noise Points",
         "rawType": "int32",
         "type": "integer"
        },
        {
         "name": "Davies-Bouldin",
         "rawType": "object",
         "type": "unknown"
        },
        {
         "name": "Calinski-Harabasz",
         "rawType": "object",
         "type": "unknown"
        },
        {
         "name": "Weighted Mean ANOVA F",
         "rawType": "float64",
         "type": "float"
        }
       ],
       "ref": "15efa406-22fa-4330-9814-bc6c40685f8b",
       "rows": [
        [
         "0",
         "2012-2015",
         "0.02",
         "10",
         "0.008",
         "5",
         "{0: 221, 1: 12, 2: 51, 3: 104, -1: 482}",
         "482",
         null,
         null,
         null
        ],
        [
         "1",
         "2012-2015",
         "0.02",
         "15",
         "0.007",
         "5",
         "{0: 163, 1: 36, 2: 49, 3: 79, -1: 543}",
         "543",
         null,
         null,
         null
        ],
        [
         "2",
         "2012-2015",
         "0.02",
         "25",
         "0.006",
         "5",
         "{0: 145, 1: 32, 2: 48, 3: 47, -1: 598}",
         "598",
         null,
         null,
         null
        ],
        [
         "3",
         "2012-2015",
         "0.02",
         "30",
         "0.016",
         "5",
         "{0: 142, 1: 30, 2: 44, 3: 39, -1: 615}",
         "615",
         null,
         null,
         "73.025"
        ],
        [
         "4",
         "2012-2015",
         "0.01",
         "10",
         "0.000",
         "6",
         "{0: 10, 1: 70, 2: 26, 3: 34, 4: 22, -1: 708}",
         "708",
         null,
         null,
         null
        ],
        [
         "5",
         "2012-2015",
         "0.01",
         "15",
         "0.008",
         "5",
         "{0: 56, 1: 21, 2: 31, 3: 15, -1: 747}",
         "747",
         null,
         null,
         null
        ],
        [
         "6",
         "2012-2015",
         "0.01",
         "25",
         "0.007",
         "2",
         "{0: 38, -1: 832}",
         "832",
         null,
         null,
         null
        ],
        [
         "7",
         "2012-2015",
         "0.01",
         "30",
         "0.000",
         "2",
         "{0: 30, -1: 840}",
         "840",
         null,
         null,
         "0.0"
        ],
        [
         "8",
         "2012-2015",
         "0.015",
         "10",
         "0.009",
         "6",
         "{0: 137, 1: 32, 2: 68, 3: 10, 4: 45, -1: 578}",
         "578",
         null,
         null,
         null
        ],
        [
         "9",
         "2012-2015",
         "0.015",
         "15",
         "0.007",
         "5",
         "{0: 123, 1: 31, 2: 45, 3: 44, -1: 627}",
         "627",
         null,
         null,
         null
        ],
        [
         "10",
         "2012-2015",
         "0.015",
         "25",
         "0.005",
         "4",
         "{0: 84, 1: 28, 2: 34, -1: 724}",
         "724",
         null,
         null,
         null
        ],
        [
         "11",
         "2012-2015",
         "0.015",
         "30",
         "0.000",
         "3",
         "{0: 76, 1: 32, -1: 762}",
         "762",
         null,
         null,
         "567.803"
        ]
       ],
       "shape": {
        "columns": 10,
        "rows": 12
       }
      },
      "text/html": [
       "<div>\n",
       "<style scoped>\n",
       "    .dataframe tbody tr th:only-of-type {\n",
       "        vertical-align: middle;\n",
       "    }\n",
       "\n",
       "    .dataframe tbody tr th {\n",
       "        vertical-align: top;\n",
       "    }\n",
       "\n",
       "    .dataframe thead th {\n",
       "        text-align: right;\n",
       "    }\n",
       "</style>\n",
       "<table border=\"1\" class=\"dataframe\">\n",
       "  <thead>\n",
       "    <tr style=\"text-align: right;\">\n",
       "      <th></th>\n",
       "      <th>Year Range</th>\n",
       "      <th>eps</th>\n",
       "      <th>min_samples</th>\n",
       "      <th>Runtime (s)</th>\n",
       "      <th>Clusters</th>\n",
       "      <th>Points per Cluster</th>\n",
       "      <th>Noise Points</th>\n",
       "      <th>Davies-Bouldin</th>\n",
       "      <th>Calinski-Harabasz</th>\n",
       "      <th>Weighted Mean ANOVA F</th>\n",
       "    </tr>\n",
       "  </thead>\n",
       "  <tbody>\n",
       "    <tr>\n",
       "      <th>0</th>\n",
       "      <td>2012-2015</td>\n",
       "      <td>0.020</td>\n",
       "      <td>10</td>\n",
       "      <td>0.008</td>\n",
       "      <td>5</td>\n",
       "      <td>{0: 221, 1: 12, 2: 51, 3: 104, -1: 482}</td>\n",
       "      <td>482</td>\n",
       "      <td>None</td>\n",
       "      <td>None</td>\n",
       "      <td>NaN</td>\n",
       "    </tr>\n",
       "    <tr>\n",
       "      <th>1</th>\n",
       "      <td>2012-2015</td>\n",
       "      <td>0.020</td>\n",
       "      <td>15</td>\n",
       "      <td>0.007</td>\n",
       "      <td>5</td>\n",
       "      <td>{0: 163, 1: 36, 2: 49, 3: 79, -1: 543}</td>\n",
       "      <td>543</td>\n",
       "      <td>None</td>\n",
       "      <td>None</td>\n",
       "      <td>NaN</td>\n",
       "    </tr>\n",
       "    <tr>\n",
       "      <th>2</th>\n",
       "      <td>2012-2015</td>\n",
       "      <td>0.020</td>\n",
       "      <td>25</td>\n",
       "      <td>0.006</td>\n",
       "      <td>5</td>\n",
       "      <td>{0: 145, 1: 32, 2: 48, 3: 47, -1: 598}</td>\n",
       "      <td>598</td>\n",
       "      <td>None</td>\n",
       "      <td>None</td>\n",
       "      <td>NaN</td>\n",
       "    </tr>\n",
       "    <tr>\n",
       "      <th>3</th>\n",
       "      <td>2012-2015</td>\n",
       "      <td>0.020</td>\n",
       "      <td>30</td>\n",
       "      <td>0.016</td>\n",
       "      <td>5</td>\n",
       "      <td>{0: 142, 1: 30, 2: 44, 3: 39, -1: 615}</td>\n",
       "      <td>615</td>\n",
       "      <td>None</td>\n",
       "      <td>None</td>\n",
       "      <td>73.025</td>\n",
       "    </tr>\n",
       "    <tr>\n",
       "      <th>4</th>\n",
       "      <td>2012-2015</td>\n",
       "      <td>0.010</td>\n",
       "      <td>10</td>\n",
       "      <td>0.000</td>\n",
       "      <td>6</td>\n",
       "      <td>{0: 10, 1: 70, 2: 26, 3: 34, 4: 22, -1: 708}</td>\n",
       "      <td>708</td>\n",
       "      <td>None</td>\n",
       "      <td>None</td>\n",
       "      <td>NaN</td>\n",
       "    </tr>\n",
       "    <tr>\n",
       "      <th>5</th>\n",
       "      <td>2012-2015</td>\n",
       "      <td>0.010</td>\n",
       "      <td>15</td>\n",
       "      <td>0.008</td>\n",
       "      <td>5</td>\n",
       "      <td>{0: 56, 1: 21, 2: 31, 3: 15, -1: 747}</td>\n",
       "      <td>747</td>\n",
       "      <td>None</td>\n",
       "      <td>None</td>\n",
       "      <td>NaN</td>\n",
       "    </tr>\n",
       "    <tr>\n",
       "      <th>6</th>\n",
       "      <td>2012-2015</td>\n",
       "      <td>0.010</td>\n",
       "      <td>25</td>\n",
       "      <td>0.007</td>\n",
       "      <td>2</td>\n",
       "      <td>{0: 38, -1: 832}</td>\n",
       "      <td>832</td>\n",
       "      <td>None</td>\n",
       "      <td>None</td>\n",
       "      <td>NaN</td>\n",
       "    </tr>\n",
       "    <tr>\n",
       "      <th>7</th>\n",
       "      <td>2012-2015</td>\n",
       "      <td>0.010</td>\n",
       "      <td>30</td>\n",
       "      <td>0.000</td>\n",
       "      <td>2</td>\n",
       "      <td>{0: 30, -1: 840}</td>\n",
       "      <td>840</td>\n",
       "      <td>None</td>\n",
       "      <td>None</td>\n",
       "      <td>0.000</td>\n",
       "    </tr>\n",
       "    <tr>\n",
       "      <th>8</th>\n",
       "      <td>2012-2015</td>\n",
       "      <td>0.015</td>\n",
       "      <td>10</td>\n",
       "      <td>0.009</td>\n",
       "      <td>6</td>\n",
       "      <td>{0: 137, 1: 32, 2: 68, 3: 10, 4: 45, -1: 578}</td>\n",
       "      <td>578</td>\n",
       "      <td>None</td>\n",
       "      <td>None</td>\n",
       "      <td>NaN</td>\n",
       "    </tr>\n",
       "    <tr>\n",
       "      <th>9</th>\n",
       "      <td>2012-2015</td>\n",
       "      <td>0.015</td>\n",
       "      <td>15</td>\n",
       "      <td>0.007</td>\n",
       "      <td>5</td>\n",
       "      <td>{0: 123, 1: 31, 2: 45, 3: 44, -1: 627}</td>\n",
       "      <td>627</td>\n",
       "      <td>None</td>\n",
       "      <td>None</td>\n",
       "      <td>NaN</td>\n",
       "    </tr>\n",
       "    <tr>\n",
       "      <th>10</th>\n",
       "      <td>2012-2015</td>\n",
       "      <td>0.015</td>\n",
       "      <td>25</td>\n",
       "      <td>0.005</td>\n",
       "      <td>4</td>\n",
       "      <td>{0: 84, 1: 28, 2: 34, -1: 724}</td>\n",
       "      <td>724</td>\n",
       "      <td>None</td>\n",
       "      <td>None</td>\n",
       "      <td>NaN</td>\n",
       "    </tr>\n",
       "    <tr>\n",
       "      <th>11</th>\n",
       "      <td>2012-2015</td>\n",
       "      <td>0.015</td>\n",
       "      <td>30</td>\n",
       "      <td>0.000</td>\n",
       "      <td>3</td>\n",
       "      <td>{0: 76, 1: 32, -1: 762}</td>\n",
       "      <td>762</td>\n",
       "      <td>None</td>\n",
       "      <td>None</td>\n",
       "      <td>567.803</td>\n",
       "    </tr>\n",
       "  </tbody>\n",
       "</table>\n",
       "</div>"
      ],
      "text/plain": [
       "   Year Range    eps  min_samples Runtime (s)  Clusters  \\\n",
       "0   2012-2015  0.020           10       0.008         5   \n",
       "1   2012-2015  0.020           15       0.007         5   \n",
       "2   2012-2015  0.020           25       0.006         5   \n",
       "3   2012-2015  0.020           30       0.016         5   \n",
       "4   2012-2015  0.010           10       0.000         6   \n",
       "5   2012-2015  0.010           15       0.008         5   \n",
       "6   2012-2015  0.010           25       0.007         2   \n",
       "7   2012-2015  0.010           30       0.000         2   \n",
       "8   2012-2015  0.015           10       0.009         6   \n",
       "9   2012-2015  0.015           15       0.007         5   \n",
       "10  2012-2015  0.015           25       0.005         4   \n",
       "11  2012-2015  0.015           30       0.000         3   \n",
       "\n",
       "                               Points per Cluster  Noise Points  \\\n",
       "0         {0: 221, 1: 12, 2: 51, 3: 104, -1: 482}           482   \n",
       "1          {0: 163, 1: 36, 2: 49, 3: 79, -1: 543}           543   \n",
       "2          {0: 145, 1: 32, 2: 48, 3: 47, -1: 598}           598   \n",
       "3          {0: 142, 1: 30, 2: 44, 3: 39, -1: 615}           615   \n",
       "4    {0: 10, 1: 70, 2: 26, 3: 34, 4: 22, -1: 708}           708   \n",
       "5           {0: 56, 1: 21, 2: 31, 3: 15, -1: 747}           747   \n",
       "6                                {0: 38, -1: 832}           832   \n",
       "7                                {0: 30, -1: 840}           840   \n",
       "8   {0: 137, 1: 32, 2: 68, 3: 10, 4: 45, -1: 578}           578   \n",
       "9          {0: 123, 1: 31, 2: 45, 3: 44, -1: 627}           627   \n",
       "10                 {0: 84, 1: 28, 2: 34, -1: 724}           724   \n",
       "11                        {0: 76, 1: 32, -1: 762}           762   \n",
       "\n",
       "   Davies-Bouldin Calinski-Harabasz  Weighted Mean ANOVA F  \n",
       "0            None              None                    NaN  \n",
       "1            None              None                    NaN  \n",
       "2            None              None                    NaN  \n",
       "3            None              None                 73.025  \n",
       "4            None              None                    NaN  \n",
       "5            None              None                    NaN  \n",
       "6            None              None                    NaN  \n",
       "7            None              None                  0.000  \n",
       "8            None              None                    NaN  \n",
       "9            None              None                    NaN  \n",
       "10           None              None                    NaN  \n",
       "11           None              None                567.803  "
      ]
     },
     "metadata": {},
     "output_type": "display_data"
    },
    {
     "name": "stdout",
     "output_type": "stream",
     "text": [
      "\n",
      "Running DBSCAN for Year Range: 2013-2016\n",
      "Runtime for dbscan_clustering: 0.012044 seconds\n"
     ]
    },
    {
     "name": "stderr",
     "output_type": "stream",
     "text": [
      "c:\\Users\\fionu\\OneDrive\\Dokumente\\Daten Fiona\\AIUB\\Code\\AIUB-Backup\\clustering\\high_dim_analysis.py:138: FutureWarning: \n",
      "\n",
      "Passing `palette` without assigning `hue` is deprecated and will be removed in v0.14.0. Assign the `y` variable to `hue` and set `legend=False` for the same effect.\n",
      "\n",
      "  sns.barplot(x=mi_vals, y=features, palette=\"magma\")\n"
     ]
    },
    {
     "name": "stdout",
     "output_type": "stream",
     "text": [
      "Runtime for dbscan_clustering: 0.027980 seconds\n"
     ]
    },
    {
     "name": "stderr",
     "output_type": "stream",
     "text": [
      "c:\\Users\\fionu\\OneDrive\\Dokumente\\Daten Fiona\\AIUB\\Code\\AIUB-Backup\\clustering\\high_dim_analysis.py:138: FutureWarning: \n",
      "\n",
      "Passing `palette` without assigning `hue` is deprecated and will be removed in v0.14.0. Assign the `y` variable to `hue` and set `legend=False` for the same effect.\n",
      "\n",
      "  sns.barplot(x=mi_vals, y=features, palette=\"magma\")\n"
     ]
    },
    {
     "name": "stdout",
     "output_type": "stream",
     "text": [
      "Runtime for dbscan_clustering: 0.012721 seconds\n"
     ]
    },
    {
     "name": "stderr",
     "output_type": "stream",
     "text": [
      "c:\\Users\\fionu\\OneDrive\\Dokumente\\Daten Fiona\\AIUB\\Code\\AIUB-Backup\\clustering\\high_dim_analysis.py:138: FutureWarning: \n",
      "\n",
      "Passing `palette` without assigning `hue` is deprecated and will be removed in v0.14.0. Assign the `y` variable to `hue` and set `legend=False` for the same effect.\n",
      "\n",
      "  sns.barplot(x=mi_vals, y=features, palette=\"magma\")\n"
     ]
    },
    {
     "name": "stdout",
     "output_type": "stream",
     "text": [
      "Runtime for dbscan_clustering: 0.039135 seconds\n"
     ]
    },
    {
     "name": "stderr",
     "output_type": "stream",
     "text": [
      "c:\\Users\\fionu\\OneDrive\\Dokumente\\Daten Fiona\\AIUB\\Code\\AIUB-Backup\\clustering\\high_dim_analysis.py:138: FutureWarning: \n",
      "\n",
      "Passing `palette` without assigning `hue` is deprecated and will be removed in v0.14.0. Assign the `y` variable to `hue` and set `legend=False` for the same effect.\n",
      "\n",
      "  sns.barplot(x=mi_vals, y=features, palette=\"magma\")\n"
     ]
    },
    {
     "name": "stdout",
     "output_type": "stream",
     "text": [
      "Runtime for dbscan_clustering: 0.000000 seconds\n"
     ]
    },
    {
     "name": "stderr",
     "output_type": "stream",
     "text": [
      "c:\\Users\\fionu\\OneDrive\\Dokumente\\Daten Fiona\\AIUB\\Code\\AIUB-Backup\\clustering\\high_dim_analysis.py:138: FutureWarning: \n",
      "\n",
      "Passing `palette` without assigning `hue` is deprecated and will be removed in v0.14.0. Assign the `y` variable to `hue` and set `legend=False` for the same effect.\n",
      "\n",
      "  sns.barplot(x=mi_vals, y=features, palette=\"magma\")\n"
     ]
    },
    {
     "name": "stdout",
     "output_type": "stream",
     "text": [
      "Runtime for dbscan_clustering: 0.006087 seconds\n"
     ]
    },
    {
     "name": "stderr",
     "output_type": "stream",
     "text": [
      "c:\\Users\\fionu\\OneDrive\\Dokumente\\Daten Fiona\\AIUB\\Code\\AIUB-Backup\\clustering\\high_dim_analysis.py:138: FutureWarning: \n",
      "\n",
      "Passing `palette` without assigning `hue` is deprecated and will be removed in v0.14.0. Assign the `y` variable to `hue` and set `legend=False` for the same effect.\n",
      "\n",
      "  sns.barplot(x=mi_vals, y=features, palette=\"magma\")\n"
     ]
    },
    {
     "name": "stdout",
     "output_type": "stream",
     "text": [
      "Runtime for dbscan_clustering: 0.011040 seconds\n"
     ]
    },
    {
     "name": "stderr",
     "output_type": "stream",
     "text": [
      "c:\\Users\\fionu\\OneDrive\\Dokumente\\Daten Fiona\\AIUB\\Code\\AIUB-Backup\\clustering\\high_dim_analysis.py:138: FutureWarning: \n",
      "\n",
      "Passing `palette` without assigning `hue` is deprecated and will be removed in v0.14.0. Assign the `y` variable to `hue` and set `legend=False` for the same effect.\n",
      "\n",
      "  sns.barplot(x=mi_vals, y=features, palette=\"magma\")\n"
     ]
    },
    {
     "name": "stdout",
     "output_type": "stream",
     "text": [
      "Runtime for dbscan_clustering: 0.014583 seconds\n"
     ]
    },
    {
     "name": "stderr",
     "output_type": "stream",
     "text": [
      "c:\\Users\\fionu\\OneDrive\\Dokumente\\Daten Fiona\\AIUB\\Code\\AIUB-Backup\\clustering\\high_dim_analysis.py:138: FutureWarning: \n",
      "\n",
      "Passing `palette` without assigning `hue` is deprecated and will be removed in v0.14.0. Assign the `y` variable to `hue` and set `legend=False` for the same effect.\n",
      "\n",
      "  sns.barplot(x=mi_vals, y=features, palette=\"magma\")\n"
     ]
    },
    {
     "name": "stdout",
     "output_type": "stream",
     "text": [
      "Runtime for dbscan_clustering: 0.000000 seconds\n"
     ]
    },
    {
     "name": "stderr",
     "output_type": "stream",
     "text": [
      "c:\\Users\\fionu\\OneDrive\\Dokumente\\Daten Fiona\\AIUB\\Code\\AIUB-Backup\\clustering\\high_dim_analysis.py:138: FutureWarning: \n",
      "\n",
      "Passing `palette` without assigning `hue` is deprecated and will be removed in v0.14.0. Assign the `y` variable to `hue` and set `legend=False` for the same effect.\n",
      "\n",
      "  sns.barplot(x=mi_vals, y=features, palette=\"magma\")\n"
     ]
    },
    {
     "name": "stdout",
     "output_type": "stream",
     "text": [
      "Runtime for dbscan_clustering: 0.006076 seconds\n"
     ]
    },
    {
     "name": "stderr",
     "output_type": "stream",
     "text": [
      "c:\\Users\\fionu\\OneDrive\\Dokumente\\Daten Fiona\\AIUB\\Code\\AIUB-Backup\\clustering\\high_dim_analysis.py:138: FutureWarning: \n",
      "\n",
      "Passing `palette` without assigning `hue` is deprecated and will be removed in v0.14.0. Assign the `y` variable to `hue` and set `legend=False` for the same effect.\n",
      "\n",
      "  sns.barplot(x=mi_vals, y=features, palette=\"magma\")\n"
     ]
    },
    {
     "name": "stdout",
     "output_type": "stream",
     "text": [
      "Runtime for dbscan_clustering: 0.003172 seconds\n"
     ]
    },
    {
     "name": "stderr",
     "output_type": "stream",
     "text": [
      "c:\\Users\\fionu\\OneDrive\\Dokumente\\Daten Fiona\\AIUB\\Code\\AIUB-Backup\\clustering\\high_dim_analysis.py:138: FutureWarning: \n",
      "\n",
      "Passing `palette` without assigning `hue` is deprecated and will be removed in v0.14.0. Assign the `y` variable to `hue` and set `legend=False` for the same effect.\n",
      "\n",
      "  sns.barplot(x=mi_vals, y=features, palette=\"magma\")\n"
     ]
    },
    {
     "name": "stdout",
     "output_type": "stream",
     "text": [
      "Runtime for dbscan_clustering: 0.007029 seconds\n"
     ]
    },
    {
     "name": "stderr",
     "output_type": "stream",
     "text": [
      "c:\\Users\\fionu\\OneDrive\\Dokumente\\Daten Fiona\\AIUB\\Code\\AIUB-Backup\\clustering\\high_dim_analysis.py:138: FutureWarning: \n",
      "\n",
      "Passing `palette` without assigning `hue` is deprecated and will be removed in v0.14.0. Assign the `y` variable to `hue` and set `legend=False` for the same effect.\n",
      "\n",
      "  sns.barplot(x=mi_vals, y=features, palette=\"magma\")\n"
     ]
    },
    {
     "name": "stdout",
     "output_type": "stream",
     "text": [
      "Runtime for dbscan_clustering: 0.000000 seconds\n"
     ]
    },
    {
     "name": "stderr",
     "output_type": "stream",
     "text": [
      "c:\\Users\\fionu\\OneDrive\\Dokumente\\Daten Fiona\\AIUB\\Code\\AIUB-Backup\\clustering\\high_dim_analysis.py:42: FutureWarning: \n",
      "\n",
      "Passing `palette` without assigning `hue` is deprecated and will be removed in v0.14.0. Assign the `y` variable to `hue` and set `legend=False` for the same effect.\n",
      "\n",
      "  sns.barplot(x=f_vals, y=features, palette=\"crest\")\n"
     ]
    },
    {
     "name": "stdout",
     "output_type": "stream",
     "text": [
      "Best DBSCAN parameters based on ANOVA F-value:\n",
      "Year Range                               2013-2016\n",
      "eps                                           0.01\n",
      "min_samples                                     30\n",
      "Runtime (s)                                  0.015\n",
      "Clusters                                         3\n",
      "Points per Cluster       {0: 39, 1: 101, -1: 1187}\n",
      "Noise Points                                  1187\n",
      "Davies-Bouldin                                None\n",
      "Calinski-Harabasz                             None\n",
      "Weighted Mean ANOVA F                   106368.438\n",
      "Name: 7, dtype: object\n"
     ]
    },
    {
     "data": {
      "application/vnd.microsoft.datawrangler.viewer.v0+json": {
       "columns": [
        {
         "name": "index",
         "rawType": "int64",
         "type": "integer"
        },
        {
         "name": "Year Range",
         "rawType": "object",
         "type": "string"
        },
        {
         "name": "eps",
         "rawType": "float64",
         "type": "float"
        },
        {
         "name": "min_samples",
         "rawType": "int64",
         "type": "integer"
        },
        {
         "name": "Runtime (s)",
         "rawType": "object",
         "type": "string"
        },
        {
         "name": "Clusters",
         "rawType": "int64",
         "type": "integer"
        },
        {
         "name": "Points per Cluster",
         "rawType": "object",
         "type": "unknown"
        },
        {
         "name": "Noise Points",
         "rawType": "int32",
         "type": "integer"
        },
        {
         "name": "Davies-Bouldin",
         "rawType": "object",
         "type": "unknown"
        },
        {
         "name": "Calinski-Harabasz",
         "rawType": "object",
         "type": "unknown"
        },
        {
         "name": "Weighted Mean ANOVA F",
         "rawType": "float64",
         "type": "float"
        }
       ],
       "ref": "fd4c98ad-0c00-4dbc-b9dd-b621c76f4f4a",
       "rows": [
        [
         "0",
         "2013-2016",
         "0.02",
         "10",
         "0.012",
         "10",
         "{0: 220, 1: 13, 2: 82, 3: 12, 4: 135, 5: 194, 6: 39, 7: 8, 8: 20, -1: 604}",
         "604",
         null,
         null,
         null
        ],
        [
         "1",
         "2013-2016",
         "0.02",
         "15",
         "0.028",
         "7",
         "{0: 213, 1: 79, 2: 134, 3: 139, 4: 43, 5: 34, -1: 685}",
         "685",
         null,
         null,
         null
        ],
        [
         "2",
         "2013-2016",
         "0.02",
         "25",
         "0.013",
         "6",
         "{0: 149, 1: 38, 2: 78, 3: 132, 4: 125, -1: 805}",
         "805",
         null,
         null,
         null
        ],
        [
         "3",
         "2013-2016",
         "0.02",
         "30",
         "0.039",
         "6",
         "{0: 146, 1: 30, 2: 71, 3: 128, 4: 117, -1: 835}",
         "835",
         null,
         null,
         "21872.127"
        ],
        [
         "4",
         "2013-2016",
         "0.01",
         "10",
         "0.000",
         "9",
         "{0: 119, 1: 60, 2: 10, 3: 122, 4: 56, 5: 10, 6: 8, 7: 23, -1: 919}",
         "919",
         null,
         null,
         null
        ],
        [
         "5",
         "2013-2016",
         "0.01",
         "15",
         "0.006",
         "5",
         "{0: 93, 1: 119, 2: 53, 3: 34, -1: 1028}",
         "1028",
         null,
         null,
         null
        ],
        [
         "6",
         "2013-2016",
         "0.01",
         "25",
         "0.011",
         "3",
         "{0: 56, 1: 102, -1: 1169}",
         "1169",
         null,
         null,
         null
        ],
        [
         "7",
         "2013-2016",
         "0.01",
         "30",
         "0.015",
         "3",
         "{0: 39, 1: 101, -1: 1187}",
         "1187",
         null,
         null,
         "106368.438"
        ],
        [
         "8",
         "2013-2016",
         "0.015",
         "10",
         "0.000",
         "9",
         "{0: 146, 1: 36, 2: 73, 3: 130, 4: 12, 5: 126, 6: 38, 7: 25, -1: 741}",
         "741",
         null,
         null,
         null
        ],
        [
         "9",
         "2013-2016",
         "0.015",
         "15",
         "0.006",
         "8",
         "{0: 141, 1: 32, 2: 70, 3: 124, 4: 116, 5: 24, 6: 21, -1: 799}",
         "799",
         null,
         null,
         null
        ],
        [
         "10",
         "2013-2016",
         "0.015",
         "25",
         "0.003",
         "5",
         "{0: 130, 1: 123, 2: 62, 3: 65, -1: 947}",
         "947",
         null,
         null,
         null
        ],
        [
         "11",
         "2013-2016",
         "0.015",
         "30",
         "0.007",
         "5",
         "{0: 122, 1: 123, 2: 54, 3: 48, -1: 980}",
         "980",
         null,
         null,
         "42714.748"
        ]
       ],
       "shape": {
        "columns": 10,
        "rows": 12
       }
      },
      "text/html": [
       "<div>\n",
       "<style scoped>\n",
       "    .dataframe tbody tr th:only-of-type {\n",
       "        vertical-align: middle;\n",
       "    }\n",
       "\n",
       "    .dataframe tbody tr th {\n",
       "        vertical-align: top;\n",
       "    }\n",
       "\n",
       "    .dataframe thead th {\n",
       "        text-align: right;\n",
       "    }\n",
       "</style>\n",
       "<table border=\"1\" class=\"dataframe\">\n",
       "  <thead>\n",
       "    <tr style=\"text-align: right;\">\n",
       "      <th></th>\n",
       "      <th>Year Range</th>\n",
       "      <th>eps</th>\n",
       "      <th>min_samples</th>\n",
       "      <th>Runtime (s)</th>\n",
       "      <th>Clusters</th>\n",
       "      <th>Points per Cluster</th>\n",
       "      <th>Noise Points</th>\n",
       "      <th>Davies-Bouldin</th>\n",
       "      <th>Calinski-Harabasz</th>\n",
       "      <th>Weighted Mean ANOVA F</th>\n",
       "    </tr>\n",
       "  </thead>\n",
       "  <tbody>\n",
       "    <tr>\n",
       "      <th>0</th>\n",
       "      <td>2013-2016</td>\n",
       "      <td>0.020</td>\n",
       "      <td>10</td>\n",
       "      <td>0.012</td>\n",
       "      <td>10</td>\n",
       "      <td>{0: 220, 1: 13, 2: 82, 3: 12, 4: 135, 5: 194, ...</td>\n",
       "      <td>604</td>\n",
       "      <td>None</td>\n",
       "      <td>None</td>\n",
       "      <td>NaN</td>\n",
       "    </tr>\n",
       "    <tr>\n",
       "      <th>1</th>\n",
       "      <td>2013-2016</td>\n",
       "      <td>0.020</td>\n",
       "      <td>15</td>\n",
       "      <td>0.028</td>\n",
       "      <td>7</td>\n",
       "      <td>{0: 213, 1: 79, 2: 134, 3: 139, 4: 43, 5: 34, ...</td>\n",
       "      <td>685</td>\n",
       "      <td>None</td>\n",
       "      <td>None</td>\n",
       "      <td>NaN</td>\n",
       "    </tr>\n",
       "    <tr>\n",
       "      <th>2</th>\n",
       "      <td>2013-2016</td>\n",
       "      <td>0.020</td>\n",
       "      <td>25</td>\n",
       "      <td>0.013</td>\n",
       "      <td>6</td>\n",
       "      <td>{0: 149, 1: 38, 2: 78, 3: 132, 4: 125, -1: 805}</td>\n",
       "      <td>805</td>\n",
       "      <td>None</td>\n",
       "      <td>None</td>\n",
       "      <td>NaN</td>\n",
       "    </tr>\n",
       "    <tr>\n",
       "      <th>3</th>\n",
       "      <td>2013-2016</td>\n",
       "      <td>0.020</td>\n",
       "      <td>30</td>\n",
       "      <td>0.039</td>\n",
       "      <td>6</td>\n",
       "      <td>{0: 146, 1: 30, 2: 71, 3: 128, 4: 117, -1: 835}</td>\n",
       "      <td>835</td>\n",
       "      <td>None</td>\n",
       "      <td>None</td>\n",
       "      <td>21872.127</td>\n",
       "    </tr>\n",
       "    <tr>\n",
       "      <th>4</th>\n",
       "      <td>2013-2016</td>\n",
       "      <td>0.010</td>\n",
       "      <td>10</td>\n",
       "      <td>0.000</td>\n",
       "      <td>9</td>\n",
       "      <td>{0: 119, 1: 60, 2: 10, 3: 122, 4: 56, 5: 10, 6...</td>\n",
       "      <td>919</td>\n",
       "      <td>None</td>\n",
       "      <td>None</td>\n",
       "      <td>NaN</td>\n",
       "    </tr>\n",
       "    <tr>\n",
       "      <th>5</th>\n",
       "      <td>2013-2016</td>\n",
       "      <td>0.010</td>\n",
       "      <td>15</td>\n",
       "      <td>0.006</td>\n",
       "      <td>5</td>\n",
       "      <td>{0: 93, 1: 119, 2: 53, 3: 34, -1: 1028}</td>\n",
       "      <td>1028</td>\n",
       "      <td>None</td>\n",
       "      <td>None</td>\n",
       "      <td>NaN</td>\n",
       "    </tr>\n",
       "    <tr>\n",
       "      <th>6</th>\n",
       "      <td>2013-2016</td>\n",
       "      <td>0.010</td>\n",
       "      <td>25</td>\n",
       "      <td>0.011</td>\n",
       "      <td>3</td>\n",
       "      <td>{0: 56, 1: 102, -1: 1169}</td>\n",
       "      <td>1169</td>\n",
       "      <td>None</td>\n",
       "      <td>None</td>\n",
       "      <td>NaN</td>\n",
       "    </tr>\n",
       "    <tr>\n",
       "      <th>7</th>\n",
       "      <td>2013-2016</td>\n",
       "      <td>0.010</td>\n",
       "      <td>30</td>\n",
       "      <td>0.015</td>\n",
       "      <td>3</td>\n",
       "      <td>{0: 39, 1: 101, -1: 1187}</td>\n",
       "      <td>1187</td>\n",
       "      <td>None</td>\n",
       "      <td>None</td>\n",
       "      <td>106368.438</td>\n",
       "    </tr>\n",
       "    <tr>\n",
       "      <th>8</th>\n",
       "      <td>2013-2016</td>\n",
       "      <td>0.015</td>\n",
       "      <td>10</td>\n",
       "      <td>0.000</td>\n",
       "      <td>9</td>\n",
       "      <td>{0: 146, 1: 36, 2: 73, 3: 130, 4: 12, 5: 126, ...</td>\n",
       "      <td>741</td>\n",
       "      <td>None</td>\n",
       "      <td>None</td>\n",
       "      <td>NaN</td>\n",
       "    </tr>\n",
       "    <tr>\n",
       "      <th>9</th>\n",
       "      <td>2013-2016</td>\n",
       "      <td>0.015</td>\n",
       "      <td>15</td>\n",
       "      <td>0.006</td>\n",
       "      <td>8</td>\n",
       "      <td>{0: 141, 1: 32, 2: 70, 3: 124, 4: 116, 5: 24, ...</td>\n",
       "      <td>799</td>\n",
       "      <td>None</td>\n",
       "      <td>None</td>\n",
       "      <td>NaN</td>\n",
       "    </tr>\n",
       "    <tr>\n",
       "      <th>10</th>\n",
       "      <td>2013-2016</td>\n",
       "      <td>0.015</td>\n",
       "      <td>25</td>\n",
       "      <td>0.003</td>\n",
       "      <td>5</td>\n",
       "      <td>{0: 130, 1: 123, 2: 62, 3: 65, -1: 947}</td>\n",
       "      <td>947</td>\n",
       "      <td>None</td>\n",
       "      <td>None</td>\n",
       "      <td>NaN</td>\n",
       "    </tr>\n",
       "    <tr>\n",
       "      <th>11</th>\n",
       "      <td>2013-2016</td>\n",
       "      <td>0.015</td>\n",
       "      <td>30</td>\n",
       "      <td>0.007</td>\n",
       "      <td>5</td>\n",
       "      <td>{0: 122, 1: 123, 2: 54, 3: 48, -1: 980}</td>\n",
       "      <td>980</td>\n",
       "      <td>None</td>\n",
       "      <td>None</td>\n",
       "      <td>42714.748</td>\n",
       "    </tr>\n",
       "  </tbody>\n",
       "</table>\n",
       "</div>"
      ],
      "text/plain": [
       "   Year Range    eps  min_samples Runtime (s)  Clusters  \\\n",
       "0   2013-2016  0.020           10       0.012        10   \n",
       "1   2013-2016  0.020           15       0.028         7   \n",
       "2   2013-2016  0.020           25       0.013         6   \n",
       "3   2013-2016  0.020           30       0.039         6   \n",
       "4   2013-2016  0.010           10       0.000         9   \n",
       "5   2013-2016  0.010           15       0.006         5   \n",
       "6   2013-2016  0.010           25       0.011         3   \n",
       "7   2013-2016  0.010           30       0.015         3   \n",
       "8   2013-2016  0.015           10       0.000         9   \n",
       "9   2013-2016  0.015           15       0.006         8   \n",
       "10  2013-2016  0.015           25       0.003         5   \n",
       "11  2013-2016  0.015           30       0.007         5   \n",
       "\n",
       "                                   Points per Cluster  Noise Points  \\\n",
       "0   {0: 220, 1: 13, 2: 82, 3: 12, 4: 135, 5: 194, ...           604   \n",
       "1   {0: 213, 1: 79, 2: 134, 3: 139, 4: 43, 5: 34, ...           685   \n",
       "2     {0: 149, 1: 38, 2: 78, 3: 132, 4: 125, -1: 805}           805   \n",
       "3     {0: 146, 1: 30, 2: 71, 3: 128, 4: 117, -1: 835}           835   \n",
       "4   {0: 119, 1: 60, 2: 10, 3: 122, 4: 56, 5: 10, 6...           919   \n",
       "5             {0: 93, 1: 119, 2: 53, 3: 34, -1: 1028}          1028   \n",
       "6                           {0: 56, 1: 102, -1: 1169}          1169   \n",
       "7                           {0: 39, 1: 101, -1: 1187}          1187   \n",
       "8   {0: 146, 1: 36, 2: 73, 3: 130, 4: 12, 5: 126, ...           741   \n",
       "9   {0: 141, 1: 32, 2: 70, 3: 124, 4: 116, 5: 24, ...           799   \n",
       "10            {0: 130, 1: 123, 2: 62, 3: 65, -1: 947}           947   \n",
       "11            {0: 122, 1: 123, 2: 54, 3: 48, -1: 980}           980   \n",
       "\n",
       "   Davies-Bouldin Calinski-Harabasz  Weighted Mean ANOVA F  \n",
       "0            None              None                    NaN  \n",
       "1            None              None                    NaN  \n",
       "2            None              None                    NaN  \n",
       "3            None              None              21872.127  \n",
       "4            None              None                    NaN  \n",
       "5            None              None                    NaN  \n",
       "6            None              None                    NaN  \n",
       "7            None              None             106368.438  \n",
       "8            None              None                    NaN  \n",
       "9            None              None                    NaN  \n",
       "10           None              None                    NaN  \n",
       "11           None              None              42714.748  "
      ]
     },
     "metadata": {},
     "output_type": "display_data"
    },
    {
     "name": "stdout",
     "output_type": "stream",
     "text": [
      "\n",
      "Running DBSCAN for Year Range: 2014-2017\n",
      "Runtime for dbscan_clustering: 0.018193 seconds\n"
     ]
    },
    {
     "name": "stderr",
     "output_type": "stream",
     "text": [
      "c:\\Users\\fionu\\OneDrive\\Dokumente\\Daten Fiona\\AIUB\\Code\\AIUB-Backup\\clustering\\high_dim_analysis.py:138: FutureWarning: \n",
      "\n",
      "Passing `palette` without assigning `hue` is deprecated and will be removed in v0.14.0. Assign the `y` variable to `hue` and set `legend=False` for the same effect.\n",
      "\n",
      "  sns.barplot(x=mi_vals, y=features, palette=\"magma\")\n"
     ]
    },
    {
     "name": "stdout",
     "output_type": "stream",
     "text": [
      "Runtime for dbscan_clustering: 0.018044 seconds\n"
     ]
    },
    {
     "name": "stderr",
     "output_type": "stream",
     "text": [
      "c:\\Users\\fionu\\OneDrive\\Dokumente\\Daten Fiona\\AIUB\\Code\\AIUB-Backup\\clustering\\high_dim_analysis.py:138: FutureWarning: \n",
      "\n",
      "Passing `palette` without assigning `hue` is deprecated and will be removed in v0.14.0. Assign the `y` variable to `hue` and set `legend=False` for the same effect.\n",
      "\n",
      "  sns.barplot(x=mi_vals, y=features, palette=\"magma\")\n"
     ]
    },
    {
     "name": "stdout",
     "output_type": "stream",
     "text": [
      "Runtime for dbscan_clustering: 0.010961 seconds\n"
     ]
    },
    {
     "name": "stderr",
     "output_type": "stream",
     "text": [
      "c:\\Users\\fionu\\OneDrive\\Dokumente\\Daten Fiona\\AIUB\\Code\\AIUB-Backup\\clustering\\high_dim_analysis.py:138: FutureWarning: \n",
      "\n",
      "Passing `palette` without assigning `hue` is deprecated and will be removed in v0.14.0. Assign the `y` variable to `hue` and set `legend=False` for the same effect.\n",
      "\n",
      "  sns.barplot(x=mi_vals, y=features, palette=\"magma\")\n"
     ]
    },
    {
     "name": "stdout",
     "output_type": "stream",
     "text": [
      "Runtime for dbscan_clustering: 0.013960 seconds\n"
     ]
    },
    {
     "name": "stderr",
     "output_type": "stream",
     "text": [
      "c:\\Users\\fionu\\OneDrive\\Dokumente\\Daten Fiona\\AIUB\\Code\\AIUB-Backup\\clustering\\high_dim_analysis.py:138: FutureWarning: \n",
      "\n",
      "Passing `palette` without assigning `hue` is deprecated and will be removed in v0.14.0. Assign the `y` variable to `hue` and set `legend=False` for the same effect.\n",
      "\n",
      "  sns.barplot(x=mi_vals, y=features, palette=\"magma\")\n"
     ]
    },
    {
     "name": "stdout",
     "output_type": "stream",
     "text": [
      "Runtime for dbscan_clustering: 0.007130 seconds\n"
     ]
    },
    {
     "name": "stderr",
     "output_type": "stream",
     "text": [
      "c:\\Users\\fionu\\OneDrive\\Dokumente\\Daten Fiona\\AIUB\\Code\\AIUB-Backup\\clustering\\high_dim_analysis.py:138: FutureWarning: \n",
      "\n",
      "Passing `palette` without assigning `hue` is deprecated and will be removed in v0.14.0. Assign the `y` variable to `hue` and set `legend=False` for the same effect.\n",
      "\n",
      "  sns.barplot(x=mi_vals, y=features, palette=\"magma\")\n"
     ]
    },
    {
     "name": "stdout",
     "output_type": "stream",
     "text": [
      "Runtime for dbscan_clustering: 0.013119 seconds\n"
     ]
    },
    {
     "name": "stderr",
     "output_type": "stream",
     "text": [
      "c:\\Users\\fionu\\OneDrive\\Dokumente\\Daten Fiona\\AIUB\\Code\\AIUB-Backup\\clustering\\high_dim_analysis.py:138: FutureWarning: \n",
      "\n",
      "Passing `palette` without assigning `hue` is deprecated and will be removed in v0.14.0. Assign the `y` variable to `hue` and set `legend=False` for the same effect.\n",
      "\n",
      "  sns.barplot(x=mi_vals, y=features, palette=\"magma\")\n"
     ]
    },
    {
     "name": "stdout",
     "output_type": "stream",
     "text": [
      "Runtime for dbscan_clustering: 0.000000 seconds\n"
     ]
    },
    {
     "name": "stderr",
     "output_type": "stream",
     "text": [
      "c:\\Users\\fionu\\OneDrive\\Dokumente\\Daten Fiona\\AIUB\\Code\\AIUB-Backup\\clustering\\high_dim_analysis.py:138: FutureWarning: \n",
      "\n",
      "Passing `palette` without assigning `hue` is deprecated and will be removed in v0.14.0. Assign the `y` variable to `hue` and set `legend=False` for the same effect.\n",
      "\n",
      "  sns.barplot(x=mi_vals, y=features, palette=\"magma\")\n"
     ]
    },
    {
     "name": "stdout",
     "output_type": "stream",
     "text": [
      "Runtime for dbscan_clustering: 0.015857 seconds\n"
     ]
    },
    {
     "name": "stderr",
     "output_type": "stream",
     "text": [
      "c:\\Users\\fionu\\OneDrive\\Dokumente\\Daten Fiona\\AIUB\\Code\\AIUB-Backup\\clustering\\high_dim_analysis.py:138: FutureWarning: \n",
      "\n",
      "Passing `palette` without assigning `hue` is deprecated and will be removed in v0.14.0. Assign the `y` variable to `hue` and set `legend=False` for the same effect.\n",
      "\n",
      "  sns.barplot(x=mi_vals, y=features, palette=\"magma\")\n"
     ]
    },
    {
     "name": "stdout",
     "output_type": "stream",
     "text": [
      "Runtime for dbscan_clustering: 0.009039 seconds\n"
     ]
    },
    {
     "name": "stderr",
     "output_type": "stream",
     "text": [
      "c:\\Users\\fionu\\OneDrive\\Dokumente\\Daten Fiona\\AIUB\\Code\\AIUB-Backup\\clustering\\high_dim_analysis.py:138: FutureWarning: \n",
      "\n",
      "Passing `palette` without assigning `hue` is deprecated and will be removed in v0.14.0. Assign the `y` variable to `hue` and set `legend=False` for the same effect.\n",
      "\n",
      "  sns.barplot(x=mi_vals, y=features, palette=\"magma\")\n"
     ]
    },
    {
     "name": "stdout",
     "output_type": "stream",
     "text": [
      "Runtime for dbscan_clustering: 0.014891 seconds\n"
     ]
    },
    {
     "name": "stderr",
     "output_type": "stream",
     "text": [
      "c:\\Users\\fionu\\OneDrive\\Dokumente\\Daten Fiona\\AIUB\\Code\\AIUB-Backup\\clustering\\high_dim_analysis.py:138: FutureWarning: \n",
      "\n",
      "Passing `palette` without assigning `hue` is deprecated and will be removed in v0.14.0. Assign the `y` variable to `hue` and set `legend=False` for the same effect.\n",
      "\n",
      "  sns.barplot(x=mi_vals, y=features, palette=\"magma\")\n"
     ]
    },
    {
     "name": "stdout",
     "output_type": "stream",
     "text": [
      "Runtime for dbscan_clustering: 0.000000 seconds\n"
     ]
    },
    {
     "name": "stderr",
     "output_type": "stream",
     "text": [
      "c:\\Users\\fionu\\OneDrive\\Dokumente\\Daten Fiona\\AIUB\\Code\\AIUB-Backup\\clustering\\high_dim_analysis.py:138: FutureWarning: \n",
      "\n",
      "Passing `palette` without assigning `hue` is deprecated and will be removed in v0.14.0. Assign the `y` variable to `hue` and set `legend=False` for the same effect.\n",
      "\n",
      "  sns.barplot(x=mi_vals, y=features, palette=\"magma\")\n"
     ]
    },
    {
     "name": "stdout",
     "output_type": "stream",
     "text": [
      "Runtime for dbscan_clustering: 0.015983 seconds\n"
     ]
    },
    {
     "name": "stderr",
     "output_type": "stream",
     "text": [
      "c:\\Users\\fionu\\OneDrive\\Dokumente\\Daten Fiona\\AIUB\\Code\\AIUB-Backup\\clustering\\high_dim_analysis.py:138: FutureWarning: \n",
      "\n",
      "Passing `palette` without assigning `hue` is deprecated and will be removed in v0.14.0. Assign the `y` variable to `hue` and set `legend=False` for the same effect.\n",
      "\n",
      "  sns.barplot(x=mi_vals, y=features, palette=\"magma\")\n"
     ]
    },
    {
     "name": "stdout",
     "output_type": "stream",
     "text": [
      "Runtime for dbscan_clustering: 0.020161 seconds\n"
     ]
    },
    {
     "name": "stderr",
     "output_type": "stream",
     "text": [
      "c:\\Users\\fionu\\OneDrive\\Dokumente\\Daten Fiona\\AIUB\\Code\\AIUB-Backup\\clustering\\high_dim_analysis.py:42: FutureWarning: \n",
      "\n",
      "Passing `palette` without assigning `hue` is deprecated and will be removed in v0.14.0. Assign the `y` variable to `hue` and set `legend=False` for the same effect.\n",
      "\n",
      "  sns.barplot(x=f_vals, y=features, palette=\"crest\")\n"
     ]
    },
    {
     "name": "stdout",
     "output_type": "stream",
     "text": [
      "Best DBSCAN parameters based on ANOVA F-value:\n",
      "Year Range                                      2014-2017\n",
      "eps                                                  0.01\n",
      "min_samples                                            30\n",
      "Runtime (s)                                         0.016\n",
      "Clusters                                                4\n",
      "Points per Cluster       {0: 50, 1: 101, 2: 58, -1: 1688}\n",
      "Noise Points                                         1688\n",
      "Davies-Bouldin                                       None\n",
      "Calinski-Harabasz                                    None\n",
      "Weighted Mean ANOVA F                            97761.72\n",
      "Name: 7, dtype: object\n"
     ]
    },
    {
     "data": {
      "application/vnd.microsoft.datawrangler.viewer.v0+json": {
       "columns": [
        {
         "name": "index",
         "rawType": "int64",
         "type": "integer"
        },
        {
         "name": "Year Range",
         "rawType": "object",
         "type": "string"
        },
        {
         "name": "eps",
         "rawType": "float64",
         "type": "float"
        },
        {
         "name": "min_samples",
         "rawType": "int64",
         "type": "integer"
        },
        {
         "name": "Runtime (s)",
         "rawType": "object",
         "type": "string"
        },
        {
         "name": "Clusters",
         "rawType": "int64",
         "type": "integer"
        },
        {
         "name": "Points per Cluster",
         "rawType": "object",
         "type": "unknown"
        },
        {
         "name": "Noise Points",
         "rawType": "int32",
         "type": "integer"
        },
        {
         "name": "Davies-Bouldin",
         "rawType": "object",
         "type": "unknown"
        },
        {
         "name": "Calinski-Harabasz",
         "rawType": "object",
         "type": "unknown"
        },
        {
         "name": "Weighted Mean ANOVA F",
         "rawType": "float64",
         "type": "float"
        }
       ],
       "ref": "111b9e5b-53ed-46c0-994c-db2103e3ac67",
       "rows": [
        [
         "0",
         "2014-2017",
         "0.02",
         "10",
         "0.018",
         "10",
         "{0: 319, 1: 162, 2: 12, 3: 135, 4: 88, 5: 283, 6: 13, 7: 27, 8: 10, -1: 848}",
         "848",
         null,
         null,
         null
        ],
        [
         "1",
         "2014-2017",
         "0.02",
         "15",
         "0.018",
         "8",
         "{0: 227, 1: 157, 2: 134, 3: 88, 4: 273, 5: 47, 6: 20, -1: 951}",
         "951",
         null,
         null,
         null
        ],
        [
         "2",
         "2014-2017",
         "0.02",
         "25",
         "0.011",
         "8",
         "{0: 158, 1: 43, 2: 154, 3: 132, 4: 82, 5: 254, 6: 25, -1: 1049}",
         "1049",
         null,
         null,
         null
        ],
        [
         "3",
         "2014-2017",
         "0.02",
         "30",
         "0.014",
         "8",
         "{0: 155, 1: 30, 2: 144, 3: 128, 4: 82, 5: 173, 6: 66, -1: 1119}",
         "1119",
         null,
         null,
         "22186.146"
        ],
        [
         "4",
         "2014-2017",
         "0.01",
         "10",
         "0.007",
         "13",
         "{0: 127, 1: 12, 2: 122, 3: 122, 4: 72, 5: 41, 6: 123, 7: 11, 8: 14, 9: 8, 10: 10, 11: 11, -1: 1224}",
         "1224",
         null,
         null,
         null
        ],
        [
         "5",
         "2014-2017",
         "0.01",
         "15",
         "0.013",
         "8",
         "{0: 100, 1: 111, 2: 119, 3: 70, 4: 85, 5: 28, 6: 28, -1: 1356}",
         "1356",
         null,
         null,
         null
        ],
        [
         "6",
         "2014-2017",
         "0.01",
         "25",
         "0.000",
         "6",
         "{0: 62, 1: 102, 2: 68, 3: 47, 4: 39, -1: 1579}",
         "1579",
         null,
         null,
         null
        ],
        [
         "7",
         "2014-2017",
         "0.01",
         "30",
         "0.016",
         "4",
         "{0: 50, 1: 101, 2: 58, -1: 1688}",
         "1688",
         null,
         null,
         "97761.72"
        ],
        [
         "8",
         "2014-2017",
         "0.015",
         "10",
         "0.009",
         "10",
         "{0: 155, 1: 38, 2: 148, 3: 130, 4: 12, 5: 77, 6: 255, 7: 36, 8: 10, -1: 1036}",
         "1036",
         null,
         null,
         null
        ],
        [
         "9",
         "2014-2017",
         "0.015",
         "15",
         "0.015",
         "9",
         "{0: 152, 1: 35, 2: 139, 3: 124, 4: 77, 5: 164, 6: 73, 7: 23, -1: 1110}",
         "1110",
         null,
         null,
         null
        ],
        [
         "10",
         "2014-2017",
         "0.015",
         "25",
         "0.000",
         "7",
         "{0: 137, 1: 132, 2: 123, 3: 75, 4: 139, 5: 43, -1: 1248}",
         "1248",
         null,
         null,
         null
        ],
        [
         "11",
         "2014-2017",
         "0.015",
         "30",
         "0.016",
         "7",
         "{0: 130, 1: 132, 2: 123, 3: 72, 4: 94, 5: 30, -1: 1316}",
         "1316",
         null,
         null,
         "40774.673"
        ]
       ],
       "shape": {
        "columns": 10,
        "rows": 12
       }
      },
      "text/html": [
       "<div>\n",
       "<style scoped>\n",
       "    .dataframe tbody tr th:only-of-type {\n",
       "        vertical-align: middle;\n",
       "    }\n",
       "\n",
       "    .dataframe tbody tr th {\n",
       "        vertical-align: top;\n",
       "    }\n",
       "\n",
       "    .dataframe thead th {\n",
       "        text-align: right;\n",
       "    }\n",
       "</style>\n",
       "<table border=\"1\" class=\"dataframe\">\n",
       "  <thead>\n",
       "    <tr style=\"text-align: right;\">\n",
       "      <th></th>\n",
       "      <th>Year Range</th>\n",
       "      <th>eps</th>\n",
       "      <th>min_samples</th>\n",
       "      <th>Runtime (s)</th>\n",
       "      <th>Clusters</th>\n",
       "      <th>Points per Cluster</th>\n",
       "      <th>Noise Points</th>\n",
       "      <th>Davies-Bouldin</th>\n",
       "      <th>Calinski-Harabasz</th>\n",
       "      <th>Weighted Mean ANOVA F</th>\n",
       "    </tr>\n",
       "  </thead>\n",
       "  <tbody>\n",
       "    <tr>\n",
       "      <th>0</th>\n",
       "      <td>2014-2017</td>\n",
       "      <td>0.020</td>\n",
       "      <td>10</td>\n",
       "      <td>0.018</td>\n",
       "      <td>10</td>\n",
       "      <td>{0: 319, 1: 162, 2: 12, 3: 135, 4: 88, 5: 283,...</td>\n",
       "      <td>848</td>\n",
       "      <td>None</td>\n",
       "      <td>None</td>\n",
       "      <td>NaN</td>\n",
       "    </tr>\n",
       "    <tr>\n",
       "      <th>1</th>\n",
       "      <td>2014-2017</td>\n",
       "      <td>0.020</td>\n",
       "      <td>15</td>\n",
       "      <td>0.018</td>\n",
       "      <td>8</td>\n",
       "      <td>{0: 227, 1: 157, 2: 134, 3: 88, 4: 273, 5: 47,...</td>\n",
       "      <td>951</td>\n",
       "      <td>None</td>\n",
       "      <td>None</td>\n",
       "      <td>NaN</td>\n",
       "    </tr>\n",
       "    <tr>\n",
       "      <th>2</th>\n",
       "      <td>2014-2017</td>\n",
       "      <td>0.020</td>\n",
       "      <td>25</td>\n",
       "      <td>0.011</td>\n",
       "      <td>8</td>\n",
       "      <td>{0: 158, 1: 43, 2: 154, 3: 132, 4: 82, 5: 254,...</td>\n",
       "      <td>1049</td>\n",
       "      <td>None</td>\n",
       "      <td>None</td>\n",
       "      <td>NaN</td>\n",
       "    </tr>\n",
       "    <tr>\n",
       "      <th>3</th>\n",
       "      <td>2014-2017</td>\n",
       "      <td>0.020</td>\n",
       "      <td>30</td>\n",
       "      <td>0.014</td>\n",
       "      <td>8</td>\n",
       "      <td>{0: 155, 1: 30, 2: 144, 3: 128, 4: 82, 5: 173,...</td>\n",
       "      <td>1119</td>\n",
       "      <td>None</td>\n",
       "      <td>None</td>\n",
       "      <td>22186.146</td>\n",
       "    </tr>\n",
       "    <tr>\n",
       "      <th>4</th>\n",
       "      <td>2014-2017</td>\n",
       "      <td>0.010</td>\n",
       "      <td>10</td>\n",
       "      <td>0.007</td>\n",
       "      <td>13</td>\n",
       "      <td>{0: 127, 1: 12, 2: 122, 3: 122, 4: 72, 5: 41, ...</td>\n",
       "      <td>1224</td>\n",
       "      <td>None</td>\n",
       "      <td>None</td>\n",
       "      <td>NaN</td>\n",
       "    </tr>\n",
       "    <tr>\n",
       "      <th>5</th>\n",
       "      <td>2014-2017</td>\n",
       "      <td>0.010</td>\n",
       "      <td>15</td>\n",
       "      <td>0.013</td>\n",
       "      <td>8</td>\n",
       "      <td>{0: 100, 1: 111, 2: 119, 3: 70, 4: 85, 5: 28, ...</td>\n",
       "      <td>1356</td>\n",
       "      <td>None</td>\n",
       "      <td>None</td>\n",
       "      <td>NaN</td>\n",
       "    </tr>\n",
       "    <tr>\n",
       "      <th>6</th>\n",
       "      <td>2014-2017</td>\n",
       "      <td>0.010</td>\n",
       "      <td>25</td>\n",
       "      <td>0.000</td>\n",
       "      <td>6</td>\n",
       "      <td>{0: 62, 1: 102, 2: 68, 3: 47, 4: 39, -1: 1579}</td>\n",
       "      <td>1579</td>\n",
       "      <td>None</td>\n",
       "      <td>None</td>\n",
       "      <td>NaN</td>\n",
       "    </tr>\n",
       "    <tr>\n",
       "      <th>7</th>\n",
       "      <td>2014-2017</td>\n",
       "      <td>0.010</td>\n",
       "      <td>30</td>\n",
       "      <td>0.016</td>\n",
       "      <td>4</td>\n",
       "      <td>{0: 50, 1: 101, 2: 58, -1: 1688}</td>\n",
       "      <td>1688</td>\n",
       "      <td>None</td>\n",
       "      <td>None</td>\n",
       "      <td>97761.720</td>\n",
       "    </tr>\n",
       "    <tr>\n",
       "      <th>8</th>\n",
       "      <td>2014-2017</td>\n",
       "      <td>0.015</td>\n",
       "      <td>10</td>\n",
       "      <td>0.009</td>\n",
       "      <td>10</td>\n",
       "      <td>{0: 155, 1: 38, 2: 148, 3: 130, 4: 12, 5: 77, ...</td>\n",
       "      <td>1036</td>\n",
       "      <td>None</td>\n",
       "      <td>None</td>\n",
       "      <td>NaN</td>\n",
       "    </tr>\n",
       "    <tr>\n",
       "      <th>9</th>\n",
       "      <td>2014-2017</td>\n",
       "      <td>0.015</td>\n",
       "      <td>15</td>\n",
       "      <td>0.015</td>\n",
       "      <td>9</td>\n",
       "      <td>{0: 152, 1: 35, 2: 139, 3: 124, 4: 77, 5: 164,...</td>\n",
       "      <td>1110</td>\n",
       "      <td>None</td>\n",
       "      <td>None</td>\n",
       "      <td>NaN</td>\n",
       "    </tr>\n",
       "    <tr>\n",
       "      <th>10</th>\n",
       "      <td>2014-2017</td>\n",
       "      <td>0.015</td>\n",
       "      <td>25</td>\n",
       "      <td>0.000</td>\n",
       "      <td>7</td>\n",
       "      <td>{0: 137, 1: 132, 2: 123, 3: 75, 4: 139, 5: 43,...</td>\n",
       "      <td>1248</td>\n",
       "      <td>None</td>\n",
       "      <td>None</td>\n",
       "      <td>NaN</td>\n",
       "    </tr>\n",
       "    <tr>\n",
       "      <th>11</th>\n",
       "      <td>2014-2017</td>\n",
       "      <td>0.015</td>\n",
       "      <td>30</td>\n",
       "      <td>0.016</td>\n",
       "      <td>7</td>\n",
       "      <td>{0: 130, 1: 132, 2: 123, 3: 72, 4: 94, 5: 30, ...</td>\n",
       "      <td>1316</td>\n",
       "      <td>None</td>\n",
       "      <td>None</td>\n",
       "      <td>40774.673</td>\n",
       "    </tr>\n",
       "  </tbody>\n",
       "</table>\n",
       "</div>"
      ],
      "text/plain": [
       "   Year Range    eps  min_samples Runtime (s)  Clusters  \\\n",
       "0   2014-2017  0.020           10       0.018        10   \n",
       "1   2014-2017  0.020           15       0.018         8   \n",
       "2   2014-2017  0.020           25       0.011         8   \n",
       "3   2014-2017  0.020           30       0.014         8   \n",
       "4   2014-2017  0.010           10       0.007        13   \n",
       "5   2014-2017  0.010           15       0.013         8   \n",
       "6   2014-2017  0.010           25       0.000         6   \n",
       "7   2014-2017  0.010           30       0.016         4   \n",
       "8   2014-2017  0.015           10       0.009        10   \n",
       "9   2014-2017  0.015           15       0.015         9   \n",
       "10  2014-2017  0.015           25       0.000         7   \n",
       "11  2014-2017  0.015           30       0.016         7   \n",
       "\n",
       "                                   Points per Cluster  Noise Points  \\\n",
       "0   {0: 319, 1: 162, 2: 12, 3: 135, 4: 88, 5: 283,...           848   \n",
       "1   {0: 227, 1: 157, 2: 134, 3: 88, 4: 273, 5: 47,...           951   \n",
       "2   {0: 158, 1: 43, 2: 154, 3: 132, 4: 82, 5: 254,...          1049   \n",
       "3   {0: 155, 1: 30, 2: 144, 3: 128, 4: 82, 5: 173,...          1119   \n",
       "4   {0: 127, 1: 12, 2: 122, 3: 122, 4: 72, 5: 41, ...          1224   \n",
       "5   {0: 100, 1: 111, 2: 119, 3: 70, 4: 85, 5: 28, ...          1356   \n",
       "6      {0: 62, 1: 102, 2: 68, 3: 47, 4: 39, -1: 1579}          1579   \n",
       "7                    {0: 50, 1: 101, 2: 58, -1: 1688}          1688   \n",
       "8   {0: 155, 1: 38, 2: 148, 3: 130, 4: 12, 5: 77, ...          1036   \n",
       "9   {0: 152, 1: 35, 2: 139, 3: 124, 4: 77, 5: 164,...          1110   \n",
       "10  {0: 137, 1: 132, 2: 123, 3: 75, 4: 139, 5: 43,...          1248   \n",
       "11  {0: 130, 1: 132, 2: 123, 3: 72, 4: 94, 5: 30, ...          1316   \n",
       "\n",
       "   Davies-Bouldin Calinski-Harabasz  Weighted Mean ANOVA F  \n",
       "0            None              None                    NaN  \n",
       "1            None              None                    NaN  \n",
       "2            None              None                    NaN  \n",
       "3            None              None              22186.146  \n",
       "4            None              None                    NaN  \n",
       "5            None              None                    NaN  \n",
       "6            None              None                    NaN  \n",
       "7            None              None              97761.720  \n",
       "8            None              None                    NaN  \n",
       "9            None              None                    NaN  \n",
       "10           None              None                    NaN  \n",
       "11           None              None              40774.673  "
      ]
     },
     "metadata": {},
     "output_type": "display_data"
    },
    {
     "name": "stdout",
     "output_type": "stream",
     "text": [
      "\n",
      "Running DBSCAN for Year Range: 2015-2018\n",
      "Runtime for dbscan_clustering: 0.027486 seconds\n"
     ]
    },
    {
     "name": "stderr",
     "output_type": "stream",
     "text": [
      "c:\\Users\\fionu\\OneDrive\\Dokumente\\Daten Fiona\\AIUB\\Code\\AIUB-Backup\\clustering\\high_dim_analysis.py:138: FutureWarning: \n",
      "\n",
      "Passing `palette` without assigning `hue` is deprecated and will be removed in v0.14.0. Assign the `y` variable to `hue` and set `legend=False` for the same effect.\n",
      "\n",
      "  sns.barplot(x=mi_vals, y=features, palette=\"magma\")\n"
     ]
    },
    {
     "name": "stdout",
     "output_type": "stream",
     "text": [
      "Runtime for dbscan_clustering: 0.027467 seconds\n"
     ]
    },
    {
     "name": "stderr",
     "output_type": "stream",
     "text": [
      "c:\\Users\\fionu\\OneDrive\\Dokumente\\Daten Fiona\\AIUB\\Code\\AIUB-Backup\\clustering\\high_dim_analysis.py:138: FutureWarning: \n",
      "\n",
      "Passing `palette` without assigning `hue` is deprecated and will be removed in v0.14.0. Assign the `y` variable to `hue` and set `legend=False` for the same effect.\n",
      "\n",
      "  sns.barplot(x=mi_vals, y=features, palette=\"magma\")\n"
     ]
    },
    {
     "name": "stdout",
     "output_type": "stream",
     "text": [
      "Runtime for dbscan_clustering: 0.019040 seconds\n"
     ]
    },
    {
     "name": "stderr",
     "output_type": "stream",
     "text": [
      "c:\\Users\\fionu\\OneDrive\\Dokumente\\Daten Fiona\\AIUB\\Code\\AIUB-Backup\\clustering\\high_dim_analysis.py:138: FutureWarning: \n",
      "\n",
      "Passing `palette` without assigning `hue` is deprecated and will be removed in v0.14.0. Assign the `y` variable to `hue` and set `legend=False` for the same effect.\n",
      "\n",
      "  sns.barplot(x=mi_vals, y=features, palette=\"magma\")\n"
     ]
    },
    {
     "name": "stdout",
     "output_type": "stream",
     "text": [
      "Runtime for dbscan_clustering: 0.028302 seconds\n"
     ]
    },
    {
     "name": "stderr",
     "output_type": "stream",
     "text": [
      "c:\\Users\\fionu\\OneDrive\\Dokumente\\Daten Fiona\\AIUB\\Code\\AIUB-Backup\\clustering\\high_dim_analysis.py:138: FutureWarning: \n",
      "\n",
      "Passing `palette` without assigning `hue` is deprecated and will be removed in v0.14.0. Assign the `y` variable to `hue` and set `legend=False` for the same effect.\n",
      "\n",
      "  sns.barplot(x=mi_vals, y=features, palette=\"magma\")\n"
     ]
    },
    {
     "name": "stdout",
     "output_type": "stream",
     "text": [
      "Runtime for dbscan_clustering: 0.019008 seconds\n"
     ]
    },
    {
     "name": "stderr",
     "output_type": "stream",
     "text": [
      "c:\\Users\\fionu\\OneDrive\\Dokumente\\Daten Fiona\\AIUB\\Code\\AIUB-Backup\\clustering\\high_dim_analysis.py:138: FutureWarning: \n",
      "\n",
      "Passing `palette` without assigning `hue` is deprecated and will be removed in v0.14.0. Assign the `y` variable to `hue` and set `legend=False` for the same effect.\n",
      "\n",
      "  sns.barplot(x=mi_vals, y=features, palette=\"magma\")\n"
     ]
    },
    {
     "name": "stdout",
     "output_type": "stream",
     "text": [
      "Runtime for dbscan_clustering: 0.015790 seconds\n"
     ]
    },
    {
     "name": "stderr",
     "output_type": "stream",
     "text": [
      "c:\\Users\\fionu\\OneDrive\\Dokumente\\Daten Fiona\\AIUB\\Code\\AIUB-Backup\\clustering\\high_dim_analysis.py:138: FutureWarning: \n",
      "\n",
      "Passing `palette` without assigning `hue` is deprecated and will be removed in v0.14.0. Assign the `y` variable to `hue` and set `legend=False` for the same effect.\n",
      "\n",
      "  sns.barplot(x=mi_vals, y=features, palette=\"magma\")\n"
     ]
    },
    {
     "name": "stdout",
     "output_type": "stream",
     "text": [
      "Runtime for dbscan_clustering: 0.024023 seconds\n"
     ]
    },
    {
     "name": "stderr",
     "output_type": "stream",
     "text": [
      "c:\\Users\\fionu\\OneDrive\\Dokumente\\Daten Fiona\\AIUB\\Code\\AIUB-Backup\\clustering\\high_dim_analysis.py:138: FutureWarning: \n",
      "\n",
      "Passing `palette` without assigning `hue` is deprecated and will be removed in v0.14.0. Assign the `y` variable to `hue` and set `legend=False` for the same effect.\n",
      "\n",
      "  sns.barplot(x=mi_vals, y=features, palette=\"magma\")\n"
     ]
    },
    {
     "name": "stdout",
     "output_type": "stream",
     "text": [
      "Runtime for dbscan_clustering: 0.024925 seconds\n"
     ]
    },
    {
     "name": "stderr",
     "output_type": "stream",
     "text": [
      "c:\\Users\\fionu\\OneDrive\\Dokumente\\Daten Fiona\\AIUB\\Code\\AIUB-Backup\\clustering\\high_dim_analysis.py:138: FutureWarning: \n",
      "\n",
      "Passing `palette` without assigning `hue` is deprecated and will be removed in v0.14.0. Assign the `y` variable to `hue` and set `legend=False` for the same effect.\n",
      "\n",
      "  sns.barplot(x=mi_vals, y=features, palette=\"magma\")\n"
     ]
    },
    {
     "name": "stdout",
     "output_type": "stream",
     "text": [
      "Runtime for dbscan_clustering: 0.000000 seconds\n"
     ]
    },
    {
     "name": "stderr",
     "output_type": "stream",
     "text": [
      "c:\\Users\\fionu\\OneDrive\\Dokumente\\Daten Fiona\\AIUB\\Code\\AIUB-Backup\\clustering\\high_dim_analysis.py:138: FutureWarning: \n",
      "\n",
      "Passing `palette` without assigning `hue` is deprecated and will be removed in v0.14.0. Assign the `y` variable to `hue` and set `legend=False` for the same effect.\n",
      "\n",
      "  sns.barplot(x=mi_vals, y=features, palette=\"magma\")\n"
     ]
    },
    {
     "name": "stdout",
     "output_type": "stream",
     "text": [
      "Runtime for dbscan_clustering: 0.018963 seconds\n"
     ]
    },
    {
     "name": "stderr",
     "output_type": "stream",
     "text": [
      "c:\\Users\\fionu\\OneDrive\\Dokumente\\Daten Fiona\\AIUB\\Code\\AIUB-Backup\\clustering\\high_dim_analysis.py:138: FutureWarning: \n",
      "\n",
      "Passing `palette` without assigning `hue` is deprecated and will be removed in v0.14.0. Assign the `y` variable to `hue` and set `legend=False` for the same effect.\n",
      "\n",
      "  sns.barplot(x=mi_vals, y=features, palette=\"magma\")\n"
     ]
    },
    {
     "name": "stdout",
     "output_type": "stream",
     "text": [
      "Runtime for dbscan_clustering: 0.030074 seconds\n"
     ]
    },
    {
     "name": "stderr",
     "output_type": "stream",
     "text": [
      "c:\\Users\\fionu\\OneDrive\\Dokumente\\Daten Fiona\\AIUB\\Code\\AIUB-Backup\\clustering\\high_dim_analysis.py:138: FutureWarning: \n",
      "\n",
      "Passing `palette` without assigning `hue` is deprecated and will be removed in v0.14.0. Assign the `y` variable to `hue` and set `legend=False` for the same effect.\n",
      "\n",
      "  sns.barplot(x=mi_vals, y=features, palette=\"magma\")\n"
     ]
    },
    {
     "name": "stdout",
     "output_type": "stream",
     "text": [
      "Runtime for dbscan_clustering: 0.021042 seconds\n"
     ]
    },
    {
     "name": "stderr",
     "output_type": "stream",
     "text": [
      "c:\\Users\\fionu\\OneDrive\\Dokumente\\Daten Fiona\\AIUB\\Code\\AIUB-Backup\\clustering\\high_dim_analysis.py:138: FutureWarning: \n",
      "\n",
      "Passing `palette` without assigning `hue` is deprecated and will be removed in v0.14.0. Assign the `y` variable to `hue` and set `legend=False` for the same effect.\n",
      "\n",
      "  sns.barplot(x=mi_vals, y=features, palette=\"magma\")\n"
     ]
    },
    {
     "name": "stdout",
     "output_type": "stream",
     "text": [
      "Runtime for dbscan_clustering: 0.018087 seconds\n"
     ]
    },
    {
     "name": "stderr",
     "output_type": "stream",
     "text": [
      "c:\\Users\\fionu\\OneDrive\\Dokumente\\Daten Fiona\\AIUB\\Code\\AIUB-Backup\\clustering\\high_dim_analysis.py:42: FutureWarning: \n",
      "\n",
      "Passing `palette` without assigning `hue` is deprecated and will be removed in v0.14.0. Assign the `y` variable to `hue` and set `legend=False` for the same effect.\n",
      "\n",
      "  sns.barplot(x=f_vals, y=features, palette=\"crest\")\n"
     ]
    },
    {
     "name": "stdout",
     "output_type": "stream",
     "text": [
      "Best DBSCAN parameters based on ANOVA F-value:\n",
      "Year Range                                                       2015-2018\n",
      "eps                                                                   0.01\n",
      "min_samples                                                             30\n",
      "Runtime (s)                                                          0.025\n",
      "Clusters                                                                 7\n",
      "Points per Cluster       {0: 80, 1: 101, 2: 68, 3: 207, 4: 102, 5: 173,...\n",
      "Noise Points                                                          1911\n",
      "Davies-Bouldin                                                        None\n",
      "Calinski-Harabasz                                                     None\n",
      "Weighted Mean ANOVA F                                            92810.814\n",
      "Name: 7, dtype: object\n"
     ]
    },
    {
     "data": {
      "application/vnd.microsoft.datawrangler.viewer.v0+json": {
       "columns": [
        {
         "name": "index",
         "rawType": "int64",
         "type": "integer"
        },
        {
         "name": "Year Range",
         "rawType": "object",
         "type": "string"
        },
        {
         "name": "eps",
         "rawType": "float64",
         "type": "float"
        },
        {
         "name": "min_samples",
         "rawType": "int64",
         "type": "integer"
        },
        {
         "name": "Runtime (s)",
         "rawType": "object",
         "type": "string"
        },
        {
         "name": "Clusters",
         "rawType": "int64",
         "type": "integer"
        },
        {
         "name": "Points per Cluster",
         "rawType": "object",
         "type": "unknown"
        },
        {
         "name": "Noise Points",
         "rawType": "int32",
         "type": "integer"
        },
        {
         "name": "Davies-Bouldin",
         "rawType": "object",
         "type": "unknown"
        },
        {
         "name": "Calinski-Harabasz",
         "rawType": "object",
         "type": "unknown"
        },
        {
         "name": "Weighted Mean ANOVA F",
         "rawType": "float64",
         "type": "float"
        }
       ],
       "ref": "7198ca06-069d-4556-b8a7-ca0865c9a57b",
       "rows": [
        [
         "0",
         "2015-2018",
         "0.02",
         "10",
         "0.027",
         "13",
         "{0: 29, 1: 899, 2: 167, 3: 16, 4: 135, 5: 293, 6: 12, 7: 19, 8: 14, 9: 47, 10: 18, 11: 6, -1: 987}",
         "987",
         null,
         null,
         null
        ],
        [
         "1",
         "2015-2018",
         "0.02",
         "15",
         "0.027",
         "9",
         "{0: 354, 1: 163, 2: 18, 3: 134, 4: 293, 5: 512, 6: 18, 7: 44, -1: 1106}",
         "1106",
         null,
         null,
         null
        ],
        [
         "2",
         "2015-2018",
         "0.02",
         "25",
         "0.019",
         "9",
         "{0: 49, 1: 224, 2: 159, 3: 132, 4: 292, 5: 497, 6: 30, 7: 37, -1: 1222}",
         "1222",
         null,
         null,
         null
        ],
        [
         "3",
         "2015-2018",
         "0.02",
         "30",
         "0.028",
         "6",
         "{0: 191, 1: 151, 2: 128, 3: 286, 4: 485, -1: 1401}",
         "1401",
         null,
         null,
         "21211.696"
        ],
        [
         "4",
         "2015-2018",
         "0.01",
         "10",
         "0.019",
         "13",
         "{0: 160, 1: 12, 2: 128, 3: 122, 4: 257, 5: 12, 6: 138, 7: 265, 8: 12, 9: 9, 10: 20, 11: 11, -1: 1496}",
         "1496",
         null,
         null,
         null
        ],
        [
         "5",
         "2015-2018",
         "0.01",
         "15",
         "0.016",
         "7",
         "{0: 125, 1: 118, 2: 119, 3: 236, 4: 137, 5: 254, -1: 1653}",
         "1653",
         null,
         null,
         null
        ],
        [
         "6",
         "2015-2018",
         "0.01",
         "25",
         "0.024",
         "9",
         "{0: 89, 1: 102, 2: 74, 3: 214, 4: 103, 5: 202, 6: 40, 7: 25, -1: 1793}",
         "1793",
         null,
         null,
         null
        ],
        [
         "7",
         "2015-2018",
         "0.01",
         "30",
         "0.025",
         "7",
         "{0: 80, 1: 101, 2: 68, 3: 207, 4: 102, 5: 173, -1: 1911}",
         "1911",
         null,
         null,
         "92810.814"
        ],
        [
         "8",
         "2015-2018",
         "0.015",
         "10",
         "0.000",
         "12",
         "{0: 226, 1: 86, 2: 154, 3: 16, 4: 130, 5: 289, 6: 490, 7: 17, 8: 42, 9: 10, 10: 12, -1: 1170}",
         "1170",
         null,
         null,
         null
        ],
        [
         "9",
         "2015-2018",
         "0.015",
         "15",
         "0.019",
         "12",
         "{0: 35, 1: 184, 2: 146, 3: 124, 4: 15, 5: 285, 6: 459, 7: 30, 8: 28, 9: 15, 10: 15, -1: 1306}",
         "1306",
         null,
         null,
         null
        ],
        [
         "10",
         "2015-2018",
         "0.015",
         "25",
         "0.030",
         "7",
         "{0: 174, 1: 138, 2: 123, 3: 260, 4: 161, 5: 276, -1: 1510}",
         "1510",
         null,
         null,
         null
        ],
        [
         "11",
         "2015-2018",
         "0.015",
         "30",
         "0.021",
         "7",
         "{0: 160, 1: 138, 2: 123, 3: 240, 4: 159, 5: 274, -1: 1548}",
         "1548",
         null,
         null,
         "51851.49"
        ]
       ],
       "shape": {
        "columns": 10,
        "rows": 12
       }
      },
      "text/html": [
       "<div>\n",
       "<style scoped>\n",
       "    .dataframe tbody tr th:only-of-type {\n",
       "        vertical-align: middle;\n",
       "    }\n",
       "\n",
       "    .dataframe tbody tr th {\n",
       "        vertical-align: top;\n",
       "    }\n",
       "\n",
       "    .dataframe thead th {\n",
       "        text-align: right;\n",
       "    }\n",
       "</style>\n",
       "<table border=\"1\" class=\"dataframe\">\n",
       "  <thead>\n",
       "    <tr style=\"text-align: right;\">\n",
       "      <th></th>\n",
       "      <th>Year Range</th>\n",
       "      <th>eps</th>\n",
       "      <th>min_samples</th>\n",
       "      <th>Runtime (s)</th>\n",
       "      <th>Clusters</th>\n",
       "      <th>Points per Cluster</th>\n",
       "      <th>Noise Points</th>\n",
       "      <th>Davies-Bouldin</th>\n",
       "      <th>Calinski-Harabasz</th>\n",
       "      <th>Weighted Mean ANOVA F</th>\n",
       "    </tr>\n",
       "  </thead>\n",
       "  <tbody>\n",
       "    <tr>\n",
       "      <th>0</th>\n",
       "      <td>2015-2018</td>\n",
       "      <td>0.020</td>\n",
       "      <td>10</td>\n",
       "      <td>0.027</td>\n",
       "      <td>13</td>\n",
       "      <td>{0: 29, 1: 899, 2: 167, 3: 16, 4: 135, 5: 293,...</td>\n",
       "      <td>987</td>\n",
       "      <td>None</td>\n",
       "      <td>None</td>\n",
       "      <td>NaN</td>\n",
       "    </tr>\n",
       "    <tr>\n",
       "      <th>1</th>\n",
       "      <td>2015-2018</td>\n",
       "      <td>0.020</td>\n",
       "      <td>15</td>\n",
       "      <td>0.027</td>\n",
       "      <td>9</td>\n",
       "      <td>{0: 354, 1: 163, 2: 18, 3: 134, 4: 293, 5: 512...</td>\n",
       "      <td>1106</td>\n",
       "      <td>None</td>\n",
       "      <td>None</td>\n",
       "      <td>NaN</td>\n",
       "    </tr>\n",
       "    <tr>\n",
       "      <th>2</th>\n",
       "      <td>2015-2018</td>\n",
       "      <td>0.020</td>\n",
       "      <td>25</td>\n",
       "      <td>0.019</td>\n",
       "      <td>9</td>\n",
       "      <td>{0: 49, 1: 224, 2: 159, 3: 132, 4: 292, 5: 497...</td>\n",
       "      <td>1222</td>\n",
       "      <td>None</td>\n",
       "      <td>None</td>\n",
       "      <td>NaN</td>\n",
       "    </tr>\n",
       "    <tr>\n",
       "      <th>3</th>\n",
       "      <td>2015-2018</td>\n",
       "      <td>0.020</td>\n",
       "      <td>30</td>\n",
       "      <td>0.028</td>\n",
       "      <td>6</td>\n",
       "      <td>{0: 191, 1: 151, 2: 128, 3: 286, 4: 485, -1: 1...</td>\n",
       "      <td>1401</td>\n",
       "      <td>None</td>\n",
       "      <td>None</td>\n",
       "      <td>21211.696</td>\n",
       "    </tr>\n",
       "    <tr>\n",
       "      <th>4</th>\n",
       "      <td>2015-2018</td>\n",
       "      <td>0.010</td>\n",
       "      <td>10</td>\n",
       "      <td>0.019</td>\n",
       "      <td>13</td>\n",
       "      <td>{0: 160, 1: 12, 2: 128, 3: 122, 4: 257, 5: 12,...</td>\n",
       "      <td>1496</td>\n",
       "      <td>None</td>\n",
       "      <td>None</td>\n",
       "      <td>NaN</td>\n",
       "    </tr>\n",
       "    <tr>\n",
       "      <th>5</th>\n",
       "      <td>2015-2018</td>\n",
       "      <td>0.010</td>\n",
       "      <td>15</td>\n",
       "      <td>0.016</td>\n",
       "      <td>7</td>\n",
       "      <td>{0: 125, 1: 118, 2: 119, 3: 236, 4: 137, 5: 25...</td>\n",
       "      <td>1653</td>\n",
       "      <td>None</td>\n",
       "      <td>None</td>\n",
       "      <td>NaN</td>\n",
       "    </tr>\n",
       "    <tr>\n",
       "      <th>6</th>\n",
       "      <td>2015-2018</td>\n",
       "      <td>0.010</td>\n",
       "      <td>25</td>\n",
       "      <td>0.024</td>\n",
       "      <td>9</td>\n",
       "      <td>{0: 89, 1: 102, 2: 74, 3: 214, 4: 103, 5: 202,...</td>\n",
       "      <td>1793</td>\n",
       "      <td>None</td>\n",
       "      <td>None</td>\n",
       "      <td>NaN</td>\n",
       "    </tr>\n",
       "    <tr>\n",
       "      <th>7</th>\n",
       "      <td>2015-2018</td>\n",
       "      <td>0.010</td>\n",
       "      <td>30</td>\n",
       "      <td>0.025</td>\n",
       "      <td>7</td>\n",
       "      <td>{0: 80, 1: 101, 2: 68, 3: 207, 4: 102, 5: 173,...</td>\n",
       "      <td>1911</td>\n",
       "      <td>None</td>\n",
       "      <td>None</td>\n",
       "      <td>92810.814</td>\n",
       "    </tr>\n",
       "    <tr>\n",
       "      <th>8</th>\n",
       "      <td>2015-2018</td>\n",
       "      <td>0.015</td>\n",
       "      <td>10</td>\n",
       "      <td>0.000</td>\n",
       "      <td>12</td>\n",
       "      <td>{0: 226, 1: 86, 2: 154, 3: 16, 4: 130, 5: 289,...</td>\n",
       "      <td>1170</td>\n",
       "      <td>None</td>\n",
       "      <td>None</td>\n",
       "      <td>NaN</td>\n",
       "    </tr>\n",
       "    <tr>\n",
       "      <th>9</th>\n",
       "      <td>2015-2018</td>\n",
       "      <td>0.015</td>\n",
       "      <td>15</td>\n",
       "      <td>0.019</td>\n",
       "      <td>12</td>\n",
       "      <td>{0: 35, 1: 184, 2: 146, 3: 124, 4: 15, 5: 285,...</td>\n",
       "      <td>1306</td>\n",
       "      <td>None</td>\n",
       "      <td>None</td>\n",
       "      <td>NaN</td>\n",
       "    </tr>\n",
       "    <tr>\n",
       "      <th>10</th>\n",
       "      <td>2015-2018</td>\n",
       "      <td>0.015</td>\n",
       "      <td>25</td>\n",
       "      <td>0.030</td>\n",
       "      <td>7</td>\n",
       "      <td>{0: 174, 1: 138, 2: 123, 3: 260, 4: 161, 5: 27...</td>\n",
       "      <td>1510</td>\n",
       "      <td>None</td>\n",
       "      <td>None</td>\n",
       "      <td>NaN</td>\n",
       "    </tr>\n",
       "    <tr>\n",
       "      <th>11</th>\n",
       "      <td>2015-2018</td>\n",
       "      <td>0.015</td>\n",
       "      <td>30</td>\n",
       "      <td>0.021</td>\n",
       "      <td>7</td>\n",
       "      <td>{0: 160, 1: 138, 2: 123, 3: 240, 4: 159, 5: 27...</td>\n",
       "      <td>1548</td>\n",
       "      <td>None</td>\n",
       "      <td>None</td>\n",
       "      <td>51851.490</td>\n",
       "    </tr>\n",
       "  </tbody>\n",
       "</table>\n",
       "</div>"
      ],
      "text/plain": [
       "   Year Range    eps  min_samples Runtime (s)  Clusters  \\\n",
       "0   2015-2018  0.020           10       0.027        13   \n",
       "1   2015-2018  0.020           15       0.027         9   \n",
       "2   2015-2018  0.020           25       0.019         9   \n",
       "3   2015-2018  0.020           30       0.028         6   \n",
       "4   2015-2018  0.010           10       0.019        13   \n",
       "5   2015-2018  0.010           15       0.016         7   \n",
       "6   2015-2018  0.010           25       0.024         9   \n",
       "7   2015-2018  0.010           30       0.025         7   \n",
       "8   2015-2018  0.015           10       0.000        12   \n",
       "9   2015-2018  0.015           15       0.019        12   \n",
       "10  2015-2018  0.015           25       0.030         7   \n",
       "11  2015-2018  0.015           30       0.021         7   \n",
       "\n",
       "                                   Points per Cluster  Noise Points  \\\n",
       "0   {0: 29, 1: 899, 2: 167, 3: 16, 4: 135, 5: 293,...           987   \n",
       "1   {0: 354, 1: 163, 2: 18, 3: 134, 4: 293, 5: 512...          1106   \n",
       "2   {0: 49, 1: 224, 2: 159, 3: 132, 4: 292, 5: 497...          1222   \n",
       "3   {0: 191, 1: 151, 2: 128, 3: 286, 4: 485, -1: 1...          1401   \n",
       "4   {0: 160, 1: 12, 2: 128, 3: 122, 4: 257, 5: 12,...          1496   \n",
       "5   {0: 125, 1: 118, 2: 119, 3: 236, 4: 137, 5: 25...          1653   \n",
       "6   {0: 89, 1: 102, 2: 74, 3: 214, 4: 103, 5: 202,...          1793   \n",
       "7   {0: 80, 1: 101, 2: 68, 3: 207, 4: 102, 5: 173,...          1911   \n",
       "8   {0: 226, 1: 86, 2: 154, 3: 16, 4: 130, 5: 289,...          1170   \n",
       "9   {0: 35, 1: 184, 2: 146, 3: 124, 4: 15, 5: 285,...          1306   \n",
       "10  {0: 174, 1: 138, 2: 123, 3: 260, 4: 161, 5: 27...          1510   \n",
       "11  {0: 160, 1: 138, 2: 123, 3: 240, 4: 159, 5: 27...          1548   \n",
       "\n",
       "   Davies-Bouldin Calinski-Harabasz  Weighted Mean ANOVA F  \n",
       "0            None              None                    NaN  \n",
       "1            None              None                    NaN  \n",
       "2            None              None                    NaN  \n",
       "3            None              None              21211.696  \n",
       "4            None              None                    NaN  \n",
       "5            None              None                    NaN  \n",
       "6            None              None                    NaN  \n",
       "7            None              None              92810.814  \n",
       "8            None              None                    NaN  \n",
       "9            None              None                    NaN  \n",
       "10           None              None                    NaN  \n",
       "11           None              None              51851.490  "
      ]
     },
     "metadata": {},
     "output_type": "display_data"
    },
    {
     "name": "stdout",
     "output_type": "stream",
     "text": [
      "\n",
      "Running DBSCAN for Year Range: 2016-2019\n",
      "Runtime for dbscan_clustering: 0.020405 seconds\n"
     ]
    },
    {
     "name": "stderr",
     "output_type": "stream",
     "text": [
      "c:\\Users\\fionu\\OneDrive\\Dokumente\\Daten Fiona\\AIUB\\Code\\AIUB-Backup\\clustering\\high_dim_analysis.py:138: FutureWarning: \n",
      "\n",
      "Passing `palette` without assigning `hue` is deprecated and will be removed in v0.14.0. Assign the `y` variable to `hue` and set `legend=False` for the same effect.\n",
      "\n",
      "  sns.barplot(x=mi_vals, y=features, palette=\"magma\")\n"
     ]
    },
    {
     "name": "stdout",
     "output_type": "stream",
     "text": [
      "Runtime for dbscan_clustering: 0.016423 seconds\n"
     ]
    },
    {
     "name": "stderr",
     "output_type": "stream",
     "text": [
      "c:\\Users\\fionu\\OneDrive\\Dokumente\\Daten Fiona\\AIUB\\Code\\AIUB-Backup\\clustering\\high_dim_analysis.py:138: FutureWarning: \n",
      "\n",
      "Passing `palette` without assigning `hue` is deprecated and will be removed in v0.14.0. Assign the `y` variable to `hue` and set `legend=False` for the same effect.\n",
      "\n",
      "  sns.barplot(x=mi_vals, y=features, palette=\"magma\")\n"
     ]
    },
    {
     "name": "stdout",
     "output_type": "stream",
     "text": [
      "Runtime for dbscan_clustering: 0.041530 seconds\n"
     ]
    },
    {
     "name": "stderr",
     "output_type": "stream",
     "text": [
      "c:\\Users\\fionu\\OneDrive\\Dokumente\\Daten Fiona\\AIUB\\Code\\AIUB-Backup\\clustering\\high_dim_analysis.py:138: FutureWarning: \n",
      "\n",
      "Passing `palette` without assigning `hue` is deprecated and will be removed in v0.14.0. Assign the `y` variable to `hue` and set `legend=False` for the same effect.\n",
      "\n",
      "  sns.barplot(x=mi_vals, y=features, palette=\"magma\")\n"
     ]
    },
    {
     "name": "stdout",
     "output_type": "stream",
     "text": [
      "Runtime for dbscan_clustering: 0.000000 seconds\n"
     ]
    },
    {
     "name": "stderr",
     "output_type": "stream",
     "text": [
      "c:\\Users\\fionu\\OneDrive\\Dokumente\\Daten Fiona\\AIUB\\Code\\AIUB-Backup\\clustering\\high_dim_analysis.py:138: FutureWarning: \n",
      "\n",
      "Passing `palette` without assigning `hue` is deprecated and will be removed in v0.14.0. Assign the `y` variable to `hue` and set `legend=False` for the same effect.\n",
      "\n",
      "  sns.barplot(x=mi_vals, y=features, palette=\"magma\")\n"
     ]
    },
    {
     "name": "stdout",
     "output_type": "stream",
     "text": [
      "Runtime for dbscan_clustering: 0.022971 seconds\n"
     ]
    },
    {
     "name": "stderr",
     "output_type": "stream",
     "text": [
      "c:\\Users\\fionu\\OneDrive\\Dokumente\\Daten Fiona\\AIUB\\Code\\AIUB-Backup\\clustering\\high_dim_analysis.py:138: FutureWarning: \n",
      "\n",
      "Passing `palette` without assigning `hue` is deprecated and will be removed in v0.14.0. Assign the `y` variable to `hue` and set `legend=False` for the same effect.\n",
      "\n",
      "  sns.barplot(x=mi_vals, y=features, palette=\"magma\")\n"
     ]
    },
    {
     "name": "stdout",
     "output_type": "stream",
     "text": [
      "Runtime for dbscan_clustering: 0.026036 seconds\n"
     ]
    },
    {
     "name": "stderr",
     "output_type": "stream",
     "text": [
      "c:\\Users\\fionu\\OneDrive\\Dokumente\\Daten Fiona\\AIUB\\Code\\AIUB-Backup\\clustering\\high_dim_analysis.py:138: FutureWarning: \n",
      "\n",
      "Passing `palette` without assigning `hue` is deprecated and will be removed in v0.14.0. Assign the `y` variable to `hue` and set `legend=False` for the same effect.\n",
      "\n",
      "  sns.barplot(x=mi_vals, y=features, palette=\"magma\")\n"
     ]
    },
    {
     "name": "stdout",
     "output_type": "stream",
     "text": [
      "Runtime for dbscan_clustering: 0.016807 seconds\n"
     ]
    },
    {
     "name": "stderr",
     "output_type": "stream",
     "text": [
      "c:\\Users\\fionu\\OneDrive\\Dokumente\\Daten Fiona\\AIUB\\Code\\AIUB-Backup\\clustering\\high_dim_analysis.py:138: FutureWarning: \n",
      "\n",
      "Passing `palette` without assigning `hue` is deprecated and will be removed in v0.14.0. Assign the `y` variable to `hue` and set `legend=False` for the same effect.\n",
      "\n",
      "  sns.barplot(x=mi_vals, y=features, palette=\"magma\")\n"
     ]
    },
    {
     "name": "stdout",
     "output_type": "stream",
     "text": [
      "Runtime for dbscan_clustering: 0.023944 seconds\n"
     ]
    },
    {
     "name": "stderr",
     "output_type": "stream",
     "text": [
      "c:\\Users\\fionu\\OneDrive\\Dokumente\\Daten Fiona\\AIUB\\Code\\AIUB-Backup\\clustering\\high_dim_analysis.py:138: FutureWarning: \n",
      "\n",
      "Passing `palette` without assigning `hue` is deprecated and will be removed in v0.14.0. Assign the `y` variable to `hue` and set `legend=False` for the same effect.\n",
      "\n",
      "  sns.barplot(x=mi_vals, y=features, palette=\"magma\")\n"
     ]
    },
    {
     "name": "stdout",
     "output_type": "stream",
     "text": [
      "Runtime for dbscan_clustering: 0.023051 seconds\n"
     ]
    },
    {
     "name": "stderr",
     "output_type": "stream",
     "text": [
      "c:\\Users\\fionu\\OneDrive\\Dokumente\\Daten Fiona\\AIUB\\Code\\AIUB-Backup\\clustering\\high_dim_analysis.py:138: FutureWarning: \n",
      "\n",
      "Passing `palette` without assigning `hue` is deprecated and will be removed in v0.14.0. Assign the `y` variable to `hue` and set `legend=False` for the same effect.\n",
      "\n",
      "  sns.barplot(x=mi_vals, y=features, palette=\"magma\")\n"
     ]
    },
    {
     "name": "stdout",
     "output_type": "stream",
     "text": [
      "Runtime for dbscan_clustering: 0.025545 seconds\n"
     ]
    },
    {
     "name": "stderr",
     "output_type": "stream",
     "text": [
      "c:\\Users\\fionu\\OneDrive\\Dokumente\\Daten Fiona\\AIUB\\Code\\AIUB-Backup\\clustering\\high_dim_analysis.py:138: FutureWarning: \n",
      "\n",
      "Passing `palette` without assigning `hue` is deprecated and will be removed in v0.14.0. Assign the `y` variable to `hue` and set `legend=False` for the same effect.\n",
      "\n",
      "  sns.barplot(x=mi_vals, y=features, palette=\"magma\")\n"
     ]
    },
    {
     "name": "stdout",
     "output_type": "stream",
     "text": [
      "Runtime for dbscan_clustering: 0.025851 seconds\n"
     ]
    },
    {
     "name": "stderr",
     "output_type": "stream",
     "text": [
      "c:\\Users\\fionu\\OneDrive\\Dokumente\\Daten Fiona\\AIUB\\Code\\AIUB-Backup\\clustering\\high_dim_analysis.py:138: FutureWarning: \n",
      "\n",
      "Passing `palette` without assigning `hue` is deprecated and will be removed in v0.14.0. Assign the `y` variable to `hue` and set `legend=False` for the same effect.\n",
      "\n",
      "  sns.barplot(x=mi_vals, y=features, palette=\"magma\")\n"
     ]
    },
    {
     "name": "stdout",
     "output_type": "stream",
     "text": [
      "Runtime for dbscan_clustering: 0.022263 seconds\n"
     ]
    },
    {
     "name": "stderr",
     "output_type": "stream",
     "text": [
      "c:\\Users\\fionu\\OneDrive\\Dokumente\\Daten Fiona\\AIUB\\Code\\AIUB-Backup\\clustering\\high_dim_analysis.py:138: FutureWarning: \n",
      "\n",
      "Passing `palette` without assigning `hue` is deprecated and will be removed in v0.14.0. Assign the `y` variable to `hue` and set `legend=False` for the same effect.\n",
      "\n",
      "  sns.barplot(x=mi_vals, y=features, palette=\"magma\")\n"
     ]
    },
    {
     "name": "stdout",
     "output_type": "stream",
     "text": [
      "Runtime for dbscan_clustering: 0.017011 seconds\n"
     ]
    },
    {
     "name": "stderr",
     "output_type": "stream",
     "text": [
      "c:\\Users\\fionu\\OneDrive\\Dokumente\\Daten Fiona\\AIUB\\Code\\AIUB-Backup\\clustering\\high_dim_analysis.py:42: FutureWarning: \n",
      "\n",
      "Passing `palette` without assigning `hue` is deprecated and will be removed in v0.14.0. Assign the `y` variable to `hue` and set `legend=False` for the same effect.\n",
      "\n",
      "  sns.barplot(x=f_vals, y=features, palette=\"crest\")\n"
     ]
    },
    {
     "name": "stdout",
     "output_type": "stream",
     "text": [
      "Best DBSCAN parameters based on ANOVA F-value:\n",
      "Year Range                                                       2016-2019\n",
      "eps                                                                   0.01\n",
      "min_samples                                                             30\n",
      "Runtime (s)                                                          0.024\n",
      "Clusters                                                                 9\n",
      "Points per Cluster       {0: 92, 1: 106, 2: 236, 3: 101, 4: 79, 5: 32, ...\n",
      "Noise Points                                                          1991\n",
      "Davies-Bouldin                                                        None\n",
      "Calinski-Harabasz                                                     None\n",
      "Weighted Mean ANOVA F                                            81660.501\n",
      "Name: 7, dtype: object\n"
     ]
    },
    {
     "data": {
      "application/vnd.microsoft.datawrangler.viewer.v0+json": {
       "columns": [
        {
         "name": "index",
         "rawType": "int64",
         "type": "integer"
        },
        {
         "name": "Year Range",
         "rawType": "object",
         "type": "string"
        },
        {
         "name": "eps",
         "rawType": "float64",
         "type": "float"
        },
        {
         "name": "min_samples",
         "rawType": "int64",
         "type": "integer"
        },
        {
         "name": "Runtime (s)",
         "rawType": "object",
         "type": "string"
        },
        {
         "name": "Clusters",
         "rawType": "int64",
         "type": "integer"
        },
        {
         "name": "Points per Cluster",
         "rawType": "object",
         "type": "unknown"
        },
        {
         "name": "Noise Points",
         "rawType": "int32",
         "type": "integer"
        },
        {
         "name": "Davies-Bouldin",
         "rawType": "object",
         "type": "unknown"
        },
        {
         "name": "Calinski-Harabasz",
         "rawType": "object",
         "type": "unknown"
        },
        {
         "name": "Weighted Mean ANOVA F",
         "rawType": "float64",
         "type": "float"
        }
       ],
       "ref": "5a10e924-a905-4313-a331-cfa92ea98491",
       "rows": [
        [
         "0",
         "2016-2019",
         "0.02",
         "10",
         "0.020",
         "13",
         "{0: 134, 1: 220, 2: 137, 3: 177, 4: 11, 5: 352, 6: 533, 7: 24, 8: 27, 9: 10, 10: 55, 11: 12, -1: 1018}",
         "1018",
         null,
         null,
         null
        ],
        [
         "1",
         "2016-2019",
         "0.02",
         "15",
         "0.016",
         "12",
         "{0: 130, 1: 27, 2: 162, 3: 350, 4: 200, 5: 522, 6: 23, 7: 38, 8: 20, 9: 61, 10: 45, -1: 1132}",
         "1132",
         null,
         null,
         null
        ],
        [
         "2",
         "2016-2019",
         "0.02",
         "25",
         "0.042",
         "8",
         "{0: 125, 1: 157, 2: 350, 3: 183, 4: 493, 5: 46, 6: 42, -1: 1314}",
         "1314",
         null,
         null,
         null
        ],
        [
         "3",
         "2016-2019",
         "0.02",
         "30",
         "0.000",
         "7",
         "{0: 125, 1: 157, 2: 329, 3: 174, 4: 479, 5: 40, -1: 1406}",
         "1406",
         null,
         null,
         "19676.499"
        ],
        [
         "4",
         "2016-2019",
         "0.01",
         "10",
         "0.023",
         "17",
         "{0: 116, 1: 16, 2: 125, 3: 296, 4: 10, 5: 14, 6: 146, 7: 157, 8: 9, 9: 260, 10: 19, 11: 10, 12: 26, 13: 14, 14: 14, 15: 20, -1: 1458}",
         "1458",
         null,
         null,
         null
        ],
        [
         "5",
         "2016-2019",
         "0.01",
         "15",
         "0.026",
         "10",
         "{0: 104, 1: 124, 2: 283, 3: 104, 4: 145, 5: 256, 6: 24, 7: 15, 8: 17, -1: 1638}",
         "1638",
         null,
         null,
         null
        ],
        [
         "6",
         "2016-2019",
         "0.01",
         "25",
         "0.017",
         "11",
         "{0: 96, 1: 115, 2: 249, 3: 111, 4: 98, 5: 34, 6: 43, 7: 32, 8: 55, 9: 36, -1: 1841}",
         "1841",
         null,
         null,
         null
        ],
        [
         "7",
         "2016-2019",
         "0.01",
         "30",
         "0.024",
         "9",
         "{0: 92, 1: 106, 2: 236, 3: 101, 4: 79, 5: 32, 6: 40, 7: 33, -1: 1991}",
         "1991",
         null,
         null,
         "81660.501"
        ],
        [
         "8",
         "2016-2019",
         "0.015",
         "10",
         "0.023",
         "18",
         "{0: 128, 1: 20, 2: 10, 3: 156, 4: 346, 5: 173, 6: 483, 7: 23, 8: 11, 9: 30, 10: 24, 11: 16, 12: 10, 13: 38, 14: 44, 15: 6, 16: 6, -1: 1186}",
         "1186",
         null,
         null,
         null
        ],
        [
         "9",
         "2016-2019",
         "0.015",
         "15",
         "0.026",
         "13",
         "{0: 121, 1: 19, 2: 143, 3: 343, 4: 171, 5: 463, 6: 23, 7: 33, 8: 20, 9: 30, 10: 15, 11: 15, -1: 1314}",
         "1314",
         null,
         null,
         null
        ],
        [
         "10",
         "2016-2019",
         "0.015",
         "25",
         "0.026",
         "8",
         "{0: 120, 1: 135, 2: 303, 3: 160, 4: 163, 5: 278, 6: 29, -1: 1522}",
         "1522",
         null,
         null,
         null
        ],
        [
         "11",
         "2016-2019",
         "0.015",
         "30",
         "0.022",
         "7",
         "{0: 115, 1: 133, 2: 294, 3: 142, 4: 163, 5: 273, -1: 1590}",
         "1590",
         null,
         null,
         "54440.439"
        ]
       ],
       "shape": {
        "columns": 10,
        "rows": 12
       }
      },
      "text/html": [
       "<div>\n",
       "<style scoped>\n",
       "    .dataframe tbody tr th:only-of-type {\n",
       "        vertical-align: middle;\n",
       "    }\n",
       "\n",
       "    .dataframe tbody tr th {\n",
       "        vertical-align: top;\n",
       "    }\n",
       "\n",
       "    .dataframe thead th {\n",
       "        text-align: right;\n",
       "    }\n",
       "</style>\n",
       "<table border=\"1\" class=\"dataframe\">\n",
       "  <thead>\n",
       "    <tr style=\"text-align: right;\">\n",
       "      <th></th>\n",
       "      <th>Year Range</th>\n",
       "      <th>eps</th>\n",
       "      <th>min_samples</th>\n",
       "      <th>Runtime (s)</th>\n",
       "      <th>Clusters</th>\n",
       "      <th>Points per Cluster</th>\n",
       "      <th>Noise Points</th>\n",
       "      <th>Davies-Bouldin</th>\n",
       "      <th>Calinski-Harabasz</th>\n",
       "      <th>Weighted Mean ANOVA F</th>\n",
       "    </tr>\n",
       "  </thead>\n",
       "  <tbody>\n",
       "    <tr>\n",
       "      <th>0</th>\n",
       "      <td>2016-2019</td>\n",
       "      <td>0.020</td>\n",
       "      <td>10</td>\n",
       "      <td>0.020</td>\n",
       "      <td>13</td>\n",
       "      <td>{0: 134, 1: 220, 2: 137, 3: 177, 4: 11, 5: 352...</td>\n",
       "      <td>1018</td>\n",
       "      <td>None</td>\n",
       "      <td>None</td>\n",
       "      <td>NaN</td>\n",
       "    </tr>\n",
       "    <tr>\n",
       "      <th>1</th>\n",
       "      <td>2016-2019</td>\n",
       "      <td>0.020</td>\n",
       "      <td>15</td>\n",
       "      <td>0.016</td>\n",
       "      <td>12</td>\n",
       "      <td>{0: 130, 1: 27, 2: 162, 3: 350, 4: 200, 5: 522...</td>\n",
       "      <td>1132</td>\n",
       "      <td>None</td>\n",
       "      <td>None</td>\n",
       "      <td>NaN</td>\n",
       "    </tr>\n",
       "    <tr>\n",
       "      <th>2</th>\n",
       "      <td>2016-2019</td>\n",
       "      <td>0.020</td>\n",
       "      <td>25</td>\n",
       "      <td>0.042</td>\n",
       "      <td>8</td>\n",
       "      <td>{0: 125, 1: 157, 2: 350, 3: 183, 4: 493, 5: 46...</td>\n",
       "      <td>1314</td>\n",
       "      <td>None</td>\n",
       "      <td>None</td>\n",
       "      <td>NaN</td>\n",
       "    </tr>\n",
       "    <tr>\n",
       "      <th>3</th>\n",
       "      <td>2016-2019</td>\n",
       "      <td>0.020</td>\n",
       "      <td>30</td>\n",
       "      <td>0.000</td>\n",
       "      <td>7</td>\n",
       "      <td>{0: 125, 1: 157, 2: 329, 3: 174, 4: 479, 5: 40...</td>\n",
       "      <td>1406</td>\n",
       "      <td>None</td>\n",
       "      <td>None</td>\n",
       "      <td>19676.499</td>\n",
       "    </tr>\n",
       "    <tr>\n",
       "      <th>4</th>\n",
       "      <td>2016-2019</td>\n",
       "      <td>0.010</td>\n",
       "      <td>10</td>\n",
       "      <td>0.023</td>\n",
       "      <td>17</td>\n",
       "      <td>{0: 116, 1: 16, 2: 125, 3: 296, 4: 10, 5: 14, ...</td>\n",
       "      <td>1458</td>\n",
       "      <td>None</td>\n",
       "      <td>None</td>\n",
       "      <td>NaN</td>\n",
       "    </tr>\n",
       "    <tr>\n",
       "      <th>5</th>\n",
       "      <td>2016-2019</td>\n",
       "      <td>0.010</td>\n",
       "      <td>15</td>\n",
       "      <td>0.026</td>\n",
       "      <td>10</td>\n",
       "      <td>{0: 104, 1: 124, 2: 283, 3: 104, 4: 145, 5: 25...</td>\n",
       "      <td>1638</td>\n",
       "      <td>None</td>\n",
       "      <td>None</td>\n",
       "      <td>NaN</td>\n",
       "    </tr>\n",
       "    <tr>\n",
       "      <th>6</th>\n",
       "      <td>2016-2019</td>\n",
       "      <td>0.010</td>\n",
       "      <td>25</td>\n",
       "      <td>0.017</td>\n",
       "      <td>11</td>\n",
       "      <td>{0: 96, 1: 115, 2: 249, 3: 111, 4: 98, 5: 34, ...</td>\n",
       "      <td>1841</td>\n",
       "      <td>None</td>\n",
       "      <td>None</td>\n",
       "      <td>NaN</td>\n",
       "    </tr>\n",
       "    <tr>\n",
       "      <th>7</th>\n",
       "      <td>2016-2019</td>\n",
       "      <td>0.010</td>\n",
       "      <td>30</td>\n",
       "      <td>0.024</td>\n",
       "      <td>9</td>\n",
       "      <td>{0: 92, 1: 106, 2: 236, 3: 101, 4: 79, 5: 32, ...</td>\n",
       "      <td>1991</td>\n",
       "      <td>None</td>\n",
       "      <td>None</td>\n",
       "      <td>81660.501</td>\n",
       "    </tr>\n",
       "    <tr>\n",
       "      <th>8</th>\n",
       "      <td>2016-2019</td>\n",
       "      <td>0.015</td>\n",
       "      <td>10</td>\n",
       "      <td>0.023</td>\n",
       "      <td>18</td>\n",
       "      <td>{0: 128, 1: 20, 2: 10, 3: 156, 4: 346, 5: 173,...</td>\n",
       "      <td>1186</td>\n",
       "      <td>None</td>\n",
       "      <td>None</td>\n",
       "      <td>NaN</td>\n",
       "    </tr>\n",
       "    <tr>\n",
       "      <th>9</th>\n",
       "      <td>2016-2019</td>\n",
       "      <td>0.015</td>\n",
       "      <td>15</td>\n",
       "      <td>0.026</td>\n",
       "      <td>13</td>\n",
       "      <td>{0: 121, 1: 19, 2: 143, 3: 343, 4: 171, 5: 463...</td>\n",
       "      <td>1314</td>\n",
       "      <td>None</td>\n",
       "      <td>None</td>\n",
       "      <td>NaN</td>\n",
       "    </tr>\n",
       "    <tr>\n",
       "      <th>10</th>\n",
       "      <td>2016-2019</td>\n",
       "      <td>0.015</td>\n",
       "      <td>25</td>\n",
       "      <td>0.026</td>\n",
       "      <td>8</td>\n",
       "      <td>{0: 120, 1: 135, 2: 303, 3: 160, 4: 163, 5: 27...</td>\n",
       "      <td>1522</td>\n",
       "      <td>None</td>\n",
       "      <td>None</td>\n",
       "      <td>NaN</td>\n",
       "    </tr>\n",
       "    <tr>\n",
       "      <th>11</th>\n",
       "      <td>2016-2019</td>\n",
       "      <td>0.015</td>\n",
       "      <td>30</td>\n",
       "      <td>0.022</td>\n",
       "      <td>7</td>\n",
       "      <td>{0: 115, 1: 133, 2: 294, 3: 142, 4: 163, 5: 27...</td>\n",
       "      <td>1590</td>\n",
       "      <td>None</td>\n",
       "      <td>None</td>\n",
       "      <td>54440.439</td>\n",
       "    </tr>\n",
       "  </tbody>\n",
       "</table>\n",
       "</div>"
      ],
      "text/plain": [
       "   Year Range    eps  min_samples Runtime (s)  Clusters  \\\n",
       "0   2016-2019  0.020           10       0.020        13   \n",
       "1   2016-2019  0.020           15       0.016        12   \n",
       "2   2016-2019  0.020           25       0.042         8   \n",
       "3   2016-2019  0.020           30       0.000         7   \n",
       "4   2016-2019  0.010           10       0.023        17   \n",
       "5   2016-2019  0.010           15       0.026        10   \n",
       "6   2016-2019  0.010           25       0.017        11   \n",
       "7   2016-2019  0.010           30       0.024         9   \n",
       "8   2016-2019  0.015           10       0.023        18   \n",
       "9   2016-2019  0.015           15       0.026        13   \n",
       "10  2016-2019  0.015           25       0.026         8   \n",
       "11  2016-2019  0.015           30       0.022         7   \n",
       "\n",
       "                                   Points per Cluster  Noise Points  \\\n",
       "0   {0: 134, 1: 220, 2: 137, 3: 177, 4: 11, 5: 352...          1018   \n",
       "1   {0: 130, 1: 27, 2: 162, 3: 350, 4: 200, 5: 522...          1132   \n",
       "2   {0: 125, 1: 157, 2: 350, 3: 183, 4: 493, 5: 46...          1314   \n",
       "3   {0: 125, 1: 157, 2: 329, 3: 174, 4: 479, 5: 40...          1406   \n",
       "4   {0: 116, 1: 16, 2: 125, 3: 296, 4: 10, 5: 14, ...          1458   \n",
       "5   {0: 104, 1: 124, 2: 283, 3: 104, 4: 145, 5: 25...          1638   \n",
       "6   {0: 96, 1: 115, 2: 249, 3: 111, 4: 98, 5: 34, ...          1841   \n",
       "7   {0: 92, 1: 106, 2: 236, 3: 101, 4: 79, 5: 32, ...          1991   \n",
       "8   {0: 128, 1: 20, 2: 10, 3: 156, 4: 346, 5: 173,...          1186   \n",
       "9   {0: 121, 1: 19, 2: 143, 3: 343, 4: 171, 5: 463...          1314   \n",
       "10  {0: 120, 1: 135, 2: 303, 3: 160, 4: 163, 5: 27...          1522   \n",
       "11  {0: 115, 1: 133, 2: 294, 3: 142, 4: 163, 5: 27...          1590   \n",
       "\n",
       "   Davies-Bouldin Calinski-Harabasz  Weighted Mean ANOVA F  \n",
       "0            None              None                    NaN  \n",
       "1            None              None                    NaN  \n",
       "2            None              None                    NaN  \n",
       "3            None              None              19676.499  \n",
       "4            None              None                    NaN  \n",
       "5            None              None                    NaN  \n",
       "6            None              None                    NaN  \n",
       "7            None              None              81660.501  \n",
       "8            None              None                    NaN  \n",
       "9            None              None                    NaN  \n",
       "10           None              None                    NaN  \n",
       "11           None              None              54440.439  "
      ]
     },
     "metadata": {},
     "output_type": "display_data"
    },
    {
     "name": "stdout",
     "output_type": "stream",
     "text": [
      "\n",
      "Running DBSCAN for Year Range: 2017-2020\n",
      "Runtime for dbscan_clustering: 0.045872 seconds\n"
     ]
    },
    {
     "name": "stderr",
     "output_type": "stream",
     "text": [
      "c:\\Users\\fionu\\OneDrive\\Dokumente\\Daten Fiona\\AIUB\\Code\\AIUB-Backup\\clustering\\high_dim_analysis.py:138: FutureWarning: \n",
      "\n",
      "Passing `palette` without assigning `hue` is deprecated and will be removed in v0.14.0. Assign the `y` variable to `hue` and set `legend=False` for the same effect.\n",
      "\n",
      "  sns.barplot(x=mi_vals, y=features, palette=\"magma\")\n"
     ]
    },
    {
     "name": "stdout",
     "output_type": "stream",
     "text": [
      "Runtime for dbscan_clustering: 0.024665 seconds\n"
     ]
    },
    {
     "name": "stderr",
     "output_type": "stream",
     "text": [
      "c:\\Users\\fionu\\OneDrive\\Dokumente\\Daten Fiona\\AIUB\\Code\\AIUB-Backup\\clustering\\high_dim_analysis.py:138: FutureWarning: \n",
      "\n",
      "Passing `palette` without assigning `hue` is deprecated and will be removed in v0.14.0. Assign the `y` variable to `hue` and set `legend=False` for the same effect.\n",
      "\n",
      "  sns.barplot(x=mi_vals, y=features, palette=\"magma\")\n"
     ]
    },
    {
     "name": "stdout",
     "output_type": "stream",
     "text": [
      "Runtime for dbscan_clustering: 0.029301 seconds\n"
     ]
    },
    {
     "name": "stderr",
     "output_type": "stream",
     "text": [
      "c:\\Users\\fionu\\OneDrive\\Dokumente\\Daten Fiona\\AIUB\\Code\\AIUB-Backup\\clustering\\high_dim_analysis.py:138: FutureWarning: \n",
      "\n",
      "Passing `palette` without assigning `hue` is deprecated and will be removed in v0.14.0. Assign the `y` variable to `hue` and set `legend=False` for the same effect.\n",
      "\n",
      "  sns.barplot(x=mi_vals, y=features, palette=\"magma\")\n"
     ]
    },
    {
     "name": "stdout",
     "output_type": "stream",
     "text": [
      "Runtime for dbscan_clustering: 0.022004 seconds\n"
     ]
    },
    {
     "name": "stderr",
     "output_type": "stream",
     "text": [
      "c:\\Users\\fionu\\OneDrive\\Dokumente\\Daten Fiona\\AIUB\\Code\\AIUB-Backup\\clustering\\high_dim_analysis.py:138: FutureWarning: \n",
      "\n",
      "Passing `palette` without assigning `hue` is deprecated and will be removed in v0.14.0. Assign the `y` variable to `hue` and set `legend=False` for the same effect.\n",
      "\n",
      "  sns.barplot(x=mi_vals, y=features, palette=\"magma\")\n"
     ]
    },
    {
     "name": "stdout",
     "output_type": "stream",
     "text": [
      "Runtime for dbscan_clustering: 0.019001 seconds\n"
     ]
    },
    {
     "name": "stderr",
     "output_type": "stream",
     "text": [
      "c:\\Users\\fionu\\OneDrive\\Dokumente\\Daten Fiona\\AIUB\\Code\\AIUB-Backup\\clustering\\high_dim_analysis.py:138: FutureWarning: \n",
      "\n",
      "Passing `palette` without assigning `hue` is deprecated and will be removed in v0.14.0. Assign the `y` variable to `hue` and set `legend=False` for the same effect.\n",
      "\n",
      "  sns.barplot(x=mi_vals, y=features, palette=\"magma\")\n"
     ]
    },
    {
     "name": "stdout",
     "output_type": "stream",
     "text": [
      "Runtime for dbscan_clustering: 0.020921 seconds\n"
     ]
    },
    {
     "name": "stderr",
     "output_type": "stream",
     "text": [
      "c:\\Users\\fionu\\OneDrive\\Dokumente\\Daten Fiona\\AIUB\\Code\\AIUB-Backup\\clustering\\high_dim_analysis.py:138: FutureWarning: \n",
      "\n",
      "Passing `palette` without assigning `hue` is deprecated and will be removed in v0.14.0. Assign the `y` variable to `hue` and set `legend=False` for the same effect.\n",
      "\n",
      "  sns.barplot(x=mi_vals, y=features, palette=\"magma\")\n"
     ]
    },
    {
     "name": "stdout",
     "output_type": "stream",
     "text": [
      "Runtime for dbscan_clustering: 0.015651 seconds\n"
     ]
    },
    {
     "name": "stderr",
     "output_type": "stream",
     "text": [
      "c:\\Users\\fionu\\OneDrive\\Dokumente\\Daten Fiona\\AIUB\\Code\\AIUB-Backup\\clustering\\high_dim_analysis.py:138: FutureWarning: \n",
      "\n",
      "Passing `palette` without assigning `hue` is deprecated and will be removed in v0.14.0. Assign the `y` variable to `hue` and set `legend=False` for the same effect.\n",
      "\n",
      "  sns.barplot(x=mi_vals, y=features, palette=\"magma\")\n"
     ]
    },
    {
     "name": "stdout",
     "output_type": "stream",
     "text": [
      "Runtime for dbscan_clustering: 0.035796 seconds\n"
     ]
    },
    {
     "name": "stderr",
     "output_type": "stream",
     "text": [
      "c:\\Users\\fionu\\OneDrive\\Dokumente\\Daten Fiona\\AIUB\\Code\\AIUB-Backup\\clustering\\high_dim_analysis.py:138: FutureWarning: \n",
      "\n",
      "Passing `palette` without assigning `hue` is deprecated and will be removed in v0.14.0. Assign the `y` variable to `hue` and set `legend=False` for the same effect.\n",
      "\n",
      "  sns.barplot(x=mi_vals, y=features, palette=\"magma\")\n"
     ]
    },
    {
     "name": "stdout",
     "output_type": "stream",
     "text": [
      "Runtime for dbscan_clustering: 0.037231 seconds\n"
     ]
    },
    {
     "name": "stderr",
     "output_type": "stream",
     "text": [
      "c:\\Users\\fionu\\OneDrive\\Dokumente\\Daten Fiona\\AIUB\\Code\\AIUB-Backup\\clustering\\high_dim_analysis.py:138: FutureWarning: \n",
      "\n",
      "Passing `palette` without assigning `hue` is deprecated and will be removed in v0.14.0. Assign the `y` variable to `hue` and set `legend=False` for the same effect.\n",
      "\n",
      "  sns.barplot(x=mi_vals, y=features, palette=\"magma\")\n"
     ]
    },
    {
     "name": "stdout",
     "output_type": "stream",
     "text": [
      "Runtime for dbscan_clustering: 0.058019 seconds\n"
     ]
    },
    {
     "name": "stderr",
     "output_type": "stream",
     "text": [
      "c:\\Users\\fionu\\OneDrive\\Dokumente\\Daten Fiona\\AIUB\\Code\\AIUB-Backup\\clustering\\high_dim_analysis.py:138: FutureWarning: \n",
      "\n",
      "Passing `palette` without assigning `hue` is deprecated and will be removed in v0.14.0. Assign the `y` variable to `hue` and set `legend=False` for the same effect.\n",
      "\n",
      "  sns.barplot(x=mi_vals, y=features, palette=\"magma\")\n"
     ]
    },
    {
     "name": "stdout",
     "output_type": "stream",
     "text": [
      "Runtime for dbscan_clustering: 0.016689 seconds\n"
     ]
    },
    {
     "name": "stderr",
     "output_type": "stream",
     "text": [
      "c:\\Users\\fionu\\OneDrive\\Dokumente\\Daten Fiona\\AIUB\\Code\\AIUB-Backup\\clustering\\high_dim_analysis.py:138: FutureWarning: \n",
      "\n",
      "Passing `palette` without assigning `hue` is deprecated and will be removed in v0.14.0. Assign the `y` variable to `hue` and set `legend=False` for the same effect.\n",
      "\n",
      "  sns.barplot(x=mi_vals, y=features, palette=\"magma\")\n"
     ]
    },
    {
     "name": "stdout",
     "output_type": "stream",
     "text": [
      "Runtime for dbscan_clustering: 0.016643 seconds\n"
     ]
    },
    {
     "name": "stderr",
     "output_type": "stream",
     "text": [
      "c:\\Users\\fionu\\OneDrive\\Dokumente\\Daten Fiona\\AIUB\\Code\\AIUB-Backup\\clustering\\high_dim_analysis.py:138: FutureWarning: \n",
      "\n",
      "Passing `palette` without assigning `hue` is deprecated and will be removed in v0.14.0. Assign the `y` variable to `hue` and set `legend=False` for the same effect.\n",
      "\n",
      "  sns.barplot(x=mi_vals, y=features, palette=\"magma\")\n"
     ]
    },
    {
     "name": "stdout",
     "output_type": "stream",
     "text": [
      "Runtime for dbscan_clustering: 0.026572 seconds\n"
     ]
    },
    {
     "name": "stderr",
     "output_type": "stream",
     "text": [
      "c:\\Users\\fionu\\OneDrive\\Dokumente\\Daten Fiona\\AIUB\\Code\\AIUB-Backup\\clustering\\high_dim_analysis.py:42: FutureWarning: \n",
      "\n",
      "Passing `palette` without assigning `hue` is deprecated and will be removed in v0.14.0. Assign the `y` variable to `hue` and set `legend=False` for the same effect.\n",
      "\n",
      "  sns.barplot(x=f_vals, y=features, palette=\"crest\")\n"
     ]
    },
    {
     "name": "stdout",
     "output_type": "stream",
     "text": [
      "Best DBSCAN parameters based on ANOVA F-value:\n",
      "Year Range                                                       2017-2020\n",
      "eps                                                                   0.01\n",
      "min_samples                                                             30\n",
      "Runtime (s)                                                          0.036\n",
      "Clusters                                                                11\n",
      "Points per Cluster       {0: 416, 1: 123, 2: 153, 3: 43, 4: 162, 5: 37,...\n",
      "Noise Points                                                          2181\n",
      "Davies-Bouldin                                                        None\n",
      "Calinski-Harabasz                                                     None\n",
      "Weighted Mean ANOVA F                                            69123.771\n",
      "Name: 7, dtype: object\n"
     ]
    },
    {
     "data": {
      "application/vnd.microsoft.datawrangler.viewer.v0+json": {
       "columns": [
        {
         "name": "index",
         "rawType": "int64",
         "type": "integer"
        },
        {
         "name": "Year Range",
         "rawType": "object",
         "type": "string"
        },
        {
         "name": "eps",
         "rawType": "float64",
         "type": "float"
        },
        {
         "name": "min_samples",
         "rawType": "int64",
         "type": "integer"
        },
        {
         "name": "Runtime (s)",
         "rawType": "object",
         "type": "string"
        },
        {
         "name": "Clusters",
         "rawType": "int64",
         "type": "integer"
        },
        {
         "name": "Points per Cluster",
         "rawType": "object",
         "type": "unknown"
        },
        {
         "name": "Noise Points",
         "rawType": "int32",
         "type": "integer"
        },
        {
         "name": "Davies-Bouldin",
         "rawType": "object",
         "type": "unknown"
        },
        {
         "name": "Calinski-Harabasz",
         "rawType": "object",
         "type": "unknown"
        },
        {
         "name": "Weighted Mean ANOVA F",
         "rawType": "float64",
         "type": "float"
        }
       ],
       "ref": "ab0b7876-d983-4a5f-95c9-1d1ea5ae9626",
       "rows": [
        [
         "0",
         "2017-2020",
         "0.02",
         "10",
         "0.046",
         "19",
         "{0: 574, 1: 10, 2: 188, 3: 571, 4: 595, 5: 18, 6: 24, 7: 16, 8: 58, 9: 11, 10: 16, 11: 10, 12: 88, 13: 11, 14: 14, 15: 7, 16: 12, 17: 10, -1: 1058}",
         "1058",
         null,
         null,
         null
        ],
        [
         "1",
         "2017-2020",
         "0.02",
         "15",
         "0.025",
         "9",
         "{0: 574, 1: 186, 2: 557, 3: 576, 4: 18, 5: 24, 6: 56, 7: 87, -1: 1213}",
         "1213",
         null,
         null,
         null
        ],
        [
         "2",
         "2017-2020",
         "0.02",
         "25",
         "0.029",
         "7",
         "{0: 574, 1: 179, 2: 518, 3: 564, 4: 56, 5: 80, -1: 1320}",
         "1320",
         null,
         null,
         null
        ],
        [
         "3",
         "2017-2020",
         "0.02",
         "30",
         "0.022",
         "8",
         "{0: 573, 1: 177, 2: 481, 3: 527, 4: 54, 5: 23, 6: 70, -1: 1386}",
         "1386",
         null,
         null,
         "24183.569"
        ],
        [
         "4",
         "2017-2020",
         "0.01",
         "10",
         "0.019",
         "27",
         "{0: 504, 1: 19, 2: 17, 3: 151, 4: 174, 5: 187, 6: 16, 7: 261, 8: 16, 9: 13, 10: 71, 11: 62, 12: 36, 13: 11, 14: 11, 15: 14, 16: 35, 17: 15, 18: 18, 19: 48, 20: 11, 21: 11, 22: 11, 23: 14, 24: 10, 25: 11, -1: 1544}",
         "1544",
         null,
         null,
         null
        ],
        [
         "5",
         "2017-2020",
         "0.01",
         "15",
         "0.021",
         "20",
         "{0: 488, 1: 19, 2: 134, 3: 162, 4: 15, 5: 165, 6: 12, 7: 17, 8: 16, 9: 257, 10: 16, 11: 61, 12: 67, 13: 35, 14: 31, 15: 15, 16: 17, 17: 38, 18: 13, -1: 1713}",
         "1713",
         null,
         null,
         null
        ],
        [
         "6",
         "2017-2020",
         "0.01",
         "25",
         "0.016",
         "9",
         "{0: 475, 1: 127, 2: 107, 3: 160, 4: 214, 5: 60, 6: 30, 7: 34, -1: 2084}",
         "2084",
         null,
         null,
         null
        ],
        [
         "7",
         "2017-2020",
         "0.01",
         "30",
         "0.036",
         "11",
         "{0: 416, 1: 123, 2: 153, 3: 43, 4: 162, 5: 37, 6: 36, 7: 58, 8: 52, 9: 30, -1: 2181}",
         "2181",
         null,
         null,
         "69123.771"
        ],
        [
         "8",
         "2017-2020",
         "0.015",
         "10",
         "0.037",
         "19",
         "{0: 570, 1: 10, 2: 178, 3: 239, 4: 533, 5: 16, 6: 16, 7: 10, 8: 28, 9: 247, 10: 51, 11: 19, 12: 11, 13: 10, 14: 87, 15: 11, 16: 10, 17: 12, -1: 1233}",
         "1233",
         null,
         null,
         null
        ],
        [
         "9",
         "2017-2020",
         "0.015",
         "15",
         "0.058",
         "13",
         "{0: 564, 1: 177, 2: 237, 3: 519, 4: 16, 5: 16, 6: 23, 7: 206, 8: 49, 9: 33, 10: 81, 11: 18, -1: 1352}",
         "1352",
         null,
         null,
         null
        ],
        [
         "10",
         "2017-2020",
         "0.015",
         "25",
         "0.017",
         "11",
         "{0: 542, 1: 156, 2: 216, 3: 200, 4: 280, 5: 166, 6: 42, 7: 33, 8: 53, 9: 25, -1: 1578}",
         "1578",
         null,
         null,
         null
        ],
        [
         "11",
         "2017-2020",
         "0.015",
         "30",
         "0.017",
         "11",
         "{0: 521, 1: 156, 2: 184, 3: 198, 4: 279, 5: 107, 6: 39, 7: 55, 8: 31, 9: 52, -1: 1669}",
         "1669",
         null,
         null,
         "44859.929"
        ]
       ],
       "shape": {
        "columns": 10,
        "rows": 12
       }
      },
      "text/html": [
       "<div>\n",
       "<style scoped>\n",
       "    .dataframe tbody tr th:only-of-type {\n",
       "        vertical-align: middle;\n",
       "    }\n",
       "\n",
       "    .dataframe tbody tr th {\n",
       "        vertical-align: top;\n",
       "    }\n",
       "\n",
       "    .dataframe thead th {\n",
       "        text-align: right;\n",
       "    }\n",
       "</style>\n",
       "<table border=\"1\" class=\"dataframe\">\n",
       "  <thead>\n",
       "    <tr style=\"text-align: right;\">\n",
       "      <th></th>\n",
       "      <th>Year Range</th>\n",
       "      <th>eps</th>\n",
       "      <th>min_samples</th>\n",
       "      <th>Runtime (s)</th>\n",
       "      <th>Clusters</th>\n",
       "      <th>Points per Cluster</th>\n",
       "      <th>Noise Points</th>\n",
       "      <th>Davies-Bouldin</th>\n",
       "      <th>Calinski-Harabasz</th>\n",
       "      <th>Weighted Mean ANOVA F</th>\n",
       "    </tr>\n",
       "  </thead>\n",
       "  <tbody>\n",
       "    <tr>\n",
       "      <th>0</th>\n",
       "      <td>2017-2020</td>\n",
       "      <td>0.020</td>\n",
       "      <td>10</td>\n",
       "      <td>0.046</td>\n",
       "      <td>19</td>\n",
       "      <td>{0: 574, 1: 10, 2: 188, 3: 571, 4: 595, 5: 18,...</td>\n",
       "      <td>1058</td>\n",
       "      <td>None</td>\n",
       "      <td>None</td>\n",
       "      <td>NaN</td>\n",
       "    </tr>\n",
       "    <tr>\n",
       "      <th>1</th>\n",
       "      <td>2017-2020</td>\n",
       "      <td>0.020</td>\n",
       "      <td>15</td>\n",
       "      <td>0.025</td>\n",
       "      <td>9</td>\n",
       "      <td>{0: 574, 1: 186, 2: 557, 3: 576, 4: 18, 5: 24,...</td>\n",
       "      <td>1213</td>\n",
       "      <td>None</td>\n",
       "      <td>None</td>\n",
       "      <td>NaN</td>\n",
       "    </tr>\n",
       "    <tr>\n",
       "      <th>2</th>\n",
       "      <td>2017-2020</td>\n",
       "      <td>0.020</td>\n",
       "      <td>25</td>\n",
       "      <td>0.029</td>\n",
       "      <td>7</td>\n",
       "      <td>{0: 574, 1: 179, 2: 518, 3: 564, 4: 56, 5: 80,...</td>\n",
       "      <td>1320</td>\n",
       "      <td>None</td>\n",
       "      <td>None</td>\n",
       "      <td>NaN</td>\n",
       "    </tr>\n",
       "    <tr>\n",
       "      <th>3</th>\n",
       "      <td>2017-2020</td>\n",
       "      <td>0.020</td>\n",
       "      <td>30</td>\n",
       "      <td>0.022</td>\n",
       "      <td>8</td>\n",
       "      <td>{0: 573, 1: 177, 2: 481, 3: 527, 4: 54, 5: 23,...</td>\n",
       "      <td>1386</td>\n",
       "      <td>None</td>\n",
       "      <td>None</td>\n",
       "      <td>24183.569</td>\n",
       "    </tr>\n",
       "    <tr>\n",
       "      <th>4</th>\n",
       "      <td>2017-2020</td>\n",
       "      <td>0.010</td>\n",
       "      <td>10</td>\n",
       "      <td>0.019</td>\n",
       "      <td>27</td>\n",
       "      <td>{0: 504, 1: 19, 2: 17, 3: 151, 4: 174, 5: 187,...</td>\n",
       "      <td>1544</td>\n",
       "      <td>None</td>\n",
       "      <td>None</td>\n",
       "      <td>NaN</td>\n",
       "    </tr>\n",
       "    <tr>\n",
       "      <th>5</th>\n",
       "      <td>2017-2020</td>\n",
       "      <td>0.010</td>\n",
       "      <td>15</td>\n",
       "      <td>0.021</td>\n",
       "      <td>20</td>\n",
       "      <td>{0: 488, 1: 19, 2: 134, 3: 162, 4: 15, 5: 165,...</td>\n",
       "      <td>1713</td>\n",
       "      <td>None</td>\n",
       "      <td>None</td>\n",
       "      <td>NaN</td>\n",
       "    </tr>\n",
       "    <tr>\n",
       "      <th>6</th>\n",
       "      <td>2017-2020</td>\n",
       "      <td>0.010</td>\n",
       "      <td>25</td>\n",
       "      <td>0.016</td>\n",
       "      <td>9</td>\n",
       "      <td>{0: 475, 1: 127, 2: 107, 3: 160, 4: 214, 5: 60...</td>\n",
       "      <td>2084</td>\n",
       "      <td>None</td>\n",
       "      <td>None</td>\n",
       "      <td>NaN</td>\n",
       "    </tr>\n",
       "    <tr>\n",
       "      <th>7</th>\n",
       "      <td>2017-2020</td>\n",
       "      <td>0.010</td>\n",
       "      <td>30</td>\n",
       "      <td>0.036</td>\n",
       "      <td>11</td>\n",
       "      <td>{0: 416, 1: 123, 2: 153, 3: 43, 4: 162, 5: 37,...</td>\n",
       "      <td>2181</td>\n",
       "      <td>None</td>\n",
       "      <td>None</td>\n",
       "      <td>69123.771</td>\n",
       "    </tr>\n",
       "    <tr>\n",
       "      <th>8</th>\n",
       "      <td>2017-2020</td>\n",
       "      <td>0.015</td>\n",
       "      <td>10</td>\n",
       "      <td>0.037</td>\n",
       "      <td>19</td>\n",
       "      <td>{0: 570, 1: 10, 2: 178, 3: 239, 4: 533, 5: 16,...</td>\n",
       "      <td>1233</td>\n",
       "      <td>None</td>\n",
       "      <td>None</td>\n",
       "      <td>NaN</td>\n",
       "    </tr>\n",
       "    <tr>\n",
       "      <th>9</th>\n",
       "      <td>2017-2020</td>\n",
       "      <td>0.015</td>\n",
       "      <td>15</td>\n",
       "      <td>0.058</td>\n",
       "      <td>13</td>\n",
       "      <td>{0: 564, 1: 177, 2: 237, 3: 519, 4: 16, 5: 16,...</td>\n",
       "      <td>1352</td>\n",
       "      <td>None</td>\n",
       "      <td>None</td>\n",
       "      <td>NaN</td>\n",
       "    </tr>\n",
       "    <tr>\n",
       "      <th>10</th>\n",
       "      <td>2017-2020</td>\n",
       "      <td>0.015</td>\n",
       "      <td>25</td>\n",
       "      <td>0.017</td>\n",
       "      <td>11</td>\n",
       "      <td>{0: 542, 1: 156, 2: 216, 3: 200, 4: 280, 5: 16...</td>\n",
       "      <td>1578</td>\n",
       "      <td>None</td>\n",
       "      <td>None</td>\n",
       "      <td>NaN</td>\n",
       "    </tr>\n",
       "    <tr>\n",
       "      <th>11</th>\n",
       "      <td>2017-2020</td>\n",
       "      <td>0.015</td>\n",
       "      <td>30</td>\n",
       "      <td>0.017</td>\n",
       "      <td>11</td>\n",
       "      <td>{0: 521, 1: 156, 2: 184, 3: 198, 4: 279, 5: 10...</td>\n",
       "      <td>1669</td>\n",
       "      <td>None</td>\n",
       "      <td>None</td>\n",
       "      <td>44859.929</td>\n",
       "    </tr>\n",
       "  </tbody>\n",
       "</table>\n",
       "</div>"
      ],
      "text/plain": [
       "   Year Range    eps  min_samples Runtime (s)  Clusters  \\\n",
       "0   2017-2020  0.020           10       0.046        19   \n",
       "1   2017-2020  0.020           15       0.025         9   \n",
       "2   2017-2020  0.020           25       0.029         7   \n",
       "3   2017-2020  0.020           30       0.022         8   \n",
       "4   2017-2020  0.010           10       0.019        27   \n",
       "5   2017-2020  0.010           15       0.021        20   \n",
       "6   2017-2020  0.010           25       0.016         9   \n",
       "7   2017-2020  0.010           30       0.036        11   \n",
       "8   2017-2020  0.015           10       0.037        19   \n",
       "9   2017-2020  0.015           15       0.058        13   \n",
       "10  2017-2020  0.015           25       0.017        11   \n",
       "11  2017-2020  0.015           30       0.017        11   \n",
       "\n",
       "                                   Points per Cluster  Noise Points  \\\n",
       "0   {0: 574, 1: 10, 2: 188, 3: 571, 4: 595, 5: 18,...          1058   \n",
       "1   {0: 574, 1: 186, 2: 557, 3: 576, 4: 18, 5: 24,...          1213   \n",
       "2   {0: 574, 1: 179, 2: 518, 3: 564, 4: 56, 5: 80,...          1320   \n",
       "3   {0: 573, 1: 177, 2: 481, 3: 527, 4: 54, 5: 23,...          1386   \n",
       "4   {0: 504, 1: 19, 2: 17, 3: 151, 4: 174, 5: 187,...          1544   \n",
       "5   {0: 488, 1: 19, 2: 134, 3: 162, 4: 15, 5: 165,...          1713   \n",
       "6   {0: 475, 1: 127, 2: 107, 3: 160, 4: 214, 5: 60...          2084   \n",
       "7   {0: 416, 1: 123, 2: 153, 3: 43, 4: 162, 5: 37,...          2181   \n",
       "8   {0: 570, 1: 10, 2: 178, 3: 239, 4: 533, 5: 16,...          1233   \n",
       "9   {0: 564, 1: 177, 2: 237, 3: 519, 4: 16, 5: 16,...          1352   \n",
       "10  {0: 542, 1: 156, 2: 216, 3: 200, 4: 280, 5: 16...          1578   \n",
       "11  {0: 521, 1: 156, 2: 184, 3: 198, 4: 279, 5: 10...          1669   \n",
       "\n",
       "   Davies-Bouldin Calinski-Harabasz  Weighted Mean ANOVA F  \n",
       "0            None              None                    NaN  \n",
       "1            None              None                    NaN  \n",
       "2            None              None                    NaN  \n",
       "3            None              None              24183.569  \n",
       "4            None              None                    NaN  \n",
       "5            None              None                    NaN  \n",
       "6            None              None                    NaN  \n",
       "7            None              None              69123.771  \n",
       "8            None              None                    NaN  \n",
       "9            None              None                    NaN  \n",
       "10           None              None                    NaN  \n",
       "11           None              None              44859.929  "
      ]
     },
     "metadata": {},
     "output_type": "display_data"
    },
    {
     "name": "stdout",
     "output_type": "stream",
     "text": [
      "\n",
      "Running DBSCAN for Year Range: 2018-2021\n",
      "Runtime for dbscan_clustering: 0.046059 seconds\n"
     ]
    },
    {
     "name": "stderr",
     "output_type": "stream",
     "text": [
      "c:\\Users\\fionu\\OneDrive\\Dokumente\\Daten Fiona\\AIUB\\Code\\AIUB-Backup\\clustering\\high_dim_analysis.py:138: FutureWarning: \n",
      "\n",
      "Passing `palette` without assigning `hue` is deprecated and will be removed in v0.14.0. Assign the `y` variable to `hue` and set `legend=False` for the same effect.\n",
      "\n",
      "  sns.barplot(x=mi_vals, y=features, palette=\"magma\")\n"
     ]
    },
    {
     "name": "stdout",
     "output_type": "stream",
     "text": [
      "Runtime for dbscan_clustering: 0.036814 seconds\n"
     ]
    },
    {
     "name": "stderr",
     "output_type": "stream",
     "text": [
      "c:\\Users\\fionu\\OneDrive\\Dokumente\\Daten Fiona\\AIUB\\Code\\AIUB-Backup\\clustering\\high_dim_analysis.py:138: FutureWarning: \n",
      "\n",
      "Passing `palette` without assigning `hue` is deprecated and will be removed in v0.14.0. Assign the `y` variable to `hue` and set `legend=False` for the same effect.\n",
      "\n",
      "  sns.barplot(x=mi_vals, y=features, palette=\"magma\")\n"
     ]
    },
    {
     "name": "stdout",
     "output_type": "stream",
     "text": [
      "Runtime for dbscan_clustering: 0.030004 seconds\n"
     ]
    },
    {
     "name": "stderr",
     "output_type": "stream",
     "text": [
      "c:\\Users\\fionu\\OneDrive\\Dokumente\\Daten Fiona\\AIUB\\Code\\AIUB-Backup\\clustering\\high_dim_analysis.py:138: FutureWarning: \n",
      "\n",
      "Passing `palette` without assigning `hue` is deprecated and will be removed in v0.14.0. Assign the `y` variable to `hue` and set `legend=False` for the same effect.\n",
      "\n",
      "  sns.barplot(x=mi_vals, y=features, palette=\"magma\")\n"
     ]
    },
    {
     "name": "stdout",
     "output_type": "stream",
     "text": [
      "Runtime for dbscan_clustering: 0.035545 seconds\n"
     ]
    },
    {
     "name": "stderr",
     "output_type": "stream",
     "text": [
      "c:\\Users\\fionu\\OneDrive\\Dokumente\\Daten Fiona\\AIUB\\Code\\AIUB-Backup\\clustering\\high_dim_analysis.py:138: FutureWarning: \n",
      "\n",
      "Passing `palette` without assigning `hue` is deprecated and will be removed in v0.14.0. Assign the `y` variable to `hue` and set `legend=False` for the same effect.\n",
      "\n",
      "  sns.barplot(x=mi_vals, y=features, palette=\"magma\")\n"
     ]
    },
    {
     "name": "stdout",
     "output_type": "stream",
     "text": [
      "Runtime for dbscan_clustering: 0.027923 seconds\n"
     ]
    },
    {
     "name": "stderr",
     "output_type": "stream",
     "text": [
      "c:\\Users\\fionu\\OneDrive\\Dokumente\\Daten Fiona\\AIUB\\Code\\AIUB-Backup\\clustering\\high_dim_analysis.py:138: FutureWarning: \n",
      "\n",
      "Passing `palette` without assigning `hue` is deprecated and will be removed in v0.14.0. Assign the `y` variable to `hue` and set `legend=False` for the same effect.\n",
      "\n",
      "  sns.barplot(x=mi_vals, y=features, palette=\"magma\")\n"
     ]
    },
    {
     "name": "stdout",
     "output_type": "stream",
     "text": [
      "Runtime for dbscan_clustering: 0.034226 seconds\n"
     ]
    },
    {
     "name": "stderr",
     "output_type": "stream",
     "text": [
      "c:\\Users\\fionu\\OneDrive\\Dokumente\\Daten Fiona\\AIUB\\Code\\AIUB-Backup\\clustering\\high_dim_analysis.py:138: FutureWarning: \n",
      "\n",
      "Passing `palette` without assigning `hue` is deprecated and will be removed in v0.14.0. Assign the `y` variable to `hue` and set `legend=False` for the same effect.\n",
      "\n",
      "  sns.barplot(x=mi_vals, y=features, palette=\"magma\")\n"
     ]
    },
    {
     "name": "stdout",
     "output_type": "stream",
     "text": [
      "Runtime for dbscan_clustering: 0.034914 seconds\n"
     ]
    },
    {
     "name": "stderr",
     "output_type": "stream",
     "text": [
      "c:\\Users\\fionu\\OneDrive\\Dokumente\\Daten Fiona\\AIUB\\Code\\AIUB-Backup\\clustering\\high_dim_analysis.py:138: FutureWarning: \n",
      "\n",
      "Passing `palette` without assigning `hue` is deprecated and will be removed in v0.14.0. Assign the `y` variable to `hue` and set `legend=False` for the same effect.\n",
      "\n",
      "  sns.barplot(x=mi_vals, y=features, palette=\"magma\")\n"
     ]
    },
    {
     "name": "stdout",
     "output_type": "stream",
     "text": [
      "Runtime for dbscan_clustering: 0.018579 seconds\n"
     ]
    },
    {
     "name": "stderr",
     "output_type": "stream",
     "text": [
      "c:\\Users\\fionu\\OneDrive\\Dokumente\\Daten Fiona\\AIUB\\Code\\AIUB-Backup\\clustering\\high_dim_analysis.py:138: FutureWarning: \n",
      "\n",
      "Passing `palette` without assigning `hue` is deprecated and will be removed in v0.14.0. Assign the `y` variable to `hue` and set `legend=False` for the same effect.\n",
      "\n",
      "  sns.barplot(x=mi_vals, y=features, palette=\"magma\")\n"
     ]
    },
    {
     "name": "stdout",
     "output_type": "stream",
     "text": [
      "Runtime for dbscan_clustering: 0.021114 seconds\n"
     ]
    },
    {
     "name": "stderr",
     "output_type": "stream",
     "text": [
      "c:\\Users\\fionu\\OneDrive\\Dokumente\\Daten Fiona\\AIUB\\Code\\AIUB-Backup\\clustering\\high_dim_analysis.py:138: FutureWarning: \n",
      "\n",
      "Passing `palette` without assigning `hue` is deprecated and will be removed in v0.14.0. Assign the `y` variable to `hue` and set `legend=False` for the same effect.\n",
      "\n",
      "  sns.barplot(x=mi_vals, y=features, palette=\"magma\")\n"
     ]
    },
    {
     "name": "stdout",
     "output_type": "stream",
     "text": [
      "Runtime for dbscan_clustering: 0.017948 seconds\n"
     ]
    },
    {
     "name": "stderr",
     "output_type": "stream",
     "text": [
      "c:\\Users\\fionu\\OneDrive\\Dokumente\\Daten Fiona\\AIUB\\Code\\AIUB-Backup\\clustering\\high_dim_analysis.py:138: FutureWarning: \n",
      "\n",
      "Passing `palette` without assigning `hue` is deprecated and will be removed in v0.14.0. Assign the `y` variable to `hue` and set `legend=False` for the same effect.\n",
      "\n",
      "  sns.barplot(x=mi_vals, y=features, palette=\"magma\")\n"
     ]
    },
    {
     "name": "stdout",
     "output_type": "stream",
     "text": [
      "Runtime for dbscan_clustering: 0.030359 seconds\n"
     ]
    },
    {
     "name": "stderr",
     "output_type": "stream",
     "text": [
      "c:\\Users\\fionu\\OneDrive\\Dokumente\\Daten Fiona\\AIUB\\Code\\AIUB-Backup\\clustering\\high_dim_analysis.py:138: FutureWarning: \n",
      "\n",
      "Passing `palette` without assigning `hue` is deprecated and will be removed in v0.14.0. Assign the `y` variable to `hue` and set `legend=False` for the same effect.\n",
      "\n",
      "  sns.barplot(x=mi_vals, y=features, palette=\"magma\")\n"
     ]
    },
    {
     "name": "stdout",
     "output_type": "stream",
     "text": [
      "Runtime for dbscan_clustering: 0.037284 seconds\n"
     ]
    },
    {
     "name": "stderr",
     "output_type": "stream",
     "text": [
      "c:\\Users\\fionu\\OneDrive\\Dokumente\\Daten Fiona\\AIUB\\Code\\AIUB-Backup\\clustering\\high_dim_analysis.py:138: FutureWarning: \n",
      "\n",
      "Passing `palette` without assigning `hue` is deprecated and will be removed in v0.14.0. Assign the `y` variable to `hue` and set `legend=False` for the same effect.\n",
      "\n",
      "  sns.barplot(x=mi_vals, y=features, palette=\"magma\")\n"
     ]
    },
    {
     "name": "stdout",
     "output_type": "stream",
     "text": [
      "Runtime for dbscan_clustering: 0.025735 seconds\n"
     ]
    },
    {
     "name": "stderr",
     "output_type": "stream",
     "text": [
      "c:\\Users\\fionu\\OneDrive\\Dokumente\\Daten Fiona\\AIUB\\Code\\AIUB-Backup\\clustering\\high_dim_analysis.py:42: FutureWarning: \n",
      "\n",
      "Passing `palette` without assigning `hue` is deprecated and will be removed in v0.14.0. Assign the `y` variable to `hue` and set `legend=False` for the same effect.\n",
      "\n",
      "  sns.barplot(x=f_vals, y=features, palette=\"crest\")\n"
     ]
    },
    {
     "name": "stdout",
     "output_type": "stream",
     "text": [
      "Best DBSCAN parameters based on ANOVA F-value:\n",
      "Year Range                                                       2018-2021\n",
      "eps                                                                   0.01\n",
      "min_samples                                                             30\n",
      "Runtime (s)                                                          0.019\n",
      "Clusters                                                                13\n",
      "Points per Cluster       {0: 425, 1: 176, 2: 251, 3: 101, 4: 54, 5: 92,...\n",
      "Noise Points                                                          2075\n",
      "Davies-Bouldin                                                        None\n",
      "Calinski-Harabasz                                                     None\n",
      "Weighted Mean ANOVA F                                            53901.663\n",
      "Name: 7, dtype: object\n"
     ]
    },
    {
     "data": {
      "application/vnd.microsoft.datawrangler.viewer.v0+json": {
       "columns": [
        {
         "name": "index",
         "rawType": "int64",
         "type": "integer"
        },
        {
         "name": "Year Range",
         "rawType": "object",
         "type": "string"
        },
        {
         "name": "eps",
         "rawType": "float64",
         "type": "float"
        },
        {
         "name": "min_samples",
         "rawType": "int64",
         "type": "integer"
        },
        {
         "name": "Runtime (s)",
         "rawType": "object",
         "type": "string"
        },
        {
         "name": "Clusters",
         "rawType": "int64",
         "type": "integer"
        },
        {
         "name": "Points per Cluster",
         "rawType": "object",
         "type": "unknown"
        },
        {
         "name": "Noise Points",
         "rawType": "int32",
         "type": "integer"
        },
        {
         "name": "Davies-Bouldin",
         "rawType": "object",
         "type": "unknown"
        },
        {
         "name": "Calinski-Harabasz",
         "rawType": "object",
         "type": "unknown"
        },
        {
         "name": "Weighted Mean ANOVA F",
         "rawType": "float64",
         "type": "float"
        }
       ],
       "ref": "0f4c5937-914e-4183-9990-8c022d9d4597",
       "rows": [
        [
         "0",
         "2018-2021",
         "0.02",
         "10",
         "0.046",
         "15",
         "{0: 544, 1: 1474, 2: 17, 3: 20, 4: 150, 5: 19, 6: 14, 7: 10, 8: 77, 9: 10, 10: 12, 11: 10, 12: 14, 13: 17, -1: 1054}",
         "1054",
         null,
         null,
         null
        ],
        [
         "1",
         "2018-2021",
         "0.02",
         "15",
         "0.037",
         "8",
         "{0: 536, 1: 1424, 2: 17, 3: 18, 4: 146, 5: 72, 6: 19, -1: 1210}",
         "1210",
         null,
         null,
         null
        ],
        [
         "2",
         "2018-2021",
         "0.02",
         "25",
         "0.030",
         "7",
         "{0: 531, 1: 643, 2: 146, 3: 615, 4: 72, 5: 92, -1: 1343}",
         "1343",
         null,
         null,
         null
        ],
        [
         "3",
         "2018-2021",
         "0.02",
         "30",
         "0.036",
         "7",
         "{0: 527, 1: 637, 2: 146, 3: 606, 4: 72, 5: 84, -1: 1370}",
         "1370",
         null,
         null,
         "25927.762"
        ],
        [
         "4",
         "2018-2021",
         "0.01",
         "10",
         "0.028",
         "24",
         "{0: 471, 1: 210, 2: 14, 3: 18, 4: 16, 5: 292, 6: 23, 7: 124, 8: 198, 9: 18, 10: 12, 11: 211, 12: 55, 13: 10, 14: 13, 15: 43, 16: 38, 17: 11, 18: 4, 19: 57, 20: 10, 21: 10, 22: 10, -1: 1574}",
         "1574",
         null,
         null,
         null
        ],
        [
         "5",
         "2018-2021",
         "0.01",
         "15",
         "0.034",
         "17",
         "{0: 458, 1: 206, 2: 16, 3: 288, 4: 23, 5: 108, 6: 168, 7: 18, 8: 205, 9: 54, 10: 15, 11: 43, 12: 34, 13: 51, 14: 10, 15: 15, -1: 1730}",
         "1730",
         null,
         null,
         null
        ],
        [
         "6",
         "2018-2021",
         "0.01",
         "25",
         "0.035",
         "12",
         "{0: 434, 1: 181, 2: 256, 3: 103, 4: 121, 5: 146, 6: 42, 7: 50, 8: 39, 9: 25, 10: 49, -1: 1996}",
         "1996",
         null,
         null,
         null
        ],
        [
         "7",
         "2018-2021",
         "0.01",
         "30",
         "0.019",
         "13",
         "{0: 425, 1: 176, 2: 251, 3: 101, 4: 54, 5: 92, 6: 78, 7: 42, 8: 50, 9: 19, 10: 47, 11: 32, -1: 2075}",
         "2075",
         null,
         null,
         "53901.663"
        ],
        [
         "8",
         "2018-2021",
         "0.015",
         "10",
         "0.021",
         "19",
         "{0: 526, 1: 574, 2: 10, 3: 16, 4: 23, 5: 140, 6: 279, 7: 28, 8: 342, 9: 70, 10: 10, 11: 96, 12: 10, 13: 10, 14: 10, 15: 7, 16: 13, 17: 10, -1: 1268}",
         "1268",
         null,
         null,
         null
        ],
        [
         "9",
         "2018-2021",
         "0.015",
         "15",
         "0.018",
         "12",
         "{0: 525, 1: 572, 2: 16, 3: 23, 4: 135, 5: 247, 6: 28, 7: 320, 8: 68, 9: 89, 10: 15, -1: 1404}",
         "1404",
         null,
         null,
         null
        ],
        [
         "10",
         "2018-2021",
         "0.015",
         "25",
         "0.030",
         "10",
         "{0: 522, 1: 540, 2: 126, 3: 237, 4: 231, 5: 65, 6: 79, 7: 25, 8: 71, -1: 1546}",
         "1546",
         null,
         null,
         null
        ],
        [
         "11",
         "2018-2021",
         "0.015",
         "30",
         "0.037",
         "9",
         "{0: 508, 1: 533, 2: 126, 3: 228, 4: 226, 5: 60, 6: 79, 7: 67, -1: 1615}",
         "1615",
         null,
         null,
         "22714.179"
        ]
       ],
       "shape": {
        "columns": 10,
        "rows": 12
       }
      },
      "text/html": [
       "<div>\n",
       "<style scoped>\n",
       "    .dataframe tbody tr th:only-of-type {\n",
       "        vertical-align: middle;\n",
       "    }\n",
       "\n",
       "    .dataframe tbody tr th {\n",
       "        vertical-align: top;\n",
       "    }\n",
       "\n",
       "    .dataframe thead th {\n",
       "        text-align: right;\n",
       "    }\n",
       "</style>\n",
       "<table border=\"1\" class=\"dataframe\">\n",
       "  <thead>\n",
       "    <tr style=\"text-align: right;\">\n",
       "      <th></th>\n",
       "      <th>Year Range</th>\n",
       "      <th>eps</th>\n",
       "      <th>min_samples</th>\n",
       "      <th>Runtime (s)</th>\n",
       "      <th>Clusters</th>\n",
       "      <th>Points per Cluster</th>\n",
       "      <th>Noise Points</th>\n",
       "      <th>Davies-Bouldin</th>\n",
       "      <th>Calinski-Harabasz</th>\n",
       "      <th>Weighted Mean ANOVA F</th>\n",
       "    </tr>\n",
       "  </thead>\n",
       "  <tbody>\n",
       "    <tr>\n",
       "      <th>0</th>\n",
       "      <td>2018-2021</td>\n",
       "      <td>0.020</td>\n",
       "      <td>10</td>\n",
       "      <td>0.046</td>\n",
       "      <td>15</td>\n",
       "      <td>{0: 544, 1: 1474, 2: 17, 3: 20, 4: 150, 5: 19,...</td>\n",
       "      <td>1054</td>\n",
       "      <td>None</td>\n",
       "      <td>None</td>\n",
       "      <td>NaN</td>\n",
       "    </tr>\n",
       "    <tr>\n",
       "      <th>1</th>\n",
       "      <td>2018-2021</td>\n",
       "      <td>0.020</td>\n",
       "      <td>15</td>\n",
       "      <td>0.037</td>\n",
       "      <td>8</td>\n",
       "      <td>{0: 536, 1: 1424, 2: 17, 3: 18, 4: 146, 5: 72,...</td>\n",
       "      <td>1210</td>\n",
       "      <td>None</td>\n",
       "      <td>None</td>\n",
       "      <td>NaN</td>\n",
       "    </tr>\n",
       "    <tr>\n",
       "      <th>2</th>\n",
       "      <td>2018-2021</td>\n",
       "      <td>0.020</td>\n",
       "      <td>25</td>\n",
       "      <td>0.030</td>\n",
       "      <td>7</td>\n",
       "      <td>{0: 531, 1: 643, 2: 146, 3: 615, 4: 72, 5: 92,...</td>\n",
       "      <td>1343</td>\n",
       "      <td>None</td>\n",
       "      <td>None</td>\n",
       "      <td>NaN</td>\n",
       "    </tr>\n",
       "    <tr>\n",
       "      <th>3</th>\n",
       "      <td>2018-2021</td>\n",
       "      <td>0.020</td>\n",
       "      <td>30</td>\n",
       "      <td>0.036</td>\n",
       "      <td>7</td>\n",
       "      <td>{0: 527, 1: 637, 2: 146, 3: 606, 4: 72, 5: 84,...</td>\n",
       "      <td>1370</td>\n",
       "      <td>None</td>\n",
       "      <td>None</td>\n",
       "      <td>25927.762</td>\n",
       "    </tr>\n",
       "    <tr>\n",
       "      <th>4</th>\n",
       "      <td>2018-2021</td>\n",
       "      <td>0.010</td>\n",
       "      <td>10</td>\n",
       "      <td>0.028</td>\n",
       "      <td>24</td>\n",
       "      <td>{0: 471, 1: 210, 2: 14, 3: 18, 4: 16, 5: 292, ...</td>\n",
       "      <td>1574</td>\n",
       "      <td>None</td>\n",
       "      <td>None</td>\n",
       "      <td>NaN</td>\n",
       "    </tr>\n",
       "    <tr>\n",
       "      <th>5</th>\n",
       "      <td>2018-2021</td>\n",
       "      <td>0.010</td>\n",
       "      <td>15</td>\n",
       "      <td>0.034</td>\n",
       "      <td>17</td>\n",
       "      <td>{0: 458, 1: 206, 2: 16, 3: 288, 4: 23, 5: 108,...</td>\n",
       "      <td>1730</td>\n",
       "      <td>None</td>\n",
       "      <td>None</td>\n",
       "      <td>NaN</td>\n",
       "    </tr>\n",
       "    <tr>\n",
       "      <th>6</th>\n",
       "      <td>2018-2021</td>\n",
       "      <td>0.010</td>\n",
       "      <td>25</td>\n",
       "      <td>0.035</td>\n",
       "      <td>12</td>\n",
       "      <td>{0: 434, 1: 181, 2: 256, 3: 103, 4: 121, 5: 14...</td>\n",
       "      <td>1996</td>\n",
       "      <td>None</td>\n",
       "      <td>None</td>\n",
       "      <td>NaN</td>\n",
       "    </tr>\n",
       "    <tr>\n",
       "      <th>7</th>\n",
       "      <td>2018-2021</td>\n",
       "      <td>0.010</td>\n",
       "      <td>30</td>\n",
       "      <td>0.019</td>\n",
       "      <td>13</td>\n",
       "      <td>{0: 425, 1: 176, 2: 251, 3: 101, 4: 54, 5: 92,...</td>\n",
       "      <td>2075</td>\n",
       "      <td>None</td>\n",
       "      <td>None</td>\n",
       "      <td>53901.663</td>\n",
       "    </tr>\n",
       "    <tr>\n",
       "      <th>8</th>\n",
       "      <td>2018-2021</td>\n",
       "      <td>0.015</td>\n",
       "      <td>10</td>\n",
       "      <td>0.021</td>\n",
       "      <td>19</td>\n",
       "      <td>{0: 526, 1: 574, 2: 10, 3: 16, 4: 23, 5: 140, ...</td>\n",
       "      <td>1268</td>\n",
       "      <td>None</td>\n",
       "      <td>None</td>\n",
       "      <td>NaN</td>\n",
       "    </tr>\n",
       "    <tr>\n",
       "      <th>9</th>\n",
       "      <td>2018-2021</td>\n",
       "      <td>0.015</td>\n",
       "      <td>15</td>\n",
       "      <td>0.018</td>\n",
       "      <td>12</td>\n",
       "      <td>{0: 525, 1: 572, 2: 16, 3: 23, 4: 135, 5: 247,...</td>\n",
       "      <td>1404</td>\n",
       "      <td>None</td>\n",
       "      <td>None</td>\n",
       "      <td>NaN</td>\n",
       "    </tr>\n",
       "    <tr>\n",
       "      <th>10</th>\n",
       "      <td>2018-2021</td>\n",
       "      <td>0.015</td>\n",
       "      <td>25</td>\n",
       "      <td>0.030</td>\n",
       "      <td>10</td>\n",
       "      <td>{0: 522, 1: 540, 2: 126, 3: 237, 4: 231, 5: 65...</td>\n",
       "      <td>1546</td>\n",
       "      <td>None</td>\n",
       "      <td>None</td>\n",
       "      <td>NaN</td>\n",
       "    </tr>\n",
       "    <tr>\n",
       "      <th>11</th>\n",
       "      <td>2018-2021</td>\n",
       "      <td>0.015</td>\n",
       "      <td>30</td>\n",
       "      <td>0.037</td>\n",
       "      <td>9</td>\n",
       "      <td>{0: 508, 1: 533, 2: 126, 3: 228, 4: 226, 5: 60...</td>\n",
       "      <td>1615</td>\n",
       "      <td>None</td>\n",
       "      <td>None</td>\n",
       "      <td>22714.179</td>\n",
       "    </tr>\n",
       "  </tbody>\n",
       "</table>\n",
       "</div>"
      ],
      "text/plain": [
       "   Year Range    eps  min_samples Runtime (s)  Clusters  \\\n",
       "0   2018-2021  0.020           10       0.046        15   \n",
       "1   2018-2021  0.020           15       0.037         8   \n",
       "2   2018-2021  0.020           25       0.030         7   \n",
       "3   2018-2021  0.020           30       0.036         7   \n",
       "4   2018-2021  0.010           10       0.028        24   \n",
       "5   2018-2021  0.010           15       0.034        17   \n",
       "6   2018-2021  0.010           25       0.035        12   \n",
       "7   2018-2021  0.010           30       0.019        13   \n",
       "8   2018-2021  0.015           10       0.021        19   \n",
       "9   2018-2021  0.015           15       0.018        12   \n",
       "10  2018-2021  0.015           25       0.030        10   \n",
       "11  2018-2021  0.015           30       0.037         9   \n",
       "\n",
       "                                   Points per Cluster  Noise Points  \\\n",
       "0   {0: 544, 1: 1474, 2: 17, 3: 20, 4: 150, 5: 19,...          1054   \n",
       "1   {0: 536, 1: 1424, 2: 17, 3: 18, 4: 146, 5: 72,...          1210   \n",
       "2   {0: 531, 1: 643, 2: 146, 3: 615, 4: 72, 5: 92,...          1343   \n",
       "3   {0: 527, 1: 637, 2: 146, 3: 606, 4: 72, 5: 84,...          1370   \n",
       "4   {0: 471, 1: 210, 2: 14, 3: 18, 4: 16, 5: 292, ...          1574   \n",
       "5   {0: 458, 1: 206, 2: 16, 3: 288, 4: 23, 5: 108,...          1730   \n",
       "6   {0: 434, 1: 181, 2: 256, 3: 103, 4: 121, 5: 14...          1996   \n",
       "7   {0: 425, 1: 176, 2: 251, 3: 101, 4: 54, 5: 92,...          2075   \n",
       "8   {0: 526, 1: 574, 2: 10, 3: 16, 4: 23, 5: 140, ...          1268   \n",
       "9   {0: 525, 1: 572, 2: 16, 3: 23, 4: 135, 5: 247,...          1404   \n",
       "10  {0: 522, 1: 540, 2: 126, 3: 237, 4: 231, 5: 65...          1546   \n",
       "11  {0: 508, 1: 533, 2: 126, 3: 228, 4: 226, 5: 60...          1615   \n",
       "\n",
       "   Davies-Bouldin Calinski-Harabasz  Weighted Mean ANOVA F  \n",
       "0            None              None                    NaN  \n",
       "1            None              None                    NaN  \n",
       "2            None              None                    NaN  \n",
       "3            None              None              25927.762  \n",
       "4            None              None                    NaN  \n",
       "5            None              None                    NaN  \n",
       "6            None              None                    NaN  \n",
       "7            None              None              53901.663  \n",
       "8            None              None                    NaN  \n",
       "9            None              None                    NaN  \n",
       "10           None              None                    NaN  \n",
       "11           None              None              22714.179  "
      ]
     },
     "metadata": {},
     "output_type": "display_data"
    },
    {
     "name": "stdout",
     "output_type": "stream",
     "text": [
      "\n",
      "Running DBSCAN for Year Range: 2019-2022\n",
      "Runtime for dbscan_clustering: 0.026886 seconds\n"
     ]
    },
    {
     "name": "stderr",
     "output_type": "stream",
     "text": [
      "c:\\Users\\fionu\\OneDrive\\Dokumente\\Daten Fiona\\AIUB\\Code\\AIUB-Backup\\clustering\\high_dim_analysis.py:138: FutureWarning: \n",
      "\n",
      "Passing `palette` without assigning `hue` is deprecated and will be removed in v0.14.0. Assign the `y` variable to `hue` and set `legend=False` for the same effect.\n",
      "\n",
      "  sns.barplot(x=mi_vals, y=features, palette=\"magma\")\n"
     ]
    },
    {
     "name": "stdout",
     "output_type": "stream",
     "text": [
      "Runtime for dbscan_clustering: 0.028226 seconds\n"
     ]
    },
    {
     "name": "stderr",
     "output_type": "stream",
     "text": [
      "c:\\Users\\fionu\\OneDrive\\Dokumente\\Daten Fiona\\AIUB\\Code\\AIUB-Backup\\clustering\\high_dim_analysis.py:138: FutureWarning: \n",
      "\n",
      "Passing `palette` without assigning `hue` is deprecated and will be removed in v0.14.0. Assign the `y` variable to `hue` and set `legend=False` for the same effect.\n",
      "\n",
      "  sns.barplot(x=mi_vals, y=features, palette=\"magma\")\n"
     ]
    },
    {
     "name": "stdout",
     "output_type": "stream",
     "text": [
      "Runtime for dbscan_clustering: 0.064520 seconds\n"
     ]
    },
    {
     "name": "stderr",
     "output_type": "stream",
     "text": [
      "c:\\Users\\fionu\\OneDrive\\Dokumente\\Daten Fiona\\AIUB\\Code\\AIUB-Backup\\clustering\\high_dim_analysis.py:138: FutureWarning: \n",
      "\n",
      "Passing `palette` without assigning `hue` is deprecated and will be removed in v0.14.0. Assign the `y` variable to `hue` and set `legend=False` for the same effect.\n",
      "\n",
      "  sns.barplot(x=mi_vals, y=features, palette=\"magma\")\n"
     ]
    },
    {
     "name": "stdout",
     "output_type": "stream",
     "text": [
      "Runtime for dbscan_clustering: 0.030738 seconds\n"
     ]
    },
    {
     "name": "stderr",
     "output_type": "stream",
     "text": [
      "c:\\Users\\fionu\\OneDrive\\Dokumente\\Daten Fiona\\AIUB\\Code\\AIUB-Backup\\clustering\\high_dim_analysis.py:138: FutureWarning: \n",
      "\n",
      "Passing `palette` without assigning `hue` is deprecated and will be removed in v0.14.0. Assign the `y` variable to `hue` and set `legend=False` for the same effect.\n",
      "\n",
      "  sns.barplot(x=mi_vals, y=features, palette=\"magma\")\n"
     ]
    },
    {
     "name": "stdout",
     "output_type": "stream",
     "text": [
      "Runtime for dbscan_clustering: 0.034006 seconds\n"
     ]
    },
    {
     "name": "stderr",
     "output_type": "stream",
     "text": [
      "c:\\Users\\fionu\\OneDrive\\Dokumente\\Daten Fiona\\AIUB\\Code\\AIUB-Backup\\clustering\\high_dim_analysis.py:138: FutureWarning: \n",
      "\n",
      "Passing `palette` without assigning `hue` is deprecated and will be removed in v0.14.0. Assign the `y` variable to `hue` and set `legend=False` for the same effect.\n",
      "\n",
      "  sns.barplot(x=mi_vals, y=features, palette=\"magma\")\n"
     ]
    },
    {
     "name": "stdout",
     "output_type": "stream",
     "text": [
      "Runtime for dbscan_clustering: 0.023932 seconds\n"
     ]
    },
    {
     "name": "stderr",
     "output_type": "stream",
     "text": [
      "c:\\Users\\fionu\\OneDrive\\Dokumente\\Daten Fiona\\AIUB\\Code\\AIUB-Backup\\clustering\\high_dim_analysis.py:138: FutureWarning: \n",
      "\n",
      "Passing `palette` without assigning `hue` is deprecated and will be removed in v0.14.0. Assign the `y` variable to `hue` and set `legend=False` for the same effect.\n",
      "\n",
      "  sns.barplot(x=mi_vals, y=features, palette=\"magma\")\n"
     ]
    },
    {
     "name": "stdout",
     "output_type": "stream",
     "text": [
      "Runtime for dbscan_clustering: 0.046068 seconds\n"
     ]
    },
    {
     "name": "stderr",
     "output_type": "stream",
     "text": [
      "c:\\Users\\fionu\\OneDrive\\Dokumente\\Daten Fiona\\AIUB\\Code\\AIUB-Backup\\clustering\\high_dim_analysis.py:138: FutureWarning: \n",
      "\n",
      "Passing `palette` without assigning `hue` is deprecated and will be removed in v0.14.0. Assign the `y` variable to `hue` and set `legend=False` for the same effect.\n",
      "\n",
      "  sns.barplot(x=mi_vals, y=features, palette=\"magma\")\n"
     ]
    },
    {
     "name": "stdout",
     "output_type": "stream",
     "text": [
      "Runtime for dbscan_clustering: 0.017882 seconds\n"
     ]
    },
    {
     "name": "stderr",
     "output_type": "stream",
     "text": [
      "c:\\Users\\fionu\\OneDrive\\Dokumente\\Daten Fiona\\AIUB\\Code\\AIUB-Backup\\clustering\\high_dim_analysis.py:138: FutureWarning: \n",
      "\n",
      "Passing `palette` without assigning `hue` is deprecated and will be removed in v0.14.0. Assign the `y` variable to `hue` and set `legend=False` for the same effect.\n",
      "\n",
      "  sns.barplot(x=mi_vals, y=features, palette=\"magma\")\n"
     ]
    },
    {
     "name": "stdout",
     "output_type": "stream",
     "text": [
      "Runtime for dbscan_clustering: 0.030534 seconds\n"
     ]
    },
    {
     "name": "stderr",
     "output_type": "stream",
     "text": [
      "c:\\Users\\fionu\\OneDrive\\Dokumente\\Daten Fiona\\AIUB\\Code\\AIUB-Backup\\clustering\\high_dim_analysis.py:138: FutureWarning: \n",
      "\n",
      "Passing `palette` without assigning `hue` is deprecated and will be removed in v0.14.0. Assign the `y` variable to `hue` and set `legend=False` for the same effect.\n",
      "\n",
      "  sns.barplot(x=mi_vals, y=features, palette=\"magma\")\n"
     ]
    },
    {
     "name": "stdout",
     "output_type": "stream",
     "text": [
      "Runtime for dbscan_clustering: 0.033138 seconds\n"
     ]
    },
    {
     "name": "stderr",
     "output_type": "stream",
     "text": [
      "c:\\Users\\fionu\\OneDrive\\Dokumente\\Daten Fiona\\AIUB\\Code\\AIUB-Backup\\clustering\\high_dim_analysis.py:138: FutureWarning: \n",
      "\n",
      "Passing `palette` without assigning `hue` is deprecated and will be removed in v0.14.0. Assign the `y` variable to `hue` and set `legend=False` for the same effect.\n",
      "\n",
      "  sns.barplot(x=mi_vals, y=features, palette=\"magma\")\n"
     ]
    },
    {
     "name": "stdout",
     "output_type": "stream",
     "text": [
      "Runtime for dbscan_clustering: 0.040193 seconds\n"
     ]
    },
    {
     "name": "stderr",
     "output_type": "stream",
     "text": [
      "c:\\Users\\fionu\\OneDrive\\Dokumente\\Daten Fiona\\AIUB\\Code\\AIUB-Backup\\clustering\\high_dim_analysis.py:138: FutureWarning: \n",
      "\n",
      "Passing `palette` without assigning `hue` is deprecated and will be removed in v0.14.0. Assign the `y` variable to `hue` and set `legend=False` for the same effect.\n",
      "\n",
      "  sns.barplot(x=mi_vals, y=features, palette=\"magma\")\n"
     ]
    },
    {
     "name": "stdout",
     "output_type": "stream",
     "text": [
      "Runtime for dbscan_clustering: 0.038296 seconds\n"
     ]
    },
    {
     "name": "stderr",
     "output_type": "stream",
     "text": [
      "c:\\Users\\fionu\\OneDrive\\Dokumente\\Daten Fiona\\AIUB\\Code\\AIUB-Backup\\clustering\\high_dim_analysis.py:138: FutureWarning: \n",
      "\n",
      "Passing `palette` without assigning `hue` is deprecated and will be removed in v0.14.0. Assign the `y` variable to `hue` and set `legend=False` for the same effect.\n",
      "\n",
      "  sns.barplot(x=mi_vals, y=features, palette=\"magma\")\n"
     ]
    },
    {
     "name": "stdout",
     "output_type": "stream",
     "text": [
      "Runtime for dbscan_clustering: 0.018022 seconds\n"
     ]
    },
    {
     "name": "stderr",
     "output_type": "stream",
     "text": [
      "c:\\Users\\fionu\\OneDrive\\Dokumente\\Daten Fiona\\AIUB\\Code\\AIUB-Backup\\clustering\\high_dim_analysis.py:42: FutureWarning: \n",
      "\n",
      "Passing `palette` without assigning `hue` is deprecated and will be removed in v0.14.0. Assign the `y` variable to `hue` and set `legend=False` for the same effect.\n",
      "\n",
      "  sns.barplot(x=f_vals, y=features, palette=\"crest\")\n"
     ]
    },
    {
     "name": "stdout",
     "output_type": "stream",
     "text": [
      "Best DBSCAN parameters based on ANOVA F-value:\n",
      "Year Range                                                       2019-2022\n",
      "eps                                                                   0.01\n",
      "min_samples                                                             30\n",
      "Runtime (s)                                                          0.018\n",
      "Clusters                                                                11\n",
      "Points per Cluster       {0: 67, 1: 342, 2: 160, 3: 236, 4: 73, 5: 64, ...\n",
      "Noise Points                                                          2320\n",
      "Davies-Bouldin                                                        None\n",
      "Calinski-Harabasz                                                     None\n",
      "Weighted Mean ANOVA F                                            54198.276\n",
      "Name: 7, dtype: object\n"
     ]
    },
    {
     "data": {
      "application/vnd.microsoft.datawrangler.viewer.v0+json": {
       "columns": [
        {
         "name": "index",
         "rawType": "int64",
         "type": "integer"
        },
        {
         "name": "Year Range",
         "rawType": "object",
         "type": "string"
        },
        {
         "name": "eps",
         "rawType": "float64",
         "type": "float"
        },
        {
         "name": "min_samples",
         "rawType": "int64",
         "type": "integer"
        },
        {
         "name": "Runtime (s)",
         "rawType": "object",
         "type": "string"
        },
        {
         "name": "Clusters",
         "rawType": "int64",
         "type": "integer"
        },
        {
         "name": "Points per Cluster",
         "rawType": "object",
         "type": "unknown"
        },
        {
         "name": "Noise Points",
         "rawType": "int32",
         "type": "integer"
        },
        {
         "name": "Davies-Bouldin",
         "rawType": "object",
         "type": "unknown"
        },
        {
         "name": "Calinski-Harabasz",
         "rawType": "object",
         "type": "unknown"
        },
        {
         "name": "Weighted Mean ANOVA F",
         "rawType": "float64",
         "type": "float"
        }
       ],
       "ref": "8ab7df9b-19b4-4316-8cd6-afec16c82ec3",
       "rows": [
        [
         "0",
         "2019-2022",
         "0.02",
         "10",
         "0.027",
         "22",
         "{0: 10, 1: 23, 2: 1456, 3: 415, 4: 12, 5: 10, 6: 113, 7: 216, 8: 26, 9: 12, 10: 21, 11: 10, 12: 19, 13: 13, 14: 13, 15: 19, 16: 10, 17: 11, 18: 12, 19: 35, 20: 10, -1: 1143}",
         "1143",
         null,
         null,
         null
        ],
        [
         "1",
         "2019-2022",
         "0.02",
         "15",
         "0.028",
         "9",
         "{0: 17, 1: 1428, 2: 411, 3: 109, 4: 215, 5: 26, 6: 20, 7: 33, -1: 1350}",
         "1350",
         null,
         null,
         null
        ],
        [
         "2",
         "2019-2022",
         "0.02",
         "25",
         "0.065",
         "10",
         "{0: 456, 1: 406, 2: 27, 3: 814, 4: 104, 5: 209, 6: 79, 7: 28, 8: 26, -1: 1460}",
         "1460",
         null,
         null,
         null
        ],
        [
         "3",
         "2019-2022",
         "0.02",
         "30",
         "0.031",
         "7",
         "{0: 456, 1: 406, 2: 809, 3: 104, 4: 209, 5: 69, -1: 1556}",
         "1556",
         null,
         null,
         "22360.82"
        ],
        [
         "4",
         "2019-2022",
         "0.01",
         "10",
         "0.034",
         "23",
         "{0: 131, 1: 17, 2: 370, 3: 10, 4: 10, 5: 211, 6: 20, 7: 256, 8: 350, 9: 80, 10: 188, 11: 15, 12: 12, 13: 8, 14: 17, 15: 42, 16: 36, 17: 10, 18: 49, 19: 11, 20: 17, 21: 19, -1: 1730}",
         "1730",
         null,
         null,
         null
        ],
        [
         "5",
         "2019-2022",
         "0.01",
         "15",
         "0.024",
         "17",
         "{0: 129, 1: 351, 2: 200, 3: 250, 4: 306, 5: 77, 6: 176, 7: 15, 8: 41, 9: 33, 10: 21, 11: 43, 12: 5, 13: 20, 14: 19, 15: 17, -1: 1906}",
         "1906",
         null,
         null,
         null
        ],
        [
         "6",
         "2019-2022",
         "0.01",
         "25",
         "0.046",
         "11",
         "{0: 107, 1: 344, 2: 233, 3: 246, 4: 68, 5: 140, 6: 38, 7: 40, 8: 149, 9: 26, -1: 2218}",
         "2218",
         null,
         null,
         null
        ],
        [
         "7",
         "2019-2022",
         "0.01",
         "30",
         "0.018",
         "11",
         "{0: 67, 1: 342, 2: 160, 3: 236, 4: 73, 5: 64, 6: 40, 7: 149, 8: 125, 9: 33, -1: 2320}",
         "2320",
         null,
         null,
         "54198.276"
        ],
        [
         "8",
         "2019-2022",
         "0.015",
         "10",
         "0.031",
         "14",
         "{0: 442, 1: 405, 2: 20, 3: 806, 4: 109, 5: 208, 6: 15, 7: 12, 8: 85, 9: 11, 10: 10, 11: 10, 12: 28, -1: 1448}",
         "1448",
         null,
         null,
         null
        ],
        [
         "9",
         "2019-2022",
         "0.015",
         "15",
         "0.033",
         "13",
         "{0: 407, 1: 404, 2: 20, 3: 756, 4: 15, 5: 100, 6: 201, 7: 15, 8: 32, 9: 61, 10: 17, 11: 25, -1: 1556}",
         "1556",
         null,
         null,
         null
        ],
        [
         "10",
         "2019-2022",
         "0.015",
         "25",
         "0.040",
         "11",
         "{0: 148, 1: 394, 2: 224, 3: 286, 4: 377, 5: 96, 6: 191, 7: 79, 8: 29, 9: 58, -1: 1727}",
         "1727",
         null,
         null,
         null
        ],
        [
         "11",
         "2019-2022",
         "0.015",
         "30",
         "0.038",
         "10",
         "{0: 139, 1: 386, 2: 224, 3: 282, 4: 372, 5: 96, 6: 191, 7: 79, 8: 57, -1: 1783}",
         "1783",
         null,
         null,
         "34217.665"
        ]
       ],
       "shape": {
        "columns": 10,
        "rows": 12
       }
      },
      "text/html": [
       "<div>\n",
       "<style scoped>\n",
       "    .dataframe tbody tr th:only-of-type {\n",
       "        vertical-align: middle;\n",
       "    }\n",
       "\n",
       "    .dataframe tbody tr th {\n",
       "        vertical-align: top;\n",
       "    }\n",
       "\n",
       "    .dataframe thead th {\n",
       "        text-align: right;\n",
       "    }\n",
       "</style>\n",
       "<table border=\"1\" class=\"dataframe\">\n",
       "  <thead>\n",
       "    <tr style=\"text-align: right;\">\n",
       "      <th></th>\n",
       "      <th>Year Range</th>\n",
       "      <th>eps</th>\n",
       "      <th>min_samples</th>\n",
       "      <th>Runtime (s)</th>\n",
       "      <th>Clusters</th>\n",
       "      <th>Points per Cluster</th>\n",
       "      <th>Noise Points</th>\n",
       "      <th>Davies-Bouldin</th>\n",
       "      <th>Calinski-Harabasz</th>\n",
       "      <th>Weighted Mean ANOVA F</th>\n",
       "    </tr>\n",
       "  </thead>\n",
       "  <tbody>\n",
       "    <tr>\n",
       "      <th>0</th>\n",
       "      <td>2019-2022</td>\n",
       "      <td>0.020</td>\n",
       "      <td>10</td>\n",
       "      <td>0.027</td>\n",
       "      <td>22</td>\n",
       "      <td>{0: 10, 1: 23, 2: 1456, 3: 415, 4: 12, 5: 10, ...</td>\n",
       "      <td>1143</td>\n",
       "      <td>None</td>\n",
       "      <td>None</td>\n",
       "      <td>NaN</td>\n",
       "    </tr>\n",
       "    <tr>\n",
       "      <th>1</th>\n",
       "      <td>2019-2022</td>\n",
       "      <td>0.020</td>\n",
       "      <td>15</td>\n",
       "      <td>0.028</td>\n",
       "      <td>9</td>\n",
       "      <td>{0: 17, 1: 1428, 2: 411, 3: 109, 4: 215, 5: 26...</td>\n",
       "      <td>1350</td>\n",
       "      <td>None</td>\n",
       "      <td>None</td>\n",
       "      <td>NaN</td>\n",
       "    </tr>\n",
       "    <tr>\n",
       "      <th>2</th>\n",
       "      <td>2019-2022</td>\n",
       "      <td>0.020</td>\n",
       "      <td>25</td>\n",
       "      <td>0.065</td>\n",
       "      <td>10</td>\n",
       "      <td>{0: 456, 1: 406, 2: 27, 3: 814, 4: 104, 5: 209...</td>\n",
       "      <td>1460</td>\n",
       "      <td>None</td>\n",
       "      <td>None</td>\n",
       "      <td>NaN</td>\n",
       "    </tr>\n",
       "    <tr>\n",
       "      <th>3</th>\n",
       "      <td>2019-2022</td>\n",
       "      <td>0.020</td>\n",
       "      <td>30</td>\n",
       "      <td>0.031</td>\n",
       "      <td>7</td>\n",
       "      <td>{0: 456, 1: 406, 2: 809, 3: 104, 4: 209, 5: 69...</td>\n",
       "      <td>1556</td>\n",
       "      <td>None</td>\n",
       "      <td>None</td>\n",
       "      <td>22360.820</td>\n",
       "    </tr>\n",
       "    <tr>\n",
       "      <th>4</th>\n",
       "      <td>2019-2022</td>\n",
       "      <td>0.010</td>\n",
       "      <td>10</td>\n",
       "      <td>0.034</td>\n",
       "      <td>23</td>\n",
       "      <td>{0: 131, 1: 17, 2: 370, 3: 10, 4: 10, 5: 211, ...</td>\n",
       "      <td>1730</td>\n",
       "      <td>None</td>\n",
       "      <td>None</td>\n",
       "      <td>NaN</td>\n",
       "    </tr>\n",
       "    <tr>\n",
       "      <th>5</th>\n",
       "      <td>2019-2022</td>\n",
       "      <td>0.010</td>\n",
       "      <td>15</td>\n",
       "      <td>0.024</td>\n",
       "      <td>17</td>\n",
       "      <td>{0: 129, 1: 351, 2: 200, 3: 250, 4: 306, 5: 77...</td>\n",
       "      <td>1906</td>\n",
       "      <td>None</td>\n",
       "      <td>None</td>\n",
       "      <td>NaN</td>\n",
       "    </tr>\n",
       "    <tr>\n",
       "      <th>6</th>\n",
       "      <td>2019-2022</td>\n",
       "      <td>0.010</td>\n",
       "      <td>25</td>\n",
       "      <td>0.046</td>\n",
       "      <td>11</td>\n",
       "      <td>{0: 107, 1: 344, 2: 233, 3: 246, 4: 68, 5: 140...</td>\n",
       "      <td>2218</td>\n",
       "      <td>None</td>\n",
       "      <td>None</td>\n",
       "      <td>NaN</td>\n",
       "    </tr>\n",
       "    <tr>\n",
       "      <th>7</th>\n",
       "      <td>2019-2022</td>\n",
       "      <td>0.010</td>\n",
       "      <td>30</td>\n",
       "      <td>0.018</td>\n",
       "      <td>11</td>\n",
       "      <td>{0: 67, 1: 342, 2: 160, 3: 236, 4: 73, 5: 64, ...</td>\n",
       "      <td>2320</td>\n",
       "      <td>None</td>\n",
       "      <td>None</td>\n",
       "      <td>54198.276</td>\n",
       "    </tr>\n",
       "    <tr>\n",
       "      <th>8</th>\n",
       "      <td>2019-2022</td>\n",
       "      <td>0.015</td>\n",
       "      <td>10</td>\n",
       "      <td>0.031</td>\n",
       "      <td>14</td>\n",
       "      <td>{0: 442, 1: 405, 2: 20, 3: 806, 4: 109, 5: 208...</td>\n",
       "      <td>1448</td>\n",
       "      <td>None</td>\n",
       "      <td>None</td>\n",
       "      <td>NaN</td>\n",
       "    </tr>\n",
       "    <tr>\n",
       "      <th>9</th>\n",
       "      <td>2019-2022</td>\n",
       "      <td>0.015</td>\n",
       "      <td>15</td>\n",
       "      <td>0.033</td>\n",
       "      <td>13</td>\n",
       "      <td>{0: 407, 1: 404, 2: 20, 3: 756, 4: 15, 5: 100,...</td>\n",
       "      <td>1556</td>\n",
       "      <td>None</td>\n",
       "      <td>None</td>\n",
       "      <td>NaN</td>\n",
       "    </tr>\n",
       "    <tr>\n",
       "      <th>10</th>\n",
       "      <td>2019-2022</td>\n",
       "      <td>0.015</td>\n",
       "      <td>25</td>\n",
       "      <td>0.040</td>\n",
       "      <td>11</td>\n",
       "      <td>{0: 148, 1: 394, 2: 224, 3: 286, 4: 377, 5: 96...</td>\n",
       "      <td>1727</td>\n",
       "      <td>None</td>\n",
       "      <td>None</td>\n",
       "      <td>NaN</td>\n",
       "    </tr>\n",
       "    <tr>\n",
       "      <th>11</th>\n",
       "      <td>2019-2022</td>\n",
       "      <td>0.015</td>\n",
       "      <td>30</td>\n",
       "      <td>0.038</td>\n",
       "      <td>10</td>\n",
       "      <td>{0: 139, 1: 386, 2: 224, 3: 282, 4: 372, 5: 96...</td>\n",
       "      <td>1783</td>\n",
       "      <td>None</td>\n",
       "      <td>None</td>\n",
       "      <td>34217.665</td>\n",
       "    </tr>\n",
       "  </tbody>\n",
       "</table>\n",
       "</div>"
      ],
      "text/plain": [
       "   Year Range    eps  min_samples Runtime (s)  Clusters  \\\n",
       "0   2019-2022  0.020           10       0.027        22   \n",
       "1   2019-2022  0.020           15       0.028         9   \n",
       "2   2019-2022  0.020           25       0.065        10   \n",
       "3   2019-2022  0.020           30       0.031         7   \n",
       "4   2019-2022  0.010           10       0.034        23   \n",
       "5   2019-2022  0.010           15       0.024        17   \n",
       "6   2019-2022  0.010           25       0.046        11   \n",
       "7   2019-2022  0.010           30       0.018        11   \n",
       "8   2019-2022  0.015           10       0.031        14   \n",
       "9   2019-2022  0.015           15       0.033        13   \n",
       "10  2019-2022  0.015           25       0.040        11   \n",
       "11  2019-2022  0.015           30       0.038        10   \n",
       "\n",
       "                                   Points per Cluster  Noise Points  \\\n",
       "0   {0: 10, 1: 23, 2: 1456, 3: 415, 4: 12, 5: 10, ...          1143   \n",
       "1   {0: 17, 1: 1428, 2: 411, 3: 109, 4: 215, 5: 26...          1350   \n",
       "2   {0: 456, 1: 406, 2: 27, 3: 814, 4: 104, 5: 209...          1460   \n",
       "3   {0: 456, 1: 406, 2: 809, 3: 104, 4: 209, 5: 69...          1556   \n",
       "4   {0: 131, 1: 17, 2: 370, 3: 10, 4: 10, 5: 211, ...          1730   \n",
       "5   {0: 129, 1: 351, 2: 200, 3: 250, 4: 306, 5: 77...          1906   \n",
       "6   {0: 107, 1: 344, 2: 233, 3: 246, 4: 68, 5: 140...          2218   \n",
       "7   {0: 67, 1: 342, 2: 160, 3: 236, 4: 73, 5: 64, ...          2320   \n",
       "8   {0: 442, 1: 405, 2: 20, 3: 806, 4: 109, 5: 208...          1448   \n",
       "9   {0: 407, 1: 404, 2: 20, 3: 756, 4: 15, 5: 100,...          1556   \n",
       "10  {0: 148, 1: 394, 2: 224, 3: 286, 4: 377, 5: 96...          1727   \n",
       "11  {0: 139, 1: 386, 2: 224, 3: 282, 4: 372, 5: 96...          1783   \n",
       "\n",
       "   Davies-Bouldin Calinski-Harabasz  Weighted Mean ANOVA F  \n",
       "0            None              None                    NaN  \n",
       "1            None              None                    NaN  \n",
       "2            None              None                    NaN  \n",
       "3            None              None              22360.820  \n",
       "4            None              None                    NaN  \n",
       "5            None              None                    NaN  \n",
       "6            None              None                    NaN  \n",
       "7            None              None              54198.276  \n",
       "8            None              None                    NaN  \n",
       "9            None              None                    NaN  \n",
       "10           None              None                    NaN  \n",
       "11           None              None              34217.665  "
      ]
     },
     "metadata": {},
     "output_type": "display_data"
    },
    {
     "name": "stdout",
     "output_type": "stream",
     "text": [
      "\n",
      "Running DBSCAN for Year Range: 2020-2023\n",
      "Runtime for dbscan_clustering: 0.045452 seconds\n"
     ]
    },
    {
     "name": "stderr",
     "output_type": "stream",
     "text": [
      "c:\\Users\\fionu\\OneDrive\\Dokumente\\Daten Fiona\\AIUB\\Code\\AIUB-Backup\\clustering\\high_dim_analysis.py:138: FutureWarning: \n",
      "\n",
      "Passing `palette` without assigning `hue` is deprecated and will be removed in v0.14.0. Assign the `y` variable to `hue` and set `legend=False` for the same effect.\n",
      "\n",
      "  sns.barplot(x=mi_vals, y=features, palette=\"magma\")\n"
     ]
    },
    {
     "name": "stdout",
     "output_type": "stream",
     "text": [
      "Runtime for dbscan_clustering: 0.051154 seconds\n"
     ]
    },
    {
     "name": "stderr",
     "output_type": "stream",
     "text": [
      "c:\\Users\\fionu\\OneDrive\\Dokumente\\Daten Fiona\\AIUB\\Code\\AIUB-Backup\\clustering\\high_dim_analysis.py:138: FutureWarning: \n",
      "\n",
      "Passing `palette` without assigning `hue` is deprecated and will be removed in v0.14.0. Assign the `y` variable to `hue` and set `legend=False` for the same effect.\n",
      "\n",
      "  sns.barplot(x=mi_vals, y=features, palette=\"magma\")\n"
     ]
    },
    {
     "name": "stdout",
     "output_type": "stream",
     "text": [
      "Runtime for dbscan_clustering: 0.032166 seconds\n"
     ]
    },
    {
     "name": "stderr",
     "output_type": "stream",
     "text": [
      "c:\\Users\\fionu\\OneDrive\\Dokumente\\Daten Fiona\\AIUB\\Code\\AIUB-Backup\\clustering\\high_dim_analysis.py:138: FutureWarning: \n",
      "\n",
      "Passing `palette` without assigning `hue` is deprecated and will be removed in v0.14.0. Assign the `y` variable to `hue` and set `legend=False` for the same effect.\n",
      "\n",
      "  sns.barplot(x=mi_vals, y=features, palette=\"magma\")\n"
     ]
    },
    {
     "name": "stdout",
     "output_type": "stream",
     "text": [
      "Runtime for dbscan_clustering: 0.043676 seconds\n"
     ]
    },
    {
     "name": "stderr",
     "output_type": "stream",
     "text": [
      "c:\\Users\\fionu\\OneDrive\\Dokumente\\Daten Fiona\\AIUB\\Code\\AIUB-Backup\\clustering\\high_dim_analysis.py:138: FutureWarning: \n",
      "\n",
      "Passing `palette` without assigning `hue` is deprecated and will be removed in v0.14.0. Assign the `y` variable to `hue` and set `legend=False` for the same effect.\n",
      "\n",
      "  sns.barplot(x=mi_vals, y=features, palette=\"magma\")\n"
     ]
    },
    {
     "name": "stdout",
     "output_type": "stream",
     "text": [
      "Runtime for dbscan_clustering: 0.023886 seconds\n"
     ]
    },
    {
     "name": "stderr",
     "output_type": "stream",
     "text": [
      "c:\\Users\\fionu\\OneDrive\\Dokumente\\Daten Fiona\\AIUB\\Code\\AIUB-Backup\\clustering\\high_dim_analysis.py:138: FutureWarning: \n",
      "\n",
      "Passing `palette` without assigning `hue` is deprecated and will be removed in v0.14.0. Assign the `y` variable to `hue` and set `legend=False` for the same effect.\n",
      "\n",
      "  sns.barplot(x=mi_vals, y=features, palette=\"magma\")\n"
     ]
    },
    {
     "name": "stdout",
     "output_type": "stream",
     "text": [
      "Runtime for dbscan_clustering: 0.022322 seconds\n"
     ]
    },
    {
     "name": "stderr",
     "output_type": "stream",
     "text": [
      "c:\\Users\\fionu\\OneDrive\\Dokumente\\Daten Fiona\\AIUB\\Code\\AIUB-Backup\\clustering\\high_dim_analysis.py:138: FutureWarning: \n",
      "\n",
      "Passing `palette` without assigning `hue` is deprecated and will be removed in v0.14.0. Assign the `y` variable to `hue` and set `legend=False` for the same effect.\n",
      "\n",
      "  sns.barplot(x=mi_vals, y=features, palette=\"magma\")\n"
     ]
    },
    {
     "name": "stdout",
     "output_type": "stream",
     "text": [
      "Runtime for dbscan_clustering: 0.013704 seconds\n"
     ]
    },
    {
     "name": "stderr",
     "output_type": "stream",
     "text": [
      "c:\\Users\\fionu\\OneDrive\\Dokumente\\Daten Fiona\\AIUB\\Code\\AIUB-Backup\\clustering\\high_dim_analysis.py:138: FutureWarning: \n",
      "\n",
      "Passing `palette` without assigning `hue` is deprecated and will be removed in v0.14.0. Assign the `y` variable to `hue` and set `legend=False` for the same effect.\n",
      "\n",
      "  sns.barplot(x=mi_vals, y=features, palette=\"magma\")\n"
     ]
    },
    {
     "name": "stdout",
     "output_type": "stream",
     "text": [
      "Runtime for dbscan_clustering: 0.029710 seconds\n"
     ]
    },
    {
     "name": "stderr",
     "output_type": "stream",
     "text": [
      "c:\\Users\\fionu\\OneDrive\\Dokumente\\Daten Fiona\\AIUB\\Code\\AIUB-Backup\\clustering\\high_dim_analysis.py:138: FutureWarning: \n",
      "\n",
      "Passing `palette` without assigning `hue` is deprecated and will be removed in v0.14.0. Assign the `y` variable to `hue` and set `legend=False` for the same effect.\n",
      "\n",
      "  sns.barplot(x=mi_vals, y=features, palette=\"magma\")\n"
     ]
    },
    {
     "name": "stdout",
     "output_type": "stream",
     "text": [
      "Runtime for dbscan_clustering: 0.039465 seconds\n"
     ]
    },
    {
     "name": "stderr",
     "output_type": "stream",
     "text": [
      "c:\\Users\\fionu\\OneDrive\\Dokumente\\Daten Fiona\\AIUB\\Code\\AIUB-Backup\\clustering\\high_dim_analysis.py:138: FutureWarning: \n",
      "\n",
      "Passing `palette` without assigning `hue` is deprecated and will be removed in v0.14.0. Assign the `y` variable to `hue` and set `legend=False` for the same effect.\n",
      "\n",
      "  sns.barplot(x=mi_vals, y=features, palette=\"magma\")\n"
     ]
    },
    {
     "name": "stdout",
     "output_type": "stream",
     "text": [
      "Runtime for dbscan_clustering: 0.029873 seconds\n"
     ]
    },
    {
     "name": "stderr",
     "output_type": "stream",
     "text": [
      "c:\\Users\\fionu\\OneDrive\\Dokumente\\Daten Fiona\\AIUB\\Code\\AIUB-Backup\\clustering\\high_dim_analysis.py:138: FutureWarning: \n",
      "\n",
      "Passing `palette` without assigning `hue` is deprecated and will be removed in v0.14.0. Assign the `y` variable to `hue` and set `legend=False` for the same effect.\n",
      "\n",
      "  sns.barplot(x=mi_vals, y=features, palette=\"magma\")\n"
     ]
    },
    {
     "name": "stdout",
     "output_type": "stream",
     "text": [
      "Runtime for dbscan_clustering: 0.053551 seconds\n"
     ]
    },
    {
     "name": "stderr",
     "output_type": "stream",
     "text": [
      "c:\\Users\\fionu\\OneDrive\\Dokumente\\Daten Fiona\\AIUB\\Code\\AIUB-Backup\\clustering\\high_dim_analysis.py:138: FutureWarning: \n",
      "\n",
      "Passing `palette` without assigning `hue` is deprecated and will be removed in v0.14.0. Assign the `y` variable to `hue` and set `legend=False` for the same effect.\n",
      "\n",
      "  sns.barplot(x=mi_vals, y=features, palette=\"magma\")\n"
     ]
    },
    {
     "name": "stdout",
     "output_type": "stream",
     "text": [
      "Runtime for dbscan_clustering: 0.026462 seconds\n"
     ]
    },
    {
     "name": "stderr",
     "output_type": "stream",
     "text": [
      "c:\\Users\\fionu\\OneDrive\\Dokumente\\Daten Fiona\\AIUB\\Code\\AIUB-Backup\\clustering\\high_dim_analysis.py:138: FutureWarning: \n",
      "\n",
      "Passing `palette` without assigning `hue` is deprecated and will be removed in v0.14.0. Assign the `y` variable to `hue` and set `legend=False` for the same effect.\n",
      "\n",
      "  sns.barplot(x=mi_vals, y=features, palette=\"magma\")\n"
     ]
    },
    {
     "name": "stdout",
     "output_type": "stream",
     "text": [
      "Runtime for dbscan_clustering: 0.031616 seconds\n"
     ]
    },
    {
     "name": "stderr",
     "output_type": "stream",
     "text": [
      "c:\\Users\\fionu\\OneDrive\\Dokumente\\Daten Fiona\\AIUB\\Code\\AIUB-Backup\\clustering\\high_dim_analysis.py:42: FutureWarning: \n",
      "\n",
      "Passing `palette` without assigning `hue` is deprecated and will be removed in v0.14.0. Assign the `y` variable to `hue` and set `legend=False` for the same effect.\n",
      "\n",
      "  sns.barplot(x=f_vals, y=features, palette=\"crest\")\n"
     ]
    },
    {
     "name": "stdout",
     "output_type": "stream",
     "text": [
      "Best DBSCAN parameters based on ANOVA F-value:\n",
      "Year Range                                                       2020-2023\n",
      "eps                                                                   0.01\n",
      "min_samples                                                             30\n",
      "Runtime (s)                                                          0.030\n",
      "Clusters                                                                12\n",
      "Points per Cluster       {0: 417, 1: 89, 2: 70, 3: 234, 4: 41, 5: 165, ...\n",
      "Noise Points                                                          2702\n",
      "Davies-Bouldin                                                        None\n",
      "Calinski-Harabasz                                                     None\n",
      "Weighted Mean ANOVA F                                            54284.893\n",
      "Name: 7, dtype: object\n"
     ]
    },
    {
     "data": {
      "application/vnd.microsoft.datawrangler.viewer.v0+json": {
       "columns": [
        {
         "name": "index",
         "rawType": "int64",
         "type": "integer"
        },
        {
         "name": "Year Range",
         "rawType": "object",
         "type": "string"
        },
        {
         "name": "eps",
         "rawType": "float64",
         "type": "float"
        },
        {
         "name": "min_samples",
         "rawType": "int64",
         "type": "integer"
        },
        {
         "name": "Runtime (s)",
         "rawType": "object",
         "type": "string"
        },
        {
         "name": "Clusters",
         "rawType": "int64",
         "type": "integer"
        },
        {
         "name": "Points per Cluster",
         "rawType": "object",
         "type": "unknown"
        },
        {
         "name": "Noise Points",
         "rawType": "int32",
         "type": "integer"
        },
        {
         "name": "Davies-Bouldin",
         "rawType": "object",
         "type": "unknown"
        },
        {
         "name": "Calinski-Harabasz",
         "rawType": "object",
         "type": "unknown"
        },
        {
         "name": "Weighted Mean ANOVA F",
         "rawType": "float64",
         "type": "float"
        }
       ],
       "ref": "40b544f4-48b0-4c00-9bf2-d324381600aa",
       "rows": [
        [
         "0",
         "2020-2023",
         "0.02",
         "10",
         "0.045",
         "28",
         "{0: 52, 1: 484, 2: 1797, 3: 17, 4: 14, 5: 151, 6: 11, 7: 217, 8: 26, 9: 17, 10: 22, 11: 10, 12: 10, 13: 21, 14: 12, 15: 106, 16: 10, 17: 10, 18: 20, 19: 11, 20: 16, 21: 21, 22: 10, 23: 5, 24: 10, 25: 10, 26: 10, -1: 1272}",
         "1272",
         null,
         null,
         null
        ],
        [
         "1",
         "2020-2023",
         "0.02",
         "15",
         "0.051",
         "14",
         "{0: 50, 1: 484, 2: 1771, 3: 151, 4: 217, 5: 26, 6: 16, 7: 21, 8: 15, 9: 18, 10: 89, 11: 15, 12: 16, -1: 1483}",
         "1483",
         null,
         null,
         null
        ],
        [
         "2",
         "2020-2023",
         "0.02",
         "25",
         "0.032",
         "8",
         "{0: 484, 1: 1592, 2: 143, 3: 123, 4: 211, 5: 61, 6: 26, -1: 1732}",
         "1732",
         null,
         null,
         null
        ],
        [
         "3",
         "2020-2023",
         "0.02",
         "30",
         "0.044",
         "7",
         "{0: 481, 1: 1573, 2: 142, 3: 118, 4: 211, 5: 61, -1: 1786}",
         "1786",
         null,
         null,
         "16685.002"
        ],
        [
         "4",
         "2020-2023",
         "0.01",
         "10",
         "0.024",
         "22",
         "{0: 10, 1: 446, 2: 231, 3: 11, 4: 37, 5: 310, 6: 10, 7: 95, 8: 257, 9: 17, 10: 395, 11: 109, 12: 191, 13: 73, 14: 11, 15: 25, 16: 10, 17: 10, 18: 15, 19: 39, 20: 10, -1: 2060}",
         "2060",
         null,
         null,
         null
        ],
        [
         "5",
         "2020-2023",
         "0.01",
         "15",
         "0.022",
         "17",
         "{0: 424, 1: 183, 2: 24, 3: 25, 4: 302, 5: 94, 6: 250, 7: 387, 8: 108, 9: 181, 10: 73, 11: 24, 12: 15, 13: 12, 14: 30, 15: 17, -1: 2223}",
         "2223",
         null,
         null,
         null
        ],
        [
         "6",
         "2020-2023",
         "0.01",
         "25",
         "0.014",
         "13",
         "{0: 419, 1: 173, 2: 281, 3: 43, 4: 33, 5: 230, 6: 306, 7: 94, 8: 26, 9: 58, 10: 147, 11: 25, -1: 2537}",
         "2537",
         null,
         null,
         null
        ],
        [
         "7",
         "2020-2023",
         "0.01",
         "30",
         "0.030",
         "12",
         "{0: 417, 1: 89, 2: 70, 3: 234, 4: 41, 5: 165, 6: 294, 7: 65, 8: 94, 9: 58, 10: 143, -1: 2702}",
         "2702",
         null,
         null,
         "54284.893"
        ],
        [
         "8",
         "2020-2023",
         "0.015",
         "10",
         "0.039",
         "23",
         "{0: 10, 1: 480, 2: 647, 3: 11, 4: 881, 5: 17, 6: 150, 7: 127, 8: 210, 9: 11, 10: 12, 11: 20, 12: 10, 13: 13, 14: 15, 15: 27, 16: 51, 17: 11, 18: 12, 19: 7, 20: 16, 21: 13, -1: 1621}",
         "1621",
         null,
         null,
         null
        ],
        [
         "9",
         "2020-2023",
         "0.015",
         "15",
         "0.030",
         "12",
         "{0: 477, 1: 632, 2: 420, 3: 17, 4: 421, 5: 137, 6: 123, 7: 202, 8: 15, 9: 51, 10: 15, -1: 1862}",
         "1862",
         null,
         null,
         null
        ],
        [
         "10",
         "2020-2023",
         "0.015",
         "25",
         "0.054",
         "12",
         "{0: 468, 1: 580, 2: 47, 3: 96, 4: 278, 5: 415, 6: 128, 7: 86, 8: 202, 9: 25, 10: 37, -1: 2010}",
         "2010",
         null,
         null,
         null
        ],
        [
         "11",
         "2020-2023",
         "0.015",
         "30",
         "0.026",
         "12",
         "{0: 468, 1: 241, 2: 323, 3: 44, 4: 96, 5: 272, 6: 410, 7: 128, 8: 83, 9: 195, 10: 30, -1: 2082}",
         "2082",
         null,
         null,
         "33935.282"
        ]
       ],
       "shape": {
        "columns": 10,
        "rows": 12
       }
      },
      "text/html": [
       "<div>\n",
       "<style scoped>\n",
       "    .dataframe tbody tr th:only-of-type {\n",
       "        vertical-align: middle;\n",
       "    }\n",
       "\n",
       "    .dataframe tbody tr th {\n",
       "        vertical-align: top;\n",
       "    }\n",
       "\n",
       "    .dataframe thead th {\n",
       "        text-align: right;\n",
       "    }\n",
       "</style>\n",
       "<table border=\"1\" class=\"dataframe\">\n",
       "  <thead>\n",
       "    <tr style=\"text-align: right;\">\n",
       "      <th></th>\n",
       "      <th>Year Range</th>\n",
       "      <th>eps</th>\n",
       "      <th>min_samples</th>\n",
       "      <th>Runtime (s)</th>\n",
       "      <th>Clusters</th>\n",
       "      <th>Points per Cluster</th>\n",
       "      <th>Noise Points</th>\n",
       "      <th>Davies-Bouldin</th>\n",
       "      <th>Calinski-Harabasz</th>\n",
       "      <th>Weighted Mean ANOVA F</th>\n",
       "    </tr>\n",
       "  </thead>\n",
       "  <tbody>\n",
       "    <tr>\n",
       "      <th>0</th>\n",
       "      <td>2020-2023</td>\n",
       "      <td>0.020</td>\n",
       "      <td>10</td>\n",
       "      <td>0.045</td>\n",
       "      <td>28</td>\n",
       "      <td>{0: 52, 1: 484, 2: 1797, 3: 17, 4: 14, 5: 151,...</td>\n",
       "      <td>1272</td>\n",
       "      <td>None</td>\n",
       "      <td>None</td>\n",
       "      <td>NaN</td>\n",
       "    </tr>\n",
       "    <tr>\n",
       "      <th>1</th>\n",
       "      <td>2020-2023</td>\n",
       "      <td>0.020</td>\n",
       "      <td>15</td>\n",
       "      <td>0.051</td>\n",
       "      <td>14</td>\n",
       "      <td>{0: 50, 1: 484, 2: 1771, 3: 151, 4: 217, 5: 26...</td>\n",
       "      <td>1483</td>\n",
       "      <td>None</td>\n",
       "      <td>None</td>\n",
       "      <td>NaN</td>\n",
       "    </tr>\n",
       "    <tr>\n",
       "      <th>2</th>\n",
       "      <td>2020-2023</td>\n",
       "      <td>0.020</td>\n",
       "      <td>25</td>\n",
       "      <td>0.032</td>\n",
       "      <td>8</td>\n",
       "      <td>{0: 484, 1: 1592, 2: 143, 3: 123, 4: 211, 5: 6...</td>\n",
       "      <td>1732</td>\n",
       "      <td>None</td>\n",
       "      <td>None</td>\n",
       "      <td>NaN</td>\n",
       "    </tr>\n",
       "    <tr>\n",
       "      <th>3</th>\n",
       "      <td>2020-2023</td>\n",
       "      <td>0.020</td>\n",
       "      <td>30</td>\n",
       "      <td>0.044</td>\n",
       "      <td>7</td>\n",
       "      <td>{0: 481, 1: 1573, 2: 142, 3: 118, 4: 211, 5: 6...</td>\n",
       "      <td>1786</td>\n",
       "      <td>None</td>\n",
       "      <td>None</td>\n",
       "      <td>16685.002</td>\n",
       "    </tr>\n",
       "    <tr>\n",
       "      <th>4</th>\n",
       "      <td>2020-2023</td>\n",
       "      <td>0.010</td>\n",
       "      <td>10</td>\n",
       "      <td>0.024</td>\n",
       "      <td>22</td>\n",
       "      <td>{0: 10, 1: 446, 2: 231, 3: 11, 4: 37, 5: 310, ...</td>\n",
       "      <td>2060</td>\n",
       "      <td>None</td>\n",
       "      <td>None</td>\n",
       "      <td>NaN</td>\n",
       "    </tr>\n",
       "    <tr>\n",
       "      <th>5</th>\n",
       "      <td>2020-2023</td>\n",
       "      <td>0.010</td>\n",
       "      <td>15</td>\n",
       "      <td>0.022</td>\n",
       "      <td>17</td>\n",
       "      <td>{0: 424, 1: 183, 2: 24, 3: 25, 4: 302, 5: 94, ...</td>\n",
       "      <td>2223</td>\n",
       "      <td>None</td>\n",
       "      <td>None</td>\n",
       "      <td>NaN</td>\n",
       "    </tr>\n",
       "    <tr>\n",
       "      <th>6</th>\n",
       "      <td>2020-2023</td>\n",
       "      <td>0.010</td>\n",
       "      <td>25</td>\n",
       "      <td>0.014</td>\n",
       "      <td>13</td>\n",
       "      <td>{0: 419, 1: 173, 2: 281, 3: 43, 4: 33, 5: 230,...</td>\n",
       "      <td>2537</td>\n",
       "      <td>None</td>\n",
       "      <td>None</td>\n",
       "      <td>NaN</td>\n",
       "    </tr>\n",
       "    <tr>\n",
       "      <th>7</th>\n",
       "      <td>2020-2023</td>\n",
       "      <td>0.010</td>\n",
       "      <td>30</td>\n",
       "      <td>0.030</td>\n",
       "      <td>12</td>\n",
       "      <td>{0: 417, 1: 89, 2: 70, 3: 234, 4: 41, 5: 165, ...</td>\n",
       "      <td>2702</td>\n",
       "      <td>None</td>\n",
       "      <td>None</td>\n",
       "      <td>54284.893</td>\n",
       "    </tr>\n",
       "    <tr>\n",
       "      <th>8</th>\n",
       "      <td>2020-2023</td>\n",
       "      <td>0.015</td>\n",
       "      <td>10</td>\n",
       "      <td>0.039</td>\n",
       "      <td>23</td>\n",
       "      <td>{0: 10, 1: 480, 2: 647, 3: 11, 4: 881, 5: 17, ...</td>\n",
       "      <td>1621</td>\n",
       "      <td>None</td>\n",
       "      <td>None</td>\n",
       "      <td>NaN</td>\n",
       "    </tr>\n",
       "    <tr>\n",
       "      <th>9</th>\n",
       "      <td>2020-2023</td>\n",
       "      <td>0.015</td>\n",
       "      <td>15</td>\n",
       "      <td>0.030</td>\n",
       "      <td>12</td>\n",
       "      <td>{0: 477, 1: 632, 2: 420, 3: 17, 4: 421, 5: 137...</td>\n",
       "      <td>1862</td>\n",
       "      <td>None</td>\n",
       "      <td>None</td>\n",
       "      <td>NaN</td>\n",
       "    </tr>\n",
       "    <tr>\n",
       "      <th>10</th>\n",
       "      <td>2020-2023</td>\n",
       "      <td>0.015</td>\n",
       "      <td>25</td>\n",
       "      <td>0.054</td>\n",
       "      <td>12</td>\n",
       "      <td>{0: 468, 1: 580, 2: 47, 3: 96, 4: 278, 5: 415,...</td>\n",
       "      <td>2010</td>\n",
       "      <td>None</td>\n",
       "      <td>None</td>\n",
       "      <td>NaN</td>\n",
       "    </tr>\n",
       "    <tr>\n",
       "      <th>11</th>\n",
       "      <td>2020-2023</td>\n",
       "      <td>0.015</td>\n",
       "      <td>30</td>\n",
       "      <td>0.026</td>\n",
       "      <td>12</td>\n",
       "      <td>{0: 468, 1: 241, 2: 323, 3: 44, 4: 96, 5: 272,...</td>\n",
       "      <td>2082</td>\n",
       "      <td>None</td>\n",
       "      <td>None</td>\n",
       "      <td>33935.282</td>\n",
       "    </tr>\n",
       "  </tbody>\n",
       "</table>\n",
       "</div>"
      ],
      "text/plain": [
       "   Year Range    eps  min_samples Runtime (s)  Clusters  \\\n",
       "0   2020-2023  0.020           10       0.045        28   \n",
       "1   2020-2023  0.020           15       0.051        14   \n",
       "2   2020-2023  0.020           25       0.032         8   \n",
       "3   2020-2023  0.020           30       0.044         7   \n",
       "4   2020-2023  0.010           10       0.024        22   \n",
       "5   2020-2023  0.010           15       0.022        17   \n",
       "6   2020-2023  0.010           25       0.014        13   \n",
       "7   2020-2023  0.010           30       0.030        12   \n",
       "8   2020-2023  0.015           10       0.039        23   \n",
       "9   2020-2023  0.015           15       0.030        12   \n",
       "10  2020-2023  0.015           25       0.054        12   \n",
       "11  2020-2023  0.015           30       0.026        12   \n",
       "\n",
       "                                   Points per Cluster  Noise Points  \\\n",
       "0   {0: 52, 1: 484, 2: 1797, 3: 17, 4: 14, 5: 151,...          1272   \n",
       "1   {0: 50, 1: 484, 2: 1771, 3: 151, 4: 217, 5: 26...          1483   \n",
       "2   {0: 484, 1: 1592, 2: 143, 3: 123, 4: 211, 5: 6...          1732   \n",
       "3   {0: 481, 1: 1573, 2: 142, 3: 118, 4: 211, 5: 6...          1786   \n",
       "4   {0: 10, 1: 446, 2: 231, 3: 11, 4: 37, 5: 310, ...          2060   \n",
       "5   {0: 424, 1: 183, 2: 24, 3: 25, 4: 302, 5: 94, ...          2223   \n",
       "6   {0: 419, 1: 173, 2: 281, 3: 43, 4: 33, 5: 230,...          2537   \n",
       "7   {0: 417, 1: 89, 2: 70, 3: 234, 4: 41, 5: 165, ...          2702   \n",
       "8   {0: 10, 1: 480, 2: 647, 3: 11, 4: 881, 5: 17, ...          1621   \n",
       "9   {0: 477, 1: 632, 2: 420, 3: 17, 4: 421, 5: 137...          1862   \n",
       "10  {0: 468, 1: 580, 2: 47, 3: 96, 4: 278, 5: 415,...          2010   \n",
       "11  {0: 468, 1: 241, 2: 323, 3: 44, 4: 96, 5: 272,...          2082   \n",
       "\n",
       "   Davies-Bouldin Calinski-Harabasz  Weighted Mean ANOVA F  \n",
       "0            None              None                    NaN  \n",
       "1            None              None                    NaN  \n",
       "2            None              None                    NaN  \n",
       "3            None              None              16685.002  \n",
       "4            None              None                    NaN  \n",
       "5            None              None                    NaN  \n",
       "6            None              None                    NaN  \n",
       "7            None              None              54284.893  \n",
       "8            None              None                    NaN  \n",
       "9            None              None                    NaN  \n",
       "10           None              None                    NaN  \n",
       "11           None              None              33935.282  "
      ]
     },
     "metadata": {},
     "output_type": "display_data"
    }
   ],
   "source": [
    "import cluster_data_5d\n",
    "from cluster_data_5d import run_clustering, normalize_data, unnormalize\n",
    "import numpy as np\n",
    "import pandas as pd\n",
    "import os\n",
    "from kmeans import k_means\n",
    "from cluster_plotter import ClusterPlotter\n",
    "from clustering_utils_5d import ClusterData\n",
    "import cluster_plotter\n",
    "from DBSCAN import dbscan_clustering\n",
    "import high_dim_analysis\n",
    "\n",
    "# Define year ranges\n",
    "standard_year_ranges = {\n",
    "    f\"{start}-{start + 3}\": np.arange(start, start + 4)\n",
    "    for start in [2002, 2006, 2010, 2014, 2019]\n",
    "}\n",
    "standard_year_ranges[\"2019-2023\"] = np.arange(2019, 2024)  # Include 2023\n",
    "running_ranges = cluster_data_5d.generate_running_year_ranges(2002, 2023, 4)\n",
    "\n",
    "binned_data = cluster_data_5d.bin_data_for_clustering(running_ranges, print_res=False)\n",
    "\n",
    "results_per_year_range = {}\n",
    "\n",
    "# Output directory for plots\n",
    "plot_dir = \"Images\\dbscan_tests_running_bins_5d\"\n",
    "os.makedirs(plot_dir, exist_ok=True)\n",
    "cluster_plotter.clear_directory(plot_dir)\n",
    "\n",
    "for cluster_data, year_range in binned_data:  \n",
    "    print(f\"\\nRunning DBSCAN for Year Range: {year_range}\")\n",
    "\n",
    "    data_array = np.array([cluster_data.inc, cluster_data.raan, cluster_data.sem_maj]).T\n",
    "    feature_names = [\"inclination [°]\", \"RAAN [°]\", \"semi major axis [km]\"]\n",
    "\n",
    "    normalized_data, data_min, data_max = normalize_data(data_array)\n",
    "\n",
    "    # DBSCAN parameter ranges\n",
    "    eps_values = [0.02, 0.01, 0.015]\n",
    "    min_samples_values = [10, 15, 25, 30]\n",
    "\n",
    "    results = []\n",
    "\n",
    "    for eps in eps_values:\n",
    "        for min_samples in min_samples_values:\n",
    "            result_dbscan, time_dbscan, n_clusters_dbscan, points_per_cluster_dbscan, metrics_dbscan = run_clustering(\n",
    "                dbscan_clustering, \"DBSCAN\", normalized_data, data_min, data_max, eps=eps, min_samples=min_samples\n",
    "            )\n",
    "\n",
    "            unnormalized_data, _ = unnormalize(\n",
    "                result_dbscan.data, None, data_min, data_max\n",
    "            )\n",
    "            # Count noise points\n",
    "            noise_points = np.sum(result_dbscan.labels == -1)\n",
    "\n",
    "            results.append({\n",
    "                \"Year Range\": year_range,\n",
    "                \"eps\": eps,\n",
    "                \"min_samples\": min_samples,\n",
    "                \"Runtime (s)\": f\"{time_dbscan:.3f}\",\n",
    "                \"Clusters\": n_clusters_dbscan,\n",
    "                \"Points per Cluster\": points_per_cluster_dbscan,\n",
    "                \"Noise Points\": noise_points,\n",
    "                \"Davies-Bouldin\": f\"{metrics_dbscan[0]:.3f}\" if metrics_dbscan and isinstance(metrics_dbscan[0], (int, float)) else None,\n",
    "                \"Calinski-Harabasz\": f\"{metrics_dbscan[1]:.3f}\" if metrics_dbscan and isinstance(metrics_dbscan[1], (int, float)) else None\n",
    "            })\n",
    "\n",
    "\n",
    "            labels = result_dbscan.labels\n",
    "            \"\"\"high_dim_analysis.plot_co_membership(\n",
    "                labels,\n",
    "                output_folder=plot_dir,\n",
    "                filename=f\"co_membership_{year_range}_eps{eps}_minsamples_{min_samples}.png\"\n",
    "            )\"\"\"\n",
    "            high_dim_analysis.plot_correlation_heatmap(\n",
    "                cluster_data,\n",
    "                output_folder=plot_dir,\n",
    "                filename=f\"corr_{year_range}_eps{eps}_minsamples_{min_samples}.png\"\n",
    "            )\n",
    "            high_dim_analysis.plot_mutual_information(\n",
    "                cluster_data,\n",
    "                labels,\n",
    "                output_folder=plot_dir,\n",
    "                filename=f\"mi_{year_range}_eps{eps}_minsamples_{min_samples}.png\"\n",
    "            )\n",
    "            \n",
    "        from sklearn.feature_selection import f_classif\n",
    "        X = np.array([cluster_data.inc, cluster_data.raan, cluster_data.sem_maj,\n",
    "              cluster_data.ecc, cluster_data.mag]).T\n",
    "        valid = labels != -1  # Exclude noise points\n",
    "        if np.any(valid) and len(np.unique(labels[valid])) > 1:\n",
    "            f_vals, _ = f_classif(X[valid], labels[valid])\n",
    "            weights = np.var(X[valid], axis=0)\n",
    "            weighted_mean_f = np.average(f_vals, weights=weights)\n",
    "        else:\n",
    "            weighted_mean_f = 0.0  # Avoid invalid or single-cluster cases\n",
    "\n",
    "        results[-1][\"Weighted Mean ANOVA F\"] = f\"{weighted_mean_f:.3f}\"\n",
    "\n",
    "    df = pd.DataFrame(results)\n",
    "\n",
    "    df[\"Weighted Mean ANOVA F\"] = pd.to_numeric(df[\"Weighted Mean ANOVA F\"], errors=\"coerce\")\n",
    "    df_sorted = df.sort_values(by=\"Weighted Mean ANOVA F\", ascending=False)\n",
    "    best_params = df_sorted.iloc[0]\n",
    "    best_eps = best_params[\"eps\"]\n",
    "    best_min_samples = best_params[\"min_samples\"]\n",
    "\n",
    "    # Re-run clustering with best parameters to get labels\n",
    "    best_result, _, _, _, _ = run_clustering(\n",
    "        dbscan_clustering, \"DBSCAN\", normalized_data, data_min, data_max,\n",
    "        eps=best_eps, min_samples=best_min_samples\n",
    "    )\n",
    "    best_labels = best_result.labels\n",
    "\n",
    "    # Plot ANOVA F-values only for best result\n",
    "    high_dim_analysis.plot_anova_f_values(\n",
    "        cluster_data,\n",
    "        best_labels,\n",
    "        output_folder=plot_dir,\n",
    "        filename=f\"anova_best_{year_range}_eps{best_eps}_minsamples_{best_min_samples}.png\",\n",
    "        title=f\"ANOVA F-values (Best DBSCAN Parameters), eps = {float(best_eps)}, minsamples = {float(best_min_samples)}\"\n",
    "    )\n",
    "\n",
    "    print(\"Best DBSCAN parameters based on ANOVA F-value:\")\n",
    "    print(best_params)\n",
    "    display(df)"
   ]
  }
 ],
 "metadata": {
  "kernelspec": {
   "display_name": "base",
   "language": "python",
   "name": "python3"
  },
  "language_info": {
   "codemirror_mode": {
    "name": "ipython",
    "version": 3
   },
   "file_extension": ".py",
   "mimetype": "text/x-python",
   "name": "python",
   "nbconvert_exporter": "python",
   "pygments_lexer": "ipython3",
   "version": "3.12.3"
  }
 },
 "nbformat": 4,
 "nbformat_minor": 5
}
