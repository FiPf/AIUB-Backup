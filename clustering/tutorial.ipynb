{
 "cells": [
  {
   "cell_type": "markdown",
   "id": "7d8e8401",
   "metadata": {},
   "source": [
    "# Lambda functions"
   ]
  },
  {
   "cell_type": "markdown",
   "id": "36a435a0",
   "metadata": {},
   "source": [
    "- lambda calculus can encode any computation, it is Turing complete\n",
    "- contrary to a Turing machine, it is pure and does not keep a state\n",
    "- lambda calculus is a different model of computation, which can be tranlated in Turing machines (Church-Turing hypothesis)\n",
    "- functional langugages inherit the lambda calculus, imperative languages (Python) use principles of Turing machines\n",
    "- Python has added a few features of a functional langugae, such as map(), filter(), reduce() and the lambda operator\n",
    "- An anyonymous function is a function without a name, created with the lambda keyword. \n",
    "- Lambda functions are frequently used with higher-order functions, which take one or more functions as arguments or return one or more functions."
   ]
  },
  {
   "cell_type": "code",
   "execution_count": null,
   "id": "5dcbb2d8",
   "metadata": {},
   "outputs": [
    {
     "name": "stdout",
     "output_type": "stream",
     "text": [
      "10 6\n"
     ]
    },
    {
     "data": {
      "text/plain": [
       "'Full name: Guido Van Rossum'"
      ]
     },
     "execution_count": 2,
     "metadata": {},
     "output_type": "execute_result"
    }
   ],
   "source": [
    "# very simple and stupid examples\n",
    "\n",
    "def identity(x): \n",
    "    return x\n",
    "f = lambda x : x\n",
    "print(identity(10), f(6))\n",
    "\n",
    "full_name = lambda first, last: f'Full name: {first.title()} {last.title()}'\n",
    "full_name('guido', 'van rossum')\n",
    "'Full name: Guido Van Rossum'"
   ]
  },
  {
   "cell_type": "markdown",
   "id": "c21a8ee0",
   "metadata": {},
   "source": [
    "# Higher order functions\n",
    "A lambda functuin can be a higher-order function by taking a function (normal or lambda) as an argument: \n",
    "\n",
    "Python exposes higher-order functions as built-in functions or in the standard library. Examples include map(), filter(), functools.reduce(), as well as key functions like sort(), sorted(), min(), and max(). You’ll use lambda functions together with Python higher-order functions in Appropriate Uses of Lambda Expressions."
   ]
  },
  {
   "cell_type": "code",
   "execution_count": null,
   "id": "55db72a8",
   "metadata": {},
   "outputs": [
    {
     "name": "stdout",
     "output_type": "stream",
     "text": [
      "6\n",
      "7\n"
     ]
    }
   ],
   "source": [
    "high_ord_func = lambda x, func: x + func(x)\n",
    "print(high_ord_func(2, lambda x: x*x))\n",
    "print(high_ord_func(2, lambda x : x + 3))"
   ]
  },
  {
   "cell_type": "markdown",
   "id": "bd15b6c5",
   "metadata": {},
   "source": [
    "Syntax\n",
    "\n",
    "As you saw in the previous sections, a lambda form presents syntactic distinctions from a normal function. In particular, a lambda function has the following characteristics:\n",
    "\n",
    "    It can only contain expressions and can’t include statements in its body.\n",
    "    It is written as a single line of execution.\n",
    "    It does not support type annotations.\n",
    "    It can be immediately invoked (IIFE). This allows you to pass the definition of a Python lambda expression to a higher-order function like map(), filter(), or functools.reduce(), or to a key function.\n"
   ]
  },
  {
   "cell_type": "code",
   "execution_count": null,
   "id": "734c4d45",
   "metadata": {},
   "outputs": [
    {
     "name": "stdout",
     "output_type": "stream",
     "text": [
      "x = 0, y = 4, z = 5\n",
      "closure(5) = 9\n",
      "x = 1, y = 4, z = 6\n",
      "closure(6) = 11\n",
      "x = 2, y = 4, z = 7\n",
      "closure(7) = 13\n"
     ]
    }
   ],
   "source": [
    "#how to make a closure using normal functions and lambda functions\n",
    "def outer_func(x):\n",
    "    y = 4\n",
    "    def inner_func(z):\n",
    "        print(f\"x = {x}, y = {y}, z = {z}\")\n",
    "        return x + y + z\n",
    "    return inner_func\n",
    "\n",
    "for i in range(3):\n",
    "    closure = outer_func(i)\n",
    "    print(f\"closure({i+5}) = {closure(i+5)}\")\n",
    "\n",
    "\n",
    "def outer_func(x):\n",
    "    y = 4\n",
    "    return lambda z: x + y + z\n",
    "\n",
    "for i in range(3):\n",
    "    closure = outer_func(i)\n",
    "    print(f\"closure({i+5}) = {closure(i+5)}\")"
   ]
  }
 ],
 "metadata": {
  "kernelspec": {
   "display_name": "base",
   "language": "python",
   "name": "python3"
  },
  "language_info": {
   "codemirror_mode": {
    "name": "ipython",
    "version": 3
   },
   "file_extension": ".py",
   "mimetype": "text/x-python",
   "name": "python",
   "nbconvert_exporter": "python",
   "pygments_lexer": "ipython3",
   "version": "3.12.3"
  }
 },
 "nbformat": 4,
 "nbformat_minor": 5
}
