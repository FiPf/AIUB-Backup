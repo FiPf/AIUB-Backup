{
 "cells": [
  {
   "cell_type": "code",
   "execution_count": 1,
   "metadata": {},
   "outputs": [
    {
     "name": "stdout",
     "output_type": "stream",
     "text": [
      "\n",
      "Running DBSCAN for Year Range: 2002-2005\n",
      "\n",
      "DBSCAN result:\n"
     ]
    },
    {
     "name": "stderr",
     "output_type": "stream",
     "text": [
      "Running DBSCAN:  33%|███▎      | 1/3 [00:00<00:00,  2.71step/s]"
     ]
    },
    {
     "name": "stdout",
     "output_type": "stream",
     "text": [
      "Runtime for dbscan_clustering: 0.368435 seconds\n"
     ]
    },
    {
     "name": "stderr",
     "output_type": "stream",
     "text": [
      "c:\\Users\\fionu\\OneDrive\\Dokumente\\Daten Fiona\\AIUB\\Code\\AIUB-Backup\\clustering\\scores.py:170: RuntimeWarning: invalid value encountered in sqrt\n",
      "  stds[label] = tuple(np.sqrt(eigenvalues))\n",
      "Running DBSCAN: 100%|██████████| 3/3 [00:08<00:00,  2.76s/step]\n"
     ]
    },
    {
     "name": "stdout",
     "output_type": "stream",
     "text": [
      "\n",
      "DBSCAN result:\n"
     ]
    },
    {
     "name": "stderr",
     "output_type": "stream",
     "text": [
      "Running DBSCAN:  33%|███▎      | 1/3 [00:00<00:00,  2.87step/s]"
     ]
    },
    {
     "name": "stdout",
     "output_type": "stream",
     "text": [
      "Runtime for dbscan_clustering: 0.346906 seconds\n"
     ]
    },
    {
     "name": "stderr",
     "output_type": "stream",
     "text": [
      "Running DBSCAN: 100%|██████████| 3/3 [00:07<00:00,  2.64s/step]\n"
     ]
    },
    {
     "name": "stdout",
     "output_type": "stream",
     "text": [
      "\n",
      "DBSCAN result:\n"
     ]
    },
    {
     "name": "stderr",
     "output_type": "stream",
     "text": [
      "Running DBSCAN:  33%|███▎      | 1/3 [00:00<00:00,  3.12step/s]"
     ]
    },
    {
     "name": "stdout",
     "output_type": "stream",
     "text": [
      "Runtime for dbscan_clustering: 0.320231 seconds\n"
     ]
    },
    {
     "name": "stderr",
     "output_type": "stream",
     "text": [
      "Running DBSCAN: 100%|██████████| 3/3 [00:07<00:00,  2.60s/step]\n"
     ]
    },
    {
     "name": "stdout",
     "output_type": "stream",
     "text": [
      "\n",
      "DBSCAN result:\n"
     ]
    },
    {
     "name": "stderr",
     "output_type": "stream",
     "text": [
      "Running DBSCAN:  33%|███▎      | 1/3 [00:00<00:00,  2.52step/s]"
     ]
    },
    {
     "name": "stdout",
     "output_type": "stream",
     "text": [
      "Runtime for dbscan_clustering: 0.397425 seconds\n"
     ]
    },
    {
     "name": "stderr",
     "output_type": "stream",
     "text": [
      "Running DBSCAN: 100%|██████████| 3/3 [00:07<00:00,  2.55s/step]\n"
     ]
    },
    {
     "name": "stdout",
     "output_type": "stream",
     "text": [
      "\n",
      "DBSCAN result:\n"
     ]
    },
    {
     "name": "stderr",
     "output_type": "stream",
     "text": [
      "Running DBSCAN:  33%|███▎      | 1/3 [00:00<00:00,  2.37step/s]"
     ]
    },
    {
     "name": "stdout",
     "output_type": "stream",
     "text": [
      "Runtime for dbscan_clustering: 0.420795 seconds\n"
     ]
    },
    {
     "name": "stderr",
     "output_type": "stream",
     "text": [
      "Running DBSCAN: 100%|██████████| 3/3 [00:07<00:00,  2.52s/step]\n"
     ]
    },
    {
     "name": "stdout",
     "output_type": "stream",
     "text": [
      "\n",
      "DBSCAN result:\n"
     ]
    },
    {
     "name": "stderr",
     "output_type": "stream",
     "text": [
      "Running DBSCAN:  33%|███▎      | 1/3 [00:00<00:00,  2.34step/s]"
     ]
    },
    {
     "name": "stdout",
     "output_type": "stream",
     "text": [
      "Runtime for dbscan_clustering: 0.426632 seconds\n"
     ]
    },
    {
     "name": "stderr",
     "output_type": "stream",
     "text": [
      "Running DBSCAN: 100%|██████████| 3/3 [00:16<00:00,  5.49s/step]\n"
     ]
    },
    {
     "name": "stdout",
     "output_type": "stream",
     "text": [
      "\n",
      "DBSCAN result:\n"
     ]
    },
    {
     "name": "stderr",
     "output_type": "stream",
     "text": [
      "Running DBSCAN:  33%|███▎      | 1/3 [00:00<00:01,  1.47step/s]"
     ]
    },
    {
     "name": "stdout",
     "output_type": "stream",
     "text": [
      "Runtime for dbscan_clustering: 0.679510 seconds\n"
     ]
    },
    {
     "name": "stderr",
     "output_type": "stream",
     "text": [
      "Running DBSCAN: 100%|██████████| 3/3 [00:14<00:00,  4.98s/step]\n"
     ]
    },
    {
     "name": "stdout",
     "output_type": "stream",
     "text": [
      "\n",
      "DBSCAN result:\n"
     ]
    },
    {
     "name": "stderr",
     "output_type": "stream",
     "text": [
      "Running DBSCAN:  33%|███▎      | 1/3 [00:01<00:02,  1.43s/step]"
     ]
    },
    {
     "name": "stdout",
     "output_type": "stream",
     "text": [
      "Runtime for dbscan_clustering: 1.427070 seconds\n"
     ]
    },
    {
     "name": "stderr",
     "output_type": "stream",
     "text": [
      "Running DBSCAN: 100%|██████████| 3/3 [00:18<00:00,  6.20s/step]\n"
     ]
    },
    {
     "name": "stdout",
     "output_type": "stream",
     "text": [
      "\n",
      "DBSCAN result:\n"
     ]
    },
    {
     "name": "stderr",
     "output_type": "stream",
     "text": [
      "Running DBSCAN:  33%|███▎      | 1/3 [00:00<00:01,  1.62step/s]"
     ]
    },
    {
     "name": "stdout",
     "output_type": "stream",
     "text": [
      "Runtime for dbscan_clustering: 0.617562 seconds\n"
     ]
    },
    {
     "name": "stderr",
     "output_type": "stream",
     "text": [
      "Running DBSCAN: 100%|██████████| 3/3 [00:08<00:00,  2.88s/step]\n"
     ]
    },
    {
     "ename": "ValueError",
     "evalue": "setting an array element with a sequence. The requested array has an inhomogeneous shape after 1 dimensions. The detected shape was (21519,) + inhomogeneous part.",
     "output_type": "error",
     "traceback": [
      "\u001b[1;31m---------------------------------------------------------------------------\u001b[0m",
      "\u001b[1;31mValueError\u001b[0m                                Traceback (most recent call last)",
      "Cell \u001b[1;32mIn[1], line 67\u001b[0m\n\u001b[0;32m     65\u001b[0m plot_filename \u001b[38;5;241m=\u001b[39m os\u001b[38;5;241m.\u001b[39mpath\u001b[38;5;241m.\u001b[39mjoin(plot_dir, \u001b[38;5;124mf\u001b[39m\u001b[38;5;124m\"\u001b[39m\u001b[38;5;124mdbscan_\u001b[39m\u001b[38;5;132;01m{\u001b[39;00myear_range\u001b[38;5;132;01m}\u001b[39;00m\u001b[38;5;124m_best.png\u001b[39m\u001b[38;5;124m\"\u001b[39m)\n\u001b[0;32m     66\u001b[0m title \u001b[38;5;241m=\u001b[39m \u001b[38;5;124mf\u001b[39m\u001b[38;5;124m\"\u001b[39m\u001b[38;5;124mDBSCAN Best: \u001b[39m\u001b[38;5;132;01m{\u001b[39;00myear_range\u001b[38;5;132;01m}\u001b[39;00m\u001b[38;5;124m, eps = \u001b[39m\u001b[38;5;132;01m{\u001b[39;00mbest_result[\u001b[38;5;124m'\u001b[39m\u001b[38;5;124meps\u001b[39m\u001b[38;5;124m'\u001b[39m]\u001b[38;5;132;01m}\u001b[39;00m\u001b[38;5;124m, min_samples = \u001b[39m\u001b[38;5;132;01m{\u001b[39;00mbest_result[\u001b[38;5;124m'\u001b[39m\u001b[38;5;124mmin_samples\u001b[39m\u001b[38;5;124m'\u001b[39m]\u001b[38;5;132;01m}\u001b[39;00m\u001b[38;5;124m\"\u001b[39m\n\u001b[1;32m---> 67\u001b[0m plotter\u001b[38;5;241m.\u001b[39mclusters_2d_plot(title, plot_filename, show_centers\u001b[38;5;241m=\u001b[39m\u001b[38;5;28;01mFalse\u001b[39;00m)\n\u001b[0;32m     69\u001b[0m results_per_year_range[year_range] \u001b[38;5;241m=\u001b[39m best_result\n\u001b[0;32m     70\u001b[0m \u001b[38;5;28mprint\u001b[39m(\u001b[38;5;124mf\u001b[39m\u001b[38;5;124m\"\u001b[39m\u001b[38;5;124mBest for \u001b[39m\u001b[38;5;132;01m{\u001b[39;00myear_range\u001b[38;5;132;01m}\u001b[39;00m\u001b[38;5;124m: eps = \u001b[39m\u001b[38;5;132;01m{\u001b[39;00mbest_result[\u001b[38;5;124m'\u001b[39m\u001b[38;5;124meps\u001b[39m\u001b[38;5;124m'\u001b[39m]\u001b[38;5;132;01m}\u001b[39;00m\u001b[38;5;124m, min_samples = \u001b[39m\u001b[38;5;132;01m{\u001b[39;00mbest_result[\u001b[38;5;124m'\u001b[39m\u001b[38;5;124mmin_samples\u001b[39m\u001b[38;5;124m'\u001b[39m]\u001b[38;5;132;01m}\u001b[39;00m\u001b[38;5;124m, silhouette = \u001b[39m\u001b[38;5;132;01m{\u001b[39;00mbest_score\u001b[38;5;132;01m:\u001b[39;00m\u001b[38;5;124m.3f\u001b[39m\u001b[38;5;132;01m}\u001b[39;00m\u001b[38;5;124m\"\u001b[39m)\n",
      "File \u001b[1;32mc:\\Users\\fionu\\OneDrive\\Dokumente\\Daten Fiona\\AIUB\\Code\\AIUB-Backup\\clustering\\cluster_plotter.py:86\u001b[0m, in \u001b[0;36mClusterPlotter.clusters_2d_plot\u001b[1;34m(self, title, save_name, color_scheme, point_size, show_centers)\u001b[0m\n\u001b[0;32m     83\u001b[0m label_to_color[\u001b[38;5;241m-\u001b[39m\u001b[38;5;241m1\u001b[39m] \u001b[38;5;241m=\u001b[39m \u001b[38;5;124m\"\u001b[39m\u001b[38;5;124m#FF0000\u001b[39m\u001b[38;5;124m\"\u001b[39m  \u001b[38;5;66;03m# Noise is always red\u001b[39;00m\n\u001b[0;32m     85\u001b[0m \u001b[38;5;66;03m# Apply colors\u001b[39;00m\n\u001b[1;32m---> 86\u001b[0m coloring \u001b[38;5;241m=\u001b[39m np\u001b[38;5;241m.\u001b[39marray([label_to_color[label] \u001b[38;5;28;01mfor\u001b[39;00m label \u001b[38;5;129;01min\u001b[39;00m \u001b[38;5;28mself\u001b[39m\u001b[38;5;241m.\u001b[39mlabels])\n\u001b[0;32m     88\u001b[0m \u001b[38;5;66;03m# Scatter plot of data points\u001b[39;00m\n\u001b[0;32m     89\u001b[0m plt\u001b[38;5;241m.\u001b[39mscatter(\u001b[38;5;28mself\u001b[39m\u001b[38;5;241m.\u001b[39mnormalized_data[:, \u001b[38;5;241m1\u001b[39m], \u001b[38;5;28mself\u001b[39m\u001b[38;5;241m.\u001b[39mnormalized_data[:, \u001b[38;5;241m0\u001b[39m], c\u001b[38;5;241m=\u001b[39mcoloring, s\u001b[38;5;241m=\u001b[39mpoint_size)\n",
      "\u001b[1;31mValueError\u001b[0m: setting an array element with a sequence. The requested array has an inhomogeneous shape after 1 dimensions. The detected shape was (21519,) + inhomogeneous part."
     ]
    },
    {
     "data": {
      "text/plain": [
       "<Figure size 1000x700 with 0 Axes>"
      ]
     },
     "metadata": {},
     "output_type": "display_data"
    }
   ],
   "source": [
    "import cluster_data\n",
    "from cluster_data import run_clustering, normalize_data, unnormalize\n",
    "import numpy as np\n",
    "import pandas as pd\n",
    "import os\n",
    "import cluster_plotter\n",
    "from DBSCAN import dbscan_clustering\n",
    "from cluster_plotter import ClusterPlotter\n",
    "from clustering_utils import ClusterData\n",
    "import matplotlib.pyplot as plt\n",
    "\n",
    "standard_year_ranges = {\n",
    "    f\"{start}-{start + 3}\": np.arange(start, start + 4)\n",
    "    for start in [2002, 2006, 2010, 2014]\n",
    "}\n",
    "standard_year_ranges[\"2019-2023\"] = np.arange(2019, 2024)\n",
    "running_ranges = cluster_data.generate_running_year_ranges(2002, 2023, 4)\n",
    "\n",
    "binned_data = cluster_data.bin_data_for_clustering(running_ranges, print_res=False)\n",
    "\n",
    "plot_dir = \"Images/dbscan_tails\"\n",
    "os.makedirs(plot_dir, exist_ok=True)\n",
    "cluster_plotter.clear_directory(plot_dir)\n",
    "\n",
    "results_per_year_range = {}\n",
    "cluster_centers_dict = {}  # Stores cluster centers per year range\n",
    "\n",
    "for cluster_data, year_range in binned_data:  \n",
    "    print(f\"\\nRunning DBSCAN for Year Range: {year_range}\")\n",
    "\n",
    "    data_array = np.array([cluster_data.inc, cluster_data.raan]).T\n",
    "    normalized_data, data_min, data_max = normalize_data(data_array)\n",
    "\n",
    "    eps_values = [0.012, 0.015, 0.023]\n",
    "    min_samples_values = [10, 15, 17]\n",
    "    \n",
    "    best_result = None\n",
    "    best_score = float('-inf')\n",
    "    \n",
    "    for eps in eps_values:\n",
    "        for min_samples in min_samples_values:\n",
    "            result_dbscan, time_dbscan, n_clusters_dbscan, points_per_cluster_dbscan, metrics_dbscan = run_clustering(\n",
    "                dbscan_clustering, \"DBSCAN\", normalized_data, data_min, data_max, plot=False, eps=eps, min_samples=min_samples\n",
    "            )\n",
    "            \n",
    "            silhouette_score = metrics_dbscan[3] if metrics_dbscan and isinstance(metrics_dbscan[3], (int, float)) else None\n",
    "            noise_points = np.sum(result_dbscan.labels == -1)\n",
    "\n",
    "            if silhouette_score is not None and silhouette_score > best_score:\n",
    "                best_score = silhouette_score\n",
    "                best_result = {\n",
    "                    \"eps\": eps,\n",
    "                    \"min_samples\": min_samples,\n",
    "                    \"runtime\": time_dbscan,\n",
    "                    \"clusters\": n_clusters_dbscan,\n",
    "                    \"points_per_cluster\": points_per_cluster_dbscan,\n",
    "                    \"noise_points\": noise_points,\n",
    "                    \"metrics\": metrics_dbscan,\n",
    "                    \"result_dbscan\": result_dbscan\n",
    "                }\n",
    "\n",
    "    if best_result:\n",
    "        unnormalized_data, _ = unnormalize(best_result[\"result_dbscan\"].data, None, data_min, data_max)\n",
    "        plotter = ClusterPlotter(unnormalized_data, best_result[\"result_dbscan\"].labels, None)\n",
    "        plot_filename = os.path.join(plot_dir, f\"dbscan_{year_range}_best.png\")\n",
    "        title = f\"DBSCAN Best: {year_range}, eps = {best_result['eps']}, min_samples = {best_result['min_samples']}\"\n",
    "        plotter.clusters_2d_plot(title, plot_filename, show_centers=False)\n",
    "        \n",
    "        results_per_year_range[year_range] = best_result\n",
    "        print(f\"Best for {year_range}: eps = {best_result['eps']}, min_samples = {best_result['min_samples']}, silhouette = {best_score:.3f}\")\n",
    "\n",
    "        # Store cluster centers\n",
    "        if hasattr(best_result[\"result_dbscan\"], \"cluster_centers\"):\n",
    "            cluster_centers_dict[year_range] = best_result[\"result_dbscan\"].cluster_centers\n",
    "\n",
    "# Function to plot cluster centers\n",
    "def plot_cluster_centers(cluster_centers_dict):\n",
    "    plt.figure(figsize=(10, 7))\n",
    "    colors = plt.cm.viridis(np.linspace(0, 1, len(cluster_centers_dict)))\n",
    "    \n",
    "    for i, (year_range, centers) in enumerate(cluster_centers_dict.items()):\n",
    "        if centers is not None:\n",
    "            plt.scatter(centers[:, 1], centers[:, 0], color=colors[i], label=f\"{year_range}\", marker='X', s=100)\n",
    "            for idx, (x, y) in enumerate(centers):\n",
    "                plt.text(x, y, f\"{year_range}_{idx}\", fontsize=9, ha='right')\n",
    "    \n",
    "    plt.xlabel(\"RAAN [°]\")\n",
    "    plt.ylabel(\"Inclination [°]\")\n",
    "    plt.title(\"Cluster Centers Over Time\")\n",
    "    plt.legend()\n",
    "    plt.grid(True)\n",
    "    plt.show()\n",
    "\n",
    "plot_cluster_centers(cluster_centers_dict)\n",
    "\n",
    "# Manual selection of clusters\n",
    "selected_clusters = {}  \n",
    "\n",
    "def select_cluster(year_range, cluster_idx):\n",
    "    if year_range in cluster_centers_dict and cluster_idx < len(cluster_centers_dict[year_range]):\n",
    "        selected_clusters[year_range] = cluster_centers_dict[year_range][cluster_idx]\n",
    "        print(f\"Selected cluster {cluster_idx} from {year_range}: {selected_clusters[year_range]}\")\n",
    "    else:\n",
    "        print(\"Invalid selection. Check year range and cluster index.\")\n",
    "\n",
    "# Example: Selecting clusters manually (update based on the plot labels)\n",
    "select_cluster(\"2002-2005\", 1)\n",
    "select_cluster(\"2010-2013\", 0)\n",
    "\n",
    "# Function to plot evolution of selected clusters\n",
    "def plot_selected_clusters(selected_clusters):\n",
    "    plt.figure(figsize=(10, 7))\n",
    "    years = []\n",
    "    inclinations = []\n",
    "    raans = []\n",
    "\n",
    "    for year_range, center in sorted(selected_clusters.items()):\n",
    "        years.append(year_range)\n",
    "        raans.append(center[1])\n",
    "        inclinations.append(center[0])\n",
    "    \n",
    "    plt.plot(raans, inclinations, marker='o', linestyle='-', color='red', label=\"Selected Cluster Evolution\")\n",
    "    for i, year in enumerate(years):\n",
    "        plt.text(raans[i], inclinations[i], year, fontsize=9, ha='right')\n",
    "    \n",
    "    plt.xlabel(\"RAAN [°]\")\n",
    "    plt.ylabel(\"Inclination [°]\")\n",
    "    plt.title(\"Evolution of Selected Cluster Over Time\")\n",
    "    plt.legend()\n",
    "    plt.grid(True)\n",
    "    plt.show()\n",
    "\n",
    "plot_selected_clusters(selected_clusters)"
   ]
  }
 ],
 "metadata": {
  "kernelspec": {
   "display_name": "base",
   "language": "python",
   "name": "python3"
  },
  "language_info": {
   "codemirror_mode": {
    "name": "ipython",
    "version": 3
   },
   "file_extension": ".py",
   "mimetype": "text/x-python",
   "name": "python",
   "nbconvert_exporter": "python",
   "pygments_lexer": "ipython3",
   "version": "3.12.3"
  }
 },
 "nbformat": 4,
 "nbformat_minor": 2
}
