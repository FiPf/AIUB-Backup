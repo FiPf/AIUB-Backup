{
 "cells": [
  {
   "cell_type": "markdown",
   "metadata": {},
   "source": [
    "## Comparing different algorithms based on different scores\n",
    "\n",
    "### Scores:  \n",
    "(a) Calinski- Harbask Score  \n",
    "(b) Davies Bouldin Score  \n",
    "(c) Dunn- Index  \n",
    "(d) Silhouette Score  \n",
    "\n",
    "### Algorithms: \n",
    "(a) K-Means  \n",
    "(b) DBSCANS  \n",
    "(c) HDBSCANS  \n",
    "(d) OPTICS  "
   ]
  },
  {
   "cell_type": "code",
   "execution_count": 1,
   "metadata": {},
   "outputs": [
    {
     "name": "stdout",
     "output_type": "stream",
     "text": [
      "\n",
      "Running clustering for Year Range: 2002-2005\n",
      "\n",
      "Running K-Means with parameters {'n_clusters': 3}\n",
      "\n",
      "Running K-Means with parameters {'n_clusters': 4}\n",
      "\n",
      "Running K-Means with parameters {'n_clusters': 5}\n",
      "\n",
      "Running DBSCAN with parameters {'eps': 0.05, 'min_samples': 25}\n",
      "\n",
      "Running DBSCAN with parameters {'eps': 0.01, 'min_samples': 30}\n",
      "\n",
      "Running DBSCAN with parameters {'eps': 0.02, 'min_samples': 35}\n",
      "\n",
      "Running HDBSCAN with parameters {'min_samples': 5, 'min_cluster_size': 15}\n",
      "\n",
      "Running HDBSCAN with parameters {'min_samples': 10, 'min_cluster_size': 20}\n",
      "\n",
      "Running HDBSCAN with parameters {'min_samples': 15, 'min_cluster_size': 25}\n",
      "\n",
      "Running OPTICS with parameters {'min_samples': 50, 'max_eps': 100, 'xi': 0.005}\n",
      "\n",
      "Running OPTICS with parameters {'min_samples': 100, 'max_eps': 200, 'xi': 0.002}\n",
      "\n",
      "Running OPTICS with parameters {'min_samples': 150, 'max_eps': 500, 'xi': 0.001}\n",
      "\n",
      "Best Parameters for K-Means\n"
     ]
    },
    {
     "data": {
      "application/vnd.microsoft.datawrangler.viewer.v0+json": {
       "columns": [
        {
         "name": "index",
         "rawType": "object",
         "type": "string"
        },
        {
         "name": "Parameters",
         "rawType": "object",
         "type": "unknown"
        },
        {
         "name": "Score",
         "rawType": "object",
         "type": "unknown"
        }
       ],
       "conversionMethod": "pd.DataFrame",
       "ref": "3e4df512-2fb1-44d9-afa4-8f52034dc383",
       "rows": [
        [
         "Davies-Bouldin",
         "{'n_clusters': 5}",
         "0.8115079155602015"
        ],
        [
         "Calinski-Harabasz",
         "{'n_clusters': 3}",
         "1.0"
        ],
        [
         "Silhouette Score",
         "{'n_clusters': 5}",
         "0.7243737895493345"
        ],
        [
         "Dunn Index",
         "{'n_clusters': 4}",
         "0.07187723237094128"
        ]
       ],
       "shape": {
        "columns": 2,
        "rows": 4
       }
      },
      "text/html": [
       "<div>\n",
       "<style scoped>\n",
       "    .dataframe tbody tr th:only-of-type {\n",
       "        vertical-align: middle;\n",
       "    }\n",
       "\n",
       "    .dataframe tbody tr th {\n",
       "        vertical-align: top;\n",
       "    }\n",
       "\n",
       "    .dataframe thead th {\n",
       "        text-align: right;\n",
       "    }\n",
       "</style>\n",
       "<table border=\"1\" class=\"dataframe\">\n",
       "  <thead>\n",
       "    <tr style=\"text-align: right;\">\n",
       "      <th></th>\n",
       "      <th>Parameters</th>\n",
       "      <th>Score</th>\n",
       "    </tr>\n",
       "  </thead>\n",
       "  <tbody>\n",
       "    <tr>\n",
       "      <th>Davies-Bouldin</th>\n",
       "      <td>{'n_clusters': 5}</td>\n",
       "      <td>0.811508</td>\n",
       "    </tr>\n",
       "    <tr>\n",
       "      <th>Calinski-Harabasz</th>\n",
       "      <td>{'n_clusters': 3}</td>\n",
       "      <td>1.0</td>\n",
       "    </tr>\n",
       "    <tr>\n",
       "      <th>Silhouette Score</th>\n",
       "      <td>{'n_clusters': 5}</td>\n",
       "      <td>0.724374</td>\n",
       "    </tr>\n",
       "    <tr>\n",
       "      <th>Dunn Index</th>\n",
       "      <td>{'n_clusters': 4}</td>\n",
       "      <td>0.071877</td>\n",
       "    </tr>\n",
       "  </tbody>\n",
       "</table>\n",
       "</div>"
      ],
      "text/plain": [
       "                          Parameters     Score\n",
       "Davies-Bouldin     {'n_clusters': 5}  0.811508\n",
       "Calinski-Harabasz  {'n_clusters': 3}       1.0\n",
       "Silhouette Score   {'n_clusters': 5}  0.724374\n",
       "Dunn Index         {'n_clusters': 4}  0.071877"
      ]
     },
     "metadata": {},
     "output_type": "display_data"
    },
    {
     "name": "stdout",
     "output_type": "stream",
     "text": [
      "\n",
      "Best Parameters for DBSCAN\n"
     ]
    },
    {
     "data": {
      "application/vnd.microsoft.datawrangler.viewer.v0+json": {
       "columns": [
        {
         "name": "index",
         "rawType": "object",
         "type": "string"
        },
        {
         "name": "Parameters",
         "rawType": "object",
         "type": "unknown"
        },
        {
         "name": "Score",
         "rawType": "object",
         "type": "unknown"
        }
       ],
       "conversionMethod": "pd.DataFrame",
       "ref": "049ee672-3424-4e5a-a099-227f782def9a",
       "rows": [
        [
         "Davies-Bouldin",
         "{'eps': 0.01, 'min_samples': 30}",
         "0.28844906888600846"
        ],
        [
         "Calinski-Harabasz",
         "{'eps': 0.05, 'min_samples': 25}",
         "0.05358511994158483"
        ],
        [
         "Silhouette Score",
         "{'eps': 0.05, 'min_samples': 25}",
         "0.6075793343956822"
        ],
        [
         "Dunn Index",
         "{'eps': 0.01, 'min_samples': 30}",
         "0.020286554337489545"
        ]
       ],
       "shape": {
        "columns": 2,
        "rows": 4
       }
      },
      "text/html": [
       "<div>\n",
       "<style scoped>\n",
       "    .dataframe tbody tr th:only-of-type {\n",
       "        vertical-align: middle;\n",
       "    }\n",
       "\n",
       "    .dataframe tbody tr th {\n",
       "        vertical-align: top;\n",
       "    }\n",
       "\n",
       "    .dataframe thead th {\n",
       "        text-align: right;\n",
       "    }\n",
       "</style>\n",
       "<table border=\"1\" class=\"dataframe\">\n",
       "  <thead>\n",
       "    <tr style=\"text-align: right;\">\n",
       "      <th></th>\n",
       "      <th>Parameters</th>\n",
       "      <th>Score</th>\n",
       "    </tr>\n",
       "  </thead>\n",
       "  <tbody>\n",
       "    <tr>\n",
       "      <th>Davies-Bouldin</th>\n",
       "      <td>{'eps': 0.01, 'min_samples': 30}</td>\n",
       "      <td>0.288449</td>\n",
       "    </tr>\n",
       "    <tr>\n",
       "      <th>Calinski-Harabasz</th>\n",
       "      <td>{'eps': 0.05, 'min_samples': 25}</td>\n",
       "      <td>0.053585</td>\n",
       "    </tr>\n",
       "    <tr>\n",
       "      <th>Silhouette Score</th>\n",
       "      <td>{'eps': 0.05, 'min_samples': 25}</td>\n",
       "      <td>0.607579</td>\n",
       "    </tr>\n",
       "    <tr>\n",
       "      <th>Dunn Index</th>\n",
       "      <td>{'eps': 0.01, 'min_samples': 30}</td>\n",
       "      <td>0.020287</td>\n",
       "    </tr>\n",
       "  </tbody>\n",
       "</table>\n",
       "</div>"
      ],
      "text/plain": [
       "                                         Parameters     Score\n",
       "Davies-Bouldin     {'eps': 0.01, 'min_samples': 30}  0.288449\n",
       "Calinski-Harabasz  {'eps': 0.05, 'min_samples': 25}  0.053585\n",
       "Silhouette Score   {'eps': 0.05, 'min_samples': 25}  0.607579\n",
       "Dunn Index         {'eps': 0.01, 'min_samples': 30}  0.020287"
      ]
     },
     "metadata": {},
     "output_type": "display_data"
    },
    {
     "name": "stdout",
     "output_type": "stream",
     "text": [
      "\n",
      "Best Parameters for HDBSCAN\n"
     ]
    },
    {
     "data": {
      "application/vnd.microsoft.datawrangler.viewer.v0+json": {
       "columns": [
        {
         "name": "index",
         "rawType": "object",
         "type": "string"
        },
        {
         "name": "Parameters",
         "rawType": "object",
         "type": "unknown"
        },
        {
         "name": "Score",
         "rawType": "object",
         "type": "unknown"
        }
       ],
       "conversionMethod": "pd.DataFrame",
       "ref": "4798dc9e-4d81-40e9-ba82-2bf84aeb6ce3",
       "rows": [
        [
         "Davies-Bouldin",
         "{'min_samples': 15, 'min_cluster_size': 25}",
         "-0.1344387703920936"
        ],
        [
         "Calinski-Harabasz",
         "{'min_samples': 15, 'min_cluster_size': 25}",
         "0.013453153047395732"
        ],
        [
         "Silhouette Score",
         "{'min_samples': 5, 'min_cluster_size': 15}",
         "0.43187641861929743"
        ],
        [
         "Dunn Index",
         "{'min_samples': 10, 'min_cluster_size': 20}",
         "0.0"
        ]
       ],
       "shape": {
        "columns": 2,
        "rows": 4
       }
      },
      "text/html": [
       "<div>\n",
       "<style scoped>\n",
       "    .dataframe tbody tr th:only-of-type {\n",
       "        vertical-align: middle;\n",
       "    }\n",
       "\n",
       "    .dataframe tbody tr th {\n",
       "        vertical-align: top;\n",
       "    }\n",
       "\n",
       "    .dataframe thead th {\n",
       "        text-align: right;\n",
       "    }\n",
       "</style>\n",
       "<table border=\"1\" class=\"dataframe\">\n",
       "  <thead>\n",
       "    <tr style=\"text-align: right;\">\n",
       "      <th></th>\n",
       "      <th>Parameters</th>\n",
       "      <th>Score</th>\n",
       "    </tr>\n",
       "  </thead>\n",
       "  <tbody>\n",
       "    <tr>\n",
       "      <th>Davies-Bouldin</th>\n",
       "      <td>{'min_samples': 15, 'min_cluster_size': 25}</td>\n",
       "      <td>-0.134439</td>\n",
       "    </tr>\n",
       "    <tr>\n",
       "      <th>Calinski-Harabasz</th>\n",
       "      <td>{'min_samples': 15, 'min_cluster_size': 25}</td>\n",
       "      <td>0.013453</td>\n",
       "    </tr>\n",
       "    <tr>\n",
       "      <th>Silhouette Score</th>\n",
       "      <td>{'min_samples': 5, 'min_cluster_size': 15}</td>\n",
       "      <td>0.431876</td>\n",
       "    </tr>\n",
       "    <tr>\n",
       "      <th>Dunn Index</th>\n",
       "      <td>{'min_samples': 10, 'min_cluster_size': 20}</td>\n",
       "      <td>0.0</td>\n",
       "    </tr>\n",
       "  </tbody>\n",
       "</table>\n",
       "</div>"
      ],
      "text/plain": [
       "                                                    Parameters     Score\n",
       "Davies-Bouldin     {'min_samples': 15, 'min_cluster_size': 25} -0.134439\n",
       "Calinski-Harabasz  {'min_samples': 15, 'min_cluster_size': 25}  0.013453\n",
       "Silhouette Score    {'min_samples': 5, 'min_cluster_size': 15}  0.431876\n",
       "Dunn Index         {'min_samples': 10, 'min_cluster_size': 20}       0.0"
      ]
     },
     "metadata": {},
     "output_type": "display_data"
    },
    {
     "name": "stdout",
     "output_type": "stream",
     "text": [
      "\n",
      "Best Parameters for OPTICS\n"
     ]
    },
    {
     "data": {
      "application/vnd.microsoft.datawrangler.viewer.v0+json": {
       "columns": [
        {
         "name": "index",
         "rawType": "object",
         "type": "string"
        },
        {
         "name": "Parameters",
         "rawType": "object",
         "type": "unknown"
        },
        {
         "name": "Score",
         "rawType": "object",
         "type": "unknown"
        }
       ],
       "conversionMethod": "pd.DataFrame",
       "ref": "55ad6d07-3dd5-40a9-bf72-e4d51fa9b20a",
       "rows": [
        [
         "Davies-Bouldin",
         "{'min_samples': 100, 'max_eps': 200, 'xi': 0.002}",
         "0.5367976361601934"
        ],
        [
         "Calinski-Harabasz",
         "{'min_samples': 150, 'max_eps': 500, 'xi': 0.001}",
         "0.0743332295334433"
        ],
        [
         "Silhouette Score",
         "{'min_samples': 150, 'max_eps': 500, 'xi': 0.001}",
         "0.492063021631663"
        ],
        [
         "Dunn Index",
         "{'min_samples': 150, 'max_eps': 500, 'xi': 0.001}",
         "0.00012041654018523265"
        ]
       ],
       "shape": {
        "columns": 2,
        "rows": 4
       }
      },
      "text/html": [
       "<div>\n",
       "<style scoped>\n",
       "    .dataframe tbody tr th:only-of-type {\n",
       "        vertical-align: middle;\n",
       "    }\n",
       "\n",
       "    .dataframe tbody tr th {\n",
       "        vertical-align: top;\n",
       "    }\n",
       "\n",
       "    .dataframe thead th {\n",
       "        text-align: right;\n",
       "    }\n",
       "</style>\n",
       "<table border=\"1\" class=\"dataframe\">\n",
       "  <thead>\n",
       "    <tr style=\"text-align: right;\">\n",
       "      <th></th>\n",
       "      <th>Parameters</th>\n",
       "      <th>Score</th>\n",
       "    </tr>\n",
       "  </thead>\n",
       "  <tbody>\n",
       "    <tr>\n",
       "      <th>Davies-Bouldin</th>\n",
       "      <td>{'min_samples': 100, 'max_eps': 200, 'xi': 0.002}</td>\n",
       "      <td>0.536798</td>\n",
       "    </tr>\n",
       "    <tr>\n",
       "      <th>Calinski-Harabasz</th>\n",
       "      <td>{'min_samples': 150, 'max_eps': 500, 'xi': 0.001}</td>\n",
       "      <td>0.074333</td>\n",
       "    </tr>\n",
       "    <tr>\n",
       "      <th>Silhouette Score</th>\n",
       "      <td>{'min_samples': 150, 'max_eps': 500, 'xi': 0.001}</td>\n",
       "      <td>0.492063</td>\n",
       "    </tr>\n",
       "    <tr>\n",
       "      <th>Dunn Index</th>\n",
       "      <td>{'min_samples': 150, 'max_eps': 500, 'xi': 0.001}</td>\n",
       "      <td>0.00012</td>\n",
       "    </tr>\n",
       "  </tbody>\n",
       "</table>\n",
       "</div>"
      ],
      "text/plain": [
       "                                                          Parameters     Score\n",
       "Davies-Bouldin     {'min_samples': 100, 'max_eps': 200, 'xi': 0.002}  0.536798\n",
       "Calinski-Harabasz  {'min_samples': 150, 'max_eps': 500, 'xi': 0.001}  0.074333\n",
       "Silhouette Score   {'min_samples': 150, 'max_eps': 500, 'xi': 0.001}  0.492063\n",
       "Dunn Index         {'min_samples': 150, 'max_eps': 500, 'xi': 0.001}   0.00012"
      ]
     },
     "metadata": {},
     "output_type": "display_data"
    },
    {
     "name": "stdout",
     "output_type": "stream",
     "text": [
      "\n",
      "Running clustering for Year Range: 2006-2009\n",
      "\n",
      "Running K-Means with parameters {'n_clusters': 3}\n",
      "\n",
      "Running K-Means with parameters {'n_clusters': 4}\n",
      "\n",
      "Running K-Means with parameters {'n_clusters': 5}\n",
      "\n",
      "Running DBSCAN with parameters {'eps': 0.05, 'min_samples': 25}\n",
      "\n",
      "Running DBSCAN with parameters {'eps': 0.01, 'min_samples': 30}\n",
      "\n",
      "Running DBSCAN with parameters {'eps': 0.02, 'min_samples': 35}\n",
      "\n",
      "Running HDBSCAN with parameters {'min_samples': 5, 'min_cluster_size': 15}\n",
      "\n",
      "Running HDBSCAN with parameters {'min_samples': 10, 'min_cluster_size': 20}\n",
      "\n",
      "Running HDBSCAN with parameters {'min_samples': 15, 'min_cluster_size': 25}\n",
      "\n",
      "Running OPTICS with parameters {'min_samples': 50, 'max_eps': 100, 'xi': 0.005}\n",
      "\n",
      "Running OPTICS with parameters {'min_samples': 100, 'max_eps': 200, 'xi': 0.002}\n",
      "\n",
      "Running OPTICS with parameters {'min_samples': 150, 'max_eps': 500, 'xi': 0.001}\n",
      "\n",
      "Best Parameters for K-Means\n"
     ]
    },
    {
     "data": {
      "application/vnd.microsoft.datawrangler.viewer.v0+json": {
       "columns": [
        {
         "name": "index",
         "rawType": "object",
         "type": "string"
        },
        {
         "name": "Parameters",
         "rawType": "object",
         "type": "unknown"
        },
        {
         "name": "Score",
         "rawType": "object",
         "type": "unknown"
        }
       ],
       "conversionMethod": "pd.DataFrame",
       "ref": "a5ddc05b-c09b-45f0-bb90-c041d45435a5",
       "rows": [
        [
         "Davies-Bouldin",
         "{'n_clusters': 5}",
         "0.5671467946978906"
        ],
        [
         "Calinski-Harabasz",
         "{'n_clusters': 3}",
         "1.0"
        ],
        [
         "Silhouette Score",
         "{'n_clusters': 5}",
         "0.7135244690954697"
        ],
        [
         "Dunn Index",
         "{'n_clusters': 3}",
         "0.3500286543947022"
        ]
       ],
       "shape": {
        "columns": 2,
        "rows": 4
       }
      },
      "text/html": [
       "<div>\n",
       "<style scoped>\n",
       "    .dataframe tbody tr th:only-of-type {\n",
       "        vertical-align: middle;\n",
       "    }\n",
       "\n",
       "    .dataframe tbody tr th {\n",
       "        vertical-align: top;\n",
       "    }\n",
       "\n",
       "    .dataframe thead th {\n",
       "        text-align: right;\n",
       "    }\n",
       "</style>\n",
       "<table border=\"1\" class=\"dataframe\">\n",
       "  <thead>\n",
       "    <tr style=\"text-align: right;\">\n",
       "      <th></th>\n",
       "      <th>Parameters</th>\n",
       "      <th>Score</th>\n",
       "    </tr>\n",
       "  </thead>\n",
       "  <tbody>\n",
       "    <tr>\n",
       "      <th>Davies-Bouldin</th>\n",
       "      <td>{'n_clusters': 5}</td>\n",
       "      <td>0.567147</td>\n",
       "    </tr>\n",
       "    <tr>\n",
       "      <th>Calinski-Harabasz</th>\n",
       "      <td>{'n_clusters': 3}</td>\n",
       "      <td>1.0</td>\n",
       "    </tr>\n",
       "    <tr>\n",
       "      <th>Silhouette Score</th>\n",
       "      <td>{'n_clusters': 5}</td>\n",
       "      <td>0.713524</td>\n",
       "    </tr>\n",
       "    <tr>\n",
       "      <th>Dunn Index</th>\n",
       "      <td>{'n_clusters': 3}</td>\n",
       "      <td>0.350029</td>\n",
       "    </tr>\n",
       "  </tbody>\n",
       "</table>\n",
       "</div>"
      ],
      "text/plain": [
       "                          Parameters     Score\n",
       "Davies-Bouldin     {'n_clusters': 5}  0.567147\n",
       "Calinski-Harabasz  {'n_clusters': 3}       1.0\n",
       "Silhouette Score   {'n_clusters': 5}  0.713524\n",
       "Dunn Index         {'n_clusters': 3}  0.350029"
      ]
     },
     "metadata": {},
     "output_type": "display_data"
    },
    {
     "name": "stdout",
     "output_type": "stream",
     "text": [
      "\n",
      "Best Parameters for DBSCAN\n"
     ]
    },
    {
     "data": {
      "application/vnd.microsoft.datawrangler.viewer.v0+json": {
       "columns": [
        {
         "name": "index",
         "rawType": "object",
         "type": "string"
        },
        {
         "name": "Parameters",
         "rawType": "object",
         "type": "unknown"
        },
        {
         "name": "Score",
         "rawType": "object",
         "type": "unknown"
        }
       ],
       "conversionMethod": "pd.DataFrame",
       "ref": "72f4c84b-53eb-4e98-9d15-c7bc38c4584f",
       "rows": [
        [
         "Davies-Bouldin",
         "{'eps': 0.02, 'min_samples': 35}",
         "-0.39225905260509725"
        ],
        [
         "Calinski-Harabasz",
         "{'eps': 0.02, 'min_samples': 35}",
         "0.03356303796444258"
        ],
        [
         "Silhouette Score",
         "{'eps': 0.02, 'min_samples': 35}",
         "0.40946699253088925"
        ],
        [
         "Dunn Index",
         "{'eps': 0.01, 'min_samples': 30}",
         "0.36220661014828215"
        ]
       ],
       "shape": {
        "columns": 2,
        "rows": 4
       }
      },
      "text/html": [
       "<div>\n",
       "<style scoped>\n",
       "    .dataframe tbody tr th:only-of-type {\n",
       "        vertical-align: middle;\n",
       "    }\n",
       "\n",
       "    .dataframe tbody tr th {\n",
       "        vertical-align: top;\n",
       "    }\n",
       "\n",
       "    .dataframe thead th {\n",
       "        text-align: right;\n",
       "    }\n",
       "</style>\n",
       "<table border=\"1\" class=\"dataframe\">\n",
       "  <thead>\n",
       "    <tr style=\"text-align: right;\">\n",
       "      <th></th>\n",
       "      <th>Parameters</th>\n",
       "      <th>Score</th>\n",
       "    </tr>\n",
       "  </thead>\n",
       "  <tbody>\n",
       "    <tr>\n",
       "      <th>Davies-Bouldin</th>\n",
       "      <td>{'eps': 0.02, 'min_samples': 35}</td>\n",
       "      <td>-0.392259</td>\n",
       "    </tr>\n",
       "    <tr>\n",
       "      <th>Calinski-Harabasz</th>\n",
       "      <td>{'eps': 0.02, 'min_samples': 35}</td>\n",
       "      <td>0.033563</td>\n",
       "    </tr>\n",
       "    <tr>\n",
       "      <th>Silhouette Score</th>\n",
       "      <td>{'eps': 0.02, 'min_samples': 35}</td>\n",
       "      <td>0.409467</td>\n",
       "    </tr>\n",
       "    <tr>\n",
       "      <th>Dunn Index</th>\n",
       "      <td>{'eps': 0.01, 'min_samples': 30}</td>\n",
       "      <td>0.362207</td>\n",
       "    </tr>\n",
       "  </tbody>\n",
       "</table>\n",
       "</div>"
      ],
      "text/plain": [
       "                                         Parameters     Score\n",
       "Davies-Bouldin     {'eps': 0.02, 'min_samples': 35} -0.392259\n",
       "Calinski-Harabasz  {'eps': 0.02, 'min_samples': 35}  0.033563\n",
       "Silhouette Score   {'eps': 0.02, 'min_samples': 35}  0.409467\n",
       "Dunn Index         {'eps': 0.01, 'min_samples': 30}  0.362207"
      ]
     },
     "metadata": {},
     "output_type": "display_data"
    },
    {
     "name": "stdout",
     "output_type": "stream",
     "text": [
      "\n",
      "Best Parameters for HDBSCAN\n"
     ]
    },
    {
     "data": {
      "application/vnd.microsoft.datawrangler.viewer.v0+json": {
       "columns": [
        {
         "name": "index",
         "rawType": "object",
         "type": "string"
        },
        {
         "name": "Parameters",
         "rawType": "object",
         "type": "unknown"
        },
        {
         "name": "Score",
         "rawType": "object",
         "type": "unknown"
        }
       ],
       "conversionMethod": "pd.DataFrame",
       "ref": "4c74542d-e229-4eec-9ee6-adc3a6ac4498",
       "rows": [
        [
         "Davies-Bouldin",
         "{'min_samples': 15, 'min_cluster_size': 25}",
         "0.12483110459720109"
        ],
        [
         "Calinski-Harabasz",
         "{'min_samples': 15, 'min_cluster_size': 25}",
         "0.023349071478149623"
        ],
        [
         "Silhouette Score",
         "{'min_samples': 10, 'min_cluster_size': 20}",
         "0.4165595075918403"
        ],
        [
         "Dunn Index",
         "{'min_samples': 5, 'min_cluster_size': 15}",
         "0.0"
        ]
       ],
       "shape": {
        "columns": 2,
        "rows": 4
       }
      },
      "text/html": [
       "<div>\n",
       "<style scoped>\n",
       "    .dataframe tbody tr th:only-of-type {\n",
       "        vertical-align: middle;\n",
       "    }\n",
       "\n",
       "    .dataframe tbody tr th {\n",
       "        vertical-align: top;\n",
       "    }\n",
       "\n",
       "    .dataframe thead th {\n",
       "        text-align: right;\n",
       "    }\n",
       "</style>\n",
       "<table border=\"1\" class=\"dataframe\">\n",
       "  <thead>\n",
       "    <tr style=\"text-align: right;\">\n",
       "      <th></th>\n",
       "      <th>Parameters</th>\n",
       "      <th>Score</th>\n",
       "    </tr>\n",
       "  </thead>\n",
       "  <tbody>\n",
       "    <tr>\n",
       "      <th>Davies-Bouldin</th>\n",
       "      <td>{'min_samples': 15, 'min_cluster_size': 25}</td>\n",
       "      <td>0.124831</td>\n",
       "    </tr>\n",
       "    <tr>\n",
       "      <th>Calinski-Harabasz</th>\n",
       "      <td>{'min_samples': 15, 'min_cluster_size': 25}</td>\n",
       "      <td>0.023349</td>\n",
       "    </tr>\n",
       "    <tr>\n",
       "      <th>Silhouette Score</th>\n",
       "      <td>{'min_samples': 10, 'min_cluster_size': 20}</td>\n",
       "      <td>0.41656</td>\n",
       "    </tr>\n",
       "    <tr>\n",
       "      <th>Dunn Index</th>\n",
       "      <td>{'min_samples': 5, 'min_cluster_size': 15}</td>\n",
       "      <td>0.0</td>\n",
       "    </tr>\n",
       "  </tbody>\n",
       "</table>\n",
       "</div>"
      ],
      "text/plain": [
       "                                                    Parameters     Score\n",
       "Davies-Bouldin     {'min_samples': 15, 'min_cluster_size': 25}  0.124831\n",
       "Calinski-Harabasz  {'min_samples': 15, 'min_cluster_size': 25}  0.023349\n",
       "Silhouette Score   {'min_samples': 10, 'min_cluster_size': 20}   0.41656\n",
       "Dunn Index          {'min_samples': 5, 'min_cluster_size': 15}       0.0"
      ]
     },
     "metadata": {},
     "output_type": "display_data"
    },
    {
     "name": "stdout",
     "output_type": "stream",
     "text": [
      "\n",
      "Best Parameters for OPTICS\n"
     ]
    },
    {
     "data": {
      "application/vnd.microsoft.datawrangler.viewer.v0+json": {
       "columns": [
        {
         "name": "index",
         "rawType": "object",
         "type": "string"
        },
        {
         "name": "Parameters",
         "rawType": "object",
         "type": "unknown"
        },
        {
         "name": "Score",
         "rawType": "object",
         "type": "unknown"
        }
       ],
       "conversionMethod": "pd.DataFrame",
       "ref": "48adaf4c-5307-4c8b-9418-80535e87231b",
       "rows": [
        [
         "Davies-Bouldin",
         "{'min_samples': 100, 'max_eps': 200, 'xi': 0.002}",
         "-0.20759624643675934"
        ],
        [
         "Calinski-Harabasz",
         "{'min_samples': 150, 'max_eps': 500, 'xi': 0.001}",
         "0.028076000670203848"
        ],
        [
         "Silhouette Score",
         "{'min_samples': 150, 'max_eps': 500, 'xi': 0.001}",
         "0.41015744679123123"
        ],
        [
         "Dunn Index",
         "{'min_samples': 150, 'max_eps': 500, 'xi': 0.001}",
         "0.02316402942944051"
        ]
       ],
       "shape": {
        "columns": 2,
        "rows": 4
       }
      },
      "text/html": [
       "<div>\n",
       "<style scoped>\n",
       "    .dataframe tbody tr th:only-of-type {\n",
       "        vertical-align: middle;\n",
       "    }\n",
       "\n",
       "    .dataframe tbody tr th {\n",
       "        vertical-align: top;\n",
       "    }\n",
       "\n",
       "    .dataframe thead th {\n",
       "        text-align: right;\n",
       "    }\n",
       "</style>\n",
       "<table border=\"1\" class=\"dataframe\">\n",
       "  <thead>\n",
       "    <tr style=\"text-align: right;\">\n",
       "      <th></th>\n",
       "      <th>Parameters</th>\n",
       "      <th>Score</th>\n",
       "    </tr>\n",
       "  </thead>\n",
       "  <tbody>\n",
       "    <tr>\n",
       "      <th>Davies-Bouldin</th>\n",
       "      <td>{'min_samples': 100, 'max_eps': 200, 'xi': 0.002}</td>\n",
       "      <td>-0.207596</td>\n",
       "    </tr>\n",
       "    <tr>\n",
       "      <th>Calinski-Harabasz</th>\n",
       "      <td>{'min_samples': 150, 'max_eps': 500, 'xi': 0.001}</td>\n",
       "      <td>0.028076</td>\n",
       "    </tr>\n",
       "    <tr>\n",
       "      <th>Silhouette Score</th>\n",
       "      <td>{'min_samples': 150, 'max_eps': 500, 'xi': 0.001}</td>\n",
       "      <td>0.410157</td>\n",
       "    </tr>\n",
       "    <tr>\n",
       "      <th>Dunn Index</th>\n",
       "      <td>{'min_samples': 150, 'max_eps': 500, 'xi': 0.001}</td>\n",
       "      <td>0.023164</td>\n",
       "    </tr>\n",
       "  </tbody>\n",
       "</table>\n",
       "</div>"
      ],
      "text/plain": [
       "                                                          Parameters     Score\n",
       "Davies-Bouldin     {'min_samples': 100, 'max_eps': 200, 'xi': 0.002} -0.207596\n",
       "Calinski-Harabasz  {'min_samples': 150, 'max_eps': 500, 'xi': 0.001}  0.028076\n",
       "Silhouette Score   {'min_samples': 150, 'max_eps': 500, 'xi': 0.001}  0.410157\n",
       "Dunn Index         {'min_samples': 150, 'max_eps': 500, 'xi': 0.001}  0.023164"
      ]
     },
     "metadata": {},
     "output_type": "display_data"
    },
    {
     "name": "stdout",
     "output_type": "stream",
     "text": [
      "\n",
      "Running clustering for Year Range: 2010-2013\n",
      "\n",
      "Running K-Means with parameters {'n_clusters': 3}\n",
      "\n",
      "Running K-Means with parameters {'n_clusters': 4}\n",
      "\n",
      "Running K-Means with parameters {'n_clusters': 5}\n",
      "\n",
      "Running DBSCAN with parameters {'eps': 0.05, 'min_samples': 25}\n",
      "\n",
      "Running DBSCAN with parameters {'eps': 0.01, 'min_samples': 30}\n",
      "\n",
      "Running DBSCAN with parameters {'eps': 0.02, 'min_samples': 35}\n",
      "\n",
      "Running HDBSCAN with parameters {'min_samples': 5, 'min_cluster_size': 15}\n",
      "\n",
      "Running HDBSCAN with parameters {'min_samples': 10, 'min_cluster_size': 20}\n",
      "\n",
      "Running HDBSCAN with parameters {'min_samples': 15, 'min_cluster_size': 25}\n",
      "\n",
      "Running OPTICS with parameters {'min_samples': 50, 'max_eps': 100, 'xi': 0.005}\n",
      "\n",
      "Running OPTICS with parameters {'min_samples': 100, 'max_eps': 200, 'xi': 0.002}\n",
      "\n",
      "Running OPTICS with parameters {'min_samples': 150, 'max_eps': 500, 'xi': 0.001}\n",
      "\n",
      "Best Parameters for K-Means\n"
     ]
    },
    {
     "data": {
      "application/vnd.microsoft.datawrangler.viewer.v0+json": {
       "columns": [
        {
         "name": "index",
         "rawType": "object",
         "type": "string"
        },
        {
         "name": "Parameters",
         "rawType": "object",
         "type": "unknown"
        },
        {
         "name": "Score",
         "rawType": "object",
         "type": "unknown"
        }
       ],
       "conversionMethod": "pd.DataFrame",
       "ref": "549000b7-eda3-4fe3-bee3-8be93f5ad571",
       "rows": [
        [
         "Davies-Bouldin",
         "{'n_clusters': 4}",
         "0.36931577542346944"
        ],
        [
         "Calinski-Harabasz",
         "{'n_clusters': 5}",
         "1.0"
        ],
        [
         "Silhouette Score",
         "{'n_clusters': 5}",
         "0.7385775020988388"
        ],
        [
         "Dunn Index",
         "{'n_clusters': 3}",
         "0.1764290248974618"
        ]
       ],
       "shape": {
        "columns": 2,
        "rows": 4
       }
      },
      "text/html": [
       "<div>\n",
       "<style scoped>\n",
       "    .dataframe tbody tr th:only-of-type {\n",
       "        vertical-align: middle;\n",
       "    }\n",
       "\n",
       "    .dataframe tbody tr th {\n",
       "        vertical-align: top;\n",
       "    }\n",
       "\n",
       "    .dataframe thead th {\n",
       "        text-align: right;\n",
       "    }\n",
       "</style>\n",
       "<table border=\"1\" class=\"dataframe\">\n",
       "  <thead>\n",
       "    <tr style=\"text-align: right;\">\n",
       "      <th></th>\n",
       "      <th>Parameters</th>\n",
       "      <th>Score</th>\n",
       "    </tr>\n",
       "  </thead>\n",
       "  <tbody>\n",
       "    <tr>\n",
       "      <th>Davies-Bouldin</th>\n",
       "      <td>{'n_clusters': 4}</td>\n",
       "      <td>0.369316</td>\n",
       "    </tr>\n",
       "    <tr>\n",
       "      <th>Calinski-Harabasz</th>\n",
       "      <td>{'n_clusters': 5}</td>\n",
       "      <td>1.0</td>\n",
       "    </tr>\n",
       "    <tr>\n",
       "      <th>Silhouette Score</th>\n",
       "      <td>{'n_clusters': 5}</td>\n",
       "      <td>0.738578</td>\n",
       "    </tr>\n",
       "    <tr>\n",
       "      <th>Dunn Index</th>\n",
       "      <td>{'n_clusters': 3}</td>\n",
       "      <td>0.176429</td>\n",
       "    </tr>\n",
       "  </tbody>\n",
       "</table>\n",
       "</div>"
      ],
      "text/plain": [
       "                          Parameters     Score\n",
       "Davies-Bouldin     {'n_clusters': 4}  0.369316\n",
       "Calinski-Harabasz  {'n_clusters': 5}       1.0\n",
       "Silhouette Score   {'n_clusters': 5}  0.738578\n",
       "Dunn Index         {'n_clusters': 3}  0.176429"
      ]
     },
     "metadata": {},
     "output_type": "display_data"
    },
    {
     "name": "stdout",
     "output_type": "stream",
     "text": [
      "\n",
      "Best Parameters for DBSCAN\n"
     ]
    },
    {
     "data": {
      "application/vnd.microsoft.datawrangler.viewer.v0+json": {
       "columns": [
        {
         "name": "index",
         "rawType": "object",
         "type": "string"
        },
        {
         "name": "Parameters",
         "rawType": "object",
         "type": "unknown"
        },
        {
         "name": "Score",
         "rawType": "object",
         "type": "unknown"
        }
       ],
       "conversionMethod": "pd.DataFrame",
       "ref": "81e2dd2c-0751-4e1b-a847-d8693078a9aa",
       "rows": [
        [
         "Davies-Bouldin",
         "{'eps': 0.05, 'min_samples': 25}",
         "-0.5119353471797087"
        ],
        [
         "Calinski-Harabasz",
         "{'eps': 0.05, 'min_samples': 25}",
         "0.09330890041814122"
        ],
        [
         "Silhouette Score",
         "{'eps': 0.05, 'min_samples': 25}",
         "0.5818915737031474"
        ],
        [
         "Dunn Index",
         "{'eps': 0.01, 'min_samples': 30}",
         "0.02124956493611172"
        ]
       ],
       "shape": {
        "columns": 2,
        "rows": 4
       }
      },
      "text/html": [
       "<div>\n",
       "<style scoped>\n",
       "    .dataframe tbody tr th:only-of-type {\n",
       "        vertical-align: middle;\n",
       "    }\n",
       "\n",
       "    .dataframe tbody tr th {\n",
       "        vertical-align: top;\n",
       "    }\n",
       "\n",
       "    .dataframe thead th {\n",
       "        text-align: right;\n",
       "    }\n",
       "</style>\n",
       "<table border=\"1\" class=\"dataframe\">\n",
       "  <thead>\n",
       "    <tr style=\"text-align: right;\">\n",
       "      <th></th>\n",
       "      <th>Parameters</th>\n",
       "      <th>Score</th>\n",
       "    </tr>\n",
       "  </thead>\n",
       "  <tbody>\n",
       "    <tr>\n",
       "      <th>Davies-Bouldin</th>\n",
       "      <td>{'eps': 0.05, 'min_samples': 25}</td>\n",
       "      <td>-0.511935</td>\n",
       "    </tr>\n",
       "    <tr>\n",
       "      <th>Calinski-Harabasz</th>\n",
       "      <td>{'eps': 0.05, 'min_samples': 25}</td>\n",
       "      <td>0.093309</td>\n",
       "    </tr>\n",
       "    <tr>\n",
       "      <th>Silhouette Score</th>\n",
       "      <td>{'eps': 0.05, 'min_samples': 25}</td>\n",
       "      <td>0.581892</td>\n",
       "    </tr>\n",
       "    <tr>\n",
       "      <th>Dunn Index</th>\n",
       "      <td>{'eps': 0.01, 'min_samples': 30}</td>\n",
       "      <td>0.02125</td>\n",
       "    </tr>\n",
       "  </tbody>\n",
       "</table>\n",
       "</div>"
      ],
      "text/plain": [
       "                                         Parameters     Score\n",
       "Davies-Bouldin     {'eps': 0.05, 'min_samples': 25} -0.511935\n",
       "Calinski-Harabasz  {'eps': 0.05, 'min_samples': 25}  0.093309\n",
       "Silhouette Score   {'eps': 0.05, 'min_samples': 25}  0.581892\n",
       "Dunn Index         {'eps': 0.01, 'min_samples': 30}   0.02125"
      ]
     },
     "metadata": {},
     "output_type": "display_data"
    },
    {
     "name": "stdout",
     "output_type": "stream",
     "text": [
      "\n",
      "Best Parameters for HDBSCAN\n"
     ]
    },
    {
     "data": {
      "application/vnd.microsoft.datawrangler.viewer.v0+json": {
       "columns": [
        {
         "name": "index",
         "rawType": "object",
         "type": "string"
        },
        {
         "name": "Parameters",
         "rawType": "object",
         "type": "unknown"
        },
        {
         "name": "Score",
         "rawType": "object",
         "type": "unknown"
        }
       ],
       "conversionMethod": "pd.DataFrame",
       "ref": "051a18b1-7c61-4e1f-b018-f1a6980c5f15",
       "rows": [
        [
         "Davies-Bouldin",
         "{'min_samples': 10, 'min_cluster_size': 20}",
         "-0.4380438993147668"
        ],
        [
         "Calinski-Harabasz",
         "{'min_samples': 15, 'min_cluster_size': 25}",
         "0.04047905502311761"
        ],
        [
         "Silhouette Score",
         "{'min_samples': 5, 'min_cluster_size': 15}",
         "0.5453383851661292"
        ],
        [
         "Dunn Index",
         "{'min_samples': 5, 'min_cluster_size': 15}",
         "0.0"
        ]
       ],
       "shape": {
        "columns": 2,
        "rows": 4
       }
      },
      "text/html": [
       "<div>\n",
       "<style scoped>\n",
       "    .dataframe tbody tr th:only-of-type {\n",
       "        vertical-align: middle;\n",
       "    }\n",
       "\n",
       "    .dataframe tbody tr th {\n",
       "        vertical-align: top;\n",
       "    }\n",
       "\n",
       "    .dataframe thead th {\n",
       "        text-align: right;\n",
       "    }\n",
       "</style>\n",
       "<table border=\"1\" class=\"dataframe\">\n",
       "  <thead>\n",
       "    <tr style=\"text-align: right;\">\n",
       "      <th></th>\n",
       "      <th>Parameters</th>\n",
       "      <th>Score</th>\n",
       "    </tr>\n",
       "  </thead>\n",
       "  <tbody>\n",
       "    <tr>\n",
       "      <th>Davies-Bouldin</th>\n",
       "      <td>{'min_samples': 10, 'min_cluster_size': 20}</td>\n",
       "      <td>-0.438044</td>\n",
       "    </tr>\n",
       "    <tr>\n",
       "      <th>Calinski-Harabasz</th>\n",
       "      <td>{'min_samples': 15, 'min_cluster_size': 25}</td>\n",
       "      <td>0.040479</td>\n",
       "    </tr>\n",
       "    <tr>\n",
       "      <th>Silhouette Score</th>\n",
       "      <td>{'min_samples': 5, 'min_cluster_size': 15}</td>\n",
       "      <td>0.545338</td>\n",
       "    </tr>\n",
       "    <tr>\n",
       "      <th>Dunn Index</th>\n",
       "      <td>{'min_samples': 5, 'min_cluster_size': 15}</td>\n",
       "      <td>0.0</td>\n",
       "    </tr>\n",
       "  </tbody>\n",
       "</table>\n",
       "</div>"
      ],
      "text/plain": [
       "                                                    Parameters     Score\n",
       "Davies-Bouldin     {'min_samples': 10, 'min_cluster_size': 20} -0.438044\n",
       "Calinski-Harabasz  {'min_samples': 15, 'min_cluster_size': 25}  0.040479\n",
       "Silhouette Score    {'min_samples': 5, 'min_cluster_size': 15}  0.545338\n",
       "Dunn Index          {'min_samples': 5, 'min_cluster_size': 15}       0.0"
      ]
     },
     "metadata": {},
     "output_type": "display_data"
    },
    {
     "name": "stdout",
     "output_type": "stream",
     "text": [
      "\n",
      "Best Parameters for OPTICS\n"
     ]
    },
    {
     "data": {
      "application/vnd.microsoft.datawrangler.viewer.v0+json": {
       "columns": [
        {
         "name": "index",
         "rawType": "object",
         "type": "string"
        },
        {
         "name": "Parameters",
         "rawType": "object",
         "type": "unknown"
        },
        {
         "name": "Score",
         "rawType": "object",
         "type": "unknown"
        }
       ],
       "conversionMethod": "pd.DataFrame",
       "ref": "f94f66fc-fb39-4448-ad2d-16dfc081e703",
       "rows": [
        [
         "Davies-Bouldin",
         "{'min_samples': 150, 'max_eps': 500, 'xi': 0.001}",
         "-0.5826868490893572"
        ],
        [
         "Calinski-Harabasz",
         "{'min_samples': 150, 'max_eps': 500, 'xi': 0.001}",
         "0.15808540437070817"
        ],
        [
         "Silhouette Score",
         "{'min_samples': 150, 'max_eps': 500, 'xi': 0.001}",
         "0.5225197870290711"
        ],
        [
         "Dunn Index",
         "{'min_samples': 150, 'max_eps': 500, 'xi': 0.001}",
         "0.02137410308309892"
        ]
       ],
       "shape": {
        "columns": 2,
        "rows": 4
       }
      },
      "text/html": [
       "<div>\n",
       "<style scoped>\n",
       "    .dataframe tbody tr th:only-of-type {\n",
       "        vertical-align: middle;\n",
       "    }\n",
       "\n",
       "    .dataframe tbody tr th {\n",
       "        vertical-align: top;\n",
       "    }\n",
       "\n",
       "    .dataframe thead th {\n",
       "        text-align: right;\n",
       "    }\n",
       "</style>\n",
       "<table border=\"1\" class=\"dataframe\">\n",
       "  <thead>\n",
       "    <tr style=\"text-align: right;\">\n",
       "      <th></th>\n",
       "      <th>Parameters</th>\n",
       "      <th>Score</th>\n",
       "    </tr>\n",
       "  </thead>\n",
       "  <tbody>\n",
       "    <tr>\n",
       "      <th>Davies-Bouldin</th>\n",
       "      <td>{'min_samples': 150, 'max_eps': 500, 'xi': 0.001}</td>\n",
       "      <td>-0.582687</td>\n",
       "    </tr>\n",
       "    <tr>\n",
       "      <th>Calinski-Harabasz</th>\n",
       "      <td>{'min_samples': 150, 'max_eps': 500, 'xi': 0.001}</td>\n",
       "      <td>0.158085</td>\n",
       "    </tr>\n",
       "    <tr>\n",
       "      <th>Silhouette Score</th>\n",
       "      <td>{'min_samples': 150, 'max_eps': 500, 'xi': 0.001}</td>\n",
       "      <td>0.52252</td>\n",
       "    </tr>\n",
       "    <tr>\n",
       "      <th>Dunn Index</th>\n",
       "      <td>{'min_samples': 150, 'max_eps': 500, 'xi': 0.001}</td>\n",
       "      <td>0.021374</td>\n",
       "    </tr>\n",
       "  </tbody>\n",
       "</table>\n",
       "</div>"
      ],
      "text/plain": [
       "                                                          Parameters     Score\n",
       "Davies-Bouldin     {'min_samples': 150, 'max_eps': 500, 'xi': 0.001} -0.582687\n",
       "Calinski-Harabasz  {'min_samples': 150, 'max_eps': 500, 'xi': 0.001}  0.158085\n",
       "Silhouette Score   {'min_samples': 150, 'max_eps': 500, 'xi': 0.001}   0.52252\n",
       "Dunn Index         {'min_samples': 150, 'max_eps': 500, 'xi': 0.001}  0.021374"
      ]
     },
     "metadata": {},
     "output_type": "display_data"
    },
    {
     "name": "stdout",
     "output_type": "stream",
     "text": [
      "\n",
      "Running clustering for Year Range: 2014-2017\n",
      "\n",
      "Running K-Means with parameters {'n_clusters': 3}\n",
      "\n",
      "Running K-Means with parameters {'n_clusters': 4}\n",
      "\n",
      "Running K-Means with parameters {'n_clusters': 5}\n",
      "\n",
      "Running DBSCAN with parameters {'eps': 0.05, 'min_samples': 25}\n",
      "\n",
      "Running DBSCAN with parameters {'eps': 0.01, 'min_samples': 30}\n",
      "\n",
      "Running DBSCAN with parameters {'eps': 0.02, 'min_samples': 35}\n",
      "\n",
      "Running HDBSCAN with parameters {'min_samples': 5, 'min_cluster_size': 15}\n",
      "\n",
      "Running HDBSCAN with parameters {'min_samples': 10, 'min_cluster_size': 20}\n",
      "\n",
      "Running HDBSCAN with parameters {'min_samples': 15, 'min_cluster_size': 25}\n",
      "\n",
      "Running OPTICS with parameters {'min_samples': 50, 'max_eps': 100, 'xi': 0.005}\n",
      "\n",
      "Running OPTICS with parameters {'min_samples': 100, 'max_eps': 200, 'xi': 0.002}\n",
      "\n",
      "Running OPTICS with parameters {'min_samples': 150, 'max_eps': 500, 'xi': 0.001}\n",
      "\n",
      "Best Parameters for K-Means\n"
     ]
    },
    {
     "data": {
      "application/vnd.microsoft.datawrangler.viewer.v0+json": {
       "columns": [
        {
         "name": "index",
         "rawType": "object",
         "type": "string"
        },
        {
         "name": "Parameters",
         "rawType": "object",
         "type": "unknown"
        },
        {
         "name": "Score",
         "rawType": "object",
         "type": "unknown"
        }
       ],
       "conversionMethod": "pd.DataFrame",
       "ref": "f9dd11ab-f29f-4094-a114-3c6097fcf95a",
       "rows": [
        [
         "Davies-Bouldin",
         "{'n_clusters': 4}",
         "0.7032765890339083"
        ],
        [
         "Calinski-Harabasz",
         "{'n_clusters': 5}",
         "1.0"
        ],
        [
         "Silhouette Score",
         "{'n_clusters': 5}",
         "0.6939226525597423"
        ],
        [
         "Dunn Index",
         "{'n_clusters': 3}",
         "0.45796676706886663"
        ]
       ],
       "shape": {
        "columns": 2,
        "rows": 4
       }
      },
      "text/html": [
       "<div>\n",
       "<style scoped>\n",
       "    .dataframe tbody tr th:only-of-type {\n",
       "        vertical-align: middle;\n",
       "    }\n",
       "\n",
       "    .dataframe tbody tr th {\n",
       "        vertical-align: top;\n",
       "    }\n",
       "\n",
       "    .dataframe thead th {\n",
       "        text-align: right;\n",
       "    }\n",
       "</style>\n",
       "<table border=\"1\" class=\"dataframe\">\n",
       "  <thead>\n",
       "    <tr style=\"text-align: right;\">\n",
       "      <th></th>\n",
       "      <th>Parameters</th>\n",
       "      <th>Score</th>\n",
       "    </tr>\n",
       "  </thead>\n",
       "  <tbody>\n",
       "    <tr>\n",
       "      <th>Davies-Bouldin</th>\n",
       "      <td>{'n_clusters': 4}</td>\n",
       "      <td>0.703277</td>\n",
       "    </tr>\n",
       "    <tr>\n",
       "      <th>Calinski-Harabasz</th>\n",
       "      <td>{'n_clusters': 5}</td>\n",
       "      <td>1.0</td>\n",
       "    </tr>\n",
       "    <tr>\n",
       "      <th>Silhouette Score</th>\n",
       "      <td>{'n_clusters': 5}</td>\n",
       "      <td>0.693923</td>\n",
       "    </tr>\n",
       "    <tr>\n",
       "      <th>Dunn Index</th>\n",
       "      <td>{'n_clusters': 3}</td>\n",
       "      <td>0.457967</td>\n",
       "    </tr>\n",
       "  </tbody>\n",
       "</table>\n",
       "</div>"
      ],
      "text/plain": [
       "                          Parameters     Score\n",
       "Davies-Bouldin     {'n_clusters': 4}  0.703277\n",
       "Calinski-Harabasz  {'n_clusters': 5}       1.0\n",
       "Silhouette Score   {'n_clusters': 5}  0.693923\n",
       "Dunn Index         {'n_clusters': 3}  0.457967"
      ]
     },
     "metadata": {},
     "output_type": "display_data"
    },
    {
     "name": "stdout",
     "output_type": "stream",
     "text": [
      "\n",
      "Best Parameters for DBSCAN\n"
     ]
    },
    {
     "data": {
      "application/vnd.microsoft.datawrangler.viewer.v0+json": {
       "columns": [
        {
         "name": "index",
         "rawType": "object",
         "type": "string"
        },
        {
         "name": "Parameters",
         "rawType": "object",
         "type": "unknown"
        },
        {
         "name": "Score",
         "rawType": "object",
         "type": "unknown"
        }
       ],
       "conversionMethod": "pd.DataFrame",
       "ref": "d5189b28-3c51-40cb-99d0-31ebe5490ac2",
       "rows": [
        [
         "Davies-Bouldin",
         "{'eps': 0.05, 'min_samples': 25}",
         "-0.0505731298075782"
        ],
        [
         "Calinski-Harabasz",
         "{'eps': 0.05, 'min_samples': 25}",
         "0.04650401337801279"
        ],
        [
         "Silhouette Score",
         "{'eps': 0.05, 'min_samples': 25}",
         "0.5937777093142139"
        ],
        [
         "Dunn Index",
         "{'eps': 0.02, 'min_samples': 35}",
         "0.0"
        ]
       ],
       "shape": {
        "columns": 2,
        "rows": 4
       }
      },
      "text/html": [
       "<div>\n",
       "<style scoped>\n",
       "    .dataframe tbody tr th:only-of-type {\n",
       "        vertical-align: middle;\n",
       "    }\n",
       "\n",
       "    .dataframe tbody tr th {\n",
       "        vertical-align: top;\n",
       "    }\n",
       "\n",
       "    .dataframe thead th {\n",
       "        text-align: right;\n",
       "    }\n",
       "</style>\n",
       "<table border=\"1\" class=\"dataframe\">\n",
       "  <thead>\n",
       "    <tr style=\"text-align: right;\">\n",
       "      <th></th>\n",
       "      <th>Parameters</th>\n",
       "      <th>Score</th>\n",
       "    </tr>\n",
       "  </thead>\n",
       "  <tbody>\n",
       "    <tr>\n",
       "      <th>Davies-Bouldin</th>\n",
       "      <td>{'eps': 0.05, 'min_samples': 25}</td>\n",
       "      <td>-0.050573</td>\n",
       "    </tr>\n",
       "    <tr>\n",
       "      <th>Calinski-Harabasz</th>\n",
       "      <td>{'eps': 0.05, 'min_samples': 25}</td>\n",
       "      <td>0.046504</td>\n",
       "    </tr>\n",
       "    <tr>\n",
       "      <th>Silhouette Score</th>\n",
       "      <td>{'eps': 0.05, 'min_samples': 25}</td>\n",
       "      <td>0.593778</td>\n",
       "    </tr>\n",
       "    <tr>\n",
       "      <th>Dunn Index</th>\n",
       "      <td>{'eps': 0.02, 'min_samples': 35}</td>\n",
       "      <td>0.0</td>\n",
       "    </tr>\n",
       "  </tbody>\n",
       "</table>\n",
       "</div>"
      ],
      "text/plain": [
       "                                         Parameters     Score\n",
       "Davies-Bouldin     {'eps': 0.05, 'min_samples': 25} -0.050573\n",
       "Calinski-Harabasz  {'eps': 0.05, 'min_samples': 25}  0.046504\n",
       "Silhouette Score   {'eps': 0.05, 'min_samples': 25}  0.593778\n",
       "Dunn Index         {'eps': 0.02, 'min_samples': 35}       0.0"
      ]
     },
     "metadata": {},
     "output_type": "display_data"
    },
    {
     "name": "stdout",
     "output_type": "stream",
     "text": [
      "\n",
      "Best Parameters for HDBSCAN\n"
     ]
    },
    {
     "data": {
      "application/vnd.microsoft.datawrangler.viewer.v0+json": {
       "columns": [
        {
         "name": "index",
         "rawType": "object",
         "type": "string"
        },
        {
         "name": "Parameters",
         "rawType": "object",
         "type": "unknown"
        },
        {
         "name": "Score",
         "rawType": "object",
         "type": "unknown"
        }
       ],
       "conversionMethod": "pd.DataFrame",
       "ref": "aa27f73e-3390-4283-bc45-e2710e7965bf",
       "rows": [
        [
         "Davies-Bouldin",
         "{'min_samples': 15, 'min_cluster_size': 25}",
         "0.006980059022588326"
        ],
        [
         "Calinski-Harabasz",
         "{'min_samples': 15, 'min_cluster_size': 25}",
         "0.04700949055605051"
        ],
        [
         "Silhouette Score",
         "{'min_samples': 15, 'min_cluster_size': 25}",
         "0.5504190560894634"
        ],
        [
         "Dunn Index",
         "{'min_samples': 5, 'min_cluster_size': 15}",
         "0.0630641616859798"
        ]
       ],
       "shape": {
        "columns": 2,
        "rows": 4
       }
      },
      "text/html": [
       "<div>\n",
       "<style scoped>\n",
       "    .dataframe tbody tr th:only-of-type {\n",
       "        vertical-align: middle;\n",
       "    }\n",
       "\n",
       "    .dataframe tbody tr th {\n",
       "        vertical-align: top;\n",
       "    }\n",
       "\n",
       "    .dataframe thead th {\n",
       "        text-align: right;\n",
       "    }\n",
       "</style>\n",
       "<table border=\"1\" class=\"dataframe\">\n",
       "  <thead>\n",
       "    <tr style=\"text-align: right;\">\n",
       "      <th></th>\n",
       "      <th>Parameters</th>\n",
       "      <th>Score</th>\n",
       "    </tr>\n",
       "  </thead>\n",
       "  <tbody>\n",
       "    <tr>\n",
       "      <th>Davies-Bouldin</th>\n",
       "      <td>{'min_samples': 15, 'min_cluster_size': 25}</td>\n",
       "      <td>0.00698</td>\n",
       "    </tr>\n",
       "    <tr>\n",
       "      <th>Calinski-Harabasz</th>\n",
       "      <td>{'min_samples': 15, 'min_cluster_size': 25}</td>\n",
       "      <td>0.047009</td>\n",
       "    </tr>\n",
       "    <tr>\n",
       "      <th>Silhouette Score</th>\n",
       "      <td>{'min_samples': 15, 'min_cluster_size': 25}</td>\n",
       "      <td>0.550419</td>\n",
       "    </tr>\n",
       "    <tr>\n",
       "      <th>Dunn Index</th>\n",
       "      <td>{'min_samples': 5, 'min_cluster_size': 15}</td>\n",
       "      <td>0.063064</td>\n",
       "    </tr>\n",
       "  </tbody>\n",
       "</table>\n",
       "</div>"
      ],
      "text/plain": [
       "                                                    Parameters     Score\n",
       "Davies-Bouldin     {'min_samples': 15, 'min_cluster_size': 25}   0.00698\n",
       "Calinski-Harabasz  {'min_samples': 15, 'min_cluster_size': 25}  0.047009\n",
       "Silhouette Score   {'min_samples': 15, 'min_cluster_size': 25}  0.550419\n",
       "Dunn Index          {'min_samples': 5, 'min_cluster_size': 15}  0.063064"
      ]
     },
     "metadata": {},
     "output_type": "display_data"
    },
    {
     "name": "stdout",
     "output_type": "stream",
     "text": [
      "\n",
      "Best Parameters for OPTICS\n"
     ]
    },
    {
     "data": {
      "application/vnd.microsoft.datawrangler.viewer.v0+json": {
       "columns": [
        {
         "name": "index",
         "rawType": "object",
         "type": "string"
        },
        {
         "name": "Parameters",
         "rawType": "object",
         "type": "unknown"
        },
        {
         "name": "Score",
         "rawType": "object",
         "type": "unknown"
        }
       ],
       "conversionMethod": "pd.DataFrame",
       "ref": "783b8733-f0e1-4c2e-b723-c51d83ed8689",
       "rows": [
        [
         "Davies-Bouldin",
         "{'min_samples': 50, 'max_eps': 100, 'xi': 0.005}",
         "-0.28132393316757176"
        ],
        [
         "Calinski-Harabasz",
         "{'min_samples': 150, 'max_eps': 500, 'xi': 0.001}",
         "0.14102316736136808"
        ],
        [
         "Silhouette Score",
         "{'min_samples': 150, 'max_eps': 500, 'xi': 0.001}",
         "0.48960758763827544"
        ],
        [
         "Dunn Index",
         "{'min_samples': 150, 'max_eps': 500, 'xi': 0.001}",
         "0.3068955486264914"
        ]
       ],
       "shape": {
        "columns": 2,
        "rows": 4
       }
      },
      "text/html": [
       "<div>\n",
       "<style scoped>\n",
       "    .dataframe tbody tr th:only-of-type {\n",
       "        vertical-align: middle;\n",
       "    }\n",
       "\n",
       "    .dataframe tbody tr th {\n",
       "        vertical-align: top;\n",
       "    }\n",
       "\n",
       "    .dataframe thead th {\n",
       "        text-align: right;\n",
       "    }\n",
       "</style>\n",
       "<table border=\"1\" class=\"dataframe\">\n",
       "  <thead>\n",
       "    <tr style=\"text-align: right;\">\n",
       "      <th></th>\n",
       "      <th>Parameters</th>\n",
       "      <th>Score</th>\n",
       "    </tr>\n",
       "  </thead>\n",
       "  <tbody>\n",
       "    <tr>\n",
       "      <th>Davies-Bouldin</th>\n",
       "      <td>{'min_samples': 50, 'max_eps': 100, 'xi': 0.005}</td>\n",
       "      <td>-0.281324</td>\n",
       "    </tr>\n",
       "    <tr>\n",
       "      <th>Calinski-Harabasz</th>\n",
       "      <td>{'min_samples': 150, 'max_eps': 500, 'xi': 0.001}</td>\n",
       "      <td>0.141023</td>\n",
       "    </tr>\n",
       "    <tr>\n",
       "      <th>Silhouette Score</th>\n",
       "      <td>{'min_samples': 150, 'max_eps': 500, 'xi': 0.001}</td>\n",
       "      <td>0.489608</td>\n",
       "    </tr>\n",
       "    <tr>\n",
       "      <th>Dunn Index</th>\n",
       "      <td>{'min_samples': 150, 'max_eps': 500, 'xi': 0.001}</td>\n",
       "      <td>0.306896</td>\n",
       "    </tr>\n",
       "  </tbody>\n",
       "</table>\n",
       "</div>"
      ],
      "text/plain": [
       "                                                          Parameters     Score\n",
       "Davies-Bouldin      {'min_samples': 50, 'max_eps': 100, 'xi': 0.005} -0.281324\n",
       "Calinski-Harabasz  {'min_samples': 150, 'max_eps': 500, 'xi': 0.001}  0.141023\n",
       "Silhouette Score   {'min_samples': 150, 'max_eps': 500, 'xi': 0.001}  0.489608\n",
       "Dunn Index         {'min_samples': 150, 'max_eps': 500, 'xi': 0.001}  0.306896"
      ]
     },
     "metadata": {},
     "output_type": "display_data"
    },
    {
     "name": "stdout",
     "output_type": "stream",
     "text": [
      "\n",
      "Running clustering for Year Range: 2019-2023\n",
      "\n",
      "Running K-Means with parameters {'n_clusters': 3}\n",
      "\n",
      "Running K-Means with parameters {'n_clusters': 4}\n",
      "\n",
      "Running K-Means with parameters {'n_clusters': 5}\n",
      "\n",
      "Running DBSCAN with parameters {'eps': 0.05, 'min_samples': 25}\n",
      "\n",
      "Running DBSCAN with parameters {'eps': 0.01, 'min_samples': 30}\n",
      "\n",
      "Running DBSCAN with parameters {'eps': 0.02, 'min_samples': 35}\n",
      "\n",
      "Running HDBSCAN with parameters {'min_samples': 5, 'min_cluster_size': 15}\n",
      "\n",
      "Running HDBSCAN with parameters {'min_samples': 10, 'min_cluster_size': 20}\n",
      "\n",
      "Running HDBSCAN with parameters {'min_samples': 15, 'min_cluster_size': 25}\n",
      "\n",
      "Running OPTICS with parameters {'min_samples': 50, 'max_eps': 100, 'xi': 0.005}\n",
      "\n",
      "Running OPTICS with parameters {'min_samples': 100, 'max_eps': 200, 'xi': 0.002}\n",
      "\n",
      "Running OPTICS with parameters {'min_samples': 150, 'max_eps': 500, 'xi': 0.001}\n",
      "\n",
      "Best Parameters for K-Means\n"
     ]
    },
    {
     "data": {
      "application/vnd.microsoft.datawrangler.viewer.v0+json": {
       "columns": [
        {
         "name": "index",
         "rawType": "object",
         "type": "string"
        },
        {
         "name": "Parameters",
         "rawType": "object",
         "type": "unknown"
        },
        {
         "name": "Score",
         "rawType": "object",
         "type": "unknown"
        }
       ],
       "conversionMethod": "pd.DataFrame",
       "ref": "4d2ff75f-918e-4ad7-882d-26feac969770",
       "rows": [
        [
         "Davies-Bouldin",
         "{'n_clusters': 5}",
         "0.7571257504702094"
        ],
        [
         "Calinski-Harabasz",
         "{'n_clusters': 3}",
         "1.0"
        ],
        [
         "Silhouette Score",
         "{'n_clusters': 5}",
         "0.6987983382688042"
        ],
        [
         "Dunn Index",
         "{'n_clusters': 4}",
         "0.117032609991184"
        ]
       ],
       "shape": {
        "columns": 2,
        "rows": 4
       }
      },
      "text/html": [
       "<div>\n",
       "<style scoped>\n",
       "    .dataframe tbody tr th:only-of-type {\n",
       "        vertical-align: middle;\n",
       "    }\n",
       "\n",
       "    .dataframe tbody tr th {\n",
       "        vertical-align: top;\n",
       "    }\n",
       "\n",
       "    .dataframe thead th {\n",
       "        text-align: right;\n",
       "    }\n",
       "</style>\n",
       "<table border=\"1\" class=\"dataframe\">\n",
       "  <thead>\n",
       "    <tr style=\"text-align: right;\">\n",
       "      <th></th>\n",
       "      <th>Parameters</th>\n",
       "      <th>Score</th>\n",
       "    </tr>\n",
       "  </thead>\n",
       "  <tbody>\n",
       "    <tr>\n",
       "      <th>Davies-Bouldin</th>\n",
       "      <td>{'n_clusters': 5}</td>\n",
       "      <td>0.757126</td>\n",
       "    </tr>\n",
       "    <tr>\n",
       "      <th>Calinski-Harabasz</th>\n",
       "      <td>{'n_clusters': 3}</td>\n",
       "      <td>1.0</td>\n",
       "    </tr>\n",
       "    <tr>\n",
       "      <th>Silhouette Score</th>\n",
       "      <td>{'n_clusters': 5}</td>\n",
       "      <td>0.698798</td>\n",
       "    </tr>\n",
       "    <tr>\n",
       "      <th>Dunn Index</th>\n",
       "      <td>{'n_clusters': 4}</td>\n",
       "      <td>0.117033</td>\n",
       "    </tr>\n",
       "  </tbody>\n",
       "</table>\n",
       "</div>"
      ],
      "text/plain": [
       "                          Parameters     Score\n",
       "Davies-Bouldin     {'n_clusters': 5}  0.757126\n",
       "Calinski-Harabasz  {'n_clusters': 3}       1.0\n",
       "Silhouette Score   {'n_clusters': 5}  0.698798\n",
       "Dunn Index         {'n_clusters': 4}  0.117033"
      ]
     },
     "metadata": {},
     "output_type": "display_data"
    },
    {
     "name": "stdout",
     "output_type": "stream",
     "text": [
      "\n",
      "Best Parameters for DBSCAN\n"
     ]
    },
    {
     "data": {
      "application/vnd.microsoft.datawrangler.viewer.v0+json": {
       "columns": [
        {
         "name": "index",
         "rawType": "object",
         "type": "string"
        },
        {
         "name": "Parameters",
         "rawType": "object",
         "type": "unknown"
        },
        {
         "name": "Score",
         "rawType": "object",
         "type": "unknown"
        }
       ],
       "conversionMethod": "pd.DataFrame",
       "ref": "648387db-622c-4d19-9eb8-e64f863111f4",
       "rows": [
        [
         "Davies-Bouldin",
         "{'eps': 0.05, 'min_samples': 25}",
         "-0.2190202081121561"
        ],
        [
         "Calinski-Harabasz",
         "{'eps': 0.05, 'min_samples': 25}",
         "0.02704807927048195"
        ],
        [
         "Silhouette Score",
         "{'eps': 0.05, 'min_samples': 25}",
         "0.5144047833099522"
        ],
        [
         "Dunn Index",
         "{'eps': 0.01, 'min_samples': 30}",
         "0.06809964911671075"
        ]
       ],
       "shape": {
        "columns": 2,
        "rows": 4
       }
      },
      "text/html": [
       "<div>\n",
       "<style scoped>\n",
       "    .dataframe tbody tr th:only-of-type {\n",
       "        vertical-align: middle;\n",
       "    }\n",
       "\n",
       "    .dataframe tbody tr th {\n",
       "        vertical-align: top;\n",
       "    }\n",
       "\n",
       "    .dataframe thead th {\n",
       "        text-align: right;\n",
       "    }\n",
       "</style>\n",
       "<table border=\"1\" class=\"dataframe\">\n",
       "  <thead>\n",
       "    <tr style=\"text-align: right;\">\n",
       "      <th></th>\n",
       "      <th>Parameters</th>\n",
       "      <th>Score</th>\n",
       "    </tr>\n",
       "  </thead>\n",
       "  <tbody>\n",
       "    <tr>\n",
       "      <th>Davies-Bouldin</th>\n",
       "      <td>{'eps': 0.05, 'min_samples': 25}</td>\n",
       "      <td>-0.21902</td>\n",
       "    </tr>\n",
       "    <tr>\n",
       "      <th>Calinski-Harabasz</th>\n",
       "      <td>{'eps': 0.05, 'min_samples': 25}</td>\n",
       "      <td>0.027048</td>\n",
       "    </tr>\n",
       "    <tr>\n",
       "      <th>Silhouette Score</th>\n",
       "      <td>{'eps': 0.05, 'min_samples': 25}</td>\n",
       "      <td>0.514405</td>\n",
       "    </tr>\n",
       "    <tr>\n",
       "      <th>Dunn Index</th>\n",
       "      <td>{'eps': 0.01, 'min_samples': 30}</td>\n",
       "      <td>0.0681</td>\n",
       "    </tr>\n",
       "  </tbody>\n",
       "</table>\n",
       "</div>"
      ],
      "text/plain": [
       "                                         Parameters     Score\n",
       "Davies-Bouldin     {'eps': 0.05, 'min_samples': 25}  -0.21902\n",
       "Calinski-Harabasz  {'eps': 0.05, 'min_samples': 25}  0.027048\n",
       "Silhouette Score   {'eps': 0.05, 'min_samples': 25}  0.514405\n",
       "Dunn Index         {'eps': 0.01, 'min_samples': 30}    0.0681"
      ]
     },
     "metadata": {},
     "output_type": "display_data"
    },
    {
     "name": "stdout",
     "output_type": "stream",
     "text": [
      "\n",
      "Best Parameters for HDBSCAN\n"
     ]
    },
    {
     "data": {
      "application/vnd.microsoft.datawrangler.viewer.v0+json": {
       "columns": [
        {
         "name": "index",
         "rawType": "object",
         "type": "string"
        },
        {
         "name": "Parameters",
         "rawType": "object",
         "type": "unknown"
        },
        {
         "name": "Score",
         "rawType": "object",
         "type": "unknown"
        }
       ],
       "conversionMethod": "pd.DataFrame",
       "ref": "30a4beb0-9b81-44a7-89fe-d5cce43ca69e",
       "rows": [
        [
         "Davies-Bouldin",
         "{'min_samples': 5, 'min_cluster_size': 15}",
         "0.22025638497212624"
        ],
        [
         "Calinski-Harabasz",
         "{'min_samples': 15, 'min_cluster_size': 25}",
         "0.024865238724333636"
        ],
        [
         "Silhouette Score",
         "{'min_samples': 5, 'min_cluster_size': 15}",
         "0.46774801723266707"
        ],
        [
         "Dunn Index",
         "{'min_samples': 5, 'min_cluster_size': 15}",
         "0.0"
        ]
       ],
       "shape": {
        "columns": 2,
        "rows": 4
       }
      },
      "text/html": [
       "<div>\n",
       "<style scoped>\n",
       "    .dataframe tbody tr th:only-of-type {\n",
       "        vertical-align: middle;\n",
       "    }\n",
       "\n",
       "    .dataframe tbody tr th {\n",
       "        vertical-align: top;\n",
       "    }\n",
       "\n",
       "    .dataframe thead th {\n",
       "        text-align: right;\n",
       "    }\n",
       "</style>\n",
       "<table border=\"1\" class=\"dataframe\">\n",
       "  <thead>\n",
       "    <tr style=\"text-align: right;\">\n",
       "      <th></th>\n",
       "      <th>Parameters</th>\n",
       "      <th>Score</th>\n",
       "    </tr>\n",
       "  </thead>\n",
       "  <tbody>\n",
       "    <tr>\n",
       "      <th>Davies-Bouldin</th>\n",
       "      <td>{'min_samples': 5, 'min_cluster_size': 15}</td>\n",
       "      <td>0.220256</td>\n",
       "    </tr>\n",
       "    <tr>\n",
       "      <th>Calinski-Harabasz</th>\n",
       "      <td>{'min_samples': 15, 'min_cluster_size': 25}</td>\n",
       "      <td>0.024865</td>\n",
       "    </tr>\n",
       "    <tr>\n",
       "      <th>Silhouette Score</th>\n",
       "      <td>{'min_samples': 5, 'min_cluster_size': 15}</td>\n",
       "      <td>0.467748</td>\n",
       "    </tr>\n",
       "    <tr>\n",
       "      <th>Dunn Index</th>\n",
       "      <td>{'min_samples': 5, 'min_cluster_size': 15}</td>\n",
       "      <td>0.0</td>\n",
       "    </tr>\n",
       "  </tbody>\n",
       "</table>\n",
       "</div>"
      ],
      "text/plain": [
       "                                                    Parameters     Score\n",
       "Davies-Bouldin      {'min_samples': 5, 'min_cluster_size': 15}  0.220256\n",
       "Calinski-Harabasz  {'min_samples': 15, 'min_cluster_size': 25}  0.024865\n",
       "Silhouette Score    {'min_samples': 5, 'min_cluster_size': 15}  0.467748\n",
       "Dunn Index          {'min_samples': 5, 'min_cluster_size': 15}       0.0"
      ]
     },
     "metadata": {},
     "output_type": "display_data"
    },
    {
     "name": "stdout",
     "output_type": "stream",
     "text": [
      "\n",
      "Best Parameters for OPTICS\n"
     ]
    },
    {
     "data": {
      "application/vnd.microsoft.datawrangler.viewer.v0+json": {
       "columns": [
        {
         "name": "index",
         "rawType": "object",
         "type": "string"
        },
        {
         "name": "Parameters",
         "rawType": "object",
         "type": "unknown"
        },
        {
         "name": "Score",
         "rawType": "object",
         "type": "unknown"
        }
       ],
       "conversionMethod": "pd.DataFrame",
       "ref": "387e00aa-29ed-4943-a8ee-d1c3ff08a167",
       "rows": [
        [
         "Davies-Bouldin",
         "{'min_samples': 100, 'max_eps': 200, 'xi': 0.002}",
         "0.4554138108245417"
        ],
        [
         "Calinski-Harabasz",
         "{'min_samples': 150, 'max_eps': 500, 'xi': 0.001}",
         "0.0436644864264468"
        ],
        [
         "Silhouette Score",
         "{'min_samples': 100, 'max_eps': 200, 'xi': 0.002}",
         "0.42398361697200876"
        ],
        [
         "Dunn Index",
         "{'min_samples': 100, 'max_eps': 200, 'xi': 0.002}",
         "0.13123156280852902"
        ]
       ],
       "shape": {
        "columns": 2,
        "rows": 4
       }
      },
      "text/html": [
       "<div>\n",
       "<style scoped>\n",
       "    .dataframe tbody tr th:only-of-type {\n",
       "        vertical-align: middle;\n",
       "    }\n",
       "\n",
       "    .dataframe tbody tr th {\n",
       "        vertical-align: top;\n",
       "    }\n",
       "\n",
       "    .dataframe thead th {\n",
       "        text-align: right;\n",
       "    }\n",
       "</style>\n",
       "<table border=\"1\" class=\"dataframe\">\n",
       "  <thead>\n",
       "    <tr style=\"text-align: right;\">\n",
       "      <th></th>\n",
       "      <th>Parameters</th>\n",
       "      <th>Score</th>\n",
       "    </tr>\n",
       "  </thead>\n",
       "  <tbody>\n",
       "    <tr>\n",
       "      <th>Davies-Bouldin</th>\n",
       "      <td>{'min_samples': 100, 'max_eps': 200, 'xi': 0.002}</td>\n",
       "      <td>0.455414</td>\n",
       "    </tr>\n",
       "    <tr>\n",
       "      <th>Calinski-Harabasz</th>\n",
       "      <td>{'min_samples': 150, 'max_eps': 500, 'xi': 0.001}</td>\n",
       "      <td>0.043664</td>\n",
       "    </tr>\n",
       "    <tr>\n",
       "      <th>Silhouette Score</th>\n",
       "      <td>{'min_samples': 100, 'max_eps': 200, 'xi': 0.002}</td>\n",
       "      <td>0.423984</td>\n",
       "    </tr>\n",
       "    <tr>\n",
       "      <th>Dunn Index</th>\n",
       "      <td>{'min_samples': 100, 'max_eps': 200, 'xi': 0.002}</td>\n",
       "      <td>0.131232</td>\n",
       "    </tr>\n",
       "  </tbody>\n",
       "</table>\n",
       "</div>"
      ],
      "text/plain": [
       "                                                          Parameters     Score\n",
       "Davies-Bouldin     {'min_samples': 100, 'max_eps': 200, 'xi': 0.002}  0.455414\n",
       "Calinski-Harabasz  {'min_samples': 150, 'max_eps': 500, 'xi': 0.001}  0.043664\n",
       "Silhouette Score   {'min_samples': 100, 'max_eps': 200, 'xi': 0.002}  0.423984\n",
       "Dunn Index         {'min_samples': 100, 'max_eps': 200, 'xi': 0.002}  0.131232"
      ]
     },
     "metadata": {},
     "output_type": "display_data"
    }
   ],
   "source": [
    "import numpy as np\n",
    "import pandas as pd\n",
    "import os\n",
    "import seaborn as sns\n",
    "import matplotlib.pyplot as plt\n",
    "\n",
    "from OPTICS import optics_clustering\n",
    "from kmeans import k_means\n",
    "from HDBSCAN import hdbscan_clustering\n",
    "from DBSCAN import dbscan_clustering\n",
    "\n",
    "from cluster_data import normalize_data, unnormalize\n",
    "from cluster_plotter import ClusterPlotter\n",
    "from cluster_data import run_clustering\n",
    "import cluster_data\n",
    "import scores\n",
    "import cluster_plotter\n",
    "\n",
    "# Files for uncorr_observed_data\n",
    "uncorr_obs_files = {\n",
    "    year: f\"ogs{year}01_12_det.ele_ucorr\" if year != 2002 else f\"ogs{year}08_12_det.ele_ucorr\"\n",
    "    for year in range(2002, 2024) if year != 2018  # Exclude 2018, missing\n",
    "}\n",
    "\n",
    "# Standard year ranges\n",
    "standard_year_ranges = {f\"{start}-{start + 3}\": np.arange(start, start + 4) for start in [2002, 2006, 2010, 2014]}\n",
    "standard_year_ranges[\"2019-2023\"] = np.arange(2019, 2024)\n",
    "\n",
    "# Running ranges\n",
    "running_ranges = cluster_data.generate_running_year_ranges(2002, 2023, 4)\n",
    "year_ranges = standard_year_ranges\n",
    "\n",
    "# Bin observed data\n",
    "binned_data = cluster_data.bin_observed_data(uncorr_obs_files, year_ranges, print_res=False)\n",
    "results_per_year_range = {}\n",
    "\n",
    "# Directory for saving plots\n",
    "plot_dir = \"Images/comparison_algorithms\"\n",
    "os.makedirs(plot_dir, exist_ok=True)\n",
    "cluster_plotter.clear_directory(plot_dir)\n",
    "\n",
    "# Process each binned data set\n",
    "for cluster_data, year_range in binned_data:\n",
    "    print(f\"\\nRunning clustering for Year Range: {year_range}\")\n",
    "\n",
    "    # Prepare data array\n",
    "    data_array = np.array([cluster_data.inc, cluster_data.raan]).T\n",
    "    normalized_data, data_min, data_max = normalize_data(data_array)\n",
    "\n",
    "    # Algorithms and parameters\n",
    "    algorithms = {\n",
    "        'K-Means': {'model': k_means, 'params': [{'n_clusters': 3}, {'n_clusters': 4}, {'n_clusters': 5}]},\n",
    "        'DBSCAN': {'model': dbscan_clustering, 'params': [{'eps': 0.05, 'min_samples': 25}, {'eps': 0.01, 'min_samples': 30}, {'eps': 0.02, 'min_samples': 35}]},\n",
    "        'HDBSCAN': {'model': hdbscan_clustering, 'params': [{'min_samples': 5, 'min_cluster_size': 15}, {'min_samples': 10, 'min_cluster_size': 20}, {'min_samples': 15, 'min_cluster_size': 25}]},\n",
    "        'OPTICS': {'model': optics_clustering, 'params': [{'min_samples': 50, 'max_eps': 100, 'xi': 0.005}, {'min_samples': 100, 'max_eps': 200, 'xi': 0.002}, {'min_samples': 150, 'max_eps': 500, 'xi': 0.001}]}\n",
    "    }\n",
    "\n",
    "    results = []\n",
    "    calinski_scores = []\n",
    "    dunn_scores = []\n",
    "    davies_bouldin_scores = []\n",
    "    silhouette_scores = []\n",
    "    global_min_calinski = float(\"inf\")\n",
    "    global_max_calinski = 0.0\n",
    "    global_min_dunn = float(\"inf\")\n",
    "    global_max_dunn = 0.0\n",
    "    global_min_sil = -1.0\n",
    "    global_max_sil = 1.0\n",
    "    global_min_db = 0.0\n",
    "    global_max_db = float(\"inf\")\n",
    "\n",
    "    for algo_name, algo_info in algorithms.items():\n",
    "        for params in algo_info['params']:\n",
    "            print(f\"\\nRunning {algo_name} with parameters {params}\")\n",
    "\n",
    "            if algo_name == \"K-Means\":\n",
    "                model = k_means(normalized_data, k=params['n_clusters'])\n",
    "                labels = model.labels\n",
    "                n_clusters = len(set(labels))\n",
    "\n",
    "            elif algo_name == \"DBSCAN\":\n",
    "                model = dbscan_clustering(normalized_data, eps=params['eps'], min_samples=params['min_samples'])\n",
    "                labels = model.labels\n",
    "                n_clusters = len(set(labels)) - (1 if -1 in labels else 0)\n",
    "\n",
    "            elif algo_name == \"HDBSCAN\":\n",
    "                model = hdbscan_clustering(normalized_data, min_cluster_size=params['min_cluster_size'], min_samples=params['min_samples'])\n",
    "                labels = model.labels\n",
    "                n_clusters = len(set(labels)) - (1 if -1 in labels else 0)\n",
    "\n",
    "            elif algo_name == \"OPTICS\":\n",
    "                model = optics_clustering(normalized_data, min_samples=params['min_samples'], max_eps=params['max_eps'], xi=params['xi'])\n",
    "                labels = model.labels\n",
    "                n_clusters = len(set(labels)) - (1 if -1 in labels else 0)\n",
    "\n",
    "            if n_clusters > 1:\n",
    "                try:\n",
    "                    davies_bouldin = scores.DB_score(model)  # Ensure this function is defined correctly\n",
    "                    calinski_harabasz = scores.CH_score(model)\n",
    "                    silhouette = scores.sil_score(model)\n",
    "                    dunn = scores.dunn_index_score(model)\n",
    "\n",
    "                    calinski_scores.append(calinski_harabasz)\n",
    "                    dunn_scores.append(dunn)\n",
    "                    davies_bouldin_scores.append(davies_bouldin)\n",
    "                    silhouette_scores.append(silhouette)\n",
    "\n",
    "                    results.append({\n",
    "                        \"Algorithm\": algo_name,\n",
    "                        \"Parameters\": params,\n",
    "                        \"Davies-Bouldin\": davies_bouldin,\n",
    "                        \"Calinski-Harabasz\": calinski_harabasz,\n",
    "                        \"Silhouette Score\": silhouette,\n",
    "                        \"Dunn Index\": dunn,\n",
    "                        \"Clusters\": n_clusters\n",
    "                    })\n",
    "\n",
    "                except ValueError as e:\n",
    "                    print(f\"Error calculating scores: {e}\")\n",
    "                    pass\n",
    "\n",
    "    # Updating the global min/max values\n",
    "    if calinski_scores:\n",
    "        global_min_calinski = np.min(calinski_scores)\n",
    "        global_max_calinski = np.max(calinski_scores)\n",
    "\n",
    "    if dunn_scores:\n",
    "        global_min_dunn = np.min(dunn_scores)\n",
    "        global_max_dunn = np.max(dunn_scores)\n",
    "\n",
    "    if davies_bouldin_scores:\n",
    "        global_min_db = np.min(davies_bouldin_scores)\n",
    "        global_max_db = np.max(davies_bouldin_scores)\n",
    "\n",
    "    if silhouette_scores:\n",
    "        global_min_silhouette = np.min(silhouette_scores)\n",
    "        global_max_silhouette = np.max(silhouette_scores)\n",
    "\n",
    "    # Reversing Davies-Bouldin and normalizing all scores\n",
    "    for result in results:\n",
    "        if result[\"Calinski-Harabasz\"] is not None:\n",
    "            result[\"Calinski-Harabasz\"] = scores.normalize_score(\n",
    "                result[\"Calinski-Harabasz\"], global_min_calinski, global_max_calinski\n",
    "            )\n",
    "        if result[\"Dunn Index\"] is not None:\n",
    "            result[\"Dunn Index\"] = scores.normalize_score(\n",
    "                result[\"Dunn Index\"], global_min_dunn, global_max_dunn\n",
    "            )\n",
    "        if result[\"Silhouette Score\"] is not None:\n",
    "            result[\"Silhouette Score\"] = scores.normalize_score(\n",
    "                result[\"Silhouette Score\"], global_min_sil, global_max_sil\n",
    "            )\n",
    "        if result[\"Davies-Bouldin\"] is not None:\n",
    "            davies_bouldin_reversed = global_max_db - result[\"Davies-Bouldin\"]\n",
    "            result[\"Davies-Bouldin\"] = scores.normalize_score(\n",
    "                davies_bouldin_reversed, global_min_db, global_max_db\n",
    "            )\n",
    "\n",
    "    # Convert results to DataFrame\n",
    "    df = pd.DataFrame(results)\n",
    "\n",
    "    best_params_per_algorithm = {}\n",
    "\n",
    "    for algo_name in algorithms.keys():\n",
    "        algo_df = df[df[\"Algorithm\"] == algo_name]\n",
    "        if algo_df.empty:\n",
    "            print(f\"No data for {algo_name}, skipping...\")\n",
    "            continue\n",
    "\n",
    "        best_params = {}\n",
    "        for score in [\"Davies-Bouldin\", \"Calinski-Harabasz\", \"Silhouette Score\", \"Dunn Index\"]:\n",
    "            if algo_df[score].isna().all():\n",
    "                print(f\"Warning: All values for {score} are NaN for {algo_name}. Skipping...\")\n",
    "                best_params[score] = {\"Parameters\": None, \"Score\": None}\n",
    "            else:\n",
    "                if score in [\"Davies-Bouldin\", \"Dunn Index\"]:\n",
    "                    best_row = algo_df.loc[algo_df[score].idxmin()]\n",
    "                else:\n",
    "                    best_row = algo_df.loc[algo_df[score].idxmax()]\n",
    "                best_params[score] = {\n",
    "                    \"Parameters\": best_row[\"Parameters\"],\n",
    "                    \"Score\": best_row[score]\n",
    "                }\n",
    "\n",
    "        best_params_per_algorithm[algo_name] = pd.DataFrame(best_params).T\n",
    "\n",
    "    for algo_name, best_params_df in best_params_per_algorithm.items():\n",
    "        print(f\"\\nBest Parameters for {algo_name}\")\n",
    "        display(best_params_df)\n",
    "        table_filename = os.path.join(plot_dir, f\"best_params_{algo_name}_{'-'.join(map(str, year_range))}.png\")\n",
    "\n",
    "        # Heatmap\n",
    "        score_columns = [\"Davies-Bouldin\", \"Calinski-Harabasz\", \"Silhouette Score\", \"Dunn Index\"]\n",
    "        heatmap_data = df.pivot_table(values=score_columns, index=[\"Algorithm\"], aggfunc=\"mean\")\n",
    "        plt.figure(figsize=(12, 8))\n",
    "        sns.heatmap(heatmap_data, annot=True, cmap=\"Reds\", linewidths=0.5)\n",
    "        plt.title(\"Heatmap of Scores for Different Parameter Sets\")\n",
    "        plt.tight_layout()\n",
    "        plt.savefig(os.path.join(plot_dir, f\"heatmap_{'-'.join(map(str, year_range))}.png\"))\n",
    "        plt.close()\n",
    "\n",
    "        # Radar plot\n",
    "        score_values = {}\n",
    "        for algo_name in algorithms.keys():\n",
    "            best_davies_bouldin = df[df[\"Algorithm\"] == algo_name][\"Davies-Bouldin\"].max()\n",
    "            best_calinski_harabasz = df[df[\"Algorithm\"] == algo_name][\"Calinski-Harabasz\"].max()\n",
    "            best_silhouette = df[df[\"Algorithm\"] == algo_name][\"Silhouette Score\"].max()\n",
    "            best_dunn = df[df[\"Algorithm\"] == algo_name][\"Dunn Index\"].max()\n",
    "            score_values[algo_name] = [best_davies_bouldin, best_calinski_harabasz, best_silhouette, best_dunn]\n",
    "\n",
    "        categories = [\"Davies-Bouldin\", \"Calinski-Harabasz\", \"Silhouette Score\", \"Dunn Index\"]\n",
    "        N = len(categories)\n",
    "        angles = np.linspace(0, 2 * np.pi, N, endpoint=False).tolist()\n",
    "        angles += angles[:1]\n",
    "        fig, ax = plt.subplots(figsize=(6, 6), subplot_kw=dict(polar=True))\n",
    "        for algo in score_values:\n",
    "            values = score_values[algo]\n",
    "            values += values[:1]\n",
    "            ax.plot(angles, values, label=algo, linewidth=2)\n",
    "            ax.fill(angles, values, alpha=0.25)\n",
    "\n",
    "        ax.set_xticks(angles[:-1])\n",
    "        ax.set_xticklabels(categories)\n",
    "        plt.title(\"Comparison of Clustering Algorithms (K-Means, DBSCAN, HDBSCAN, OPTICS)\", size=15)\n",
    "        plt.legend(loc='upper right', bbox_to_anchor=(1.1, 1.1))\n",
    "        plt.tight_layout()\n",
    "        plt.savefig(os.path.join(plot_dir, f\"radar_plot_{'-'.join(map(str, year_range))}.png\"))\n",
    "        plt.close()\n",
    "\n",
    "    # Correlation matrix for each algorithm\n",
    "    for algo_name in algorithms.keys():\n",
    "        algo_df = df[df[\"Algorithm\"] == algo_name]\n",
    "        if not algo_df.empty:\n",
    "            correlation_matrix = algo_df[score_columns].corr(\"pearson\")\n",
    "            plt.figure(figsize=(8, 6))\n",
    "            sns.heatmap(correlation_matrix, annot=True, cmap=\"Blues\", cbar=True, fmt='.2f', linewidths=0.5)\n",
    "            plt.title(f\"Correlation Matrix of Clustering Scores for {algo_name} Algorithm\")\n",
    "            plt.tight_layout()\n",
    "            plt.savefig(os.path.join(plot_dir, f\"correlation_matrix_{algo_name}_{'-'.join(map(str, year_range))}.png\"))\n",
    "            plt.close()\n"
   ]
  },
  {
   "cell_type": "code",
   "execution_count": null,
   "metadata": {},
   "outputs": [],
   "source": []
  },
  {
   "cell_type": "code",
   "execution_count": 2,
   "metadata": {},
   "outputs": [
    {
     "name": "stderr",
     "output_type": "stream",
     "text": [
      "c:\\Users\\fionu\\anaconda3\\Lib\\site-packages\\sklearn\\cluster\\_kmeans.py:1429: UserWarning: KMeans is known to have a memory leak on Windows with MKL, when there are less chunks than available threads. You can avoid it by setting the environment variable OMP_NUM_THREADS=2.\n",
      "  warnings.warn(\n"
     ]
    },
    {
     "name": "stdout",
     "output_type": "stream",
     "text": [
      "DBCV Score:  0.323194131847822\n"
     ]
    }
   ],
   "source": [
    "import sys\n",
    "import numpy as np\n",
    "from sklearn.datasets import make_blobs\n",
    "from sklearn.cluster import KMeans\n",
    "\n",
    "# Add the DBCV folder to the system path\n",
    "sys.path.append('DBCV')\n",
    "\n",
    "# Import the DBCV function from the module\n",
    "from DBCV.DBCV import DBCV\n",
    "\n",
    "# Step 1: Create a fake dataset with 2 clusters\n",
    "X, y_true = make_blobs(n_samples=300, centers=2, random_state=42)\n",
    "\n",
    "# Step 2: Perform clustering (using KMeans for simplicity)\n",
    "kmeans = KMeans(n_clusters=2, random_state=42)\n",
    "y_pred = kmeans.fit_predict(X)\n",
    "\n",
    "# Step 3: Calculate DBCV score\n",
    "dbcv_score = DBCV(X, y_pred)\n",
    "\n",
    "# Step 4: Print the result\n",
    "print(\"DBCV Score: \", dbcv_score)\n"
   ]
  },
  {
   "cell_type": "code",
   "execution_count": null,
   "metadata": {},
   "outputs": [
    {
     "name": "stdout",
     "output_type": "stream",
     "text": [
      "DBCV score: 0.5123\n",
      "Time taken: 3.7342 seconds\n",
      "DBCV score: 0.5123\n",
      "Time taken: 62.2766 seconds\n"
     ]
    }
   ],
   "source": [
    "from sklearn.datasets import make_blobs\n",
    "from sklearn.cluster import DBSCAN\n",
    "from dbcv_score_implementation import DBCV as DBCV_1\n",
    "import time\n",
    "\n",
    "import sys\n",
    "sys.path.append('DBCV')\n",
    "from DBCV.DBCV import DBCV as DBCV_module\n",
    "\n",
    "\n",
    "# Create synthetic dataset\n",
    "X, _ = make_blobs(n_samples=1000, centers=5, cluster_std=0.5, random_state=42)\n",
    "clustering = DBSCAN(eps=1.0, min_samples=5).fit(X)\n",
    "labels = clustering.labels_\n",
    "\n",
    "#faster version \n",
    "start_time = time.time()\n",
    "score = DBCV_1(X, labels)\n",
    "end_time = time.time()\n",
    "print(f\"DBCV score: {score:.4f}\")\n",
    "print(f\"Time taken: {end_time - start_time:.4f} seconds\")\n",
    "\n",
    "#slow version (directly from github)\n",
    "start_time = time.time()\n",
    "score = DBCV_module(X, labels)\n",
    "end_time = time.time()\n",
    "print(f\"DBCV score: {score:.4f}\")\n",
    "print(f\"Time taken: {end_time - start_time:.4f} seconds\")\n"
   ]
  },
  {
   "cell_type": "code",
   "execution_count": null,
   "metadata": {},
   "outputs": [
    {
     "name": "stdout",
     "output_type": "stream",
     "text": [
      "20\n"
     ]
    }
   ],
   "source": [
    "import my_dbcv_module\n",
    "\n",
    "print(my_dbcv_module.double_input(10))  # Should print 20"
   ]
  }
 ],
 "metadata": {
  "kernelspec": {
   "display_name": "base",
   "language": "python",
   "name": "python3"
  },
  "language_info": {
   "codemirror_mode": {
    "name": "ipython",
    "version": 3
   },
   "file_extension": ".py",
   "mimetype": "text/x-python",
   "name": "python",
   "nbconvert_exporter": "python",
   "pygments_lexer": "ipython3",
   "version": "3.12.3"
  }
 },
 "nbformat": 4,
 "nbformat_minor": 2
}
