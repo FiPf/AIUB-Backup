{
 "cells": [
  {
   "cell_type": "markdown",
   "metadata": {},
   "source": [
    "## Observed data, clustering with KMeans"
   ]
  },
  {
   "cell_type": "code",
   "execution_count": 1,
   "metadata": {},
   "outputs": [
    {
     "ename": "KeyboardInterrupt",
     "evalue": "",
     "output_type": "error",
     "traceback": [
      "\u001b[1;31m---------------------------------------------------------------------------\u001b[0m",
      "\u001b[1;31mKeyboardInterrupt\u001b[0m                         Traceback (most recent call last)",
      "Cell \u001b[1;32mIn[1], line 4\u001b[0m\n\u001b[0;32m      2\u001b[0m \u001b[38;5;28;01mimport\u001b[39;00m \u001b[38;5;21;01mpandas\u001b[39;00m \u001b[38;5;28;01mas\u001b[39;00m \u001b[38;5;21;01mpd\u001b[39;00m\n\u001b[0;32m      3\u001b[0m \u001b[38;5;28;01mimport\u001b[39;00m \u001b[38;5;21;01mos\u001b[39;00m\n\u001b[1;32m----> 4\u001b[0m \u001b[38;5;28;01mimport\u001b[39;00m \u001b[38;5;21;01mcluster_data\u001b[39;00m\n\u001b[0;32m      5\u001b[0m \u001b[38;5;28;01mimport\u001b[39;00m \u001b[38;5;21;01mcluster_plotter\u001b[39;00m\n\u001b[0;32m      6\u001b[0m \u001b[38;5;28;01mfrom\u001b[39;00m \u001b[38;5;21;01mcluster_data\u001b[39;00m \u001b[38;5;28;01mimport\u001b[39;00m run_clustering, normalize_data, unnormalize\n",
      "File \u001b[1;32mc:\\Users\\fionu\\OneDrive\\Dokumente\\Daten Fiona\\AIUB\\Code\\clustering\\cluster_data.py:14\u001b[0m\n\u001b[0;32m     12\u001b[0m \u001b[38;5;28;01mimport\u001b[39;00m \u001b[38;5;21;01mos\u001b[39;00m\n\u001b[0;32m     13\u001b[0m sys\u001b[38;5;241m.\u001b[39mpath\u001b[38;5;241m.\u001b[39mappend(os\u001b[38;5;241m.\u001b[39mpath\u001b[38;5;241m.\u001b[39mabspath(os\u001b[38;5;241m.\u001b[39mpath\u001b[38;5;241m.\u001b[39mjoin(os\u001b[38;5;241m.\u001b[39mpath\u001b[38;5;241m.\u001b[39mdirname(\u001b[38;5;18m__file__\u001b[39m), \u001b[38;5;124m'\u001b[39m\u001b[38;5;124m..\u001b[39m\u001b[38;5;124m'\u001b[39m)))\n\u001b[1;32m---> 14\u001b[0m \u001b[38;5;28;01mimport\u001b[39;00m \u001b[38;5;21;01mgetdata\u001b[39;00m\n\u001b[0;32m     15\u001b[0m \u001b[38;5;28;01mfrom\u001b[39;00m \u001b[38;5;21;01mgetdata\u001b[39;00m \u001b[38;5;28;01mimport\u001b[39;00m PopulationType\n\u001b[0;32m     16\u001b[0m \u001b[38;5;28;01mimport\u001b[39;00m \u001b[38;5;21;01msortdata\u001b[39;00m\n",
      "File \u001b[1;32mc:\\Users\\fionu\\OneDrive\\Dokumente\\Daten Fiona\\AIUB\\Code\\getdata.py:5\u001b[0m\n\u001b[0;32m      3\u001b[0m \u001b[38;5;28;01mimport\u001b[39;00m \u001b[38;5;21;01mos\u001b[39;00m\n\u001b[0;32m      4\u001b[0m \u001b[38;5;28;01mfrom\u001b[39;00m \u001b[38;5;21;01mtabulate\u001b[39;00m \u001b[38;5;28;01mimport\u001b[39;00m tabulate\n\u001b[1;32m----> 5\u001b[0m \u001b[38;5;28;01mimport\u001b[39;00m \u001b[38;5;21;01msortdata\u001b[39;00m\n\u001b[0;32m      6\u001b[0m \u001b[38;5;28;01mimport\u001b[39;00m \u001b[38;5;21;01mplotting\u001b[39;00m\n\u001b[0;32m      7\u001b[0m \u001b[38;5;28;01mimport\u001b[39;00m \u001b[38;5;21;01mcalculations\u001b[39;00m\n",
      "File \u001b[1;32mc:\\Users\\fionu\\OneDrive\\Dokumente\\Daten Fiona\\AIUB\\Code\\sortdata.py:5\u001b[0m\n\u001b[0;32m      3\u001b[0m \u001b[38;5;28;01mimport\u001b[39;00m \u001b[38;5;21;01mos\u001b[39;00m\n\u001b[0;32m      4\u001b[0m \u001b[38;5;28;01mfrom\u001b[39;00m \u001b[38;5;21;01mtabulate\u001b[39;00m \u001b[38;5;28;01mimport\u001b[39;00m tabulate\n\u001b[1;32m----> 5\u001b[0m \u001b[38;5;28;01mimport\u001b[39;00m \u001b[38;5;21;01mcalculations\u001b[39;00m\n\u001b[0;32m      7\u001b[0m \u001b[38;5;28;01mdef\u001b[39;00m \u001b[38;5;21msort_for_sources\u001b[39m(data: np\u001b[38;5;241m.\u001b[39marray, sources: np\u001b[38;5;241m.\u001b[39marray):\n\u001b[0;32m      8\u001b[0m \u001b[38;5;250m    \u001b[39m\u001b[38;5;124;03m\"\"\"sorts the data according to the source of the space debris parts\u001b[39;00m\n\u001b[0;32m      9\u001b[0m \n\u001b[0;32m     10\u001b[0m \u001b[38;5;124;03m    Args:\u001b[39;00m\n\u001b[1;32m   (...)\u001b[0m\n\u001b[0;32m     16\u001b[0m \u001b[38;5;124;03m        rest (np.array): all other objects that are not TLE and not fragments\u001b[39;00m\n\u001b[0;32m     17\u001b[0m \u001b[38;5;124;03m    \"\"\"\u001b[39;00m\n",
      "File \u001b[1;32mc:\\Users\\fionu\\OneDrive\\Dokumente\\Daten Fiona\\AIUB\\Code\\calculations.py:7\u001b[0m\n\u001b[0;32m      5\u001b[0m \u001b[38;5;28;01mfrom\u001b[39;00m \u001b[38;5;21;01mdatetime\u001b[39;00m \u001b[38;5;28;01mimport\u001b[39;00m datetime, timedelta\n\u001b[0;32m      6\u001b[0m \u001b[38;5;28;01mimport\u001b[39;00m \u001b[38;5;21;01mgetdata\u001b[39;00m\n\u001b[1;32m----> 7\u001b[0m \u001b[38;5;28;01mimport\u001b[39;00m \u001b[38;5;21;01mtables\u001b[39;00m\n\u001b[0;32m      8\u001b[0m \u001b[38;5;28;01mimport\u001b[39;00m \u001b[38;5;21;01mbisect\u001b[39;00m \u001b[38;5;66;03m#https://docs.python.org/3/library/bisect.html\u001b[39;00m\n\u001b[0;32m     10\u001b[0m \u001b[38;5;28;01mdef\u001b[39;00m \u001b[38;5;21msources_vs_sizes\u001b[39m(sources: np\u001b[38;5;241m.\u001b[39marray, diameter: np\u001b[38;5;241m.\u001b[39marray): \n",
      "File \u001b[1;32mc:\\Users\\fionu\\anaconda3\\Lib\\site-packages\\tables\\__init__.py:51\u001b[0m\n\u001b[0;32m     45\u001b[0m     \u001b[38;5;28;01mraise\u001b[39;00m \u001b[38;5;167;01mRuntimeError\u001b[39;00m(\n\u001b[0;32m     46\u001b[0m         \u001b[38;5;124mf\u001b[39m\u001b[38;5;124m\"\u001b[39m\u001b[38;5;124mBlosc2 library not found. \u001b[39m\u001b[38;5;124m\"\u001b[39m\n\u001b[0;32m     47\u001b[0m         \u001b[38;5;124mf\u001b[39m\u001b[38;5;124m\"\u001b[39m\u001b[38;5;124mI looked for \u001b[39m\u001b[38;5;132;01m{\u001b[39;00m\u001b[38;5;124m'\u001b[39m\u001b[38;5;124m, \u001b[39m\u001b[38;5;124m'\u001b[39m\u001b[38;5;241m.\u001b[39mjoin(blosc2_search_paths)\u001b[38;5;132;01m}\u001b[39;00m\u001b[38;5;124m\"\u001b[39m\n\u001b[0;32m     48\u001b[0m     )\n\u001b[0;32m     50\u001b[0m \u001b[38;5;66;03m# Necessary imports to get versions stored on the cython extension\u001b[39;00m\n\u001b[1;32m---> 51\u001b[0m \u001b[38;5;28;01mfrom\u001b[39;00m \u001b[38;5;21;01m.\u001b[39;00m\u001b[38;5;21;01mutilsextension\u001b[39;00m \u001b[38;5;28;01mimport\u001b[39;00m get_hdf5_version \u001b[38;5;28;01mas\u001b[39;00m _get_hdf5_version\n\u001b[0;32m     53\u001b[0m \u001b[38;5;28;01mfrom\u001b[39;00m \u001b[38;5;21;01m.\u001b[39;00m\u001b[38;5;21;01m_version\u001b[39;00m \u001b[38;5;28;01mimport\u001b[39;00m __version__\n\u001b[0;32m     55\u001b[0m hdf5_version \u001b[38;5;241m=\u001b[39m _get_hdf5_version()\n",
      "File \u001b[1;32mc:\\Users\\fionu\\anaconda3\\Lib\\site-packages\\tables\\utilsextension.pyx:327\u001b[0m, in \u001b[0;36minit tables.utilsextension\u001b[1;34m()\u001b[0m\n",
      "File \u001b[1;32mc:\\Users\\fionu\\anaconda3\\Lib\\site-packages\\tables\\_comp_lzo.pyx:1\u001b[0m, in \u001b[0;36minit tables._comp_lzo\u001b[1;34m()\u001b[0m\n",
      "File \u001b[1;32m<frozen importlib._bootstrap>:1360\u001b[0m, in \u001b[0;36m_find_and_load\u001b[1;34m(name, import_)\u001b[0m\n",
      "File \u001b[1;32m<frozen importlib._bootstrap>:1322\u001b[0m, in \u001b[0;36m_find_and_load_unlocked\u001b[1;34m(name, import_)\u001b[0m\n",
      "File \u001b[1;32m<frozen importlib._bootstrap>:1262\u001b[0m, in \u001b[0;36m_find_spec\u001b[1;34m(name, path, target)\u001b[0m\n",
      "File \u001b[1;32m<frozen importlib._bootstrap_external>:1528\u001b[0m, in \u001b[0;36mfind_spec\u001b[1;34m(cls, fullname, path, target)\u001b[0m\n",
      "File \u001b[1;32m<frozen importlib._bootstrap_external>:1502\u001b[0m, in \u001b[0;36m_get_spec\u001b[1;34m(cls, fullname, path, target)\u001b[0m\n",
      "File \u001b[1;32m<frozen importlib._bootstrap_external>:1629\u001b[0m, in \u001b[0;36mfind_spec\u001b[1;34m(self, fullname, target)\u001b[0m\n",
      "File \u001b[1;32m<frozen importlib._bootstrap_external>:105\u001b[0m, in \u001b[0;36m_path_join\u001b[1;34m(*path_parts)\u001b[0m\n",
      "\u001b[1;31mKeyboardInterrupt\u001b[0m: "
     ]
    }
   ],
   "source": [
    "import numpy as np\n",
    "import pandas as pd\n",
    "import os\n",
    "import cluster_data\n",
    "import cluster_plotter\n",
    "from cluster_data import run_clustering, normalize_data, unnormalize\n",
    "from cluster_plotter import ClusterPlotter\n",
    "from clustering_utils import ClusterData\n",
    "from kmeans import k_means\n",
    "import getdata\n",
    "\n",
    "# Define observed files\n",
    "uncorr_obs_files = {\n",
    "    year: f\"ogs{year}01_12_det.ele_ucorr\" if year != 2002 else f\"ogs{year}08_12_det.ele_ucorr\"\n",
    "    for year in range(2002, 2024) if year != 2018  # Exclude 2018 if missing\n",
    "}\n",
    "\n",
    "print(uncorr_obs_files)\n",
    "\n",
    "standard_year_ranges = {f\"{start}-{start + 3}\": np.arange(start, start + 4) for start in [2002, 2006, 2010, 2014]}\n",
    "standard_year_ranges[\"2019-2023\"] = np.arange(2019, 2024)\n",
    "\n",
    "running_ranges = cluster_data.generate_running_year_ranges(2002, 2023, 4)\n",
    "year_ranges = running_ranges\n",
    "\n",
    "# Bin the observed data\n",
    "binned_data = cluster_data.bin_observed_data(uncorr_obs_files, year_ranges, print_res=False)\n",
    "\n",
    "# Output directory for plots\n",
    "plot_dir = \"kmeans_observed_running_bins\"\n",
    "os.makedirs(plot_dir, exist_ok=True)\n",
    "cluster_plotter.clear_directory(plot_dir)\n",
    "\n",
    "for cluster_data, year_range in binned_data:\n",
    "    print(f\"\\nRunning K-Means for Year Range: {year_range}\")\n",
    "    \n",
    "    data_array = np.array([cluster_data.inc, cluster_data.raan]).T\n",
    "    normalized_data, data_min, data_max = normalize_data(data_array)\n",
    "    \n",
    "    results = []\n",
    "    for k in [3, 4, 5, 6, 7]:\n",
    "        result_kmeans, time_kmeans, n_clusters_kmeans, points_per_cluster_kmeans, metrics_kmeans = run_clustering(\n",
    "            k_means, \"K-Means\", normalized_data, data_min, data_max, k, plot=False\n",
    "        )\n",
    "\n",
    "        unnormalized_data, cluster_centers = unnormalize(result_kmeans.data, result_kmeans.cluster_centers, data_min, data_max)\n",
    "        plotter = ClusterPlotter(unnormalized_data, result_kmeans.labels, cluster_centers)\n",
    "        plotter.clusters_2d_plot(f\"K-Means: years = {year_range}, k = {k}\", os.path.join(plot_dir, f\"kmeans_{year_range}_k{k}.png\"))\n",
    "\n",
    "        results.append({\n",
    "            \"Year Range\": year_range, \"k\": k, \"Runtime (s)\": f\"{time_kmeans:.3f}\", \"Clusters\": n_clusters_kmeans,\n",
    "            \"Points per Cluster\": points_per_cluster_kmeans,\n",
    "            \"Davies-Bouldin\": f\"{metrics_kmeans[0]:.3f}\" if metrics_kmeans else None,\n",
    "            \"Calinski-Harabasz\": f\"{metrics_kmeans[1]:.3f}\" if metrics_kmeans else None,\n",
    "            \"Dunn Index\": f\"{metrics_kmeans[2]:.3f}\" if metrics_kmeans else None,\n",
    "            \"Silhouette Score\": f\"{metrics_kmeans[3]:.3f}\" if metrics_kmeans else None\n",
    "        })\n",
    "    \n",
    "    display(pd.DataFrame(results))"
   ]
  },
  {
   "cell_type": "markdown",
   "metadata": {},
   "source": [
    "## Observed data, clustering with DBSCAN"
   ]
  },
  {
   "cell_type": "code",
   "execution_count": null,
   "metadata": {},
   "outputs": [
    {
     "name": "stdout",
     "output_type": "stream",
     "text": [
      "{2002: 'ogs200208_12_det.ele_ucorr', 2003: 'ogs200301_12_det.ele_ucorr', 2004: 'ogs200401_12_det.ele_ucorr', 2005: 'ogs200501_12_det.ele_ucorr', 2006: 'ogs200601_12_det.ele_ucorr', 2007: 'ogs200701_12_det.ele_ucorr', 2008: 'ogs200801_12_det.ele_ucorr', 2009: 'ogs200901_12_det.ele_ucorr', 2010: 'ogs201001_12_det.ele_ucorr', 2011: 'ogs201101_12_det.ele_ucorr', 2012: 'ogs201201_12_det.ele_ucorr', 2013: 'ogs201301_12_det.ele_ucorr', 2014: 'ogs201401_12_det.ele_ucorr', 2015: 'ogs201501_12_det.ele_ucorr', 2016: 'ogs201601_12_det.ele_ucorr', 2017: 'ogs201701_12_det.ele_ucorr', 2019: 'ogs201901_12_det.ele_ucorr', 2020: 'ogs202001_12_det.ele_ucorr', 2021: 'ogs202101_12_det.ele_ucorr', 2022: 'ogs202201_12_det.ele_ucorr', 2023: 'ogs202301_12_det.ele_ucorr'}\n",
      "\n",
      "Running DBSCAN for Year Range: 2002-2005\n",
      "\n",
      "DBSCAN result:\n"
     ]
    },
    {
     "name": "stderr",
     "output_type": "stream",
     "text": [
      "Running DBSCAN:   0%|          | 0/3 [00:00<?, ?step/s]"
     ]
    },
    {
     "name": "stdout",
     "output_type": "stream",
     "text": [
      "Runtime for dbscan_clustering: 0.047153 seconds\n"
     ]
    },
    {
     "name": "stderr",
     "output_type": "stream",
     "text": [
      "Running DBSCAN: 100%|██████████| 3/3 [00:01<00:00,  2.88step/s]\n"
     ]
    },
    {
     "name": "stdout",
     "output_type": "stream",
     "text": [
      "Plot saved as: dbscan_observed_normal_bins\\dbscan_2002-2005_eps0.02_min10.png\n",
      "\n",
      "DBSCAN result:\n"
     ]
    },
    {
     "name": "stderr",
     "output_type": "stream",
     "text": [
      "Running DBSCAN:  33%|███▎      | 1/3 [00:00<00:00,  8.56step/s]"
     ]
    },
    {
     "name": "stdout",
     "output_type": "stream",
     "text": [
      "Runtime for dbscan_clustering: 0.116874 seconds\n"
     ]
    },
    {
     "name": "stderr",
     "output_type": "stream",
     "text": [
      "Running DBSCAN: 100%|██████████| 3/3 [00:01<00:00,  2.59step/s]\n"
     ]
    },
    {
     "name": "stdout",
     "output_type": "stream",
     "text": [
      "Plot saved as: dbscan_observed_normal_bins\\dbscan_2002-2005_eps0.02_min15.png\n",
      "\n",
      "DBSCAN result:\n"
     ]
    },
    {
     "name": "stderr",
     "output_type": "stream",
     "text": [
      "Running DBSCAN:   0%|          | 0/3 [00:00<?, ?step/s]"
     ]
    },
    {
     "name": "stdout",
     "output_type": "stream",
     "text": [
      "Runtime for dbscan_clustering: 0.031053 seconds\n"
     ]
    },
    {
     "name": "stderr",
     "output_type": "stream",
     "text": [
      "Running DBSCAN: 100%|██████████| 3/3 [00:00<00:00,  3.40step/s]\n"
     ]
    },
    {
     "name": "stdout",
     "output_type": "stream",
     "text": [
      "Plot saved as: dbscan_observed_normal_bins\\dbscan_2002-2005_eps0.01_min10.png\n",
      "\n",
      "DBSCAN result:\n"
     ]
    },
    {
     "name": "stderr",
     "output_type": "stream",
     "text": [
      "Running DBSCAN:   0%|          | 0/3 [00:00<?, ?step/s]"
     ]
    },
    {
     "name": "stdout",
     "output_type": "stream",
     "text": [
      "Runtime for dbscan_clustering: 0.035121 seconds\n"
     ]
    },
    {
     "name": "stderr",
     "output_type": "stream",
     "text": [
      "Running DBSCAN: 100%|██████████| 3/3 [00:00<00:00,  3.60step/s]\n"
     ]
    },
    {
     "name": "stdout",
     "output_type": "stream",
     "text": [
      "Plot saved as: dbscan_observed_normal_bins\\dbscan_2002-2005_eps0.01_min15.png\n",
      "\n",
      "DBSCAN result:\n"
     ]
    },
    {
     "name": "stderr",
     "output_type": "stream",
     "text": [
      "Running DBSCAN:   0%|          | 0/3 [00:00<?, ?step/s]"
     ]
    },
    {
     "name": "stdout",
     "output_type": "stream",
     "text": [
      "Runtime for dbscan_clustering: 0.037321 seconds\n"
     ]
    },
    {
     "name": "stderr",
     "output_type": "stream",
     "text": [
      "Running DBSCAN: 100%|██████████| 3/3 [00:00<00:00,  3.24step/s]\n"
     ]
    },
    {
     "name": "stdout",
     "output_type": "stream",
     "text": [
      "Plot saved as: dbscan_observed_normal_bins\\dbscan_2002-2005_eps0.015_min10.png\n",
      "\n",
      "DBSCAN result:\n"
     ]
    },
    {
     "name": "stderr",
     "output_type": "stream",
     "text": [
      "Running DBSCAN:   0%|          | 0/3 [00:00<?, ?step/s]"
     ]
    },
    {
     "name": "stdout",
     "output_type": "stream",
     "text": [
      "Runtime for dbscan_clustering: 0.087819 seconds\n"
     ]
    },
    {
     "name": "stderr",
     "output_type": "stream",
     "text": [
      "Running DBSCAN: 100%|██████████| 3/3 [00:01<00:00,  1.82step/s]\n"
     ]
    },
    {
     "name": "stdout",
     "output_type": "stream",
     "text": [
      "Plot saved as: dbscan_observed_normal_bins\\dbscan_2002-2005_eps0.015_min15.png\n"
     ]
    },
    {
     "data": {
      "text/html": [
       "<div>\n",
       "<style scoped>\n",
       "    .dataframe tbody tr th:only-of-type {\n",
       "        vertical-align: middle;\n",
       "    }\n",
       "\n",
       "    .dataframe tbody tr th {\n",
       "        vertical-align: top;\n",
       "    }\n",
       "\n",
       "    .dataframe thead th {\n",
       "        text-align: right;\n",
       "    }\n",
       "</style>\n",
       "<table border=\"1\" class=\"dataframe\">\n",
       "  <thead>\n",
       "    <tr style=\"text-align: right;\">\n",
       "      <th></th>\n",
       "      <th>Year Range</th>\n",
       "      <th>eps</th>\n",
       "      <th>min_samples</th>\n",
       "      <th>Runtime (s)</th>\n",
       "      <th>Clusters</th>\n",
       "      <th>Points per Cluster</th>\n",
       "      <th>Davies-Bouldin</th>\n",
       "      <th>Calinski-Harabasz</th>\n",
       "      <th>Dunn Index</th>\n",
       "      <th>Silhouette Score</th>\n",
       "    </tr>\n",
       "  </thead>\n",
       "  <tbody>\n",
       "    <tr>\n",
       "      <th>0</th>\n",
       "      <td>2002-2005</td>\n",
       "      <td>0.020</td>\n",
       "      <td>10</td>\n",
       "      <td>0.047</td>\n",
       "      <td>30</td>\n",
       "      <td>{0: 30, 1: 81, 2: 4661, 3: 54, 4: 18, 5: 8, 6:...</td>\n",
       "      <td>2.971</td>\n",
       "      <td>54.250</td>\n",
       "      <td>0.001</td>\n",
       "      <td>-0.490</td>\n",
       "    </tr>\n",
       "    <tr>\n",
       "      <th>1</th>\n",
       "      <td>2002-2005</td>\n",
       "      <td>0.020</td>\n",
       "      <td>15</td>\n",
       "      <td>0.117</td>\n",
       "      <td>15</td>\n",
       "      <td>{0: 17, 1: 4357, 2: 15, 3: 28, 4: 13, 5: 9, 6:...</td>\n",
       "      <td>4.931</td>\n",
       "      <td>50.501</td>\n",
       "      <td>0.002</td>\n",
       "      <td>-0.512</td>\n",
       "    </tr>\n",
       "    <tr>\n",
       "      <th>2</th>\n",
       "      <td>2002-2005</td>\n",
       "      <td>0.010</td>\n",
       "      <td>10</td>\n",
       "      <td>0.031</td>\n",
       "      <td>28</td>\n",
       "      <td>{0: 14, 1: 3437, 2: 13, 3: 12, 4: 29, 5: 13, 6...</td>\n",
       "      <td>2.353</td>\n",
       "      <td>26.275</td>\n",
       "      <td>0.001</td>\n",
       "      <td>-0.659</td>\n",
       "    </tr>\n",
       "    <tr>\n",
       "      <th>3</th>\n",
       "      <td>2002-2005</td>\n",
       "      <td>0.010</td>\n",
       "      <td>15</td>\n",
       "      <td>0.035</td>\n",
       "      <td>15</td>\n",
       "      <td>{0: 1360, 1: 30, 2: 16, 3: 323, 4: 25, 5: 17, ...</td>\n",
       "      <td>2.549</td>\n",
       "      <td>175.731</td>\n",
       "      <td>0.000</td>\n",
       "      <td>-0.202</td>\n",
       "    </tr>\n",
       "    <tr>\n",
       "      <th>4</th>\n",
       "      <td>2002-2005</td>\n",
       "      <td>0.015</td>\n",
       "      <td>10</td>\n",
       "      <td>0.037</td>\n",
       "      <td>34</td>\n",
       "      <td>{0: 17, 1: 4021, 2: 18, 3: 14, 4: 18, 5: 21, 6...</td>\n",
       "      <td>2.295</td>\n",
       "      <td>40.427</td>\n",
       "      <td>0.001</td>\n",
       "      <td>-0.535</td>\n",
       "    </tr>\n",
       "    <tr>\n",
       "      <th>5</th>\n",
       "      <td>2002-2005</td>\n",
       "      <td>0.015</td>\n",
       "      <td>15</td>\n",
       "      <td>0.088</td>\n",
       "      <td>15</td>\n",
       "      <td>{0: 3848, 1: 15, 2: 15, 3: 26, 4: 15, 5: 20, 6...</td>\n",
       "      <td>5.426</td>\n",
       "      <td>26.603</td>\n",
       "      <td>0.000</td>\n",
       "      <td>-0.601</td>\n",
       "    </tr>\n",
       "  </tbody>\n",
       "</table>\n",
       "</div>"
      ],
      "text/plain": [
       "  Year Range    eps  min_samples Runtime (s)  Clusters  \\\n",
       "0  2002-2005  0.020           10       0.047        30   \n",
       "1  2002-2005  0.020           15       0.117        15   \n",
       "2  2002-2005  0.010           10       0.031        28   \n",
       "3  2002-2005  0.010           15       0.035        15   \n",
       "4  2002-2005  0.015           10       0.037        34   \n",
       "5  2002-2005  0.015           15       0.088        15   \n",
       "\n",
       "                                  Points per Cluster Davies-Bouldin  \\\n",
       "0  {0: 30, 1: 81, 2: 4661, 3: 54, 4: 18, 5: 8, 6:...          2.971   \n",
       "1  {0: 17, 1: 4357, 2: 15, 3: 28, 4: 13, 5: 9, 6:...          4.931   \n",
       "2  {0: 14, 1: 3437, 2: 13, 3: 12, 4: 29, 5: 13, 6...          2.353   \n",
       "3  {0: 1360, 1: 30, 2: 16, 3: 323, 4: 25, 5: 17, ...          2.549   \n",
       "4  {0: 17, 1: 4021, 2: 18, 3: 14, 4: 18, 5: 21, 6...          2.295   \n",
       "5  {0: 3848, 1: 15, 2: 15, 3: 26, 4: 15, 5: 20, 6...          5.426   \n",
       "\n",
       "  Calinski-Harabasz Dunn Index Silhouette Score  \n",
       "0            54.250      0.001           -0.490  \n",
       "1            50.501      0.002           -0.512  \n",
       "2            26.275      0.001           -0.659  \n",
       "3           175.731      0.000           -0.202  \n",
       "4            40.427      0.001           -0.535  \n",
       "5            26.603      0.000           -0.601  "
      ]
     },
     "metadata": {},
     "output_type": "display_data"
    },
    {
     "name": "stdout",
     "output_type": "stream",
     "text": [
      "\n",
      "Running DBSCAN for Year Range: 2006-2009\n",
      "\n",
      "DBSCAN result:\n"
     ]
    },
    {
     "name": "stderr",
     "output_type": "stream",
     "text": [
      "Running DBSCAN:   0%|          | 0/3 [00:00<?, ?step/s]"
     ]
    },
    {
     "name": "stdout",
     "output_type": "stream",
     "text": [
      "Runtime for dbscan_clustering: 0.087292 seconds\n"
     ]
    },
    {
     "name": "stderr",
     "output_type": "stream",
     "text": [
      "Running DBSCAN: 100%|██████████| 3/3 [00:01<00:00,  1.69step/s]\n"
     ]
    },
    {
     "name": "stdout",
     "output_type": "stream",
     "text": [
      "Plot saved as: dbscan_observed_normal_bins\\dbscan_2006-2009_eps0.02_min10.png\n",
      "\n",
      "DBSCAN result:\n"
     ]
    },
    {
     "name": "stderr",
     "output_type": "stream",
     "text": [
      "Running DBSCAN:   0%|          | 0/3 [00:00<?, ?step/s]"
     ]
    },
    {
     "name": "stdout",
     "output_type": "stream",
     "text": [
      "Runtime for dbscan_clustering: 0.095276 seconds\n"
     ]
    },
    {
     "name": "stderr",
     "output_type": "stream",
     "text": [
      "Running DBSCAN: 100%|██████████| 3/3 [00:02<00:00,  1.49step/s]\n"
     ]
    },
    {
     "name": "stdout",
     "output_type": "stream",
     "text": [
      "Plot saved as: dbscan_observed_normal_bins\\dbscan_2006-2009_eps0.02_min15.png\n",
      "\n",
      "DBSCAN result:\n"
     ]
    },
    {
     "name": "stderr",
     "output_type": "stream",
     "text": [
      "Running DBSCAN:  33%|███▎      | 1/3 [00:00<00:00,  6.27step/s]"
     ]
    },
    {
     "name": "stdout",
     "output_type": "stream",
     "text": [
      "Runtime for dbscan_clustering: 0.159460 seconds\n"
     ]
    },
    {
     "name": "stderr",
     "output_type": "stream",
     "text": [
      "Running DBSCAN: 100%|██████████| 3/3 [00:02<00:00,  1.48step/s]\n"
     ]
    },
    {
     "name": "stdout",
     "output_type": "stream",
     "text": [
      "Plot saved as: dbscan_observed_normal_bins\\dbscan_2006-2009_eps0.01_min10.png\n",
      "\n",
      "DBSCAN result:\n"
     ]
    },
    {
     "name": "stderr",
     "output_type": "stream",
     "text": [
      "Running DBSCAN:   0%|          | 0/3 [00:00<?, ?step/s]"
     ]
    },
    {
     "name": "stdout",
     "output_type": "stream",
     "text": [
      "Runtime for dbscan_clustering: 0.066980 seconds\n"
     ]
    },
    {
     "name": "stderr",
     "output_type": "stream",
     "text": [
      "Running DBSCAN: 100%|██████████| 3/3 [00:01<00:00,  1.55step/s]\n"
     ]
    },
    {
     "name": "stdout",
     "output_type": "stream",
     "text": [
      "Plot saved as: dbscan_observed_normal_bins\\dbscan_2006-2009_eps0.01_min15.png\n",
      "\n",
      "DBSCAN result:\n"
     ]
    },
    {
     "name": "stderr",
     "output_type": "stream",
     "text": [
      "Running DBSCAN:   0%|          | 0/3 [00:00<?, ?step/s]"
     ]
    },
    {
     "name": "stdout",
     "output_type": "stream",
     "text": [
      "Runtime for dbscan_clustering: 0.097339 seconds\n"
     ]
    },
    {
     "name": "stderr",
     "output_type": "stream",
     "text": [
      "Running DBSCAN: 100%|██████████| 3/3 [00:02<00:00,  1.21step/s]\n"
     ]
    },
    {
     "name": "stdout",
     "output_type": "stream",
     "text": [
      "Plot saved as: dbscan_observed_normal_bins\\dbscan_2006-2009_eps0.015_min10.png\n",
      "\n",
      "DBSCAN result:\n"
     ]
    },
    {
     "name": "stderr",
     "output_type": "stream",
     "text": [
      "Running DBSCAN:   0%|          | 0/3 [00:00<?, ?step/s]"
     ]
    },
    {
     "name": "stdout",
     "output_type": "stream",
     "text": [
      "Runtime for dbscan_clustering: 0.075445 seconds\n"
     ]
    },
    {
     "name": "stderr",
     "output_type": "stream",
     "text": [
      "Running DBSCAN: 100%|██████████| 3/3 [00:01<00:00,  1.90step/s]\n"
     ]
    },
    {
     "name": "stdout",
     "output_type": "stream",
     "text": [
      "Plot saved as: dbscan_observed_normal_bins\\dbscan_2006-2009_eps0.015_min15.png\n"
     ]
    },
    {
     "data": {
      "text/html": [
       "<div>\n",
       "<style scoped>\n",
       "    .dataframe tbody tr th:only-of-type {\n",
       "        vertical-align: middle;\n",
       "    }\n",
       "\n",
       "    .dataframe tbody tr th {\n",
       "        vertical-align: top;\n",
       "    }\n",
       "\n",
       "    .dataframe thead th {\n",
       "        text-align: right;\n",
       "    }\n",
       "</style>\n",
       "<table border=\"1\" class=\"dataframe\">\n",
       "  <thead>\n",
       "    <tr style=\"text-align: right;\">\n",
       "      <th></th>\n",
       "      <th>Year Range</th>\n",
       "      <th>eps</th>\n",
       "      <th>min_samples</th>\n",
       "      <th>Runtime (s)</th>\n",
       "      <th>Clusters</th>\n",
       "      <th>Points per Cluster</th>\n",
       "      <th>Davies-Bouldin</th>\n",
       "      <th>Calinski-Harabasz</th>\n",
       "      <th>Dunn Index</th>\n",
       "      <th>Silhouette Score</th>\n",
       "    </tr>\n",
       "  </thead>\n",
       "  <tbody>\n",
       "    <tr>\n",
       "      <th>0</th>\n",
       "      <td>2006-2009</td>\n",
       "      <td>0.020</td>\n",
       "      <td>10</td>\n",
       "      <td>0.087</td>\n",
       "      <td>14</td>\n",
       "      <td>{0: 4212, 1: 69, 2: 16, 3: 11, 4: 19, 5: 12, 6...</td>\n",
       "      <td>2.216</td>\n",
       "      <td>59.637</td>\n",
       "      <td>0.001</td>\n",
       "      <td>-0.376</td>\n",
       "    </tr>\n",
       "    <tr>\n",
       "      <th>1</th>\n",
       "      <td>2006-2009</td>\n",
       "      <td>0.020</td>\n",
       "      <td>15</td>\n",
       "      <td>0.095</td>\n",
       "      <td>11</td>\n",
       "      <td>{0: 3837, 1: 15, 2: 12, 3: 70, 4: 27, 5: 66, 6...</td>\n",
       "      <td>1.828</td>\n",
       "      <td>96.228</td>\n",
       "      <td>0.001</td>\n",
       "      <td>-0.320</td>\n",
       "    </tr>\n",
       "    <tr>\n",
       "      <th>2</th>\n",
       "      <td>2006-2009</td>\n",
       "      <td>0.010</td>\n",
       "      <td>10</td>\n",
       "      <td>0.159</td>\n",
       "      <td>29</td>\n",
       "      <td>{0: 54, 1: 2359, 2: 18, 3: 16, 4: 34, 5: 8, 6:...</td>\n",
       "      <td>2.055</td>\n",
       "      <td>50.783</td>\n",
       "      <td>0.000</td>\n",
       "      <td>-0.376</td>\n",
       "    </tr>\n",
       "    <tr>\n",
       "      <th>3</th>\n",
       "      <td>2006-2009</td>\n",
       "      <td>0.010</td>\n",
       "      <td>15</td>\n",
       "      <td>0.067</td>\n",
       "      <td>18</td>\n",
       "      <td>{0: 2220, 1: 18, 2: 105, 3: 22, 4: 22, 5: 16, ...</td>\n",
       "      <td>2.021</td>\n",
       "      <td>55.039</td>\n",
       "      <td>0.001</td>\n",
       "      <td>-0.382</td>\n",
       "    </tr>\n",
       "    <tr>\n",
       "      <th>4</th>\n",
       "      <td>2006-2009</td>\n",
       "      <td>0.015</td>\n",
       "      <td>10</td>\n",
       "      <td>0.097</td>\n",
       "      <td>21</td>\n",
       "      <td>{0: 3569, 1: 10, 2: 11, 3: 14, 4: 10, 5: 62, 6...</td>\n",
       "      <td>3.531</td>\n",
       "      <td>51.264</td>\n",
       "      <td>0.001</td>\n",
       "      <td>-0.476</td>\n",
       "    </tr>\n",
       "    <tr>\n",
       "      <th>5</th>\n",
       "      <td>2006-2009</td>\n",
       "      <td>0.015</td>\n",
       "      <td>15</td>\n",
       "      <td>0.075</td>\n",
       "      <td>13</td>\n",
       "      <td>{0: 94, 1: 2858, 2: 32, 3: 28, 4: 247, 5: 23, ...</td>\n",
       "      <td>2.277</td>\n",
       "      <td>125.479</td>\n",
       "      <td>0.000</td>\n",
       "      <td>-0.253</td>\n",
       "    </tr>\n",
       "  </tbody>\n",
       "</table>\n",
       "</div>"
      ],
      "text/plain": [
       "  Year Range    eps  min_samples Runtime (s)  Clusters  \\\n",
       "0  2006-2009  0.020           10       0.087        14   \n",
       "1  2006-2009  0.020           15       0.095        11   \n",
       "2  2006-2009  0.010           10       0.159        29   \n",
       "3  2006-2009  0.010           15       0.067        18   \n",
       "4  2006-2009  0.015           10       0.097        21   \n",
       "5  2006-2009  0.015           15       0.075        13   \n",
       "\n",
       "                                  Points per Cluster Davies-Bouldin  \\\n",
       "0  {0: 4212, 1: 69, 2: 16, 3: 11, 4: 19, 5: 12, 6...          2.216   \n",
       "1  {0: 3837, 1: 15, 2: 12, 3: 70, 4: 27, 5: 66, 6...          1.828   \n",
       "2  {0: 54, 1: 2359, 2: 18, 3: 16, 4: 34, 5: 8, 6:...          2.055   \n",
       "3  {0: 2220, 1: 18, 2: 105, 3: 22, 4: 22, 5: 16, ...          2.021   \n",
       "4  {0: 3569, 1: 10, 2: 11, 3: 14, 4: 10, 5: 62, 6...          3.531   \n",
       "5  {0: 94, 1: 2858, 2: 32, 3: 28, 4: 247, 5: 23, ...          2.277   \n",
       "\n",
       "  Calinski-Harabasz Dunn Index Silhouette Score  \n",
       "0            59.637      0.001           -0.376  \n",
       "1            96.228      0.001           -0.320  \n",
       "2            50.783      0.000           -0.376  \n",
       "3            55.039      0.001           -0.382  \n",
       "4            51.264      0.001           -0.476  \n",
       "5           125.479      0.000           -0.253  "
      ]
     },
     "metadata": {},
     "output_type": "display_data"
    },
    {
     "name": "stdout",
     "output_type": "stream",
     "text": [
      "\n",
      "Running DBSCAN for Year Range: 2010-2013\n",
      "\n",
      "DBSCAN result:\n"
     ]
    },
    {
     "name": "stderr",
     "output_type": "stream",
     "text": [
      "Running DBSCAN: 100%|██████████| 3/3 [00:00<00:00, 25.26step/s]"
     ]
    },
    {
     "name": "stdout",
     "output_type": "stream",
     "text": [
      "Runtime for dbscan_clustering: 0.011052 seconds\n"
     ]
    },
    {
     "name": "stderr",
     "output_type": "stream",
     "text": [
      "\n"
     ]
    },
    {
     "name": "stdout",
     "output_type": "stream",
     "text": [
      "Plot saved as: dbscan_observed_normal_bins\\dbscan_2010-2013_eps0.02_min10.png\n",
      "\n",
      "DBSCAN result:\n"
     ]
    },
    {
     "name": "stderr",
     "output_type": "stream",
     "text": [
      "Running DBSCAN: 100%|██████████| 3/3 [00:00<00:00, 30.36step/s]"
     ]
    },
    {
     "name": "stdout",
     "output_type": "stream",
     "text": [
      "Runtime for dbscan_clustering: 0.009552 seconds\n"
     ]
    },
    {
     "name": "stderr",
     "output_type": "stream",
     "text": [
      "\n"
     ]
    },
    {
     "name": "stdout",
     "output_type": "stream",
     "text": [
      "Plot saved as: dbscan_observed_normal_bins\\dbscan_2010-2013_eps0.02_min15.png\n",
      "\n",
      "DBSCAN result:\n"
     ]
    },
    {
     "name": "stderr",
     "output_type": "stream",
     "text": [
      "Running DBSCAN: 100%|██████████| 3/3 [00:00<00:00, 19.46step/s]"
     ]
    },
    {
     "name": "stdout",
     "output_type": "stream",
     "text": [
      "Runtime for dbscan_clustering: 0.013673 seconds\n"
     ]
    },
    {
     "name": "stderr",
     "output_type": "stream",
     "text": [
      "\n"
     ]
    },
    {
     "name": "stdout",
     "output_type": "stream",
     "text": [
      "Plot saved as: dbscan_observed_normal_bins\\dbscan_2010-2013_eps0.01_min10.png\n",
      "\n",
      "DBSCAN result:\n"
     ]
    },
    {
     "name": "stderr",
     "output_type": "stream",
     "text": [
      "Running DBSCAN: 100%|██████████| 3/3 [00:00<00:00, 20.36step/s]"
     ]
    },
    {
     "name": "stdout",
     "output_type": "stream",
     "text": [
      "Runtime for dbscan_clustering: 0.017557 seconds\n"
     ]
    },
    {
     "name": "stderr",
     "output_type": "stream",
     "text": [
      "\n"
     ]
    },
    {
     "name": "stdout",
     "output_type": "stream",
     "text": [
      "Plot saved as: dbscan_observed_normal_bins\\dbscan_2010-2013_eps0.01_min15.png\n",
      "\n",
      "DBSCAN result:\n"
     ]
    },
    {
     "name": "stderr",
     "output_type": "stream",
     "text": [
      "Running DBSCAN: 100%|██████████| 3/3 [00:00<00:00, 28.98step/s]"
     ]
    },
    {
     "name": "stdout",
     "output_type": "stream",
     "text": [
      "Runtime for dbscan_clustering: 0.010957 seconds\n"
     ]
    },
    {
     "name": "stderr",
     "output_type": "stream",
     "text": [
      "\n"
     ]
    },
    {
     "name": "stdout",
     "output_type": "stream",
     "text": [
      "Plot saved as: dbscan_observed_normal_bins\\dbscan_2010-2013_eps0.015_min10.png\n",
      "\n",
      "DBSCAN result:\n"
     ]
    },
    {
     "name": "stderr",
     "output_type": "stream",
     "text": [
      "Running DBSCAN: 100%|██████████| 3/3 [00:00<00:00, 25.74step/s]"
     ]
    },
    {
     "name": "stdout",
     "output_type": "stream",
     "text": [
      "Runtime for dbscan_clustering: 0.027894 seconds\n"
     ]
    },
    {
     "name": "stderr",
     "output_type": "stream",
     "text": [
      "\n"
     ]
    },
    {
     "name": "stdout",
     "output_type": "stream",
     "text": [
      "Plot saved as: dbscan_observed_normal_bins\\dbscan_2010-2013_eps0.015_min15.png\n"
     ]
    },
    {
     "data": {
      "text/html": [
       "<div>\n",
       "<style scoped>\n",
       "    .dataframe tbody tr th:only-of-type {\n",
       "        vertical-align: middle;\n",
       "    }\n",
       "\n",
       "    .dataframe tbody tr th {\n",
       "        vertical-align: top;\n",
       "    }\n",
       "\n",
       "    .dataframe thead th {\n",
       "        text-align: right;\n",
       "    }\n",
       "</style>\n",
       "<table border=\"1\" class=\"dataframe\">\n",
       "  <thead>\n",
       "    <tr style=\"text-align: right;\">\n",
       "      <th></th>\n",
       "      <th>Year Range</th>\n",
       "      <th>eps</th>\n",
       "      <th>min_samples</th>\n",
       "      <th>Runtime (s)</th>\n",
       "      <th>Clusters</th>\n",
       "      <th>Points per Cluster</th>\n",
       "      <th>Davies-Bouldin</th>\n",
       "      <th>Calinski-Harabasz</th>\n",
       "      <th>Dunn Index</th>\n",
       "      <th>Silhouette Score</th>\n",
       "    </tr>\n",
       "  </thead>\n",
       "  <tbody>\n",
       "    <tr>\n",
       "      <th>0</th>\n",
       "      <td>2010-2013</td>\n",
       "      <td>0.020</td>\n",
       "      <td>10</td>\n",
       "      <td>0.011</td>\n",
       "      <td>16</td>\n",
       "      <td>{0: 53, 1: 1318, 2: 13, 3: 34, 4: 11, 5: 10, 6...</td>\n",
       "      <td>4.519</td>\n",
       "      <td>65.947</td>\n",
       "      <td>0.001</td>\n",
       "      <td>-0.292</td>\n",
       "    </tr>\n",
       "    <tr>\n",
       "      <th>1</th>\n",
       "      <td>2010-2013</td>\n",
       "      <td>0.020</td>\n",
       "      <td>15</td>\n",
       "      <td>0.010</td>\n",
       "      <td>9</td>\n",
       "      <td>{0: 53, 1: 936, 2: 34, 3: 22, 4: 15, 5: 358, 6...</td>\n",
       "      <td>2.841</td>\n",
       "      <td>178.722</td>\n",
       "      <td>0.001</td>\n",
       "      <td>0.012</td>\n",
       "    </tr>\n",
       "    <tr>\n",
       "      <th>2</th>\n",
       "      <td>2010-2013</td>\n",
       "      <td>0.010</td>\n",
       "      <td>10</td>\n",
       "      <td>0.014</td>\n",
       "      <td>26</td>\n",
       "      <td>{0: 426, 1: 39, 2: 17, 3: 31, 4: 11, 5: 22, 6:...</td>\n",
       "      <td>1.843</td>\n",
       "      <td>47.699</td>\n",
       "      <td>0.000</td>\n",
       "      <td>-0.156</td>\n",
       "    </tr>\n",
       "    <tr>\n",
       "      <th>3</th>\n",
       "      <td>2010-2013</td>\n",
       "      <td>0.010</td>\n",
       "      <td>15</td>\n",
       "      <td>0.018</td>\n",
       "      <td>22</td>\n",
       "      <td>{0: 29, 1: 36, 2: 112, 3: 17, 4: 20, 5: 18, 6:...</td>\n",
       "      <td>1.595</td>\n",
       "      <td>42.475</td>\n",
       "      <td>0.001</td>\n",
       "      <td>-0.090</td>\n",
       "    </tr>\n",
       "    <tr>\n",
       "      <th>4</th>\n",
       "      <td>2010-2013</td>\n",
       "      <td>0.015</td>\n",
       "      <td>10</td>\n",
       "      <td>0.011</td>\n",
       "      <td>17</td>\n",
       "      <td>{0: 45, 1: 764, 2: 33, 3: 11, 4: 10, 5: 124, 6...</td>\n",
       "      <td>2.501</td>\n",
       "      <td>102.762</td>\n",
       "      <td>0.002</td>\n",
       "      <td>-0.069</td>\n",
       "    </tr>\n",
       "    <tr>\n",
       "      <th>5</th>\n",
       "      <td>2010-2013</td>\n",
       "      <td>0.015</td>\n",
       "      <td>15</td>\n",
       "      <td>0.028</td>\n",
       "      <td>12</td>\n",
       "      <td>{0: 44, 1: 624, 2: 17, 3: 33, 4: 19, 5: 110, 6...</td>\n",
       "      <td>2.055</td>\n",
       "      <td>128.363</td>\n",
       "      <td>0.002</td>\n",
       "      <td>-0.073</td>\n",
       "    </tr>\n",
       "  </tbody>\n",
       "</table>\n",
       "</div>"
      ],
      "text/plain": [
       "  Year Range    eps  min_samples Runtime (s)  Clusters  \\\n",
       "0  2010-2013  0.020           10       0.011        16   \n",
       "1  2010-2013  0.020           15       0.010         9   \n",
       "2  2010-2013  0.010           10       0.014        26   \n",
       "3  2010-2013  0.010           15       0.018        22   \n",
       "4  2010-2013  0.015           10       0.011        17   \n",
       "5  2010-2013  0.015           15       0.028        12   \n",
       "\n",
       "                                  Points per Cluster Davies-Bouldin  \\\n",
       "0  {0: 53, 1: 1318, 2: 13, 3: 34, 4: 11, 5: 10, 6...          4.519   \n",
       "1  {0: 53, 1: 936, 2: 34, 3: 22, 4: 15, 5: 358, 6...          2.841   \n",
       "2  {0: 426, 1: 39, 2: 17, 3: 31, 4: 11, 5: 22, 6:...          1.843   \n",
       "3  {0: 29, 1: 36, 2: 112, 3: 17, 4: 20, 5: 18, 6:...          1.595   \n",
       "4  {0: 45, 1: 764, 2: 33, 3: 11, 4: 10, 5: 124, 6...          2.501   \n",
       "5  {0: 44, 1: 624, 2: 17, 3: 33, 4: 19, 5: 110, 6...          2.055   \n",
       "\n",
       "  Calinski-Harabasz Dunn Index Silhouette Score  \n",
       "0            65.947      0.001           -0.292  \n",
       "1           178.722      0.001            0.012  \n",
       "2            47.699      0.000           -0.156  \n",
       "3            42.475      0.001           -0.090  \n",
       "4           102.762      0.002           -0.069  \n",
       "5           128.363      0.002           -0.073  "
      ]
     },
     "metadata": {},
     "output_type": "display_data"
    },
    {
     "name": "stdout",
     "output_type": "stream",
     "text": [
      "\n",
      "Running DBSCAN for Year Range: 2014-2017\n",
      "\n",
      "DBSCAN result:\n"
     ]
    },
    {
     "name": "stderr",
     "output_type": "stream",
     "text": [
      "Running DBSCAN: 100%|██████████| 3/3 [00:00<00:00, 33.45step/s]"
     ]
    },
    {
     "name": "stdout",
     "output_type": "stream",
     "text": [
      "Runtime for dbscan_clustering: 0.008543 seconds\n"
     ]
    },
    {
     "name": "stderr",
     "output_type": "stream",
     "text": [
      "\n"
     ]
    },
    {
     "name": "stdout",
     "output_type": "stream",
     "text": [
      "Plot saved as: dbscan_observed_normal_bins\\dbscan_2014-2017_eps0.02_min10.png\n",
      "\n",
      "DBSCAN result:\n"
     ]
    },
    {
     "name": "stderr",
     "output_type": "stream",
     "text": [
      "Running DBSCAN: 100%|██████████| 3/3 [00:00<00:00, 30.31step/s]"
     ]
    },
    {
     "name": "stdout",
     "output_type": "stream",
     "text": [
      "Runtime for dbscan_clustering: 0.007588 seconds\n"
     ]
    },
    {
     "name": "stderr",
     "output_type": "stream",
     "text": [
      "\n"
     ]
    },
    {
     "name": "stdout",
     "output_type": "stream",
     "text": [
      "Plot saved as: dbscan_observed_normal_bins\\dbscan_2014-2017_eps0.02_min15.png\n",
      "\n",
      "DBSCAN result:\n"
     ]
    },
    {
     "name": "stderr",
     "output_type": "stream",
     "text": [
      "Running DBSCAN: 100%|██████████| 3/3 [00:00<00:00, 40.48step/s]"
     ]
    },
    {
     "name": "stdout",
     "output_type": "stream",
     "text": [
      "Runtime for dbscan_clustering: 0.006005 seconds\n"
     ]
    },
    {
     "name": "stderr",
     "output_type": "stream",
     "text": [
      "\n"
     ]
    },
    {
     "name": "stdout",
     "output_type": "stream",
     "text": [
      "Plot saved as: dbscan_observed_normal_bins\\dbscan_2014-2017_eps0.01_min10.png\n",
      "\n",
      "DBSCAN result:\n"
     ]
    },
    {
     "name": "stderr",
     "output_type": "stream",
     "text": [
      "Running DBSCAN: 100%|██████████| 3/3 [00:00<00:00, 30.30step/s]"
     ]
    },
    {
     "name": "stdout",
     "output_type": "stream",
     "text": [
      "Runtime for dbscan_clustering: 0.011286 seconds\n"
     ]
    },
    {
     "name": "stderr",
     "output_type": "stream",
     "text": [
      "\n"
     ]
    },
    {
     "name": "stdout",
     "output_type": "stream",
     "text": [
      "Plot saved as: dbscan_observed_normal_bins\\dbscan_2014-2017_eps0.01_min15.png\n",
      "\n",
      "DBSCAN result:\n"
     ]
    },
    {
     "name": "stderr",
     "output_type": "stream",
     "text": [
      "Running DBSCAN: 100%|██████████| 3/3 [00:00<00:00, 17.66step/s]"
     ]
    },
    {
     "name": "stdout",
     "output_type": "stream",
     "text": [
      "Runtime for dbscan_clustering: 0.009001 seconds\n"
     ]
    },
    {
     "name": "stderr",
     "output_type": "stream",
     "text": [
      "\n"
     ]
    },
    {
     "name": "stdout",
     "output_type": "stream",
     "text": [
      "Plot saved as: dbscan_observed_normal_bins\\dbscan_2014-2017_eps0.015_min10.png\n",
      "\n",
      "DBSCAN result:\n"
     ]
    },
    {
     "name": "stderr",
     "output_type": "stream",
     "text": [
      "Running DBSCAN: 100%|██████████| 3/3 [00:00<00:00, 47.72step/s]"
     ]
    },
    {
     "name": "stdout",
     "output_type": "stream",
     "text": [
      "Runtime for dbscan_clustering: 0.006135 seconds\n"
     ]
    },
    {
     "name": "stderr",
     "output_type": "stream",
     "text": [
      "\n"
     ]
    },
    {
     "name": "stdout",
     "output_type": "stream",
     "text": [
      "Plot saved as: dbscan_observed_normal_bins\\dbscan_2014-2017_eps0.015_min15.png\n"
     ]
    },
    {
     "data": {
      "text/html": [
       "<div>\n",
       "<style scoped>\n",
       "    .dataframe tbody tr th:only-of-type {\n",
       "        vertical-align: middle;\n",
       "    }\n",
       "\n",
       "    .dataframe tbody tr th {\n",
       "        vertical-align: top;\n",
       "    }\n",
       "\n",
       "    .dataframe thead th {\n",
       "        text-align: right;\n",
       "    }\n",
       "</style>\n",
       "<table border=\"1\" class=\"dataframe\">\n",
       "  <thead>\n",
       "    <tr style=\"text-align: right;\">\n",
       "      <th></th>\n",
       "      <th>Year Range</th>\n",
       "      <th>eps</th>\n",
       "      <th>min_samples</th>\n",
       "      <th>Runtime (s)</th>\n",
       "      <th>Clusters</th>\n",
       "      <th>Points per Cluster</th>\n",
       "      <th>Davies-Bouldin</th>\n",
       "      <th>Calinski-Harabasz</th>\n",
       "      <th>Dunn Index</th>\n",
       "      <th>Silhouette Score</th>\n",
       "    </tr>\n",
       "  </thead>\n",
       "  <tbody>\n",
       "    <tr>\n",
       "      <th>0</th>\n",
       "      <td>2014-2017</td>\n",
       "      <td>0.020</td>\n",
       "      <td>10</td>\n",
       "      <td>0.009</td>\n",
       "      <td>22</td>\n",
       "      <td>{0: 24, 1: 84, 2: 371, 3: 129, 4: 10, 5: 20, 6...</td>\n",
       "      <td>2.060</td>\n",
       "      <td>58.411</td>\n",
       "      <td>0.001</td>\n",
       "      <td>-0.159</td>\n",
       "    </tr>\n",
       "    <tr>\n",
       "      <th>1</th>\n",
       "      <td>2014-2017</td>\n",
       "      <td>0.020</td>\n",
       "      <td>15</td>\n",
       "      <td>0.008</td>\n",
       "      <td>14</td>\n",
       "      <td>{0: 216, 1: 47, 2: 15, 3: 58, 4: 21, 5: 22, 6:...</td>\n",
       "      <td>1.835</td>\n",
       "      <td>53.508</td>\n",
       "      <td>0.001</td>\n",
       "      <td>-0.232</td>\n",
       "    </tr>\n",
       "    <tr>\n",
       "      <th>2</th>\n",
       "      <td>2014-2017</td>\n",
       "      <td>0.010</td>\n",
       "      <td>10</td>\n",
       "      <td>0.006</td>\n",
       "      <td>15</td>\n",
       "      <td>{0: 52, 1: 14, 2: 12, 3: 12, 4: 19, 5: 16, 6: ...</td>\n",
       "      <td>1.582</td>\n",
       "      <td>28.659</td>\n",
       "      <td>0.003</td>\n",
       "      <td>-0.444</td>\n",
       "    </tr>\n",
       "    <tr>\n",
       "      <th>3</th>\n",
       "      <td>2014-2017</td>\n",
       "      <td>0.010</td>\n",
       "      <td>15</td>\n",
       "      <td>0.011</td>\n",
       "      <td>8</td>\n",
       "      <td>{0: 15, 1: 10, 2: 15, 3: 16, 4: 15, 5: 25, 6: ...</td>\n",
       "      <td>1.207</td>\n",
       "      <td>36.716</td>\n",
       "      <td>0.002</td>\n",
       "      <td>-0.472</td>\n",
       "    </tr>\n",
       "    <tr>\n",
       "      <th>4</th>\n",
       "      <td>2014-2017</td>\n",
       "      <td>0.015</td>\n",
       "      <td>10</td>\n",
       "      <td>0.009</td>\n",
       "      <td>24</td>\n",
       "      <td>{0: 198, 1: 10, 2: 36, 3: 13, 4: 11, 5: 55, 6:...</td>\n",
       "      <td>2.631</td>\n",
       "      <td>30.235</td>\n",
       "      <td>0.001</td>\n",
       "      <td>-0.299</td>\n",
       "    </tr>\n",
       "    <tr>\n",
       "      <th>5</th>\n",
       "      <td>2014-2017</td>\n",
       "      <td>0.015</td>\n",
       "      <td>15</td>\n",
       "      <td>0.006</td>\n",
       "      <td>9</td>\n",
       "      <td>{0: 74, 1: 29, 2: 40, 3: 17, 4: 35, 5: 35, 6: ...</td>\n",
       "      <td>1.893</td>\n",
       "      <td>51.331</td>\n",
       "      <td>0.000</td>\n",
       "      <td>-0.387</td>\n",
       "    </tr>\n",
       "  </tbody>\n",
       "</table>\n",
       "</div>"
      ],
      "text/plain": [
       "  Year Range    eps  min_samples Runtime (s)  Clusters  \\\n",
       "0  2014-2017  0.020           10       0.009        22   \n",
       "1  2014-2017  0.020           15       0.008        14   \n",
       "2  2014-2017  0.010           10       0.006        15   \n",
       "3  2014-2017  0.010           15       0.011         8   \n",
       "4  2014-2017  0.015           10       0.009        24   \n",
       "5  2014-2017  0.015           15       0.006         9   \n",
       "\n",
       "                                  Points per Cluster Davies-Bouldin  \\\n",
       "0  {0: 24, 1: 84, 2: 371, 3: 129, 4: 10, 5: 20, 6...          2.060   \n",
       "1  {0: 216, 1: 47, 2: 15, 3: 58, 4: 21, 5: 22, 6:...          1.835   \n",
       "2  {0: 52, 1: 14, 2: 12, 3: 12, 4: 19, 5: 16, 6: ...          1.582   \n",
       "3  {0: 15, 1: 10, 2: 15, 3: 16, 4: 15, 5: 25, 6: ...          1.207   \n",
       "4  {0: 198, 1: 10, 2: 36, 3: 13, 4: 11, 5: 55, 6:...          2.631   \n",
       "5  {0: 74, 1: 29, 2: 40, 3: 17, 4: 35, 5: 35, 6: ...          1.893   \n",
       "\n",
       "  Calinski-Harabasz Dunn Index Silhouette Score  \n",
       "0            58.411      0.001           -0.159  \n",
       "1            53.508      0.001           -0.232  \n",
       "2            28.659      0.003           -0.444  \n",
       "3            36.716      0.002           -0.472  \n",
       "4            30.235      0.001           -0.299  \n",
       "5            51.331      0.000           -0.387  "
      ]
     },
     "metadata": {},
     "output_type": "display_data"
    },
    {
     "name": "stdout",
     "output_type": "stream",
     "text": [
      "\n",
      "Running DBSCAN for Year Range: 2019-2023\n",
      "\n",
      "DBSCAN result:\n"
     ]
    },
    {
     "name": "stderr",
     "output_type": "stream",
     "text": [
      "Running DBSCAN:   0%|          | 0/3 [00:00<?, ?step/s]"
     ]
    },
    {
     "name": "stdout",
     "output_type": "stream",
     "text": [
      "Runtime for dbscan_clustering: 0.015143 seconds\n"
     ]
    },
    {
     "name": "stderr",
     "output_type": "stream",
     "text": [
      "Running DBSCAN: 100%|██████████| 3/3 [00:00<00:00, 11.74step/s]\n"
     ]
    },
    {
     "name": "stdout",
     "output_type": "stream",
     "text": [
      "Plot saved as: dbscan_observed_normal_bins\\dbscan_2019-2023_eps0.02_min10.png\n",
      "\n",
      "DBSCAN result:\n"
     ]
    },
    {
     "name": "stderr",
     "output_type": "stream",
     "text": [
      "Running DBSCAN:   0%|          | 0/3 [00:00<?, ?step/s]"
     ]
    },
    {
     "name": "stdout",
     "output_type": "stream",
     "text": [
      "Runtime for dbscan_clustering: 0.017432 seconds\n"
     ]
    },
    {
     "name": "stderr",
     "output_type": "stream",
     "text": [
      "Running DBSCAN: 100%|██████████| 3/3 [00:00<00:00,  9.48step/s]\n"
     ]
    },
    {
     "name": "stdout",
     "output_type": "stream",
     "text": [
      "Plot saved as: dbscan_observed_normal_bins\\dbscan_2019-2023_eps0.02_min15.png\n",
      "\n",
      "DBSCAN result:\n"
     ]
    },
    {
     "name": "stderr",
     "output_type": "stream",
     "text": [
      "Running DBSCAN:   0%|          | 0/3 [00:00<?, ?step/s]"
     ]
    },
    {
     "name": "stdout",
     "output_type": "stream",
     "text": [
      "Runtime for dbscan_clustering: 0.030563 seconds\n"
     ]
    },
    {
     "name": "stderr",
     "output_type": "stream",
     "text": [
      "Running DBSCAN: 100%|██████████| 3/3 [00:00<00:00,  6.47step/s]\n"
     ]
    },
    {
     "name": "stdout",
     "output_type": "stream",
     "text": [
      "Plot saved as: dbscan_observed_normal_bins\\dbscan_2019-2023_eps0.01_min10.png\n",
      "\n",
      "DBSCAN result:\n"
     ]
    },
    {
     "name": "stderr",
     "output_type": "stream",
     "text": [
      "Running DBSCAN:   0%|          | 0/3 [00:00<?, ?step/s]"
     ]
    },
    {
     "name": "stdout",
     "output_type": "stream",
     "text": [
      "Runtime for dbscan_clustering: 0.012428 seconds\n"
     ]
    },
    {
     "name": "stderr",
     "output_type": "stream",
     "text": [
      "Running DBSCAN: 100%|██████████| 3/3 [00:00<00:00,  9.85step/s]\n"
     ]
    },
    {
     "name": "stdout",
     "output_type": "stream",
     "text": [
      "Plot saved as: dbscan_observed_normal_bins\\dbscan_2019-2023_eps0.01_min15.png\n",
      "\n",
      "DBSCAN result:\n"
     ]
    },
    {
     "name": "stderr",
     "output_type": "stream",
     "text": [
      "Running DBSCAN:   0%|          | 0/3 [00:00<?, ?step/s]"
     ]
    },
    {
     "name": "stdout",
     "output_type": "stream",
     "text": [
      "Runtime for dbscan_clustering: 0.009891 seconds\n"
     ]
    },
    {
     "name": "stderr",
     "output_type": "stream",
     "text": [
      "Running DBSCAN: 100%|██████████| 3/3 [00:00<00:00, 10.85step/s]\n"
     ]
    },
    {
     "name": "stdout",
     "output_type": "stream",
     "text": [
      "Plot saved as: dbscan_observed_normal_bins\\dbscan_2019-2023_eps0.015_min10.png\n",
      "\n",
      "DBSCAN result:\n"
     ]
    },
    {
     "name": "stderr",
     "output_type": "stream",
     "text": [
      "Running DBSCAN:   0%|          | 0/3 [00:00<?, ?step/s]"
     ]
    },
    {
     "name": "stdout",
     "output_type": "stream",
     "text": [
      "Runtime for dbscan_clustering: 0.021588 seconds\n"
     ]
    },
    {
     "name": "stderr",
     "output_type": "stream",
     "text": [
      "Running DBSCAN: 100%|██████████| 3/3 [00:00<00:00,  9.59step/s]\n"
     ]
    },
    {
     "name": "stdout",
     "output_type": "stream",
     "text": [
      "Plot saved as: dbscan_observed_normal_bins\\dbscan_2019-2023_eps0.015_min15.png\n"
     ]
    },
    {
     "data": {
      "text/html": [
       "<div>\n",
       "<style scoped>\n",
       "    .dataframe tbody tr th:only-of-type {\n",
       "        vertical-align: middle;\n",
       "    }\n",
       "\n",
       "    .dataframe tbody tr th {\n",
       "        vertical-align: top;\n",
       "    }\n",
       "\n",
       "    .dataframe thead th {\n",
       "        text-align: right;\n",
       "    }\n",
       "</style>\n",
       "<table border=\"1\" class=\"dataframe\">\n",
       "  <thead>\n",
       "    <tr style=\"text-align: right;\">\n",
       "      <th></th>\n",
       "      <th>Year Range</th>\n",
       "      <th>eps</th>\n",
       "      <th>min_samples</th>\n",
       "      <th>Runtime (s)</th>\n",
       "      <th>Clusters</th>\n",
       "      <th>Points per Cluster</th>\n",
       "      <th>Davies-Bouldin</th>\n",
       "      <th>Calinski-Harabasz</th>\n",
       "      <th>Dunn Index</th>\n",
       "      <th>Silhouette Score</th>\n",
       "    </tr>\n",
       "  </thead>\n",
       "  <tbody>\n",
       "    <tr>\n",
       "      <th>0</th>\n",
       "      <td>2019-2023</td>\n",
       "      <td>0.020</td>\n",
       "      <td>10</td>\n",
       "      <td>0.015</td>\n",
       "      <td>26</td>\n",
       "      <td>{0: 38, 1: 15, 2: 1189, 3: 17, 4: 13, 5: 15, 6...</td>\n",
       "      <td>2.139</td>\n",
       "      <td>65.836</td>\n",
       "      <td>0.001</td>\n",
       "      <td>-0.332</td>\n",
       "    </tr>\n",
       "    <tr>\n",
       "      <th>1</th>\n",
       "      <td>2019-2023</td>\n",
       "      <td>0.020</td>\n",
       "      <td>15</td>\n",
       "      <td>0.017</td>\n",
       "      <td>16</td>\n",
       "      <td>{0: 32, 1: 75, 2: 59, 3: 153, 4: 15, 5: 17, 6:...</td>\n",
       "      <td>1.566</td>\n",
       "      <td>94.720</td>\n",
       "      <td>0.001</td>\n",
       "      <td>-0.112</td>\n",
       "    </tr>\n",
       "    <tr>\n",
       "      <th>2</th>\n",
       "      <td>2019-2023</td>\n",
       "      <td>0.010</td>\n",
       "      <td>10</td>\n",
       "      <td>0.031</td>\n",
       "      <td>22</td>\n",
       "      <td>{0: 17, 1: 12, 2: 13, 3: 13, 4: 12, 5: 16, 6: ...</td>\n",
       "      <td>1.496</td>\n",
       "      <td>25.489</td>\n",
       "      <td>0.000</td>\n",
       "      <td>-0.467</td>\n",
       "    </tr>\n",
       "    <tr>\n",
       "      <th>3</th>\n",
       "      <td>2019-2023</td>\n",
       "      <td>0.010</td>\n",
       "      <td>15</td>\n",
       "      <td>0.012</td>\n",
       "      <td>10</td>\n",
       "      <td>{0: 62, 1: 36, 2: 248, 3: 237, 4: 47, 5: 45, 6...</td>\n",
       "      <td>1.690</td>\n",
       "      <td>27.679</td>\n",
       "      <td>0.001</td>\n",
       "      <td>-0.235</td>\n",
       "    </tr>\n",
       "    <tr>\n",
       "      <th>4</th>\n",
       "      <td>2019-2023</td>\n",
       "      <td>0.015</td>\n",
       "      <td>10</td>\n",
       "      <td>0.010</td>\n",
       "      <td>33</td>\n",
       "      <td>{0: 25, 1: 49, 2: 18, 3: 31, 4: 10, 5: 36, 6: ...</td>\n",
       "      <td>1.648</td>\n",
       "      <td>44.574</td>\n",
       "      <td>0.001</td>\n",
       "      <td>-0.279</td>\n",
       "    </tr>\n",
       "    <tr>\n",
       "      <th>5</th>\n",
       "      <td>2019-2023</td>\n",
       "      <td>0.015</td>\n",
       "      <td>15</td>\n",
       "      <td>0.022</td>\n",
       "      <td>10</td>\n",
       "      <td>{0: 29, 1: 26, 2: 22, 3: 93, 4: 19, 5: 141, 6:...</td>\n",
       "      <td>1.624</td>\n",
       "      <td>65.396</td>\n",
       "      <td>0.001</td>\n",
       "      <td>-0.286</td>\n",
       "    </tr>\n",
       "  </tbody>\n",
       "</table>\n",
       "</div>"
      ],
      "text/plain": [
       "  Year Range    eps  min_samples Runtime (s)  Clusters  \\\n",
       "0  2019-2023  0.020           10       0.015        26   \n",
       "1  2019-2023  0.020           15       0.017        16   \n",
       "2  2019-2023  0.010           10       0.031        22   \n",
       "3  2019-2023  0.010           15       0.012        10   \n",
       "4  2019-2023  0.015           10       0.010        33   \n",
       "5  2019-2023  0.015           15       0.022        10   \n",
       "\n",
       "                                  Points per Cluster Davies-Bouldin  \\\n",
       "0  {0: 38, 1: 15, 2: 1189, 3: 17, 4: 13, 5: 15, 6...          2.139   \n",
       "1  {0: 32, 1: 75, 2: 59, 3: 153, 4: 15, 5: 17, 6:...          1.566   \n",
       "2  {0: 17, 1: 12, 2: 13, 3: 13, 4: 12, 5: 16, 6: ...          1.496   \n",
       "3  {0: 62, 1: 36, 2: 248, 3: 237, 4: 47, 5: 45, 6...          1.690   \n",
       "4  {0: 25, 1: 49, 2: 18, 3: 31, 4: 10, 5: 36, 6: ...          1.648   \n",
       "5  {0: 29, 1: 26, 2: 22, 3: 93, 4: 19, 5: 141, 6:...          1.624   \n",
       "\n",
       "  Calinski-Harabasz Dunn Index Silhouette Score  \n",
       "0            65.836      0.001           -0.332  \n",
       "1            94.720      0.001           -0.112  \n",
       "2            25.489      0.000           -0.467  \n",
       "3            27.679      0.001           -0.235  \n",
       "4            44.574      0.001           -0.279  \n",
       "5            65.396      0.001           -0.286  "
      ]
     },
     "metadata": {},
     "output_type": "display_data"
    }
   ],
   "source": [
    "import numpy as np\n",
    "import pandas as pd\n",
    "import os\n",
    "import cluster_data\n",
    "import cluster_plotter\n",
    "from cluster_data import run_clustering, normalize_data, unnormalize\n",
    "from cluster_plotter import ClusterPlotter\n",
    "from clustering_utils import ClusterData\n",
    "from DBSCAN import dbscan_clustering  # Assuming you have a DBSCAN implementation\n",
    "import getdata\n",
    "\n",
    "# Define observed files\n",
    "uncorr_obs_files = {\n",
    "    year: f\"ogs{year}01_12_det.ele_ucorr\" if year != 2002 else f\"ogs{year}08_12_det.ele_ucorr\"\n",
    "    for year in range(2002, 2024) if year != 2018  # Exclude 2018 if missing\n",
    "}\n",
    "\n",
    "print(uncorr_obs_files)\n",
    "\n",
    "standard_year_ranges = {f\"{start}-{start + 3}\": np.arange(start, start + 4) for start in [2002, 2006, 2010, 2014]}\n",
    "standard_year_ranges[\"2019-2023\"] = np.arange(2019, 2024)\n",
    "\n",
    "running_ranges = cluster_data.generate_running_year_ranges(2002, 2023, 4)\n",
    "year_ranges = standard_year_ranges\n",
    "\n",
    "# Bin the observed data\n",
    "binned_data = cluster_data.bin_observed_data(uncorr_obs_files, year_ranges, print_res=False)\n",
    "\n",
    "# Output directory for plots\n",
    "plot_dir = \"dbscan_observed_normal_bins\"\n",
    "os.makedirs(plot_dir, exist_ok=True)\n",
    "cluster_plotter.clear_directory(plot_dir)\n",
    "\n",
    "for cluster_data, year_range in binned_data:\n",
    "    print(f\"\\nRunning DBSCAN for Year Range: {year_range}\")\n",
    "    \n",
    "    data_array = np.array([cluster_data.inc, cluster_data.raan]).T\n",
    "    normalized_data, data_min, data_max = normalize_data(data_array)\n",
    "    \n",
    "    results = []\n",
    "    eps_values = [0.02, 0.01, 0.015, 0.05]\n",
    "    min_samples_values = [10, 15, 20, 25]\n",
    "    for eps in eps_values:\n",
    "        for min_samples in min_samples_values:\n",
    "            result_dbscan, time_dbscan, n_clusters_dbscan, points_per_cluster_dbscan, metrics_dbscan = run_clustering(\n",
    "                dbscan_clustering, \"DBSCAN\", normalized_data, data_min, data_max, plot=False, eps=eps, min_samples=min_samples\n",
    "            )\n",
    "\n",
    "            unnormalized_data, cluster_centers = unnormalize(result_dbscan.data, result_dbscan.cluster_centers, data_min, data_max)\n",
    "            plotter = ClusterPlotter(unnormalized_data, result_dbscan.labels, cluster_centers)\n",
    "            plotter.clusters_2d_plot(\n",
    "                f\"DBSCAN: years = {year_range}, eps = {eps}, min_samples = {min_samples}\",\n",
    "                os.path.join(plot_dir, f\"dbscan_{year_range}_eps{eps}_min{min_samples}.png\")\n",
    "            )\n",
    "\n",
    "            results.append({\n",
    "                \"Year Range\": year_range, \"eps\": eps, \"min_samples\": min_samples, \"Runtime (s)\": f\"{time_dbscan:.3f}\",\n",
    "                \"Clusters\": n_clusters_dbscan, \"Points per Cluster\": points_per_cluster_dbscan,\n",
    "                \"Davies-Bouldin\": f\"{metrics_dbscan[0]:.3f}\" if metrics_dbscan else None,\n",
    "                \"Calinski-Harabasz\": f\"{metrics_dbscan[1]:.3f}\" if metrics_dbscan else None,\n",
    "                \"Dunn Index\": f\"{metrics_dbscan[2]:.3f}\" if metrics_dbscan else None,\n",
    "                \"Silhouette Score\": f\"{metrics_dbscan[3]:.3f}\" if metrics_dbscan else None\n",
    "            })\n",
    "    \n",
    "    display(pd.DataFrame(results))\n"
   ]
  },
  {
   "cell_type": "code",
   "execution_count": 5,
   "metadata": {},
   "outputs": [
    {
     "name": "stdout",
     "output_type": "stream",
     "text": [
      "{2002: 'ogs200208_12_det.ele_ucorr', 2003: 'ogs200301_12_det.ele_ucorr', 2004: 'ogs200401_12_det.ele_ucorr', 2005: 'ogs200501_12_det.ele_ucorr', 2006: 'ogs200601_12_det.ele_ucorr', 2007: 'ogs200701_12_det.ele_ucorr', 2008: 'ogs200801_12_det.ele_ucorr', 2009: 'ogs200901_12_det.ele_ucorr', 2010: 'ogs201001_12_det.ele_ucorr', 2011: 'ogs201101_12_det.ele_ucorr', 2012: 'ogs201201_12_det.ele_ucorr', 2013: 'ogs201301_12_det.ele_ucorr', 2014: 'ogs201401_12_det.ele_ucorr', 2015: 'ogs201501_12_det.ele_ucorr', 2016: 'ogs201601_12_det.ele_ucorr', 2017: 'ogs201701_12_det.ele_ucorr', 2019: 'ogs201901_12_det.ele_ucorr', 2020: 'ogs202001_12_det.ele_ucorr', 2021: 'ogs202101_12_det.ele_ucorr', 2022: 'ogs202201_12_det.ele_ucorr', 2023: 'ogs202301_12_det.ele_ucorr'}\n",
      "\n",
      "Running DBSCAN for Year Range: 2002-2005\n",
      "\n",
      "DBSCAN result:\n"
     ]
    },
    {
     "name": "stderr",
     "output_type": "stream",
     "text": [
      "Running DBSCAN:   0%|          | 0/3 [00:00<?, ?step/s]"
     ]
    },
    {
     "name": "stdout",
     "output_type": "stream",
     "text": [
      "Runtime for dbscan_clustering: 0.051245 seconds\n"
     ]
    },
    {
     "name": "stderr",
     "output_type": "stream",
     "text": [
      "Running DBSCAN: 100%|██████████| 3/3 [00:01<00:00,  2.91step/s]\n"
     ]
    },
    {
     "name": "stdout",
     "output_type": "stream",
     "text": [
      "\n",
      "DBSCAN result:\n"
     ]
    },
    {
     "name": "stderr",
     "output_type": "stream",
     "text": [
      "Running DBSCAN:   0%|          | 0/3 [00:00<?, ?step/s]"
     ]
    },
    {
     "name": "stdout",
     "output_type": "stream",
     "text": [
      "Runtime for dbscan_clustering: 0.045447 seconds\n"
     ]
    },
    {
     "name": "stderr",
     "output_type": "stream",
     "text": [
      "Running DBSCAN: 100%|██████████| 3/3 [00:00<00:00,  3.29step/s]\n"
     ]
    },
    {
     "name": "stdout",
     "output_type": "stream",
     "text": [
      "\n",
      "DBSCAN result:\n"
     ]
    },
    {
     "name": "stderr",
     "output_type": "stream",
     "text": [
      "Running DBSCAN:   0%|          | 0/3 [00:00<?, ?step/s]"
     ]
    },
    {
     "name": "stdout",
     "output_type": "stream",
     "text": [
      "Runtime for dbscan_clustering: 0.036801 seconds\n"
     ]
    },
    {
     "name": "stderr",
     "output_type": "stream",
     "text": [
      "Running DBSCAN: 100%|██████████| 3/3 [00:00<00:00,  3.54step/s]\n"
     ]
    },
    {
     "name": "stdout",
     "output_type": "stream",
     "text": [
      "\n",
      "DBSCAN result:\n"
     ]
    },
    {
     "name": "stderr",
     "output_type": "stream",
     "text": [
      "Running DBSCAN:   0%|          | 0/3 [00:00<?, ?step/s]"
     ]
    },
    {
     "name": "stdout",
     "output_type": "stream",
     "text": [
      "Runtime for dbscan_clustering: 0.033170 seconds\n"
     ]
    },
    {
     "name": "stderr",
     "output_type": "stream",
     "text": [
      "Running DBSCAN: 100%|██████████| 3/3 [00:01<00:00,  2.93step/s]\n"
     ]
    },
    {
     "name": "stdout",
     "output_type": "stream",
     "text": [
      "\n",
      "DBSCAN result:\n"
     ]
    },
    {
     "name": "stderr",
     "output_type": "stream",
     "text": [
      "Running DBSCAN:   0%|          | 0/3 [00:00<?, ?step/s]"
     ]
    },
    {
     "name": "stdout",
     "output_type": "stream",
     "text": [
      "Runtime for dbscan_clustering: 0.093582 seconds\n"
     ]
    },
    {
     "name": "stderr",
     "output_type": "stream",
     "text": [
      "Running DBSCAN: 100%|██████████| 3/3 [00:01<00:00,  2.87step/s]\n"
     ]
    },
    {
     "name": "stdout",
     "output_type": "stream",
     "text": [
      "\n",
      "DBSCAN result:\n"
     ]
    },
    {
     "name": "stderr",
     "output_type": "stream",
     "text": [
      "Running DBSCAN:   0%|          | 0/3 [00:00<?, ?step/s]"
     ]
    },
    {
     "name": "stdout",
     "output_type": "stream",
     "text": [
      "Runtime for dbscan_clustering: 0.040577 seconds\n"
     ]
    },
    {
     "name": "stderr",
     "output_type": "stream",
     "text": [
      "Running DBSCAN: 100%|██████████| 3/3 [00:01<00:00,  2.68step/s]\n"
     ]
    },
    {
     "name": "stdout",
     "output_type": "stream",
     "text": [
      "\n",
      "DBSCAN result:\n"
     ]
    },
    {
     "name": "stderr",
     "output_type": "stream",
     "text": [
      "Running DBSCAN:   0%|          | 0/3 [00:00<?, ?step/s]"
     ]
    },
    {
     "name": "stdout",
     "output_type": "stream",
     "text": [
      "Runtime for dbscan_clustering: 0.056028 seconds\n"
     ]
    },
    {
     "name": "stderr",
     "output_type": "stream",
     "text": [
      "Running DBSCAN: 100%|██████████| 3/3 [00:01<00:00,  2.93step/s]\n"
     ]
    },
    {
     "name": "stdout",
     "output_type": "stream",
     "text": [
      "\n",
      "DBSCAN result:\n"
     ]
    },
    {
     "name": "stderr",
     "output_type": "stream",
     "text": [
      "Running DBSCAN:   0%|          | 0/3 [00:00<?, ?step/s]"
     ]
    },
    {
     "name": "stdout",
     "output_type": "stream",
     "text": [
      "Runtime for dbscan_clustering: 0.068283 seconds\n"
     ]
    },
    {
     "name": "stderr",
     "output_type": "stream",
     "text": [
      "Running DBSCAN: 100%|██████████| 3/3 [00:00<00:00,  3.04step/s]\n"
     ]
    },
    {
     "name": "stdout",
     "output_type": "stream",
     "text": [
      "\n",
      "DBSCAN result:\n"
     ]
    },
    {
     "name": "stderr",
     "output_type": "stream",
     "text": [
      "Running DBSCAN:   0%|          | 0/3 [00:00<?, ?step/s]"
     ]
    },
    {
     "name": "stdout",
     "output_type": "stream",
     "text": [
      "Runtime for dbscan_clustering: 0.041738 seconds\n"
     ]
    },
    {
     "name": "stderr",
     "output_type": "stream",
     "text": [
      "Running DBSCAN: 100%|██████████| 3/3 [00:02<00:00,  1.34step/s]\n"
     ]
    },
    {
     "name": "stdout",
     "output_type": "stream",
     "text": [
      "\n",
      "DBSCAN result:\n"
     ]
    },
    {
     "name": "stderr",
     "output_type": "stream",
     "text": [
      "Running DBSCAN:   0%|          | 0/3 [00:00<?, ?step/s]"
     ]
    },
    {
     "name": "stdout",
     "output_type": "stream",
     "text": [
      "Runtime for dbscan_clustering: 0.063143 seconds\n"
     ]
    },
    {
     "name": "stderr",
     "output_type": "stream",
     "text": [
      "Running DBSCAN: 100%|██████████| 3/3 [00:02<00:00,  1.13step/s]\n"
     ]
    },
    {
     "name": "stdout",
     "output_type": "stream",
     "text": [
      "\n",
      "DBSCAN result:\n"
     ]
    },
    {
     "name": "stderr",
     "output_type": "stream",
     "text": [
      "Running DBSCAN:   0%|          | 0/3 [00:00<?, ?step/s]"
     ]
    },
    {
     "name": "stdout",
     "output_type": "stream",
     "text": [
      "Runtime for dbscan_clustering: 0.088769 seconds\n"
     ]
    },
    {
     "name": "stderr",
     "output_type": "stream",
     "text": [
      "Running DBSCAN: 100%|██████████| 3/3 [00:03<00:00,  1.04s/step]\n"
     ]
    },
    {
     "name": "stdout",
     "output_type": "stream",
     "text": [
      "\n",
      "DBSCAN result:\n"
     ]
    },
    {
     "name": "stderr",
     "output_type": "stream",
     "text": [
      "Running DBSCAN:   0%|          | 0/3 [00:00<?, ?step/s]"
     ]
    },
    {
     "name": "stdout",
     "output_type": "stream",
     "text": [
      "Runtime for dbscan_clustering: 0.096723 seconds\n"
     ]
    },
    {
     "name": "stderr",
     "output_type": "stream",
     "text": [
      "Running DBSCAN: 100%|██████████| 3/3 [00:03<00:00,  1.02s/step]\n"
     ]
    },
    {
     "name": "stdout",
     "output_type": "stream",
     "text": [
      "\n",
      "DBSCAN result:\n"
     ]
    },
    {
     "name": "stderr",
     "output_type": "stream",
     "text": [
      "Running DBSCAN:  33%|███▎      | 1/3 [00:00<00:00,  8.54step/s]"
     ]
    },
    {
     "name": "stdout",
     "output_type": "stream",
     "text": [
      "Runtime for dbscan_clustering: 0.117048 seconds\n"
     ]
    },
    {
     "name": "stderr",
     "output_type": "stream",
     "text": [
      "Running DBSCAN: 100%|██████████| 3/3 [00:02<00:00,  1.06step/s]\n"
     ]
    },
    {
     "name": "stdout",
     "output_type": "stream",
     "text": [
      "\n",
      "DBSCAN result:\n"
     ]
    },
    {
     "name": "stderr",
     "output_type": "stream",
     "text": [
      "Running DBSCAN:  33%|███▎      | 1/3 [00:00<00:00,  9.23step/s]"
     ]
    },
    {
     "name": "stdout",
     "output_type": "stream",
     "text": [
      "Runtime for dbscan_clustering: 0.108372 seconds\n"
     ]
    },
    {
     "name": "stderr",
     "output_type": "stream",
     "text": [
      "Running DBSCAN: 100%|██████████| 3/3 [00:02<00:00,  1.14step/s]\n"
     ]
    },
    {
     "name": "stdout",
     "output_type": "stream",
     "text": [
      "\n",
      "DBSCAN result:\n"
     ]
    },
    {
     "name": "stderr",
     "output_type": "stream",
     "text": [
      "Running DBSCAN:  33%|███▎      | 1/3 [00:00<00:00,  7.83step/s]"
     ]
    },
    {
     "name": "stdout",
     "output_type": "stream",
     "text": [
      "Runtime for dbscan_clustering: 0.127760 seconds\n"
     ]
    },
    {
     "name": "stderr",
     "output_type": "stream",
     "text": [
      "Running DBSCAN: 100%|██████████| 3/3 [00:02<00:00,  1.12step/s]\n"
     ]
    },
    {
     "name": "stdout",
     "output_type": "stream",
     "text": [
      "\n",
      "DBSCAN result:\n"
     ]
    },
    {
     "name": "stderr",
     "output_type": "stream",
     "text": [
      "Running DBSCAN:   0%|          | 0/3 [00:00<?, ?step/s]"
     ]
    },
    {
     "name": "stdout",
     "output_type": "stream",
     "text": [
      "Runtime for dbscan_clustering: 0.086075 seconds\n"
     ]
    },
    {
     "name": "stderr",
     "output_type": "stream",
     "text": [
      "Running DBSCAN: 100%|██████████| 3/3 [00:02<00:00,  1.05step/s]\n"
     ]
    },
    {
     "name": "stdout",
     "output_type": "stream",
     "text": [
      "\n",
      "DBSCAN result:\n"
     ]
    },
    {
     "name": "stderr",
     "output_type": "stream",
     "text": [
      "Running DBSCAN:   0%|          | 0/3 [00:00<?, ?step/s]"
     ]
    },
    {
     "name": "stdout",
     "output_type": "stream",
     "text": [
      "Runtime for dbscan_clustering: 0.087012 seconds\n"
     ]
    },
    {
     "name": "stderr",
     "output_type": "stream",
     "text": [
      "Running DBSCAN: 100%|██████████| 3/3 [00:02<00:00,  1.02step/s]\n"
     ]
    },
    {
     "name": "stdout",
     "output_type": "stream",
     "text": [
      "\n",
      "DBSCAN result:\n"
     ]
    },
    {
     "name": "stderr",
     "output_type": "stream",
     "text": [
      "Running DBSCAN:  33%|███▎      | 1/3 [00:00<00:00,  8.85step/s]"
     ]
    },
    {
     "name": "stdout",
     "output_type": "stream",
     "text": [
      "Runtime for dbscan_clustering: 0.113024 seconds\n"
     ]
    },
    {
     "name": "stderr",
     "output_type": "stream",
     "text": [
      "Running DBSCAN: 100%|██████████| 3/3 [00:02<00:00,  1.10step/s]\n"
     ]
    },
    {
     "name": "stdout",
     "output_type": "stream",
     "text": [
      "\n",
      "DBSCAN result:\n"
     ]
    },
    {
     "name": "stderr",
     "output_type": "stream",
     "text": [
      "Running DBSCAN:  33%|███▎      | 1/3 [00:00<00:00,  6.80step/s]"
     ]
    },
    {
     "name": "stdout",
     "output_type": "stream",
     "text": [
      "Runtime for dbscan_clustering: 0.145069 seconds\n"
     ]
    },
    {
     "name": "stderr",
     "output_type": "stream",
     "text": [
      "Running DBSCAN: 100%|██████████| 3/3 [00:02<00:00,  1.11step/s]\n"
     ]
    },
    {
     "name": "stdout",
     "output_type": "stream",
     "text": [
      "\n",
      "DBSCAN result:\n"
     ]
    },
    {
     "name": "stderr",
     "output_type": "stream",
     "text": [
      "Running DBSCAN:  33%|███▎      | 1/3 [00:00<00:00,  6.93step/s]"
     ]
    },
    {
     "name": "stdout",
     "output_type": "stream",
     "text": [
      "Runtime for dbscan_clustering: 0.142135 seconds\n"
     ]
    },
    {
     "name": "stderr",
     "output_type": "stream",
     "text": [
      "Running DBSCAN: 100%|██████████| 3/3 [00:02<00:00,  1.22step/s]\n"
     ]
    },
    {
     "name": "stdout",
     "output_type": "stream",
     "text": [
      "\n",
      "DBSCAN result:\n"
     ]
    },
    {
     "name": "stderr",
     "output_type": "stream",
     "text": [
      "Running DBSCAN:  33%|███▎      | 1/3 [00:00<00:00,  4.47step/s]"
     ]
    },
    {
     "name": "stdout",
     "output_type": "stream",
     "text": [
      "Runtime for dbscan_clustering: 0.223648 seconds\n"
     ]
    },
    {
     "name": "stderr",
     "output_type": "stream",
     "text": [
      "Running DBSCAN: 100%|██████████| 3/3 [00:02<00:00,  1.10step/s]\n"
     ]
    },
    {
     "name": "stdout",
     "output_type": "stream",
     "text": [
      "\n",
      "DBSCAN result:\n"
     ]
    },
    {
     "name": "stderr",
     "output_type": "stream",
     "text": [
      "Running DBSCAN:  33%|███▎      | 1/3 [00:00<00:00,  8.50step/s]"
     ]
    },
    {
     "name": "stdout",
     "output_type": "stream",
     "text": [
      "Runtime for dbscan_clustering: 0.117583 seconds\n"
     ]
    },
    {
     "name": "stderr",
     "output_type": "stream",
     "text": [
      "Running DBSCAN: 100%|██████████| 3/3 [00:02<00:00,  1.19step/s]\n"
     ]
    },
    {
     "name": "stdout",
     "output_type": "stream",
     "text": [
      "\n",
      "DBSCAN result:\n"
     ]
    },
    {
     "name": "stderr",
     "output_type": "stream",
     "text": [
      "Running DBSCAN:   0%|          | 0/3 [00:00<?, ?step/s]"
     ]
    },
    {
     "name": "stdout",
     "output_type": "stream",
     "text": [
      "Runtime for dbscan_clustering: 0.097063 seconds\n"
     ]
    },
    {
     "name": "stderr",
     "output_type": "stream",
     "text": [
      "Running DBSCAN: 100%|██████████| 3/3 [00:02<00:00,  1.25step/s]\n"
     ]
    },
    {
     "name": "stdout",
     "output_type": "stream",
     "text": [
      "\n",
      "DBSCAN result:\n"
     ]
    },
    {
     "name": "stderr",
     "output_type": "stream",
     "text": [
      "Running DBSCAN:   0%|          | 0/3 [00:00<?, ?step/s]"
     ]
    },
    {
     "name": "stdout",
     "output_type": "stream",
     "text": [
      "Runtime for dbscan_clustering: 0.088674 seconds\n"
     ]
    },
    {
     "name": "stderr",
     "output_type": "stream",
     "text": [
      "Running DBSCAN: 100%|██████████| 3/3 [00:02<00:00,  1.11step/s]\n"
     ]
    },
    {
     "name": "stdout",
     "output_type": "stream",
     "text": [
      "\n",
      "DBSCAN result:\n"
     ]
    },
    {
     "name": "stderr",
     "output_type": "stream",
     "text": [
      "Running DBSCAN:  33%|███▎      | 1/3 [00:00<00:00,  3.91step/s]"
     ]
    },
    {
     "name": "stdout",
     "output_type": "stream",
     "text": [
      "Runtime for dbscan_clustering: 0.255630 seconds\n"
     ]
    },
    {
     "name": "stderr",
     "output_type": "stream",
     "text": [
      "Running DBSCAN: 100%|██████████| 3/3 [00:02<00:00,  1.18step/s]\n"
     ]
    },
    {
     "name": "stdout",
     "output_type": "stream",
     "text": [
      "\n",
      "DBSCAN result:\n"
     ]
    },
    {
     "name": "stderr",
     "output_type": "stream",
     "text": [
      "Running DBSCAN:  33%|███▎      | 1/3 [00:00<00:00,  7.90step/s]"
     ]
    },
    {
     "name": "stdout",
     "output_type": "stream",
     "text": [
      "Runtime for dbscan_clustering: 0.126638 seconds\n"
     ]
    },
    {
     "name": "stderr",
     "output_type": "stream",
     "text": [
      "Running DBSCAN: 100%|██████████| 3/3 [00:03<00:00,  1.06s/step]\n"
     ]
    },
    {
     "name": "stdout",
     "output_type": "stream",
     "text": [
      "\n",
      "DBSCAN result:\n"
     ]
    },
    {
     "name": "stderr",
     "output_type": "stream",
     "text": [
      "Running DBSCAN:  33%|███▎      | 1/3 [00:00<00:00,  6.75step/s]"
     ]
    },
    {
     "name": "stdout",
     "output_type": "stream",
     "text": [
      "Runtime for dbscan_clustering: 0.148202 seconds\n"
     ]
    },
    {
     "name": "stderr",
     "output_type": "stream",
     "text": [
      "Running DBSCAN: 100%|██████████| 3/3 [00:02<00:00,  1.12step/s]\n"
     ]
    },
    {
     "name": "stdout",
     "output_type": "stream",
     "text": [
      "\n",
      "DBSCAN result:\n"
     ]
    },
    {
     "name": "stderr",
     "output_type": "stream",
     "text": [
      "Running DBSCAN:  33%|███▎      | 1/3 [00:00<00:00,  8.94step/s]"
     ]
    },
    {
     "name": "stdout",
     "output_type": "stream",
     "text": [
      "Runtime for dbscan_clustering: 0.111855 seconds\n"
     ]
    },
    {
     "name": "stderr",
     "output_type": "stream",
     "text": [
      "Running DBSCAN: 100%|██████████| 3/3 [00:02<00:00,  1.05step/s]\n"
     ]
    },
    {
     "name": "stdout",
     "output_type": "stream",
     "text": [
      "\n",
      "DBSCAN result:\n"
     ]
    },
    {
     "name": "stderr",
     "output_type": "stream",
     "text": [
      "Running DBSCAN:  33%|███▎      | 1/3 [00:00<00:00,  5.90step/s]"
     ]
    },
    {
     "name": "stdout",
     "output_type": "stream",
     "text": [
      "Runtime for dbscan_clustering: 0.169626 seconds\n"
     ]
    },
    {
     "name": "stderr",
     "output_type": "stream",
     "text": [
      "Running DBSCAN: 100%|██████████| 3/3 [00:02<00:00,  1.28step/s]\n"
     ]
    },
    {
     "name": "stdout",
     "output_type": "stream",
     "text": [
      "\n",
      "DBSCAN result:\n"
     ]
    },
    {
     "name": "stderr",
     "output_type": "stream",
     "text": [
      "Running DBSCAN:  33%|███▎      | 1/3 [00:00<00:00,  9.69step/s]"
     ]
    },
    {
     "name": "stdout",
     "output_type": "stream",
     "text": [
      "Runtime for dbscan_clustering: 0.103238 seconds\n"
     ]
    },
    {
     "name": "stderr",
     "output_type": "stream",
     "text": [
      "Running DBSCAN: 100%|██████████| 3/3 [00:02<00:00,  1.13step/s]\n"
     ]
    },
    {
     "name": "stdout",
     "output_type": "stream",
     "text": [
      "\n",
      "DBSCAN result:\n"
     ]
    },
    {
     "name": "stderr",
     "output_type": "stream",
     "text": [
      "Running DBSCAN:  33%|███▎      | 1/3 [00:00<00:00,  6.59step/s]"
     ]
    },
    {
     "name": "stdout",
     "output_type": "stream",
     "text": [
      "Runtime for dbscan_clustering: 0.151631 seconds\n"
     ]
    },
    {
     "name": "stderr",
     "output_type": "stream",
     "text": [
      "Running DBSCAN: 100%|██████████| 3/3 [00:02<00:00,  1.21step/s]\n"
     ]
    },
    {
     "name": "stdout",
     "output_type": "stream",
     "text": [
      "\n",
      "DBSCAN result:\n"
     ]
    },
    {
     "name": "stderr",
     "output_type": "stream",
     "text": [
      "Running DBSCAN:  33%|███▎      | 1/3 [00:00<00:00,  7.06step/s]"
     ]
    },
    {
     "name": "stdout",
     "output_type": "stream",
     "text": [
      "Runtime for dbscan_clustering: 0.141665 seconds\n"
     ]
    },
    {
     "name": "stderr",
     "output_type": "stream",
     "text": [
      "Running DBSCAN: 100%|██████████| 3/3 [00:02<00:00,  1.20step/s]\n"
     ]
    },
    {
     "name": "stdout",
     "output_type": "stream",
     "text": [
      "\n",
      "DBSCAN result:\n"
     ]
    },
    {
     "name": "stderr",
     "output_type": "stream",
     "text": [
      "Running DBSCAN:  33%|███▎      | 1/3 [00:00<00:00,  3.91step/s]"
     ]
    },
    {
     "name": "stdout",
     "output_type": "stream",
     "text": [
      "Runtime for dbscan_clustering: 0.255951 seconds\n"
     ]
    },
    {
     "name": "stderr",
     "output_type": "stream",
     "text": [
      "Running DBSCAN: 100%|██████████| 3/3 [00:02<00:00,  1.18step/s]\n"
     ]
    },
    {
     "name": "stdout",
     "output_type": "stream",
     "text": [
      "\n",
      "DBSCAN result:\n"
     ]
    },
    {
     "name": "stderr",
     "output_type": "stream",
     "text": [
      "Running DBSCAN:  33%|███▎      | 1/3 [00:00<00:00,  6.52step/s]"
     ]
    },
    {
     "name": "stdout",
     "output_type": "stream",
     "text": [
      "Runtime for dbscan_clustering: 0.153369 seconds\n"
     ]
    },
    {
     "name": "stderr",
     "output_type": "stream",
     "text": [
      "Running DBSCAN: 100%|██████████| 3/3 [00:02<00:00,  1.24step/s]\n"
     ]
    },
    {
     "name": "stdout",
     "output_type": "stream",
     "text": [
      "\n",
      "DBSCAN result:\n"
     ]
    },
    {
     "name": "stderr",
     "output_type": "stream",
     "text": [
      "Running DBSCAN:  33%|███▎      | 1/3 [00:00<00:00,  6.21step/s]"
     ]
    },
    {
     "name": "stdout",
     "output_type": "stream",
     "text": [
      "Runtime for dbscan_clustering: 0.161025 seconds\n"
     ]
    },
    {
     "name": "stderr",
     "output_type": "stream",
     "text": [
      "Running DBSCAN: 100%|██████████| 3/3 [00:02<00:00,  1.24step/s]\n",
      "c:\\Users\\fionu\\OneDrive\\Dokumente\\Daten Fiona\\AIUB\\Code\\clustering\\cluster_plotter.py:92: UserWarning: No artists with labels found to put in legend.  Note that artists whose label start with an underscore are ignored when legend() is called with no argument.\n",
      "  plt.legend()\n"
     ]
    },
    {
     "name": "stdout",
     "output_type": "stream",
     "text": [
      "Plot saved as: dbscan_grid_search_normal_bins_observed\\dbscan_2002-2005_best.png\n",
      "Best for 2002-2005: eps = 0.05, min_samples = 30, silhouette = 0.208\n",
      "\n",
      "Running DBSCAN for Year Range: 2006-2009\n",
      "\n",
      "DBSCAN result:\n"
     ]
    },
    {
     "name": "stderr",
     "output_type": "stream",
     "text": [
      "Running DBSCAN:  33%|███▎      | 1/3 [00:00<00:00,  6.71step/s]"
     ]
    },
    {
     "name": "stdout",
     "output_type": "stream",
     "text": [
      "Runtime for dbscan_clustering: 0.147090 seconds\n"
     ]
    },
    {
     "name": "stderr",
     "output_type": "stream",
     "text": [
      "Running DBSCAN: 100%|██████████| 3/3 [00:01<00:00,  1.52step/s]\n"
     ]
    },
    {
     "name": "stdout",
     "output_type": "stream",
     "text": [
      "\n",
      "DBSCAN result:\n"
     ]
    },
    {
     "name": "stderr",
     "output_type": "stream",
     "text": [
      "Running DBSCAN:   0%|          | 0/3 [00:00<?, ?step/s]"
     ]
    },
    {
     "name": "stdout",
     "output_type": "stream",
     "text": [
      "Runtime for dbscan_clustering: 0.087237 seconds\n"
     ]
    },
    {
     "name": "stderr",
     "output_type": "stream",
     "text": [
      "Running DBSCAN: 100%|██████████| 3/3 [00:01<00:00,  1.61step/s]\n"
     ]
    },
    {
     "name": "stdout",
     "output_type": "stream",
     "text": [
      "\n",
      "DBSCAN result:\n"
     ]
    },
    {
     "name": "stderr",
     "output_type": "stream",
     "text": [
      "Running DBSCAN:   0%|          | 0/3 [00:00<?, ?step/s]"
     ]
    },
    {
     "name": "stdout",
     "output_type": "stream",
     "text": [
      "Runtime for dbscan_clustering: 0.053346 seconds\n"
     ]
    },
    {
     "name": "stderr",
     "output_type": "stream",
     "text": [
      "Running DBSCAN: 100%|██████████| 3/3 [00:01<00:00,  1.69step/s]\n"
     ]
    },
    {
     "name": "stdout",
     "output_type": "stream",
     "text": [
      "\n",
      "DBSCAN result:\n"
     ]
    },
    {
     "name": "stderr",
     "output_type": "stream",
     "text": [
      "Running DBSCAN:   0%|          | 0/3 [00:00<?, ?step/s]"
     ]
    },
    {
     "name": "stdout",
     "output_type": "stream",
     "text": [
      "Runtime for dbscan_clustering: 0.072178 seconds\n"
     ]
    },
    {
     "name": "stderr",
     "output_type": "stream",
     "text": [
      "Running DBSCAN: 100%|██████████| 3/3 [00:01<00:00,  1.69step/s]\n"
     ]
    },
    {
     "name": "stdout",
     "output_type": "stream",
     "text": [
      "\n",
      "DBSCAN result:\n"
     ]
    },
    {
     "name": "stderr",
     "output_type": "stream",
     "text": [
      "Running DBSCAN:   0%|          | 0/3 [00:00<?, ?step/s]"
     ]
    },
    {
     "name": "stdout",
     "output_type": "stream",
     "text": [
      "Runtime for dbscan_clustering: 0.069143 seconds\n"
     ]
    },
    {
     "name": "stderr",
     "output_type": "stream",
     "text": [
      "Running DBSCAN: 100%|██████████| 3/3 [00:01<00:00,  1.64step/s]\n"
     ]
    },
    {
     "name": "stdout",
     "output_type": "stream",
     "text": [
      "\n",
      "DBSCAN result:\n"
     ]
    },
    {
     "name": "stderr",
     "output_type": "stream",
     "text": [
      "Running DBSCAN:   0%|          | 0/3 [00:00<?, ?step/s]"
     ]
    },
    {
     "name": "stdout",
     "output_type": "stream",
     "text": [
      "Runtime for dbscan_clustering: 0.075639 seconds\n"
     ]
    },
    {
     "name": "stderr",
     "output_type": "stream",
     "text": [
      "Running DBSCAN: 100%|██████████| 3/3 [00:01<00:00,  1.62step/s]\n"
     ]
    },
    {
     "name": "stdout",
     "output_type": "stream",
     "text": [
      "\n",
      "DBSCAN result:\n"
     ]
    },
    {
     "name": "stderr",
     "output_type": "stream",
     "text": [
      "Running DBSCAN:   0%|          | 0/3 [00:00<?, ?step/s]"
     ]
    },
    {
     "name": "stdout",
     "output_type": "stream",
     "text": [
      "Runtime for dbscan_clustering: 0.063839 seconds\n"
     ]
    },
    {
     "name": "stderr",
     "output_type": "stream",
     "text": [
      "Running DBSCAN: 100%|██████████| 3/3 [00:01<00:00,  1.73step/s]\n"
     ]
    },
    {
     "name": "stdout",
     "output_type": "stream",
     "text": [
      "\n",
      "DBSCAN result:\n"
     ]
    },
    {
     "name": "stderr",
     "output_type": "stream",
     "text": [
      "Running DBSCAN:   0%|          | 0/3 [00:00<?, ?step/s]"
     ]
    },
    {
     "name": "stdout",
     "output_type": "stream",
     "text": [
      "Runtime for dbscan_clustering: 0.074538 seconds\n"
     ]
    },
    {
     "name": "stderr",
     "output_type": "stream",
     "text": [
      "Running DBSCAN: 100%|██████████| 3/3 [00:01<00:00,  1.71step/s]\n"
     ]
    },
    {
     "name": "stdout",
     "output_type": "stream",
     "text": [
      "\n",
      "DBSCAN result:\n"
     ]
    },
    {
     "name": "stderr",
     "output_type": "stream",
     "text": [
      "Running DBSCAN:   0%|          | 0/3 [00:00<?, ?step/s]"
     ]
    },
    {
     "name": "stdout",
     "output_type": "stream",
     "text": [
      "Runtime for dbscan_clustering: 0.078062 seconds\n"
     ]
    },
    {
     "name": "stderr",
     "output_type": "stream",
     "text": [
      "Running DBSCAN: 100%|██████████| 3/3 [00:01<00:00,  1.66step/s]\n"
     ]
    },
    {
     "name": "stdout",
     "output_type": "stream",
     "text": [
      "\n",
      "DBSCAN result:\n"
     ]
    },
    {
     "name": "stderr",
     "output_type": "stream",
     "text": [
      "Running DBSCAN:   0%|          | 0/3 [00:00<?, ?step/s]"
     ]
    },
    {
     "name": "stdout",
     "output_type": "stream",
     "text": [
      "Runtime for dbscan_clustering: 0.069840 seconds\n"
     ]
    },
    {
     "name": "stderr",
     "output_type": "stream",
     "text": [
      "Running DBSCAN: 100%|██████████| 3/3 [00:01<00:00,  1.73step/s]\n"
     ]
    },
    {
     "name": "stdout",
     "output_type": "stream",
     "text": [
      "\n",
      "DBSCAN result:\n"
     ]
    },
    {
     "name": "stderr",
     "output_type": "stream",
     "text": [
      "Running DBSCAN:   0%|          | 0/3 [00:00<?, ?step/s]"
     ]
    },
    {
     "name": "stdout",
     "output_type": "stream",
     "text": [
      "Runtime for dbscan_clustering: 0.089878 seconds\n"
     ]
    },
    {
     "name": "stderr",
     "output_type": "stream",
     "text": [
      "Running DBSCAN: 100%|██████████| 3/3 [00:01<00:00,  1.64step/s]\n"
     ]
    },
    {
     "name": "stdout",
     "output_type": "stream",
     "text": [
      "\n",
      "DBSCAN result:\n"
     ]
    },
    {
     "name": "stderr",
     "output_type": "stream",
     "text": [
      "Running DBSCAN:   0%|          | 0/3 [00:00<?, ?step/s]"
     ]
    },
    {
     "name": "stdout",
     "output_type": "stream",
     "text": [
      "Runtime for dbscan_clustering: 0.074101 seconds\n"
     ]
    },
    {
     "name": "stderr",
     "output_type": "stream",
     "text": [
      "Running DBSCAN: 100%|██████████| 3/3 [00:01<00:00,  1.57step/s]\n"
     ]
    },
    {
     "name": "stdout",
     "output_type": "stream",
     "text": [
      "\n",
      "DBSCAN result:\n"
     ]
    },
    {
     "name": "stderr",
     "output_type": "stream",
     "text": [
      "Running DBSCAN:  33%|███▎      | 1/3 [00:00<00:00,  7.97step/s]"
     ]
    },
    {
     "name": "stdout",
     "output_type": "stream",
     "text": [
      "Runtime for dbscan_clustering: 0.125517 seconds\n"
     ]
    },
    {
     "name": "stderr",
     "output_type": "stream",
     "text": [
      "Running DBSCAN: 100%|██████████| 3/3 [00:01<00:00,  1.63step/s]\n"
     ]
    },
    {
     "name": "stdout",
     "output_type": "stream",
     "text": [
      "\n",
      "DBSCAN result:\n"
     ]
    },
    {
     "name": "stderr",
     "output_type": "stream",
     "text": [
      "Running DBSCAN:   0%|          | 0/3 [00:00<?, ?step/s]"
     ]
    },
    {
     "name": "stdout",
     "output_type": "stream",
     "text": [
      "Runtime for dbscan_clustering: 0.057885 seconds\n"
     ]
    },
    {
     "name": "stderr",
     "output_type": "stream",
     "text": [
      "Running DBSCAN: 100%|██████████| 3/3 [00:01<00:00,  1.73step/s]\n"
     ]
    },
    {
     "name": "stdout",
     "output_type": "stream",
     "text": [
      "\n",
      "DBSCAN result:\n"
     ]
    },
    {
     "name": "stderr",
     "output_type": "stream",
     "text": [
      "Running DBSCAN:   0%|          | 0/3 [00:00<?, ?step/s]"
     ]
    },
    {
     "name": "stdout",
     "output_type": "stream",
     "text": [
      "Runtime for dbscan_clustering: 0.083636 seconds\n"
     ]
    },
    {
     "name": "stderr",
     "output_type": "stream",
     "text": [
      "Running DBSCAN: 100%|██████████| 3/3 [00:01<00:00,  1.74step/s]\n"
     ]
    },
    {
     "name": "stdout",
     "output_type": "stream",
     "text": [
      "\n",
      "DBSCAN result:\n"
     ]
    },
    {
     "name": "stderr",
     "output_type": "stream",
     "text": [
      "Running DBSCAN:   0%|          | 0/3 [00:00<?, ?step/s]"
     ]
    },
    {
     "name": "stdout",
     "output_type": "stream",
     "text": [
      "Runtime for dbscan_clustering: 0.090616 seconds\n"
     ]
    },
    {
     "name": "stderr",
     "output_type": "stream",
     "text": [
      "Running DBSCAN: 100%|██████████| 3/3 [00:01<00:00,  1.60step/s]\n"
     ]
    },
    {
     "name": "stdout",
     "output_type": "stream",
     "text": [
      "\n",
      "DBSCAN result:\n"
     ]
    },
    {
     "name": "stderr",
     "output_type": "stream",
     "text": [
      "Running DBSCAN:   0%|          | 0/3 [00:00<?, ?step/s]"
     ]
    },
    {
     "name": "stdout",
     "output_type": "stream",
     "text": [
      "Runtime for dbscan_clustering: 0.068704 seconds\n"
     ]
    },
    {
     "name": "stderr",
     "output_type": "stream",
     "text": [
      "Running DBSCAN: 100%|██████████| 3/3 [00:01<00:00,  1.58step/s]\n"
     ]
    },
    {
     "name": "stdout",
     "output_type": "stream",
     "text": [
      "\n",
      "DBSCAN result:\n"
     ]
    },
    {
     "name": "stderr",
     "output_type": "stream",
     "text": [
      "Running DBSCAN:   0%|          | 0/3 [00:00<?, ?step/s]"
     ]
    },
    {
     "name": "stdout",
     "output_type": "stream",
     "text": [
      "Runtime for dbscan_clustering: 0.075320 seconds\n"
     ]
    },
    {
     "name": "stderr",
     "output_type": "stream",
     "text": [
      "Running DBSCAN: 100%|██████████| 3/3 [00:01<00:00,  1.72step/s]\n"
     ]
    },
    {
     "name": "stdout",
     "output_type": "stream",
     "text": [
      "\n",
      "DBSCAN result:\n"
     ]
    },
    {
     "name": "stderr",
     "output_type": "stream",
     "text": [
      "Running DBSCAN:   0%|          | 0/3 [00:00<?, ?step/s]"
     ]
    },
    {
     "name": "stdout",
     "output_type": "stream",
     "text": [
      "Runtime for dbscan_clustering: 0.087537 seconds\n"
     ]
    },
    {
     "name": "stderr",
     "output_type": "stream",
     "text": [
      "Running DBSCAN: 100%|██████████| 3/3 [00:01<00:00,  1.65step/s]\n"
     ]
    },
    {
     "name": "stdout",
     "output_type": "stream",
     "text": [
      "\n",
      "DBSCAN result:\n"
     ]
    },
    {
     "name": "stderr",
     "output_type": "stream",
     "text": [
      "Running DBSCAN:   0%|          | 0/3 [00:00<?, ?step/s]"
     ]
    },
    {
     "name": "stdout",
     "output_type": "stream",
     "text": [
      "Runtime for dbscan_clustering: 0.096570 seconds\n"
     ]
    },
    {
     "name": "stderr",
     "output_type": "stream",
     "text": [
      "Running DBSCAN: 100%|██████████| 3/3 [00:01<00:00,  1.78step/s]\n"
     ]
    },
    {
     "name": "stdout",
     "output_type": "stream",
     "text": [
      "\n",
      "DBSCAN result:\n"
     ]
    },
    {
     "name": "stderr",
     "output_type": "stream",
     "text": [
      "Running DBSCAN:   0%|          | 0/3 [00:00<?, ?step/s]"
     ]
    },
    {
     "name": "stdout",
     "output_type": "stream",
     "text": [
      "Runtime for dbscan_clustering: 0.096202 seconds\n"
     ]
    },
    {
     "name": "stderr",
     "output_type": "stream",
     "text": [
      "Running DBSCAN: 100%|██████████| 3/3 [00:02<00:00,  1.45step/s]\n"
     ]
    },
    {
     "name": "stdout",
     "output_type": "stream",
     "text": [
      "\n",
      "DBSCAN result:\n"
     ]
    },
    {
     "name": "stderr",
     "output_type": "stream",
     "text": [
      "Running DBSCAN:   0%|          | 0/3 [00:00<?, ?step/s]"
     ]
    },
    {
     "name": "stdout",
     "output_type": "stream",
     "text": [
      "Runtime for dbscan_clustering: 0.089146 seconds\n"
     ]
    },
    {
     "name": "stderr",
     "output_type": "stream",
     "text": [
      "Running DBSCAN: 100%|██████████| 3/3 [00:01<00:00,  1.59step/s]\n"
     ]
    },
    {
     "name": "stdout",
     "output_type": "stream",
     "text": [
      "\n",
      "DBSCAN result:\n"
     ]
    },
    {
     "name": "stderr",
     "output_type": "stream",
     "text": [
      "Running DBSCAN:   0%|          | 0/3 [00:00<?, ?step/s]"
     ]
    },
    {
     "name": "stdout",
     "output_type": "stream",
     "text": [
      "Runtime for dbscan_clustering: 0.078963 seconds\n"
     ]
    },
    {
     "name": "stderr",
     "output_type": "stream",
     "text": [
      "Running DBSCAN: 100%|██████████| 3/3 [00:01<00:00,  1.69step/s]\n"
     ]
    },
    {
     "name": "stdout",
     "output_type": "stream",
     "text": [
      "\n",
      "DBSCAN result:\n"
     ]
    },
    {
     "name": "stderr",
     "output_type": "stream",
     "text": [
      "Running DBSCAN:   0%|          | 0/3 [00:00<?, ?step/s]"
     ]
    },
    {
     "name": "stdout",
     "output_type": "stream",
     "text": [
      "Runtime for dbscan_clustering: 0.085845 seconds\n"
     ]
    },
    {
     "name": "stderr",
     "output_type": "stream",
     "text": [
      "Running DBSCAN: 100%|██████████| 3/3 [00:01<00:00,  1.72step/s]\n"
     ]
    },
    {
     "name": "stdout",
     "output_type": "stream",
     "text": [
      "\n",
      "DBSCAN result:\n"
     ]
    },
    {
     "name": "stderr",
     "output_type": "stream",
     "text": [
      "Running DBSCAN:   0%|          | 0/3 [00:00<?, ?step/s]"
     ]
    },
    {
     "name": "stdout",
     "output_type": "stream",
     "text": [
      "Runtime for dbscan_clustering: 0.095839 seconds\n"
     ]
    },
    {
     "name": "stderr",
     "output_type": "stream",
     "text": [
      "Running DBSCAN: 100%|██████████| 3/3 [00:01<00:00,  1.58step/s]\n"
     ]
    },
    {
     "name": "stdout",
     "output_type": "stream",
     "text": [
      "\n",
      "DBSCAN result:\n"
     ]
    },
    {
     "name": "stderr",
     "output_type": "stream",
     "text": [
      "Running DBSCAN:  33%|███▎      | 1/3 [00:00<00:00,  7.88step/s]"
     ]
    },
    {
     "name": "stdout",
     "output_type": "stream",
     "text": [
      "Runtime for dbscan_clustering: 0.126923 seconds\n"
     ]
    },
    {
     "name": "stderr",
     "output_type": "stream",
     "text": [
      "Running DBSCAN: 100%|██████████| 3/3 [00:01<00:00,  1.55step/s]\n"
     ]
    },
    {
     "name": "stdout",
     "output_type": "stream",
     "text": [
      "\n",
      "DBSCAN result:\n"
     ]
    },
    {
     "name": "stderr",
     "output_type": "stream",
     "text": [
      "Running DBSCAN:   0%|          | 0/3 [00:00<?, ?step/s]"
     ]
    },
    {
     "name": "stdout",
     "output_type": "stream",
     "text": [
      "Runtime for dbscan_clustering: 0.092114 seconds\n"
     ]
    },
    {
     "name": "stderr",
     "output_type": "stream",
     "text": [
      "Running DBSCAN: 100%|██████████| 3/3 [00:01<00:00,  1.64step/s]\n"
     ]
    },
    {
     "name": "stdout",
     "output_type": "stream",
     "text": [
      "\n",
      "DBSCAN result:\n"
     ]
    },
    {
     "name": "stderr",
     "output_type": "stream",
     "text": [
      "Running DBSCAN:   0%|          | 0/3 [00:00<?, ?step/s]"
     ]
    },
    {
     "name": "stdout",
     "output_type": "stream",
     "text": [
      "Runtime for dbscan_clustering: 0.085268 seconds\n"
     ]
    },
    {
     "name": "stderr",
     "output_type": "stream",
     "text": [
      "Running DBSCAN: 100%|██████████| 3/3 [00:01<00:00,  1.61step/s]\n"
     ]
    },
    {
     "name": "stdout",
     "output_type": "stream",
     "text": [
      "\n",
      "DBSCAN result:\n"
     ]
    },
    {
     "name": "stderr",
     "output_type": "stream",
     "text": [
      "Running DBSCAN:   0%|          | 0/3 [00:00<?, ?step/s]"
     ]
    },
    {
     "name": "stdout",
     "output_type": "stream",
     "text": [
      "Runtime for dbscan_clustering: 0.084248 seconds\n"
     ]
    },
    {
     "name": "stderr",
     "output_type": "stream",
     "text": [
      "Running DBSCAN: 100%|██████████| 3/3 [00:01<00:00,  1.61step/s]\n"
     ]
    },
    {
     "name": "stdout",
     "output_type": "stream",
     "text": [
      "\n",
      "DBSCAN result:\n"
     ]
    },
    {
     "name": "stderr",
     "output_type": "stream",
     "text": [
      "Running DBSCAN:   0%|          | 0/3 [00:00<?, ?step/s]"
     ]
    },
    {
     "name": "stdout",
     "output_type": "stream",
     "text": [
      "Runtime for dbscan_clustering: 0.095553 seconds\n"
     ]
    },
    {
     "name": "stderr",
     "output_type": "stream",
     "text": [
      "Running DBSCAN: 100%|██████████| 3/3 [00:01<00:00,  1.67step/s]\n"
     ]
    },
    {
     "name": "stdout",
     "output_type": "stream",
     "text": [
      "\n",
      "DBSCAN result:\n"
     ]
    },
    {
     "name": "stderr",
     "output_type": "stream",
     "text": [
      "Running DBSCAN:  33%|███▎      | 1/3 [00:00<00:00,  4.74step/s]"
     ]
    },
    {
     "name": "stdout",
     "output_type": "stream",
     "text": [
      "Runtime for dbscan_clustering: 0.210922 seconds\n"
     ]
    },
    {
     "name": "stderr",
     "output_type": "stream",
     "text": [
      "Running DBSCAN: 100%|██████████| 3/3 [00:01<00:00,  1.52step/s]\n"
     ]
    },
    {
     "name": "stdout",
     "output_type": "stream",
     "text": [
      "\n",
      "DBSCAN result:\n"
     ]
    },
    {
     "name": "stderr",
     "output_type": "stream",
     "text": [
      "Running DBSCAN:  33%|███▎      | 1/3 [00:00<00:00,  6.67step/s]"
     ]
    },
    {
     "name": "stdout",
     "output_type": "stream",
     "text": [
      "Runtime for dbscan_clustering: 0.149940 seconds\n"
     ]
    },
    {
     "name": "stderr",
     "output_type": "stream",
     "text": [
      "Running DBSCAN: 100%|██████████| 3/3 [00:02<00:00,  1.48step/s]\n"
     ]
    },
    {
     "name": "stdout",
     "output_type": "stream",
     "text": [
      "\n",
      "DBSCAN result:\n"
     ]
    },
    {
     "name": "stderr",
     "output_type": "stream",
     "text": [
      "Running DBSCAN:  33%|███▎      | 1/3 [00:00<00:00,  4.39step/s]"
     ]
    },
    {
     "name": "stdout",
     "output_type": "stream",
     "text": [
      "Runtime for dbscan_clustering: 0.227816 seconds\n"
     ]
    },
    {
     "name": "stderr",
     "output_type": "stream",
     "text": [
      "Running DBSCAN: 100%|██████████| 3/3 [00:02<00:00,  1.48step/s]\n"
     ]
    },
    {
     "name": "stdout",
     "output_type": "stream",
     "text": [
      "\n",
      "DBSCAN result:\n"
     ]
    },
    {
     "name": "stderr",
     "output_type": "stream",
     "text": [
      "Running DBSCAN:  33%|███▎      | 1/3 [00:00<00:00,  6.33step/s]"
     ]
    },
    {
     "name": "stdout",
     "output_type": "stream",
     "text": [
      "Runtime for dbscan_clustering: 0.146843 seconds\n"
     ]
    },
    {
     "name": "stderr",
     "output_type": "stream",
     "text": [
      "Running DBSCAN: 100%|██████████| 3/3 [00:01<00:00,  1.53step/s]\n"
     ]
    },
    {
     "name": "stdout",
     "output_type": "stream",
     "text": [
      "\n",
      "DBSCAN result:\n"
     ]
    },
    {
     "name": "stderr",
     "output_type": "stream",
     "text": [
      "Running DBSCAN:  33%|███▎      | 1/3 [00:00<00:00,  6.70step/s]"
     ]
    },
    {
     "name": "stdout",
     "output_type": "stream",
     "text": [
      "Runtime for dbscan_clustering: 0.147343 seconds\n"
     ]
    },
    {
     "name": "stderr",
     "output_type": "stream",
     "text": [
      "Running DBSCAN: 100%|██████████| 3/3 [00:01<00:00,  1.59step/s]\n",
      "c:\\Users\\fionu\\OneDrive\\Dokumente\\Daten Fiona\\AIUB\\Code\\clustering\\cluster_plotter.py:92: UserWarning: No artists with labels found to put in legend.  Note that artists whose label start with an underscore are ignored when legend() is called with no argument.\n",
      "  plt.legend()\n"
     ]
    },
    {
     "name": "stdout",
     "output_type": "stream",
     "text": [
      "Plot saved as: dbscan_grid_search_normal_bins_observed\\dbscan_2006-2009_best.png\n",
      "Best for 2006-2009: eps = 0.05, min_samples = 7, silhouette = 0.239\n",
      "\n",
      "Running DBSCAN for Year Range: 2010-2013\n",
      "\n",
      "DBSCAN result:\n"
     ]
    },
    {
     "name": "stderr",
     "output_type": "stream",
     "text": [
      "Running DBSCAN:   0%|          | 0/3 [00:00<?, ?step/s]"
     ]
    },
    {
     "name": "stdout",
     "output_type": "stream",
     "text": [
      "Runtime for dbscan_clustering: 0.022561 seconds\n"
     ]
    },
    {
     "name": "stderr",
     "output_type": "stream",
     "text": [
      "Running DBSCAN: 100%|██████████| 3/3 [00:00<00:00,  7.67step/s]\n"
     ]
    },
    {
     "name": "stdout",
     "output_type": "stream",
     "text": [
      "\n",
      "DBSCAN result:\n"
     ]
    },
    {
     "name": "stderr",
     "output_type": "stream",
     "text": [
      "Running DBSCAN:   0%|          | 0/3 [00:00<?, ?step/s]"
     ]
    },
    {
     "name": "stdout",
     "output_type": "stream",
     "text": [
      "Runtime for dbscan_clustering: 0.035780 seconds\n"
     ]
    },
    {
     "name": "stderr",
     "output_type": "stream",
     "text": [
      "Running DBSCAN: 100%|██████████| 3/3 [00:00<00:00,  5.48step/s]\n"
     ]
    },
    {
     "name": "stdout",
     "output_type": "stream",
     "text": [
      "\n",
      "DBSCAN result:\n"
     ]
    },
    {
     "name": "stderr",
     "output_type": "stream",
     "text": [
      "Running DBSCAN:   0%|          | 0/3 [00:00<?, ?step/s]"
     ]
    },
    {
     "name": "stdout",
     "output_type": "stream",
     "text": [
      "Runtime for dbscan_clustering: 0.022783 seconds\n"
     ]
    },
    {
     "name": "stderr",
     "output_type": "stream",
     "text": [
      "Running DBSCAN: 100%|██████████| 3/3 [00:00<00:00,  8.89step/s]\n"
     ]
    },
    {
     "name": "stdout",
     "output_type": "stream",
     "text": [
      "\n",
      "DBSCAN result:\n"
     ]
    },
    {
     "name": "stderr",
     "output_type": "stream",
     "text": [
      "Running DBSCAN:   0%|          | 0/3 [00:00<?, ?step/s]"
     ]
    },
    {
     "name": "stdout",
     "output_type": "stream",
     "text": [
      "Runtime for dbscan_clustering: 0.034362 seconds\n"
     ]
    },
    {
     "name": "stderr",
     "output_type": "stream",
     "text": [
      "Running DBSCAN: 100%|██████████| 3/3 [00:00<00:00,  8.79step/s]\n"
     ]
    },
    {
     "name": "stdout",
     "output_type": "stream",
     "text": [
      "\n",
      "DBSCAN result:\n"
     ]
    },
    {
     "name": "stderr",
     "output_type": "stream",
     "text": [
      "Running DBSCAN:   0%|          | 0/3 [00:00<?, ?step/s]"
     ]
    },
    {
     "name": "stdout",
     "output_type": "stream",
     "text": [
      "Runtime for dbscan_clustering: 0.026009 seconds\n"
     ]
    },
    {
     "name": "stderr",
     "output_type": "stream",
     "text": [
      "Running DBSCAN: 100%|██████████| 3/3 [00:00<00:00, 10.29step/s]\n"
     ]
    },
    {
     "name": "stdout",
     "output_type": "stream",
     "text": [
      "\n",
      "DBSCAN result:\n"
     ]
    },
    {
     "name": "stderr",
     "output_type": "stream",
     "text": [
      "Running DBSCAN:   0%|          | 0/3 [00:00<?, ?step/s]"
     ]
    },
    {
     "name": "stdout",
     "output_type": "stream",
     "text": [
      "Runtime for dbscan_clustering: 0.028632 seconds\n"
     ]
    },
    {
     "name": "stderr",
     "output_type": "stream",
     "text": [
      "Running DBSCAN: 100%|██████████| 3/3 [00:00<00:00,  7.89step/s]\n"
     ]
    },
    {
     "name": "stdout",
     "output_type": "stream",
     "text": [
      "\n",
      "DBSCAN result:\n"
     ]
    },
    {
     "name": "stderr",
     "output_type": "stream",
     "text": [
      "Running DBSCAN:   0%|          | 0/3 [00:00<?, ?step/s]"
     ]
    },
    {
     "name": "stdout",
     "output_type": "stream",
     "text": [
      "Runtime for dbscan_clustering: 0.032671 seconds\n"
     ]
    },
    {
     "name": "stderr",
     "output_type": "stream",
     "text": [
      "Running DBSCAN: 100%|██████████| 3/3 [00:00<00:00,  6.50step/s]\n"
     ]
    },
    {
     "name": "stdout",
     "output_type": "stream",
     "text": [
      "\n",
      "DBSCAN result:\n"
     ]
    },
    {
     "name": "stderr",
     "output_type": "stream",
     "text": [
      "Running DBSCAN:   0%|          | 0/3 [00:00<?, ?step/s]"
     ]
    },
    {
     "name": "stdout",
     "output_type": "stream",
     "text": [
      "Runtime for dbscan_clustering: 0.030374 seconds\n"
     ]
    },
    {
     "name": "stderr",
     "output_type": "stream",
     "text": [
      "Running DBSCAN: 100%|██████████| 3/3 [00:00<00:00,  8.41step/s]\n"
     ]
    },
    {
     "name": "stdout",
     "output_type": "stream",
     "text": [
      "\n",
      "DBSCAN result:\n"
     ]
    },
    {
     "name": "stderr",
     "output_type": "stream",
     "text": [
      "Running DBSCAN:   0%|          | 0/3 [00:00<?, ?step/s]"
     ]
    },
    {
     "name": "stdout",
     "output_type": "stream",
     "text": [
      "Runtime for dbscan_clustering: 0.022318 seconds\n"
     ]
    },
    {
     "name": "stderr",
     "output_type": "stream",
     "text": [
      "Running DBSCAN: 100%|██████████| 3/3 [00:00<00:00, 10.28step/s]\n"
     ]
    },
    {
     "name": "stdout",
     "output_type": "stream",
     "text": [
      "\n",
      "DBSCAN result:\n"
     ]
    },
    {
     "name": "stderr",
     "output_type": "stream",
     "text": [
      "Running DBSCAN:   0%|          | 0/3 [00:00<?, ?step/s]"
     ]
    },
    {
     "name": "stdout",
     "output_type": "stream",
     "text": [
      "Runtime for dbscan_clustering: 0.034007 seconds\n"
     ]
    },
    {
     "name": "stderr",
     "output_type": "stream",
     "text": [
      "Running DBSCAN: 100%|██████████| 3/3 [00:00<00:00,  9.00step/s]\n"
     ]
    },
    {
     "name": "stdout",
     "output_type": "stream",
     "text": [
      "\n",
      "DBSCAN result:\n"
     ]
    },
    {
     "name": "stderr",
     "output_type": "stream",
     "text": [
      "Running DBSCAN:   0%|          | 0/3 [00:00<?, ?step/s]"
     ]
    },
    {
     "name": "stdout",
     "output_type": "stream",
     "text": [
      "Runtime for dbscan_clustering: 0.038664 seconds\n"
     ]
    },
    {
     "name": "stderr",
     "output_type": "stream",
     "text": [
      "Running DBSCAN: 100%|██████████| 3/3 [00:00<00:00,  8.65step/s]\n"
     ]
    },
    {
     "name": "stdout",
     "output_type": "stream",
     "text": [
      "\n",
      "DBSCAN result:\n"
     ]
    },
    {
     "name": "stderr",
     "output_type": "stream",
     "text": [
      "Running DBSCAN:   0%|          | 0/3 [00:00<?, ?step/s]"
     ]
    },
    {
     "name": "stdout",
     "output_type": "stream",
     "text": [
      "Runtime for dbscan_clustering: 0.032554 seconds\n"
     ]
    },
    {
     "name": "stderr",
     "output_type": "stream",
     "text": [
      "Running DBSCAN: 100%|██████████| 3/3 [00:00<00:00,  8.98step/s]\n"
     ]
    },
    {
     "name": "stdout",
     "output_type": "stream",
     "text": [
      "\n",
      "DBSCAN result:\n"
     ]
    },
    {
     "name": "stderr",
     "output_type": "stream",
     "text": [
      "Running DBSCAN:   0%|          | 0/3 [00:00<?, ?step/s]"
     ]
    },
    {
     "name": "stdout",
     "output_type": "stream",
     "text": [
      "Runtime for dbscan_clustering: 0.033837 seconds\n"
     ]
    },
    {
     "name": "stderr",
     "output_type": "stream",
     "text": [
      "Running DBSCAN: 100%|██████████| 3/3 [00:00<00:00,  7.25step/s]\n"
     ]
    },
    {
     "name": "stdout",
     "output_type": "stream",
     "text": [
      "\n",
      "DBSCAN result:\n"
     ]
    },
    {
     "name": "stderr",
     "output_type": "stream",
     "text": [
      "Running DBSCAN:   0%|          | 0/3 [00:00<?, ?step/s]"
     ]
    },
    {
     "name": "stdout",
     "output_type": "stream",
     "text": [
      "Runtime for dbscan_clustering: 0.046727 seconds\n"
     ]
    },
    {
     "name": "stderr",
     "output_type": "stream",
     "text": [
      "Running DBSCAN: 100%|██████████| 3/3 [00:00<00:00,  9.92step/s]\n"
     ]
    },
    {
     "name": "stdout",
     "output_type": "stream",
     "text": [
      "\n",
      "DBSCAN result:\n"
     ]
    },
    {
     "name": "stderr",
     "output_type": "stream",
     "text": [
      "Running DBSCAN:   0%|          | 0/3 [00:00<?, ?step/s]"
     ]
    },
    {
     "name": "stdout",
     "output_type": "stream",
     "text": [
      "Runtime for dbscan_clustering: 0.018312 seconds\n"
     ]
    },
    {
     "name": "stderr",
     "output_type": "stream",
     "text": [
      "Running DBSCAN: 100%|██████████| 3/3 [00:00<00:00,  7.47step/s]\n"
     ]
    },
    {
     "name": "stdout",
     "output_type": "stream",
     "text": [
      "\n",
      "DBSCAN result:\n"
     ]
    },
    {
     "name": "stderr",
     "output_type": "stream",
     "text": [
      "Running DBSCAN:   0%|          | 0/3 [00:00<?, ?step/s]"
     ]
    },
    {
     "name": "stdout",
     "output_type": "stream",
     "text": [
      "Runtime for dbscan_clustering: 0.029245 seconds\n"
     ]
    },
    {
     "name": "stderr",
     "output_type": "stream",
     "text": [
      "Running DBSCAN: 100%|██████████| 3/3 [00:00<00:00,  8.90step/s]\n"
     ]
    },
    {
     "name": "stdout",
     "output_type": "stream",
     "text": [
      "\n",
      "DBSCAN result:\n"
     ]
    },
    {
     "name": "stderr",
     "output_type": "stream",
     "text": [
      "Running DBSCAN:   0%|          | 0/3 [00:00<?, ?step/s]"
     ]
    },
    {
     "name": "stdout",
     "output_type": "stream",
     "text": [
      "Runtime for dbscan_clustering: 0.031609 seconds\n"
     ]
    },
    {
     "name": "stderr",
     "output_type": "stream",
     "text": [
      "Running DBSCAN: 100%|██████████| 3/3 [00:00<00:00,  9.65step/s]\n"
     ]
    },
    {
     "name": "stdout",
     "output_type": "stream",
     "text": [
      "\n",
      "DBSCAN result:\n"
     ]
    },
    {
     "name": "stderr",
     "output_type": "stream",
     "text": [
      "Running DBSCAN:   0%|          | 0/3 [00:00<?, ?step/s]"
     ]
    },
    {
     "name": "stdout",
     "output_type": "stream",
     "text": [
      "Runtime for dbscan_clustering: 0.035461 seconds\n"
     ]
    },
    {
     "name": "stderr",
     "output_type": "stream",
     "text": [
      "Running DBSCAN: 100%|██████████| 3/3 [00:00<00:00,  9.73step/s]\n"
     ]
    },
    {
     "name": "stdout",
     "output_type": "stream",
     "text": [
      "\n",
      "DBSCAN result:\n"
     ]
    },
    {
     "name": "stderr",
     "output_type": "stream",
     "text": [
      "Running DBSCAN:   0%|          | 0/3 [00:00<?, ?step/s]"
     ]
    },
    {
     "name": "stdout",
     "output_type": "stream",
     "text": [
      "Runtime for dbscan_clustering: 0.028428 seconds\n"
     ]
    },
    {
     "name": "stderr",
     "output_type": "stream",
     "text": [
      "Running DBSCAN: 100%|██████████| 3/3 [00:00<00:00, 10.22step/s]\n"
     ]
    },
    {
     "name": "stdout",
     "output_type": "stream",
     "text": [
      "\n",
      "DBSCAN result:\n"
     ]
    },
    {
     "name": "stderr",
     "output_type": "stream",
     "text": [
      "Running DBSCAN:   0%|          | 0/3 [00:00<?, ?step/s]"
     ]
    },
    {
     "name": "stdout",
     "output_type": "stream",
     "text": [
      "Runtime for dbscan_clustering: 0.035385 seconds\n"
     ]
    },
    {
     "name": "stderr",
     "output_type": "stream",
     "text": [
      "Running DBSCAN: 100%|██████████| 3/3 [00:00<00:00,  7.23step/s]\n"
     ]
    },
    {
     "name": "stdout",
     "output_type": "stream",
     "text": [
      "\n",
      "DBSCAN result:\n"
     ]
    },
    {
     "name": "stderr",
     "output_type": "stream",
     "text": [
      "Running DBSCAN:   0%|          | 0/3 [00:00<?, ?step/s]"
     ]
    },
    {
     "name": "stdout",
     "output_type": "stream",
     "text": [
      "Runtime for dbscan_clustering: 0.037885 seconds\n"
     ]
    },
    {
     "name": "stderr",
     "output_type": "stream",
     "text": [
      "Running DBSCAN: 100%|██████████| 3/3 [00:00<00:00,  8.38step/s]\n"
     ]
    },
    {
     "name": "stdout",
     "output_type": "stream",
     "text": [
      "\n",
      "DBSCAN result:\n"
     ]
    },
    {
     "name": "stderr",
     "output_type": "stream",
     "text": [
      "Running DBSCAN:   0%|          | 0/3 [00:00<?, ?step/s]"
     ]
    },
    {
     "name": "stdout",
     "output_type": "stream",
     "text": [
      "Runtime for dbscan_clustering: 0.037755 seconds\n"
     ]
    },
    {
     "name": "stderr",
     "output_type": "stream",
     "text": [
      "Running DBSCAN: 100%|██████████| 3/3 [00:00<00:00,  9.25step/s]\n"
     ]
    },
    {
     "name": "stdout",
     "output_type": "stream",
     "text": [
      "\n",
      "DBSCAN result:\n"
     ]
    },
    {
     "name": "stderr",
     "output_type": "stream",
     "text": [
      "Running DBSCAN:   0%|          | 0/3 [00:00<?, ?step/s]"
     ]
    },
    {
     "name": "stdout",
     "output_type": "stream",
     "text": [
      "Runtime for dbscan_clustering: 0.028234 seconds\n"
     ]
    },
    {
     "name": "stderr",
     "output_type": "stream",
     "text": [
      "Running DBSCAN: 100%|██████████| 3/3 [00:00<00:00, 10.25step/s]\n"
     ]
    },
    {
     "name": "stdout",
     "output_type": "stream",
     "text": [
      "\n",
      "DBSCAN result:\n"
     ]
    },
    {
     "name": "stderr",
     "output_type": "stream",
     "text": [
      "Running DBSCAN:   0%|          | 0/3 [00:00<?, ?step/s]"
     ]
    },
    {
     "name": "stdout",
     "output_type": "stream",
     "text": [
      "Runtime for dbscan_clustering: 0.029665 seconds\n"
     ]
    },
    {
     "name": "stderr",
     "output_type": "stream",
     "text": [
      "Running DBSCAN: 100%|██████████| 3/3 [00:00<00:00, 10.23step/s]\n"
     ]
    },
    {
     "name": "stdout",
     "output_type": "stream",
     "text": [
      "\n",
      "DBSCAN result:\n"
     ]
    },
    {
     "name": "stderr",
     "output_type": "stream",
     "text": [
      "Running DBSCAN:   0%|          | 0/3 [00:00<?, ?step/s]"
     ]
    },
    {
     "name": "stdout",
     "output_type": "stream",
     "text": [
      "Runtime for dbscan_clustering: 0.040127 seconds\n"
     ]
    },
    {
     "name": "stderr",
     "output_type": "stream",
     "text": [
      "Running DBSCAN: 100%|██████████| 3/3 [00:00<00:00,  9.90step/s]\n"
     ]
    },
    {
     "name": "stdout",
     "output_type": "stream",
     "text": [
      "\n",
      "DBSCAN result:\n"
     ]
    },
    {
     "name": "stderr",
     "output_type": "stream",
     "text": [
      "Running DBSCAN:   0%|          | 0/3 [00:00<?, ?step/s]"
     ]
    },
    {
     "name": "stdout",
     "output_type": "stream",
     "text": [
      "Runtime for dbscan_clustering: 0.047024 seconds\n"
     ]
    },
    {
     "name": "stderr",
     "output_type": "stream",
     "text": [
      "Running DBSCAN: 100%|██████████| 3/3 [00:00<00:00,  7.53step/s]\n"
     ]
    },
    {
     "name": "stdout",
     "output_type": "stream",
     "text": [
      "\n",
      "DBSCAN result:\n"
     ]
    },
    {
     "name": "stderr",
     "output_type": "stream",
     "text": [
      "Running DBSCAN:   0%|          | 0/3 [00:00<?, ?step/s]"
     ]
    },
    {
     "name": "stdout",
     "output_type": "stream",
     "text": [
      "Runtime for dbscan_clustering: 0.030711 seconds\n"
     ]
    },
    {
     "name": "stderr",
     "output_type": "stream",
     "text": [
      "Running DBSCAN: 100%|██████████| 3/3 [00:00<00:00,  6.57step/s]\n"
     ]
    },
    {
     "name": "stdout",
     "output_type": "stream",
     "text": [
      "\n",
      "DBSCAN result:\n"
     ]
    },
    {
     "name": "stderr",
     "output_type": "stream",
     "text": [
      "Running DBSCAN:   0%|          | 0/3 [00:00<?, ?step/s]"
     ]
    },
    {
     "name": "stdout",
     "output_type": "stream",
     "text": [
      "Runtime for dbscan_clustering: 0.032335 seconds\n"
     ]
    },
    {
     "name": "stderr",
     "output_type": "stream",
     "text": [
      "Running DBSCAN: 100%|██████████| 3/3 [00:00<00:00,  8.70step/s]\n"
     ]
    },
    {
     "name": "stdout",
     "output_type": "stream",
     "text": [
      "\n",
      "DBSCAN result:\n"
     ]
    },
    {
     "name": "stderr",
     "output_type": "stream",
     "text": [
      "Running DBSCAN:   0%|          | 0/3 [00:00<?, ?step/s]"
     ]
    },
    {
     "name": "stdout",
     "output_type": "stream",
     "text": [
      "Runtime for dbscan_clustering: 0.040496 seconds\n"
     ]
    },
    {
     "name": "stderr",
     "output_type": "stream",
     "text": [
      "Running DBSCAN: 100%|██████████| 3/3 [00:00<00:00,  9.70step/s]\n"
     ]
    },
    {
     "name": "stdout",
     "output_type": "stream",
     "text": [
      "\n",
      "DBSCAN result:\n"
     ]
    },
    {
     "name": "stderr",
     "output_type": "stream",
     "text": [
      "Running DBSCAN:   0%|          | 0/3 [00:00<?, ?step/s]"
     ]
    },
    {
     "name": "stdout",
     "output_type": "stream",
     "text": [
      "Runtime for dbscan_clustering: 0.028246 seconds\n"
     ]
    },
    {
     "name": "stderr",
     "output_type": "stream",
     "text": [
      "Running DBSCAN: 100%|██████████| 3/3 [00:00<00:00,  9.95step/s]\n"
     ]
    },
    {
     "name": "stdout",
     "output_type": "stream",
     "text": [
      "\n",
      "DBSCAN result:\n"
     ]
    },
    {
     "name": "stderr",
     "output_type": "stream",
     "text": [
      "Running DBSCAN:   0%|          | 0/3 [00:00<?, ?step/s]"
     ]
    },
    {
     "name": "stdout",
     "output_type": "stream",
     "text": [
      "Runtime for dbscan_clustering: 0.050154 seconds\n"
     ]
    },
    {
     "name": "stderr",
     "output_type": "stream",
     "text": [
      "Running DBSCAN: 100%|██████████| 3/3 [00:00<00:00,  9.49step/s]\n"
     ]
    },
    {
     "name": "stdout",
     "output_type": "stream",
     "text": [
      "\n",
      "DBSCAN result:\n"
     ]
    },
    {
     "name": "stderr",
     "output_type": "stream",
     "text": [
      "Running DBSCAN:   0%|          | 0/3 [00:00<?, ?step/s]"
     ]
    },
    {
     "name": "stdout",
     "output_type": "stream",
     "text": [
      "Runtime for dbscan_clustering: 0.049991 seconds\n"
     ]
    },
    {
     "name": "stderr",
     "output_type": "stream",
     "text": [
      "Running DBSCAN: 100%|██████████| 3/3 [00:00<00:00,  8.96step/s]\n"
     ]
    },
    {
     "name": "stdout",
     "output_type": "stream",
     "text": [
      "\n",
      "DBSCAN result:\n"
     ]
    },
    {
     "name": "stderr",
     "output_type": "stream",
     "text": [
      "Running DBSCAN:   0%|          | 0/3 [00:00<?, ?step/s]"
     ]
    },
    {
     "name": "stdout",
     "output_type": "stream",
     "text": [
      "Runtime for dbscan_clustering: 0.045316 seconds\n"
     ]
    },
    {
     "name": "stderr",
     "output_type": "stream",
     "text": [
      "Running DBSCAN: 100%|██████████| 3/3 [00:00<00:00,  9.36step/s]\n"
     ]
    },
    {
     "name": "stdout",
     "output_type": "stream",
     "text": [
      "\n",
      "DBSCAN result:\n"
     ]
    },
    {
     "name": "stderr",
     "output_type": "stream",
     "text": [
      "Running DBSCAN:   0%|          | 0/3 [00:00<?, ?step/s]"
     ]
    },
    {
     "name": "stdout",
     "output_type": "stream",
     "text": [
      "Runtime for dbscan_clustering: 0.087402 seconds\n"
     ]
    },
    {
     "name": "stderr",
     "output_type": "stream",
     "text": [
      "Running DBSCAN: 100%|██████████| 3/3 [00:00<00:00,  6.56step/s]\n"
     ]
    },
    {
     "name": "stdout",
     "output_type": "stream",
     "text": [
      "\n",
      "DBSCAN result:\n"
     ]
    },
    {
     "name": "stderr",
     "output_type": "stream",
     "text": [
      "Running DBSCAN:   0%|          | 0/3 [00:00<?, ?step/s]"
     ]
    },
    {
     "name": "stdout",
     "output_type": "stream",
     "text": [
      "Runtime for dbscan_clustering: 0.047300 seconds\n"
     ]
    },
    {
     "name": "stderr",
     "output_type": "stream",
     "text": [
      "Running DBSCAN: 100%|██████████| 3/3 [00:00<00:00,  9.57step/s]\n",
      "c:\\Users\\fionu\\OneDrive\\Dokumente\\Daten Fiona\\AIUB\\Code\\clustering\\cluster_plotter.py:92: UserWarning: No artists with labels found to put in legend.  Note that artists whose label start with an underscore are ignored when legend() is called with no argument.\n",
      "  plt.legend()\n"
     ]
    },
    {
     "name": "stdout",
     "output_type": "stream",
     "text": [
      "Plot saved as: dbscan_grid_search_normal_bins_observed\\dbscan_2010-2013_best.png\n",
      "Best for 2010-2013: eps = 0.05, min_samples = 20, silhouette = 0.158\n",
      "\n",
      "Running DBSCAN for Year Range: 2014-2017\n",
      "\n",
      "DBSCAN result:\n"
     ]
    },
    {
     "name": "stderr",
     "output_type": "stream",
     "text": [
      "Running DBSCAN:   0%|          | 0/3 [00:00<?, ?step/s]"
     ]
    },
    {
     "name": "stdout",
     "output_type": "stream",
     "text": [
      "Runtime for dbscan_clustering: 0.019952 seconds\n"
     ]
    },
    {
     "name": "stderr",
     "output_type": "stream",
     "text": [
      "Running DBSCAN: 100%|██████████| 3/3 [00:00<00:00,  9.82step/s]\n"
     ]
    },
    {
     "name": "stdout",
     "output_type": "stream",
     "text": [
      "\n",
      "DBSCAN result:\n"
     ]
    },
    {
     "name": "stderr",
     "output_type": "stream",
     "text": [
      "Running DBSCAN:   0%|          | 0/3 [00:00<?, ?step/s]"
     ]
    },
    {
     "name": "stdout",
     "output_type": "stream",
     "text": [
      "Runtime for dbscan_clustering: 0.017103 seconds\n"
     ]
    },
    {
     "name": "stderr",
     "output_type": "stream",
     "text": [
      "Running DBSCAN: 100%|██████████| 3/3 [00:00<00:00, 11.68step/s]\n"
     ]
    },
    {
     "name": "stdout",
     "output_type": "stream",
     "text": [
      "\n",
      "DBSCAN result:\n"
     ]
    },
    {
     "name": "stderr",
     "output_type": "stream",
     "text": [
      "Running DBSCAN:   0%|          | 0/3 [00:00<?, ?step/s]"
     ]
    },
    {
     "name": "stdout",
     "output_type": "stream",
     "text": [
      "Runtime for dbscan_clustering: 0.014763 seconds\n"
     ]
    },
    {
     "name": "stderr",
     "output_type": "stream",
     "text": [
      "Running DBSCAN: 100%|██████████| 3/3 [00:00<00:00, 13.12step/s]\n"
     ]
    },
    {
     "name": "stdout",
     "output_type": "stream",
     "text": [
      "\n",
      "DBSCAN result:\n"
     ]
    },
    {
     "name": "stderr",
     "output_type": "stream",
     "text": [
      "Running DBSCAN:   0%|          | 0/3 [00:00<?, ?step/s]"
     ]
    },
    {
     "name": "stdout",
     "output_type": "stream",
     "text": [
      "Runtime for dbscan_clustering: 0.022340 seconds\n"
     ]
    },
    {
     "name": "stderr",
     "output_type": "stream",
     "text": [
      "Running DBSCAN: 100%|██████████| 3/3 [00:00<00:00, 15.76step/s]\n"
     ]
    },
    {
     "name": "stdout",
     "output_type": "stream",
     "text": [
      "\n",
      "DBSCAN result:\n"
     ]
    },
    {
     "name": "stderr",
     "output_type": "stream",
     "text": [
      "Running DBSCAN:   0%|          | 0/3 [00:00<?, ?step/s]"
     ]
    },
    {
     "name": "stdout",
     "output_type": "stream",
     "text": [
      "Runtime for dbscan_clustering: 0.017533 seconds\n"
     ]
    },
    {
     "name": "stderr",
     "output_type": "stream",
     "text": [
      "Running DBSCAN: 100%|██████████| 3/3 [00:00<00:00, 16.74step/s]\n"
     ]
    },
    {
     "name": "stdout",
     "output_type": "stream",
     "text": [
      "\n",
      "DBSCAN result:\n"
     ]
    },
    {
     "name": "stderr",
     "output_type": "stream",
     "text": [
      "Running DBSCAN:   0%|          | 0/3 [00:00<?, ?step/s]"
     ]
    },
    {
     "name": "stdout",
     "output_type": "stream",
     "text": [
      "Runtime for dbscan_clustering: 0.022335 seconds\n"
     ]
    },
    {
     "name": "stderr",
     "output_type": "stream",
     "text": [
      "Running DBSCAN: 100%|██████████| 3/3 [00:00<00:00, 10.67step/s]\n"
     ]
    },
    {
     "name": "stdout",
     "output_type": "stream",
     "text": [
      "\n",
      "DBSCAN result:\n"
     ]
    },
    {
     "name": "stderr",
     "output_type": "stream",
     "text": [
      "Running DBSCAN:   0%|          | 0/3 [00:00<?, ?step/s]"
     ]
    },
    {
     "name": "stdout",
     "output_type": "stream",
     "text": [
      "Runtime for dbscan_clustering: 0.022771 seconds\n"
     ]
    },
    {
     "name": "stderr",
     "output_type": "stream",
     "text": [
      "Running DBSCAN: 100%|██████████| 3/3 [00:00<00:00,  8.57step/s]\n"
     ]
    },
    {
     "name": "stdout",
     "output_type": "stream",
     "text": [
      "\n",
      "DBSCAN result:\n"
     ]
    },
    {
     "name": "stderr",
     "output_type": "stream",
     "text": [
      "Running DBSCAN:  67%|██████▋   | 2/3 [00:00<00:00, 10.50step/s]"
     ]
    },
    {
     "name": "stdout",
     "output_type": "stream",
     "text": [
      "Runtime for dbscan_clustering: 0.012477 seconds\n"
     ]
    },
    {
     "name": "stderr",
     "output_type": "stream",
     "text": [
      "Running DBSCAN: 100%|██████████| 3/3 [00:00<00:00, 15.75step/s]\n"
     ]
    },
    {
     "name": "stdout",
     "output_type": "stream",
     "text": [
      "\n",
      "DBSCAN result:\n"
     ]
    },
    {
     "name": "stderr",
     "output_type": "stream",
     "text": [
      "Running DBSCAN: 100%|██████████| 3/3 [00:00<00:00, 16.79step/s]"
     ]
    },
    {
     "name": "stdout",
     "output_type": "stream",
     "text": [
      "Runtime for dbscan_clustering: 0.011085 seconds\n"
     ]
    },
    {
     "name": "stderr",
     "output_type": "stream",
     "text": [
      "\n"
     ]
    },
    {
     "name": "stdout",
     "output_type": "stream",
     "text": [
      "\n",
      "DBSCAN result:\n"
     ]
    },
    {
     "name": "stderr",
     "output_type": "stream",
     "text": [
      "Running DBSCAN:   0%|          | 0/3 [00:00<?, ?step/s]"
     ]
    },
    {
     "name": "stdout",
     "output_type": "stream",
     "text": [
      "Runtime for dbscan_clustering: 0.025065 seconds\n"
     ]
    },
    {
     "name": "stderr",
     "output_type": "stream",
     "text": [
      "Running DBSCAN: 100%|██████████| 3/3 [00:00<00:00, 14.86step/s]"
     ]
    },
    {
     "name": "stdout",
     "output_type": "stream",
     "text": [
      "\n",
      "DBSCAN result:\n"
     ]
    },
    {
     "name": "stderr",
     "output_type": "stream",
     "text": [
      "\n",
      "Running DBSCAN:   0%|          | 0/3 [00:00<?, ?step/s]"
     ]
    },
    {
     "name": "stdout",
     "output_type": "stream",
     "text": [
      "Runtime for dbscan_clustering: 0.019342 seconds\n"
     ]
    },
    {
     "name": "stderr",
     "output_type": "stream",
     "text": [
      "Running DBSCAN: 100%|██████████| 3/3 [00:00<00:00,  9.27step/s]\n"
     ]
    },
    {
     "name": "stdout",
     "output_type": "stream",
     "text": [
      "\n",
      "DBSCAN result:\n"
     ]
    },
    {
     "name": "stderr",
     "output_type": "stream",
     "text": [
      "Running DBSCAN:   0%|          | 0/3 [00:00<?, ?step/s]"
     ]
    },
    {
     "name": "stdout",
     "output_type": "stream",
     "text": [
      "Runtime for dbscan_clustering: 0.013376 seconds\n"
     ]
    },
    {
     "name": "stderr",
     "output_type": "stream",
     "text": [
      "Running DBSCAN: 100%|██████████| 3/3 [00:00<00:00, 12.26step/s]\n"
     ]
    },
    {
     "name": "stdout",
     "output_type": "stream",
     "text": [
      "\n",
      "DBSCAN result:\n"
     ]
    },
    {
     "name": "stderr",
     "output_type": "stream",
     "text": [
      "Running DBSCAN:   0%|          | 0/3 [00:00<?, ?step/s]"
     ]
    },
    {
     "name": "stdout",
     "output_type": "stream",
     "text": [
      "Runtime for dbscan_clustering: 0.017184 seconds\n"
     ]
    },
    {
     "name": "stderr",
     "output_type": "stream",
     "text": [
      "Running DBSCAN: 100%|██████████| 3/3 [00:00<00:00,  8.50step/s]\n"
     ]
    },
    {
     "name": "stdout",
     "output_type": "stream",
     "text": [
      "\n",
      "DBSCAN result:\n"
     ]
    },
    {
     "name": "stderr",
     "output_type": "stream",
     "text": [
      "Running DBSCAN:   0%|          | 0/3 [00:00<?, ?step/s]"
     ]
    },
    {
     "name": "stdout",
     "output_type": "stream",
     "text": [
      "Runtime for dbscan_clustering: 0.012027 seconds\n"
     ]
    },
    {
     "name": "stderr",
     "output_type": "stream",
     "text": [
      "Running DBSCAN: 100%|██████████| 3/3 [00:00<00:00, 14.63step/s]\n"
     ]
    },
    {
     "name": "stdout",
     "output_type": "stream",
     "text": [
      "\n",
      "DBSCAN result:\n"
     ]
    },
    {
     "name": "stderr",
     "output_type": "stream",
     "text": [
      "Running DBSCAN:  67%|██████▋   | 2/3 [00:00<00:00, 11.08step/s]"
     ]
    },
    {
     "name": "stdout",
     "output_type": "stream",
     "text": [
      "Runtime for dbscan_clustering: 0.016689 seconds\n"
     ]
    },
    {
     "name": "stderr",
     "output_type": "stream",
     "text": [
      "Running DBSCAN: 100%|██████████| 3/3 [00:00<00:00, 16.61step/s]\n"
     ]
    },
    {
     "name": "stdout",
     "output_type": "stream",
     "text": [
      "\n",
      "DBSCAN result:\n"
     ]
    },
    {
     "name": "stderr",
     "output_type": "stream",
     "text": [
      "Running DBSCAN:   0%|          | 0/3 [00:00<?, ?step/s]"
     ]
    },
    {
     "name": "stdout",
     "output_type": "stream",
     "text": [
      "Runtime for dbscan_clustering: 0.011395 seconds\n"
     ]
    },
    {
     "name": "stderr",
     "output_type": "stream",
     "text": [
      "Running DBSCAN: 100%|██████████| 3/3 [00:00<00:00, 11.13step/s]\n"
     ]
    },
    {
     "name": "stdout",
     "output_type": "stream",
     "text": [
      "\n",
      "DBSCAN result:\n"
     ]
    },
    {
     "name": "stderr",
     "output_type": "stream",
     "text": [
      "Running DBSCAN:   0%|          | 0/3 [00:00<?, ?step/s]"
     ]
    },
    {
     "name": "stdout",
     "output_type": "stream",
     "text": [
      "Runtime for dbscan_clustering: 0.026359 seconds\n"
     ]
    },
    {
     "name": "stderr",
     "output_type": "stream",
     "text": [
      "Running DBSCAN: 100%|██████████| 3/3 [00:00<00:00,  9.31step/s]\n"
     ]
    },
    {
     "name": "stdout",
     "output_type": "stream",
     "text": [
      "\n",
      "DBSCAN result:\n"
     ]
    },
    {
     "name": "stderr",
     "output_type": "stream",
     "text": [
      "Running DBSCAN:   0%|          | 0/3 [00:00<?, ?step/s]"
     ]
    },
    {
     "name": "stdout",
     "output_type": "stream",
     "text": [
      "Runtime for dbscan_clustering: 0.027847 seconds\n"
     ]
    },
    {
     "name": "stderr",
     "output_type": "stream",
     "text": [
      "Running DBSCAN: 100%|██████████| 3/3 [00:00<00:00, 12.11step/s]\n"
     ]
    },
    {
     "name": "stdout",
     "output_type": "stream",
     "text": [
      "\n",
      "DBSCAN result:\n"
     ]
    },
    {
     "name": "stderr",
     "output_type": "stream",
     "text": [
      "Running DBSCAN:   0%|          | 0/3 [00:00<?, ?step/s]"
     ]
    },
    {
     "name": "stdout",
     "output_type": "stream",
     "text": [
      "Runtime for dbscan_clustering: 0.027366 seconds\n"
     ]
    },
    {
     "name": "stderr",
     "output_type": "stream",
     "text": [
      "Running DBSCAN: 100%|██████████| 3/3 [00:00<00:00, 13.56step/s]\n"
     ]
    },
    {
     "name": "stdout",
     "output_type": "stream",
     "text": [
      "\n",
      "DBSCAN result:\n"
     ]
    },
    {
     "name": "stderr",
     "output_type": "stream",
     "text": [
      "Running DBSCAN:  67%|██████▋   | 2/3 [00:00<00:00, 10.59step/s]"
     ]
    },
    {
     "name": "stdout",
     "output_type": "stream",
     "text": [
      "Runtime for dbscan_clustering: 0.022225 seconds\n"
     ]
    },
    {
     "name": "stderr",
     "output_type": "stream",
     "text": [
      "Running DBSCAN: 100%|██████████| 3/3 [00:00<00:00, 15.00step/s]\n"
     ]
    },
    {
     "name": "stdout",
     "output_type": "stream",
     "text": [
      "\n",
      "DBSCAN result:\n"
     ]
    },
    {
     "name": "stderr",
     "output_type": "stream",
     "text": [
      "Running DBSCAN:   0%|          | 0/3 [00:00<?, ?step/s]"
     ]
    },
    {
     "name": "stdout",
     "output_type": "stream",
     "text": [
      "Runtime for dbscan_clustering: 0.021152 seconds\n"
     ]
    },
    {
     "name": "stderr",
     "output_type": "stream",
     "text": [
      "Running DBSCAN: 100%|██████████| 3/3 [00:00<00:00, 11.45step/s]\n"
     ]
    },
    {
     "name": "stdout",
     "output_type": "stream",
     "text": [
      "\n",
      "DBSCAN result:\n"
     ]
    },
    {
     "name": "stderr",
     "output_type": "stream",
     "text": [
      "Running DBSCAN:   0%|          | 0/3 [00:00<?, ?step/s]"
     ]
    },
    {
     "name": "stdout",
     "output_type": "stream",
     "text": [
      "Runtime for dbscan_clustering: 0.016399 seconds\n"
     ]
    },
    {
     "name": "stderr",
     "output_type": "stream",
     "text": [
      "Running DBSCAN: 100%|██████████| 3/3 [00:00<00:00, 13.93step/s]\n"
     ]
    },
    {
     "name": "stdout",
     "output_type": "stream",
     "text": [
      "\n",
      "DBSCAN result:\n"
     ]
    },
    {
     "name": "stderr",
     "output_type": "stream",
     "text": [
      "Running DBSCAN: 100%|██████████| 3/3 [00:00<00:00, 16.47step/s]\n"
     ]
    },
    {
     "name": "stdout",
     "output_type": "stream",
     "text": [
      "Runtime for dbscan_clustering: 0.026153 seconds\n",
      "\n",
      "DBSCAN result:\n"
     ]
    },
    {
     "name": "stderr",
     "output_type": "stream",
     "text": [
      "Running DBSCAN:   0%|          | 0/3 [00:00<?, ?step/s]"
     ]
    },
    {
     "name": "stdout",
     "output_type": "stream",
     "text": [
      "Runtime for dbscan_clustering: 0.017712 seconds\n"
     ]
    },
    {
     "name": "stderr",
     "output_type": "stream",
     "text": [
      "Running DBSCAN: 100%|██████████| 3/3 [00:00<00:00, 16.43step/s]\n"
     ]
    },
    {
     "name": "stdout",
     "output_type": "stream",
     "text": [
      "\n",
      "DBSCAN result:\n"
     ]
    },
    {
     "name": "stderr",
     "output_type": "stream",
     "text": [
      "Running DBSCAN:   0%|          | 0/3 [00:00<?, ?step/s]"
     ]
    },
    {
     "name": "stdout",
     "output_type": "stream",
     "text": [
      "Runtime for dbscan_clustering: 0.022128 seconds\n"
     ]
    },
    {
     "name": "stderr",
     "output_type": "stream",
     "text": [
      "Running DBSCAN: 100%|██████████| 3/3 [00:00<00:00, 16.75step/s]\n"
     ]
    },
    {
     "name": "stdout",
     "output_type": "stream",
     "text": [
      "\n",
      "DBSCAN result:\n"
     ]
    },
    {
     "name": "stderr",
     "output_type": "stream",
     "text": [
      "Running DBSCAN:   0%|          | 0/3 [00:00<?, ?step/s]"
     ]
    },
    {
     "name": "stdout",
     "output_type": "stream",
     "text": [
      "Runtime for dbscan_clustering: 0.016596 seconds\n"
     ]
    },
    {
     "name": "stderr",
     "output_type": "stream",
     "text": [
      "Running DBSCAN: 100%|██████████| 3/3 [00:00<00:00, 15.34step/s]\n"
     ]
    },
    {
     "name": "stdout",
     "output_type": "stream",
     "text": [
      "\n",
      "DBSCAN result:\n"
     ]
    },
    {
     "name": "stderr",
     "output_type": "stream",
     "text": [
      "Running DBSCAN:  67%|██████▋   | 2/3 [00:00<00:00, 11.05step/s]"
     ]
    },
    {
     "name": "stdout",
     "output_type": "stream",
     "text": [
      "Runtime for dbscan_clustering: 0.011438 seconds\n"
     ]
    },
    {
     "name": "stderr",
     "output_type": "stream",
     "text": [
      "Running DBSCAN: 100%|██████████| 3/3 [00:00<00:00, 15.58step/s]\n"
     ]
    },
    {
     "name": "stdout",
     "output_type": "stream",
     "text": [
      "\n",
      "DBSCAN result:\n"
     ]
    },
    {
     "name": "stderr",
     "output_type": "stream",
     "text": [
      "Running DBSCAN:   0%|          | 0/3 [00:00<?, ?step/s]"
     ]
    },
    {
     "name": "stdout",
     "output_type": "stream",
     "text": [
      "Runtime for dbscan_clustering: 0.022422 seconds\n"
     ]
    },
    {
     "name": "stderr",
     "output_type": "stream",
     "text": [
      "Running DBSCAN: 100%|██████████| 3/3 [00:00<00:00, 15.74step/s]\n"
     ]
    },
    {
     "name": "stdout",
     "output_type": "stream",
     "text": [
      "\n",
      "DBSCAN result:\n"
     ]
    },
    {
     "name": "stderr",
     "output_type": "stream",
     "text": [
      "Running DBSCAN:   0%|          | 0/3 [00:00<?, ?step/s]"
     ]
    },
    {
     "name": "stdout",
     "output_type": "stream",
     "text": [
      "Runtime for dbscan_clustering: 0.021768 seconds\n"
     ]
    },
    {
     "name": "stderr",
     "output_type": "stream",
     "text": [
      "Running DBSCAN: 100%|██████████| 3/3 [00:00<00:00, 10.77step/s]\n"
     ]
    },
    {
     "name": "stdout",
     "output_type": "stream",
     "text": [
      "\n",
      "DBSCAN result:\n"
     ]
    },
    {
     "name": "stderr",
     "output_type": "stream",
     "text": [
      "Running DBSCAN: 100%|██████████| 3/3 [00:00<00:00, 17.62step/s]\n"
     ]
    },
    {
     "name": "stdout",
     "output_type": "stream",
     "text": [
      "Runtime for dbscan_clustering: 0.018901 seconds\n",
      "\n",
      "DBSCAN result:\n"
     ]
    },
    {
     "name": "stderr",
     "output_type": "stream",
     "text": [
      "Running DBSCAN:   0%|          | 0/3 [00:00<?, ?step/s]"
     ]
    },
    {
     "name": "stdout",
     "output_type": "stream",
     "text": [
      "Runtime for dbscan_clustering: 0.028642 seconds\n"
     ]
    },
    {
     "name": "stderr",
     "output_type": "stream",
     "text": [
      "Running DBSCAN: 100%|██████████| 3/3 [00:00<00:00, 14.41step/s]"
     ]
    },
    {
     "name": "stdout",
     "output_type": "stream",
     "text": [
      "\n",
      "DBSCAN result:"
     ]
    },
    {
     "name": "stderr",
     "output_type": "stream",
     "text": [
      "\n"
     ]
    },
    {
     "name": "stdout",
     "output_type": "stream",
     "text": [
      "\n"
     ]
    },
    {
     "name": "stderr",
     "output_type": "stream",
     "text": [
      "Running DBSCAN: 100%|██████████| 3/3 [00:00<00:00, 19.02step/s]\n"
     ]
    },
    {
     "name": "stdout",
     "output_type": "stream",
     "text": [
      "Runtime for dbscan_clustering: 0.021622 seconds\n",
      "\n",
      "DBSCAN result:\n"
     ]
    },
    {
     "name": "stderr",
     "output_type": "stream",
     "text": [
      "Running DBSCAN:   0%|          | 0/3 [00:00<?, ?step/s]"
     ]
    },
    {
     "name": "stdout",
     "output_type": "stream",
     "text": [
      "Runtime for dbscan_clustering: 0.013866 seconds\n"
     ]
    },
    {
     "name": "stderr",
     "output_type": "stream",
     "text": [
      "Running DBSCAN: 100%|██████████| 3/3 [00:00<00:00, 20.31step/s]\n"
     ]
    },
    {
     "name": "stdout",
     "output_type": "stream",
     "text": [
      "\n",
      "DBSCAN result:\n"
     ]
    },
    {
     "name": "stderr",
     "output_type": "stream",
     "text": [
      "Running DBSCAN:   0%|          | 0/3 [00:00<?, ?step/s]"
     ]
    },
    {
     "name": "stdout",
     "output_type": "stream",
     "text": [
      "Runtime for dbscan_clustering: 0.022268 seconds\n"
     ]
    },
    {
     "name": "stderr",
     "output_type": "stream",
     "text": [
      "Running DBSCAN: 100%|██████████| 3/3 [00:00<00:00, 19.48step/s]\n"
     ]
    },
    {
     "name": "stdout",
     "output_type": "stream",
     "text": [
      "\n",
      "DBSCAN result:\n"
     ]
    },
    {
     "name": "stderr",
     "output_type": "stream",
     "text": [
      "Running DBSCAN:   0%|          | 0/3 [00:00<?, ?step/s]"
     ]
    },
    {
     "name": "stdout",
     "output_type": "stream",
     "text": [
      "Runtime for dbscan_clustering: 0.011137 seconds\n"
     ]
    },
    {
     "name": "stderr",
     "output_type": "stream",
     "text": [
      "Running DBSCAN: 100%|██████████| 3/3 [00:00<00:00, 18.98step/s]\n",
      "c:\\Users\\fionu\\OneDrive\\Dokumente\\Daten Fiona\\AIUB\\Code\\clustering\\cluster_plotter.py:92: UserWarning: No artists with labels found to put in legend.  Note that artists whose label start with an underscore are ignored when legend() is called with no argument.\n",
      "  plt.legend()\n"
     ]
    },
    {
     "name": "stdout",
     "output_type": "stream",
     "text": [
      "Plot saved as: dbscan_grid_search_normal_bins_observed\\dbscan_2014-2017_best.png\n",
      "Best for 2014-2017: eps = 0.05, min_samples = 20, silhouette = 0.195\n",
      "\n",
      "Running DBSCAN for Year Range: 2019-2023\n",
      "\n",
      "DBSCAN result:\n"
     ]
    },
    {
     "name": "stderr",
     "output_type": "stream",
     "text": [
      "Running DBSCAN:   0%|          | 0/3 [00:00<?, ?step/s]"
     ]
    },
    {
     "name": "stdout",
     "output_type": "stream",
     "text": [
      "Runtime for dbscan_clustering: 0.039708 seconds\n"
     ]
    },
    {
     "name": "stderr",
     "output_type": "stream",
     "text": [
      "Running DBSCAN: 100%|██████████| 3/3 [00:00<00:00,  3.54step/s]\n"
     ]
    },
    {
     "name": "stdout",
     "output_type": "stream",
     "text": [
      "\n",
      "DBSCAN result:\n"
     ]
    },
    {
     "name": "stderr",
     "output_type": "stream",
     "text": [
      "Running DBSCAN:   0%|          | 0/3 [00:00<?, ?step/s]"
     ]
    },
    {
     "name": "stdout",
     "output_type": "stream",
     "text": [
      "Runtime for dbscan_clustering: 0.027302 seconds\n"
     ]
    },
    {
     "name": "stderr",
     "output_type": "stream",
     "text": [
      "Running DBSCAN: 100%|██████████| 3/3 [00:00<00:00,  4.34step/s]\n"
     ]
    },
    {
     "name": "stdout",
     "output_type": "stream",
     "text": [
      "\n",
      "DBSCAN result:\n"
     ]
    },
    {
     "name": "stderr",
     "output_type": "stream",
     "text": [
      "Running DBSCAN:   0%|          | 0/3 [00:00<?, ?step/s]"
     ]
    },
    {
     "name": "stdout",
     "output_type": "stream",
     "text": [
      "Runtime for dbscan_clustering: 0.031559 seconds\n"
     ]
    },
    {
     "name": "stderr",
     "output_type": "stream",
     "text": [
      "Running DBSCAN: 100%|██████████| 3/3 [00:00<00:00,  4.55step/s]\n"
     ]
    },
    {
     "name": "stdout",
     "output_type": "stream",
     "text": [
      "\n",
      "DBSCAN result:\n"
     ]
    },
    {
     "name": "stderr",
     "output_type": "stream",
     "text": [
      "Running DBSCAN:   0%|          | 0/3 [00:00<?, ?step/s]"
     ]
    },
    {
     "name": "stdout",
     "output_type": "stream",
     "text": [
      "Runtime for dbscan_clustering: 0.028399 seconds\n"
     ]
    },
    {
     "name": "stderr",
     "output_type": "stream",
     "text": [
      "Running DBSCAN: 100%|██████████| 3/3 [00:00<00:00,  4.64step/s]\n"
     ]
    },
    {
     "name": "stdout",
     "output_type": "stream",
     "text": [
      "\n",
      "DBSCAN result:\n"
     ]
    },
    {
     "name": "stderr",
     "output_type": "stream",
     "text": [
      "Running DBSCAN:   0%|          | 0/3 [00:00<?, ?step/s]"
     ]
    },
    {
     "name": "stdout",
     "output_type": "stream",
     "text": [
      "Runtime for dbscan_clustering: 0.026375 seconds\n"
     ]
    },
    {
     "name": "stderr",
     "output_type": "stream",
     "text": [
      "Running DBSCAN: 100%|██████████| 3/3 [00:00<00:00,  4.73step/s]\n"
     ]
    },
    {
     "name": "stdout",
     "output_type": "stream",
     "text": [
      "\n",
      "DBSCAN result:\n"
     ]
    },
    {
     "name": "stderr",
     "output_type": "stream",
     "text": [
      "Running DBSCAN:   0%|          | 0/3 [00:00<?, ?step/s]"
     ]
    },
    {
     "name": "stdout",
     "output_type": "stream",
     "text": [
      "Runtime for dbscan_clustering: 0.033537 seconds\n"
     ]
    },
    {
     "name": "stderr",
     "output_type": "stream",
     "text": [
      "Running DBSCAN: 100%|██████████| 3/3 [00:00<00:00,  3.81step/s]\n"
     ]
    },
    {
     "name": "stdout",
     "output_type": "stream",
     "text": [
      "\n",
      "DBSCAN result:\n"
     ]
    },
    {
     "name": "stderr",
     "output_type": "stream",
     "text": [
      "Running DBSCAN:   0%|          | 0/3 [00:00<?, ?step/s]"
     ]
    },
    {
     "name": "stdout",
     "output_type": "stream",
     "text": [
      "Runtime for dbscan_clustering: 0.034426 seconds\n"
     ]
    },
    {
     "name": "stderr",
     "output_type": "stream",
     "text": [
      "Running DBSCAN: 100%|██████████| 3/3 [00:00<00:00,  3.61step/s]\n"
     ]
    },
    {
     "name": "stdout",
     "output_type": "stream",
     "text": [
      "\n",
      "DBSCAN result:\n"
     ]
    },
    {
     "name": "stderr",
     "output_type": "stream",
     "text": [
      "Running DBSCAN:   0%|          | 0/3 [00:00<?, ?step/s]"
     ]
    },
    {
     "name": "stdout",
     "output_type": "stream",
     "text": [
      "Runtime for dbscan_clustering: 0.032445 seconds\n"
     ]
    },
    {
     "name": "stderr",
     "output_type": "stream",
     "text": [
      "Running DBSCAN: 100%|██████████| 3/3 [00:00<00:00,  4.19step/s]\n"
     ]
    },
    {
     "name": "stdout",
     "output_type": "stream",
     "text": [
      "\n",
      "DBSCAN result:\n"
     ]
    },
    {
     "name": "stderr",
     "output_type": "stream",
     "text": [
      "Running DBSCAN:   0%|          | 0/3 [00:00<?, ?step/s]"
     ]
    },
    {
     "name": "stdout",
     "output_type": "stream",
     "text": [
      "Runtime for dbscan_clustering: 0.030411 seconds\n"
     ]
    },
    {
     "name": "stderr",
     "output_type": "stream",
     "text": [
      "Running DBSCAN: 100%|██████████| 3/3 [00:00<00:00,  4.72step/s]\n"
     ]
    },
    {
     "name": "stdout",
     "output_type": "stream",
     "text": [
      "\n",
      "DBSCAN result:\n"
     ]
    },
    {
     "name": "stderr",
     "output_type": "stream",
     "text": [
      "Running DBSCAN:   0%|          | 0/3 [00:00<?, ?step/s]"
     ]
    },
    {
     "name": "stdout",
     "output_type": "stream",
     "text": [
      "Runtime for dbscan_clustering: 0.039853 seconds\n"
     ]
    },
    {
     "name": "stderr",
     "output_type": "stream",
     "text": [
      "Running DBSCAN: 100%|██████████| 3/3 [00:00<00:00,  4.73step/s]\n"
     ]
    },
    {
     "name": "stdout",
     "output_type": "stream",
     "text": [
      "\n",
      "DBSCAN result:\n"
     ]
    },
    {
     "name": "stderr",
     "output_type": "stream",
     "text": [
      "Running DBSCAN:   0%|          | 0/3 [00:00<?, ?step/s]"
     ]
    },
    {
     "name": "stdout",
     "output_type": "stream",
     "text": [
      "Runtime for dbscan_clustering: 0.033386 seconds\n"
     ]
    },
    {
     "name": "stderr",
     "output_type": "stream",
     "text": [
      "Running DBSCAN: 100%|██████████| 3/3 [00:00<00:00,  3.90step/s]\n"
     ]
    },
    {
     "name": "stdout",
     "output_type": "stream",
     "text": [
      "\n",
      "DBSCAN result:\n"
     ]
    },
    {
     "name": "stderr",
     "output_type": "stream",
     "text": [
      "Running DBSCAN:   0%|          | 0/3 [00:00<?, ?step/s]"
     ]
    },
    {
     "name": "stdout",
     "output_type": "stream",
     "text": [
      "Runtime for dbscan_clustering: 0.057198 seconds\n"
     ]
    },
    {
     "name": "stderr",
     "output_type": "stream",
     "text": [
      "Running DBSCAN: 100%|██████████| 3/3 [00:00<00:00,  3.76step/s]\n"
     ]
    },
    {
     "name": "stdout",
     "output_type": "stream",
     "text": [
      "\n",
      "DBSCAN result:\n"
     ]
    },
    {
     "name": "stderr",
     "output_type": "stream",
     "text": [
      "Running DBSCAN:   0%|          | 0/3 [00:00<?, ?step/s]"
     ]
    },
    {
     "name": "stdout",
     "output_type": "stream",
     "text": [
      "Runtime for dbscan_clustering: 0.036589 seconds\n"
     ]
    },
    {
     "name": "stderr",
     "output_type": "stream",
     "text": [
      "Running DBSCAN: 100%|██████████| 3/3 [00:00<00:00,  4.65step/s]\n"
     ]
    },
    {
     "name": "stdout",
     "output_type": "stream",
     "text": [
      "\n",
      "DBSCAN result:\n"
     ]
    },
    {
     "name": "stderr",
     "output_type": "stream",
     "text": [
      "Running DBSCAN:   0%|          | 0/3 [00:00<?, ?step/s]"
     ]
    },
    {
     "name": "stdout",
     "output_type": "stream",
     "text": [
      "Runtime for dbscan_clustering: 0.035933 seconds\n"
     ]
    },
    {
     "name": "stderr",
     "output_type": "stream",
     "text": [
      "Running DBSCAN: 100%|██████████| 3/3 [00:00<00:00,  4.61step/s]\n"
     ]
    },
    {
     "name": "stdout",
     "output_type": "stream",
     "text": [
      "\n",
      "DBSCAN result:\n"
     ]
    },
    {
     "name": "stderr",
     "output_type": "stream",
     "text": [
      "Running DBSCAN:   0%|          | 0/3 [00:00<?, ?step/s]"
     ]
    },
    {
     "name": "stdout",
     "output_type": "stream",
     "text": [
      "Runtime for dbscan_clustering: 0.033231 seconds\n"
     ]
    },
    {
     "name": "stderr",
     "output_type": "stream",
     "text": [
      "Running DBSCAN: 100%|██████████| 3/3 [00:00<00:00,  3.93step/s]\n"
     ]
    },
    {
     "name": "stdout",
     "output_type": "stream",
     "text": [
      "\n",
      "DBSCAN result:\n"
     ]
    },
    {
     "name": "stderr",
     "output_type": "stream",
     "text": [
      "Running DBSCAN:   0%|          | 0/3 [00:00<?, ?step/s]"
     ]
    },
    {
     "name": "stdout",
     "output_type": "stream",
     "text": [
      "Runtime for dbscan_clustering: 0.034641 seconds\n"
     ]
    },
    {
     "name": "stderr",
     "output_type": "stream",
     "text": [
      "Running DBSCAN: 100%|██████████| 3/3 [00:00<00:00,  3.42step/s]\n"
     ]
    },
    {
     "name": "stdout",
     "output_type": "stream",
     "text": [
      "\n",
      "DBSCAN result:\n"
     ]
    },
    {
     "name": "stderr",
     "output_type": "stream",
     "text": [
      "Running DBSCAN:   0%|          | 0/3 [00:00<?, ?step/s]"
     ]
    },
    {
     "name": "stdout",
     "output_type": "stream",
     "text": [
      "Runtime for dbscan_clustering: 0.069399 seconds\n"
     ]
    },
    {
     "name": "stderr",
     "output_type": "stream",
     "text": [
      "Running DBSCAN: 100%|██████████| 3/3 [00:00<00:00,  3.74step/s]\n"
     ]
    },
    {
     "name": "stdout",
     "output_type": "stream",
     "text": [
      "\n",
      "DBSCAN result:\n"
     ]
    },
    {
     "name": "stderr",
     "output_type": "stream",
     "text": [
      "Running DBSCAN:   0%|          | 0/3 [00:00<?, ?step/s]"
     ]
    },
    {
     "name": "stdout",
     "output_type": "stream",
     "text": [
      "Runtime for dbscan_clustering: 0.040501 seconds\n"
     ]
    },
    {
     "name": "stderr",
     "output_type": "stream",
     "text": [
      "Running DBSCAN: 100%|██████████| 3/3 [00:00<00:00,  3.97step/s]\n"
     ]
    },
    {
     "name": "stdout",
     "output_type": "stream",
     "text": [
      "\n",
      "DBSCAN result:\n"
     ]
    },
    {
     "name": "stderr",
     "output_type": "stream",
     "text": [
      "Running DBSCAN:   0%|          | 0/3 [00:00<?, ?step/s]"
     ]
    },
    {
     "name": "stdout",
     "output_type": "stream",
     "text": [
      "Runtime for dbscan_clustering: 0.039645 seconds\n"
     ]
    },
    {
     "name": "stderr",
     "output_type": "stream",
     "text": [
      "Running DBSCAN: 100%|██████████| 3/3 [00:00<00:00,  4.93step/s]\n"
     ]
    },
    {
     "name": "stdout",
     "output_type": "stream",
     "text": [
      "\n",
      "DBSCAN result:\n"
     ]
    },
    {
     "name": "stderr",
     "output_type": "stream",
     "text": [
      "Running DBSCAN:   0%|          | 0/3 [00:00<?, ?step/s]"
     ]
    },
    {
     "name": "stdout",
     "output_type": "stream",
     "text": [
      "Runtime for dbscan_clustering: 0.026359 seconds\n"
     ]
    },
    {
     "name": "stderr",
     "output_type": "stream",
     "text": [
      "Running DBSCAN: 100%|██████████| 3/3 [00:00<00:00,  4.20step/s]\n"
     ]
    },
    {
     "name": "stdout",
     "output_type": "stream",
     "text": [
      "\n",
      "DBSCAN result:\n"
     ]
    },
    {
     "name": "stderr",
     "output_type": "stream",
     "text": [
      "Running DBSCAN:   0%|          | 0/3 [00:00<?, ?step/s]"
     ]
    },
    {
     "name": "stdout",
     "output_type": "stream",
     "text": [
      "Runtime for dbscan_clustering: 0.039092 seconds\n"
     ]
    },
    {
     "name": "stderr",
     "output_type": "stream",
     "text": [
      "Running DBSCAN: 100%|██████████| 3/3 [00:00<00:00,  3.98step/s]\n"
     ]
    },
    {
     "name": "stdout",
     "output_type": "stream",
     "text": [
      "\n",
      "DBSCAN result:\n"
     ]
    },
    {
     "name": "stderr",
     "output_type": "stream",
     "text": [
      "Running DBSCAN:   0%|          | 0/3 [00:00<?, ?step/s]"
     ]
    },
    {
     "name": "stdout",
     "output_type": "stream",
     "text": [
      "Runtime for dbscan_clustering: 0.039450 seconds\n"
     ]
    },
    {
     "name": "stderr",
     "output_type": "stream",
     "text": [
      "Running DBSCAN: 100%|██████████| 3/3 [00:00<00:00,  4.34step/s]\n"
     ]
    },
    {
     "name": "stdout",
     "output_type": "stream",
     "text": [
      "\n",
      "DBSCAN result:\n"
     ]
    },
    {
     "name": "stderr",
     "output_type": "stream",
     "text": [
      "Running DBSCAN:   0%|          | 0/3 [00:00<?, ?step/s]"
     ]
    },
    {
     "name": "stdout",
     "output_type": "stream",
     "text": [
      "Runtime for dbscan_clustering: 0.028378 seconds\n"
     ]
    },
    {
     "name": "stderr",
     "output_type": "stream",
     "text": [
      "Running DBSCAN: 100%|██████████| 3/3 [00:00<00:00,  4.79step/s]\n"
     ]
    },
    {
     "name": "stdout",
     "output_type": "stream",
     "text": [
      "\n",
      "DBSCAN result:\n"
     ]
    },
    {
     "name": "stderr",
     "output_type": "stream",
     "text": [
      "Running DBSCAN:   0%|          | 0/3 [00:00<?, ?step/s]"
     ]
    },
    {
     "name": "stdout",
     "output_type": "stream",
     "text": [
      "Runtime for dbscan_clustering: 0.028332 seconds\n"
     ]
    },
    {
     "name": "stderr",
     "output_type": "stream",
     "text": [
      "Running DBSCAN: 100%|██████████| 3/3 [00:00<00:00,  4.89step/s]\n"
     ]
    },
    {
     "name": "stdout",
     "output_type": "stream",
     "text": [
      "\n",
      "DBSCAN result:\n"
     ]
    },
    {
     "name": "stderr",
     "output_type": "stream",
     "text": [
      "Running DBSCAN:   0%|          | 0/3 [00:00<?, ?step/s]"
     ]
    },
    {
     "name": "stdout",
     "output_type": "stream",
     "text": [
      "Runtime for dbscan_clustering: 0.031822 seconds\n"
     ]
    },
    {
     "name": "stderr",
     "output_type": "stream",
     "text": [
      "Running DBSCAN: 100%|██████████| 3/3 [00:00<00:00,  4.92step/s]\n"
     ]
    },
    {
     "name": "stdout",
     "output_type": "stream",
     "text": [
      "\n",
      "DBSCAN result:\n"
     ]
    },
    {
     "name": "stderr",
     "output_type": "stream",
     "text": [
      "Running DBSCAN:   0%|          | 0/3 [00:00<?, ?step/s]"
     ]
    },
    {
     "name": "stdout",
     "output_type": "stream",
     "text": [
      "Runtime for dbscan_clustering: 0.039607 seconds\n"
     ]
    },
    {
     "name": "stderr",
     "output_type": "stream",
     "text": [
      "Running DBSCAN: 100%|██████████| 3/3 [00:00<00:00,  4.08step/s]\n"
     ]
    },
    {
     "name": "stdout",
     "output_type": "stream",
     "text": [
      "\n",
      "DBSCAN result:\n"
     ]
    },
    {
     "name": "stderr",
     "output_type": "stream",
     "text": [
      "Running DBSCAN:   0%|          | 0/3 [00:00<?, ?step/s]"
     ]
    },
    {
     "name": "stdout",
     "output_type": "stream",
     "text": [
      "Runtime for dbscan_clustering: 0.038891 seconds\n"
     ]
    },
    {
     "name": "stderr",
     "output_type": "stream",
     "text": [
      "Running DBSCAN: 100%|██████████| 3/3 [00:00<00:00,  4.42step/s]\n"
     ]
    },
    {
     "name": "stdout",
     "output_type": "stream",
     "text": [
      "\n",
      "DBSCAN result:\n"
     ]
    },
    {
     "name": "stderr",
     "output_type": "stream",
     "text": [
      "Running DBSCAN:   0%|          | 0/3 [00:00<?, ?step/s]"
     ]
    },
    {
     "name": "stdout",
     "output_type": "stream",
     "text": [
      "Runtime for dbscan_clustering: 0.035290 seconds\n"
     ]
    },
    {
     "name": "stderr",
     "output_type": "stream",
     "text": [
      "Running DBSCAN: 100%|██████████| 3/3 [00:00<00:00,  4.94step/s]\n"
     ]
    },
    {
     "name": "stdout",
     "output_type": "stream",
     "text": [
      "\n",
      "DBSCAN result:\n"
     ]
    },
    {
     "name": "stderr",
     "output_type": "stream",
     "text": [
      "Running DBSCAN:   0%|          | 0/3 [00:00<?, ?step/s]"
     ]
    },
    {
     "name": "stdout",
     "output_type": "stream",
     "text": [
      "Runtime for dbscan_clustering: 0.042975 seconds\n"
     ]
    },
    {
     "name": "stderr",
     "output_type": "stream",
     "text": [
      "Running DBSCAN: 100%|██████████| 3/3 [00:00<00:00,  4.87step/s]\n"
     ]
    },
    {
     "name": "stdout",
     "output_type": "stream",
     "text": [
      "\n",
      "DBSCAN result:\n"
     ]
    },
    {
     "name": "stderr",
     "output_type": "stream",
     "text": [
      "Running DBSCAN:   0%|          | 0/3 [00:00<?, ?step/s]"
     ]
    },
    {
     "name": "stdout",
     "output_type": "stream",
     "text": [
      "Runtime for dbscan_clustering: 0.043012 seconds\n"
     ]
    },
    {
     "name": "stderr",
     "output_type": "stream",
     "text": [
      "Running DBSCAN: 100%|██████████| 3/3 [00:00<00:00,  4.68step/s]\n"
     ]
    },
    {
     "name": "stdout",
     "output_type": "stream",
     "text": [
      "\n",
      "DBSCAN result:\n"
     ]
    },
    {
     "name": "stderr",
     "output_type": "stream",
     "text": [
      "Running DBSCAN:   0%|          | 0/3 [00:00<?, ?step/s]"
     ]
    },
    {
     "name": "stdout",
     "output_type": "stream",
     "text": [
      "Runtime for dbscan_clustering: 0.053559 seconds\n"
     ]
    },
    {
     "name": "stderr",
     "output_type": "stream",
     "text": [
      "Running DBSCAN: 100%|██████████| 3/3 [00:00<00:00,  4.26step/s]\n"
     ]
    },
    {
     "name": "stdout",
     "output_type": "stream",
     "text": [
      "\n",
      "DBSCAN result:\n"
     ]
    },
    {
     "name": "stderr",
     "output_type": "stream",
     "text": [
      "Running DBSCAN:   0%|          | 0/3 [00:00<?, ?step/s]"
     ]
    },
    {
     "name": "stdout",
     "output_type": "stream",
     "text": [
      "Runtime for dbscan_clustering: 0.079120 seconds\n"
     ]
    },
    {
     "name": "stderr",
     "output_type": "stream",
     "text": [
      "Running DBSCAN: 100%|██████████| 3/3 [00:00<00:00,  4.27step/s]\n"
     ]
    },
    {
     "name": "stdout",
     "output_type": "stream",
     "text": [
      "\n",
      "DBSCAN result:\n"
     ]
    },
    {
     "name": "stderr",
     "output_type": "stream",
     "text": [
      "Running DBSCAN:   0%|          | 0/3 [00:00<?, ?step/s]"
     ]
    },
    {
     "name": "stdout",
     "output_type": "stream",
     "text": [
      "Runtime for dbscan_clustering: 0.051305 seconds\n"
     ]
    },
    {
     "name": "stderr",
     "output_type": "stream",
     "text": [
      "Running DBSCAN: 100%|██████████| 3/3 [00:00<00:00,  4.73step/s]\n"
     ]
    },
    {
     "name": "stdout",
     "output_type": "stream",
     "text": [
      "\n",
      "DBSCAN result:\n"
     ]
    },
    {
     "name": "stderr",
     "output_type": "stream",
     "text": [
      "Running DBSCAN:   0%|          | 0/3 [00:00<?, ?step/s]"
     ]
    },
    {
     "name": "stdout",
     "output_type": "stream",
     "text": [
      "Runtime for dbscan_clustering: 0.051929 seconds\n"
     ]
    },
    {
     "name": "stderr",
     "output_type": "stream",
     "text": [
      "Running DBSCAN: 100%|██████████| 3/3 [00:00<00:00,  4.66step/s]\n"
     ]
    },
    {
     "name": "stdout",
     "output_type": "stream",
     "text": [
      "\n",
      "DBSCAN result:\n"
     ]
    },
    {
     "name": "stderr",
     "output_type": "stream",
     "text": [
      "Running DBSCAN:   0%|          | 0/3 [00:00<?, ?step/s]"
     ]
    },
    {
     "name": "stdout",
     "output_type": "stream",
     "text": [
      "Runtime for dbscan_clustering: 0.058764 seconds\n"
     ]
    },
    {
     "name": "stderr",
     "output_type": "stream",
     "text": [
      "Running DBSCAN: 100%|██████████| 3/3 [00:00<00:00,  4.49step/s]\n",
      "c:\\Users\\fionu\\OneDrive\\Dokumente\\Daten Fiona\\AIUB\\Code\\clustering\\cluster_plotter.py:92: UserWarning: No artists with labels found to put in legend.  Note that artists whose label start with an underscore are ignored when legend() is called with no argument.\n",
      "  plt.legend()\n"
     ]
    },
    {
     "name": "stdout",
     "output_type": "stream",
     "text": [
      "Plot saved as: dbscan_grid_search_normal_bins_observed\\dbscan_2019-2023_best.png\n",
      "Best for 2019-2023: eps = 0.05, min_samples = 15, silhouette = 0.039\n"
     ]
    },
    {
     "data": {
      "text/html": [
       "<div>\n",
       "<style scoped>\n",
       "    .dataframe tbody tr th:only-of-type {\n",
       "        vertical-align: middle;\n",
       "    }\n",
       "\n",
       "    .dataframe tbody tr th {\n",
       "        vertical-align: top;\n",
       "    }\n",
       "\n",
       "    .dataframe thead th {\n",
       "        text-align: right;\n",
       "    }\n",
       "</style>\n",
       "<table border=\"1\" class=\"dataframe\">\n",
       "  <thead>\n",
       "    <tr style=\"text-align: right;\">\n",
       "      <th></th>\n",
       "      <th>Year Range</th>\n",
       "      <th>Eps</th>\n",
       "      <th>Min Samples</th>\n",
       "      <th>Silhouette Score</th>\n",
       "      <th>Noise Points</th>\n",
       "    </tr>\n",
       "  </thead>\n",
       "  <tbody>\n",
       "    <tr>\n",
       "      <th>0</th>\n",
       "      <td>2002-2005</td>\n",
       "      <td>0.05</td>\n",
       "      <td>30</td>\n",
       "      <td>0.208</td>\n",
       "      <td>521</td>\n",
       "    </tr>\n",
       "    <tr>\n",
       "      <th>1</th>\n",
       "      <td>2006-2009</td>\n",
       "      <td>0.05</td>\n",
       "      <td>7</td>\n",
       "      <td>0.239</td>\n",
       "      <td>69</td>\n",
       "    </tr>\n",
       "    <tr>\n",
       "      <th>2</th>\n",
       "      <td>2010-2013</td>\n",
       "      <td>0.05</td>\n",
       "      <td>20</td>\n",
       "      <td>0.158</td>\n",
       "      <td>236</td>\n",
       "    </tr>\n",
       "    <tr>\n",
       "      <th>3</th>\n",
       "      <td>2014-2017</td>\n",
       "      <td>0.05</td>\n",
       "      <td>20</td>\n",
       "      <td>0.195</td>\n",
       "      <td>255</td>\n",
       "    </tr>\n",
       "    <tr>\n",
       "      <th>4</th>\n",
       "      <td>2019-2023</td>\n",
       "      <td>0.05</td>\n",
       "      <td>15</td>\n",
       "      <td>0.039</td>\n",
       "      <td>160</td>\n",
       "    </tr>\n",
       "  </tbody>\n",
       "</table>\n",
       "</div>"
      ],
      "text/plain": [
       "  Year Range   Eps  Min Samples Silhouette Score  Noise Points\n",
       "0  2002-2005  0.05           30            0.208           521\n",
       "1  2006-2009  0.05            7            0.239            69\n",
       "2  2010-2013  0.05           20            0.158           236\n",
       "3  2014-2017  0.05           20            0.195           255\n",
       "4  2019-2023  0.05           15            0.039           160"
      ]
     },
     "metadata": {},
     "output_type": "display_data"
    }
   ],
   "source": [
    "import cluster_data\n",
    "from cluster_data import run_clustering, normalize_data, unnormalize\n",
    "import numpy as np\n",
    "import pandas as pd\n",
    "import os\n",
    "import cluster_plotter\n",
    "from DBSCAN import dbscan_clustering\n",
    "from cluster_plotter import ClusterPlotter\n",
    "from clustering_utils import ClusterData\n",
    "\n",
    "uncorr_obs_files = {\n",
    "    year: f\"ogs{year}01_12_det.ele_ucorr\" if year != 2002 else f\"ogs{year}08_12_det.ele_ucorr\"\n",
    "    for year in range(2002, 2024) if year != 2018  # Exclude 2018 if missing\n",
    "}\n",
    "\n",
    "print(uncorr_obs_files)\n",
    "\n",
    "standard_year_ranges = {f\"{start}-{start + 3}\": np.arange(start, start + 4) for start in [2002, 2006, 2010, 2014]}\n",
    "standard_year_ranges[\"2019-2023\"] = np.arange(2019, 2024)\n",
    "\n",
    "running_ranges = cluster_data.generate_running_year_ranges(2002, 2023, 4)\n",
    "year_ranges = standard_year_ranges\n",
    "\n",
    "# Bin the observed data\n",
    "binned_data = cluster_data.bin_observed_data(uncorr_obs_files, year_ranges, print_res=False)\n",
    "\n",
    "plot_dir = \"dbscan_grid_search_normal_bins_observed\"\n",
    "os.makedirs(plot_dir, exist_ok=True)\n",
    "cluster_plotter.clear_directory(plot_dir)\n",
    "\n",
    "results_per_year_range = {}\n",
    "\n",
    "for cluster_data, year_range in binned_data:  \n",
    "    print(f\"\\nRunning DBSCAN for Year Range: {year_range}\")\n",
    "\n",
    "    data_array = np.array([cluster_data.inc, cluster_data.raan]).T\n",
    "    normalized_data, data_min, data_max = normalize_data(data_array)\n",
    "\n",
    "    # DBSCAN parameter grid\n",
    "    eps_values = [0.01, 0.012, 0.015, 0.018, 0.02, 0.023, 0.05]\n",
    "    min_samples_values = [7, 10, 15, 20, 30]\n",
    "    \n",
    "    best_result = None\n",
    "    best_score = float('-inf')\n",
    "    \n",
    "    for eps in eps_values:\n",
    "        for min_samples in min_samples_values:\n",
    "            result_dbscan, time_dbscan, n_clusters_dbscan, points_per_cluster_dbscan, metrics_dbscan = run_clustering(\n",
    "                dbscan_clustering, \"DBSCAN\", normalized_data, data_min, data_max, plot=False, eps=eps, min_samples=min_samples\n",
    "            )\n",
    "            \n",
    "            silhouette_score = metrics_dbscan[3] if metrics_dbscan and isinstance(metrics_dbscan[3], (int, float)) else None\n",
    "            noise_points = np.sum(result_dbscan.labels == -1)\n",
    "\n",
    "            if silhouette_score is not None and silhouette_score > best_score:\n",
    "                best_score = silhouette_score\n",
    "                best_result = {\n",
    "                    \"eps\": eps,\n",
    "                    \"min_samples\": min_samples,\n",
    "                    \"runtime\": time_dbscan,\n",
    "                    \"clusters\": n_clusters_dbscan,\n",
    "                    \"points_per_cluster\": points_per_cluster_dbscan,\n",
    "                    \"noise_points\": noise_points,\n",
    "                    \"metrics\": metrics_dbscan,\n",
    "                    \"result_dbscan\": result_dbscan\n",
    "                }\n",
    "\n",
    "    # Plot and store only the best result\n",
    "    if best_result:\n",
    "        unnormalized_data, _ = unnormalize(best_result[\"result_dbscan\"].data, None, data_min, data_max)\n",
    "        plotter = ClusterPlotter(unnormalized_data, best_result[\"result_dbscan\"].labels, None)\n",
    "        plot_filename = os.path.join(plot_dir, f\"dbscan_{year_range}_best.png\")\n",
    "        title = f\"DBSCAN Best: {year_range}, eps = {best_result['eps']}, min_samples = {best_result['min_samples']}\"\n",
    "        plotter.clusters_2d_plot(title, plot_filename, show_centers=False)\n",
    "        \n",
    "        results_per_year_range[year_range] = best_result\n",
    "        \n",
    "        print(f\"Best for {year_range}: eps = {best_result['eps']}, min_samples = {best_result['min_samples']}, silhouette = {best_score:.3f}\")\n",
    "\n",
    "final_results = [\n",
    "    {\"Year Range\": yr, \"Eps\": res[\"eps\"], \"Min Samples\": res[\"min_samples\"], \"Silhouette Score\": f\"{res['metrics'][3]:.3f}\", \"Noise Points\": res[\"noise_points\"]}\n",
    "    for yr, res in results_per_year_range.items()\n",
    "]\n",
    "df = pd.DataFrame(final_results)\n",
    "display(df)"
   ]
  }
 ],
 "metadata": {
  "kernelspec": {
   "display_name": "base",
   "language": "python",
   "name": "python3"
  },
  "language_info": {
   "codemirror_mode": {
    "name": "ipython",
    "version": 3
   },
   "file_extension": ".py",
   "mimetype": "text/x-python",
   "name": "python",
   "nbconvert_exporter": "python",
   "pygments_lexer": "ipython3",
   "version": "3.12.3"
  }
 },
 "nbformat": 4,
 "nbformat_minor": 2
}
