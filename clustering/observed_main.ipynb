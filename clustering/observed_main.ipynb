{
 "cells": [
  {
   "cell_type": "markdown",
   "metadata": {},
   "source": [
    "## Observed data, clustering with KMeans"
   ]
  },
  {
   "cell_type": "code",
   "execution_count": null,
   "metadata": {},
   "outputs": [],
   "source": [
    "import numpy as np\n",
    "import pandas as pd\n",
    "import os\n",
    "import cluster_data\n",
    "import cluster_plotter\n",
    "from cluster_data import run_clustering, normalize_data, unnormalize\n",
    "from cluster_plotter import ClusterPlotter\n",
    "from clustering_utils import ClusterData\n",
    "from kmeans import k_means\n",
    "import getdata\n",
    "\n",
    "# Define observed files\n",
    "uncorr_obs_files = {\n",
    "    year: f\"ogs{year}01_12_det.ele_ucorr\" if year != 2002 else f\"ogs{year}08_12_det.ele_ucorr\"\n",
    "    for year in range(2002, 2024) if year != 2018  # Exclude 2018 if missing\n",
    "}\n",
    "\n",
    "print(uncorr_obs_files)\n",
    "\n",
    "standard_year_ranges = {f\"{start}-{start + 3}\": np.arange(start, start + 4) for start in [2002, 2006, 2010, 2014]}\n",
    "standard_year_ranges[\"2019-2023\"] = np.arange(2019, 2024)\n",
    "\n",
    "running_ranges = cluster_data.generate_running_year_ranges(2002, 2023, 4)\n",
    "year_ranges = running_ranges\n",
    "\n",
    "# Bin the observed data\n",
    "binned_data = cluster_data.bin_observed_data(uncorr_obs_files, year_ranges, print_res=False)\n",
    "\n",
    "# Output directory for plots\n",
    "plot_dir = \"kmeans_observed_running_bins\"\n",
    "os.makedirs(plot_dir, exist_ok=True)\n",
    "cluster_plotter.clear_directory(plot_dir)\n",
    "\n",
    "for cluster_data, year_range in binned_data:\n",
    "    print(f\"\\nRunning K-Means for Year Range: {year_range}\")\n",
    "    \n",
    "    data_array = np.array([cluster_data.inc, cluster_data.raan]).T\n",
    "    normalized_data, data_min, data_max = normalize_data(data_array)\n",
    "    \n",
    "    results = []\n",
    "    for k in [3, 4, 5, 6, 7]:\n",
    "        result_kmeans, time_kmeans, n_clusters_kmeans, points_per_cluster_kmeans, metrics_kmeans = run_clustering(\n",
    "            k_means, \"K-Means\", normalized_data, data_min, data_max, k, plot=False\n",
    "        )\n",
    "\n",
    "        unnormalized_data, cluster_centers = unnormalize(result_kmeans.data, result_kmeans.cluster_centers, data_min, data_max)\n",
    "        plotter = ClusterPlotter(unnormalized_data, result_kmeans.labels, cluster_centers)\n",
    "        plotter.clusters_2d_plot(f\"K-Means: years = {year_range}, k = {k}\", os.path.join(plot_dir, f\"kmeans_{year_range}_k{k}.png\"))\n",
    "\n",
    "        results.append({\n",
    "            \"Year Range\": year_range, \"k\": k, \"Runtime (s)\": f\"{time_kmeans:.3f}\", \"Clusters\": n_clusters_kmeans,\n",
    "            \"Points per Cluster\": points_per_cluster_kmeans,\n",
    "            \"Davies-Bouldin\": f\"{metrics_kmeans[0]:.3f}\" if metrics_kmeans else None,\n",
    "            \"Calinski-Harabasz\": f\"{metrics_kmeans[1]:.3f}\" if metrics_kmeans else None,\n",
    "            \"Dunn Index\": f\"{metrics_kmeans[2]:.3f}\" if metrics_kmeans else None,\n",
    "            \"Silhouette Score\": f\"{metrics_kmeans[3]:.3f}\" if metrics_kmeans else None\n",
    "        })\n",
    "    \n",
    "    display(pd.DataFrame(results))"
   ]
  },
  {
   "cell_type": "markdown",
   "metadata": {},
   "source": [
    "## Observed data, clustering with DBSCAN"
   ]
  },
  {
   "cell_type": "code",
   "execution_count": null,
   "metadata": {},
   "outputs": [],
   "source": [
    "import numpy as np\n",
    "import pandas as pd\n",
    "import os\n",
    "import cluster_data\n",
    "import cluster_plotter\n",
    "from cluster_data import run_clustering, normalize_data, unnormalize\n",
    "from cluster_plotter import ClusterPlotter\n",
    "from clustering_utils import ClusterData\n",
    "from DBSCAN import dbscan_clustering  # Assuming you have a DBSCAN implementation\n",
    "import getdata\n",
    "\n",
    "# Define observed files\n",
    "uncorr_obs_files = {\n",
    "    year: f\"ogs{year}01_12_det.ele_ucorr\" if year != 2002 else f\"ogs{year}08_12_det.ele_ucorr\"\n",
    "    for year in range(2002, 2024) if year != 2018  # Exclude 2018 if missing\n",
    "}\n",
    "\n",
    "print(uncorr_obs_files)\n",
    "\n",
    "standard_year_ranges = {f\"{start}-{start + 3}\": np.arange(start, start + 4) for start in [2002, 2006, 2010, 2014]}\n",
    "standard_year_ranges[\"2019-2023\"] = np.arange(2019, 2024)\n",
    "\n",
    "running_ranges = cluster_data.generate_running_year_ranges(2002, 2023, 4)\n",
    "year_ranges = standard_year_ranges\n",
    "\n",
    "# Bin the observed data\n",
    "binned_data = cluster_data.bin_observed_data(uncorr_obs_files, year_ranges, print_res=False)\n",
    "\n",
    "# Output directory for plots\n",
    "plot_dir = \"dbscan_observed_normal_bins\"\n",
    "os.makedirs(plot_dir, exist_ok=True)\n",
    "cluster_plotter.clear_directory(plot_dir)\n",
    "\n",
    "for cluster_data, year_range in binned_data:\n",
    "    print(f\"\\nRunning DBSCAN for Year Range: {year_range}\")\n",
    "    \n",
    "    data_array = np.array([cluster_data.inc, cluster_data.raan]).T\n",
    "    normalized_data, data_min, data_max = normalize_data(data_array)\n",
    "    \n",
    "    results = []\n",
    "    eps_values = [0.02, 0.01, 0.015, 0.05]\n",
    "    min_samples_values = [10, 15, 20, 25]\n",
    "    for eps in eps_values:\n",
    "        for min_samples in min_samples_values:\n",
    "            result_dbscan, time_dbscan, n_clusters_dbscan, points_per_cluster_dbscan, metrics_dbscan = run_clustering(\n",
    "                dbscan_clustering, \"DBSCAN\", normalized_data, data_min, data_max, plot=False, eps=eps, min_samples=min_samples\n",
    "            )\n",
    "\n",
    "            unnormalized_data, cluster_centers = unnormalize(result_dbscan.data, result_dbscan.cluster_centers, data_min, data_max)\n",
    "            plotter = ClusterPlotter(unnormalized_data, result_dbscan.labels, cluster_centers)\n",
    "            plotter.clusters_2d_plot(\n",
    "                f\"DBSCAN: years = {year_range}, eps = {eps}, min_samples = {min_samples}\",\n",
    "                os.path.join(plot_dir, f\"dbscan_{year_range}_eps{eps}_min{min_samples}.png\")\n",
    "            )\n",
    "\n",
    "            results.append({\n",
    "                \"Year Range\": year_range, \"eps\": eps, \"min_samples\": min_samples, \"Runtime (s)\": f\"{time_dbscan:.3f}\",\n",
    "                \"Clusters\": n_clusters_dbscan, \"Points per Cluster\": points_per_cluster_dbscan,\n",
    "                \"Davies-Bouldin\": f\"{metrics_dbscan[0]:.3f}\" if metrics_dbscan else None,\n",
    "                \"Calinski-Harabasz\": f\"{metrics_dbscan[1]:.3f}\" if metrics_dbscan else None,\n",
    "                \"Dunn Index\": f\"{metrics_dbscan[2]:.3f}\" if metrics_dbscan else None,\n",
    "                \"Silhouette Score\": f\"{metrics_dbscan[3]:.3f}\" if metrics_dbscan else None\n",
    "            })\n",
    "    \n",
    "    display(pd.DataFrame(results))\n"
   ]
  },
  {
   "cell_type": "markdown",
   "metadata": {},
   "source": [
    "## Observed data, clustering with DBSCAN with GridSearch"
   ]
  },
  {
   "cell_type": "code",
   "execution_count": null,
   "metadata": {},
   "outputs": [],
   "source": [
    "import cluster_data\n",
    "from cluster_data import run_clustering, normalize_data, unnormalize\n",
    "import numpy as np\n",
    "import pandas as pd\n",
    "import os\n",
    "import cluster_plotter\n",
    "from DBSCAN import dbscan_clustering\n",
    "from cluster_plotter import ClusterPlotter\n",
    "from clustering_utils import ClusterData\n",
    "\n",
    "uncorr_obs_files = {\n",
    "    year: f\"ogs{year}01_12_det.ele_ucorr\" if year != 2002 else f\"ogs{year}08_12_det.ele_ucorr\"\n",
    "    for year in range(2002, 2024) if year != 2018  # Exclude 2018 if missing\n",
    "}\n",
    "\n",
    "print(uncorr_obs_files)\n",
    "\n",
    "standard_year_ranges = {f\"{start}-{start + 3}\": np.arange(start, start + 4) for start in [2002, 2006, 2010, 2014]}\n",
    "standard_year_ranges[\"2019-2023\"] = np.arange(2019, 2024)\n",
    "\n",
    "running_ranges = cluster_data.generate_running_year_ranges(2002, 2023, 4)\n",
    "year_ranges = standard_year_ranges\n",
    "\n",
    "# Bin the observed data\n",
    "binned_data = cluster_data.bin_observed_data(uncorr_obs_files, year_ranges, print_res=False)\n",
    "\n",
    "plot_dir = \"dbscan_grid_search_normal_bins_observed\"\n",
    "os.makedirs(plot_dir, exist_ok=True)\n",
    "cluster_plotter.clear_directory(plot_dir)\n",
    "\n",
    "results_per_year_range = {}\n",
    "\n",
    "for cluster_data, year_range in binned_data:  \n",
    "    print(f\"\\nRunning DBSCAN for Year Range: {year_range}\")\n",
    "\n",
    "    data_array = np.array([cluster_data.inc, cluster_data.raan]).T\n",
    "    normalized_data, data_min, data_max = normalize_data(data_array)\n",
    "\n",
    "    # DBSCAN parameter grid\n",
    "    eps_values = [0.01, 0.012, 0.015, 0.018, 0.02, 0.023, 0.05]\n",
    "    min_samples_values = [7, 10, 15, 20, 30]\n",
    "    \n",
    "    best_result = None\n",
    "    best_score = float('-inf')\n",
    "    \n",
    "    for eps in eps_values:\n",
    "        for min_samples in min_samples_values:\n",
    "            result_dbscan, time_dbscan, n_clusters_dbscan, points_per_cluster_dbscan, metrics_dbscan = run_clustering(\n",
    "                dbscan_clustering, \"DBSCAN\", normalized_data, data_min, data_max, plot=False, eps=eps, min_samples=min_samples\n",
    "            )\n",
    "            \n",
    "            silhouette_score = metrics_dbscan[3] if metrics_dbscan and isinstance(metrics_dbscan[3], (int, float)) else None\n",
    "            noise_points = np.sum(result_dbscan.labels == -1)\n",
    "\n",
    "            if silhouette_score is not None and silhouette_score > best_score:\n",
    "                best_score = silhouette_score\n",
    "                best_result = {\n",
    "                    \"eps\": eps,\n",
    "                    \"min_samples\": min_samples,\n",
    "                    \"runtime\": time_dbscan,\n",
    "                    \"clusters\": n_clusters_dbscan,\n",
    "                    \"points_per_cluster\": points_per_cluster_dbscan,\n",
    "                    \"noise_points\": noise_points,\n",
    "                    \"metrics\": metrics_dbscan,\n",
    "                    \"result_dbscan\": result_dbscan\n",
    "                }\n",
    "\n",
    "    # Plot and store only the best result\n",
    "    if best_result:\n",
    "        unnormalized_data, _ = unnormalize(best_result[\"result_dbscan\"].data, None, data_min, data_max)\n",
    "        plotter = ClusterPlotter(unnormalized_data, best_result[\"result_dbscan\"].labels, None)\n",
    "        plot_filename = os.path.join(plot_dir, f\"dbscan_{year_range}_best.png\")\n",
    "        title = f\"DBSCAN Best: {year_range}, eps = {best_result['eps']}, min_samples = {best_result['min_samples']}\"\n",
    "        plotter.clusters_2d_plot(title, plot_filename, show_centers=False)\n",
    "        \n",
    "        results_per_year_range[year_range] = best_result\n",
    "        \n",
    "        print(f\"Best for {year_range}: eps = {best_result['eps']}, min_samples = {best_result['min_samples']}, silhouette = {best_score:.3f}\")\n",
    "\n",
    "final_results = [\n",
    "    {\"Year Range\": yr, \"Eps\": res[\"eps\"], \"Min Samples\": res[\"min_samples\"], \"Silhouette Score\": f\"{res['metrics'][3]:.3f}\", \"Noise Points\": res[\"noise_points\"]}\n",
    "    for yr, res in results_per_year_range.items()\n",
    "]\n",
    "df = pd.DataFrame(final_results)\n",
    "display(df)"
   ]
  },
  {
   "cell_type": "markdown",
   "metadata": {},
   "source": [
    "## Observed data, clustering with OPTICS"
   ]
  },
  {
   "cell_type": "code",
   "execution_count": 1,
   "metadata": {},
   "outputs": [
    {
     "name": "stdout",
     "output_type": "stream",
     "text": [
      "{2002: 'ogs200208_12_det.ele_ucorr', 2003: 'ogs200301_12_det.ele_ucorr', 2004: 'ogs200401_12_det.ele_ucorr', 2005: 'ogs200501_12_det.ele_ucorr', 2006: 'ogs200601_12_det.ele_ucorr', 2007: 'ogs200701_12_det.ele_ucorr', 2008: 'ogs200801_12_det.ele_ucorr', 2009: 'ogs200901_12_det.ele_ucorr', 2010: 'ogs201001_12_det.ele_ucorr', 2011: 'ogs201101_12_det.ele_ucorr', 2012: 'ogs201201_12_det.ele_ucorr', 2013: 'ogs201301_12_det.ele_ucorr', 2014: 'ogs201401_12_det.ele_ucorr', 2015: 'ogs201501_12_det.ele_ucorr', 2016: 'ogs201601_12_det.ele_ucorr', 2017: 'ogs201701_12_det.ele_ucorr', 2019: 'ogs201901_12_det.ele_ucorr', 2020: 'ogs202001_12_det.ele_ucorr', 2021: 'ogs202101_12_det.ele_ucorr', 2022: 'ogs202201_12_det.ele_ucorr', 2023: 'ogs202301_12_det.ele_ucorr'}\n",
      "\n",
      "Running OPTICS for Year Range: 2002-2005\n",
      "\n",
      "OPTICS result:\n"
     ]
    },
    {
     "name": "stderr",
     "output_type": "stream",
     "text": [
      "Running OPTICS:   0%|          | 0/3 [00:00<?, ?step/s]"
     ]
    },
    {
     "data": {
      "image/png": "[encoded data removed]",
      "text/plain": [
       "<Figure size 1000x500 with 1 Axes>"
      ]
     },
     "metadata": {},
     "output_type": "display_data"
    },
    {
     "name": "stderr",
     "output_type": "stream",
     "text": [
      "Running OPTICS:  33%|███▎      | 1/3 [00:04<00:09,  4.93s/step]"
     ]
    },
    {
     "name": "stdout",
     "output_type": "stream",
     "text": [
      "Runtime for optics_clustering: 4.932806 seconds\n"
     ]
    },
    {
     "name": "stderr",
     "output_type": "stream",
     "text": [
      "Running OPTICS: 100%|██████████| 3/3 [00:06<00:00,  2.03s/step]\n"
     ]
    },
    {
     "name": "stdout",
     "output_type": "stream",
     "text": [
      "Plot saved as: Images/optics_observations_normal_bins\\optics_2002-2005_min10000_maxepsinf_xi10000000.png\n",
      "\n",
      "OPTICS result:\n"
     ]
    },
    {
     "name": "stderr",
     "output_type": "stream",
     "text": [
      "Running OPTICS:   0%|          | 0/3 [00:00<?, ?step/s]"
     ]
    },
    {
     "data": {
      "image/png": "[encoded data removed]",
      "text/plain": [
       "<Figure size 1000x500 with 1 Axes>"
      ]
     },
     "metadata": {},
     "output_type": "display_data"
    },
    {
     "name": "stderr",
     "output_type": "stream",
     "text": [
      "Running OPTICS:  33%|███▎      | 1/3 [00:04<00:09,  4.67s/step]"
     ]
    },
    {
     "name": "stdout",
     "output_type": "stream",
     "text": [
      "Runtime for optics_clustering: 4.667865 seconds\n"
     ]
    },
    {
     "name": "stderr",
     "output_type": "stream",
     "text": [
      "Running OPTICS: 100%|██████████| 3/3 [00:05<00:00,  1.88s/step]\n"
     ]
    },
    {
     "name": "stdout",
     "output_type": "stream",
     "text": [
      "Plot saved as: Images/optics_observations_normal_bins\\optics_2002-2005_min10000_maxepsinf_xi1.png\n",
      "\n",
      "OPTICS result:\n"
     ]
    },
    {
     "name": "stderr",
     "output_type": "stream",
     "text": [
      "Running OPTICS:   0%|          | 0/3 [00:00<?, ?step/s]"
     ]
    },
    {
     "data": {
      "image/png": "[encoded data removed]",
      "text/plain": [
       "<Figure size 1000x500 with 1 Axes>"
      ]
     },
     "metadata": {},
     "output_type": "display_data"
    },
    {
     "name": "stderr",
     "output_type": "stream",
     "text": [
      "Running OPTICS:  33%|███▎      | 1/3 [00:04<00:09,  4.76s/step]"
     ]
    },
    {
     "name": "stdout",
     "output_type": "stream",
     "text": [
      "Runtime for optics_clustering: 4.761530 seconds\n"
     ]
    },
    {
     "name": "stderr",
     "output_type": "stream",
     "text": [
      "Running OPTICS: 100%|██████████| 3/3 [00:05<00:00,  2.00s/step]\n"
     ]
    },
    {
     "name": "stdout",
     "output_type": "stream",
     "text": [
      "Plot saved as: Images/optics_observations_normal_bins\\optics_2002-2005_min10000_maxepsinf_xi0.1.png\n",
      "\n",
      "OPTICS result:\n"
     ]
    },
    {
     "name": "stderr",
     "output_type": "stream",
     "text": [
      "Running OPTICS:   0%|          | 0/3 [00:00<?, ?step/s]"
     ]
    },
    {
     "data": {
      "image/png": "[encoded data removed]",
      "text/plain": [
       "<Figure size 1000x500 with 1 Axes>"
      ]
     },
     "metadata": {},
     "output_type": "display_data"
    },
    {
     "name": "stderr",
     "output_type": "stream",
     "text": [
      "Running OPTICS:  33%|███▎      | 1/3 [00:05<00:11,  5.69s/step]"
     ]
    },
    {
     "name": "stdout",
     "output_type": "stream",
     "text": [
      "Runtime for optics_clustering: 5.692551 seconds\n"
     ]
    },
    {
     "name": "stderr",
     "output_type": "stream",
     "text": [
      "Running OPTICS: 100%|██████████| 3/3 [00:06<00:00,  2.29s/step]\n"
     ]
    },
    {
     "name": "stdout",
     "output_type": "stream",
     "text": [
      "Plot saved as: Images/optics_observations_normal_bins\\optics_2002-2005_min100_maxepsinf_xi10000000.png\n",
      "\n",
      "OPTICS result:\n"
     ]
    },
    {
     "name": "stderr",
     "output_type": "stream",
     "text": [
      "Running OPTICS:   0%|          | 0/3 [00:00<?, ?step/s]\n"
     ]
    },
    {
     "ename": "KeyboardInterrupt",
     "evalue": "",
     "output_type": "error",
     "traceback": [
      "\u001b[1;31m---------------------------------------------------------------------------\u001b[0m",
      "\u001b[1;31mKeyboardInterrupt\u001b[0m                         Traceback (most recent call last)",
      "Cell \u001b[1;32mIn[1], line 48\u001b[0m\n\u001b[0;32m     46\u001b[0m \u001b[38;5;28;01mfor\u001b[39;00m max_eps \u001b[38;5;129;01min\u001b[39;00m max_eps_vals:\n\u001b[0;32m     47\u001b[0m     \u001b[38;5;28;01mfor\u001b[39;00m xi \u001b[38;5;129;01min\u001b[39;00m xi_vals:\n\u001b[1;32m---> 48\u001b[0m         result_optics, time_optics, n_clusters_optics, points_per_cluster_optics, metrics_optics \u001b[38;5;241m=\u001b[39m run_clustering(\n\u001b[0;32m     49\u001b[0m             optics_clustering, \u001b[38;5;124m\"\u001b[39m\u001b[38;5;124mOPTICS\u001b[39m\u001b[38;5;124m\"\u001b[39m, normalized_data, data_min, data_max, min_sample, max_eps, xi, plot_reachability \u001b[38;5;241m=\u001b[39m \u001b[38;5;28;01mTrue\u001b[39;00m, plot\u001b[38;5;241m=\u001b[39m\u001b[38;5;28;01mFalse\u001b[39;00m\n\u001b[0;32m     50\u001b[0m         )\n\u001b[0;32m     52\u001b[0m         unnormalized_data, cluster_centers \u001b[38;5;241m=\u001b[39m unnormalize(\n\u001b[0;32m     53\u001b[0m             result_optics\u001b[38;5;241m.\u001b[39mdata, result_optics\u001b[38;5;241m.\u001b[39mcluster_centers, data_min, data_max\n\u001b[0;32m     54\u001b[0m         )\n\u001b[0;32m     55\u001b[0m         plotter \u001b[38;5;241m=\u001b[39m ClusterPlotter(unnormalized_data, result_optics\u001b[38;5;241m.\u001b[39mlabels, cluster_centers)\n",
      "File \u001b[1;32mc:\\Users\\fionu\\OneDrive\\Dokumente\\Daten Fiona\\AIUB\\Code\\AIUB-Backup\\clustering\\cluster_data.py:51\u001b[0m, in \u001b[0;36mrun_clustering\u001b[1;34m(algorithm, name, data, data_min, data_max, *args, **kwargs)\u001b[0m\n\u001b[0;32m     48\u001b[0m \u001b[38;5;28mprint\u001b[39m(\u001b[38;5;124mf\u001b[39m\u001b[38;5;124m\"\u001b[39m\u001b[38;5;130;01m\\n\u001b[39;00m\u001b[38;5;132;01m{\u001b[39;00mname\u001b[38;5;132;01m}\u001b[39;00m\u001b[38;5;124m result:\u001b[39m\u001b[38;5;124m\"\u001b[39m)\n\u001b[0;32m     50\u001b[0m \u001b[38;5;28;01mwith\u001b[39;00m tqdm(total\u001b[38;5;241m=\u001b[39m\u001b[38;5;241m3\u001b[39m, desc\u001b[38;5;241m=\u001b[39m\u001b[38;5;124mf\u001b[39m\u001b[38;5;124m\"\u001b[39m\u001b[38;5;124mRunning \u001b[39m\u001b[38;5;132;01m{\u001b[39;00mname\u001b[38;5;132;01m}\u001b[39;00m\u001b[38;5;124m\"\u001b[39m, unit\u001b[38;5;241m=\u001b[39m\u001b[38;5;124m\"\u001b[39m\u001b[38;5;124mstep\u001b[39m\u001b[38;5;124m\"\u001b[39m) \u001b[38;5;28;01mas\u001b[39;00m pbar:\n\u001b[1;32m---> 51\u001b[0m     result, runtime \u001b[38;5;241m=\u001b[39m estimate_runtime(algorithm, data, \u001b[38;5;241m*\u001b[39margs, \u001b[38;5;241m*\u001b[39m\u001b[38;5;241m*\u001b[39mkwargs)\n\u001b[0;32m     52\u001b[0m     pbar\u001b[38;5;241m.\u001b[39mupdate(\u001b[38;5;241m1\u001b[39m)  \u001b[38;5;66;03m# Step 1: Clustering done\u001b[39;00m\n\u001b[0;32m     54\u001b[0m     n_clusters \u001b[38;5;241m=\u001b[39m \u001b[38;5;28mlen\u001b[39m(\u001b[38;5;28mset\u001b[39m(result\u001b[38;5;241m.\u001b[39mlabels))  \u001b[38;5;66;03m# Number of unique labels (clusters)\u001b[39;00m\n",
      "File \u001b[1;32mc:\\Users\\fionu\\OneDrive\\Dokumente\\Daten Fiona\\AIUB\\Code\\AIUB-Backup\\clustering\\cluster_data.py:330\u001b[0m, in \u001b[0;36mestimate_runtime\u001b[1;34m(clustering_func, build_function, swap_function, *args, **kwargs)\u001b[0m\n\u001b[0;32m    328\u001b[0m     result \u001b[38;5;241m=\u001b[39m clustering_func(data, \u001b[38;5;241m*\u001b[39m\u001b[38;5;241m*\u001b[39mkwargs)  \u001b[38;5;66;03m# No k required\u001b[39;00m\n\u001b[0;32m    329\u001b[0m \u001b[38;5;28;01melif\u001b[39;00m clustering_func \u001b[38;5;241m==\u001b[39m OPTICS\u001b[38;5;241m.\u001b[39moptics_clustering: \n\u001b[1;32m--> 330\u001b[0m     result \u001b[38;5;241m=\u001b[39m clustering_func(data, \u001b[38;5;241m*\u001b[39m\u001b[38;5;241m*\u001b[39mkwargs) \u001b[38;5;66;03m# No k required\u001b[39;00m\n\u001b[0;32m    331\u001b[0m \u001b[38;5;28;01melif\u001b[39;00m clustering_func \u001b[38;5;241m==\u001b[39m HDBSCAN\u001b[38;5;241m.\u001b[39mhdbscan_clustering: \n\u001b[0;32m    332\u001b[0m     result \u001b[38;5;241m=\u001b[39m clustering_func(data, \u001b[38;5;241m*\u001b[39m\u001b[38;5;241m*\u001b[39mkwargs) \u001b[38;5;66;03m# No k required\u001b[39;00m\n",
      "File \u001b[1;32mc:\\Users\\fionu\\OneDrive\\Dokumente\\Daten Fiona\\AIUB\\Code\\AIUB-Backup\\clustering\\OPTICS.py:32\u001b[0m, in \u001b[0;36moptics_clustering\u001b[1;34m(data, min_samples, max_eps, xi, plot_reachability)\u001b[0m\n\u001b[0;32m      7\u001b[0m \u001b[38;5;250m\u001b[39m\u001b[38;5;124;03m\"\"\"\u001b[39;00m\n\u001b[0;32m      8\u001b[0m \u001b[38;5;124;03mPerform OPTICS clustering.\u001b[39;00m\n\u001b[0;32m      9\u001b[0m \n\u001b[1;32m   (...)\u001b[0m\n\u001b[0;32m     29\u001b[0m \u001b[38;5;124;03m    ClusteringResult: Named tuple with labels and cluster centers (calculated with mean).\u001b[39;00m\n\u001b[0;32m     30\u001b[0m \u001b[38;5;124;03m\"\"\"\u001b[39;00m\n\u001b[0;32m     31\u001b[0m optics \u001b[38;5;241m=\u001b[39m OPTICS(min_samples\u001b[38;5;241m=\u001b[39mmin_samples, max_eps\u001b[38;5;241m=\u001b[39mmax_eps, xi\u001b[38;5;241m=\u001b[39mxi)\n\u001b[1;32m---> 32\u001b[0m labels \u001b[38;5;241m=\u001b[39m optics\u001b[38;5;241m.\u001b[39mfit_predict(data)\n\u001b[0;32m     34\u001b[0m unique_clusters \u001b[38;5;241m=\u001b[39m np\u001b[38;5;241m.\u001b[39munique(labels[labels \u001b[38;5;241m!=\u001b[39m \u001b[38;5;241m-\u001b[39m\u001b[38;5;241m1\u001b[39m])  \u001b[38;5;66;03m# Ignore noise (-1)\u001b[39;00m\n\u001b[0;32m     35\u001b[0m cluster_centers \u001b[38;5;241m=\u001b[39m np\u001b[38;5;241m.\u001b[39marray([\n\u001b[0;32m     36\u001b[0m     np\u001b[38;5;241m.\u001b[39mmean(data[labels \u001b[38;5;241m==\u001b[39m cluster], axis\u001b[38;5;241m=\u001b[39m\u001b[38;5;241m0\u001b[39m) \u001b[38;5;28;01mif\u001b[39;00m np\u001b[38;5;241m.\u001b[39many(labels \u001b[38;5;241m==\u001b[39m cluster) \u001b[38;5;28;01melse\u001b[39;00m np\u001b[38;5;241m.\u001b[39mnan\n\u001b[0;32m     37\u001b[0m     \u001b[38;5;28;01mfor\u001b[39;00m cluster \u001b[38;5;129;01min\u001b[39;00m unique_clusters\n\u001b[0;32m     38\u001b[0m ])\n",
      "File \u001b[1;32mc:\\Users\\fionu\\anaconda3\\Lib\\site-packages\\sklearn\\base.py:900\u001b[0m, in \u001b[0;36mClusterMixin.fit_predict\u001b[1;34m(self, X, y, **kwargs)\u001b[0m\n\u001b[0;32m    877\u001b[0m \u001b[38;5;250m\u001b[39m\u001b[38;5;124;03m\"\"\"\u001b[39;00m\n\u001b[0;32m    878\u001b[0m \u001b[38;5;124;03mPerform clustering on `X` and returns cluster labels.\u001b[39;00m\n\u001b[0;32m    879\u001b[0m \n\u001b[1;32m   (...)\u001b[0m\n\u001b[0;32m    896\u001b[0m \u001b[38;5;124;03m    Cluster labels.\u001b[39;00m\n\u001b[0;32m    897\u001b[0m \u001b[38;5;124;03m\"\"\"\u001b[39;00m\n\u001b[0;32m    898\u001b[0m \u001b[38;5;66;03m# non-optimized default implementation; override when a better\u001b[39;00m\n\u001b[0;32m    899\u001b[0m \u001b[38;5;66;03m# method is possible for a given clustering algorithm\u001b[39;00m\n\u001b[1;32m--> 900\u001b[0m \u001b[38;5;28mself\u001b[39m\u001b[38;5;241m.\u001b[39mfit(X, \u001b[38;5;241m*\u001b[39m\u001b[38;5;241m*\u001b[39mkwargs)\n\u001b[0;32m    901\u001b[0m \u001b[38;5;28;01mreturn\u001b[39;00m \u001b[38;5;28mself\u001b[39m\u001b[38;5;241m.\u001b[39mlabels_\n",
      "File \u001b[1;32mc:\\Users\\fionu\\anaconda3\\Lib\\site-packages\\sklearn\\base.py:1473\u001b[0m, in \u001b[0;36m_fit_context.<locals>.decorator.<locals>.wrapper\u001b[1;34m(estimator, *args, **kwargs)\u001b[0m\n\u001b[0;32m   1466\u001b[0m     estimator\u001b[38;5;241m.\u001b[39m_validate_params()\n\u001b[0;32m   1468\u001b[0m \u001b[38;5;28;01mwith\u001b[39;00m config_context(\n\u001b[0;32m   1469\u001b[0m     skip_parameter_validation\u001b[38;5;241m=\u001b[39m(\n\u001b[0;32m   1470\u001b[0m         prefer_skip_nested_validation \u001b[38;5;129;01mor\u001b[39;00m global_skip_validation\n\u001b[0;32m   1471\u001b[0m     )\n\u001b[0;32m   1472\u001b[0m ):\n\u001b[1;32m-> 1473\u001b[0m     \u001b[38;5;28;01mreturn\u001b[39;00m fit_method(estimator, \u001b[38;5;241m*\u001b[39margs, \u001b[38;5;241m*\u001b[39m\u001b[38;5;241m*\u001b[39mkwargs)\n",
      "File \u001b[1;32mc:\\Users\\fionu\\anaconda3\\Lib\\site-packages\\sklearn\\cluster\\_optics.py:350\u001b[0m, in \u001b[0;36mOPTICS.fit\u001b[1;34m(self, X, y)\u001b[0m\n\u001b[0;32m    342\u001b[0m         X\u001b[38;5;241m.\u001b[39msetdiag(X\u001b[38;5;241m.\u001b[39mdiagonal())\n\u001b[0;32m    343\u001b[0m memory \u001b[38;5;241m=\u001b[39m check_memory(\u001b[38;5;28mself\u001b[39m\u001b[38;5;241m.\u001b[39mmemory)\n\u001b[0;32m    345\u001b[0m (\n\u001b[0;32m    346\u001b[0m     \u001b[38;5;28mself\u001b[39m\u001b[38;5;241m.\u001b[39mordering_,\n\u001b[0;32m    347\u001b[0m     \u001b[38;5;28mself\u001b[39m\u001b[38;5;241m.\u001b[39mcore_distances_,\n\u001b[0;32m    348\u001b[0m     \u001b[38;5;28mself\u001b[39m\u001b[38;5;241m.\u001b[39mreachability_,\n\u001b[0;32m    349\u001b[0m     \u001b[38;5;28mself\u001b[39m\u001b[38;5;241m.\u001b[39mpredecessor_,\n\u001b[1;32m--> 350\u001b[0m ) \u001b[38;5;241m=\u001b[39m memory\u001b[38;5;241m.\u001b[39mcache(compute_optics_graph)(\n\u001b[0;32m    351\u001b[0m     X\u001b[38;5;241m=\u001b[39mX,\n\u001b[0;32m    352\u001b[0m     min_samples\u001b[38;5;241m=\u001b[39m\u001b[38;5;28mself\u001b[39m\u001b[38;5;241m.\u001b[39mmin_samples,\n\u001b[0;32m    353\u001b[0m     algorithm\u001b[38;5;241m=\u001b[39m\u001b[38;5;28mself\u001b[39m\u001b[38;5;241m.\u001b[39malgorithm,\n\u001b[0;32m    354\u001b[0m     leaf_size\u001b[38;5;241m=\u001b[39m\u001b[38;5;28mself\u001b[39m\u001b[38;5;241m.\u001b[39mleaf_size,\n\u001b[0;32m    355\u001b[0m     metric\u001b[38;5;241m=\u001b[39m\u001b[38;5;28mself\u001b[39m\u001b[38;5;241m.\u001b[39mmetric,\n\u001b[0;32m    356\u001b[0m     metric_params\u001b[38;5;241m=\u001b[39m\u001b[38;5;28mself\u001b[39m\u001b[38;5;241m.\u001b[39mmetric_params,\n\u001b[0;32m    357\u001b[0m     p\u001b[38;5;241m=\u001b[39m\u001b[38;5;28mself\u001b[39m\u001b[38;5;241m.\u001b[39mp,\n\u001b[0;32m    358\u001b[0m     n_jobs\u001b[38;5;241m=\u001b[39m\u001b[38;5;28mself\u001b[39m\u001b[38;5;241m.\u001b[39mn_jobs,\n\u001b[0;32m    359\u001b[0m     max_eps\u001b[38;5;241m=\u001b[39m\u001b[38;5;28mself\u001b[39m\u001b[38;5;241m.\u001b[39mmax_eps,\n\u001b[0;32m    360\u001b[0m )\n\u001b[0;32m    362\u001b[0m \u001b[38;5;66;03m# Extract clusters from the calculated orders and reachability\u001b[39;00m\n\u001b[0;32m    363\u001b[0m \u001b[38;5;28;01mif\u001b[39;00m \u001b[38;5;28mself\u001b[39m\u001b[38;5;241m.\u001b[39mcluster_method \u001b[38;5;241m==\u001b[39m \u001b[38;5;124m\"\u001b[39m\u001b[38;5;124mxi\u001b[39m\u001b[38;5;124m\"\u001b[39m:\n",
      "File \u001b[1;32mc:\\Users\\fionu\\anaconda3\\Lib\\site-packages\\joblib\\memory.py:312\u001b[0m, in \u001b[0;36mNotMemorizedFunc.__call__\u001b[1;34m(self, *args, **kwargs)\u001b[0m\n\u001b[0;32m    311\u001b[0m \u001b[38;5;28;01mdef\u001b[39;00m \u001b[38;5;21m__call__\u001b[39m(\u001b[38;5;28mself\u001b[39m, \u001b[38;5;241m*\u001b[39margs, \u001b[38;5;241m*\u001b[39m\u001b[38;5;241m*\u001b[39mkwargs):\n\u001b[1;32m--> 312\u001b[0m     \u001b[38;5;28;01mreturn\u001b[39;00m \u001b[38;5;28mself\u001b[39m\u001b[38;5;241m.\u001b[39mfunc(\u001b[38;5;241m*\u001b[39margs, \u001b[38;5;241m*\u001b[39m\u001b[38;5;241m*\u001b[39mkwargs)\n",
      "File \u001b[1;32mc:\\Users\\fionu\\anaconda3\\Lib\\site-packages\\sklearn\\utils\\_param_validation.py:213\u001b[0m, in \u001b[0;36mvalidate_params.<locals>.decorator.<locals>.wrapper\u001b[1;34m(*args, **kwargs)\u001b[0m\n\u001b[0;32m    207\u001b[0m \u001b[38;5;28;01mtry\u001b[39;00m:\n\u001b[0;32m    208\u001b[0m     \u001b[38;5;28;01mwith\u001b[39;00m config_context(\n\u001b[0;32m    209\u001b[0m         skip_parameter_validation\u001b[38;5;241m=\u001b[39m(\n\u001b[0;32m    210\u001b[0m             prefer_skip_nested_validation \u001b[38;5;129;01mor\u001b[39;00m global_skip_validation\n\u001b[0;32m    211\u001b[0m         )\n\u001b[0;32m    212\u001b[0m     ):\n\u001b[1;32m--> 213\u001b[0m         \u001b[38;5;28;01mreturn\u001b[39;00m func(\u001b[38;5;241m*\u001b[39margs, \u001b[38;5;241m*\u001b[39m\u001b[38;5;241m*\u001b[39mkwargs)\n\u001b[0;32m    214\u001b[0m \u001b[38;5;28;01mexcept\u001b[39;00m InvalidParameterError \u001b[38;5;28;01mas\u001b[39;00m e:\n\u001b[0;32m    215\u001b[0m     \u001b[38;5;66;03m# When the function is just a wrapper around an estimator, we allow\u001b[39;00m\n\u001b[0;32m    216\u001b[0m     \u001b[38;5;66;03m# the function to delegate validation to the estimator, but we replace\u001b[39;00m\n\u001b[0;32m    217\u001b[0m     \u001b[38;5;66;03m# the name of the estimator by the name of the function in the error\u001b[39;00m\n\u001b[0;32m    218\u001b[0m     \u001b[38;5;66;03m# message to avoid confusion.\u001b[39;00m\n\u001b[0;32m    219\u001b[0m     msg \u001b[38;5;241m=\u001b[39m re\u001b[38;5;241m.\u001b[39msub(\n\u001b[0;32m    220\u001b[0m         \u001b[38;5;124mr\u001b[39m\u001b[38;5;124m\"\u001b[39m\u001b[38;5;124mparameter of \u001b[39m\u001b[38;5;124m\\\u001b[39m\u001b[38;5;124mw+ must be\u001b[39m\u001b[38;5;124m\"\u001b[39m,\n\u001b[0;32m    221\u001b[0m         \u001b[38;5;124mf\u001b[39m\u001b[38;5;124m\"\u001b[39m\u001b[38;5;124mparameter of \u001b[39m\u001b[38;5;132;01m{\u001b[39;00mfunc\u001b[38;5;241m.\u001b[39m\u001b[38;5;18m__qualname__\u001b[39m\u001b[38;5;132;01m}\u001b[39;00m\u001b[38;5;124m must be\u001b[39m\u001b[38;5;124m\"\u001b[39m,\n\u001b[0;32m    222\u001b[0m         \u001b[38;5;28mstr\u001b[39m(e),\n\u001b[0;32m    223\u001b[0m     )\n",
      "File \u001b[1;32mc:\\Users\\fionu\\anaconda3\\Lib\\site-packages\\sklearn\\cluster\\_optics.py:647\u001b[0m, in \u001b[0;36mcompute_optics_graph\u001b[1;34m(X, min_samples, max_eps, metric, p, metric_params, algorithm, leaf_size, n_jobs)\u001b[0m\n\u001b[0;32m    645\u001b[0m     ordering[ordering_idx] \u001b[38;5;241m=\u001b[39m point\n\u001b[0;32m    646\u001b[0m     \u001b[38;5;28;01mif\u001b[39;00m core_distances_[point] \u001b[38;5;241m!=\u001b[39m np\u001b[38;5;241m.\u001b[39minf:\n\u001b[1;32m--> 647\u001b[0m         _set_reach_dist(\n\u001b[0;32m    648\u001b[0m             core_distances_\u001b[38;5;241m=\u001b[39mcore_distances_,\n\u001b[0;32m    649\u001b[0m             reachability_\u001b[38;5;241m=\u001b[39mreachability_,\n\u001b[0;32m    650\u001b[0m             predecessor_\u001b[38;5;241m=\u001b[39mpredecessor_,\n\u001b[0;32m    651\u001b[0m             point_index\u001b[38;5;241m=\u001b[39mpoint,\n\u001b[0;32m    652\u001b[0m             processed\u001b[38;5;241m=\u001b[39mprocessed,\n\u001b[0;32m    653\u001b[0m             X\u001b[38;5;241m=\u001b[39mX,\n\u001b[0;32m    654\u001b[0m             nbrs\u001b[38;5;241m=\u001b[39mnbrs,\n\u001b[0;32m    655\u001b[0m             metric\u001b[38;5;241m=\u001b[39mmetric,\n\u001b[0;32m    656\u001b[0m             metric_params\u001b[38;5;241m=\u001b[39mmetric_params,\n\u001b[0;32m    657\u001b[0m             p\u001b[38;5;241m=\u001b[39mp,\n\u001b[0;32m    658\u001b[0m             max_eps\u001b[38;5;241m=\u001b[39mmax_eps,\n\u001b[0;32m    659\u001b[0m         )\n\u001b[0;32m    660\u001b[0m \u001b[38;5;28;01mif\u001b[39;00m np\u001b[38;5;241m.\u001b[39mall(np\u001b[38;5;241m.\u001b[39misinf(reachability_)):\n\u001b[0;32m    661\u001b[0m     warnings\u001b[38;5;241m.\u001b[39mwarn(\n\u001b[0;32m    662\u001b[0m         (\n\u001b[0;32m    663\u001b[0m             \u001b[38;5;124m\"\u001b[39m\u001b[38;5;124mAll reachability values are inf. Set a larger\u001b[39m\u001b[38;5;124m\"\u001b[39m\n\u001b[1;32m   (...)\u001b[0m\n\u001b[0;32m    666\u001b[0m         \u001b[38;5;167;01mUserWarning\u001b[39;00m,\n\u001b[0;32m    667\u001b[0m     )\n",
      "File \u001b[1;32mc:\\Users\\fionu\\anaconda3\\Lib\\site-packages\\sklearn\\cluster\\_optics.py:688\u001b[0m, in \u001b[0;36m_set_reach_dist\u001b[1;34m(core_distances_, reachability_, predecessor_, point_index, processed, X, nbrs, metric, metric_params, p, max_eps)\u001b[0m\n\u001b[0;32m    684\u001b[0m P \u001b[38;5;241m=\u001b[39m X[point_index : point_index \u001b[38;5;241m+\u001b[39m \u001b[38;5;241m1\u001b[39m]\n\u001b[0;32m    685\u001b[0m \u001b[38;5;66;03m# Assume that radius_neighbors is faster without distances\u001b[39;00m\n\u001b[0;32m    686\u001b[0m \u001b[38;5;66;03m# and we don't need all distances, nevertheless, this means\u001b[39;00m\n\u001b[0;32m    687\u001b[0m \u001b[38;5;66;03m# we may be doing some work twice.\u001b[39;00m\n\u001b[1;32m--> 688\u001b[0m indices \u001b[38;5;241m=\u001b[39m nbrs\u001b[38;5;241m.\u001b[39mradius_neighbors(P, radius\u001b[38;5;241m=\u001b[39mmax_eps, return_distance\u001b[38;5;241m=\u001b[39m\u001b[38;5;28;01mFalse\u001b[39;00m)[\u001b[38;5;241m0\u001b[39m]\n\u001b[0;32m    690\u001b[0m \u001b[38;5;66;03m# Getting indices of neighbors that have not been processed\u001b[39;00m\n\u001b[0;32m    691\u001b[0m unproc \u001b[38;5;241m=\u001b[39m np\u001b[38;5;241m.\u001b[39mcompress(\u001b[38;5;241m~\u001b[39mnp\u001b[38;5;241m.\u001b[39mtake(processed, indices), indices)\n",
      "File \u001b[1;32mc:\\Users\\fionu\\anaconda3\\Lib\\site-packages\\sklearn\\neighbors\\_base.py:1260\u001b[0m, in \u001b[0;36mRadiusNeighborsMixin.radius_neighbors\u001b[1;34m(self, X, radius, return_distance, sort_results)\u001b[0m\n\u001b[0;32m   1258\u001b[0m n_jobs \u001b[38;5;241m=\u001b[39m effective_n_jobs(\u001b[38;5;28mself\u001b[39m\u001b[38;5;241m.\u001b[39mn_jobs)\n\u001b[0;32m   1259\u001b[0m delayed_query \u001b[38;5;241m=\u001b[39m delayed(_tree_query_radius_parallel_helper)\n\u001b[1;32m-> 1260\u001b[0m chunked_results \u001b[38;5;241m=\u001b[39m Parallel(n_jobs, prefer\u001b[38;5;241m=\u001b[39m\u001b[38;5;124m\"\u001b[39m\u001b[38;5;124mthreads\u001b[39m\u001b[38;5;124m\"\u001b[39m)(\n\u001b[0;32m   1261\u001b[0m     delayed_query(\n\u001b[0;32m   1262\u001b[0m         \u001b[38;5;28mself\u001b[39m\u001b[38;5;241m.\u001b[39m_tree, X[s], radius, return_distance, sort_results\u001b[38;5;241m=\u001b[39msort_results\n\u001b[0;32m   1263\u001b[0m     )\n\u001b[0;32m   1264\u001b[0m     \u001b[38;5;28;01mfor\u001b[39;00m s \u001b[38;5;129;01min\u001b[39;00m gen_even_slices(X\u001b[38;5;241m.\u001b[39mshape[\u001b[38;5;241m0\u001b[39m], n_jobs)\n\u001b[0;32m   1265\u001b[0m )\n\u001b[0;32m   1266\u001b[0m \u001b[38;5;28;01mif\u001b[39;00m return_distance:\n\u001b[0;32m   1267\u001b[0m     neigh_ind, neigh_dist \u001b[38;5;241m=\u001b[39m \u001b[38;5;28mtuple\u001b[39m(\u001b[38;5;28mzip\u001b[39m(\u001b[38;5;241m*\u001b[39mchunked_results))\n",
      "File \u001b[1;32mc:\\Users\\fionu\\anaconda3\\Lib\\site-packages\\sklearn\\utils\\parallel.py:74\u001b[0m, in \u001b[0;36mParallel.__call__\u001b[1;34m(self, iterable)\u001b[0m\n\u001b[0;32m     69\u001b[0m config \u001b[38;5;241m=\u001b[39m get_config()\n\u001b[0;32m     70\u001b[0m iterable_with_config \u001b[38;5;241m=\u001b[39m (\n\u001b[0;32m     71\u001b[0m     (_with_config(delayed_func, config), args, kwargs)\n\u001b[0;32m     72\u001b[0m     \u001b[38;5;28;01mfor\u001b[39;00m delayed_func, args, kwargs \u001b[38;5;129;01min\u001b[39;00m iterable\n\u001b[0;32m     73\u001b[0m )\n\u001b[1;32m---> 74\u001b[0m \u001b[38;5;28;01mreturn\u001b[39;00m \u001b[38;5;28msuper\u001b[39m()\u001b[38;5;241m.\u001b[39m\u001b[38;5;21m__call__\u001b[39m(iterable_with_config)\n",
      "File \u001b[1;32mc:\\Users\\fionu\\anaconda3\\Lib\\site-packages\\joblib\\parallel.py:1918\u001b[0m, in \u001b[0;36mParallel.__call__\u001b[1;34m(self, iterable)\u001b[0m\n\u001b[0;32m   1916\u001b[0m     output \u001b[38;5;241m=\u001b[39m \u001b[38;5;28mself\u001b[39m\u001b[38;5;241m.\u001b[39m_get_sequential_output(iterable)\n\u001b[0;32m   1917\u001b[0m     \u001b[38;5;28mnext\u001b[39m(output)\n\u001b[1;32m-> 1918\u001b[0m     \u001b[38;5;28;01mreturn\u001b[39;00m output \u001b[38;5;28;01mif\u001b[39;00m \u001b[38;5;28mself\u001b[39m\u001b[38;5;241m.\u001b[39mreturn_generator \u001b[38;5;28;01melse\u001b[39;00m \u001b[38;5;28mlist\u001b[39m(output)\n\u001b[0;32m   1920\u001b[0m \u001b[38;5;66;03m# Let's create an ID that uniquely identifies the current call. If the\u001b[39;00m\n\u001b[0;32m   1921\u001b[0m \u001b[38;5;66;03m# call is interrupted early and that the same instance is immediately\u001b[39;00m\n\u001b[0;32m   1922\u001b[0m \u001b[38;5;66;03m# re-used, this id will be used to prevent workers that were\u001b[39;00m\n\u001b[0;32m   1923\u001b[0m \u001b[38;5;66;03m# concurrently finalizing a task from the previous call to run the\u001b[39;00m\n\u001b[0;32m   1924\u001b[0m \u001b[38;5;66;03m# callback.\u001b[39;00m\n\u001b[0;32m   1925\u001b[0m \u001b[38;5;28;01mwith\u001b[39;00m \u001b[38;5;28mself\u001b[39m\u001b[38;5;241m.\u001b[39m_lock:\n",
      "File \u001b[1;32mc:\\Users\\fionu\\anaconda3\\Lib\\site-packages\\joblib\\parallel.py:1847\u001b[0m, in \u001b[0;36mParallel._get_sequential_output\u001b[1;34m(self, iterable)\u001b[0m\n\u001b[0;32m   1845\u001b[0m \u001b[38;5;28mself\u001b[39m\u001b[38;5;241m.\u001b[39mn_dispatched_batches \u001b[38;5;241m+\u001b[39m\u001b[38;5;241m=\u001b[39m \u001b[38;5;241m1\u001b[39m\n\u001b[0;32m   1846\u001b[0m \u001b[38;5;28mself\u001b[39m\u001b[38;5;241m.\u001b[39mn_dispatched_tasks \u001b[38;5;241m+\u001b[39m\u001b[38;5;241m=\u001b[39m \u001b[38;5;241m1\u001b[39m\n\u001b[1;32m-> 1847\u001b[0m res \u001b[38;5;241m=\u001b[39m func(\u001b[38;5;241m*\u001b[39margs, \u001b[38;5;241m*\u001b[39m\u001b[38;5;241m*\u001b[39mkwargs)\n\u001b[0;32m   1848\u001b[0m \u001b[38;5;28mself\u001b[39m\u001b[38;5;241m.\u001b[39mn_completed_tasks \u001b[38;5;241m+\u001b[39m\u001b[38;5;241m=\u001b[39m \u001b[38;5;241m1\u001b[39m\n\u001b[0;32m   1849\u001b[0m \u001b[38;5;28mself\u001b[39m\u001b[38;5;241m.\u001b[39mprint_progress()\n",
      "File \u001b[1;32mc:\\Users\\fionu\\anaconda3\\Lib\\site-packages\\sklearn\\utils\\parallel.py:136\u001b[0m, in \u001b[0;36m_FuncWrapper.__call__\u001b[1;34m(self, *args, **kwargs)\u001b[0m\n\u001b[0;32m    134\u001b[0m     config \u001b[38;5;241m=\u001b[39m {}\n\u001b[0;32m    135\u001b[0m \u001b[38;5;28;01mwith\u001b[39;00m config_context(\u001b[38;5;241m*\u001b[39m\u001b[38;5;241m*\u001b[39mconfig):\n\u001b[1;32m--> 136\u001b[0m     \u001b[38;5;28;01mreturn\u001b[39;00m \u001b[38;5;28mself\u001b[39m\u001b[38;5;241m.\u001b[39mfunction(\u001b[38;5;241m*\u001b[39margs, \u001b[38;5;241m*\u001b[39m\u001b[38;5;241m*\u001b[39mkwargs)\n",
      "File \u001b[1;32mc:\\Users\\fionu\\anaconda3\\Lib\\site-packages\\sklearn\\neighbors\\_base.py:1039\u001b[0m, in \u001b[0;36m_tree_query_radius_parallel_helper\u001b[1;34m(tree, *args, **kwargs)\u001b[0m\n\u001b[0;32m   1033\u001b[0m \u001b[38;5;28;01mdef\u001b[39;00m \u001b[38;5;21m_tree_query_radius_parallel_helper\u001b[39m(tree, \u001b[38;5;241m*\u001b[39margs, \u001b[38;5;241m*\u001b[39m\u001b[38;5;241m*\u001b[39mkwargs):\n\u001b[0;32m   1034\u001b[0m \u001b[38;5;250m    \u001b[39m\u001b[38;5;124;03m\"\"\"Helper for the Parallel calls in RadiusNeighborsMixin.radius_neighbors.\u001b[39;00m\n\u001b[0;32m   1035\u001b[0m \n\u001b[0;32m   1036\u001b[0m \u001b[38;5;124;03m    The Cython method tree.query_radius is not directly picklable by\u001b[39;00m\n\u001b[0;32m   1037\u001b[0m \u001b[38;5;124;03m    cloudpickle under PyPy.\u001b[39;00m\n\u001b[0;32m   1038\u001b[0m \u001b[38;5;124;03m    \"\"\"\u001b[39;00m\n\u001b[1;32m-> 1039\u001b[0m     \u001b[38;5;28;01mreturn\u001b[39;00m tree\u001b[38;5;241m.\u001b[39mquery_radius(\u001b[38;5;241m*\u001b[39margs, \u001b[38;5;241m*\u001b[39m\u001b[38;5;241m*\u001b[39mkwargs)\n",
      "\u001b[1;31mKeyboardInterrupt\u001b[0m: "
     ]
    }
   ],
   "source": [
    "import cluster_data\n",
    "from cluster_data import run_clustering, normalize_data, unnormalize\n",
    "import numpy as np\n",
    "import pandas as pd\n",
    "import os\n",
    "import cluster_plotter\n",
    "from OPTICS import optics_clustering\n",
    "from cluster_plotter import ClusterPlotter\n",
    "from clustering_utils import ClusterData\n",
    "\n",
    "# Define observed files\n",
    "uncorr_obs_files = {\n",
    "    year: f\"ogs{year}01_12_det.ele_ucorr\" if year != 2002 else f\"ogs{year}08_12_det.ele_ucorr\"\n",
    "    for year in range(2002, 2024) if year != 2018  # Exclude 2018 if missing\n",
    "}\n",
    "\n",
    "print(uncorr_obs_files)\n",
    "\n",
    "standard_year_ranges = {f\"{start}-{start + 3}\": np.arange(start, start + 4) for start in [2002, 2006, 2010, 2014]}\n",
    "standard_year_ranges[\"2019-2023\"] = np.arange(2019, 2024)\n",
    "\n",
    "running_ranges = cluster_data.generate_running_year_ranges(2002, 2023, 4)\n",
    "year_ranges = standard_year_ranges\n",
    "\n",
    "# Bin the observed data\n",
    "binned_data = cluster_data.bin_observed_data(uncorr_obs_files, year_ranges, print_res=False)\n",
    "results_per_year_range = {}\n",
    "\n",
    "plot_dir = \"Images/optics_observations_normal_bins\"\n",
    "os.makedirs(plot_dir, exist_ok=True)\n",
    "cluster_plotter.clear_directory(plot_dir)\n",
    "\n",
    "for cluster_data, year_range in binned_data:  \n",
    "    print(f\"\\nRunning OPTICS for Year Range: {year_range}\")\n",
    "\n",
    "    data_array = np.array([cluster_data.inc, cluster_data.raan]).T\n",
    "    normalized_data, data_min, data_max = normalize_data(data_array)\n",
    "\n",
    "    min_samples_values = [10000, 100, 10]\n",
    "    max_eps_vals = [np.inf]\n",
    "    xi_vals = [10000000, 1, 0.1]\n",
    "\n",
    "    results = []\n",
    "\n",
    "    for min_sample in min_samples_values: \n",
    "        for max_eps in max_eps_vals:\n",
    "            for xi in xi_vals:\n",
    "                result_optics, time_optics, n_clusters_optics, points_per_cluster_optics, metrics_optics = run_clustering(\n",
    "                    optics_clustering, \"OPTICS\", normalized_data, data_min, data_max, min_sample, max_eps, xi, plot_reachability = True, plot=False\n",
    "                )\n",
    "\n",
    "                unnormalized_data, cluster_centers = unnormalize(\n",
    "                    result_optics.data, result_optics.cluster_centers, data_min, data_max\n",
    "                )\n",
    "                plotter = ClusterPlotter(unnormalized_data, result_optics.labels, cluster_centers)\n",
    "                plot_filename = os.path.join(plot_dir, f\"optics_{year_range}_min{min_sample}_maxeps{max_eps}_xi{xi}.png\")\n",
    "                title = f\"OPTICS: years = {year_range}, min: {min_sample}, maxeps: {max_eps}, xi: {xi},\"\n",
    "                plotter.clusters_2d_plot(title, plot_filename)\n",
    "\n",
    "                # Round metric results\n",
    "                rounded_cluster_std = {key: tuple(round(val, 3) for val in value) for key, value in metrics_optics[4].items()}\n",
    "                rounded_square_density = {key: round(value, 3) for key, value in metrics_optics[5].items()}\n",
    "                rounded_hull_density = {key: round(value, 3) for key, value in metrics_optics[6].items()}\n",
    "\n",
    "                results.append({\n",
    "                    \"Year Range\": year_range,\n",
    "                    \"k\": n_clusters_optics,\n",
    "                    \"Runtime (s)\": f\"{time_optics:.3f}\",\n",
    "                    \"Clusters\": n_clusters_optics,\n",
    "                    \"Points per Cluster\": points_per_cluster_optics,\n",
    "                    \"Davies-Bouldin\": f\"{metrics_optics[0]:.3f}\" if metrics_optics and isinstance(metrics_optics[0], (int, float)) else None,\n",
    "                    \"Calinski-Harabasz\": f\"{metrics_optics[1]:.3f}\" if metrics_optics and isinstance(metrics_optics[1], (int, float)) else None,\n",
    "                    \"Dunn Index\": f\"{metrics_optics[2]:.3f}\" if metrics_optics and isinstance(metrics_optics[2], (int, float)) else None,\n",
    "                    \"Silhouette Score\": f\"{metrics_optics[3]:.3f}\" if metrics_optics and isinstance(metrics_optics[3], (int, float)) else None,\n",
    "                    \"Cluster Std.\": rounded_cluster_std if rounded_cluster_std else None,\n",
    "                    \"Square Density\": rounded_square_density if rounded_square_density else None,\n",
    "                    \"Hull Density\": rounded_hull_density if rounded_hull_density else None\n",
    "                })\n",
    "\n",
    "    df = pd.DataFrame(results)\n",
    "    display(df)"
   ]
  },
  {
   "cell_type": "markdown",
   "metadata": {},
   "source": [
    "## Observed data, clustering with HDBSCAN"
   ]
  },
  {
   "cell_type": "code",
   "execution_count": null,
   "metadata": {},
   "outputs": [
    {
     "name": "stdout",
     "output_type": "stream",
     "text": [
      "{2002: 'ogs200208_12_det.ele_ucorr', 2003: 'ogs200301_12_det.ele_ucorr', 2004: 'ogs200401_12_det.ele_ucorr', 2005: 'ogs200501_12_det.ele_ucorr', 2006: 'ogs200601_12_det.ele_ucorr', 2007: 'ogs200701_12_det.ele_ucorr', 2008: 'ogs200801_12_det.ele_ucorr', 2009: 'ogs200901_12_det.ele_ucorr', 2010: 'ogs201001_12_det.ele_ucorr', 2011: 'ogs201101_12_det.ele_ucorr', 2012: 'ogs201201_12_det.ele_ucorr', 2013: 'ogs201301_12_det.ele_ucorr', 2014: 'ogs201401_12_det.ele_ucorr', 2015: 'ogs201501_12_det.ele_ucorr', 2016: 'ogs201601_12_det.ele_ucorr', 2017: 'ogs201701_12_det.ele_ucorr', 2019: 'ogs201901_12_det.ele_ucorr', 2020: 'ogs202001_12_det.ele_ucorr', 2021: 'ogs202101_12_det.ele_ucorr', 2022: 'ogs202201_12_det.ele_ucorr', 2023: 'ogs202301_12_det.ele_ucorr'}\n",
      "\n",
      "Running HDBSCAN for Year Range: 2002-2005\n",
      "\n",
      "HDBSCAN result:\n"
     ]
    },
    {
     "name": "stderr",
     "output_type": "stream",
     "text": [
      "Running HDBSCAN:  33%|███▎      | 1/3 [00:01<00:02,  1.50s/step]"
     ]
    },
    {
     "name": "stdout",
     "output_type": "stream",
     "text": [
      "Runtime for hdbscan_clustering: 1.495470 seconds\n"
     ]
    },
    {
     "name": "stderr",
     "output_type": "stream",
     "text": [
      "Running HDBSCAN: 100%|██████████| 3/3 [00:02<00:00,  1.21step/s]\n"
     ]
    },
    {
     "name": "stdout",
     "output_type": "stream",
     "text": [
      "Plot saved as: Images\\hdbscan_observations_normal_bins\\hdbscan_2002-2005_minclust100_minsamplesNone_epsilon0.0.png\n",
      "\n",
      "HDBSCAN result:\n"
     ]
    },
    {
     "name": "stderr",
     "output_type": "stream",
     "text": [
      "Running HDBSCAN:  33%|███▎      | 1/3 [00:01<00:03,  1.60s/step]"
     ]
    },
    {
     "name": "stdout",
     "output_type": "stream",
     "text": [
      "Runtime for hdbscan_clustering: 1.601991 seconds\n"
     ]
    },
    {
     "name": "stderr",
     "output_type": "stream",
     "text": [
      "Running HDBSCAN: 100%|██████████| 3/3 [00:02<00:00,  1.16step/s]\n"
     ]
    },
    {
     "name": "stdout",
     "output_type": "stream",
     "text": [
      "Plot saved as: Images\\hdbscan_observations_normal_bins\\hdbscan_2002-2005_minclust100_minsamplesNone_epsilon0.01.png\n",
      "\n",
      "HDBSCAN result:\n"
     ]
    },
    {
     "name": "stderr",
     "output_type": "stream",
     "text": [
      "Running HDBSCAN:  33%|███▎      | 1/3 [00:01<00:03,  1.55s/step]"
     ]
    },
    {
     "name": "stdout",
     "output_type": "stream",
     "text": [
      "Runtime for hdbscan_clustering: 1.549643 seconds\n"
     ]
    },
    {
     "name": "stderr",
     "output_type": "stream",
     "text": [
      "Running HDBSCAN: 100%|██████████| 3/3 [00:03<00:00,  1.03s/step]\n"
     ]
    },
    {
     "name": "stdout",
     "output_type": "stream",
     "text": [
      "Plot saved as: Images\\hdbscan_observations_normal_bins\\hdbscan_2002-2005_minclust100_minsamplesNone_epsilon0.1.png\n",
      "\n",
      "HDBSCAN result:\n"
     ]
    },
    {
     "name": "stderr",
     "output_type": "stream",
     "text": [
      "Running HDBSCAN:  33%|███▎      | 1/3 [00:03<00:07,  3.75s/step]"
     ]
    },
    {
     "name": "stdout",
     "output_type": "stream",
     "text": [
      "Runtime for hdbscan_clustering: 3.754582 seconds\n"
     ]
    },
    {
     "name": "stderr",
     "output_type": "stream",
     "text": [
      "Running HDBSCAN: 100%|██████████| 3/3 [00:06<00:00,  2.12s/step]\n"
     ]
    },
    {
     "name": "stdout",
     "output_type": "stream",
     "text": [
      "Plot saved as: Images\\hdbscan_observations_normal_bins\\hdbscan_2002-2005_minclust100_minsamples5_epsilon0.0.png\n",
      "\n",
      "HDBSCAN result:\n"
     ]
    },
    {
     "name": "stderr",
     "output_type": "stream",
     "text": [
      "Running HDBSCAN:  33%|███▎      | 1/3 [00:04<00:08,  4.14s/step]"
     ]
    },
    {
     "name": "stdout",
     "output_type": "stream",
     "text": [
      "Runtime for hdbscan_clustering: 4.140529 seconds\n"
     ]
    },
    {
     "name": "stderr",
     "output_type": "stream",
     "text": [
      "Running HDBSCAN: 100%|██████████| 3/3 [00:06<00:00,  2.32s/step]\n"
     ]
    },
    {
     "name": "stdout",
     "output_type": "stream",
     "text": [
      "Plot saved as: Images\\hdbscan_observations_normal_bins\\hdbscan_2002-2005_minclust100_minsamples5_epsilon0.01.png\n",
      "\n",
      "HDBSCAN result:\n"
     ]
    },
    {
     "name": "stderr",
     "output_type": "stream",
     "text": [
      "Running HDBSCAN:  33%|███▎      | 1/3 [00:04<00:08,  4.11s/step]"
     ]
    },
    {
     "name": "stdout",
     "output_type": "stream",
     "text": [
      "Runtime for hdbscan_clustering: 4.112983 seconds\n"
     ]
    },
    {
     "name": "stderr",
     "output_type": "stream",
     "text": [
      "Running HDBSCAN: 100%|██████████| 3/3 [00:05<00:00,  1.71s/step]\n"
     ]
    },
    {
     "name": "stdout",
     "output_type": "stream",
     "text": [
      "Plot saved as: Images\\hdbscan_observations_normal_bins\\hdbscan_2002-2005_minclust100_minsamples5_epsilon0.1.png\n",
      "\n",
      "HDBSCAN result:\n"
     ]
    },
    {
     "name": "stderr",
     "output_type": "stream",
     "text": [
      "Running HDBSCAN:  33%|███▎      | 1/3 [00:01<00:03,  1.50s/step]"
     ]
    },
    {
     "name": "stdout",
     "output_type": "stream",
     "text": [
      "Runtime for hdbscan_clustering: 1.502083 seconds\n"
     ]
    },
    {
     "name": "stderr",
     "output_type": "stream",
     "text": [
      "Running HDBSCAN: 100%|██████████| 3/3 [00:02<00:00,  1.21step/s]\n"
     ]
    },
    {
     "name": "stdout",
     "output_type": "stream",
     "text": [
      "Plot saved as: Images\\hdbscan_observations_normal_bins\\hdbscan_2002-2005_minclust100_minsamples10_epsilon0.0.png\n",
      "\n",
      "HDBSCAN result:\n"
     ]
    },
    {
     "name": "stderr",
     "output_type": "stream",
     "text": [
      "Running HDBSCAN:  33%|███▎      | 1/3 [00:01<00:03,  1.92s/step]"
     ]
    },
    {
     "name": "stdout",
     "output_type": "stream",
     "text": [
      "Runtime for hdbscan_clustering: 1.921177 seconds\n"
     ]
    },
    {
     "name": "stderr",
     "output_type": "stream",
     "text": [
      "Running HDBSCAN: 100%|██████████| 3/3 [00:02<00:00,  1.03step/s]\n"
     ]
    },
    {
     "name": "stdout",
     "output_type": "stream",
     "text": [
      "Plot saved as: Images\\hdbscan_observations_normal_bins\\hdbscan_2002-2005_minclust100_minsamples10_epsilon0.01.png\n",
      "\n",
      "HDBSCAN result:\n"
     ]
    },
    {
     "name": "stderr",
     "output_type": "stream",
     "text": [
      "Running HDBSCAN:  33%|███▎      | 1/3 [00:01<00:03,  1.63s/step]"
     ]
    },
    {
     "name": "stdout",
     "output_type": "stream",
     "text": [
      "Runtime for hdbscan_clustering: 1.634995 seconds\n"
     ]
    },
    {
     "name": "stderr",
     "output_type": "stream",
     "text": [
      "Running HDBSCAN: 100%|██████████| 3/3 [00:02<00:00,  1.16step/s]\n"
     ]
    },
    {
     "name": "stdout",
     "output_type": "stream",
     "text": [
      "Plot saved as: Images\\hdbscan_observations_normal_bins\\hdbscan_2002-2005_minclust100_minsamples10_epsilon0.1.png\n",
      "\n",
      "HDBSCAN result:\n"
     ]
    },
    {
     "name": "stderr",
     "output_type": "stream",
     "text": [
      "Running HDBSCAN:  33%|███▎      | 1/3 [00:01<00:03,  1.81s/step]"
     ]
    },
    {
     "name": "stdout",
     "output_type": "stream",
     "text": [
      "Runtime for hdbscan_clustering: 1.811205 seconds\n"
     ]
    },
    {
     "name": "stderr",
     "output_type": "stream",
     "text": [
      "Running HDBSCAN: 100%|██████████| 3/3 [00:02<00:00,  1.09step/s]\n"
     ]
    },
    {
     "name": "stdout",
     "output_type": "stream",
     "text": [
      "Plot saved as: Images\\hdbscan_observations_normal_bins\\hdbscan_2002-2005_minclust150_minsamplesNone_epsilon0.0.png\n",
      "\n",
      "HDBSCAN result:\n"
     ]
    },
    {
     "name": "stderr",
     "output_type": "stream",
     "text": [
      "Running HDBSCAN:  33%|███▎      | 1/3 [00:01<00:02,  1.40s/step]"
     ]
    },
    {
     "name": "stdout",
     "output_type": "stream",
     "text": [
      "Runtime for hdbscan_clustering: 1.403942 seconds\n"
     ]
    },
    {
     "name": "stderr",
     "output_type": "stream",
     "text": [
      "Running HDBSCAN: 100%|██████████| 3/3 [00:02<00:00,  1.28step/s]\n"
     ]
    },
    {
     "name": "stdout",
     "output_type": "stream",
     "text": [
      "Plot saved as: Images\\hdbscan_observations_normal_bins\\hdbscan_2002-2005_minclust150_minsamplesNone_epsilon0.01.png\n",
      "\n",
      "HDBSCAN result:\n"
     ]
    },
    {
     "name": "stderr",
     "output_type": "stream",
     "text": [
      "Running HDBSCAN:  33%|███▎      | 1/3 [00:01<00:02,  1.38s/step]"
     ]
    },
    {
     "name": "stdout",
     "output_type": "stream",
     "text": [
      "Runtime for hdbscan_clustering: 1.381786 seconds\n"
     ]
    },
    {
     "name": "stderr",
     "output_type": "stream",
     "text": [
      "Running HDBSCAN: 100%|██████████| 3/3 [00:02<00:00,  1.26step/s]\n"
     ]
    },
    {
     "name": "stdout",
     "output_type": "stream",
     "text": [
      "Plot saved as: Images\\hdbscan_observations_normal_bins\\hdbscan_2002-2005_minclust150_minsamplesNone_epsilon0.1.png\n",
      "\n",
      "HDBSCAN result:\n"
     ]
    },
    {
     "name": "stderr",
     "output_type": "stream",
     "text": [
      "Running HDBSCAN:  33%|███▎      | 1/3 [00:01<00:03,  1.87s/step]"
     ]
    },
    {
     "name": "stdout",
     "output_type": "stream",
     "text": [
      "Runtime for hdbscan_clustering: 1.866291 seconds\n"
     ]
    },
    {
     "name": "stderr",
     "output_type": "stream",
     "text": [
      "Running HDBSCAN: 100%|██████████| 3/3 [00:02<00:00,  1.07step/s]\n"
     ]
    },
    {
     "name": "stdout",
     "output_type": "stream",
     "text": [
      "Plot saved as: Images\\hdbscan_observations_normal_bins\\hdbscan_2002-2005_minclust150_minsamples5_epsilon0.0.png\n",
      "\n",
      "HDBSCAN result:\n"
     ]
    },
    {
     "name": "stderr",
     "output_type": "stream",
     "text": [
      "Running HDBSCAN:  33%|███▎      | 1/3 [00:01<00:03,  1.61s/step]"
     ]
    },
    {
     "name": "stdout",
     "output_type": "stream",
     "text": [
      "Runtime for hdbscan_clustering: 1.613288 seconds\n"
     ]
    },
    {
     "name": "stderr",
     "output_type": "stream",
     "text": [
      "Running HDBSCAN: 100%|██████████| 3/3 [00:02<00:00,  1.16step/s]\n"
     ]
    },
    {
     "name": "stdout",
     "output_type": "stream",
     "text": [
      "Plot saved as: Images\\hdbscan_observations_normal_bins\\hdbscan_2002-2005_minclust150_minsamples5_epsilon0.01.png\n",
      "\n",
      "HDBSCAN result:\n"
     ]
    },
    {
     "name": "stderr",
     "output_type": "stream",
     "text": [
      "Running HDBSCAN:  33%|███▎      | 1/3 [00:01<00:02,  1.45s/step]"
     ]
    },
    {
     "name": "stdout",
     "output_type": "stream",
     "text": [
      "Runtime for hdbscan_clustering: 1.449682 seconds\n"
     ]
    },
    {
     "name": "stderr",
     "output_type": "stream",
     "text": [
      "Running HDBSCAN: 100%|██████████| 3/3 [00:02<00:00,  1.23step/s]\n"
     ]
    },
    {
     "name": "stdout",
     "output_type": "stream",
     "text": [
      "Plot saved as: Images\\hdbscan_observations_normal_bins\\hdbscan_2002-2005_minclust150_minsamples5_epsilon0.1.png\n",
      "\n",
      "HDBSCAN result:\n"
     ]
    },
    {
     "name": "stderr",
     "output_type": "stream",
     "text": [
      "Running HDBSCAN:  33%|███▎      | 1/3 [00:02<00:04,  2.18s/step]"
     ]
    },
    {
     "name": "stdout",
     "output_type": "stream",
     "text": [
      "Runtime for hdbscan_clustering: 2.181825 seconds\n"
     ]
    },
    {
     "name": "stderr",
     "output_type": "stream",
     "text": [
      "Running HDBSCAN: 100%|██████████| 3/3 [00:03<00:00,  1.06s/step]\n"
     ]
    },
    {
     "name": "stdout",
     "output_type": "stream",
     "text": [
      "Plot saved as: Images\\hdbscan_observations_normal_bins\\hdbscan_2002-2005_minclust150_minsamples10_epsilon0.0.png\n",
      "\n",
      "HDBSCAN result:\n"
     ]
    },
    {
     "name": "stderr",
     "output_type": "stream",
     "text": [
      "Running HDBSCAN:  33%|███▎      | 1/3 [00:01<00:02,  1.39s/step]"
     ]
    },
    {
     "name": "stdout",
     "output_type": "stream",
     "text": [
      "Runtime for hdbscan_clustering: 1.394416 seconds\n"
     ]
    },
    {
     "name": "stderr",
     "output_type": "stream",
     "text": [
      "Running HDBSCAN: 100%|██████████| 3/3 [00:02<00:00,  1.29step/s]\n"
     ]
    },
    {
     "name": "stdout",
     "output_type": "stream",
     "text": [
      "Plot saved as: Images\\hdbscan_observations_normal_bins\\hdbscan_2002-2005_minclust150_minsamples10_epsilon0.01.png\n",
      "\n",
      "HDBSCAN result:\n"
     ]
    },
    {
     "name": "stderr",
     "output_type": "stream",
     "text": [
      "Running HDBSCAN:  33%|███▎      | 1/3 [00:01<00:02,  1.37s/step]"
     ]
    },
    {
     "name": "stdout",
     "output_type": "stream",
     "text": [
      "Runtime for hdbscan_clustering: 1.369775 seconds\n"
     ]
    },
    {
     "name": "stderr",
     "output_type": "stream",
     "text": [
      "Running HDBSCAN: 100%|██████████| 3/3 [00:02<00:00,  1.27step/s]\n"
     ]
    },
    {
     "name": "stdout",
     "output_type": "stream",
     "text": [
      "Plot saved as: Images\\hdbscan_observations_normal_bins\\hdbscan_2002-2005_minclust150_minsamples10_epsilon0.1.png\n",
      "\n",
      "HDBSCAN result:\n"
     ]
    },
    {
     "name": "stderr",
     "output_type": "stream",
     "text": [
      "Running HDBSCAN:  33%|███▎      | 1/3 [00:01<00:02,  1.45s/step]"
     ]
    },
    {
     "name": "stdout",
     "output_type": "stream",
     "text": [
      "Runtime for hdbscan_clustering: 1.451016 seconds\n"
     ]
    },
    {
     "name": "stderr",
     "output_type": "stream",
     "text": [
      "Running HDBSCAN: 100%|██████████| 3/3 [00:02<00:00,  1.24step/s]\n"
     ]
    },
    {
     "name": "stdout",
     "output_type": "stream",
     "text": [
      "Plot saved as: Images\\hdbscan_observations_normal_bins\\hdbscan_2002-2005_minclust180_minsamplesNone_epsilon0.0.png\n",
      "\n",
      "HDBSCAN result:\n"
     ]
    },
    {
     "name": "stderr",
     "output_type": "stream",
     "text": [
      "Running HDBSCAN:  33%|███▎      | 1/3 [00:01<00:02,  1.45s/step]"
     ]
    },
    {
     "name": "stdout",
     "output_type": "stream",
     "text": [
      "Runtime for hdbscan_clustering: 1.450556 seconds\n"
     ]
    },
    {
     "name": "stderr",
     "output_type": "stream",
     "text": [
      "Running HDBSCAN: 100%|██████████| 3/3 [00:02<00:00,  1.25step/s]\n"
     ]
    },
    {
     "name": "stdout",
     "output_type": "stream",
     "text": [
      "Plot saved as: Images\\hdbscan_observations_normal_bins\\hdbscan_2002-2005_minclust180_minsamplesNone_epsilon0.01.png\n",
      "\n",
      "HDBSCAN result:\n"
     ]
    },
    {
     "name": "stderr",
     "output_type": "stream",
     "text": [
      "Running HDBSCAN:  33%|███▎      | 1/3 [00:02<00:04,  2.29s/step]"
     ]
    },
    {
     "name": "stdout",
     "output_type": "stream",
     "text": [
      "Runtime for hdbscan_clustering: 2.287439 seconds\n"
     ]
    },
    {
     "name": "stderr",
     "output_type": "stream",
     "text": [
      "Running HDBSCAN: 100%|██████████| 3/3 [00:03<00:00,  1.09s/step]\n"
     ]
    },
    {
     "ename": "KeyboardInterrupt",
     "evalue": "",
     "output_type": "error",
     "traceback": [
      "\u001b[1;31m---------------------------------------------------------------------------\u001b[0m",
      "\u001b[1;31mKeyboardInterrupt\u001b[0m                         Traceback (most recent call last)",
      "Cell \u001b[1;32mIn[1], line 60\u001b[0m\n\u001b[0;32m     58\u001b[0m plot_filename \u001b[38;5;241m=\u001b[39m os\u001b[38;5;241m.\u001b[39mpath\u001b[38;5;241m.\u001b[39mjoin(plot_dir, \u001b[38;5;124mf\u001b[39m\u001b[38;5;124m\"\u001b[39m\u001b[38;5;124mhdbscan_\u001b[39m\u001b[38;5;132;01m{\u001b[39;00myear_range\u001b[38;5;132;01m}\u001b[39;00m\u001b[38;5;124m_minclust\u001b[39m\u001b[38;5;132;01m{\u001b[39;00mmin_cluster_size\u001b[38;5;132;01m}\u001b[39;00m\u001b[38;5;124m_minsamples\u001b[39m\u001b[38;5;132;01m{\u001b[39;00mmin_samples\u001b[38;5;132;01m}\u001b[39;00m\u001b[38;5;124m_epsilon\u001b[39m\u001b[38;5;132;01m{\u001b[39;00mcluster_selection_epsilon\u001b[38;5;132;01m}\u001b[39;00m\u001b[38;5;124m.png\u001b[39m\u001b[38;5;124m\"\u001b[39m)\n\u001b[0;32m     59\u001b[0m title \u001b[38;5;241m=\u001b[39m \u001b[38;5;124mf\u001b[39m\u001b[38;5;124m\"\u001b[39m\u001b[38;5;124mHDBSCAN: years = \u001b[39m\u001b[38;5;132;01m{\u001b[39;00myear_range\u001b[38;5;132;01m}\u001b[39;00m\u001b[38;5;124m, min_cluster_size: \u001b[39m\u001b[38;5;132;01m{\u001b[39;00mmin_cluster_size\u001b[38;5;132;01m}\u001b[39;00m\u001b[38;5;124m, min_samples: \u001b[39m\u001b[38;5;132;01m{\u001b[39;00mmin_samples\u001b[38;5;132;01m}\u001b[39;00m\u001b[38;5;124m, epsilon: \u001b[39m\u001b[38;5;132;01m{\u001b[39;00mcluster_selection_epsilon\u001b[38;5;132;01m}\u001b[39;00m\u001b[38;5;124m,\u001b[39m\u001b[38;5;124m\"\u001b[39m\n\u001b[1;32m---> 60\u001b[0m plotter\u001b[38;5;241m.\u001b[39mclusters_2d_plot(title, plot_filename)\n\u001b[0;32m     62\u001b[0m rounded_cluster_std \u001b[38;5;241m=\u001b[39m {key: \u001b[38;5;28mtuple\u001b[39m(\u001b[38;5;28mround\u001b[39m(val, \u001b[38;5;241m3\u001b[39m) \u001b[38;5;28;01mfor\u001b[39;00m val \u001b[38;5;129;01min\u001b[39;00m value) \u001b[38;5;28;01mfor\u001b[39;00m key, value \u001b[38;5;129;01min\u001b[39;00m metrics_hdbscan[\u001b[38;5;241m4\u001b[39m]\u001b[38;5;241m.\u001b[39mitems()}\n\u001b[0;32m     63\u001b[0m rounded_square_density \u001b[38;5;241m=\u001b[39m {key: \u001b[38;5;28mround\u001b[39m(value, \u001b[38;5;241m3\u001b[39m) \u001b[38;5;28;01mfor\u001b[39;00m key, value \u001b[38;5;129;01min\u001b[39;00m metrics_hdbscan[\u001b[38;5;241m5\u001b[39m]\u001b[38;5;241m.\u001b[39mitems()}\n",
      "File \u001b[1;32mc:\\Users\\fionu\\OneDrive\\Dokumente\\Daten Fiona\\AIUB\\Code\\AIUB-Backup\\clustering\\cluster_plotter.py:96\u001b[0m, in \u001b[0;36mClusterPlotter.clusters_2d_plot\u001b[1;34m(self, title, save_name, color_scheme, c, point_size, show_centers, grid)\u001b[0m\n\u001b[0;32m     94\u001b[0m \u001b[38;5;28;01mif\u001b[39;00m save_name \u001b[38;5;129;01mis\u001b[39;00m \u001b[38;5;129;01mnot\u001b[39;00m \u001b[38;5;28;01mNone\u001b[39;00m:\n\u001b[0;32m     95\u001b[0m     unique_save_path \u001b[38;5;241m=\u001b[39m \u001b[38;5;28mself\u001b[39m\u001b[38;5;241m.\u001b[39msave_unique_plot(save_name, os\u001b[38;5;241m.\u001b[39mpath\u001b[38;5;241m.\u001b[39mdirname(save_name))\n\u001b[1;32m---> 96\u001b[0m     plt\u001b[38;5;241m.\u001b[39msavefig(unique_save_path, dpi\u001b[38;5;241m=\u001b[39m\u001b[38;5;241m300\u001b[39m, bbox_inches\u001b[38;5;241m=\u001b[39m\u001b[38;5;124m'\u001b[39m\u001b[38;5;124mtight\u001b[39m\u001b[38;5;124m'\u001b[39m)\n\u001b[0;32m     97\u001b[0m     \u001b[38;5;28mprint\u001b[39m(\u001b[38;5;124mf\u001b[39m\u001b[38;5;124m\"\u001b[39m\u001b[38;5;124mPlot saved as: \u001b[39m\u001b[38;5;132;01m{\u001b[39;00munique_save_path\u001b[38;5;132;01m}\u001b[39;00m\u001b[38;5;124m\"\u001b[39m)\n\u001b[0;32m     98\u001b[0m     plt\u001b[38;5;241m.\u001b[39mclose() \n",
      "File \u001b[1;32mc:\\Users\\fionu\\anaconda3\\Lib\\site-packages\\matplotlib\\pyplot.py:1228\u001b[0m, in \u001b[0;36msavefig\u001b[1;34m(*args, **kwargs)\u001b[0m\n\u001b[0;32m   1225\u001b[0m fig \u001b[38;5;241m=\u001b[39m gcf()\n\u001b[0;32m   1226\u001b[0m \u001b[38;5;66;03m# savefig default implementation has no return, so mypy is unhappy\u001b[39;00m\n\u001b[0;32m   1227\u001b[0m \u001b[38;5;66;03m# presumably this is here because subclasses can return?\u001b[39;00m\n\u001b[1;32m-> 1228\u001b[0m res \u001b[38;5;241m=\u001b[39m fig\u001b[38;5;241m.\u001b[39msavefig(\u001b[38;5;241m*\u001b[39margs, \u001b[38;5;241m*\u001b[39m\u001b[38;5;241m*\u001b[39mkwargs)  \u001b[38;5;66;03m# type: ignore[func-returns-value]\u001b[39;00m\n\u001b[0;32m   1229\u001b[0m fig\u001b[38;5;241m.\u001b[39mcanvas\u001b[38;5;241m.\u001b[39mdraw_idle()  \u001b[38;5;66;03m# Need this if 'transparent=True', to reset colors.\u001b[39;00m\n\u001b[0;32m   1230\u001b[0m \u001b[38;5;28;01mreturn\u001b[39;00m res\n",
      "File \u001b[1;32mc:\\Users\\fionu\\anaconda3\\Lib\\site-packages\\matplotlib\\figure.py:3395\u001b[0m, in \u001b[0;36mFigure.savefig\u001b[1;34m(self, fname, transparent, **kwargs)\u001b[0m\n\u001b[0;32m   3393\u001b[0m     \u001b[38;5;28;01mfor\u001b[39;00m ax \u001b[38;5;129;01min\u001b[39;00m \u001b[38;5;28mself\u001b[39m\u001b[38;5;241m.\u001b[39maxes:\n\u001b[0;32m   3394\u001b[0m         _recursively_make_axes_transparent(stack, ax)\n\u001b[1;32m-> 3395\u001b[0m \u001b[38;5;28mself\u001b[39m\u001b[38;5;241m.\u001b[39mcanvas\u001b[38;5;241m.\u001b[39mprint_figure(fname, \u001b[38;5;241m*\u001b[39m\u001b[38;5;241m*\u001b[39mkwargs)\n",
      "File \u001b[1;32mc:\\Users\\fionu\\anaconda3\\Lib\\site-packages\\matplotlib\\backend_bases.py:2204\u001b[0m, in \u001b[0;36mFigureCanvasBase.print_figure\u001b[1;34m(self, filename, dpi, facecolor, edgecolor, orientation, format, bbox_inches, pad_inches, bbox_extra_artists, backend, **kwargs)\u001b[0m\n\u001b[0;32m   2200\u001b[0m \u001b[38;5;28;01mtry\u001b[39;00m:\n\u001b[0;32m   2201\u001b[0m     \u001b[38;5;66;03m# _get_renderer may change the figure dpi (as vector formats\u001b[39;00m\n\u001b[0;32m   2202\u001b[0m     \u001b[38;5;66;03m# force the figure dpi to 72), so we need to set it again here.\u001b[39;00m\n\u001b[0;32m   2203\u001b[0m     \u001b[38;5;28;01mwith\u001b[39;00m cbook\u001b[38;5;241m.\u001b[39m_setattr_cm(\u001b[38;5;28mself\u001b[39m\u001b[38;5;241m.\u001b[39mfigure, dpi\u001b[38;5;241m=\u001b[39mdpi):\n\u001b[1;32m-> 2204\u001b[0m         result \u001b[38;5;241m=\u001b[39m print_method(\n\u001b[0;32m   2205\u001b[0m             filename,\n\u001b[0;32m   2206\u001b[0m             facecolor\u001b[38;5;241m=\u001b[39mfacecolor,\n\u001b[0;32m   2207\u001b[0m             edgecolor\u001b[38;5;241m=\u001b[39medgecolor,\n\u001b[0;32m   2208\u001b[0m             orientation\u001b[38;5;241m=\u001b[39morientation,\n\u001b[0;32m   2209\u001b[0m             bbox_inches_restore\u001b[38;5;241m=\u001b[39m_bbox_inches_restore,\n\u001b[0;32m   2210\u001b[0m             \u001b[38;5;241m*\u001b[39m\u001b[38;5;241m*\u001b[39mkwargs)\n\u001b[0;32m   2211\u001b[0m \u001b[38;5;28;01mfinally\u001b[39;00m:\n\u001b[0;32m   2212\u001b[0m     \u001b[38;5;28;01mif\u001b[39;00m bbox_inches \u001b[38;5;129;01mand\u001b[39;00m restore_bbox:\n",
      "File \u001b[1;32mc:\\Users\\fionu\\anaconda3\\Lib\\site-packages\\matplotlib\\backend_bases.py:2054\u001b[0m, in \u001b[0;36mFigureCanvasBase._switch_canvas_and_return_print_method.<locals>.<lambda>\u001b[1;34m(*args, **kwargs)\u001b[0m\n\u001b[0;32m   2050\u001b[0m     optional_kws \u001b[38;5;241m=\u001b[39m {  \u001b[38;5;66;03m# Passed by print_figure for other renderers.\u001b[39;00m\n\u001b[0;32m   2051\u001b[0m         \u001b[38;5;124m\"\u001b[39m\u001b[38;5;124mdpi\u001b[39m\u001b[38;5;124m\"\u001b[39m, \u001b[38;5;124m\"\u001b[39m\u001b[38;5;124mfacecolor\u001b[39m\u001b[38;5;124m\"\u001b[39m, \u001b[38;5;124m\"\u001b[39m\u001b[38;5;124medgecolor\u001b[39m\u001b[38;5;124m\"\u001b[39m, \u001b[38;5;124m\"\u001b[39m\u001b[38;5;124morientation\u001b[39m\u001b[38;5;124m\"\u001b[39m,\n\u001b[0;32m   2052\u001b[0m         \u001b[38;5;124m\"\u001b[39m\u001b[38;5;124mbbox_inches_restore\u001b[39m\u001b[38;5;124m\"\u001b[39m}\n\u001b[0;32m   2053\u001b[0m     skip \u001b[38;5;241m=\u001b[39m optional_kws \u001b[38;5;241m-\u001b[39m {\u001b[38;5;241m*\u001b[39minspect\u001b[38;5;241m.\u001b[39msignature(meth)\u001b[38;5;241m.\u001b[39mparameters}\n\u001b[1;32m-> 2054\u001b[0m     print_method \u001b[38;5;241m=\u001b[39m functools\u001b[38;5;241m.\u001b[39mwraps(meth)(\u001b[38;5;28;01mlambda\u001b[39;00m \u001b[38;5;241m*\u001b[39margs, \u001b[38;5;241m*\u001b[39m\u001b[38;5;241m*\u001b[39mkwargs: meth(\n\u001b[0;32m   2055\u001b[0m         \u001b[38;5;241m*\u001b[39margs, \u001b[38;5;241m*\u001b[39m\u001b[38;5;241m*\u001b[39m{k: v \u001b[38;5;28;01mfor\u001b[39;00m k, v \u001b[38;5;129;01min\u001b[39;00m kwargs\u001b[38;5;241m.\u001b[39mitems() \u001b[38;5;28;01mif\u001b[39;00m k \u001b[38;5;129;01mnot\u001b[39;00m \u001b[38;5;129;01min\u001b[39;00m skip}))\n\u001b[0;32m   2056\u001b[0m \u001b[38;5;28;01melse\u001b[39;00m:  \u001b[38;5;66;03m# Let third-parties do as they see fit.\u001b[39;00m\n\u001b[0;32m   2057\u001b[0m     print_method \u001b[38;5;241m=\u001b[39m meth\n",
      "File \u001b[1;32mc:\\Users\\fionu\\anaconda3\\Lib\\site-packages\\matplotlib\\backends\\backend_agg.py:496\u001b[0m, in \u001b[0;36mFigureCanvasAgg.print_png\u001b[1;34m(self, filename_or_obj, metadata, pil_kwargs)\u001b[0m\n\u001b[0;32m    449\u001b[0m \u001b[38;5;28;01mdef\u001b[39;00m \u001b[38;5;21mprint_png\u001b[39m(\u001b[38;5;28mself\u001b[39m, filename_or_obj, \u001b[38;5;241m*\u001b[39m, metadata\u001b[38;5;241m=\u001b[39m\u001b[38;5;28;01mNone\u001b[39;00m, pil_kwargs\u001b[38;5;241m=\u001b[39m\u001b[38;5;28;01mNone\u001b[39;00m):\n\u001b[0;32m    450\u001b[0m \u001b[38;5;250m    \u001b[39m\u001b[38;5;124;03m\"\"\"\u001b[39;00m\n\u001b[0;32m    451\u001b[0m \u001b[38;5;124;03m    Write the figure to a PNG file.\u001b[39;00m\n\u001b[0;32m    452\u001b[0m \n\u001b[1;32m   (...)\u001b[0m\n\u001b[0;32m    494\u001b[0m \u001b[38;5;124;03m        *metadata*, including the default 'Software' key.\u001b[39;00m\n\u001b[0;32m    495\u001b[0m \u001b[38;5;124;03m    \"\"\"\u001b[39;00m\n\u001b[1;32m--> 496\u001b[0m     \u001b[38;5;28mself\u001b[39m\u001b[38;5;241m.\u001b[39m_print_pil(filename_or_obj, \u001b[38;5;124m\"\u001b[39m\u001b[38;5;124mpng\u001b[39m\u001b[38;5;124m\"\u001b[39m, pil_kwargs, metadata)\n",
      "File \u001b[1;32mc:\\Users\\fionu\\anaconda3\\Lib\\site-packages\\matplotlib\\backends\\backend_agg.py:445\u001b[0m, in \u001b[0;36mFigureCanvasAgg._print_pil\u001b[1;34m(self, filename_or_obj, fmt, pil_kwargs, metadata)\u001b[0m\n\u001b[0;32m    440\u001b[0m \u001b[38;5;250m\u001b[39m\u001b[38;5;124;03m\"\"\"\u001b[39;00m\n\u001b[0;32m    441\u001b[0m \u001b[38;5;124;03mDraw the canvas, then save it using `.image.imsave` (to which\u001b[39;00m\n\u001b[0;32m    442\u001b[0m \u001b[38;5;124;03m*pil_kwargs* and *metadata* are forwarded).\u001b[39;00m\n\u001b[0;32m    443\u001b[0m \u001b[38;5;124;03m\"\"\"\u001b[39;00m\n\u001b[0;32m    444\u001b[0m FigureCanvasAgg\u001b[38;5;241m.\u001b[39mdraw(\u001b[38;5;28mself\u001b[39m)\n\u001b[1;32m--> 445\u001b[0m mpl\u001b[38;5;241m.\u001b[39mimage\u001b[38;5;241m.\u001b[39mimsave(\n\u001b[0;32m    446\u001b[0m     filename_or_obj, \u001b[38;5;28mself\u001b[39m\u001b[38;5;241m.\u001b[39mbuffer_rgba(), \u001b[38;5;28mformat\u001b[39m\u001b[38;5;241m=\u001b[39mfmt, origin\u001b[38;5;241m=\u001b[39m\u001b[38;5;124m\"\u001b[39m\u001b[38;5;124mupper\u001b[39m\u001b[38;5;124m\"\u001b[39m,\n\u001b[0;32m    447\u001b[0m     dpi\u001b[38;5;241m=\u001b[39m\u001b[38;5;28mself\u001b[39m\u001b[38;5;241m.\u001b[39mfigure\u001b[38;5;241m.\u001b[39mdpi, metadata\u001b[38;5;241m=\u001b[39mmetadata, pil_kwargs\u001b[38;5;241m=\u001b[39mpil_kwargs)\n",
      "File \u001b[1;32mc:\\Users\\fionu\\anaconda3\\Lib\\site-packages\\matplotlib\\image.py:1676\u001b[0m, in \u001b[0;36mimsave\u001b[1;34m(fname, arr, vmin, vmax, cmap, format, origin, dpi, metadata, pil_kwargs)\u001b[0m\n\u001b[0;32m   1674\u001b[0m pil_kwargs\u001b[38;5;241m.\u001b[39msetdefault(\u001b[38;5;124m\"\u001b[39m\u001b[38;5;124mformat\u001b[39m\u001b[38;5;124m\"\u001b[39m, \u001b[38;5;28mformat\u001b[39m)\n\u001b[0;32m   1675\u001b[0m pil_kwargs\u001b[38;5;241m.\u001b[39msetdefault(\u001b[38;5;124m\"\u001b[39m\u001b[38;5;124mdpi\u001b[39m\u001b[38;5;124m\"\u001b[39m, (dpi, dpi))\n\u001b[1;32m-> 1676\u001b[0m image\u001b[38;5;241m.\u001b[39msave(fname, \u001b[38;5;241m*\u001b[39m\u001b[38;5;241m*\u001b[39mpil_kwargs)\n",
      "File \u001b[1;32mc:\\Users\\fionu\\anaconda3\\Lib\\site-packages\\PIL\\Image.py:2528\u001b[0m, in \u001b[0;36mImage.save\u001b[1;34m(self, fp, format, **params)\u001b[0m\n\u001b[0;32m   2525\u001b[0m     filename \u001b[38;5;241m=\u001b[39m os\u001b[38;5;241m.\u001b[39mpath\u001b[38;5;241m.\u001b[39mrealpath(os\u001b[38;5;241m.\u001b[39mfspath(fp\u001b[38;5;241m.\u001b[39mname))\n\u001b[0;32m   2527\u001b[0m \u001b[38;5;66;03m# may mutate self!\u001b[39;00m\n\u001b[1;32m-> 2528\u001b[0m \u001b[38;5;28mself\u001b[39m\u001b[38;5;241m.\u001b[39m_ensure_mutable()\n\u001b[0;32m   2530\u001b[0m save_all \u001b[38;5;241m=\u001b[39m params\u001b[38;5;241m.\u001b[39mpop(\u001b[38;5;124m\"\u001b[39m\u001b[38;5;124msave_all\u001b[39m\u001b[38;5;124m\"\u001b[39m, \u001b[38;5;28;01mFalse\u001b[39;00m)\n\u001b[0;32m   2531\u001b[0m \u001b[38;5;28mself\u001b[39m\u001b[38;5;241m.\u001b[39mencoderinfo \u001b[38;5;241m=\u001b[39m params\n",
      "File \u001b[1;32mc:\\Users\\fionu\\anaconda3\\Lib\\site-packages\\PIL\\Image.py:639\u001b[0m, in \u001b[0;36mImage._ensure_mutable\u001b[1;34m(self)\u001b[0m\n\u001b[0;32m    637\u001b[0m \u001b[38;5;28;01mdef\u001b[39;00m \u001b[38;5;21m_ensure_mutable\u001b[39m(\u001b[38;5;28mself\u001b[39m) \u001b[38;5;241m-\u001b[39m\u001b[38;5;241m>\u001b[39m \u001b[38;5;28;01mNone\u001b[39;00m:\n\u001b[0;32m    638\u001b[0m     \u001b[38;5;28;01mif\u001b[39;00m \u001b[38;5;28mself\u001b[39m\u001b[38;5;241m.\u001b[39mreadonly:\n\u001b[1;32m--> 639\u001b[0m         \u001b[38;5;28mself\u001b[39m\u001b[38;5;241m.\u001b[39m_copy()\n\u001b[0;32m    640\u001b[0m     \u001b[38;5;28;01melse\u001b[39;00m:\n\u001b[0;32m    641\u001b[0m         \u001b[38;5;28mself\u001b[39m\u001b[38;5;241m.\u001b[39mload()\n",
      "File \u001b[1;32mc:\\Users\\fionu\\anaconda3\\Lib\\site-packages\\PIL\\Image.py:633\u001b[0m, in \u001b[0;36mImage._copy\u001b[1;34m(self)\u001b[0m\n\u001b[0;32m    631\u001b[0m \u001b[38;5;28;01mdef\u001b[39;00m \u001b[38;5;21m_copy\u001b[39m(\u001b[38;5;28mself\u001b[39m) \u001b[38;5;241m-\u001b[39m\u001b[38;5;241m>\u001b[39m \u001b[38;5;28;01mNone\u001b[39;00m:\n\u001b[0;32m    632\u001b[0m     \u001b[38;5;28mself\u001b[39m\u001b[38;5;241m.\u001b[39mload()\n\u001b[1;32m--> 633\u001b[0m     \u001b[38;5;28mself\u001b[39m\u001b[38;5;241m.\u001b[39mim \u001b[38;5;241m=\u001b[39m \u001b[38;5;28mself\u001b[39m\u001b[38;5;241m.\u001b[39mim\u001b[38;5;241m.\u001b[39mcopy()\n\u001b[0;32m    634\u001b[0m     \u001b[38;5;28mself\u001b[39m\u001b[38;5;241m.\u001b[39mpyaccess \u001b[38;5;241m=\u001b[39m \u001b[38;5;28;01mNone\u001b[39;00m\n\u001b[0;32m    635\u001b[0m     \u001b[38;5;28mself\u001b[39m\u001b[38;5;241m.\u001b[39mreadonly \u001b[38;5;241m=\u001b[39m \u001b[38;5;241m0\u001b[39m\n",
      "\u001b[1;31mKeyboardInterrupt\u001b[0m: "
     ]
    }
   ],
   "source": [
    "import cluster_data\n",
    "from cluster_data import run_clustering, normalize_data, unnormalize\n",
    "import numpy as np\n",
    "import pandas as pd\n",
    "import os\n",
    "import cluster_plotter\n",
    "from HDBSCAN import hdbscan_clustering\n",
    "from cluster_plotter import ClusterPlotter\n",
    "from clustering_utils import ClusterData\n",
    "\n",
    "uncorr_obs_files = {\n",
    "    year: f\"ogs{year}01_12_det.ele_ucorr\" if year != 2002 else f\"ogs{year}08_12_det.ele_ucorr\"\n",
    "    for year in range(2002, 2024) if year != 2018  # Exclude 2018 if missing\n",
    "}\n",
    "\n",
    "print(uncorr_obs_files)\n",
    "\n",
    "standard_year_ranges = {f\"{start}-{start + 3}\": np.arange(start, start + 4) for start in [2002, 2006, 2010, 2014]}\n",
    "standard_year_ranges[\"2019-2023\"] = np.arange(2019, 2024)\n",
    "\n",
    "running_ranges = cluster_data.generate_running_year_ranges(2002, 2023, 4)\n",
    "year_ranges = standard_year_ranges\n",
    "\n",
    "binned_data = cluster_data.bin_observed_data(uncorr_obs_files, year_ranges, print_res=False)\n",
    "\n",
    "results_per_year_range = {}\n",
    "\n",
    "images_dir = \"Images\"\n",
    "os.makedirs(images_dir, exist_ok=True)\n",
    "plot_dir = os.path.join(\"Images\", \"hdbscan_observations_normal_bins\")\n",
    "os.makedirs(plot_dir, exist_ok=True)\n",
    "cluster_plotter.clear_directory(plot_dir)\n",
    "\n",
    "for cluster_data, year_range in binned_data:  \n",
    "    print(f\"\\nRunning HDBSCAN for Year Range: {year_range}\")\n",
    "\n",
    "    data_array = np.array([cluster_data.inc, cluster_data.raan]).T\n",
    "    normalized_data, data_min, data_max = normalize_data(data_array)\n",
    "\n",
    "    min_cluster_size_values = [100, 150, 180]  \n",
    "    min_samples_values = [None, 5, 10] \n",
    "    cluster_selection_epsilon_values = [0.0, 0.01, 0.1] \n",
    "\n",
    "    results = []\n",
    "\n",
    "    for min_cluster_size in min_cluster_size_values: \n",
    "        for min_samples in min_samples_values:\n",
    "            for cluster_selection_epsilon in cluster_selection_epsilon_values:\n",
    "\n",
    "                result_hdbscan, time_hdbscan, n_clusters_hdbscan, points_per_cluster_hdbscan, metrics_hdbscan = run_clustering(\n",
    "                    hdbscan_clustering, \"HDBSCAN\", normalized_data, data_min, data_max, min_cluster_size, min_samples, cluster_selection_epsilon, plot_condensed_tree=True, plot=False\n",
    "                )\n",
    "\n",
    "                unnormalized_data, cluster_centers = unnormalize(\n",
    "                    result_hdbscan.data, result_hdbscan.cluster_centers, data_min, data_max\n",
    "                )\n",
    "                plotter = ClusterPlotter(unnormalized_data, result_hdbscan.labels, cluster_centers)\n",
    "                plot_filename = os.path.join(plot_dir, f\"hdbscan_{year_range}_minclust{min_cluster_size}_minsamples{min_samples}_epsilon{cluster_selection_epsilon}.png\")\n",
    "                title = f\"HDBSCAN: years = {year_range}, min_cluster_size: {min_cluster_size}, min_samples: {min_samples}, epsilon: {cluster_selection_epsilon},\"\n",
    "                plotter.clusters_2d_plot(title, plot_filename)\n",
    "\n",
    "                rounded_cluster_std = {key: tuple(round(val, 3) for val in value) for key, value in metrics_hdbscan[4].items()}\n",
    "                rounded_square_density = {key: round(value, 3) for key, value in metrics_hdbscan[5].items()}\n",
    "                rounded_hull_density = {key: round(value, 3) for key, value in metrics_hdbscan[6].items()}\n",
    "\n",
    "                results.append({\n",
    "                    \"Year Range\": year_range,\n",
    "                    \"k\": n_clusters_hdbscan,\n",
    "                    \"Runtime (s)\": f\"{time_hdbscan:.3f}\",\n",
    "                    \"Clusters\": n_clusters_hdbscan,\n",
    "                    \"Points per Cluster\": points_per_cluster_hdbscan,\n",
    "                    \"Davies-Bouldin\": f\"{metrics_hdbscan[0]:.3f}\" if metrics_hdbscan and isinstance(metrics_hdbscan[0], (int, float)) else None,\n",
    "                    \"Calinski-Harabasz\": f\"{metrics_hdbscan[1]:.3f}\" if metrics_hdbscan and isinstance(metrics_hdbscan[1], (int, float)) else None,\n",
    "                    \"Dunn Index\": f\"{metrics_hdbscan[2]:.3f}\" if metrics_hdbscan and isinstance(metrics_hdbscan[2], (int, float)) else None,\n",
    "                    \"Silhouette Score\": f\"{metrics_hdbscan[3]:.3f}\" if metrics_hdbscan and isinstance(metrics_hdbscan[3], (int, float)) else None,\n",
    "                    \"Cluster Std.\": rounded_cluster_std if rounded_cluster_std else None,\n",
    "                    \"Square Density\": rounded_square_density if rounded_square_density else None,\n",
    "                    \"Hull Density\": rounded_hull_density if rounded_hull_density else None\n",
    "                })\n",
    "\n",
    "    df = pd.DataFrame(results)\n",
    "    display(df)"
   ]
  },
  {
   "cell_type": "markdown",
   "metadata": {},
   "source": [
    "## Observed data, clustering with DENCLUE"
   ]
  },
  {
   "cell_type": "code",
   "execution_count": 1,
   "metadata": {},
   "outputs": [
    {
     "name": "stdout",
     "output_type": "stream",
     "text": [
      "{2002: 'ogs200208_12_det.ele_ucorr', 2003: 'ogs200301_12_det.ele_ucorr', 2004: 'ogs200401_12_det.ele_ucorr', 2005: 'ogs200501_12_det.ele_ucorr', 2006: 'ogs200601_12_det.ele_ucorr', 2007: 'ogs200701_12_det.ele_ucorr', 2008: 'ogs200801_12_det.ele_ucorr', 2009: 'ogs200901_12_det.ele_ucorr', 2010: 'ogs201001_12_det.ele_ucorr', 2011: 'ogs201101_12_det.ele_ucorr', 2012: 'ogs201201_12_det.ele_ucorr', 2013: 'ogs201301_12_det.ele_ucorr', 2014: 'ogs201401_12_det.ele_ucorr', 2015: 'ogs201501_12_det.ele_ucorr', 2016: 'ogs201601_12_det.ele_ucorr', 2017: 'ogs201701_12_det.ele_ucorr', 2019: 'ogs201901_12_det.ele_ucorr', 2020: 'ogs202001_12_det.ele_ucorr', 2021: 'ogs202101_12_det.ele_ucorr', 2022: 'ogs202201_12_det.ele_ucorr', 2023: 'ogs202301_12_det.ele_ucorr'}\n",
      "\n",
      "Running DENCLUE for Year Range: 2002-2005\n",
      "\n",
      "DENCLUE result:\n"
     ]
    },
    {
     "name": "stderr",
     "output_type": "stream",
     "text": [
      "Running DENCLUE:  33%|███▎      | 1/3 [00:00<00:01,  1.13step/s]"
     ]
    },
    {
     "name": "stdout",
     "output_type": "stream",
     "text": [
      "Runtime for denclue_clustering: 0.881850 seconds\n"
     ]
    },
    {
     "name": "stderr",
     "output_type": "stream",
     "text": [
      "Running DENCLUE: 100%|██████████| 3/3 [00:01<00:00,  1.60step/s]\n"
     ]
    },
    {
     "name": "stdout",
     "output_type": "stream",
     "text": [
      "Plot saved as: Images/denclue_observations_normal_bins\\denclue_2002-2005_eps30_maxiter100_bandwidth0.005.png\n",
      "\n",
      "DENCLUE result:\n"
     ]
    },
    {
     "name": "stderr",
     "output_type": "stream",
     "text": [
      "Running DENCLUE:  33%|███▎      | 1/3 [00:00<00:01,  1.72step/s]"
     ]
    },
    {
     "name": "stdout",
     "output_type": "stream",
     "text": [
      "Runtime for denclue_clustering: 0.581096 seconds\n"
     ]
    },
    {
     "name": "stderr",
     "output_type": "stream",
     "text": [
      "Running DENCLUE: 100%|██████████| 3/3 [00:01<00:00,  1.87step/s]\n"
     ]
    },
    {
     "name": "stdout",
     "output_type": "stream",
     "text": [
      "Plot saved as: Images/denclue_observations_normal_bins\\denclue_2002-2005_eps30_maxiter100_bandwidth0.07.png\n",
      "\n",
      "DENCLUE result:\n"
     ]
    },
    {
     "name": "stderr",
     "output_type": "stream",
     "text": [
      "Running DENCLUE:  33%|███▎      | 1/3 [00:00<00:01,  1.34step/s]"
     ]
    },
    {
     "name": "stdout",
     "output_type": "stream",
     "text": [
      "Runtime for denclue_clustering: 0.748696 seconds\n"
     ]
    },
    {
     "name": "stderr",
     "output_type": "stream",
     "text": [
      "Running DENCLUE: 100%|██████████| 3/3 [00:01<00:00,  1.88step/s]\n"
     ]
    },
    {
     "name": "stdout",
     "output_type": "stream",
     "text": [
      "Plot saved as: Images/denclue_observations_normal_bins\\denclue_2002-2005_eps30_maxiter100_bandwidth0.01.png\n",
      "\n",
      "DENCLUE result:\n"
     ]
    },
    {
     "name": "stderr",
     "output_type": "stream",
     "text": [
      "Running DENCLUE:  33%|███▎      | 1/3 [00:01<00:02,  1.34s/step]"
     ]
    },
    {
     "name": "stdout",
     "output_type": "stream",
     "text": [
      "Runtime for denclue_clustering: 1.337169 seconds\n"
     ]
    },
    {
     "name": "stderr",
     "output_type": "stream",
     "text": [
      "Running DENCLUE: 100%|██████████| 3/3 [00:02<00:00,  1.37step/s]\n"
     ]
    },
    {
     "name": "stdout",
     "output_type": "stream",
     "text": [
      "Plot saved as: Images/denclue_observations_normal_bins\\denclue_2002-2005_eps30_maxiter200_bandwidth0.005.png\n",
      "\n",
      "DENCLUE result:\n"
     ]
    },
    {
     "name": "stderr",
     "output_type": "stream",
     "text": [
      "Running DENCLUE:  33%|███▎      | 1/3 [00:00<00:01,  1.81step/s]"
     ]
    },
    {
     "name": "stdout",
     "output_type": "stream",
     "text": [
      "Runtime for denclue_clustering: 0.551571 seconds\n"
     ]
    },
    {
     "name": "stderr",
     "output_type": "stream",
     "text": [
      "Running DENCLUE: 100%|██████████| 3/3 [00:01<00:00,  2.08step/s]\n"
     ]
    },
    {
     "name": "stdout",
     "output_type": "stream",
     "text": [
      "Plot saved as: Images/denclue_observations_normal_bins\\denclue_2002-2005_eps30_maxiter200_bandwidth0.07.png\n",
      "\n",
      "DENCLUE result:\n"
     ]
    },
    {
     "name": "stderr",
     "output_type": "stream",
     "text": [
      "Running DENCLUE:  33%|███▎      | 1/3 [00:00<00:01,  1.23step/s]"
     ]
    },
    {
     "name": "stdout",
     "output_type": "stream",
     "text": [
      "Runtime for denclue_clustering: 0.816137 seconds\n"
     ]
    },
    {
     "name": "stderr",
     "output_type": "stream",
     "text": [
      "Running DENCLUE: 100%|██████████| 3/3 [00:01<00:00,  1.85step/s]\n"
     ]
    },
    {
     "name": "stdout",
     "output_type": "stream",
     "text": [
      "Plot saved as: Images/denclue_observations_normal_bins\\denclue_2002-2005_eps30_maxiter200_bandwidth0.01.png\n",
      "\n",
      "DENCLUE result:\n"
     ]
    },
    {
     "name": "stderr",
     "output_type": "stream",
     "text": [
      "Running DENCLUE:  33%|███▎      | 1/3 [00:00<00:01,  1.20step/s]"
     ]
    },
    {
     "name": "stdout",
     "output_type": "stream",
     "text": [
      "Runtime for denclue_clustering: 0.833171 seconds\n"
     ]
    },
    {
     "name": "stderr",
     "output_type": "stream",
     "text": [
      "Running DENCLUE: 100%|██████████| 3/3 [00:01<00:00,  1.73step/s]\n"
     ]
    },
    {
     "name": "stdout",
     "output_type": "stream",
     "text": [
      "Plot saved as: Images/denclue_observations_normal_bins\\denclue_2002-2005_eps30_maxiter300_bandwidth0.005.png\n",
      "\n",
      "DENCLUE result:\n"
     ]
    },
    {
     "name": "stderr",
     "output_type": "stream",
     "text": [
      "Running DENCLUE:  33%|███▎      | 1/3 [00:00<00:01,  1.88step/s]"
     ]
    },
    {
     "name": "stdout",
     "output_type": "stream",
     "text": [
      "Runtime for denclue_clustering: 0.530816 seconds\n"
     ]
    },
    {
     "name": "stderr",
     "output_type": "stream",
     "text": [
      "Running DENCLUE: 100%|██████████| 3/3 [00:01<00:00,  2.08step/s]\n"
     ]
    },
    {
     "name": "stdout",
     "output_type": "stream",
     "text": [
      "Plot saved as: Images/denclue_observations_normal_bins\\denclue_2002-2005_eps30_maxiter300_bandwidth0.07.png\n",
      "\n",
      "DENCLUE result:\n"
     ]
    },
    {
     "name": "stderr",
     "output_type": "stream",
     "text": [
      "Running DENCLUE:  33%|███▎      | 1/3 [00:00<00:01,  1.33step/s]"
     ]
    },
    {
     "name": "stdout",
     "output_type": "stream",
     "text": [
      "Runtime for denclue_clustering: 0.751715 seconds\n"
     ]
    },
    {
     "name": "stderr",
     "output_type": "stream",
     "text": [
      "Running DENCLUE: 100%|██████████| 3/3 [00:01<00:00,  1.90step/s]\n"
     ]
    },
    {
     "name": "stdout",
     "output_type": "stream",
     "text": [
      "Plot saved as: Images/denclue_observations_normal_bins\\denclue_2002-2005_eps30_maxiter300_bandwidth0.01.png\n",
      "\n",
      "DENCLUE result:\n"
     ]
    },
    {
     "name": "stderr",
     "output_type": "stream",
     "text": [
      "Running DENCLUE:  33%|███▎      | 1/3 [00:00<00:01,  1.07step/s]"
     ]
    },
    {
     "name": "stdout",
     "output_type": "stream",
     "text": [
      "Runtime for denclue_clustering: 0.937628 seconds\n"
     ]
    },
    {
     "name": "stderr",
     "output_type": "stream",
     "text": [
      "Running DENCLUE: 100%|██████████| 3/3 [00:01<00:00,  1.62step/s]\n"
     ]
    },
    {
     "name": "stdout",
     "output_type": "stream",
     "text": [
      "Plot saved as: Images/denclue_observations_normal_bins\\denclue_2002-2005_eps40_maxiter100_bandwidth0.005.png\n",
      "\n",
      "DENCLUE result:\n"
     ]
    },
    {
     "name": "stderr",
     "output_type": "stream",
     "text": [
      "Running DENCLUE:  33%|███▎      | 1/3 [00:00<00:01,  1.68step/s]"
     ]
    },
    {
     "name": "stdout",
     "output_type": "stream",
     "text": [
      "Runtime for denclue_clustering: 0.596951 seconds\n"
     ]
    },
    {
     "name": "stderr",
     "output_type": "stream",
     "text": [
      "Running DENCLUE: 100%|██████████| 3/3 [00:01<00:00,  1.84step/s]\n"
     ]
    },
    {
     "name": "stdout",
     "output_type": "stream",
     "text": [
      "Plot saved as: Images/denclue_observations_normal_bins\\denclue_2002-2005_eps40_maxiter100_bandwidth0.07.png\n",
      "\n",
      "DENCLUE result:\n"
     ]
    },
    {
     "name": "stderr",
     "output_type": "stream",
     "text": [
      "Running DENCLUE:  33%|███▎      | 1/3 [00:00<00:01,  1.38step/s]"
     ]
    },
    {
     "name": "stdout",
     "output_type": "stream",
     "text": [
      "Runtime for denclue_clustering: 0.724044 seconds\n"
     ]
    },
    {
     "name": "stderr",
     "output_type": "stream",
     "text": [
      "Running DENCLUE: 100%|██████████| 3/3 [00:01<00:00,  1.83step/s]\n"
     ]
    },
    {
     "name": "stdout",
     "output_type": "stream",
     "text": [
      "Plot saved as: Images/denclue_observations_normal_bins\\denclue_2002-2005_eps40_maxiter100_bandwidth0.01.png\n",
      "\n",
      "DENCLUE result:\n"
     ]
    },
    {
     "name": "stderr",
     "output_type": "stream",
     "text": [
      "Running DENCLUE:  33%|███▎      | 1/3 [00:00<00:01,  1.15step/s]"
     ]
    },
    {
     "name": "stdout",
     "output_type": "stream",
     "text": [
      "Runtime for denclue_clustering: 0.865855 seconds\n"
     ]
    },
    {
     "name": "stderr",
     "output_type": "stream",
     "text": [
      "Running DENCLUE: 100%|██████████| 3/3 [00:01<00:00,  1.68step/s]\n"
     ]
    },
    {
     "name": "stdout",
     "output_type": "stream",
     "text": [
      "Plot saved as: Images/denclue_observations_normal_bins\\denclue_2002-2005_eps40_maxiter200_bandwidth0.005.png\n",
      "\n",
      "DENCLUE result:\n"
     ]
    },
    {
     "name": "stderr",
     "output_type": "stream",
     "text": [
      "Running DENCLUE:  33%|███▎      | 1/3 [00:00<00:01,  1.94step/s]"
     ]
    },
    {
     "name": "stdout",
     "output_type": "stream",
     "text": [
      "Runtime for denclue_clustering: 0.516629 seconds\n"
     ]
    },
    {
     "name": "stderr",
     "output_type": "stream",
     "text": [
      "Running DENCLUE: 100%|██████████| 3/3 [00:01<00:00,  2.11step/s]\n"
     ]
    },
    {
     "name": "stdout",
     "output_type": "stream",
     "text": [
      "Plot saved as: Images/denclue_observations_normal_bins\\denclue_2002-2005_eps40_maxiter200_bandwidth0.07.png\n",
      "\n",
      "DENCLUE result:\n"
     ]
    },
    {
     "name": "stderr",
     "output_type": "stream",
     "text": [
      "Running DENCLUE:  33%|███▎      | 1/3 [00:00<00:01,  1.29step/s]"
     ]
    },
    {
     "name": "stdout",
     "output_type": "stream",
     "text": [
      "Runtime for denclue_clustering: 0.775409 seconds\n"
     ]
    },
    {
     "name": "stderr",
     "output_type": "stream",
     "text": [
      "Running DENCLUE: 100%|██████████| 3/3 [00:01<00:00,  1.80step/s]\n"
     ]
    },
    {
     "name": "stdout",
     "output_type": "stream",
     "text": [
      "Plot saved as: Images/denclue_observations_normal_bins\\denclue_2002-2005_eps40_maxiter200_bandwidth0.01.png\n",
      "\n",
      "DENCLUE result:\n"
     ]
    },
    {
     "name": "stderr",
     "output_type": "stream",
     "text": [
      "Running DENCLUE:  33%|███▎      | 1/3 [00:00<00:01,  1.22step/s]"
     ]
    },
    {
     "name": "stdout",
     "output_type": "stream",
     "text": [
      "Runtime for denclue_clustering: 0.821593 seconds\n"
     ]
    },
    {
     "name": "stderr",
     "output_type": "stream",
     "text": [
      "Running DENCLUE: 100%|██████████| 3/3 [00:01<00:00,  1.75step/s]\n"
     ]
    },
    {
     "name": "stdout",
     "output_type": "stream",
     "text": [
      "Plot saved as: Images/denclue_observations_normal_bins\\denclue_2002-2005_eps40_maxiter300_bandwidth0.005.png\n",
      "\n",
      "DENCLUE result:\n"
     ]
    },
    {
     "name": "stderr",
     "output_type": "stream",
     "text": [
      "Running DENCLUE:  33%|███▎      | 1/3 [00:00<00:01,  1.95step/s]"
     ]
    },
    {
     "name": "stdout",
     "output_type": "stream",
     "text": [
      "Runtime for denclue_clustering: 0.514110 seconds\n"
     ]
    },
    {
     "name": "stderr",
     "output_type": "stream",
     "text": [
      "Running DENCLUE: 100%|██████████| 3/3 [00:01<00:00,  2.12step/s]\n"
     ]
    },
    {
     "name": "stdout",
     "output_type": "stream",
     "text": [
      "Plot saved as: Images/denclue_observations_normal_bins\\denclue_2002-2005_eps40_maxiter300_bandwidth0.07.png\n",
      "\n",
      "DENCLUE result:\n"
     ]
    },
    {
     "name": "stderr",
     "output_type": "stream",
     "text": [
      "Running DENCLUE:  33%|███▎      | 1/3 [00:00<00:01,  1.03step/s]"
     ]
    },
    {
     "name": "stdout",
     "output_type": "stream",
     "text": [
      "Runtime for denclue_clustering: 0.967360 seconds\n"
     ]
    },
    {
     "name": "stderr",
     "output_type": "stream",
     "text": [
      "Running DENCLUE: 100%|██████████| 3/3 [00:01<00:00,  1.70step/s]\n"
     ]
    },
    {
     "name": "stdout",
     "output_type": "stream",
     "text": [
      "Plot saved as: Images/denclue_observations_normal_bins\\denclue_2002-2005_eps40_maxiter300_bandwidth0.01.png\n",
      "\n",
      "DENCLUE result:\n"
     ]
    },
    {
     "name": "stderr",
     "output_type": "stream",
     "text": [
      "Running DENCLUE:  33%|███▎      | 1/3 [00:00<00:01,  1.18step/s]"
     ]
    },
    {
     "name": "stdout",
     "output_type": "stream",
     "text": [
      "Runtime for denclue_clustering: 0.847408 seconds\n"
     ]
    },
    {
     "name": "stderr",
     "output_type": "stream",
     "text": [
      "Running DENCLUE: 100%|██████████| 3/3 [00:01<00:00,  1.71step/s]\n"
     ]
    },
    {
     "name": "stdout",
     "output_type": "stream",
     "text": [
      "Plot saved as: Images/denclue_observations_normal_bins\\denclue_2002-2005_eps50_maxiter100_bandwidth0.005.png\n",
      "\n",
      "DENCLUE result:\n"
     ]
    },
    {
     "name": "stderr",
     "output_type": "stream",
     "text": [
      "Running DENCLUE:  33%|███▎      | 1/3 [00:00<00:00,  2.02step/s]"
     ]
    },
    {
     "name": "stdout",
     "output_type": "stream",
     "text": [
      "Runtime for denclue_clustering: 0.494496 seconds\n"
     ]
    },
    {
     "name": "stderr",
     "output_type": "stream",
     "text": [
      "Running DENCLUE: 100%|██████████| 3/3 [00:01<00:00,  1.89step/s]\n"
     ]
    },
    {
     "name": "stdout",
     "output_type": "stream",
     "text": [
      "Plot saved as: Images/denclue_observations_normal_bins\\denclue_2002-2005_eps50_maxiter100_bandwidth0.07.png\n",
      "\n",
      "DENCLUE result:\n"
     ]
    },
    {
     "name": "stderr",
     "output_type": "stream",
     "text": [
      "Running DENCLUE:  33%|███▎      | 1/3 [00:00<00:01,  1.44step/s]"
     ]
    },
    {
     "name": "stdout",
     "output_type": "stream",
     "text": [
      "Runtime for denclue_clustering: 0.692164 seconds\n"
     ]
    },
    {
     "name": "stderr",
     "output_type": "stream",
     "text": [
      "Running DENCLUE: 100%|██████████| 3/3 [00:01<00:00,  1.98step/s]\n"
     ]
    },
    {
     "name": "stdout",
     "output_type": "stream",
     "text": [
      "Plot saved as: Images/denclue_observations_normal_bins\\denclue_2002-2005_eps50_maxiter100_bandwidth0.01.png\n",
      "\n",
      "DENCLUE result:\n"
     ]
    },
    {
     "name": "stderr",
     "output_type": "stream",
     "text": [
      "Running DENCLUE:  33%|███▎      | 1/3 [00:00<00:01,  1.24step/s]"
     ]
    },
    {
     "name": "stdout",
     "output_type": "stream",
     "text": [
      "Runtime for denclue_clustering: 0.809556 seconds\n"
     ]
    },
    {
     "name": "stderr",
     "output_type": "stream",
     "text": [
      "Running DENCLUE: 100%|██████████| 3/3 [00:01<00:00,  1.71step/s]\n"
     ]
    },
    {
     "name": "stdout",
     "output_type": "stream",
     "text": [
      "Plot saved as: Images/denclue_observations_normal_bins\\denclue_2002-2005_eps50_maxiter200_bandwidth0.005.png\n",
      "\n",
      "DENCLUE result:\n"
     ]
    },
    {
     "name": "stderr",
     "output_type": "stream",
     "text": [
      "Running DENCLUE:  33%|███▎      | 1/3 [00:00<00:01,  1.97step/s]"
     ]
    },
    {
     "name": "stdout",
     "output_type": "stream",
     "text": [
      "Runtime for denclue_clustering: 0.506649 seconds\n"
     ]
    },
    {
     "name": "stderr",
     "output_type": "stream",
     "text": [
      "Running DENCLUE: 100%|██████████| 3/3 [00:01<00:00,  2.17step/s]\n"
     ]
    },
    {
     "name": "stdout",
     "output_type": "stream",
     "text": [
      "Plot saved as: Images/denclue_observations_normal_bins\\denclue_2002-2005_eps50_maxiter200_bandwidth0.07.png\n",
      "\n",
      "DENCLUE result:\n"
     ]
    },
    {
     "name": "stderr",
     "output_type": "stream",
     "text": [
      "Running DENCLUE:  33%|███▎      | 1/3 [00:00<00:01,  1.31step/s]"
     ]
    },
    {
     "name": "stdout",
     "output_type": "stream",
     "text": [
      "Runtime for denclue_clustering: 0.764822 seconds\n"
     ]
    },
    {
     "name": "stderr",
     "output_type": "stream",
     "text": [
      "Running DENCLUE: 100%|██████████| 3/3 [00:01<00:00,  1.84step/s]\n"
     ]
    },
    {
     "name": "stdout",
     "output_type": "stream",
     "text": [
      "Plot saved as: Images/denclue_observations_normal_bins\\denclue_2002-2005_eps50_maxiter200_bandwidth0.01.png\n",
      "\n",
      "DENCLUE result:\n"
     ]
    },
    {
     "name": "stderr",
     "output_type": "stream",
     "text": [
      "Running DENCLUE:  33%|███▎      | 1/3 [00:00<00:01,  1.26step/s]"
     ]
    },
    {
     "name": "stdout",
     "output_type": "stream",
     "text": [
      "Runtime for denclue_clustering: 0.792026 seconds\n"
     ]
    },
    {
     "name": "stderr",
     "output_type": "stream",
     "text": [
      "Running DENCLUE: 100%|██████████| 3/3 [00:01<00:00,  1.86step/s]\n"
     ]
    },
    {
     "name": "stdout",
     "output_type": "stream",
     "text": [
      "Plot saved as: Images/denclue_observations_normal_bins\\denclue_2002-2005_eps50_maxiter300_bandwidth0.005.png\n",
      "\n",
      "DENCLUE result:\n"
     ]
    },
    {
     "name": "stderr",
     "output_type": "stream",
     "text": [
      "Running DENCLUE:  33%|███▎      | 1/3 [00:00<00:01,  1.57step/s]"
     ]
    },
    {
     "name": "stdout",
     "output_type": "stream",
     "text": [
      "Runtime for denclue_clustering: 0.637747 seconds\n"
     ]
    },
    {
     "name": "stderr",
     "output_type": "stream",
     "text": [
      "Running DENCLUE: 100%|██████████| 3/3 [00:01<00:00,  1.94step/s]\n"
     ]
    },
    {
     "name": "stdout",
     "output_type": "stream",
     "text": [
      "Plot saved as: Images/denclue_observations_normal_bins\\denclue_2002-2005_eps50_maxiter300_bandwidth0.07.png\n",
      "\n",
      "DENCLUE result:\n"
     ]
    },
    {
     "name": "stderr",
     "output_type": "stream",
     "text": [
      "Running DENCLUE:  33%|███▎      | 1/3 [00:00<00:01,  1.42step/s]"
     ]
    },
    {
     "name": "stdout",
     "output_type": "stream",
     "text": [
      "Runtime for denclue_clustering: 0.702320 seconds\n"
     ]
    },
    {
     "name": "stderr",
     "output_type": "stream",
     "text": [
      "Running DENCLUE: 100%|██████████| 3/3 [00:01<00:00,  1.89step/s]\n"
     ]
    },
    {
     "name": "stdout",
     "output_type": "stream",
     "text": [
      "Plot saved as: Images/denclue_observations_normal_bins\\denclue_2002-2005_eps50_maxiter300_bandwidth0.01.png\n"
     ]
    },
    {
     "data": {
      "text/html": [
       "<div>\n",
       "<style scoped>\n",
       "    .dataframe tbody tr th:only-of-type {\n",
       "        vertical-align: middle;\n",
       "    }\n",
       "\n",
       "    .dataframe tbody tr th {\n",
       "        vertical-align: top;\n",
       "    }\n",
       "\n",
       "    .dataframe thead th {\n",
       "        text-align: right;\n",
       "    }\n",
       "</style>\n",
       "<table border=\"1\" class=\"dataframe\">\n",
       "  <thead>\n",
       "    <tr style=\"text-align: right;\">\n",
       "      <th></th>\n",
       "      <th>Year Range</th>\n",
       "      <th>k</th>\n",
       "      <th>Runtime (s)</th>\n",
       "      <th>Clusters</th>\n",
       "      <th>Points per Cluster</th>\n",
       "      <th>Davies-Bouldin</th>\n",
       "      <th>Calinski-Harabasz</th>\n",
       "      <th>Dunn Index</th>\n",
       "      <th>Silhouette Score</th>\n",
       "      <th>Cluster Std.</th>\n",
       "      <th>Square Density</th>\n",
       "      <th>Hull Density</th>\n",
       "    </tr>\n",
       "  </thead>\n",
       "  <tbody>\n",
       "    <tr>\n",
       "      <th>0</th>\n",
       "      <td>2002-2005</td>\n",
       "      <td>2</td>\n",
       "      <td>0.882</td>\n",
       "      <td>2</td>\n",
       "      <td>{5589.0: 1047, -1.0: 5305}</td>\n",
       "      <td>4.109</td>\n",
       "      <td>115.409</td>\n",
       "      <td>0.000</td>\n",
       "      <td>-0.351</td>\n",
       "      <td>{-1.0: (0.194, 0.234), 5589.0: (0.061, 0.194)}</td>\n",
       "      <td>{-1.0: 5305.0, 5589.0: 5561.045}</td>\n",
       "      <td>{-1.0: 5440.879, 5589.0: 17899.136}</td>\n",
       "    </tr>\n",
       "    <tr>\n",
       "      <th>1</th>\n",
       "      <td>2002-2005</td>\n",
       "      <td>2</td>\n",
       "      <td>0.581</td>\n",
       "      <td>2</td>\n",
       "      <td>{-1.0: 118, 447.0: 6234}</td>\n",
       "      <td>2.253</td>\n",
       "      <td>125.775</td>\n",
       "      <td>0.008</td>\n",
       "      <td>0.078</td>\n",
       "      <td>{-1.0: (0.219, 0.389), 447.0: (0.173, 0.228)}</td>\n",
       "      <td>{-1.0: 118.135, 447.0: 6234.0}</td>\n",
       "      <td>{-1.0: 165.302, 447.0: 7797.144}</td>\n",
       "    </tr>\n",
       "    <tr>\n",
       "      <th>2</th>\n",
       "      <td>2002-2005</td>\n",
       "      <td>2</td>\n",
       "      <td>0.749</td>\n",
       "      <td>2</td>\n",
       "      <td>{-1.0: 3591, 5638.0: 2761}</td>\n",
       "      <td>6.141</td>\n",
       "      <td>119.687</td>\n",
       "      <td>0.000</td>\n",
       "      <td>-0.252</td>\n",
       "      <td>{-1.0: (0.231, 0.248), 5638.0: (0.051, 0.202)}</td>\n",
       "      <td>{-1.0: 3591.0, 5638.0: 12708.741}</td>\n",
       "      <td>{-1.0: 3682.978, 5638.0: 33326.57}</td>\n",
       "    </tr>\n",
       "    <tr>\n",
       "      <th>3</th>\n",
       "      <td>2002-2005</td>\n",
       "      <td>2</td>\n",
       "      <td>1.337</td>\n",
       "      <td>2</td>\n",
       "      <td>{5589.0: 1047, -1.0: 5305}</td>\n",
       "      <td>4.109</td>\n",
       "      <td>115.409</td>\n",
       "      <td>0.000</td>\n",
       "      <td>-0.351</td>\n",
       "      <td>{-1.0: (0.194, 0.234), 5589.0: (0.061, 0.194)}</td>\n",
       "      <td>{-1.0: 5305.0, 5589.0: 5561.045}</td>\n",
       "      <td>{-1.0: 5440.879, 5589.0: 17899.136}</td>\n",
       "    </tr>\n",
       "    <tr>\n",
       "      <th>4</th>\n",
       "      <td>2002-2005</td>\n",
       "      <td>2</td>\n",
       "      <td>0.552</td>\n",
       "      <td>2</td>\n",
       "      <td>{-1.0: 118, 447.0: 6234}</td>\n",
       "      <td>2.253</td>\n",
       "      <td>125.775</td>\n",
       "      <td>0.008</td>\n",
       "      <td>0.078</td>\n",
       "      <td>{-1.0: (0.219, 0.389), 447.0: (0.173, 0.228)}</td>\n",
       "      <td>{-1.0: 118.135, 447.0: 6234.0}</td>\n",
       "      <td>{-1.0: 165.302, 447.0: 7797.144}</td>\n",
       "    </tr>\n",
       "    <tr>\n",
       "      <th>5</th>\n",
       "      <td>2002-2005</td>\n",
       "      <td>2</td>\n",
       "      <td>0.816</td>\n",
       "      <td>2</td>\n",
       "      <td>{-1.0: 3591, 5638.0: 2761}</td>\n",
       "      <td>6.141</td>\n",
       "      <td>119.687</td>\n",
       "      <td>0.000</td>\n",
       "      <td>-0.252</td>\n",
       "      <td>{-1.0: (0.231, 0.248), 5638.0: (0.051, 0.202)}</td>\n",
       "      <td>{-1.0: 3591.0, 5638.0: 12708.741}</td>\n",
       "      <td>{-1.0: 3682.978, 5638.0: 33326.57}</td>\n",
       "    </tr>\n",
       "    <tr>\n",
       "      <th>6</th>\n",
       "      <td>2002-2005</td>\n",
       "      <td>2</td>\n",
       "      <td>0.833</td>\n",
       "      <td>2</td>\n",
       "      <td>{5589.0: 1047, -1.0: 5305}</td>\n",
       "      <td>4.109</td>\n",
       "      <td>115.409</td>\n",
       "      <td>0.000</td>\n",
       "      <td>-0.351</td>\n",
       "      <td>{-1.0: (0.194, 0.234), 5589.0: (0.061, 0.194)}</td>\n",
       "      <td>{-1.0: 5305.0, 5589.0: 5561.045}</td>\n",
       "      <td>{-1.0: 5440.879, 5589.0: 17899.136}</td>\n",
       "    </tr>\n",
       "    <tr>\n",
       "      <th>7</th>\n",
       "      <td>2002-2005</td>\n",
       "      <td>2</td>\n",
       "      <td>0.531</td>\n",
       "      <td>2</td>\n",
       "      <td>{-1.0: 118, 447.0: 6234}</td>\n",
       "      <td>2.253</td>\n",
       "      <td>125.775</td>\n",
       "      <td>0.008</td>\n",
       "      <td>0.078</td>\n",
       "      <td>{-1.0: (0.219, 0.389), 447.0: (0.173, 0.228)}</td>\n",
       "      <td>{-1.0: 118.135, 447.0: 6234.0}</td>\n",
       "      <td>{-1.0: 165.302, 447.0: 7797.144}</td>\n",
       "    </tr>\n",
       "    <tr>\n",
       "      <th>8</th>\n",
       "      <td>2002-2005</td>\n",
       "      <td>2</td>\n",
       "      <td>0.752</td>\n",
       "      <td>2</td>\n",
       "      <td>{-1.0: 3591, 5638.0: 2761}</td>\n",
       "      <td>6.141</td>\n",
       "      <td>119.687</td>\n",
       "      <td>0.000</td>\n",
       "      <td>-0.252</td>\n",
       "      <td>{-1.0: (0.231, 0.248), 5638.0: (0.051, 0.202)}</td>\n",
       "      <td>{-1.0: 3591.0, 5638.0: 12708.741}</td>\n",
       "      <td>{-1.0: 3682.978, 5638.0: 33326.57}</td>\n",
       "    </tr>\n",
       "    <tr>\n",
       "      <th>9</th>\n",
       "      <td>2002-2005</td>\n",
       "      <td>2</td>\n",
       "      <td>0.938</td>\n",
       "      <td>2</td>\n",
       "      <td>{5589.0: 694, -1.0: 5658}</td>\n",
       "      <td>3.300</td>\n",
       "      <td>109.739</td>\n",
       "      <td>0.000</td>\n",
       "      <td>-0.388</td>\n",
       "      <td>{-1.0: (0.188, 0.234), 5589.0: (0.062, 0.171)}</td>\n",
       "      <td>{-1.0: 5658.0, 5589.0: 4232.792}</td>\n",
       "      <td>{-1.0: 5802.92, 5589.0: 13690.31}</td>\n",
       "    </tr>\n",
       "    <tr>\n",
       "      <th>10</th>\n",
       "      <td>2002-2005</td>\n",
       "      <td>2</td>\n",
       "      <td>0.597</td>\n",
       "      <td>2</td>\n",
       "      <td>{-1.0: 172, 447.0: 6180}</td>\n",
       "      <td>2.880</td>\n",
       "      <td>114.568</td>\n",
       "      <td>0.001</td>\n",
       "      <td>0.068</td>\n",
       "      <td>{-1.0: (0.277, 0.369), 447.0: (0.17, 0.227)}</td>\n",
       "      <td>{-1.0: 172.196, 447.0: 6185.334}</td>\n",
       "      <td>{-1.0: 192.088, 447.0: 8080.594}</td>\n",
       "    </tr>\n",
       "    <tr>\n",
       "      <th>11</th>\n",
       "      <td>2002-2005</td>\n",
       "      <td>2</td>\n",
       "      <td>0.724</td>\n",
       "      <td>2</td>\n",
       "      <td>{-1.0: 4054, 5638.0: 2298}</td>\n",
       "      <td>6.133</td>\n",
       "      <td>107.855</td>\n",
       "      <td>0.000</td>\n",
       "      <td>-0.286</td>\n",
       "      <td>{-1.0: (0.219, 0.239), 5638.0: (0.053, 0.21)}</td>\n",
       "      <td>{-1.0: 4054.0, 5638.0: 10785.933}</td>\n",
       "      <td>{-1.0: 4157.837, 5638.0: 30564.35}</td>\n",
       "    </tr>\n",
       "    <tr>\n",
       "      <th>12</th>\n",
       "      <td>2002-2005</td>\n",
       "      <td>2</td>\n",
       "      <td>0.866</td>\n",
       "      <td>2</td>\n",
       "      <td>{5589.0: 694, -1.0: 5658}</td>\n",
       "      <td>3.300</td>\n",
       "      <td>109.739</td>\n",
       "      <td>0.000</td>\n",
       "      <td>-0.388</td>\n",
       "      <td>{-1.0: (0.188, 0.234), 5589.0: (0.062, 0.171)}</td>\n",
       "      <td>{-1.0: 5658.0, 5589.0: 4232.792}</td>\n",
       "      <td>{-1.0: 5802.92, 5589.0: 13690.31}</td>\n",
       "    </tr>\n",
       "    <tr>\n",
       "      <th>13</th>\n",
       "      <td>2002-2005</td>\n",
       "      <td>2</td>\n",
       "      <td>0.517</td>\n",
       "      <td>2</td>\n",
       "      <td>{-1.0: 172, 447.0: 6180}</td>\n",
       "      <td>2.880</td>\n",
       "      <td>114.568</td>\n",
       "      <td>0.001</td>\n",
       "      <td>0.068</td>\n",
       "      <td>{-1.0: (0.277, 0.369), 447.0: (0.17, 0.227)}</td>\n",
       "      <td>{-1.0: 172.196, 447.0: 6185.334}</td>\n",
       "      <td>{-1.0: 192.088, 447.0: 8080.594}</td>\n",
       "    </tr>\n",
       "    <tr>\n",
       "      <th>14</th>\n",
       "      <td>2002-2005</td>\n",
       "      <td>2</td>\n",
       "      <td>0.775</td>\n",
       "      <td>2</td>\n",
       "      <td>{-1.0: 4054, 5638.0: 2298}</td>\n",
       "      <td>6.133</td>\n",
       "      <td>107.855</td>\n",
       "      <td>0.000</td>\n",
       "      <td>-0.286</td>\n",
       "      <td>{-1.0: (0.219, 0.239), 5638.0: (0.053, 0.21)}</td>\n",
       "      <td>{-1.0: 4054.0, 5638.0: 10785.933}</td>\n",
       "      <td>{-1.0: 4157.837, 5638.0: 30564.35}</td>\n",
       "    </tr>\n",
       "    <tr>\n",
       "      <th>15</th>\n",
       "      <td>2002-2005</td>\n",
       "      <td>2</td>\n",
       "      <td>0.822</td>\n",
       "      <td>2</td>\n",
       "      <td>{5589.0: 694, -1.0: 5658}</td>\n",
       "      <td>3.300</td>\n",
       "      <td>109.739</td>\n",
       "      <td>0.000</td>\n",
       "      <td>-0.388</td>\n",
       "      <td>{-1.0: (0.188, 0.234), 5589.0: (0.062, 0.171)}</td>\n",
       "      <td>{-1.0: 5658.0, 5589.0: 4232.792}</td>\n",
       "      <td>{-1.0: 5802.92, 5589.0: 13690.31}</td>\n",
       "    </tr>\n",
       "    <tr>\n",
       "      <th>16</th>\n",
       "      <td>2002-2005</td>\n",
       "      <td>2</td>\n",
       "      <td>0.514</td>\n",
       "      <td>2</td>\n",
       "      <td>{-1.0: 172, 447.0: 6180}</td>\n",
       "      <td>2.880</td>\n",
       "      <td>114.568</td>\n",
       "      <td>0.001</td>\n",
       "      <td>0.068</td>\n",
       "      <td>{-1.0: (0.277, 0.369), 447.0: (0.17, 0.227)}</td>\n",
       "      <td>{-1.0: 172.196, 447.0: 6185.334}</td>\n",
       "      <td>{-1.0: 192.088, 447.0: 8080.594}</td>\n",
       "    </tr>\n",
       "    <tr>\n",
       "      <th>17</th>\n",
       "      <td>2002-2005</td>\n",
       "      <td>2</td>\n",
       "      <td>0.967</td>\n",
       "      <td>2</td>\n",
       "      <td>{-1.0: 4054, 5638.0: 2298}</td>\n",
       "      <td>6.133</td>\n",
       "      <td>107.855</td>\n",
       "      <td>0.000</td>\n",
       "      <td>-0.286</td>\n",
       "      <td>{-1.0: (0.219, 0.239), 5638.0: (0.053, 0.21)}</td>\n",
       "      <td>{-1.0: 4054.0, 5638.0: 10785.933}</td>\n",
       "      <td>{-1.0: 4157.837, 5638.0: 30564.35}</td>\n",
       "    </tr>\n",
       "    <tr>\n",
       "      <th>18</th>\n",
       "      <td>2002-2005</td>\n",
       "      <td>2</td>\n",
       "      <td>0.847</td>\n",
       "      <td>2</td>\n",
       "      <td>{5589.0: 525, -1.0: 5827}</td>\n",
       "      <td>3.348</td>\n",
       "      <td>78.639</td>\n",
       "      <td>0.000</td>\n",
       "      <td>-0.409</td>\n",
       "      <td>{-1.0: (0.186, 0.234), 5589.0: (0.058, 0.167)}</td>\n",
       "      <td>{-1.0: 5827.0, 5589.0: 3255.04}</td>\n",
       "      <td>{-1.0: 5976.249, 5589.0: 11128.049}</td>\n",
       "    </tr>\n",
       "    <tr>\n",
       "      <th>19</th>\n",
       "      <td>2002-2005</td>\n",
       "      <td>2</td>\n",
       "      <td>0.494</td>\n",
       "      <td>2</td>\n",
       "      <td>{-1.0: 249, 447.0: 6103}</td>\n",
       "      <td>3.402</td>\n",
       "      <td>119.683</td>\n",
       "      <td>0.002</td>\n",
       "      <td>0.064</td>\n",
       "      <td>{-1.0: (0.295, 0.365), 447.0: (0.166, 0.226)}</td>\n",
       "      <td>{-1.0: 249.237, 447.0: 6257.382}</td>\n",
       "      <td>{-1.0: 255.678, 447.0: 8368.594}</td>\n",
       "    </tr>\n",
       "    <tr>\n",
       "      <th>20</th>\n",
       "      <td>2002-2005</td>\n",
       "      <td>2</td>\n",
       "      <td>0.692</td>\n",
       "      <td>2</td>\n",
       "      <td>{-1.0: 4437, 5638.0: 1915}</td>\n",
       "      <td>5.373</td>\n",
       "      <td>123.264</td>\n",
       "      <td>0.001</td>\n",
       "      <td>-0.293</td>\n",
       "      <td>{-1.0: (0.21, 0.234), 5638.0: (0.055, 0.215)}</td>\n",
       "      <td>{-1.0: 4437.0, 5638.0: 9284.392}</td>\n",
       "      <td>{-1.0: 4550.646, 5638.0: 27486.101}</td>\n",
       "    </tr>\n",
       "    <tr>\n",
       "      <th>21</th>\n",
       "      <td>2002-2005</td>\n",
       "      <td>2</td>\n",
       "      <td>0.810</td>\n",
       "      <td>2</td>\n",
       "      <td>{5589.0: 525, -1.0: 5827}</td>\n",
       "      <td>3.348</td>\n",
       "      <td>78.639</td>\n",
       "      <td>0.000</td>\n",
       "      <td>-0.409</td>\n",
       "      <td>{-1.0: (0.186, 0.234), 5589.0: (0.058, 0.167)}</td>\n",
       "      <td>{-1.0: 5827.0, 5589.0: 3255.04}</td>\n",
       "      <td>{-1.0: 5976.249, 5589.0: 11128.049}</td>\n",
       "    </tr>\n",
       "    <tr>\n",
       "      <th>22</th>\n",
       "      <td>2002-2005</td>\n",
       "      <td>2</td>\n",
       "      <td>0.507</td>\n",
       "      <td>2</td>\n",
       "      <td>{-1.0: 249, 447.0: 6103}</td>\n",
       "      <td>3.402</td>\n",
       "      <td>119.683</td>\n",
       "      <td>0.002</td>\n",
       "      <td>0.064</td>\n",
       "      <td>{-1.0: (0.295, 0.365), 447.0: (0.166, 0.226)}</td>\n",
       "      <td>{-1.0: 249.237, 447.0: 6257.382}</td>\n",
       "      <td>{-1.0: 255.678, 447.0: 8368.594}</td>\n",
       "    </tr>\n",
       "    <tr>\n",
       "      <th>23</th>\n",
       "      <td>2002-2005</td>\n",
       "      <td>2</td>\n",
       "      <td>0.765</td>\n",
       "      <td>2</td>\n",
       "      <td>{-1.0: 4437, 5638.0: 1915}</td>\n",
       "      <td>5.373</td>\n",
       "      <td>123.264</td>\n",
       "      <td>0.001</td>\n",
       "      <td>-0.293</td>\n",
       "      <td>{-1.0: (0.21, 0.234), 5638.0: (0.055, 0.215)}</td>\n",
       "      <td>{-1.0: 4437.0, 5638.0: 9284.392}</td>\n",
       "      <td>{-1.0: 4550.646, 5638.0: 27486.101}</td>\n",
       "    </tr>\n",
       "    <tr>\n",
       "      <th>24</th>\n",
       "      <td>2002-2005</td>\n",
       "      <td>2</td>\n",
       "      <td>0.792</td>\n",
       "      <td>2</td>\n",
       "      <td>{5589.0: 525, -1.0: 5827}</td>\n",
       "      <td>3.348</td>\n",
       "      <td>78.639</td>\n",
       "      <td>0.000</td>\n",
       "      <td>-0.409</td>\n",
       "      <td>{-1.0: (0.186, 0.234), 5589.0: (0.058, 0.167)}</td>\n",
       "      <td>{-1.0: 5827.0, 5589.0: 3255.04}</td>\n",
       "      <td>{-1.0: 5976.249, 5589.0: 11128.049}</td>\n",
       "    </tr>\n",
       "    <tr>\n",
       "      <th>25</th>\n",
       "      <td>2002-2005</td>\n",
       "      <td>2</td>\n",
       "      <td>0.638</td>\n",
       "      <td>2</td>\n",
       "      <td>{-1.0: 249, 447.0: 6103}</td>\n",
       "      <td>3.402</td>\n",
       "      <td>119.683</td>\n",
       "      <td>0.002</td>\n",
       "      <td>0.064</td>\n",
       "      <td>{-1.0: (0.295, 0.365), 447.0: (0.166, 0.226)}</td>\n",
       "      <td>{-1.0: 249.237, 447.0: 6257.382}</td>\n",
       "      <td>{-1.0: 255.678, 447.0: 8368.594}</td>\n",
       "    </tr>\n",
       "    <tr>\n",
       "      <th>26</th>\n",
       "      <td>2002-2005</td>\n",
       "      <td>2</td>\n",
       "      <td>0.702</td>\n",
       "      <td>2</td>\n",
       "      <td>{-1.0: 4437, 5638.0: 1915}</td>\n",
       "      <td>5.373</td>\n",
       "      <td>123.264</td>\n",
       "      <td>0.001</td>\n",
       "      <td>-0.293</td>\n",
       "      <td>{-1.0: (0.21, 0.234), 5638.0: (0.055, 0.215)}</td>\n",
       "      <td>{-1.0: 4437.0, 5638.0: 9284.392}</td>\n",
       "      <td>{-1.0: 4550.646, 5638.0: 27486.101}</td>\n",
       "    </tr>\n",
       "  </tbody>\n",
       "</table>\n",
       "</div>"
      ],
      "text/plain": [
       "   Year Range  k Runtime (s)  Clusters          Points per Cluster  \\\n",
       "0   2002-2005  2       0.882         2  {5589.0: 1047, -1.0: 5305}   \n",
       "1   2002-2005  2       0.581         2    {-1.0: 118, 447.0: 6234}   \n",
       "2   2002-2005  2       0.749         2  {-1.0: 3591, 5638.0: 2761}   \n",
       "3   2002-2005  2       1.337         2  {5589.0: 1047, -1.0: 5305}   \n",
       "4   2002-2005  2       0.552         2    {-1.0: 118, 447.0: 6234}   \n",
       "5   2002-2005  2       0.816         2  {-1.0: 3591, 5638.0: 2761}   \n",
       "6   2002-2005  2       0.833         2  {5589.0: 1047, -1.0: 5305}   \n",
       "7   2002-2005  2       0.531         2    {-1.0: 118, 447.0: 6234}   \n",
       "8   2002-2005  2       0.752         2  {-1.0: 3591, 5638.0: 2761}   \n",
       "9   2002-2005  2       0.938         2   {5589.0: 694, -1.0: 5658}   \n",
       "10  2002-2005  2       0.597         2    {-1.0: 172, 447.0: 6180}   \n",
       "11  2002-2005  2       0.724         2  {-1.0: 4054, 5638.0: 2298}   \n",
       "12  2002-2005  2       0.866         2   {5589.0: 694, -1.0: 5658}   \n",
       "13  2002-2005  2       0.517         2    {-1.0: 172, 447.0: 6180}   \n",
       "14  2002-2005  2       0.775         2  {-1.0: 4054, 5638.0: 2298}   \n",
       "15  2002-2005  2       0.822         2   {5589.0: 694, -1.0: 5658}   \n",
       "16  2002-2005  2       0.514         2    {-1.0: 172, 447.0: 6180}   \n",
       "17  2002-2005  2       0.967         2  {-1.0: 4054, 5638.0: 2298}   \n",
       "18  2002-2005  2       0.847         2   {5589.0: 525, -1.0: 5827}   \n",
       "19  2002-2005  2       0.494         2    {-1.0: 249, 447.0: 6103}   \n",
       "20  2002-2005  2       0.692         2  {-1.0: 4437, 5638.0: 1915}   \n",
       "21  2002-2005  2       0.810         2   {5589.0: 525, -1.0: 5827}   \n",
       "22  2002-2005  2       0.507         2    {-1.0: 249, 447.0: 6103}   \n",
       "23  2002-2005  2       0.765         2  {-1.0: 4437, 5638.0: 1915}   \n",
       "24  2002-2005  2       0.792         2   {5589.0: 525, -1.0: 5827}   \n",
       "25  2002-2005  2       0.638         2    {-1.0: 249, 447.0: 6103}   \n",
       "26  2002-2005  2       0.702         2  {-1.0: 4437, 5638.0: 1915}   \n",
       "\n",
       "   Davies-Bouldin Calinski-Harabasz Dunn Index Silhouette Score  \\\n",
       "0           4.109           115.409      0.000           -0.351   \n",
       "1           2.253           125.775      0.008            0.078   \n",
       "2           6.141           119.687      0.000           -0.252   \n",
       "3           4.109           115.409      0.000           -0.351   \n",
       "4           2.253           125.775      0.008            0.078   \n",
       "5           6.141           119.687      0.000           -0.252   \n",
       "6           4.109           115.409      0.000           -0.351   \n",
       "7           2.253           125.775      0.008            0.078   \n",
       "8           6.141           119.687      0.000           -0.252   \n",
       "9           3.300           109.739      0.000           -0.388   \n",
       "10          2.880           114.568      0.001            0.068   \n",
       "11          6.133           107.855      0.000           -0.286   \n",
       "12          3.300           109.739      0.000           -0.388   \n",
       "13          2.880           114.568      0.001            0.068   \n",
       "14          6.133           107.855      0.000           -0.286   \n",
       "15          3.300           109.739      0.000           -0.388   \n",
       "16          2.880           114.568      0.001            0.068   \n",
       "17          6.133           107.855      0.000           -0.286   \n",
       "18          3.348            78.639      0.000           -0.409   \n",
       "19          3.402           119.683      0.002            0.064   \n",
       "20          5.373           123.264      0.001           -0.293   \n",
       "21          3.348            78.639      0.000           -0.409   \n",
       "22          3.402           119.683      0.002            0.064   \n",
       "23          5.373           123.264      0.001           -0.293   \n",
       "24          3.348            78.639      0.000           -0.409   \n",
       "25          3.402           119.683      0.002            0.064   \n",
       "26          5.373           123.264      0.001           -0.293   \n",
       "\n",
       "                                      Cluster Std.  \\\n",
       "0   {-1.0: (0.194, 0.234), 5589.0: (0.061, 0.194)}   \n",
       "1    {-1.0: (0.219, 0.389), 447.0: (0.173, 0.228)}   \n",
       "2   {-1.0: (0.231, 0.248), 5638.0: (0.051, 0.202)}   \n",
       "3   {-1.0: (0.194, 0.234), 5589.0: (0.061, 0.194)}   \n",
       "4    {-1.0: (0.219, 0.389), 447.0: (0.173, 0.228)}   \n",
       "5   {-1.0: (0.231, 0.248), 5638.0: (0.051, 0.202)}   \n",
       "6   {-1.0: (0.194, 0.234), 5589.0: (0.061, 0.194)}   \n",
       "7    {-1.0: (0.219, 0.389), 447.0: (0.173, 0.228)}   \n",
       "8   {-1.0: (0.231, 0.248), 5638.0: (0.051, 0.202)}   \n",
       "9   {-1.0: (0.188, 0.234), 5589.0: (0.062, 0.171)}   \n",
       "10    {-1.0: (0.277, 0.369), 447.0: (0.17, 0.227)}   \n",
       "11   {-1.0: (0.219, 0.239), 5638.0: (0.053, 0.21)}   \n",
       "12  {-1.0: (0.188, 0.234), 5589.0: (0.062, 0.171)}   \n",
       "13    {-1.0: (0.277, 0.369), 447.0: (0.17, 0.227)}   \n",
       "14   {-1.0: (0.219, 0.239), 5638.0: (0.053, 0.21)}   \n",
       "15  {-1.0: (0.188, 0.234), 5589.0: (0.062, 0.171)}   \n",
       "16    {-1.0: (0.277, 0.369), 447.0: (0.17, 0.227)}   \n",
       "17   {-1.0: (0.219, 0.239), 5638.0: (0.053, 0.21)}   \n",
       "18  {-1.0: (0.186, 0.234), 5589.0: (0.058, 0.167)}   \n",
       "19   {-1.0: (0.295, 0.365), 447.0: (0.166, 0.226)}   \n",
       "20   {-1.0: (0.21, 0.234), 5638.0: (0.055, 0.215)}   \n",
       "21  {-1.0: (0.186, 0.234), 5589.0: (0.058, 0.167)}   \n",
       "22   {-1.0: (0.295, 0.365), 447.0: (0.166, 0.226)}   \n",
       "23   {-1.0: (0.21, 0.234), 5638.0: (0.055, 0.215)}   \n",
       "24  {-1.0: (0.186, 0.234), 5589.0: (0.058, 0.167)}   \n",
       "25   {-1.0: (0.295, 0.365), 447.0: (0.166, 0.226)}   \n",
       "26   {-1.0: (0.21, 0.234), 5638.0: (0.055, 0.215)}   \n",
       "\n",
       "                       Square Density                         Hull Density  \n",
       "0    {-1.0: 5305.0, 5589.0: 5561.045}  {-1.0: 5440.879, 5589.0: 17899.136}  \n",
       "1      {-1.0: 118.135, 447.0: 6234.0}     {-1.0: 165.302, 447.0: 7797.144}  \n",
       "2   {-1.0: 3591.0, 5638.0: 12708.741}   {-1.0: 3682.978, 5638.0: 33326.57}  \n",
       "3    {-1.0: 5305.0, 5589.0: 5561.045}  {-1.0: 5440.879, 5589.0: 17899.136}  \n",
       "4      {-1.0: 118.135, 447.0: 6234.0}     {-1.0: 165.302, 447.0: 7797.144}  \n",
       "5   {-1.0: 3591.0, 5638.0: 12708.741}   {-1.0: 3682.978, 5638.0: 33326.57}  \n",
       "6    {-1.0: 5305.0, 5589.0: 5561.045}  {-1.0: 5440.879, 5589.0: 17899.136}  \n",
       "7      {-1.0: 118.135, 447.0: 6234.0}     {-1.0: 165.302, 447.0: 7797.144}  \n",
       "8   {-1.0: 3591.0, 5638.0: 12708.741}   {-1.0: 3682.978, 5638.0: 33326.57}  \n",
       "9    {-1.0: 5658.0, 5589.0: 4232.792}    {-1.0: 5802.92, 5589.0: 13690.31}  \n",
       "10   {-1.0: 172.196, 447.0: 6185.334}     {-1.0: 192.088, 447.0: 8080.594}  \n",
       "11  {-1.0: 4054.0, 5638.0: 10785.933}   {-1.0: 4157.837, 5638.0: 30564.35}  \n",
       "12   {-1.0: 5658.0, 5589.0: 4232.792}    {-1.0: 5802.92, 5589.0: 13690.31}  \n",
       "13   {-1.0: 172.196, 447.0: 6185.334}     {-1.0: 192.088, 447.0: 8080.594}  \n",
       "14  {-1.0: 4054.0, 5638.0: 10785.933}   {-1.0: 4157.837, 5638.0: 30564.35}  \n",
       "15   {-1.0: 5658.0, 5589.0: 4232.792}    {-1.0: 5802.92, 5589.0: 13690.31}  \n",
       "16   {-1.0: 172.196, 447.0: 6185.334}     {-1.0: 192.088, 447.0: 8080.594}  \n",
       "17  {-1.0: 4054.0, 5638.0: 10785.933}   {-1.0: 4157.837, 5638.0: 30564.35}  \n",
       "18    {-1.0: 5827.0, 5589.0: 3255.04}  {-1.0: 5976.249, 5589.0: 11128.049}  \n",
       "19   {-1.0: 249.237, 447.0: 6257.382}     {-1.0: 255.678, 447.0: 8368.594}  \n",
       "20   {-1.0: 4437.0, 5638.0: 9284.392}  {-1.0: 4550.646, 5638.0: 27486.101}  \n",
       "21    {-1.0: 5827.0, 5589.0: 3255.04}  {-1.0: 5976.249, 5589.0: 11128.049}  \n",
       "22   {-1.0: 249.237, 447.0: 6257.382}     {-1.0: 255.678, 447.0: 8368.594}  \n",
       "23   {-1.0: 4437.0, 5638.0: 9284.392}  {-1.0: 4550.646, 5638.0: 27486.101}  \n",
       "24    {-1.0: 5827.0, 5589.0: 3255.04}  {-1.0: 5976.249, 5589.0: 11128.049}  \n",
       "25   {-1.0: 249.237, 447.0: 6257.382}     {-1.0: 255.678, 447.0: 8368.594}  \n",
       "26   {-1.0: 4437.0, 5638.0: 9284.392}  {-1.0: 4550.646, 5638.0: 27486.101}  "
      ]
     },
     "metadata": {},
     "output_type": "display_data"
    },
    {
     "name": "stdout",
     "output_type": "stream",
     "text": [
      "\n",
      "Running DENCLUE for Year Range: 2006-2009\n",
      "\n",
      "DENCLUE result:\n"
     ]
    },
    {
     "name": "stderr",
     "output_type": "stream",
     "text": [
      "Running DENCLUE:  33%|███▎      | 1/3 [00:00<00:01,  1.66step/s]"
     ]
    },
    {
     "name": "stdout",
     "output_type": "stream",
     "text": [
      "Runtime for denclue_clustering: 0.601525 seconds\n"
     ]
    },
    {
     "name": "stderr",
     "output_type": "stream",
     "text": [
      "Running DENCLUE: 100%|██████████| 3/3 [00:01<00:00,  2.39step/s]\n"
     ]
    },
    {
     "name": "stdout",
     "output_type": "stream",
     "text": [
      "Plot saved as: Images/denclue_observations_normal_bins\\denclue_2006-2009_eps30_maxiter100_bandwidth0.005.png\n",
      "\n",
      "DENCLUE result:\n"
     ]
    },
    {
     "name": "stderr",
     "output_type": "stream",
     "text": [
      "Running DENCLUE:  33%|███▎      | 1/3 [00:00<00:00,  2.21step/s]"
     ]
    },
    {
     "name": "stdout",
     "output_type": "stream",
     "text": [
      "Runtime for denclue_clustering: 0.453306 seconds\n"
     ]
    },
    {
     "name": "stderr",
     "output_type": "stream",
     "text": [
      "Running DENCLUE: 100%|██████████| 3/3 [00:01<00:00,  2.43step/s]\n"
     ]
    },
    {
     "name": "stdout",
     "output_type": "stream",
     "text": [
      "Plot saved as: Images/denclue_observations_normal_bins\\denclue_2006-2009_eps30_maxiter100_bandwidth0.07.png\n",
      "\n",
      "DENCLUE result:\n"
     ]
    },
    {
     "name": "stderr",
     "output_type": "stream",
     "text": [
      "Running DENCLUE:  33%|███▎      | 1/3 [00:00<00:01,  1.76step/s]"
     ]
    },
    {
     "name": "stdout",
     "output_type": "stream",
     "text": [
      "Runtime for denclue_clustering: 0.567659 seconds\n"
     ]
    },
    {
     "name": "stderr",
     "output_type": "stream",
     "text": [
      "Running DENCLUE: 100%|██████████| 3/3 [00:01<00:00,  2.41step/s]\n"
     ]
    },
    {
     "name": "stdout",
     "output_type": "stream",
     "text": [
      "Plot saved as: Images/denclue_observations_normal_bins\\denclue_2006-2009_eps30_maxiter100_bandwidth0.01.png\n",
      "\n",
      "DENCLUE result:\n"
     ]
    },
    {
     "name": "stderr",
     "output_type": "stream",
     "text": [
      "Running DENCLUE:  33%|███▎      | 1/3 [00:00<00:01,  1.54step/s]"
     ]
    },
    {
     "name": "stdout",
     "output_type": "stream",
     "text": [
      "Runtime for denclue_clustering: 0.648668 seconds\n"
     ]
    },
    {
     "name": "stderr",
     "output_type": "stream",
     "text": [
      "Running DENCLUE: 100%|██████████| 3/3 [00:01<00:00,  2.28step/s]\n"
     ]
    },
    {
     "name": "stdout",
     "output_type": "stream",
     "text": [
      "Plot saved as: Images/denclue_observations_normal_bins\\denclue_2006-2009_eps30_maxiter200_bandwidth0.005.png\n",
      "\n",
      "DENCLUE result:\n"
     ]
    },
    {
     "name": "stderr",
     "output_type": "stream",
     "text": [
      "Running DENCLUE:  33%|███▎      | 1/3 [00:00<00:00,  2.19step/s]"
     ]
    },
    {
     "name": "stdout",
     "output_type": "stream",
     "text": [
      "Runtime for denclue_clustering: 0.454182 seconds\n"
     ]
    },
    {
     "name": "stderr",
     "output_type": "stream",
     "text": [
      "Running DENCLUE: 100%|██████████| 3/3 [00:01<00:00,  2.68step/s]\n"
     ]
    },
    {
     "name": "stdout",
     "output_type": "stream",
     "text": [
      "Plot saved as: Images/denclue_observations_normal_bins\\denclue_2006-2009_eps30_maxiter200_bandwidth0.07.png\n",
      "\n",
      "DENCLUE result:\n"
     ]
    },
    {
     "name": "stderr",
     "output_type": "stream",
     "text": [
      "Running DENCLUE:  33%|███▎      | 1/3 [00:00<00:01,  1.66step/s]"
     ]
    },
    {
     "name": "stdout",
     "output_type": "stream",
     "text": [
      "Runtime for denclue_clustering: 0.603721 seconds\n"
     ]
    },
    {
     "name": "stderr",
     "output_type": "stream",
     "text": [
      "Running DENCLUE: 100%|██████████| 3/3 [00:01<00:00,  2.36step/s]\n"
     ]
    },
    {
     "name": "stdout",
     "output_type": "stream",
     "text": [
      "Plot saved as: Images/denclue_observations_normal_bins\\denclue_2006-2009_eps30_maxiter200_bandwidth0.01.png\n",
      "\n",
      "DENCLUE result:\n"
     ]
    },
    {
     "name": "stderr",
     "output_type": "stream",
     "text": [
      "Running DENCLUE:  33%|███▎      | 1/3 [00:00<00:01,  1.27step/s]"
     ]
    },
    {
     "name": "stdout",
     "output_type": "stream",
     "text": [
      "Runtime for denclue_clustering: 0.786461 seconds\n"
     ]
    },
    {
     "name": "stderr",
     "output_type": "stream",
     "text": [
      "Running DENCLUE: 100%|██████████| 3/3 [00:01<00:00,  2.01step/s]\n"
     ]
    },
    {
     "name": "stdout",
     "output_type": "stream",
     "text": [
      "Plot saved as: Images/denclue_observations_normal_bins\\denclue_2006-2009_eps30_maxiter300_bandwidth0.005.png\n",
      "\n",
      "DENCLUE result:\n"
     ]
    },
    {
     "name": "stderr",
     "output_type": "stream",
     "text": [
      "Running DENCLUE:  33%|███▎      | 1/3 [00:00<00:00,  2.27step/s]"
     ]
    },
    {
     "name": "stdout",
     "output_type": "stream",
     "text": [
      "Runtime for denclue_clustering: 0.439569 seconds\n"
     ]
    },
    {
     "name": "stderr",
     "output_type": "stream",
     "text": [
      "Running DENCLUE: 100%|██████████| 3/3 [00:01<00:00,  2.73step/s]\n"
     ]
    },
    {
     "name": "stdout",
     "output_type": "stream",
     "text": [
      "Plot saved as: Images/denclue_observations_normal_bins\\denclue_2006-2009_eps30_maxiter300_bandwidth0.07.png\n",
      "\n",
      "DENCLUE result:\n"
     ]
    },
    {
     "name": "stderr",
     "output_type": "stream",
     "text": [
      "Running DENCLUE:  33%|███▎      | 1/3 [00:00<00:01,  1.70step/s]"
     ]
    },
    {
     "name": "stdout",
     "output_type": "stream",
     "text": [
      "Runtime for denclue_clustering: 0.589405 seconds\n"
     ]
    },
    {
     "name": "stderr",
     "output_type": "stream",
     "text": [
      "Running DENCLUE: 100%|██████████| 3/3 [00:01<00:00,  2.10step/s]\n"
     ]
    },
    {
     "name": "stdout",
     "output_type": "stream",
     "text": [
      "Plot saved as: Images/denclue_observations_normal_bins\\denclue_2006-2009_eps30_maxiter300_bandwidth0.01.png\n",
      "\n",
      "DENCLUE result:\n"
     ]
    },
    {
     "name": "stderr",
     "output_type": "stream",
     "text": [
      "Running DENCLUE:  33%|███▎      | 1/3 [00:00<00:01,  1.54step/s]"
     ]
    },
    {
     "name": "stdout",
     "output_type": "stream",
     "text": [
      "Runtime for denclue_clustering: 0.648874 seconds\n"
     ]
    },
    {
     "name": "stderr",
     "output_type": "stream",
     "text": [
      "Running DENCLUE: 100%|██████████| 3/3 [00:01<00:00,  2.00step/s]\n"
     ]
    },
    {
     "name": "stdout",
     "output_type": "stream",
     "text": [
      "Plot saved as: Images/denclue_observations_normal_bins\\denclue_2006-2009_eps40_maxiter100_bandwidth0.005.png\n",
      "\n",
      "DENCLUE result:\n"
     ]
    },
    {
     "name": "stderr",
     "output_type": "stream",
     "text": [
      "Running DENCLUE:  33%|███▎      | 1/3 [00:00<00:00,  2.08step/s]"
     ]
    },
    {
     "name": "stdout",
     "output_type": "stream",
     "text": [
      "Runtime for denclue_clustering: 0.480807 seconds\n"
     ]
    },
    {
     "name": "stderr",
     "output_type": "stream",
     "text": [
      "Running DENCLUE: 100%|██████████| 3/3 [00:01<00:00,  2.38step/s]\n"
     ]
    },
    {
     "name": "stdout",
     "output_type": "stream",
     "text": [
      "Plot saved as: Images/denclue_observations_normal_bins\\denclue_2006-2009_eps40_maxiter100_bandwidth0.07.png\n",
      "\n",
      "DENCLUE result:\n"
     ]
    },
    {
     "name": "stderr",
     "output_type": "stream",
     "text": [
      "Running DENCLUE:  33%|███▎      | 1/3 [00:01<00:03,  1.98s/step]"
     ]
    },
    {
     "name": "stdout",
     "output_type": "stream",
     "text": [
      "Runtime for denclue_clustering: 1.982892 seconds\n"
     ]
    },
    {
     "name": "stderr",
     "output_type": "stream",
     "text": [
      "Running DENCLUE: 100%|██████████| 3/3 [00:03<00:00,  1.27s/step]\n"
     ]
    },
    {
     "name": "stdout",
     "output_type": "stream",
     "text": [
      "Plot saved as: Images/denclue_observations_normal_bins\\denclue_2006-2009_eps40_maxiter100_bandwidth0.01.png\n",
      "\n",
      "DENCLUE result:\n"
     ]
    },
    {
     "name": "stderr",
     "output_type": "stream",
     "text": [
      "Running DENCLUE:  33%|███▎      | 1/3 [00:02<00:04,  2.23s/step]"
     ]
    },
    {
     "name": "stdout",
     "output_type": "stream",
     "text": [
      "Runtime for denclue_clustering: 2.234091 seconds\n"
     ]
    },
    {
     "name": "stderr",
     "output_type": "stream",
     "text": [
      "Running DENCLUE: 100%|██████████| 3/3 [00:04<00:00,  1.46s/step]\n"
     ]
    },
    {
     "name": "stdout",
     "output_type": "stream",
     "text": [
      "Plot saved as: Images/denclue_observations_normal_bins\\denclue_2006-2009_eps40_maxiter200_bandwidth0.005.png\n",
      "\n",
      "DENCLUE result:\n"
     ]
    },
    {
     "name": "stderr",
     "output_type": "stream",
     "text": [
      "Running DENCLUE:  33%|███▎      | 1/3 [00:01<00:03,  1.90s/step]"
     ]
    },
    {
     "name": "stdout",
     "output_type": "stream",
     "text": [
      "Runtime for denclue_clustering: 1.899342 seconds\n"
     ]
    },
    {
     "name": "stderr",
     "output_type": "stream",
     "text": [
      "Running DENCLUE: 100%|██████████| 3/3 [00:04<00:00,  1.35s/step]\n"
     ]
    },
    {
     "name": "stdout",
     "output_type": "stream",
     "text": [
      "Plot saved as: Images/denclue_observations_normal_bins\\denclue_2006-2009_eps40_maxiter200_bandwidth0.07.png\n",
      "\n",
      "DENCLUE result:\n"
     ]
    },
    {
     "name": "stderr",
     "output_type": "stream",
     "text": [
      "Running DENCLUE:  33%|███▎      | 1/3 [00:00<00:01,  1.76step/s]"
     ]
    },
    {
     "name": "stdout",
     "output_type": "stream",
     "text": [
      "Runtime for denclue_clustering: 0.568119 seconds\n"
     ]
    },
    {
     "name": "stderr",
     "output_type": "stream",
     "text": [
      "Running DENCLUE: 100%|██████████| 3/3 [00:01<00:00,  2.40step/s]\n"
     ]
    },
    {
     "name": "stdout",
     "output_type": "stream",
     "text": [
      "Plot saved as: Images/denclue_observations_normal_bins\\denclue_2006-2009_eps40_maxiter200_bandwidth0.01.png\n",
      "\n",
      "DENCLUE result:\n"
     ]
    },
    {
     "name": "stderr",
     "output_type": "stream",
     "text": [
      "Running DENCLUE:  33%|███▎      | 1/3 [00:00<00:01,  1.36step/s]"
     ]
    },
    {
     "name": "stdout",
     "output_type": "stream",
     "text": [
      "Runtime for denclue_clustering: 0.734818 seconds\n"
     ]
    },
    {
     "name": "stderr",
     "output_type": "stream",
     "text": [
      "Running DENCLUE: 100%|██████████| 3/3 [00:01<00:00,  2.14step/s]\n"
     ]
    },
    {
     "name": "stdout",
     "output_type": "stream",
     "text": [
      "Plot saved as: Images/denclue_observations_normal_bins\\denclue_2006-2009_eps40_maxiter300_bandwidth0.005.png\n",
      "\n",
      "DENCLUE result:\n"
     ]
    },
    {
     "name": "stderr",
     "output_type": "stream",
     "text": [
      "Running DENCLUE:  33%|███▎      | 1/3 [00:00<00:00,  2.38step/s]"
     ]
    },
    {
     "name": "stdout",
     "output_type": "stream",
     "text": [
      "Runtime for denclue_clustering: 0.419720 seconds\n"
     ]
    },
    {
     "name": "stderr",
     "output_type": "stream",
     "text": [
      "Running DENCLUE: 100%|██████████| 3/3 [00:01<00:00,  2.48step/s]\n"
     ]
    },
    {
     "name": "stdout",
     "output_type": "stream",
     "text": [
      "Plot saved as: Images/denclue_observations_normal_bins\\denclue_2006-2009_eps40_maxiter300_bandwidth0.07.png\n",
      "\n",
      "DENCLUE result:\n"
     ]
    },
    {
     "name": "stderr",
     "output_type": "stream",
     "text": [
      "Running DENCLUE:  33%|███▎      | 1/3 [00:00<00:01,  1.81step/s]"
     ]
    },
    {
     "name": "stdout",
     "output_type": "stream",
     "text": [
      "Runtime for denclue_clustering: 0.551233 seconds\n"
     ]
    },
    {
     "name": "stderr",
     "output_type": "stream",
     "text": [
      "Running DENCLUE: 100%|██████████| 3/3 [00:01<00:00,  2.41step/s]\n"
     ]
    },
    {
     "name": "stdout",
     "output_type": "stream",
     "text": [
      "Plot saved as: Images/denclue_observations_normal_bins\\denclue_2006-2009_eps40_maxiter300_bandwidth0.01.png\n",
      "\n",
      "DENCLUE result:\n"
     ]
    },
    {
     "name": "stderr",
     "output_type": "stream",
     "text": [
      "Running DENCLUE:  33%|███▎      | 1/3 [00:00<00:01,  1.41step/s]"
     ]
    },
    {
     "name": "stdout",
     "output_type": "stream",
     "text": [
      "Runtime for denclue_clustering: 0.710964 seconds\n"
     ]
    },
    {
     "name": "stderr",
     "output_type": "stream",
     "text": [
      "Running DENCLUE: 100%|██████████| 3/3 [00:01<00:00,  1.99step/s]\n"
     ]
    },
    {
     "name": "stdout",
     "output_type": "stream",
     "text": [
      "Plot saved as: Images/denclue_observations_normal_bins\\denclue_2006-2009_eps50_maxiter100_bandwidth0.005.png\n",
      "\n",
      "DENCLUE result:\n"
     ]
    },
    {
     "name": "stderr",
     "output_type": "stream",
     "text": [
      "Running DENCLUE:  33%|███▎      | 1/3 [00:01<00:02,  1.37s/step]"
     ]
    },
    {
     "name": "stdout",
     "output_type": "stream",
     "text": [
      "Runtime for denclue_clustering: 1.365842 seconds\n"
     ]
    },
    {
     "name": "stderr",
     "output_type": "stream",
     "text": [
      "Running DENCLUE: 100%|██████████| 3/3 [00:03<00:00,  1.07s/step]\n"
     ]
    },
    {
     "name": "stdout",
     "output_type": "stream",
     "text": [
      "Plot saved as: Images/denclue_observations_normal_bins\\denclue_2006-2009_eps50_maxiter100_bandwidth0.07.png\n",
      "\n",
      "DENCLUE result:\n"
     ]
    },
    {
     "name": "stderr",
     "output_type": "stream",
     "text": [
      "Running DENCLUE:  33%|███▎      | 1/3 [00:01<00:03,  1.84s/step]"
     ]
    },
    {
     "name": "stdout",
     "output_type": "stream",
     "text": [
      "Runtime for denclue_clustering: 1.840159 seconds\n"
     ]
    },
    {
     "name": "stderr",
     "output_type": "stream",
     "text": [
      "Running DENCLUE: 100%|██████████| 3/3 [00:03<00:00,  1.23s/step]\n"
     ]
    },
    {
     "name": "stdout",
     "output_type": "stream",
     "text": [
      "Plot saved as: Images/denclue_observations_normal_bins\\denclue_2006-2009_eps50_maxiter100_bandwidth0.01.png\n",
      "\n",
      "DENCLUE result:\n"
     ]
    },
    {
     "name": "stderr",
     "output_type": "stream",
     "text": [
      "Running DENCLUE:  33%|███▎      | 1/3 [00:01<00:03,  1.96s/step]"
     ]
    },
    {
     "name": "stdout",
     "output_type": "stream",
     "text": [
      "Runtime for denclue_clustering: 1.956681 seconds\n"
     ]
    },
    {
     "name": "stderr",
     "output_type": "stream",
     "text": [
      "Running DENCLUE: 100%|██████████| 3/3 [00:03<00:00,  1.29s/step]\n"
     ]
    },
    {
     "name": "stdout",
     "output_type": "stream",
     "text": [
      "Plot saved as: Images/denclue_observations_normal_bins\\denclue_2006-2009_eps50_maxiter200_bandwidth0.005.png\n",
      "\n",
      "DENCLUE result:\n"
     ]
    },
    {
     "name": "stderr",
     "output_type": "stream",
     "text": [
      "Running DENCLUE:  33%|███▎      | 1/3 [00:01<00:02,  1.45s/step]"
     ]
    },
    {
     "name": "stdout",
     "output_type": "stream",
     "text": [
      "Runtime for denclue_clustering: 1.450461 seconds\n"
     ]
    },
    {
     "name": "stderr",
     "output_type": "stream",
     "text": [
      "Running DENCLUE: 100%|██████████| 3/3 [00:03<00:00,  1.12s/step]\n"
     ]
    },
    {
     "name": "stdout",
     "output_type": "stream",
     "text": [
      "Plot saved as: Images/denclue_observations_normal_bins\\denclue_2006-2009_eps50_maxiter200_bandwidth0.07.png\n",
      "\n",
      "DENCLUE result:\n"
     ]
    },
    {
     "name": "stderr",
     "output_type": "stream",
     "text": [
      "Running DENCLUE:  33%|███▎      | 1/3 [00:02<00:04,  2.00s/step]"
     ]
    },
    {
     "name": "stdout",
     "output_type": "stream",
     "text": [
      "Runtime for denclue_clustering: 2.002966 seconds\n"
     ]
    },
    {
     "name": "stderr",
     "output_type": "stream",
     "text": [
      "Running DENCLUE: 100%|██████████| 3/3 [00:04<00:00,  1.40s/step]\n"
     ]
    },
    {
     "name": "stdout",
     "output_type": "stream",
     "text": [
      "Plot saved as: Images/denclue_observations_normal_bins\\denclue_2006-2009_eps50_maxiter200_bandwidth0.01.png\n",
      "\n",
      "DENCLUE result:\n"
     ]
    },
    {
     "name": "stderr",
     "output_type": "stream",
     "text": [
      "Running DENCLUE:  33%|███▎      | 1/3 [00:02<00:04,  2.22s/step]"
     ]
    },
    {
     "name": "stdout",
     "output_type": "stream",
     "text": [
      "Runtime for denclue_clustering: 2.217140 seconds\n"
     ]
    },
    {
     "name": "stderr",
     "output_type": "stream",
     "text": [
      "Running DENCLUE: 100%|██████████| 3/3 [00:04<00:00,  1.54s/step]\n"
     ]
    },
    {
     "name": "stdout",
     "output_type": "stream",
     "text": [
      "Plot saved as: Images/denclue_observations_normal_bins\\denclue_2006-2009_eps50_maxiter300_bandwidth0.005.png\n",
      "\n",
      "DENCLUE result:\n"
     ]
    },
    {
     "name": "stderr",
     "output_type": "stream",
     "text": [
      "Running DENCLUE:  33%|███▎      | 1/3 [00:01<00:02,  1.47s/step]"
     ]
    },
    {
     "name": "stdout",
     "output_type": "stream",
     "text": [
      "Runtime for denclue_clustering: 1.466807 seconds\n"
     ]
    },
    {
     "name": "stderr",
     "output_type": "stream",
     "text": [
      "Running DENCLUE: 100%|██████████| 3/3 [00:03<00:00,  1.11s/step]\n"
     ]
    },
    {
     "name": "stdout",
     "output_type": "stream",
     "text": [
      "Plot saved as: Images/denclue_observations_normal_bins\\denclue_2006-2009_eps50_maxiter300_bandwidth0.07.png\n",
      "\n",
      "DENCLUE result:\n"
     ]
    },
    {
     "name": "stderr",
     "output_type": "stream",
     "text": [
      "Running DENCLUE:  33%|███▎      | 1/3 [00:01<00:03,  1.83s/step]"
     ]
    },
    {
     "name": "stdout",
     "output_type": "stream",
     "text": [
      "Runtime for denclue_clustering: 1.831972 seconds\n"
     ]
    },
    {
     "name": "stderr",
     "output_type": "stream",
     "text": [
      "Running DENCLUE: 100%|██████████| 3/3 [00:03<00:00,  1.30s/step]\n"
     ]
    },
    {
     "name": "stdout",
     "output_type": "stream",
     "text": [
      "Plot saved as: Images/denclue_observations_normal_bins\\denclue_2006-2009_eps50_maxiter300_bandwidth0.01.png\n"
     ]
    },
    {
     "data": {
      "text/html": [
       "<div>\n",
       "<style scoped>\n",
       "    .dataframe tbody tr th:only-of-type {\n",
       "        vertical-align: middle;\n",
       "    }\n",
       "\n",
       "    .dataframe tbody tr th {\n",
       "        vertical-align: top;\n",
       "    }\n",
       "\n",
       "    .dataframe thead th {\n",
       "        text-align: right;\n",
       "    }\n",
       "</style>\n",
       "<table border=\"1\" class=\"dataframe\">\n",
       "  <thead>\n",
       "    <tr style=\"text-align: right;\">\n",
       "      <th></th>\n",
       "      <th>Year Range</th>\n",
       "      <th>k</th>\n",
       "      <th>Runtime (s)</th>\n",
       "      <th>Clusters</th>\n",
       "      <th>Points per Cluster</th>\n",
       "      <th>Davies-Bouldin</th>\n",
       "      <th>Calinski-Harabasz</th>\n",
       "      <th>Dunn Index</th>\n",
       "      <th>Silhouette Score</th>\n",
       "      <th>Cluster Std.</th>\n",
       "      <th>Square Density</th>\n",
       "      <th>Hull Density</th>\n",
       "    </tr>\n",
       "  </thead>\n",
       "  <tbody>\n",
       "    <tr>\n",
       "      <th>0</th>\n",
       "      <td>2006-2009</td>\n",
       "      <td>2</td>\n",
       "      <td>0.602</td>\n",
       "      <td>2</td>\n",
       "      <td>{4027.0: 666, -1.0: 4879}</td>\n",
       "      <td>3.769</td>\n",
       "      <td>66.311</td>\n",
       "      <td>0.000</td>\n",
       "      <td>-0.457</td>\n",
       "      <td>{-1.0: (0.157, 0.207), 4027.0: (0.011, 0.101)}</td>\n",
       "      <td>{-1.0: 4879.0, 4027.0: 14071.981}</td>\n",
       "      <td>{-1.0: 5011.912, 4027.0: 36830.001}</td>\n",
       "    </tr>\n",
       "    <tr>\n",
       "      <th>1</th>\n",
       "      <td>2006-2009</td>\n",
       "      <td>2</td>\n",
       "      <td>0.453</td>\n",
       "      <td>2</td>\n",
       "      <td>{5466.0: 5388, -1.0: 157}</td>\n",
       "      <td>5.786</td>\n",
       "      <td>37.235</td>\n",
       "      <td>0.008</td>\n",
       "      <td>0.171</td>\n",
       "      <td>{-1.0: (0.319, 0.404), 5466.0: (0.135, 0.192)}</td>\n",
       "      <td>{-1.0: 157.684, 5466.0: 5916.285}</td>\n",
       "      <td>{-1.0: 162.046, 5466.0: 7718.463}</td>\n",
       "    </tr>\n",
       "    <tr>\n",
       "      <th>2</th>\n",
       "      <td>2006-2009</td>\n",
       "      <td>2</td>\n",
       "      <td>0.568</td>\n",
       "      <td>2</td>\n",
       "      <td>{4042.0: 2273, -1.0: 3272}</td>\n",
       "      <td>4.063</td>\n",
       "      <td>201.972</td>\n",
       "      <td>0.000</td>\n",
       "      <td>-0.232</td>\n",
       "      <td>{-1.0: (0.183, 0.233), 4042.0: (0.077, 0.112)}</td>\n",
       "      <td>{-1.0: 3272.0, 4042.0: 13959.718}</td>\n",
       "      <td>{-1.0: 3361.134, 4042.0: 24719.446}</td>\n",
       "    </tr>\n",
       "    <tr>\n",
       "      <th>3</th>\n",
       "      <td>2006-2009</td>\n",
       "      <td>2</td>\n",
       "      <td>0.649</td>\n",
       "      <td>2</td>\n",
       "      <td>{4027.0: 666, -1.0: 4879}</td>\n",
       "      <td>3.769</td>\n",
       "      <td>66.311</td>\n",
       "      <td>0.000</td>\n",
       "      <td>-0.457</td>\n",
       "      <td>{-1.0: (0.157, 0.207), 4027.0: (0.011, 0.101)}</td>\n",
       "      <td>{-1.0: 4879.0, 4027.0: 14071.981}</td>\n",
       "      <td>{-1.0: 5011.912, 4027.0: 36830.001}</td>\n",
       "    </tr>\n",
       "    <tr>\n",
       "      <th>4</th>\n",
       "      <td>2006-2009</td>\n",
       "      <td>2</td>\n",
       "      <td>0.454</td>\n",
       "      <td>2</td>\n",
       "      <td>{5466.0: 5388, -1.0: 157}</td>\n",
       "      <td>5.786</td>\n",
       "      <td>37.235</td>\n",
       "      <td>0.008</td>\n",
       "      <td>0.171</td>\n",
       "      <td>{-1.0: (0.319, 0.404), 5466.0: (0.135, 0.192)}</td>\n",
       "      <td>{-1.0: 157.684, 5466.0: 5916.285}</td>\n",
       "      <td>{-1.0: 162.046, 5466.0: 7718.463}</td>\n",
       "    </tr>\n",
       "    <tr>\n",
       "      <th>5</th>\n",
       "      <td>2006-2009</td>\n",
       "      <td>2</td>\n",
       "      <td>0.604</td>\n",
       "      <td>2</td>\n",
       "      <td>{4042.0: 2273, -1.0: 3272}</td>\n",
       "      <td>4.063</td>\n",
       "      <td>201.972</td>\n",
       "      <td>0.000</td>\n",
       "      <td>-0.232</td>\n",
       "      <td>{-1.0: (0.183, 0.233), 4042.0: (0.077, 0.112)}</td>\n",
       "      <td>{-1.0: 3272.0, 4042.0: 13959.718}</td>\n",
       "      <td>{-1.0: 3361.134, 4042.0: 24719.446}</td>\n",
       "    </tr>\n",
       "    <tr>\n",
       "      <th>6</th>\n",
       "      <td>2006-2009</td>\n",
       "      <td>2</td>\n",
       "      <td>0.786</td>\n",
       "      <td>2</td>\n",
       "      <td>{4027.0: 666, -1.0: 4879}</td>\n",
       "      <td>3.769</td>\n",
       "      <td>66.311</td>\n",
       "      <td>0.000</td>\n",
       "      <td>-0.457</td>\n",
       "      <td>{-1.0: (0.157, 0.207), 4027.0: (0.011, 0.101)}</td>\n",
       "      <td>{-1.0: 4879.0, 4027.0: 14071.981}</td>\n",
       "      <td>{-1.0: 5011.912, 4027.0: 36830.001}</td>\n",
       "    </tr>\n",
       "    <tr>\n",
       "      <th>7</th>\n",
       "      <td>2006-2009</td>\n",
       "      <td>2</td>\n",
       "      <td>0.440</td>\n",
       "      <td>2</td>\n",
       "      <td>{5466.0: 5388, -1.0: 157}</td>\n",
       "      <td>5.786</td>\n",
       "      <td>37.235</td>\n",
       "      <td>0.008</td>\n",
       "      <td>0.171</td>\n",
       "      <td>{-1.0: (0.319, 0.404), 5466.0: (0.135, 0.192)}</td>\n",
       "      <td>{-1.0: 157.684, 5466.0: 5916.285}</td>\n",
       "      <td>{-1.0: 162.046, 5466.0: 7718.463}</td>\n",
       "    </tr>\n",
       "    <tr>\n",
       "      <th>8</th>\n",
       "      <td>2006-2009</td>\n",
       "      <td>2</td>\n",
       "      <td>0.589</td>\n",
       "      <td>2</td>\n",
       "      <td>{4042.0: 2273, -1.0: 3272}</td>\n",
       "      <td>4.063</td>\n",
       "      <td>201.972</td>\n",
       "      <td>0.000</td>\n",
       "      <td>-0.232</td>\n",
       "      <td>{-1.0: (0.183, 0.233), 4042.0: (0.077, 0.112)}</td>\n",
       "      <td>{-1.0: 3272.0, 4042.0: 13959.718}</td>\n",
       "      <td>{-1.0: 3361.134, 4042.0: 24719.446}</td>\n",
       "    </tr>\n",
       "    <tr>\n",
       "      <th>9</th>\n",
       "      <td>2006-2009</td>\n",
       "      <td>2</td>\n",
       "      <td>0.649</td>\n",
       "      <td>2</td>\n",
       "      <td>{4027.0: 370, -1.0: 5175}</td>\n",
       "      <td>2.786</td>\n",
       "      <td>49.445</td>\n",
       "      <td>0.000</td>\n",
       "      <td>-0.501</td>\n",
       "      <td>{-1.0: (0.154, 0.204), 4027.0: (0.003, 0.065)}</td>\n",
       "      <td>{-1.0: 5175.0, 4027.0: 13744.442}</td>\n",
       "      <td>{-1.0: 5315.975, 4027.0: 104932.377}</td>\n",
       "    </tr>\n",
       "    <tr>\n",
       "      <th>10</th>\n",
       "      <td>2006-2009</td>\n",
       "      <td>2</td>\n",
       "      <td>0.481</td>\n",
       "      <td>2</td>\n",
       "      <td>{5466.0: 5280, -1.0: 265}</td>\n",
       "      <td>7.133</td>\n",
       "      <td>38.326</td>\n",
       "      <td>0.006</td>\n",
       "      <td>0.150</td>\n",
       "      <td>{-1.0: (0.312, 0.386), 5466.0: (0.127, 0.189)}</td>\n",
       "      <td>{-1.0: 266.106, 5466.0: 6111.619}</td>\n",
       "      <td>{-1.0: 272.463, 5466.0: 8659.089}</td>\n",
       "    </tr>\n",
       "    <tr>\n",
       "      <th>11</th>\n",
       "      <td>2006-2009</td>\n",
       "      <td>2</td>\n",
       "      <td>1.983</td>\n",
       "      <td>2</td>\n",
       "      <td>{4042.0: 1825, -1.0: 3720}</td>\n",
       "      <td>3.424</td>\n",
       "      <td>230.868</td>\n",
       "      <td>0.000</td>\n",
       "      <td>-0.276</td>\n",
       "      <td>{-1.0: (0.174, 0.224), 4042.0: (0.054, 0.11)}</td>\n",
       "      <td>{-1.0: 3720.0, 4042.0: 11993.062}</td>\n",
       "      <td>{-1.0: 3821.339, 4042.0: 23043.538}</td>\n",
       "    </tr>\n",
       "    <tr>\n",
       "      <th>12</th>\n",
       "      <td>2006-2009</td>\n",
       "      <td>2</td>\n",
       "      <td>2.234</td>\n",
       "      <td>2</td>\n",
       "      <td>{4027.0: 370, -1.0: 5175}</td>\n",
       "      <td>2.786</td>\n",
       "      <td>49.445</td>\n",
       "      <td>0.000</td>\n",
       "      <td>-0.501</td>\n",
       "      <td>{-1.0: (0.154, 0.204), 4027.0: (0.003, 0.065)}</td>\n",
       "      <td>{-1.0: 5175.0, 4027.0: 13744.442}</td>\n",
       "      <td>{-1.0: 5315.975, 4027.0: 104932.377}</td>\n",
       "    </tr>\n",
       "    <tr>\n",
       "      <th>13</th>\n",
       "      <td>2006-2009</td>\n",
       "      <td>2</td>\n",
       "      <td>1.899</td>\n",
       "      <td>2</td>\n",
       "      <td>{5466.0: 5280, -1.0: 265}</td>\n",
       "      <td>7.133</td>\n",
       "      <td>38.326</td>\n",
       "      <td>0.006</td>\n",
       "      <td>0.150</td>\n",
       "      <td>{-1.0: (0.312, 0.386), 5466.0: (0.127, 0.189)}</td>\n",
       "      <td>{-1.0: 266.106, 5466.0: 6111.619}</td>\n",
       "      <td>{-1.0: 272.463, 5466.0: 8659.089}</td>\n",
       "    </tr>\n",
       "    <tr>\n",
       "      <th>14</th>\n",
       "      <td>2006-2009</td>\n",
       "      <td>2</td>\n",
       "      <td>0.568</td>\n",
       "      <td>2</td>\n",
       "      <td>{4042.0: 1825, -1.0: 3720}</td>\n",
       "      <td>3.424</td>\n",
       "      <td>230.868</td>\n",
       "      <td>0.000</td>\n",
       "      <td>-0.276</td>\n",
       "      <td>{-1.0: (0.174, 0.224), 4042.0: (0.054, 0.11)}</td>\n",
       "      <td>{-1.0: 3720.0, 4042.0: 11993.062}</td>\n",
       "      <td>{-1.0: 3821.339, 4042.0: 23043.538}</td>\n",
       "    </tr>\n",
       "    <tr>\n",
       "      <th>15</th>\n",
       "      <td>2006-2009</td>\n",
       "      <td>2</td>\n",
       "      <td>0.735</td>\n",
       "      <td>2</td>\n",
       "      <td>{4027.0: 370, -1.0: 5175}</td>\n",
       "      <td>2.786</td>\n",
       "      <td>49.445</td>\n",
       "      <td>0.000</td>\n",
       "      <td>-0.501</td>\n",
       "      <td>{-1.0: (0.154, 0.204), 4027.0: (0.003, 0.065)}</td>\n",
       "      <td>{-1.0: 5175.0, 4027.0: 13744.442}</td>\n",
       "      <td>{-1.0: 5315.975, 4027.0: 104932.377}</td>\n",
       "    </tr>\n",
       "    <tr>\n",
       "      <th>16</th>\n",
       "      <td>2006-2009</td>\n",
       "      <td>2</td>\n",
       "      <td>0.420</td>\n",
       "      <td>2</td>\n",
       "      <td>{5466.0: 5280, -1.0: 265}</td>\n",
       "      <td>7.133</td>\n",
       "      <td>38.326</td>\n",
       "      <td>0.006</td>\n",
       "      <td>0.150</td>\n",
       "      <td>{-1.0: (0.312, 0.386), 5466.0: (0.127, 0.189)}</td>\n",
       "      <td>{-1.0: 266.106, 5466.0: 6111.619}</td>\n",
       "      <td>{-1.0: 272.463, 5466.0: 8659.089}</td>\n",
       "    </tr>\n",
       "    <tr>\n",
       "      <th>17</th>\n",
       "      <td>2006-2009</td>\n",
       "      <td>2</td>\n",
       "      <td>0.551</td>\n",
       "      <td>2</td>\n",
       "      <td>{4042.0: 1825, -1.0: 3720}</td>\n",
       "      <td>3.424</td>\n",
       "      <td>230.868</td>\n",
       "      <td>0.000</td>\n",
       "      <td>-0.276</td>\n",
       "      <td>{-1.0: (0.174, 0.224), 4042.0: (0.054, 0.11)}</td>\n",
       "      <td>{-1.0: 3720.0, 4042.0: 11993.062}</td>\n",
       "      <td>{-1.0: 3821.339, 4042.0: 23043.538}</td>\n",
       "    </tr>\n",
       "    <tr>\n",
       "      <th>18</th>\n",
       "      <td>2006-2009</td>\n",
       "      <td>2</td>\n",
       "      <td>0.711</td>\n",
       "      <td>2</td>\n",
       "      <td>{4027.0: 253, -1.0: 5292}</td>\n",
       "      <td>2.249</td>\n",
       "      <td>41.994</td>\n",
       "      <td>0.000</td>\n",
       "      <td>-0.528</td>\n",
       "      <td>{-1.0: (0.152, 0.202), 4027.0: (0.003, 0.017)}</td>\n",
       "      <td>{-1.0: 5292.0, 4027.0: 124364.361}</td>\n",
       "      <td>{-1.0: 5436.162, 4027.0: 349842.769}</td>\n",
       "    </tr>\n",
       "    <tr>\n",
       "      <th>19</th>\n",
       "      <td>2006-2009</td>\n",
       "      <td>2</td>\n",
       "      <td>1.366</td>\n",
       "      <td>2</td>\n",
       "      <td>{5466.0: 5207, -1.0: 338}</td>\n",
       "      <td>6.888</td>\n",
       "      <td>49.610</td>\n",
       "      <td>0.003</td>\n",
       "      <td>0.139</td>\n",
       "      <td>{-1.0: (0.316, 0.368), 5466.0: (0.123, 0.186)}</td>\n",
       "      <td>{-1.0: 339.41, 5466.0: 6417.097}</td>\n",
       "      <td>{-1.0: 347.519, 5466.0: 9445.59}</td>\n",
       "    </tr>\n",
       "    <tr>\n",
       "      <th>20</th>\n",
       "      <td>2006-2009</td>\n",
       "      <td>2</td>\n",
       "      <td>1.840</td>\n",
       "      <td>2</td>\n",
       "      <td>{4042.0: 1494, -1.0: 4051}</td>\n",
       "      <td>3.217</td>\n",
       "      <td>218.344</td>\n",
       "      <td>0.000</td>\n",
       "      <td>-0.321</td>\n",
       "      <td>{-1.0: (0.169, 0.219), 4042.0: (0.017, 0.111)}</td>\n",
       "      <td>{-1.0: 4051.0, 4042.0: 24558.474}</td>\n",
       "      <td>{-1.0: 4161.356, 4042.0: 57675.936}</td>\n",
       "    </tr>\n",
       "    <tr>\n",
       "      <th>21</th>\n",
       "      <td>2006-2009</td>\n",
       "      <td>2</td>\n",
       "      <td>1.957</td>\n",
       "      <td>2</td>\n",
       "      <td>{4027.0: 253, -1.0: 5292}</td>\n",
       "      <td>2.249</td>\n",
       "      <td>41.994</td>\n",
       "      <td>0.000</td>\n",
       "      <td>-0.528</td>\n",
       "      <td>{-1.0: (0.152, 0.202), 4027.0: (0.003, 0.017)}</td>\n",
       "      <td>{-1.0: 5292.0, 4027.0: 124364.361}</td>\n",
       "      <td>{-1.0: 5436.162, 4027.0: 349842.769}</td>\n",
       "    </tr>\n",
       "    <tr>\n",
       "      <th>22</th>\n",
       "      <td>2006-2009</td>\n",
       "      <td>2</td>\n",
       "      <td>1.450</td>\n",
       "      <td>2</td>\n",
       "      <td>{5466.0: 5207, -1.0: 338}</td>\n",
       "      <td>6.888</td>\n",
       "      <td>49.610</td>\n",
       "      <td>0.003</td>\n",
       "      <td>0.139</td>\n",
       "      <td>{-1.0: (0.316, 0.368), 5466.0: (0.123, 0.186)}</td>\n",
       "      <td>{-1.0: 339.41, 5466.0: 6417.097}</td>\n",
       "      <td>{-1.0: 347.519, 5466.0: 9445.59}</td>\n",
       "    </tr>\n",
       "    <tr>\n",
       "      <th>23</th>\n",
       "      <td>2006-2009</td>\n",
       "      <td>2</td>\n",
       "      <td>2.003</td>\n",
       "      <td>2</td>\n",
       "      <td>{4042.0: 1494, -1.0: 4051}</td>\n",
       "      <td>3.217</td>\n",
       "      <td>218.344</td>\n",
       "      <td>0.000</td>\n",
       "      <td>-0.321</td>\n",
       "      <td>{-1.0: (0.169, 0.219), 4042.0: (0.017, 0.111)}</td>\n",
       "      <td>{-1.0: 4051.0, 4042.0: 24558.474}</td>\n",
       "      <td>{-1.0: 4161.356, 4042.0: 57675.936}</td>\n",
       "    </tr>\n",
       "    <tr>\n",
       "      <th>24</th>\n",
       "      <td>2006-2009</td>\n",
       "      <td>2</td>\n",
       "      <td>2.217</td>\n",
       "      <td>2</td>\n",
       "      <td>{4027.0: 253, -1.0: 5292}</td>\n",
       "      <td>2.249</td>\n",
       "      <td>41.994</td>\n",
       "      <td>0.000</td>\n",
       "      <td>-0.528</td>\n",
       "      <td>{-1.0: (0.152, 0.202), 4027.0: (0.003, 0.017)}</td>\n",
       "      <td>{-1.0: 5292.0, 4027.0: 124364.361}</td>\n",
       "      <td>{-1.0: 5436.162, 4027.0: 349842.769}</td>\n",
       "    </tr>\n",
       "    <tr>\n",
       "      <th>25</th>\n",
       "      <td>2006-2009</td>\n",
       "      <td>2</td>\n",
       "      <td>1.467</td>\n",
       "      <td>2</td>\n",
       "      <td>{5466.0: 5207, -1.0: 338}</td>\n",
       "      <td>6.888</td>\n",
       "      <td>49.610</td>\n",
       "      <td>0.003</td>\n",
       "      <td>0.139</td>\n",
       "      <td>{-1.0: (0.316, 0.368), 5466.0: (0.123, 0.186)}</td>\n",
       "      <td>{-1.0: 339.41, 5466.0: 6417.097}</td>\n",
       "      <td>{-1.0: 347.519, 5466.0: 9445.59}</td>\n",
       "    </tr>\n",
       "    <tr>\n",
       "      <th>26</th>\n",
       "      <td>2006-2009</td>\n",
       "      <td>2</td>\n",
       "      <td>1.832</td>\n",
       "      <td>2</td>\n",
       "      <td>{4042.0: 1494, -1.0: 4051}</td>\n",
       "      <td>3.217</td>\n",
       "      <td>218.344</td>\n",
       "      <td>0.000</td>\n",
       "      <td>-0.321</td>\n",
       "      <td>{-1.0: (0.169, 0.219), 4042.0: (0.017, 0.111)}</td>\n",
       "      <td>{-1.0: 4051.0, 4042.0: 24558.474}</td>\n",
       "      <td>{-1.0: 4161.356, 4042.0: 57675.936}</td>\n",
       "    </tr>\n",
       "  </tbody>\n",
       "</table>\n",
       "</div>"
      ],
      "text/plain": [
       "   Year Range  k Runtime (s)  Clusters          Points per Cluster  \\\n",
       "0   2006-2009  2       0.602         2   {4027.0: 666, -1.0: 4879}   \n",
       "1   2006-2009  2       0.453         2   {5466.0: 5388, -1.0: 157}   \n",
       "2   2006-2009  2       0.568         2  {4042.0: 2273, -1.0: 3272}   \n",
       "3   2006-2009  2       0.649         2   {4027.0: 666, -1.0: 4879}   \n",
       "4   2006-2009  2       0.454         2   {5466.0: 5388, -1.0: 157}   \n",
       "5   2006-2009  2       0.604         2  {4042.0: 2273, -1.0: 3272}   \n",
       "6   2006-2009  2       0.786         2   {4027.0: 666, -1.0: 4879}   \n",
       "7   2006-2009  2       0.440         2   {5466.0: 5388, -1.0: 157}   \n",
       "8   2006-2009  2       0.589         2  {4042.0: 2273, -1.0: 3272}   \n",
       "9   2006-2009  2       0.649         2   {4027.0: 370, -1.0: 5175}   \n",
       "10  2006-2009  2       0.481         2   {5466.0: 5280, -1.0: 265}   \n",
       "11  2006-2009  2       1.983         2  {4042.0: 1825, -1.0: 3720}   \n",
       "12  2006-2009  2       2.234         2   {4027.0: 370, -1.0: 5175}   \n",
       "13  2006-2009  2       1.899         2   {5466.0: 5280, -1.0: 265}   \n",
       "14  2006-2009  2       0.568         2  {4042.0: 1825, -1.0: 3720}   \n",
       "15  2006-2009  2       0.735         2   {4027.0: 370, -1.0: 5175}   \n",
       "16  2006-2009  2       0.420         2   {5466.0: 5280, -1.0: 265}   \n",
       "17  2006-2009  2       0.551         2  {4042.0: 1825, -1.0: 3720}   \n",
       "18  2006-2009  2       0.711         2   {4027.0: 253, -1.0: 5292}   \n",
       "19  2006-2009  2       1.366         2   {5466.0: 5207, -1.0: 338}   \n",
       "20  2006-2009  2       1.840         2  {4042.0: 1494, -1.0: 4051}   \n",
       "21  2006-2009  2       1.957         2   {4027.0: 253, -1.0: 5292}   \n",
       "22  2006-2009  2       1.450         2   {5466.0: 5207, -1.0: 338}   \n",
       "23  2006-2009  2       2.003         2  {4042.0: 1494, -1.0: 4051}   \n",
       "24  2006-2009  2       2.217         2   {4027.0: 253, -1.0: 5292}   \n",
       "25  2006-2009  2       1.467         2   {5466.0: 5207, -1.0: 338}   \n",
       "26  2006-2009  2       1.832         2  {4042.0: 1494, -1.0: 4051}   \n",
       "\n",
       "   Davies-Bouldin Calinski-Harabasz Dunn Index Silhouette Score  \\\n",
       "0           3.769            66.311      0.000           -0.457   \n",
       "1           5.786            37.235      0.008            0.171   \n",
       "2           4.063           201.972      0.000           -0.232   \n",
       "3           3.769            66.311      0.000           -0.457   \n",
       "4           5.786            37.235      0.008            0.171   \n",
       "5           4.063           201.972      0.000           -0.232   \n",
       "6           3.769            66.311      0.000           -0.457   \n",
       "7           5.786            37.235      0.008            0.171   \n",
       "8           4.063           201.972      0.000           -0.232   \n",
       "9           2.786            49.445      0.000           -0.501   \n",
       "10          7.133            38.326      0.006            0.150   \n",
       "11          3.424           230.868      0.000           -0.276   \n",
       "12          2.786            49.445      0.000           -0.501   \n",
       "13          7.133            38.326      0.006            0.150   \n",
       "14          3.424           230.868      0.000           -0.276   \n",
       "15          2.786            49.445      0.000           -0.501   \n",
       "16          7.133            38.326      0.006            0.150   \n",
       "17          3.424           230.868      0.000           -0.276   \n",
       "18          2.249            41.994      0.000           -0.528   \n",
       "19          6.888            49.610      0.003            0.139   \n",
       "20          3.217           218.344      0.000           -0.321   \n",
       "21          2.249            41.994      0.000           -0.528   \n",
       "22          6.888            49.610      0.003            0.139   \n",
       "23          3.217           218.344      0.000           -0.321   \n",
       "24          2.249            41.994      0.000           -0.528   \n",
       "25          6.888            49.610      0.003            0.139   \n",
       "26          3.217           218.344      0.000           -0.321   \n",
       "\n",
       "                                      Cluster Std.  \\\n",
       "0   {-1.0: (0.157, 0.207), 4027.0: (0.011, 0.101)}   \n",
       "1   {-1.0: (0.319, 0.404), 5466.0: (0.135, 0.192)}   \n",
       "2   {-1.0: (0.183, 0.233), 4042.0: (0.077, 0.112)}   \n",
       "3   {-1.0: (0.157, 0.207), 4027.0: (0.011, 0.101)}   \n",
       "4   {-1.0: (0.319, 0.404), 5466.0: (0.135, 0.192)}   \n",
       "5   {-1.0: (0.183, 0.233), 4042.0: (0.077, 0.112)}   \n",
       "6   {-1.0: (0.157, 0.207), 4027.0: (0.011, 0.101)}   \n",
       "7   {-1.0: (0.319, 0.404), 5466.0: (0.135, 0.192)}   \n",
       "8   {-1.0: (0.183, 0.233), 4042.0: (0.077, 0.112)}   \n",
       "9   {-1.0: (0.154, 0.204), 4027.0: (0.003, 0.065)}   \n",
       "10  {-1.0: (0.312, 0.386), 5466.0: (0.127, 0.189)}   \n",
       "11   {-1.0: (0.174, 0.224), 4042.0: (0.054, 0.11)}   \n",
       "12  {-1.0: (0.154, 0.204), 4027.0: (0.003, 0.065)}   \n",
       "13  {-1.0: (0.312, 0.386), 5466.0: (0.127, 0.189)}   \n",
       "14   {-1.0: (0.174, 0.224), 4042.0: (0.054, 0.11)}   \n",
       "15  {-1.0: (0.154, 0.204), 4027.0: (0.003, 0.065)}   \n",
       "16  {-1.0: (0.312, 0.386), 5466.0: (0.127, 0.189)}   \n",
       "17   {-1.0: (0.174, 0.224), 4042.0: (0.054, 0.11)}   \n",
       "18  {-1.0: (0.152, 0.202), 4027.0: (0.003, 0.017)}   \n",
       "19  {-1.0: (0.316, 0.368), 5466.0: (0.123, 0.186)}   \n",
       "20  {-1.0: (0.169, 0.219), 4042.0: (0.017, 0.111)}   \n",
       "21  {-1.0: (0.152, 0.202), 4027.0: (0.003, 0.017)}   \n",
       "22  {-1.0: (0.316, 0.368), 5466.0: (0.123, 0.186)}   \n",
       "23  {-1.0: (0.169, 0.219), 4042.0: (0.017, 0.111)}   \n",
       "24  {-1.0: (0.152, 0.202), 4027.0: (0.003, 0.017)}   \n",
       "25  {-1.0: (0.316, 0.368), 5466.0: (0.123, 0.186)}   \n",
       "26  {-1.0: (0.169, 0.219), 4042.0: (0.017, 0.111)}   \n",
       "\n",
       "                        Square Density                          Hull Density  \n",
       "0    {-1.0: 4879.0, 4027.0: 14071.981}   {-1.0: 5011.912, 4027.0: 36830.001}  \n",
       "1    {-1.0: 157.684, 5466.0: 5916.285}     {-1.0: 162.046, 5466.0: 7718.463}  \n",
       "2    {-1.0: 3272.0, 4042.0: 13959.718}   {-1.0: 3361.134, 4042.0: 24719.446}  \n",
       "3    {-1.0: 4879.0, 4027.0: 14071.981}   {-1.0: 5011.912, 4027.0: 36830.001}  \n",
       "4    {-1.0: 157.684, 5466.0: 5916.285}     {-1.0: 162.046, 5466.0: 7718.463}  \n",
       "5    {-1.0: 3272.0, 4042.0: 13959.718}   {-1.0: 3361.134, 4042.0: 24719.446}  \n",
       "6    {-1.0: 4879.0, 4027.0: 14071.981}   {-1.0: 5011.912, 4027.0: 36830.001}  \n",
       "7    {-1.0: 157.684, 5466.0: 5916.285}     {-1.0: 162.046, 5466.0: 7718.463}  \n",
       "8    {-1.0: 3272.0, 4042.0: 13959.718}   {-1.0: 3361.134, 4042.0: 24719.446}  \n",
       "9    {-1.0: 5175.0, 4027.0: 13744.442}  {-1.0: 5315.975, 4027.0: 104932.377}  \n",
       "10   {-1.0: 266.106, 5466.0: 6111.619}     {-1.0: 272.463, 5466.0: 8659.089}  \n",
       "11   {-1.0: 3720.0, 4042.0: 11993.062}   {-1.0: 3821.339, 4042.0: 23043.538}  \n",
       "12   {-1.0: 5175.0, 4027.0: 13744.442}  {-1.0: 5315.975, 4027.0: 104932.377}  \n",
       "13   {-1.0: 266.106, 5466.0: 6111.619}     {-1.0: 272.463, 5466.0: 8659.089}  \n",
       "14   {-1.0: 3720.0, 4042.0: 11993.062}   {-1.0: 3821.339, 4042.0: 23043.538}  \n",
       "15   {-1.0: 5175.0, 4027.0: 13744.442}  {-1.0: 5315.975, 4027.0: 104932.377}  \n",
       "16   {-1.0: 266.106, 5466.0: 6111.619}     {-1.0: 272.463, 5466.0: 8659.089}  \n",
       "17   {-1.0: 3720.0, 4042.0: 11993.062}   {-1.0: 3821.339, 4042.0: 23043.538}  \n",
       "18  {-1.0: 5292.0, 4027.0: 124364.361}  {-1.0: 5436.162, 4027.0: 349842.769}  \n",
       "19    {-1.0: 339.41, 5466.0: 6417.097}      {-1.0: 347.519, 5466.0: 9445.59}  \n",
       "20   {-1.0: 4051.0, 4042.0: 24558.474}   {-1.0: 4161.356, 4042.0: 57675.936}  \n",
       "21  {-1.0: 5292.0, 4027.0: 124364.361}  {-1.0: 5436.162, 4027.0: 349842.769}  \n",
       "22    {-1.0: 339.41, 5466.0: 6417.097}      {-1.0: 347.519, 5466.0: 9445.59}  \n",
       "23   {-1.0: 4051.0, 4042.0: 24558.474}   {-1.0: 4161.356, 4042.0: 57675.936}  \n",
       "24  {-1.0: 5292.0, 4027.0: 124364.361}  {-1.0: 5436.162, 4027.0: 349842.769}  \n",
       "25    {-1.0: 339.41, 5466.0: 6417.097}      {-1.0: 347.519, 5466.0: 9445.59}  \n",
       "26   {-1.0: 4051.0, 4042.0: 24558.474}   {-1.0: 4161.356, 4042.0: 57675.936}  "
      ]
     },
     "metadata": {},
     "output_type": "display_data"
    },
    {
     "name": "stdout",
     "output_type": "stream",
     "text": [
      "\n",
      "Running DENCLUE for Year Range: 2010-2013\n",
      "\n",
      "DENCLUE result:\n"
     ]
    },
    {
     "name": "stderr",
     "output_type": "stream",
     "text": [
      "Running DENCLUE:  33%|███▎      | 1/3 [00:00<00:00,  2.06step/s]"
     ]
    },
    {
     "name": "stdout",
     "output_type": "stream",
     "text": [
      "Runtime for denclue_clustering: 0.484867 seconds\n"
     ]
    },
    {
     "name": "stderr",
     "output_type": "stream",
     "text": [
      "Running DENCLUE: 100%|██████████| 3/3 [00:00<00:00,  3.62step/s]\n"
     ]
    },
    {
     "name": "stdout",
     "output_type": "stream",
     "text": [
      "Plot saved as: Images/denclue_observations_normal_bins\\denclue_2010-2013_eps30_maxiter100_bandwidth0.005.png\n",
      "\n",
      "DENCLUE result:\n"
     ]
    },
    {
     "name": "stderr",
     "output_type": "stream",
     "text": [
      "Running DENCLUE:  33%|███▎      | 1/3 [00:00<00:00,  2.94step/s]"
     ]
    },
    {
     "name": "stdout",
     "output_type": "stream",
     "text": [
      "Runtime for denclue_clustering: 0.340663 seconds\n"
     ]
    },
    {
     "name": "stderr",
     "output_type": "stream",
     "text": [
      "Running DENCLUE: 100%|██████████| 3/3 [00:00<00:00,  4.39step/s]\n"
     ]
    },
    {
     "name": "stdout",
     "output_type": "stream",
     "text": [
      "Plot saved as: Images/denclue_observations_normal_bins\\denclue_2010-2013_eps30_maxiter100_bandwidth0.07.png\n",
      "\n",
      "DENCLUE result:\n"
     ]
    },
    {
     "name": "stderr",
     "output_type": "stream",
     "text": [
      "Running DENCLUE:  33%|███▎      | 1/3 [00:00<00:00,  2.70step/s]"
     ]
    },
    {
     "name": "stdout",
     "output_type": "stream",
     "text": [
      "Runtime for denclue_clustering: 0.370308 seconds\n"
     ]
    },
    {
     "name": "stderr",
     "output_type": "stream",
     "text": [
      "Running DENCLUE: 100%|██████████| 3/3 [00:00<00:00,  4.57step/s]\n"
     ]
    },
    {
     "name": "stdout",
     "output_type": "stream",
     "text": [
      "Plot saved as: Images/denclue_observations_normal_bins\\denclue_2010-2013_eps30_maxiter100_bandwidth0.01.png\n",
      "\n",
      "DENCLUE result:\n"
     ]
    },
    {
     "name": "stderr",
     "output_type": "stream",
     "text": [
      "Running DENCLUE:  33%|███▎      | 1/3 [00:00<00:00,  2.88step/s]"
     ]
    },
    {
     "name": "stdout",
     "output_type": "stream",
     "text": [
      "Runtime for denclue_clustering: 0.335760 seconds\n"
     ]
    },
    {
     "name": "stderr",
     "output_type": "stream",
     "text": [
      "Running DENCLUE: 100%|██████████| 3/3 [00:00<00:00,  4.13step/s]\n"
     ]
    },
    {
     "name": "stdout",
     "output_type": "stream",
     "text": [
      "Plot saved as: Images/denclue_observations_normal_bins\\denclue_2010-2013_eps30_maxiter200_bandwidth0.005.png\n",
      "\n",
      "DENCLUE result:\n"
     ]
    },
    {
     "name": "stderr",
     "output_type": "stream",
     "text": [
      "Running DENCLUE:  33%|███▎      | 1/3 [00:00<00:00,  3.67step/s]"
     ]
    },
    {
     "name": "stdout",
     "output_type": "stream",
     "text": [
      "Runtime for denclue_clustering: 0.272368 seconds\n"
     ]
    },
    {
     "name": "stderr",
     "output_type": "stream",
     "text": [
      "Running DENCLUE: 100%|██████████| 3/3 [00:00<00:00,  5.00step/s]\n"
     ]
    },
    {
     "name": "stdout",
     "output_type": "stream",
     "text": [
      "Plot saved as: Images/denclue_observations_normal_bins\\denclue_2010-2013_eps30_maxiter200_bandwidth0.07.png\n",
      "\n",
      "DENCLUE result:\n"
     ]
    },
    {
     "name": "stderr",
     "output_type": "stream",
     "text": [
      "Running DENCLUE:  33%|███▎      | 1/3 [00:00<00:00,  3.51step/s]"
     ]
    },
    {
     "name": "stdout",
     "output_type": "stream",
     "text": [
      "Runtime for denclue_clustering: 0.285047 seconds\n"
     ]
    },
    {
     "name": "stderr",
     "output_type": "stream",
     "text": [
      "Running DENCLUE: 100%|██████████| 3/3 [00:00<00:00,  5.48step/s]\n"
     ]
    },
    {
     "name": "stdout",
     "output_type": "stream",
     "text": [
      "Plot saved as: Images/denclue_observations_normal_bins\\denclue_2010-2013_eps30_maxiter200_bandwidth0.01.png\n",
      "\n",
      "DENCLUE result:\n"
     ]
    },
    {
     "name": "stderr",
     "output_type": "stream",
     "text": [
      "Running DENCLUE:  33%|███▎      | 1/3 [00:00<00:00,  2.51step/s]"
     ]
    },
    {
     "name": "stdout",
     "output_type": "stream",
     "text": [
      "Runtime for denclue_clustering: 0.398611 seconds\n"
     ]
    },
    {
     "name": "stderr",
     "output_type": "stream",
     "text": [
      "Running DENCLUE: 100%|██████████| 3/3 [00:00<00:00,  4.23step/s]\n"
     ]
    },
    {
     "name": "stdout",
     "output_type": "stream",
     "text": [
      "Plot saved as: Images/denclue_observations_normal_bins\\denclue_2010-2013_eps30_maxiter300_bandwidth0.005.png\n",
      "\n",
      "DENCLUE result:\n"
     ]
    },
    {
     "name": "stderr",
     "output_type": "stream",
     "text": [
      "Running DENCLUE:  33%|███▎      | 1/3 [00:00<00:00,  4.39step/s]"
     ]
    },
    {
     "name": "stdout",
     "output_type": "stream",
     "text": [
      "Runtime for denclue_clustering: 0.224038 seconds\n"
     ]
    },
    {
     "name": "stderr",
     "output_type": "stream",
     "text": [
      "Running DENCLUE: 100%|██████████| 3/3 [00:00<00:00,  6.01step/s]\n"
     ]
    },
    {
     "name": "stdout",
     "output_type": "stream",
     "text": [
      "Plot saved as: Images/denclue_observations_normal_bins\\denclue_2010-2013_eps30_maxiter300_bandwidth0.07.png\n",
      "\n",
      "DENCLUE result:\n"
     ]
    },
    {
     "name": "stderr",
     "output_type": "stream",
     "text": [
      "Running DENCLUE:  33%|███▎      | 1/3 [00:00<00:00,  3.35step/s]"
     ]
    },
    {
     "name": "stdout",
     "output_type": "stream",
     "text": [
      "Runtime for denclue_clustering: 0.298401 seconds\n"
     ]
    },
    {
     "name": "stderr",
     "output_type": "stream",
     "text": [
      "Running DENCLUE: 100%|██████████| 3/3 [00:00<00:00,  5.28step/s]\n"
     ]
    },
    {
     "name": "stdout",
     "output_type": "stream",
     "text": [
      "Plot saved as: Images/denclue_observations_normal_bins\\denclue_2010-2013_eps30_maxiter300_bandwidth0.01.png\n",
      "\n",
      "DENCLUE result:\n"
     ]
    },
    {
     "name": "stderr",
     "output_type": "stream",
     "text": [
      "Running DENCLUE:  67%|██████▋   | 2/3 [00:00<00:00,  5.97step/s]"
     ]
    },
    {
     "name": "stdout",
     "output_type": "stream",
     "text": [
      "Runtime for denclue_clustering: 0.335220 seconds\n"
     ]
    },
    {
     "name": "stderr",
     "output_type": "stream",
     "text": [
      "\n"
     ]
    },
    {
     "ename": "ValueError",
     "evalue": "Labels must be provided when cluster_centers is None or empty.",
     "output_type": "error",
     "traceback": [
      "\u001b[1;31m---------------------------------------------------------------------------\u001b[0m",
      "\u001b[1;31mValueError\u001b[0m                                Traceback (most recent call last)",
      "Cell \u001b[1;32mIn[1], line 48\u001b[0m\n\u001b[0;32m     46\u001b[0m \u001b[38;5;28;01mfor\u001b[39;00m max_iter \u001b[38;5;129;01min\u001b[39;00m max_iter_vals:\n\u001b[0;32m     47\u001b[0m     \u001b[38;5;28;01mfor\u001b[39;00m bandwidth \u001b[38;5;129;01min\u001b[39;00m bandwidth_vals:\n\u001b[1;32m---> 48\u001b[0m         result_denclue, time_denclue, n_clusters_denclue, points_per_cluster_denclue, metrics_denclue \u001b[38;5;241m=\u001b[39m run_clustering(\n\u001b[0;32m     49\u001b[0m             denclue_clustering, \u001b[38;5;124m\"\u001b[39m\u001b[38;5;124mDENCLUE\u001b[39m\u001b[38;5;124m\"\u001b[39m,\n\u001b[0;32m     50\u001b[0m             normalized_data, data_min, data_max, epsilon\u001b[38;5;241m=\u001b[39mepsilon, max_iter\u001b[38;5;241m=\u001b[39mmax_iter, bandwidth\u001b[38;5;241m=\u001b[39mbandwidth, plot\u001b[38;5;241m=\u001b[39m\u001b[38;5;28;01mFalse\u001b[39;00m\n\u001b[0;32m     51\u001b[0m         )\n\u001b[0;32m     52\u001b[0m         \u001b[38;5;28;01mif\u001b[39;00m \u001b[38;5;28mlen\u001b[39m(result_denclue\u001b[38;5;241m.\u001b[39mcluster_centers) \u001b[38;5;241m>\u001b[39m \u001b[38;5;241m0\u001b[39m:\n\u001b[0;32m     53\u001b[0m             unnormalized_data, cluster_centers \u001b[38;5;241m=\u001b[39m unnormalize(\n\u001b[0;32m     54\u001b[0m                 result_denclue\u001b[38;5;241m.\u001b[39mdata, result_denclue\u001b[38;5;241m.\u001b[39mcluster_centers, data_min, data_max\n\u001b[0;32m     55\u001b[0m             )\n",
      "File \u001b[1;32mc:\\Users\\fionu\\OneDrive\\Dokumente\\Daten Fiona\\AIUB\\Code\\AIUB-Backup\\clustering\\cluster_data.py:68\u001b[0m, in \u001b[0;36mrun_clustering\u001b[1;34m(algorithm, name, data, data_min, data_max, *args, **kwargs)\u001b[0m\n\u001b[0;32m     65\u001b[0m     metrics \u001b[38;5;241m=\u001b[39m [DB_sc, CH_sc, dunn_index_sc, sil_sc, cluster_std, square_density, hull_density]\n\u001b[0;32m     67\u001b[0m pbar\u001b[38;5;241m.\u001b[39mupdate(\u001b[38;5;241m1\u001b[39m)  \u001b[38;5;66;03m# Step 2: Metrics computed\u001b[39;00m\n\u001b[1;32m---> 68\u001b[0m unnormalized_data, cluster_centers \u001b[38;5;241m=\u001b[39m unnormalize(result\u001b[38;5;241m.\u001b[39mdata, result\u001b[38;5;241m.\u001b[39mcluster_centers, data_min, data_max)\n\u001b[0;32m     69\u001b[0m \u001b[38;5;28;01mif\u001b[39;00m plot: \n\u001b[0;32m     70\u001b[0m     plotter \u001b[38;5;241m=\u001b[39m ClusterPlotter(unnormalized_data, result\u001b[38;5;241m.\u001b[39mlabels, cluster_centers)\n",
      "File \u001b[1;32mc:\\Users\\fionu\\OneDrive\\Dokumente\\Daten Fiona\\AIUB\\Code\\AIUB-Backup\\clustering\\cluster_data.py:127\u001b[0m, in \u001b[0;36munnormalize\u001b[1;34m(normalized_data, cluster_centers, data_min, data_max, labels)\u001b[0m\n\u001b[0;32m    124\u001b[0m \u001b[38;5;28;01melif\u001b[39;00m cluster_centers \u001b[38;5;129;01mis\u001b[39;00m \u001b[38;5;28;01mNone\u001b[39;00m \u001b[38;5;129;01mor\u001b[39;00m \u001b[38;5;28mlen\u001b[39m(cluster_centers) \u001b[38;5;241m==\u001b[39m \u001b[38;5;241m0\u001b[39m: \n\u001b[0;32m    125\u001b[0m     \u001b[38;5;66;03m# If cluster_centers is None or an empty array, compute the centers as the mean of the data points for each cluster\u001b[39;00m\n\u001b[0;32m    126\u001b[0m     \u001b[38;5;28;01mif\u001b[39;00m labels \u001b[38;5;129;01mis\u001b[39;00m \u001b[38;5;28;01mNone\u001b[39;00m:\n\u001b[1;32m--> 127\u001b[0m         \u001b[38;5;28;01mraise\u001b[39;00m \u001b[38;5;167;01mValueError\u001b[39;00m(\u001b[38;5;124m\"\u001b[39m\u001b[38;5;124mLabels must be provided when cluster_centers is None or empty.\u001b[39m\u001b[38;5;124m\"\u001b[39m)\n\u001b[0;32m    129\u001b[0m     unique_labels \u001b[38;5;241m=\u001b[39m np\u001b[38;5;241m.\u001b[39munique(labels)\n\u001b[0;32m    130\u001b[0m     unnormalized_centers \u001b[38;5;241m=\u001b[39m []\n",
      "\u001b[1;31mValueError\u001b[0m: Labels must be provided when cluster_centers is None or empty."
     ]
    }
   ],
   "source": [
    "import cluster_data\n",
    "from cluster_data import run_clustering, normalize_data, unnormalize\n",
    "import numpy as np\n",
    "import pandas as pd\n",
    "import os\n",
    "import cluster_plotter\n",
    "from clustering_utils import ClusteringResult\n",
    "from scipy.spatial.distance import cdist\n",
    "from DENCLUE import denclue_clustering  # Import DENCLUE clustering function\n",
    "from cluster_plotter import ClusterPlotter\n",
    "\n",
    "uncorr_obs_files = {\n",
    "    year: f\"ogs{year}01_12_det.ele_ucorr\" if year != 2002 else f\"ogs{year}08_12_det.ele_ucorr\"\n",
    "    for year in range(2002, 2024) if year != 2018  # Exclude 2018 if missing\n",
    "}\n",
    "\n",
    "print(uncorr_obs_files)\n",
    "\n",
    "standard_year_ranges = {f\"{start}-{start + 3}\": np.arange(start, start + 4) for start in [2002, 2006, 2010, 2014]}\n",
    "standard_year_ranges[\"2019-2023\"] = np.arange(2019, 2024)\n",
    "\n",
    "running_ranges = cluster_data.generate_running_year_ranges(2002, 2023, 4)\n",
    "year_ranges = standard_year_ranges\n",
    "\n",
    "binned_data = cluster_data.bin_observed_data(uncorr_obs_files, year_ranges, print_res=False)\n",
    "\n",
    "results_per_year_range = {}\n",
    "\n",
    "plot_dir = \"Images/denclue_observations_normal_bins\"\n",
    "os.makedirs(plot_dir, exist_ok=True)\n",
    "cluster_plotter.clear_directory(plot_dir)\n",
    "\n",
    "for cluster_data, year_range in binned_data:  \n",
    "    print(f\"\\nRunning DENCLUE for Year Range: {year_range}\")\n",
    "\n",
    "    data_array = np.array([cluster_data.inc, cluster_data.raan]).T\n",
    "    normalized_data, data_min, data_max = normalize_data(data_array)\n",
    "\n",
    "    epsilon_vals = [30, 40, 50]\n",
    "    max_iter_vals = [100, 200, 300]\n",
    "    bandwidth_vals = [0.005, 0.07, 0.01]\n",
    "\n",
    "    results = []\n",
    "\n",
    "    for epsilon in epsilon_vals:\n",
    "        for max_iter in max_iter_vals:\n",
    "            for bandwidth in bandwidth_vals:\n",
    "                result_denclue, time_denclue, n_clusters_denclue, points_per_cluster_denclue, metrics_denclue = run_clustering(\n",
    "                    denclue_clustering, \"DENCLUE\",\n",
    "                    normalized_data, data_min, data_max, epsilon=epsilon, max_iter=max_iter, bandwidth=bandwidth, plot=False\n",
    "                )\n",
    "                if len(result_denclue.cluster_centers) > 0:\n",
    "                    unnormalized_data, cluster_centers = unnormalize(\n",
    "                        result_denclue.data, result_denclue.cluster_centers, data_min, data_max\n",
    "                    )\n",
    "                    plotter = ClusterPlotter(unnormalized_data, result_denclue.labels, None)\n",
    "                    plot_filename = os.path.join(plot_dir, f\"denclue_{year_range}_eps{epsilon}_maxiter{max_iter}_bandwidth{bandwidth}.png\")\n",
    "                    title = f\"DENCLUE: years = {year_range}, epsilon: {epsilon}, max_iter: {max_iter}, bandwidth: {bandwidth}\"\n",
    "                    plotter.clusters_2d_plot(title, plot_filename, show_centers=False)\n",
    "                    \n",
    "                    rounded_cluster_std = {key: tuple(round(val, 3) for val in value) for key, value in metrics_denclue[4].items()}\n",
    "                    rounded_square_density = {key: round(value, 3) for key, value in metrics_denclue[5].items()}\n",
    "                    rounded_hull_density = {key: round(value, 3) for key, value in metrics_denclue[6].items()}\n",
    "\n",
    "                    results.append({\n",
    "                        \"Year Range\": year_range,\n",
    "                        \"k\": n_clusters_denclue,\n",
    "                        \"Runtime (s)\": f\"{time_denclue:.3f}\",\n",
    "                        \"Clusters\": n_clusters_denclue,\n",
    "                        \"Points per Cluster\": points_per_cluster_denclue,\n",
    "                        \"Davies-Bouldin\": f\"{metrics_denclue[0]:.3f}\" if metrics_denclue and isinstance(metrics_denclue[0], (int, float)) else None,\n",
    "                        \"Calinski-Harabasz\": f\"{metrics_denclue[1]:.3f}\" if metrics_denclue and isinstance(metrics_denclue[1], (int, float)) else None,\n",
    "                        \"Dunn Index\": f\"{metrics_denclue[2]:.3f}\" if metrics_denclue and isinstance(metrics_denclue[2], (int, float)) else None,\n",
    "                        \"Silhouette Score\": f\"{metrics_denclue[3]:.3f}\" if metrics_denclue and isinstance(metrics_denclue[3], (int, float)) else None,\n",
    "                        \"Cluster Std.\": rounded_cluster_std if rounded_cluster_std else None,\n",
    "                        \"Square Density\": rounded_square_density if rounded_square_density else None,\n",
    "                        \"Hull Density\": rounded_hull_density if rounded_hull_density else None\n",
    "                    })\n",
    "                else:\n",
    "                    print(f\"No clusters formed for epsilon={epsilon}, max_iter={max_iter}, bandwidth={bandwidth}. Skipping plotting and results.\")\n",
    "                    continue\n",
    "\n",
    "\n",
    "    df = pd.DataFrame(results)\n",
    "    display(df)"
   ]
  }
 ],
 "metadata": {
  "kernelspec": {
   "display_name": "base",
   "language": "python",
   "name": "python3"
  },
  "language_info": {
   "codemirror_mode": {
    "name": "ipython",
    "version": 3
   },
   "file_extension": ".py",
   "mimetype": "text/x-python",
   "name": "python",
   "nbconvert_exporter": "python",
   "pygments_lexer": "ipython3",
   "version": "3.12.3"
  }
 },
 "nbformat": 4,
 "nbformat_minor": 2
}
