{
 "cells": [
  {
   "cell_type": "markdown",
   "metadata": {},
   "source": [
    "ESA had different settings in the *.cfg file, detailed description see latex document \"Old vs. new *.pop files\". \n",
    "We had the switch for RAAN and the argument of perigee to 0, while ESA had both to 2 (which means propagate). This code looks at test simulations performed with the ESA settings. "
   ]
  },
  {
   "cell_type": "code",
   "execution_count": 2,
   "metadata": {},
   "outputs": [
    {
     "name": "stdout",
     "output_type": "stream",
     "text": [
      "[2019 2020 2021 2022 2023]\n",
      "The ratio of detected objects vs. crossing objects: 0.158\n",
      "The ratio of detected objects vs. crossing objects: 0.158\n",
      "The corrected ratio of detected objects vs. crossing objects: 0.158\n",
      "(25, 5690)\n"
     ]
    },
    {
     "data": {
      "text/plain": [
       "<Figure size 640x480 with 0 Axes>"
      ]
     },
     "metadata": {},
     "output_type": "display_data"
    }
   ],
   "source": [
    "import numpy as np\n",
    "import matplotlib.pyplot as plt\n",
    "import os\n",
    "import getdata\n",
    "import sortdata\n",
    "import plotting \n",
    "import numpy as np\n",
    "from tabulate import tabulate\n",
    "import unique_objects\n",
    "from main_frag_and_rest import main_magnitude_cut\n",
    "from getdata import PopulationType, data_for_one_year_one_seed\n",
    "\n",
    "base_dir = os.path.join(\"output\", \"results_simulations_propagate\")\n",
    "os.makedirs(base_dir, exist_ok=True)\n",
    "getdata.clear_directory(base_dir)\n",
    "\n",
    "#year ranges, the data of one range ends up in one plot\n",
    "year_ranges = [np.arange(2019, 2024)]\n",
    "seeds = [1]\n",
    "\n",
    "# Variables to store the number of objects in each range for each orbit type\n",
    "num_0205_GEO, num_0205_GTO, num_0205_fol = 0, 0, 0\n",
    "num_0609_GEO, num_0609_GTO, num_0609_fol = 0, 0, 0\n",
    "num_1013_GEO, num_1013_GTO, num_1013_fol = 0, 0, 0\n",
    "num_1417_GEO, num_1417_GTO, num_1417_fol = 0, 0, 0\n",
    "num_1923_GEO, num_1923_GTO, num_1923_fol = 0, 0, 0\n",
    "\n",
    "for years in year_ranges: \n",
    "    crs_all_seeds = []\n",
    "    det_all_seeds = []\n",
    "    \n",
    "    # Process data for each year and seed\n",
    "    for seed in seeds: \n",
    "        crs_data_single_years = []\n",
    "        det_data_single_years = []\n",
    "\n",
    "        for year in years: \n",
    "            population_type = PopulationType.PROPAGATE\n",
    "            data_crs, data_det = getdata.data_for_one_year_one_seed(str(year), seed, population_type)\n",
    "            crs_data_single_years.append(data_crs)\n",
    "            det_data_single_years.append(data_det)\n",
    "\n",
    "        # Convert lists to arrays before hstack\n",
    "        crs_data_single_years = np.hstack(crs_data_single_years)\n",
    "        det_data_single_years = np.hstack(det_data_single_years)\n",
    "\n",
    "        # Append to lists for each seed\n",
    "        crs_all_seeds.append(crs_data_single_years)\n",
    "        det_all_seeds.append(det_data_single_years)\n",
    "\n",
    "    # Clear and create directory for each four-year range\n",
    "    four_years_dir = os.path.join(base_dir, f\"results_{years[0]}_{years[-1]}\")\n",
    "    os.makedirs(four_years_dir, exist_ok=True)\n",
    "    getdata.clear_directory(four_years_dir)\n",
    "    \n",
    "    # Call the function for four-year data\n",
    "    num_GEO, num_GTO, num_fol = getdata.data_four_years_one_seed(crs_all_seeds, det_all_seeds, years, four_years_dir, f\" threshold: 3.0\", seeds)\n",
    "\n",
    "    # Print the unique/total ratio for the four-year period\n",
    "    combined_data_det = np.hstack(det_all_seeds)\n",
    "    combined_data_det = np.array(combined_data_det)\n",
    "    TLE, frag, rest = sortdata.data_sorter(combined_data_det, 8, 10, 9, 20, 3)\n",
    "\n",
    "    if frag.size > 0 and rest.size > 0:\n",
    "        combined_data_det = np.vstack([frag, rest])\n",
    "    elif frag.size > 0:\n",
    "        combined_data_det = frag\n",
    "    elif rest.size > 0:\n",
    "        combined_data_det = rest\n",
    "    else:\n",
    "        print(\"Both arrays are empty. No data to combine.\")\n",
    "        combined_data_det = np.array([]) \n",
    "    print(combined_data_det.shape)\n",
    "\n",
    "    # Store the results in the corresponding variables based on the year range\n",
    "    if years[0] == 2002:\n",
    "        num_0205_GEO, num_0205_GTO, num_0205_fol = num_GEO, num_GTO, num_fol\n",
    "    elif years[0] == 2006:\n",
    "        num_0609_GEO, num_0609_GTO, num_0609_fol = num_GEO, num_GTO, num_fol\n",
    "    elif years[0] == 2010:\n",
    "        num_1013_GEO, num_1013_GTO, num_1013_fol = num_GEO, num_GTO, num_fol\n",
    "    elif years[0] == 2014:\n",
    "        num_1417_GEO, num_1417_GTO, num_1417_fol = num_GEO, num_GTO, num_fol\n",
    "    elif years[0] == 2019:\n",
    "        num_1923_GEO, num_1923_GTO, num_1923_fol = num_GEO, num_GTO, num_fol\n"
   ]
  }
 ],
 "metadata": {
  "kernelspec": {
   "display_name": "st2",
   "language": "python",
   "name": "python3"
  },
  "language_info": {
   "codemirror_mode": {
    "name": "ipython",
    "version": 3
   },
   "file_extension": ".py",
   "mimetype": "text/x-python",
   "name": "python",
   "nbconvert_exporter": "python",
   "pygments_lexer": "ipython3",
   "version": "3.12.7"
  }
 },
 "nbformat": 4,
 "nbformat_minor": 2
}
