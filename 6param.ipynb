{
 "cells": [
  {
   "cell_type": "code",
   "execution_count": 1,
   "metadata": {},
   "outputs": [],
   "source": [
    "import getdata\n",
    "import os\n",
    "import sortdata\n",
    "import plotting\n",
    "import numpy as np\n",
    "\n",
    "input_file = \"morbele_gto_20240212.txt\"\n",
    "input_file = os.path.join(\"input\", input_file)\n",
    "        \n",
    "output_dir = os.path.join(\"input\", \"sorted_files_6param\")\n",
    "intervals = [4,4,4,5,5]  # Custom intervals for splitting\n",
    "sortdata.separate_data_by_custom_intervals(input_file, output_dir, intervals) #call function to separate input file for years"
   ]
  },
  {
   "cell_type": "code",
   "execution_count": 2,
   "metadata": {},
   "outputs": [
    {
     "name": "stdout",
     "output_type": "stream",
     "text": [
      "['input\\\\sorted_files_6param\\\\6param_2002-2005.txt']\n",
      "['input\\\\sorted_files_6param\\\\6param_2006-2009.txt']\n",
      "['input\\\\sorted_files_6param\\\\6param_2010-2013.txt']\n",
      "['input\\\\sorted_files_6param\\\\6param_2014-2018.txt']\n",
      "['input\\\\sorted_files_6param\\\\6param_2019-2023.txt']\n"
     ]
    },
    {
     "data": {
      "text/plain": [
       "<Figure size 640x480 with 0 Axes>"
      ]
     },
     "metadata": {},
     "output_type": "display_data"
    }
   ],
   "source": [
    "dir6 = \"results_6param_orbits\"\n",
    "dir6 = os.path.join(\"output\", dir6)\n",
    "os.makedirs(dir6, exist_ok=True)\n",
    "getdata.clear_directory(dir6)\n",
    "\n",
    "#define new input files (separated obs files)\n",
    "year_list = [\n",
    "    (\"2002 - 2005\", [\"6param_2002-2005.txt\"],),\n",
    "    (\"2006 - 2009\", [\"6param_2006-2009.txt\"]),\n",
    "    (\"2010 - 2013\", [\"6param_2010-2013.txt\"]),\n",
    "    (\"2014 - 2017\", [\"6param_2014-2018.txt\"]),\n",
    "    (\"2019 - 2023\", [\"6param_2019-2023.txt\"]),\n",
    "]\n",
    "\n",
    "for years, obs_files in year_list:\n",
    "    number_years = []\n",
    "    \n",
    "    obs_files= [os.path.join(\"input\", \"sorted_files_6param\", obs_file) for obs_file in obs_files]\n",
    "    \n",
    "    for obs_file in obs_files:\n",
    "        year = obs_file[3:7]  # Extract the year from the filename\n",
    "        number_years.append(year)\n",
    "    \n",
    "    print(obs_files)\n",
    "    data = getdata.array_extender_6param(obs_files)\n",
    "    semi_major = data[5]\n",
    "    ecc = data[6]\n",
    "    inc = data[7]\n",
    "    mag_u = data[26]\n",
    "    raan = data[8]\n",
    "    orbit_type = data[30]\n",
    "    data = sortdata.sort_for_apogee(semi_major, ecc , inc, semi_major, raan, inc, mag_u, orbit_type, ecc)\n",
    "    inc = data[0]\n",
    "    semi_major = data[1]\n",
    "    raan = data[2]\n",
    "    inc = data[3]\n",
    "    mag_u = data[4]\n",
    "    orbit_type = data[5]\n",
    "    ecc = data[6]\n",
    "    data = sortdata.sort_for_inclination(inc, 22, semi_major, raan, inc, mag_u, orbit_type, ecc)\n",
    "    semi_major = data[0]\n",
    "    raan = data[1]\n",
    "    inc = data[2]\n",
    "    magnitudes = data[3]\n",
    "    orbit_type = data[4]\n",
    "    ecc = data[5]\n",
    "    plotting.i_omega_separate(raan, inc, years, f\"Six parameter orbits {years}\", years, \" \", dir6)\n",
    "    plotting.magnitude_plot(magnitudes, 1923, f\"Six parameter orbits {years} \", \" \", dir6)\n",
    "    plotting.i_omega_with_eccentricity(raan, inc, ecc, f\"Observed detections {years}\", years, dir6)\n",
    "    plotting.i_omega_with_sem_maj(raan, inc, semi_major, f\"Observed detections {years}\", years, dir6)\n",
    "    plotting.i_omega_with_magnitudes(raan, inc, magnitudes, f\"Observed detections {years}\", years, dir6)\n",
    "\n",
    "#from here on: code to make i omega plots using different colors for different orbit types\n",
    "    GEO_data = []\n",
    "    GTO_data = []\n",
    "    fol_data = []\n",
    "    \n",
    "    data = np.array(data)\n",
    "                \n",
    "    for i in range(0, len(data[0])):  # Iterate over each object\n",
    "        if \"fol\" in orbit_type[i]:\n",
    "            fol_data.append(data[:, i])\n",
    "        elif \"gto\" in orbit_type[i]:\n",
    "            GTO_data.append(data[:, i])\n",
    "        else:\n",
    "            GEO_data.append(data[:, i])\n",
    "    \n",
    "    GEO_data = np.array(GEO_data).T\n",
    "    GTO_data = np.array(GTO_data).T\n",
    "    fol_data = np.array(fol_data).T\n",
    "        \n",
    "    GEO_nod = np.array([float(x) for x in GEO_data[1]], dtype=float)\n",
    "    GTO_nod = np.array([float(x) for x in GTO_data[1]], dtype=float)\n",
    "    fol_nod = np.array([float(x) for x in fol_data[1]], dtype=float)\n",
    "\n",
    "    GEO_inc = np.array([float(x) for x in GEO_data[2]], dtype=float)\n",
    "    GTO_inc = np.array([float(x) for x in GTO_data[2]], dtype=float)\n",
    "    fol_inc = np.array([float(x) for x in fol_data[2]], dtype=float)\n",
    "    \n",
    "    max_inc = 22.0\n",
    "    GEO_nod = sortdata.sort_for_inclination(GEO_inc, max_inc, GEO_nod)\n",
    "    GTO_nod = sortdata.sort_for_inclination(GTO_inc, max_inc, GTO_nod)\n",
    "    fol_nod = sortdata.sort_for_inclination(fol_inc, max_inc, fol_nod)\n",
    "    \n",
    "    GEO_inc = [max(0, i) for i in GEO_inc if i < max_inc]\n",
    "    GTO_inc = [max(0, i) for i in GTO_inc if i < max_inc]\n",
    "    fol_inc = [max(0, i) for i in fol_inc if i < max_inc]\n",
    "\n",
    "    plotting.i_omega_all_orbits(np.array(GEO_nod), np.array(GTO_nod), np.array(fol_nod), np.array(GEO_inc), np.array(GTO_inc), np.array(fol_inc), f\"Six parameter orbits {years}\", years, dir6)"
   ]
  }
 ],
 "metadata": {
  "kernelspec": {
   "display_name": "Python 3",
   "language": "python",
   "name": "python3"
  },
  "language_info": {
   "codemirror_mode": {
    "name": "ipython",
    "version": 3
   },
   "file_extension": ".py",
   "mimetype": "text/x-python",
   "name": "python",
   "nbconvert_exporter": "python",
   "pygments_lexer": "ipython3",
   "version": "3.8.5"
  }
 },
 "nbformat": 4,
 "nbformat_minor": 2
}
