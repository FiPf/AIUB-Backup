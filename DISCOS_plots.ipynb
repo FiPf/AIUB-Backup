{
 "cells": [
  {
   "cell_type": "markdown",
   "metadata": {},
   "source": [
    "DISCOS (Database and Information System Characterising Objects in Space) serves as a single-source reference for launch information, object registration details, launch vehicle descriptions, as well as spacecraft information (e.g. size, mass, shape, mission objectives, owner) for all trackable, unclassified objects which sum up to more than 40000 objects. Today, DISCOS not only plays an essential role in the various daily activities at the ESA's Space Debris Office, and it is the basis for operational processes in collision avoidance, re-entry analyses, and for contingency support. DISCOS also provides input to numerous and very differently scoped engineering activities, within ESA and throughout academia and industry."
   ]
  },
  {
   "cell_type": "markdown",
   "metadata": {},
   "source": [
    "We read out the DISCOS file provided by Andre Horstmann and plot the simulated clusters/events.\n",
    "\n",
    "Für die 11/2016 Population hatten wir diese Liste, welche NICHT durch DISCOS gepflegt wurde. Für die 08/2024 Population benutzen wir die vollständige Liste (gefiltert nach SMA > 30000), wurde durch DISCOS gepflegt. "
   ]
  },
  {
   "cell_type": "code",
   "execution_count": 1,
   "metadata": {},
   "outputs": [],
   "source": [
    "import getdata\n",
    "import os\n",
    "import plotting \n",
    "\n",
    "folder = \"DISCOS\"\n",
    "files = [\"populations_08_2024.txt\", \"populations_11_2016.txt\"]\n",
    "titles = [\"Clusters 08/2024, care through DISCOS\", \"Clusters 11/2026, no DISCOS\"]\n",
    "out_dir = os.path.join(folder, \"DISCOS_plots\")\n",
    "getdata.clear_directory(out_dir)\n",
    "\n",
    "for file, title in zip(files, titles): \n",
    "    filename = os.path.join(folder, file)\n",
    "    data = getdata.read_DISCOS_file(filename)\n",
    "    raan = data[14]\n",
    "    inc = data[13]\n",
    "    ecc = data[12]\n",
    "    breakup_epoch = data[22]\n",
    "    plotting.plot_DISCOS_file(raan, inc, ecc, breakup_epoch, title, out_dir)\n"
   ]
  }
 ],
 "metadata": {
  "kernelspec": {
   "display_name": "st2",
   "language": "python",
   "name": "python3"
  },
  "language_info": {
   "codemirror_mode": {
    "name": "ipython",
    "version": 3
   },
   "file_extension": ".py",
   "mimetype": "text/x-python",
   "name": "python",
   "nbconvert_exporter": "python",
   "pygments_lexer": "ipython3",
   "version": "3.12.7"
  }
 },
 "nbformat": 4,
 "nbformat_minor": 2
}
