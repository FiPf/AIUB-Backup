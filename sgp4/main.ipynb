{
 "cells": [
  {
   "cell_type": "code",
   "execution_count": 1,
   "metadata": {},
   "outputs": [
    {
     "name": "stdout",
     "output_type": "stream",
     "text": [
      "Semi-Major Axis (km): 6797.584200\n",
      "Eccentricity: 0.001120\n",
      "Inclination (deg): 51.652296\n",
      "RAAN (deg): 210.338836\n",
      "Argument of Perigee (deg): 35.182158\n",
      "True Anomaly (deg): 292.276061\n",
      "Before propagation:  2019-12-09 16:38:29\n",
      "After propagation:  2019-12-09 20:42:00.000\n"
     ]
    }
   ],
   "source": [
    "from sgp4.api import Satrec\n",
    "import astro\n",
    "import numpy as np\n",
    "\n",
    "#example TLE of ISS, taken from https://pypi.org/project/sgp4/\n",
    "# Line number, satellite catalogue number, launch year, epoch, orbital decay rate (first time derivative of mean motion), second derivative of mean motion (=0), atmospheric drag, element check number\n",
    "s = '1 25544U 98067A   19343.69339541  .00001764  00000-0  38792-4 0  9991'\n",
    "# Line number, satellite catalogue number, inclination, raan, eccentricity, argument of perigee, mean anomaly, mean motion, revolution number at epoch\n",
    "t = '2 25544  51.6439 211.2001 0007417  17.6667  85.6398 15.50103472202482'\n",
    "satellite = Satrec.twoline2rv(s, t)\n",
    "\n",
    "# Julian date\n",
    "jd, fr = 2458826.5, 0.8625  #date to which we try to propagate\n",
    "e, r, v = satellite.sgp4(jd, fr)\n",
    "\n",
    "if e == 0: #e indicates whether there was an error. if e = 0, no error occured. \n",
    "    keplerian_elements = astro.cartesian_to_keplerian(r, v)\n",
    "    for key, value in keplerian_elements.items():\n",
    "        print(f\"{key}: {value:.6f}\")\n",
    "else:\n",
    "    print(\"SGP4 Propagation Error:\", e)\n",
    "\n",
    "date_before_prop = astro.convert_TCA_to_mjd(np.array([19343.69339541]))\n",
    "date_before_prop = astro.mjd_to_date(float(date_before_prop[0]))\n",
    "\n",
    "date_after_prop = astro.jd_to_gregorian(2458826.5, 0.8625)\n",
    "\n",
    "print(\"Before propagation: \", date_before_prop)\n",
    "print(\"After propagation: \", date_after_prop)"
   ]
  },
  {
   "cell_type": "markdown",
   "metadata": {},
   "source": [
    "# TLE Data Format:\n",
    "Line 1:\n",
    "- Column 1-1  : Line number (always 1)\n",
    "- Column 3-7  : Satellite catalog number (e.g., 25544 for ISS)\n",
    "- Column 9-16 : International designator (launch year & piece)\n",
    "- Column 19-32: Epoch time (YYDDD.DDDDDDDD format, year and day of year)\n",
    "- Column 34-43: First time derivative of mean motion (orbital decay)\n",
    "- Column 45-52: Second time derivative (ignored for SGP4)\n",
    "- Column 54-61: BSTAR drag term (unitless, related to atmospheric drag)\n",
    "- Column 63-63: Ephemeris type (usually 0)\n",
    "- Column 65-68: Element set number\n",
    "- Column 69-69: Checksum (modulo 10)\n",
    "\n",
    "Line 2:\n",
    "- Column 1-1  : Line number (always 2)\n",
    "- Column 3-7  : Satellite catalog number (must match line 1)\n",
    "- Column 9-16 : Inclination (degrees)\n",
    "- Column 18-25: Right Ascension of Ascending Node (degrees)\n",
    "- Column 27-33: Eccentricity (decimal point assumed)\n",
    "- Column 35-42: Argument of Perigee (degrees)\n",
    "- Column 44-51: Mean Anomaly (degrees)\n",
    "- Column 53-63: Mean Motion (revolutions per day)\n",
    "- Column 64-68: Revolution number at epoch\n",
    "- Column 69-69: Checksum (modulo 10)"
   ]
  },
  {
   "cell_type": "code",
   "execution_count": null,
   "metadata": {},
   "outputs": [
    {
     "name": "stdout",
     "output_type": "stream",
     "text": [
      "05 geo\n",
      "Warning: Large size mismatch! background_mask=4109, failed_mask=3448\n",
      "Mismatch percentage: 0.16\n"
     ]
    },
    {
     "name": "stderr",
     "output_type": "stream",
     "text": [
      "Generating TLEs:   8%|▊         | 403/5248 [08:23<2:44:55,  2.04s/TLE]"
     ]
    }
   ],
   "source": [
    "import fake_tle\n",
    "import propagate\n",
    "\n",
    "fake_tle.prepare_input_tle(\"2005\", \"geo\", 1)\n",
    "propagate.propagate_tles('tle_output.txt', 'propagated_tles.txt')"
   ]
  }
 ],
 "metadata": {
  "kernelspec": {
   "display_name": "base",
   "language": "python",
   "name": "python3"
  },
  "language_info": {
   "codemirror_mode": {
    "name": "ipython",
    "version": 3
   },
   "file_extension": ".py",
   "mimetype": "text/x-python",
   "name": "python",
   "nbconvert_exporter": "python",
   "pygments_lexer": "ipython3",
   "version": "3.12.3"
  }
 },
 "nbformat": 4,
 "nbformat_minor": 2
}
