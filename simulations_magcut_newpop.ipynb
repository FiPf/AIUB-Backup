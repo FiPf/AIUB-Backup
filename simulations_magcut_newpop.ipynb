{
 "cells": [
  {
   "cell_type": "markdown",
   "metadata": {},
   "source": [
    "## New *.pop files, threshold factor = 2.1"
   ]
  },
  {
   "cell_type": "code",
   "execution_count": 3,
   "metadata": {},
   "outputs": [
    {
     "name": "stdout",
     "output_type": "stream",
     "text": [
      "[2019 2020 2021 2022 2023]\n",
      "The ratio of detected objects vs. crossing objects: 0.227\n",
      "The ratio of detected objects vs. crossing objects: 0.227\n",
      "The corrected ratio of detected objects vs. crossing objects: 0.227\n",
      "The ratio of detected objects vs. crossing objects: 0.228\n",
      "The ratio of detected objects vs. crossing objects: 0.228\n",
      "The corrected ratio of detected objects vs. crossing objects: 0.228\n",
      "The ratio of detected objects vs. crossing objects: 0.229\n",
      "The ratio of detected objects vs. crossing objects: 0.229\n",
      "The corrected ratio of detected objects vs. crossing objects: 0.229\n",
      "The ratio of detected objects vs. crossing objects: 0.230\n",
      "The ratio of detected objects vs. crossing objects: 0.230\n",
      "The corrected ratio of detected objects vs. crossing objects: 0.230\n"
     ]
    },
    {
     "data": {
      "text/plain": [
       "<Figure size 640x480 with 0 Axes>"
      ]
     },
     "metadata": {},
     "output_type": "display_data"
    }
   ],
   "source": [
    "import numpy as np\n",
    "import matplotlib.pyplot as plt\n",
    "import os\n",
    "import getdata\n",
    "import sortdata\n",
    "import plotting \n",
    "import numpy as np\n",
    "from tabulate import tabulate\n",
    "import unique_objects\n",
    "from main_frag_and_rest import main_magnitude_cut\n",
    "\n",
    "# Define directories\n",
    "base_dir = os.path.join(\"output\", \"results_simulations_magnitude_cut_newpop\")\n",
    "os.makedirs(base_dir, exist_ok=True)\n",
    "getdata.clear_directory(base_dir)\n",
    "\n",
    "#year ranges, the data of one range ends up in one plot\n",
    "year_ranges = [np.arange(2019, 2024)] #[np.arange(2014, 2018), np.arange(2019, 2024)] #because there are no observations in 2018, we do not plot the simulations for 2018 to make things comparable\n",
    "seeds = [1, 2, 3, 4]\n",
    "\n",
    "# Variables to store the number of objects in each range for each orbit type\n",
    "#num_1418_GEO, num_1418_GTO, num_1418_fol = 0, 0, 0\n",
    "#num_1923_GEO, num_1923_GTO, num_1923_fol = 0, 0, 0\n",
    "\n",
    "#tolerances = [0, 0.1, np.Inf, 0, np.Inf, np.Inf, np.Inf, np.Inf, 0.001, 0.1, 0.001, 0.1, 0.1, 1, 1, 1, np.Inf, 0.1, np.Inf, np.Inf, 1, 1, np.Inf, np.Inf, np.Inf]\n",
    "\n",
    "for years in year_ranges: \n",
    "    crs_all_seeds = []\n",
    "    det_all_seeds = []\n",
    "    \n",
    "    # Process data for each year and seed\n",
    "    for seed in seeds: \n",
    "        crs_data_single_years = []\n",
    "        det_data_single_years = []\n",
    "\n",
    "        for year in years: \n",
    "            data_crs, data_det = getdata.data_for_one_year_one_seed_newpop(str(year), seed)\n",
    "            crs_data_single_years.append(data_crs)\n",
    "            det_data_single_years.append(data_det)\n",
    "\n",
    "        # Convert lists to arrays before hstack\n",
    "        crs_data_single_years = np.hstack(crs_data_single_years)\n",
    "        det_data_single_years = np.hstack(det_data_single_years)\n",
    "\n",
    "        # Append to lists for each seed\n",
    "        crs_all_seeds.append(crs_data_single_years)\n",
    "        det_all_seeds.append(det_data_single_years)\n",
    "\n",
    "    # Clear and create directory for each four-year range\n",
    "    four_years_dir = os.path.join(base_dir, f\"results_{years[0]}_{years[-1]}\")\n",
    "    os.makedirs(four_years_dir, exist_ok=True)\n",
    "    getdata.clear_directory(four_years_dir)\n",
    "    \n",
    "    # Call the function for four-year data\n",
    "    num_GEO, num_GTO, num_fol = getdata.data_four_years_one_seed(crs_all_seeds, det_all_seeds, years, four_years_dir, f\" threshold: 2.1\",  seeds)\n",
    "\n"
   ]
  },
  {
   "cell_type": "markdown",
   "metadata": {},
   "source": [
    "## New *.pop files, threshold factor = 3.0"
   ]
  },
  {
   "cell_type": "code",
   "execution_count": 1,
   "metadata": {},
   "outputs": [
    {
     "name": "stdout",
     "output_type": "stream",
     "text": [
      "[2019 2020 2021 2022 2023]\n",
      "The ratio of detected objects vs. crossing objects: 0.157\n",
      "The ratio of detected objects vs. crossing objects: 0.157\n",
      "The corrected ratio of detected objects vs. crossing objects: 0.157\n",
      "The ratio of detected objects vs. crossing objects: 0.159\n",
      "The ratio of detected objects vs. crossing objects: 0.159\n",
      "The corrected ratio of detected objects vs. crossing objects: 0.159\n",
      "The ratio of detected objects vs. crossing objects: 0.160\n",
      "The ratio of detected objects vs. crossing objects: 0.160\n",
      "The corrected ratio of detected objects vs. crossing objects: 0.160\n",
      "The ratio of detected objects vs. crossing objects: 0.161\n",
      "The ratio of detected objects vs. crossing objects: 0.161\n",
      "The corrected ratio of detected objects vs. crossing objects: 0.161\n"
     ]
    },
    {
     "data": {
      "text/plain": [
       "<Figure size 640x480 with 0 Axes>"
      ]
     },
     "metadata": {},
     "output_type": "display_data"
    }
   ],
   "source": [
    "import numpy as np\n",
    "import matplotlib.pyplot as plt\n",
    "import os\n",
    "import getdata\n",
    "import sortdata\n",
    "import plotting \n",
    "import numpy as np\n",
    "from tabulate import tabulate\n",
    "import unique_objects\n",
    "from main_frag_and_rest import main_magnitude_cut\n",
    "\n",
    "# Define directories\n",
    "base_dir = os.path.join(\"output\", \"results_simulations_magnitude_cut_newpop_th3\")\n",
    "os.makedirs(base_dir, exist_ok=True)\n",
    "getdata.clear_directory(base_dir)\n",
    "\n",
    "#year ranges, the data of one range ends up in one plot\n",
    "year_ranges = [np.arange(2019, 2024)] #[np.arange(2014, 2018), np.arange(2019, 2024)] #because there are no observations in 2018, we do not plot the simulations for 2018 to make things comparable\n",
    "seeds = [1, 2, 3, 4]\n",
    "\n",
    "# Variables to store the number of objects in each range for each orbit type\n",
    "#num_1418_GEO, num_1418_GTO, num_1418_fol = 0, 0, 0\n",
    "#num_1923_GEO, num_1923_GTO, num_1923_fol = 0, 0, 0\n",
    "\n",
    "#tolerances = [0, 0.1, np.Inf, 0, np.Inf, np.Inf, np.Inf, np.Inf, 0.001, 0.1, 0.001, 0.1, 0.1, 1, 1, 1, np.Inf, 0.1, np.Inf, np.Inf, 1, 1, np.Inf, np.Inf, np.Inf]\n",
    "\n",
    "for years in year_ranges: \n",
    "    crs_all_seeds = []\n",
    "    det_all_seeds = []\n",
    "    \n",
    "    # Process data for each year and seed\n",
    "    for seed in seeds: \n",
    "        crs_data_single_years = []\n",
    "        det_data_single_years = []\n",
    "\n",
    "        for year in years: \n",
    "            data_crs, data_det = getdata.data_for_one_year_one_seed_newpop_th3(str(year), seed)\n",
    "            crs_data_single_years.append(data_crs)\n",
    "            det_data_single_years.append(data_det)\n",
    "\n",
    "        # Convert lists to arrays before hstack\n",
    "        crs_data_single_years = np.hstack(crs_data_single_years)\n",
    "        det_data_single_years = np.hstack(det_data_single_years)\n",
    "\n",
    "        # Append to lists for each seed\n",
    "        crs_all_seeds.append(crs_data_single_years)\n",
    "        det_all_seeds.append(det_data_single_years)\n",
    "\n",
    "    # Clear and create directory for each four-year range\n",
    "    four_years_dir = os.path.join(base_dir, f\"results_{years[0]}_{years[-1]}\")\n",
    "    os.makedirs(four_years_dir, exist_ok=True)\n",
    "    getdata.clear_directory(four_years_dir)\n",
    "    \n",
    "    # Call the function for four-year data\n",
    "    num_GEO, num_GTO, num_fol = getdata.data_four_years_one_seed(crs_all_seeds, det_all_seeds, years, four_years_dir, f\" threshold: 3.0\",  seeds)\n"
   ]
  }
 ],
 "metadata": {
  "kernelspec": {
   "display_name": "st2",
   "language": "python",
   "name": "python3"
  },
  "language_info": {
   "codemirror_mode": {
    "name": "ipython",
    "version": 3
   },
   "file_extension": ".py",
   "mimetype": "text/x-python",
   "name": "python",
   "nbconvert_exporter": "python",
   "pygments_lexer": "ipython3",
   "version": "3.12.7"
  }
 },
 "nbformat": 4,
 "nbformat_minor": 2
}
